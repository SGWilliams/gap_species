{
 "cells": [
  {
   "cell_type": "code",
   "execution_count": 26,
   "metadata": {
    "collapsed": false
   },
   "outputs": [],
   "source": [
    "import requests\n",
    "from IPython.display import display\n",
    "from datetime import datetime\n",
    "from bis2 import mlab\n",
    "from bis import itis\n",
    "from bson.objectid import ObjectId"
   ]
  },
  {
   "cell_type": "code",
   "execution_count": 27,
   "metadata": {
    "collapsed": true
   },
   "outputs": [],
   "source": [
    "bisDB = mlab.getDB(\"bis\")\n",
    "gapspecies = bisDB[\"gapspecies\"]\n",
    "itiscache = bisDB[\"itiscache\"]"
   ]
  },
  {
   "cell_type": "code",
   "execution_count": 28,
   "metadata": {
    "collapsed": false
   },
   "outputs": [
    {
     "data": {
      "text/plain": [
       "{'itisSearchURL': 'http://services.itis.gov/?wt=json&rows=10&q=tsn:180278',\n",
       " 'originCollection': 'gapspecies',\n",
       " 'originDate': '2017-09-16T13:09:08.749597',\n",
       " 'originID': ObjectId('59b841760601bad0b9df0b99')}"
      ]
     },
     "metadata": {},
     "output_type": "display_data"
    },
    {
     "data": {
      "text/plain": [
       "{'itisSearchURL': 'http://services.itis.gov/?wt=json&rows=10&q=tsn:179932',\n",
       " 'originCollection': 'gapspecies',\n",
       " 'originDate': '2017-09-16T13:09:08.944052',\n",
       " 'originID': ObjectId('59b841760601bad0b9df0b9a')}"
      ]
     },
     "metadata": {},
     "output_type": "display_data"
    },
    {
     "data": {
      "text/plain": [
       "{'itisSearchURL': 'http://services.itis.gov/?wt=json&rows=10&q=tsn:683028',\n",
       " 'originCollection': 'gapspecies',\n",
       " 'originDate': '2017-09-16T13:09:09.124919',\n",
       " 'originID': ObjectId('59b841760601bad0b9df0b9b')}"
      ]
     },
     "metadata": {},
     "output_type": "display_data"
    },
    {
     "data": {
      "text/plain": [
       "{'itisSearchURL': 'http://services.itis.gov/?wt=json&rows=10&q=tsn:174144',\n",
       " 'originCollection': 'gapspecies',\n",
       " 'originDate': '2017-09-16T13:09:09.318038',\n",
       " 'originID': ObjectId('59b841760601bad0b9df0b9c')}"
      ]
     },
     "metadata": {},
     "output_type": "display_data"
    },
    {
     "data": {
      "text/plain": [
       "{'itisSearchURL': 'http://services.itis.gov/?wt=json&rows=10&q=tsn:179921',\n",
       " 'originCollection': 'gapspecies',\n",
       " 'originDate': '2017-09-16T13:09:09.517566',\n",
       " 'originID': ObjectId('59b841760601bad0b9df0b9d')}"
      ]
     },
     "metadata": {},
     "output_type": "display_data"
    },
    {
     "data": {
      "text/plain": [
       "{'itisSearchURL': 'http://services.itis.gov/?wt=json&rows=10&q=tsn:180543',\n",
       " 'originCollection': 'gapspecies',\n",
       " 'originDate': '2017-09-16T13:09:09.700458',\n",
       " 'originID': ObjectId('59b841760601bad0b9df0b9e')}"
      ]
     },
     "metadata": {},
     "output_type": "display_data"
    },
    {
     "data": {
      "text/plain": [
       "{'itisSearchURL': 'http://services.itis.gov/?wt=json&rows=10&q=tsn:173910',\n",
       " 'originCollection': 'gapspecies',\n",
       " 'originDate': '2017-09-16T13:09:09.883255',\n",
       " 'originID': ObjectId('59b841770601bad0b9df0b9f')}"
      ]
     },
     "metadata": {},
     "output_type": "display_data"
    },
    {
     "data": {
      "text/plain": [
       "{'itisSearchURL': 'http://services.itis.gov/?wt=json&rows=10&q=tsn:209400',\n",
       " 'originCollection': 'gapspecies',\n",
       " 'originDate': '2017-09-16T13:09:10.062136',\n",
       " 'originID': ObjectId('59b841770601bad0b9df0ba0')}"
      ]
     },
     "metadata": {},
     "output_type": "display_data"
    },
    {
     "data": {
      "text/plain": [
       "{'itisSearchURL': 'http://services.itis.gov/?wt=json&rows=10&q=tsn:173786',\n",
       " 'originCollection': 'gapspecies',\n",
       " 'originDate': '2017-09-16T13:09:10.250809',\n",
       " 'originID': ObjectId('59b841770601bad0b9df0ba1')}"
      ]
     },
     "metadata": {},
     "output_type": "display_data"
    },
    {
     "data": {
      "text/plain": [
       "{'itisSearchURL': 'http://services.itis.gov/?wt=json&rows=10&q=tsn:209320',\n",
       " 'originCollection': 'gapspecies',\n",
       " 'originDate': '2017-09-16T13:09:10.464056',\n",
       " 'originID': ObjectId('59b841770601bad0b9df0ba2')}"
      ]
     },
     "metadata": {},
     "output_type": "display_data"
    },
    {
     "data": {
      "text/plain": [
       "{'itisSearchURL': 'http://services.itis.gov/?wt=json&rows=10&q=tsn:173936',\n",
       " 'originCollection': 'gapspecies',\n",
       " 'originDate': '2017-09-16T13:09:10.653236',\n",
       " 'originID': ObjectId('59b841770601bad0b9df0ba3')}"
      ]
     },
     "metadata": {},
     "output_type": "display_data"
    },
    {
     "data": {
      "text/plain": [
       "{'itisSearchURL': 'http://services.itis.gov/?wt=json&rows=10&q=tsn:174258',\n",
       " 'originCollection': 'gapspecies',\n",
       " 'originDate': '2017-09-16T13:09:10.836182',\n",
       " 'originID': ObjectId('59b841770601bad0b9df0ba4')}"
      ]
     },
     "metadata": {},
     "output_type": "display_data"
    },
    {
     "data": {
      "text/plain": [
       "{'itisSearchURL': 'http://services.itis.gov/?wt=json&rows=10&q=tsn:173800',\n",
       " 'originCollection': 'gapspecies',\n",
       " 'originDate': '2017-09-16T13:09:11.017557',\n",
       " 'originID': ObjectId('59b841770601bad0b9df0ba5')}"
      ]
     },
     "metadata": {},
     "output_type": "display_data"
    },
    {
     "data": {
      "text/plain": [
       "{'itisSearchURL': 'http://services.itis.gov/?wt=json&rows=10&q=tsn:668672',\n",
       " 'originCollection': 'gapspecies',\n",
       " 'originDate': '2017-09-16T13:09:11.199585',\n",
       " 'originID': ObjectId('59b841780601bad0b9df0ba6')}"
      ]
     },
     "metadata": {},
     "output_type": "display_data"
    },
    {
     "data": {
      "text/plain": [
       "{'itisSearchURL': 'http://services.itis.gov/?wt=json&rows=10&q=tsn:173874',\n",
       " 'originCollection': 'gapspecies',\n",
       " 'originDate': '2017-09-16T13:09:11.385619',\n",
       " 'originID': ObjectId('59b841780601bad0b9df0ba7')}"
      ]
     },
     "metadata": {},
     "output_type": "display_data"
    },
    {
     "data": {
      "text/plain": [
       "{'itisSearchURL': 'http://services.itis.gov/?wt=json&rows=10&q=tsn:180123',\n",
       " 'originCollection': 'gapspecies',\n",
       " 'originDate': '2017-09-16T13:09:11.591028',\n",
       " 'originID': ObjectId('59b841780601bad0b9df0ba8')}"
      ]
     },
     "metadata": {},
     "output_type": "display_data"
    },
    {
     "data": {
      "text/plain": [
       "{'itisSearchURL': 'http://services.itis.gov/?wt=json&rows=10&q=tsn:550546',\n",
       " 'originCollection': 'gapspecies',\n",
       " 'originDate': '2017-09-16T13:09:11.776874',\n",
       " 'originID': ObjectId('59b841780601bad0b9df0ba9')}"
      ]
     },
     "metadata": {},
     "output_type": "display_data"
    },
    {
     "data": {
      "text/plain": [
       "{'itisSearchURL': 'http://services.itis.gov/?wt=json&rows=10&q=tsn:180240',\n",
       " 'originCollection': 'gapspecies',\n",
       " 'originDate': '2017-09-16T13:09:11.959514',\n",
       " 'originID': ObjectId('59b841780601bad0b9df0baa')}"
      ]
     },
     "metadata": {},
     "output_type": "display_data"
    },
    {
     "data": {
      "text/plain": [
       "{'itisSearchURL': 'http://services.itis.gov/?wt=json&rows=10&q=tsn:180179',\n",
       " 'originCollection': 'gapspecies',\n",
       " 'originDate': '2017-09-16T13:09:12.141333',\n",
       " 'originID': ObjectId('59b841780601bad0b9df0bab')}"
      ]
     },
     "metadata": {},
     "output_type": "display_data"
    },
    {
     "data": {
      "text/plain": [
       "{'itisSearchURL': 'http://services.itis.gov/?wt=json&rows=10&q=tsn:202307',\n",
       " 'originCollection': 'gapspecies',\n",
       " 'originDate': '2017-09-16T13:09:12.325271',\n",
       " 'originID': ObjectId('59b841790601bad0b9df0bac')}"
      ]
     },
     "metadata": {},
     "output_type": "display_data"
    },
    {
     "data": {
      "text/plain": [
       "{'itisSearchURL': 'http://services.itis.gov/?wt=json&rows=10&q=tsn:180284',\n",
       " 'originCollection': 'gapspecies',\n",
       " 'originDate': '2017-09-16T13:09:12.508034',\n",
       " 'originID': ObjectId('59b841790601bad0b9df0bad')}"
      ]
     },
     "metadata": {},
     "output_type": "display_data"
    },
    {
     "data": {
      "text/plain": [
       "{'itisSearchURL': 'http://services.itis.gov/?wt=json&rows=10&q=tsn:173653',\n",
       " 'originCollection': 'gapspecies',\n",
       " 'originDate': '2017-09-16T13:09:12.692640',\n",
       " 'originID': ObjectId('59b841790601bad0b9df0bae')}"
      ]
     },
     "metadata": {},
     "output_type": "display_data"
    },
    {
     "data": {
      "text/plain": [
       "{'itisSearchURL': 'http://services.itis.gov/?wt=json&rows=10&q=tsn:208285',\n",
       " 'originCollection': 'gapspecies',\n",
       " 'originDate': '2017-09-16T13:09:12.874874',\n",
       " 'originID': ObjectId('59b841790601bad0b9df0baf')}"
      ]
     },
     "metadata": {},
     "output_type": "display_data"
    },
    {
     "data": {
      "text/plain": [
       "{'itisSearchURL': 'http://services.itis.gov/?wt=json&rows=10&q=tsn:180230',\n",
       " 'originCollection': 'gapspecies',\n",
       " 'originDate': '2017-09-16T13:09:13.063176',\n",
       " 'originID': ObjectId('59b841790601bad0b9df0bb0')}"
      ]
     },
     "metadata": {},
     "output_type": "display_data"
    },
    {
     "data": {
      "text/plain": [
       "{'itisSearchURL': 'http://services.itis.gov/?wt=json&rows=10&q=tsn:180191',\n",
       " 'originCollection': 'gapspecies',\n",
       " 'originDate': '2017-09-16T13:09:13.540762',\n",
       " 'originID': ObjectId('59b8417a0601bad0b9df0bb1')}"
      ]
     },
     "metadata": {},
     "output_type": "display_data"
    },
    {
     "data": {
      "text/plain": [
       "{'itisSearchURL': 'http://services.itis.gov/?wt=json&rows=10&q=tsn:180699',\n",
       " 'originCollection': 'gapspecies',\n",
       " 'originDate': '2017-09-16T13:09:14.371584',\n",
       " 'originID': ObjectId('59b8417a0601bad0b9df0bb2')}"
      ]
     },
     "metadata": {},
     "output_type": "display_data"
    },
    {
     "data": {
      "text/plain": [
       "{'itisSearchURL': 'http://services.itis.gov/?wt=json&rows=10&q=tsn:180205',\n",
       " 'originCollection': 'gapspecies',\n",
       " 'originDate': '2017-09-16T13:09:15.006122',\n",
       " 'originID': ObjectId('59b8417a0601bad0b9df0bb3')}"
      ]
     },
     "metadata": {},
     "output_type": "display_data"
    },
    {
     "data": {
      "text/plain": [
       "{'itisSearchURL': 'http://services.itis.gov/?wt=json&rows=10&q=tsn:174715',\n",
       " 'originCollection': 'gapspecies',\n",
       " 'originDate': '2017-09-16T13:09:15.514231',\n",
       " 'originID': ObjectId('59b8417a0601bad0b9df0bb4')}"
      ]
     },
     "metadata": {},
     "output_type": "display_data"
    },
    {
     "data": {
      "text/plain": [
       "{'itisSearchURL': 'http://services.itis.gov/?wt=json&rows=10&q=tsn:173605',\n",
       " 'originCollection': 'gapspecies',\n",
       " 'originDate': '2017-09-16T13:09:16.150797',\n",
       " 'originID': ObjectId('59b8417b0601bad0b9df0bb5')}"
      ]
     },
     "metadata": {},
     "output_type": "display_data"
    },
    {
     "data": {
      "text/plain": [
       "{'itisSearchURL': 'http://services.itis.gov/?wt=json&rows=10&q=tsn:686658',\n",
       " 'originCollection': 'gapspecies',\n",
       " 'originDate': '2017-09-16T13:09:16.625098',\n",
       " 'originID': ObjectId('59b8417b0601bad0b9df0bb6')}"
      ]
     },
     "metadata": {},
     "output_type": "display_data"
    },
    {
     "data": {
      "text/plain": [
       "{'itisSearchURL': 'http://services.itis.gov/?wt=json&rows=10&q=tsn:178869',\n",
       " 'originCollection': 'gapspecies',\n",
       " 'originDate': '2017-09-16T13:09:16.921155',\n",
       " 'originID': ObjectId('59b8417b0601bad0b9df0bb7')}"
      ]
     },
     "metadata": {},
     "output_type": "display_data"
    },
    {
     "data": {
      "text/plain": [
       "{'itisSearchURL': 'http://services.itis.gov/?wt=json&rows=10&q=tsn:176221',\n",
       " 'originCollection': 'gapspecies',\n",
       " 'originDate': '2017-09-16T13:09:17.102987',\n",
       " 'originID': ObjectId('59b8417b0601bad0b9df0bb8')}"
      ]
     },
     "metadata": {},
     "output_type": "display_data"
    },
    {
     "data": {
      "text/plain": [
       "{'itisSearchURL': 'http://services.itis.gov/?wt=json&rows=10&q=tsn:180150',\n",
       " 'originCollection': 'gapspecies',\n",
       " 'originDate': '2017-09-16T13:09:17.284552',\n",
       " 'originID': ObjectId('59b8417c0601bad0b9df0bb9')}"
      ]
     },
     "metadata": {},
     "output_type": "display_data"
    },
    {
     "data": {
      "text/plain": [
       "{'itisSearchURL': 'http://services.itis.gov/?wt=json&rows=10&q=tsn:176922',\n",
       " 'originCollection': 'gapspecies',\n",
       " 'originDate': '2017-09-16T13:09:17.462632',\n",
       " 'originID': ObjectId('59b8417c0601bad0b9df0bba')}"
      ]
     },
     "metadata": {},
     "output_type": "display_data"
    },
    {
     "data": {
      "text/plain": [
       "{'itisSearchURL': 'http://services.itis.gov/?wt=json&rows=10&q=tsn:180363',\n",
       " 'originCollection': 'gapspecies',\n",
       " 'originDate': '2017-09-16T13:09:17.684437',\n",
       " 'originID': ObjectId('59b8417d0601bad0b9df0bbb')}"
      ]
     },
     "metadata": {},
     "output_type": "display_data"
    },
    {
     "data": {
      "text/plain": [
       "{'itisSearchURL': 'http://services.itis.gov/?wt=json&rows=10&q=tsn:726907',\n",
       " 'originCollection': 'gapspecies',\n",
       " 'originDate': '2017-09-16T13:09:17.871073',\n",
       " 'originID': ObjectId('59b8417d0601bad0b9df0bbc')}"
      ]
     },
     "metadata": {},
     "output_type": "display_data"
    },
    {
     "data": {
      "text/plain": [
       "{'itisSearchURL': 'http://services.itis.gov/?wt=json&rows=10&q=tsn:180563',\n",
       " 'originCollection': 'gapspecies',\n",
       " 'originDate': '2017-09-16T13:09:18.050619',\n",
       " 'originID': ObjectId('59b8417d0601bad0b9df0bbd')}"
      ]
     },
     "metadata": {},
     "output_type": "display_data"
    },
    {
     "data": {
      "text/plain": [
       "{'itisSearchURL': 'http://services.itis.gov/?wt=json&rows=10&q=tsn:552483',\n",
       " 'originCollection': 'gapspecies',\n",
       " 'originDate': '2017-09-16T13:09:18.264136',\n",
       " 'originID': ObjectId('59b8417e0601bad0b9df0bbe')}"
      ]
     },
     "metadata": {},
     "output_type": "display_data"
    },
    {
     "data": {
      "text/plain": [
       "{'itisSearchURL': 'http://services.itis.gov/?wt=json&rows=10&q=tsn:179016',\n",
       " 'originCollection': 'gapspecies',\n",
       " 'originDate': '2017-09-16T13:09:18.448177',\n",
       " 'originID': ObjectId('59b8417e0601bad0b9df0bbf')}"
      ]
     },
     "metadata": {},
     "output_type": "display_data"
    },
    {
     "data": {
      "text/plain": [
       "{'itisSearchURL': 'http://services.itis.gov/?wt=json&rows=10&q=tsn:180139',\n",
       " 'originCollection': 'gapspecies',\n",
       " 'originDate': '2017-09-16T13:09:18.639829',\n",
       " 'originID': ObjectId('59b8417e0601bad0b9df0bc0')}"
      ]
     },
     "metadata": {},
     "output_type": "display_data"
    },
    {
     "data": {
      "text/plain": [
       "{'itisSearchURL': 'http://services.itis.gov/?wt=json&rows=10&q=tsn:726908',\n",
       " 'originCollection': 'gapspecies',\n",
       " 'originDate': '2017-09-16T13:09:18.823115',\n",
       " 'originID': ObjectId('59b8417e0601bad0b9df0bc1')}"
      ]
     },
     "metadata": {},
     "output_type": "display_data"
    },
    {
     "data": {
      "text/plain": [
       "{'itisSearchURL': 'http://services.itis.gov/?wt=json&rows=10&q=tsn:726257',\n",
       " 'originCollection': 'gapspecies',\n",
       " 'originDate': '2017-09-16T13:09:19.004144',\n",
       " 'originID': ObjectId('59b8417f0601bad0b9df0bc2')}"
      ]
     },
     "metadata": {},
     "output_type": "display_data"
    },
    {
     "data": {
      "text/plain": [
       "{'itisSearchURL': 'http://services.itis.gov/?wt=json&rows=10&q=tsn:178562',\n",
       " 'originCollection': 'gapspecies',\n",
       " 'originDate': '2017-09-16T13:09:19.189014',\n",
       " 'originID': ObjectId('59b8417f0601bad0b9df0bc3')}"
      ]
     },
     "metadata": {},
     "output_type": "display_data"
    },
    {
     "data": {
      "text/plain": [
       "{'itisSearchURL': 'http://services.itis.gov/?wt=json&rows=10&q=tsn:178891',\n",
       " 'originCollection': 'gapspecies',\n",
       " 'originDate': '2017-09-16T13:09:19.370415',\n",
       " 'originID': ObjectId('59b8417f0601bad0b9df0bc4')}"
      ]
     },
     "metadata": {},
     "output_type": "display_data"
    },
    {
     "data": {
      "text/plain": [
       "{'itisSearchURL': 'http://services.itis.gov/?wt=json&rows=10&q=tsn:180347',\n",
       " 'originCollection': 'gapspecies',\n",
       " 'originDate': '2017-09-16T13:09:19.554292',\n",
       " 'originID': ObjectId('59b841800601bad0b9df0bc5')}"
      ]
     },
     "metadata": {},
     "output_type": "display_data"
    },
    {
     "data": {
      "text/plain": [
       "{'itisSearchURL': 'http://services.itis.gov/?wt=json&rows=10&q=tsn:173871',\n",
       " 'originCollection': 'gapspecies',\n",
       " 'originDate': '2017-09-16T13:09:19.739754',\n",
       " 'originID': ObjectId('59b841800601bad0b9df0bc6')}"
      ]
     },
     "metadata": {},
     "output_type": "display_data"
    },
    {
     "data": {
      "text/plain": [
       "{'itisSearchURL': 'http://services.itis.gov/?wt=json&rows=10&q=tsn:173761',\n",
       " 'originCollection': 'gapspecies',\n",
       " 'originDate': '2017-09-16T13:09:19.919176',\n",
       " 'originID': ObjectId('59b841800601bad0b9df0bc7')}"
      ]
     },
     "metadata": {},
     "output_type": "display_data"
    },
    {
     "data": {
      "text/plain": [
       "{'itisSearchURL': 'http://services.itis.gov/?wt=json&rows=10&q=tsn:552492',\n",
       " 'originCollection': 'gapspecies',\n",
       " 'originDate': '2017-09-16T13:09:20.105594',\n",
       " 'originID': ObjectId('59b841810601bad0b9df0bc8')}"
      ]
     },
     "metadata": {},
     "output_type": "display_data"
    },
    {
     "data": {
      "text/plain": [
       "{'itisSearchURL': 'http://services.itis.gov/?wt=json&rows=10&q=tsn:180362',\n",
       " 'originCollection': 'gapspecies',\n",
       " 'originDate': '2017-09-16T13:09:20.319254',\n",
       " 'originID': ObjectId('59b841810601bad0b9df0bc9')}"
      ]
     },
     "metadata": {},
     "output_type": "display_data"
    },
    {
     "data": {
      "text/plain": [
       "{'itisSearchURL': 'http://services.itis.gov/?wt=json&rows=10&q=tsn:174158',\n",
       " 'originCollection': 'gapspecies',\n",
       " 'originDate': '2017-09-16T13:09:20.497477',\n",
       " 'originID': ObjectId('59b841810601bad0b9df0bca')}"
      ]
     },
     "metadata": {},
     "output_type": "display_data"
    },
    {
     "data": {
      "text/plain": [
       "{'itisSearchURL': 'http://services.itis.gov/?wt=json&rows=10&q=tsn:174040',\n",
       " 'originCollection': 'gapspecies',\n",
       " 'originDate': '2017-09-16T13:09:20.676836',\n",
       " 'originID': ObjectId('59b841810601bad0b9df0bcb')}"
      ]
     },
     "metadata": {},
     "output_type": "display_data"
    },
    {
     "data": {
      "text/plain": [
       "{'itisSearchURL': 'http://services.itis.gov/?wt=json&rows=10&q=tsn:180294',\n",
       " 'originCollection': 'gapspecies',\n",
       " 'originDate': '2017-09-16T13:09:20.860481',\n",
       " 'originID': ObjectId('59b841820601bad0b9df0bcc')}"
      ]
     },
     "metadata": {},
     "output_type": "display_data"
    },
    {
     "data": {
      "text/plain": [
       "{'itisSearchURL': 'http://services.itis.gov/?wt=json&rows=10&q=nameWOInd:Heterodon\\\\%20kennerlyi',\n",
       " 'originCollection': 'gapspecies',\n",
       " 'originDate': '2017-09-16T13:09:21.048984',\n",
       " 'originID': ObjectId('59b841820601bad0b9df0bcd')}"
      ]
     },
     "metadata": {},
     "output_type": "display_data"
    },
    {
     "data": {
      "text/plain": [
       "{'itisSearchURL': 'http://services.itis.gov/?wt=json&rows=10&q=tsn:683035',\n",
       " 'originCollection': 'gapspecies',\n",
       " 'originDate': '2017-09-16T13:09:21.228206',\n",
       " 'originID': ObjectId('59b841820601bad0b9df0bce')}"
      ]
     },
     "metadata": {},
     "output_type": "display_data"
    },
    {
     "data": {
      "text/plain": [
       "{'itisSearchURL': 'http://services.itis.gov/?wt=json&rows=10&q=tsn:208992',\n",
       " 'originCollection': 'gapspecies',\n",
       " 'originDate': '2017-09-16T13:09:21.408562',\n",
       " 'originID': ObjectId('59b841820601bad0b9df0bcf')}"
      ]
     },
     "metadata": {},
     "output_type": "display_data"
    },
    {
     "data": {
      "text/plain": [
       "{'itisSearchURL': 'http://services.itis.gov/?wt=json&rows=10&q=tsn:179950',\n",
       " 'originCollection': 'gapspecies',\n",
       " 'originDate': '2017-09-16T13:09:21.600821',\n",
       " 'originID': ObjectId('59b841830601bad0b9df0bd0')}"
      ]
     },
     "metadata": {},
     "output_type": "display_data"
    },
    {
     "data": {
      "text/plain": [
       "{'itisSearchURL': 'http://services.itis.gov/?wt=json&rows=10&q=tsn:174218',\n",
       " 'originCollection': 'gapspecies',\n",
       " 'originDate': '2017-09-16T13:09:21.791368',\n",
       " 'originID': ObjectId('59b841830601bad0b9df0bd1')}"
      ]
     },
     "metadata": {},
     "output_type": "display_data"
    },
    {
     "data": {
      "text/plain": [
       "{'itisSearchURL': 'http://services.itis.gov/?wt=json&rows=10&q=tsn:173858',\n",
       " 'originCollection': 'gapspecies',\n",
       " 'originDate': '2017-09-16T13:09:21.971848',\n",
       " 'originID': ObjectId('59b841830601bad0b9df0bd2')}"
      ]
     },
     "metadata": {},
     "output_type": "display_data"
    },
    {
     "data": {
      "text/plain": [
       "{'itisSearchURL': 'http://services.itis.gov/?wt=json&rows=10&q=tsn:775125',\n",
       " 'originCollection': 'gapspecies',\n",
       " 'originDate': '2017-09-16T13:09:22.180334',\n",
       " 'originID': ObjectId('59b841840601bad0b9df0bd3')}"
      ]
     },
     "metadata": {},
     "output_type": "display_data"
    },
    {
     "data": {
      "text/plain": [
       "{'itisSearchURL': 'http://services.itis.gov/?wt=json&rows=10&q=tsn:173687',\n",
       " 'originCollection': 'gapspecies',\n",
       " 'originDate': '2017-09-16T13:09:22.360898',\n",
       " 'originID': ObjectId('59b841840601bad0b9df0bd4')}"
      ]
     },
     "metadata": {},
     "output_type": "display_data"
    },
    {
     "data": {
      "text/plain": [
       "{'itisSearchURL': 'http://services.itis.gov/?wt=json&rows=10&q=tsn:209451',\n",
       " 'originCollection': 'gapspecies',\n",
       " 'originDate': '2017-09-16T13:09:22.544044',\n",
       " 'originID': ObjectId('59b841840601bad0b9df0bd5')}"
      ]
     },
     "metadata": {},
     "output_type": "display_data"
    },
    {
     "data": {
      "text/plain": [
       "{'itisSearchURL': 'http://services.itis.gov/?wt=json&rows=10&q=tsn:174041',\n",
       " 'originCollection': 'gapspecies',\n",
       " 'originDate': '2017-09-16T13:09:22.726804',\n",
       " 'originID': ObjectId('59b841840601bad0b9df0bd6')}"
      ]
     },
     "metadata": {},
     "output_type": "display_data"
    },
    {
     "data": {
      "text/plain": [
       "{'itisSearchURL': 'http://services.itis.gov/?wt=json&rows=10&q=tsn:173693',\n",
       " 'originCollection': 'gapspecies',\n",
       " 'originDate': '2017-09-16T13:09:23.049646',\n",
       " 'originID': ObjectId('59b841850601bad0b9df0bd7')}"
      ]
     },
     "metadata": {},
     "output_type": "display_data"
    },
    {
     "data": {
      "text/plain": [
       "{'itisSearchURL': 'http://services.itis.gov/?wt=json&rows=10&q=tsn:176472',\n",
       " 'originCollection': 'gapspecies',\n",
       " 'originDate': '2017-09-16T13:09:23.530658',\n",
       " 'originID': ObjectId('59b841850601bad0b9df0bd8')}"
      ]
     },
     "metadata": {},
     "output_type": "display_data"
    },
    {
     "data": {
      "text/plain": [
       "{'itisSearchURL': 'http://services.itis.gov/?wt=json&rows=10&q=tsn:173594',\n",
       " 'originCollection': 'gapspecies',\n",
       " 'originDate': '2017-09-16T13:09:24.415629',\n",
       " 'originID': ObjectId('59b841850601bad0b9df0bd9')}"
      ]
     },
     "metadata": {},
     "output_type": "display_data"
    },
    {
     "data": {
      "text/plain": [
       "{'itisSearchURL': 'http://services.itis.gov/?wt=json&rows=10&q=tsn:173669',\n",
       " 'originCollection': 'gapspecies',\n",
       " 'originDate': '2017-09-16T13:09:24.923932',\n",
       " 'originID': ObjectId('59b841850601bad0b9df0bda')}"
      ]
     },
     "metadata": {},
     "output_type": "display_data"
    },
    {
     "data": {
      "text/plain": [
       "{'itisSearchURL': 'http://services.itis.gov/?wt=json&rows=10&q=tsn:174240',\n",
       " 'originCollection': 'gapspecies',\n",
       " 'originDate': '2017-09-16T13:09:25.567225',\n",
       " 'originID': ObjectId('59b841860601bad0b9df0bdb')}"
      ]
     },
     "metadata": {},
     "output_type": "display_data"
    },
    {
     "data": {
      "text/plain": [
       "{'itisSearchURL': 'http://services.itis.gov/?wt=json&rows=10&q=tsn:174315',\n",
       " 'originCollection': 'gapspecies',\n",
       " 'originDate': '2017-09-16T13:09:26.073823',\n",
       " 'originID': ObjectId('59b841860601bad0b9df0bdc')}"
      ]
     },
     "metadata": {},
     "output_type": "display_data"
    },
    {
     "data": {
      "text/plain": [
       "{'itisSearchURL': 'http://services.itis.gov/?wt=json&rows=10&q=tsn:173505',\n",
       " 'originCollection': 'gapspecies',\n",
       " 'originDate': '2017-09-16T13:09:26.627114',\n",
       " 'originID': ObjectId('59b841860601bad0b9df0bdd')}"
      ]
     },
     "metadata": {},
     "output_type": "display_data"
    },
    {
     "data": {
      "text/plain": [
       "{'itisSearchURL': 'http://services.itis.gov/?wt=json&rows=10&q=tsn:173503',\n",
       " 'originCollection': 'gapspecies',\n",
       " 'originDate': '2017-09-16T13:09:26.806934',\n",
       " 'originID': ObjectId('59b841870601bad0b9df0bde')}"
      ]
     },
     "metadata": {},
     "output_type": "display_data"
    },
    {
     "data": {
      "text/plain": [
       "{'itisSearchURL': 'http://services.itis.gov/?wt=json&rows=10&q=tsn:668325',\n",
       " 'originCollection': 'gapspecies',\n",
       " 'originDate': '2017-09-16T13:09:26.985604',\n",
       " 'originID': ObjectId('59b841870601bad0b9df0bdf')}"
      ]
     },
     "metadata": {},
     "output_type": "display_data"
    },
    {
     "data": {
      "text/plain": [
       "{'itisSearchURL': 'http://services.itis.gov/?wt=json&rows=10&q=tsn:173752',\n",
       " 'originCollection': 'gapspecies',\n",
       " 'originDate': '2017-09-16T13:09:27.173678',\n",
       " 'originID': ObjectId('59b841870601bad0b9df0be0')}"
      ]
     },
     "metadata": {},
     "output_type": "display_data"
    },
    {
     "data": {
      "text/plain": [
       "{'itisSearchURL': 'http://services.itis.gov/?wt=json&rows=10&q=tsn:173725',\n",
       " 'originCollection': 'gapspecies',\n",
       " 'originDate': '2017-09-16T13:09:27.410640',\n",
       " 'originID': ObjectId('59b841870601bad0b9df0be1')}"
      ]
     },
     "metadata": {},
     "output_type": "display_data"
    },
    {
     "data": {
      "text/plain": [
       "{'itisSearchURL': 'http://services.itis.gov/?wt=json&rows=10&q=tsn:178154',\n",
       " 'originCollection': 'gapspecies',\n",
       " 'originDate': '2017-09-16T13:09:27.597353',\n",
       " 'originID': ObjectId('59b841870601bad0b9df0be2')}"
      ]
     },
     "metadata": {},
     "output_type": "display_data"
    },
    {
     "data": {
      "text/plain": [
       "{'itisSearchURL': 'http://services.itis.gov/?wt=json&rows=10&q=tsn:180133',\n",
       " 'originCollection': 'gapspecies',\n",
       " 'originDate': '2017-09-16T13:09:27.780415',\n",
       " 'originID': ObjectId('59b841870601bad0b9df0be3')}"
      ]
     },
     "metadata": {},
     "output_type": "display_data"
    },
    {
     "data": {
      "text/plain": [
       "{'itisSearchURL': 'http://services.itis.gov/?wt=json&rows=10&q=tsn:179132',\n",
       " 'originCollection': 'gapspecies',\n",
       " 'originDate': '2017-09-16T13:09:27.970309',\n",
       " 'originID': ObjectId('59b841870601bad0b9df0be4')}"
      ]
     },
     "metadata": {},
     "output_type": "display_data"
    },
    {
     "data": {
      "text/plain": [
       "{'itisSearchURL': 'http://services.itis.gov/?wt=json&rows=10&q=tsn:180381',\n",
       " 'originCollection': 'gapspecies',\n",
       " 'originDate': '2017-09-16T13:09:28.151812',\n",
       " 'originID': ObjectId('59b841880601bad0b9df0be5')}"
      ]
     },
     "metadata": {},
     "output_type": "display_data"
    },
    {
     "data": {
      "text/plain": [
       "{'itisSearchURL': 'http://services.itis.gov/?wt=json&rows=10&q=tsn:174725',\n",
       " 'originCollection': 'gapspecies',\n",
       " 'originDate': '2017-09-16T13:09:28.340902',\n",
       " 'originID': ObjectId('59b841880601bad0b9df0be6')}"
      ]
     },
     "metadata": {},
     "output_type": "display_data"
    },
    {
     "data": {
      "text/plain": [
       "{'itisSearchURL': 'http://services.itis.gov/?wt=json&rows=10&q=tsn:179022',\n",
       " 'originCollection': 'gapspecies',\n",
       " 'originDate': '2017-09-16T13:09:28.528616',\n",
       " 'originID': ObjectId('59b841880601bad0b9df0be7')}"
      ]
     },
     "metadata": {},
     "output_type": "display_data"
    },
    {
     "data": {
      "text/plain": [
       "{'itisSearchURL': 'http://services.itis.gov/?wt=json&rows=10&q=tsn:179205',\n",
       " 'originCollection': 'gapspecies',\n",
       " 'originDate': '2017-09-16T13:09:28.711064',\n",
       " 'originID': ObjectId('59b841880601bad0b9df0be8')}"
      ]
     },
     "metadata": {},
     "output_type": "display_data"
    },
    {
     "data": {
      "text/plain": [
       "{'itisSearchURL': 'http://services.itis.gov/?wt=json&rows=10&q=tsn:179233',\n",
       " 'originCollection': 'gapspecies',\n",
       " 'originDate': '2017-09-16T13:09:28.893526',\n",
       " 'originID': ObjectId('59b841880601bad0b9df0be9')}"
      ]
     },
     "metadata": {},
     "output_type": "display_data"
    },
    {
     "data": {
      "text/plain": [
       "{'itisSearchURL': 'http://services.itis.gov/?wt=json&rows=10&q=tsn:550250',\n",
       " 'originCollection': 'gapspecies',\n",
       " 'originDate': '2017-09-16T13:09:29.123109',\n",
       " 'originID': ObjectId('59b841880601bad0b9df0bea')}"
      ]
     },
     "metadata": {},
     "output_type": "display_data"
    },
    {
     "data": {
      "text/plain": [
       "{'itisSearchURL': 'http://services.itis.gov/?wt=json&rows=10&q=tsn:180203',\n",
       " 'originCollection': 'gapspecies',\n",
       " 'originDate': '2017-09-16T13:09:29.305320',\n",
       " 'originID': ObjectId('59b841880601bad0b9df0beb')}"
      ]
     },
     "metadata": {},
     "output_type": "display_data"
    },
    {
     "data": {
      "text/plain": [
       "{'itisSearchURL': 'http://services.itis.gov/?wt=json&rows=10&q=tsn:668244',\n",
       " 'originCollection': 'gapspecies',\n",
       " 'originDate': '2017-09-16T13:09:29.486808',\n",
       " 'originID': ObjectId('59b841890601bad0b9df0bec')}"
      ]
     },
     "metadata": {},
     "output_type": "display_data"
    },
    {
     "data": {
      "text/plain": [
       "{'itisSearchURL': 'http://services.itis.gov/?wt=json&rows=10&q=tsn:173612',\n",
       " 'originCollection': 'gapspecies',\n",
       " 'originDate': '2017-09-16T13:09:29.671850',\n",
       " 'originID': ObjectId('59b841890601bad0b9df0bed')}"
      ]
     },
     "metadata": {},
     "output_type": "display_data"
    },
    {
     "data": {
      "text/plain": [
       "{'itisSearchURL': 'http://services.itis.gov/?wt=json&rows=10&q=tsn:174279',\n",
       " 'originCollection': 'gapspecies',\n",
       " 'originDate': '2017-09-16T13:09:29.852802',\n",
       " 'originID': ObjectId('59b841890601bad0b9df0bee')}"
      ]
     },
     "metadata": {},
     "output_type": "display_data"
    },
    {
     "data": {
      "text/plain": [
       "{'itisSearchURL': 'http://services.itis.gov/?wt=json&rows=10&q=nameWOInd:Urocitellus\\\\%20elegans\\\\%20aureus',\n",
       " 'originCollection': 'gapspecies',\n",
       " 'originDate': '2017-09-16T13:09:30.038670',\n",
       " 'originID': ObjectId('59b841890601bad0b9df0bef')}"
      ]
     },
     "metadata": {},
     "output_type": "display_data"
    },
    {
     "data": {
      "text/plain": [
       "{'itisSearchURL': 'http://services.itis.gov/?wt=json&rows=10&q=tsn:174024',\n",
       " 'originCollection': 'gapspecies',\n",
       " 'originDate': '2017-09-16T13:09:30.217601',\n",
       " 'originID': ObjectId('59b8418a0601bad0b9df0bf0')}"
      ]
     },
     "metadata": {},
     "output_type": "display_data"
    },
    {
     "data": {
      "text/plain": [
       "{'itisSearchURL': 'http://services.itis.gov/?wt=json&rows=10&q=tsn:174212',\n",
       " 'originCollection': 'gapspecies',\n",
       " 'originDate': '2017-09-16T13:09:30.405409',\n",
       " 'originID': ObjectId('59b8418a0601bad0b9df0bf1')}"
      ]
     },
     "metadata": {},
     "output_type": "display_data"
    },
    {
     "data": {
      "text/plain": [
       "{'itisSearchURL': 'http://services.itis.gov/?wt=json&rows=10&q=tsn:174311',\n",
       " 'originCollection': 'gapspecies',\n",
       " 'originDate': '2017-09-16T13:09:30.585333',\n",
       " 'originID': ObjectId('59b8418b0601bad0b9df0bf2')}"
      ]
     },
     "metadata": {},
     "output_type": "display_data"
    },
    {
     "data": {
      "text/plain": [
       "{'itisSearchURL': 'http://services.itis.gov/?wt=json&rows=10&q=tsn:208677',\n",
       " 'originCollection': 'gapspecies',\n",
       " 'originDate': '2017-09-16T13:09:30.771976',\n",
       " 'originID': ObjectId('59b8418b0601bad0b9df0bf3')}"
      ]
     },
     "metadata": {},
     "output_type": "display_data"
    },
    {
     "data": {
      "text/plain": [
       "{'itisSearchURL': 'http://services.itis.gov/?wt=json&rows=10&q=tsn:174318',\n",
       " 'originCollection': 'gapspecies',\n",
       " 'originDate': '2017-09-16T13:09:30.951572',\n",
       " 'originID': ObjectId('59b8418c0601bad0b9df0bf4')}"
      ]
     },
     "metadata": {},
     "output_type": "display_data"
    },
    {
     "data": {
      "text/plain": [
       "{'itisSearchURL': 'http://services.itis.gov/?wt=json&rows=10&q=tsn:176880',\n",
       " 'originCollection': 'gapspecies',\n",
       " 'originDate': '2017-09-16T13:09:31.149085',\n",
       " 'originID': ObjectId('59b8418c0601bad0b9df0bf5')}"
      ]
     },
     "metadata": {},
     "output_type": "display_data"
    },
    {
     "data": {
      "text/plain": [
       "{'itisSearchURL': 'http://services.itis.gov/?wt=json&rows=10&q=tsn:178911',\n",
       " 'originCollection': 'gapspecies',\n",
       " 'originDate': '2017-09-16T13:09:31.328608',\n",
       " 'originID': ObjectId('59b8418c0601bad0b9df0bf6')}"
      ]
     },
     "metadata": {},
     "output_type": "display_data"
    },
    {
     "data": {
      "text/plain": [
       "{'itisSearchURL': 'http://services.itis.gov/?wt=json&rows=10&q=tsn:173768',\n",
       " 'originCollection': 'gapspecies',\n",
       " 'originDate': '2017-09-16T13:09:31.512170',\n",
       " 'originID': ObjectId('59b8418d0601bad0b9df0bf7')}"
      ]
     },
     "metadata": {},
     "output_type": "display_data"
    },
    {
     "data": {
      "text/plain": [
       "{'itisSearchURL': 'http://services.itis.gov/?wt=json&rows=10&q=tsn:174248',\n",
       " 'originCollection': 'gapspecies',\n",
       " 'originDate': '2017-09-16T13:09:31.694266',\n",
       " 'originID': ObjectId('59b8418d0601bad0b9df0bf8')}"
      ]
     },
     "metadata": {},
     "output_type": "display_data"
    },
    {
     "data": {
      "text/plain": [
       "{'itisSearchURL': 'http://services.itis.gov/?wt=json&rows=10&q=tsn:174058',\n",
       " 'originCollection': 'gapspecies',\n",
       " 'originDate': '2017-09-16T13:09:31.873214',\n",
       " 'originID': ObjectId('59b8418d0601bad0b9df0bf9')}"
      ]
     },
     "metadata": {},
     "output_type": "display_data"
    },
    {
     "data": {
      "text/plain": [
       "{'itisSearchURL': 'http://services.itis.gov/?wt=json&rows=10&q=tsn:180182',\n",
       " 'originCollection': 'gapspecies',\n",
       " 'originDate': '2017-09-16T13:09:32.061902',\n",
       " 'originID': ObjectId('59b8418e0601bad0b9df0bfa')}"
      ]
     },
     "metadata": {},
     "output_type": "display_data"
    },
    {
     "data": {
      "text/plain": [
       "{'itisSearchURL': 'http://services.itis.gov/?wt=json&rows=10&q=tsn:175834',\n",
       " 'originCollection': 'gapspecies',\n",
       " 'originDate': '2017-09-16T13:09:32.250080',\n",
       " 'originID': ObjectId('59b8418e0601bad0b9df0bfb')}"
      ]
     },
     "metadata": {},
     "output_type": "display_data"
    },
    {
     "data": {
      "text/plain": [
       "{'itisSearchURL': 'http://services.itis.gov/?wt=json&rows=10&q=tsn:552518',\n",
       " 'originCollection': 'gapspecies',\n",
       " 'originDate': '2017-09-16T13:09:32.458202',\n",
       " 'originID': ObjectId('59b8418e0601bad0b9df0bfc')}"
      ]
     },
     "metadata": {},
     "output_type": "display_data"
    },
    {
     "data": {
      "text/plain": [
       "{'itisSearchURL': 'http://services.itis.gov/?wt=json&rows=10&q=tsn:180310',\n",
       " 'originCollection': 'gapspecies',\n",
       " 'originDate': '2017-09-16T13:09:32.785090',\n",
       " 'originID': ObjectId('59b8418e0601bad0b9df0bfd')}"
      ]
     },
     "metadata": {},
     "output_type": "display_data"
    },
    {
     "data": {
      "text/plain": [
       "{'itisSearchURL': 'http://services.itis.gov/?wt=json&rows=10&q=tsn:180276',\n",
       " 'originCollection': 'gapspecies',\n",
       " 'originDate': '2017-09-16T13:09:47.931292',\n",
       " 'originID': ObjectId('59b8418e0601bad0b9df0bfe')}"
      ]
     },
     "metadata": {},
     "output_type": "display_data"
    },
    {
     "data": {
      "text/plain": [
       "{'itisSearchURL': 'http://services.itis.gov/?wt=json&rows=10&q=tsn:179971',\n",
       " 'originCollection': 'gapspecies',\n",
       " 'originDate': '2017-09-16T13:09:48.121085',\n",
       " 'originID': ObjectId('59b8418f0601bad0b9df0bff')}"
      ]
     },
     "metadata": {},
     "output_type": "display_data"
    },
    {
     "data": {
      "text/plain": [
       "{'itisSearchURL': 'http://services.itis.gov/?wt=json&rows=10&q=nameWOInd:Aplodontia\\\\%20rufa\\\\%20pacifica',\n",
       " 'originCollection': 'gapspecies',\n",
       " 'originDate': '2017-09-16T13:09:48.303667',\n",
       " 'originID': ObjectId('59b8418f0601bad0b9df0c00')}"
      ]
     },
     "metadata": {},
     "output_type": "display_data"
    },
    {
     "data": {
      "text/plain": [
       "{'itisSearchURL': 'http://services.itis.gov/?wt=json&rows=10&q=tsn:552512',\n",
       " 'originCollection': 'gapspecies',\n",
       " 'originDate': '2017-09-16T13:09:48.500561',\n",
       " 'originID': ObjectId('59b8418f0601bad0b9df0c01')}"
      ]
     },
     "metadata": {},
     "output_type": "display_data"
    },
    {
     "data": {
      "text/plain": [
       "{'itisSearchURL': 'http://services.itis.gov/?wt=json&rows=10&q=tsn:173625',\n",
       " 'originCollection': 'gapspecies',\n",
       " 'originDate': '2017-09-16T13:09:48.681944',\n",
       " 'originID': ObjectId('59b841900601bad0b9df0c02')}"
      ]
     },
     "metadata": {},
     "output_type": "display_data"
    },
    {
     "data": {
      "text/plain": [
       "{'itisSearchURL': 'http://services.itis.gov/?wt=json&rows=10&q=tsn:180324',\n",
       " 'originCollection': 'gapspecies',\n",
       " 'originDate': '2017-09-16T13:09:48.868430',\n",
       " 'originID': ObjectId('59b841900601bad0b9df0c03')}"
      ]
     },
     "metadata": {},
     "output_type": "display_data"
    },
    {
     "data": {
      "text/plain": [
       "{'itisSearchURL': 'http://services.itis.gov/?wt=json&rows=10&q=tsn:174625',\n",
       " 'originCollection': 'gapspecies',\n",
       " 'originDate': '2017-09-16T13:09:49.052133',\n",
       " 'originID': ObjectId('59b841900601bad0b9df0c04')}"
      ]
     },
     "metadata": {},
     "output_type": "display_data"
    },
    {
     "data": {
      "text/plain": [
       "{'itisSearchURL': 'http://services.itis.gov/?wt=json&rows=10&q=tsn:175089',\n",
       " 'originCollection': 'gapspecies',\n",
       " 'originDate': '2017-09-16T13:09:49.230333',\n",
       " 'originID': ObjectId('59b841900601bad0b9df0c05')}"
      ]
     },
     "metadata": {},
     "output_type": "display_data"
    },
    {
     "data": {
      "text/plain": [
       "{'itisSearchURL': 'http://services.itis.gov/?wt=json&rows=10&q=tsn:178280',\n",
       " 'originCollection': 'gapspecies',\n",
       " 'originDate': '2017-09-16T13:09:49.415332',\n",
       " 'originID': ObjectId('59b841910601bad0b9df0c06')}"
      ]
     },
     "metadata": {},
     "output_type": "display_data"
    },
    {
     "data": {
      "text/plain": [
       "{'itisSearchURL': 'http://services.itis.gov/?wt=json&rows=10&q=tsn:179952',\n",
       " 'originCollection': 'gapspecies',\n",
       " 'originDate': '2017-09-16T13:09:49.597881',\n",
       " 'originID': ObjectId('59b841910601bad0b9df0c07')}"
      ]
     },
     "metadata": {},
     "output_type": "display_data"
    },
    {
     "data": {
      "text/plain": [
       "{'itisSearchURL': 'http://services.itis.gov/?wt=json&rows=10&q=tsn:180393',\n",
       " 'originCollection': 'gapspecies',\n",
       " 'originDate': '2017-09-16T13:09:49.784487',\n",
       " 'originID': ObjectId('59b841910601bad0b9df0c08')}"
      ]
     },
     "metadata": {},
     "output_type": "display_data"
    },
    {
     "data": {
      "text/plain": [
       "{'itisSearchURL': 'http://services.itis.gov/?wt=json&rows=10&q=tsn:180604',\n",
       " 'originCollection': 'gapspecies',\n",
       " 'originDate': '2017-09-16T13:09:49.974628',\n",
       " 'originID': ObjectId('59b841910601bad0b9df0c09')}"
      ]
     },
     "metadata": {},
     "output_type": "display_data"
    },
    {
     "data": {
      "text/plain": [
       "{'itisSearchURL': 'http://services.itis.gov/?wt=json&rows=10&q=tsn:774546',\n",
       " 'originCollection': 'gapspecies',\n",
       " 'originDate': '2017-09-16T13:09:50.158707',\n",
       " 'originID': ObjectId('59b841920601bad0b9df0c0a')}"
      ]
     },
     "metadata": {},
     "output_type": "display_data"
    },
    {
     "data": {
      "text/plain": [
       "{'itisSearchURL': 'http://services.itis.gov/?wt=json&rows=10&q=tsn:180286',\n",
       " 'originCollection': 'gapspecies',\n",
       " 'originDate': '2017-09-16T13:09:50.402396',\n",
       " 'originID': ObjectId('59b841920601bad0b9df0c0b')}"
      ]
     },
     "metadata": {},
     "output_type": "display_data"
    },
    {
     "data": {
      "text/plain": [
       "{'itisSearchURL': 'http://services.itis.gov/?wt=json&rows=10&q=tsn:180599',\n",
       " 'originCollection': 'gapspecies',\n",
       " 'originDate': '2017-09-16T13:09:50.582354',\n",
       " 'originID': ObjectId('59b841930601bad0b9df0c0c')}"
      ]
     },
     "metadata": {},
     "output_type": "display_data"
    },
    {
     "data": {
      "text/plain": [
       "{'itisSearchURL': 'http://services.itis.gov/?wt=json&rows=10&q=tsn:176517',\n",
       " 'originCollection': 'gapspecies',\n",
       " 'originDate': '2017-09-16T13:09:50.763668',\n",
       " 'originID': ObjectId('59b841930601bad0b9df0c0d')}"
      ]
     },
     "metadata": {},
     "output_type": "display_data"
    },
    {
     "data": {
      "text/plain": [
       "{'itisSearchURL': 'http://services.itis.gov/?wt=json&rows=10&q=tsn:179857',\n",
       " 'originCollection': 'gapspecies',\n",
       " 'originDate': '2017-09-16T13:09:50.945904',\n",
       " 'originID': ObjectId('59b841940601bad0b9df0c0e')}"
      ]
     },
     "metadata": {},
     "output_type": "display_data"
    },
    {
     "data": {
      "text/plain": [
       "{'itisSearchURL': 'http://services.itis.gov/?wt=json&rows=10&q=tsn:180701',\n",
       " 'originCollection': 'gapspecies',\n",
       " 'originDate': '2017-09-16T13:09:51.125204',\n",
       " 'originID': ObjectId('59b841940601bad0b9df0c0f')}"
      ]
     },
     "metadata": {},
     "output_type": "display_data"
    },
    {
     "data": {
      "text/plain": [
       "{'itisSearchURL': 'http://services.itis.gov/?wt=json&rows=10&q=tsn:180621',\n",
       " 'originCollection': 'gapspecies',\n",
       " 'originDate': '2017-09-16T13:09:51.376818',\n",
       " 'originID': ObjectId('59b841940601bad0b9df0c10')}"
      ]
     },
     "metadata": {},
     "output_type": "display_data"
    },
    {
     "data": {
      "text/plain": [
       "{'itisSearchURL': 'http://services.itis.gov/?wt=json&rows=10&q=tsn:178973',\n",
       " 'originCollection': 'gapspecies',\n",
       " 'originDate': '2017-09-16T13:09:51.584882',\n",
       " 'originID': ObjectId('59b841950601bad0b9df0c11')}"
      ]
     },
     "metadata": {},
     "output_type": "display_data"
    },
    {
     "data": {
      "text/plain": [
       "{'itisSearchURL': 'http://services.itis.gov/?wt=json&rows=10&q=tsn:775123',\n",
       " 'originCollection': 'gapspecies',\n",
       " 'originDate': '2017-09-16T13:09:51.765576',\n",
       " 'originID': ObjectId('59b841950601bad0b9df0c12')}"
      ]
     },
     "metadata": {},
     "output_type": "display_data"
    },
    {
     "data": {
      "text/plain": [
       "{'itisSearchURL': 'http://services.itis.gov/?wt=json&rows=10&q=tsn:176837',\n",
       " 'originCollection': 'gapspecies',\n",
       " 'originDate': '2017-09-16T13:09:51.954223',\n",
       " 'originID': ObjectId('59b841960601bad0b9df0c13')}"
      ]
     },
     "metadata": {},
     "output_type": "display_data"
    },
    {
     "data": {
      "text/plain": [
       "{'itisSearchURL': 'http://services.itis.gov/?wt=json&rows=10&q=tsn:179312',\n",
       " 'originCollection': 'gapspecies',\n",
       " 'originDate': '2017-09-16T13:09:52.293609',\n",
       " 'originID': ObjectId('59b841960601bad0b9df0c14')}"
      ]
     },
     "metadata": {},
     "output_type": "display_data"
    },
    {
     "data": {
      "text/plain": [
       "{'itisSearchURL': 'http://services.itis.gov/?wt=json&rows=10&q=tsn:650445',\n",
       " 'originCollection': 'gapspecies',\n",
       " 'originDate': '2017-09-16T13:09:52.718156',\n",
       " 'originID': ObjectId('59b841970601bad0b9df0c15')}"
      ]
     },
     "metadata": {},
     "output_type": "display_data"
    },
    {
     "data": {
      "text/plain": [
       "{'itisSearchURL': 'http://services.itis.gov/?wt=json&rows=10&q=tsn:178937',\n",
       " 'originCollection': 'gapspecies',\n",
       " 'originDate': '2017-09-16T13:09:53.048603',\n",
       " 'originID': ObjectId('59b841980601bad0b9df0c16')}"
      ]
     },
     "metadata": {},
     "output_type": "display_data"
    },
    {
     "data": {
      "text/plain": [
       "{'itisSearchURL': 'http://services.itis.gov/?wt=json&rows=10&q=tsn:179811',\n",
       " 'originCollection': 'gapspecies',\n",
       " 'originDate': '2017-09-16T13:09:53.859502',\n",
       " 'originID': ObjectId('59b841990601bad0b9df0c17')}"
      ]
     },
     "metadata": {},
     "output_type": "display_data"
    },
    {
     "data": {
      "text/plain": [
       "{'itisSearchURL': 'http://services.itis.gov/?wt=json&rows=10&q=tsn:177723',\n",
       " 'originCollection': 'gapspecies',\n",
       " 'originDate': '2017-09-16T13:09:54.371793',\n",
       " 'originID': ObjectId('59b841990601bad0b9df0c18')}"
      ]
     },
     "metadata": {},
     "output_type": "display_data"
    },
    {
     "data": {
      "text/plain": [
       "{'itisSearchURL': 'http://services.itis.gov/?wt=json&rows=10&q=tsn:174824',\n",
       " 'originCollection': 'gapspecies',\n",
       " 'originDate': '2017-09-16T13:09:55.357276',\n",
       " 'originID': ObjectId('59b8419a0601bad0b9df0c19')}"
      ]
     },
     "metadata": {},
     "output_type": "display_data"
    },
    {
     "data": {
      "text/plain": [
       "{'itisSearchURL': 'http://services.itis.gov/?wt=json&rows=10&q=tsn:174941',\n",
       " 'originCollection': 'gapspecies',\n",
       " 'originDate': '2017-09-16T13:09:55.893503',\n",
       " 'originID': ObjectId('59b8419a0601bad0b9df0c1a')}"
      ]
     },
     "metadata": {},
     "output_type": "display_data"
    },
    {
     "data": {
      "text/plain": [
       "{'itisSearchURL': 'http://services.itis.gov/?wt=json&rows=10&q=tsn:179371',\n",
       " 'originCollection': 'gapspecies',\n",
       " 'originDate': '2017-09-16T13:09:56.093625',\n",
       " 'originID': ObjectId('59b8419a0601bad0b9df0c1b')}"
      ]
     },
     "metadata": {},
     "output_type": "display_data"
    },
    {
     "data": {
      "text/plain": [
       "{'itisSearchURL': 'http://services.itis.gov/?wt=json&rows=10&q=tsn:177932',\n",
       " 'originCollection': 'gapspecies',\n",
       " 'originDate': '2017-09-16T13:09:56.271876',\n",
       " 'originID': ObjectId('59b8419b0601bad0b9df0c1c')}"
      ]
     },
     "metadata": {},
     "output_type": "display_data"
    },
    {
     "data": {
      "text/plain": [
       "{'itisSearchURL': 'http://services.itis.gov/?wt=json&rows=10&q=tsn:179340',\n",
       " 'originCollection': 'gapspecies',\n",
       " 'originDate': '2017-09-16T13:09:56.450294',\n",
       " 'originID': ObjectId('59b8419b0601bad0b9df0c1d')}"
      ]
     },
     "metadata": {},
     "output_type": "display_data"
    },
    {
     "data": {
      "text/plain": [
       "{'itisSearchURL': 'http://services.itis.gov/?wt=json&rows=10&q=tsn:176811',\n",
       " 'originCollection': 'gapspecies',\n",
       " 'originDate': '2017-09-16T13:09:56.647351',\n",
       " 'originID': ObjectId('59b8419c0601bad0b9df0c1e')}"
      ]
     },
     "metadata": {},
     "output_type": "display_data"
    },
    {
     "data": {
      "text/plain": [
       "{'itisSearchURL': 'http://services.itis.gov/?wt=json&rows=10&q=tsn:178257',\n",
       " 'originCollection': 'gapspecies',\n",
       " 'originDate': '2017-09-16T13:09:56.827977',\n",
       " 'originID': ObjectId('59b8419c0601bad0b9df0c1f')}"
      ]
     },
     "metadata": {},
     "output_type": "display_data"
    },
    {
     "data": {
      "text/plain": [
       "{'itisSearchURL': 'http://services.itis.gov/?wt=json&rows=10&q=tsn:177686',\n",
       " 'originCollection': 'gapspecies',\n",
       " 'originDate': '2017-09-16T13:09:57.009438',\n",
       " 'originID': ObjectId('59b8419c0601bad0b9df0c20')}"
      ]
     },
     "metadata": {},
     "output_type": "display_data"
    },
    {
     "data": {
      "text/plain": [
       "{'itisSearchURL': 'http://services.itis.gov/?wt=json&rows=10&q=tsn:179232',\n",
       " 'originCollection': 'gapspecies',\n",
       " 'originDate': '2017-09-16T13:09:57.192989',\n",
       " 'originID': ObjectId('59b8419d0601bad0b9df0c21')}"
      ]
     },
     "metadata": {},
     "output_type": "display_data"
    },
    {
     "data": {
      "text/plain": [
       "{'itisSearchURL': 'http://services.itis.gov/?wt=json&rows=10&q=tsn:173628',\n",
       " 'originCollection': 'gapspecies',\n",
       " 'originDate': '2017-09-16T13:09:57.399266',\n",
       " 'originID': ObjectId('59b8419d0601bad0b9df0c22')}"
      ]
     },
     "metadata": {},
     "output_type": "display_data"
    },
    {
     "data": {
      "text/plain": [
       "{'itisSearchURL': 'http://services.itis.gov/?wt=json&rows=10&q=tsn:173666',\n",
       " 'originCollection': 'gapspecies',\n",
       " 'originDate': '2017-09-16T13:09:57.594169',\n",
       " 'originID': ObjectId('59b8419e0601bad0b9df0c23')}"
      ]
     },
     "metadata": {},
     "output_type": "display_data"
    },
    {
     "data": {
      "text/plain": [
       "{'itisSearchURL': 'http://services.itis.gov/?wt=json&rows=10&q=tsn:554145',\n",
       " 'originCollection': 'gapspecies',\n",
       " 'originDate': '2017-09-16T13:09:57.773625',\n",
       " 'originID': ObjectId('59b8419f0601bad0b9df0c24')}"
      ]
     },
     "metadata": {},
     "output_type": "display_data"
    },
    {
     "data": {
      "text/plain": [
       "{'itisSearchURL': 'http://services.itis.gov/?wt=json&rows=10&q=tsn:176828',\n",
       " 'originCollection': 'gapspecies',\n",
       " 'originDate': '2017-09-16T13:09:57.954325',\n",
       " 'originID': ObjectId('59b8419f0601bad0b9df0c25')}"
      ]
     },
     "metadata": {},
     "output_type": "display_data"
    },
    {
     "data": {
      "text/plain": [
       "{'itisSearchURL': 'http://services.itis.gov/?wt=json&rows=10&q=tsn:552472',\n",
       " 'originCollection': 'gapspecies',\n",
       " 'originDate': '2017-09-16T13:09:58.143301',\n",
       " 'originID': ObjectId('59b841a00601bad0b9df0c26')}"
      ]
     },
     "metadata": {},
     "output_type": "display_data"
    },
    {
     "data": {
      "text/plain": [
       "{'itisSearchURL': 'http://services.itis.gov/?wt=json&rows=10&q=tsn:179402',\n",
       " 'originCollection': 'gapspecies',\n",
       " 'originDate': '2017-09-16T13:09:58.324218',\n",
       " 'originID': ObjectId('59b841a10601bad0b9df0c27')}"
      ]
     },
     "metadata": {},
     "output_type": "display_data"
    },
    {
     "data": {
      "text/plain": [
       "{'itisSearchURL': 'http://services.itis.gov/?wt=json&rows=10&q=tsn:177942',\n",
       " 'originCollection': 'gapspecies',\n",
       " 'originDate': '2017-09-16T13:09:58.507869',\n",
       " 'originID': ObjectId('59b841a10601bad0b9df0c28')}"
      ]
     },
     "metadata": {},
     "output_type": "display_data"
    },
    {
     "data": {
      "text/plain": [
       "{'itisSearchURL': 'http://services.itis.gov/?wt=json&rows=10&q=tsn:175590',\n",
       " 'originCollection': 'gapspecies',\n",
       " 'originDate': '2017-09-16T13:09:58.691026',\n",
       " 'originID': ObjectId('59b841a20601bad0b9df0c29')}"
      ]
     },
     "metadata": {},
     "output_type": "display_data"
    },
    {
     "data": {
      "text/plain": [
       "{'itisSearchURL': 'http://services.itis.gov/?wt=json&rows=10&q=tsn:726205',\n",
       " 'originCollection': 'gapspecies',\n",
       " 'originDate': '2017-09-16T13:09:58.874456',\n",
       " 'originID': ObjectId('59b841a20601bad0b9df0c2a')}"
      ]
     },
     "metadata": {},
     "output_type": "display_data"
    },
    {
     "data": {
      "text/plain": [
       "{'itisSearchURL': 'http://services.itis.gov/?wt=json&rows=10&q=tsn:174475',\n",
       " 'originCollection': 'gapspecies',\n",
       " 'originDate': '2017-09-16T13:09:59.058458',\n",
       " 'originID': ObjectId('59b841a30601bad0b9df0c2b')}"
      ]
     },
     "metadata": {},
     "output_type": "display_data"
    },
    {
     "data": {
      "text/plain": [
       "{'itisSearchURL': 'http://services.itis.gov/?wt=json&rows=10&q=tsn:773514',\n",
       " 'originCollection': 'gapspecies',\n",
       " 'originDate': '2017-09-16T13:09:59.240647',\n",
       " 'originID': ObjectId('59b841a30601bad0b9df0c2c')}"
      ]
     },
     "metadata": {},
     "output_type": "display_data"
    },
    {
     "data": {
      "text/plain": [
       "{'itisSearchURL': 'http://services.itis.gov/?wt=json&rows=10&q=tsn:550245',\n",
       " 'originCollection': 'gapspecies',\n",
       " 'originDate': '2017-09-16T13:09:59.421862',\n",
       " 'originID': ObjectId('59b841a30601bad0b9df0c2d')}"
      ]
     },
     "metadata": {},
     "output_type": "display_data"
    },
    {
     "data": {
      "text/plain": [
       "{'itisSearchURL': 'http://services.itis.gov/?wt=json&rows=10&q=tsn:177902',\n",
       " 'originCollection': 'gapspecies',\n",
       " 'originDate': '2017-09-16T13:09:59.611544',\n",
       " 'originID': ObjectId('59b841a40601bad0b9df0c2e')}"
      ]
     },
     "metadata": {},
     "output_type": "display_data"
    },
    {
     "data": {
      "text/plain": [
       "{'itisSearchURL': 'http://services.itis.gov/?wt=json&rows=10&q=tsn:174505',\n",
       " 'originCollection': 'gapspecies',\n",
       " 'originDate': '2017-09-16T13:09:59.794237',\n",
       " 'originID': ObjectId('59b841a40601bad0b9df0c2f')}"
      ]
     },
     "metadata": {},
     "output_type": "display_data"
    },
    {
     "data": {
      "text/plain": [
       "{'itisSearchURL': 'http://services.itis.gov/?wt=json&rows=10&q=tsn:773526',\n",
       " 'originCollection': 'gapspecies',\n",
       " 'originDate': '2017-09-16T13:09:59.972676',\n",
       " 'originID': ObjectId('59b841a50601bad0b9df0c30')}"
      ]
     },
     "metadata": {},
     "output_type": "display_data"
    },
    {
     "data": {
      "text/plain": [
       "{'itisSearchURL': 'http://services.itis.gov/?wt=json&rows=10&q=tsn:179949',\n",
       " 'originCollection': 'gapspecies',\n",
       " 'originDate': '2017-09-16T13:10:00.164385',\n",
       " 'originID': ObjectId('59b841a60601bad0b9df0c31')}"
      ]
     },
     "metadata": {},
     "output_type": "display_data"
    },
    {
     "data": {
      "text/plain": [
       "{'itisSearchURL': 'http://services.itis.gov/?wt=json&rows=10&q=tsn:180088',\n",
       " 'originCollection': 'gapspecies',\n",
       " 'originDate': '2017-09-16T13:10:00.361498',\n",
       " 'originID': ObjectId('59b841a60601bad0b9df0c32')}"
      ]
     },
     "metadata": {},
     "output_type": "display_data"
    },
    {
     "data": {
      "text/plain": [
       "{'itisSearchURL': 'http://services.itis.gov/?wt=json&rows=10&q=tsn:180555',\n",
       " 'originCollection': 'gapspecies',\n",
       " 'originDate': '2017-09-16T13:10:00.554323',\n",
       " 'originID': ObjectId('59b841a70601bad0b9df0c33')}"
      ]
     },
     "metadata": {},
     "output_type": "display_data"
    },
    {
     "data": {
      "text/plain": [
       "{'itisSearchURL': 'http://services.itis.gov/?wt=json&rows=10&q=tsn:178977',\n",
       " 'originCollection': 'gapspecies',\n",
       " 'originDate': '2017-09-16T13:10:00.743193',\n",
       " 'originID': ObjectId('59b841a70601bad0b9df0c34')}"
      ]
     },
     "metadata": {},
     "output_type": "display_data"
    },
    {
     "data": {
      "text/plain": [
       "{'itisSearchURL': 'http://services.itis.gov/?wt=json&rows=10&q=tsn:180071',\n",
       " 'originCollection': 'gapspecies',\n",
       " 'originDate': '2017-09-16T13:10:00.929740',\n",
       " 'originID': ObjectId('59b841a80601bad0b9df0c35')}"
      ]
     },
     "metadata": {},
     "output_type": "display_data"
    },
    {
     "data": {
      "text/plain": [
       "{'itisSearchURL': 'http://services.itis.gov/?wt=json&rows=10&q=nameWOInd:Amphispiza\\\\%20belli\\\\%20nevadensis',\n",
       " 'originCollection': 'gapspecies',\n",
       " 'originDate': '2017-09-16T13:10:01.108338',\n",
       " 'originID': ObjectId('59b841a90601bad0b9df0c36')}"
      ]
     },
     "metadata": {},
     "output_type": "display_data"
    },
    {
     "data": {
      "text/plain": [
       "{'itisSearchURL': 'http://services.itis.gov/?wt=json&rows=10&q=tsn:180344',\n",
       " 'originCollection': 'gapspecies',\n",
       " 'originDate': '2017-09-16T13:10:01.310876',\n",
       " 'originID': ObjectId('59b841aa0601bad0b9df0c37')}"
      ]
     },
     "metadata": {},
     "output_type": "display_data"
    },
    {
     "data": {
      "text/plain": [
       "{'itisSearchURL': 'http://services.itis.gov/?wt=json&rows=10&q=tsn:180245',\n",
       " 'originCollection': 'gapspecies',\n",
       " 'originDate': '2017-09-16T13:10:01.495367',\n",
       " 'originID': ObjectId('59b841ab0601bad0b9df0c38')}"
      ]
     },
     "metadata": {},
     "output_type": "display_data"
    },
    {
     "data": {
      "text/plain": [
       "{'itisSearchURL': 'http://services.itis.gov/?wt=json&rows=10&q=tsn:179715',\n",
       " 'originCollection': 'gapspecies',\n",
       " 'originDate': '2017-09-16T13:10:01.680707',\n",
       " 'originID': ObjectId('59b841ac0601bad0b9df0c39')}"
      ]
     },
     "metadata": {},
     "output_type": "display_data"
    },
    {
     "data": {
      "text/plain": [
       "{'itisSearchURL': 'http://services.itis.gov/?wt=json&rows=10&q=tsn:180228',\n",
       " 'originCollection': 'gapspecies',\n",
       " 'originDate': '2017-09-16T13:10:02.005184',\n",
       " 'originID': ObjectId('59b841ac0601bad0b9df0c3a')}"
      ]
     },
     "metadata": {},
     "output_type": "display_data"
    },
    {
     "data": {
      "text/plain": [
       "{'itisSearchURL': 'http://services.itis.gov/?wt=json&rows=10&q=tsn:180208',\n",
       " 'originCollection': 'gapspecies',\n",
       " 'originDate': '2017-09-16T13:10:02.329897',\n",
       " 'originID': ObjectId('59b841ad0601bad0b9df0c3b')}"
      ]
     },
     "metadata": {},
     "output_type": "display_data"
    },
    {
     "data": {
      "text/plain": [
       "{'itisSearchURL': 'http://services.itis.gov/?wt=json&rows=10&q=tsn:180217',\n",
       " 'originCollection': 'gapspecies',\n",
       " 'originDate': '2017-09-16T13:10:02.632298',\n",
       " 'originID': ObjectId('59b841ae0601bad0b9df0c3c')}"
      ]
     },
     "metadata": {},
     "output_type": "display_data"
    },
    {
     "data": {
      "text/plain": [
       "{'itisSearchURL': 'http://services.itis.gov/?wt=json&rows=10&q=tsn:554387',\n",
       " 'originCollection': 'gapspecies',\n",
       " 'originDate': '2017-09-16T13:10:03.452202',\n",
       " 'originID': ObjectId('59b841ae0601bad0b9df0c3d')}"
      ]
     },
     "metadata": {},
     "output_type": "display_data"
    },
    {
     "data": {
      "text/plain": [
       "{'itisSearchURL': 'http://services.itis.gov/?wt=json&rows=10&q=tsn:177851',\n",
       " 'originCollection': 'gapspecies',\n",
       " 'originDate': '2017-09-16T13:10:03.966142',\n",
       " 'originID': ObjectId('59b841af0601bad0b9df0c3e')}"
      ]
     },
     "metadata": {},
     "output_type": "display_data"
    },
    {
     "data": {
      "text/plain": [
       "{'itisSearchURL': 'http://services.itis.gov/?wt=json&rows=10&q=tsn:710076',\n",
       " 'originCollection': 'gapspecies',\n",
       " 'originDate': '2017-09-16T13:10:04.604459',\n",
       " 'originID': ObjectId('59b841af0601bad0b9df0c3f')}"
      ]
     },
     "metadata": {},
     "output_type": "display_data"
    },
    {
     "data": {
      "text/plain": [
       "{'itisSearchURL': 'http://services.itis.gov/?wt=json&rows=10&q=tsn:180006',\n",
       " 'originCollection': 'gapspecies',\n",
       " 'originDate': '2017-09-16T13:10:05.110664',\n",
       " 'originID': ObjectId('59b841b00601bad0b9df0c40')}"
      ]
     },
     "metadata": {},
     "output_type": "display_data"
    },
    {
     "data": {
      "text/plain": [
       "{'itisSearchURL': 'http://services.itis.gov/?wt=json&rows=10&q=tsn:179390',\n",
       " 'originCollection': 'gapspecies',\n",
       " 'originDate': '2017-09-16T13:10:05.655160',\n",
       " 'originID': ObjectId('59b841b10601bad0b9df0c41')}"
      ]
     },
     "metadata": {},
     "output_type": "display_data"
    },
    {
     "data": {
      "text/plain": [
       "{'itisSearchURL': 'http://services.itis.gov/?wt=json&rows=10&q=tsn:176209',\n",
       " 'originCollection': 'gapspecies',\n",
       " 'originDate': '2017-09-16T13:10:05.838114',\n",
       " 'originID': ObjectId('59b841b10601bad0b9df0c42')}"
      ]
     },
     "metadata": {},
     "output_type": "display_data"
    },
    {
     "data": {
      "text/plain": [
       "{'itisSearchURL': 'http://services.itis.gov/?wt=json&rows=10&q=tsn:180261',\n",
       " 'originCollection': 'gapspecies',\n",
       " 'originDate': '2017-09-16T13:10:06.020643',\n",
       " 'originID': ObjectId('59b841b20601bad0b9df0c43')}"
      ]
     },
     "metadata": {},
     "output_type": "display_data"
    },
    {
     "data": {
      "text/plain": [
       "{'itisSearchURL': 'http://services.itis.gov/?wt=json&rows=10&q=tsn:710075',\n",
       " 'originCollection': 'gapspecies',\n",
       " 'originDate': '2017-09-16T13:10:06.204583',\n",
       " 'originID': ObjectId('59b841b30601bad0b9df0c44')}"
      ]
     },
     "metadata": {},
     "output_type": "display_data"
    },
    {
     "data": {
      "text/plain": [
       "{'itisSearchURL': 'http://services.itis.gov/?wt=json&rows=10&q=tsn:180570',\n",
       " 'originCollection': 'gapspecies',\n",
       " 'originDate': '2017-09-16T13:10:06.396509',\n",
       " 'originID': ObjectId('59b841b30601bad0b9df0c45')}"
      ]
     },
     "metadata": {},
     "output_type": "display_data"
    },
    {
     "data": {
      "text/plain": [
       "{'itisSearchURL': 'http://services.itis.gov/?wt=json&rows=10&q=tsn:179964',\n",
       " 'originCollection': 'gapspecies',\n",
       " 'originDate': '2017-09-16T13:10:06.602863',\n",
       " 'originID': ObjectId('59b841b40601bad0b9df0c46')}"
      ]
     },
     "metadata": {},
     "output_type": "display_data"
    },
    {
     "data": {
      "text/plain": [
       "{'itisSearchURL': 'http://services.itis.gov/?wt=json&rows=10&q=tsn:174147',\n",
       " 'originCollection': 'gapspecies',\n",
       " 'originDate': '2017-09-16T13:10:06.788978',\n",
       " 'originID': ObjectId('59b841b40601bad0b9df0c47')}"
      ]
     },
     "metadata": {},
     "output_type": "display_data"
    },
    {
     "data": {
      "text/plain": [
       "{'itisSearchURL': 'http://services.itis.gov/?wt=json&rows=10&q=tsn:173819',\n",
       " 'originCollection': 'gapspecies',\n",
       " 'originDate': '2017-09-16T13:10:06.970992',\n",
       " 'originID': ObjectId('59b841b50601bad0b9df0c48')}"
      ]
     },
     "metadata": {},
     "output_type": "display_data"
    },
    {
     "data": {
      "text/plain": [
       "{'itisSearchURL': 'http://services.itis.gov/?wt=json&rows=10&q=tsn:174156',\n",
       " 'originCollection': 'gapspecies',\n",
       " 'originDate': '2017-09-16T13:10:07.153009',\n",
       " 'originID': ObjectId('59b841b60601bad0b9df0c49')}"
      ]
     },
     "metadata": {},
     "output_type": "display_data"
    },
    {
     "data": {
      "text/plain": [
       "{'itisSearchURL': 'http://services.itis.gov/?wt=json&rows=10&q=tsn:563909',\n",
       " 'originCollection': 'gapspecies',\n",
       " 'originDate': '2017-09-16T13:10:07.335570',\n",
       " 'originID': ObjectId('59b841b70601bad0b9df0c4a')}"
      ]
     },
     "metadata": {},
     "output_type": "display_data"
    },
    {
     "data": {
      "text/plain": [
       "{'itisSearchURL': 'http://services.itis.gov/?wt=json&rows=10&q=tsn:180672',\n",
       " 'originCollection': 'gapspecies',\n",
       " 'originDate': '2017-09-16T13:10:07.523696',\n",
       " 'originID': ObjectId('59b841b80601bad0b9df0c4b')}"
      ]
     },
     "metadata": {},
     "output_type": "display_data"
    },
    {
     "data": {
      "text/plain": [
       "{'itisSearchURL': 'http://services.itis.gov/?wt=json&rows=10&q=tsn:178340',\n",
       " 'originCollection': 'gapspecies',\n",
       " 'originDate': '2017-09-16T13:10:07.727084',\n",
       " 'originID': ObjectId('59b841b90601bad0b9df0c4c')}"
      ]
     },
     "metadata": {},
     "output_type": "display_data"
    },
    {
     "data": {
      "text/plain": [
       "{'itisSearchURL': 'http://services.itis.gov/?wt=json&rows=10&q=tsn:174976',\n",
       " 'originCollection': 'gapspecies',\n",
       " 'originDate': '2017-09-16T13:10:07.910785',\n",
       " 'originID': ObjectId('59b841ba0601bad0b9df0c4d')}"
      ]
     },
     "metadata": {},
     "output_type": "display_data"
    },
    {
     "data": {
      "text/plain": [
       "{'itisSearchURL': 'http://services.itis.gov/?wt=json&rows=10&q=tsn:179076',\n",
       " 'originCollection': 'gapspecies',\n",
       " 'originDate': '2017-09-16T13:10:08.105005',\n",
       " 'originID': ObjectId('59b841bb0601bad0b9df0c4e')}"
      ]
     },
     "metadata": {},
     "output_type": "display_data"
    },
    {
     "data": {
      "text/plain": [
       "{'itisSearchURL': 'http://services.itis.gov/?wt=json&rows=10&q=tsn:174319',\n",
       " 'originCollection': 'gapspecies',\n",
       " 'originDate': '2017-09-16T13:10:08.296076',\n",
       " 'originID': ObjectId('59b841bc0601bad0b9df0c4f')}"
      ]
     },
     "metadata": {},
     "output_type": "display_data"
    },
    {
     "data": {
      "text/plain": [
       "{'itisSearchURL': 'http://services.itis.gov/?wt=json&rows=10&q=tsn:551766',\n",
       " 'originCollection': 'gapspecies',\n",
       " 'originDate': '2017-09-16T13:10:08.484133',\n",
       " 'originID': ObjectId('59b841bd0601bad0b9df0c50')}"
      ]
     },
     "metadata": {},
     "output_type": "display_data"
    },
    {
     "data": {
      "text/plain": [
       "{'itisSearchURL': 'http://services.itis.gov/?wt=json&rows=10&q=tsn:180370',\n",
       " 'originCollection': 'gapspecies',\n",
       " 'originDate': '2017-09-16T13:10:08.668310',\n",
       " 'originID': ObjectId('59b841bd0601bad0b9df0c51')}"
      ]
     },
     "metadata": {},
     "output_type": "display_data"
    },
    {
     "data": {
      "text/plain": [
       "{'itisSearchURL': 'http://services.itis.gov/?wt=json&rows=10&q=tsn:174150',\n",
       " 'originCollection': 'gapspecies',\n",
       " 'originDate': '2017-09-16T13:10:08.862136',\n",
       " 'originID': ObjectId('59b841be0601bad0b9df0c52')}"
      ]
     },
     "metadata": {},
     "output_type": "display_data"
    },
    {
     "data": {
      "text/plain": [
       "{'itisSearchURL': 'http://services.itis.gov/?wt=json&rows=10&q=tsn:178041',\n",
       " 'originCollection': 'gapspecies',\n",
       " 'originDate': '2017-09-16T13:10:09.040468',\n",
       " 'originID': ObjectId('59b841bf0601bad0b9df0c53')}"
      ]
     },
     "metadata": {},
     "output_type": "display_data"
    },
    {
     "data": {
      "text/plain": [
       "{'itisSearchURL': 'http://services.itis.gov/?wt=json&rows=10&q=tsn:208350',\n",
       " 'originCollection': 'gapspecies',\n",
       " 'originDate': '2017-09-16T13:10:09.220252',\n",
       " 'originID': ObjectId('59b841c00601bad0b9df0c54')}"
      ]
     },
     "metadata": {},
     "output_type": "display_data"
    },
    {
     "data": {
      "text/plain": [
       "{'itisSearchURL': 'http://services.itis.gov/?wt=json&rows=10&q=tsn:668247',\n",
       " 'originCollection': 'gapspecies',\n",
       " 'originDate': '2017-09-16T13:10:09.400765',\n",
       " 'originID': ObjectId('59b841c00601bad0b9df0c55')}"
      ]
     },
     "metadata": {},
     "output_type": "display_data"
    },
    {
     "data": {
      "text/plain": [
       "{'itisSearchURL': 'http://services.itis.gov/?wt=json&rows=10&q=tsn:180224',\n",
       " 'originCollection': 'gapspecies',\n",
       " 'originDate': '2017-09-16T13:10:09.584138',\n",
       " 'originID': ObjectId('59b841c10601bad0b9df0c56')}"
      ]
     },
     "metadata": {},
     "output_type": "display_data"
    },
    {
     "data": {
      "text/plain": [
       "{'itisSearchURL': 'http://services.itis.gov/?wt=json&rows=10&q=tsn:668669',\n",
       " 'originCollection': 'gapspecies',\n",
       " 'originDate': '2017-09-16T13:10:09.772513',\n",
       " 'originID': ObjectId('59b841c20601bad0b9df0c57')}"
      ]
     },
     "metadata": {},
     "output_type": "display_data"
    },
    {
     "data": {
      "text/plain": [
       "{'itisSearchURL': 'http://services.itis.gov/?wt=json&rows=10&q=tsn:174038',\n",
       " 'originCollection': 'gapspecies',\n",
       " 'originDate': '2017-09-16T13:10:09.958855',\n",
       " 'originID': ObjectId('59b841c20601bad0b9df0c58')}"
      ]
     },
     "metadata": {},
     "output_type": "display_data"
    },
    {
     "data": {
      "text/plain": [
       "{'itisSearchURL': 'http://services.itis.gov/?wt=json&rows=10&q=tsn:179975',\n",
       " 'originCollection': 'gapspecies',\n",
       " 'originDate': '2017-09-16T13:10:10.141385',\n",
       " 'originID': ObjectId('59b841c30601bad0b9df0c59')}"
      ]
     },
     "metadata": {},
     "output_type": "display_data"
    },
    {
     "data": {
      "text/plain": [
       "{'itisSearchURL': 'http://services.itis.gov/?wt=json&rows=10&q=tsn:209020',\n",
       " 'originCollection': 'gapspecies',\n",
       " 'originDate': '2017-09-16T13:10:10.322552',\n",
       " 'originID': ObjectId('59b841c40601bad0b9df0c5a')}"
      ]
     },
     "metadata": {},
     "output_type": "display_data"
    },
    {
     "data": {
      "text/plain": [
       "{'itisSearchURL': 'http://services.itis.gov/?wt=json&rows=10&q=tsn:173876',\n",
       " 'originCollection': 'gapspecies',\n",
       " 'originDate': '2017-09-16T13:10:10.506082',\n",
       " 'originID': ObjectId('59b841c40601bad0b9df0c5b')}"
      ]
     },
     "metadata": {},
     "output_type": "display_data"
    },
    {
     "data": {
      "text/plain": [
       "{'itisSearchURL': 'http://services.itis.gov/?wt=json&rows=10&q=tsn:550243',\n",
       " 'originCollection': 'gapspecies',\n",
       " 'originDate': '2017-09-16T13:10:10.696091',\n",
       " 'originID': ObjectId('59b841c50601bad0b9df0c5c')}"
      ]
     },
     "metadata": {},
     "output_type": "display_data"
    },
    {
     "data": {
      "text/plain": [
       "{'itisSearchURL': 'http://services.itis.gov/?wt=json&rows=10&q=tsn:174314',\n",
       " 'originCollection': 'gapspecies',\n",
       " 'originDate': '2017-09-16T13:10:10.876922',\n",
       " 'originID': ObjectId('59b841c60601bad0b9df0c5d')}"
      ]
     },
     "metadata": {},
     "output_type": "display_data"
    },
    {
     "data": {
      "text/plain": [
       "{'itisSearchURL': 'http://services.itis.gov/?wt=json&rows=10&q=tsn:173970',\n",
       " 'originCollection': 'gapspecies',\n",
       " 'originDate': '2017-09-16T13:10:11.060555',\n",
       " 'originID': ObjectId('59b841c70601bad0b9df0c5e')}"
      ]
     },
     "metadata": {},
     "output_type": "display_data"
    },
    {
     "data": {
      "text/plain": [
       "{'itisSearchURL': 'http://services.itis.gov/?wt=json&rows=10&q=tsn:563908',\n",
       " 'originCollection': 'gapspecies',\n",
       " 'originDate': '2017-09-16T13:10:11.243163',\n",
       " 'originID': ObjectId('59b841c80601bad0b9df0c5f')}"
      ]
     },
     "metadata": {},
     "output_type": "display_data"
    },
    {
     "data": {
      "text/plain": [
       "{'itisSearchURL': 'http://services.itis.gov/?wt=json&rows=10&q=tsn:180209',\n",
       " 'originCollection': 'gapspecies',\n",
       " 'originDate': '2017-09-16T13:10:11.426831',\n",
       " 'originID': ObjectId('59b841c90601bad0b9df0c60')}"
      ]
     },
     "metadata": {},
     "output_type": "display_data"
    },
    {
     "data": {
      "text/plain": [
       "{'itisSearchURL': 'http://services.itis.gov/?wt=json&rows=10&q=tsn:173793',\n",
       " 'originCollection': 'gapspecies',\n",
       " 'originDate': '2017-09-16T13:10:12.005826',\n",
       " 'originID': ObjectId('59b841ca0601bad0b9df0c61')}"
      ]
     },
     "metadata": {},
     "output_type": "display_data"
    },
    {
     "data": {
      "text/plain": [
       "{'itisSearchURL': 'http://services.itis.gov/?wt=json&rows=10&q=tsn:209338',\n",
       " 'originCollection': 'gapspecies',\n",
       " 'originDate': '2017-09-16T13:10:12.393932',\n",
       " 'originID': ObjectId('59b841ca0601bad0b9df0c62')}"
      ]
     },
     "metadata": {},
     "output_type": "display_data"
    },
    {
     "data": {
      "text/plain": [
       "{'itisSearchURL': 'http://services.itis.gov/?wt=json&rows=10&q=tsn:173830',\n",
       " 'originCollection': 'gapspecies',\n",
       " 'originDate': '2017-09-16T13:10:12.905795',\n",
       " 'originID': ObjectId('59b841cb0601bad0b9df0c63')}"
      ]
     },
     "metadata": {},
     "output_type": "display_data"
    },
    {
     "data": {
      "text/plain": [
       "{'itisSearchURL': 'http://services.itis.gov/?wt=json&rows=10&q=tsn:179759',\n",
       " 'originCollection': 'gapspecies',\n",
       " 'originDate': '2017-09-16T13:10:13.904240',\n",
       " 'originID': ObjectId('59b841cc0601bad0b9df0c64')}"
      ]
     },
     "metadata": {},
     "output_type": "display_data"
    },
    {
     "data": {
      "text/plain": [
       "{'itisSearchURL': 'http://services.itis.gov/?wt=json&rows=10&q=tsn:180236',\n",
       " 'originCollection': 'gapspecies',\n",
       " 'originDate': '2017-09-16T13:10:14.550532',\n",
       " 'originID': ObjectId('59b841cd0601bad0b9df0c65')}"
      ]
     },
     "metadata": {},
     "output_type": "display_data"
    },
    {
     "data": {
      "text/plain": [
       "{'itisSearchURL': 'http://services.itis.gov/?wt=json&rows=10&q=tsn:180175',\n",
       " 'originCollection': 'gapspecies',\n",
       " 'originDate': '2017-09-16T13:10:15.058435',\n",
       " 'originID': ObjectId('59b841cd0601bad0b9df0c66')}"
      ]
     },
     "metadata": {},
     "output_type": "display_data"
    },
    {
     "data": {
      "text/plain": [
       "{'itisSearchURL': 'http://services.itis.gov/?wt=json&rows=10&q=tsn:173878',\n",
       " 'originCollection': 'gapspecies',\n",
       " 'originDate': '2017-09-16T13:10:15.416505',\n",
       " 'originID': ObjectId('59b841ce0601bad0b9df0c67')}"
      ]
     },
     "metadata": {},
     "output_type": "display_data"
    },
    {
     "data": {
      "text/plain": [
       "{'itisSearchURL': 'http://services.itis.gov/?wt=json&rows=10&q=tsn:173763',\n",
       " 'originCollection': 'gapspecies',\n",
       " 'originDate': '2017-09-16T13:10:15.625567',\n",
       " 'originID': ObjectId('59b841cf0601bad0b9df0c68')}"
      ]
     },
     "metadata": {},
     "output_type": "display_data"
    },
    {
     "data": {
      "text/plain": [
       "{'itisSearchURL': 'http://services.itis.gov/?wt=json&rows=10&q=tsn:173959',\n",
       " 'originCollection': 'gapspecies',\n",
       " 'originDate': '2017-09-16T13:10:15.812944',\n",
       " 'originID': ObjectId('59b841d00601bad0b9df0c69')}"
      ]
     },
     "metadata": {},
     "output_type": "display_data"
    },
    {
     "data": {
      "text/plain": [
       "{'itisSearchURL': 'http://services.itis.gov/?wt=json&rows=10&q=tsn:174232',\n",
       " 'originCollection': 'gapspecies',\n",
       " 'originDate': '2017-09-16T13:10:15.992960',\n",
       " 'originID': ObjectId('59b841d00601bad0b9df0c6a')}"
      ]
     },
     "metadata": {},
     "output_type": "display_data"
    },
    {
     "data": {
      "text/plain": [
       "{'itisSearchURL': 'http://services.itis.gov/?wt=json&rows=10&q=tsn:552479',\n",
       " 'originCollection': 'gapspecies',\n",
       " 'originDate': '2017-09-16T13:10:16.180232',\n",
       " 'originID': ObjectId('59b841d10601bad0b9df0c6b')}"
      ]
     },
     "metadata": {},
     "output_type": "display_data"
    },
    {
     "data": {
      "text/plain": [
       "{'itisSearchURL': 'http://services.itis.gov/?wt=json&rows=10&q=tsn:552479',\n",
       " 'originCollection': 'gapspecies',\n",
       " 'originDate': '2017-09-16T13:10:16.362855',\n",
       " 'originID': ObjectId('59b841d20601bad0b9df0c6c')}"
      ]
     },
     "metadata": {},
     "output_type": "display_data"
    },
    {
     "data": {
      "text/plain": [
       "{'itisSearchURL': 'http://services.itis.gov/?wt=json&rows=10&q=tsn:177831',\n",
       " 'originCollection': 'gapspecies',\n",
       " 'originDate': '2017-09-16T13:10:16.551564',\n",
       " 'originID': ObjectId('59b841d30601bad0b9df0c6d')}"
      ]
     },
     "metadata": {},
     "output_type": "display_data"
    },
    {
     "data": {
      "text/plain": [
       "{'itisSearchURL': 'http://services.itis.gov/?wt=json&rows=10&q=tsn:180122',\n",
       " 'originCollection': 'gapspecies',\n",
       " 'originDate': '2017-09-16T13:10:16.924149',\n",
       " 'originID': ObjectId('59b841d40601bad0b9df0c6e')}"
      ]
     },
     "metadata": {},
     "output_type": "display_data"
    },
    {
     "data": {
      "text/plain": [
       "{'itisSearchURL': 'http://services.itis.gov/?wt=json&rows=10&q=tsn:174026',\n",
       " 'originCollection': 'gapspecies',\n",
       " 'originDate': '2017-09-16T13:10:17.109778',\n",
       " 'originID': ObjectId('59b841d40601bad0b9df0c6f')}"
      ]
     },
     "metadata": {},
     "output_type": "display_data"
    },
    {
     "data": {
      "text/plain": [
       "{'itisSearchURL': 'http://services.itis.gov/?wt=json&rows=10&q=tsn:174281',\n",
       " 'originCollection': 'gapspecies',\n",
       " 'originDate': '2017-09-16T13:10:17.303256',\n",
       " 'originID': ObjectId('59b841d50601bad0b9df0c70')}"
      ]
     },
     "metadata": {},
     "output_type": "display_data"
    },
    {
     "data": {
      "text/plain": [
       "{'itisSearchURL': 'http://services.itis.gov/?wt=json&rows=10&q=tsn:180347',\n",
       " 'originCollection': 'gapspecies',\n",
       " 'originDate': '2017-09-16T13:10:17.489646',\n",
       " 'originID': ObjectId('59b841d60601bad0b9df0c71')}"
      ]
     },
     "metadata": {},
     "output_type": "display_data"
    },
    {
     "data": {
      "text/plain": [
       "{'itisSearchURL': 'http://services.itis.gov/?wt=json&rows=10&q=tsn:175092',\n",
       " 'originCollection': 'gapspecies',\n",
       " 'originDate': '2017-09-16T13:10:17.672957',\n",
       " 'originID': ObjectId('59b841d60601bad0b9df0c72')}"
      ]
     },
     "metadata": {},
     "output_type": "display_data"
    },
    {
     "data": {
      "text/plain": [
       "{'itisSearchURL': 'http://services.itis.gov/?wt=json&rows=10&q=tsn:180062',\n",
       " 'originCollection': 'gapspecies',\n",
       " 'originDate': '2017-09-16T13:10:17.852046',\n",
       " 'originID': ObjectId('59b841d70601bad0b9df0c73')}"
      ]
     },
     "metadata": {},
     "output_type": "display_data"
    },
    {
     "data": {
      "text/plain": [
       "{'itisSearchURL': 'http://services.itis.gov/?wt=json&rows=10&q=tsn:180156',\n",
       " 'originCollection': 'gapspecies',\n",
       " 'originDate': '2017-09-16T13:10:18.039076',\n",
       " 'originID': ObjectId('59b841d70601bad0b9df0c74')}"
      ]
     },
     "metadata": {},
     "output_type": "display_data"
    },
    {
     "data": {
      "text/plain": [
       "{'itisSearchURL': 'http://services.itis.gov/?wt=json&rows=10&q=tsn:554255',\n",
       " 'originCollection': 'gapspecies',\n",
       " 'originDate': '2017-09-16T13:10:18.228775',\n",
       " 'originID': ObjectId('59b841d80601bad0b9df0c75')}"
      ]
     },
     "metadata": {},
     "output_type": "display_data"
    },
    {
     "data": {
      "text/plain": [
       "{'itisSearchURL': 'http://services.itis.gov/?wt=json&rows=10&q=tsn:177839',\n",
       " 'originCollection': 'gapspecies',\n",
       " 'originDate': '2017-09-16T13:10:18.410422',\n",
       " 'originID': ObjectId('59b841d80601bad0b9df0c76')}"
      ]
     },
     "metadata": {},
     "output_type": "display_data"
    },
    {
     "data": {
      "text/plain": [
       "{'itisSearchURL': 'http://services.itis.gov/?wt=json&rows=10&q=tsn:178844',\n",
       " 'originCollection': 'gapspecies',\n",
       " 'originDate': '2017-09-16T13:10:18.621639',\n",
       " 'originID': ObjectId('59b841d90601bad0b9df0c77')}"
      ]
     },
     "metadata": {},
     "output_type": "display_data"
    },
    {
     "data": {
      "text/plain": [
       "{'itisSearchURL': 'http://services.itis.gov/?wt=json&rows=10&q=tsn:174773',\n",
       " 'originCollection': 'gapspecies',\n",
       " 'originDate': '2017-09-16T13:10:18.805997',\n",
       " 'originID': ObjectId('59b841d90601bad0b9df0c78')}"
      ]
     },
     "metadata": {},
     "output_type": "display_data"
    },
    {
     "data": {
      "text/plain": [
       "{'itisSearchURL': 'http://services.itis.gov/?wt=json&rows=10&q=tsn:178637',\n",
       " 'originCollection': 'gapspecies',\n",
       " 'originDate': '2017-09-16T13:10:18.991017',\n",
       " 'originID': ObjectId('59b841da0601bad0b9df0c79')}"
      ]
     },
     "metadata": {},
     "output_type": "display_data"
    },
    {
     "data": {
      "text/plain": [
       "{'itisSearchURL': 'http://services.itis.gov/?wt=json&rows=10&q=tsn:726112',\n",
       " 'originCollection': 'gapspecies',\n",
       " 'originDate': '2017-09-16T13:10:19.177782',\n",
       " 'originID': ObjectId('59b841da0601bad0b9df0c7a')}"
      ]
     },
     "metadata": {},
     "output_type": "display_data"
    },
    {
     "data": {
      "text/plain": [
       "{'itisSearchURL': 'http://services.itis.gov/?wt=json&rows=10&q=tsn:179366',\n",
       " 'originCollection': 'gapspecies',\n",
       " 'originDate': '2017-09-16T13:10:19.364095',\n",
       " 'originID': ObjectId('59b841da0601bad0b9df0c7b')}"
      ]
     },
     "metadata": {},
     "output_type": "display_data"
    },
    {
     "data": {
      "text/plain": [
       "{'itisSearchURL': 'http://services.itis.gov/?wt=json&rows=10&q=tsn:179806',\n",
       " 'originCollection': 'gapspecies',\n",
       " 'originDate': '2017-09-16T13:10:19.546167',\n",
       " 'originID': ObjectId('59b841db0601bad0b9df0c7c')}"
      ]
     },
     "metadata": {},
     "output_type": "display_data"
    },
    {
     "data": {
      "text/plain": [
       "{'itisSearchURL': 'http://services.itis.gov/?wt=json&rows=10&q=tsn:178887',\n",
       " 'originCollection': 'gapspecies',\n",
       " 'originDate': '2017-09-16T13:10:19.729117',\n",
       " 'originID': ObjectId('59b841db0601bad0b9df0c7d')}"
      ]
     },
     "metadata": {},
     "output_type": "display_data"
    },
    {
     "data": {
      "text/plain": [
       "{'itisSearchURL': 'http://services.itis.gov/?wt=json&rows=10&q=tsn:176887',\n",
       " 'originCollection': 'gapspecies',\n",
       " 'originDate': '2017-09-16T13:10:19.910851',\n",
       " 'originID': ObjectId('59b841db0601bad0b9df0c7e')}"
      ]
     },
     "metadata": {},
     "output_type": "display_data"
    },
    {
     "data": {
      "text/plain": [
       "{'itisSearchURL': 'http://services.itis.gov/?wt=json&rows=10&q=tsn:176882',\n",
       " 'originCollection': 'gapspecies',\n",
       " 'originDate': '2017-09-16T13:10:20.097182',\n",
       " 'originID': ObjectId('59b841dc0601bad0b9df0c7f')}"
      ]
     },
     "metadata": {},
     "output_type": "display_data"
    },
    {
     "data": {
      "text/plain": [
       "{'itisSearchURL': 'http://services.itis.gov/?wt=json&rows=10&q=tsn:180698',\n",
       " 'originCollection': 'gapspecies',\n",
       " 'originDate': '2017-09-16T13:10:20.277691',\n",
       " 'originID': ObjectId('59b841dc0601bad0b9df0c80')}"
      ]
     },
     "metadata": {},
     "output_type": "display_data"
    },
    {
     "data": {
      "text/plain": [
       "{'itisSearchURL': 'http://services.itis.gov/?wt=json&rows=10&q=tsn:179667',\n",
       " 'originCollection': 'gapspecies',\n",
       " 'originDate': '2017-09-16T13:10:20.479681',\n",
       " 'originID': ObjectId('59b841dd0601bad0b9df0c81')}"
      ]
     },
     "metadata": {},
     "output_type": "display_data"
    },
    {
     "data": {
      "text/plain": [
       "{'itisSearchURL': 'http://services.itis.gov/?wt=json&rows=10&q=tsn:175365',\n",
       " 'originCollection': 'gapspecies',\n",
       " 'originDate': '2017-09-16T13:10:20.661937',\n",
       " 'originID': ObjectId('59b841de0601bad0b9df0c82')}"
      ]
     },
     "metadata": {},
     "output_type": "display_data"
    },
    {
     "data": {
      "text/plain": [
       "{'itisSearchURL': 'http://services.itis.gov/?wt=json&rows=10&q=tsn:179977',\n",
       " 'originCollection': 'gapspecies',\n",
       " 'originDate': '2017-09-16T13:10:20.847179',\n",
       " 'originID': ObjectId('59b841de0601bad0b9df0c83')}"
      ]
     },
     "metadata": {},
     "output_type": "display_data"
    },
    {
     "data": {
      "text/plain": [
       "{'itisSearchURL': 'http://services.itis.gov/?wt=json&rows=10&q=tsn:179883',\n",
       " 'originCollection': 'gapspecies',\n",
       " 'originDate': '2017-09-16T13:10:21.055350',\n",
       " 'originID': ObjectId('59b841de0601bad0b9df0c84')}"
      ]
     },
     "metadata": {},
     "output_type": "display_data"
    },
    {
     "data": {
      "text/plain": [
       "{'itisSearchURL': 'http://services.itis.gov/?wt=json&rows=10&q=tsn:176506',\n",
       " 'originCollection': 'gapspecies',\n",
       " 'originDate': '2017-09-16T13:10:21.239587',\n",
       " 'originID': ObjectId('59b841df0601bad0b9df0c85')}"
      ]
     },
     "metadata": {},
     "output_type": "display_data"
    },
    {
     "data": {
      "text/plain": [
       "{'itisSearchURL': 'http://services.itis.gov/?wt=json&rows=10&q=tsn:179448',\n",
       " 'originCollection': 'gapspecies',\n",
       " 'originDate': '2017-09-16T13:10:21.521114',\n",
       " 'originID': ObjectId('59b841df0601bad0b9df0c86')}"
      ]
     },
     "metadata": {},
     "output_type": "display_data"
    },
    {
     "data": {
      "text/plain": [
       "{'itisSearchURL': 'http://services.itis.gov/?wt=json&rows=10&q=tsn:179395',\n",
       " 'originCollection': 'gapspecies',\n",
       " 'originDate': '2017-09-16T13:10:22.003688',\n",
       " 'originID': ObjectId('59b841e00601bad0b9df0c87')}"
      ]
     },
     "metadata": {},
     "output_type": "display_data"
    },
    {
     "data": {
      "text/plain": [
       "{'itisSearchURL': 'http://services.itis.gov/?wt=json&rows=10&q=tsn:178888',\n",
       " 'originCollection': 'gapspecies',\n",
       " 'originDate': '2017-09-16T13:10:22.501874',\n",
       " 'originID': ObjectId('59b841e00601bad0b9df0c88')}"
      ]
     },
     "metadata": {},
     "output_type": "display_data"
    },
    {
     "data": {
      "text/plain": [
       "{'itisSearchURL': 'http://services.itis.gov/?wt=json&rows=10&q=tsn:554375',\n",
       " 'originCollection': 'gapspecies',\n",
       " 'originDate': '2017-09-16T13:10:22.995707',\n",
       " 'originID': ObjectId('59b841e10601bad0b9df0c89')}"
      ]
     },
     "metadata": {},
     "output_type": "display_data"
    },
    {
     "data": {
      "text/plain": [
       "{'itisSearchURL': 'http://services.itis.gov/?wt=json&rows=10&q=tsn:179117',\n",
       " 'originCollection': 'gapspecies',\n",
       " 'originDate': '2017-09-16T13:10:23.485936',\n",
       " 'originID': ObjectId('59b841e10601bad0b9df0c8a')}"
      ]
     },
     "metadata": {},
     "output_type": "display_data"
    },
    {
     "data": {
      "text/plain": [
       "{'itisSearchURL': 'http://services.itis.gov/?wt=json&rows=10&q=tsn:174813',\n",
       " 'originCollection': 'gapspecies',\n",
       " 'originDate': '2017-09-16T13:10:23.953942',\n",
       " 'originID': ObjectId('59b841e20601bad0b9df0c8b')}"
      ]
     },
     "metadata": {},
     "output_type": "display_data"
    },
    {
     "data": {
      "text/plain": [
       "{'itisSearchURL': 'http://services.itis.gov/?wt=json&rows=10&q=tsn:180150',\n",
       " 'originCollection': 'gapspecies',\n",
       " 'originDate': '2017-09-16T13:10:24.468619',\n",
       " 'originID': ObjectId('59b841e20601bad0b9df0c8c')}"
      ]
     },
     "metadata": {},
     "output_type": "display_data"
    },
    {
     "data": {
      "text/plain": [
       "{'itisSearchURL': 'http://services.itis.gov/?wt=json&rows=10&q=tsn:178979',\n",
       " 'originCollection': 'gapspecies',\n",
       " 'originDate': '2017-09-16T13:10:25.118773',\n",
       " 'originID': ObjectId('59b841e30601bad0b9df0c8d')}"
      ]
     },
     "metadata": {},
     "output_type": "display_data"
    },
    {
     "data": {
      "text/plain": [
       "{'itisSearchURL': 'http://services.itis.gov/?wt=json&rows=10&q=tsn:175145',\n",
       " 'originCollection': 'gapspecies',\n",
       " 'originDate': '2017-09-16T13:10:25.303843',\n",
       " 'originID': ObjectId('59b841e30601bad0b9df0c8e')}"
      ]
     },
     "metadata": {},
     "output_type": "display_data"
    },
    {
     "data": {
      "text/plain": [
       "{'itisSearchURL': 'http://services.itis.gov/?wt=json&rows=10&q=tsn:176673',\n",
       " 'originCollection': 'gapspecies',\n",
       " 'originDate': '2017-09-16T13:10:25.495814',\n",
       " 'originID': ObjectId('59b841e30601bad0b9df0c8f')}"
      ]
     },
     "metadata": {},
     "output_type": "display_data"
    },
    {
     "data": {
      "text/plain": [
       "{'itisSearchURL': 'http://services.itis.gov/?wt=json&rows=10&q=tsn:180348',\n",
       " 'originCollection': 'gapspecies',\n",
       " 'originDate': '2017-09-16T13:10:25.700374',\n",
       " 'originID': ObjectId('59b841e40601bad0b9df0c90')}"
      ]
     },
     "metadata": {},
     "output_type": "display_data"
    },
    {
     "data": {
      "text/plain": [
       "{'itisSearchURL': 'http://services.itis.gov/?wt=json&rows=10&q=tsn:180180',\n",
       " 'originCollection': 'gapspecies',\n",
       " 'originDate': '2017-09-16T13:10:25.881277',\n",
       " 'originID': ObjectId('59b841e40601bad0b9df0c91')}"
      ]
     },
     "metadata": {},
     "output_type": "display_data"
    },
    {
     "data": {
      "text/plain": [
       "{'itisSearchURL': 'http://services.itis.gov/?wt=json&rows=10&q=tsn:176996',\n",
       " 'originCollection': 'gapspecies',\n",
       " 'originDate': '2017-09-16T13:10:26.069248',\n",
       " 'originID': ObjectId('59b841e50601bad0b9df0c92')}"
      ]
     },
     "metadata": {},
     "output_type": "display_data"
    },
    {
     "data": {
      "text/plain": [
       "{'itisSearchURL': 'http://services.itis.gov/?wt=json&rows=10&q=tsn:177125',\n",
       " 'originCollection': 'gapspecies',\n",
       " 'originDate': '2017-09-16T13:10:26.256712',\n",
       " 'originID': ObjectId('59b841e50601bad0b9df0c93')}"
      ]
     },
     "metadata": {},
     "output_type": "display_data"
    },
    {
     "data": {
      "text/plain": [
       "{'itisSearchURL': 'http://services.itis.gov/?wt=json&rows=10&q=tsn:173525',\n",
       " 'originCollection': 'gapspecies',\n",
       " 'originDate': '2017-09-16T13:10:26.441994',\n",
       " 'originID': ObjectId('59b841e60601bad0b9df0c94')}"
      ]
     },
     "metadata": {},
     "output_type": "display_data"
    },
    {
     "data": {
      "text/plain": [
       "{'itisSearchURL': 'http://services.itis.gov/?wt=json&rows=10&q=tsn:176824',\n",
       " 'originCollection': 'gapspecies',\n",
       " 'originDate': '2017-09-16T13:10:26.634267',\n",
       " 'originID': ObjectId('59b841e60601bad0b9df0c95')}"
      ]
     },
     "metadata": {},
     "output_type": "display_data"
    },
    {
     "data": {
      "text/plain": [
       "{'itisSearchURL': 'http://services.itis.gov/?wt=json&rows=10&q=tsn:554256',\n",
       " 'originCollection': 'gapspecies',\n",
       " 'originDate': '2017-09-16T13:10:26.816423',\n",
       " 'originID': ObjectId('59b841e70601bad0b9df0c96')}"
      ]
     },
     "metadata": {},
     "output_type": "display_data"
    },
    {
     "data": {
      "text/plain": [
       "{'itisSearchURL': 'http://services.itis.gov/?wt=json&rows=10&q=tsn:178997',\n",
       " 'originCollection': 'gapspecies',\n",
       " 'originDate': '2017-09-16T13:10:27.000068',\n",
       " 'originID': ObjectId('59b841e70601bad0b9df0c97')}"
      ]
     },
     "metadata": {},
     "output_type": "display_data"
    },
    {
     "data": {
      "text/plain": [
       "{'itisSearchURL': 'http://services.itis.gov/?wt=json&rows=10&q=tsn:178645',\n",
       " 'originCollection': 'gapspecies',\n",
       " 'originDate': '2017-09-16T13:10:27.182996',\n",
       " 'originID': ObjectId('59b841e80601bad0b9df0c98')}"
      ]
     },
     "metadata": {},
     "output_type": "display_data"
    },
    {
     "data": {
      "text/plain": [
       "{'itisSearchURL': 'http://services.itis.gov/?wt=json&rows=10&q=tsn:178196',\n",
       " 'originCollection': 'gapspecies',\n",
       " 'originDate': '2017-09-16T13:10:27.364869',\n",
       " 'originID': ObjectId('59b841e80601bad0b9df0c99')}"
      ]
     },
     "metadata": {},
     "output_type": "display_data"
    },
    {
     "data": {
      "text/plain": [
       "{'itisSearchURL': 'http://services.itis.gov/?wt=json&rows=10&q=tsn:775113',\n",
       " 'originCollection': 'gapspecies',\n",
       " 'originDate': '2017-09-16T13:10:27.565761',\n",
       " 'originID': ObjectId('59b841e90601bad0b9df0c9a')}"
      ]
     },
     "metadata": {},
     "output_type": "display_data"
    },
    {
     "data": {
      "text/plain": [
       "{'itisSearchURL': 'http://services.itis.gov/?wt=json&rows=10&q=tsn:173578',\n",
       " 'originCollection': 'gapspecies',\n",
       " 'originDate': '2017-09-16T13:10:27.752958',\n",
       " 'originID': ObjectId('59b841e90601bad0b9df0c9b')}"
      ]
     },
     "metadata": {},
     "output_type": "display_data"
    },
    {
     "data": {
      "text/plain": [
       "{'itisSearchURL': 'http://services.itis.gov/?wt=json&rows=10&q=tsn:175128',\n",
       " 'originCollection': 'gapspecies',\n",
       " 'originDate': '2017-09-16T13:10:27.934446',\n",
       " 'originID': ObjectId('59b841ea0601bad0b9df0c9c')}"
      ]
     },
     "metadata": {},
     "output_type": "display_data"
    },
    {
     "data": {
      "text/plain": [
       "{'itisSearchURL': 'http://services.itis.gov/?wt=json&rows=10&q=tsn:176207',\n",
       " 'originCollection': 'gapspecies',\n",
       " 'originDate': '2017-09-16T13:10:28.125895',\n",
       " 'originID': ObjectId('59b841ea0601bad0b9df0c9d')}"
      ]
     },
     "metadata": {},
     "output_type": "display_data"
    },
    {
     "data": {
      "text/plain": [
       "{'itisSearchURL': 'http://services.itis.gov/?wt=json&rows=10&q=tsn:178050',\n",
       " 'originCollection': 'gapspecies',\n",
       " 'originDate': '2017-09-16T13:10:28.306704',\n",
       " 'originID': ObjectId('59b841eb0601bad0b9df0c9e')}"
      ]
     },
     "metadata": {},
     "output_type": "display_data"
    },
    {
     "data": {
      "text/plain": [
       "{'itisSearchURL': 'http://services.itis.gov/?wt=json&rows=10&q=tsn:173715',\n",
       " 'originCollection': 'gapspecies',\n",
       " 'originDate': '2017-09-16T13:10:28.489248',\n",
       " 'originID': ObjectId('59b841ec0601bad0b9df0c9f')}"
      ]
     },
     "metadata": {},
     "output_type": "display_data"
    },
    {
     "data": {
      "text/plain": [
       "{'itisSearchURL': 'http://services.itis.gov/?wt=json&rows=10&q=tsn:173667',\n",
       " 'originCollection': 'gapspecies',\n",
       " 'originDate': '2017-09-16T13:10:28.673136',\n",
       " 'originID': ObjectId('59b841ec0601bad0b9df0ca0')}"
      ]
     },
     "metadata": {},
     "output_type": "display_data"
    },
    {
     "data": {
      "text/plain": [
       "{'itisSearchURL': 'http://services.itis.gov/?wt=json&rows=10&q=tsn:173799',\n",
       " 'originCollection': 'gapspecies',\n",
       " 'originDate': '2017-09-16T13:10:28.856371',\n",
       " 'originID': ObjectId('59b841ed0601bad0b9df0ca1')}"
      ]
     },
     "metadata": {},
     "output_type": "display_data"
    },
    {
     "data": {
      "text/plain": [
       "{'itisSearchURL': 'http://services.itis.gov/?wt=json&rows=10&q=tsn:174143',\n",
       " 'originCollection': 'gapspecies',\n",
       " 'originDate': '2017-09-16T13:10:29.041075',\n",
       " 'originID': ObjectId('59b841ed0601bad0b9df0ca2')}"
      ]
     },
     "metadata": {},
     "output_type": "display_data"
    },
    {
     "data": {
      "text/plain": [
       "{'itisSearchURL': 'http://services.itis.gov/?wt=json&rows=10&q=tsn:175855',\n",
       " 'originCollection': 'gapspecies',\n",
       " 'originDate': '2017-09-16T13:10:29.230332',\n",
       " 'originID': ObjectId('59b841ee0601bad0b9df0ca3')}"
      ]
     },
     "metadata": {},
     "output_type": "display_data"
    },
    {
     "data": {
      "text/plain": [
       "{'itisSearchURL': 'http://services.itis.gov/?wt=json&rows=10&q=tsn:173801',\n",
       " 'originCollection': 'gapspecies',\n",
       " 'originDate': '2017-09-16T13:10:29.440975',\n",
       " 'originID': ObjectId('59b841ef0601bad0b9df0ca4')}"
      ]
     },
     "metadata": {},
     "output_type": "display_data"
    },
    {
     "data": {
      "text/plain": [
       "{'itisSearchURL': 'http://services.itis.gov/?wt=json&rows=10&q=tsn:174169',\n",
       " 'originCollection': 'gapspecies',\n",
       " 'originDate': '2017-09-16T13:10:29.622886',\n",
       " 'originID': ObjectId('59b841ef0601bad0b9df0ca5')}"
      ]
     },
     "metadata": {},
     "output_type": "display_data"
    },
    {
     "data": {
      "text/plain": [
       "{'itisSearchURL': 'http://services.itis.gov/?wt=json&rows=10&q=tsn:173703',\n",
       " 'originCollection': 'gapspecies',\n",
       " 'originDate': '2017-09-16T13:10:29.802578',\n",
       " 'originID': ObjectId('59b841f00601bad0b9df0ca6')}"
      ]
     },
     "metadata": {},
     "output_type": "display_data"
    },
    {
     "data": {
      "text/plain": [
       "{'itisSearchURL': 'http://services.itis.gov/?wt=json&rows=10&q=tsn:173633',\n",
       " 'originCollection': 'gapspecies',\n",
       " 'originDate': '2017-09-16T13:10:29.988152',\n",
       " 'originID': ObjectId('59b841f00601bad0b9df0ca7')}"
      ]
     },
     "metadata": {},
     "output_type": "display_data"
    },
    {
     "data": {
      "text/plain": [
       "{'itisSearchURL': 'http://services.itis.gov/?wt=json&rows=10&q=tsn:173697',\n",
       " 'originCollection': 'gapspecies',\n",
       " 'originDate': '2017-09-16T13:10:30.167364',\n",
       " 'originID': ObjectId('59b841f10601bad0b9df0ca8')}"
      ]
     },
     "metadata": {},
     "output_type": "display_data"
    },
    {
     "data": {
      "text/plain": [
       "{'itisSearchURL': 'http://services.itis.gov/?wt=json&rows=10&q=tsn:173536',\n",
       " 'originCollection': 'gapspecies',\n",
       " 'originDate': '2017-09-16T13:10:30.359083',\n",
       " 'originID': ObjectId('59b841f20601bad0b9df0ca9')}"
      ]
     },
     "metadata": {},
     "output_type": "display_data"
    },
    {
     "data": {
      "text/plain": [
       "{'itisSearchURL': 'http://services.itis.gov/?wt=json&rows=10&q=tsn:174005',\n",
       " 'originCollection': 'gapspecies',\n",
       " 'originDate': '2017-09-16T13:10:30.542412',\n",
       " 'originID': ObjectId('59b841f20601bad0b9df0caa')}"
      ]
     },
     "metadata": {},
     "output_type": "display_data"
    },
    {
     "data": {
      "text/plain": [
       "{'itisSearchURL': 'http://services.itis.gov/?wt=json&rows=10&q=tsn:176897',\n",
       " 'originCollection': 'gapspecies',\n",
       " 'originDate': '2017-09-16T13:10:30.722545',\n",
       " 'originID': ObjectId('59b841f30601bad0b9df0cab')}"
      ]
     },
     "metadata": {},
     "output_type": "display_data"
    },
    {
     "data": {
      "text/plain": [
       "{'itisSearchURL': 'http://services.itis.gov/?wt=json&rows=10&q=tsn:668239',\n",
       " 'originCollection': 'gapspecies',\n",
       " 'originDate': '2017-09-16T13:10:30.902345',\n",
       " 'originID': ObjectId('59b841f30601bad0b9df0cac')}"
      ]
     },
     "metadata": {},
     "output_type": "display_data"
    },
    {
     "data": {
      "text/plain": [
       "{'itisSearchURL': 'http://services.itis.gov/?wt=json&rows=10&q=tsn:178258',\n",
       " 'originCollection': 'gapspecies',\n",
       " 'originDate': '2017-09-16T13:10:31.088409',\n",
       " 'originID': ObjectId('59b841f40601bad0b9df0cad')}"
      ]
     },
     "metadata": {},
     "output_type": "display_data"
    },
    {
     "data": {
      "text/plain": [
       "{'itisSearchURL': 'http://services.itis.gov/?wt=json&rows=10&q=tsn:174987',\n",
       " 'originCollection': 'gapspecies',\n",
       " 'originDate': '2017-09-16T13:10:31.786905',\n",
       " 'originID': ObjectId('59b841f40601bad0b9df0cae')}"
      ]
     },
     "metadata": {},
     "output_type": "display_data"
    },
    {
     "data": {
      "text/plain": [
       "{'itisSearchURL': 'http://services.itis.gov/?wt=json&rows=10&q=tsn:180173',\n",
       " 'originCollection': 'gapspecies',\n",
       " 'originDate': '2017-09-16T13:10:32.300335',\n",
       " 'originID': ObjectId('59b841f50601bad0b9df0caf')}"
      ]
     },
     "metadata": {},
     "output_type": "display_data"
    },
    {
     "data": {
      "text/plain": [
       "{'itisSearchURL': 'http://services.itis.gov/?wt=json&rows=10&q=tsn:176890',\n",
       " 'originCollection': 'gapspecies',\n",
       " 'originDate': '2017-09-16T13:10:32.758180',\n",
       " 'originID': ObjectId('59b841f60601bad0b9df0cb0')}"
      ]
     },
     "metadata": {},
     "output_type": "display_data"
    },
    {
     "data": {
      "text/plain": [
       "{'itisSearchURL': 'http://services.itis.gov/?wt=json&rows=10&q=tsn:686662',\n",
       " 'originCollection': 'gapspecies',\n",
       " 'originDate': '2017-09-16T13:10:33.276522',\n",
       " 'originID': ObjectId('59b841f70601bad0b9df0cb1')}"
      ]
     },
     "metadata": {},
     "output_type": "display_data"
    },
    {
     "data": {
      "text/plain": [
       "{'itisSearchURL': 'http://services.itis.gov/?wt=json&rows=10&q=tsn:554477',\n",
       " 'originCollection': 'gapspecies',\n",
       " 'originDate': '2017-09-16T13:10:34.102010',\n",
       " 'originID': ObjectId('59b841f70601bad0b9df0cb2')}"
      ]
     },
     "metadata": {},
     "output_type": "display_data"
    },
    {
     "data": {
      "text/plain": [
       "{'itisSearchURL': 'http://services.itis.gov/?wt=json&rows=10&q=tsn:175430',\n",
       " 'originCollection': 'gapspecies',\n",
       " 'originDate': '2017-09-16T13:10:34.741726',\n",
       " 'originID': ObjectId('59b841f80601bad0b9df0cb3')}"
      ]
     },
     "metadata": {},
     "output_type": "display_data"
    },
    {
     "data": {
      "text/plain": [
       "{'itisSearchURL': 'http://services.itis.gov/?wt=json&rows=10&q=tsn:550248',\n",
       " 'originCollection': 'gapspecies',\n",
       " 'originDate': '2017-09-16T13:10:35.032216',\n",
       " 'originID': ObjectId('59b841f90601bad0b9df0cb4')}"
      ]
     },
     "metadata": {},
     "output_type": "display_data"
    },
    {
     "data": {
      "text/plain": [
       "{'itisSearchURL': 'http://services.itis.gov/?wt=json&rows=10&q=tsn:668318',\n",
       " 'originCollection': 'gapspecies',\n",
       " 'originDate': '2017-09-16T13:10:35.226790',\n",
       " 'originID': ObjectId('59b841f90601bad0b9df0cb5')}"
      ]
     },
     "metadata": {},
     "output_type": "display_data"
    },
    {
     "data": {
      "text/plain": [
       "{'itisSearchURL': 'http://services.itis.gov/?wt=json&rows=10&q=tsn:175604',\n",
       " 'originCollection': 'gapspecies',\n",
       " 'originDate': '2017-09-16T13:10:35.409761',\n",
       " 'originID': ObjectId('59b841fa0601bad0b9df0cb6')}"
      ]
     },
     "metadata": {},
     "output_type": "display_data"
    },
    {
     "data": {
      "text/plain": [
       "{'itisSearchURL': 'http://services.itis.gov/?wt=json&rows=10&q=tsn:554221',\n",
       " 'originCollection': 'gapspecies',\n",
       " 'originDate': '2017-09-16T13:10:35.600591',\n",
       " 'originID': ObjectId('59b841fb0601bad0b9df0cb7')}"
      ]
     },
     "metadata": {},
     "output_type": "display_data"
    },
    {
     "data": {
      "text/plain": [
       "{'itisSearchURL': 'http://services.itis.gov/?wt=json&rows=10&q=tsn:180695',\n",
       " 'originCollection': 'gapspecies',\n",
       " 'originDate': '2017-09-16T13:10:35.805012',\n",
       " 'originID': ObjectId('59b841fb0601bad0b9df0cb8')}"
      ]
     },
     "metadata": {},
     "output_type": "display_data"
    },
    {
     "data": {
      "text/plain": [
       "{'itisSearchURL': 'http://services.itis.gov/?wt=json&rows=10&q=nameWOInd:Heterodon\\\\%20gloydi',\n",
       " 'originCollection': 'gapspecies',\n",
       " 'originDate': '2017-09-16T13:10:35.991127',\n",
       " 'originID': ObjectId('59b841fc0601bad0b9df0cb9')}"
      ]
     },
     "metadata": {},
     "output_type": "display_data"
    },
    {
     "data": {
      "text/plain": [
       "{'itisSearchURL': 'http://services.itis.gov/?wt=json&rows=10&q=tsn:179064',\n",
       " 'originCollection': 'gapspecies',\n",
       " 'originDate': '2017-09-16T13:10:36.173914',\n",
       " 'originID': ObjectId('59b841fc0601bad0b9df0cba')}"
      ]
     },
     "metadata": {},
     "output_type": "display_data"
    },
    {
     "data": {
      "text/plain": [
       "{'itisSearchURL': 'http://services.itis.gov/?wt=json&rows=10&q=tsn:178914',\n",
       " 'originCollection': 'gapspecies',\n",
       " 'originDate': '2017-09-16T13:10:36.368589',\n",
       " 'originID': ObjectId('59b841fd0601bad0b9df0cbb')}"
      ]
     },
     "metadata": {},
     "output_type": "display_data"
    },
    {
     "data": {
      "text/plain": [
       "{'itisSearchURL': 'http://services.itis.gov/?wt=json&rows=10&q=tsn:175603',\n",
       " 'originCollection': 'gapspecies',\n",
       " 'originDate': '2017-09-16T13:10:36.557802',\n",
       " 'originID': ObjectId('59b841fd0601bad0b9df0cbc')}"
      ]
     },
     "metadata": {},
     "output_type": "display_data"
    },
    {
     "data": {
      "text/plain": [
       "{'itisSearchURL': 'http://services.itis.gov/?wt=json&rows=10&q=tsn:179186',\n",
       " 'originCollection': 'gapspecies',\n",
       " 'originDate': '2017-09-16T13:10:36.740669',\n",
       " 'originID': ObjectId('59b841fe0601bad0b9df0cbd')}"
      ]
     },
     "metadata": {},
     "output_type": "display_data"
    },
    {
     "data": {
      "text/plain": [
       "{'itisSearchURL': 'http://services.itis.gov/?wt=json&rows=10&q=tsn:179736',\n",
       " 'originCollection': 'gapspecies',\n",
       " 'originDate': '2017-09-16T13:10:36.929340',\n",
       " 'originID': ObjectId('59b841fe0601bad0b9df0cbe')}"
      ]
     },
     "metadata": {},
     "output_type": "display_data"
    },
    {
     "data": {
      "text/plain": [
       "{'itisSearchURL': 'http://services.itis.gov/?wt=json&rows=10&q=tsn:178464',\n",
       " 'originCollection': 'gapspecies',\n",
       " 'originDate': '2017-09-16T13:10:37.111882',\n",
       " 'originID': ObjectId('59b841fe0601bad0b9df0cbf')}"
      ]
     },
     "metadata": {},
     "output_type": "display_data"
    },
    {
     "data": {
      "text/plain": [
       "{'itisSearchURL': 'http://services.itis.gov/?wt=json&rows=10&q=tsn:178912',\n",
       " 'originCollection': 'gapspecies',\n",
       " 'originDate': '2017-09-16T13:10:37.302439',\n",
       " 'originID': ObjectId('59b841ff0601bad0b9df0cc0')}"
      ]
     },
     "metadata": {},
     "output_type": "display_data"
    },
    {
     "data": {
      "text/plain": [
       "{'itisSearchURL': 'http://services.itis.gov/?wt=json&rows=10&q=tsn:208287',\n",
       " 'originCollection': 'gapspecies',\n",
       " 'originDate': '2017-09-16T13:10:37.495458',\n",
       " 'originID': ObjectId('59b841ff0601bad0b9df0cc1')}"
      ]
     },
     "metadata": {},
     "output_type": "display_data"
    },
    {
     "data": {
      "text/plain": [
       "{'itisSearchURL': 'http://services.itis.gov/?wt=json&rows=10&q=tsn:178189',\n",
       " 'originCollection': 'gapspecies',\n",
       " 'originDate': '2017-09-16T13:10:37.684257',\n",
       " 'originID': ObjectId('59b842000601bad0b9df0cc2')}"
      ]
     },
     "metadata": {},
     "output_type": "display_data"
    },
    {
     "data": {
      "text/plain": [
       "{'itisSearchURL': 'http://services.itis.gov/?wt=json&rows=10&q=tsn:178036',\n",
       " 'originCollection': 'gapspecies',\n",
       " 'originDate': '2017-09-16T13:10:37.891106',\n",
       " 'originID': ObjectId('59b842000601bad0b9df0cc3')}"
      ]
     },
     "metadata": {},
     "output_type": "display_data"
    },
    {
     "data": {
      "text/plain": [
       "{'itisSearchURL': 'http://services.itis.gov/?wt=json&rows=10&q=tsn:208677',\n",
       " 'originCollection': 'gapspecies',\n",
       " 'originDate': '2017-09-16T13:10:38.080118',\n",
       " 'originID': ObjectId('59b842000601bad0b9df0cc4')}"
      ]
     },
     "metadata": {},
     "output_type": "display_data"
    },
    {
     "data": {
      "text/plain": [
       "{'itisSearchURL': 'http://services.itis.gov/?wt=json&rows=10&q=tsn:174237',\n",
       " 'originCollection': 'gapspecies',\n",
       " 'originDate': '2017-09-16T13:10:38.264180',\n",
       " 'originID': ObjectId('59b842010601bad0b9df0cc5')}"
      ]
     },
     "metadata": {},
     "output_type": "display_data"
    },
    {
     "data": {
      "text/plain": [
       "{'itisSearchURL': 'http://services.itis.gov/?wt=json&rows=10&q=tsn:209370',\n",
       " 'originCollection': 'gapspecies',\n",
       " 'originDate': '2017-09-16T13:10:38.461339',\n",
       " 'originID': ObjectId('59b842020601bad0b9df0cc6')}"
      ]
     },
     "metadata": {},
     "output_type": "display_data"
    },
    {
     "data": {
      "text/plain": [
       "{'itisSearchURL': 'http://services.itis.gov/?wt=json&rows=10&q=tsn:174138',\n",
       " 'originCollection': 'gapspecies',\n",
       " 'originDate': '2017-09-16T13:10:38.664870',\n",
       " 'originID': ObjectId('59b842020601bad0b9df0cc7')}"
      ]
     },
     "metadata": {},
     "output_type": "display_data"
    },
    {
     "data": {
      "text/plain": [
       "{'itisSearchURL': 'http://services.itis.gov/?wt=json&rows=10&q=tsn:208344',\n",
       " 'originCollection': 'gapspecies',\n",
       " 'originDate': '2017-09-16T13:10:38.844001',\n",
       " 'originID': ObjectId('59b842030601bad0b9df0cc8')}"
      ]
     },
     "metadata": {},
     "output_type": "display_data"
    },
    {
     "data": {
      "text/plain": [
       "{'itisSearchURL': 'http://services.itis.gov/?wt=json&rows=10&q=tsn:173518',\n",
       " 'originCollection': 'gapspecies',\n",
       " 'originDate': '2017-09-16T13:10:39.034265',\n",
       " 'originID': ObjectId('59b842030601bad0b9df0cc9')}"
      ]
     },
     "metadata": {},
     "output_type": "display_data"
    },
    {
     "data": {
      "text/plain": [
       "{'itisSearchURL': 'http://services.itis.gov/?wt=json&rows=10&q=tsn:775087',\n",
       " 'originCollection': 'gapspecies',\n",
       " 'originDate': '2017-09-16T13:10:39.232592',\n",
       " 'originID': ObjectId('59b842040601bad0b9df0cca')}"
      ]
     },
     "metadata": {},
     "output_type": "display_data"
    },
    {
     "data": {
      "text/plain": [
       "{'itisSearchURL': 'http://services.itis.gov/?wt=json&rows=10&q=tsn:773527',\n",
       " 'originCollection': 'gapspecies',\n",
       " 'originDate': '2017-09-16T13:10:39.458168',\n",
       " 'originID': ObjectId('59b842040601bad0b9df0ccb')}"
      ]
     },
     "metadata": {},
     "output_type": "display_data"
    },
    {
     "data": {
      "text/plain": [
       "{'itisSearchURL': 'http://services.itis.gov/?wt=json&rows=10&q=tsn:173640',\n",
       " 'originCollection': 'gapspecies',\n",
       " 'originDate': '2017-09-16T13:10:39.646338',\n",
       " 'originID': ObjectId('59b842050601bad0b9df0ccc')}"
      ]
     },
     "metadata": {},
     "output_type": "display_data"
    },
    {
     "data": {
      "text/plain": [
       "{'itisSearchURL': 'http://services.itis.gov/?wt=json&rows=10&q=tsn:174261',\n",
       " 'originCollection': 'gapspecies',\n",
       " 'originDate': '2017-09-16T13:10:39.835137',\n",
       " 'originID': ObjectId('59b842060601bad0b9df0ccd')}"
      ]
     },
     "metadata": {},
     "output_type": "display_data"
    },
    {
     "data": {
      "text/plain": [
       "{'itisSearchURL': 'http://services.itis.gov/?wt=json&rows=10&q=tsn:174260',\n",
       " 'originCollection': 'gapspecies',\n",
       " 'originDate': '2017-09-16T13:10:40.017820',\n",
       " 'originID': ObjectId('59b842070601bad0b9df0cce')}"
      ]
     },
     "metadata": {},
     "output_type": "display_data"
    },
    {
     "data": {
      "text/plain": [
       "{'itisSearchURL': 'http://services.itis.gov/?wt=json&rows=10&q=tsn:180255',\n",
       " 'originCollection': 'gapspecies',\n",
       " 'originDate': '2017-09-16T13:10:40.208827',\n",
       " 'originID': ObjectId('59b842080601bad0b9df0ccf')}"
      ]
     },
     "metadata": {},
     "output_type": "display_data"
    },
    {
     "data": {
      "text/plain": [
       "{'itisSearchURL': 'http://services.itis.gov/?wt=json&rows=10&q=tsn:180307',\n",
       " 'originCollection': 'gapspecies',\n",
       " 'originDate': '2017-09-16T13:10:40.392820',\n",
       " 'originID': ObjectId('59b842080601bad0b9df0cd0')}"
      ]
     },
     "metadata": {},
     "output_type": "display_data"
    },
    {
     "data": {
      "text/plain": [
       "{'itisSearchURL': 'http://services.itis.gov/?wt=json&rows=10&q=tsn:178338',\n",
       " 'originCollection': 'gapspecies',\n",
       " 'originDate': '2017-09-16T13:10:40.592818',\n",
       " 'originID': ObjectId('59b842090601bad0b9df0cd1')}"
      ]
     },
     "metadata": {},
     "output_type": "display_data"
    },
    {
     "data": {
      "text/plain": [
       "{'itisSearchURL': 'http://services.itis.gov/?wt=json&rows=10&q=tsn:179043',\n",
       " 'originCollection': 'gapspecies',\n",
       " 'originDate': '2017-09-16T13:10:40.777834',\n",
       " 'originID': ObjectId('59b842090601bad0b9df0cd2')}"
      ]
     },
     "metadata": {},
     "output_type": "display_data"
    },
    {
     "data": {
      "text/plain": [
       "{'itisSearchURL': 'http://services.itis.gov/?wt=json&rows=10&q=tsn:180230',\n",
       " 'originCollection': 'gapspecies',\n",
       " 'originDate': '2017-09-16T13:10:41.079638',\n",
       " 'originID': ObjectId('59b8420a0601bad0b9df0cd3')}"
      ]
     },
     "metadata": {},
     "output_type": "display_data"
    },
    {
     "data": {
      "text/plain": [
       "{'itisSearchURL': 'http://services.itis.gov/?wt=json&rows=10&q=tsn:180187',\n",
       " 'originCollection': 'gapspecies',\n",
       " 'originDate': '2017-09-16T13:10:41.404978',\n",
       " 'originID': ObjectId('59b8420a0601bad0b9df0cd4')}"
      ]
     },
     "metadata": {},
     "output_type": "display_data"
    },
    {
     "data": {
      "text/plain": [
       "{'itisSearchURL': 'http://services.itis.gov/?wt=json&rows=10&q=tsn:178878',\n",
       " 'originCollection': 'gapspecies',\n",
       " 'originDate': '2017-09-16T13:10:42.055314',\n",
       " 'originID': ObjectId('59b8420b0601bad0b9df0cd5')}"
      ]
     },
     "metadata": {},
     "output_type": "display_data"
    },
    {
     "data": {
      "text/plain": [
       "{'itisSearchURL': 'http://services.itis.gov/?wt=json&rows=10&q=tsn:180544',\n",
       " 'originCollection': 'gapspecies',\n",
       " 'originDate': '2017-09-16T13:10:42.524779',\n",
       " 'originID': ObjectId('59b8420c0601bad0b9df0cd6')}"
      ]
     },
     "metadata": {},
     "output_type": "display_data"
    },
    {
     "data": {
      "text/plain": [
       "{'itisSearchURL': 'http://services.itis.gov/?wt=json&rows=10&q=tsn:180559',\n",
       " 'originCollection': 'gapspecies',\n",
       " 'originDate': '2017-09-16T13:10:43.035730',\n",
       " 'originID': ObjectId('59b8420c0601bad0b9df0cd7')}"
      ]
     },
     "metadata": {},
     "output_type": "display_data"
    },
    {
     "data": {
      "text/plain": [
       "{'itisSearchURL': 'http://services.itis.gov/?wt=json&rows=10&q=tsn:552514',\n",
       " 'originCollection': 'gapspecies',\n",
       " 'originDate': '2017-09-16T13:10:43.508802',\n",
       " 'originID': ObjectId('59b8420d0601bad0b9df0cd8')}"
      ]
     },
     "metadata": {},
     "output_type": "display_data"
    },
    {
     "data": {
      "text/plain": [
       "{'itisSearchURL': 'http://services.itis.gov/?wt=json&rows=10&q=tsn:173943',\n",
       " 'originCollection': 'gapspecies',\n",
       " 'originDate': '2017-09-16T13:10:44.026453',\n",
       " 'originID': ObjectId('59b8420d0601bad0b9df0cd9')}"
      ]
     },
     "metadata": {},
     "output_type": "display_data"
    },
    {
     "data": {
      "text/plain": [
       "{'itisSearchURL': 'http://services.itis.gov/?wt=json&rows=10&q=tsn:174309',\n",
       " 'originCollection': 'gapspecies',\n",
       " 'originDate': '2017-09-16T13:10:44.485744',\n",
       " 'originID': ObjectId('59b8420e0601bad0b9df0cda')}"
      ]
     },
     "metadata": {},
     "output_type": "display_data"
    },
    {
     "data": {
      "text/plain": [
       "{'itisSearchURL': 'http://services.itis.gov/?wt=json&rows=10&q=tsn:174267',\n",
       " 'originCollection': 'gapspecies',\n",
       " 'originDate': '2017-09-16T13:10:44.776990',\n",
       " 'originID': ObjectId('59b8420f0601bad0b9df0cdb')}"
      ]
     },
     "metadata": {},
     "output_type": "display_data"
    },
    {
     "data": {
      "text/plain": [
       "{'itisSearchURL': 'http://services.itis.gov/?wt=json&rows=10&q=tsn:173954',\n",
       " 'originCollection': 'gapspecies',\n",
       " 'originDate': '2017-09-16T13:10:44.956840',\n",
       " 'originID': ObjectId('59b8420f0601bad0b9df0cdc')}"
      ]
     },
     "metadata": {},
     "output_type": "display_data"
    },
    {
     "data": {
      "text/plain": [
       "{'itisSearchURL': 'http://services.itis.gov/?wt=json&rows=10&q=tsn:180172',\n",
       " 'originCollection': 'gapspecies',\n",
       " 'originDate': '2017-09-16T13:10:45.143442',\n",
       " 'originID': ObjectId('59b842100601bad0b9df0cdd')}"
      ]
     },
     "metadata": {},
     "output_type": "display_data"
    },
    {
     "data": {
      "text/plain": [
       "{'itisSearchURL': 'http://services.itis.gov/?wt=json&rows=10&q=tsn:180189',\n",
       " 'originCollection': 'gapspecies',\n",
       " 'originDate': '2017-09-16T13:10:45.328892',\n",
       " 'originID': ObjectId('59b842110601bad0b9df0cde')}"
      ]
     },
     "metadata": {},
     "output_type": "display_data"
    },
    {
     "data": {
      "text/plain": [
       "{'itisSearchURL': 'http://services.itis.gov/?wt=json&rows=10&q=tsn:180020',\n",
       " 'originCollection': 'gapspecies',\n",
       " 'originDate': '2017-09-16T13:10:45.519811',\n",
       " 'originID': ObjectId('59b842110601bad0b9df0cdf')}"
      ]
     },
     "metadata": {},
     "output_type": "display_data"
    },
    {
     "data": {
      "text/plain": [
       "{'itisSearchURL': 'http://services.itis.gov/?wt=json&rows=10&q=tsn:668317',\n",
       " 'originCollection': 'gapspecies',\n",
       " 'originDate': '2017-09-16T13:10:45.699228',\n",
       " 'originID': ObjectId('59b842120601bad0b9df0ce0')}"
      ]
     },
     "metadata": {},
     "output_type": "display_data"
    },
    {
     "data": {
      "text/plain": [
       "{'itisSearchURL': 'http://services.itis.gov/?wt=json&rows=10&q=tsn:173509',\n",
       " 'originCollection': 'gapspecies',\n",
       " 'originDate': '2017-09-16T13:10:45.885059',\n",
       " 'originID': ObjectId('59b842130601bad0b9df0ce1')}"
      ]
     },
     "metadata": {},
     "output_type": "display_data"
    },
    {
     "data": {
      "text/plain": [
       "{'itisSearchURL': 'http://services.itis.gov/?wt=json&rows=10&q=tsn:555657',\n",
       " 'originCollection': 'gapspecies',\n",
       " 'originDate': '2017-09-16T13:10:46.065073',\n",
       " 'originID': ObjectId('59b842130601bad0b9df0ce2')}"
      ]
     },
     "metadata": {},
     "output_type": "display_data"
    },
    {
     "data": {
      "text/plain": [
       "{'itisSearchURL': 'http://services.itis.gov/?wt=json&rows=10&q=tsn:775103',\n",
       " 'originCollection': 'gapspecies',\n",
       " 'originDate': '2017-09-16T13:10:46.244752',\n",
       " 'originID': ObjectId('59b842140601bad0b9df0ce3')}"
      ]
     },
     "metadata": {},
     "output_type": "display_data"
    },
    {
     "data": {
      "text/plain": [
       "{'itisSearchURL': 'http://services.itis.gov/?wt=json&rows=10&q=tsn:180691',\n",
       " 'originCollection': 'gapspecies',\n",
       " 'originDate': '2017-09-16T13:10:46.441700',\n",
       " 'originID': ObjectId('59b842140601bad0b9df0ce4')}"
      ]
     },
     "metadata": {},
     "output_type": "display_data"
    },
    {
     "data": {
      "text/plain": [
       "{'itisSearchURL': 'http://services.itis.gov/?wt=json&rows=10&q=tsn:180195',\n",
       " 'originCollection': 'gapspecies',\n",
       " 'originDate': '2017-09-16T13:10:46.634797',\n",
       " 'originID': ObjectId('59b842150601bad0b9df0ce5')}"
      ]
     },
     "metadata": {},
     "output_type": "display_data"
    },
    {
     "data": {
      "text/plain": [
       "{'itisSearchURL': 'http://services.itis.gov/?wt=json&rows=10&q=tsn:775091',\n",
       " 'originCollection': 'gapspecies',\n",
       " 'originDate': '2017-09-16T13:10:46.819485',\n",
       " 'originID': ObjectId('59b842150601bad0b9df0ce6')}"
      ]
     },
     "metadata": {},
     "output_type": "display_data"
    },
    {
     "data": {
      "text/plain": [
       "{'itisSearchURL': 'http://services.itis.gov/?wt=json&rows=10&q=tsn:179335',\n",
       " 'originCollection': 'gapspecies',\n",
       " 'originDate': '2017-09-16T13:10:47.012922',\n",
       " 'originID': ObjectId('59b842160601bad0b9df0ce7')}"
      ]
     },
     "metadata": {},
     "output_type": "display_data"
    },
    {
     "data": {
      "text/plain": [
       "{'itisSearchURL': 'http://services.itis.gov/?wt=json&rows=10&q=tsn:775108',\n",
       " 'originCollection': 'gapspecies',\n",
       " 'originDate': '2017-09-16T13:10:47.195908',\n",
       " 'originID': ObjectId('59b842160601bad0b9df0ce8')}"
      ]
     },
     "metadata": {},
     "output_type": "display_data"
    },
    {
     "data": {
      "text/plain": [
       "{'itisSearchURL': 'http://services.itis.gov/?wt=json&rows=10&q=tsn:178642',\n",
       " 'originCollection': 'gapspecies',\n",
       " 'originDate': '2017-09-16T13:10:47.382068',\n",
       " 'originID': ObjectId('59b842170601bad0b9df0ce9')}"
      ]
     },
     "metadata": {},
     "output_type": "display_data"
    },
    {
     "data": {
      "text/plain": [
       "{'itisSearchURL': 'http://services.itis.gov/?wt=json&rows=10&q=tsn:180068',\n",
       " 'originCollection': 'gapspecies',\n",
       " 'originDate': '2017-09-16T13:10:47.561810',\n",
       " 'originID': ObjectId('59b842170601bad0b9df0cea')}"
      ]
     },
     "metadata": {},
     "output_type": "display_data"
    },
    {
     "data": {
      "text/plain": [
       "{'itisSearchURL': 'http://services.itis.gov/?wt=json&rows=10&q=tsn:174053',\n",
       " 'originCollection': 'gapspecies',\n",
       " 'originDate': '2017-09-16T13:10:47.742103',\n",
       " 'originID': ObjectId('59b842180601bad0b9df0ceb')}"
      ]
     },
     "metadata": {},
     "output_type": "display_data"
    },
    {
     "data": {
      "text/plain": [
       "{'itisSearchURL': 'http://services.itis.gov/?wt=json&rows=10&q=tsn:208290',\n",
       " 'originCollection': 'gapspecies',\n",
       " 'originDate': '2017-09-16T13:10:47.924564',\n",
       " 'originID': ObjectId('59b842180601bad0b9df0cec')}"
      ]
     },
     "metadata": {},
     "output_type": "display_data"
    },
    {
     "data": {
      "text/plain": [
       "{'itisSearchURL': 'http://services.itis.gov/?wt=json&rows=10&q=tsn:178316',\n",
       " 'originCollection': 'gapspecies',\n",
       " 'originDate': '2017-09-16T13:10:48.110283',\n",
       " 'originID': ObjectId('59b842190601bad0b9df0ced')}"
      ]
     },
     "metadata": {},
     "output_type": "display_data"
    },
    {
     "data": {
      "text/plain": [
       "{'itisSearchURL': 'http://services.itis.gov/?wt=json&rows=10&q=tsn:174685',\n",
       " 'originCollection': 'gapspecies',\n",
       " 'originDate': '2017-09-16T13:10:48.298403',\n",
       " 'originID': ObjectId('59b842190601bad0b9df0cee')}"
      ]
     },
     "metadata": {},
     "output_type": "display_data"
    },
    {
     "data": {
      "text/plain": [
       "{'itisSearchURL': 'http://services.itis.gov/?wt=json&rows=10&q=tsn:175834',\n",
       " 'originCollection': 'gapspecies',\n",
       " 'originDate': '2017-09-16T13:10:48.497630',\n",
       " 'originID': ObjectId('59b842190601bad0b9df0cef')}"
      ]
     },
     "metadata": {},
     "output_type": "display_data"
    },
    {
     "data": {
      "text/plain": [
       "{'itisSearchURL': 'http://services.itis.gov/?wt=json&rows=10&q=tsn:178865',\n",
       " 'originCollection': 'gapspecies',\n",
       " 'originDate': '2017-09-16T13:10:48.700907',\n",
       " 'originID': ObjectId('59b8421a0601bad0b9df0cf0')}"
      ]
     },
     "metadata": {},
     "output_type": "display_data"
    },
    {
     "data": {
      "text/plain": [
       "{'itisSearchURL': 'http://services.itis.gov/?wt=json&rows=10&q=tsn:176941',\n",
       " 'originCollection': 'gapspecies',\n",
       " 'originDate': '2017-09-16T13:10:48.887324',\n",
       " 'originID': ObjectId('59b8421a0601bad0b9df0cf1')}"
      ]
     },
     "metadata": {},
     "output_type": "display_data"
    },
    {
     "data": {
      "text/plain": [
       "{'itisSearchURL': 'http://services.itis.gov/?wt=json&rows=10&q=tsn:180290',\n",
       " 'originCollection': 'gapspecies',\n",
       " 'originDate': '2017-09-16T13:10:49.072173',\n",
       " 'originID': ObjectId('59b8421b0601bad0b9df0cf2')}"
      ]
     },
     "metadata": {},
     "output_type": "display_data"
    },
    {
     "data": {
      "text/plain": [
       "{'itisSearchURL': 'http://services.itis.gov/?wt=json&rows=10&q=tsn:178293',\n",
       " 'originCollection': 'gapspecies',\n",
       " 'originDate': '2017-09-16T13:10:49.255835',\n",
       " 'originID': ObjectId('59b8421b0601bad0b9df0cf3')}"
      ]
     },
     "metadata": {},
     "output_type": "display_data"
    },
    {
     "data": {
      "text/plain": [
       "{'itisSearchURL': 'http://services.itis.gov/?wt=json&rows=10&q=tsn:178002',\n",
       " 'originCollection': 'gapspecies',\n",
       " 'originDate': '2017-09-16T13:10:49.439465',\n",
       " 'originID': ObjectId('59b8421b0601bad0b9df0cf4')}"
      ]
     },
     "metadata": {},
     "output_type": "display_data"
    },
    {
     "data": {
      "text/plain": [
       "{'itisSearchURL': 'http://services.itis.gov/?wt=json&rows=10&q=tsn:180366',\n",
       " 'originCollection': 'gapspecies',\n",
       " 'originDate': '2017-09-16T13:10:49.623033',\n",
       " 'originID': ObjectId('59b8421b0601bad0b9df0cf5')}"
      ]
     },
     "metadata": {},
     "output_type": "display_data"
    },
    {
     "data": {
      "text/plain": [
       "{'itisSearchURL': 'http://services.itis.gov/?wt=json&rows=10&q=tsn:668291',\n",
       " 'originCollection': 'gapspecies',\n",
       " 'originDate': '2017-09-16T13:10:49.835283',\n",
       " 'originID': ObjectId('59b8421c0601bad0b9df0cf6')}"
      ]
     },
     "metadata": {},
     "output_type": "display_data"
    },
    {
     "data": {
      "text/plain": [
       "{'itisSearchURL': 'http://services.itis.gov/?wt=json&rows=10&q=tsn:178301',\n",
       " 'originCollection': 'gapspecies',\n",
       " 'originDate': '2017-09-16T13:10:50.017955',\n",
       " 'originID': ObjectId('59b8421c0601bad0b9df0cf7')}"
      ]
     },
     "metadata": {},
     "output_type": "display_data"
    },
    {
     "data": {
      "text/plain": [
       "{'itisSearchURL': 'http://services.itis.gov/?wt=json&rows=10&q=tsn:179464',\n",
       " 'originCollection': 'gapspecies',\n",
       " 'originDate': '2017-09-16T13:10:50.207336',\n",
       " 'originID': ObjectId('59b8421c0601bad0b9df0cf8')}"
      ]
     },
     "metadata": {},
     "output_type": "display_data"
    },
    {
     "data": {
      "text/plain": [
       "{'itisSearchURL': 'http://services.itis.gov/?wt=json&rows=10&q=tsn:179462',\n",
       " 'originCollection': 'gapspecies',\n",
       " 'originDate': '2017-09-16T13:10:50.442325',\n",
       " 'originID': ObjectId('59b8421d0601bad0b9df0cf9')}"
      ]
     },
     "metadata": {},
     "output_type": "display_data"
    },
    {
     "data": {
      "text/plain": [
       "{'itisSearchURL': 'http://services.itis.gov/?wt=json&rows=10&q=tsn:179796',\n",
       " 'originCollection': 'gapspecies',\n",
       " 'originDate': '2017-09-16T13:10:50.630380',\n",
       " 'originID': ObjectId('59b8421d0601bad0b9df0cfa')}"
      ]
     },
     "metadata": {},
     "output_type": "display_data"
    },
    {
     "data": {
      "text/plain": [
       "{'itisSearchURL': 'http://services.itis.gov/?wt=json&rows=10&q=tsn:178329',\n",
       " 'originCollection': 'gapspecies',\n",
       " 'originDate': '2017-09-16T13:10:51.071685',\n",
       " 'originID': ObjectId('59b8421d0601bad0b9df0cfb')}"
      ]
     },
     "metadata": {},
     "output_type": "display_data"
    },
    {
     "data": {
      "text/plain": [
       "{'itisSearchURL': 'http://services.itis.gov/?wt=json&rows=10&q=tsn:203452',\n",
       " 'originCollection': 'gapspecies',\n",
       " 'originDate': '2017-09-16T13:10:51.456045',\n",
       " 'originID': ObjectId('59b8421e0601bad0b9df0cfc')}"
      ]
     },
     "metadata": {},
     "output_type": "display_data"
    },
    {
     "data": {
      "text/plain": [
       "{'itisSearchURL': 'http://services.itis.gov/?wt=json&rows=10&q=tsn:203452',\n",
       " 'originCollection': 'gapspecies',\n",
       " 'originDate': '2017-09-16T13:10:52.153717',\n",
       " 'originID': ObjectId('59b8421e0601bad0b9df0cfd')}"
      ]
     },
     "metadata": {},
     "output_type": "display_data"
    },
    {
     "data": {
      "text/plain": [
       "{'itisSearchURL': 'http://services.itis.gov/?wt=json&rows=10&q=tsn:176656',\n",
       " 'originCollection': 'gapspecies',\n",
       " 'originDate': '2017-09-16T13:10:52.622573',\n",
       " 'originID': ObjectId('59b8421f0601bad0b9df0cfe')}"
      ]
     },
     "metadata": {},
     "output_type": "display_data"
    },
    {
     "data": {
      "text/plain": [
       "{'itisSearchURL': 'http://services.itis.gov/?wt=json&rows=10&q=tsn:176840',\n",
       " 'originCollection': 'gapspecies',\n",
       " 'originDate': '2017-09-16T13:10:53.136950',\n",
       " 'originID': ObjectId('59b8421f0601bad0b9df0cff')}"
      ]
     },
     "metadata": {},
     "output_type": "display_data"
    },
    {
     "data": {
      "text/plain": [
       "{'itisSearchURL': 'http://services.itis.gov/?wt=json&rows=10&q=tsn:180226',\n",
       " 'originCollection': 'gapspecies',\n",
       " 'originDate': '2017-09-16T13:10:53.603748',\n",
       " 'originID': ObjectId('59b842200601bad0b9df0d00')}"
      ]
     },
     "metadata": {},
     "output_type": "display_data"
    },
    {
     "data": {
      "text/plain": [
       "{'itisSearchURL': 'http://services.itis.gov/?wt=json&rows=10&q=tsn:179021',\n",
       " 'originCollection': 'gapspecies',\n",
       " 'originDate': '2017-09-16T13:10:54.114912',\n",
       " 'originID': ObjectId('59b842200601bad0b9df0d01')}"
      ]
     },
     "metadata": {},
     "output_type": "display_data"
    },
    {
     "data": {
      "text/plain": [
       "{'itisSearchURL': 'http://services.itis.gov/?wt=json&rows=10&q=tsn:179345',\n",
       " 'originCollection': 'gapspecies',\n",
       " 'originDate': '2017-09-16T13:10:54.496984',\n",
       " 'originID': ObjectId('59b842210601bad0b9df0d02')}"
      ]
     },
     "metadata": {},
     "output_type": "display_data"
    },
    {
     "data": {
      "text/plain": [
       "{'itisSearchURL': 'http://services.itis.gov/?wt=json&rows=10&q=tsn:175838',\n",
       " 'originCollection': 'gapspecies',\n",
       " 'originDate': '2017-09-16T13:10:54.692059',\n",
       " 'originID': ObjectId('59b842210601bad0b9df0d03')}"
      ]
     },
     "metadata": {},
     "output_type": "display_data"
    },
    {
     "data": {
      "text/plain": [
       "{'itisSearchURL': 'http://services.itis.gov/?wt=json&rows=10&q=tsn:178515',\n",
       " 'originCollection': 'gapspecies',\n",
       " 'originDate': '2017-09-16T13:10:54.874839',\n",
       " 'originID': ObjectId('59b842210601bad0b9df0d04')}"
      ]
     },
     "metadata": {},
     "output_type": "display_data"
    },
    {
     "data": {
      "text/plain": [
       "{'itisSearchURL': 'http://services.itis.gov/?wt=json&rows=10&q=tsn:180352',\n",
       " 'originCollection': 'gapspecies',\n",
       " 'originDate': '2017-09-16T13:10:55.061889',\n",
       " 'originID': ObjectId('59b842220601bad0b9df0d05')}"
      ]
     },
     "metadata": {},
     "output_type": "display_data"
    },
    {
     "data": {
      "text/plain": [
       "{'itisSearchURL': 'http://services.itis.gov/?wt=json&rows=10&q=tsn:180121',\n",
       " 'originCollection': 'gapspecies',\n",
       " 'originDate': '2017-09-16T13:10:55.241640',\n",
       " 'originID': ObjectId('59b842220601bad0b9df0d06')}"
      ]
     },
     "metadata": {},
     "output_type": "display_data"
    },
    {
     "data": {
      "text/plain": [
       "{'itisSearchURL': 'http://services.itis.gov/?wt=json&rows=10&q=tsn:175041',\n",
       " 'originCollection': 'gapspecies',\n",
       " 'originDate': '2017-09-16T13:10:55.436925',\n",
       " 'originID': ObjectId('59b842230601bad0b9df0d07')}"
      ]
     },
     "metadata": {},
     "output_type": "display_data"
    },
    {
     "data": {
      "text/plain": [
       "{'itisSearchURL': 'http://services.itis.gov/?wt=json&rows=10&q=tsn:180607',\n",
       " 'originCollection': 'gapspecies',\n",
       " 'originDate': '2017-09-16T13:10:55.646350',\n",
       " 'originID': ObjectId('59b842230601bad0b9df0d08')}"
      ]
     },
     "metadata": {},
     "output_type": "display_data"
    },
    {
     "data": {
      "text/plain": [
       "{'itisSearchURL': 'http://services.itis.gov/?wt=json&rows=10&q=tsn:180294',\n",
       " 'originCollection': 'gapspecies',\n",
       " 'originDate': '2017-09-16T13:10:55.834794',\n",
       " 'originID': ObjectId('59b842230601bad0b9df0d09')}"
      ]
     },
     "metadata": {},
     "output_type": "display_data"
    },
    {
     "data": {
      "text/plain": [
       "{'itisSearchURL': 'http://services.itis.gov/?wt=json&rows=10&q=tsn:209141',\n",
       " 'originCollection': 'gapspecies',\n",
       " 'originDate': '2017-09-16T13:10:56.015762',\n",
       " 'originID': ObjectId('59b842230601bad0b9df0d0a')}"
      ]
     },
     "metadata": {},
     "output_type": "display_data"
    },
    {
     "data": {
      "text/plain": [
       "{'itisSearchURL': 'http://services.itis.gov/?wt=json&rows=10&q=tsn:585779',\n",
       " 'originCollection': 'gapspecies',\n",
       " 'originDate': '2017-09-16T13:10:56.225346',\n",
       " 'originID': ObjectId('59b842240601bad0b9df0d0b')}"
      ]
     },
     "metadata": {},
     "output_type": "display_data"
    },
    {
     "data": {
      "text/plain": [
       "{'itisSearchURL': 'http://services.itis.gov/?wt=json&rows=10&q=tsn:177946',\n",
       " 'originCollection': 'gapspecies',\n",
       " 'originDate': '2017-09-16T13:10:56.407281',\n",
       " 'originID': ObjectId('59b842240601bad0b9df0d0c')}"
      ]
     },
     "metadata": {},
     "output_type": "display_data"
    },
    {
     "data": {
      "text/plain": [
       "{'itisSearchURL': 'http://services.itis.gov/?wt=json&rows=10&q=tsn:552504',\n",
       " 'originCollection': 'gapspecies',\n",
       " 'originDate': '2017-09-16T13:10:56.586634',\n",
       " 'originID': ObjectId('59b842250601bad0b9df0d0d')}"
      ]
     },
     "metadata": {},
     "output_type": "display_data"
    },
    {
     "data": {
      "text/plain": [
       "{'itisSearchURL': 'http://services.itis.gov/?wt=json&rows=10&q=tsn:174265',\n",
       " 'originCollection': 'gapspecies',\n",
       " 'originDate': '2017-09-16T13:10:56.782961',\n",
       " 'originID': ObjectId('59b842250601bad0b9df0d0e')}"
      ]
     },
     "metadata": {},
     "output_type": "display_data"
    },
    {
     "data": {
      "text/plain": [
       "{'itisSearchURL': 'http://services.itis.gov/?wt=json&rows=10&q=tsn:179310',\n",
       " 'originCollection': 'gapspecies',\n",
       " 'originDate': '2017-09-16T13:10:56.969222',\n",
       " 'originID': ObjectId('59b842250601bad0b9df0d0f')}"
      ]
     },
     "metadata": {},
     "output_type": "display_data"
    },
    {
     "data": {
      "text/plain": [
       "{'itisSearchURL': 'http://services.itis.gov/?wt=json&rows=10&q=tsn:173742',\n",
       " 'originCollection': 'gapspecies',\n",
       " 'originDate': '2017-09-16T13:10:57.160644',\n",
       " 'originID': ObjectId('59b842260601bad0b9df0d10')}"
      ]
     },
     "metadata": {},
     "output_type": "display_data"
    },
    {
     "data": {
      "text/plain": [
       "{'itisSearchURL': 'http://services.itis.gov/?wt=json&rows=10&q=tsn:661593',\n",
       " 'originCollection': 'gapspecies',\n",
       " 'originDate': '2017-09-16T13:10:57.346911',\n",
       " 'originID': ObjectId('59b842260601bad0b9df0d11')}"
      ]
     },
     "metadata": {},
     "output_type": "display_data"
    },
    {
     "data": {
      "text/plain": [
       "{'itisSearchURL': 'http://services.itis.gov/?wt=json&rows=10&q=tsn:662726',\n",
       " 'originCollection': 'gapspecies',\n",
       " 'originDate': '2017-09-16T13:10:57.529198',\n",
       " 'originID': ObjectId('59b842260601bad0b9df0d12')}"
      ]
     },
     "metadata": {},
     "output_type": "display_data"
    },
    {
     "data": {
      "text/plain": [
       "{'itisSearchURL': 'http://services.itis.gov/?wt=json&rows=10&q=tsn:178898',\n",
       " 'originCollection': 'gapspecies',\n",
       " 'originDate': '2017-09-16T13:10:57.716907',\n",
       " 'originID': ObjectId('59b842270601bad0b9df0d13')}"
      ]
     },
     "metadata": {},
     "output_type": "display_data"
    },
    {
     "data": {
      "text/plain": [
       "{'itisSearchURL': 'http://services.itis.gov/?wt=json&rows=10&q=tsn:683048',\n",
       " 'originCollection': 'gapspecies',\n",
       " 'originDate': '2017-09-16T13:10:57.902395',\n",
       " 'originID': ObjectId('59b842270601bad0b9df0d14')}"
      ]
     },
     "metadata": {},
     "output_type": "display_data"
    },
    {
     "data": {
      "text/plain": [
       "{'itisSearchURL': 'http://services.itis.gov/?wt=json&rows=10&q=tsn:180114',\n",
       " 'originCollection': 'gapspecies',\n",
       " 'originDate': '2017-09-16T13:10:58.088374',\n",
       " 'originID': ObjectId('59b842270601bad0b9df0d15')}"
      ]
     },
     "metadata": {},
     "output_type": "display_data"
    },
    {
     "data": {
      "text/plain": [
       "{'itisSearchURL': 'http://services.itis.gov/?wt=json&rows=10&q=tsn:668673',\n",
       " 'originCollection': 'gapspecies',\n",
       " 'originDate': '2017-09-16T13:10:58.275965',\n",
       " 'originID': ObjectId('59b842280601bad0b9df0d16')}"
      ]
     },
     "metadata": {},
     "output_type": "display_data"
    },
    {
     "data": {
      "text/plain": [
       "{'itisSearchURL': 'http://services.itis.gov/?wt=json&rows=10&q=tsn:554389',\n",
       " 'originCollection': 'gapspecies',\n",
       " 'originDate': '2017-09-16T13:10:58.468963',\n",
       " 'originID': ObjectId('59b842280601bad0b9df0d17')}"
      ]
     },
     "metadata": {},
     "output_type": "display_data"
    },
    {
     "data": {
      "text/plain": [
       "{'itisSearchURL': 'http://services.itis.gov/?wt=json&rows=10&q=tsn:178904',\n",
       " 'originCollection': 'gapspecies',\n",
       " 'originDate': '2017-09-16T13:10:58.649768',\n",
       " 'originID': ObjectId('59b842280601bad0b9df0d18')}"
      ]
     },
     "metadata": {},
     "output_type": "display_data"
    },
    {
     "data": {
      "text/plain": [
       "{'itisSearchURL': 'http://services.itis.gov/?wt=json&rows=10&q=tsn:180166',\n",
       " 'originCollection': 'gapspecies',\n",
       " 'originDate': '2017-09-16T13:10:58.850491',\n",
       " 'originID': ObjectId('59b842290601bad0b9df0d19')}"
      ]
     },
     "metadata": {},
     "output_type": "display_data"
    },
    {
     "data": {
      "text/plain": [
       "{'itisSearchURL': 'http://services.itis.gov/?wt=json&rows=10&q=tsn:173615',\n",
       " 'originCollection': 'gapspecies',\n",
       " 'originDate': '2017-09-16T13:10:59.034782',\n",
       " 'originID': ObjectId('59b842290601bad0b9df0d1a')}"
      ]
     },
     "metadata": {},
     "output_type": "display_data"
    },
    {
     "data": {
      "text/plain": [
       "{'itisSearchURL': 'http://services.itis.gov/?wt=json&rows=10&q=tsn:202353',\n",
       " 'originCollection': 'gapspecies',\n",
       " 'originDate': '2017-09-16T13:10:59.216550',\n",
       " 'originID': ObjectId('59b842290601bad0b9df0d1b')}"
      ]
     },
     "metadata": {},
     "output_type": "display_data"
    },
    {
     "data": {
      "text/plain": [
       "{'itisSearchURL': 'http://services.itis.gov/?wt=json&rows=10&q=tsn:180307',\n",
       " 'originCollection': 'gapspecies',\n",
       " 'originDate': '2017-09-16T13:10:59.408391',\n",
       " 'originID': ObjectId('59b842290601bad0b9df0d1c')}"
      ]
     },
     "metadata": {},
     "output_type": "display_data"
    },
    {
     "data": {
      "text/plain": [
       "{'itisSearchURL': 'http://services.itis.gov/?wt=json&rows=10&q=tsn:180372',\n",
       " 'originCollection': 'gapspecies',\n",
       " 'originDate': '2017-09-16T13:10:59.586680',\n",
       " 'originID': ObjectId('59b8422a0601bad0b9df0d1d')}"
      ]
     },
     "metadata": {},
     "output_type": "display_data"
    },
    {
     "data": {
      "text/plain": [
       "{'itisSearchURL': 'http://services.itis.gov/?wt=json&rows=10&q=tsn:180353',\n",
       " 'originCollection': 'gapspecies',\n",
       " 'originDate': '2017-09-16T13:10:59.772527',\n",
       " 'originID': ObjectId('59b8422a0601bad0b9df0d1e')}"
      ]
     },
     "metadata": {},
     "output_type": "display_data"
    },
    {
     "data": {
      "text/plain": [
       "{'itisSearchURL': 'http://services.itis.gov/?wt=json&rows=10&q=tsn:179637',\n",
       " 'originCollection': 'gapspecies',\n",
       " 'originDate': '2017-09-16T13:10:59.952901',\n",
       " 'originID': ObjectId('59b8422b0601bad0b9df0d1f')}"
      ]
     },
     "metadata": {},
     "output_type": "display_data"
    },
    {
     "data": {
      "text/plain": [
       "{'itisSearchURL': 'http://services.itis.gov/?wt=json&rows=10&q=tsn:714068',\n",
       " 'originCollection': 'gapspecies',\n",
       " 'originDate': '2017-09-16T13:11:00.138810',\n",
       " 'originID': ObjectId('59b8422b0601bad0b9df0d20')}"
      ]
     },
     "metadata": {},
     "output_type": "display_data"
    },
    {
     "data": {
      "text/plain": [
       "{'itisSearchURL': 'http://services.itis.gov/?wt=json&rows=10&q=tsn:174926',\n",
       " 'originCollection': 'gapspecies',\n",
       " 'originDate': '2017-09-16T13:11:00.323138',\n",
       " 'originID': ObjectId('59b8422b0601bad0b9df0d21')}"
      ]
     },
     "metadata": {},
     "output_type": "display_data"
    },
    {
     "data": {
      "text/plain": [
       "{'itisSearchURL': 'http://services.itis.gov/?wt=json&rows=10&q=tsn:180218',\n",
       " 'originCollection': 'gapspecies',\n",
       " 'originDate': '2017-09-16T13:11:00.833099',\n",
       " 'originID': ObjectId('59b8422c0601bad0b9df0d22')}"
      ]
     },
     "metadata": {},
     "output_type": "display_data"
    },
    {
     "data": {
      "text/plain": [
       "{'itisSearchURL': 'http://services.itis.gov/?wt=json&rows=10&q=tsn:179777',\n",
       " 'originCollection': 'gapspecies',\n",
       " 'originDate': '2017-09-16T13:11:01.223366',\n",
       " 'originID': ObjectId('59b8422c0601bad0b9df0d23')}"
      ]
     },
     "metadata": {},
     "output_type": "display_data"
    },
    {
     "data": {
      "text/plain": [
       "{'itisSearchURL': 'http://services.itis.gov/?wt=json&rows=10&q=tsn:179954',\n",
       " 'originCollection': 'gapspecies',\n",
       " 'originDate': '2017-09-16T13:11:02.225283',\n",
       " 'originID': ObjectId('59b8422c0601bad0b9df0d24')}"
      ]
     },
     "metadata": {},
     "output_type": "display_data"
    },
    {
     "data": {
      "text/plain": [
       "{'itisSearchURL': 'http://services.itis.gov/?wt=json&rows=10&q=tsn:179039',\n",
       " 'originCollection': 'gapspecies',\n",
       " 'originDate': '2017-09-16T13:11:02.735776',\n",
       " 'originID': ObjectId('59b8422c0601bad0b9df0d25')}"
      ]
     },
     "metadata": {},
     "output_type": "display_data"
    },
    {
     "data": {
      "text/plain": [
       "{'itisSearchURL': 'http://services.itis.gov/?wt=json&rows=10&q=tsn:686659',\n",
       " 'originCollection': 'gapspecies',\n",
       " 'originDate': '2017-09-16T13:11:03.372953',\n",
       " 'originID': ObjectId('59b8422d0601bad0b9df0d26')}"
      ]
     },
     "metadata": {},
     "output_type": "display_data"
    },
    {
     "data": {
      "text/plain": [
       "{'itisSearchURL': 'http://services.itis.gov/?wt=json&rows=10&q=tsn:173641',\n",
       " 'originCollection': 'gapspecies',\n",
       " 'originDate': '2017-09-16T13:11:03.885470',\n",
       " 'originID': ObjectId('59b8422d0601bad0b9df0d27')}"
      ]
     },
     "metadata": {},
     "output_type": "display_data"
    },
    {
     "data": {
      "text/plain": [
       "{'itisSearchURL': 'http://services.itis.gov/?wt=json&rows=10&q=tsn:173642',\n",
       " 'originCollection': 'gapspecies',\n",
       " 'originDate': '2017-09-16T13:11:04.247929',\n",
       " 'originID': ObjectId('59b8422d0601bad0b9df0d28')}"
      ]
     },
     "metadata": {},
     "output_type": "display_data"
    },
    {
     "data": {
      "text/plain": [
       "{'itisSearchURL': 'http://services.itis.gov/?wt=json&rows=10&q=tsn:179201',\n",
       " 'originCollection': 'gapspecies',\n",
       " 'originDate': '2017-09-16T13:11:04.432227',\n",
       " 'originID': ObjectId('59b8422e0601bad0b9df0d29')}"
      ]
     },
     "metadata": {},
     "output_type": "display_data"
    },
    {
     "data": {
      "text/plain": [
       "{'itisSearchURL': 'http://services.itis.gov/?wt=json&rows=10&q=tsn:775112',\n",
       " 'originCollection': 'gapspecies',\n",
       " 'originDate': '2017-09-16T13:11:04.630579',\n",
       " 'originID': ObjectId('59b8422e0601bad0b9df0d2a')}"
      ]
     },
     "metadata": {},
     "output_type": "display_data"
    },
    {
     "data": {
      "text/plain": [
       "{'itisSearchURL': 'http://services.itis.gov/?wt=json&rows=10&q=tsn:178202',\n",
       " 'originCollection': 'gapspecies',\n",
       " 'originDate': '2017-09-16T13:11:04.828586',\n",
       " 'originID': ObjectId('59b8422f0601bad0b9df0d2b')}"
      ]
     },
     "metadata": {},
     "output_type": "display_data"
    },
    {
     "data": {
      "text/plain": [
       "{'itisSearchURL': 'http://services.itis.gov/?wt=json&rows=10&q=tsn:776032',\n",
       " 'originCollection': 'gapspecies',\n",
       " 'originDate': '2017-09-16T13:11:05.009692',\n",
       " 'originID': ObjectId('59b8422f0601bad0b9df0d2c')}"
      ]
     },
     "metadata": {},
     "output_type": "display_data"
    },
    {
     "data": {
      "text/plain": [
       "{'itisSearchURL': 'http://services.itis.gov/?wt=json&rows=10&q=tsn:178939',\n",
       " 'originCollection': 'gapspecies',\n",
       " 'originDate': '2017-09-16T13:11:05.192152',\n",
       " 'originID': ObjectId('59b8422f0601bad0b9df0d2d')}"
      ]
     },
     "metadata": {},
     "output_type": "display_data"
    },
    {
     "data": {
      "text/plain": [
       "{'itisSearchURL': 'http://services.itis.gov/?wt=json&rows=10&q=tsn:178605',\n",
       " 'originCollection': 'gapspecies',\n",
       " 'originDate': '2017-09-16T13:11:05.374963',\n",
       " 'originID': ObjectId('59b842300601bad0b9df0d2e')}"
      ]
     },
     "metadata": {},
     "output_type": "display_data"
    },
    {
     "data": {
      "text/plain": [
       "{'itisSearchURL': 'http://services.itis.gov/?wt=json&rows=10&q=tsn:177828',\n",
       " 'originCollection': 'gapspecies',\n",
       " 'originDate': '2017-09-16T13:11:05.558440',\n",
       " 'originID': ObjectId('59b842300601bad0b9df0d2f')}"
      ]
     },
     "metadata": {},
     "output_type": "display_data"
    },
    {
     "data": {
      "text/plain": [
       "{'itisSearchURL': 'http://services.itis.gov/?wt=json&rows=10&q=tsn:178608',\n",
       " 'originCollection': 'gapspecies',\n",
       " 'originDate': '2017-09-16T13:11:05.739700',\n",
       " 'originID': ObjectId('59b842310601bad0b9df0d30')}"
      ]
     },
     "metadata": {},
     "output_type": "display_data"
    },
    {
     "data": {
      "text/plain": [
       "{'itisSearchURL': 'http://services.itis.gov/?wt=json&rows=10&q=tsn:179366',\n",
       " 'originCollection': 'gapspecies',\n",
       " 'originDate': '2017-09-16T13:11:05.930563',\n",
       " 'originID': ObjectId('59b842310601bad0b9df0d31')}"
      ]
     },
     "metadata": {},
     "output_type": "display_data"
    },
    {
     "data": {
      "text/plain": [
       "{'itisSearchURL': 'http://services.itis.gov/?wt=json&rows=10&q=tsn:554140',\n",
       " 'originCollection': 'gapspecies',\n",
       " 'originDate': '2017-09-16T13:11:06.109377',\n",
       " 'originID': ObjectId('59b842320601bad0b9df0d32')}"
      ]
     },
     "metadata": {},
     "output_type": "display_data"
    },
    {
     "data": {
      "text/plain": [
       "{'itisSearchURL': 'http://services.itis.gov/?wt=json&rows=10&q=tsn:174930',\n",
       " 'originCollection': 'gapspecies',\n",
       " 'originDate': '2017-09-16T13:11:06.300342',\n",
       " 'originID': ObjectId('59b842320601bad0b9df0d33')}"
      ]
     },
     "metadata": {},
     "output_type": "display_data"
    },
    {
     "data": {
      "text/plain": [
       "{'itisSearchURL': 'http://services.itis.gov/?wt=json&rows=10&q=tsn:178427',\n",
       " 'originCollection': 'gapspecies',\n",
       " 'originDate': '2017-09-16T13:11:06.480356',\n",
       " 'originID': ObjectId('59b842320601bad0b9df0d34')}"
      ]
     },
     "metadata": {},
     "output_type": "display_data"
    },
    {
     "data": {
      "text/plain": [
       "{'itisSearchURL': 'http://services.itis.gov/?wt=json&rows=10&q=tsn:176668',\n",
       " 'originCollection': 'gapspecies',\n",
       " 'originDate': '2017-09-16T13:11:06.663861',\n",
       " 'originID': ObjectId('59b842330601bad0b9df0d35')}"
      ]
     },
     "metadata": {},
     "output_type": "display_data"
    },
    {
     "data": {
      "text/plain": [
       "{'itisSearchURL': 'http://services.itis.gov/?wt=json&rows=10&q=tsn:177925',\n",
       " 'originCollection': 'gapspecies',\n",
       " 'originDate': '2017-09-16T13:11:06.846164',\n",
       " 'originID': ObjectId('59b842330601bad0b9df0d36')}"
      ]
     },
     "metadata": {},
     "output_type": "display_data"
    },
    {
     "data": {
      "text/plain": [
       "{'itisSearchURL': 'http://services.itis.gov/?wt=json&rows=10&q=tsn:554380',\n",
       " 'originCollection': 'gapspecies',\n",
       " 'originDate': '2017-09-16T13:11:07.037025',\n",
       " 'originID': ObjectId('59b842330601bad0b9df0d37')}"
      ]
     },
     "metadata": {},
     "output_type": "display_data"
    },
    {
     "data": {
      "text/plain": [
       "{'itisSearchURL': 'http://services.itis.gov/?wt=json&rows=10&q=tsn:178256',\n",
       " 'originCollection': 'gapspecies',\n",
       " 'originDate': '2017-09-16T13:11:07.247400',\n",
       " 'originID': ObjectId('59b842340601bad0b9df0d38')}"
      ]
     },
     "metadata": {},
     "output_type": "display_data"
    },
    {
     "data": {
      "text/plain": [
       "{'itisSearchURL': 'http://services.itis.gov/?wt=json&rows=10&q=tsn:179427',\n",
       " 'originCollection': 'gapspecies',\n",
       " 'originDate': '2017-09-16T13:11:07.432533',\n",
       " 'originID': ObjectId('59b842340601bad0b9df0d39')}"
      ]
     },
     "metadata": {},
     "output_type": "display_data"
    },
    {
     "data": {
      "text/plain": [
       "{'itisSearchURL': 'http://services.itis.gov/?wt=json&rows=10&q=tsn:180016',\n",
       " 'originCollection': 'gapspecies',\n",
       " 'originDate': '2017-09-16T13:11:07.612235',\n",
       " 'originID': ObjectId('59b842340601bad0b9df0d3a')}"
      ]
     },
     "metadata": {},
     "output_type": "display_data"
    },
    {
     "data": {
      "text/plain": [
       "{'itisSearchURL': 'http://services.itis.gov/?wt=json&rows=10&q=tsn:946276',\n",
       " 'originCollection': 'gapspecies',\n",
       " 'originDate': '2017-09-16T13:11:07.800803',\n",
       " 'originID': ObjectId('59b842350601bad0b9df0d3b')}"
      ]
     },
     "metadata": {},
     "output_type": "display_data"
    },
    {
     "data": {
      "text/plain": [
       "{'itisSearchURL': 'http://services.itis.gov/?wt=json&rows=10&q=tsn:175265',\n",
       " 'originCollection': 'gapspecies',\n",
       " 'originDate': '2017-09-16T13:11:07.981289',\n",
       " 'originID': ObjectId('59b842350601bad0b9df0d3c')}"
      ]
     },
     "metadata": {},
     "output_type": "display_data"
    },
    {
     "data": {
      "text/plain": [
       "{'itisSearchURL': 'http://services.itis.gov/?wt=json&rows=10&q=tsn:178066',\n",
       " 'originCollection': 'gapspecies',\n",
       " 'originDate': '2017-09-16T13:11:08.163937',\n",
       " 'originID': ObjectId('59b842360601bad0b9df0d3d')}"
      ]
     },
     "metadata": {},
     "output_type": "display_data"
    },
    {
     "data": {
      "text/plain": [
       "{'itisSearchURL': 'http://services.itis.gov/?wt=json&rows=10&q=tsn:179060',\n",
       " 'originCollection': 'gapspecies',\n",
       " 'originDate': '2017-09-16T13:11:08.386784',\n",
       " 'originID': ObjectId('59b842360601bad0b9df0d3e')}"
      ]
     },
     "metadata": {},
     "output_type": "display_data"
    },
    {
     "data": {
      "text/plain": [
       "{'itisSearchURL': 'http://services.itis.gov/?wt=json&rows=10&q=tsn:178360',\n",
       " 'originCollection': 'gapspecies',\n",
       " 'originDate': '2017-09-16T13:11:08.567316',\n",
       " 'originID': ObjectId('59b842360601bad0b9df0d3f')}"
      ]
     },
     "metadata": {},
     "output_type": "display_data"
    },
    {
     "data": {
      "text/plain": [
       "{'itisSearchURL': 'http://services.itis.gov/?wt=json&rows=10&q=tsn:180256',\n",
       " 'originCollection': 'gapspecies',\n",
       " 'originDate': '2017-09-16T13:11:08.758022',\n",
       " 'originID': ObjectId('59b842360601bad0b9df0d40')}"
      ]
     },
     "metadata": {},
     "output_type": "display_data"
    },
    {
     "data": {
      "text/plain": [
       "{'itisSearchURL': 'http://services.itis.gov/?wt=json&rows=10&q=tsn:773869',\n",
       " 'originCollection': 'gapspecies',\n",
       " 'originDate': '2017-09-16T13:11:08.942088',\n",
       " 'originID': ObjectId('59b842370601bad0b9df0d41')}"
      ]
     },
     "metadata": {},
     "output_type": "display_data"
    },
    {
     "data": {
      "text/plain": [
       "{'itisSearchURL': 'http://services.itis.gov/?wt=json&rows=10&q=tsn:180290',\n",
       " 'originCollection': 'gapspecies',\n",
       " 'originDate': '2017-09-16T13:11:09.138347',\n",
       " 'originID': ObjectId('59b842370601bad0b9df0d42')}"
      ]
     },
     "metadata": {},
     "output_type": "display_data"
    },
    {
     "data": {
      "text/plain": [
       "{'itisSearchURL': 'http://services.itis.gov/?wt=json&rows=10&q=tsn:552521',\n",
       " 'originCollection': 'gapspecies',\n",
       " 'originDate': '2017-09-16T13:11:09.326181',\n",
       " 'originID': ObjectId('59b842380601bad0b9df0d43')}"
      ]
     },
     "metadata": {},
     "output_type": "display_data"
    },
    {
     "data": {
      "text/plain": [
       "{'itisSearchURL': 'http://services.itis.gov/?wt=json&rows=10&q=tsn:554081',\n",
       " 'originCollection': 'gapspecies',\n",
       " 'originDate': '2017-09-16T13:11:09.510486',\n",
       " 'originID': ObjectId('59b842380601bad0b9df0d44')}"
      ]
     },
     "metadata": {},
     "output_type": "display_data"
    },
    {
     "data": {
      "text/plain": [
       "{'itisSearchURL': 'http://services.itis.gov/?wt=json&rows=10&q=tsn:176263',\n",
       " 'originCollection': 'gapspecies',\n",
       " 'originDate': '2017-09-16T13:11:09.697660',\n",
       " 'originID': ObjectId('59b842380601bad0b9df0d45')}"
      ]
     },
     "metadata": {},
     "output_type": "display_data"
    },
    {
     "data": {
      "text/plain": [
       "{'itisSearchURL': 'http://services.itis.gov/?wt=json&rows=10&q=tsn:554030',\n",
       " 'originCollection': 'gapspecies',\n",
       " 'originDate': '2017-09-16T13:11:09.881056',\n",
       " 'originID': ObjectId('59b842390601bad0b9df0d46')}"
      ]
     },
     "metadata": {},
     "output_type": "display_data"
    },
    {
     "data": {
      "text/plain": [
       "{'itisSearchURL': 'http://services.itis.gov/?wt=json&rows=10&q=tsn:179435',\n",
       " 'originCollection': 'gapspecies',\n",
       " 'originDate': '2017-09-16T13:11:10.069284',\n",
       " 'originID': ObjectId('59b842390601bad0b9df0d47')}"
      ]
     },
     "metadata": {},
     "output_type": "display_data"
    },
    {
     "data": {
      "text/plain": [
       "{'itisSearchURL': 'http://services.itis.gov/?wt=json&rows=10&q=tsn:180229',\n",
       " 'originCollection': 'gapspecies',\n",
       " 'originDate': '2017-09-16T13:11:10.418197',\n",
       " 'originID': ObjectId('59b842390601bad0b9df0d48')}"
      ]
     },
     "metadata": {},
     "output_type": "display_data"
    },
    {
     "data": {
      "text/plain": [
       "{'itisSearchURL': 'http://services.itis.gov/?wt=json&rows=10&q=tsn:178198',\n",
       " 'originCollection': 'gapspecies',\n",
       " 'originDate': '2017-09-16T13:11:10.922979',\n",
       " 'originID': ObjectId('59b8423a0601bad0b9df0d49')}"
      ]
     },
     "metadata": {},
     "output_type": "display_data"
    },
    {
     "data": {
      "text/plain": [
       "{'itisSearchURL': 'http://services.itis.gov/?wt=json&rows=10&q=tsn:175144',\n",
       " 'originCollection': 'gapspecies',\n",
       " 'originDate': '2017-09-16T13:11:11.338764',\n",
       " 'originID': ObjectId('59b8423a0601bad0b9df0d4a')}"
      ]
     },
     "metadata": {},
     "output_type": "display_data"
    },
    {
     "data": {
      "text/plain": [
       "{'itisSearchURL': 'http://services.itis.gov/?wt=json&rows=10&q=tsn:173592',\n",
       " 'originCollection': 'gapspecies',\n",
       " 'originDate': '2017-09-16T13:11:11.803855',\n",
       " 'originID': ObjectId('59b8423b0601bad0b9df0d4b')}"
      ]
     },
     "metadata": {},
     "output_type": "display_data"
    },
    {
     "data": {
      "text/plain": [
       "{'itisSearchURL': 'http://services.itis.gov/?wt=json&rows=10&q=tsn:176284',\n",
       " 'originCollection': 'gapspecies',\n",
       " 'originDate': '2017-09-16T13:11:12.311972',\n",
       " 'originID': ObjectId('59b8423b0601bad0b9df0d4c')}"
      ]
     },
     "metadata": {},
     "output_type": "display_data"
    },
    {
     "data": {
      "text/plain": [
       "{'itisSearchURL': 'http://services.itis.gov/?wt=json&rows=10&q=tsn:554027',\n",
       " 'originCollection': 'gapspecies',\n",
       " 'originDate': '2017-09-16T13:11:12.956933',\n",
       " 'originID': ObjectId('59b8423b0601bad0b9df0d4d')}"
      ]
     },
     "metadata": {},
     "output_type": "display_data"
    },
    {
     "data": {
      "text/plain": [
       "{'itisSearchURL': 'http://services.itis.gov/?wt=json&rows=10&q=tsn:555664',\n",
       " 'originCollection': 'gapspecies',\n",
       " 'originDate': '2017-09-16T13:11:13.463692',\n",
       " 'originID': ObjectId('59b8423c0601bad0b9df0d4e')}"
      ]
     },
     "metadata": {},
     "output_type": "display_data"
    },
    {
     "data": {
      "text/plain": [
       "{'itisSearchURL': 'http://services.itis.gov/?wt=json&rows=10&q=tsn:180000',\n",
       " 'originCollection': 'gapspecies',\n",
       " 'originDate': '2017-09-16T13:11:13.990618',\n",
       " 'originID': ObjectId('59b8423c0601bad0b9df0d4f')}"
      ]
     },
     "metadata": {},
     "output_type": "display_data"
    },
    {
     "data": {
      "text/plain": [
       "{'itisSearchURL': 'http://services.itis.gov/?wt=json&rows=10&q=tsn:176974',\n",
       " 'originCollection': 'gapspecies',\n",
       " 'originDate': '2017-09-16T13:11:14.169125',\n",
       " 'originID': ObjectId('59b8423c0601bad0b9df0d50')}"
      ]
     },
     "metadata": {},
     "output_type": "display_data"
    },
    {
     "data": {
      "text/plain": [
       "{'itisSearchURL': 'http://services.itis.gov/?wt=json&rows=10&q=tsn:176571',\n",
       " 'originCollection': 'gapspecies',\n",
       " 'originDate': '2017-09-16T13:11:14.351913',\n",
       " 'originID': ObjectId('59b8423d0601bad0b9df0d51')}"
      ]
     },
     "metadata": {},
     "output_type": "display_data"
    },
    {
     "data": {
      "text/plain": [
       "{'itisSearchURL': 'http://services.itis.gov/?wt=json&rows=10&q=tsn:177925',\n",
       " 'originCollection': 'gapspecies',\n",
       " 'originDate': '2017-09-16T13:11:14.533073',\n",
       " 'originID': ObjectId('59b8423d0601bad0b9df0d52')}"
      ]
     },
     "metadata": {},
     "output_type": "display_data"
    },
    {
     "data": {
      "text/plain": [
       "{'itisSearchURL': 'http://services.itis.gov/?wt=json&rows=10&q=tsn:180315',\n",
       " 'originCollection': 'gapspecies',\n",
       " 'originDate': '2017-09-16T13:11:14.715431',\n",
       " 'originID': ObjectId('59b8423d0601bad0b9df0d53')}"
      ]
     },
     "metadata": {},
     "output_type": "display_data"
    },
    {
     "data": {
      "text/plain": [
       "{'itisSearchURL': 'http://services.itis.gov/?wt=json&rows=10&q=tsn:179339',\n",
       " 'originCollection': 'gapspecies',\n",
       " 'originDate': '2017-09-16T13:11:14.907657',\n",
       " 'originID': ObjectId('59b8423e0601bad0b9df0d54')}"
      ]
     },
     "metadata": {},
     "output_type": "display_data"
    },
    {
     "data": {
      "text/plain": [
       "{'itisSearchURL': 'http://services.itis.gov/?wt=json&rows=10&q=tsn:177912',\n",
       " 'originCollection': 'gapspecies',\n",
       " 'originDate': '2017-09-16T13:11:15.093411',\n",
       " 'originID': ObjectId('59b8423e0601bad0b9df0d55')}"
      ]
     },
     "metadata": {},
     "output_type": "display_data"
    },
    {
     "data": {
      "text/plain": [
       "{'itisSearchURL': 'http://services.itis.gov/?wt=json&rows=10&q=nameWOInd:Taricha\\\\%20sierrea',\n",
       " 'originCollection': 'gapspecies',\n",
       " 'originDate': '2017-09-16T13:11:15.280642',\n",
       " 'originID': ObjectId('59b8423e0601bad0b9df0d56')}"
      ]
     },
     "metadata": {},
     "output_type": "display_data"
    },
    {
     "data": {
      "text/plain": [
       "{'itisSearchURL': 'http://services.itis.gov/?wt=json&rows=10&q=tsn:180596',\n",
       " 'originCollection': 'gapspecies',\n",
       " 'originDate': '2017-09-16T13:11:15.470278',\n",
       " 'originID': ObjectId('59b8423f0601bad0b9df0d57')}"
      ]
     },
     "metadata": {},
     "output_type": "display_data"
    },
    {
     "data": {
      "text/plain": [
       "{'itisSearchURL': 'http://services.itis.gov/?wt=json&rows=10&q=tsn:180610',\n",
       " 'originCollection': 'gapspecies',\n",
       " 'originDate': '2017-09-16T13:11:15.653415',\n",
       " 'originID': ObjectId('59b8423f0601bad0b9df0d58')}"
      ]
     },
     "metadata": {},
     "output_type": "display_data"
    },
    {
     "data": {
      "text/plain": [
       "{'itisSearchURL': 'http://services.itis.gov/?wt=json&rows=10&q=tsn:180246',\n",
       " 'originCollection': 'gapspecies',\n",
       " 'originDate': '2017-09-16T13:11:15.841910',\n",
       " 'originID': ObjectId('59b8423f0601bad0b9df0d59')}"
      ]
     },
     "metadata": {},
     "output_type": "display_data"
    },
    {
     "data": {
      "text/plain": [
       "{'itisSearchURL': 'http://services.itis.gov/?wt=json&rows=10&q=tsn:180386',\n",
       " 'originCollection': 'gapspecies',\n",
       " 'originDate': '2017-09-16T13:11:16.024196',\n",
       " 'originID': ObjectId('59b842400601bad0b9df0d5a')}"
      ]
     },
     "metadata": {},
     "output_type": "display_data"
    },
    {
     "data": {
      "text/plain": [
       "{'itisSearchURL': 'http://services.itis.gov/?wt=json&rows=10&q=tsn:178759',\n",
       " 'originCollection': 'gapspecies',\n",
       " 'originDate': '2017-09-16T13:11:16.229060',\n",
       " 'originID': ObjectId('59b842400601bad0b9df0d5b')}"
      ]
     },
     "metadata": {},
     "output_type": "display_data"
    },
    {
     "data": {
      "text/plain": [
       "{'itisSearchURL': 'http://services.itis.gov/?wt=json&rows=10&q=tsn:176630',\n",
       " 'originCollection': 'gapspecies',\n",
       " 'originDate': '2017-09-16T13:11:16.413934',\n",
       " 'originID': ObjectId('59b842410601bad0b9df0d5c')}"
      ]
     },
     "metadata": {},
     "output_type": "display_data"
    },
    {
     "data": {
      "text/plain": [
       "{'itisSearchURL': 'http://services.itis.gov/?wt=json&rows=10&q=tsn:179152',\n",
       " 'originCollection': 'gapspecies',\n",
       " 'originDate': '2017-09-16T13:11:16.605881',\n",
       " 'originID': ObjectId('59b842410601bad0b9df0d5d')}"
      ]
     },
     "metadata": {},
     "output_type": "display_data"
    },
    {
     "data": {
      "text/plain": [
       "{'itisSearchURL': 'http://services.itis.gov/?wt=json&rows=10&q=tsn:773529',\n",
       " 'originCollection': 'gapspecies',\n",
       " 'originDate': '2017-09-16T13:11:16.787362',\n",
       " 'originID': ObjectId('59b842410601bad0b9df0d5e')}"
      ]
     },
     "metadata": {},
     "output_type": "display_data"
    },
    {
     "data": {
      "text/plain": [
       "{'itisSearchURL': 'http://services.itis.gov/?wt=json&rows=10&q=tsn:178339',\n",
       " 'originCollection': 'gapspecies',\n",
       " 'originDate': '2017-09-16T13:11:16.976280',\n",
       " 'originID': ObjectId('59b842420601bad0b9df0d5f')}"
      ]
     },
     "metadata": {},
     "output_type": "display_data"
    },
    {
     "data": {
      "text/plain": [
       "{'itisSearchURL': 'http://services.itis.gov/?wt=json&rows=10&q=tsn:178384',\n",
       " 'originCollection': 'gapspecies',\n",
       " 'originDate': '2017-09-16T13:11:17.160954',\n",
       " 'originID': ObjectId('59b842420601bad0b9df0d60')}"
      ]
     },
     "metadata": {},
     "output_type": "display_data"
    },
    {
     "data": {
      "text/plain": [
       "{'itisSearchURL': 'http://services.itis.gov/?wt=json&rows=10&q=tsn:179091',\n",
       " 'originCollection': 'gapspecies',\n",
       " 'originDate': '2017-09-16T13:11:17.344498',\n",
       " 'originID': ObjectId('59b842420601bad0b9df0d61')}"
      ]
     },
     "metadata": {},
     "output_type": "display_data"
    },
    {
     "data": {
      "text/plain": [
       "{'itisSearchURL': 'http://services.itis.gov/?wt=json&rows=10&q=tsn:573575',\n",
       " 'originCollection': 'gapspecies',\n",
       " 'originDate': '2017-09-16T13:11:17.528752',\n",
       " 'originID': ObjectId('59b842430601bad0b9df0d62')}"
      ]
     },
     "metadata": {},
     "output_type": "display_data"
    },
    {
     "data": {
      "text/plain": [
       "{'itisSearchURL': 'http://services.itis.gov/?wt=json&rows=10&q=tsn:173639',\n",
       " 'originCollection': 'gapspecies',\n",
       " 'originDate': '2017-09-16T13:11:17.712578',\n",
       " 'originID': ObjectId('59b842430601bad0b9df0d63')}"
      ]
     },
     "metadata": {},
     "output_type": "display_data"
    },
    {
     "data": {
      "text/plain": [
       "{'itisSearchURL': 'http://services.itis.gov/?wt=json&rows=10&q=tsn:178896',\n",
       " 'originCollection': 'gapspecies',\n",
       " 'originDate': '2017-09-16T13:11:17.897290',\n",
       " 'originID': ObjectId('59b842430601bad0b9df0d64')}"
      ]
     },
     "metadata": {},
     "output_type": "display_data"
    },
    {
     "data": {
      "text/plain": [
       "{'itisSearchURL': 'http://services.itis.gov/?wt=json&rows=10&q=tsn:177013',\n",
       " 'originCollection': 'gapspecies',\n",
       " 'originDate': '2017-09-16T13:11:18.076033',\n",
       " 'originID': ObjectId('59b842440601bad0b9df0d65')}"
      ]
     },
     "metadata": {},
     "output_type": "display_data"
    },
    {
     "data": {
      "text/plain": [
       "{'itisSearchURL': 'http://services.itis.gov/?wt=json&rows=10&q=tsn:174755',\n",
       " 'originCollection': 'gapspecies',\n",
       " 'originDate': '2017-09-16T13:11:18.257465',\n",
       " 'originID': ObjectId('59b842440601bad0b9df0d66')}"
      ]
     },
     "metadata": {},
     "output_type": "display_data"
    },
    {
     "data": {
      "text/plain": [
       "{'itisSearchURL': 'http://services.itis.gov/?wt=json&rows=10&q=tsn:177992',\n",
       " 'originCollection': 'gapspecies',\n",
       " 'originDate': '2017-09-16T13:11:18.440083',\n",
       " 'originID': ObjectId('59b842440601bad0b9df0d67')}"
      ]
     },
     "metadata": {},
     "output_type": "display_data"
    },
    {
     "data": {
      "text/plain": [
       "{'itisSearchURL': 'http://services.itis.gov/?wt=json&rows=10&q=tsn:178636',\n",
       " 'originCollection': 'gapspecies',\n",
       " 'originDate': '2017-09-16T13:11:18.622969',\n",
       " 'originID': ObjectId('59b842440601bad0b9df0d68')}"
      ]
     },
     "metadata": {},
     "output_type": "display_data"
    },
    {
     "data": {
      "text/plain": [
       "{'itisSearchURL': 'http://services.itis.gov/?wt=json&rows=10&q=tsn:179108',\n",
       " 'originCollection': 'gapspecies',\n",
       " 'originDate': '2017-09-16T13:11:18.811301',\n",
       " 'originID': ObjectId('59b842450601bad0b9df0d69')}"
      ]
     },
     "metadata": {},
     "output_type": "display_data"
    },
    {
     "data": {
      "text/plain": [
       "{'itisSearchURL': 'http://services.itis.gov/?wt=json&rows=10&q=tsn:180150',\n",
       " 'originCollection': 'gapspecies',\n",
       " 'originDate': '2017-09-16T13:11:19.000681',\n",
       " 'originID': ObjectId('59b842450601bad0b9df0d6a')}"
      ]
     },
     "metadata": {},
     "output_type": "display_data"
    },
    {
     "data": {
      "text/plain": [
       "{'itisSearchURL': 'http://services.itis.gov/?wt=json&rows=10&q=tsn:550244',\n",
       " 'originCollection': 'gapspecies',\n",
       " 'originDate': '2017-09-16T13:11:19.188986',\n",
       " 'originID': ObjectId('59b842450601bad0b9df0d6b')}"
      ]
     },
     "metadata": {},
     "output_type": "display_data"
    },
    {
     "data": {
      "text/plain": [
       "{'itisSearchURL': 'http://services.itis.gov/?wt=json&rows=10&q=tsn:178990',\n",
       " 'originCollection': 'gapspecies',\n",
       " 'originDate': '2017-09-16T13:11:19.386463',\n",
       " 'originID': ObjectId('59b842460601bad0b9df0d6c')}"
      ]
     },
     "metadata": {},
     "output_type": "display_data"
    },
    {
     "data": {
      "text/plain": [
       "{'itisSearchURL': 'http://services.itis.gov/?wt=json&rows=10&q=tsn:179173',\n",
       " 'originCollection': 'gapspecies',\n",
       " 'originDate': '2017-09-16T13:11:19.591897',\n",
       " 'originID': ObjectId('59b842460601bad0b9df0d6d')}"
      ]
     },
     "metadata": {},
     "output_type": "display_data"
    },
    {
     "data": {
      "text/plain": [
       "{'itisSearchURL': 'http://services.itis.gov/?wt=json&rows=10&q=tsn:554383',\n",
       " 'originCollection': 'gapspecies',\n",
       " 'originDate': '2017-09-16T13:11:19.788280',\n",
       " 'originID': ObjectId('59b842470601bad0b9df0d6e')}"
      ]
     },
     "metadata": {},
     "output_type": "display_data"
    },
    {
     "data": {
      "text/plain": [
       "{'itisSearchURL': 'http://services.itis.gov/?wt=json&rows=10&q=tsn:180339',\n",
       " 'originCollection': 'gapspecies',\n",
       " 'originDate': '2017-09-16T13:11:20.100942',\n",
       " 'originID': ObjectId('59b842470601bad0b9df0d6f')}"
      ]
     },
     "metadata": {},
     "output_type": "display_data"
    },
    {
     "data": {
      "text/plain": [
       "{'itisSearchURL': 'http://services.itis.gov/?wt=json&rows=10&q=tsn:178208',\n",
       " 'originCollection': 'gapspecies',\n",
       " 'originDate': '2017-09-16T13:11:20.431794',\n",
       " 'originID': ObjectId('59b842470601bad0b9df0d70')}"
      ]
     },
     "metadata": {},
     "output_type": "display_data"
    },
    {
     "data": {
      "text/plain": [
       "{'itisSearchURL': 'http://services.itis.gov/?wt=json&rows=10&q=tsn:180002',\n",
       " 'originCollection': 'gapspecies',\n",
       " 'originDate': '2017-09-16T13:11:20.739182',\n",
       " 'originID': ObjectId('59b842480601bad0b9df0d71')}"
      ]
     },
     "metadata": {},
     "output_type": "display_data"
    },
    {
     "data": {
      "text/plain": [
       "{'itisSearchURL': 'http://services.itis.gov/?wt=json&rows=10&q=tsn:180267',\n",
       " 'originCollection': 'gapspecies',\n",
       " 'originDate': '2017-09-16T13:11:21.249642',\n",
       " 'originID': ObjectId('59b842480601bad0b9df0d72')}"
      ]
     },
     "metadata": {},
     "output_type": "display_data"
    },
    {
     "data": {
      "text/plain": [
       "{'itisSearchURL': 'http://services.itis.gov/?wt=json&rows=10&q=tsn:180177',\n",
       " 'originCollection': 'gapspecies',\n",
       " 'originDate': '2017-09-16T13:11:21.893827',\n",
       " 'originID': ObjectId('59b842480601bad0b9df0d73')}"
      ]
     },
     "metadata": {},
     "output_type": "display_data"
    },
    {
     "data": {
      "text/plain": [
       "{'itisSearchURL': 'http://services.itis.gov/?wt=json&rows=10&q=tsn:179940',\n",
       " 'originCollection': 'gapspecies',\n",
       " 'originDate': '2017-09-16T13:11:23.398012',\n",
       " 'originID': ObjectId('59b842490601bad0b9df0d74')}"
      ]
     },
     "metadata": {},
     "output_type": "display_data"
    },
    {
     "data": {
      "text/plain": [
       "{'itisSearchURL': 'http://services.itis.gov/?wt=json&rows=10&q=tsn:180371',\n",
       " 'originCollection': 'gapspecies',\n",
       " 'originDate': '2017-09-16T13:11:23.823787',\n",
       " 'originID': ObjectId('59b842490601bad0b9df0d75')}"
      ]
     },
     "metadata": {},
     "output_type": "display_data"
    },
    {
     "data": {
      "text/plain": [
       "{'itisSearchURL': 'http://services.itis.gov/?wt=json&rows=10&q=tsn:773528',\n",
       " 'originCollection': 'gapspecies',\n",
       " 'originDate': '2017-09-16T13:11:24.010830',\n",
       " 'originID': ObjectId('59b842490601bad0b9df0d76')}"
      ]
     },
     "metadata": {},
     "output_type": "display_data"
    },
    {
     "data": {
      "text/plain": [
       "{'itisSearchURL': 'http://services.itis.gov/?wt=json&rows=10&q=tsn:775211',\n",
       " 'originCollection': 'gapspecies',\n",
       " 'originDate': '2017-09-16T13:11:24.195231',\n",
       " 'originID': ObjectId('59b8424a0601bad0b9df0d77')}"
      ]
     },
     "metadata": {},
     "output_type": "display_data"
    },
    {
     "data": {
      "text/plain": [
       "{'itisSearchURL': 'http://services.itis.gov/?wt=json&rows=10&q=tsn:173714',\n",
       " 'originCollection': 'gapspecies',\n",
       " 'originDate': '2017-09-16T13:11:24.387994',\n",
       " 'originID': ObjectId('59b8424a0601bad0b9df0d78')}"
      ]
     },
     "metadata": {},
     "output_type": "display_data"
    },
    {
     "data": {
      "text/plain": [
       "{'itisSearchURL': 'http://services.itis.gov/?wt=json&rows=10&q=tsn:173609',\n",
       " 'originCollection': 'gapspecies',\n",
       " 'originDate': '2017-09-16T13:11:24.568946',\n",
       " 'originID': ObjectId('59b8424b0601bad0b9df0d79')}"
      ]
     },
     "metadata": {},
     "output_type": "display_data"
    },
    {
     "data": {
      "text/plain": [
       "{'itisSearchURL': 'http://services.itis.gov/?wt=json&rows=10&q=tsn:180379',\n",
       " 'originCollection': 'gapspecies',\n",
       " 'originDate': '2017-09-16T13:11:24.750722',\n",
       " 'originID': ObjectId('59b8424b0601bad0b9df0d7a')}"
      ]
     },
     "metadata": {},
     "output_type": "display_data"
    },
    {
     "data": {
      "text/plain": [
       "{'itisSearchURL': 'http://services.itis.gov/?wt=json&rows=10&q=tsn:180596',\n",
       " 'originCollection': 'gapspecies',\n",
       " 'originDate': '2017-09-16T13:11:24.933473',\n",
       " 'originID': ObjectId('59b8424c0601bad0b9df0d7b')}"
      ]
     },
     "metadata": {},
     "output_type": "display_data"
    },
    {
     "data": {
      "text/plain": [
       "{'itisSearchURL': 'http://services.itis.gov/?wt=json&rows=10&q=tsn:174255',\n",
       " 'originCollection': 'gapspecies',\n",
       " 'originDate': '2017-09-16T13:11:25.116628',\n",
       " 'originID': ObjectId('59b8424c0601bad0b9df0d7c')}"
      ]
     },
     "metadata": {},
     "output_type": "display_data"
    },
    {
     "data": {
      "text/plain": [
       "{'itisSearchURL': 'http://services.itis.gov/?wt=json&rows=10&q=tsn:179995',\n",
       " 'originCollection': 'gapspecies',\n",
       " 'originDate': '2017-09-16T13:11:25.300847',\n",
       " 'originID': ObjectId('59b8424d0601bad0b9df0d7d')}"
      ]
     },
     "metadata": {},
     "output_type": "display_data"
    },
    {
     "data": {
      "text/plain": [
       "{'itisSearchURL': 'http://services.itis.gov/?wt=json&rows=10&q=tsn:173652',\n",
       " 'originCollection': 'gapspecies',\n",
       " 'originDate': '2017-09-16T13:11:25.483116',\n",
       " 'originID': ObjectId('59b8424d0601bad0b9df0d7e')}"
      ]
     },
     "metadata": {},
     "output_type": "display_data"
    },
    {
     "data": {
      "text/plain": [
       "{'itisSearchURL': 'http://services.itis.gov/?wt=json&rows=10&q=tsn:179333',\n",
       " 'originCollection': 'gapspecies',\n",
       " 'originDate': '2017-09-16T13:11:25.666982',\n",
       " 'originID': ObjectId('59b8424e0601bad0b9df0d7f')}"
      ]
     },
     "metadata": {},
     "output_type": "display_data"
    },
    {
     "data": {
      "text/plain": [
       "{'itisSearchURL': 'http://services.itis.gov/?wt=json&rows=10&q=tsn:173627',\n",
       " 'originCollection': 'gapspecies',\n",
       " 'originDate': '2017-09-16T13:11:25.854248',\n",
       " 'originID': ObjectId('59b8424e0601bad0b9df0d80')}"
      ]
     },
     "metadata": {},
     "output_type": "display_data"
    },
    {
     "data": {
      "text/plain": [
       "{'itisSearchURL': 'http://services.itis.gov/?wt=json&rows=10&q=tsn:173967',\n",
       " 'originCollection': 'gapspecies',\n",
       " 'originDate': '2017-09-16T13:11:26.064277',\n",
       " 'originID': ObjectId('59b8424f0601bad0b9df0d81')}"
      ]
     },
     "metadata": {},
     "output_type": "display_data"
    },
    {
     "data": {
      "text/plain": [
       "{'itisSearchURL': 'http://services.itis.gov/?wt=json&rows=10&q=tsn:180544',\n",
       " 'originCollection': 'gapspecies',\n",
       " 'originDate': '2017-09-16T13:11:26.250686',\n",
       " 'originID': ObjectId('59b8424f0601bad0b9df0d82')}"
      ]
     },
     "metadata": {},
     "output_type": "display_data"
    },
    {
     "data": {
      "text/plain": [
       "{'itisSearchURL': 'http://services.itis.gov/?wt=json&rows=10&q=tsn:555660',\n",
       " 'originCollection': 'gapspecies',\n",
       " 'originDate': '2017-09-16T13:11:26.429894',\n",
       " 'originID': ObjectId('59b8424f0601bad0b9df0d83')}"
      ]
     },
     "metadata": {},
     "output_type": "display_data"
    },
    {
     "data": {
      "text/plain": [
       "{'itisSearchURL': 'http://services.itis.gov/?wt=json&rows=10&q=tsn:179979',\n",
       " 'originCollection': 'gapspecies',\n",
       " 'originDate': '2017-09-16T13:11:26.617825',\n",
       " 'originID': ObjectId('59b842500601bad0b9df0d84')}"
      ]
     },
     "metadata": {},
     "output_type": "display_data"
    },
    {
     "data": {
      "text/plain": [
       "{'itisSearchURL': 'http://services.itis.gov/?wt=json&rows=10&q=tsn:180201',\n",
       " 'originCollection': 'gapspecies',\n",
       " 'originDate': '2017-09-16T13:11:26.798614',\n",
       " 'originID': ObjectId('59b842500601bad0b9df0d85')}"
      ]
     },
     "metadata": {},
     "output_type": "display_data"
    },
    {
     "data": {
      "text/plain": [
       "{'itisSearchURL': 'http://services.itis.gov/?wt=json&rows=10&q=tsn:552761',\n",
       " 'originCollection': 'gapspecies',\n",
       " 'originDate': '2017-09-16T13:11:27.000210',\n",
       " 'originID': ObjectId('59b842510601bad0b9df0d86')}"
      ]
     },
     "metadata": {},
     "output_type": "display_data"
    },
    {
     "data": {
      "text/plain": [
       "{'itisSearchURL': 'http://services.itis.gov/?wt=json&rows=10&q=tsn:173941',\n",
       " 'originCollection': 'gapspecies',\n",
       " 'originDate': '2017-09-16T13:11:27.185819',\n",
       " 'originID': ObjectId('59b842510601bad0b9df0d87')}"
      ]
     },
     "metadata": {},
     "output_type": "display_data"
    },
    {
     "data": {
      "text/plain": [
       "{'itisSearchURL': 'http://services.itis.gov/?wt=json&rows=10&q=tsn:173968',\n",
       " 'originCollection': 'gapspecies',\n",
       " 'originDate': '2017-09-16T13:11:27.369589',\n",
       " 'originID': ObjectId('59b842520601bad0b9df0d88')}"
      ]
     },
     "metadata": {},
     "output_type": "display_data"
    },
    {
     "data": {
      "text/plain": [
       "{'itisSearchURL': 'http://services.itis.gov/?wt=json&rows=10&q=tsn:180167',\n",
       " 'originCollection': 'gapspecies',\n",
       " 'originDate': '2017-09-16T13:11:27.595119',\n",
       " 'originID': ObjectId('59b842520601bad0b9df0d89')}"
      ]
     },
     "metadata": {},
     "output_type": "display_data"
    },
    {
     "data": {
      "text/plain": [
       "{'itisSearchURL': 'http://services.itis.gov/?wt=json&rows=10&q=tsn:179951',\n",
       " 'originCollection': 'gapspecies',\n",
       " 'originDate': '2017-09-16T13:11:27.788012',\n",
       " 'originID': ObjectId('59b842530601bad0b9df0d8a')}"
      ]
     },
     "metadata": {},
     "output_type": "display_data"
    },
    {
     "data": {
      "text/plain": [
       "{'itisSearchURL': 'http://services.itis.gov/?wt=json&rows=10&q=tsn:180025',\n",
       " 'originCollection': 'gapspecies',\n",
       " 'originDate': '2017-09-16T13:11:27.970463',\n",
       " 'originID': ObjectId('59b842530601bad0b9df0d8b')}"
      ]
     },
     "metadata": {},
     "output_type": "display_data"
    },
    {
     "data": {
      "text/plain": [
       "{'itisSearchURL': 'http://services.itis.gov/?wt=json&rows=10&q=tsn:174113',\n",
       " 'originCollection': 'gapspecies',\n",
       " 'originDate': '2017-09-16T13:11:28.151650',\n",
       " 'originID': ObjectId('59b842540601bad0b9df0d8c')}"
      ]
     },
     "metadata": {},
     "output_type": "display_data"
    },
    {
     "data": {
      "text/plain": [
       "{'itisSearchURL': 'http://services.itis.gov/?wt=json&rows=10&q=tsn:173758',\n",
       " 'originCollection': 'gapspecies',\n",
       " 'originDate': '2017-09-16T13:11:28.342267',\n",
       " 'originID': ObjectId('59b842540601bad0b9df0d8d')}"
      ]
     },
     "metadata": {},
     "output_type": "display_data"
    },
    {
     "data": {
      "text/plain": [
       "{'itisSearchURL': 'http://services.itis.gov/?wt=json&rows=10&q=tsn:180207',\n",
       " 'originCollection': 'gapspecies',\n",
       " 'originDate': '2017-09-16T13:11:28.522714',\n",
       " 'originID': ObjectId('59b842550601bad0b9df0d8e')}"
      ]
     },
     "metadata": {},
     "output_type": "display_data"
    },
    {
     "data": {
      "text/plain": [
       "{'itisSearchURL': 'http://services.itis.gov/?wt=json&rows=10&q=tsn:178935',\n",
       " 'originCollection': 'gapspecies',\n",
       " 'originDate': '2017-09-16T13:11:28.705426',\n",
       " 'originID': ObjectId('59b842550601bad0b9df0d8f')}"
      ]
     },
     "metadata": {},
     "output_type": "display_data"
    },
    {
     "data": {
      "text/plain": [
       "{'itisSearchURL': 'http://services.itis.gov/?wt=json&rows=10&q=tsn:178940',\n",
       " 'originCollection': 'gapspecies',\n",
       " 'originDate': '2017-09-16T13:11:28.887552',\n",
       " 'originID': ObjectId('59b842560601bad0b9df0d90')}"
      ]
     },
     "metadata": {},
     "output_type": "display_data"
    },
    {
     "data": {
      "text/plain": [
       "{'itisSearchURL': 'http://services.itis.gov/?wt=json&rows=10&q=tsn:178260',\n",
       " 'originCollection': 'gapspecies',\n",
       " 'originDate': '2017-09-16T13:11:29.078492',\n",
       " 'originID': ObjectId('59b842560601bad0b9df0d91')}"
      ]
     },
     "metadata": {},
     "output_type": "display_data"
    },
    {
     "data": {
      "text/plain": [
       "{'itisSearchURL': 'http://services.itis.gov/?wt=json&rows=10&q=tsn:179234',\n",
       " 'originCollection': 'gapspecies',\n",
       " 'originDate': '2017-09-16T13:11:29.262918',\n",
       " 'originID': ObjectId('59b842570601bad0b9df0d92')}"
      ]
     },
     "metadata": {},
     "output_type": "display_data"
    },
    {
     "data": {
      "text/plain": [
       "{'itisSearchURL': 'http://services.itis.gov/?wt=json&rows=10&q=tsn:173468',\n",
       " 'originCollection': 'gapspecies',\n",
       " 'originDate': '2017-09-16T13:11:29.447892',\n",
       " 'originID': ObjectId('59b842570601bad0b9df0d93')}"
      ]
     },
     "metadata": {},
     "output_type": "display_data"
    },
    {
     "data": {
      "text/plain": [
       "{'itisSearchURL': 'http://services.itis.gov/?wt=json&rows=10&q=tsn:175378',\n",
       " 'originCollection': 'gapspecies',\n",
       " 'originDate': '2017-09-16T13:11:29.630971',\n",
       " 'originID': ObjectId('59b842580601bad0b9df0d94')}"
      ]
     },
     "metadata": {},
     "output_type": "display_data"
    },
    {
     "data": {
      "text/plain": [
       "{'itisSearchURL': 'http://services.itis.gov/?wt=json&rows=10&q=tsn:554268',\n",
       " 'originCollection': 'gapspecies',\n",
       " 'originDate': '2017-09-16T13:11:29.918336',\n",
       " 'originID': ObjectId('59b842580601bad0b9df0d95')}"
      ]
     },
     "metadata": {},
     "output_type": "display_data"
    },
    {
     "data": {
      "text/plain": [
       "{'itisSearchURL': 'http://services.itis.gov/?wt=json&rows=10&q=tsn:176522',\n",
       " 'originCollection': 'gapspecies',\n",
       " 'originDate': '2017-09-16T13:11:30.546117',\n",
       " 'originID': ObjectId('59b842590601bad0b9df0d96')}"
      ]
     },
     "metadata": {},
     "output_type": "display_data"
    },
    {
     "data": {
      "text/plain": [
       "{'itisSearchURL': 'http://services.itis.gov/?wt=json&rows=10&q=tsn:179956',\n",
       " 'originCollection': 'gapspecies',\n",
       " 'originDate': '2017-09-16T13:11:31.020953',\n",
       " 'originID': ObjectId('59b8425a0601bad0b9df0d97')}"
      ]
     },
     "metadata": {},
     "output_type": "display_data"
    },
    {
     "data": {
      "text/plain": [
       "{'itisSearchURL': 'http://services.itis.gov/?wt=json&rows=10&q=tsn:552495',\n",
       " 'originCollection': 'gapspecies',\n",
       " 'originDate': '2017-09-16T13:11:31.660443',\n",
       " 'originID': ObjectId('59b8425a0601bad0b9df0d98')}"
      ]
     },
     "metadata": {},
     "output_type": "display_data"
    },
    {
     "data": {
      "text/plain": [
       "{'itisSearchURL': 'http://services.itis.gov/?wt=json&rows=10&q=tsn:552490',\n",
       " 'originCollection': 'gapspecies',\n",
       " 'originDate': '2017-09-16T13:11:32.173329',\n",
       " 'originID': ObjectId('59b8425b0601bad0b9df0d99')}"
      ]
     },
     "metadata": {},
     "output_type": "display_data"
    },
    {
     "data": {
      "text/plain": [
       "{'itisSearchURL': 'http://services.itis.gov/?wt=json&rows=10&q=tsn:180137',\n",
       " 'originCollection': 'gapspecies',\n",
       " 'originDate': '2017-09-16T13:11:32.643248',\n",
       " 'originID': ObjectId('59b8425b0601bad0b9df0d9a')}"
      ]
     },
     "metadata": {},
     "output_type": "display_data"
    },
    {
     "data": {
      "text/plain": [
       "{'itisSearchURL': 'http://services.itis.gov/?wt=json&rows=10&q=tsn:174508',\n",
       " 'originCollection': 'gapspecies',\n",
       " 'originDate': '2017-09-16T13:11:33.458626',\n",
       " 'originID': ObjectId('59b8425c0601bad0b9df0d9b')}"
      ]
     },
     "metadata": {},
     "output_type": "display_data"
    },
    {
     "data": {
      "text/plain": [
       "{'itisSearchURL': 'http://services.itis.gov/?wt=json&rows=10&q=tsn:178211',\n",
       " 'originCollection': 'gapspecies',\n",
       " 'originDate': '2017-09-16T13:11:33.641853',\n",
       " 'originID': ObjectId('59b8425c0601bad0b9df0d9c')}"
      ]
     },
     "metadata": {},
     "output_type": "display_data"
    },
    {
     "data": {
      "text/plain": [
       "{'itisSearchURL': 'http://services.itis.gov/?wt=json&rows=10&q=tsn:180627',\n",
       " 'originCollection': 'gapspecies',\n",
       " 'originDate': '2017-09-16T13:11:33.831612',\n",
       " 'originID': ObjectId('59b8425c0601bad0b9df0d9d')}"
      ]
     },
     "metadata": {},
     "output_type": "display_data"
    },
    {
     "data": {
      "text/plain": [
       "{'itisSearchURL': 'http://services.itis.gov/?wt=json&rows=10&q=tsn:173759',\n",
       " 'originCollection': 'gapspecies',\n",
       " 'originDate': '2017-09-16T13:11:34.013119',\n",
       " 'originID': ObjectId('59b8425d0601bad0b9df0d9e')}"
      ]
     },
     "metadata": {},
     "output_type": "display_data"
    },
    {
     "data": {
      "text/plain": [
       "{'itisSearchURL': 'http://services.itis.gov/?wt=json&rows=10&q=tsn:180140',\n",
       " 'originCollection': 'gapspecies',\n",
       " 'originDate': '2017-09-16T13:11:34.230858',\n",
       " 'originID': ObjectId('59b8425d0601bad0b9df0d9f')}"
      ]
     },
     "metadata": {},
     "output_type": "display_data"
    },
    {
     "data": {
      "text/plain": [
       "{'itisSearchURL': 'http://services.itis.gov/?wt=json&rows=10&q=tsn:180289',\n",
       " 'originCollection': 'gapspecies',\n",
       " 'originDate': '2017-09-16T13:11:34.414757',\n",
       " 'originID': ObjectId('59b8425e0601bad0b9df0da0')}"
      ]
     },
     "metadata": {},
     "output_type": "display_data"
    },
    {
     "data": {
      "text/plain": [
       "{'itisSearchURL': 'http://services.itis.gov/?wt=json&rows=10&q=tsn:209548',\n",
       " 'originCollection': 'gapspecies',\n",
       " 'originDate': '2017-09-16T13:11:34.602235',\n",
       " 'originID': ObjectId('59b8425f0601bad0b9df0da1')}"
      ]
     },
     "metadata": {},
     "output_type": "display_data"
    },
    {
     "data": {
      "text/plain": [
       "{'itisSearchURL': 'http://services.itis.gov/?wt=json&rows=10&q=tsn:175776',\n",
       " 'originCollection': 'gapspecies',\n",
       " 'originDate': '2017-09-16T13:11:34.782329',\n",
       " 'originID': ObjectId('59b8425f0601bad0b9df0da2')}"
      ]
     },
     "metadata": {},
     "output_type": "display_data"
    },
    {
     "data": {
      "text/plain": [
       "{'itisSearchURL': 'http://services.itis.gov/?wt=json&rows=10&q=tsn:774570',\n",
       " 'originCollection': 'gapspecies',\n",
       " 'originDate': '2017-09-16T13:11:34.973285',\n",
       " 'originID': ObjectId('59b842600601bad0b9df0da3')}"
      ]
     },
     "metadata": {},
     "output_type": "display_data"
    },
    {
     "data": {
      "text/plain": [
       "{'itisSearchURL': 'http://services.itis.gov/?wt=json&rows=10&q=tsn:174288',\n",
       " 'originCollection': 'gapspecies',\n",
       " 'originDate': '2017-09-16T13:11:35.159590',\n",
       " 'originID': ObjectId('59b842610601bad0b9df0da4')}"
      ]
     },
     "metadata": {},
     "output_type": "display_data"
    },
    {
     "data": {
      "text/plain": [
       "{'itisSearchURL': 'http://services.itis.gov/?wt=json&rows=10&q=tsn:174015',\n",
       " 'originCollection': 'gapspecies',\n",
       " 'originDate': '2017-09-16T13:11:35.339059',\n",
       " 'originID': ObjectId('59b842610601bad0b9df0da5')}"
      ]
     },
     "metadata": {},
     "output_type": "display_data"
    },
    {
     "data": {
      "text/plain": [
       "{'itisSearchURL': 'http://services.itis.gov/?wt=json&rows=10&q=tsn:550247',\n",
       " 'originCollection': 'gapspecies',\n",
       " 'originDate': '2017-09-16T13:11:35.519635',\n",
       " 'originID': ObjectId('59b842620601bad0b9df0da6')}"
      ]
     },
     "metadata": {},
     "output_type": "display_data"
    },
    {
     "data": {
      "text/plain": [
       "{'itisSearchURL': 'http://services.itis.gov/?wt=json&rows=10&q=tsn:573579',\n",
       " 'originCollection': 'gapspecies',\n",
       " 'originDate': '2017-09-16T13:11:35.702709',\n",
       " 'originID': ObjectId('59b842630601bad0b9df0da7')}"
      ]
     },
     "metadata": {},
     "output_type": "display_data"
    },
    {
     "data": {
      "text/plain": [
       "{'itisSearchURL': 'http://services.itis.gov/?wt=json&rows=10&q=tsn:178909',\n",
       " 'originCollection': 'gapspecies',\n",
       " 'originDate': '2017-09-16T13:11:35.901223',\n",
       " 'originID': ObjectId('59b842630601bad0b9df0da8')}"
      ]
     },
     "metadata": {},
     "output_type": "display_data"
    },
    {
     "data": {
      "text/plain": [
       "{'itisSearchURL': 'http://services.itis.gov/?wt=json&rows=10&q=tsn:554388',\n",
       " 'originCollection': 'gapspecies',\n",
       " 'originDate': '2017-09-16T13:11:36.083538',\n",
       " 'originID': ObjectId('59b842640601bad0b9df0da9')}"
      ]
     },
     "metadata": {},
     "output_type": "display_data"
    },
    {
     "data": {
      "text/plain": [
       "{'itisSearchURL': 'http://services.itis.gov/?wt=json&rows=10&q=tsn:180169',\n",
       " 'originCollection': 'gapspecies',\n",
       " 'originDate': '2017-09-16T13:11:36.265221',\n",
       " 'originID': ObjectId('59b842650601bad0b9df0daa')}"
      ]
     },
     "metadata": {},
     "output_type": "display_data"
    },
    {
     "data": {
      "text/plain": [
       "{'itisSearchURL': 'http://services.itis.gov/?wt=json&rows=10&q=tsn:173961',\n",
       " 'originCollection': 'gapspecies',\n",
       " 'originDate': '2017-09-16T13:11:36.445573',\n",
       " 'originID': ObjectId('59b842650601bad0b9df0dab')}"
      ]
     },
     "metadata": {},
     "output_type": "display_data"
    },
    {
     "data": {
      "text/plain": [
       "{'itisSearchURL': 'http://services.itis.gov/?wt=json&rows=10&q=tsn:173938',\n",
       " 'originCollection': 'gapspecies',\n",
       " 'originDate': '2017-09-16T13:11:36.624726',\n",
       " 'originID': ObjectId('59b842660601bad0b9df0dac')}"
      ]
     },
     "metadata": {},
     "output_type": "display_data"
    },
    {
     "data": {
      "text/plain": [
       "{'itisSearchURL': 'http://services.itis.gov/?wt=json&rows=10&q=tsn:773525',\n",
       " 'originCollection': 'gapspecies',\n",
       " 'originDate': '2017-09-16T13:11:36.821799',\n",
       " 'originID': ObjectId('59b842670601bad0b9df0dad')}"
      ]
     },
     "metadata": {},
     "output_type": "display_data"
    },
    {
     "data": {
      "text/plain": [
       "{'itisSearchURL': 'http://services.itis.gov/?wt=json&rows=10&q=tsn:668316',\n",
       " 'originCollection': 'gapspecies',\n",
       " 'originDate': '2017-09-16T13:11:37.005229',\n",
       " 'originID': ObjectId('59b842680601bad0b9df0dae')}"
      ]
     },
     "metadata": {},
     "output_type": "display_data"
    },
    {
     "data": {
      "text/plain": [
       "{'itisSearchURL': 'http://services.itis.gov/?wt=json&rows=10&q=tsn:173700',\n",
       " 'originCollection': 'gapspecies',\n",
       " 'originDate': '2017-09-16T13:11:37.208073',\n",
       " 'originID': ObjectId('59b842680601bad0b9df0daf')}"
      ]
     },
     "metadata": {},
     "output_type": "display_data"
    },
    {
     "data": {
      "text/plain": [
       "{'itisSearchURL': 'http://services.itis.gov/?wt=json&rows=10&q=tsn:173661',\n",
       " 'originCollection': 'gapspecies',\n",
       " 'originDate': '2017-09-16T13:11:37.392087',\n",
       " 'originID': ObjectId('59b842690601bad0b9df0db0')}"
      ]
     },
     "metadata": {},
     "output_type": "display_data"
    },
    {
     "data": {
      "text/plain": [
       "{'itisSearchURL': 'http://services.itis.gov/?wt=json&rows=10&q=tsn:207009',\n",
       " 'originCollection': 'gapspecies',\n",
       " 'originDate': '2017-09-16T13:11:37.573602',\n",
       " 'originID': ObjectId('59b8426a0601bad0b9df0db1')}"
      ]
     },
     "metadata": {},
     "output_type": "display_data"
    },
    {
     "data": {
      "text/plain": [
       "{'itisSearchURL': 'http://services.itis.gov/?wt=json&rows=10&q=tsn:707815',\n",
       " 'originCollection': 'gapspecies',\n",
       " 'originDate': '2017-09-16T13:11:37.755567',\n",
       " 'originID': ObjectId('59b8426b0601bad0b9df0db2')}"
      ]
     },
     "metadata": {},
     "output_type": "display_data"
    },
    {
     "data": {
      "text/plain": [
       "{'itisSearchURL': 'http://services.itis.gov/?wt=json&rows=10&q=tsn:175863',\n",
       " 'originCollection': 'gapspecies',\n",
       " 'originDate': '2017-09-16T13:11:37.947390',\n",
       " 'originID': ObjectId('59b8426b0601bad0b9df0db3')}"
      ]
     },
     "metadata": {},
     "output_type": "display_data"
    },
    {
     "data": {
      "text/plain": [
       "{'itisSearchURL': 'http://services.itis.gov/?wt=json&rows=10&q=tsn:180170',\n",
       " 'originCollection': 'gapspecies',\n",
       " 'originDate': '2017-09-16T13:11:38.128297',\n",
       " 'originID': ObjectId('59b8426c0601bad0b9df0db4')}"
      ]
     },
     "metadata": {},
     "output_type": "display_data"
    },
    {
     "data": {
      "text/plain": [
       "{'itisSearchURL': 'http://services.itis.gov/?wt=json&rows=10&q=tsn:173699',\n",
       " 'originCollection': 'gapspecies',\n",
       " 'originDate': '2017-09-16T13:11:38.312960',\n",
       " 'originID': ObjectId('59b8426d0601bad0b9df0db5')}"
      ]
     },
     "metadata": {},
     "output_type": "display_data"
    },
    {
     "data": {
      "text/plain": [
       "{'itisSearchURL': 'http://services.itis.gov/?wt=json&rows=10&q=tsn:173587',\n",
       " 'originCollection': 'gapspecies',\n",
       " 'originDate': '2017-09-16T13:11:38.493568',\n",
       " 'originID': ObjectId('59b8426e0601bad0b9df0db6')}"
      ]
     },
     "metadata": {},
     "output_type": "display_data"
    },
    {
     "data": {
      "text/plain": [
       "{'itisSearchURL': 'http://services.itis.gov/?wt=json&rows=10&q=tsn:180372',\n",
       " 'originCollection': 'gapspecies',\n",
       " 'originDate': '2017-09-16T13:11:38.674034',\n",
       " 'originID': ObjectId('59b8426f0601bad0b9df0db7')}"
      ]
     },
     "metadata": {},
     "output_type": "display_data"
    },
    {
     "data": {
      "text/plain": [
       "{'itisSearchURL': 'http://services.itis.gov/?wt=json&rows=10&q=tsn:555658',\n",
       " 'originCollection': 'gapspecies',\n",
       " 'originDate': '2017-09-16T13:11:38.862774',\n",
       " 'originID': ObjectId('59b842700601bad0b9df0db8')}"
      ]
     },
     "metadata": {},
     "output_type": "display_data"
    },
    {
     "data": {
      "text/plain": [
       "{'itisSearchURL': 'http://services.itis.gov/?wt=json&rows=10&q=tsn:683049',\n",
       " 'originCollection': 'gapspecies',\n",
       " 'originDate': '2017-09-16T13:11:39.044576',\n",
       " 'originID': ObjectId('59b842710601bad0b9df0db9')}"
      ]
     },
     "metadata": {},
     "output_type": "display_data"
    },
    {
     "data": {
      "text/plain": [
       "{'itisSearchURL': 'http://services.itis.gov/?wt=json&rows=10&q=tsn:173771',\n",
       " 'originCollection': 'gapspecies',\n",
       " 'originDate': '2017-09-16T13:11:39.227538',\n",
       " 'originID': ObjectId('59b842720601bad0b9df0dba')}"
      ]
     },
     "metadata": {},
     "output_type": "display_data"
    },
    {
     "data": {
      "text/plain": [
       "{'itisSearchURL': 'http://services.itis.gov/?wt=json&rows=10&q=tsn:173914',\n",
       " 'originCollection': 'gapspecies',\n",
       " 'originDate': '2017-09-16T13:11:39.416160',\n",
       " 'originID': ObjectId('59b842730601bad0b9df0dbb')}"
      ]
     },
     "metadata": {},
     "output_type": "display_data"
    },
    {
     "data": {
      "text/plain": [
       "{'itisSearchURL': 'http://services.itis.gov/?wt=json&rows=10&q=tsn:174176',\n",
       " 'originCollection': 'gapspecies',\n",
       " 'originDate': '2017-09-16T13:11:39.883141',\n",
       " 'originID': ObjectId('59b842740601bad0b9df0dbc')}"
      ]
     },
     "metadata": {},
     "output_type": "display_data"
    },
    {
     "data": {
      "text/plain": [
       "{'itisSearchURL': 'http://services.itis.gov/?wt=json&rows=10&q=tsn:586344',\n",
       " 'originCollection': 'gapspecies',\n",
       " 'originDate': '2017-09-16T13:11:40.270123',\n",
       " 'originID': ObjectId('59b842750601bad0b9df0dbd')}"
      ]
     },
     "metadata": {},
     "output_type": "display_data"
    },
    {
     "data": {
      "text/plain": [
       "{'itisSearchURL': 'http://services.itis.gov/?wt=json&rows=10&q=tsn:173885',\n",
       " 'originCollection': 'gapspecies',\n",
       " 'originDate': '2017-09-16T13:11:40.968976',\n",
       " 'originID': ObjectId('59b842750601bad0b9df0dbe')}"
      ]
     },
     "metadata": {},
     "output_type": "display_data"
    },
    {
     "data": {
      "text/plain": [
       "{'itisSearchURL': 'http://services.itis.gov/?wt=json&rows=10&q=tsn:180243',\n",
       " 'originCollection': 'gapspecies',\n",
       " 'originDate': '2017-09-16T13:11:41.435972',\n",
       " 'originID': ObjectId('59b842760601bad0b9df0dbf')}"
      ]
     },
     "metadata": {},
     "output_type": "display_data"
    },
    {
     "data": {
      "text/plain": [
       "{'itisSearchURL': 'http://services.itis.gov/?wt=json&rows=10&q=tsn:180247',\n",
       " 'originCollection': 'gapspecies',\n",
       " 'originDate': '2017-09-16T13:11:42.253288',\n",
       " 'originID': ObjectId('59b842770601bad0b9df0dc0')}"
      ]
     },
     "metadata": {},
     "output_type": "display_data"
    },
    {
     "data": {
      "text/plain": [
       "{'itisSearchURL': 'http://services.itis.gov/?wt=json&rows=10&q=tsn:209149',\n",
       " 'originCollection': 'gapspecies',\n",
       " 'originDate': '2017-09-16T13:11:42.765793',\n",
       " 'originID': ObjectId('59b842780601bad0b9df0dc1')}"
      ]
     },
     "metadata": {},
     "output_type": "display_data"
    },
    {
     "data": {
      "text/plain": [
       "{'itisSearchURL': 'http://services.itis.gov/?wt=json&rows=10&q=tsn:173950',\n",
       " 'originCollection': 'gapspecies',\n",
       " 'originDate': '2017-09-16T13:11:43.336160',\n",
       " 'originID': ObjectId('59b842790601bad0b9df0dc2')}"
      ]
     },
     "metadata": {},
     "output_type": "display_data"
    },
    {
     "data": {
      "text/plain": [
       "{'itisSearchURL': 'http://services.itis.gov/?wt=json&rows=10&q=tsn:179065',\n",
       " 'originCollection': 'gapspecies',\n",
       " 'originDate': '2017-09-16T13:11:43.516958',\n",
       " 'originID': ObjectId('59b842790601bad0b9df0dc3')}"
      ]
     },
     "metadata": {},
     "output_type": "display_data"
    },
    {
     "data": {
      "text/plain": [
       "{'itisSearchURL': 'http://services.itis.gov/?wt=json&rows=10&q=tsn:174684',\n",
       " 'originCollection': 'gapspecies',\n",
       " 'originDate': '2017-09-16T13:11:43.718878',\n",
       " 'originID': ObjectId('59b8427a0601bad0b9df0dc4')}"
      ]
     },
     "metadata": {},
     "output_type": "display_data"
    },
    {
     "data": {
      "text/plain": [
       "{'itisSearchURL': 'http://services.itis.gov/?wt=json&rows=10&q=nameWOInd:Tympanuchus\\\\%20phasianellus\\\\%20campestris',\n",
       " 'originCollection': 'gapspecies',\n",
       " 'originDate': '2017-09-16T13:11:43.901639',\n",
       " 'originID': ObjectId('59b8427b0601bad0b9df0dc5')}"
      ]
     },
     "metadata": {},
     "output_type": "display_data"
    },
    {
     "data": {
      "text/plain": [
       "{'itisSearchURL': 'http://services.itis.gov/?wt=json&rows=10&q=tsn:180204',\n",
       " 'originCollection': 'gapspecies',\n",
       " 'originDate': '2017-09-16T13:11:44.100363',\n",
       " 'originID': ObjectId('59b8427b0601bad0b9df0dc6')}"
      ]
     },
     "metadata": {},
     "output_type": "display_data"
    },
    {
     "data": {
      "text/plain": [
       "{'itisSearchURL': 'http://services.itis.gov/?wt=json&rows=10&q=tsn:179293',\n",
       " 'originCollection': 'gapspecies',\n",
       " 'originDate': '2017-09-16T13:11:44.288023',\n",
       " 'originID': ObjectId('59b8427c0601bad0b9df0dc7')}"
      ]
     },
     "metadata": {},
     "output_type": "display_data"
    },
    {
     "data": {
      "text/plain": [
       "{'itisSearchURL': 'http://services.itis.gov/?wt=json&rows=10&q=tsn:174213',\n",
       " 'originCollection': 'gapspecies',\n",
       " 'originDate': '2017-09-16T13:11:44.471735',\n",
       " 'originID': ObjectId('59b8427c0601bad0b9df0dc8')}"
      ]
     },
     "metadata": {},
     "output_type": "display_data"
    },
    {
     "data": {
      "text/plain": [
       "{'itisSearchURL': 'http://services.itis.gov/?wt=json&rows=10&q=tsn:174249',\n",
       " 'originCollection': 'gapspecies',\n",
       " 'originDate': '2017-09-16T13:11:44.655806',\n",
       " 'originID': ObjectId('59b8427d0601bad0b9df0dc9')}"
      ]
     },
     "metadata": {},
     "output_type": "display_data"
    },
    {
     "data": {
      "text/plain": [
       "{'itisSearchURL': 'http://services.itis.gov/?wt=json&rows=10&q=tsn:173783',\n",
       " 'originCollection': 'gapspecies',\n",
       " 'originDate': '2017-09-16T13:11:44.861346',\n",
       " 'originID': ObjectId('59b8427d0601bad0b9df0dca')}"
      ]
     },
     "metadata": {},
     "output_type": "display_data"
    },
    {
     "data": {
      "text/plain": [
       "{'itisSearchURL': 'http://services.itis.gov/?wt=json&rows=10&q=tsn:174282',\n",
       " 'originCollection': 'gapspecies',\n",
       " 'originDate': '2017-09-16T13:11:45.049775',\n",
       " 'originID': ObjectId('59b8427e0601bad0b9df0dcb')}"
      ]
     },
     "metadata": {},
     "output_type": "display_data"
    },
    {
     "data": {
      "text/plain": [
       "{'itisSearchURL': 'http://services.itis.gov/?wt=json&rows=10&q=tsn:173720',\n",
       " 'originCollection': 'gapspecies',\n",
       " 'originDate': '2017-09-16T13:11:45.231292',\n",
       " 'originID': ObjectId('59b8427e0601bad0b9df0dcc')}"
      ]
     },
     "metadata": {},
     "output_type": "display_data"
    },
    {
     "data": {
      "text/plain": [
       "{'itisSearchURL': 'http://services.itis.gov/?wt=json&rows=10&q=tsn:175155',\n",
       " 'originCollection': 'gapspecies',\n",
       " 'originDate': '2017-09-16T13:11:45.413877',\n",
       " 'originID': ObjectId('59b8427e0601bad0b9df0dcd')}"
      ]
     },
     "metadata": {},
     "output_type": "display_data"
    },
    {
     "data": {
      "text/plain": [
       "{'itisSearchURL': 'http://services.itis.gov/?wt=json&rows=10&q=tsn:173865',\n",
       " 'originCollection': 'gapspecies',\n",
       " 'originDate': '2017-09-16T13:11:45.596844',\n",
       " 'originID': ObjectId('59b8427f0601bad0b9df0dce')}"
      ]
     },
     "metadata": {},
     "output_type": "display_data"
    },
    {
     "data": {
      "text/plain": [
       "{'itisSearchURL': 'http://services.itis.gov/?wt=json&rows=10&q=tsn:174270',\n",
       " 'originCollection': 'gapspecies',\n",
       " 'originDate': '2017-09-16T13:11:45.788780',\n",
       " 'originID': ObjectId('59b8427f0601bad0b9df0dcf')}"
      ]
     },
     "metadata": {},
     "output_type": "display_data"
    },
    {
     "data": {
      "text/plain": [
       "{'itisSearchURL': 'http://services.itis.gov/?wt=json&rows=10&q=tsn:173760',\n",
       " 'originCollection': 'gapspecies',\n",
       " 'originDate': '2017-09-16T13:11:45.986008',\n",
       " 'originID': ObjectId('59b842800601bad0b9df0dd0')}"
      ]
     },
     "metadata": {},
     "output_type": "display_data"
    },
    {
     "data": {
      "text/plain": [
       "{'itisSearchURL': 'http://services.itis.gov/?wt=json&rows=10&q=tsn:208908',\n",
       " 'originCollection': 'gapspecies',\n",
       " 'originDate': '2017-09-16T13:11:46.168132',\n",
       " 'originID': ObjectId('59b842800601bad0b9df0dd1')}"
      ]
     },
     "metadata": {},
     "output_type": "display_data"
    },
    {
     "data": {
      "text/plain": [
       "{'itisSearchURL': 'http://services.itis.gov/?wt=json&rows=10&q=tsn:173956',\n",
       " 'originCollection': 'gapspecies',\n",
       " 'originDate': '2017-09-16T13:11:46.353087',\n",
       " 'originID': ObjectId('59b842810601bad0b9df0dd2')}"
      ]
     },
     "metadata": {},
     "output_type": "display_data"
    },
    {
     "data": {
      "text/plain": [
       "{'itisSearchURL': 'http://services.itis.gov/?wt=json&rows=10&q=tsn:550242',\n",
       " 'originCollection': 'gapspecies',\n",
       " 'originDate': '2017-09-16T13:11:46.539739',\n",
       " 'originID': ObjectId('59b842820601bad0b9df0dd3')}"
      ]
     },
     "metadata": {},
     "output_type": "display_data"
    },
    {
     "data": {
      "text/plain": [
       "{'itisSearchURL': 'http://services.itis.gov/?wt=json&rows=10&q=tsn:207313',\n",
       " 'originCollection': 'gapspecies',\n",
       " 'originDate': '2017-09-16T13:11:46.722540',\n",
       " 'originID': ObjectId('59b842820601bad0b9df0dd4')}"
      ]
     },
     "metadata": {},
     "output_type": "display_data"
    },
    {
     "data": {
      "text/plain": [
       "{'itisSearchURL': 'http://services.itis.gov/?wt=json&rows=10&q=tsn:179748',\n",
       " 'originCollection': 'gapspecies',\n",
       " 'originDate': '2017-09-16T13:11:46.907665',\n",
       " 'originID': ObjectId('59b842830601bad0b9df0dd5')}"
      ]
     },
     "metadata": {},
     "output_type": "display_data"
    },
    {
     "data": {
      "text/plain": [
       "{'itisSearchURL': 'http://services.itis.gov/?wt=json&rows=10&q=tsn:180345',\n",
       " 'originCollection': 'gapspecies',\n",
       " 'originDate': '2017-09-16T13:11:47.095060',\n",
       " 'originID': ObjectId('59b842840601bad0b9df0dd6')}"
      ]
     },
     "metadata": {},
     "output_type": "display_data"
    },
    {
     "data": {
      "text/plain": [
       "{'itisSearchURL': 'http://services.itis.gov/?wt=json&rows=10&q=tsn:179968',\n",
       " 'originCollection': 'gapspecies',\n",
       " 'originDate': '2017-09-16T13:11:47.274454',\n",
       " 'originID': ObjectId('59b842840601bad0b9df0dd7')}"
      ]
     },
     "metadata": {},
     "output_type": "display_data"
    },
    {
     "data": {
      "text/plain": [
       "{'itisSearchURL': 'http://services.itis.gov/?wt=json&rows=10&q=tsn:173877',\n",
       " 'originCollection': 'gapspecies',\n",
       " 'originDate': '2017-09-16T13:11:47.479714',\n",
       " 'originID': ObjectId('59b842840601bad0b9df0dd8')}"
      ]
     },
     "metadata": {},
     "output_type": "display_data"
    },
    {
     "data": {
      "text/plain": [
       "{'itisSearchURL': 'http://services.itis.gov/?wt=json&rows=10&q=tsn:180003',\n",
       " 'originCollection': 'gapspecies',\n",
       " 'originDate': '2017-09-16T13:11:47.667383',\n",
       " 'originID': ObjectId('59b842850601bad0b9df0dd9')}"
      ]
     },
     "metadata": {},
     "output_type": "display_data"
    },
    {
     "data": {
      "text/plain": [
       "{'itisSearchURL': 'http://services.itis.gov/?wt=json&rows=10&q=tsn:180699',\n",
       " 'originCollection': 'gapspecies',\n",
       " 'originDate': '2017-09-16T13:11:47.850840',\n",
       " 'originID': ObjectId('59b842850601bad0b9df0dda')}"
      ]
     },
     "metadata": {},
     "output_type": "display_data"
    },
    {
     "data": {
      "text/plain": [
       "{'itisSearchURL': 'http://services.itis.gov/?wt=json&rows=10&q=tsn:208738',\n",
       " 'originCollection': 'gapspecies',\n",
       " 'originDate': '2017-09-16T13:11:48.061545',\n",
       " 'originID': ObjectId('59b842860601bad0b9df0ddb')}"
      ]
     },
     "metadata": {},
     "output_type": "display_data"
    },
    {
     "data": {
      "text/plain": [
       "{'itisSearchURL': 'http://services.itis.gov/?wt=json&rows=10&q=tsn:633407',\n",
       " 'originCollection': 'gapspecies',\n",
       " 'originDate': '2017-09-16T13:11:48.246684',\n",
       " 'originID': ObjectId('59b842860601bad0b9df0ddc')}"
      ]
     },
     "metadata": {},
     "output_type": "display_data"
    },
    {
     "data": {
      "text/plain": [
       "{'itisSearchURL': 'http://services.itis.gov/?wt=json&rows=10&q=tsn:180696',\n",
       " 'originCollection': 'gapspecies',\n",
       " 'originDate': '2017-09-16T13:11:48.428134',\n",
       " 'originID': ObjectId('59b842870601bad0b9df0ddd')}"
      ]
     },
     "metadata": {},
     "output_type": "display_data"
    },
    {
     "data": {
      "text/plain": [
       "{'itisSearchURL': 'http://services.itis.gov/?wt=json&rows=10&q=tsn:208925',\n",
       " 'originCollection': 'gapspecies',\n",
       " 'originDate': '2017-09-16T13:11:48.606895',\n",
       " 'originID': ObjectId('59b842870601bad0b9df0dde')}"
      ]
     },
     "metadata": {},
     "output_type": "display_data"
    },
    {
     "data": {
      "text/plain": [
       "{'itisSearchURL': 'http://services.itis.gov/?wt=json&rows=10&q=tsn:174316',\n",
       " 'originCollection': 'gapspecies',\n",
       " 'originDate': '2017-09-16T13:11:48.793657',\n",
       " 'originID': ObjectId('59b842870601bad0b9df0ddf')}"
      ]
     },
     "metadata": {},
     "output_type": "display_data"
    },
    {
     "data": {
      "text/plain": [
       "{'itisSearchURL': 'http://services.itis.gov/?wt=json&rows=10&q=tsn:174320',\n",
       " 'originCollection': 'gapspecies',\n",
       " 'originDate': '2017-09-16T13:11:48.997202',\n",
       " 'originID': ObjectId('59b842880601bad0b9df0de0')}"
      ]
     },
     "metadata": {},
     "output_type": "display_data"
    },
    {
     "data": {
      "text/plain": [
       "{'itisSearchURL': 'http://services.itis.gov/?wt=json&rows=10&q=tsn:174220',\n",
       " 'originCollection': 'gapspecies',\n",
       " 'originDate': '2017-09-16T13:11:49.185697',\n",
       " 'originID': ObjectId('59b842880601bad0b9df0de1')}"
      ]
     },
     "metadata": {},
     "output_type": "display_data"
    },
    {
     "data": {
      "text/plain": [
       "{'itisSearchURL': 'http://services.itis.gov/?wt=json&rows=10&q=tsn:180699',\n",
       " 'originCollection': 'gapspecies',\n",
       " 'originDate': '2017-09-16T13:11:49.481634',\n",
       " 'originID': ObjectId('59b842880601bad0b9df0de2')}"
      ]
     },
     "metadata": {},
     "output_type": "display_data"
    },
    {
     "data": {
      "text/plain": [
       "{'itisSearchURL': 'http://services.itis.gov/?wt=json&rows=10&q=tsn:173765',\n",
       " 'originCollection': 'gapspecies',\n",
       " 'originDate': '2017-09-16T13:11:50.065569',\n",
       " 'originID': ObjectId('59b842890601bad0b9df0de3')}"
      ]
     },
     "metadata": {},
     "output_type": "display_data"
    },
    {
     "data": {
      "text/plain": [
       "{'itisSearchURL': 'http://services.itis.gov/?wt=json&rows=10&q=tsn:209458',\n",
       " 'originCollection': 'gapspecies',\n",
       " 'originDate': '2017-09-16T13:11:50.592415',\n",
       " 'originID': ObjectId('59b842890601bad0b9df0de4')}"
      ]
     },
     "metadata": {},
     "output_type": "display_data"
    },
    {
     "data": {
      "text/plain": [
       "{'itisSearchURL': 'http://services.itis.gov/?wt=json&rows=10&q=tsn:174503',\n",
       " 'originCollection': 'gapspecies',\n",
       " 'originDate': '2017-09-16T13:11:51.234057',\n",
       " 'originID': ObjectId('59b842890601bad0b9df0de5')}"
      ]
     },
     "metadata": {},
     "output_type": "display_data"
    },
    {
     "data": {
      "text/plain": [
       "{'itisSearchURL': 'http://services.itis.gov/?wt=json&rows=10&q=tsn:208289',\n",
       " 'originCollection': 'gapspecies',\n",
       " 'originDate': '2017-09-16T13:11:51.739627',\n",
       " 'originID': ObjectId('59b8428a0601bad0b9df0de6')}"
      ]
     },
     "metadata": {},
     "output_type": "display_data"
    },
    {
     "data": {
      "text/plain": [
       "{'itisSearchURL': 'http://services.itis.gov/?wt=json&rows=10&q=tsn:175367',\n",
       " 'originCollection': 'gapspecies',\n",
       " 'originDate': '2017-09-16T13:11:52.560311',\n",
       " 'originID': ObjectId('59b8428a0601bad0b9df0de7')}"
      ]
     },
     "metadata": {},
     "output_type": "display_data"
    },
    {
     "data": {
      "text/plain": [
       "{'itisSearchURL': 'http://services.itis.gov/?wt=json&rows=10&q=tsn:178371',\n",
       " 'originCollection': 'gapspecies',\n",
       " 'originDate': '2017-09-16T13:11:53.092902',\n",
       " 'originID': ObjectId('59b8428a0601bad0b9df0de8')}"
      ]
     },
     "metadata": {},
     "output_type": "display_data"
    },
    {
     "data": {
      "text/plain": [
       "{'itisSearchURL': 'http://services.itis.gov/?wt=json&rows=10&q=tsn:179402',\n",
       " 'originCollection': 'gapspecies',\n",
       " 'originDate': '2017-09-16T13:11:53.280280',\n",
       " 'originID': ObjectId('59b8428b0601bad0b9df0de9')}"
      ]
     },
     "metadata": {},
     "output_type": "display_data"
    },
    {
     "data": {
      "text/plain": [
       "{'itisSearchURL': 'http://services.itis.gov/?wt=json&rows=10&q=tsn:173657',\n",
       " 'originCollection': 'gapspecies',\n",
       " 'originDate': '2017-09-16T13:11:53.464217',\n",
       " 'originID': ObjectId('59b8428b0601bad0b9df0dea')}"
      ]
     },
     "metadata": {},
     "output_type": "display_data"
    },
    {
     "data": {
      "text/plain": [
       "{'itisSearchURL': 'http://services.itis.gov/?wt=json&rows=10&q=tsn:176136',\n",
       " 'originCollection': 'gapspecies',\n",
       " 'originDate': '2017-09-16T13:11:53.663993',\n",
       " 'originID': ObjectId('59b8428b0601bad0b9df0deb')}"
      ]
     },
     "metadata": {},
     "output_type": "display_data"
    },
    {
     "data": {
      "text/plain": [
       "{'itisSearchURL': 'http://services.itis.gov/?wt=json&rows=10&q=tsn:176736',\n",
       " 'originCollection': 'gapspecies',\n",
       " 'originDate': '2017-09-16T13:11:53.896762',\n",
       " 'originID': ObjectId('59b8428c0601bad0b9df0dec')}"
      ]
     },
     "metadata": {},
     "output_type": "display_data"
    },
    {
     "data": {
      "text/plain": [
       "{'itisSearchURL': 'http://services.itis.gov/?wt=json&rows=10&q=tsn:173454',\n",
       " 'originCollection': 'gapspecies',\n",
       " 'originDate': '2017-09-16T13:11:54.096346',\n",
       " 'originID': ObjectId('59b8428c0601bad0b9df0ded')}"
      ]
     },
     "metadata": {},
     "output_type": "display_data"
    },
    {
     "data": {
      "text/plain": [
       "{'itisSearchURL': 'http://services.itis.gov/?wt=json&rows=10&q=tsn:208278',\n",
       " 'originCollection': 'gapspecies',\n",
       " 'originDate': '2017-09-16T13:11:54.280735',\n",
       " 'originID': ObjectId('59b8428c0601bad0b9df0dee')}"
      ]
     },
     "metadata": {},
     "output_type": "display_data"
    },
    {
     "data": {
      "text/plain": [
       "{'itisSearchURL': 'http://services.itis.gov/?wt=json&rows=10&q=tsn:180554',\n",
       " 'originCollection': 'gapspecies',\n",
       " 'originDate': '2017-09-16T13:11:54.463334',\n",
       " 'originID': ObjectId('59b8428d0601bad0b9df0def')}"
      ]
     },
     "metadata": {},
     "output_type": "display_data"
    },
    {
     "data": {
      "text/plain": [
       "{'itisSearchURL': 'http://services.itis.gov/?wt=json&rows=10&q=nameWOInd:Aplodontia\\\\%20rufa\\\\%20olympica',\n",
       " 'originCollection': 'gapspecies',\n",
       " 'originDate': '2017-09-16T13:11:54.696729',\n",
       " 'originID': ObjectId('59b8428d0601bad0b9df0df0')}"
      ]
     },
     "metadata": {},
     "output_type": "display_data"
    },
    {
     "data": {
      "text/plain": [
       "{'itisSearchURL': 'http://services.itis.gov/?wt=json&rows=10&q=tsn:203452',\n",
       " 'originCollection': 'gapspecies',\n",
       " 'originDate': '2017-09-16T13:11:54.878765',\n",
       " 'originID': ObjectId('59b8428d0601bad0b9df0df1')}"
      ]
     },
     "metadata": {},
     "output_type": "display_data"
    },
    {
     "data": {
      "text/plain": [
       "{'itisSearchURL': 'http://services.itis.gov/?wt=json&rows=10&q=tsn:179707',\n",
       " 'originCollection': 'gapspecies',\n",
       " 'originDate': '2017-09-16T13:11:55.061158',\n",
       " 'originID': ObjectId('59b8428e0601bad0b9df0df2')}"
      ]
     },
     "metadata": {},
     "output_type": "display_data"
    },
    {
     "data": {
      "text/plain": [
       "{'itisSearchURL': 'http://services.itis.gov/?wt=json&rows=10&q=tsn:179969',\n",
       " 'originCollection': 'gapspecies',\n",
       " 'originDate': '2017-09-16T13:11:55.245461',\n",
       " 'originID': ObjectId('59b8428e0601bad0b9df0df3')}"
      ]
     },
     "metadata": {},
     "output_type": "display_data"
    },
    {
     "data": {
      "text/plain": [
       "{'itisSearchURL': 'http://services.itis.gov/?wt=json&rows=10&q=tsn:180241',\n",
       " 'originCollection': 'gapspecies',\n",
       " 'originDate': '2017-09-16T13:11:55.427562',\n",
       " 'originID': ObjectId('59b8428e0601bad0b9df0df4')}"
      ]
     },
     "metadata": {},
     "output_type": "display_data"
    },
    {
     "data": {
      "text/plain": [
       "{'itisSearchURL': 'http://services.itis.gov/?wt=json&rows=10&q=tsn:726257',\n",
       " 'originCollection': 'gapspecies',\n",
       " 'originDate': '2017-09-16T13:11:55.623868',\n",
       " 'originID': ObjectId('59b8428f0601bad0b9df0df5')}"
      ]
     },
     "metadata": {},
     "output_type": "display_data"
    },
    {
     "data": {
      "text/plain": [
       "{'itisSearchURL': 'http://services.itis.gov/?wt=json&rows=10&q=tsn:180161',\n",
       " 'originCollection': 'gapspecies',\n",
       " 'originDate': '2017-09-16T13:11:55.803275',\n",
       " 'originID': ObjectId('59b8428f0601bad0b9df0df6')}"
      ]
     },
     "metadata": {},
     "output_type": "display_data"
    },
    {
     "data": {
      "text/plain": [
       "{'itisSearchURL': 'http://services.itis.gov/?wt=json&rows=10&q=tsn:175175',\n",
       " 'originCollection': 'gapspecies',\n",
       " 'originDate': '2017-09-16T13:11:55.985698',\n",
       " 'originID': ObjectId('59b842900601bad0b9df0df7')}"
      ]
     },
     "metadata": {},
     "output_type": "display_data"
    },
    {
     "data": {
      "text/plain": [
       "{'itisSearchURL': 'http://services.itis.gov/?wt=json&rows=10&q=tsn:176507',\n",
       " 'originCollection': 'gapspecies',\n",
       " 'originDate': '2017-09-16T13:11:56.166261',\n",
       " 'originID': ObjectId('59b842900601bad0b9df0df8')}"
      ]
     },
     "metadata": {},
     "output_type": "display_data"
    },
    {
     "data": {
      "text/plain": [
       "{'itisSearchURL': 'http://services.itis.gov/?wt=json&rows=10&q=tsn:178166',\n",
       " 'originCollection': 'gapspecies',\n",
       " 'originDate': '2017-09-16T13:11:56.352751',\n",
       " 'originID': ObjectId('59b842900601bad0b9df0df9')}"
      ]
     },
     "metadata": {},
     "output_type": "display_data"
    },
    {
     "data": {
      "text/plain": [
       "{'itisSearchURL': 'http://services.itis.gov/?wt=json&rows=10&q=tsn:173691',\n",
       " 'originCollection': 'gapspecies',\n",
       " 'originDate': '2017-09-16T13:11:56.533434',\n",
       " 'originID': ObjectId('59b842910601bad0b9df0dfa')}"
      ]
     },
     "metadata": {},
     "output_type": "display_data"
    },
    {
     "data": {
      "text/plain": [
       "{'itisSearchURL': 'http://services.itis.gov/?wt=json&rows=10&q=tsn:175096',\n",
       " 'originCollection': 'gapspecies',\n",
       " 'originDate': '2017-09-16T13:11:56.725539',\n",
       " 'originID': ObjectId('59b842910601bad0b9df0dfb')}"
      ]
     },
     "metadata": {},
     "output_type": "display_data"
    },
    {
     "data": {
      "text/plain": [
       "{'itisSearchURL': 'http://services.itis.gov/?wt=json&rows=10&q=tsn:676900',\n",
       " 'originCollection': 'gapspecies',\n",
       " 'originDate': '2017-09-16T13:11:56.907785',\n",
       " 'originID': ObjectId('59b842920601bad0b9df0dfc')}"
      ]
     },
     "metadata": {},
     "output_type": "display_data"
    },
    {
     "data": {
      "text/plain": [
       "{'itisSearchURL': 'http://services.itis.gov/?wt=json&rows=10&q=tsn:174985',\n",
       " 'originCollection': 'gapspecies',\n",
       " 'originDate': '2017-09-16T13:11:57.102459',\n",
       " 'originID': ObjectId('59b842920601bad0b9df0dfd')}"
      ]
     },
     "metadata": {},
     "output_type": "display_data"
    },
    {
     "data": {
      "text/plain": [
       "{'itisSearchURL': 'http://services.itis.gov/?wt=json&rows=10&q=tsn:179271',\n",
       " 'originCollection': 'gapspecies',\n",
       " 'originDate': '2017-09-16T13:11:57.281375',\n",
       " 'originID': ObjectId('59b842930601bad0b9df0dfe')}"
      ]
     },
     "metadata": {},
     "output_type": "display_data"
    },
    {
     "data": {
      "text/plain": [
       "{'itisSearchURL': 'http://services.itis.gov/?wt=json&rows=10&q=tsn:179877',\n",
       " 'originCollection': 'gapspecies',\n",
       " 'originDate': '2017-09-16T13:11:57.469438',\n",
       " 'originID': ObjectId('59b842930601bad0b9df0dff')}"
      ]
     },
     "metadata": {},
     "output_type": "display_data"
    },
    {
     "data": {
      "text/plain": [
       "{'itisSearchURL': 'http://services.itis.gov/?wt=json&rows=10&q=tsn:178918',\n",
       " 'originCollection': 'gapspecies',\n",
       " 'originDate': '2017-09-16T13:11:57.662081',\n",
       " 'originID': ObjectId('59b842940601bad0b9df0e00')}"
      ]
     },
     "metadata": {},
     "output_type": "display_data"
    },
    {
     "data": {
      "text/plain": [
       "{'itisSearchURL': 'http://services.itis.gov/?wt=json&rows=10&q=tsn:773513',\n",
       " 'originCollection': 'gapspecies',\n",
       " 'originDate': '2017-09-16T13:11:57.889732',\n",
       " 'originID': ObjectId('59b842940601bad0b9df0e01')}"
      ]
     },
     "metadata": {},
     "output_type": "display_data"
    },
    {
     "data": {
      "text/plain": [
       "{'itisSearchURL': 'http://services.itis.gov/?wt=json&rows=10&q=tsn:180701',\n",
       " 'originCollection': 'gapspecies',\n",
       " 'originDate': '2017-09-16T13:11:58.070100',\n",
       " 'originID': ObjectId('59b842940601bad0b9df0e02')}"
      ]
     },
     "metadata": {},
     "output_type": "display_data"
    },
    {
     "data": {
      "text/plain": [
       "{'itisSearchURL': 'http://services.itis.gov/?wt=json&rows=10&q=tsn:180148',\n",
       " 'originCollection': 'gapspecies',\n",
       " 'originDate': '2017-09-16T13:11:58.257624',\n",
       " 'originID': ObjectId('59b842950601bad0b9df0e03')}"
      ]
     },
     "metadata": {},
     "output_type": "display_data"
    },
    {
     "data": {
      "text/plain": [
       "{'itisSearchURL': 'http://services.itis.gov/?wt=json&rows=10&q=tsn:175046',\n",
       " 'originCollection': 'gapspecies',\n",
       " 'originDate': '2017-09-16T13:11:58.440567',\n",
       " 'originID': ObjectId('59b842950601bad0b9df0e04')}"
      ]
     },
     "metadata": {},
     "output_type": "display_data"
    },
    {
     "data": {
      "text/plain": [
       "{'itisSearchURL': 'http://services.itis.gov/?wt=json&rows=10&q=tsn:179439',\n",
       " 'originCollection': 'gapspecies',\n",
       " 'originDate': '2017-09-16T13:11:58.623857',\n",
       " 'originID': ObjectId('59b842960601bad0b9df0e05')}"
      ]
     },
     "metadata": {},
     "output_type": "display_data"
    },
    {
     "data": {
      "text/plain": [
       "{'itisSearchURL': 'http://services.itis.gov/?wt=json&rows=10&q=tsn:177834',\n",
       " 'originCollection': 'gapspecies',\n",
       " 'originDate': '2017-09-16T13:11:58.807074',\n",
       " 'originID': ObjectId('59b842960601bad0b9df0e06')}"
      ]
     },
     "metadata": {},
     "output_type": "display_data"
    },
    {
     "data": {
      "text/plain": [
       "{'itisSearchURL': 'http://services.itis.gov/?wt=json&rows=10&q=tsn:177921',\n",
       " 'originCollection': 'gapspecies',\n",
       " 'originDate': '2017-09-16T13:11:58.991008',\n",
       " 'originID': ObjectId('59b842970601bad0b9df0e07')}"
      ]
     },
     "metadata": {},
     "output_type": "display_data"
    },
    {
     "data": {
      "text/plain": [
       "{'itisSearchURL': 'http://services.itis.gov/?wt=json&rows=10&q=tsn:177997',\n",
       " 'originCollection': 'gapspecies',\n",
       " 'originDate': '2017-09-16T13:12:00.200449',\n",
       " 'originID': ObjectId('59b842970601bad0b9df0e08')}"
      ]
     },
     "metadata": {},
     "output_type": "display_data"
    },
    {
     "data": {
      "text/plain": [
       "{'itisSearchURL': 'http://services.itis.gov/?wt=json&rows=10&q=tsn:180253',\n",
       " 'originCollection': 'gapspecies',\n",
       " 'originDate': '2017-09-16T13:12:00.652604',\n",
       " 'originID': ObjectId('59b842970601bad0b9df0e09')}"
      ]
     },
     "metadata": {},
     "output_type": "display_data"
    },
    {
     "data": {
      "text/plain": [
       "{'itisSearchURL': 'http://services.itis.gov/?wt=json&rows=10&q=tsn:177929',\n",
       " 'originCollection': 'gapspecies',\n",
       " 'originDate': '2017-09-16T13:12:02.142418',\n",
       " 'originID': ObjectId('59b842980601bad0b9df0e0a')}"
      ]
     },
     "metadata": {},
     "output_type": "display_data"
    },
    {
     "data": {
      "text/plain": [
       "{'itisSearchURL': 'http://services.itis.gov/?wt=json&rows=10&q=tsn:176935',\n",
       " 'originCollection': 'gapspecies',\n",
       " 'originDate': '2017-09-16T13:12:02.616803',\n",
       " 'originID': ObjectId('59b842980601bad0b9df0e0b')}"
      ]
     },
     "metadata": {},
     "output_type": "display_data"
    },
    {
     "data": {
      "text/plain": [
       "{'itisSearchURL': 'http://services.itis.gov/?wt=json&rows=10&q=tsn:180312',\n",
       " 'originCollection': 'gapspecies',\n",
       " 'originDate': '2017-09-16T13:12:02.902884',\n",
       " 'originID': ObjectId('59b842990601bad0b9df0e0c')}"
      ]
     },
     "metadata": {},
     "output_type": "display_data"
    },
    {
     "data": {
      "text/plain": [
       "{'itisSearchURL': 'http://services.itis.gov/?wt=json&rows=10&q=tsn:180237',\n",
       " 'originCollection': 'gapspecies',\n",
       " 'originDate': '2017-09-16T13:12:03.086885',\n",
       " 'originID': ObjectId('59b842990601bad0b9df0e0d')}"
      ]
     },
     "metadata": {},
     "output_type": "display_data"
    },
    {
     "data": {
      "text/plain": [
       "{'itisSearchURL': 'http://services.itis.gov/?wt=json&rows=10&q=tsn:179750',\n",
       " 'originCollection': 'gapspecies',\n",
       " 'originDate': '2017-09-16T13:12:03.272602',\n",
       " 'originID': ObjectId('59b842990601bad0b9df0e0e')}"
      ]
     },
     "metadata": {},
     "output_type": "display_data"
    },
    {
     "data": {
      "text/plain": [
       "{'itisSearchURL': 'http://services.itis.gov/?wt=json&rows=10&q=tsn:174924',\n",
       " 'originCollection': 'gapspecies',\n",
       " 'originDate': '2017-09-16T13:12:03.464745',\n",
       " 'originID': ObjectId('59b8429a0601bad0b9df0e0f')}"
      ]
     },
     "metadata": {},
     "output_type": "display_data"
    },
    {
     "data": {
      "text/plain": [
       "{'itisSearchURL': 'http://services.itis.gov/?wt=json&rows=10&q=tsn:175834',\n",
       " 'originCollection': 'gapspecies',\n",
       " 'originDate': '2017-09-16T13:12:03.686380',\n",
       " 'originID': ObjectId('59b8429a0601bad0b9df0e10')}"
      ]
     },
     "metadata": {},
     "output_type": "display_data"
    },
    {
     "data": {
      "text/plain": [
       "{'itisSearchURL': 'http://services.itis.gov/?wt=json&rows=10&q=tsn:180717',\n",
       " 'originCollection': 'gapspecies',\n",
       " 'originDate': '2017-09-16T13:12:03.876532',\n",
       " 'originID': ObjectId('59b8429a0601bad0b9df0e11')}"
      ]
     },
     "metadata": {},
     "output_type": "display_data"
    },
    {
     "data": {
      "text/plain": [
       "{'itisSearchURL': 'http://services.itis.gov/?wt=json&rows=10&q=tsn:173732',\n",
       " 'originCollection': 'gapspecies',\n",
       " 'originDate': '2017-09-16T13:12:04.063472',\n",
       " 'originID': ObjectId('59b8429b0601bad0b9df0e12')}"
      ]
     },
     "metadata": {},
     "output_type": "display_data"
    },
    {
     "data": {
      "text/plain": [
       "{'itisSearchURL': 'http://services.itis.gov/?wt=json&rows=10&q=tsn:208288',\n",
       " 'originCollection': 'gapspecies',\n",
       " 'originDate': '2017-09-16T13:12:04.268128',\n",
       " 'originID': ObjectId('59b8429b0601bad0b9df0e13')}"
      ]
     },
     "metadata": {},
     "output_type": "display_data"
    },
    {
     "data": {
      "text/plain": [
       "{'itisSearchURL': 'http://services.itis.gov/?wt=json&rows=10&q=tsn:173702',\n",
       " 'originCollection': 'gapspecies',\n",
       " 'originDate': '2017-09-16T13:12:04.460291',\n",
       " 'originID': ObjectId('59b8429b0601bad0b9df0e14')}"
      ]
     },
     "metadata": {},
     "output_type": "display_data"
    },
    {
     "data": {
      "text/plain": [
       "{'itisSearchURL': 'http://services.itis.gov/?wt=json&rows=10&q=tsn:179888',\n",
       " 'originCollection': 'gapspecies',\n",
       " 'originDate': '2017-09-16T13:12:04.646728',\n",
       " 'originID': ObjectId('59b8429b0601bad0b9df0e15')}"
      ]
     },
     "metadata": {},
     "output_type": "display_data"
    },
    {
     "data": {
      "text/plain": [
       "{'itisSearchURL': 'http://services.itis.gov/?wt=json&rows=10&q=tsn:179488',\n",
       " 'originCollection': 'gapspecies',\n",
       " 'originDate': '2017-09-16T13:12:04.828307',\n",
       " 'originID': ObjectId('59b8429b0601bad0b9df0e16')}"
      ]
     },
     "metadata": {},
     "output_type": "display_data"
    },
    {
     "data": {
      "text/plain": [
       "{'itisSearchURL': 'http://services.itis.gov/?wt=json&rows=10&q=tsn:550398',\n",
       " 'originCollection': 'gapspecies',\n",
       " 'originDate': '2017-09-16T13:12:05.015819',\n",
       " 'originID': ObjectId('59b8429c0601bad0b9df0e17')}"
      ]
     },
     "metadata": {},
     "output_type": "display_data"
    },
    {
     "data": {
      "text/plain": [
       "{'itisSearchURL': 'http://services.itis.gov/?wt=json&rows=10&q=tsn:176661',\n",
       " 'originCollection': 'gapspecies',\n",
       " 'originDate': '2017-09-16T13:12:05.199065',\n",
       " 'originID': ObjectId('59b8429c0601bad0b9df0e18')}"
      ]
     },
     "metadata": {},
     "output_type": "display_data"
    },
    {
     "data": {
      "text/plain": [
       "{'itisSearchURL': 'http://services.itis.gov/?wt=json&rows=10&q=tsn:177071',\n",
       " 'originCollection': 'gapspecies',\n",
       " 'originDate': '2017-09-16T13:12:05.399464',\n",
       " 'originID': ObjectId('59b8429c0601bad0b9df0e19')}"
      ]
     },
     "metadata": {},
     "output_type": "display_data"
    },
    {
     "data": {
      "text/plain": [
       "{'itisSearchURL': 'http://services.itis.gov/?wt=json&rows=10&q=tsn:177134',\n",
       " 'originCollection': 'gapspecies',\n",
       " 'originDate': '2017-09-16T13:12:05.587066',\n",
       " 'originID': ObjectId('59b8429c0601bad0b9df0e1a')}"
      ]
     },
     "metadata": {},
     "output_type": "display_data"
    },
    {
     "data": {
      "text/plain": [
       "{'itisSearchURL': 'http://services.itis.gov/?wt=json&rows=10&q=tsn:174634',\n",
       " 'originCollection': 'gapspecies',\n",
       " 'originDate': '2017-09-16T13:12:05.769434',\n",
       " 'originID': ObjectId('59b8429d0601bad0b9df0e1b')}"
      ]
     },
     "metadata": {},
     "output_type": "display_data"
    },
    {
     "data": {
      "text/plain": [
       "{'itisSearchURL': 'http://services.itis.gov/?wt=json&rows=10&q=tsn:175246',\n",
       " 'originCollection': 'gapspecies',\n",
       " 'originDate': '2017-09-16T13:12:05.954247',\n",
       " 'originID': ObjectId('59b8429d0601bad0b9df0e1c')}"
      ]
     },
     "metadata": {},
     "output_type": "display_data"
    },
    {
     "data": {
      "text/plain": [
       "{'itisSearchURL': 'http://services.itis.gov/?wt=json&rows=10&q=tsn:668292',\n",
       " 'originCollection': 'gapspecies',\n",
       " 'originDate': '2017-09-16T13:12:06.137834',\n",
       " 'originID': ObjectId('59b8429d0601bad0b9df0e1d')}"
      ]
     },
     "metadata": {},
     "output_type": "display_data"
    },
    {
     "data": {
      "text/plain": [
       "{'itisSearchURL': 'http://services.itis.gov/?wt=json&rows=10&q=tsn:173690',\n",
       " 'originCollection': 'gapspecies',\n",
       " 'originDate': '2017-09-16T13:12:06.320760',\n",
       " 'originID': ObjectId('59b8429d0601bad0b9df0e1e')}"
      ]
     },
     "metadata": {},
     "output_type": "display_data"
    },
    {
     "data": {
      "text/plain": [
       "{'itisSearchURL': 'http://services.itis.gov/?wt=json&rows=10&q=tsn:179993',\n",
       " 'originCollection': 'gapspecies',\n",
       " 'originDate': '2017-09-16T13:12:06.509547',\n",
       " 'originID': ObjectId('59b8429e0601bad0b9df0e1f')}"
      ]
     },
     "metadata": {},
     "output_type": "display_data"
    },
    {
     "data": {
      "text/plain": [
       "{'itisSearchURL': 'http://services.itis.gov/?wt=json&rows=10&q=tsn:180310',\n",
       " 'originCollection': 'gapspecies',\n",
       " 'originDate': '2017-09-16T13:12:06.693286',\n",
       " 'originID': ObjectId('59b8429e0601bad0b9df0e20')}"
      ]
     },
     "metadata": {},
     "output_type": "display_data"
    },
    {
     "data": {
      "text/plain": [
       "{'itisSearchURL': 'http://services.itis.gov/?wt=json&rows=10&q=tsn:173674',\n",
       " 'originCollection': 'gapspecies',\n",
       " 'originDate': '2017-09-16T13:12:06.884072',\n",
       " 'originID': ObjectId('59b8429f0601bad0b9df0e21')}"
      ]
     },
     "metadata": {},
     "output_type": "display_data"
    },
    {
     "data": {
      "text/plain": [
       "{'itisSearchURL': 'http://services.itis.gov/?wt=json&rows=10&q=tsn:173673',\n",
       " 'originCollection': 'gapspecies',\n",
       " 'originDate': '2017-09-16T13:12:07.064500',\n",
       " 'originID': ObjectId('59b8429f0601bad0b9df0e22')}"
      ]
     },
     "metadata": {},
     "output_type": "display_data"
    },
    {
     "data": {
      "text/plain": [
       "{'itisSearchURL': 'http://services.itis.gov/?wt=json&rows=10&q=tsn:179988',\n",
       " 'originCollection': 'gapspecies',\n",
       " 'originDate': '2017-09-16T13:12:07.249195',\n",
       " 'originID': ObjectId('59b8429f0601bad0b9df0e23')}"
      ]
     },
     "metadata": {},
     "output_type": "display_data"
    },
    {
     "data": {
      "text/plain": [
       "{'itisSearchURL': 'http://services.itis.gov/?wt=json&rows=10&q=tsn:180713',\n",
       " 'originCollection': 'gapspecies',\n",
       " 'originDate': '2017-09-16T13:12:07.459709',\n",
       " 'originID': ObjectId('59b842a00601bad0b9df0e24')}"
      ]
     },
     "metadata": {},
     "output_type": "display_data"
    },
    {
     "data": {
      "text/plain": [
       "{'itisSearchURL': 'http://services.itis.gov/?wt=json&rows=10&q=tsn:178030',\n",
       " 'originCollection': 'gapspecies',\n",
       " 'originDate': '2017-09-16T13:12:07.644413',\n",
       " 'originID': ObjectId('59b842a00601bad0b9df0e25')}"
      ]
     },
     "metadata": {},
     "output_type": "display_data"
    },
    {
     "data": {
      "text/plain": [
       "{'itisSearchURL': 'http://services.itis.gov/?wt=json&rows=10&q=tsn:174699',\n",
       " 'originCollection': 'gapspecies',\n",
       " 'originDate': '2017-09-16T13:12:07.826275',\n",
       " 'originID': ObjectId('59b842a10601bad0b9df0e26')}"
      ]
     },
     "metadata": {},
     "output_type": "display_data"
    },
    {
     "data": {
      "text/plain": [
       "{'itisSearchURL': 'http://services.itis.gov/?wt=json&rows=10&q=tsn:552488',\n",
       " 'originCollection': 'gapspecies',\n",
       " 'originDate': '2017-09-16T13:12:08.010733',\n",
       " 'originID': ObjectId('59b842a10601bad0b9df0e27')}"
      ]
     },
     "metadata": {},
     "output_type": "display_data"
    },
    {
     "data": {
      "text/plain": [
       "{'itisSearchURL': 'http://services.itis.gov/?wt=json&rows=10&q=tsn:180357',\n",
       " 'originCollection': 'gapspecies',\n",
       " 'originDate': '2017-09-16T13:12:08.193606',\n",
       " 'originID': ObjectId('59b842a20601bad0b9df0e28')}"
      ]
     },
     "metadata": {},
     "output_type": "display_data"
    },
    {
     "data": {
      "text/plain": [
       "{'itisSearchURL': 'http://services.itis.gov/?wt=json&rows=10&q=tsn:179191',\n",
       " 'originCollection': 'gapspecies',\n",
       " 'originDate': '2017-09-16T13:12:08.383527',\n",
       " 'originID': ObjectId('59b842a20601bad0b9df0e29')}"
      ]
     },
     "metadata": {},
     "output_type": "display_data"
    },
    {
     "data": {
      "text/plain": [
       "{'itisSearchURL': 'http://services.itis.gov/?wt=json&rows=10&q=tsn:179526',\n",
       " 'originCollection': 'gapspecies',\n",
       " 'originDate': '2017-09-16T13:12:08.578808',\n",
       " 'originID': ObjectId('59b842a30601bad0b9df0e2a')}"
      ]
     },
     "metadata": {},
     "output_type": "display_data"
    },
    {
     "data": {
      "text/plain": [
       "{'itisSearchURL': 'http://services.itis.gov/?wt=json&rows=10&q=tsn:554350',\n",
       " 'originCollection': 'gapspecies',\n",
       " 'originDate': '2017-09-16T13:12:08.770565',\n",
       " 'originID': ObjectId('59b842a30601bad0b9df0e2b')}"
      ]
     },
     "metadata": {},
     "output_type": "display_data"
    },
    {
     "data": {
      "text/plain": [
       "{'itisSearchURL': 'http://services.itis.gov/?wt=json&rows=10&q=tsn:176832',\n",
       " 'originCollection': 'gapspecies',\n",
       " 'originDate': '2017-09-16T13:12:09.201779',\n",
       " 'originID': ObjectId('59b842a30601bad0b9df0e2c')}"
      ]
     },
     "metadata": {},
     "output_type": "display_data"
    },
    {
     "data": {
      "text/plain": [
       "{'itisSearchURL': 'http://services.itis.gov/?wt=json&rows=10&q=tsn:775083',\n",
       " 'originCollection': 'gapspecies',\n",
       " 'originDate': '2017-09-16T13:12:09.516984',\n",
       " 'originID': ObjectId('59b842a40601bad0b9df0e2d')}"
      ]
     },
     "metadata": {},
     "output_type": "display_data"
    },
    {
     "data": {
      "text/plain": [
       "{'itisSearchURL': 'http://services.itis.gov/?wt=json&rows=10&q=tsn:179884',\n",
       " 'originCollection': 'gapspecies',\n",
       " 'originDate': '2017-09-16T13:12:10.101259',\n",
       " 'originID': ObjectId('59b842a40601bad0b9df0e2e')}"
      ]
     },
     "metadata": {},
     "output_type": "display_data"
    },
    {
     "data": {
      "text/plain": [
       "{'itisSearchURL': 'http://services.itis.gov/?wt=json&rows=10&q=tsn:180341',\n",
       " 'originCollection': 'gapspecies',\n",
       " 'originDate': '2017-09-16T13:12:11.901627',\n",
       " 'originID': ObjectId('59b842a40601bad0b9df0e2f')}"
      ]
     },
     "metadata": {},
     "output_type": "display_data"
    },
    {
     "data": {
      "text/plain": [
       "{'itisSearchURL': 'http://services.itis.gov/?wt=json&rows=10&q=tsn:179068',\n",
       " 'originCollection': 'gapspecies',\n",
       " 'originDate': '2017-09-16T13:12:12.539067',\n",
       " 'originID': ObjectId('59b842a50601bad0b9df0e30')}"
      ]
     },
     "metadata": {},
     "output_type": "display_data"
    },
    {
     "data": {
      "text/plain": [
       "{'itisSearchURL': 'http://services.itis.gov/?wt=json&rows=10&q=tsn:176620',\n",
       " 'originCollection': 'gapspecies',\n",
       " 'originDate': '2017-09-16T13:12:12.720097',\n",
       " 'originID': ObjectId('59b842a50601bad0b9df0e31')}"
      ]
     },
     "metadata": {},
     "output_type": "display_data"
    },
    {
     "data": {
      "text/plain": [
       "{'itisSearchURL': 'http://services.itis.gov/?wt=json&rows=10&q=tsn:175872',\n",
       " 'originCollection': 'gapspecies',\n",
       " 'originDate': '2017-09-16T13:12:12.901455',\n",
       " 'originID': ObjectId('59b842a50601bad0b9df0e32')}"
      ]
     },
     "metadata": {},
     "output_type": "display_data"
    },
    {
     "data": {
      "text/plain": [
       "{'itisSearchURL': 'http://services.itis.gov/?wt=json&rows=10&q=tsn:179307',\n",
       " 'originCollection': 'gapspecies',\n",
       " 'originDate': '2017-09-16T13:12:13.080490',\n",
       " 'originID': ObjectId('59b842a60601bad0b9df0e33')}"
      ]
     },
     "metadata": {},
     "output_type": "display_data"
    },
    {
     "data": {
      "text/plain": [
       "{'itisSearchURL': 'http://services.itis.gov/?wt=json&rows=10&q=tsn:179731',\n",
       " 'originCollection': 'gapspecies',\n",
       " 'originDate': '2017-09-16T13:12:13.267478',\n",
       " 'originID': ObjectId('59b842a60601bad0b9df0e34')}"
      ]
     },
     "metadata": {},
     "output_type": "display_data"
    },
    {
     "data": {
      "text/plain": [
       "{'itisSearchURL': 'http://services.itis.gov/?wt=json&rows=10&q=tsn:564557',\n",
       " 'originCollection': 'gapspecies',\n",
       " 'originDate': '2017-09-16T13:12:13.480334',\n",
       " 'originID': ObjectId('59b842a60601bad0b9df0e35')}"
      ]
     },
     "metadata": {},
     "output_type": "display_data"
    },
    {
     "data": {
      "text/plain": [
       "{'itisSearchURL': 'http://services.itis.gov/?wt=json&rows=10&q=tsn:773518',\n",
       " 'originCollection': 'gapspecies',\n",
       " 'originDate': '2017-09-16T13:12:13.661377',\n",
       " 'originID': ObjectId('59b842a70601bad0b9df0e36')}"
      ]
     },
     "metadata": {},
     "output_type": "display_data"
    },
    {
     "data": {
      "text/plain": [
       "{'itisSearchURL': 'http://services.itis.gov/?wt=json&rows=10&q=tsn:178312',\n",
       " 'originCollection': 'gapspecies',\n",
       " 'originDate': '2017-09-16T13:12:13.853168',\n",
       " 'originID': ObjectId('59b842a70601bad0b9df0e37')}"
      ]
     },
     "metadata": {},
     "output_type": "display_data"
    },
    {
     "data": {
      "text/plain": [
       "{'itisSearchURL': 'http://services.itis.gov/?wt=json&rows=10&q=tsn:177966',\n",
       " 'originCollection': 'gapspecies',\n",
       " 'originDate': '2017-09-16T13:12:14.038033',\n",
       " 'originID': ObjectId('59b842a80601bad0b9df0e38')}"
      ]
     },
     "metadata": {},
     "output_type": "display_data"
    },
    {
     "data": {
      "text/plain": [
       "{'itisSearchURL': 'http://services.itis.gov/?wt=json&rows=10&q=tsn:668323',\n",
       " 'originCollection': 'gapspecies',\n",
       " 'originDate': '2017-09-16T13:12:14.227410',\n",
       " 'originID': ObjectId('59b842a80601bad0b9df0e39')}"
      ]
     },
     "metadata": {},
     "output_type": "display_data"
    },
    {
     "data": {
      "text/plain": [
       "{'itisSearchURL': 'http://services.itis.gov/?wt=json&rows=10&q=tsn:668321',\n",
       " 'originCollection': 'gapspecies',\n",
       " 'originDate': '2017-09-16T13:12:14.410920',\n",
       " 'originID': ObjectId('59b842a90601bad0b9df0e3a')}"
      ]
     },
     "metadata": {},
     "output_type": "display_data"
    },
    {
     "data": {
      "text/plain": [
       "{'itisSearchURL': 'http://services.itis.gov/?wt=json&rows=10&q=tsn:206991',\n",
       " 'originCollection': 'gapspecies',\n",
       " 'originDate': '2017-09-16T13:12:14.599890',\n",
       " 'originID': ObjectId('59b842a90601bad0b9df0e3b')}"
      ]
     },
     "metadata": {},
     "output_type": "display_data"
    },
    {
     "data": {
      "text/plain": [
       "{'itisSearchURL': 'http://services.itis.gov/?wt=json&rows=10&q=tsn:775988',\n",
       " 'originCollection': 'gapspecies',\n",
       " 'originDate': '2017-09-16T13:12:14.804975',\n",
       " 'originID': ObjectId('59b842aa0601bad0b9df0e3c')}"
      ]
     },
     "metadata": {},
     "output_type": "display_data"
    },
    {
     "data": {
      "text/plain": [
       "{'itisSearchURL': 'http://services.itis.gov/?wt=json&rows=10&q=tsn:179223',\n",
       " 'originCollection': 'gapspecies',\n",
       " 'originDate': '2017-09-16T13:12:14.988010',\n",
       " 'originID': ObjectId('59b842ab0601bad0b9df0e3d')}"
      ]
     },
     "metadata": {},
     "output_type": "display_data"
    },
    {
     "data": {
      "text/plain": [
       "{'itisSearchURL': 'http://services.itis.gov/?wt=json&rows=10&q=tsn:179236',\n",
       " 'originCollection': 'gapspecies',\n",
       " 'originDate': '2017-09-16T13:12:15.211772',\n",
       " 'originID': ObjectId('59b842ab0601bad0b9df0e3e')}"
      ]
     },
     "metadata": {},
     "output_type": "display_data"
    },
    {
     "data": {
      "text/plain": [
       "{'itisSearchURL': 'http://services.itis.gov/?wt=json&rows=10&q=tsn:550238',\n",
       " 'originCollection': 'gapspecies',\n",
       " 'originDate': '2017-09-16T13:12:15.420365',\n",
       " 'originID': ObjectId('59b842ac0601bad0b9df0e3f')}"
      ]
     },
     "metadata": {},
     "output_type": "display_data"
    },
    {
     "data": {
      "text/plain": [
       "{'itisSearchURL': 'http://services.itis.gov/?wt=json&rows=10&q=tsn:176817',\n",
       " 'originCollection': 'gapspecies',\n",
       " 'originDate': '2017-09-16T13:12:15.601329',\n",
       " 'originID': ObjectId('59b842ac0601bad0b9df0e40')}"
      ]
     },
     "metadata": {},
     "output_type": "display_data"
    },
    {
     "data": {
      "text/plain": [
       "{'itisSearchURL': 'http://services.itis.gov/?wt=json&rows=10&q=tsn:175610',\n",
       " 'originCollection': 'gapspecies',\n",
       " 'originDate': '2017-09-16T13:12:15.784814',\n",
       " 'originID': ObjectId('59b842ad0601bad0b9df0e41')}"
      ]
     },
     "metadata": {},
     "output_type": "display_data"
    },
    {
     "data": {
      "text/plain": [
       "{'itisSearchURL': 'http://services.itis.gov/?wt=json&rows=10&q=tsn:173814',\n",
       " 'originCollection': 'gapspecies',\n",
       " 'originDate': '2017-09-16T13:12:15.967330',\n",
       " 'originID': ObjectId('59b842ae0601bad0b9df0e42')}"
      ]
     },
     "metadata": {},
     "output_type": "display_data"
    },
    {
     "data": {
      "text/plain": [
       "{'itisSearchURL': 'http://services.itis.gov/?wt=json&rows=10&q=tsn:180169',\n",
       " 'originCollection': 'gapspecies',\n",
       " 'originDate': '2017-09-16T13:12:16.151588',\n",
       " 'originID': ObjectId('59b842ae0601bad0b9df0e43')}"
      ]
     },
     "metadata": {},
     "output_type": "display_data"
    },
    {
     "data": {
      "text/plain": [
       "{'itisSearchURL': 'http://services.itis.gov/?wt=json&rows=10&q=tsn:180556',\n",
       " 'originCollection': 'gapspecies',\n",
       " 'originDate': '2017-09-16T13:12:16.342629',\n",
       " 'originID': ObjectId('59b842af0601bad0b9df0e44')}"
      ]
     },
     "metadata": {},
     "output_type": "display_data"
    },
    {
     "data": {
      "text/plain": [
       "{'itisSearchURL': 'http://services.itis.gov/?wt=json&rows=10&q=tsn:173738',\n",
       " 'originCollection': 'gapspecies',\n",
       " 'originDate': '2017-09-16T13:12:16.522755',\n",
       " 'originID': ObjectId('59b842af0601bad0b9df0e45')}"
      ]
     },
     "metadata": {},
     "output_type": "display_data"
    },
    {
     "data": {
      "text/plain": [
       "{'itisSearchURL': 'http://services.itis.gov/?wt=json&rows=10&q=tsn:173685',\n",
       " 'originCollection': 'gapspecies',\n",
       " 'originDate': '2017-09-16T13:12:16.707481',\n",
       " 'originID': ObjectId('59b842b00601bad0b9df0e46')}"
      ]
     },
     "metadata": {},
     "output_type": "display_data"
    },
    {
     "data": {
      "text/plain": [
       "{'itisSearchURL': 'http://services.itis.gov/?wt=json&rows=10&q=tsn:668324',\n",
       " 'originCollection': 'gapspecies',\n",
       " 'originDate': '2017-09-16T13:12:16.895190',\n",
       " 'originID': ObjectId('59b842b00601bad0b9df0e47')}"
      ]
     },
     "metadata": {},
     "output_type": "display_data"
    },
    {
     "data": {
      "text/plain": [
       "{'itisSearchURL': 'http://services.itis.gov/?wt=json&rows=10&q=tsn:174243',\n",
       " 'originCollection': 'gapspecies',\n",
       " 'originDate': '2017-09-16T13:12:17.118213',\n",
       " 'originID': ObjectId('59b842b10601bad0b9df0e48')}"
      ]
     },
     "metadata": {},
     "output_type": "display_data"
    },
    {
     "data": {
      "text/plain": [
       "{'itisSearchURL': 'http://services.itis.gov/?wt=json&rows=10&q=tsn:914108',\n",
       " 'originCollection': 'gapspecies',\n",
       " 'originDate': '2017-09-16T13:12:17.300189',\n",
       " 'originID': ObjectId('59b842b10601bad0b9df0e49')}"
      ]
     },
     "metadata": {},
     "output_type": "display_data"
    },
    {
     "data": {
      "text/plain": [
       "{'itisSearchURL': 'http://services.itis.gov/?wt=json&rows=10&q=tsn:179737',\n",
       " 'originCollection': 'gapspecies',\n",
       " 'originDate': '2017-09-16T13:12:17.503942',\n",
       " 'originID': ObjectId('59b842b20601bad0b9df0e4a')}"
      ]
     },
     "metadata": {},
     "output_type": "display_data"
    },
    {
     "data": {
      "text/plain": [
       "{'itisSearchURL': 'http://services.itis.gov/?wt=json&rows=10&q=tsn:180299',\n",
       " 'originCollection': 'gapspecies',\n",
       " 'originDate': '2017-09-16T13:12:17.698029',\n",
       " 'originID': ObjectId('59b842b20601bad0b9df0e4b')}"
      ]
     },
     "metadata": {},
     "output_type": "display_data"
    },
    {
     "data": {
      "text/plain": [
       "{'itisSearchURL': 'http://services.itis.gov/?wt=json&rows=10&q=tsn:174685',\n",
       " 'originCollection': 'gapspecies',\n",
       " 'originDate': '2017-09-16T13:12:17.879061',\n",
       " 'originID': ObjectId('59b842b30601bad0b9df0e4c')}"
      ]
     },
     "metadata": {},
     "output_type": "display_data"
    },
    {
     "data": {
      "text/plain": [
       "{'itisSearchURL': 'http://services.itis.gov/?wt=json&rows=10&q=tsn:555544',\n",
       " 'originCollection': 'gapspecies',\n",
       " 'originDate': '2017-09-16T13:12:18.064166',\n",
       " 'originID': ObjectId('59b842b30601bad0b9df0e4d')}"
      ]
     },
     "metadata": {},
     "output_type": "display_data"
    },
    {
     "data": {
      "text/plain": [
       "{'itisSearchURL': 'http://services.itis.gov/?wt=json&rows=10&q=tsn:173600',\n",
       " 'originCollection': 'gapspecies',\n",
       " 'originDate': '2017-09-16T13:12:18.263973',\n",
       " 'originID': ObjectId('59b842b40601bad0b9df0e4e')}"
      ]
     },
     "metadata": {},
     "output_type": "display_data"
    },
    {
     "data": {
      "text/plain": [
       "{'itisSearchURL': 'http://services.itis.gov/?wt=json&rows=10&q=tsn:552462',\n",
       " 'originCollection': 'gapspecies',\n",
       " 'originDate': '2017-09-16T13:12:18.461444',\n",
       " 'originID': ObjectId('59b842b40601bad0b9df0e4f')}"
      ]
     },
     "metadata": {},
     "output_type": "display_data"
    },
    {
     "data": {
      "text/plain": [
       "{'itisSearchURL': 'http://services.itis.gov/?wt=json&rows=10&q=tsn:177121',\n",
       " 'originCollection': 'gapspecies',\n",
       " 'originDate': '2017-09-16T13:12:18.783080',\n",
       " 'originID': ObjectId('59b842b50601bad0b9df0e50')}"
      ]
     },
     "metadata": {},
     "output_type": "display_data"
    },
    {
     "data": {
      "text/plain": [
       "{'itisSearchURL': 'http://services.itis.gov/?wt=json&rows=10&q=tsn:173531',\n",
       " 'originCollection': 'gapspecies',\n",
       " 'originDate': '2017-09-16T13:12:19.352525',\n",
       " 'originID': ObjectId('59b842b60601bad0b9df0e51')}"
      ]
     },
     "metadata": {},
     "output_type": "display_data"
    },
    {
     "data": {
      "text/plain": [
       "{'itisSearchURL': 'http://services.itis.gov/?wt=json&rows=10&q=tsn:554031',\n",
       " 'originCollection': 'gapspecies',\n",
       " 'originDate': '2017-09-16T13:12:19.859236',\n",
       " 'originID': ObjectId('59b842b70601bad0b9df0e52')}"
      ]
     },
     "metadata": {},
     "output_type": "display_data"
    },
    {
     "data": {
      "text/plain": [
       "{'itisSearchURL': 'http://services.itis.gov/?wt=json&rows=10&q=tsn:554381',\n",
       " 'originCollection': 'gapspecies',\n",
       " 'originDate': '2017-09-16T13:12:20.499789',\n",
       " 'originID': ObjectId('59b842b70601bad0b9df0e53')}"
      ]
     },
     "metadata": {},
     "output_type": "display_data"
    },
    {
     "data": {
      "text/plain": [
       "{'itisSearchURL': 'http://services.itis.gov/?wt=json&rows=10&q=tsn:178287',\n",
       " 'originCollection': 'gapspecies',\n",
       " 'originDate': '2017-09-16T13:12:21.011516',\n",
       " 'originID': ObjectId('59b842b70601bad0b9df0e54')}"
      ]
     },
     "metadata": {},
     "output_type": "display_data"
    },
    {
     "data": {
      "text/plain": [
       "{'itisSearchURL': 'http://services.itis.gov/?wt=json&rows=10&q=tsn:175368',\n",
       " 'originCollection': 'gapspecies',\n",
       " 'originDate': '2017-09-16T13:12:21.501840',\n",
       " 'originID': ObjectId('59b842b80601bad0b9df0e55')}"
      ]
     },
     "metadata": {},
     "output_type": "display_data"
    },
    {
     "data": {
      "text/plain": [
       "{'itisSearchURL': 'http://services.itis.gov/?wt=json&rows=10&q=tsn:178921',\n",
       " 'originCollection': 'gapspecies',\n",
       " 'originDate': '2017-09-16T13:12:21.996603',\n",
       " 'originID': ObjectId('59b842b80601bad0b9df0e56')}"
      ]
     },
     "metadata": {},
     "output_type": "display_data"
    },
    {
     "data": {
      "text/plain": [
       "{'itisSearchURL': 'http://services.itis.gov/?wt=json&rows=10&q=tsn:176830',\n",
       " 'originCollection': 'gapspecies',\n",
       " 'originDate': '2017-09-16T13:12:22.609187',\n",
       " 'originID': ObjectId('59b842b90601bad0b9df0e57')}"
      ]
     },
     "metadata": {},
     "output_type": "display_data"
    },
    {
     "data": {
      "text/plain": [
       "{'itisSearchURL': 'http://services.itis.gov/?wt=json&rows=10&q=tsn:773511',\n",
       " 'originCollection': 'gapspecies',\n",
       " 'originDate': '2017-09-16T13:12:22.790915',\n",
       " 'originID': ObjectId('59b842b90601bad0b9df0e58')}"
      ]
     },
     "metadata": {},
     "output_type": "display_data"
    },
    {
     "data": {
      "text/plain": [
       "{'itisSearchURL': 'http://services.itis.gov/?wt=json&rows=10&q=tsn:550249',\n",
       " 'originCollection': 'gapspecies',\n",
       " 'originDate': '2017-09-16T13:12:22.973267',\n",
       " 'originID': ObjectId('59b842ba0601bad0b9df0e59')}"
      ]
     },
     "metadata": {},
     "output_type": "display_data"
    },
    {
     "data": {
      "text/plain": [
       "{'itisSearchURL': 'http://services.itis.gov/?wt=json&rows=10&q=tsn:173450',\n",
       " 'originCollection': 'gapspecies',\n",
       " 'originDate': '2017-09-16T13:12:23.157895',\n",
       " 'originID': ObjectId('59b842ba0601bad0b9df0e5a')}"
      ]
     },
     "metadata": {},
     "output_type": "display_data"
    },
    {
     "data": {
      "text/plain": [
       "{'itisSearchURL': 'http://services.itis.gov/?wt=json&rows=10&q=tsn:178511',\n",
       " 'originCollection': 'gapspecies',\n",
       " 'originDate': '2017-09-16T13:12:23.339908',\n",
       " 'originID': ObjectId('59b842ba0601bad0b9df0e5b')}"
      ]
     },
     "metadata": {},
     "output_type": "display_data"
    },
    {
     "data": {
      "text/plain": [
       "{'itisSearchURL': 'http://services.itis.gov/?wt=json&rows=10&q=tsn:173511',\n",
       " 'originCollection': 'gapspecies',\n",
       " 'originDate': '2017-09-16T13:12:23.523437',\n",
       " 'originID': ObjectId('59b842ba0601bad0b9df0e5c')}"
      ]
     },
     "metadata": {},
     "output_type": "display_data"
    },
    {
     "data": {
      "text/plain": [
       "{'itisSearchURL': 'http://services.itis.gov/?wt=json&rows=10&q=tsn:550237',\n",
       " 'originCollection': 'gapspecies',\n",
       " 'originDate': '2017-09-16T13:12:23.710787',\n",
       " 'originID': ObjectId('59b842bb0601bad0b9df0e5d')}"
      ]
     },
     "metadata": {},
     "output_type": "display_data"
    },
    {
     "data": {
      "text/plain": [
       "{'itisSearchURL': 'http://services.itis.gov/?wt=json&rows=10&q=tsn:180133',\n",
       " 'originCollection': 'gapspecies',\n",
       " 'originDate': '2017-09-16T13:12:23.901642',\n",
       " 'originID': ObjectId('59b842bb0601bad0b9df0e5e')}"
      ]
     },
     "metadata": {},
     "output_type": "display_data"
    },
    {
     "data": {
      "text/plain": [
       "{'itisSearchURL': 'http://services.itis.gov/?wt=json&rows=10&q=nameWOInd:Aplodontia\\\\%20rufa\\\\%20rufa',\n",
       " 'originCollection': 'gapspecies',\n",
       " 'originDate': '2017-09-16T13:12:24.105176',\n",
       " 'originID': ObjectId('59b842bb0601bad0b9df0e5f')}"
      ]
     },
     "metadata": {},
     "output_type": "display_data"
    },
    {
     "data": {
      "text/plain": [
       "{'itisSearchURL': 'http://services.itis.gov/?wt=json&rows=10&q=tsn:178212',\n",
       " 'originCollection': 'gapspecies',\n",
       " 'originDate': '2017-09-16T13:12:24.287431',\n",
       " 'originID': ObjectId('59b842bb0601bad0b9df0e60')}"
      ]
     },
     "metadata": {},
     "output_type": "display_data"
    },
    {
     "data": {
      "text/plain": [
       "{'itisSearchURL': 'http://services.itis.gov/?wt=json&rows=10&q=tsn:173743',\n",
       " 'originCollection': 'gapspecies',\n",
       " 'originDate': '2017-09-16T13:12:24.471406',\n",
       " 'originID': ObjectId('59b842bb0601bad0b9df0e61')}"
      ]
     },
     "metadata": {},
     "output_type": "display_data"
    },
    {
     "data": {
      "text/plain": [
       "{'itisSearchURL': 'http://services.itis.gov/?wt=json&rows=10&q=tsn:176894',\n",
       " 'originCollection': 'gapspecies',\n",
       " 'originDate': '2017-09-16T13:12:24.662237',\n",
       " 'originID': ObjectId('59b842bc0601bad0b9df0e62')}"
      ]
     },
     "metadata": {},
     "output_type": "display_data"
    },
    {
     "data": {
      "text/plain": [
       "{'itisSearchURL': 'http://services.itis.gov/?wt=json&rows=10&q=tsn:175841',\n",
       " 'originCollection': 'gapspecies',\n",
       " 'originDate': '2017-09-16T13:12:24.842236',\n",
       " 'originID': ObjectId('59b842bc0601bad0b9df0e63')}"
      ]
     },
     "metadata": {},
     "output_type": "display_data"
    },
    {
     "data": {
      "text/plain": [
       "{'itisSearchURL': 'http://services.itis.gov/?wt=json&rows=10&q=tsn:175070',\n",
       " 'originCollection': 'gapspecies',\n",
       " 'originDate': '2017-09-16T13:12:25.045844',\n",
       " 'originID': ObjectId('59b842bc0601bad0b9df0e64')}"
      ]
     },
     "metadata": {},
     "output_type": "display_data"
    },
    {
     "data": {
      "text/plain": [
       "{'itisSearchURL': 'http://services.itis.gov/?wt=json&rows=10&q=tsn:176177',\n",
       " 'originCollection': 'gapspecies',\n",
       " 'originDate': '2017-09-16T13:12:25.252916',\n",
       " 'originID': ObjectId('59b842bc0601bad0b9df0e65')}"
      ]
     },
     "metadata": {},
     "output_type": "display_data"
    },
    {
     "data": {
      "text/plain": [
       "{'itisSearchURL': 'http://services.itis.gov/?wt=json&rows=10&q=tsn:178344',\n",
       " 'originCollection': 'gapspecies',\n",
       " 'originDate': '2017-09-16T13:12:25.438764',\n",
       " 'originID': ObjectId('59b842bc0601bad0b9df0e66')}"
      ]
     },
     "metadata": {},
     "output_type": "display_data"
    },
    {
     "data": {
      "text/plain": [
       "{'itisSearchURL': 'http://services.itis.gov/?wt=json&rows=10&q=tsn:177988',\n",
       " 'originCollection': 'gapspecies',\n",
       " 'originDate': '2017-09-16T13:12:25.623728',\n",
       " 'originID': ObjectId('59b842bd0601bad0b9df0e67')}"
      ]
     },
     "metadata": {},
     "output_type": "display_data"
    },
    {
     "data": {
      "text/plain": [
       "{'itisSearchURL': 'http://services.itis.gov/?wt=json&rows=10&q=tsn:174763',\n",
       " 'originCollection': 'gapspecies',\n",
       " 'originDate': '2017-09-16T13:12:25.804719',\n",
       " 'originID': ObjectId('59b842bd0601bad0b9df0e68')}"
      ]
     },
     "metadata": {},
     "output_type": "display_data"
    },
    {
     "data": {
      "text/plain": [
       "{'itisSearchURL': 'http://services.itis.gov/?wt=json&rows=10&q=tsn:176686',\n",
       " 'originCollection': 'gapspecies',\n",
       " 'originDate': '2017-09-16T13:12:25.986280',\n",
       " 'originID': ObjectId('59b842bd0601bad0b9df0e69')}"
      ]
     },
     "metadata": {},
     "output_type": "display_data"
    },
    {
     "data": {
      "text/plain": [
       "{'itisSearchURL': 'http://services.itis.gov/?wt=json&rows=10&q=tsn:178972',\n",
       " 'originCollection': 'gapspecies',\n",
       " 'originDate': '2017-09-16T13:12:26.170580',\n",
       " 'originID': ObjectId('59b842bd0601bad0b9df0e6a')}"
      ]
     },
     "metadata": {},
     "output_type": "display_data"
    },
    {
     "data": {
      "text/plain": [
       "{'itisSearchURL': 'http://services.itis.gov/?wt=json&rows=10&q=tsn:177162',\n",
       " 'originCollection': 'gapspecies',\n",
       " 'originDate': '2017-09-16T13:12:26.353452',\n",
       " 'originID': ObjectId('59b842bd0601bad0b9df0e6b')}"
      ]
     },
     "metadata": {},
     "output_type": "display_data"
    },
    {
     "data": {
      "text/plain": [
       "{'itisSearchURL': 'http://services.itis.gov/?wt=json&rows=10&q=tsn:773521',\n",
       " 'originCollection': 'gapspecies',\n",
       " 'originDate': '2017-09-16T13:12:26.536886',\n",
       " 'originID': ObjectId('59b842be0601bad0b9df0e6c')}"
      ]
     },
     "metadata": {},
     "output_type": "display_data"
    },
    {
     "data": {
      "text/plain": [
       "{'itisSearchURL': 'http://services.itis.gov/?wt=json&rows=10&q=tsn:773532',\n",
       " 'originCollection': 'gapspecies',\n",
       " 'originDate': '2017-09-16T13:12:26.720165',\n",
       " 'originID': ObjectId('59b842be0601bad0b9df0e6d')}"
      ]
     },
     "metadata": {},
     "output_type": "display_data"
    },
    {
     "data": {
      "text/plain": [
       "{'itisSearchURL': 'http://services.itis.gov/?wt=json&rows=10&q=tsn:178886',\n",
       " 'originCollection': 'gapspecies',\n",
       " 'originDate': '2017-09-16T13:12:26.903825',\n",
       " 'originID': ObjectId('59b842be0601bad0b9df0e6e')}"
      ]
     },
     "metadata": {},
     "output_type": "display_data"
    },
    {
     "data": {
      "text/plain": [
       "{'itisSearchURL': 'http://services.itis.gov/?wt=json&rows=10&q=tsn:176610',\n",
       " 'originCollection': 'gapspecies',\n",
       " 'originDate': '2017-09-16T13:12:27.112801',\n",
       " 'originID': ObjectId('59b842be0601bad0b9df0e6f')}"
      ]
     },
     "metadata": {},
     "output_type": "display_data"
    },
    {
     "data": {
      "text/plain": [
       "{'itisSearchURL': 'http://services.itis.gov/?wt=json&rows=10&q=tsn:175149',\n",
       " 'originCollection': 'gapspecies',\n",
       " 'originDate': '2017-09-16T13:12:27.297462',\n",
       " 'originID': ObjectId('59b842be0601bad0b9df0e70')}"
      ]
     },
     "metadata": {},
     "output_type": "display_data"
    },
    {
     "data": {
      "text/plain": [
       "{'itisSearchURL': 'http://services.itis.gov/?wt=json&rows=10&q=tsn:173568',\n",
       " 'originCollection': 'gapspecies',\n",
       " 'originDate': '2017-09-16T13:12:27.479782',\n",
       " 'originID': ObjectId('59b842bf0601bad0b9df0e71')}"
      ]
     },
     "metadata": {},
     "output_type": "display_data"
    },
    {
     "data": {
      "text/plain": [
       "{'itisSearchURL': 'http://services.itis.gov/?wt=json&rows=10&q=tsn:176510',\n",
       " 'originCollection': 'gapspecies',\n",
       " 'originDate': '2017-09-16T13:12:27.666467',\n",
       " 'originID': ObjectId('59b842bf0601bad0b9df0e72')}"
      ]
     },
     "metadata": {},
     "output_type": "display_data"
    },
    {
     "data": {
      "text/plain": [
       "{'itisSearchURL': 'http://services.itis.gov/?wt=json&rows=10&q=tsn:177946',\n",
       " 'originCollection': 'gapspecies',\n",
       " 'originDate': '2017-09-16T13:12:27.864597',\n",
       " 'originID': ObjectId('59b842bf0601bad0b9df0e73')}"
      ]
     },
     "metadata": {},
     "output_type": "display_data"
    },
    {
     "data": {
      "text/plain": [
       "{'itisSearchURL': 'http://services.itis.gov/?wt=json&rows=10&q=tsn:173678',\n",
       " 'originCollection': 'gapspecies',\n",
       " 'originDate': '2017-09-16T13:12:28.054976',\n",
       " 'originID': ObjectId('59b842bf0601bad0b9df0e74')}"
      ]
     },
     "metadata": {},
     "output_type": "display_data"
    },
    {
     "data": {
      "text/plain": [
       "{'itisSearchURL': 'http://services.itis.gov/?wt=json&rows=10&q=tsn:179215',\n",
       " 'originCollection': 'gapspecies',\n",
       " 'originDate': '2017-09-16T13:12:28.234723',\n",
       " 'originID': ObjectId('59b842c00601bad0b9df0e75')}"
      ]
     },
     "metadata": {},
     "output_type": "display_data"
    },
    {
     "data": {
      "text/plain": [
       "{'itisSearchURL': 'http://services.itis.gov/?wt=json&rows=10&q=tsn:178014',\n",
       " 'originCollection': 'gapspecies',\n",
       " 'originDate': '2017-09-16T13:12:28.566880',\n",
       " 'originID': ObjectId('59b842c00601bad0b9df0e76')}"
      ]
     },
     "metadata": {},
     "output_type": "display_data"
    },
    {
     "data": {
      "text/plain": [
       "{'itisSearchURL': 'http://services.itis.gov/?wt=json&rows=10&q=tsn:177836',\n",
       " 'originCollection': 'gapspecies',\n",
       " 'originDate': '2017-09-16T13:12:28.967370',\n",
       " 'originID': ObjectId('59b842c00601bad0b9df0e77')}"
      ]
     },
     "metadata": {},
     "output_type": "display_data"
    },
    {
     "data": {
      "text/plain": [
       "{'itisSearchURL': 'http://services.itis.gov/?wt=json&rows=10&q=tsn:179693',\n",
       " 'originCollection': 'gapspecies',\n",
       " 'originDate': '2017-09-16T13:12:29.453961',\n",
       " 'originID': ObjectId('59b842c00601bad0b9df0e78')}"
      ]
     },
     "metadata": {},
     "output_type": "display_data"
    },
    {
     "data": {
      "text/plain": [
       "{'itisSearchURL': 'http://services.itis.gov/?wt=json&rows=10&q=tsn:179743',\n",
       " 'originCollection': 'gapspecies',\n",
       " 'originDate': '2017-09-16T13:12:29.924633',\n",
       " 'originID': ObjectId('59b842c10601bad0b9df0e79')}"
      ]
     },
     "metadata": {},
     "output_type": "display_data"
    },
    {
     "data": {
      "text/plain": [
       "{'itisSearchURL': 'http://services.itis.gov/?wt=json&rows=10&q=tsn:178292',\n",
       " 'originCollection': 'gapspecies',\n",
       " 'originDate': '2017-09-16T13:12:30.433757',\n",
       " 'originID': ObjectId('59b842c10601bad0b9df0e7a')}"
      ]
     },
     "metadata": {},
     "output_type": "display_data"
    },
    {
     "data": {
      "text/plain": [
       "{'itisSearchURL': 'http://services.itis.gov/?wt=json&rows=10&q=tsn:175407',\n",
       " 'originCollection': 'gapspecies',\n",
       " 'originDate': '2017-09-16T13:12:31.108538',\n",
       " 'originID': ObjectId('59b842c10601bad0b9df0e7b')}"
      ]
     },
     "metadata": {},
     "output_type": "display_data"
    },
    {
     "data": {
      "text/plain": [
       "{'itisSearchURL': 'http://services.itis.gov/?wt=json&rows=10&q=tsn:175073',\n",
       " 'originCollection': 'gapspecies',\n",
       " 'originDate': '2017-09-16T13:12:31.587359',\n",
       " 'originID': ObjectId('59b842c20601bad0b9df0e7c')}"
      ]
     },
     "metadata": {},
     "output_type": "display_data"
    },
    {
     "data": {
      "text/plain": [
       "{'itisSearchURL': 'http://services.itis.gov/?wt=json&rows=10&q=tsn:180703',\n",
       " 'originCollection': 'gapspecies',\n",
       " 'originDate': '2017-09-16T13:12:32.119106',\n",
       " 'originID': ObjectId('59b842c20601bad0b9df0e7d')}"
      ]
     },
     "metadata": {},
     "output_type": "display_data"
    },
    {
     "data": {
      "text/plain": [
       "{'itisSearchURL': 'http://services.itis.gov/?wt=json&rows=10&q=tsn:173622',\n",
       " 'originCollection': 'gapspecies',\n",
       " 'originDate': '2017-09-16T13:12:32.312917',\n",
       " 'originID': ObjectId('59b842c20601bad0b9df0e7e')}"
      ]
     },
     "metadata": {},
     "output_type": "display_data"
    },
    {
     "data": {
      "text/plain": [
       "{'itisSearchURL': 'http://services.itis.gov/?wt=json&rows=10&q=tsn:179824',\n",
       " 'originCollection': 'gapspecies',\n",
       " 'originDate': '2017-09-16T13:12:32.496393',\n",
       " 'originID': ObjectId('59b842c30601bad0b9df0e7f')}"
      ]
     },
     "metadata": {},
     "output_type": "display_data"
    },
    {
     "data": {
      "text/plain": [
       "{'itisSearchURL': 'http://services.itis.gov/?wt=json&rows=10&q=tsn:176808',\n",
       " 'originCollection': 'gapspecies',\n",
       " 'originDate': '2017-09-16T13:12:32.681245',\n",
       " 'originID': ObjectId('59b842c30601bad0b9df0e80')}"
      ]
     },
     "metadata": {},
     "output_type": "display_data"
    },
    {
     "data": {
      "text/plain": [
       "{'itisSearchURL': 'http://services.itis.gov/?wt=json&rows=10&q=tsn:174285',\n",
       " 'originCollection': 'gapspecies',\n",
       " 'originDate': '2017-09-16T13:12:32.886239',\n",
       " 'originID': ObjectId('59b842c40601bad0b9df0e81')}"
      ]
     },
     "metadata": {},
     "output_type": "display_data"
    },
    {
     "data": {
      "text/plain": [
       "{'itisSearchURL': 'http://services.itis.gov/?wt=json&rows=10&q=tsn:174842',\n",
       " 'originCollection': 'gapspecies',\n",
       " 'originDate': '2017-09-16T13:12:33.069131',\n",
       " 'originID': ObjectId('59b842c40601bad0b9df0e82')}"
      ]
     },
     "metadata": {},
     "output_type": "display_data"
    },
    {
     "data": {
      "text/plain": [
       "{'itisSearchURL': 'http://services.itis.gov/?wt=json&rows=10&q=tsn:179932',\n",
       " 'originCollection': 'gapspecies',\n",
       " 'originDate': '2017-09-16T13:12:33.253057',\n",
       " 'originID': ObjectId('59b842c40601bad0b9df0e83')}"
      ]
     },
     "metadata": {},
     "output_type": "display_data"
    },
    {
     "data": {
      "text/plain": [
       "{'itisSearchURL': 'http://services.itis.gov/?wt=json&rows=10&q=tsn:668671',\n",
       " 'originCollection': 'gapspecies',\n",
       " 'originDate': '2017-09-16T13:12:33.439326',\n",
       " 'originID': ObjectId('59b842c50601bad0b9df0e84')}"
      ]
     },
     "metadata": {},
     "output_type": "display_data"
    },
    {
     "data": {
      "text/plain": [
       "{'itisSearchURL': 'http://services.itis.gov/?wt=json&rows=10&q=tsn:173789',\n",
       " 'originCollection': 'gapspecies',\n",
       " 'originDate': '2017-09-16T13:12:33.627717',\n",
       " 'originID': ObjectId('59b842c50601bad0b9df0e85')}"
      ]
     },
     "metadata": {},
     "output_type": "display_data"
    },
    {
     "data": {
      "text/plain": [
       "{'itisSearchURL': 'http://services.itis.gov/?wt=json&rows=10&q=tsn:173949',\n",
       " 'originCollection': 'gapspecies',\n",
       " 'originDate': '2017-09-16T13:12:33.809809',\n",
       " 'originID': ObjectId('59b842c60601bad0b9df0e86')}"
      ]
     },
     "metadata": {},
     "output_type": "display_data"
    },
    {
     "data": {
      "text/plain": [
       "{'itisSearchURL': 'http://services.itis.gov/?wt=json&rows=10&q=tsn:174022',\n",
       " 'originCollection': 'gapspecies',\n",
       " 'originDate': '2017-09-16T13:12:34.008809',\n",
       " 'originID': ObjectId('59b842c60601bad0b9df0e87')}"
      ]
     },
     "metadata": {},
     "output_type": "display_data"
    },
    {
     "data": {
      "text/plain": [
       "{'itisSearchURL': 'http://services.itis.gov/?wt=json&rows=10&q=tsn:551765',\n",
       " 'originCollection': 'gapspecies',\n",
       " 'originDate': '2017-09-16T13:12:34.200772',\n",
       " 'originID': ObjectId('59b842c70601bad0b9df0e88')}"
      ]
     },
     "metadata": {},
     "output_type": "display_data"
    },
    {
     "data": {
      "text/plain": [
       "{'itisSearchURL': 'http://services.itis.gov/?wt=json&rows=10&q=tsn:174173',\n",
       " 'originCollection': 'gapspecies',\n",
       " 'originDate': '2017-09-16T13:12:34.383292',\n",
       " 'originID': ObjectId('59b842c70601bad0b9df0e89')}"
      ]
     },
     "metadata": {},
     "output_type": "display_data"
    },
    {
     "data": {
      "text/plain": [
       "{'itisSearchURL': 'http://services.itis.gov/?wt=json&rows=10&q=tsn:208680',\n",
       " 'originCollection': 'gapspecies',\n",
       " 'originDate': '2017-09-16T13:12:34.571914',\n",
       " 'originID': ObjectId('59b842c80601bad0b9df0e8a')}"
      ]
     },
     "metadata": {},
     "output_type": "display_data"
    },
    {
     "data": {
      "text/plain": [
       "{'itisSearchURL': 'http://services.itis.gov/?wt=json&rows=10&q=tsn:174017',\n",
       " 'originCollection': 'gapspecies',\n",
       " 'originDate': '2017-09-16T13:12:34.781661',\n",
       " 'originID': ObjectId('59b842c80601bad0b9df0e8b')}"
      ]
     },
     "metadata": {},
     "output_type": "display_data"
    },
    {
     "data": {
      "text/plain": [
       "{'itisSearchURL': 'http://services.itis.gov/?wt=json&rows=10&q=tsn:173921',\n",
       " 'originCollection': 'gapspecies',\n",
       " 'originDate': '2017-09-16T13:12:34.963639',\n",
       " 'originID': ObjectId('59b842c90601bad0b9df0e8c')}"
      ]
     },
     "metadata": {},
     "output_type": "display_data"
    },
    {
     "data": {
      "text/plain": [
       "{'itisSearchURL': 'http://services.itis.gov/?wt=json&rows=10&q=tsn:180190',\n",
       " 'originCollection': 'gapspecies',\n",
       " 'originDate': '2017-09-16T13:12:35.146081',\n",
       " 'originID': ObjectId('59b842c90601bad0b9df0e8d')}"
      ]
     },
     "metadata": {},
     "output_type": "display_data"
    },
    {
     "data": {
      "text/plain": [
       "{'itisSearchURL': 'http://services.itis.gov/?wt=json&rows=10&q=tsn:180562',\n",
       " 'originCollection': 'gapspecies',\n",
       " 'originDate': '2017-09-16T13:12:35.327967',\n",
       " 'originID': ObjectId('59b842c90601bad0b9df0e8e')}"
      ]
     },
     "metadata": {},
     "output_type": "display_data"
    },
    {
     "data": {
      "text/plain": [
       "{'itisSearchURL': 'http://services.itis.gov/?wt=json&rows=10&q=tsn:173813',\n",
       " 'originCollection': 'gapspecies',\n",
       " 'originDate': '2017-09-16T13:12:35.531722',\n",
       " 'originID': ObjectId('59b842ca0601bad0b9df0e8f')}"
      ]
     },
     "metadata": {},
     "output_type": "display_data"
    },
    {
     "data": {
      "text/plain": [
       "{'itisSearchURL': 'http://services.itis.gov/?wt=json&rows=10&q=tsn:178186',\n",
       " 'originCollection': 'gapspecies',\n",
       " 'originDate': '2017-09-16T13:12:35.728099',\n",
       " 'originID': ObjectId('59b842ca0601bad0b9df0e90')}"
      ]
     },
     "metadata": {},
     "output_type": "display_data"
    },
    {
     "data": {
      "text/plain": [
       "{'itisSearchURL': 'http://services.itis.gov/?wt=json&rows=10&q=tsn:175359',\n",
       " 'originCollection': 'gapspecies',\n",
       " 'originDate': '2017-09-16T13:12:35.914387',\n",
       " 'originID': ObjectId('59b842cb0601bad0b9df0e91')}"
      ]
     },
     "metadata": {},
     "output_type": "display_data"
    },
    {
     "data": {
      "text/plain": [
       "{'itisSearchURL': 'http://services.itis.gov/?wt=json&rows=10&q=tsn:180551',\n",
       " 'originCollection': 'gapspecies',\n",
       " 'originDate': '2017-09-16T13:12:36.101293',\n",
       " 'originID': ObjectId('59b842cb0601bad0b9df0e92')}"
      ]
     },
     "metadata": {},
     "output_type": "display_data"
    },
    {
     "data": {
      "text/plain": [
       "{'itisSearchURL': 'http://services.itis.gov/?wt=json&rows=10&q=tsn:180295',\n",
       " 'originCollection': 'gapspecies',\n",
       " 'originDate': '2017-09-16T13:12:36.285469',\n",
       " 'originID': ObjectId('59b842cc0601bad0b9df0e93')}"
      ]
     },
     "metadata": {},
     "output_type": "display_data"
    },
    {
     "data": {
      "text/plain": [
       "{'itisSearchURL': 'http://services.itis.gov/?wt=json&rows=10&q=tsn:550251',\n",
       " 'originCollection': 'gapspecies',\n",
       " 'originDate': '2017-09-16T13:12:36.469802',\n",
       " 'originID': ObjectId('59b842cc0601bad0b9df0e94')}"
      ]
     },
     "metadata": {},
     "output_type": "display_data"
    },
    {
     "data": {
      "text/plain": [
       "{'itisSearchURL': 'http://services.itis.gov/?wt=json&rows=10&q=tsn:180722',\n",
       " 'originCollection': 'gapspecies',\n",
       " 'originDate': '2017-09-16T13:12:36.651932',\n",
       " 'originID': ObjectId('59b842cd0601bad0b9df0e95')}"
      ]
     },
     "metadata": {},
     "output_type": "display_data"
    },
    {
     "data": {
      "text/plain": [
       "{'itisSearchURL': 'http://services.itis.gov/?wt=json&rows=10&q=tsn:180684',\n",
       " 'originCollection': 'gapspecies',\n",
       " 'originDate': '2017-09-16T13:12:36.852555',\n",
       " 'originID': ObjectId('59b842cd0601bad0b9df0e96')}"
      ]
     },
     "metadata": {},
     "output_type": "display_data"
    },
    {
     "data": {
      "text/plain": [
       "{'itisSearchURL': 'http://services.itis.gov/?wt=json&rows=10&q=tsn:668245',\n",
       " 'originCollection': 'gapspecies',\n",
       " 'originDate': '2017-09-16T13:12:37.038252',\n",
       " 'originID': ObjectId('59b842ce0601bad0b9df0e97')}"
      ]
     },
     "metadata": {},
     "output_type": "display_data"
    },
    {
     "data": {
      "text/plain": [
       "{'itisSearchURL': 'http://services.itis.gov/?wt=json&rows=10&q=tsn:174832',\n",
       " 'originCollection': 'gapspecies',\n",
       " 'originDate': '2017-09-16T13:12:37.217119',\n",
       " 'originID': ObjectId('59b842ce0601bad0b9df0e98')}"
      ]
     },
     "metadata": {},
     "output_type": "display_data"
    },
    {
     "data": {
      "text/plain": [
       "{'itisSearchURL': 'http://services.itis.gov/?wt=json&rows=10&q=tsn:174856',\n",
       " 'originCollection': 'gapspecies',\n",
       " 'originDate': '2017-09-16T13:12:37.400640',\n",
       " 'originID': ObjectId('59b842ce0601bad0b9df0e99')}"
      ]
     },
     "metadata": {},
     "output_type": "display_data"
    },
    {
     "data": {
      "text/plain": [
       "{'itisSearchURL': 'http://services.itis.gov/?wt=json&rows=10&q=tsn:178352',\n",
       " 'originCollection': 'gapspecies',\n",
       " 'originDate': '2017-09-16T13:12:37.582008',\n",
       " 'originID': ObjectId('59b842cf0601bad0b9df0e9a')}"
      ]
     },
     "metadata": {},
     "output_type": "display_data"
    },
    {
     "data": {
      "text/plain": [
       "{'itisSearchURL': 'http://services.itis.gov/?wt=json&rows=10&q=tsn:558842',\n",
       " 'originCollection': 'gapspecies',\n",
       " 'originDate': '2017-09-16T13:12:37.766901',\n",
       " 'originID': ObjectId('59b842cf0601bad0b9df0e9b')}"
      ]
     },
     "metadata": {},
     "output_type": "display_data"
    },
    {
     "data": {
      "text/plain": [
       "{'itisSearchURL': 'http://services.itis.gov/?wt=json&rows=10&q=tsn:676899',\n",
       " 'originCollection': 'gapspecies',\n",
       " 'originDate': '2017-09-16T13:12:37.954929',\n",
       " 'originID': ObjectId('59b842d00601bad0b9df0e9c')}"
      ]
     },
     "metadata": {},
     "output_type": "display_data"
    },
    {
     "data": {
      "text/plain": [
       "{'itisSearchURL': 'http://services.itis.gov/?wt=json&rows=10&q=tsn:174228',\n",
       " 'originCollection': 'gapspecies',\n",
       " 'originDate': '2017-09-16T13:12:38.313046',\n",
       " 'originID': ObjectId('59b842d00601bad0b9df0e9d')}"
      ]
     },
     "metadata": {},
     "output_type": "display_data"
    },
    {
     "data": {
      "text/plain": [
       "{'itisSearchURL': 'http://services.itis.gov/?wt=json&rows=10&q=tsn:773516',\n",
       " 'originCollection': 'gapspecies',\n",
       " 'originDate': '2017-09-16T13:12:38.723917',\n",
       " 'originID': ObjectId('59b842d10601bad0b9df0e9e')}"
      ]
     },
     "metadata": {},
     "output_type": "display_data"
    },
    {
     "data": {
      "text/plain": [
       "{'itisSearchURL': 'http://services.itis.gov/?wt=json&rows=10&q=tsn:174083',\n",
       " 'originCollection': 'gapspecies',\n",
       " 'originDate': '2017-09-16T13:12:39.226750',\n",
       " 'originID': ObjectId('59b842d10601bad0b9df0e9f')}"
      ]
     },
     "metadata": {},
     "output_type": "display_data"
    },
    {
     "data": {
      "text/plain": [
       "{'itisSearchURL': 'http://services.itis.gov/?wt=json&rows=10&q=tsn:174106',\n",
       " 'originCollection': 'gapspecies',\n",
       " 'originDate': '2017-09-16T13:12:39.685360',\n",
       " 'originID': ObjectId('59b842d20601bad0b9df0ea0')}"
      ]
     },
     "metadata": {},
     "output_type": "display_data"
    },
    {
     "data": {
      "text/plain": [
       "{'itisSearchURL': 'http://services.itis.gov/?wt=json&rows=10&q=tsn:775105',\n",
       " 'originCollection': 'gapspecies',\n",
       " 'originDate': '2017-09-16T13:12:40.197791',\n",
       " 'originID': ObjectId('59b842d30601bad0b9df0ea1')}"
      ]
     },
     "metadata": {},
     "output_type": "display_data"
    },
    {
     "data": {
      "text/plain": [
       "{'itisSearchURL': 'http://services.itis.gov/?wt=json&rows=10&q=tsn:173721',\n",
       " 'originCollection': 'gapspecies',\n",
       " 'originDate': '2017-09-16T13:12:40.669963',\n",
       " 'originID': ObjectId('59b842d40601bad0b9df0ea2')}"
      ]
     },
     "metadata": {},
     "output_type": "display_data"
    },
    {
     "data": {
      "text/plain": [
       "{'itisSearchURL': 'http://services.itis.gov/?wt=json&rows=10&q=tsn:554267',\n",
       " 'originCollection': 'gapspecies',\n",
       " 'originDate': '2017-09-16T13:12:41.176239',\n",
       " 'originID': ObjectId('59b842d40601bad0b9df0ea3')}"
      ]
     },
     "metadata": {},
     "output_type": "display_data"
    },
    {
     "data": {
      "text/plain": [
       "{'itisSearchURL': 'http://services.itis.gov/?wt=json&rows=10&q=tsn:173840',\n",
       " 'originCollection': 'gapspecies',\n",
       " 'originDate': '2017-09-16T13:12:41.826188',\n",
       " 'originID': ObjectId('59b842d50601bad0b9df0ea4')}"
      ]
     },
     "metadata": {},
     "output_type": "display_data"
    },
    {
     "data": {
      "text/plain": [
       "{'itisSearchURL': 'http://services.itis.gov/?wt=json&rows=10&q=tsn:773515',\n",
       " 'originCollection': 'gapspecies',\n",
       " 'originDate': '2017-09-16T13:12:42.015780',\n",
       " 'originID': ObjectId('59b842d60601bad0b9df0ea5')}"
      ]
     },
     "metadata": {},
     "output_type": "display_data"
    },
    {
     "data": {
      "text/plain": [
       "{'itisSearchURL': 'http://services.itis.gov/?wt=json&rows=10&q=tsn:180575',\n",
       " 'originCollection': 'gapspecies',\n",
       " 'originDate': '2017-09-16T13:12:42.204239',\n",
       " 'originID': ObjectId('59b842d60601bad0b9df0ea6')}"
      ]
     },
     "metadata": {},
     "output_type": "display_data"
    },
    {
     "data": {
      "text/plain": [
       "{'itisSearchURL': 'http://services.itis.gov/?wt=json&rows=10&q=tsn:180604',\n",
       " 'originCollection': 'gapspecies',\n",
       " 'originDate': '2017-09-16T13:12:42.384521',\n",
       " 'originID': ObjectId('59b842d70601bad0b9df0ea7')}"
      ]
     },
     "metadata": {},
     "output_type": "display_data"
    },
    {
     "data": {
      "text/plain": [
       "{'itisSearchURL': 'http://services.itis.gov/?wt=json&rows=10&q=tsn:178096',\n",
       " 'originCollection': 'gapspecies',\n",
       " 'originDate': '2017-09-16T13:12:42.583001',\n",
       " 'originID': ObjectId('59b842d80601bad0b9df0ea8')}"
      ]
     },
     "metadata": {},
     "output_type": "display_data"
    },
    {
     "data": {
      "text/plain": [
       "{'itisSearchURL': 'http://services.itis.gov/?wt=json&rows=10&q=tsn:180305',\n",
       " 'originCollection': 'gapspecies',\n",
       " 'originDate': '2017-09-16T13:12:42.767155',\n",
       " 'originID': ObjectId('59b842d90601bad0b9df0ea9')}"
      ]
     },
     "metadata": {},
     "output_type": "display_data"
    },
    {
     "data": {
      "text/plain": [
       "{'itisSearchURL': 'http://services.itis.gov/?wt=json&rows=10&q=tsn:179725',\n",
       " 'originCollection': 'gapspecies',\n",
       " 'originDate': '2017-09-16T13:12:42.950888',\n",
       " 'originID': ObjectId('59b842da0601bad0b9df0eaa')}"
      ]
     },
     "metadata": {},
     "output_type": "display_data"
    },
    {
     "data": {
      "text/plain": [
       "{'itisSearchURL': 'http://services.itis.gov/?wt=json&rows=10&q=tsn:173510',\n",
       " 'originCollection': 'gapspecies',\n",
       " 'originDate': '2017-09-16T13:12:43.136155',\n",
       " 'originID': ObjectId('59b842da0601bad0b9df0eab')}"
      ]
     },
     "metadata": {},
     "output_type": "display_data"
    },
    {
     "data": {
      "text/plain": [
       "{'itisSearchURL': 'http://services.itis.gov/?wt=json&rows=10&q=tsn:180316',\n",
       " 'originCollection': 'gapspecies',\n",
       " 'originDate': '2017-09-16T13:12:43.318742',\n",
       " 'originID': ObjectId('59b842db0601bad0b9df0eac')}"
      ]
     },
     "metadata": {},
     "output_type": "display_data"
    },
    {
     "data": {
      "text/plain": [
       "{'itisSearchURL': 'http://services.itis.gov/?wt=json&rows=10&q=tsn:709810',\n",
       " 'originCollection': 'gapspecies',\n",
       " 'originDate': '2017-09-16T13:12:43.503801',\n",
       " 'originID': ObjectId('59b842dc0601bad0b9df0ead')}"
      ]
     },
     "metadata": {},
     "output_type": "display_data"
    },
    {
     "data": {
      "text/plain": [
       "{'itisSearchURL': 'http://services.itis.gov/?wt=json&rows=10&q=nameWOInd:Tamias\\\\%20minimus\\\\%20atristriatus',\n",
       " 'originCollection': 'gapspecies',\n",
       " 'originDate': '2017-09-16T13:12:43.701791',\n",
       " 'originID': ObjectId('59b842dd0601bad0b9df0eae')}"
      ]
     },
     "metadata": {},
     "output_type": "display_data"
    },
    {
     "data": {
      "text/plain": [
       "{'itisSearchURL': 'http://services.itis.gov/?wt=json&rows=10&q=tsn:179990',\n",
       " 'originCollection': 'gapspecies',\n",
       " 'originDate': '2017-09-16T13:12:43.883839',\n",
       " 'originID': ObjectId('59b842dd0601bad0b9df0eaf')}"
      ]
     },
     "metadata": {},
     "output_type": "display_data"
    },
    {
     "data": {
      "text/plain": [
       "{'itisSearchURL': 'http://services.itis.gov/?wt=json&rows=10&q=tsn:179432',\n",
       " 'originCollection': 'gapspecies',\n",
       " 'originDate': '2017-09-16T13:12:44.078396',\n",
       " 'originID': ObjectId('59b842de0601bad0b9df0eb0')}"
      ]
     },
     "metadata": {},
     "output_type": "display_data"
    },
    {
     "data": {
      "text/plain": [
       "{'itisSearchURL': 'http://services.itis.gov/?wt=json&rows=10&q=tsn:180290',\n",
       " 'originCollection': 'gapspecies',\n",
       " 'originDate': '2017-09-16T13:12:44.259808',\n",
       " 'originID': ObjectId('59b842df0601bad0b9df0eb1')}"
      ]
     },
     "metadata": {},
     "output_type": "display_data"
    },
    {
     "data": {
      "text/plain": [
       "{'itisSearchURL': 'http://services.itis.gov/?wt=json&rows=10&q=tsn:177166',\n",
       " 'originCollection': 'gapspecies',\n",
       " 'originDate': '2017-09-16T13:12:44.457463',\n",
       " 'originID': ObjectId('59b842e00601bad0b9df0eb2')}"
      ]
     },
     "metadata": {},
     "output_type": "display_data"
    },
    {
     "data": {
      "text/plain": [
       "{'itisSearchURL': 'http://services.itis.gov/?wt=json&rows=10&q=tsn:180291',\n",
       " 'originCollection': 'gapspecies',\n",
       " 'originDate': '2017-09-16T13:12:44.645279',\n",
       " 'originID': ObjectId('59b842e10601bad0b9df0eb3')}"
      ]
     },
     "metadata": {},
     "output_type": "display_data"
    },
    {
     "data": {
      "text/plain": [
       "{'itisSearchURL': 'http://services.itis.gov/?wt=json&rows=10&q=tsn:550246',\n",
       " 'originCollection': 'gapspecies',\n",
       " 'originDate': '2017-09-16T13:12:44.824541',\n",
       " 'originID': ObjectId('59b842e10601bad0b9df0eb4')}"
      ]
     },
     "metadata": {},
     "output_type": "display_data"
    },
    {
     "data": {
      "text/plain": [
       "{'itisSearchURL': 'http://services.itis.gov/?wt=json&rows=10&q=tsn:685725',\n",
       " 'originCollection': 'gapspecies',\n",
       " 'originDate': '2017-09-16T13:12:45.021040',\n",
       " 'originID': ObjectId('59b842e20601bad0b9df0eb5')}"
      ]
     },
     "metadata": {},
     "output_type": "display_data"
    },
    {
     "data": {
      "text/plain": [
       "{'itisSearchURL': 'http://services.itis.gov/?wt=json&rows=10&q=tsn:179124',\n",
       " 'originCollection': 'gapspecies',\n",
       " 'originDate': '2017-09-16T13:12:45.200989',\n",
       " 'originID': ObjectId('59b842e30601bad0b9df0eb6')}"
      ]
     },
     "metadata": {},
     "output_type": "display_data"
    },
    {
     "data": {
      "text/plain": [
       "{'itisSearchURL': 'http://services.itis.gov/?wt=json&rows=10&q=tsn:180147',\n",
       " 'originCollection': 'gapspecies',\n",
       " 'originDate': '2017-09-16T13:12:45.399033',\n",
       " 'originID': ObjectId('59b842e40601bad0b9df0eb7')}"
      ]
     },
     "metadata": {},
     "output_type": "display_data"
    },
    {
     "data": {
      "text/plain": [
       "{'itisSearchURL': 'http://services.itis.gov/?wt=json&rows=10&q=tsn:179929',\n",
       " 'originCollection': 'gapspecies',\n",
       " 'originDate': '2017-09-16T13:12:45.584416',\n",
       " 'originID': ObjectId('59b842e40601bad0b9df0eb8')}"
      ]
     },
     "metadata": {},
     "output_type": "display_data"
    },
    {
     "data": {
      "text/plain": [
       "{'itisSearchURL': 'http://services.itis.gov/?wt=json&rows=10&q=tsn:180154',\n",
       " 'originCollection': 'gapspecies',\n",
       " 'originDate': '2017-09-16T13:12:45.771422',\n",
       " 'originID': ObjectId('59b842e50601bad0b9df0eb9')}"
      ]
     },
     "metadata": {},
     "output_type": "display_data"
    },
    {
     "data": {
      "text/plain": [
       "{'itisSearchURL': 'http://services.itis.gov/?wt=json&rows=10&q=tsn:180127',\n",
       " 'originCollection': 'gapspecies',\n",
       " 'originDate': '2017-09-16T13:12:45.955090',\n",
       " 'originID': ObjectId('59b842e60601bad0b9df0eba')}"
      ]
     },
     "metadata": {},
     "output_type": "display_data"
    },
    {
     "data": {
      "text/plain": [
       "{'itisSearchURL': 'http://services.itis.gov/?wt=json&rows=10&q=tsn:178460',\n",
       " 'originCollection': 'gapspecies',\n",
       " 'originDate': '2017-09-16T13:12:46.139002',\n",
       " 'originID': ObjectId('59b842e60601bad0b9df0ebb')}"
      ]
     },
     "metadata": {},
     "output_type": "display_data"
    },
    {
     "data": {
      "text/plain": [
       "{'itisSearchURL': 'http://services.itis.gov/?wt=json&rows=10&q=tsn:180155',\n",
       " 'originCollection': 'gapspecies',\n",
       " 'originDate': '2017-09-16T13:12:46.321424',\n",
       " 'originID': ObjectId('59b842e60601bad0b9df0ebc')}"
      ]
     },
     "metadata": {},
     "output_type": "display_data"
    },
    {
     "data": {
      "text/plain": [
       "{'itisSearchURL': 'http://services.itis.gov/?wt=json&rows=10&q=tsn:180375',\n",
       " 'originCollection': 'gapspecies',\n",
       " 'originDate': '2017-09-16T13:12:46.504948',\n",
       " 'originID': ObjectId('59b842e70601bad0b9df0ebd')}"
      ]
     },
     "metadata": {},
     "output_type": "display_data"
    },
    {
     "data": {
      "text/plain": [
       "{'itisSearchURL': 'http://services.itis.gov/?wt=json&rows=10&q=tsn:180699',\n",
       " 'originCollection': 'gapspecies',\n",
       " 'originDate': '2017-09-16T13:12:46.689257',\n",
       " 'originID': ObjectId('59b842e70601bad0b9df0ebe')}"
      ]
     },
     "metadata": {},
     "output_type": "display_data"
    },
    {
     "data": {
      "text/plain": [
       "{'itisSearchURL': 'http://services.itis.gov/?wt=json&rows=10&q=tsn:173530',\n",
       " 'originCollection': 'gapspecies',\n",
       " 'originDate': '2017-09-16T13:12:46.875955',\n",
       " 'originID': ObjectId('59b842e80601bad0b9df0ebf')}"
      ]
     },
     "metadata": {},
     "output_type": "display_data"
    },
    {
     "data": {
      "text/plain": [
       "{'itisSearchURL': 'http://services.itis.gov/?wt=json&rows=10&q=tsn:173590',\n",
       " 'originCollection': 'gapspecies',\n",
       " 'originDate': '2017-09-16T13:12:47.061948',\n",
       " 'originID': ObjectId('59b842e80601bad0b9df0ec0')}"
      ]
     },
     "metadata": {},
     "output_type": "display_data"
    },
    {
     "data": {
      "text/plain": [
       "{'itisSearchURL': 'http://services.itis.gov/?wt=json&rows=10&q=tsn:208293',\n",
       " 'originCollection': 'gapspecies',\n",
       " 'originDate': '2017-09-16T13:12:47.243020',\n",
       " 'originID': ObjectId('59b842e90601bad0b9df0ec1')}"
      ]
     },
     "metadata": {},
     "output_type": "display_data"
    },
    {
     "data": {
      "text/plain": [
       "{'itisSearchURL': 'http://services.itis.gov/?wt=json&rows=10&q=tsn:180163',\n",
       " 'originCollection': 'gapspecies',\n",
       " 'originDate': '2017-09-16T13:12:47.473309',\n",
       " 'originID': ObjectId('59b842e90601bad0b9df0ec2')}"
      ]
     },
     "metadata": {},
     "output_type": "display_data"
    },
    {
     "data": {
      "text/plain": [
       "{'itisSearchURL': 'http://services.itis.gov/?wt=json&rows=10&q=tsn:180116',\n",
       " 'originCollection': 'gapspecies',\n",
       " 'originDate': '2017-09-16T13:12:47.661585',\n",
       " 'originID': ObjectId('59b842e90601bad0b9df0ec3')}"
      ]
     },
     "metadata": {},
     "output_type": "display_data"
    },
    {
     "data": {
      "text/plain": [
       "{'itisSearchURL': 'http://services.itis.gov/?wt=json&rows=10&q=tsn:174337',\n",
       " 'originCollection': 'gapspecies',\n",
       " 'originDate': '2017-09-16T13:12:47.844763',\n",
       " 'originID': ObjectId('59b842ea0601bad0b9df0ec4')}"
      ]
     },
     "metadata": {},
     "output_type": "display_data"
    },
    {
     "data": {
      "text/plain": [
       "{'itisSearchURL': 'http://services.itis.gov/?wt=json&rows=10&q=tsn:180169',\n",
       " 'originCollection': 'gapspecies',\n",
       " 'originDate': '2017-09-16T13:12:48.505880',\n",
       " 'originID': ObjectId('59b842ea0601bad0b9df0ec5')}"
      ]
     },
     "metadata": {},
     "output_type": "display_data"
    },
    {
     "data": {
      "text/plain": [
       "{'itisSearchURL': 'http://services.itis.gov/?wt=json&rows=10&q=tsn:176814',\n",
       " 'originCollection': 'gapspecies',\n",
       " 'originDate': '2017-09-16T13:12:48.981628',\n",
       " 'originID': ObjectId('59b842eb0601bad0b9df0ec6')}"
      ]
     },
     "metadata": {},
     "output_type": "display_data"
    },
    {
     "data": {
      "text/plain": [
       "{'itisSearchURL': 'http://services.itis.gov/?wt=json&rows=10&q=tsn:175081',\n",
       " 'originCollection': 'gapspecies',\n",
       " 'originDate': '2017-09-16T13:12:49.450992',\n",
       " 'originID': ObjectId('59b842eb0601bad0b9df0ec7')}"
      ]
     },
     "metadata": {},
     "output_type": "display_data"
    },
    {
     "data": {
      "text/plain": [
       "{'itisSearchURL': 'http://services.itis.gov/?wt=json&rows=10&q=tsn:180350',\n",
       " 'originCollection': 'gapspecies',\n",
       " 'originDate': '2017-09-16T13:12:49.960019',\n",
       " 'originID': ObjectId('59b842ec0601bad0b9df0ec8')}"
      ]
     },
     "metadata": {},
     "output_type": "display_data"
    },
    {
     "data": {
      "text/plain": [
       "{'itisSearchURL': 'http://services.itis.gov/?wt=json&rows=10&q=tsn:174145',\n",
       " 'originCollection': 'gapspecies',\n",
       " 'originDate': '2017-09-16T13:12:50.607239',\n",
       " 'originID': ObjectId('59b842ec0601bad0b9df0ec9')}"
      ]
     },
     "metadata": {},
     "output_type": "display_data"
    },
    {
     "data": {
      "text/plain": [
       "{'itisSearchURL': 'http://services.itis.gov/?wt=json&rows=10&q=tsn:177975',\n",
       " 'originCollection': 'gapspecies',\n",
       " 'originDate': '2017-09-16T13:12:51.119905',\n",
       " 'originID': ObjectId('59b842ec0601bad0b9df0eca')}"
      ]
     },
     "metadata": {},
     "output_type": "display_data"
    },
    {
     "data": {
      "text/plain": [
       "{'itisSearchURL': 'http://services.itis.gov/?wt=json&rows=10&q=tsn:179230',\n",
       " 'originCollection': 'gapspecies',\n",
       " 'originDate': '2017-09-16T13:12:51.649437',\n",
       " 'originID': ObjectId('59b842ed0601bad0b9df0ecb')}"
      ]
     },
     "metadata": {},
     "output_type": "display_data"
    },
    {
     "data": {
      "text/plain": [
       "{'itisSearchURL': 'http://services.itis.gov/?wt=json&rows=10&q=tsn:550240',\n",
       " 'originCollection': 'gapspecies',\n",
       " 'originDate': '2017-09-16T13:12:51.829976',\n",
       " 'originID': ObjectId('59b842ed0601bad0b9df0ecc')}"
      ]
     },
     "metadata": {},
     "output_type": "display_data"
    },
    {
     "data": {
      "text/plain": [
       "{'itisSearchURL': 'http://services.itis.gov/?wt=json&rows=10&q=tsn:178852',\n",
       " 'originCollection': 'gapspecies',\n",
       " 'originDate': '2017-09-16T13:12:52.012852',\n",
       " 'originID': ObjectId('59b842ee0601bad0b9df0ecd')}"
      ]
     },
     "metadata": {},
     "output_type": "display_data"
    },
    {
     "data": {
      "text/plain": [
       "{'itisSearchURL': 'http://services.itis.gov/?wt=json&rows=10&q=tsn:173611',\n",
       " 'originCollection': 'gapspecies',\n",
       " 'originDate': '2017-09-16T13:12:52.197514',\n",
       " 'originID': ObjectId('59b842ee0601bad0b9df0ece')}"
      ]
     },
     "metadata": {},
     "output_type": "display_data"
    },
    {
     "data": {
      "text/plain": [
       "{'itisSearchURL': 'http://services.itis.gov/?wt=json&rows=10&q=tsn:668294',\n",
       " 'originCollection': 'gapspecies',\n",
       " 'originDate': '2017-09-16T13:12:52.387061',\n",
       " 'originID': ObjectId('59b842ef0601bad0b9df0ecf')}"
      ]
     },
     "metadata": {},
     "output_type": "display_data"
    },
    {
     "data": {
      "text/plain": [
       "{'itisSearchURL': 'http://services.itis.gov/?wt=json&rows=10&q=tsn:668246',\n",
       " 'originCollection': 'gapspecies',\n",
       " 'originDate': '2017-09-16T13:12:52.572071',\n",
       " 'originID': ObjectId('59b842ef0601bad0b9df0ed0')}"
      ]
     },
     "metadata": {},
     "output_type": "display_data"
    },
    {
     "data": {
      "text/plain": [
       "{'itisSearchURL': 'http://services.itis.gov/?wt=json&rows=10&q=tsn:173707',\n",
       " 'originCollection': 'gapspecies',\n",
       " 'originDate': '2017-09-16T13:12:52.763668',\n",
       " 'originID': ObjectId('59b842f00601bad0b9df0ed1')}"
      ]
     },
     "metadata": {},
     "output_type": "display_data"
    },
    {
     "data": {
      "text/plain": [
       "{'itisSearchURL': 'http://services.itis.gov/?wt=json&rows=10&q=tsn:179109',\n",
       " 'originCollection': 'gapspecies',\n",
       " 'originDate': '2017-09-16T13:12:52.947948',\n",
       " 'originID': ObjectId('59b842f00601bad0b9df0ed2')}"
      ]
     },
     "metadata": {},
     "output_type": "display_data"
    },
    {
     "data": {
      "text/plain": [
       "{'itisSearchURL': 'http://services.itis.gov/?wt=json&rows=10&q=tsn:176615',\n",
       " 'originCollection': 'gapspecies',\n",
       " 'originDate': '2017-09-16T13:12:53.131258',\n",
       " 'originID': ObjectId('59b842f10601bad0b9df0ed3')}"
      ]
     },
     "metadata": {},
     "output_type": "display_data"
    },
    {
     "data": {
      "text/plain": [
       "{'itisSearchURL': 'http://services.itis.gov/?wt=json&rows=10&q=tsn:180172',\n",
       " 'originCollection': 'gapspecies',\n",
       " 'originDate': '2017-09-16T13:12:53.328884',\n",
       " 'originID': ObjectId('59b842f10601bad0b9df0ed4')}"
      ]
     },
     "metadata": {},
     "output_type": "display_data"
    },
    {
     "data": {
      "text/plain": [
       "{'itisSearchURL': 'http://services.itis.gov/?wt=json&rows=10&q=tsn:180164',\n",
       " 'originCollection': 'gapspecies',\n",
       " 'originDate': '2017-09-16T13:12:53.510691',\n",
       " 'originID': ObjectId('59b842f20601bad0b9df0ed5')}"
      ]
     },
     "metadata": {},
     "output_type": "display_data"
    },
    {
     "data": {
      "text/plain": [
       "{'itisSearchURL': 'http://services.itis.gov/?wt=json&rows=10&q=tsn:180373',\n",
       " 'originCollection': 'gapspecies',\n",
       " 'originDate': '2017-09-16T13:12:53.695086',\n",
       " 'originID': ObjectId('59b842f20601bad0b9df0ed6')}"
      ]
     },
     "metadata": {},
     "output_type": "display_data"
    },
    {
     "data": {
      "text/plain": [
       "{'itisSearchURL': 'http://services.itis.gov/?wt=json&rows=10&q=tsn:180252',\n",
       " 'originCollection': 'gapspecies',\n",
       " 'originDate': '2017-09-16T13:12:53.879245',\n",
       " 'originID': ObjectId('59b842f30601bad0b9df0ed7')}"
      ]
     },
     "metadata": {},
     "output_type": "display_data"
    },
    {
     "data": {
      "text/plain": [
       "{'itisSearchURL': 'http://services.itis.gov/?wt=json&rows=10&q=tsn:179009',\n",
       " 'originCollection': 'gapspecies',\n",
       " 'originDate': '2017-09-16T13:12:54.061580',\n",
       " 'originID': ObjectId('59b842f40601bad0b9df0ed8')}"
      ]
     },
     "metadata": {},
     "output_type": "display_data"
    },
    {
     "data": {
      "text/plain": [
       "{'itisSearchURL': 'http://services.itis.gov/?wt=json&rows=10&q=tsn:555661',\n",
       " 'originCollection': 'gapspecies',\n",
       " 'originDate': '2017-09-16T13:12:54.251137',\n",
       " 'originID': ObjectId('59b842f40601bad0b9df0ed9')}"
      ]
     },
     "metadata": {},
     "output_type": "display_data"
    },
    {
     "data": {
      "text/plain": [
       "{'itisSearchURL': 'http://services.itis.gov/?wt=json&rows=10&q=tsn:174008',\n",
       " 'originCollection': 'gapspecies',\n",
       " 'originDate': '2017-09-16T13:12:54.434919',\n",
       " 'originID': ObjectId('59b842f50601bad0b9df0eda')}"
      ]
     },
     "metadata": {},
     "output_type": "display_data"
    },
    {
     "data": {
      "text/plain": [
       "{'itisSearchURL': 'http://services.itis.gov/?wt=json&rows=10&q=tsn:178964',\n",
       " 'originCollection': 'gapspecies',\n",
       " 'originDate': '2017-09-16T13:12:54.621082',\n",
       " 'originID': ObjectId('59b842f50601bad0b9df0edb')}"
      ]
     },
     "metadata": {},
     "output_type": "display_data"
    },
    {
     "data": {
      "text/plain": [
       "{'itisSearchURL': 'http://services.itis.gov/?wt=json&rows=10&q=tsn:173928',\n",
       " 'originCollection': 'gapspecies',\n",
       " 'originDate': '2017-09-16T13:12:54.801576',\n",
       " 'originID': ObjectId('59b842f50601bad0b9df0edc')}"
      ]
     },
     "metadata": {},
     "output_type": "display_data"
    },
    {
     "data": {
      "text/plain": [
       "{'itisSearchURL': 'http://services.itis.gov/?wt=json&rows=10&q=tsn:174187',\n",
       " 'originCollection': 'gapspecies',\n",
       " 'originDate': '2017-09-16T13:12:54.987650',\n",
       " 'originID': ObjectId('59b842f60601bad0b9df0edd')}"
      ]
     },
     "metadata": {},
     "output_type": "display_data"
    },
    {
     "data": {
      "text/plain": [
       "{'itisSearchURL': 'http://services.itis.gov/?wt=json&rows=10&q=tsn:174202',\n",
       " 'originCollection': 'gapspecies',\n",
       " 'originDate': '2017-09-16T13:12:55.170608',\n",
       " 'originID': ObjectId('59b842f60601bad0b9df0ede')}"
      ]
     },
     "metadata": {},
     "output_type": "display_data"
    },
    {
     "data": {
      "text/plain": [
       "{'itisSearchURL': 'http://services.itis.gov/?wt=json&rows=10&q=tsn:173833',\n",
       " 'originCollection': 'gapspecies',\n",
       " 'originDate': '2017-09-16T13:12:55.354532',\n",
       " 'originID': ObjectId('59b842f70601bad0b9df0edf')}"
      ]
     },
     "metadata": {},
     "output_type": "display_data"
    },
    {
     "data": {
      "text/plain": [
       "{'itisSearchURL': 'http://services.itis.gov/?wt=json&rows=10&q=tsn:180215',\n",
       " 'originCollection': 'gapspecies',\n",
       " 'originDate': '2017-09-16T13:12:55.536597',\n",
       " 'originID': ObjectId('59b842f70601bad0b9df0ee0')}"
      ]
     },
     "metadata": {},
     "output_type": "display_data"
    },
    {
     "data": {
      "text/plain": [
       "{'itisSearchURL': 'http://services.itis.gov/?wt=json&rows=10&q=tsn:179979',\n",
       " 'originCollection': 'gapspecies',\n",
       " 'originDate': '2017-09-16T13:12:55.721183',\n",
       " 'originID': ObjectId('59b842f80601bad0b9df0ee1')}"
      ]
     },
     "metadata": {},
     "output_type": "display_data"
    },
    {
     "data": {
      "text/plain": [
       "{'itisSearchURL': 'http://services.itis.gov/?wt=json&rows=10&q=tsn:180151',\n",
       " 'originCollection': 'gapspecies',\n",
       " 'originDate': '2017-09-16T13:12:55.905387',\n",
       " 'originID': ObjectId('59b842f80601bad0b9df0ee2')}"
      ]
     },
     "metadata": {},
     "output_type": "display_data"
    },
    {
     "data": {
      "text/plain": [
       "{'itisSearchURL': 'http://services.itis.gov/?wt=json&rows=10&q=tsn:173508',\n",
       " 'originCollection': 'gapspecies',\n",
       " 'originDate': '2017-09-16T13:12:56.131012',\n",
       " 'originID': ObjectId('59b842f80601bad0b9df0ee3')}"
      ]
     },
     "metadata": {},
     "output_type": "display_data"
    },
    {
     "data": {
      "text/plain": [
       "{'itisSearchURL': 'http://services.itis.gov/?wt=json&rows=10&q=tsn:175020',\n",
       " 'originCollection': 'gapspecies',\n",
       " 'originDate': '2017-09-16T13:12:56.320553',\n",
       " 'originID': ObjectId('59b842f90601bad0b9df0ee4')}"
      ]
     },
     "metadata": {},
     "output_type": "display_data"
    },
    {
     "data": {
      "text/plain": [
       "{'itisSearchURL': 'http://services.itis.gov/?wt=json&rows=10&q=tsn:179268',\n",
       " 'originCollection': 'gapspecies',\n",
       " 'originDate': '2017-09-16T13:12:56.504632',\n",
       " 'originID': ObjectId('59b842f90601bad0b9df0ee5')}"
      ]
     },
     "metadata": {},
     "output_type": "display_data"
    },
    {
     "data": {
      "text/plain": [
       "{'itisSearchURL': 'http://services.itis.gov/?wt=json&rows=10&q=tsn:775080',\n",
       " 'originCollection': 'gapspecies',\n",
       " 'originDate': '2017-09-16T13:12:56.687096',\n",
       " 'originID': ObjectId('59b842fa0601bad0b9df0ee6')}"
      ]
     },
     "metadata": {},
     "output_type": "display_data"
    },
    {
     "data": {
      "text/plain": [
       "{'itisSearchURL': 'http://services.itis.gov/?wt=json&rows=10&q=tsn:668240',\n",
       " 'originCollection': 'gapspecies',\n",
       " 'originDate': '2017-09-16T13:12:56.869066',\n",
       " 'originID': ObjectId('59b842fa0601bad0b9df0ee7')}"
      ]
     },
     "metadata": {},
     "output_type": "display_data"
    },
    {
     "data": {
      "text/plain": [
       "{'itisSearchURL': 'http://services.itis.gov/?wt=json&rows=10&q=tsn:207307',\n",
       " 'originCollection': 'gapspecies',\n",
       " 'originDate': '2017-09-16T13:12:57.052363',\n",
       " 'originID': ObjectId('59b842fb0601bad0b9df0ee8')}"
      ]
     },
     "metadata": {},
     "output_type": "display_data"
    },
    {
     "data": {
      "text/plain": [
       "{'itisSearchURL': 'http://services.itis.gov/?wt=json&rows=10&q=tsn:177979',\n",
       " 'originCollection': 'gapspecies',\n",
       " 'originDate': '2017-09-16T13:12:57.242032',\n",
       " 'originID': ObjectId('59b842fb0601bad0b9df0ee9')}"
      ]
     },
     "metadata": {},
     "output_type": "display_data"
    },
    {
     "data": {
      "text/plain": [
       "{'itisSearchURL': 'http://services.itis.gov/?wt=json&rows=10&q=tsn:179994',\n",
       " 'originCollection': 'gapspecies',\n",
       " 'originDate': '2017-09-16T13:12:57.426942',\n",
       " 'originID': ObjectId('59b842fc0601bad0b9df0eea')}"
      ]
     },
     "metadata": {},
     "output_type": "display_data"
    },
    {
     "data": {
      "text/plain": [
       "{'itisSearchURL': 'http://services.itis.gov/?wt=json&rows=10&q=tsn:668322',\n",
       " 'originCollection': 'gapspecies',\n",
       " 'originDate': '2017-09-16T13:12:57.607763',\n",
       " 'originID': ObjectId('59b842fc0601bad0b9df0eeb')}"
      ]
     },
     "metadata": {},
     "output_type": "display_data"
    },
    {
     "data": {
      "text/plain": [
       "{'itisSearchURL': 'http://services.itis.gov/?wt=json&rows=10&q=tsn:207303',\n",
       " 'originCollection': 'gapspecies',\n",
       " 'originDate': '2017-09-16T13:12:58.008861',\n",
       " 'originID': ObjectId('59b842fd0601bad0b9df0eec')}"
      ]
     },
     "metadata": {},
     "output_type": "display_data"
    },
    {
     "data": {
      "text/plain": [
       "{'itisSearchURL': 'http://services.itis.gov/?wt=json&rows=10&q=tsn:208204',\n",
       " 'originCollection': 'gapspecies',\n",
       " 'originDate': '2017-09-16T13:12:58.404153',\n",
       " 'originID': ObjectId('59b842fe0601bad0b9df0eed')}"
      ]
     },
     "metadata": {},
     "output_type": "display_data"
    },
    {
     "data": {
      "text/plain": [
       "{'itisSearchURL': 'http://services.itis.gov/?wt=json&rows=10&q=tsn:178652',\n",
       " 'originCollection': 'gapspecies',\n",
       " 'originDate': '2017-09-16T13:12:58.914539',\n",
       " 'originID': ObjectId('59b842fe0601bad0b9df0eee')}"
      ]
     },
     "metadata": {},
     "output_type": "display_data"
    },
    {
     "data": {
      "text/plain": [
       "{'itisSearchURL': 'http://services.itis.gov/?wt=json&rows=10&q=tsn:175130',\n",
       " 'originCollection': 'gapspecies',\n",
       " 'originDate': '2017-09-16T13:12:59.553859',\n",
       " 'originID': ObjectId('59b842ff0601bad0b9df0eef')}"
      ]
     },
     "metadata": {},
     "output_type": "display_data"
    },
    {
     "data": {
      "text/plain": [
       "{'itisSearchURL': 'http://services.itis.gov/?wt=json&rows=10&q=tsn:586343',\n",
       " 'originCollection': 'gapspecies',\n",
       " 'originDate': '2017-09-16T13:13:00.066377',\n",
       " 'originID': ObjectId('59b842ff0601bad0b9df0ef0')}"
      ]
     },
     "metadata": {},
     "output_type": "display_data"
    },
    {
     "data": {
      "text/plain": [
       "{'itisSearchURL': 'http://services.itis.gov/?wt=json&rows=10&q=tsn:208280',\n",
       " 'originCollection': 'gapspecies',\n",
       " 'originDate': '2017-09-16T13:13:00.535347',\n",
       " 'originID': ObjectId('59b843000601bad0b9df0ef1')}"
      ]
     },
     "metadata": {},
     "output_type": "display_data"
    },
    {
     "data": {
      "text/plain": [
       "{'itisSearchURL': 'http://services.itis.gov/?wt=json&rows=10&q=tsn:173745',\n",
       " 'originCollection': 'gapspecies',\n",
       " 'originDate': '2017-09-16T13:13:01.048030',\n",
       " 'originID': ObjectId('59b843010601bad0b9df0ef2')}"
      ]
     },
     "metadata": {},
     "output_type": "display_data"
    },
    {
     "data": {
      "text/plain": [
       "{'itisSearchURL': 'http://services.itis.gov/?wt=json&rows=10&q=tsn:178944',\n",
       " 'originCollection': 'gapspecies',\n",
       " 'originDate': '2017-09-16T13:13:01.429533',\n",
       " 'originID': ObjectId('59b843010601bad0b9df0ef3')}"
      ]
     },
     "metadata": {},
     "output_type": "display_data"
    },
    {
     "data": {
      "text/plain": [
       "{'itisSearchURL': 'http://services.itis.gov/?wt=json&rows=10&q=tsn:180193',\n",
       " 'originCollection': 'gapspecies',\n",
       " 'originDate': '2017-09-16T13:13:01.622020',\n",
       " 'originID': ObjectId('59b843020601bad0b9df0ef4')}"
      ]
     },
     "metadata": {},
     "output_type": "display_data"
    },
    {
     "data": {
      "text/plain": [
       "{'itisSearchURL': 'http://services.itis.gov/?wt=json&rows=10&q=tsn:552464',\n",
       " 'originCollection': 'gapspecies',\n",
       " 'originDate': '2017-09-16T13:13:01.806602',\n",
       " 'originID': ObjectId('59b843030601bad0b9df0ef5')}"
      ]
     },
     "metadata": {},
     "output_type": "display_data"
    },
    {
     "data": {
      "text/plain": [
       "{'itisSearchURL': 'http://services.itis.gov/?wt=json&rows=10&q=tsn:175074',\n",
       " 'originCollection': 'gapspecies',\n",
       " 'originDate': '2017-09-16T13:13:01.992691',\n",
       " 'originID': ObjectId('59b843040601bad0b9df0ef6')}"
      ]
     },
     "metadata": {},
     "output_type": "display_data"
    },
    {
     "data": {
      "text/plain": [
       "{'itisSearchURL': 'http://services.itis.gov/?wt=json&rows=10&q=tsn:178846',\n",
       " 'originCollection': 'gapspecies',\n",
       " 'originDate': '2017-09-16T13:13:02.173335',\n",
       " 'originID': ObjectId('59b843040601bad0b9df0ef7')}"
      ]
     },
     "metadata": {},
     "output_type": "display_data"
    },
    {
     "data": {
      "text/plain": [
       "{'itisSearchURL': 'http://services.itis.gov/?wt=json&rows=10&q=tsn:180609',\n",
       " 'originCollection': 'gapspecies',\n",
       " 'originDate': '2017-09-16T13:13:02.364909',\n",
       " 'originID': ObjectId('59b843050601bad0b9df0ef8')}"
      ]
     },
     "metadata": {},
     "output_type": "display_data"
    },
    {
     "data": {
      "text/plain": [
       "{'itisSearchURL': 'http://services.itis.gov/?wt=json&rows=10&q=tsn:174999',\n",
       " 'originCollection': 'gapspecies',\n",
       " 'originDate': '2017-09-16T13:13:02.550230',\n",
       " 'originID': ObjectId('59b843060601bad0b9df0ef9')}"
      ]
     },
     "metadata": {},
     "output_type": "display_data"
    },
    {
     "data": {
      "text/plain": [
       "{'itisSearchURL': 'http://services.itis.gov/?wt=json&rows=10&q=tsn:173617',\n",
       " 'originCollection': 'gapspecies',\n",
       " 'originDate': '2017-09-16T13:13:02.729914',\n",
       " 'originID': ObjectId('59b843060601bad0b9df0efa')}"
      ]
     },
     "metadata": {},
     "output_type": "display_data"
    },
    {
     "data": {
      "text/plain": [
       "{'itisSearchURL': 'http://services.itis.gov/?wt=json&rows=10&q=tsn:775911',\n",
       " 'originCollection': 'gapspecies',\n",
       " 'originDate': '2017-09-16T13:13:02.909580',\n",
       " 'originID': ObjectId('59b843070601bad0b9df0efb')}"
      ]
     },
     "metadata": {},
     "output_type": "display_data"
    },
    {
     "data": {
      "text/plain": [
       "{'itisSearchURL': 'http://services.itis.gov/?wt=json&rows=10&q=tsn:180299',\n",
       " 'originCollection': 'gapspecies',\n",
       " 'originDate': '2017-09-16T13:13:03.094462',\n",
       " 'originID': ObjectId('59b843080601bad0b9df0efc')}"
      ]
     },
     "metadata": {},
     "output_type": "display_data"
    },
    {
     "data": {
      "text/plain": [
       "{'itisSearchURL': 'http://services.itis.gov/?wt=json&rows=10&q=tsn:180120',\n",
       " 'originCollection': 'gapspecies',\n",
       " 'originDate': '2017-09-16T13:13:03.276628',\n",
       " 'originID': ObjectId('59b843080601bad0b9df0efd')}"
      ]
     },
     "metadata": {},
     "output_type": "display_data"
    },
    {
     "data": {
      "text/plain": [
       "{'itisSearchURL': 'http://services.itis.gov/?wt=json&rows=10&q=tsn:180383',\n",
       " 'originCollection': 'gapspecies',\n",
       " 'originDate': '2017-09-16T13:13:03.465454',\n",
       " 'originID': ObjectId('59b843080601bad0b9df0efe')}"
      ]
     },
     "metadata": {},
     "output_type": "display_data"
    },
    {
     "data": {
      "text/plain": [
       "{'itisSearchURL': 'http://services.itis.gov/?wt=json&rows=10&q=tsn:180159',\n",
       " 'originCollection': 'gapspecies',\n",
       " 'originDate': '2017-09-16T13:13:03.650774',\n",
       " 'originID': ObjectId('59b843090601bad0b9df0eff')}"
      ]
     },
     "metadata": {},
     "output_type": "display_data"
    },
    {
     "data": {
      "text/plain": [
       "{'itisSearchURL': 'http://services.itis.gov/?wt=json&rows=10&q=nameWOInd:Eleutherodactylus\\\\%20guttilatus',\n",
       " 'originCollection': 'gapspecies',\n",
       " 'originDate': '2017-09-16T13:13:03.832879',\n",
       " 'originID': ObjectId('59b843090601bad0b9df0f00')}"
      ]
     },
     "metadata": {},
     "output_type": "display_data"
    },
    {
     "data": {
      "text/plain": [
       "{'itisSearchURL': 'http://services.itis.gov/?wt=json&rows=10&q=tsn:173701',\n",
       " 'originCollection': 'gapspecies',\n",
       " 'originDate': '2017-09-16T13:13:04.017305',\n",
       " 'originID': ObjectId('59b8430a0601bad0b9df0f01')}"
      ]
     },
     "metadata": {},
     "output_type": "display_data"
    },
    {
     "data": {
      "text/plain": [
       "{'itisSearchURL': 'http://services.itis.gov/?wt=json&rows=10&q=tsn:668289',\n",
       " 'originCollection': 'gapspecies',\n",
       " 'originDate': '2017-09-16T13:13:04.221837',\n",
       " 'originID': ObjectId('59b8430a0601bad0b9df0f02')}"
      ]
     },
     "metadata": {},
     "output_type": "display_data"
    },
    {
     "data": {
      "text/plain": [
       "{'itisSearchURL': 'http://services.itis.gov/?wt=json&rows=10&q=tsn:175377',\n",
       " 'originCollection': 'gapspecies',\n",
       " 'originDate': '2017-09-16T13:13:04.408677',\n",
       " 'originID': ObjectId('59b8430a0601bad0b9df0f03')}"
      ]
     },
     "metadata": {},
     "output_type": "display_data"
    },
    {
     "data": {
      "text/plain": [
       "{'itisSearchURL': 'http://services.itis.gov/?wt=json&rows=10&q=tsn:552487',\n",
       " 'originCollection': 'gapspecies',\n",
       " 'originDate': '2017-09-16T13:13:04.588128',\n",
       " 'originID': ObjectId('59b8430b0601bad0b9df0f04')}"
      ]
     },
     "metadata": {},
     "output_type": "display_data"
    },
    {
     "data": {
      "text/plain": [
       "{'itisSearchURL': 'http://services.itis.gov/?wt=json&rows=10&q=tsn:900166',\n",
       " 'originCollection': 'gapspecies',\n",
       " 'originDate': '2017-09-16T13:13:04.773593',\n",
       " 'originID': ObjectId('59b8430b0601bad0b9df0f05')}"
      ]
     },
     "metadata": {},
     "output_type": "display_data"
    },
    {
     "data": {
      "text/plain": [
       "{'itisSearchURL': 'http://services.itis.gov/?wt=json&rows=10&q=tsn:179943',\n",
       " 'originCollection': 'gapspecies',\n",
       " 'originDate': '2017-09-16T13:13:04.956979',\n",
       " 'originID': ObjectId('59b8430c0601bad0b9df0f06')}"
      ]
     },
     "metadata": {},
     "output_type": "display_data"
    },
    {
     "data": {
      "text/plain": [
       "{'itisSearchURL': 'http://services.itis.gov/?wt=json&rows=10&q=tsn:180230',\n",
       " 'originCollection': 'gapspecies',\n",
       " 'originDate': '2017-09-16T13:13:05.141864',\n",
       " 'originID': ObjectId('59b8430c0601bad0b9df0f07')}"
      ]
     },
     "metadata": {},
     "output_type": "display_data"
    },
    {
     "data": {
      "text/plain": [
       "{'itisSearchURL': 'http://services.itis.gov/?wt=json&rows=10&q=tsn:564567',\n",
       " 'originCollection': 'gapspecies',\n",
       " 'originDate': '2017-09-16T13:13:05.324393',\n",
       " 'originID': ObjectId('59b8430c0601bad0b9df0f08')}"
      ]
     },
     "metadata": {},
     "output_type": "display_data"
    },
    {
     "data": {
      "text/plain": [
       "{'itisSearchURL': 'http://services.itis.gov/?wt=json&rows=10&q=tsn:174023',\n",
       " 'originCollection': 'gapspecies',\n",
       " 'originDate': '2017-09-16T13:13:05.508035',\n",
       " 'originID': ObjectId('59b8430d0601bad0b9df0f09')}"
      ]
     },
     "metadata": {},
     "output_type": "display_data"
    },
    {
     "data": {
      "text/plain": [
       "{'itisSearchURL': 'http://services.itis.gov/?wt=json&rows=10&q=tsn:174317',\n",
       " 'originCollection': 'gapspecies',\n",
       " 'originDate': '2017-09-16T13:13:05.686857',\n",
       " 'originID': ObjectId('59b8430d0601bad0b9df0f0a')}"
      ]
     },
     "metadata": {},
     "output_type": "display_data"
    },
    {
     "data": {
      "text/plain": [
       "{'itisSearchURL': 'http://services.itis.gov/?wt=json&rows=10&q=tsn:174020',\n",
       " 'originCollection': 'gapspecies',\n",
       " 'originDate': '2017-09-16T13:13:05.881248',\n",
       " 'originID': ObjectId('59b8430d0601bad0b9df0f0b')}"
      ]
     },
     "metadata": {},
     "output_type": "display_data"
    },
    {
     "data": {
      "text/plain": [
       "{'itisSearchURL': 'http://services.itis.gov/?wt=json&rows=10&q=tsn:208948',\n",
       " 'originCollection': 'gapspecies',\n",
       " 'originDate': '2017-09-16T13:13:06.063478',\n",
       " 'originID': ObjectId('59b8430e0601bad0b9df0f0c')}"
      ]
     },
     "metadata": {},
     "output_type": "display_data"
    },
    {
     "data": {
      "text/plain": [
       "{'itisSearchURL': 'http://services.itis.gov/?wt=json&rows=10&q=tsn:174125',\n",
       " 'originCollection': 'gapspecies',\n",
       " 'originDate': '2017-09-16T13:13:06.250197',\n",
       " 'originID': ObjectId('59b8430e0601bad0b9df0f0d')}"
      ]
     },
     "metadata": {},
     "output_type": "display_data"
    },
    {
     "data": {
      "text/plain": [
       "{'itisSearchURL': 'http://services.itis.gov/?wt=json&rows=10&q=tsn:564600',\n",
       " 'originCollection': 'gapspecies',\n",
       " 'originDate': '2017-09-16T13:13:06.434573',\n",
       " 'originID': ObjectId('59b8430f0601bad0b9df0f0e')}"
      ]
     },
     "metadata": {},
     "output_type": "display_data"
    },
    {
     "data": {
      "text/plain": [
       "{'itisSearchURL': 'http://services.itis.gov/?wt=json&rows=10&q=tsn:173767',\n",
       " 'originCollection': 'gapspecies',\n",
       " 'originDate': '2017-09-16T13:13:06.617842',\n",
       " 'originID': ObjectId('59b8430f0601bad0b9df0f0f')}"
      ]
     },
     "metadata": {},
     "output_type": "display_data"
    },
    {
     "data": {
      "text/plain": [
       "{'itisSearchURL': 'http://services.itis.gov/?wt=json&rows=10&q=tsn:173944',\n",
       " 'originCollection': 'gapspecies',\n",
       " 'originDate': '2017-09-16T13:13:06.801369',\n",
       " 'originID': ObjectId('59b8430f0601bad0b9df0f10')}"
      ]
     },
     "metadata": {},
     "output_type": "display_data"
    },
    {
     "data": {
      "text/plain": [
       "{'itisSearchURL': 'http://services.itis.gov/?wt=json&rows=10&q=tsn:174140',\n",
       " 'originCollection': 'gapspecies',\n",
       " 'originDate': '2017-09-16T13:13:06.986387',\n",
       " 'originID': ObjectId('59b843100601bad0b9df0f11')}"
      ]
     },
     "metadata": {},
     "output_type": "display_data"
    },
    {
     "data": {
      "text/plain": [
       "{'itisSearchURL': 'http://services.itis.gov/?wt=json&rows=10&q=tsn:174166',\n",
       " 'originCollection': 'gapspecies',\n",
       " 'originDate': '2017-09-16T13:13:07.173253',\n",
       " 'originID': ObjectId('59b843100601bad0b9df0f12')}"
      ]
     },
     "metadata": {},
     "output_type": "display_data"
    },
    {
     "data": {
      "text/plain": [
       "{'itisSearchURL': 'http://services.itis.gov/?wt=json&rows=10&q=tsn:174109',\n",
       " 'originCollection': 'gapspecies',\n",
       " 'originDate': '2017-09-16T13:13:07.356297',\n",
       " 'originID': ObjectId('59b843100601bad0b9df0f13')}"
      ]
     },
     "metadata": {},
     "output_type": "display_data"
    },
    {
     "data": {
      "text/plain": [
       "{'itisSearchURL': 'http://services.itis.gov/?wt=json&rows=10&q=tsn:175011',\n",
       " 'originCollection': 'gapspecies',\n",
       " 'originDate': '2017-09-16T13:13:07.850207',\n",
       " 'originID': ObjectId('59b843100601bad0b9df0f14')}"
      ]
     },
     "metadata": {},
     "output_type": "display_data"
    },
    {
     "data": {
      "text/plain": [
       "{'itisSearchURL': 'http://services.itis.gov/?wt=json&rows=10&q=tsn:180290',\n",
       " 'originCollection': 'gapspecies',\n",
       " 'originDate': '2017-09-16T13:13:08.677710',\n",
       " 'originID': ObjectId('59b843110601bad0b9df0f15')}"
      ]
     },
     "metadata": {},
     "output_type": "display_data"
    },
    {
     "data": {
      "text/plain": [
       "{'itisSearchURL': 'http://services.itis.gov/?wt=json&rows=10&q=tsn:180051',\n",
       " 'originCollection': 'gapspecies',\n",
       " 'originDate': '2017-09-16T13:13:09.311632',\n",
       " 'originID': ObjectId('59b843110601bad0b9df0f16')}"
      ]
     },
     "metadata": {},
     "output_type": "display_data"
    },
    {
     "data": {
      "text/plain": [
       "{'itisSearchURL': 'http://services.itis.gov/?wt=json&rows=10&q=tsn:180216',\n",
       " 'originCollection': 'gapspecies',\n",
       " 'originDate': '2017-09-16T13:13:09.828429',\n",
       " 'originID': ObjectId('59b843110601bad0b9df0f17')}"
      ]
     },
     "metadata": {},
     "output_type": "display_data"
    },
    {
     "data": {
      "text/plain": [
       "{'itisSearchURL': 'http://services.itis.gov/?wt=json&rows=10&q=tsn:175877',\n",
       " 'originCollection': 'gapspecies',\n",
       " 'originDate': '2017-09-16T13:13:10.461221',\n",
       " 'originID': ObjectId('59b843120601bad0b9df0f18')}"
      ]
     },
     "metadata": {},
     "output_type": "display_data"
    },
    {
     "data": {
      "text/plain": [
       "{'itisSearchURL': 'http://services.itis.gov/?wt=json&rows=10&q=tsn:175309',\n",
       " 'originCollection': 'gapspecies',\n",
       " 'originDate': '2017-09-16T13:13:10.943216',\n",
       " 'originID': ObjectId('59b843120601bad0b9df0f19')}"
      ]
     },
     "metadata": {},
     "output_type": "display_data"
    },
    {
     "data": {
      "text/plain": [
       "{'itisSearchURL': 'http://services.itis.gov/?wt=json&rows=10&q=tsn:177683',\n",
       " 'originCollection': 'gapspecies',\n",
       " 'originDate': '2017-09-16T13:13:11.492251',\n",
       " 'originID': ObjectId('59b843130601bad0b9df0f1a')}"
      ]
     },
     "metadata": {},
     "output_type": "display_data"
    },
    {
     "data": {
      "text/plain": [
       "{'itisSearchURL': 'http://services.itis.gov/?wt=json&rows=10&q=tsn:178291',\n",
       " 'originCollection': 'gapspecies',\n",
       " 'originDate': '2017-09-16T13:13:11.679523',\n",
       " 'originID': ObjectId('59b843130601bad0b9df0f1b')}"
      ]
     },
     "metadata": {},
     "output_type": "display_data"
    },
    {
     "data": {
      "text/plain": [
       "{'itisSearchURL': 'http://services.itis.gov/?wt=json&rows=10&q=tsn:208320',\n",
       " 'originCollection': 'gapspecies',\n",
       " 'originDate': '2017-09-16T13:13:11.866623',\n",
       " 'originID': ObjectId('59b843130601bad0b9df0f1c')}"
      ]
     },
     "metadata": {},
     "output_type": "display_data"
    },
    {
     "data": {
      "text/plain": [
       "{'itisSearchURL': 'http://services.itis.gov/?wt=json&rows=10&q=tsn:173618',\n",
       " 'originCollection': 'gapspecies',\n",
       " 'originDate': '2017-09-16T13:13:12.054154',\n",
       " 'originID': ObjectId('59b843140601bad0b9df0f1d')}"
      ]
     },
     "metadata": {},
     "output_type": "display_data"
    },
    {
     "data": {
      "text/plain": [
       "{'itisSearchURL': 'http://services.itis.gov/?wt=json&rows=10&q=tsn:775084',\n",
       " 'originCollection': 'gapspecies',\n",
       " 'originDate': '2017-09-16T13:13:12.238515',\n",
       " 'originID': ObjectId('59b843140601bad0b9df0f1e')}"
      ]
     },
     "metadata": {},
     "output_type": "display_data"
    },
    {
     "data": {
      "text/plain": [
       "{'itisSearchURL': 'http://services.itis.gov/?wt=json&rows=10&q=tsn:179730',\n",
       " 'originCollection': 'gapspecies',\n",
       " 'originDate': '2017-09-16T13:13:12.422610',\n",
       " 'originID': ObjectId('59b843150601bad0b9df0f1f')}"
      ]
     },
     "metadata": {},
     "output_type": "display_data"
    },
    {
     "data": {
      "text/plain": [
       "{'itisSearchURL': 'http://services.itis.gov/?wt=json&rows=10&q=tsn:179953',\n",
       " 'originCollection': 'gapspecies',\n",
       " 'originDate': '2017-09-16T13:13:12.618107',\n",
       " 'originID': ObjectId('59b843150601bad0b9df0f20')}"
      ]
     },
     "metadata": {},
     "output_type": "display_data"
    },
    {
     "data": {
      "text/plain": [
       "{'itisSearchURL': 'http://services.itis.gov/?wt=json&rows=10&q=tsn:179953',\n",
       " 'originCollection': 'gapspecies',\n",
       " 'originDate': '2017-09-16T13:13:12.805809',\n",
       " 'originID': ObjectId('59b843150601bad0b9df0f21')}"
      ]
     },
     "metadata": {},
     "output_type": "display_data"
    },
    {
     "data": {
      "text/plain": [
       "{'itisSearchURL': 'http://services.itis.gov/?wt=json&rows=10&q=tsn:178901',\n",
       " 'originCollection': 'gapspecies',\n",
       " 'originDate': '2017-09-16T13:13:12.988565',\n",
       " 'originID': ObjectId('59b843160601bad0b9df0f22')}"
      ]
     },
     "metadata": {},
     "output_type": "display_data"
    },
    {
     "data": {
      "text/plain": [
       "{'itisSearchURL': 'http://services.itis.gov/?wt=json&rows=10&q=tsn:180577',\n",
       " 'originCollection': 'gapspecies',\n",
       " 'originDate': '2017-09-16T13:13:13.181255',\n",
       " 'originID': ObjectId('59b843160601bad0b9df0f23')}"
      ]
     },
     "metadata": {},
     "output_type": "display_data"
    },
    {
     "data": {
      "text/plain": [
       "{'itisSearchURL': 'http://services.itis.gov/?wt=json&rows=10&q=tsn:775976',\n",
       " 'originCollection': 'gapspecies',\n",
       " 'originDate': '2017-09-16T13:13:13.364561',\n",
       " 'originID': ObjectId('59b843170601bad0b9df0f24')}"
      ]
     },
     "metadata": {},
     "output_type": "display_data"
    },
    {
     "data": {
      "text/plain": [
       "{'itisSearchURL': 'http://services.itis.gov/?wt=json&rows=10&q=tsn:179853',\n",
       " 'originCollection': 'gapspecies',\n",
       " 'originDate': '2017-09-16T13:13:13.548689',\n",
       " 'originID': ObjectId('59b843170601bad0b9df0f25')}"
      ]
     },
     "metadata": {},
     "output_type": "display_data"
    },
    {
     "data": {
      "text/plain": [
       "{'itisSearchURL': 'http://services.itis.gov/?wt=json&rows=10&q=tsn:668290',\n",
       " 'originCollection': 'gapspecies',\n",
       " 'originDate': '2017-09-16T13:13:13.730506',\n",
       " 'originID': ObjectId('59b843170601bad0b9df0f26')}"
      ]
     },
     "metadata": {},
     "output_type": "display_data"
    },
    {
     "data": {
      "text/plain": [
       "{'itisSearchURL': 'http://services.itis.gov/?wt=json&rows=10&q=tsn:208283',\n",
       " 'originCollection': 'gapspecies',\n",
       " 'originDate': '2017-09-16T13:13:13.912473',\n",
       " 'originID': ObjectId('59b843180601bad0b9df0f27')}"
      ]
     },
     "metadata": {},
     "output_type": "display_data"
    },
    {
     "data": {
      "text/plain": [
       "{'itisSearchURL': 'http://services.itis.gov/?wt=json&rows=10&q=tsn:178073',\n",
       " 'originCollection': 'gapspecies',\n",
       " 'originDate': '2017-09-16T13:13:14.098842',\n",
       " 'originID': ObjectId('59b843180601bad0b9df0f28')}"
      ]
     },
     "metadata": {},
     "output_type": "display_data"
    },
    {
     "data": {
      "text/plain": [
       "{'itisSearchURL': 'http://services.itis.gov/?wt=json&rows=10&q=tsn:726117',\n",
       " 'originCollection': 'gapspecies',\n",
       " 'originDate': '2017-09-16T13:13:14.286440',\n",
       " 'originID': ObjectId('59b843180601bad0b9df0f29')}"
      ]
     },
     "metadata": {},
     "output_type": "display_data"
    },
    {
     "data": {
      "text/plain": [
       "{'itisSearchURL': 'http://services.itis.gov/?wt=json&rows=10&q=tsn:174352',\n",
       " 'originCollection': 'gapspecies',\n",
       " 'originDate': '2017-09-16T13:13:14.470631',\n",
       " 'originID': ObjectId('59b843190601bad0b9df0f2a')}"
      ]
     },
     "metadata": {},
     "output_type": "display_data"
    },
    {
     "data": {
      "text/plain": [
       "{'itisSearchURL': 'http://services.itis.gov/?wt=json&rows=10&q=tsn:775942',\n",
       " 'originCollection': 'gapspecies',\n",
       " 'originDate': '2017-09-16T13:13:14.652807',\n",
       " 'originID': ObjectId('59b843190601bad0b9df0f2b')}"
      ]
     },
     "metadata": {},
     "output_type": "display_data"
    },
    {
     "data": {
      "text/plain": [
       "{'itisSearchURL': 'http://services.itis.gov/?wt=json&rows=10&q=tsn:175068',\n",
       " 'originCollection': 'gapspecies',\n",
       " 'originDate': '2017-09-16T13:13:14.843356',\n",
       " 'originID': ObjectId('59b843190601bad0b9df0f2c')}"
      ]
     },
     "metadata": {},
     "output_type": "display_data"
    },
    {
     "data": {
      "text/plain": [
       "{'itisSearchURL': 'http://services.itis.gov/?wt=json&rows=10&q=tsn:176580',\n",
       " 'originCollection': 'gapspecies',\n",
       " 'originDate': '2017-09-16T13:13:15.036299',\n",
       " 'originID': ObjectId('59b843190601bad0b9df0f2d')}"
      ]
     },
     "metadata": {},
     "output_type": "display_data"
    },
    {
     "data": {
      "text/plain": [
       "{'itisSearchURL': 'http://services.itis.gov/?wt=json&rows=10&q=tsn:179375',\n",
       " 'originCollection': 'gapspecies',\n",
       " 'originDate': '2017-09-16T13:13:15.223033',\n",
       " 'originID': ObjectId('59b8431a0601bad0b9df0f2e')}"
      ]
     },
     "metadata": {},
     "output_type": "display_data"
    },
    {
     "data": {
      "text/plain": [
       "{'itisSearchURL': 'http://services.itis.gov/?wt=json&rows=10&q=tsn:180001',\n",
       " 'originCollection': 'gapspecies',\n",
       " 'originDate': '2017-09-16T13:13:15.403534',\n",
       " 'originID': ObjectId('59b8431a0601bad0b9df0f2f')}"
      ]
     },
     "metadata": {},
     "output_type": "display_data"
    },
    {
     "data": {
      "text/plain": [
       "{'itisSearchURL': 'http://services.itis.gov/?wt=json&rows=10&q=tsn:173680',\n",
       " 'originCollection': 'gapspecies',\n",
       " 'originDate': '2017-09-16T13:13:15.594858',\n",
       " 'originID': ObjectId('59b8431a0601bad0b9df0f30')}"
      ]
     },
     "metadata": {},
     "output_type": "display_data"
    },
    {
     "data": {
      "text/plain": [
       "{'itisSearchURL': 'http://services.itis.gov/?wt=json&rows=10&q=tsn:173620',\n",
       " 'originCollection': 'gapspecies',\n",
       " 'originDate': '2017-09-16T13:13:15.774635',\n",
       " 'originID': ObjectId('59b8431b0601bad0b9df0f31')}"
      ]
     },
     "metadata": {},
     "output_type": "display_data"
    },
    {
     "data": {
      "text/plain": [
       "{'itisSearchURL': 'http://services.itis.gov/?wt=json&rows=10&q=tsn:175094',\n",
       " 'originCollection': 'gapspecies',\n",
       " 'originDate': '2017-09-16T13:13:15.957879',\n",
       " 'originID': ObjectId('59b8431b0601bad0b9df0f32')}"
      ]
     },
     "metadata": {},
     "output_type": "display_data"
    },
    {
     "data": {
      "text/plain": [
       "{'itisSearchURL': 'http://services.itis.gov/?wt=json&rows=10&q=tsn:206987',\n",
       " 'originCollection': 'gapspecies',\n",
       " 'originDate': '2017-09-16T13:13:16.140586',\n",
       " 'originID': ObjectId('59b8431b0601bad0b9df0f33')}"
      ]
     },
     "metadata": {},
     "output_type": "display_data"
    },
    {
     "data": {
      "text/plain": [
       "{'itisSearchURL': 'http://services.itis.gov/?wt=json&rows=10&q=tsn:180152',\n",
       " 'originCollection': 'gapspecies',\n",
       " 'originDate': '2017-09-16T13:13:16.324738',\n",
       " 'originID': ObjectId('59b8431b0601bad0b9df0f34')}"
      ]
     },
     "metadata": {},
     "output_type": "display_data"
    },
    {
     "data": {
      "text/plain": [
       "{'itisSearchURL': 'http://services.itis.gov/?wt=json&rows=10&q=tsn:208748',\n",
       " 'originCollection': 'gapspecies',\n",
       " 'originDate': '2017-09-16T13:13:16.538701',\n",
       " 'originID': ObjectId('59b8431b0601bad0b9df0f35')}"
      ]
     },
     "metadata": {},
     "output_type": "display_data"
    },
    {
     "data": {
      "text/plain": [
       "{'itisSearchURL': 'http://services.itis.gov/?wt=json&rows=10&q=tsn:180190',\n",
       " 'originCollection': 'gapspecies',\n",
       " 'originDate': '2017-09-16T13:13:16.722022',\n",
       " 'originID': ObjectId('59b8431c0601bad0b9df0f36')}"
      ]
     },
     "metadata": {},
     "output_type": "display_data"
    },
    {
     "data": {
      "text/plain": [
       "{'itisSearchURL': 'http://services.itis.gov/?wt=json&rows=10&q=tsn:174283',\n",
       " 'originCollection': 'gapspecies',\n",
       " 'originDate': '2017-09-16T13:13:16.901746',\n",
       " 'originID': ObjectId('59b8431c0601bad0b9df0f37')}"
      ]
     },
     "metadata": {},
     "output_type": "display_data"
    },
    {
     "data": {
      "text/plain": [
       "{'itisSearchURL': 'http://services.itis.gov/?wt=json&rows=10&q=tsn:586156',\n",
       " 'originCollection': 'gapspecies',\n",
       " 'originDate': '2017-09-16T13:13:17.084523',\n",
       " 'originID': ObjectId('59b8431c0601bad0b9df0f38')}"
      ]
     },
     "metadata": {},
     "output_type": "display_data"
    },
    {
     "data": {
      "text/plain": [
       "{'itisSearchURL': 'http://services.itis.gov/?wt=json&rows=10&q=tsn:174139',\n",
       " 'originCollection': 'gapspecies',\n",
       " 'originDate': '2017-09-16T13:13:17.779106',\n",
       " 'originID': ObjectId('59b8431c0601bad0b9df0f39')}"
      ]
     },
     "metadata": {},
     "output_type": "display_data"
    },
    {
     "data": {
      "text/plain": [
       "{'itisSearchURL': 'http://services.itis.gov/?wt=json&rows=10&q=tsn:683040',\n",
       " 'originCollection': 'gapspecies',\n",
       " 'originDate': '2017-09-16T13:13:18.097323',\n",
       " 'originID': ObjectId('59b8431d0601bad0b9df0f3a')}"
      ]
     },
     "metadata": {},
     "output_type": "display_data"
    },
    {
     "data": {
      "text/plain": [
       "{'itisSearchURL': 'http://services.itis.gov/?wt=json&rows=10&q=tsn:551771',\n",
       " 'originCollection': 'gapspecies',\n",
       " 'originDate': '2017-09-16T13:13:18.610865',\n",
       " 'originID': ObjectId('59b8431d0601bad0b9df0f3b')}"
      ]
     },
     "metadata": {},
     "output_type": "display_data"
    },
    {
     "data": {
      "text/plain": [
       "{'itisSearchURL': 'http://services.itis.gov/?wt=json&rows=10&q=tsn:178347',\n",
       " 'originCollection': 'gapspecies',\n",
       " 'originDate': '2017-09-16T13:13:19.111032',\n",
       " 'originID': ObjectId('59b8431d0601bad0b9df0f3c')}"
      ]
     },
     "metadata": {},
     "output_type": "display_data"
    },
    {
     "data": {
      "text/plain": [
       "{'itisSearchURL': 'http://services.itis.gov/?wt=json&rows=10&q=tsn:174277',\n",
       " 'originCollection': 'gapspecies',\n",
       " 'originDate': '2017-09-16T13:13:19.593027',\n",
       " 'originID': ObjectId('59b8431d0601bad0b9df0f3d')}"
      ]
     },
     "metadata": {},
     "output_type": "display_data"
    },
    {
     "data": {
      "text/plain": [
       "{'itisSearchURL': 'http://services.itis.gov/?wt=json&rows=10&q=tsn:683046',\n",
       " 'originCollection': 'gapspecies',\n",
       " 'originDate': '2017-09-16T13:13:20.228205',\n",
       " 'originID': ObjectId('59b8431e0601bad0b9df0f3e')}"
      ]
     },
     "metadata": {},
     "output_type": "display_data"
    },
    {
     "data": {
      "text/plain": [
       "{'itisSearchURL': 'http://services.itis.gov/?wt=json&rows=10&q=tsn:552494',\n",
       " 'originCollection': 'gapspecies',\n",
       " 'originDate': '2017-09-16T13:13:20.696614',\n",
       " 'originID': ObjectId('59b8431e0601bad0b9df0f3f')}"
      ]
     },
     "metadata": {},
     "output_type": "display_data"
    },
    {
     "data": {
      "text/plain": [
       "{'itisSearchURL': 'http://services.itis.gov/?wt=json&rows=10&q=tsn:174235',\n",
       " 'originCollection': 'gapspecies',\n",
       " 'originDate': '2017-09-16T13:13:21.260164',\n",
       " 'originID': ObjectId('59b8431e0601bad0b9df0f40')}"
      ]
     },
     "metadata": {},
     "output_type": "display_data"
    },
    {
     "data": {
      "text/plain": [
       "{'itisSearchURL': 'http://services.itis.gov/?wt=json&rows=10&q=tsn:564568',\n",
       " 'originCollection': 'gapspecies',\n",
       " 'originDate': '2017-09-16T13:13:21.444875',\n",
       " 'originID': ObjectId('59b8431e0601bad0b9df0f41')}"
      ]
     },
     "metadata": {},
     "output_type": "display_data"
    },
    {
     "data": {
      "text/plain": [
       "{'itisSearchURL': 'http://services.itis.gov/?wt=json&rows=10&q=tsn:174089',\n",
       " 'originCollection': 'gapspecies',\n",
       " 'originDate': '2017-09-16T13:13:21.630086',\n",
       " 'originID': ObjectId('59b8431f0601bad0b9df0f42')}"
      ]
     },
     "metadata": {},
     "output_type": "display_data"
    },
    {
     "data": {
      "text/plain": [
       "{'itisSearchURL': 'http://services.itis.gov/?wt=json&rows=10&q=tsn:180390',\n",
       " 'originCollection': 'gapspecies',\n",
       " 'originDate': '2017-09-16T13:13:21.811792',\n",
       " 'originID': ObjectId('59b8431f0601bad0b9df0f43')}"
      ]
     },
     "metadata": {},
     "output_type": "display_data"
    },
    {
     "data": {
      "text/plain": [
       "{'itisSearchURL': 'http://services.itis.gov/?wt=json&rows=10&q=tsn:179870',\n",
       " 'originCollection': 'gapspecies',\n",
       " 'originDate': '2017-09-16T13:13:21.999709',\n",
       " 'originID': ObjectId('59b8431f0601bad0b9df0f44')}"
      ]
     },
     "metadata": {},
     "output_type": "display_data"
    },
    {
     "data": {
      "text/plain": [
       "{'itisSearchURL': 'http://services.itis.gov/?wt=json&rows=10&q=tsn:552510',\n",
       " 'originCollection': 'gapspecies',\n",
       " 'originDate': '2017-09-16T13:13:22.192189',\n",
       " 'originID': ObjectId('59b8431f0601bad0b9df0f45')}"
      ]
     },
     "metadata": {},
     "output_type": "display_data"
    },
    {
     "data": {
      "text/plain": [
       "{'itisSearchURL': 'http://services.itis.gov/?wt=json&rows=10&q=tsn:175350',\n",
       " 'originCollection': 'gapspecies',\n",
       " 'originDate': '2017-09-16T13:13:22.375589',\n",
       " 'originID': ObjectId('59b843200601bad0b9df0f46')}"
      ]
     },
     "metadata": {},
     "output_type": "display_data"
    },
    {
     "data": {
      "text/plain": [
       "{'itisSearchURL': 'http://services.itis.gov/?wt=json&rows=10&q=tsn:179973',\n",
       " 'originCollection': 'gapspecies',\n",
       " 'originDate': '2017-09-16T13:13:22.559176',\n",
       " 'originID': ObjectId('59b843200601bad0b9df0f47')}"
      ]
     },
     "metadata": {},
     "output_type": "display_data"
    },
    {
     "data": {
      "text/plain": [
       "{'itisSearchURL': 'http://services.itis.gov/?wt=json&rows=10&q=tsn:179530',\n",
       " 'originCollection': 'gapspecies',\n",
       " 'originDate': '2017-09-16T13:13:22.757324',\n",
       " 'originID': ObjectId('59b843200601bad0b9df0f48')}"
      ]
     },
     "metadata": {},
     "output_type": "display_data"
    },
    {
     "data": {
      "text/plain": [
       "{'itisSearchURL': 'http://services.itis.gov/?wt=json&rows=10&q=tsn:173587',\n",
       " 'originCollection': 'gapspecies',\n",
       " 'originDate': '2017-09-16T13:13:22.938228',\n",
       " 'originID': ObjectId('59b843210601bad0b9df0f49')}"
      ]
     },
     "metadata": {},
     "output_type": "display_data"
    },
    {
     "data": {
      "text/plain": [
       "{'itisSearchURL': 'http://services.itis.gov/?wt=json&rows=10&q=tsn:173449',\n",
       " 'originCollection': 'gapspecies',\n",
       " 'originDate': '2017-09-16T13:13:23.128947',\n",
       " 'originID': ObjectId('59b843210601bad0b9df0f4a')}"
      ]
     },
     "metadata": {},
     "output_type": "display_data"
    },
    {
     "data": {
      "text/plain": [
       "{'itisSearchURL': 'http://services.itis.gov/?wt=json&rows=10&q=tsn:726195',\n",
       " 'originCollection': 'gapspecies',\n",
       " 'originDate': '2017-09-16T13:13:23.310165',\n",
       " 'originID': ObjectId('59b843220601bad0b9df0f4b')}"
      ]
     },
     "metadata": {},
     "output_type": "display_data"
    },
    {
     "data": {
      "text/plain": [
       "{'itisSearchURL': 'http://services.itis.gov/?wt=json&rows=10&q=tsn:179882',\n",
       " 'originCollection': 'gapspecies',\n",
       " 'originDate': '2017-09-16T13:13:23.492761',\n",
       " 'originID': ObjectId('59b843220601bad0b9df0f4c')}"
      ]
     },
     "metadata": {},
     "output_type": "display_data"
    },
    {
     "data": {
      "text/plain": [
       "{'itisSearchURL': 'http://services.itis.gov/?wt=json&rows=10&q=tsn:554138',\n",
       " 'originCollection': 'gapspecies',\n",
       " 'originDate': '2017-09-16T13:13:23.677102',\n",
       " 'originID': ObjectId('59b843220601bad0b9df0f4d')}"
      ]
     },
     "metadata": {},
     "output_type": "display_data"
    },
    {
     "data": {
      "text/plain": [
       "{'itisSearchURL': 'http://services.itis.gov/?wt=json&rows=10&q=tsn:178775',\n",
       " 'originCollection': 'gapspecies',\n",
       " 'originDate': '2017-09-16T13:13:23.866541',\n",
       " 'originID': ObjectId('59b843230601bad0b9df0f4e')}"
      ]
     },
     "metadata": {},
     "output_type": "display_data"
    },
    {
     "data": {
      "text/plain": [
       "{'itisSearchURL': 'http://services.itis.gov/?wt=json&rows=10&q=tsn:179948',\n",
       " 'originCollection': 'gapspecies',\n",
       " 'originDate': '2017-09-16T13:13:24.061698',\n",
       " 'originID': ObjectId('59b843230601bad0b9df0f4f')}"
      ]
     },
     "metadata": {},
     "output_type": "display_data"
    },
    {
     "data": {
      "text/plain": [
       "{'itisSearchURL': 'http://services.itis.gov/?wt=json&rows=10&q=tsn:179989',\n",
       " 'originCollection': 'gapspecies',\n",
       " 'originDate': '2017-09-16T13:13:24.247969',\n",
       " 'originID': ObjectId('59b843230601bad0b9df0f50')}"
      ]
     },
     "metadata": {},
     "output_type": "display_data"
    },
    {
     "data": {
      "text/plain": [
       "{'itisSearchURL': 'http://services.itis.gov/?wt=json&rows=10&q=tsn:180283',\n",
       " 'originCollection': 'gapspecies',\n",
       " 'originDate': '2017-09-16T13:13:24.436650',\n",
       " 'originID': ObjectId('59b843240601bad0b9df0f51')}"
      ]
     },
     "metadata": {},
     "output_type": "display_data"
    },
    {
     "data": {
      "text/plain": [
       "{'itisSearchURL': 'http://services.itis.gov/?wt=json&rows=10&q=tsn:176985',\n",
       " 'originCollection': 'gapspecies',\n",
       " 'originDate': '2017-09-16T13:13:24.624450',\n",
       " 'originID': ObjectId('59b843240601bad0b9df0f52')}"
      ]
     },
     "metadata": {},
     "output_type": "display_data"
    },
    {
     "data": {
      "text/plain": [
       "{'itisSearchURL': 'http://services.itis.gov/?wt=json&rows=10&q=tsn:180606',\n",
       " 'originCollection': 'gapspecies',\n",
       " 'originDate': '2017-09-16T13:13:24.811796',\n",
       " 'originID': ObjectId('59b843240601bad0b9df0f53')}"
      ]
     },
     "metadata": {},
     "output_type": "display_data"
    },
    {
     "data": {
      "text/plain": [
       "{'itisSearchURL': 'http://services.itis.gov/?wt=json&rows=10&q=nameWOInd:Tamias\\\\%20minimus\\\\%20arizonensis',\n",
       " 'originCollection': 'gapspecies',\n",
       " 'originDate': '2017-09-16T13:13:24.992178',\n",
       " 'originID': ObjectId('59b843250601bad0b9df0f54')}"
      ]
     },
     "metadata": {},
     "output_type": "display_data"
    },
    {
     "data": {
      "text/plain": [
       "{'itisSearchURL': 'http://services.itis.gov/?wt=json&rows=10&q=tsn:726906',\n",
       " 'originCollection': 'gapspecies',\n",
       " 'originDate': '2017-09-16T13:13:25.175448',\n",
       " 'originID': ObjectId('59b843250601bad0b9df0f55')}"
      ]
     },
     "metadata": {},
     "output_type": "display_data"
    },
    {
     "data": {
      "text/plain": [
       "{'itisSearchURL': 'http://services.itis.gov/?wt=json&rows=10&q=tsn:175122',\n",
       " 'originCollection': 'gapspecies',\n",
       " 'originDate': '2017-09-16T13:13:25.357278',\n",
       " 'originID': ObjectId('59b843260601bad0b9df0f56')}"
      ]
     },
     "metadata": {},
     "output_type": "display_data"
    },
    {
     "data": {
      "text/plain": [
       "{'itisSearchURL': 'http://services.itis.gov/?wt=json&rows=10&q=nameWOInd:Oryzomys\\\\%20palustris\\\\%20natator',\n",
       " 'originCollection': 'gapspecies',\n",
       " 'originDate': '2017-09-16T13:13:25.540772',\n",
       " 'originID': ObjectId('59b843260601bad0b9df0f57')}"
      ]
     },
     "metadata": {},
     "output_type": "display_data"
    },
    {
     "data": {
      "text/plain": [
       "{'itisSearchURL': 'http://services.itis.gov/?wt=json&rows=10&q=tsn:177925',\n",
       " 'originCollection': 'gapspecies',\n",
       " 'originDate': '2017-09-16T13:13:25.724804',\n",
       " 'originID': ObjectId('59b843270601bad0b9df0f58')}"
      ]
     },
     "metadata": {},
     "output_type": "display_data"
    },
    {
     "data": {
      "text/plain": [
       "{'itisSearchURL': 'http://services.itis.gov/?wt=json&rows=10&q=tsn:178848',\n",
       " 'originCollection': 'gapspecies',\n",
       " 'originDate': '2017-09-16T13:13:25.907585',\n",
       " 'originID': ObjectId('59b843270601bad0b9df0f59')}"
      ]
     },
     "metadata": {},
     "output_type": "display_data"
    },
    {
     "data": {
      "text/plain": [
       "{'itisSearchURL': 'http://services.itis.gov/?wt=json&rows=10&q=tsn:174992',\n",
       " 'originCollection': 'gapspecies',\n",
       " 'originDate': '2017-09-16T13:13:26.092131',\n",
       " 'originID': ObjectId('59b843280601bad0b9df0f5a')}"
      ]
     },
     "metadata": {},
     "output_type": "display_data"
    },
    {
     "data": {
      "text/plain": [
       "{'itisSearchURL': 'http://services.itis.gov/?wt=json&rows=10&q=tsn:207312',\n",
       " 'originCollection': 'gapspecies',\n",
       " 'originDate': '2017-09-16T13:13:26.280689',\n",
       " 'originID': ObjectId('59b843280601bad0b9df0f5b')}"
      ]
     },
     "metadata": {},
     "output_type": "display_data"
    },
    {
     "data": {
      "text/plain": [
       "{'itisSearchURL': 'http://services.itis.gov/?wt=json&rows=10&q=tsn:175183',\n",
       " 'originCollection': 'gapspecies',\n",
       " 'originDate': '2017-09-16T13:13:26.471438',\n",
       " 'originID': ObjectId('59b843290601bad0b9df0f5c')}"
      ]
     },
     "metadata": {},
     "output_type": "display_data"
    },
    {
     "data": {
      "text/plain": [
       "{'itisSearchURL': 'http://services.itis.gov/?wt=json&rows=10&q=tsn:178541',\n",
       " 'originCollection': 'gapspecies',\n",
       " 'originDate': '2017-09-16T13:13:26.655490',\n",
       " 'originID': ObjectId('59b843290601bad0b9df0f5d')}"
      ]
     },
     "metadata": {},
     "output_type": "display_data"
    },
    {
     "data": {
      "text/plain": [
       "{'itisSearchURL': 'http://services.itis.gov/?wt=json&rows=10&q=tsn:179939',\n",
       " 'originCollection': 'gapspecies',\n",
       " 'originDate': '2017-09-16T13:13:26.837732',\n",
       " 'originID': ObjectId('59b8432a0601bad0b9df0f5e')}"
      ]
     },
     "metadata": {},
     "output_type": "display_data"
    },
    {
     "data": {
      "text/plain": [
       "{'itisSearchURL': 'http://services.itis.gov/?wt=json&rows=10&q=tsn:178333',\n",
       " 'originCollection': 'gapspecies',\n",
       " 'originDate': '2017-09-16T13:13:27.290268',\n",
       " 'originID': ObjectId('59b8432a0601bad0b9df0f5f')}"
      ]
     },
     "metadata": {},
     "output_type": "display_data"
    },
    {
     "data": {
      "text/plain": [
       "{'itisSearchURL': 'http://services.itis.gov/?wt=json&rows=10&q=tsn:179532',\n",
       " 'originCollection': 'gapspecies',\n",
       " 'originDate': '2017-09-16T13:13:27.610563',\n",
       " 'originID': ObjectId('59b8432b0601bad0b9df0f60')}"
      ]
     },
     "metadata": {},
     "output_type": "display_data"
    },
    {
     "data": {
      "text/plain": [
       "{'itisSearchURL': 'http://services.itis.gov/?wt=json&rows=10&q=tsn:686683',\n",
       " 'originCollection': 'gapspecies',\n",
       " 'originDate': '2017-09-16T13:13:28.022527',\n",
       " 'originID': ObjectId('59b8432b0601bad0b9df0f61')}"
      ]
     },
     "metadata": {},
     "output_type": "display_data"
    },
    {
     "data": {
      "text/plain": [
       "{'itisSearchURL': 'http://services.itis.gov/?wt=json&rows=10&q=tsn:176647',\n",
       " 'originCollection': 'gapspecies',\n",
       " 'originDate': '2017-09-16T13:13:28.495979',\n",
       " 'originID': ObjectId('59b8432b0601bad0b9df0f62')}"
      ]
     },
     "metadata": {},
     "output_type": "display_data"
    },
    {
     "data": {
      "text/plain": [
       "{'itisSearchURL': 'http://services.itis.gov/?wt=json&rows=10&q=tsn:174482',\n",
       " 'originCollection': 'gapspecies',\n",
       " 'originDate': '2017-09-16T13:13:29.013643',\n",
       " 'originID': ObjectId('59b8432c0601bad0b9df0f63')}"
      ]
     },
     "metadata": {},
     "output_type": "display_data"
    },
    {
     "data": {
      "text/plain": [
       "{'itisSearchURL': 'http://services.itis.gov/?wt=json&rows=10&q=tsn:175905',\n",
       " 'originCollection': 'gapspecies',\n",
       " 'originDate': '2017-09-16T13:13:29.645202',\n",
       " 'originID': ObjectId('59b8432c0601bad0b9df0f64')}"
      ]
     },
     "metadata": {},
     "output_type": "display_data"
    },
    {
     "data": {
      "text/plain": [
       "{'itisSearchURL': 'http://services.itis.gov/?wt=json&rows=10&q=tsn:173604',\n",
       " 'originCollection': 'gapspecies',\n",
       " 'originDate': '2017-09-16T13:13:30.157368',\n",
       " 'originID': ObjectId('59b8432d0601bad0b9df0f65')}"
      ]
     },
     "metadata": {},
     "output_type": "display_data"
    },
    {
     "data": {
      "text/plain": [
       "{'itisSearchURL': 'http://services.itis.gov/?wt=json&rows=10&q=tsn:179314',\n",
       " 'originCollection': 'gapspecies',\n",
       " 'originDate': '2017-09-16T13:13:30.690681',\n",
       " 'originID': ObjectId('59b8432d0601bad0b9df0f66')}"
      ]
     },
     "metadata": {},
     "output_type": "display_data"
    },
    {
     "data": {
      "text/plain": [
       "{'itisSearchURL': 'http://services.itis.gov/?wt=json&rows=10&q=tsn:173649',\n",
       " 'originCollection': 'gapspecies',\n",
       " 'originDate': '2017-09-16T13:13:30.875513',\n",
       " 'originID': ObjectId('59b8432d0601bad0b9df0f67')}"
      ]
     },
     "metadata": {},
     "output_type": "display_data"
    },
    {
     "data": {
      "text/plain": [
       "{'itisSearchURL': 'http://services.itis.gov/?wt=json&rows=10&q=tsn:970631',\n",
       " 'originCollection': 'gapspecies',\n",
       " 'originDate': '2017-09-16T13:13:31.057596',\n",
       " 'originID': ObjectId('59b8432e0601bad0b9df0f68')}"
      ]
     },
     "metadata": {},
     "output_type": "display_data"
    },
    {
     "data": {
      "text/plain": [
       "{'itisSearchURL': 'http://services.itis.gov/?wt=json&rows=10&q=tsn:175185',\n",
       " 'originCollection': 'gapspecies',\n",
       " 'originDate': '2017-09-16T13:13:31.239085',\n",
       " 'originID': ObjectId('59b8432e0601bad0b9df0f69')}"
      ]
     },
     "metadata": {},
     "output_type": "display_data"
    },
    {
     "data": {
      "text/plain": [
       "{'itisSearchURL': 'http://services.itis.gov/?wt=json&rows=10&q=tsn:175876',\n",
       " 'originCollection': 'gapspecies',\n",
       " 'originDate': '2017-09-16T13:13:31.427177',\n",
       " 'originID': ObjectId('59b8432e0601bad0b9df0f6a')}"
      ]
     },
     "metadata": {},
     "output_type": "display_data"
    },
    {
     "data": {
      "text/plain": [
       "{'itisSearchURL': 'http://services.itis.gov/?wt=json&rows=10&q=tsn:775078',\n",
       " 'originCollection': 'gapspecies',\n",
       " 'originDate': '2017-09-16T13:13:31.612576',\n",
       " 'originID': ObjectId('59b8432f0601bad0b9df0f6b')}"
      ]
     },
     "metadata": {},
     "output_type": "display_data"
    },
    {
     "data": {
      "text/plain": [
       "{'itisSearchURL': 'http://services.itis.gov/?wt=json&rows=10&q=tsn:710073',\n",
       " 'originCollection': 'gapspecies',\n",
       " 'originDate': '2017-09-16T13:13:31.807788',\n",
       " 'originID': ObjectId('59b8432f0601bad0b9df0f6c')}"
      ]
     },
     "metadata": {},
     "output_type": "display_data"
    },
    {
     "data": {
      "text/plain": [
       "{'itisSearchURL': 'http://services.itis.gov/?wt=json&rows=10&q=tsn:180212',\n",
       " 'originCollection': 'gapspecies',\n",
       " 'originDate': '2017-09-16T13:13:31.999714',\n",
       " 'originID': ObjectId('59b843300601bad0b9df0f6d')}"
      ]
     },
     "metadata": {},
     "output_type": "display_data"
    },
    {
     "data": {
      "text/plain": [
       "{'itisSearchURL': 'http://services.itis.gov/?wt=json&rows=10&q=tsn:552486',\n",
       " 'originCollection': 'gapspecies',\n",
       " 'originDate': '2017-09-16T13:13:32.183763',\n",
       " 'originID': ObjectId('59b843300601bad0b9df0f6e')}"
      ]
     },
     "metadata": {},
     "output_type": "display_data"
    },
    {
     "data": {
      "text/plain": [
       "{'itisSearchURL': 'http://services.itis.gov/?wt=json&rows=10&q=tsn:174127',\n",
       " 'originCollection': 'gapspecies',\n",
       " 'originDate': '2017-09-16T13:13:32.382312',\n",
       " 'originID': ObjectId('59b843300601bad0b9df0f6f')}"
      ]
     },
     "metadata": {},
     "output_type": "display_data"
    },
    {
     "data": {
      "text/plain": [
       "{'itisSearchURL': 'http://services.itis.gov/?wt=json&rows=10&q=tsn:175163',\n",
       " 'originCollection': 'gapspecies',\n",
       " 'originDate': '2017-09-16T13:13:32.569271',\n",
       " 'originID': ObjectId('59b843300601bad0b9df0f70')}"
      ]
     },
     "metadata": {},
     "output_type": "display_data"
    },
    {
     "data": {
      "text/plain": [
       "{'itisSearchURL': 'http://services.itis.gov/?wt=json&rows=10&q=nameWOInd:Cervus\\\\%20elaphus\\\\%20nannodes\\\\%20roosevelti',\n",
       " 'originCollection': 'gapspecies',\n",
       " 'originDate': '2017-09-16T13:13:32.751765',\n",
       " 'originID': ObjectId('59b843310601bad0b9df0f71')}"
      ]
     },
     "metadata": {},
     "output_type": "display_data"
    },
    {
     "data": {
      "text/plain": [
       "{'itisSearchURL': 'http://services.itis.gov/?wt=json&rows=10&q=tsn:180160',\n",
       " 'originCollection': 'gapspecies',\n",
       " 'originDate': '2017-09-16T13:13:33.009123',\n",
       " 'originID': ObjectId('59b843310601bad0b9df0f72')}"
      ]
     },
     "metadata": {},
     "output_type": "display_data"
    },
    {
     "data": {
      "text/plain": [
       "{'itisSearchURL': 'http://services.itis.gov/?wt=json&rows=10&q=tsn:180544',\n",
       " 'originCollection': 'gapspecies',\n",
       " 'originDate': '2017-09-16T13:13:33.192086',\n",
       " 'originID': ObjectId('59b843320601bad0b9df0f73')}"
      ]
     },
     "metadata": {},
     "output_type": "display_data"
    },
    {
     "data": {
      "text/plain": [
       "{'itisSearchURL': 'http://services.itis.gov/?wt=json&rows=10&q=tsn:180565',\n",
       " 'originCollection': 'gapspecies',\n",
       " 'originDate': '2017-09-16T13:13:33.370936',\n",
       " 'originID': ObjectId('59b843320601bad0b9df0f74')}"
      ]
     },
     "metadata": {},
     "output_type": "display_data"
    },
    {
     "data": {
      "text/plain": [
       "{'itisSearchURL': 'http://services.itis.gov/?wt=json&rows=10&q=tsn:174193',\n",
       " 'originCollection': 'gapspecies',\n",
       " 'originDate': '2017-09-16T13:13:33.554277',\n",
       " 'originID': ObjectId('59b843320601bad0b9df0f75')}"
      ]
     },
     "metadata": {},
     "output_type": "display_data"
    },
    {
     "data": {
      "text/plain": [
       "{'itisSearchURL': 'http://services.itis.gov/?wt=json&rows=10&q=tsn:173792',\n",
       " 'originCollection': 'gapspecies',\n",
       " 'originDate': '2017-09-16T13:13:33.740245',\n",
       " 'originID': ObjectId('59b843330601bad0b9df0f76')}"
      ]
     },
     "metadata": {},
     "output_type": "display_data"
    },
    {
     "data": {
      "text/plain": [
       "{'itisSearchURL': 'http://services.itis.gov/?wt=json&rows=10&q=tsn:174161',\n",
       " 'originCollection': 'gapspecies',\n",
       " 'originDate': '2017-09-16T13:13:33.924916',\n",
       " 'originID': ObjectId('59b843330601bad0b9df0f77')}"
      ]
     },
     "metadata": {},
     "output_type": "display_data"
    },
    {
     "data": {
      "text/plain": [
       "{'itisSearchURL': 'http://services.itis.gov/?wt=json&rows=10&q=tsn:208791',\n",
       " 'originCollection': 'gapspecies',\n",
       " 'originDate': '2017-09-16T13:13:34.105926',\n",
       " 'originID': ObjectId('59b843330601bad0b9df0f78')}"
      ]
     },
     "metadata": {},
     "output_type": "display_data"
    },
    {
     "data": {
      "text/plain": [
       "{'itisSearchURL': 'http://services.itis.gov/?wt=json&rows=10&q=tsn:208882',\n",
       " 'originCollection': 'gapspecies',\n",
       " 'originDate': '2017-09-16T13:13:34.289706',\n",
       " 'originID': ObjectId('59b843340601bad0b9df0f79')}"
      ]
     },
     "metadata": {},
     "output_type": "display_data"
    },
    {
     "data": {
      "text/plain": [
       "{'itisSearchURL': 'http://services.itis.gov/?wt=json&rows=10&q=tsn:683056',\n",
       " 'originCollection': 'gapspecies',\n",
       " 'originDate': '2017-09-16T13:13:34.472581',\n",
       " 'originID': ObjectId('59b843340601bad0b9df0f7a')}"
      ]
     },
     "metadata": {},
     "output_type": "display_data"
    },
    {
     "data": {
      "text/plain": [
       "{'itisSearchURL': 'http://services.itis.gov/?wt=json&rows=10&q=tsn:180262',\n",
       " 'originCollection': 'gapspecies',\n",
       " 'originDate': '2017-09-16T13:13:34.655583',\n",
       " 'originID': ObjectId('59b843340601bad0b9df0f7b')}"
      ]
     },
     "metadata": {},
     "output_type": "display_data"
    },
    {
     "data": {
      "text/plain": [
       "{'itisSearchURL': 'http://services.itis.gov/?wt=json&rows=10&q=tsn:174123',\n",
       " 'originCollection': 'gapspecies',\n",
       " 'originDate': '2017-09-16T13:13:34.839690',\n",
       " 'originID': ObjectId('59b843350601bad0b9df0f7c')}"
      ]
     },
     "metadata": {},
     "output_type": "display_data"
    },
    {
     "data": {
      "text/plain": [
       "{'itisSearchURL': 'http://services.itis.gov/?wt=json&rows=10&q=tsn:180133',\n",
       " 'originCollection': 'gapspecies',\n",
       " 'originDate': '2017-09-16T13:13:35.024833',\n",
       " 'originID': ObjectId('59b843350601bad0b9df0f7d')}"
      ]
     },
     "metadata": {},
     "output_type": "display_data"
    },
    {
     "data": {
      "text/plain": [
       "{'itisSearchURL': 'http://services.itis.gov/?wt=json&rows=10&q=tsn:180018',\n",
       " 'originCollection': 'gapspecies',\n",
       " 'originDate': '2017-09-16T13:13:35.205655',\n",
       " 'originID': ObjectId('59b843350601bad0b9df0f7e')}"
      ]
     },
     "metadata": {},
     "output_type": "display_data"
    },
    {
     "data": {
      "text/plain": [
       "{'itisSearchURL': 'http://services.itis.gov/?wt=json&rows=10&q=tsn:177806',\n",
       " 'originCollection': 'gapspecies',\n",
       " 'originDate': '2017-09-16T13:13:35.397138',\n",
       " 'originID': ObjectId('59b843360601bad0b9df0f7f')}"
      ]
     },
     "metadata": {},
     "output_type": "display_data"
    },
    {
     "data": {
      "text/plain": [
       "{'itisSearchURL': 'http://services.itis.gov/?wt=json&rows=10&q=tsn:176642',\n",
       " 'originCollection': 'gapspecies',\n",
       " 'originDate': '2017-09-16T13:13:35.587749',\n",
       " 'originID': ObjectId('59b843360601bad0b9df0f80')}"
      ]
     },
     "metadata": {},
     "output_type": "display_data"
    },
    {
     "data": {
      "text/plain": [
       "{'itisSearchURL': 'http://services.itis.gov/?wt=json&rows=10&q=tsn:208282',\n",
       " 'originCollection': 'gapspecies',\n",
       " 'originDate': '2017-09-16T13:13:35.775009',\n",
       " 'originID': ObjectId('59b843370601bad0b9df0f81')}"
      ]
     },
     "metadata": {},
     "output_type": "display_data"
    },
    {
     "data": {
      "text/plain": [
       "{'itisSearchURL': 'http://services.itis.gov/?wt=json&rows=10&q=tsn:173621',\n",
       " 'originCollection': 'gapspecies',\n",
       " 'originDate': '2017-09-16T13:13:35.965382',\n",
       " 'originID': ObjectId('59b843370601bad0b9df0f82')}"
      ]
     },
     "metadata": {},
     "output_type": "display_data"
    },
    {
     "data": {
      "text/plain": [
       "{'itisSearchURL': 'http://services.itis.gov/?wt=json&rows=10&q=tsn:178970',\n",
       " 'originCollection': 'gapspecies',\n",
       " 'originDate': '2017-09-16T13:13:36.152681',\n",
       " 'originID': ObjectId('59b843380601bad0b9df0f83')}"
      ]
     },
     "metadata": {},
     "output_type": "display_data"
    },
    {
     "data": {
      "text/plain": [
       "{'itisSearchURL': 'http://services.itis.gov/?wt=json&rows=10&q=tsn:775117',\n",
       " 'originCollection': 'gapspecies',\n",
       " 'originDate': '2017-09-16T13:13:36.345714',\n",
       " 'originID': ObjectId('59b843380601bad0b9df0f84')}"
      ]
     },
     "metadata": {},
     "output_type": "display_data"
    },
    {
     "data": {
      "text/plain": [
       "{'itisSearchURL': 'http://services.itis.gov/?wt=json&rows=10&q=tsn:175160',\n",
       " 'originCollection': 'gapspecies',\n",
       " 'originDate': '2017-09-16T13:13:36.527709',\n",
       " 'originID': ObjectId('59b843380601bad0b9df0f85')}"
      ]
     },
     "metadata": {},
     "output_type": "display_data"
    },
    {
     "data": {
      "text/plain": [
       "{'itisSearchURL': 'http://services.itis.gov/?wt=json&rows=10&q=tsn:175790',\n",
       " 'originCollection': 'gapspecies',\n",
       " 'originDate': '2017-09-16T13:13:37.047858',\n",
       " 'originID': ObjectId('59b843390601bad0b9df0f86')}"
      ]
     },
     "metadata": {},
     "output_type": "display_data"
    },
    {
     "data": {
      "text/plain": [
       "{'itisSearchURL': 'http://services.itis.gov/?wt=json&rows=10&q=tsn:625051',\n",
       " 'originCollection': 'gapspecies',\n",
       " 'originDate': '2017-09-16T13:13:37.444239',\n",
       " 'originID': ObjectId('59b843390601bad0b9df0f87')}"
      ]
     },
     "metadata": {},
     "output_type": "display_data"
    },
    {
     "data": {
      "text/plain": [
       "{'itisSearchURL': 'http://services.itis.gov/?wt=json&rows=10&q=tsn:174192',\n",
       " 'originCollection': 'gapspecies',\n",
       " 'originDate': '2017-09-16T13:13:37.952497',\n",
       " 'originID': ObjectId('59b8433a0601bad0b9df0f88')}"
      ]
     },
     "metadata": {},
     "output_type": "display_data"
    },
    {
     "data": {
      "text/plain": [
       "{'itisSearchURL': 'http://services.itis.gov/?wt=json&rows=10&q=tsn:208623',\n",
       " 'originCollection': 'gapspecies',\n",
       " 'originDate': '2017-09-16T13:13:38.600626',\n",
       " 'originID': ObjectId('59b8433a0601bad0b9df0f89')}"
      ]
     },
     "metadata": {},
     "output_type": "display_data"
    },
    {
     "data": {
      "text/plain": [
       "{'itisSearchURL': 'http://services.itis.gov/?wt=json&rows=10&q=tsn:180223',\n",
       " 'originCollection': 'gapspecies',\n",
       " 'originDate': '2017-09-16T13:13:39.104572',\n",
       " 'originID': ObjectId('59b8433a0601bad0b9df0f8a')}"
      ]
     },
     "metadata": {},
     "output_type": "display_data"
    },
    {
     "data": {
      "text/plain": [
       "{'itisSearchURL': 'http://services.itis.gov/?wt=json&rows=10&q=tsn:552491',\n",
       " 'originCollection': 'gapspecies',\n",
       " 'originDate': '2017-09-16T13:13:39.569023',\n",
       " 'originID': ObjectId('59b8433b0601bad0b9df0f8b')}"
      ]
     },
     "metadata": {},
     "output_type": "display_data"
    },
    {
     "data": {
      "text/plain": [
       "{'itisSearchURL': 'http://services.itis.gov/?wt=json&rows=10&q=tsn:180243',\n",
       " 'originCollection': 'gapspecies',\n",
       " 'originDate': '2017-09-16T13:13:40.410555',\n",
       " 'originID': ObjectId('59b8433b0601bad0b9df0f8c')}"
      ]
     },
     "metadata": {},
     "output_type": "display_data"
    },
    {
     "data": {
      "text/plain": [
       "{'itisSearchURL': 'http://services.itis.gov/?wt=json&rows=10&q=tsn:180265',\n",
       " 'originCollection': 'gapspecies',\n",
       " 'originDate': '2017-09-16T13:13:40.593917',\n",
       " 'originID': ObjectId('59b8433b0601bad0b9df0f8d')}"
      ]
     },
     "metadata": {},
     "output_type": "display_data"
    },
    {
     "data": {
      "text/plain": [
       "{'itisSearchURL': 'http://services.itis.gov/?wt=json&rows=10&q=tsn:180342',\n",
       " 'originCollection': 'gapspecies',\n",
       " 'originDate': '2017-09-16T13:13:40.779869',\n",
       " 'originID': ObjectId('59b8433c0601bad0b9df0f8e')}"
      ]
     },
     "metadata": {},
     "output_type": "display_data"
    },
    {
     "data": {
      "text/plain": [
       "{'itisSearchURL': 'http://services.itis.gov/?wt=json&rows=10&q=tsn:898525',\n",
       " 'originCollection': 'gapspecies',\n",
       " 'originDate': '2017-09-16T13:13:40.967589',\n",
       " 'originID': ObjectId('59b8433c0601bad0b9df0f8f')}"
      ]
     },
     "metadata": {},
     "output_type": "display_data"
    },
    {
     "data": {
      "text/plain": [
       "{'itisSearchURL': 'http://services.itis.gov/?wt=json&rows=10&q=tsn:173942',\n",
       " 'originCollection': 'gapspecies',\n",
       " 'originDate': '2017-09-16T13:13:41.158733',\n",
       " 'originID': ObjectId('59b8433c0601bad0b9df0f90')}"
      ]
     },
     "metadata": {},
     "output_type": "display_data"
    },
    {
     "data": {
      "text/plain": [
       "{'itisSearchURL': 'http://services.itis.gov/?wt=json&rows=10&q=tsn:174126',\n",
       " 'originCollection': 'gapspecies',\n",
       " 'originDate': '2017-09-16T13:13:41.353460',\n",
       " 'originID': ObjectId('59b8433c0601bad0b9df0f91')}"
      ]
     },
     "metadata": {},
     "output_type": "display_data"
    },
    {
     "data": {
      "text/plain": [
       "{'itisSearchURL': 'http://services.itis.gov/?wt=json&rows=10&q=tsn:180625',\n",
       " 'originCollection': 'gapspecies',\n",
       " 'originDate': '2017-09-16T13:13:41.535856',\n",
       " 'originID': ObjectId('59b8433d0601bad0b9df0f92')}"
      ]
     },
     "metadata": {},
     "output_type": "display_data"
    },
    {
     "data": {
      "text/plain": [
       "{'itisSearchURL': 'http://services.itis.gov/?wt=json&rows=10&q=tsn:209215',\n",
       " 'originCollection': 'gapspecies',\n",
       " 'originDate': '2017-09-16T13:13:41.720071',\n",
       " 'originID': ObjectId('59b8433d0601bad0b9df0f93')}"
      ]
     },
     "metadata": {},
     "output_type": "display_data"
    },
    {
     "data": {
      "text/plain": [
       "{'itisSearchURL': 'http://services.itis.gov/?wt=json&rows=10&q=tsn:174025',\n",
       " 'originCollection': 'gapspecies',\n",
       " 'originDate': '2017-09-16T13:13:41.904596',\n",
       " 'originID': ObjectId('59b8433d0601bad0b9df0f94')}"
      ]
     },
     "metadata": {},
     "output_type": "display_data"
    },
    {
     "data": {
      "text/plain": [
       "{'itisSearchURL': 'http://services.itis.gov/?wt=json&rows=10&q=tsn:208649',\n",
       " 'originCollection': 'gapspecies',\n",
       " 'originDate': '2017-09-16T13:13:42.108896',\n",
       " 'originID': ObjectId('59b8433e0601bad0b9df0f95')}"
      ]
     },
     "metadata": {},
     "output_type": "display_data"
    },
    {
     "data": {
      "text/plain": [
       "{'itisSearchURL': 'http://services.itis.gov/?wt=json&rows=10&q=tsn:180252',\n",
       " 'originCollection': 'gapspecies',\n",
       " 'originDate': '2017-09-16T13:13:42.297166',\n",
       " 'originID': ObjectId('59b8433e0601bad0b9df0f96')}"
      ]
     },
     "metadata": {},
     "output_type": "display_data"
    },
    {
     "data": {
      "text/plain": [
       "{'itisSearchURL': 'http://services.itis.gov/?wt=json&rows=10&q=tsn:208885',\n",
       " 'originCollection': 'gapspecies',\n",
       " 'originDate': '2017-09-16T13:13:42.479820',\n",
       " 'originID': ObjectId('59b8433e0601bad0b9df0f97')}"
      ]
     },
     "metadata": {},
     "output_type": "display_data"
    },
    {
     "data": {
      "text/plain": [
       "{'itisSearchURL': 'http://services.itis.gov/?wt=json&rows=10&q=tsn:178991',\n",
       " 'originCollection': 'gapspecies',\n",
       " 'originDate': '2017-09-16T13:13:42.670963',\n",
       " 'originID': ObjectId('59b8433f0601bad0b9df0f98')}"
      ]
     },
     "metadata": {},
     "output_type": "display_data"
    },
    {
     "data": {
      "text/plain": [
       "{'itisSearchURL': 'http://services.itis.gov/?wt=json&rows=10&q=tsn:173708',\n",
       " 'originCollection': 'gapspecies',\n",
       " 'originDate': '2017-09-16T13:13:42.857816',\n",
       " 'originID': ObjectId('59b8433f0601bad0b9df0f99')}"
      ]
     },
     "metadata": {},
     "output_type": "display_data"
    },
    {
     "data": {
      "text/plain": [
       "{'itisSearchURL': 'http://services.itis.gov/?wt=json&rows=10&q=tsn:208266',\n",
       " 'originCollection': 'gapspecies',\n",
       " 'originDate': '2017-09-16T13:13:43.038295',\n",
       " 'originID': ObjectId('59b8433f0601bad0b9df0f9a')}"
      ]
     },
     "metadata": {},
     "output_type": "display_data"
    },
    {
     "data": {
      "text/plain": [
       "{'itisSearchURL': 'http://services.itis.gov/?wt=json&rows=10&q=tsn:179492',\n",
       " 'originCollection': 'gapspecies',\n",
       " 'originDate': '2017-09-16T13:13:43.219925',\n",
       " 'originID': ObjectId('59b8433f0601bad0b9df0f9b')}"
      ]
     },
     "metadata": {},
     "output_type": "display_data"
    },
    {
     "data": {
      "text/plain": [
       "{'itisSearchURL': 'http://services.itis.gov/?wt=json&rows=10&q=tsn:946254',\n",
       " 'originCollection': 'gapspecies',\n",
       " 'originDate': '2017-09-16T13:13:43.404853',\n",
       " 'originID': ObjectId('59b843400601bad0b9df0f9c')}"
      ]
     },
     "metadata": {},
     "output_type": "display_data"
    },
    {
     "data": {
      "text/plain": [
       "{'itisSearchURL': 'http://services.itis.gov/?wt=json&rows=10&q=tsn:179999',\n",
       " 'originCollection': 'gapspecies',\n",
       " 'originDate': '2017-09-16T13:13:43.588808',\n",
       " 'originID': ObjectId('59b843400601bad0b9df0f9d')}"
      ]
     },
     "metadata": {},
     "output_type": "display_data"
    },
    {
     "data": {
      "text/plain": [
       "{'itisSearchURL': 'http://services.itis.gov/?wt=json&rows=10&q=tsn:175063',\n",
       " 'originCollection': 'gapspecies',\n",
       " 'originDate': '2017-09-16T13:13:43.775113',\n",
       " 'originID': ObjectId('59b843400601bad0b9df0f9e')}"
      ]
     },
     "metadata": {},
     "output_type": "display_data"
    },
    {
     "data": {
      "text/plain": [
       "{'itisSearchURL': 'http://services.itis.gov/?wt=json&rows=10&q=tsn:179525',\n",
       " 'originCollection': 'gapspecies',\n",
       " 'originDate': '2017-09-16T13:13:43.976508',\n",
       " 'originID': ObjectId('59b843410601bad0b9df0f9f')}"
      ]
     },
     "metadata": {},
     "output_type": "display_data"
    },
    {
     "data": {
      "text/plain": [
       "{'itisSearchURL': 'http://services.itis.gov/?wt=json&rows=10&q=tsn:178931',\n",
       " 'originCollection': 'gapspecies',\n",
       " 'originDate': '2017-09-16T13:13:44.159390',\n",
       " 'originID': ObjectId('59b843410601bad0b9df0fa0')}"
      ]
     },
     "metadata": {},
     "output_type": "display_data"
    },
    {
     "data": {
      "text/plain": [
       "{'itisSearchURL': 'http://services.itis.gov/?wt=json&rows=10&q=tsn:178443',\n",
       " 'originCollection': 'gapspecies',\n",
       " 'originDate': '2017-09-16T13:13:44.343289',\n",
       " 'originID': ObjectId('59b843410601bad0b9df0fa1')}"
      ]
     },
     "metadata": {},
     "output_type": "display_data"
    },
    {
     "data": {
      "text/plain": [
       "{'itisSearchURL': 'http://services.itis.gov/?wt=json&rows=10&q=tsn:668193',\n",
       " 'originCollection': 'gapspecies',\n",
       " 'originDate': '2017-09-16T13:13:44.542023',\n",
       " 'originID': ObjectId('59b843420601bad0b9df0fa2')}"
      ]
     },
     "metadata": {},
     "output_type": "display_data"
    },
    {
     "data": {
      "text/plain": [
       "{'itisSearchURL': 'http://services.itis.gov/?wt=json&rows=10&q=tsn:173599',\n",
       " 'originCollection': 'gapspecies',\n",
       " 'originDate': '2017-09-16T13:13:44.753003',\n",
       " 'originID': ObjectId('59b843420601bad0b9df0fa3')}"
      ]
     },
     "metadata": {},
     "output_type": "display_data"
    },
    {
     "data": {
      "text/plain": [
       "{'itisSearchURL': 'http://services.itis.gov/?wt=json&rows=10&q=tsn:178864',\n",
       " 'originCollection': 'gapspecies',\n",
       " 'originDate': '2017-09-16T13:13:44.933017',\n",
       " 'originID': ObjectId('59b843420601bad0b9df0fa4')}"
      ]
     },
     "metadata": {},
     "output_type": "display_data"
    },
    {
     "data": {
      "text/plain": [
       "{'itisSearchURL': 'http://services.itis.gov/?wt=json&rows=10&q=tsn:173647',\n",
       " 'originCollection': 'gapspecies',\n",
       " 'originDate': '2017-09-16T13:13:45.123742',\n",
       " 'originID': ObjectId('59b843430601bad0b9df0fa5')}"
      ]
     },
     "metadata": {},
     "output_type": "display_data"
    },
    {
     "data": {
      "text/plain": [
       "{'itisSearchURL': 'http://services.itis.gov/?wt=json&rows=10&q=tsn:726049',\n",
       " 'originCollection': 'gapspecies',\n",
       " 'originDate': '2017-09-16T13:13:45.304976',\n",
       " 'originID': ObjectId('59b843430601bad0b9df0fa6')}"
      ]
     },
     "metadata": {},
     "output_type": "display_data"
    },
    {
     "data": {
      "text/plain": [
       "{'itisSearchURL': 'http://services.itis.gov/?wt=json&rows=10&q=tsn:173595',\n",
       " 'originCollection': 'gapspecies',\n",
       " 'originDate': '2017-09-16T13:13:45.490485',\n",
       " 'originID': ObjectId('59b843430601bad0b9df0fa7')}"
      ]
     },
     "metadata": {},
     "output_type": "display_data"
    },
    {
     "data": {
      "text/plain": [
       "{'itisSearchURL': 'http://services.itis.gov/?wt=json&rows=10&q=tsn:179865',\n",
       " 'originCollection': 'gapspecies',\n",
       " 'originDate': '2017-09-16T13:13:45.675743',\n",
       " 'originID': ObjectId('59b843440601bad0b9df0fa8')}"
      ]
     },
     "metadata": {},
     "output_type": "display_data"
    },
    {
     "data": {
      "text/plain": [
       "{'itisSearchURL': 'http://services.itis.gov/?wt=json&rows=10&q=tsn:178455',\n",
       " 'originCollection': 'gapspecies',\n",
       " 'originDate': '2017-09-16T13:13:45.859088',\n",
       " 'originID': ObjectId('59b843440601bad0b9df0fa9')}"
      ]
     },
     "metadata": {},
     "output_type": "display_data"
    },
    {
     "data": {
      "text/plain": [
       "{'itisSearchURL': 'http://services.itis.gov/?wt=json&rows=10&q=tsn:179344',\n",
       " 'originCollection': 'gapspecies',\n",
       " 'originDate': '2017-09-16T13:13:46.046314',\n",
       " 'originID': ObjectId('59b843440601bad0b9df0faa')}"
      ]
     },
     "metadata": {},
     "output_type": "display_data"
    },
    {
     "data": {
      "text/plain": [
       "{'itisSearchURL': 'http://services.itis.gov/?wt=json&rows=10&q=tsn:178356',\n",
       " 'originCollection': 'gapspecies',\n",
       " 'originDate': '2017-09-16T13:13:46.293637',\n",
       " 'originID': ObjectId('59b843450601bad0b9df0fab')}"
      ]
     },
     "metadata": {},
     "output_type": "display_data"
    },
    {
     "data": {
      "text/plain": [
       "{'itisSearchURL': 'http://services.itis.gov/?wt=json&rows=10&q=tsn:178499',\n",
       " 'originCollection': 'gapspecies',\n",
       " 'originDate': '2017-09-16T13:13:46.622735',\n",
       " 'originID': ObjectId('59b843450601bad0b9df0fac')}"
      ]
     },
     "metadata": {},
     "output_type": "display_data"
    },
    {
     "data": {
      "text/plain": [
       "{'itisSearchURL': 'http://services.itis.gov/?wt=json&rows=10&q=tsn:175372',\n",
       " 'originCollection': 'gapspecies',\n",
       " 'originDate': '2017-09-16T13:13:47.053079',\n",
       " 'originID': ObjectId('59b843460601bad0b9df0fad')}"
      ]
     },
     "metadata": {},
     "output_type": "display_data"
    },
    {
     "data": {
      "text/plain": [
       "{'itisSearchURL': 'http://services.itis.gov/?wt=json&rows=10&q=tsn:176978',\n",
       " 'originCollection': 'gapspecies',\n",
       " 'originDate': '2017-09-16T13:13:47.372801',\n",
       " 'originID': ObjectId('59b843460601bad0b9df0fae')}"
      ]
     },
     "metadata": {},
     "output_type": "display_data"
    },
    {
     "data": {
      "text/plain": [
       "{'itisSearchURL': 'http://services.itis.gov/?wt=json&rows=10&q=tsn:177032',\n",
       " 'originCollection': 'gapspecies',\n",
       " 'originDate': '2017-09-16T13:13:48.017891',\n",
       " 'originID': ObjectId('59b843470601bad0b9df0faf')}"
      ]
     },
     "metadata": {},
     "output_type": "display_data"
    },
    {
     "data": {
      "text/plain": [
       "{'itisSearchURL': 'http://services.itis.gov/?wt=json&rows=10&q=tsn:554135',\n",
       " 'originCollection': 'gapspecies',\n",
       " 'originDate': '2017-09-16T13:13:48.530110',\n",
       " 'originID': ObjectId('59b843470601bad0b9df0fb0')}"
      ]
     },
     "metadata": {},
     "output_type": "display_data"
    },
    {
     "data": {
      "text/plain": [
       "{'itisSearchURL': 'http://services.itis.gov/?wt=json&rows=10&q=tsn:178903',\n",
       " 'originCollection': 'gapspecies',\n",
       " 'originDate': '2017-09-16T13:13:49.168437',\n",
       " 'originID': ObjectId('59b843480601bad0b9df0fb1')}"
      ]
     },
     "metadata": {},
     "output_type": "display_data"
    },
    {
     "data": {
      "text/plain": [
       "{'itisSearchURL': 'http://services.itis.gov/?wt=json&rows=10&q=tsn:178803',\n",
       " 'originCollection': 'gapspecies',\n",
       " 'originDate': '2017-09-16T13:13:50.722965',\n",
       " 'originID': ObjectId('59b843480601bad0b9df0fb2')}"
      ]
     },
     "metadata": {},
     "output_type": "display_data"
    },
    {
     "data": {
      "text/plain": [
       "{'itisSearchURL': 'http://services.itis.gov/?wt=json&rows=10&q=tsn:554447',\n",
       " 'originCollection': 'gapspecies',\n",
       " 'originDate': '2017-09-16T13:13:50.914235',\n",
       " 'originID': ObjectId('59b843480601bad0b9df0fb3')}"
      ]
     },
     "metadata": {},
     "output_type": "display_data"
    },
    {
     "data": {
      "text/plain": [
       "{'itisSearchURL': 'http://services.itis.gov/?wt=json&rows=10&q=tsn:179104',\n",
       " 'originCollection': 'gapspecies',\n",
       " 'originDate': '2017-09-16T13:13:51.097981',\n",
       " 'originID': ObjectId('59b843480601bad0b9df0fb4')}"
      ]
     },
     "metadata": {},
     "output_type": "display_data"
    },
    {
     "data": {
      "text/plain": [
       "{'itisSearchURL': 'http://services.itis.gov/?wt=json&rows=10&q=tsn:179079',\n",
       " 'originCollection': 'gapspecies',\n",
       " 'originDate': '2017-09-16T13:13:51.282309',\n",
       " 'originID': ObjectId('59b843490601bad0b9df0fb5')}"
      ]
     },
     "metadata": {},
     "output_type": "display_data"
    },
    {
     "data": {
      "text/plain": [
       "{'itisSearchURL': 'http://services.itis.gov/?wt=json&rows=10&q=tsn:180560',\n",
       " 'originCollection': 'gapspecies',\n",
       " 'originDate': '2017-09-16T13:13:51.469085',\n",
       " 'originID': ObjectId('59b843490601bad0b9df0fb6')}"
      ]
     },
     "metadata": {},
     "output_type": "display_data"
    },
    {
     "data": {
      "text/plain": [
       "{'itisSearchURL': 'http://services.itis.gov/?wt=json&rows=10&q=tsn:177011',\n",
       " 'originCollection': 'gapspecies',\n",
       " 'originDate': '2017-09-16T13:13:51.652606',\n",
       " 'originID': ObjectId('59b843490601bad0b9df0fb7')}"
      ]
     },
     "metadata": {},
     "output_type": "display_data"
    },
    {
     "data": {
      "text/plain": [
       "{'itisSearchURL': 'http://services.itis.gov/?wt=json&rows=10&q=tsn:178905',\n",
       " 'originCollection': 'gapspecies',\n",
       " 'originDate': '2017-09-16T13:13:51.837612',\n",
       " 'originID': ObjectId('59b8434a0601bad0b9df0fb8')}"
      ]
     },
     "metadata": {},
     "output_type": "display_data"
    },
    {
     "data": {
      "text/plain": [
       "{'itisSearchURL': 'http://services.itis.gov/?wt=json&rows=10&q=tsn:683063',\n",
       " 'originCollection': 'gapspecies',\n",
       " 'originDate': '2017-09-16T13:13:52.018021',\n",
       " 'originID': ObjectId('59b8434a0601bad0b9df0fb9')}"
      ]
     },
     "metadata": {},
     "output_type": "display_data"
    },
    {
     "data": {
      "text/plain": [
       "{'itisSearchURL': 'http://services.itis.gov/?wt=json&rows=10&q=tsn:552505',\n",
       " 'originCollection': 'gapspecies',\n",
       " 'originDate': '2017-09-16T13:13:52.209262',\n",
       " 'originID': ObjectId('59b8434a0601bad0b9df0fba')}"
      ]
     },
     "metadata": {},
     "output_type": "display_data"
    },
    {
     "data": {
      "text/plain": [
       "{'itisSearchURL': 'http://services.itis.gov/?wt=json&rows=10&q=tsn:174273',\n",
       " 'originCollection': 'gapspecies',\n",
       " 'originDate': '2017-09-16T13:13:52.391612',\n",
       " 'originID': ObjectId('59b8434b0601bad0b9df0fbb')}"
      ]
     },
     "metadata": {},
     "output_type": "display_data"
    },
    {
     "data": {
      "text/plain": [
       "{'itisSearchURL': 'http://services.itis.gov/?wt=json&rows=10&q=tsn:173868',\n",
       " 'originCollection': 'gapspecies',\n",
       " 'originDate': '2017-09-16T13:13:52.573203',\n",
       " 'originID': ObjectId('59b8434b0601bad0b9df0fbc')}"
      ]
     },
     "metadata": {},
     "output_type": "display_data"
    },
    {
     "data": {
      "text/plain": [
       "{'itisSearchURL': 'http://services.itis.gov/?wt=json&rows=10&q=tsn:173766',\n",
       " 'originCollection': 'gapspecies',\n",
       " 'originDate': '2017-09-16T13:13:52.758740',\n",
       " 'originID': ObjectId('59b8434c0601bad0b9df0fbd')}"
      ]
     },
     "metadata": {},
     "output_type": "display_data"
    },
    {
     "data": {
      "text/plain": [
       "{'itisSearchURL': 'http://services.itis.gov/?wt=json&rows=10&q=tsn:174179',\n",
       " 'originCollection': 'gapspecies',\n",
       " 'originDate': '2017-09-16T13:13:52.940442',\n",
       " 'originID': ObjectId('59b8434c0601bad0b9df0fbe')}"
      ]
     },
     "metadata": {},
     "output_type": "display_data"
    },
    {
     "data": {
      "text/plain": [
       "{'itisSearchURL': 'http://services.itis.gov/?wt=json&rows=10&q=tsn:208947',\n",
       " 'originCollection': 'gapspecies',\n",
       " 'originDate': '2017-09-16T13:13:53.125404',\n",
       " 'originID': ObjectId('59b8434c0601bad0b9df0fbf')}"
      ]
     },
     "metadata": {},
     "output_type": "display_data"
    },
    {
     "data": {
      "text/plain": [
       "{'itisSearchURL': 'http://services.itis.gov/?wt=json&rows=10&q=tsn:174090',\n",
       " 'originCollection': 'gapspecies',\n",
       " 'originDate': '2017-09-16T13:13:53.313344',\n",
       " 'originID': ObjectId('59b8434d0601bad0b9df0fc0')}"
      ]
     },
     "metadata": {},
     "output_type": "display_data"
    },
    {
     "data": {
      "text/plain": [
       "{'itisSearchURL': 'http://services.itis.gov/?wt=json&rows=10&q=tsn:683039',\n",
       " 'originCollection': 'gapspecies',\n",
       " 'originDate': '2017-09-16T13:13:53.502037',\n",
       " 'originID': ObjectId('59b8434d0601bad0b9df0fc1')}"
      ]
     },
     "metadata": {},
     "output_type": "display_data"
    },
    {
     "data": {
      "text/plain": [
       "{'itisSearchURL': 'http://services.itis.gov/?wt=json&rows=10&q=tsn:173797',\n",
       " 'originCollection': 'gapspecies',\n",
       " 'originDate': '2017-09-16T13:13:53.683776',\n",
       " 'originID': ObjectId('59b8434d0601bad0b9df0fc2')}"
      ]
     },
     "metadata": {},
     "output_type": "display_data"
    },
    {
     "data": {
      "text/plain": [
       "{'itisSearchURL': 'http://services.itis.gov/?wt=json&rows=10&q=tsn:209311',\n",
       " 'originCollection': 'gapspecies',\n",
       " 'originDate': '2017-09-16T13:13:53.867170',\n",
       " 'originID': ObjectId('59b8434e0601bad0b9df0fc3')}"
      ]
     },
     "metadata": {},
     "output_type": "display_data"
    },
    {
     "data": {
      "text/plain": [
       "{'itisSearchURL': 'http://services.itis.gov/?wt=json&rows=10&q=tsn:174299',\n",
       " 'originCollection': 'gapspecies',\n",
       " 'originDate': '2017-09-16T13:13:54.053212',\n",
       " 'originID': ObjectId('59b8434e0601bad0b9df0fc4')}"
      ]
     },
     "metadata": {},
     "output_type": "display_data"
    },
    {
     "data": {
      "text/plain": [
       "{'itisSearchURL': 'http://services.itis.gov/?wt=json&rows=10&q=tsn:564569',\n",
       " 'originCollection': 'gapspecies',\n",
       " 'originDate': '2017-09-16T13:13:54.236565',\n",
       " 'originID': ObjectId('59b8434e0601bad0b9df0fc5')}"
      ]
     },
     "metadata": {},
     "output_type": "display_data"
    },
    {
     "data": {
      "text/plain": [
       "{'itisSearchURL': 'http://services.itis.gov/?wt=json&rows=10&q=tsn:174361',\n",
       " 'originCollection': 'gapspecies',\n",
       " 'originDate': '2017-09-16T13:13:54.422828',\n",
       " 'originID': ObjectId('59b8434f0601bad0b9df0fc6')}"
      ]
     },
     "metadata": {},
     "output_type": "display_data"
    },
    {
     "data": {
      "text/plain": [
       "{'itisSearchURL': 'http://services.itis.gov/?wt=json&rows=10&q=tsn:180220',\n",
       " 'originCollection': 'gapspecies',\n",
       " 'originDate': '2017-09-16T13:13:54.604564',\n",
       " 'originID': ObjectId('59b8434f0601bad0b9df0fc7')}"
      ]
     },
     "metadata": {},
     "output_type": "display_data"
    },
    {
     "data": {
      "text/plain": [
       "{'itisSearchURL': 'http://services.itis.gov/?wt=json&rows=10&q=tsn:209008',\n",
       " 'originCollection': 'gapspecies',\n",
       " 'originDate': '2017-09-16T13:13:54.790195',\n",
       " 'originID': ObjectId('59b8434f0601bad0b9df0fc8')}"
      ]
     },
     "metadata": {},
     "output_type": "display_data"
    },
    {
     "data": {
      "text/plain": [
       "{'itisSearchURL': 'http://services.itis.gov/?wt=json&rows=10&q=tsn:668319',\n",
       " 'originCollection': 'gapspecies',\n",
       " 'originDate': '2017-09-16T13:13:54.975293',\n",
       " 'originID': ObjectId('59b843500601bad0b9df0fc9')}"
      ]
     },
     "metadata": {},
     "output_type": "display_data"
    },
    {
     "data": {
      "text/plain": [
       "{'itisSearchURL': 'http://services.itis.gov/?wt=json&rows=10&q=tsn:208294',\n",
       " 'originCollection': 'gapspecies',\n",
       " 'originDate': '2017-09-16T13:13:55.160014',\n",
       " 'originID': ObjectId('59b843500601bad0b9df0fca')}"
      ]
     },
     "metadata": {},
     "output_type": "display_data"
    },
    {
     "data": {
      "text/plain": [
       "{'itisSearchURL': 'http://services.itis.gov/?wt=json&rows=10&q=tsn:683031',\n",
       " 'originCollection': 'gapspecies',\n",
       " 'originDate': '2017-09-16T13:13:55.359877',\n",
       " 'originID': ObjectId('59b843500601bad0b9df0fcb')}"
      ]
     },
     "metadata": {},
     "output_type": "display_data"
    },
    {
     "data": {
      "text/plain": [
       "{'itisSearchURL': 'http://services.itis.gov/?wt=json&rows=10&q=tsn:180004',\n",
       " 'originCollection': 'gapspecies',\n",
       " 'originDate': '2017-09-16T13:13:55.552020',\n",
       " 'originID': ObjectId('59b843510601bad0b9df0fcc')}"
      ]
     },
     "metadata": {},
     "output_type": "display_data"
    },
    {
     "data": {
      "text/plain": [
       "{'itisSearchURL': 'http://services.itis.gov/?wt=json&rows=10&q=tsn:174251',\n",
       " 'originCollection': 'gapspecies',\n",
       " 'originDate': '2017-09-16T13:13:55.737662',\n",
       " 'originID': ObjectId('59b843510601bad0b9df0fcd')}"
      ]
     },
     "metadata": {},
     "output_type": "display_data"
    },
    {
     "data": {
      "text/plain": [
       "{'itisSearchURL': 'http://services.itis.gov/?wt=json&rows=10&q=tsn:174291',\n",
       " 'originCollection': 'gapspecies',\n",
       " 'originDate': '2017-09-16T13:13:55.919684',\n",
       " 'originID': ObjectId('59b843520601bad0b9df0fce')}"
      ]
     },
     "metadata": {},
     "output_type": "display_data"
    },
    {
     "data": {
      "text/plain": [
       "{'itisSearchURL': 'http://services.itis.gov/?wt=json&rows=10&q=tsn:173875',\n",
       " 'originCollection': 'gapspecies',\n",
       " 'originDate': '2017-09-16T13:13:56.151065',\n",
       " 'originID': ObjectId('59b843520601bad0b9df0fcf')}"
      ]
     },
     "metadata": {},
     "output_type": "display_data"
    },
    {
     "data": {
      "text/plain": [
       "{'itisSearchURL': 'http://services.itis.gov/?wt=json&rows=10&q=tsn:174271',\n",
       " 'originCollection': 'gapspecies',\n",
       " 'originDate': '2017-09-16T13:13:56.671814',\n",
       " 'originID': ObjectId('59b843520601bad0b9df0fd0')}"
      ]
     },
     "metadata": {},
     "output_type": "display_data"
    },
    {
     "data": {
      "text/plain": [
       "{'itisSearchURL': 'http://services.itis.gov/?wt=json&rows=10&q=tsn:173504',\n",
       " 'originCollection': 'gapspecies',\n",
       " 'originDate': '2017-09-16T13:13:57.147843',\n",
       " 'originID': ObjectId('59b843530601bad0b9df0fd1')}"
      ]
     },
     "metadata": {},
     "output_type": "display_data"
    },
    {
     "data": {
      "text/plain": [
       "{'itisSearchURL': 'http://services.itis.gov/?wt=json&rows=10&q=tsn:173711',\n",
       " 'originCollection': 'gapspecies',\n",
       " 'originDate': '2017-09-16T13:13:58.821000',\n",
       " 'originID': ObjectId('59b843530601bad0b9df0fd2')}"
      ]
     },
     "metadata": {},
     "output_type": "display_data"
    },
    {
     "data": {
      "text/plain": [
       "{'itisSearchURL': 'http://services.itis.gov/?wt=json&rows=10&q=tsn:180019',\n",
       " 'originCollection': 'gapspecies',\n",
       " 'originDate': '2017-09-16T13:13:59.497339',\n",
       " 'originID': ObjectId('59b843540601bad0b9df0fd3')}"
      ]
     },
     "metadata": {},
     "output_type": "display_data"
    },
    {
     "data": {
      "text/plain": [
       "{'itisSearchURL': 'http://services.itis.gov/?wt=json&rows=10&q=tsn:179440',\n",
       " 'originCollection': 'gapspecies',\n",
       " 'originDate': '2017-09-16T13:14:00.031942',\n",
       " 'originID': ObjectId('59b843540601bad0b9df0fd4')}"
      ]
     },
     "metadata": {},
     "output_type": "display_data"
    },
    {
     "data": {
      "text/plain": [
       "{'itisSearchURL': 'http://services.itis.gov/?wt=json&rows=10&q=tsn:180181',\n",
       " 'originCollection': 'gapspecies',\n",
       " 'originDate': '2017-09-16T13:14:00.215981',\n",
       " 'originID': ObjectId('59b843540601bad0b9df0fd5')}"
      ]
     },
     "metadata": {},
     "output_type": "display_data"
    },
    {
     "data": {
      "text/plain": [
       "{'itisSearchURL': 'http://services.itis.gov/?wt=json&rows=10&q=tsn:175044',\n",
       " 'originCollection': 'gapspecies',\n",
       " 'originDate': '2017-09-16T13:14:00.395955',\n",
       " 'originID': ObjectId('59b843550601bad0b9df0fd6')}"
      ]
     },
     "metadata": {},
     "output_type": "display_data"
    },
    {
     "data": {
      "text/plain": [
       "{'itisSearchURL': 'http://services.itis.gov/?wt=json&rows=10&q=tsn:773531',\n",
       " 'originCollection': 'gapspecies',\n",
       " 'originDate': '2017-09-16T13:14:00.588083',\n",
       " 'originID': ObjectId('59b843550601bad0b9df0fd7')}"
      ]
     },
     "metadata": {},
     "output_type": "display_data"
    },
    {
     "data": {
      "text/plain": [
       "{'itisSearchURL': 'http://services.itis.gov/?wt=json&rows=10&q=tsn:179112',\n",
       " 'originCollection': 'gapspecies',\n",
       " 'originDate': '2017-09-16T13:14:00.775151',\n",
       " 'originID': ObjectId('59b843550601bad0b9df0fd8')}"
      ]
     },
     "metadata": {},
     "output_type": "display_data"
    },
    {
     "data": {
      "text/plain": [
       "{'itisSearchURL': 'http://services.itis.gov/?wt=json&rows=10&q=tsn:179981',\n",
       " 'originCollection': 'gapspecies',\n",
       " 'originDate': '2017-09-16T13:14:00.959270',\n",
       " 'originID': ObjectId('59b843560601bad0b9df0fd9')}"
      ]
     },
     "metadata": {},
     "output_type": "display_data"
    },
    {
     "data": {
      "text/plain": [
       "{'itisSearchURL': 'http://services.itis.gov/?wt=json&rows=10&q=tsn:178764',\n",
       " 'originCollection': 'gapspecies',\n",
       " 'originDate': '2017-09-16T13:14:01.142727',\n",
       " 'originID': ObjectId('59b843560601bad0b9df0fda')}"
      ]
     },
     "metadata": {},
     "output_type": "display_data"
    },
    {
     "data": {
      "text/plain": [
       "{'itisSearchURL': 'http://services.itis.gov/?wt=json&rows=10&q=tsn:552520',\n",
       " 'originCollection': 'gapspecies',\n",
       " 'originDate': '2017-09-16T13:14:01.328566',\n",
       " 'originID': ObjectId('59b843560601bad0b9df0fdb')}"
      ]
     },
     "metadata": {},
     "output_type": "display_data"
    },
    {
     "data": {
      "text/plain": [
       "{'itisSearchURL': 'http://services.itis.gov/?wt=json&rows=10&q=tsn:173596',\n",
       " 'originCollection': 'gapspecies',\n",
       " 'originDate': '2017-09-16T13:14:01.508461',\n",
       " 'originID': ObjectId('59b843560601bad0b9df0fdc')}"
      ]
     },
     "metadata": {},
     "output_type": "display_data"
    },
    {
     "data": {
      "text/plain": [
       "{'itisSearchURL': 'http://services.itis.gov/?wt=json&rows=10&q=tsn:178040',\n",
       " 'originCollection': 'gapspecies',\n",
       " 'originDate': '2017-09-16T13:14:01.695405',\n",
       " 'originID': ObjectId('59b843570601bad0b9df0fdd')}"
      ]
     },
     "metadata": {},
     "output_type": "display_data"
    },
    {
     "data": {
      "text/plain": [
       "{'itisSearchURL': 'http://services.itis.gov/?wt=json&rows=10&q=tsn:668243',\n",
       " 'originCollection': 'gapspecies',\n",
       " 'originDate': '2017-09-16T13:14:01.880860',\n",
       " 'originID': ObjectId('59b843570601bad0b9df0fde')}"
      ]
     },
     "metadata": {},
     "output_type": "display_data"
    },
    {
     "data": {
      "text/plain": [
       "{'itisSearchURL': 'http://services.itis.gov/?wt=json&rows=10&q=tsn:179190',\n",
       " 'originCollection': 'gapspecies',\n",
       " 'originDate': '2017-09-16T13:14:02.065730',\n",
       " 'originID': ObjectId('59b843580601bad0b9df0fdf')}"
      ]
     },
     "metadata": {},
     "output_type": "display_data"
    },
    {
     "data": {
      "text/plain": [
       "{'itisSearchURL': 'http://services.itis.gov/?wt=json&rows=10&q=tsn:175295',\n",
       " 'originCollection': 'gapspecies',\n",
       " 'originDate': '2017-09-16T13:14:02.247494',\n",
       " 'originID': ObjectId('59b843580601bad0b9df0fe0')}"
      ]
     },
     "metadata": {},
     "output_type": "display_data"
    },
    {
     "data": {
      "text/plain": [
       "{'itisSearchURL': 'http://services.itis.gov/?wt=json&rows=10&q=tsn:173719',\n",
       " 'originCollection': 'gapspecies',\n",
       " 'originDate': '2017-09-16T13:14:02.429658',\n",
       " 'originID': ObjectId('59b843590601bad0b9df0fe1')}"
      ]
     },
     "metadata": {},
     "output_type": "display_data"
    },
    {
     "data": {
      "text/plain": [
       "{'itisSearchURL': 'http://services.itis.gov/?wt=json&rows=10&q=tsn:208291',\n",
       " 'originCollection': 'gapspecies',\n",
       " 'originDate': '2017-09-16T13:14:02.614631',\n",
       " 'originID': ObjectId('59b843590601bad0b9df0fe2')}"
      ]
     },
     "metadata": {},
     "output_type": "display_data"
    },
    {
     "data": {
      "text/plain": [
       "{'itisSearchURL': 'http://services.itis.gov/?wt=json&rows=10&q=tsn:173658',\n",
       " 'originCollection': 'gapspecies',\n",
       " 'originDate': '2017-09-16T13:14:02.799130',\n",
       " 'originID': ObjectId('59b843590601bad0b9df0fe3')}"
      ]
     },
     "metadata": {},
     "output_type": "display_data"
    },
    {
     "data": {
      "text/plain": [
       "{'itisSearchURL': 'http://services.itis.gov/?wt=json&rows=10&q=tsn:179276',\n",
       " 'originCollection': 'gapspecies',\n",
       " 'originDate': '2017-09-16T13:14:02.977964',\n",
       " 'originID': ObjectId('59b8435a0601bad0b9df0fe4')}"
      ]
     },
     "metadata": {},
     "output_type": "display_data"
    },
    {
     "data": {
      "text/plain": [
       "{'itisSearchURL': 'http://services.itis.gov/?wt=json&rows=10&q=tsn:173663',\n",
       " 'originCollection': 'gapspecies',\n",
       " 'originDate': '2017-09-16T13:14:03.172509',\n",
       " 'originID': ObjectId('59b8435a0601bad0b9df0fe5')}"
      ]
     },
     "metadata": {},
     "output_type": "display_data"
    },
    {
     "data": {
      "text/plain": [
       "{'itisSearchURL': 'http://services.itis.gov/?wt=json&rows=10&q=tsn:180206',\n",
       " 'originCollection': 'gapspecies',\n",
       " 'originDate': '2017-09-16T13:14:03.352589',\n",
       " 'originID': ObjectId('59b8435b0601bad0b9df0fe6')}"
      ]
     },
     "metadata": {},
     "output_type": "display_data"
    },
    {
     "data": {
      "text/plain": [
       "{'itisSearchURL': 'http://services.itis.gov/?wt=json&rows=10&q=tsn:726904',\n",
       " 'originCollection': 'gapspecies',\n",
       " 'originDate': '2017-09-16T13:14:03.552066',\n",
       " 'originID': ObjectId('59b8435b0601bad0b9df0fe7')}"
      ]
     },
     "metadata": {},
     "output_type": "display_data"
    },
    {
     "data": {
      "text/plain": [
       "{'itisSearchURL': 'http://services.itis.gov/?wt=json&rows=10&q=tsn:775866',\n",
       " 'originCollection': 'gapspecies',\n",
       " 'originDate': '2017-09-16T13:14:03.741689',\n",
       " 'originID': ObjectId('59b8435b0601bad0b9df0fe8')}"
      ]
     },
     "metadata": {},
     "output_type": "display_data"
    },
    {
     "data": {
      "text/plain": [
       "{'itisSearchURL': 'http://services.itis.gov/?wt=json&rows=10&q=tsn:173741',\n",
       " 'originCollection': 'gapspecies',\n",
       " 'originDate': '2017-09-16T13:14:03.921561',\n",
       " 'originID': ObjectId('59b8435c0601bad0b9df0fe9')}"
      ]
     },
     "metadata": {},
     "output_type": "display_data"
    },
    {
     "data": {
      "text/plain": [
       "{'itisSearchURL': 'http://services.itis.gov/?wt=json&rows=10&q=tsn:176638',\n",
       " 'originCollection': 'gapspecies',\n",
       " 'originDate': '2017-09-16T13:14:04.103357',\n",
       " 'originID': ObjectId('59b8435c0601bad0b9df0fea')}"
      ]
     },
     "metadata": {},
     "output_type": "display_data"
    },
    {
     "data": {
      "text/plain": [
       "{'itisSearchURL': 'http://services.itis.gov/?wt=json&rows=10&q=tsn:176931',\n",
       " 'originCollection': 'gapspecies',\n",
       " 'originDate': '2017-09-16T13:14:04.287049',\n",
       " 'originID': ObjectId('59b8435c0601bad0b9df0feb')}"
      ]
     },
     "metadata": {},
     "output_type": "display_data"
    },
    {
     "data": {
      "text/plain": [
       "{'itisSearchURL': 'http://services.itis.gov/?wt=json&rows=10&q=tsn:552497',\n",
       " 'originCollection': 'gapspecies',\n",
       " 'originDate': '2017-09-16T13:14:04.483914',\n",
       " 'originID': ObjectId('59b8435d0601bad0b9df0fec')}"
      ]
     },
     "metadata": {},
     "output_type": "display_data"
    },
    {
     "data": {
      "text/plain": [
       "{'itisSearchURL': 'http://services.itis.gov/?wt=json&rows=10&q=tsn:179680',\n",
       " 'originCollection': 'gapspecies',\n",
       " 'originDate': '2017-09-16T13:14:04.666099',\n",
       " 'originID': ObjectId('59b8435d0601bad0b9df0fed')}"
      ]
     },
     "metadata": {},
     "output_type": "display_data"
    },
    {
     "data": {
      "text/plain": [
       "{'itisSearchURL': 'http://services.itis.gov/?wt=json&rows=10&q=tsn:173532',\n",
       " 'originCollection': 'gapspecies',\n",
       " 'originDate': '2017-09-16T13:14:04.850793',\n",
       " 'originID': ObjectId('59b8435e0601bad0b9df0fee')}"
      ]
     },
     "metadata": {},
     "output_type": "display_data"
    },
    {
     "data": {
      "text/plain": [
       "{'itisSearchURL': 'http://services.itis.gov/?wt=json&rows=10&q=tsn:180199',\n",
       " 'originCollection': 'gapspecies',\n",
       " 'originDate': '2017-09-16T13:14:05.033738',\n",
       " 'originID': ObjectId('59b8435e0601bad0b9df0fef')}"
      ]
     },
     "metadata": {},
     "output_type": "display_data"
    },
    {
     "data": {
      "text/plain": [
       "{'itisSearchURL': 'http://services.itis.gov/?wt=json&rows=10&q=tsn:180162',\n",
       " 'originCollection': 'gapspecies',\n",
       " 'originDate': '2017-09-16T13:14:05.215859',\n",
       " 'originID': ObjectId('59b8435e0601bad0b9df0ff0')}"
      ]
     },
     "metadata": {},
     "output_type": "display_data"
    },
    {
     "data": {
      "text/plain": [
       "{'itisSearchURL': 'http://services.itis.gov/?wt=json&rows=10&q=tsn:180281',\n",
       " 'originCollection': 'gapspecies',\n",
       " 'originDate': '2017-09-16T13:14:05.396900',\n",
       " 'originID': ObjectId('59b8435f0601bad0b9df0ff1')}"
      ]
     },
     "metadata": {},
     "output_type": "display_data"
    },
    {
     "data": {
      "text/plain": [
       "{'itisSearchURL': 'http://services.itis.gov/?wt=json&rows=10&q=tsn:177938',\n",
       " 'originCollection': 'gapspecies',\n",
       " 'originDate': '2017-09-16T13:14:05.579705',\n",
       " 'originID': ObjectId('59b8435f0601bad0b9df0ff2')}"
      ]
     },
     "metadata": {},
     "output_type": "display_data"
    },
    {
     "data": {
      "text/plain": [
       "{'itisSearchURL': 'http://services.itis.gov/?wt=json&rows=10&q=tsn:726048',\n",
       " 'originCollection': 'gapspecies',\n",
       " 'originDate': '2017-09-16T13:14:05.807081',\n",
       " 'originID': ObjectId('59b8435f0601bad0b9df0ff3')}"
      ]
     },
     "metadata": {},
     "output_type": "display_data"
    },
    {
     "data": {
      "text/plain": [
       "{'itisSearchURL': 'http://services.itis.gov/?wt=json&rows=10&q=tsn:178826',\n",
       " 'originCollection': 'gapspecies',\n",
       " 'originDate': '2017-09-16T13:14:05.990041',\n",
       " 'originID': ObjectId('59b843600601bad0b9df0ff4')}"
      ]
     },
     "metadata": {},
     "output_type": "display_data"
    },
    {
     "data": {
      "text/plain": [
       "{'itisSearchURL': 'http://services.itis.gov/?wt=json&rows=10&q=tsn:173467',\n",
       " 'originCollection': 'gapspecies',\n",
       " 'originDate': '2017-09-16T13:14:06.704274',\n",
       " 'originID': ObjectId('59b843600601bad0b9df0ff5')}"
      ]
     },
     "metadata": {},
     "output_type": "display_data"
    },
    {
     "data": {
      "text/plain": [
       "{'itisSearchURL': 'http://services.itis.gov/?wt=json&rows=10&q=tsn:552508',\n",
       " 'originCollection': 'gapspecies',\n",
       " 'originDate': '2017-09-16T13:14:07.112183',\n",
       " 'originID': ObjectId('59b843600601bad0b9df0ff6')}"
      ]
     },
     "metadata": {},
     "output_type": "display_data"
    },
    {
     "data": {
      "text/plain": [
       "{'itisSearchURL': 'http://services.itis.gov/?wt=json&rows=10&q=tsn:177961',\n",
       " 'originCollection': 'gapspecies',\n",
       " 'originDate': '2017-09-16T13:14:07.582606',\n",
       " 'originID': ObjectId('59b843610601bad0b9df0ff7')}"
      ]
     },
     "metadata": {},
     "output_type": "display_data"
    },
    {
     "data": {
      "text/plain": [
       "{'itisSearchURL': 'http://services.itis.gov/?wt=json&rows=10&q=tsn:175274',\n",
       " 'originCollection': 'gapspecies',\n",
       " 'originDate': '2017-09-16T13:14:08.090818',\n",
       " 'originID': ObjectId('59b843610601bad0b9df0ff8')}"
      ]
     },
     "metadata": {},
     "output_type": "display_data"
    },
    {
     "data": {
      "text/plain": [
       "{'itisSearchURL': 'http://services.itis.gov/?wt=json&rows=10&q=tsn:180174',\n",
       " 'originCollection': 'gapspecies',\n",
       " 'originDate': '2017-09-16T13:14:08.558619',\n",
       " 'originID': ObjectId('59b843610601bad0b9df0ff9')}"
      ]
     },
     "metadata": {},
     "output_type": "display_data"
    },
    {
     "data": {
      "text/plain": [
       "{'itisSearchURL': 'http://services.itis.gov/?wt=json&rows=10&q=tsn:179032',\n",
       " 'originCollection': 'gapspecies',\n",
       " 'originDate': '2017-09-16T13:14:09.069141',\n",
       " 'originID': ObjectId('59b843620601bad0b9df0ffa')}"
      ]
     },
     "metadata": {},
     "output_type": "display_data"
    },
    {
     "data": {
      "text/plain": [
       "{'itisSearchURL': 'http://services.itis.gov/?wt=json&rows=10&q=tsn:178874',\n",
       " 'originCollection': 'gapspecies',\n",
       " 'originDate': '2017-09-16T13:14:09.541423',\n",
       " 'originID': ObjectId('59b843620601bad0b9df0ffb')}"
      ]
     },
     "metadata": {},
     "output_type": "display_data"
    },
    {
     "data": {
      "text/plain": [
       "{'itisSearchURL': 'http://services.itis.gov/?wt=json&rows=10&q=tsn:180083',\n",
       " 'originCollection': 'gapspecies',\n",
       " 'originDate': '2017-09-16T13:14:09.859737',\n",
       " 'originID': ObjectId('59b843620601bad0b9df0ffc')}"
      ]
     },
     "metadata": {},
     "output_type": "display_data"
    },
    {
     "data": {
      "text/plain": [
       "{'itisSearchURL': 'http://services.itis.gov/?wt=json&rows=10&q=tsn:180109',\n",
       " 'originCollection': 'gapspecies',\n",
       " 'originDate': '2017-09-16T13:14:10.047453',\n",
       " 'originID': ObjectId('59b843630601bad0b9df0ffd')}"
      ]
     },
     "metadata": {},
     "output_type": "display_data"
    },
    {
     "data": {
      "text/plain": [
       "{'itisSearchURL': 'http://services.itis.gov/?wt=json&rows=10&q=tsn:173654',\n",
       " 'originCollection': 'gapspecies',\n",
       " 'originDate': '2017-09-16T13:14:10.231407',\n",
       " 'originID': ObjectId('59b843630601bad0b9df0ffe')}"
      ]
     },
     "metadata": {},
     "output_type": "display_data"
    },
    {
     "data": {
      "text/plain": [
       "{'itisSearchURL': 'http://services.itis.gov/?wt=json&rows=10&q=tsn:175716',\n",
       " 'originCollection': 'gapspecies',\n",
       " 'originDate': '2017-09-16T13:14:10.414810',\n",
       " 'originID': ObjectId('59b843630601bad0b9df0fff')}"
      ]
     },
     "metadata": {},
     "output_type": "display_data"
    },
    {
     "data": {
      "text/plain": [
       "{'itisSearchURL': 'http://services.itis.gov/?wt=json&rows=10&q=tsn:179139',\n",
       " 'originCollection': 'gapspecies',\n",
       " 'originDate': '2017-09-16T13:14:10.596894',\n",
       " 'originID': ObjectId('59b843640601bad0b9df1000')}"
      ]
     },
     "metadata": {},
     "output_type": "display_data"
    },
    {
     "data": {
      "text/plain": [
       "{'itisSearchURL': 'http://services.itis.gov/?wt=json&rows=10&q=tsn:552496',\n",
       " 'originCollection': 'gapspecies',\n",
       " 'originDate': '2017-09-16T13:14:10.782447',\n",
       " 'originID': ObjectId('59b843640601bad0b9df1001')}"
      ]
     },
     "metadata": {},
     "output_type": "display_data"
    },
    {
     "data": {
      "text/plain": [
       "{'itisSearchURL': 'http://services.itis.gov/?wt=json&rows=10&q=tsn:179386',\n",
       " 'originCollection': 'gapspecies',\n",
       " 'originDate': '2017-09-16T13:14:10.968640',\n",
       " 'originID': ObjectId('59b843650601bad0b9df1002')}"
      ]
     },
     "metadata": {},
     "output_type": "display_data"
    },
    {
     "data": {
      "text/plain": [
       "{'itisSearchURL': 'http://services.itis.gov/?wt=json&rows=10&q=tsn:178448',\n",
       " 'originCollection': 'gapspecies',\n",
       " 'originDate': '2017-09-16T13:14:11.161572',\n",
       " 'originID': ObjectId('59b843650601bad0b9df1003')}"
      ]
     },
     "metadata": {},
     "output_type": "display_data"
    },
    {
     "data": {
      "text/plain": [
       "{'itisSearchURL': 'http://services.itis.gov/?wt=json&rows=10&q=tsn:180022',\n",
       " 'originCollection': 'gapspecies',\n",
       " 'originDate': '2017-09-16T13:14:11.352863',\n",
       " 'originID': ObjectId('59b843650601bad0b9df1004')}"
      ]
     },
     "metadata": {},
     "output_type": "display_data"
    },
    {
     "data": {
      "text/plain": [
       "{'itisSearchURL': 'http://services.itis.gov/?wt=json&rows=10&q=tsn:550253',\n",
       " 'originCollection': 'gapspecies',\n",
       " 'originDate': '2017-09-16T13:14:11.542026',\n",
       " 'originID': ObjectId('59b843660601bad0b9df1005')}"
      ]
     },
     "metadata": {},
     "output_type": "display_data"
    },
    {
     "data": {
      "text/plain": [
       "{'itisSearchURL': 'http://services.itis.gov/?wt=json&rows=10&q=tsn:178048',\n",
       " 'originCollection': 'gapspecies',\n",
       " 'originDate': '2017-09-16T13:14:11.723288',\n",
       " 'originID': ObjectId('59b843660601bad0b9df1006')}"
      ]
     },
     "metadata": {},
     "output_type": "display_data"
    },
    {
     "data": {
      "text/plain": [
       "{'itisSearchURL': 'http://services.itis.gov/?wt=json&rows=10&q=tsn:180336',\n",
       " 'originCollection': 'gapspecies',\n",
       " 'originDate': '2017-09-16T13:14:11.908235',\n",
       " 'originID': ObjectId('59b843660601bad0b9df1007')}"
      ]
     },
     "metadata": {},
     "output_type": "display_data"
    },
    {
     "data": {
      "text/plain": [
       "{'itisSearchURL': 'http://services.itis.gov/?wt=json&rows=10&q=nameWOInd:Sylvilagus\\\\%20palustris\\\\%20heferni',\n",
       " 'originCollection': 'gapspecies',\n",
       " 'originDate': '2017-09-16T13:14:12.096687',\n",
       " 'originID': ObjectId('59b843670601bad0b9df1008')}"
      ]
     },
     "metadata": {},
     "output_type": "display_data"
    },
    {
     "data": {
      "text/plain": [
       "{'itisSearchURL': 'http://services.itis.gov/?wt=json&rows=10&q=tsn:180596',\n",
       " 'originCollection': 'gapspecies',\n",
       " 'originDate': '2017-09-16T13:14:12.278766',\n",
       " 'originID': ObjectId('59b843670601bad0b9df1009')}"
      ]
     },
     "metadata": {},
     "output_type": "display_data"
    },
    {
     "data": {
      "text/plain": [
       "{'itisSearchURL': 'http://services.itis.gov/?wt=json&rows=10&q=tsn:202360',\n",
       " 'originCollection': 'gapspecies',\n",
       " 'originDate': '2017-09-16T13:14:12.462337',\n",
       " 'originID': ObjectId('59b843680601bad0b9df100a')}"
      ]
     },
     "metadata": {},
     "output_type": "display_data"
    },
    {
     "data": {
      "text/plain": [
       "{'itisSearchURL': 'http://services.itis.gov/?wt=json&rows=10&q=tsn:178986',\n",
       " 'originCollection': 'gapspecies',\n",
       " 'originDate': '2017-09-16T13:14:12.645429',\n",
       " 'originID': ObjectId('59b843680601bad0b9df100b')}"
      ]
     },
     "metadata": {},
     "output_type": "display_data"
    },
    {
     "data": {
      "text/plain": [
       "{'itisSearchURL': 'http://services.itis.gov/?wt=json&rows=10&q=tsn:175187',\n",
       " 'originCollection': 'gapspecies',\n",
       " 'originDate': '2017-09-16T13:14:12.830078',\n",
       " 'originID': ObjectId('59b843690601bad0b9df100c')}"
      ]
     },
     "metadata": {},
     "output_type": "display_data"
    },
    {
     "data": {
      "text/plain": [
       "{'itisSearchURL': 'http://services.itis.gov/?wt=json&rows=10&q=tsn:552474',\n",
       " 'originCollection': 'gapspecies',\n",
       " 'originDate': '2017-09-16T13:14:13.022245',\n",
       " 'originID': ObjectId('59b843690601bad0b9df100d')}"
      ]
     },
     "metadata": {},
     "output_type": "display_data"
    },
    {
     "data": {
      "text/plain": [
       "{'itisSearchURL': 'http://services.itis.gov/?wt=json&rows=10&q=tsn:180243',\n",
       " 'originCollection': 'gapspecies',\n",
       " 'originDate': '2017-09-16T13:14:13.221514',\n",
       " 'originID': ObjectId('59b8436a0601bad0b9df100e')}"
      ]
     },
     "metadata": {},
     "output_type": "display_data"
    },
    {
     "data": {
      "text/plain": [
       "{'itisSearchURL': 'http://services.itis.gov/?wt=json&rows=10&q=tsn:180112',\n",
       " 'originCollection': 'gapspecies',\n",
       " 'originDate': '2017-09-16T13:14:13.401725',\n",
       " 'originID': ObjectId('59b8436a0601bad0b9df100f')}"
      ]
     },
     "metadata": {},
     "output_type": "display_data"
    },
    {
     "data": {
      "text/plain": [
       "{'itisSearchURL': 'http://services.itis.gov/?wt=json&rows=10&q=tsn:683027',\n",
       " 'originCollection': 'gapspecies',\n",
       " 'originDate': '2017-09-16T13:14:13.588011',\n",
       " 'originID': ObjectId('59b8436b0601bad0b9df1010')}"
      ]
     },
     "metadata": {},
     "output_type": "display_data"
    },
    {
     "data": {
      "text/plain": [
       "{'itisSearchURL': 'http://services.itis.gov/?wt=json&rows=10&q=tsn:174142',\n",
       " 'originCollection': 'gapspecies',\n",
       " 'originDate': '2017-09-16T13:14:13.771146',\n",
       " 'originID': ObjectId('59b8436b0601bad0b9df1011')}"
      ]
     },
     "metadata": {},
     "output_type": "display_data"
    },
    {
     "data": {
      "text/plain": [
       "{'itisSearchURL': 'http://services.itis.gov/?wt=json&rows=10&q=tsn:173952',\n",
       " 'originCollection': 'gapspecies',\n",
       " 'originDate': '2017-09-16T13:14:13.953264',\n",
       " 'originID': ObjectId('59b8436c0601bad0b9df1012')}"
      ]
     },
     "metadata": {},
     "output_type": "display_data"
    },
    {
     "data": {
      "text/plain": [
       "{'itisSearchURL': 'http://services.itis.gov/?wt=json&rows=10&q=tsn:209006',\n",
       " 'originCollection': 'gapspecies',\n",
       " 'originDate': '2017-09-16T13:14:14.144704',\n",
       " 'originID': ObjectId('59b8436c0601bad0b9df1013')}"
      ]
     },
     "metadata": {},
     "output_type": "display_data"
    },
    {
     "data": {
      "text/plain": [
       "{'itisSearchURL': 'http://services.itis.gov/?wt=json&rows=10&q=tsn:207283',\n",
       " 'originCollection': 'gapspecies',\n",
       " 'originDate': '2017-09-16T13:14:14.329169',\n",
       " 'originID': ObjectId('59b8436d0601bad0b9df1014')}"
      ]
     },
     "metadata": {},
     "output_type": "display_data"
    },
    {
     "data": {
      "text/plain": [
       "{'itisSearchURL': 'http://services.itis.gov/?wt=json&rows=10&q=tsn:173552',\n",
       " 'originCollection': 'gapspecies',\n",
       " 'originDate': '2017-09-16T13:14:14.513923',\n",
       " 'originID': ObjectId('59b8436d0601bad0b9df1015')}"
      ]
     },
     "metadata": {},
     "output_type": "display_data"
    },
    {
     "data": {
      "text/plain": [
       "{'itisSearchURL': 'http://services.itis.gov/?wt=json&rows=10&q=tsn:174216',\n",
       " 'originCollection': 'gapspecies',\n",
       " 'originDate': '2017-09-16T13:14:14.699357',\n",
       " 'originID': ObjectId('59b8436e0601bad0b9df1016')}"
      ]
     },
     "metadata": {},
     "output_type": "display_data"
    },
    {
     "data": {
      "text/plain": [
       "{'itisSearchURL': 'http://services.itis.gov/?wt=json&rows=10&q=tsn:563905',\n",
       " 'originCollection': 'gapspecies',\n",
       " 'originDate': '2017-09-16T13:14:14.879366',\n",
       " 'originID': ObjectId('59b8436e0601bad0b9df1017')}"
      ]
     },
     "metadata": {},
     "output_type": "display_data"
    },
    {
     "data": {
      "text/plain": [
       "{'itisSearchURL': 'http://services.itis.gov/?wt=json&rows=10&q=tsn:174312',\n",
       " 'originCollection': 'gapspecies',\n",
       " 'originDate': '2017-09-16T13:14:15.082801',\n",
       " 'originID': ObjectId('59b8436e0601bad0b9df1018')}"
      ]
     },
     "metadata": {},
     "output_type": "display_data"
    },
    {
     "data": {
      "text/plain": [
       "{'itisSearchURL': 'http://services.itis.gov/?wt=json&rows=10&q=tsn:174195',\n",
       " 'originCollection': 'gapspecies',\n",
       " 'originDate': '2017-09-16T13:14:15.346058',\n",
       " 'originID': ObjectId('59b8436f0601bad0b9df1019')}"
      ]
     },
     "metadata": {},
     "output_type": "display_data"
    },
    {
     "data": {
      "text/plain": [
       "{'itisSearchURL': 'http://services.itis.gov/?wt=json&rows=10&q=tsn:180024',\n",
       " 'originCollection': 'gapspecies',\n",
       " 'originDate': '2017-09-16T13:14:15.532892',\n",
       " 'originID': ObjectId('59b8436f0601bad0b9df101a')}"
      ]
     },
     "metadata": {},
     "output_type": "display_data"
    },
    {
     "data": {
      "text/plain": [
       "{'itisSearchURL': 'http://services.itis.gov/?wt=json&rows=10&q=tsn:174039',\n",
       " 'originCollection': 'gapspecies',\n",
       " 'originDate': '2017-09-16T13:14:15.721901',\n",
       " 'originID': ObjectId('59b843700601bad0b9df101b')}"
      ]
     },
     "metadata": {},
     "output_type": "display_data"
    },
    {
     "data": {
      "text/plain": [
       "{'itisSearchURL': 'http://services.itis.gov/?wt=json&rows=10&q=tsn:173882',\n",
       " 'originCollection': 'gapspecies',\n",
       " 'originDate': '2017-09-16T13:14:16.147298',\n",
       " 'originID': ObjectId('59b843700601bad0b9df101c')}"
      ]
     },
     "metadata": {},
     "output_type": "display_data"
    },
    {
     "data": {
      "text/plain": [
       "{'itisSearchURL': 'http://services.itis.gov/?wt=json&rows=10&q=tsn:175420',\n",
       " 'originCollection': 'gapspecies',\n",
       " 'originDate': '2017-09-16T13:14:16.465261',\n",
       " 'originID': ObjectId('59b843700601bad0b9df101d')}"
      ]
     },
     "metadata": {},
     "output_type": "display_data"
    },
    {
     "data": {
      "text/plain": [
       "{'itisSearchURL': 'http://services.itis.gov/?wt=json&rows=10&q=tsn:178436',\n",
       " 'originCollection': 'gapspecies',\n",
       " 'originDate': '2017-09-16T13:14:17.054545',\n",
       " 'originID': ObjectId('59b843710601bad0b9df101e')}"
      ]
     },
     "metadata": {},
     "output_type": "display_data"
    },
    {
     "data": {
      "text/plain": [
       "{'itisSearchURL': 'http://services.itis.gov/?wt=json&rows=10&q=tsn:180290',\n",
       " 'originCollection': 'gapspecies',\n",
       " 'originDate': '2017-09-16T13:14:17.693270',\n",
       " 'originID': ObjectId('59b843710601bad0b9df101f')}"
      ]
     },
     "metadata": {},
     "output_type": "display_data"
    },
    {
     "data": {
      "text/plain": [
       "{'itisSearchURL': 'http://services.itis.gov/?wt=json&rows=10&q=tsn:180290',\n",
       " 'originCollection': 'gapspecies',\n",
       " 'originDate': '2017-09-16T13:14:18.205104',\n",
       " 'originID': ObjectId('59b843720601bad0b9df1020')}"
      ]
     },
     "metadata": {},
     "output_type": "display_data"
    },
    {
     "data": {
      "text/plain": [
       "{'itisSearchURL': 'http://services.itis.gov/?wt=json&rows=10&q=tsn:176891',\n",
       " 'originCollection': 'gapspecies',\n",
       " 'originDate': '2017-09-16T13:14:18.842150',\n",
       " 'originID': ObjectId('59b843720601bad0b9df1021')}"
      ]
     },
     "metadata": {},
     "output_type": "display_data"
    },
    {
     "data": {
      "text/plain": [
       "{'itisSearchURL': 'http://services.itis.gov/?wt=json&rows=10&q=tsn:179955',\n",
       " 'originCollection': 'gapspecies',\n",
       " 'originDate': '2017-09-16T13:14:19.309304',\n",
       " 'originID': ObjectId('59b843730601bad0b9df1022')}"
      ]
     },
     "metadata": {},
     "output_type": "display_data"
    },
    {
     "data": {
      "text/plain": [
       "{'itisSearchURL': 'http://services.itis.gov/?wt=json&rows=10&q=tsn:180310',\n",
       " 'originCollection': 'gapspecies',\n",
       " 'originDate': '2017-09-16T13:14:19.630261',\n",
       " 'originID': ObjectId('59b843730601bad0b9df1023')}"
      ]
     },
     "metadata": {},
     "output_type": "display_data"
    },
    {
     "data": {
      "text/plain": [
       "{'itisSearchURL': 'http://services.itis.gov/?wt=json&rows=10&q=tsn:180248',\n",
       " 'originCollection': 'gapspecies',\n",
       " 'originDate': '2017-09-16T13:14:19.813171',\n",
       " 'originID': ObjectId('59b843730601bad0b9df1024')}"
      ]
     },
     "metadata": {},
     "output_type": "display_data"
    },
    {
     "data": {
      "text/plain": [
       "{'itisSearchURL': 'http://services.itis.gov/?wt=json&rows=10&q=tsn:552499',\n",
       " 'originCollection': 'gapspecies',\n",
       " 'originDate': '2017-09-16T13:14:20.007319',\n",
       " 'originID': ObjectId('59b843740601bad0b9df1025')}"
      ]
     },
     "metadata": {},
     "output_type": "display_data"
    },
    {
     "data": {
      "text/plain": [
       "{'itisSearchURL': 'http://services.itis.gov/?wt=json&rows=10&q=tsn:180176',\n",
       " 'originCollection': 'gapspecies',\n",
       " 'originDate': '2017-09-16T13:14:20.190085',\n",
       " 'originID': ObjectId('59b843740601bad0b9df1026')}"
      ]
     },
     "metadata": {},
     "output_type": "display_data"
    },
    {
     "data": {
      "text/plain": [
       "{'itisSearchURL': 'http://services.itis.gov/?wt=json&rows=10&q=tsn:206989',\n",
       " 'originCollection': 'gapspecies',\n",
       " 'originDate': '2017-09-16T13:14:20.382478',\n",
       " 'originID': ObjectId('59b843750601bad0b9df1027')}"
      ]
     },
     "metadata": {},
     "output_type": "display_data"
    },
    {
     "data": {
      "text/plain": [
       "{'itisSearchURL': 'http://services.itis.gov/?wt=json&rows=10&q=tsn:173499',\n",
       " 'originCollection': 'gapspecies',\n",
       " 'originDate': '2017-09-16T13:14:20.570567',\n",
       " 'originID': ObjectId('59b843750601bad0b9df1028')}"
      ]
     },
     "metadata": {},
     "output_type": "display_data"
    },
    {
     "data": {
      "text/plain": [
       "{'itisSearchURL': 'http://services.itis.gov/?wt=json&rows=10&q=tsn:180582',\n",
       " 'originCollection': 'gapspecies',\n",
       " 'originDate': '2017-09-16T13:14:20.757874',\n",
       " 'originID': ObjectId('59b843760601bad0b9df1029')}"
      ]
     },
     "metadata": {},
     "output_type": "display_data"
    },
    {
     "data": {
      "text/plain": [
       "{'itisSearchURL': 'http://services.itis.gov/?wt=json&rows=10&q=tsn:668293',\n",
       " 'originCollection': 'gapspecies',\n",
       " 'originDate': '2017-09-16T13:14:20.940172',\n",
       " 'originID': ObjectId('59b843760601bad0b9df102a')}"
      ]
     },
     "metadata": {},
     "output_type": "display_data"
    },
    {
     "data": {
      "text/plain": [
       "{'itisSearchURL': 'http://services.itis.gov/?wt=json&rows=10&q=tsn:710074',\n",
       " 'originCollection': 'gapspecies',\n",
       " 'originDate': '2017-09-16T13:14:21.129280',\n",
       " 'originID': ObjectId('59b843760601bad0b9df102b')}"
      ]
     },
     "metadata": {},
     "output_type": "display_data"
    },
    {
     "data": {
      "text/plain": [
       "{'itisSearchURL': 'http://services.itis.gov/?wt=json&rows=10&q=tsn:174021',\n",
       " 'originCollection': 'gapspecies',\n",
       " 'originDate': '2017-09-16T13:14:21.311619',\n",
       " 'originID': ObjectId('59b843770601bad0b9df102c')}"
      ]
     },
     "metadata": {},
     "output_type": "display_data"
    },
    {
     "data": {
      "text/plain": [
       "{'itisSearchURL': 'http://services.itis.gov/?wt=json&rows=10&q=tsn:173630',\n",
       " 'originCollection': 'gapspecies',\n",
       " 'originDate': '2017-09-16T13:14:21.491225',\n",
       " 'originID': ObjectId('59b843770601bad0b9df102d')}"
      ]
     },
     "metadata": {},
     "output_type": "display_data"
    },
    {
     "data": {
      "text/plain": [
       "{'itisSearchURL': 'http://services.itis.gov/?wt=json&rows=10&q=tsn:173912',\n",
       " 'originCollection': 'gapspecies',\n",
       " 'originDate': '2017-09-16T13:14:21.677875',\n",
       " 'originID': ObjectId('59b843780601bad0b9df102e')}"
      ]
     },
     "metadata": {},
     "output_type": "display_data"
    },
    {
     "data": {
      "text/plain": [
       "{'itisSearchURL': 'http://services.itis.gov/?wt=json&rows=10&q=tsn:551768',\n",
       " 'originCollection': 'gapspecies',\n",
       " 'originDate': '2017-09-16T13:14:21.860856',\n",
       " 'originID': ObjectId('59b843780601bad0b9df102f')}"
      ]
     },
     "metadata": {},
     "output_type": "display_data"
    },
    {
     "data": {
      "text/plain": [
       "{'itisSearchURL': 'http://services.itis.gov/?wt=json&rows=10&q=tsn:173966',\n",
       " 'originCollection': 'gapspecies',\n",
       " 'originDate': '2017-09-16T13:14:22.055388',\n",
       " 'originID': ObjectId('59b843780601bad0b9df1030')}"
      ]
     },
     "metadata": {},
     "output_type": "display_data"
    },
    {
     "data": {
      "text/plain": [
       "{'itisSearchURL': 'http://services.itis.gov/?wt=json&rows=10&q=tsn:551770',\n",
       " 'originCollection': 'gapspecies',\n",
       " 'originDate': '2017-09-16T13:14:22.237917',\n",
       " 'originID': ObjectId('59b843790601bad0b9df1031')}"
      ]
     },
     "metadata": {},
     "output_type": "display_data"
    },
    {
     "data": {
      "text/plain": [
       "{'itisSearchURL': 'http://services.itis.gov/?wt=json&rows=10&q=tsn:726284',\n",
       " 'originCollection': 'gapspecies',\n",
       " 'originDate': '2017-09-16T13:14:22.435559',\n",
       " 'originID': ObjectId('59b843790601bad0b9df1032')}"
      ]
     },
     "metadata": {},
     "output_type": "display_data"
    },
    {
     "data": {
      "text/plain": [
       "{'itisSearchURL': 'http://services.itis.gov/?wt=json&rows=10&q=tsn:180402',\n",
       " 'originCollection': 'gapspecies',\n",
       " 'originDate': '2017-09-16T13:14:22.617457',\n",
       " 'originID': ObjectId('59b843790601bad0b9df1033')}"
      ]
     },
     "metadata": {},
     "output_type": "display_data"
    },
    {
     "data": {
      "text/plain": [
       "{'itisSearchURL': 'http://services.itis.gov/?wt=json&rows=10&q=tsn:174296',\n",
       " 'originCollection': 'gapspecies',\n",
       " 'originDate': '2017-09-16T13:14:22.805754',\n",
       " 'originID': ObjectId('59b8437a0601bad0b9df1034')}"
      ]
     },
     "metadata": {},
     "output_type": "display_data"
    },
    {
     "data": {
      "text/plain": [
       "{'itisSearchURL': 'http://services.itis.gov/?wt=json&rows=10&q=tsn:209384',\n",
       " 'originCollection': 'gapspecies',\n",
       " 'originDate': '2017-09-16T13:14:23.020131',\n",
       " 'originID': ObjectId('59b8437a0601bad0b9df1035')}"
      ]
     },
     "metadata": {},
     "output_type": "display_data"
    },
    {
     "data": {
      "text/plain": [
       "{'itisSearchURL': 'http://services.itis.gov/?wt=json&rows=10&q=tsn:209247',\n",
       " 'originCollection': 'gapspecies',\n",
       " 'originDate': '2017-09-16T13:14:23.284512',\n",
       " 'originID': ObjectId('59b8437b0601bad0b9df1036')}"
      ]
     },
     "metadata": {},
     "output_type": "display_data"
    },
    {
     "data": {
      "text/plain": [
       "{'itisSearchURL': 'http://services.itis.gov/?wt=json&rows=10&q=tsn:174136',\n",
       " 'originCollection': 'gapspecies',\n",
       " 'originDate': '2017-09-16T13:14:23.492748',\n",
       " 'originID': ObjectId('59b8437b0601bad0b9df1037')}"
      ]
     },
     "metadata": {},
     "output_type": "display_data"
    },
    {
     "data": {
      "text/plain": [
       "{'itisSearchURL': 'http://services.itis.gov/?wt=json&rows=10&q=tsn:174134',\n",
       " 'originCollection': 'gapspecies',\n",
       " 'originDate': '2017-09-16T13:14:23.683819',\n",
       " 'originID': ObjectId('59b8437c0601bad0b9df1038')}"
      ]
     },
     "metadata": {},
     "output_type": "display_data"
    },
    {
     "data": {
      "text/plain": [
       "{'itisSearchURL': 'http://services.itis.gov/?wt=json&rows=10&q=tsn:173776',\n",
       " 'originCollection': 'gapspecies',\n",
       " 'originDate': '2017-09-16T13:14:23.864755',\n",
       " 'originID': ObjectId('59b8437c0601bad0b9df1039')}"
      ]
     },
     "metadata": {},
     "output_type": "display_data"
    },
    {
     "data": {
      "text/plain": [
       "{'itisSearchURL': 'http://services.itis.gov/?wt=json&rows=10&q=tsn:683033',\n",
       " 'originCollection': 'gapspecies',\n",
       " 'originDate': '2017-09-16T13:14:24.051031',\n",
       " 'originID': ObjectId('59b848bb3339a2d2a5efaefd')}"
      ]
     },
     "metadata": {},
     "output_type": "display_data"
    },
    {
     "data": {
      "text/plain": [
       "{'itisSearchURL': 'http://services.itis.gov/?wt=json&rows=10&q=tsn:209382',\n",
       " 'originCollection': 'gapspecies',\n",
       " 'originDate': '2017-09-16T13:14:24.241433',\n",
       " 'originID': ObjectId('59b848bc3339a2d2a5efaefe')}"
      ]
     },
     "metadata": {},
     "output_type": "display_data"
    },
    {
     "data": {
      "text/plain": [
       "{'itisSearchURL': 'http://services.itis.gov/?wt=json&rows=10&q=tsn:173672',\n",
       " 'originCollection': 'gapspecies',\n",
       " 'originDate': '2017-09-16T13:14:24.429202',\n",
       " 'originID': ObjectId('59b848bc3339a2d2a5efaeff')}"
      ]
     },
     "metadata": {},
     "output_type": "display_data"
    },
    {
     "data": {
      "text/plain": [
       "{'itisSearchURL': 'http://services.itis.gov/?wt=json&rows=10&q=tsn:175397',\n",
       " 'originCollection': 'gapspecies',\n",
       " 'originDate': '2017-09-16T13:14:24.618794',\n",
       " 'originID': ObjectId('59b848bc3339a2d2a5efaf00')}"
      ]
     },
     "metadata": {},
     "output_type": "display_data"
    },
    {
     "data": {
      "text/plain": [
       "{'itisSearchURL': 'http://services.itis.gov/?wt=json&rows=10&q=tsn:553896',\n",
       " 'originCollection': 'gapspecies',\n",
       " 'originDate': '2017-09-16T13:14:24.810127',\n",
       " 'originID': ObjectId('59b848bc3339a2d2a5efaf01')}"
      ]
     },
     "metadata": {},
     "output_type": "display_data"
    },
    {
     "data": {
      "text/plain": [
       "{'itisSearchURL': 'http://services.itis.gov/?wt=json&rows=10&q=tsn:175841',\n",
       " 'originCollection': 'gapspecies',\n",
       " 'originDate': '2017-09-16T13:14:25.015180',\n",
       " 'originID': ObjectId('59b848bd3339a2d2a5efaf02')}"
      ]
     },
     "metadata": {},
     "output_type": "display_data"
    },
    {
     "data": {
      "text/plain": [
       "{'itisSearchURL': 'http://services.itis.gov/?wt=json&rows=10&q=tsn:180314',\n",
       " 'originCollection': 'gapspecies',\n",
       " 'originDate': '2017-09-16T13:14:25.197333',\n",
       " 'originID': ObjectId('59b848bd3339a2d2a5efaf03')}"
      ]
     },
     "metadata": {},
     "output_type": "display_data"
    },
    {
     "data": {
      "text/plain": [
       "{'itisSearchURL': 'http://services.itis.gov/?wt=json&rows=10&q=tsn:174479',\n",
       " 'originCollection': 'gapspecies',\n",
       " 'originDate': '2017-09-16T13:14:25.386888',\n",
       " 'originID': ObjectId('59b848bd3339a2d2a5efaf04')}"
      ]
     },
     "metadata": {},
     "output_type": "display_data"
    },
    {
     "data": {
      "text/plain": [
       "{'itisSearchURL': 'http://services.itis.gov/?wt=json&rows=10&q=tsn:176841',\n",
       " 'originCollection': 'gapspecies',\n",
       " 'originDate': '2017-09-16T13:14:25.725699',\n",
       " 'originID': ObjectId('59b848bd3339a2d2a5efaf05')}"
      ]
     },
     "metadata": {},
     "output_type": "display_data"
    },
    {
     "data": {
      "text/plain": [
       "{'itisSearchURL': 'http://services.itis.gov/?wt=json&rows=10&q=tsn:179628',\n",
       " 'originCollection': 'gapspecies',\n",
       " 'originDate': '2017-09-16T13:14:26.304776',\n",
       " 'originID': ObjectId('59b848bd3339a2d2a5efaf06')}"
      ]
     },
     "metadata": {},
     "output_type": "display_data"
    },
    {
     "data": {
      "text/plain": [
       "{'itisSearchURL': 'http://services.itis.gov/?wt=json&rows=10&q=tsn:175134',\n",
       " 'originCollection': 'gapspecies',\n",
       " 'originDate': '2017-09-16T13:14:26.820358',\n",
       " 'originID': ObjectId('59b848be3339a2d2a5efaf07')}"
      ]
     },
     "metadata": {},
     "output_type": "display_data"
    },
    {
     "data": {
      "text/plain": [
       "{'itisSearchURL': 'http://services.itis.gov/?wt=json&rows=10&q=tsn:178866',\n",
       " 'originCollection': 'gapspecies',\n",
       " 'originDate': '2017-09-16T13:14:27.462911',\n",
       " 'originID': ObjectId('59b848be3339a2d2a5efaf08')}"
      ]
     },
     "metadata": {},
     "output_type": "display_data"
    },
    {
     "data": {
      "text/plain": [
       "{'itisSearchURL': 'http://services.itis.gov/?wt=json&rows=10&q=tsn:175893',\n",
       " 'originCollection': 'gapspecies',\n",
       " 'originDate': '2017-09-16T13:14:27.972083',\n",
       " 'originID': ObjectId('59b848be3339a2d2a5efaf09')}"
      ]
     },
     "metadata": {},
     "output_type": "display_data"
    },
    {
     "data": {
      "text/plain": [
       "{'itisSearchURL': 'http://services.itis.gov/?wt=json&rows=10&q=tsn:176242',\n",
       " 'originCollection': 'gapspecies',\n",
       " 'originDate': '2017-09-16T13:14:28.608453',\n",
       " 'originID': ObjectId('59b848bf3339a2d2a5efaf0a')}"
      ]
     },
     "metadata": {},
     "output_type": "display_data"
    },
    {
     "data": {
      "text/plain": [
       "{'itisSearchURL': 'http://services.itis.gov/?wt=json&rows=10&q=tsn:179150',\n",
       " 'originCollection': 'gapspecies',\n",
       " 'originDate': '2017-09-16T13:14:29.080844',\n",
       " 'originID': ObjectId('59b848bf3339a2d2a5efaf0b')}"
      ]
     },
     "metadata": {},
     "output_type": "display_data"
    },
    {
     "data": {
      "text/plain": [
       "{'itisSearchURL': 'http://services.itis.gov/?wt=json&rows=10&q=tsn:179151',\n",
       " 'originCollection': 'gapspecies',\n",
       " 'originDate': '2017-09-16T13:14:29.440217',\n",
       " 'originID': ObjectId('59b848c03339a2d2a5efaf0c')}"
      ]
     },
     "metadata": {},
     "output_type": "display_data"
    },
    {
     "data": {
      "text/plain": [
       "{'itisSearchURL': 'http://services.itis.gov/?wt=json&rows=10&q=tsn:174555',\n",
       " 'originCollection': 'gapspecies',\n",
       " 'originDate': '2017-09-16T13:14:29.623797',\n",
       " 'originID': ObjectId('59b848c13339a2d2a5efaf0d')}"
      ]
     },
     "metadata": {},
     "output_type": "display_data"
    },
    {
     "data": {
      "text/plain": [
       "{'itisSearchURL': 'http://services.itis.gov/?wt=json&rows=10&q=tsn:206990',\n",
       " 'originCollection': 'gapspecies',\n",
       " 'originDate': '2017-09-16T13:14:29.805292',\n",
       " 'originID': ObjectId('59b848c13339a2d2a5efaf0e')}"
      ]
     },
     "metadata": {},
     "output_type": "display_data"
    },
    {
     "data": {
      "text/plain": [
       "{'itisSearchURL': 'http://services.itis.gov/?wt=json&rows=10&q=tsn:179953',\n",
       " 'originCollection': 'gapspecies',\n",
       " 'originDate': '2017-09-16T13:14:29.994149',\n",
       " 'originID': ObjectId('59b848c13339a2d2a5efaf0f')}"
      ]
     },
     "metadata": {},
     "output_type": "display_data"
    },
    {
     "data": {
      "text/plain": [
       "{'itisSearchURL': 'http://services.itis.gov/?wt=json&rows=10&q=tsn:175908',\n",
       " 'originCollection': 'gapspecies',\n",
       " 'originDate': '2017-09-16T13:14:30.179227',\n",
       " 'originID': ObjectId('59b848c23339a2d2a5efaf10')}"
      ]
     },
     "metadata": {},
     "output_type": "display_data"
    },
    {
     "data": {
      "text/plain": [
       "{'itisSearchURL': 'http://services.itis.gov/?wt=json&rows=10&q=tsn:726198',\n",
       " 'originCollection': 'gapspecies',\n",
       " 'originDate': '2017-09-16T13:14:30.360074',\n",
       " 'originID': ObjectId('59b848c23339a2d2a5efaf11')}"
      ]
     },
     "metadata": {},
     "output_type": "display_data"
    },
    {
     "data": {
      "text/plain": [
       "{'itisSearchURL': 'http://services.itis.gov/?wt=json&rows=10&q=tsn:176829',\n",
       " 'originCollection': 'gapspecies',\n",
       " 'originDate': '2017-09-16T13:14:30.545490',\n",
       " 'originID': ObjectId('59b848c33339a2d2a5efaf12')}"
      ]
     },
     "metadata": {},
     "output_type": "display_data"
    },
    {
     "data": {
      "text/plain": [
       "{'itisSearchURL': 'http://services.itis.gov/?wt=json&rows=10&q=tsn:179712',\n",
       " 'originCollection': 'gapspecies',\n",
       " 'originDate': '2017-09-16T13:14:30.733522',\n",
       " 'originID': ObjectId('59b848c33339a2d2a5efaf13')}"
      ]
     },
     "metadata": {},
     "output_type": "display_data"
    },
    {
     "data": {
      "text/plain": [
       "{'itisSearchURL': 'http://services.itis.gov/?wt=json&rows=10&q=tsn:178532',\n",
       " 'originCollection': 'gapspecies',\n",
       " 'originDate': '2017-09-16T13:14:30.917949',\n",
       " 'originID': ObjectId('59b848c33339a2d2a5efaf14')}"
      ]
     },
     "metadata": {},
     "output_type": "display_data"
    },
    {
     "data": {
      "text/plain": [
       "{'itisSearchURL': 'http://services.itis.gov/?wt=json&rows=10&q=tsn:177152',\n",
       " 'originCollection': 'gapspecies',\n",
       " 'originDate': '2017-09-16T13:14:31.099989',\n",
       " 'originID': ObjectId('59b848c43339a2d2a5efaf15')}"
      ]
     },
     "metadata": {},
     "output_type": "display_data"
    },
    {
     "data": {
      "text/plain": [
       "{'itisSearchURL': 'http://services.itis.gov/?wt=json&rows=10&q=tsn:179461',\n",
       " 'originCollection': 'gapspecies',\n",
       " 'originDate': '2017-09-16T13:14:31.282166',\n",
       " 'originID': ObjectId('59b848c53339a2d2a5efaf16')}"
      ]
     },
     "metadata": {},
     "output_type": "display_data"
    },
    {
     "data": {
      "text/plain": [
       "{'itisSearchURL': 'http://services.itis.gov/?wt=json&rows=10&q=tsn:180290',\n",
       " 'originCollection': 'gapspecies',\n",
       " 'originDate': '2017-09-16T13:14:31.466432',\n",
       " 'originID': ObjectId('59b848c53339a2d2a5efaf17')}"
      ]
     },
     "metadata": {},
     "output_type": "display_data"
    },
    {
     "data": {
      "text/plain": [
       "{'itisSearchURL': 'http://services.itis.gov/?wt=json&rows=10&q=tsn:180158',\n",
       " 'originCollection': 'gapspecies',\n",
       " 'originDate': '2017-09-16T13:14:31.654157',\n",
       " 'originID': ObjectId('59b848c53339a2d2a5efaf18')}"
      ]
     },
     "metadata": {},
     "output_type": "display_data"
    },
    {
     "data": {
      "text/plain": [
       "{'itisSearchURL': 'http://services.itis.gov/?wt=json&rows=10&q=tsn:180200',\n",
       " 'originCollection': 'gapspecies',\n",
       " 'originDate': '2017-09-16T13:14:31.836958',\n",
       " 'originID': ObjectId('59b848c63339a2d2a5efaf19')}"
      ]
     },
     "metadata": {},
     "output_type": "display_data"
    },
    {
     "data": {
      "text/plain": [
       "{'itisSearchURL': 'http://services.itis.gov/?wt=json&rows=10&q=tsn:178288',\n",
       " 'originCollection': 'gapspecies',\n",
       " 'originDate': '2017-09-16T13:14:32.021891',\n",
       " 'originID': ObjectId('59b848c63339a2d2a5efaf1a')}"
      ]
     },
     "metadata": {},
     "output_type": "display_data"
    },
    {
     "data": {
      "text/plain": [
       "{'itisSearchURL': 'http://services.itis.gov/?wt=json&rows=10&q=tsn:175129',\n",
       " 'originCollection': 'gapspecies',\n",
       " 'originDate': '2017-09-16T13:14:32.203366',\n",
       " 'originID': ObjectId('59b848c63339a2d2a5efaf1b')}"
      ]
     },
     "metadata": {},
     "output_type": "display_data"
    },
    {
     "data": {
      "text/plain": [
       "{'itisSearchURL': 'http://services.itis.gov/?wt=json&rows=10&q=tsn:774547',\n",
       " 'originCollection': 'gapspecies',\n",
       " 'originDate': '2017-09-16T13:14:32.387897',\n",
       " 'originID': ObjectId('59b848c63339a2d2a5efaf1c')}"
      ]
     },
     "metadata": {},
     "output_type": "display_data"
    },
    {
     "data": {
      "text/plain": [
       "{'itisSearchURL': 'http://services.itis.gov/?wt=json&rows=10&q=tsn:173446',\n",
       " 'originCollection': 'gapspecies',\n",
       " 'originDate': '2017-09-16T13:14:32.569868',\n",
       " 'originID': ObjectId('59b848c73339a2d2a5efaf1d')}"
      ]
     },
     "metadata": {},
     "output_type": "display_data"
    },
    {
     "data": {
      "text/plain": [
       "{'itisSearchURL': 'http://services.itis.gov/?wt=json&rows=10&q=tsn:180288',\n",
       " 'originCollection': 'gapspecies',\n",
       " 'originDate': '2017-09-16T13:14:32.754339',\n",
       " 'originID': ObjectId('59b848c73339a2d2a5efaf1e')}"
      ]
     },
     "metadata": {},
     "output_type": "display_data"
    },
    {
     "data": {
      "text/plain": [
       "{'itisSearchURL': 'http://services.itis.gov/?wt=json&rows=10&q=tsn:206993',\n",
       " 'originCollection': 'gapspecies',\n",
       " 'originDate': '2017-09-16T13:14:32.957071',\n",
       " 'originID': ObjectId('59b848c73339a2d2a5efaf1f')}"
      ]
     },
     "metadata": {},
     "output_type": "display_data"
    },
    {
     "data": {
      "text/plain": [
       "{'itisSearchURL': 'http://services.itis.gov/?wt=json&rows=10&q=tsn:180297',\n",
       " 'originCollection': 'gapspecies',\n",
       " 'originDate': '2017-09-16T13:14:33.137888',\n",
       " 'originID': ObjectId('59b848c83339a2d2a5efaf20')}"
      ]
     },
     "metadata": {},
     "output_type": "display_data"
    },
    {
     "data": {
      "text/plain": [
       "{'itisSearchURL': 'http://services.itis.gov/?wt=json&rows=10&q=tsn:179941',\n",
       " 'originCollection': 'gapspecies',\n",
       " 'originDate': '2017-09-16T13:14:33.326479',\n",
       " 'originID': ObjectId('59b848c83339a2d2a5efaf21')}"
      ]
     },
     "metadata": {},
     "output_type": "display_data"
    },
    {
     "data": {
      "text/plain": [
       "{'itisSearchURL': 'http://services.itis.gov/?wt=json&rows=10&q=tsn:775107',\n",
       " 'originCollection': 'gapspecies',\n",
       " 'originDate': '2017-09-16T13:14:33.514458',\n",
       " 'originID': ObjectId('59b848c83339a2d2a5efaf22')}"
      ]
     },
     "metadata": {},
     "output_type": "display_data"
    },
    {
     "data": {
      "text/plain": [
       "{'itisSearchURL': 'http://services.itis.gov/?wt=json&rows=10&q=tsn:178033',\n",
       " 'originCollection': 'gapspecies',\n",
       " 'originDate': '2017-09-16T13:14:33.697780',\n",
       " 'originID': ObjectId('59b848c93339a2d2a5efaf23')}"
      ]
     },
     "metadata": {},
     "output_type": "display_data"
    },
    {
     "data": {
      "text/plain": [
       "{'itisSearchURL': 'http://services.itis.gov/?wt=json&rows=10&q=tsn:179140',\n",
       " 'originCollection': 'gapspecies',\n",
       " 'originDate': '2017-09-16T13:14:33.910308',\n",
       " 'originID': ObjectId('59b848c93339a2d2a5efaf24')}"
      ]
     },
     "metadata": {},
     "output_type": "display_data"
    },
    {
     "data": {
      "text/plain": [
       "{'itisSearchURL': 'http://services.itis.gov/?wt=json&rows=10&q=tsn:179010',\n",
       " 'originCollection': 'gapspecies',\n",
       " 'originDate': '2017-09-16T13:14:34.094875',\n",
       " 'originID': ObjectId('59b848c93339a2d2a5efaf25')}"
      ]
     },
     "metadata": {},
     "output_type": "display_data"
    },
    {
     "data": {
      "text/plain": [
       "{'itisSearchURL': 'http://services.itis.gov/?wt=json&rows=10&q=tsn:970629',\n",
       " 'originCollection': 'gapspecies',\n",
       " 'originDate': '2017-09-16T13:14:34.275533',\n",
       " 'originID': ObjectId('59b848ca3339a2d2a5efaf26')}"
      ]
     },
     "metadata": {},
     "output_type": "display_data"
    },
    {
     "data": {
      "text/plain": [
       "{'itisSearchURL': 'http://services.itis.gov/?wt=json&rows=10&q=tsn:208940',\n",
       " 'originCollection': 'gapspecies',\n",
       " 'originDate': '2017-09-16T13:14:34.486814',\n",
       " 'originID': ObjectId('59b848ca3339a2d2a5efaf27')}"
      ]
     },
     "metadata": {},
     "output_type": "display_data"
    },
    {
     "data": {
      "text/plain": [
       "{'itisSearchURL': 'http://services.itis.gov/?wt=json&rows=10&q=tsn:173629',\n",
       " 'originCollection': 'gapspecies',\n",
       " 'originDate': '2017-09-16T13:14:34.672460',\n",
       " 'originID': ObjectId('59b848ca3339a2d2a5efaf28')}"
      ]
     },
     "metadata": {},
     "output_type": "display_data"
    },
    {
     "data": {
      "text/plain": [
       "{'itisSearchURL': 'http://services.itis.gov/?wt=json&rows=10&q=tsn:178279',\n",
       " 'originCollection': 'gapspecies',\n",
       " 'originDate': '2017-09-16T13:14:34.856532',\n",
       " 'originID': ObjectId('59b848cb3339a2d2a5efaf29')}"
      ]
     },
     "metadata": {},
     "output_type": "display_data"
    },
    {
     "data": {
      "text/plain": [
       "{'itisSearchURL': 'http://services.itis.gov/?wt=json&rows=10&q=tsn:177025',\n",
       " 'originCollection': 'gapspecies',\n",
       " 'originDate': '2017-09-16T13:14:35.036488',\n",
       " 'originID': ObjectId('59b848cb3339a2d2a5efaf2a')}"
      ]
     },
     "metadata": {},
     "output_type": "display_data"
    },
    {
     "data": {
      "text/plain": [
       "{'itisSearchURL': 'http://services.itis.gov/?wt=json&rows=10&q=tsn:208295',\n",
       " 'originCollection': 'gapspecies',\n",
       " 'originDate': '2017-09-16T13:14:35.224591',\n",
       " 'originID': ObjectId('59b848cb3339a2d2a5efaf2b')}"
      ]
     },
     "metadata": {},
     "output_type": "display_data"
    },
    {
     "data": {
      "text/plain": [
       "{'itisSearchURL': 'http://services.itis.gov/?wt=json&rows=10&q=tsn:550545',\n",
       " 'originCollection': 'gapspecies',\n",
       " 'originDate': '2017-09-16T13:14:35.751172',\n",
       " 'originID': ObjectId('59b848cb3339a2d2a5efaf2c')}"
      ]
     },
     "metadata": {},
     "output_type": "display_data"
    },
    {
     "data": {
      "text/plain": [
       "{'itisSearchURL': 'http://services.itis.gov/?wt=json&rows=10&q=tsn:554127',\n",
       " 'originCollection': 'gapspecies',\n",
       " 'originDate': '2017-09-16T13:14:36.051323',\n",
       " 'originID': ObjectId('59b848cc3339a2d2a5efaf2d')}"
      ]
     },
     "metadata": {},
     "output_type": "display_data"
    },
    {
     "data": {
      "text/plain": [
       "{'itisSearchURL': 'http://services.itis.gov/?wt=json&rows=10&q=tsn:176982',\n",
       " 'originCollection': 'gapspecies',\n",
       " 'originDate': '2017-09-16T13:14:36.564884',\n",
       " 'originID': ObjectId('59b848cc3339a2d2a5efaf2e')}"
      ]
     },
     "metadata": {},
     "output_type": "display_data"
    },
    {
     "data": {
      "text/plain": [
       "{'itisSearchURL': 'http://services.itis.gov/?wt=json&rows=10&q=tsn:180086',\n",
       " 'originCollection': 'gapspecies',\n",
       " 'originDate': '2017-09-16T13:14:37.036981',\n",
       " 'originID': ObjectId('59b848cd3339a2d2a5efaf2f')}"
      ]
     },
     "metadata": {},
     "output_type": "display_data"
    },
    {
     "data": {
      "text/plain": [
       "{'itisSearchURL': 'http://services.itis.gov/?wt=json&rows=10&q=tsn:180711',\n",
       " 'originCollection': 'gapspecies',\n",
       " 'originDate': '2017-09-16T13:14:37.549078',\n",
       " 'originID': ObjectId('59b848cd3339a2d2a5efaf30')}"
      ]
     },
     "metadata": {},
     "output_type": "display_data"
    },
    {
     "data": {
      "text/plain": [
       "{'itisSearchURL': 'http://services.itis.gov/?wt=json&rows=10&q=tsn:773522',\n",
       " 'originCollection': 'gapspecies',\n",
       " 'originDate': '2017-09-16T13:14:38.369516',\n",
       " 'originID': ObjectId('59b848cd3339a2d2a5efaf31')}"
      ]
     },
     "metadata": {},
     "output_type": "display_data"
    },
    {
     "data": {
      "text/plain": [
       "{'itisSearchURL': 'http://services.itis.gov/?wt=json&rows=10&q=tsn:174485',\n",
       " 'originCollection': 'gapspecies',\n",
       " 'originDate': '2017-09-16T13:14:38.841395',\n",
       " 'originID': ObjectId('59b848ce3339a2d2a5efaf32')}"
      ]
     },
     "metadata": {},
     "output_type": "display_data"
    },
    {
     "data": {
      "text/plain": [
       "{'itisSearchURL': 'http://services.itis.gov/?wt=json&rows=10&q=tsn:178938',\n",
       " 'originCollection': 'gapspecies',\n",
       " 'originDate': '2017-09-16T13:14:39.130949',\n",
       " 'originID': ObjectId('59b848ce3339a2d2a5efaf33')}"
      ]
     },
     "metadata": {},
     "output_type": "display_data"
    },
    {
     "data": {
      "text/plain": [
       "{'itisSearchURL': 'http://services.itis.gov/?wt=json&rows=10&q=tsn:180080',\n",
       " 'originCollection': 'gapspecies',\n",
       " 'originDate': '2017-09-16T13:14:39.314814',\n",
       " 'originID': ObjectId('59b848cf3339a2d2a5efaf34')}"
      ]
     },
     "metadata": {},
     "output_type": "display_data"
    },
    {
     "data": {
      "text/plain": [
       "{'itisSearchURL': 'http://services.itis.gov/?wt=json&rows=10&q=tsn:178341',\n",
       " 'originCollection': 'gapspecies',\n",
       " 'originDate': '2017-09-16T13:14:39.499259',\n",
       " 'originID': ObjectId('59b848cf3339a2d2a5efaf35')}"
      ]
     },
     "metadata": {},
     "output_type": "display_data"
    },
    {
     "data": {
      "text/plain": [
       "{'itisSearchURL': 'http://services.itis.gov/?wt=json&rows=10&q=tsn:179630',\n",
       " 'originCollection': 'gapspecies',\n",
       " 'originDate': '2017-09-16T13:14:39.704378',\n",
       " 'originID': ObjectId('59b848cf3339a2d2a5efaf36')}"
      ]
     },
     "metadata": {},
     "output_type": "display_data"
    },
    {
     "data": {
      "text/plain": [
       "{'itisSearchURL': 'http://services.itis.gov/?wt=json&rows=10&q=tsn:176475',\n",
       " 'originCollection': 'gapspecies',\n",
       " 'originDate': '2017-09-16T13:14:39.891717',\n",
       " 'originID': ObjectId('59b848cf3339a2d2a5efaf37')}"
      ]
     },
     "metadata": {},
     "output_type": "display_data"
    },
    {
     "data": {
      "text/plain": [
       "{'itisSearchURL': 'http://services.itis.gov/?wt=json&rows=10&q=tsn:176176',\n",
       " 'originCollection': 'gapspecies',\n",
       " 'originDate': '2017-09-16T13:14:40.075611',\n",
       " 'originID': ObjectId('59b848d03339a2d2a5efaf38')}"
      ]
     },
     "metadata": {},
     "output_type": "display_data"
    },
    {
     "data": {
      "text/plain": [
       "{'itisSearchURL': 'http://services.itis.gov/?wt=json&rows=10&q=tsn:179945',\n",
       " 'originCollection': 'gapspecies',\n",
       " 'originDate': '2017-09-16T13:14:40.255874',\n",
       " 'originID': ObjectId('59b848d03339a2d2a5efaf39')}"
      ]
     },
     "metadata": {},
     "output_type": "display_data"
    },
    {
     "data": {
      "text/plain": [
       "{'itisSearchURL': 'http://services.itis.gov/?wt=json&rows=10&q=tsn:180157',\n",
       " 'originCollection': 'gapspecies',\n",
       " 'originDate': '2017-09-16T13:14:40.471755',\n",
       " 'originID': ObjectId('59b848d03339a2d2a5efaf3a')}"
      ]
     },
     "metadata": {},
     "output_type": "display_data"
    },
    {
     "data": {
      "text/plain": [
       "{'itisSearchURL': 'http://services.itis.gov/?wt=json&rows=10&q=tsn:175369',\n",
       " 'originCollection': 'gapspecies',\n",
       " 'originDate': '2017-09-16T13:14:40.697883',\n",
       " 'originID': ObjectId('59b848d03339a2d2a5efaf3b')}"
      ]
     },
     "metadata": {},
     "output_type": "display_data"
    },
    {
     "data": {
      "text/plain": [
       "{'itisSearchURL': 'http://services.itis.gov/?wt=json&rows=10&q=tsn:625180',\n",
       " 'originCollection': 'gapspecies',\n",
       " 'originDate': '2017-09-16T13:14:40.884546',\n",
       " 'originID': ObjectId('59b848d13339a2d2a5efaf3c')}"
      ]
     },
     "metadata": {},
     "output_type": "display_data"
    },
    {
     "data": {
      "text/plain": [
       "{'itisSearchURL': 'http://services.itis.gov/?wt=json&rows=10&q=tsn:173696',\n",
       " 'originCollection': 'gapspecies',\n",
       " 'originDate': '2017-09-16T13:14:41.069223',\n",
       " 'originID': ObjectId('59b848d13339a2d2a5efaf3d')}"
      ]
     },
     "metadata": {},
     "output_type": "display_data"
    },
    {
     "data": {
      "text/plain": [
       "{'itisSearchURL': 'http://services.itis.gov/?wt=json&rows=10&q=tsn:180388',\n",
       " 'originCollection': 'gapspecies',\n",
       " 'originDate': '2017-09-16T13:14:41.258649',\n",
       " 'originID': ObjectId('59b848d13339a2d2a5efaf3e')}"
      ]
     },
     "metadata": {},
     "output_type": "display_data"
    },
    {
     "data": {
      "text/plain": [
       "{'itisSearchURL': 'http://services.itis.gov/?wt=json&rows=10&q=tsn:176815',\n",
       " 'originCollection': 'gapspecies',\n",
       " 'originDate': '2017-09-16T13:14:41.458494',\n",
       " 'originID': ObjectId('59b848d13339a2d2a5efaf3f')}"
      ]
     },
     "metadata": {},
     "output_type": "display_data"
    },
    {
     "data": {
      "text/plain": [
       "{'itisSearchURL': 'http://services.itis.gov/?wt=json&rows=10&q=tsn:175595',\n",
       " 'originCollection': 'gapspecies',\n",
       " 'originDate': '2017-09-16T13:14:41.662966',\n",
       " 'originID': ObjectId('59b848d23339a2d2a5efaf40')}"
      ]
     },
     "metadata": {},
     "output_type": "display_data"
    },
    {
     "data": {
      "text/plain": [
       "{'itisSearchURL': 'http://services.itis.gov/?wt=json&rows=10&q=tsn:177139',\n",
       " 'originCollection': 'gapspecies',\n",
       " 'originDate': '2017-09-16T13:14:41.850014',\n",
       " 'originID': ObjectId('59b848d23339a2d2a5efaf41')}"
      ]
     },
     "metadata": {},
     "output_type": "display_data"
    },
    {
     "data": {
      "text/plain": [
       "{'itisSearchURL': 'http://services.itis.gov/?wt=json&rows=10&q=tsn:173695',\n",
       " 'originCollection': 'gapspecies',\n",
       " 'originDate': '2017-09-16T13:14:42.039409',\n",
       " 'originID': ObjectId('59b848d23339a2d2a5efaf42')}"
      ]
     },
     "metadata": {},
     "output_type": "display_data"
    },
    {
     "data": {
      "text/plain": [
       "{'itisSearchURL': 'http://services.itis.gov/?wt=json&rows=10&q=tsn:177960',\n",
       " 'originCollection': 'gapspecies',\n",
       " 'originDate': '2017-09-16T13:14:42.227079',\n",
       " 'originID': ObjectId('59b848d33339a2d2a5efaf43')}"
      ]
     },
     "metadata": {},
     "output_type": "display_data"
    },
    {
     "data": {
      "text/plain": [
       "{'itisSearchURL': 'http://services.itis.gov/?wt=json&rows=10&q=tsn:176619',\n",
       " 'originCollection': 'gapspecies',\n",
       " 'originDate': '2017-09-16T13:14:42.408280',\n",
       " 'originID': ObjectId('59b848d33339a2d2a5efaf44')}"
      ]
     },
     "metadata": {},
     "output_type": "display_data"
    },
    {
     "data": {
      "text/plain": [
       "{'itisSearchURL': 'http://services.itis.gov/?wt=json&rows=10&q=tsn:175020',\n",
       " 'originCollection': 'gapspecies',\n",
       " 'originDate': '2017-09-16T13:14:42.602323',\n",
       " 'originID': ObjectId('59b848d33339a2d2a5efaf45')}"
      ]
     },
     "metadata": {},
     "output_type": "display_data"
    },
    {
     "data": {
      "text/plain": [
       "{'itisSearchURL': 'http://services.itis.gov/?wt=json&rows=10&q=tsn:180140',\n",
       " 'originCollection': 'gapspecies',\n",
       " 'originDate': '2017-09-16T13:14:42.793991',\n",
       " 'originID': ObjectId('59b848d43339a2d2a5efaf46')}"
      ]
     },
     "metadata": {},
     "output_type": "display_data"
    },
    {
     "data": {
      "text/plain": [
       "{'itisSearchURL': 'http://services.itis.gov/?wt=json&rows=10&q=tsn:179932',\n",
       " 'originCollection': 'gapspecies',\n",
       " 'originDate': '2017-09-16T13:14:42.977173',\n",
       " 'originID': ObjectId('59b848d43339a2d2a5efaf47')}"
      ]
     },
     "metadata": {},
     "output_type": "display_data"
    },
    {
     "data": {
      "text/plain": [
       "{'itisSearchURL': 'http://services.itis.gov/?wt=json&rows=10&q=tsn:668670',\n",
       " 'originCollection': 'gapspecies',\n",
       " 'originDate': '2017-09-16T13:14:43.161480',\n",
       " 'originID': ObjectId('59b848d43339a2d2a5efaf48')}"
      ]
     },
     "metadata": {},
     "output_type": "display_data"
    },
    {
     "data": {
      "text/plain": [
       "{'itisSearchURL': 'http://services.itis.gov/?wt=json&rows=10&q=tsn:173637',\n",
       " 'originCollection': 'gapspecies',\n",
       " 'originDate': '2017-09-16T13:14:43.345429',\n",
       " 'originID': ObjectId('59b848d43339a2d2a5efaf49')}"
      ]
     },
     "metadata": {},
     "output_type": "display_data"
    },
    {
     "data": {
      "text/plain": [
       "{'itisSearchURL': 'http://services.itis.gov/?wt=json&rows=10&q=tsn:173668',\n",
       " 'originCollection': 'gapspecies',\n",
       " 'originDate': '2017-09-16T13:14:43.535318',\n",
       " 'originID': ObjectId('59b848d53339a2d2a5efaf4a')}"
      ]
     },
     "metadata": {},
     "output_type": "display_data"
    },
    {
     "data": {
      "text/plain": [
       "{'itisSearchURL': 'http://services.itis.gov/?wt=json&rows=10&q=tsn:180197',\n",
       " 'originCollection': 'gapspecies',\n",
       " 'originDate': '2017-09-16T13:14:43.719971',\n",
       " 'originID': ObjectId('59b848d53339a2d2a5efaf4b')}"
      ]
     },
     "metadata": {},
     "output_type": "display_data"
    },
    {
     "data": {
      "text/plain": [
       "{'itisSearchURL': 'http://services.itis.gov/?wt=json&rows=10&q=tsn:174336',\n",
       " 'originCollection': 'gapspecies',\n",
       " 'originDate': '2017-09-16T13:14:43.900075',\n",
       " 'originID': ObjectId('59b848d53339a2d2a5efaf4c')}"
      ]
     },
     "metadata": {},
     "output_type": "display_data"
    },
    {
     "data": {
      "text/plain": [
       "{'itisSearchURL': 'http://services.itis.gov/?wt=json&rows=10&q=tsn:173694',\n",
       " 'originCollection': 'gapspecies',\n",
       " 'originDate': '2017-09-16T13:14:44.084524',\n",
       " 'originID': ObjectId('59b848d63339a2d2a5efaf4d')}"
      ]
     },
     "metadata": {},
     "output_type": "display_data"
    },
    {
     "data": {
      "text/plain": [
       "{'itisSearchURL': 'http://services.itis.gov/?wt=json&rows=10&q=tsn:178627',\n",
       " 'originCollection': 'gapspecies',\n",
       " 'originDate': '2017-09-16T13:14:44.297582',\n",
       " 'originID': ObjectId('59b848d63339a2d2a5efaf4e')}"
      ]
     },
     "metadata": {},
     "output_type": "display_data"
    },
    {
     "data": {
      "text/plain": [
       "{'itisSearchURL': 'http://services.itis.gov/?wt=json&rows=10&q=nameWOInd:Corynorhinus\\\\%20townsendii\\\\%20ingens',\n",
       " 'originCollection': 'gapspecies',\n",
       " 'originDate': '2017-09-16T13:14:44.492644',\n",
       " 'originID': ObjectId('59b848d63339a2d2a5efaf4f')}"
      ]
     },
     "metadata": {},
     "output_type": "display_data"
    },
    {
     "data": {
      "text/plain": [
       "{'itisSearchURL': 'http://services.itis.gov/?wt=json&rows=10&q=nameWOInd:Urocitellus\\\\%20elegans\\\\%20elegans',\n",
       " 'originCollection': 'gapspecies',\n",
       " 'originDate': '2017-09-16T13:14:44.676050',\n",
       " 'originID': ObjectId('59b848d73339a2d2a5efaf50')}"
      ]
     },
     "metadata": {},
     "output_type": "display_data"
    },
    {
     "data": {
      "text/plain": [
       "{'itisSearchURL': 'http://services.itis.gov/?wt=json&rows=10&q=tsn:173964',\n",
       " 'originCollection': 'gapspecies',\n",
       " 'originDate': '2017-09-16T13:14:44.861158',\n",
       " 'originID': ObjectId('59b848d73339a2d2a5efaf51')}"
      ]
     },
     "metadata": {},
     "output_type": "display_data"
    },
    {
     "data": {
      "text/plain": [
       "{'itisSearchURL': 'http://services.itis.gov/?wt=json&rows=10&q=tsn:180377',\n",
       " 'originCollection': 'gapspecies',\n",
       " 'originDate': '2017-09-16T13:14:45.201812',\n",
       " 'originID': ObjectId('59b848d73339a2d2a5efaf52')}"
      ]
     },
     "metadata": {},
     "output_type": "display_data"
    },
    {
     "data": {
      "text/plain": [
       "{'itisSearchURL': 'http://services.itis.gov/?wt=json&rows=10&q=tsn:176726',\n",
       " 'originCollection': 'gapspecies',\n",
       " 'originDate': '2017-09-16T13:14:45.994092',\n",
       " 'originID': ObjectId('59b848d83339a2d2a5efaf53')}"
      ]
     },
     "metadata": {},
     "output_type": "display_data"
    },
    {
     "data": {
      "text/plain": [
       "{'itisSearchURL': 'http://services.itis.gov/?wt=json&rows=10&q=tsn:179967',\n",
       " 'originCollection': 'gapspecies',\n",
       " 'originDate': '2017-09-16T13:14:46.515626',\n",
       " 'originID': ObjectId('59b848d83339a2d2a5efaf54')}"
      ]
     },
     "metadata": {},
     "output_type": "display_data"
    },
    {
     "data": {
      "text/plain": [
       "{'itisSearchURL': 'http://services.itis.gov/?wt=json&rows=10&q=tsn:179773',\n",
       " 'originCollection': 'gapspecies',\n",
       " 'originDate': '2017-09-16T13:14:47.002876',\n",
       " 'originID': ObjectId('59b848d93339a2d2a5efaf55')}"
      ]
     },
     "metadata": {},
     "output_type": "display_data"
    },
    {
     "data": {
      "text/plain": [
       "{'itisSearchURL': 'http://services.itis.gov/?wt=json&rows=10&q=tsn:173692',\n",
       " 'originCollection': 'gapspecies',\n",
       " 'originDate': '2017-09-16T13:14:47.508159',\n",
       " 'originID': ObjectId('59b848d93339a2d2a5efaf56')}"
      ]
     },
     "metadata": {},
     "output_type": "display_data"
    },
    {
     "data": {
      "text/plain": [
       "{'itisSearchURL': 'http://services.itis.gov/?wt=json&rows=10&q=tsn:180133',\n",
       " 'originCollection': 'gapspecies',\n",
       " 'originDate': '2017-09-16T13:14:47.990996',\n",
       " 'originID': ObjectId('59b848d93339a2d2a5efaf57')}"
      ]
     },
     "metadata": {},
     "output_type": "display_data"
    },
    {
     "data": {
      "text/plain": [
       "{'itisSearchURL': 'http://services.itis.gov/?wt=json&rows=10&q=tsn:178620',\n",
       " 'originCollection': 'gapspecies',\n",
       " 'originDate': '2017-09-16T13:14:48.632109',\n",
       " 'originID': ObjectId('59b848d93339a2d2a5efaf58')}"
      ]
     },
     "metadata": {},
     "output_type": "display_data"
    },
    {
     "data": {
      "text/plain": [
       "{'itisSearchURL': 'http://services.itis.gov/?wt=json&rows=10&q=tsn:176991',\n",
       " 'originCollection': 'gapspecies',\n",
       " 'originDate': '2017-09-16T13:14:48.934073',\n",
       " 'originID': ObjectId('59b848da3339a2d2a5efaf59')}"
      ]
     },
     "metadata": {},
     "output_type": "display_data"
    },
    {
     "data": {
      "text/plain": [
       "{'itisSearchURL': 'http://services.itis.gov/?wt=json&rows=10&q=nameWOInd:Corynorhinus\\\\%20townsendii\\\\%20australis',\n",
       " 'originCollection': 'gapspecies',\n",
       " 'originDate': '2017-09-16T13:14:49.125122',\n",
       " 'originID': ObjectId('59b848da3339a2d2a5efaf5a')}"
      ]
     },
     "metadata": {},
     "output_type": "display_data"
    },
    {
     "data": {
      "text/plain": [
       "{'itisSearchURL': 'http://services.itis.gov/?wt=json&rows=10&q=tsn:175170',\n",
       " 'originCollection': 'gapspecies',\n",
       " 'originDate': '2017-09-16T13:14:49.313160',\n",
       " 'originID': ObjectId('59b848da3339a2d2a5efaf5b')}"
      ]
     },
     "metadata": {},
     "output_type": "display_data"
    },
    {
     "data": {
      "text/plain": [
       "{'itisSearchURL': 'http://services.itis.gov/?wt=json&rows=10&q=tsn:178897',\n",
       " 'originCollection': 'gapspecies',\n",
       " 'originDate': '2017-09-16T13:14:49.498100',\n",
       " 'originID': ObjectId('59b848da3339a2d2a5efaf5c')}"
      ]
     },
     "metadata": {},
     "output_type": "display_data"
    },
    {
     "data": {
      "text/plain": [
       "{'itisSearchURL': 'http://services.itis.gov/?wt=json&rows=10&q=tsn:173538',\n",
       " 'originCollection': 'gapspecies',\n",
       " 'originDate': '2017-09-16T13:14:49.722735',\n",
       " 'originID': ObjectId('59b848db3339a2d2a5efaf5d')}"
      ]
     },
     "metadata": {},
     "output_type": "display_data"
    },
    {
     "data": {
      "text/plain": [
       "{'itisSearchURL': 'http://services.itis.gov/?wt=json&rows=10&q=tsn:179156',\n",
       " 'originCollection': 'gapspecies',\n",
       " 'originDate': '2017-09-16T13:14:49.907238',\n",
       " 'originID': ObjectId('59b848db3339a2d2a5efaf5e')}"
      ]
     },
     "metadata": {},
     "output_type": "display_data"
    },
    {
     "data": {
      "text/plain": [
       "{'itisSearchURL': 'http://services.itis.gov/?wt=json&rows=10&q=tsn:178868',\n",
       " 'originCollection': 'gapspecies',\n",
       " 'originDate': '2017-09-16T13:14:50.103212',\n",
       " 'originID': ObjectId('59b848db3339a2d2a5efaf5f')}"
      ]
     },
     "metadata": {},
     "output_type": "display_data"
    },
    {
     "data": {
      "text/plain": [
       "{'itisSearchURL': 'http://services.itis.gov/?wt=json&rows=10&q=tsn:179685',\n",
       " 'originCollection': 'gapspecies',\n",
       " 'originDate': '2017-09-16T13:14:50.285820',\n",
       " 'originID': ObjectId('59b848db3339a2d2a5efaf60')}"
      ]
     },
     "metadata": {},
     "output_type": "display_data"
    },
    {
     "data": {
      "text/plain": [
       "{'itisSearchURL': 'http://services.itis.gov/?wt=json&rows=10&q=tsn:773519',\n",
       " 'originCollection': 'gapspecies',\n",
       " 'originDate': '2017-09-16T13:14:50.510177',\n",
       " 'originID': ObjectId('59b848db3339a2d2a5efaf61')}"
      ]
     },
     "metadata": {},
     "output_type": "display_data"
    },
    {
     "data": {
      "text/plain": [
       "{'itisSearchURL': 'http://services.itis.gov/?wt=json&rows=10&q=tsn:174230',\n",
       " 'originCollection': 'gapspecies',\n",
       " 'originDate': '2017-09-16T13:14:50.699716',\n",
       " 'originID': ObjectId('59b848db3339a2d2a5efaf62')}"
      ]
     },
     "metadata": {},
     "output_type": "display_data"
    },
    {
     "data": {
      "text/plain": [
       "{'itisSearchURL': 'http://services.itis.gov/?wt=json&rows=10&q=tsn:173927',\n",
       " 'originCollection': 'gapspecies',\n",
       " 'originDate': '2017-09-16T13:14:50.879686',\n",
       " 'originID': ObjectId('59b848dc3339a2d2a5efaf63')}"
      ]
     },
     "metadata": {},
     "output_type": "display_data"
    },
    {
     "data": {
      "text/plain": [
       "{'itisSearchURL': 'http://services.itis.gov/?wt=json&rows=10&q=tsn:176888',\n",
       " 'originCollection': 'gapspecies',\n",
       " 'originDate': '2017-09-16T13:14:51.080571',\n",
       " 'originID': ObjectId('59b848dc3339a2d2a5efaf64')}"
      ]
     },
     "metadata": {},
     "output_type": "display_data"
    },
    {
     "data": {
      "text/plain": [
       "{'itisSearchURL': 'http://services.itis.gov/?wt=json&rows=10&q=tsn:677540',\n",
       " 'originCollection': 'gapspecies',\n",
       " 'originDate': '2017-09-16T13:14:51.261000',\n",
       " 'originID': ObjectId('59b848dc3339a2d2a5efaf65')}"
      ]
     },
     "metadata": {},
     "output_type": "display_data"
    },
    {
     "data": {
      "text/plain": [
       "{'itisSearchURL': 'http://services.itis.gov/?wt=json&rows=10&q=tsn:173872',\n",
       " 'originCollection': 'gapspecies',\n",
       " 'originDate': '2017-09-16T13:14:51.450246',\n",
       " 'originID': ObjectId('59b848dc3339a2d2a5efaf66')}"
      ]
     },
     "metadata": {},
     "output_type": "display_data"
    },
    {
     "data": {
      "text/plain": [
       "{'itisSearchURL': 'http://services.itis.gov/?wt=json&rows=10&q=tsn:209029',\n",
       " 'originCollection': 'gapspecies',\n",
       " 'originDate': '2017-09-16T13:14:51.638225',\n",
       " 'originID': ObjectId('59b848dc3339a2d2a5efaf67')}"
      ]
     },
     "metadata": {},
     "output_type": "display_data"
    },
    {
     "data": {
      "text/plain": [
       "{'itisSearchURL': 'http://services.itis.gov/?wt=json&rows=10&q=tsn:174313',\n",
       " 'originCollection': 'gapspecies',\n",
       " 'originDate': '2017-09-16T13:14:51.823471',\n",
       " 'originID': ObjectId('59b848dd3339a2d2a5efaf68')}"
      ]
     },
     "metadata": {},
     "output_type": "display_data"
    },
    {
     "data": {
      "text/plain": [
       "{'itisSearchURL': 'http://services.itis.gov/?wt=json&rows=10&q=tsn:173926',\n",
       " 'originCollection': 'gapspecies',\n",
       " 'originDate': '2017-09-16T13:14:52.005694',\n",
       " 'originID': ObjectId('59b848dd3339a2d2a5efaf69')}"
      ]
     },
     "metadata": {},
     "output_type": "display_data"
    },
    {
     "data": {
      "text/plain": [
       "{'itisSearchURL': 'http://services.itis.gov/?wt=json&rows=10&q=tsn:180185',\n",
       " 'originCollection': 'gapspecies',\n",
       " 'originDate': '2017-09-16T13:14:52.224289',\n",
       " 'originID': ObjectId('59b848dd3339a2d2a5efaf6a')}"
      ]
     },
     "metadata": {},
     "output_type": "display_data"
    },
    {
     "data": {
      "text/plain": [
       "{'itisSearchURL': 'http://services.itis.gov/?wt=json&rows=10&q=tsn:174289',\n",
       " 'originCollection': 'gapspecies',\n",
       " 'originDate': '2017-09-16T13:14:52.407877',\n",
       " 'originID': ObjectId('59b848dd3339a2d2a5efaf6b')}"
      ]
     },
     "metadata": {},
     "output_type": "display_data"
    },
    {
     "data": {
      "text/plain": [
       "{'itisSearchURL': 'http://services.itis.gov/?wt=json&rows=10&q=tsn:914104',\n",
       " 'originCollection': 'gapspecies',\n",
       " 'originDate': '2017-09-16T13:14:52.602147',\n",
       " 'originID': ObjectId('59b848dd3339a2d2a5efaf6c')}"
      ]
     },
     "metadata": {},
     "output_type": "display_data"
    },
    {
     "data": {
      "text/plain": [
       "{'itisSearchURL': 'http://services.itis.gov/?wt=json&rows=10&q=tsn:564570',\n",
       " 'originCollection': 'gapspecies',\n",
       " 'originDate': '2017-09-16T13:14:52.788519',\n",
       " 'originID': ObjectId('59b848dd3339a2d2a5efaf6d')}"
      ]
     },
     "metadata": {},
     "output_type": "display_data"
    },
    {
     "data": {
      "text/plain": [
       "{'itisSearchURL': 'http://services.itis.gov/?wt=json&rows=10&q=tsn:174239',\n",
       " 'originCollection': 'gapspecies',\n",
       " 'originDate': '2017-09-16T13:14:52.979678',\n",
       " 'originID': ObjectId('59b848de3339a2d2a5efaf6e')}"
      ]
     },
     "metadata": {},
     "output_type": "display_data"
    },
    {
     "data": {
      "text/plain": [
       "{'itisSearchURL': 'http://services.itis.gov/?wt=json&rows=10&q=tsn:174275',\n",
       " 'originCollection': 'gapspecies',\n",
       " 'originDate': '2017-09-16T13:14:53.160051',\n",
       " 'originID': ObjectId('59b848de3339a2d2a5efaf6f')}"
      ]
     },
     "metadata": {},
     "output_type": "display_data"
    },
    {
     "data": {
      "text/plain": [
       "{'itisSearchURL': 'http://services.itis.gov/?wt=json&rows=10&q=tsn:174293',\n",
       " 'originCollection': 'gapspecies',\n",
       " 'originDate': '2017-09-16T13:14:53.345340',\n",
       " 'originID': ObjectId('59b848de3339a2d2a5efaf70')}"
      ]
     },
     "metadata": {},
     "output_type": "display_data"
    },
    {
     "data": {
      "text/plain": [
       "{'itisSearchURL': 'http://services.itis.gov/?wt=json&rows=10&q=tsn:564596',\n",
       " 'originCollection': 'gapspecies',\n",
       " 'originDate': '2017-09-16T13:14:53.553486',\n",
       " 'originID': ObjectId('59b848de3339a2d2a5efaf71')}"
      ]
     },
     "metadata": {},
     "output_type": "display_data"
    },
    {
     "data": {
      "text/plain": [
       "{'itisSearchURL': 'http://services.itis.gov/?wt=json&rows=10&q=tsn:586362',\n",
       " 'originCollection': 'gapspecies',\n",
       " 'originDate': '2017-09-16T13:14:53.744765',\n",
       " 'originID': ObjectId('59b848df3339a2d2a5efaf72')}"
      ]
     },
     "metadata": {},
     "output_type": "display_data"
    },
    {
     "data": {
      "text/plain": [
       "{'itisSearchURL': 'http://services.itis.gov/?wt=json&rows=10&q=tsn:554141',\n",
       " 'originCollection': 'gapspecies',\n",
       " 'originDate': '2017-09-16T13:14:53.933290',\n",
       " 'originID': ObjectId('59b848df3339a2d2a5efaf73')}"
      ]
     },
     "metadata": {},
     "output_type": "display_data"
    },
    {
     "data": {
      "text/plain": [
       "{'itisSearchURL': 'http://services.itis.gov/?wt=json&rows=10&q=tsn:178581',\n",
       " 'originCollection': 'gapspecies',\n",
       " 'originDate': '2017-09-16T13:14:54.117273',\n",
       " 'originID': ObjectId('59b848e03339a2d2a5efaf74')}"
      ]
     },
     "metadata": {},
     "output_type": "display_data"
    },
    {
     "data": {
      "text/plain": [
       "{'itisSearchURL': 'http://services.itis.gov/?wt=json&rows=10&q=tsn:180234',\n",
       " 'originCollection': 'gapspecies',\n",
       " 'originDate': '2017-09-16T13:14:54.307186',\n",
       " 'originID': ObjectId('59b848e03339a2d2a5efaf75')}"
      ]
     },
     "metadata": {},
     "output_type": "display_data"
    },
    {
     "data": {
      "text/plain": [
       "{'itisSearchURL': 'http://services.itis.gov/?wt=json&rows=10&q=tsn:180239',\n",
       " 'originCollection': 'gapspecies',\n",
       " 'originDate': '2017-09-16T13:14:54.491657',\n",
       " 'originID': ObjectId('59b848e03339a2d2a5efaf76')}"
      ]
     },
     "metadata": {},
     "output_type": "display_data"
    },
    {
     "data": {
      "text/plain": [
       "{'itisSearchURL': 'http://services.itis.gov/?wt=json&rows=10&q=tsn:180017',\n",
       " 'originCollection': 'gapspecies',\n",
       " 'originDate': '2017-09-16T13:14:54.675024',\n",
       " 'originID': ObjectId('59b848e13339a2d2a5efaf77')}"
      ]
     },
     "metadata": {},
     "output_type": "display_data"
    },
    {
     "data": {
      "text/plain": [
       "{'itisSearchURL': 'http://services.itis.gov/?wt=json&rows=10&q=tsn:552482',\n",
       " 'originCollection': 'gapspecies',\n",
       " 'originDate': '2017-09-16T13:14:54.972195',\n",
       " 'originID': ObjectId('59b848e13339a2d2a5efaf78')}"
      ]
     },
     "metadata": {},
     "output_type": "display_data"
    },
    {
     "data": {
      "text/plain": [
       "{'itisSearchURL': 'http://services.itis.gov/?wt=json&rows=10&q=tsn:552480',\n",
       " 'originCollection': 'gapspecies',\n",
       " 'originDate': '2017-09-16T13:14:55.469423',\n",
       " 'originID': ObjectId('59b848e13339a2d2a5efaf79')}"
      ]
     },
     "metadata": {},
     "output_type": "display_data"
    },
    {
     "data": {
      "text/plain": [
       "{'itisSearchURL': 'http://services.itis.gov/?wt=json&rows=10&q=tsn:173650',\n",
       " 'originCollection': 'gapspecies',\n",
       " 'originDate': '2017-09-16T13:14:55.967652',\n",
       " 'originID': ObjectId('59b848e23339a2d2a5efaf7a')}"
      ]
     },
     "metadata": {},
     "output_type": "display_data"
    },
    {
     "data": {
      "text/plain": [
       "{'itisSearchURL': 'http://services.itis.gov/?wt=json&rows=10&q=tsn:208292',\n",
       " 'originCollection': 'gapspecies',\n",
       " 'originDate': '2017-09-16T13:14:56.442477',\n",
       " 'originID': ObjectId('59b848e23339a2d2a5efaf7b')}"
      ]
     },
     "metadata": {},
     "output_type": "display_data"
    },
    {
     "data": {
      "text/plain": [
       "{'itisSearchURL': 'http://services.itis.gov/?wt=json&rows=10&q=tsn:180184',\n",
       " 'originCollection': 'gapspecies',\n",
       " 'originDate': '2017-09-16T13:14:56.945448',\n",
       " 'originID': ObjectId('59b848e23339a2d2a5efaf7c')}"
      ]
     },
     "metadata": {},
     "output_type": "display_data"
    },
    {
     "data": {
      "text/plain": [
       "{'itisSearchURL': 'http://services.itis.gov/?wt=json&rows=10&q=tsn:180649',\n",
       " 'originCollection': 'gapspecies',\n",
       " 'originDate': '2017-09-16T13:14:57.415223',\n",
       " 'originID': ObjectId('59b848e33339a2d2a5efaf7d')}"
      ]
     },
     "metadata": {},
     "output_type": "display_data"
    },
    {
     "data": {
      "text/plain": [
       "{'itisSearchURL': 'http://services.itis.gov/?wt=json&rows=10&q=tsn:178038',\n",
       " 'originCollection': 'gapspecies',\n",
       " 'originDate': '2017-09-16T13:14:57.926967',\n",
       " 'originID': ObjectId('59b848e33339a2d2a5efaf7e')}"
      ]
     },
     "metadata": {},
     "output_type": "display_data"
    },
    {
     "data": {
      "text/plain": [
       "{'itisSearchURL': 'http://services.itis.gov/?wt=json&rows=10&q=tsn:180267',\n",
       " 'originCollection': 'gapspecies',\n",
       " 'originDate': '2017-09-16T13:14:58.400237',\n",
       " 'originID': ObjectId('59b848e33339a2d2a5efaf7f')}"
      ]
     },
     "metadata": {},
     "output_type": "display_data"
    },
    {
     "data": {
      "text/plain": [
       "{'itisSearchURL': 'http://services.itis.gov/?wt=json&rows=10&q=tsn:180318',\n",
       " 'originCollection': 'gapspecies',\n",
       " 'originDate': '2017-09-16T13:14:58.688762',\n",
       " 'originID': ObjectId('59b848e33339a2d2a5efaf80')}"
      ]
     },
     "metadata": {},
     "output_type": "display_data"
    },
    {
     "data": {
      "text/plain": [
       "{'itisSearchURL': 'http://services.itis.gov/?wt=json&rows=10&q=tsn:209205',\n",
       " 'originCollection': 'gapspecies',\n",
       " 'originDate': '2017-09-16T13:14:58.879220',\n",
       " 'originID': ObjectId('59b848e33339a2d2a5efaf81')}"
      ]
     },
     "metadata": {},
     "output_type": "display_data"
    },
    {
     "data": {
      "text/plain": [
       "{'itisSearchURL': 'http://services.itis.gov/?wt=json&rows=10&q=tsn:173836',\n",
       " 'originCollection': 'gapspecies',\n",
       " 'originDate': '2017-09-16T13:14:59.063036',\n",
       " 'originID': ObjectId('59b848e43339a2d2a5efaf82')}"
      ]
     },
     "metadata": {},
     "output_type": "display_data"
    },
    {
     "data": {
      "text/plain": [
       "{'itisSearchURL': 'http://services.itis.gov/?wt=json&rows=10&q=tsn:173736',\n",
       " 'originCollection': 'gapspecies',\n",
       " 'originDate': '2017-09-16T13:14:59.245974',\n",
       " 'originID': ObjectId('59b848e43339a2d2a5efaf83')}"
      ]
     },
     "metadata": {},
     "output_type": "display_data"
    },
    {
     "data": {
      "text/plain": [
       "{'itisSearchURL': 'http://services.itis.gov/?wt=json&rows=10&q=tsn:179723',\n",
       " 'originCollection': 'gapspecies',\n",
       " 'originDate': '2017-09-16T13:14:59.430055',\n",
       " 'originID': ObjectId('59b848e43339a2d2a5efaf84')}"
      ]
     },
     "metadata": {},
     "output_type": "display_data"
    },
    {
     "data": {
      "text/plain": [
       "{'itisSearchURL': 'http://services.itis.gov/?wt=json&rows=10&q=tsn:173873',\n",
       " 'originCollection': 'gapspecies',\n",
       " 'originDate': '2017-09-16T13:14:59.611508',\n",
       " 'originID': ObjectId('59b848e43339a2d2a5efaf85')}"
      ]
     },
     "metadata": {},
     "output_type": "display_data"
    },
    {
     "data": {
      "text/plain": [
       "{'itisSearchURL': 'http://services.itis.gov/?wt=json&rows=10&q=tsn:563935',\n",
       " 'originCollection': 'gapspecies',\n",
       " 'originDate': '2017-09-16T13:14:59.795940',\n",
       " 'originID': ObjectId('59b848e53339a2d2a5efaf86')}"
      ]
     },
     "metadata": {},
     "output_type": "display_data"
    },
    {
     "data": {
      "text/plain": [
       "{'itisSearchURL': 'http://services.itis.gov/?wt=json&rows=10&q=tsn:180233',\n",
       " 'originCollection': 'gapspecies',\n",
       " 'originDate': '2017-09-16T13:14:59.977837',\n",
       " 'originID': ObjectId('59b848e53339a2d2a5efaf87')}"
      ]
     },
     "metadata": {},
     "output_type": "display_data"
    },
    {
     "data": {
      "text/plain": [
       "{'itisSearchURL': 'http://services.itis.gov/?wt=json&rows=10&q=tsn:173843',\n",
       " 'originCollection': 'gapspecies',\n",
       " 'originDate': '2017-09-16T13:15:00.160174',\n",
       " 'originID': ObjectId('59b848e53339a2d2a5efaf88')}"
      ]
     },
     "metadata": {},
     "output_type": "display_data"
    },
    {
     "data": {
      "text/plain": [
       "{'itisSearchURL': 'http://services.itis.gov/?wt=json&rows=10&q=tsn:173778',\n",
       " 'originCollection': 'gapspecies',\n",
       " 'originDate': '2017-09-16T13:15:00.343615',\n",
       " 'originID': ObjectId('59b848e63339a2d2a5efaf89')}"
      ]
     },
     "metadata": {},
     "output_type": "display_data"
    },
    {
     "data": {
      "text/plain": [
       "{'itisSearchURL': 'http://services.itis.gov/?wt=json&rows=10&q=tsn:551767',\n",
       " 'originCollection': 'gapspecies',\n",
       " 'originDate': '2017-09-16T13:15:00.530250',\n",
       " 'originID': ObjectId('59b848e63339a2d2a5efaf8a')}"
      ]
     },
     "metadata": {},
     "output_type": "display_data"
    },
    {
     "data": {
      "text/plain": [
       "{'itisSearchURL': 'http://services.itis.gov/?wt=json&rows=10&q=tsn:174302',\n",
       " 'originCollection': 'gapspecies',\n",
       " 'originDate': '2017-09-16T13:15:00.712540',\n",
       " 'originID': ObjectId('59b848e63339a2d2a5efaf8b')}"
      ]
     },
     "metadata": {},
     "output_type": "display_data"
    },
    {
     "data": {
      "text/plain": [
       "{'itisSearchURL': 'http://services.itis.gov/?wt=json&rows=10&q=tsn:173798',\n",
       " 'originCollection': 'gapspecies',\n",
       " 'originDate': '2017-09-16T13:15:00.980447',\n",
       " 'originID': ObjectId('59b848e73339a2d2a5efaf8c')}"
      ]
     },
     "metadata": {},
     "output_type": "display_data"
    },
    {
     "data": {
      "text/plain": [
       "{'itisSearchURL': 'http://services.itis.gov/?wt=json&rows=10&q=tsn:564591',\n",
       " 'originCollection': 'gapspecies',\n",
       " 'originDate': '2017-09-16T13:15:01.162817',\n",
       " 'originID': ObjectId('59b848e73339a2d2a5efaf8d')}"
      ]
     },
     "metadata": {},
     "output_type": "display_data"
    },
    {
     "data": {
      "text/plain": [
       "{'itisSearchURL': 'http://services.itis.gov/?wt=json&rows=10&q=tsn:174129',\n",
       " 'originCollection': 'gapspecies',\n",
       " 'originDate': '2017-09-16T13:15:01.356279',\n",
       " 'originID': ObjectId('59b848e73339a2d2a5efaf8e')}"
      ]
     },
     "metadata": {},
     "output_type": "display_data"
    },
    {
     "data": {
      "text/plain": [
       "{'itisSearchURL': 'http://services.itis.gov/?wt=json&rows=10&q=tsn:208675',\n",
       " 'originCollection': 'gapspecies',\n",
       " 'originDate': '2017-09-16T13:15:01.598942',\n",
       " 'originID': ObjectId('59b848e83339a2d2a5efaf8f')}"
      ]
     },
     "metadata": {},
     "output_type": "display_data"
    },
    {
     "data": {
      "text/plain": [
       "{'itisSearchURL': 'http://services.itis.gov/?wt=json&rows=10&q=tsn:174304',\n",
       " 'originCollection': 'gapspecies',\n",
       " 'originDate': '2017-09-16T13:15:01.787031',\n",
       " 'originID': ObjectId('59b848e83339a2d2a5efaf90')}"
      ]
     },
     "metadata": {},
     "output_type": "display_data"
    },
    {
     "data": {
      "text/plain": [
       "{'itisSearchURL': 'http://services.itis.gov/?wt=json&rows=10&q=tsn:177902',\n",
       " 'originCollection': 'gapspecies',\n",
       " 'originDate': '2017-09-16T13:15:01.981929',\n",
       " 'originID': ObjectId('59b848e93339a2d2a5efaf91')}"
      ]
     },
     "metadata": {},
     "output_type": "display_data"
    },
    {
     "data": {
      "text/plain": [
       "{'itisSearchURL': 'http://services.itis.gov/?wt=json&rows=10&q=tsn:178348',\n",
       " 'originCollection': 'gapspecies',\n",
       " 'originDate': '2017-09-16T13:15:02.175777',\n",
       " 'originID': ObjectId('59b848ea3339a2d2a5efaf92')}"
      ]
     },
     "metadata": {},
     "output_type": "display_data"
    },
    {
     "data": {
      "text/plain": [
       "{'itisSearchURL': 'http://services.itis.gov/?wt=json&rows=10&q=tsn:178376',\n",
       " 'originCollection': 'gapspecies',\n",
       " 'originDate': '2017-09-16T13:15:02.362925',\n",
       " 'originID': ObjectId('59b848ea3339a2d2a5efaf93')}"
      ]
     },
     "metadata": {},
     "output_type": "display_data"
    },
    {
     "data": {
      "text/plain": [
       "{'itisSearchURL': 'http://services.itis.gov/?wt=json&rows=10&q=tsn:175300',\n",
       " 'originCollection': 'gapspecies',\n",
       " 'originDate': '2017-09-16T13:15:02.552642',\n",
       " 'originID': ObjectId('59b848ea3339a2d2a5efaf94')}"
      ]
     },
     "metadata": {},
     "output_type": "display_data"
    },
    {
     "data": {
      "text/plain": [
       "{'itisSearchURL': 'http://services.itis.gov/?wt=json&rows=10&q=tsn:178784',\n",
       " 'originCollection': 'gapspecies',\n",
       " 'originDate': '2017-09-16T13:15:02.742313',\n",
       " 'originID': ObjectId('59b848eb3339a2d2a5efaf95')}"
      ]
     },
     "metadata": {},
     "output_type": "display_data"
    },
    {
     "data": {
      "text/plain": [
       "{'itisSearchURL': 'http://services.itis.gov/?wt=json&rows=10&q=tsn:180196',\n",
       " 'originCollection': 'gapspecies',\n",
       " 'originDate': '2017-09-16T13:15:02.944625',\n",
       " 'originID': ObjectId('59b848eb3339a2d2a5efaf96')}"
      ]
     },
     "metadata": {},
     "output_type": "display_data"
    },
    {
     "data": {
      "text/plain": [
       "{'itisSearchURL': 'http://services.itis.gov/?wt=json&rows=10&q=tsn:175038',\n",
       " 'originCollection': 'gapspecies',\n",
       " 'originDate': '2017-09-16T13:15:03.135928',\n",
       " 'originID': ObjectId('59b848eb3339a2d2a5efaf97')}"
      ]
     },
     "metadata": {},
     "output_type": "display_data"
    },
    {
     "data": {
      "text/plain": [
       "{'itisSearchURL': 'http://services.itis.gov/?wt=json&rows=10&q=tsn:178282',\n",
       " 'originCollection': 'gapspecies',\n",
       " 'originDate': '2017-09-16T13:15:03.359124',\n",
       " 'originID': ObjectId('59b848ec3339a2d2a5efaf98')}"
      ]
     },
     "metadata": {},
     "output_type": "display_data"
    },
    {
     "data": {
      "text/plain": [
       "{'itisSearchURL': 'http://services.itis.gov/?wt=json&rows=10&q=tsn:173644',\n",
       " 'originCollection': 'gapspecies',\n",
       " 'originDate': '2017-09-16T13:15:03.559048',\n",
       " 'originID': ObjectId('59b848ec3339a2d2a5efaf99')}"
      ]
     },
     "metadata": {},
     "output_type": "display_data"
    },
    {
     "data": {
      "text/plain": [
       "{'itisSearchURL': 'http://services.itis.gov/?wt=json&rows=10&q=tsn:173546',\n",
       " 'originCollection': 'gapspecies',\n",
       " 'originDate': '2017-09-16T13:15:03.750533',\n",
       " 'originID': ObjectId('59b848ec3339a2d2a5efaf9a')}"
      ]
     },
     "metadata": {},
     "output_type": "display_data"
    },
    {
     "data": {
      "text/plain": [
       "{'itisSearchURL': 'http://services.itis.gov/?wt=json&rows=10&q=tsn:177902',\n",
       " 'originCollection': 'gapspecies',\n",
       " 'originDate': '2017-09-16T13:15:03.935066',\n",
       " 'originID': ObjectId('59b848ed3339a2d2a5efaf9b')}"
      ]
     },
     "metadata": {},
     "output_type": "display_data"
    },
    {
     "data": {
      "text/plain": [
       "{'itisSearchURL': 'http://services.itis.gov/?wt=json&rows=10&q=tsn:180606',\n",
       " 'originCollection': 'gapspecies',\n",
       " 'originDate': '2017-09-16T13:15:04.115020',\n",
       " 'originID': ObjectId('59b848ed3339a2d2a5efaf9c')}"
      ]
     },
     "metadata": {},
     "output_type": "display_data"
    },
    {
     "data": {
      "text/plain": [
       "{'itisSearchURL': 'http://services.itis.gov/?wt=json&rows=10&q=tsn:180310',\n",
       " 'originCollection': 'gapspecies',\n",
       " 'originDate': '2017-09-16T13:15:04.294529',\n",
       " 'originID': ObjectId('59b848ed3339a2d2a5efaf9d')}"
      ]
     },
     "metadata": {},
     "output_type": "display_data"
    },
    {
     "data": {
      "text/plain": [
       "{'itisSearchURL': 'http://services.itis.gov/?wt=json&rows=10&q=tsn:175304',\n",
       " 'originCollection': 'gapspecies',\n",
       " 'originDate': '2017-09-16T13:15:04.482949',\n",
       " 'originID': ObjectId('59b848ee3339a2d2a5efaf9e')}"
      ]
     },
     "metadata": {},
     "output_type": "display_data"
    },
    {
     "data": {
      "text/plain": [
       "{'itisSearchURL': 'http://services.itis.gov/?wt=json&rows=10&q=tsn:175841',\n",
       " 'originCollection': 'gapspecies',\n",
       " 'originDate': '2017-09-16T13:15:04.822628',\n",
       " 'originID': ObjectId('59b848ee3339a2d2a5efaf9f')}"
      ]
     },
     "metadata": {},
     "output_type": "display_data"
    },
    {
     "data": {
      "text/plain": [
       "{'itisSearchURL': 'http://services.itis.gov/?wt=json&rows=10&q=tsn:175141',\n",
       " 'originCollection': 'gapspecies',\n",
       " 'originDate': '2017-09-16T13:15:05.213955',\n",
       " 'originID': ObjectId('59b848ee3339a2d2a5efafa0')}"
      ]
     },
     "metadata": {},
     "output_type": "display_data"
    },
    {
     "data": {
      "text/plain": [
       "{'itisSearchURL': 'http://services.itis.gov/?wt=json&rows=10&q=tsn:179443',\n",
       " 'originCollection': 'gapspecies',\n",
       " 'originDate': '2017-09-16T13:15:05.914197',\n",
       " 'originID': ObjectId('59b848ef3339a2d2a5efafa1')}"
      ]
     },
     "metadata": {},
     "output_type": "display_data"
    },
    {
     "data": {
      "text/plain": [
       "{'itisSearchURL': 'http://services.itis.gov/?wt=json&rows=10&q=tsn:173717',\n",
       " 'originCollection': 'gapspecies',\n",
       " 'originDate': '2017-09-16T13:15:06.733964',\n",
       " 'originID': ObjectId('59b848ef3339a2d2a5efafa2')}"
      ]
     },
     "metadata": {},
     "output_type": "display_data"
    },
    {
     "data": {
      "text/plain": [
       "{'itisSearchURL': 'http://services.itis.gov/?wt=json&rows=10&q=tsn:178032',\n",
       " 'originCollection': 'gapspecies',\n",
       " 'originDate': '2017-09-16T13:15:07.336737',\n",
       " 'originID': ObjectId('59b848ef3339a2d2a5efafa3')}"
      ]
     },
     "metadata": {},
     "output_type": "display_data"
    },
    {
     "data": {
      "text/plain": [
       "{'itisSearchURL': 'http://services.itis.gov/?wt=json&rows=10&q=tsn:175289',\n",
       " 'originCollection': 'gapspecies',\n",
       " 'originDate': '2017-09-16T13:15:07.847087',\n",
       " 'originID': ObjectId('59b848f03339a2d2a5efafa4')}"
      ]
     },
     "metadata": {},
     "output_type": "display_data"
    },
    {
     "data": {
      "text/plain": [
       "{'itisSearchURL': 'http://services.itis.gov/?wt=json&rows=10&q=tsn:180593',\n",
       " 'originCollection': 'gapspecies',\n",
       " 'originDate': '2017-09-16T13:15:08.396173',\n",
       " 'originID': ObjectId('59b848f03339a2d2a5efafa5')}"
      ]
     },
     "metadata": {},
     "output_type": "display_data"
    },
    {
     "data": {
      "text/plain": [
       "{'itisSearchURL': 'http://services.itis.gov/?wt=json&rows=10&q=tsn:178194',\n",
       " 'originCollection': 'gapspecies',\n",
       " 'originDate': '2017-09-16T13:15:08.578946',\n",
       " 'originID': ObjectId('59b848f13339a2d2a5efafa6')}"
      ]
     },
     "metadata": {},
     "output_type": "display_data"
    },
    {
     "data": {
      "text/plain": [
       "{'itisSearchURL': 'http://services.itis.gov/?wt=json&rows=10&q=tsn:178112',\n",
       " 'originCollection': 'gapspecies',\n",
       " 'originDate': '2017-09-16T13:15:08.760975',\n",
       " 'originID': ObjectId('59b848f13339a2d2a5efafa7')}"
      ]
     },
     "metadata": {},
     "output_type": "display_data"
    },
    {
     "data": {
      "text/plain": [
       "{'itisSearchURL': 'http://services.itis.gov/?wt=json&rows=10&q=tsn:178853',\n",
       " 'originCollection': 'gapspecies',\n",
       " 'originDate': '2017-09-16T13:15:08.945054',\n",
       " 'originID': ObjectId('59b848f23339a2d2a5efafa8')}"
      ]
     },
     "metadata": {},
     "output_type": "display_data"
    },
    {
     "data": {
      "text/plain": [
       "{'itisSearchURL': 'http://services.itis.gov/?wt=json&rows=10&q=tsn:174793',\n",
       " 'originCollection': 'gapspecies',\n",
       " 'originDate': '2017-09-16T13:15:09.130069',\n",
       " 'originID': ObjectId('59b848f23339a2d2a5efafa9')}"
      ]
     },
     "metadata": {},
     "output_type": "display_data"
    },
    {
     "data": {
      "text/plain": [
       "{'itisSearchURL': 'http://services.itis.gov/?wt=json&rows=10&q=tsn:180227',\n",
       " 'originCollection': 'gapspecies',\n",
       " 'originDate': '2017-09-16T13:15:09.312381',\n",
       " 'originID': ObjectId('59b848f33339a2d2a5efafaa')}"
      ]
     },
     "metadata": {},
     "output_type": "display_data"
    },
    {
     "data": {
      "text/plain": [
       "{'itisSearchURL': 'http://services.itis.gov/?wt=json&rows=10&q=tsn:178054',\n",
       " 'originCollection': 'gapspecies',\n",
       " 'originDate': '2017-09-16T13:15:09.500640',\n",
       " 'originID': ObjectId('59b848f43339a2d2a5efafab')}"
      ]
     },
     "metadata": {},
     "output_type": "display_data"
    },
    {
     "data": {
      "text/plain": [
       "{'itisSearchURL': 'http://services.itis.gov/?wt=json&rows=10&q=tsn:180557',\n",
       " 'originCollection': 'gapspecies',\n",
       " 'originDate': '2017-09-16T13:15:09.682588',\n",
       " 'originID': ObjectId('59b848f43339a2d2a5efafac')}"
      ]
     },
     "metadata": {},
     "output_type": "display_data"
    },
    {
     "data": {
      "text/plain": [
       "{'itisSearchURL': 'http://services.itis.gov/?wt=json&rows=10&q=tsn:554148',\n",
       " 'originCollection': 'gapspecies',\n",
       " 'originDate': '2017-09-16T13:15:09.867457',\n",
       " 'originID': ObjectId('59b848f53339a2d2a5efafad')}"
      ]
     },
     "metadata": {},
     "output_type": "display_data"
    },
    {
     "data": {
      "text/plain": [
       "{'itisSearchURL': 'http://services.itis.gov/?wt=json&rows=10&q=tsn:179003',\n",
       " 'originCollection': 'gapspecies',\n",
       " 'originDate': '2017-09-16T13:15:10.051631',\n",
       " 'originID': ObjectId('59b848f63339a2d2a5efafae')}"
      ]
     },
     "metadata": {},
     "output_type": "display_data"
    },
    {
     "data": {
      "text/plain": [
       "{'itisSearchURL': 'http://services.itis.gov/?wt=json&rows=10&q=tsn:207286',\n",
       " 'originCollection': 'gapspecies',\n",
       " 'originDate': '2017-09-16T13:15:10.233378',\n",
       " 'originID': ObjectId('59b848f63339a2d2a5efafaf')}"
      ]
     },
     "metadata": {},
     "output_type": "display_data"
    },
    {
     "data": {
      "text/plain": [
       "{'itisSearchURL': 'http://services.itis.gov/?wt=json&rows=10&q=tsn:173591',\n",
       " 'originCollection': 'gapspecies',\n",
       " 'originDate': '2017-09-16T13:15:10.423449',\n",
       " 'originID': ObjectId('59b848f73339a2d2a5efafb0')}"
      ]
     },
     "metadata": {},
     "output_type": "display_data"
    },
    {
     "data": {
      "text/plain": [
       "{'itisSearchURL': 'http://services.itis.gov/?wt=json&rows=10&q=tsn:178319',\n",
       " 'originCollection': 'gapspecies',\n",
       " 'originDate': '2017-09-16T13:15:10.603886',\n",
       " 'originID': ObjectId('59b848f83339a2d2a5efafb1')}"
      ]
     },
     "metadata": {},
     "output_type": "display_data"
    },
    {
     "data": {
      "text/plain": [
       "{'itisSearchURL': 'http://services.itis.gov/?wt=json&rows=10&q=tsn:179801',\n",
       " 'originCollection': 'gapspecies',\n",
       " 'originDate': '2017-09-16T13:15:10.789994',\n",
       " 'originID': ObjectId('59b848f93339a2d2a5efafb2')}"
      ]
     },
     "metadata": {},
     "output_type": "display_data"
    },
    {
     "data": {
      "text/plain": [
       "{'itisSearchURL': 'http://services.itis.gov/?wt=json&rows=10&q=tsn:173710',\n",
       " 'originCollection': 'gapspecies',\n",
       " 'originDate': '2017-09-16T13:15:10.975517',\n",
       " 'originID': ObjectId('59b848fa3339a2d2a5efafb3')}"
      ]
     },
     "metadata": {},
     "output_type": "display_data"
    },
    {
     "data": {
      "text/plain": [
       "{'itisSearchURL': 'http://services.itis.gov/?wt=json&rows=10&q=tsn:668320',\n",
       " 'originCollection': 'gapspecies',\n",
       " 'originDate': '2017-09-16T13:15:11.161142',\n",
       " 'originID': ObjectId('59b848fb3339a2d2a5efafb4')}"
      ]
     },
     "metadata": {},
     "output_type": "display_data"
    },
    {
     "data": {
      "text/plain": [
       "{'itisSearchURL': 'http://services.itis.gov/?wt=json&rows=10&q=tsn:176721',\n",
       " 'originCollection': 'gapspecies',\n",
       " 'originDate': '2017-09-16T13:15:11.343806',\n",
       " 'originID': ObjectId('59b848fb3339a2d2a5efafb5')}"
      ]
     },
     "metadata": {},
     "output_type": "display_data"
    },
    {
     "data": {
      "text/plain": [
       "{'itisSearchURL': 'http://services.itis.gov/?wt=json&rows=10&q=tsn:176292',\n",
       " 'originCollection': 'gapspecies',\n",
       " 'originDate': '2017-09-16T13:15:11.526791',\n",
       " 'originID': ObjectId('59b848fc3339a2d2a5efafb6')}"
      ]
     },
     "metadata": {},
     "output_type": "display_data"
    },
    {
     "data": {
      "text/plain": [
       "{'itisSearchURL': 'http://services.itis.gov/?wt=json&rows=10&q=tsn:173960',\n",
       " 'originCollection': 'gapspecies',\n",
       " 'originDate': '2017-09-16T13:15:11.725034',\n",
       " 'originID': ObjectId('59b848fd3339a2d2a5efafb7')}"
      ]
     },
     "metadata": {},
     "output_type": "display_data"
    },
    {
     "data": {
      "text/plain": [
       "{'itisSearchURL': 'http://services.itis.gov/?wt=json&rows=10&q=tsn:174280',\n",
       " 'originCollection': 'gapspecies',\n",
       " 'originDate': '2017-09-16T13:15:11.914911',\n",
       " 'originID': ObjectId('59b848fe3339a2d2a5efafb8')}"
      ]
     },
     "metadata": {},
     "output_type": "display_data"
    },
    {
     "data": {
      "text/plain": [
       "{'itisSearchURL': 'http://services.itis.gov/?wt=json&rows=10&q=tsn:173587',\n",
       " 'originCollection': 'gapspecies',\n",
       " 'originDate': '2017-09-16T13:15:12.104212',\n",
       " 'originID': ObjectId('59b848ff3339a2d2a5efafb9')}"
      ]
     },
     "metadata": {},
     "output_type": "display_data"
    },
    {
     "data": {
      "text/plain": [
       "{'itisSearchURL': 'http://services.itis.gov/?wt=json&rows=10&q=tsn:178250',\n",
       " 'originCollection': 'gapspecies',\n",
       " 'originDate': '2017-09-16T13:15:12.286256',\n",
       " 'originID': ObjectId('59b849003339a2d2a5efafba')}"
      ]
     },
     "metadata": {},
     "output_type": "display_data"
    },
    {
     "data": {
      "text/plain": [
       "{'itisSearchURL': 'http://services.itis.gov/?wt=json&rows=10&q=tsn:180192',\n",
       " 'originCollection': 'gapspecies',\n",
       " 'originDate': '2017-09-16T13:15:12.470937',\n",
       " 'originID': ObjectId('59b849013339a2d2a5efafbb')}"
      ]
     },
     "metadata": {},
     "output_type": "display_data"
    },
    {
     "data": {
      "text/plain": [
       "{'itisSearchURL': 'http://services.itis.gov/?wt=json&rows=10&q=tsn:178587',\n",
       " 'originCollection': 'gapspecies',\n",
       " 'originDate': '2017-09-16T13:15:12.653819',\n",
       " 'originID': ObjectId('59b849023339a2d2a5efafbc')}"
      ]
     },
     "metadata": {},
     "output_type": "display_data"
    },
    {
     "data": {
      "text/plain": [
       "{'itisSearchURL': 'http://services.itis.gov/?wt=json&rows=10&q=tsn:552466',\n",
       " 'originCollection': 'gapspecies',\n",
       " 'originDate': '2017-09-16T13:15:12.836320',\n",
       " 'originID': ObjectId('59b849033339a2d2a5efafbd')}"
      ]
     },
     "metadata": {},
     "output_type": "display_data"
    },
    {
     "data": {
      "text/plain": [
       "{'itisSearchURL': 'http://services.itis.gov/?wt=json&rows=10&q=tsn:179997',\n",
       " 'originCollection': 'gapspecies',\n",
       " 'originDate': '2017-09-16T13:15:13.022675',\n",
       " 'originID': ObjectId('59b849043339a2d2a5efafbe')}"
      ]
     },
     "metadata": {},
     "output_type": "display_data"
    },
    {
     "data": {
      "text/plain": [
       "{'itisSearchURL': 'http://services.itis.gov/?wt=json&rows=10&q=tsn:178262',\n",
       " 'originCollection': 'gapspecies',\n",
       " 'originDate': '2017-09-16T13:15:13.207520',\n",
       " 'originID': ObjectId('59b849053339a2d2a5efafbf')}"
      ]
     },
     "metadata": {},
     "output_type": "display_data"
    },
    {
     "data": {
      "text/plain": [
       "{'itisSearchURL': 'http://services.itis.gov/?wt=json&rows=10&q=tsn:573577',\n",
       " 'originCollection': 'gapspecies',\n",
       " 'originDate': '2017-09-16T13:15:13.392187',\n",
       " 'originID': ObjectId('59b849063339a2d2a5efafc0')}"
      ]
     },
     "metadata": {},
     "output_type": "display_data"
    },
    {
     "data": {
      "text/plain": [
       "{'itisSearchURL': 'http://services.itis.gov/?wt=json&rows=10&q=tsn:208323',\n",
       " 'originCollection': 'gapspecies',\n",
       " 'originDate': '2017-09-16T13:15:13.573220',\n",
       " 'originID': ObjectId('59b849073339a2d2a5efafc1')}"
      ]
     },
     "metadata": {},
     "output_type": "display_data"
    },
    {
     "data": {
      "text/plain": [
       "{'itisSearchURL': 'http://services.itis.gov/?wt=json&rows=10&q=tsn:208343',\n",
       " 'originCollection': 'gapspecies',\n",
       " 'originDate': '2017-09-16T13:15:13.758512',\n",
       " 'originID': ObjectId('59b849073339a2d2a5efafc2')}"
      ]
     },
     "metadata": {},
     "output_type": "display_data"
    },
    {
     "data": {
      "text/plain": [
       "{'itisSearchURL': 'http://services.itis.gov/?wt=json&rows=10&q=tsn:178330',\n",
       " 'originCollection': 'gapspecies',\n",
       " 'originDate': '2017-09-16T13:15:13.942726',\n",
       " 'originID': ObjectId('59b849083339a2d2a5efafc3')}"
      ]
     },
     "metadata": {},
     "output_type": "display_data"
    },
    {
     "data": {
      "text/plain": [
       "{'itisSearchURL': 'http://services.itis.gov/?wt=json&rows=10&q=tsn:554128',\n",
       " 'originCollection': 'gapspecies',\n",
       " 'originDate': '2017-09-16T13:15:14.129657',\n",
       " 'originID': ObjectId('59b849083339a2d2a5efafc4')}"
      ]
     },
     "metadata": {},
     "output_type": "display_data"
    },
    {
     "data": {
      "text/plain": [
       "{'itisSearchURL': 'http://services.itis.gov/?wt=json&rows=10&q=tsn:180343',\n",
       " 'originCollection': 'gapspecies',\n",
       " 'originDate': '2017-09-16T13:15:14.321138',\n",
       " 'originID': ObjectId('59b849093339a2d2a5efafc5')}"
      ]
     },
     "metadata": {},
     "output_type": "display_data"
    },
    {
     "data": {
      "text/plain": [
       "{'itisSearchURL': 'http://services.itis.gov/?wt=json&rows=10&q=tsn:178195',\n",
       " 'originCollection': 'gapspecies',\n",
       " 'originDate': '2017-09-16T13:15:14.824976',\n",
       " 'originID': ObjectId('59b849093339a2d2a5efafc6')}"
      ]
     },
     "metadata": {},
     "output_type": "display_data"
    },
    {
     "data": {
      "text/plain": [
       "{'itisSearchURL': 'http://services.itis.gov/?wt=json&rows=10&q=tsn:179983',\n",
       " 'originCollection': 'gapspecies',\n",
       " 'originDate': '2017-09-16T13:15:15.142704',\n",
       " 'originID': ObjectId('59b8490a3339a2d2a5efafc7')}"
      ]
     },
     "metadata": {},
     "output_type": "display_data"
    },
    {
     "data": {
      "text/plain": [
       "{'itisSearchURL': 'http://services.itis.gov/?wt=json&rows=10&q=tsn:174724',\n",
       " 'originCollection': 'gapspecies',\n",
       " 'originDate': '2017-09-16T13:15:15.962456',\n",
       " 'originID': ObjectId('59b8490a3339a2d2a5efafc8')}"
      ]
     },
     "metadata": {},
     "output_type": "display_data"
    },
    {
     "data": {
      "text/plain": [
       "{'itisSearchURL': 'http://services.itis.gov/?wt=json&rows=10&q=tsn:180008',\n",
       " 'originCollection': 'gapspecies',\n",
       " 'originDate': '2017-09-16T13:15:16.472556',\n",
       " 'originID': ObjectId('59b8490b3339a2d2a5efafc9')}"
      ]
     },
     "metadata": {},
     "output_type": "display_data"
    },
    {
     "data": {
      "text/plain": [
       "{'itisSearchURL': 'http://services.itis.gov/?wt=json&rows=10&q=tsn:173655',\n",
       " 'originCollection': 'gapspecies',\n",
       " 'originDate': '2017-09-16T13:15:16.944509',\n",
       " 'originID': ObjectId('59b8490b3339a2d2a5efafca')}"
      ]
     },
     "metadata": {},
     "output_type": "display_data"
    },
    {
     "data": {
      "text/plain": [
       "{'itisSearchURL': 'http://services.itis.gov/?wt=json&rows=10&q=tsn:176959',\n",
       " 'originCollection': 'gapspecies',\n",
       " 'originDate': '2017-09-16T13:15:17.621674',\n",
       " 'originID': ObjectId('59b8490b3339a2d2a5efafcb')}"
      ]
     },
     "metadata": {},
     "output_type": "display_data"
    },
    {
     "data": {
      "text/plain": [
       "{'itisSearchURL': 'http://services.itis.gov/?wt=json&rows=10&q=tsn:178529',\n",
       " 'originCollection': 'gapspecies',\n",
       " 'originDate': '2017-09-16T13:15:18.161182',\n",
       " 'originID': ObjectId('59b8490c3339a2d2a5efafcc')}"
      ]
     },
     "metadata": {},
     "output_type": "display_data"
    },
    {
     "data": {
      "text/plain": [
       "{'itisSearchURL': 'http://services.itis.gov/?wt=json&rows=10&q=tsn:175272',\n",
       " 'originCollection': 'gapspecies',\n",
       " 'originDate': '2017-09-16T13:15:18.346812',\n",
       " 'originID': ObjectId('59b8490c3339a2d2a5efafcd')}"
      ]
     },
     "metadata": {},
     "output_type": "display_data"
    },
    {
     "data": {
      "text/plain": [
       "{'itisSearchURL': 'http://services.itis.gov/?wt=json&rows=10&q=tsn:179116',\n",
       " 'originCollection': 'gapspecies',\n",
       " 'originDate': '2017-09-16T13:15:18.531949',\n",
       " 'originID': ObjectId('59b8490c3339a2d2a5efafce')}"
      ]
     },
     "metadata": {},
     "output_type": "display_data"
    },
    {
     "data": {
      "text/plain": [
       "{'itisSearchURL': 'http://services.itis.gov/?wt=json&rows=10&q=tsn:633864',\n",
       " 'originCollection': 'gapspecies',\n",
       " 'originDate': '2017-09-16T13:15:18.715693',\n",
       " 'originID': ObjectId('59b8490d3339a2d2a5efafcf')}"
      ]
     },
     "metadata": {},
     "output_type": "display_data"
    },
    {
     "data": {
      "text/plain": [
       "{'itisSearchURL': 'http://services.itis.gov/?wt=json&rows=10&q=tsn:203452',\n",
       " 'originCollection': 'gapspecies',\n",
       " 'originDate': '2017-09-16T13:15:18.898083',\n",
       " 'originID': ObjectId('59b8490d3339a2d2a5efafd0')}"
      ]
     },
     "metadata": {},
     "output_type": "display_data"
    },
    {
     "data": {
      "text/plain": [
       "{'itisSearchURL': 'http://services.itis.gov/?wt=json&rows=10&q=tsn:180198',\n",
       " 'originCollection': 'gapspecies',\n",
       " 'originDate': '2017-09-16T13:15:19.096939',\n",
       " 'originID': ObjectId('59b8490e3339a2d2a5efafd1')}"
      ]
     },
     "metadata": {},
     "output_type": "display_data"
    },
    {
     "data": {
      "text/plain": [
       "{'itisSearchURL': 'http://services.itis.gov/?wt=json&rows=10&q=tsn:180312',\n",
       " 'originCollection': 'gapspecies',\n",
       " 'originDate': '2017-09-16T13:15:19.287702',\n",
       " 'originID': ObjectId('59b8490e3339a2d2a5efafd2')}"
      ]
     },
     "metadata": {},
     "output_type": "display_data"
    },
    {
     "data": {
      "text/plain": [
       "{'itisSearchURL': 'http://services.itis.gov/?wt=json&rows=10&q=tsn:180244',\n",
       " 'originCollection': 'gapspecies',\n",
       " 'originDate': '2017-09-16T13:15:19.474657',\n",
       " 'originID': ObjectId('59b8490e3339a2d2a5efafd3')}"
      ]
     },
     "metadata": {},
     "output_type": "display_data"
    },
    {
     "data": {
      "text/plain": [
       "{'itisSearchURL': 'http://services.itis.gov/?wt=json&rows=10&q=tsn:173426',\n",
       " 'originCollection': 'gapspecies',\n",
       " 'originDate': '2017-09-16T13:15:19.661381',\n",
       " 'originID': ObjectId('59b8490f3339a2d2a5efafd4')}"
      ]
     },
     "metadata": {},
     "output_type": "display_data"
    },
    {
     "data": {
      "text/plain": [
       "{'itisSearchURL': 'http://services.itis.gov/?wt=json&rows=10&q=tsn:176923',\n",
       " 'originCollection': 'gapspecies',\n",
       " 'originDate': '2017-09-16T13:15:19.842604',\n",
       " 'originID': ObjectId('59b849103339a2d2a5efafd5')}"
      ]
     },
     "metadata": {},
     "output_type": "display_data"
    },
    {
     "data": {
      "text/plain": [
       "{'itisSearchURL': 'http://services.itis.gov/?wt=json&rows=10&q=tsn:175147',\n",
       " 'originCollection': 'gapspecies',\n",
       " 'originDate': '2017-09-16T13:15:20.024741',\n",
       " 'originID': ObjectId('59b849103339a2d2a5efafd6')}"
      ]
     },
     "metadata": {},
     "output_type": "display_data"
    },
    {
     "data": {
      "text/plain": [
       "{'itisSearchURL': 'http://services.itis.gov/?wt=json&rows=10&q=tsn:180719',\n",
       " 'originCollection': 'gapspecies',\n",
       " 'originDate': '2017-09-16T13:15:20.217406',\n",
       " 'originID': ObjectId('59b849103339a2d2a5efafd7')}"
      ]
     },
     "metadata": {},
     "output_type": "display_data"
    },
    {
     "data": {
      "text/plain": [
       "{'itisSearchURL': 'http://services.itis.gov/?wt=json&rows=10&q=tsn:179402',\n",
       " 'originCollection': 'gapspecies',\n",
       " 'originDate': '2017-09-16T13:15:20.414128',\n",
       " 'originID': ObjectId('59b849113339a2d2a5efafd8')}"
      ]
     },
     "metadata": {},
     "output_type": "display_data"
    },
    {
     "data": {
      "text/plain": [
       "{'itisSearchURL': 'http://services.itis.gov/?wt=json&rows=10&q=tsn:179377',\n",
       " 'originCollection': 'gapspecies',\n",
       " 'originDate': '2017-09-16T13:15:20.601740',\n",
       " 'originID': ObjectId('59b849113339a2d2a5efafd9')}"
      ]
     },
     "metadata": {},
     "output_type": "display_data"
    },
    {
     "data": {
      "text/plain": [
       "{'itisSearchURL': 'http://services.itis.gov/?wt=json&rows=10&q=tsn:179259',\n",
       " 'originCollection': 'gapspecies',\n",
       " 'originDate': '2017-09-16T13:15:20.784718',\n",
       " 'originID': ObjectId('59b849113339a2d2a5efafda')}"
      ]
     },
     "metadata": {},
     "output_type": "display_data"
    },
    {
     "data": {
      "text/plain": [
       "{'itisSearchURL': 'http://services.itis.gov/?wt=json&rows=10&q=tsn:668242',\n",
       " 'originCollection': 'gapspecies',\n",
       " 'originDate': '2017-09-16T13:15:20.971848',\n",
       " 'originID': ObjectId('59b849123339a2d2a5efafdb')}"
      ]
     },
     "metadata": {},
     "output_type": "display_data"
    },
    {
     "data": {
      "text/plain": [
       "{'itisSearchURL': 'http://services.itis.gov/?wt=json&rows=10&q=tsn:175599',\n",
       " 'originCollection': 'gapspecies',\n",
       " 'originDate': '2017-09-16T13:15:21.154628',\n",
       " 'originID': ObjectId('59b849123339a2d2a5efafdc')}"
      ]
     },
     "metadata": {},
     "output_type": "display_data"
    },
    {
     "data": {
      "text/plain": [
       "{'itisSearchURL': 'http://services.itis.gov/?wt=json&rows=10&q=tsn:179231',\n",
       " 'originCollection': 'gapspecies',\n",
       " 'originDate': '2017-09-16T13:15:21.337191',\n",
       " 'originID': ObjectId('59b849123339a2d2a5efafdd')}"
      ]
     },
     "metadata": {},
     "output_type": "display_data"
    },
    {
     "data": {
      "text/plain": [
       "{'itisSearchURL': 'http://services.itis.gov/?wt=json&rows=10&q=tsn:554129',\n",
       " 'originCollection': 'gapspecies',\n",
       " 'originDate': '2017-09-16T13:15:21.524095',\n",
       " 'originID': ObjectId('59b849123339a2d2a5efafde')}"
      ]
     },
     "metadata": {},
     "output_type": "display_data"
    },
    {
     "data": {
      "text/plain": [
       "{'itisSearchURL': 'http://services.itis.gov/?wt=json&rows=10&q=tsn:554385',\n",
       " 'originCollection': 'gapspecies',\n",
       " 'originDate': '2017-09-16T13:15:21.711166',\n",
       " 'originID': ObjectId('59b849123339a2d2a5efafdf')}"
      ]
     },
     "metadata": {},
     "output_type": "display_data"
    },
    {
     "data": {
      "text/plain": [
       "{'itisSearchURL': 'http://services.itis.gov/?wt=json&rows=10&q=tsn:177935',\n",
       " 'originCollection': 'gapspecies',\n",
       " 'originDate': '2017-09-16T13:15:21.892727',\n",
       " 'originID': ObjectId('59b849123339a2d2a5efafe0')}"
      ]
     },
     "metadata": {},
     "output_type": "display_data"
    },
    {
     "data": {
      "text/plain": [
       "{'itisSearchURL': 'http://services.itis.gov/?wt=json&rows=10&q=tsn:175613',\n",
       " 'originCollection': 'gapspecies',\n",
       " 'originDate': '2017-09-16T13:15:22.075086',\n",
       " 'originID': ObjectId('59b849133339a2d2a5efafe1')}"
      ]
     },
     "metadata": {},
     "output_type": "display_data"
    },
    {
     "data": {
      "text/plain": [
       "{'itisSearchURL': 'http://services.itis.gov/?wt=json&rows=10&q=tsn:175125',\n",
       " 'originCollection': 'gapspecies',\n",
       " 'originDate': '2017-09-16T13:15:22.257508',\n",
       " 'originID': ObjectId('59b849133339a2d2a5efafe2')}"
      ]
     },
     "metadata": {},
     "output_type": "display_data"
    },
    {
     "data": {
      "text/plain": [
       "{'itisSearchURL': 'http://services.itis.gov/?wt=json&rows=10&q=tsn:668668',\n",
       " 'originCollection': 'gapspecies',\n",
       " 'originDate': '2017-09-16T13:15:22.487313',\n",
       " 'originID': ObjectId('59b849133339a2d2a5efafe3')}"
      ]
     },
     "metadata": {},
     "output_type": "display_data"
    },
    {
     "data": {
      "text/plain": [
       "{'itisSearchURL': 'http://services.itis.gov/?wt=json&rows=10&q=tsn:180152',\n",
       " 'originCollection': 'gapspecies',\n",
       " 'originDate': '2017-09-16T13:15:22.674739',\n",
       " 'originID': ObjectId('59b849133339a2d2a5efafe4')}"
      ]
     },
     "metadata": {},
     "output_type": "display_data"
    },
    {
     "data": {
      "text/plain": [
       "{'itisSearchURL': 'http://services.itis.gov/?wt=json&rows=10&q=tsn:174148',\n",
       " 'originCollection': 'gapspecies',\n",
       " 'originDate': '2017-09-16T13:15:22.871609',\n",
       " 'originID': ObjectId('59b849133339a2d2a5efafe5')}"
      ]
     },
     "metadata": {},
     "output_type": "display_data"
    },
    {
     "data": {
      "text/plain": [
       "{'itisSearchURL': 'http://services.itis.gov/?wt=json&rows=10&q=tsn:173794',\n",
       " 'originCollection': 'gapspecies',\n",
       " 'originDate': '2017-09-16T13:15:23.059448',\n",
       " 'originID': ObjectId('59b849143339a2d2a5efafe6')}"
      ]
     },
     "metadata": {},
     "output_type": "display_data"
    },
    {
     "data": {
      "text/plain": [
       "{'itisSearchURL': 'http://services.itis.gov/?wt=json&rows=10&q=tsn:174131',\n",
       " 'originCollection': 'gapspecies',\n",
       " 'originDate': '2017-09-16T13:15:23.242511',\n",
       " 'originID': ObjectId('59b849143339a2d2a5efafe7')}"
      ]
     },
     "metadata": {},
     "output_type": "display_data"
    },
    {
     "data": {
      "text/plain": [
       "{'itisSearchURL': 'http://services.itis.gov/?wt=json&rows=10&q=tsn:173805',\n",
       " 'originCollection': 'gapspecies',\n",
       " 'originDate': '2017-09-16T13:15:23.429842',\n",
       " 'originID': ObjectId('59b849143339a2d2a5efafe8')}"
      ]
     },
     "metadata": {},
     "output_type": "display_data"
    },
    {
     "data": {
      "text/plain": [
       "{'itisSearchURL': 'http://services.itis.gov/?wt=json&rows=10&q=tsn:174226',\n",
       " 'originCollection': 'gapspecies',\n",
       " 'originDate': '2017-09-16T13:15:23.617653',\n",
       " 'originID': ObjectId('59b849153339a2d2a5efafe9')}"
      ]
     },
     "metadata": {},
     "output_type": "display_data"
    },
    {
     "data": {
      "text/plain": [
       "{'itisSearchURL': 'http://services.itis.gov/?wt=json&rows=10&q=tsn:174306',\n",
       " 'originCollection': 'gapspecies',\n",
       " 'originDate': '2017-09-16T13:15:23.801856',\n",
       " 'originID': ObjectId('59b849153339a2d2a5efafea')}"
      ]
     },
     "metadata": {},
     "output_type": "display_data"
    },
    {
     "data": {
      "text/plain": [
       "{'itisSearchURL': 'http://services.itis.gov/?wt=json&rows=10&q=tsn:209080',\n",
       " 'originCollection': 'gapspecies',\n",
       " 'originDate': '2017-09-16T13:15:23.986590',\n",
       " 'originID': ObjectId('59b849153339a2d2a5efafeb')}"
      ]
     },
     "metadata": {},
     "output_type": "display_data"
    },
    {
     "data": {
      "text/plain": [
       "{'itisSearchURL': 'http://services.itis.gov/?wt=json&rows=10&q=tsn:174155',\n",
       " 'originCollection': 'gapspecies',\n",
       " 'originDate': '2017-09-16T13:15:24.261808',\n",
       " 'originID': ObjectId('59b849153339a2d2a5efafec')}"
      ]
     },
     "metadata": {},
     "output_type": "display_data"
    },
    {
     "data": {
      "text/plain": [
       "{'itisSearchURL': 'http://services.itis.gov/?wt=json&rows=10&q=tsn:174310',\n",
       " 'originCollection': 'gapspecies',\n",
       " 'originDate': '2017-09-16T13:15:24.592632',\n",
       " 'originID': ObjectId('59b849153339a2d2a5efafed')}"
      ]
     },
     "metadata": {},
     "output_type": "display_data"
    },
    {
     "data": {
      "text/plain": [
       "{'itisSearchURL': 'http://services.itis.gov/?wt=json&rows=10&q=nameWOInd:Sceloporus\\\\%20uniformis',\n",
       " 'originCollection': 'gapspecies',\n",
       " 'originDate': '2017-09-16T13:15:24.897914',\n",
       " 'originID': ObjectId('59b849153339a2d2a5efafee')}"
      ]
     },
     "metadata": {},
     "output_type": "display_data"
    },
    {
     "data": {
      "text/plain": [
       "{'itisSearchURL': 'http://services.itis.gov/?wt=json&rows=10&q=tsn:174146',\n",
       " 'originCollection': 'gapspecies',\n",
       " 'originDate': '2017-09-16T13:15:25.722543',\n",
       " 'originID': ObjectId('59b849153339a2d2a5efafef')}"
      ]
     },
     "metadata": {},
     "output_type": "display_data"
    },
    {
     "data": {
      "text/plain": [
       "{'itisSearchURL': 'http://services.itis.gov/?wt=json&rows=10&q=tsn:173802',\n",
       " 'originCollection': 'gapspecies',\n",
       " 'originDate': '2017-09-16T13:15:26.244277',\n",
       " 'originID': ObjectId('59b849163339a2d2a5efaff0')}"
      ]
     },
     "metadata": {},
     "output_type": "display_data"
    },
    {
     "data": {
      "text/plain": [
       "{'itisSearchURL': 'http://services.itis.gov/?wt=json&rows=10&q=tsn:174331',\n",
       " 'originCollection': 'gapspecies',\n",
       " 'originDate': '2017-09-16T13:15:26.916645',\n",
       " 'originID': ObjectId('59b849163339a2d2a5efaff1')}"
      ]
     },
     "metadata": {},
     "output_type": "display_data"
    },
    {
     "data": {
      "text/plain": [
       "{'itisSearchURL': 'http://services.itis.gov/?wt=json&rows=10&q=tsn:180250',\n",
       " 'originCollection': 'gapspecies',\n",
       " 'originDate': '2017-09-16T13:15:27.407424',\n",
       " 'originID': ObjectId('59b849163339a2d2a5efaff2')}"
      ]
     },
     "metadata": {},
     "output_type": "display_data"
    },
    {
     "data": {
      "text/plain": [
       "{'itisSearchURL': 'http://services.itis.gov/?wt=json&rows=10&q=tsn:180549',\n",
       " 'originCollection': 'gapspecies',\n",
       " 'originDate': '2017-09-16T13:15:27.940759',\n",
       " 'originID': ObjectId('59b849163339a2d2a5efaff3')}"
      ]
     },
     "metadata": {},
     "output_type": "display_data"
    },
    {
     "data": {
      "text/plain": [
       "{'itisSearchURL': 'http://services.itis.gov/?wt=json&rows=10&q=tsn:180222',\n",
       " 'originCollection': 'gapspecies',\n",
       " 'originDate': '2017-09-16T13:15:28.124347',\n",
       " 'originID': ObjectId('59b849163339a2d2a5efaff4')}"
      ]
     },
     "metadata": {},
     "output_type": "display_data"
    },
    {
     "data": {
      "text/plain": [
       "{'itisSearchURL': 'http://services.itis.gov/?wt=json&rows=10&q=tsn:180225',\n",
       " 'originCollection': 'gapspecies',\n",
       " 'originDate': '2017-09-16T13:15:28.306848',\n",
       " 'originID': ObjectId('59b849163339a2d2a5efaff5')}"
      ]
     },
     "metadata": {},
     "output_type": "display_data"
    },
    {
     "data": {
      "text/plain": [
       "{'itisSearchURL': 'http://services.itis.gov/?wt=json&rows=10&q=tsn:180287',\n",
       " 'originCollection': 'gapspecies',\n",
       " 'originDate': '2017-09-16T13:15:28.489566',\n",
       " 'originID': ObjectId('59b849173339a2d2a5efaff6')}"
      ]
     },
     "metadata": {},
     "output_type": "display_data"
    },
    {
     "data": {
      "text/plain": [
       "{'itisSearchURL': 'http://services.itis.gov/?wt=json&rows=10&q=tsn:180706',\n",
       " 'originCollection': 'gapspecies',\n",
       " 'originDate': '2017-09-16T13:15:28.673527',\n",
       " 'originID': ObjectId('59b849173339a2d2a5efaff7')}"
      ]
     },
     "metadata": {},
     "output_type": "display_data"
    },
    {
     "data": {
      "text/plain": [
       "{'itisSearchURL': 'http://services.itis.gov/?wt=json&rows=10&q=tsn:179082',\n",
       " 'originCollection': 'gapspecies',\n",
       " 'originDate': '2017-09-16T13:15:28.862000',\n",
       " 'originID': ObjectId('59b849173339a2d2a5efaff8')}"
      ]
     },
     "metadata": {},
     "output_type": "display_data"
    },
    {
     "data": {
      "text/plain": [
       "{'itisSearchURL': 'http://services.itis.gov/?wt=json&rows=10&q=tsn:676903',\n",
       " 'originCollection': 'gapspecies',\n",
       " 'originDate': '2017-09-16T13:15:29.112562',\n",
       " 'originID': ObjectId('59b849173339a2d2a5efaff9')}"
      ]
     },
     "metadata": {},
     "output_type": "display_data"
    },
    {
     "data": {
      "text/plain": [
       "{'itisSearchURL': 'http://services.itis.gov/?wt=json&rows=10&q=tsn:180194',\n",
       " 'originCollection': 'gapspecies',\n",
       " 'originDate': '2017-09-16T13:15:29.293209',\n",
       " 'originID': ObjectId('59b849173339a2d2a5efaffa')}"
      ]
     },
     "metadata": {},
     "output_type": "display_data"
    },
    {
     "data": {
      "text/plain": [
       "{'itisSearchURL': 'http://services.itis.gov/?wt=json&rows=10&q=tsn:180126',\n",
       " 'originCollection': 'gapspecies',\n",
       " 'originDate': '2017-09-16T13:15:29.490658',\n",
       " 'originID': ObjectId('59b849183339a2d2a5efaffb')}"
      ]
     },
     "metadata": {},
     "output_type": "display_data"
    },
    {
     "data": {
      "text/plain": [
       "{'itisSearchURL': 'http://services.itis.gov/?wt=json&rows=10&q=tsn:685724',\n",
       " 'originCollection': 'gapspecies',\n",
       " 'originDate': '2017-09-16T13:15:29.672342',\n",
       " 'originID': ObjectId('59b849183339a2d2a5efaffc')}"
      ]
     },
     "metadata": {},
     "output_type": "display_data"
    },
    {
     "data": {
      "text/plain": [
       "{'itisSearchURL': 'http://services.itis.gov/?wt=json&rows=10&q=tsn:178785',\n",
       " 'originCollection': 'gapspecies',\n",
       " 'originDate': '2017-09-16T13:15:29.888134',\n",
       " 'originID': ObjectId('59b849183339a2d2a5efaffd')}"
      ]
     },
     "metadata": {},
     "output_type": "display_data"
    },
    {
     "data": {
      "text/plain": [
       "{'itisSearchURL': 'http://services.itis.gov/?wt=json&rows=10&q=tsn:179083',\n",
       " 'originCollection': 'gapspecies',\n",
       " 'originDate': '2017-09-16T13:15:30.069611',\n",
       " 'originID': ObjectId('59b849193339a2d2a5efaffe')}"
      ]
     },
     "metadata": {},
     "output_type": "display_data"
    },
    {
     "data": {
      "text/plain": [
       "{'itisSearchURL': 'http://services.itis.gov/?wt=json&rows=10&q=tsn:179454',\n",
       " 'originCollection': 'gapspecies',\n",
       " 'originDate': '2017-09-16T13:15:30.252236',\n",
       " 'originID': ObjectId('59b849193339a2d2a5efafff')}"
      ]
     },
     "metadata": {},
     "output_type": "display_data"
    },
    {
     "data": {
      "text/plain": [
       "{'itisSearchURL': 'http://services.itis.gov/?wt=json&rows=10&q=tsn:178305',\n",
       " 'originCollection': 'gapspecies',\n",
       " 'originDate': '2017-09-16T13:15:30.432352',\n",
       " 'originID': ObjectId('59b849193339a2d2a5efb000')}"
      ]
     },
     "metadata": {},
     "output_type": "display_data"
    },
    {
     "data": {
      "text/plain": [
       "{'itisSearchURL': 'http://services.itis.gov/?wt=json&rows=10&q=tsn:180103',\n",
       " 'originCollection': 'gapspecies',\n",
       " 'originDate': '2017-09-16T13:15:30.624540',\n",
       " 'originID': ObjectId('59b8491a3339a2d2a5efb001')}"
      ]
     },
     "metadata": {},
     "output_type": "display_data"
    },
    {
     "data": {
      "text/plain": [
       "{'itisSearchURL': 'http://services.itis.gov/?wt=json&rows=10&q=tsn:180297',\n",
       " 'originCollection': 'gapspecies',\n",
       " 'originDate': '2017-09-16T13:15:30.815749',\n",
       " 'originID': ObjectId('59b8491a3339a2d2a5efb002')}"
      ]
     },
     "metadata": {},
     "output_type": "display_data"
    },
    {
     "data": {
      "text/plain": [
       "{'itisSearchURL': 'http://services.itis.gov/?wt=json&rows=10&q=tsn:173520',\n",
       " 'originCollection': 'gapspecies',\n",
       " 'originDate': '2017-09-16T13:15:31.009254',\n",
       " 'originID': ObjectId('59b8491a3339a2d2a5efb003')}"
      ]
     },
     "metadata": {},
     "output_type": "display_data"
    },
    {
     "data": {
      "text/plain": [
       "{'itisSearchURL': 'http://services.itis.gov/?wt=json&rows=10&q=tsn:180636',\n",
       " 'originCollection': 'gapspecies',\n",
       " 'originDate': '2017-09-16T13:15:31.229620',\n",
       " 'originID': ObjectId('59b8491b3339a2d2a5efb004')}"
      ]
     },
     "metadata": {},
     "output_type": "display_data"
    },
    {
     "data": {
      "text/plain": [
       "{'itisSearchURL': 'http://services.itis.gov/?wt=json&rows=10&q=tsn:180349',\n",
       " 'originCollection': 'gapspecies',\n",
       " 'originDate': '2017-09-16T13:15:31.423860',\n",
       " 'originID': ObjectId('59b8491b3339a2d2a5efb005')}"
      ]
     },
     "metadata": {},
     "output_type": "display_data"
    },
    {
     "data": {
      "text/plain": [
       "{'itisSearchURL': 'http://services.itis.gov/?wt=json&rows=10&q=tsn:173638',\n",
       " 'originCollection': 'gapspecies',\n",
       " 'originDate': '2017-09-16T13:15:31.604305',\n",
       " 'originID': ObjectId('59b8491b3339a2d2a5efb006')}"
      ]
     },
     "metadata": {},
     "output_type": "display_data"
    },
    {
     "data": {
      "text/plain": [
       "{'itisSearchURL': 'http://services.itis.gov/?wt=json&rows=10&q=tsn:550252',\n",
       " 'originCollection': 'gapspecies',\n",
       " 'originDate': '2017-09-16T13:15:31.788591',\n",
       " 'originID': ObjectId('59b8491b3339a2d2a5efb007')}"
      ]
     },
     "metadata": {},
     "output_type": "display_data"
    },
    {
     "data": {
      "text/plain": [
       "{'itisSearchURL': 'http://services.itis.gov/?wt=json&rows=10&q=tsn:178610',\n",
       " 'originCollection': 'gapspecies',\n",
       " 'originDate': '2017-09-16T13:15:31.970860',\n",
       " 'originID': ObjectId('59b8491b3339a2d2a5efb008')}"
      ]
     },
     "metadata": {},
     "output_type": "display_data"
    },
    {
     "data": {
      "text/plain": [
       "{'itisSearchURL': 'http://services.itis.gov/?wt=json&rows=10&q=tsn:709803',\n",
       " 'originCollection': 'gapspecies',\n",
       " 'originDate': '2017-09-16T13:15:32.195943',\n",
       " 'originID': ObjectId('59b8491c3339a2d2a5efb009')}"
      ]
     },
     "metadata": {},
     "output_type": "display_data"
    },
    {
     "data": {
      "text/plain": [
       "{'itisSearchURL': 'http://services.itis.gov/?wt=json&rows=10&q=tsn:179008',\n",
       " 'originCollection': 'gapspecies',\n",
       " 'originDate': '2017-09-16T13:15:32.421914',\n",
       " 'originID': ObjectId('59b8491c3339a2d2a5efb00a')}"
      ]
     },
     "metadata": {},
     "output_type": "display_data"
    },
    {
     "data": {
      "text/plain": [
       "{'itisSearchURL': 'http://services.itis.gov/?wt=json&rows=10&q=tsn:208657',\n",
       " 'originCollection': 'gapspecies',\n",
       " 'originDate': '2017-09-16T13:15:32.607680',\n",
       " 'originID': ObjectId('59b8491c3339a2d2a5efb00b')}"
      ]
     },
     "metadata": {},
     "output_type": "display_data"
    },
    {
     "data": {
      "text/plain": [
       "{'itisSearchURL': 'http://services.itis.gov/?wt=json&rows=10&q=tsn:173671',\n",
       " 'originCollection': 'gapspecies',\n",
       " 'originDate': '2017-09-16T13:15:32.787744',\n",
       " 'originID': ObjectId('59b8491c3339a2d2a5efb00c')}"
      ]
     },
     "metadata": {},
     "output_type": "display_data"
    },
    {
     "data": {
      "text/plain": [
       "{'itisSearchURL': 'http://services.itis.gov/?wt=json&rows=10&q=tsn:174685',\n",
       " 'originCollection': 'gapspecies',\n",
       " 'originDate': '2017-09-16T13:15:32.972429',\n",
       " 'originID': ObjectId('59b8491d3339a2d2a5efb00d')}"
      ]
     },
     "metadata": {},
     "output_type": "display_data"
    },
    {
     "data": {
      "text/plain": [
       "{'itisSearchURL': 'http://services.itis.gov/?wt=json&rows=10&q=tsn:552503',\n",
       " 'originCollection': 'gapspecies',\n",
       " 'originDate': '2017-09-16T13:15:33.175304',\n",
       " 'originID': ObjectId('59b8491d3339a2d2a5efb00e')}"
      ]
     },
     "metadata": {},
     "output_type": "display_data"
    },
    {
     "data": {
      "text/plain": [
       "{'itisSearchURL': 'http://services.itis.gov/?wt=json&rows=10&q=tsn:554025',\n",
       " 'originCollection': 'gapspecies',\n",
       " 'originDate': '2017-09-16T13:15:33.358299',\n",
       " 'originID': ObjectId('59b8491d3339a2d2a5efb00f')}"
      ]
     },
     "metadata": {},
     "output_type": "display_data"
    },
    {
     "data": {
      "text/plain": [
       "{'itisSearchURL': 'http://services.itis.gov/?wt=json&rows=10&q=tsn:176971',\n",
       " 'originCollection': 'gapspecies',\n",
       " 'originDate': '2017-09-16T13:15:33.548181',\n",
       " 'originID': ObjectId('59b8491d3339a2d2a5efb010')}"
      ]
     },
     "metadata": {},
     "output_type": "display_data"
    },
    {
     "data": {
      "text/plain": [
       "{'itisSearchURL': 'http://services.itis.gov/?wt=json&rows=10&q=tsn:180014',\n",
       " 'originCollection': 'gapspecies',\n",
       " 'originDate': '2017-09-16T13:15:33.735390',\n",
       " 'originID': ObjectId('59b8491e3339a2d2a5efb011')}"
      ]
     },
     "metadata": {},
     "output_type": "display_data"
    },
    {
     "data": {
      "text/plain": [
       "{'itisSearchURL': 'http://services.itis.gov/?wt=json&rows=10&q=tsn:176793',\n",
       " 'originCollection': 'gapspecies',\n",
       " 'originDate': '2017-09-16T13:15:34.041479',\n",
       " 'originID': ObjectId('59b8491e3339a2d2a5efb012')}"
      ]
     },
     "metadata": {},
     "output_type": "display_data"
    },
    {
     "data": {
      "text/plain": [
       "{'itisSearchURL': 'http://services.itis.gov/?wt=json&rows=10&q=tsn:178788',\n",
       " 'originCollection': 'gapspecies',\n",
       " 'originDate': '2017-09-16T13:15:34.626496',\n",
       " 'originID': ObjectId('59b8491e3339a2d2a5efb013')}"
      ]
     },
     "metadata": {},
     "output_type": "display_data"
    },
    {
     "data": {
      "text/plain": [
       "{'itisSearchURL': 'http://services.itis.gov/?wt=json&rows=10&q=tsn:174095',\n",
       " 'originCollection': 'gapspecies',\n",
       " 'originDate': '2017-09-16T13:15:35.208519',\n",
       " 'originID': ObjectId('59b8491e3339a2d2a5efb014')}"
      ]
     },
     "metadata": {},
     "output_type": "display_data"
    },
    {
     "data": {
      "text/plain": [
       "{'itisSearchURL': 'http://services.itis.gov/?wt=json&rows=10&q=tsn:173780',\n",
       " 'originCollection': 'gapspecies',\n",
       " 'originDate': '2017-09-16T13:15:35.675981',\n",
       " 'originID': ObjectId('59b8491e3339a2d2a5efb015')}"
      ]
     },
     "metadata": {},
     "output_type": "display_data"
    },
    {
     "data": {
      "text/plain": [
       "{'itisSearchURL': 'http://services.itis.gov/?wt=json&rows=10&q=tsn:173706',\n",
       " 'originCollection': 'gapspecies',\n",
       " 'originDate': '2017-09-16T13:15:36.667437',\n",
       " 'originID': ObjectId('59b8491f3339a2d2a5efb016')}"
      ]
     },
     "metadata": {},
     "output_type": "display_data"
    },
    {
     "data": {
      "text/plain": [
       "{'itisSearchURL': 'http://services.itis.gov/?wt=json&rows=10&q=tsn:208281',\n",
       " 'originCollection': 'gapspecies',\n",
       " 'originDate': '2017-09-16T13:15:37.177704',\n",
       " 'originID': ObjectId('59b8491f3339a2d2a5efb017')}"
      ]
     },
     "metadata": {},
     "output_type": "display_data"
    },
    {
     "data": {
      "text/plain": [
       "{'itisSearchURL': 'http://services.itis.gov/?wt=json&rows=10&q=tsn:173937',\n",
       " 'originCollection': 'gapspecies',\n",
       " 'originDate': '2017-09-16T13:15:37.709009',\n",
       " 'originID': ObjectId('59b8491f3339a2d2a5efb018')}"
      ]
     },
     "metadata": {},
     "output_type": "display_data"
    },
    {
     "data": {
      "text/plain": [
       "{'itisSearchURL': 'http://services.itis.gov/?wt=json&rows=10&q=tsn:209147',\n",
       " 'originCollection': 'gapspecies',\n",
       " 'originDate': '2017-09-16T13:15:37.895314',\n",
       " 'originID': ObjectId('59b849203339a2d2a5efb019')}"
      ]
     },
     "metadata": {},
     "output_type": "display_data"
    },
    {
     "data": {
      "text/plain": [
       "{'itisSearchURL': 'http://services.itis.gov/?wt=json&rows=10&q=tsn:173856',\n",
       " 'originCollection': 'gapspecies',\n",
       " 'originDate': '2017-09-16T13:15:38.086418',\n",
       " 'originID': ObjectId('59b849203339a2d2a5efb01a')}"
      ]
     },
     "metadata": {},
     "output_type": "display_data"
    },
    {
     "data": {
      "text/plain": [
       "{'itisSearchURL': 'http://services.itis.gov/?wt=json&rows=10&q=tsn:564574',\n",
       " 'originCollection': 'gapspecies',\n",
       " 'originDate': '2017-09-16T13:15:38.280612',\n",
       " 'originID': ObjectId('59b849203339a2d2a5efb01b')}"
      ]
     },
     "metadata": {},
     "output_type": "display_data"
    },
    {
     "data": {
      "text/plain": [
       "{'itisSearchURL': 'http://services.itis.gov/?wt=json&rows=10&q=tsn:209454',\n",
       " 'originCollection': 'gapspecies',\n",
       " 'originDate': '2017-09-16T13:15:38.466382',\n",
       " 'originID': ObjectId('59b849213339a2d2a5efb01c')}"
      ]
     },
     "metadata": {},
     "output_type": "display_data"
    },
    {
     "data": {
      "text/plain": [
       "{'itisSearchURL': 'http://services.itis.gov/?wt=json&rows=10&q=tsn:208819',\n",
       " 'originCollection': 'gapspecies',\n",
       " 'originDate': '2017-09-16T13:15:38.662836',\n",
       " 'originID': ObjectId('59b849213339a2d2a5efb01d')}"
      ]
     },
     "metadata": {},
     "output_type": "display_data"
    },
    {
     "data": {
      "text/plain": [
       "{'itisSearchURL': 'http://services.itis.gov/?wt=json&rows=10&q=tsn:683034',\n",
       " 'originCollection': 'gapspecies',\n",
       " 'originDate': '2017-09-16T13:15:38.846307',\n",
       " 'originID': ObjectId('59b849213339a2d2a5efb01e')}"
      ]
     },
     "metadata": {},
     "output_type": "display_data"
    },
    {
     "data": {
      "text/plain": [
       "{'itisSearchURL': 'http://services.itis.gov/?wt=json&rows=10&q=tsn:178861',\n",
       " 'originCollection': 'gapspecies',\n",
       " 'originDate': '2017-09-16T13:15:39.032713',\n",
       " 'originID': ObjectId('59b849223339a2d2a5efb01f')}"
      ]
     },
     "metadata": {},
     "output_type": "display_data"
    },
    {
     "data": {
      "text/plain": [
       "{'itisSearchURL': 'http://services.itis.gov/?wt=json&rows=10&q=tsn:173659',\n",
       " 'originCollection': 'gapspecies',\n",
       " 'originDate': '2017-09-16T13:15:39.225576',\n",
       " 'originID': ObjectId('59b849223339a2d2a5efb020')}"
      ]
     },
     "metadata": {},
     "output_type": "display_data"
    },
    {
     "data": {
      "text/plain": [
       "{'itisSearchURL': 'http://services.itis.gov/?wt=json&rows=10&q=tsn:668241',\n",
       " 'originCollection': 'gapspecies',\n",
       " 'originDate': '2017-09-16T13:15:39.417080',\n",
       " 'originID': ObjectId('59b849233339a2d2a5efb021')}"
      ]
     },
     "metadata": {},
     "output_type": "display_data"
    },
    {
     "data": {
      "text/plain": [
       "{'itisSearchURL': 'http://services.itis.gov/?wt=json&rows=10&q=tsn:180269',\n",
       " 'originCollection': 'gapspecies',\n",
       " 'originDate': '2017-09-16T13:15:39.604551',\n",
       " 'originID': ObjectId('59b849233339a2d2a5efb022')}"
      ]
     },
     "metadata": {},
     "output_type": "display_data"
    },
    {
     "data": {
      "text/plain": [
       "{'itisSearchURL': 'http://services.itis.gov/?wt=json&rows=10&q=tsn:174803',\n",
       " 'originCollection': 'gapspecies',\n",
       " 'originDate': '2017-09-16T13:15:39.885842',\n",
       " 'originID': ObjectId('59b849243339a2d2a5efb023')}"
      ]
     },
     "metadata": {},
     "output_type": "display_data"
    },
    {
     "data": {
      "text/plain": [
       "{'itisSearchURL': 'http://services.itis.gov/?wt=json&rows=10&q=tsn:180206',\n",
       " 'originCollection': 'gapspecies',\n",
       " 'originDate': '2017-09-16T13:15:40.154591',\n",
       " 'originID': ObjectId('59b849253339a2d2a5efb024')}"
      ]
     },
     "metadata": {},
     "output_type": "display_data"
    },
    {
     "data": {
      "text/plain": [
       "{'itisSearchURL': 'http://services.itis.gov/?wt=json&rows=10&q=tsn:178346',\n",
       " 'originCollection': 'gapspecies',\n",
       " 'originDate': '2017-09-16T13:15:40.343317',\n",
       " 'originID': ObjectId('59b849253339a2d2a5efb025')}"
      ]
     },
     "metadata": {},
     "output_type": "display_data"
    },
    {
     "data": {
      "text/plain": [
       "{'itisSearchURL': 'http://services.itis.gov/?wt=json&rows=10&q=tsn:175282',\n",
       " 'originCollection': 'gapspecies',\n",
       " 'originDate': '2017-09-16T13:15:40.540063',\n",
       " 'originID': ObjectId('59b849263339a2d2a5efb026')}"
      ]
     },
     "metadata": {},
     "output_type": "display_data"
    },
    {
     "data": {
      "text/plain": [
       "{'itisSearchURL': 'http://services.itis.gov/?wt=json&rows=10&q=tsn:179455',\n",
       " 'originCollection': 'gapspecies',\n",
       " 'originDate': '2017-09-16T13:15:40.721565',\n",
       " 'originID': ObjectId('59b849263339a2d2a5efb027')}"
      ]
     },
     "metadata": {},
     "output_type": "display_data"
    },
    {
     "data": {
      "text/plain": [
       "{'itisSearchURL': 'http://services.itis.gov/?wt=json&rows=10&q=tsn:677541',\n",
       " 'originCollection': 'gapspecies',\n",
       " 'originDate': '2017-09-16T13:15:40.918437',\n",
       " 'originID': ObjectId('59b849263339a2d2a5efb028')}"
      ]
     },
     "metadata": {},
     "output_type": "display_data"
    },
    {
     "data": {
      "text/plain": [
       "{'itisSearchURL': 'http://services.itis.gov/?wt=json&rows=10&q=tsn:178913',\n",
       " 'originCollection': 'gapspecies',\n",
       " 'originDate': '2017-09-16T13:15:41.099891',\n",
       " 'originID': ObjectId('59b849273339a2d2a5efb029')}"
      ]
     },
     "metadata": {},
     "output_type": "display_data"
    },
    {
     "data": {
      "text/plain": [
       "{'itisSearchURL': 'http://services.itis.gov/?wt=json&rows=10&q=tsn:775116',\n",
       " 'originCollection': 'gapspecies',\n",
       " 'originDate': '2017-09-16T13:15:41.285804',\n",
       " 'originID': ObjectId('59b849273339a2d2a5efb02a')}"
      ]
     },
     "metadata": {},
     "output_type": "display_data"
    },
    {
     "data": {
      "text/plain": [
       "{'itisSearchURL': 'http://services.itis.gov/?wt=json&rows=10&q=tsn:775092',\n",
       " 'originCollection': 'gapspecies',\n",
       " 'originDate': '2017-09-16T13:15:41.469890',\n",
       " 'originID': ObjectId('59b849283339a2d2a5efb02b')}"
      ]
     },
     "metadata": {},
     "output_type": "display_data"
    },
    {
     "data": {
      "text/plain": [
       "{'itisSearchURL': 'http://services.itis.gov/?wt=json&rows=10&q=tsn:173601',\n",
       " 'originCollection': 'gapspecies',\n",
       " 'originDate': '2017-09-16T13:15:41.686912',\n",
       " 'originID': ObjectId('59b849283339a2d2a5efb02c')}"
      ]
     },
     "metadata": {},
     "output_type": "display_data"
    },
    {
     "data": {
      "text/plain": [
       "{'itisSearchURL': 'http://services.itis.gov/?wt=json&rows=10&q=tsn:173670',\n",
       " 'originCollection': 'gapspecies',\n",
       " 'originDate': '2017-09-16T13:15:41.883110',\n",
       " 'originID': ObjectId('59b849283339a2d2a5efb02d')}"
      ]
     },
     "metadata": {},
     "output_type": "display_data"
    },
    {
     "data": {
      "text/plain": [
       "{'itisSearchURL': 'http://services.itis.gov/?wt=json&rows=10&q=tsn:180235',\n",
       " 'originCollection': 'gapspecies',\n",
       " 'originDate': '2017-09-16T13:15:42.064136',\n",
       " 'originID': ObjectId('59b849283339a2d2a5efb02e')}"
      ]
     },
     "metadata": {},
     "output_type": "display_data"
    },
    {
     "data": {
      "text/plain": [
       "{'itisSearchURL': 'http://services.itis.gov/?wt=json&rows=10&q=tsn:775079',\n",
       " 'originCollection': 'gapspecies',\n",
       " 'originDate': '2017-09-16T13:15:42.250947',\n",
       " 'originID': ObjectId('59b849293339a2d2a5efb02f')}"
      ]
     },
     "metadata": {},
     "output_type": "display_data"
    },
    {
     "data": {
      "text/plain": [
       "{'itisSearchURL': 'http://services.itis.gov/?wt=json&rows=10&q=tsn:180387',\n",
       " 'originCollection': 'gapspecies',\n",
       " 'originDate': '2017-09-16T13:15:42.443120',\n",
       " 'originID': ObjectId('59b849293339a2d2a5efb030')}"
      ]
     },
     "metadata": {},
     "output_type": "display_data"
    },
    {
     "data": {
      "text/plain": [
       "{'itisSearchURL': 'http://services.itis.gov/?wt=json&rows=10&q=tsn:179936',\n",
       " 'originCollection': 'gapspecies',\n",
       " 'originDate': '2017-09-16T13:15:42.632965',\n",
       " 'originID': ObjectId('59b849293339a2d2a5efb031')}"
      ]
     },
     "metadata": {},
     "output_type": "display_data"
    },
    {
     "data": {
      "text/plain": [
       "{'itisSearchURL': 'http://services.itis.gov/?wt=json&rows=10&q=tsn:174091',\n",
       " 'originCollection': 'gapspecies',\n",
       " 'originDate': '2017-09-16T13:15:42.823272',\n",
       " 'originID': ObjectId('59b849293339a2d2a5efb032')}"
      ]
     },
     "metadata": {},
     "output_type": "display_data"
    },
    {
     "data": {
      "text/plain": [
       "{'itisSearchURL': 'http://services.itis.gov/?wt=json&rows=10&q=tsn:176259',\n",
       " 'originCollection': 'gapspecies',\n",
       " 'originDate': '2017-09-16T13:15:43.006367',\n",
       " 'originID': ObjectId('59b8492a3339a2d2a5efb033')}"
      ]
     },
     "metadata": {},
     "output_type": "display_data"
    },
    {
     "data": {
      "text/plain": [
       "{'itisSearchURL': 'http://services.itis.gov/?wt=json&rows=10&q=tsn:180347',\n",
       " 'originCollection': 'gapspecies',\n",
       " 'originDate': '2017-09-16T13:15:43.191322',\n",
       " 'originID': ObjectId('59b8492a3339a2d2a5efb034')}"
      ]
     },
     "metadata": {},
     "output_type": "display_data"
    },
    {
     "data": {
      "text/plain": [
       "{'itisSearchURL': 'http://services.itis.gov/?wt=json&rows=10&q=tsn:552516',\n",
       " 'originCollection': 'gapspecies',\n",
       " 'originDate': '2017-09-16T13:15:43.373823',\n",
       " 'originID': ObjectId('59b8492b3339a2d2a5efb035')}"
      ]
     },
     "metadata": {},
     "output_type": "display_data"
    },
    {
     "data": {
      "text/plain": [
       "{'itisSearchURL': 'http://services.itis.gov/?wt=json&rows=10&q=tsn:174018',\n",
       " 'originCollection': 'gapspecies',\n",
       " 'originDate': '2017-09-16T13:15:43.557059',\n",
       " 'originID': ObjectId('59b8492b3339a2d2a5efb036')}"
      ]
     },
     "metadata": {},
     "output_type": "display_data"
    },
    {
     "data": {
      "text/plain": [
       "{'itisSearchURL': 'http://services.itis.gov/?wt=json&rows=10&q=tsn:564594',\n",
       " 'originCollection': 'gapspecies',\n",
       " 'originDate': '2017-09-16T13:15:43.908045',\n",
       " 'originID': ObjectId('59b8492b3339a2d2a5efb037')}"
      ]
     },
     "metadata": {},
     "output_type": "display_data"
    },
    {
     "data": {
      "text/plain": [
       "{'itisSearchURL': 'http://services.itis.gov/?wt=json&rows=10&q=tsn:179979',\n",
       " 'originCollection': 'gapspecies',\n",
       " 'originDate': '2017-09-16T13:15:44.393526',\n",
       " 'originID': ObjectId('59b8492c3339a2d2a5efb038')}"
      ]
     },
     "metadata": {},
     "output_type": "display_data"
    },
    {
     "data": {
      "text/plain": [
       "{'itisSearchURL': 'http://services.itis.gov/?wt=json&rows=10&q=tsn:180172',\n",
       " 'originCollection': 'gapspecies',\n",
       " 'originDate': '2017-09-16T13:15:44.804096',\n",
       " 'originID': ObjectId('59b8492d3339a2d2a5efb039')}"
      ]
     },
     "metadata": {},
     "output_type": "display_data"
    },
    {
     "data": {
      "text/plain": [
       "{'itisSearchURL': 'http://services.itis.gov/?wt=json&rows=10&q=tsn:179982',\n",
       " 'originCollection': 'gapspecies',\n",
       " 'originDate': '2017-09-16T13:15:45.447044',\n",
       " 'originID': ObjectId('59b8492d3339a2d2a5efb03a')}"
      ]
     },
     "metadata": {},
     "output_type": "display_data"
    },
    {
     "data": {
      "text/plain": [
       "{'itisSearchURL': 'http://services.itis.gov/?wt=json&rows=10&q=tsn:552519',\n",
       " 'originCollection': 'gapspecies',\n",
       " 'originDate': '2017-09-16T13:15:45.956474',\n",
       " 'originID': ObjectId('59b8492d3339a2d2a5efb03b')}"
      ]
     },
     "metadata": {},
     "output_type": "display_data"
    },
    {
     "data": {
      "text/plain": [
       "{'itisSearchURL': 'http://services.itis.gov/?wt=json&rows=10&q=tsn:180279',\n",
       " 'originCollection': 'gapspecies',\n",
       " 'originDate': '2017-09-16T13:15:46.425201',\n",
       " 'originID': ObjectId('59b8492e3339a2d2a5efb03c')}"
      ]
     },
     "metadata": {},
     "output_type": "display_data"
    },
    {
     "data": {
      "text/plain": [
       "{'itisSearchURL': 'http://services.itis.gov/?wt=json&rows=10&q=tsn:180337',\n",
       " 'originCollection': 'gapspecies',\n",
       " 'originDate': '2017-09-16T13:15:46.938437',\n",
       " 'originID': ObjectId('59b8492e3339a2d2a5efb03d')}"
      ]
     },
     "metadata": {},
     "output_type": "display_data"
    },
    {
     "data": {
      "text/plain": [
       "{'itisSearchURL': 'http://services.itis.gov/?wt=json&rows=10&q=tsn:180374',\n",
       " 'originCollection': 'gapspecies',\n",
       " 'originDate': '2017-09-16T13:15:47.550366',\n",
       " 'originID': ObjectId('59b8492e3339a2d2a5efb03e')}"
      ]
     },
     "metadata": {},
     "output_type": "display_data"
    },
    {
     "data": {
      "text/plain": [
       "{'itisSearchURL': 'http://services.itis.gov/?wt=json&rows=10&q=tsn:180012',\n",
       " 'originCollection': 'gapspecies',\n",
       " 'originDate': '2017-09-16T13:15:47.735039',\n",
       " 'originID': ObjectId('59b8492f3339a2d2a5efb03f')}"
      ]
     },
     "metadata": {},
     "output_type": "display_data"
    },
    {
     "data": {
      "text/plain": [
       "{'itisSearchURL': 'http://services.itis.gov/?wt=json&rows=10&q=tsn:173675',\n",
       " 'originCollection': 'gapspecies',\n",
       " 'originDate': '2017-09-16T13:15:47.916945',\n",
       " 'originID': ObjectId('59b8492f3339a2d2a5efb040')}"
      ]
     },
     "metadata": {},
     "output_type": "display_data"
    },
    {
     "data": {
      "text/plain": [
       "{'itisSearchURL': 'http://services.itis.gov/?wt=json&rows=10&q=tsn:180153',\n",
       " 'originCollection': 'gapspecies',\n",
       " 'originDate': '2017-09-16T13:15:48.125965',\n",
       " 'originID': ObjectId('59b8492f3339a2d2a5efb041')}"
      ]
     },
     "metadata": {},
     "output_type": "display_data"
    },
    {
     "data": {
      "text/plain": [
       "{'itisSearchURL': 'http://services.itis.gov/?wt=json&rows=10&q=tsn:179045',\n",
       " 'originCollection': 'gapspecies',\n",
       " 'originDate': '2017-09-16T13:15:48.310664',\n",
       " 'originID': ObjectId('59b8492f3339a2d2a5efb042')}"
      ]
     },
     "metadata": {},
     "output_type": "display_data"
    },
    {
     "data": {
      "text/plain": [
       "{'itisSearchURL': 'http://services.itis.gov/?wt=json&rows=10&q=tsn:177023',\n",
       " 'originCollection': 'gapspecies',\n",
       " 'originDate': '2017-09-16T13:15:48.498578',\n",
       " 'originID': ObjectId('59b849303339a2d2a5efb043')}"
      ]
     },
     "metadata": {},
     "output_type": "display_data"
    },
    {
     "data": {
      "text/plain": [
       "{'itisSearchURL': 'http://services.itis.gov/?wt=json&rows=10&q=tsn:176734',\n",
       " 'originCollection': 'gapspecies',\n",
       " 'originDate': '2017-09-16T13:15:48.690154',\n",
       " 'originID': ObjectId('59b849303339a2d2a5efb044')}"
      ]
     },
     "metadata": {},
     "output_type": "display_data"
    },
    {
     "data": {
      "text/plain": [
       "{'itisSearchURL': 'http://services.itis.gov/?wt=json&rows=10&q=tsn:175373',\n",
       " 'originCollection': 'gapspecies',\n",
       " 'originDate': '2017-09-16T13:15:48.870028',\n",
       " 'originID': ObjectId('59b849303339a2d2a5efb045')}"
      ]
     },
     "metadata": {},
     "output_type": "display_data"
    },
    {
     "data": {
      "text/plain": [
       "{'itisSearchURL': 'http://services.itis.gov/?wt=json&rows=10&q=tsn:179779',\n",
       " 'originCollection': 'gapspecies',\n",
       " 'originDate': '2017-09-16T13:15:49.056341',\n",
       " 'originID': ObjectId('59b849313339a2d2a5efb046')}"
      ]
     },
     "metadata": {},
     "output_type": "display_data"
    },
    {
     "data": {
      "text/plain": [
       "{'itisSearchURL': 'http://services.itis.gov/?wt=json&rows=10&q=tsn:176821',\n",
       " 'originCollection': 'gapspecies',\n",
       " 'originDate': '2017-09-16T13:15:49.237479',\n",
       " 'originID': ObjectId('59b849313339a2d2a5efb047')}"
      ]
     },
     "metadata": {},
     "output_type": "display_data"
    },
    {
     "data": {
      "text/plain": [
       "{'itisSearchURL': 'http://services.itis.gov/?wt=json&rows=10&q=tsn:173776',\n",
       " 'originCollection': 'gapspecies',\n",
       " 'originDate': '2017-09-16T13:15:49.423111',\n",
       " 'originID': ObjectId('59b849313339a2d2a5efb048')}"
      ]
     },
     "metadata": {},
     "output_type": "display_data"
    },
    {
     "data": {
      "text/plain": [
       "{'itisSearchURL': 'http://services.itis.gov/?wt=json&rows=10&q=tsn:179019',\n",
       " 'originCollection': 'gapspecies',\n",
       " 'originDate': '2017-09-16T13:15:49.610547',\n",
       " 'originID': ObjectId('59b849313339a2d2a5efb049')}"
      ]
     },
     "metadata": {},
     "output_type": "display_data"
    },
    {
     "data": {
      "text/plain": [
       "{'itisSearchURL': 'http://services.itis.gov/?wt=json&rows=10&q=tsn:180547',\n",
       " 'originCollection': 'gapspecies',\n",
       " 'originDate': '2017-09-16T13:15:49.803503',\n",
       " 'originID': ObjectId('59b849313339a2d2a5efb04a')}"
      ]
     },
     "metadata": {},
     "output_type": "display_data"
    },
    {
     "data": {
      "text/plain": [
       "{'itisSearchURL': 'http://services.itis.gov/?wt=json&rows=10&q=tsn:174474',\n",
       " 'originCollection': 'gapspecies',\n",
       " 'originDate': '2017-09-16T13:15:49.995991',\n",
       " 'originID': ObjectId('59b849323339a2d2a5efb04b')}"
      ]
     },
     "metadata": {},
     "output_type": "display_data"
    },
    {
     "data": {
      "text/plain": [
       "{'itisSearchURL': 'http://services.itis.gov/?wt=json&rows=10&q=tsn:552485',\n",
       " 'originCollection': 'gapspecies',\n",
       " 'originDate': '2017-09-16T13:15:50.182283',\n",
       " 'originID': ObjectId('59b849323339a2d2a5efb04c')}"
      ]
     },
     "metadata": {},
     "output_type": "display_data"
    },
    {
     "data": {
      "text/plain": [
       "{'itisSearchURL': 'http://services.itis.gov/?wt=json&rows=10&q=tsn:552470',\n",
       " 'originCollection': 'gapspecies',\n",
       " 'originDate': '2017-09-16T13:15:50.374931',\n",
       " 'originID': ObjectId('59b849323339a2d2a5efb04d')}"
      ]
     },
     "metadata": {},
     "output_type": "display_data"
    },
    {
     "data": {
      "text/plain": [
       "{'itisSearchURL': 'http://services.itis.gov/?wt=json&rows=10&q=tsn:180290',\n",
       " 'originCollection': 'gapspecies',\n",
       " 'originDate': '2017-09-16T13:15:50.563968',\n",
       " 'originID': ObjectId('59b849323339a2d2a5efb04e')}"
      ]
     },
     "metadata": {},
     "output_type": "display_data"
    },
    {
     "data": {
      "text/plain": [
       "{'itisSearchURL': 'http://services.itis.gov/?wt=json&rows=10&q=tsn:178614',\n",
       " 'originCollection': 'gapspecies',\n",
       " 'originDate': '2017-09-16T13:15:50.745260',\n",
       " 'originID': ObjectId('59b849333339a2d2a5efb04f')}"
      ]
     },
     "metadata": {},
     "output_type": "display_data"
    },
    {
     "data": {
      "text/plain": [
       "{'itisSearchURL': 'http://services.itis.gov/?wt=json&rows=10&q=tsn:554382',\n",
       " 'originCollection': 'gapspecies',\n",
       " 'originDate': '2017-09-16T13:15:50.934763',\n",
       " 'originID': ObjectId('59b849333339a2d2a5efb050')}"
      ]
     },
     "metadata": {},
     "output_type": "display_data"
    },
    {
     "data": {
      "text/plain": [
       "{'itisSearchURL': 'http://services.itis.gov/?wt=json&rows=10&q=tsn:174717',\n",
       " 'originCollection': 'gapspecies',\n",
       " 'originDate': '2017-09-16T13:15:51.119121',\n",
       " 'originID': ObjectId('59b849343339a2d2a5efb051')}"
      ]
     },
     "metadata": {},
     "output_type": "display_data"
    },
    {
     "data": {
      "text/plain": [
       "{'itisSearchURL': 'http://services.itis.gov/?wt=json&rows=10&q=tsn:175622',\n",
       " 'originCollection': 'gapspecies',\n",
       " 'originDate': '2017-09-16T13:15:51.344841',\n",
       " 'originID': ObjectId('59b849343339a2d2a5efb052')}"
      ]
     },
     "metadata": {},
     "output_type": "display_data"
    },
    {
     "data": {
      "text/plain": [
       "{'itisSearchURL': 'http://services.itis.gov/?wt=json&rows=10&q=tsn:573578',\n",
       " 'originCollection': 'gapspecies',\n",
       " 'originDate': '2017-09-16T13:15:51.527723',\n",
       " 'originID': ObjectId('59b849353339a2d2a5efb053')}"
      ]
     },
     "metadata": {},
     "output_type": "display_data"
    },
    {
     "data": {
      "text/plain": [
       "{'itisSearchURL': 'http://services.itis.gov/?wt=json&rows=10&q=tsn:173643',\n",
       " 'originCollection': 'gapspecies',\n",
       " 'originDate': '2017-09-16T13:15:51.710734',\n",
       " 'originID': ObjectId('59b849353339a2d2a5efb054')}"
      ]
     },
     "metadata": {},
     "output_type": "display_data"
    },
    {
     "data": {
      "text/plain": [
       "{'itisSearchURL': 'http://services.itis.gov/?wt=json&rows=10&q=tsn:178536',\n",
       " 'originCollection': 'gapspecies',\n",
       " 'originDate': '2017-09-16T13:15:51.902557',\n",
       " 'originID': ObjectId('59b849353339a2d2a5efb055')}"
      ]
     },
     "metadata": {},
     "output_type": "display_data"
    },
    {
     "data": {
      "text/plain": [
       "{'itisSearchURL': 'http://services.itis.gov/?wt=json&rows=10&q=tsn:208677',\n",
       " 'originCollection': 'gapspecies',\n",
       " 'originDate': '2017-09-16T13:15:52.082702',\n",
       " 'originID': ObjectId('59b849363339a2d2a5efb056')}"
      ]
     },
     "metadata": {},
     "output_type": "display_data"
    },
    {
     "data": {
      "text/plain": [
       "{'itisSearchURL': 'http://services.itis.gov/?wt=json&rows=10&q=tsn:209455',\n",
       " 'originCollection': 'gapspecies',\n",
       " 'originDate': '2017-09-16T13:15:52.265489',\n",
       " 'originID': ObjectId('59b849363339a2d2a5efb057')}"
      ]
     },
     "metadata": {},
     "output_type": "display_data"
    },
    {
     "data": {
      "text/plain": [
       "{'itisSearchURL': 'http://services.itis.gov/?wt=json&rows=10&q=tsn:174284',\n",
       " 'originCollection': 'gapspecies',\n",
       " 'originDate': '2017-09-16T13:15:52.448624',\n",
       " 'originID': ObjectId('59b849363339a2d2a5efb058')}"
      ]
     },
     "metadata": {},
     "output_type": "display_data"
    },
    {
     "data": {
      "text/plain": [
       "{'itisSearchURL': 'http://services.itis.gov/?wt=json&rows=10&q=tsn:174151',\n",
       " 'originCollection': 'gapspecies',\n",
       " 'originDate': '2017-09-16T13:15:52.631512',\n",
       " 'originID': ObjectId('59b849373339a2d2a5efb059')}"
      ]
     },
     "metadata": {},
     "output_type": "display_data"
    },
    {
     "data": {
      "text/plain": [
       "{'itisSearchURL': 'http://services.itis.gov/?wt=json&rows=10&q=tsn:173880',\n",
       " 'originCollection': 'gapspecies',\n",
       " 'originDate': '2017-09-16T13:15:52.815124',\n",
       " 'originID': ObjectId('59b849373339a2d2a5efb05a')}"
      ]
     },
     "metadata": {},
     "output_type": "display_data"
    },
    {
     "data": {
      "text/plain": [
       "{'itisSearchURL': 'http://services.itis.gov/?wt=json&rows=10&q=tsn:174164',\n",
       " 'originCollection': 'gapspecies',\n",
       " 'originDate': '2017-09-16T13:15:52.997632',\n",
       " 'originID': ObjectId('59b849373339a2d2a5efb05b')}"
      ]
     },
     "metadata": {},
     "output_type": "display_data"
    },
    {
     "data": {
      "text/plain": [
       "{'itisSearchURL': 'http://services.itis.gov/?wt=json&rows=10&q=tsn:173660',\n",
       " 'originCollection': 'gapspecies',\n",
       " 'originDate': '2017-09-16T13:15:53.182345',\n",
       " 'originID': ObjectId('59b849373339a2d2a5efb05c')}"
      ]
     },
     "metadata": {},
     "output_type": "display_data"
    },
    {
     "data": {
      "text/plain": [
       "{'itisSearchURL': 'http://services.itis.gov/?wt=json&rows=10&q=tsn:174263',\n",
       " 'originCollection': 'gapspecies',\n",
       " 'originDate': '2017-09-16T13:15:53.372525',\n",
       " 'originID': ObjectId('59b849383339a2d2a5efb05d')}"
      ]
     },
     "metadata": {},
     "output_type": "display_data"
    },
    {
     "data": {
      "text/plain": [
       "{'itisSearchURL': 'http://services.itis.gov/?wt=json&rows=10&q=tsn:179165',\n",
       " 'originCollection': 'gapspecies',\n",
       " 'originDate': '2017-09-16T13:15:53.681078',\n",
       " 'originID': ObjectId('59b849383339a2d2a5efb05e')}"
      ]
     },
     "metadata": {},
     "output_type": "display_data"
    },
    {
     "data": {
      "text/plain": [
       "{'itisSearchURL': 'http://services.itis.gov/?wt=json&rows=10&q=tsn:175402',\n",
       " 'originCollection': 'gapspecies',\n",
       " 'originDate': '2017-09-16T13:15:54.075119',\n",
       " 'originID': ObjectId('59b849383339a2d2a5efb05f')}"
      ]
     },
     "metadata": {},
     "output_type": "display_data"
    },
    {
     "data": {
      "text/plain": [
       "{'itisSearchURL': 'http://services.itis.gov/?wt=json&rows=10&q=tsn:178625',\n",
       " 'originCollection': 'gapspecies',\n",
       " 'originDate': '2017-09-16T13:15:54.404112',\n",
       " 'originID': ObjectId('59b849393339a2d2a5efb060')}"
      ]
     },
     "metadata": {},
     "output_type": "display_data"
    },
    {
     "data": {
      "text/plain": [
       "{'itisSearchURL': 'http://services.itis.gov/?wt=json&rows=10&q=tsn:176574',\n",
       " 'originCollection': 'gapspecies',\n",
       " 'originDate': '2017-09-16T13:15:54.909954',\n",
       " 'originID': ObjectId('59b849393339a2d2a5efb061')}"
      ]
     },
     "metadata": {},
     "output_type": "display_data"
    },
    {
     "data": {
      "text/plain": [
       "{'itisSearchURL': 'http://services.itis.gov/?wt=json&rows=10&q=tsn:176263',\n",
       " 'originCollection': 'gapspecies',\n",
       " 'originDate': '2017-09-16T13:15:55.722949',\n",
       " 'originID': ObjectId('59b849393339a2d2a5efb062')}"
      ]
     },
     "metadata": {},
     "output_type": "display_data"
    },
    {
     "data": {
      "text/plain": [
       "{'itisSearchURL': 'http://services.itis.gov/?wt=json&rows=10&q=tsn:179094',\n",
       " 'originCollection': 'gapspecies',\n",
       " 'originDate': '2017-09-16T13:15:56.361916',\n",
       " 'originID': ObjectId('59b849393339a2d2a5efb063')}"
      ]
     },
     "metadata": {},
     "output_type": "display_data"
    },
    {
     "data": {
      "text/plain": [
       "{'itisSearchURL': 'http://services.itis.gov/?wt=json&rows=10&q=tsn:178309',\n",
       " 'originCollection': 'gapspecies',\n",
       " 'originDate': '2017-09-16T13:15:57.201350',\n",
       " 'originID': ObjectId('59b8493a3339a2d2a5efb064')}"
      ]
     },
     "metadata": {},
     "output_type": "display_data"
    },
    {
     "data": {
      "text/plain": [
       "{'itisSearchURL': 'http://services.itis.gov/?wt=json&rows=10&q=tsn:972933',\n",
       " 'originCollection': 'gapspecies',\n",
       " 'originDate': '2017-09-16T13:15:57.380985',\n",
       " 'originID': ObjectId('59b8493a3339a2d2a5efb065')}"
      ]
     },
     "metadata": {},
     "output_type": "display_data"
    },
    {
     "data": {
      "text/plain": [
       "{'itisSearchURL': 'http://services.itis.gov/?wt=json&rows=10&q=tsn:180081',\n",
       " 'originCollection': 'gapspecies',\n",
       " 'originDate': '2017-09-16T13:15:57.562412',\n",
       " 'originID': ObjectId('59b8493a3339a2d2a5efb066')}"
      ]
     },
     "metadata": {},
     "output_type": "display_data"
    },
    {
     "data": {
      "text/plain": [
       "{'itisSearchURL': 'http://services.itis.gov/?wt=json&rows=10&q=tsn:180141',\n",
       " 'originCollection': 'gapspecies',\n",
       " 'originDate': '2017-09-16T13:15:57.755637',\n",
       " 'originID': ObjectId('59b8493a3339a2d2a5efb067')}"
      ]
     },
     "metadata": {},
     "output_type": "display_data"
    },
    {
     "data": {
      "text/plain": [
       "{'itisSearchURL': 'http://services.itis.gov/?wt=json&rows=10&q=tsn:180085',\n",
       " 'originCollection': 'gapspecies',\n",
       " 'originDate': '2017-09-16T13:15:57.935711',\n",
       " 'originID': ObjectId('59b8493b3339a2d2a5efb068')}"
      ]
     },
     "metadata": {},
     "output_type": "display_data"
    },
    {
     "data": {
      "text/plain": [
       "{'itisSearchURL': 'http://services.itis.gov/?wt=json&rows=10&q=tsn:554456',\n",
       " 'originCollection': 'gapspecies',\n",
       " 'originDate': '2017-09-16T13:15:58.123357',\n",
       " 'originID': ObjectId('59b8493b3339a2d2a5efb069')}"
      ]
     },
     "metadata": {},
     "output_type": "display_data"
    },
    {
     "data": {
      "text/plain": [
       "{'itisSearchURL': 'http://services.itis.gov/?wt=json&rows=10&q=tsn:176839',\n",
       " 'originCollection': 'gapspecies',\n",
       " 'originDate': '2017-09-16T13:15:58.304274',\n",
       " 'originID': ObjectId('59b8493b3339a2d2a5efb06a')}"
      ]
     },
     "metadata": {},
     "output_type": "display_data"
    },
    {
     "data": {
      "text/plain": [
       "{'itisSearchURL': 'http://services.itis.gov/?wt=json&rows=10&q=tsn:209635',\n",
       " 'originCollection': 'gapspecies',\n",
       " 'originDate': '2017-09-16T13:15:58.490641',\n",
       " 'originID': ObjectId('59b8493c3339a2d2a5efb06b')}"
      ]
     },
     "metadata": {},
     "output_type": "display_data"
    },
    {
     "data": {
      "text/plain": [
       "{'itisSearchURL': 'http://services.itis.gov/?wt=json&rows=10&q=tsn:178001',\n",
       " 'originCollection': 'gapspecies',\n",
       " 'originDate': '2017-09-16T13:15:58.674899',\n",
       " 'originID': ObjectId('59b8493c3339a2d2a5efb06c')}"
      ]
     },
     "metadata": {},
     "output_type": "display_data"
    },
    {
     "data": {
      "text/plain": [
       "{'itisSearchURL': 'http://services.itis.gov/?wt=json&rows=10&q=tsn:180382',\n",
       " 'originCollection': 'gapspecies',\n",
       " 'originDate': '2017-09-16T13:15:58.855585',\n",
       " 'originID': ObjectId('59b8493d3339a2d2a5efb06d')}"
      ]
     },
     "metadata": {},
     "output_type": "display_data"
    },
    {
     "data": {
      "text/plain": [
       "{'itisSearchURL': 'http://services.itis.gov/?wt=json&rows=10&q=tsn:180368',\n",
       " 'originCollection': 'gapspecies',\n",
       " 'originDate': '2017-09-16T13:15:59.039643',\n",
       " 'originID': ObjectId('59b8493d3339a2d2a5efb06e')}"
      ]
     },
     "metadata": {},
     "output_type": "display_data"
    },
    {
     "data": {
      "text/plain": [
       "{'itisSearchURL': 'http://services.itis.gov/?wt=json&rows=10&q=tsn:552498',\n",
       " 'originCollection': 'gapspecies',\n",
       " 'originDate': '2017-09-16T13:15:59.222243',\n",
       " 'originID': ObjectId('59b8493e3339a2d2a5efb06f')}"
      ]
     },
     "metadata": {},
     "output_type": "display_data"
    },
    {
     "data": {
      "text/plain": [
       "{'itisSearchURL': 'http://services.itis.gov/?wt=json&rows=10&q=tsn:180186',\n",
       " 'originCollection': 'gapspecies',\n",
       " 'originDate': '2017-09-16T13:15:59.408343',\n",
       " 'originID': ObjectId('59b8493e3339a2d2a5efb070')}"
      ]
     },
     "metadata": {},
     "output_type": "display_data"
    },
    {
     "data": {
      "text/plain": [
       "{'itisSearchURL': 'http://services.itis.gov/?wt=json&rows=10&q=tsn:178654',\n",
       " 'originCollection': 'gapspecies',\n",
       " 'originDate': '2017-09-16T13:15:59.590817',\n",
       " 'originID': ObjectId('59b8493e3339a2d2a5efb071')}"
      ]
     },
     "metadata": {},
     "output_type": "display_data"
    },
    {
     "data": {
      "text/plain": [
       "{'itisSearchURL': 'http://services.itis.gov/?wt=json&rows=10&q=tsn:208322',\n",
       " 'originCollection': 'gapspecies',\n",
       " 'originDate': '2017-09-16T13:15:59.779420',\n",
       " 'originID': ObjectId('59b8493e3339a2d2a5efb072')}"
      ]
     },
     "metadata": {},
     "output_type": "display_data"
    },
    {
     "data": {
      "text/plain": [
       "{'itisSearchURL': 'http://services.itis.gov/?wt=json&rows=10&q=tsn:552521',\n",
       " 'originCollection': 'gapspecies',\n",
       " 'originDate': '2017-09-16T13:15:59.960961',\n",
       " 'originID': ObjectId('59b8493f3339a2d2a5efb073')}"
      ]
     },
     "metadata": {},
     "output_type": "display_data"
    },
    {
     "data": {
      "text/plain": [
       "{'itisSearchURL': 'http://services.itis.gov/?wt=json&rows=10&q=tsn:179991',\n",
       " 'originCollection': 'gapspecies',\n",
       " 'originDate': '2017-09-16T13:16:00.143182',\n",
       " 'originID': ObjectId('59b8493f3339a2d2a5efb074')}"
      ]
     },
     "metadata": {},
     "output_type": "display_data"
    },
    {
     "data": {
      "text/plain": [
       "{'itisSearchURL': 'http://services.itis.gov/?wt=json&rows=10&q=tsn:176679',\n",
       " 'originCollection': 'gapspecies',\n",
       " 'originDate': '2017-09-16T13:16:00.333183',\n",
       " 'originID': ObjectId('59b849403339a2d2a5efb075')}"
      ]
     },
     "metadata": {},
     "output_type": "display_data"
    },
    {
     "data": {
      "text/plain": [
       "{'itisSearchURL': 'http://services.itis.gov/?wt=json&rows=10&q=tsn:178630',\n",
       " 'originCollection': 'gapspecies',\n",
       " 'originDate': '2017-09-16T13:16:00.516668',\n",
       " 'originID': ObjectId('59b849403339a2d2a5efb076')}"
      ]
     },
     "metadata": {},
     "output_type": "display_data"
    },
    {
     "data": {
      "text/plain": [
       "{'itisSearchURL': 'http://services.itis.gov/?wt=json&rows=10&q=tsn:176675',\n",
       " 'originCollection': 'gapspecies',\n",
       " 'originDate': '2017-09-16T13:16:00.698879',\n",
       " 'originID': ObjectId('59b849413339a2d2a5efb077')}"
      ]
     },
     "metadata": {},
     "output_type": "display_data"
    },
    {
     "data": {
      "text/plain": [
       "{'itisSearchURL': 'http://services.itis.gov/?wt=json&rows=10&q=tsn:176510',\n",
       " 'originCollection': 'gapspecies',\n",
       " 'originDate': '2017-09-16T13:16:00.885723',\n",
       " 'originID': ObjectId('59b849413339a2d2a5efb078')}"
      ]
     },
     "metadata": {},
     "output_type": "display_data"
    },
    {
     "data": {
      "text/plain": [
       "{'itisSearchURL': 'http://services.itis.gov/?wt=json&rows=10&q=tsn:173709',\n",
       " 'originCollection': 'gapspecies',\n",
       " 'originDate': '2017-09-16T13:16:01.081223',\n",
       " 'originID': ObjectId('59b849413339a2d2a5efb079')}"
      ]
     },
     "metadata": {},
     "output_type": "display_data"
    },
    {
     "data": {
      "text/plain": [
       "{'itisSearchURL': 'http://services.itis.gov/?wt=json&rows=10&q=tsn:775086',\n",
       " 'originCollection': 'gapspecies',\n",
       " 'originDate': '2017-09-16T13:16:01.270154',\n",
       " 'originID': ObjectId('59b849423339a2d2a5efb07a')}"
      ]
     },
     "metadata": {},
     "output_type": "display_data"
    },
    {
     "data": {
      "text/plain": [
       "{'itisSearchURL': 'http://services.itis.gov/?wt=json&rows=10&q=tsn:174628',\n",
       " 'originCollection': 'gapspecies',\n",
       " 'originDate': '2017-09-16T13:16:01.506197',\n",
       " 'originID': ObjectId('59b849423339a2d2a5efb07b')}"
      ]
     },
     "metadata": {},
     "output_type": "display_data"
    },
    {
     "data": {
      "text/plain": [
       "{'itisSearchURL': 'http://services.itis.gov/?wt=json&rows=10&q=tsn:176923',\n",
       " 'originCollection': 'gapspecies',\n",
       " 'originDate': '2017-09-16T13:16:01.701864',\n",
       " 'originID': ObjectId('59b849423339a2d2a5efb07c')}"
      ]
     },
     "metadata": {},
     "output_type": "display_data"
    },
    {
     "data": {
      "text/plain": [
       "{'itisSearchURL': 'http://services.itis.gov/?wt=json&rows=10&q=tsn:173524',\n",
       " 'originCollection': 'gapspecies',\n",
       " 'originDate': '2017-09-16T13:16:01.884525',\n",
       " 'originID': ObjectId('59b849433339a2d2a5efb07d')}"
      ]
     },
     "metadata": {},
     "output_type": "display_data"
    },
    {
     "data": {
      "text/plain": [
       "{'itisSearchURL': 'http://services.itis.gov/?wt=json&rows=10&q=tsn:173664',\n",
       " 'originCollection': 'gapspecies',\n",
       " 'originDate': '2017-09-16T13:16:02.068054',\n",
       " 'originID': ObjectId('59b849433339a2d2a5efb07e')}"
      ]
     },
     "metadata": {},
     "output_type": "display_data"
    },
    {
     "data": {
      "text/plain": [
       "{'itisSearchURL': 'http://services.itis.gov/?wt=json&rows=10&q=tsn:176197',\n",
       " 'originCollection': 'gapspecies',\n",
       " 'originDate': '2017-09-16T13:16:02.252835',\n",
       " 'originID': ObjectId('59b849433339a2d2a5efb07f')}"
      ]
     },
     "metadata": {},
     "output_type": "display_data"
    },
    {
     "data": {
      "text/plain": [
       "{'itisSearchURL': 'http://services.itis.gov/?wt=json&rows=10&q=tsn:179946',\n",
       " 'originCollection': 'gapspecies',\n",
       " 'originDate': '2017-09-16T13:16:02.440437',\n",
       " 'originID': ObjectId('59b849433339a2d2a5efb080')}"
      ]
     },
     "metadata": {},
     "output_type": "display_data"
    },
    {
     "data": {
      "text/plain": [
       "{'itisSearchURL': 'http://services.itis.gov/?wt=json&rows=10&q=tsn:174846',\n",
       " 'originCollection': 'gapspecies',\n",
       " 'originDate': '2017-09-16T13:16:02.623982',\n",
       " 'originID': ObjectId('59b849443339a2d2a5efb081')}"
      ]
     },
     "metadata": {},
     "output_type": "display_data"
    },
    {
     "data": {
      "text/plain": [
       "{'itisSearchURL': 'http://services.itis.gov/?wt=json&rows=10&q=tsn:174826',\n",
       " 'originCollection': 'gapspecies',\n",
       " 'originDate': '2017-09-16T13:16:02.807517',\n",
       " 'originID': ObjectId('59b849443339a2d2a5efb082')}"
      ]
     },
     "metadata": {},
     "output_type": "display_data"
    },
    {
     "data": {
      "text/plain": [
       "{'itisSearchURL': 'http://services.itis.gov/?wt=json&rows=10&q=tsn:173429',\n",
       " 'originCollection': 'gapspecies',\n",
       " 'originDate': '2017-09-16T13:16:02.999653',\n",
       " 'originID': ObjectId('59b849453339a2d2a5efb083')}"
      ]
     },
     "metadata": {},
     "output_type": "display_data"
    },
    {
     "data": {
      "text/plain": [
       "{'itisSearchURL': 'http://services.itis.gov/?wt=json&rows=10&q=tsn:209017',\n",
       " 'originCollection': 'gapspecies',\n",
       " 'originDate': '2017-09-16T13:16:03.180385',\n",
       " 'originID': ObjectId('59b849453339a2d2a5efb084')}"
      ]
     },
     "metadata": {},
     "output_type": "display_data"
    },
    {
     "data": {
      "text/plain": [
       "{'itisSearchURL': 'http://services.itis.gov/?wt=json&rows=10&q=tsn:970628',\n",
       " 'originCollection': 'gapspecies',\n",
       " 'originDate': '2017-09-16T13:16:03.603104',\n",
       " 'originID': ObjectId('59b849453339a2d2a5efb085')}"
      ]
     },
     "metadata": {},
     "output_type": "display_data"
    },
    {
     "data": {
      "text/plain": [
       "{'itisSearchURL': 'http://services.itis.gov/?wt=json&rows=10&q=tsn:174141',\n",
       " 'originCollection': 'gapspecies',\n",
       " 'originDate': '2017-09-16T13:16:03.925715',\n",
       " 'originID': ObjectId('59b849463339a2d2a5efb086')}"
      ]
     },
     "metadata": {},
     "output_type": "display_data"
    },
    {
     "data": {
      "text/plain": [
       "{'itisSearchURL': 'http://services.itis.gov/?wt=json&rows=10&q=tsn:683032',\n",
       " 'originCollection': 'gapspecies',\n",
       " 'originDate': '2017-09-16T13:16:04.336844',\n",
       " 'originID': ObjectId('59b849463339a2d2a5efb087')}"
      ]
     },
     "metadata": {},
     "output_type": "display_data"
    },
    {
     "data": {
      "text/plain": [
       "{'itisSearchURL': 'http://services.itis.gov/?wt=json&rows=10&q=tsn:563934',\n",
       " 'originCollection': 'gapspecies',\n",
       " 'originDate': '2017-09-16T13:16:05.001223',\n",
       " 'originID': ObjectId('59b849463339a2d2a5efb088')}"
      ]
     },
     "metadata": {},
     "output_type": "display_data"
    },
    {
     "data": {
      "text/plain": [
       "{'itisSearchURL': 'http://services.itis.gov/?wt=json&rows=10&q=tsn:174177',\n",
       " 'originCollection': 'gapspecies',\n",
       " 'originDate': '2017-09-16T13:16:05.500066',\n",
       " 'originID': ObjectId('59b849473339a2d2a5efb089')}"
      ]
     },
     "metadata": {},
     "output_type": "display_data"
    },
    {
     "data": {
      "text/plain": [
       "{'itisSearchURL': 'http://services.itis.gov/?wt=json&rows=10&q=tsn:552502',\n",
       " 'originCollection': 'gapspecies',\n",
       " 'originDate': '2017-09-16T13:16:05.970048',\n",
       " 'originID': ObjectId('59b849473339a2d2a5efb08a')}"
      ]
     },
     "metadata": {},
     "output_type": "display_data"
    },
    {
     "data": {
      "text/plain": [
       "{'itisSearchURL': 'http://services.itis.gov/?wt=json&rows=10&q=tsn:174014',\n",
       " 'originCollection': 'gapspecies',\n",
       " 'originDate': '2017-09-16T13:16:06.804354',\n",
       " 'originID': ObjectId('59b849473339a2d2a5efb08b')}"
      ]
     },
     "metadata": {},
     "output_type": "display_data"
    },
    {
     "data": {
      "text/plain": [
       "{'itisSearchURL': 'http://services.itis.gov/?wt=json&rows=10&q=tsn:173948',\n",
       " 'originCollection': 'gapspecies',\n",
       " 'originDate': '2017-09-16T13:16:07.491139',\n",
       " 'originID': ObjectId('59b849483339a2d2a5efb08c')}"
      ]
     },
     "metadata": {},
     "output_type": "display_data"
    },
    {
     "data": {
      "text/plain": [
       "{'itisSearchURL': 'http://services.itis.gov/?wt=json&rows=10&q=tsn:173870',\n",
       " 'originCollection': 'gapspecies',\n",
       " 'originDate': '2017-09-16T13:16:07.681375',\n",
       " 'originID': ObjectId('59b849483339a2d2a5efb08d')}"
      ]
     },
     "metadata": {},
     "output_type": "display_data"
    },
    {
     "data": {
      "text/plain": [
       "{'itisSearchURL': 'http://services.itis.gov/?wt=json&rows=10&q=tsn:174183',\n",
       " 'originCollection': 'gapspecies',\n",
       " 'originDate': '2017-09-16T13:16:07.866986',\n",
       " 'originID': ObjectId('59b849493339a2d2a5efb08e')}"
      ]
     },
     "metadata": {},
     "output_type": "display_data"
    },
    {
     "data": {
      "text/plain": [
       "{'itisSearchURL': 'http://services.itis.gov/?wt=json&rows=10&q=tsn:173906',\n",
       " 'originCollection': 'gapspecies',\n",
       " 'originDate': '2017-09-16T13:16:08.051467',\n",
       " 'originID': ObjectId('59b849493339a2d2a5efb08f')}"
      ]
     },
     "metadata": {},
     "output_type": "display_data"
    },
    {
     "data": {
      "text/plain": [
       "{'itisSearchURL': 'http://services.itis.gov/?wt=json&rows=10&q=tsn:173804',\n",
       " 'originCollection': 'gapspecies',\n",
       " 'originDate': '2017-09-16T13:16:08.235803',\n",
       " 'originID': ObjectId('59b8494a3339a2d2a5efb090')}"
      ]
     },
     "metadata": {},
     "output_type": "display_data"
    },
    {
     "data": {
      "text/plain": [
       "{'itisSearchURL': 'http://services.itis.gov/?wt=json&rows=10&q=tsn:208930',\n",
       " 'originCollection': 'gapspecies',\n",
       " 'originDate': '2017-09-16T13:16:08.419456',\n",
       " 'originID': ObjectId('59b8494a3339a2d2a5efb091')}"
      ]
     },
     "metadata": {},
     "output_type": "display_data"
    },
    {
     "data": {
      "text/plain": [
       "{'itisSearchURL': 'http://services.itis.gov/?wt=json&rows=10&q=tsn:173881',\n",
       " 'originCollection': 'gapspecies',\n",
       " 'originDate': '2017-09-16T13:16:08.601474',\n",
       " 'originID': ObjectId('59b8494a3339a2d2a5efb092')}"
      ]
     },
     "metadata": {},
     "output_type": "display_data"
    },
    {
     "data": {
      "text/plain": [
       "{'itisSearchURL': 'http://services.itis.gov/?wt=json&rows=10&q=tsn:173791',\n",
       " 'originCollection': 'gapspecies',\n",
       " 'originDate': '2017-09-16T13:16:08.789434',\n",
       " 'originID': ObjectId('59b8494b3339a2d2a5efb093')}"
      ]
     },
     "metadata": {},
     "output_type": "display_data"
    },
    {
     "data": {
      "text/plain": [
       "{'itisSearchURL': 'http://services.itis.gov/?wt=json&rows=10&q=tsn:173528',\n",
       " 'originCollection': 'gapspecies',\n",
       " 'originDate': '2017-09-16T13:16:08.972318',\n",
       " 'originID': ObjectId('59b8494b3339a2d2a5efb094')}"
      ]
     },
     "metadata": {},
     "output_type": "display_data"
    },
    {
     "data": {
      "text/plain": [
       "{'itisSearchURL': 'http://services.itis.gov/?wt=json&rows=10&q=tsn:177884',\n",
       " 'originCollection': 'gapspecies',\n",
       " 'originDate': '2017-09-16T13:16:09.156857',\n",
       " 'originID': ObjectId('59b8494c3339a2d2a5efb095')}"
      ]
     },
     "metadata": {},
     "output_type": "display_data"
    },
    {
     "data": {
      "text/plain": [
       "{'itisSearchURL': 'http://services.itis.gov/?wt=json&rows=10&q=tsn:177878',\n",
       " 'originCollection': 'gapspecies',\n",
       " 'originDate': '2017-09-16T13:16:09.341212',\n",
       " 'originID': ObjectId('59b8494c3339a2d2a5efb096')}"
      ]
     },
     "metadata": {},
     "output_type": "display_data"
    },
    {
     "data": {
      "text/plain": [
       "{'itisSearchURL': 'http://services.itis.gov/?wt=json&rows=10&q=tsn:175171',\n",
       " 'originCollection': 'gapspecies',\n",
       " 'originDate': '2017-09-16T13:16:09.523874',\n",
       " 'originID': ObjectId('59b8494c3339a2d2a5efb097')}"
      ]
     },
     "metadata": {},
     "output_type": "display_data"
    },
    {
     "data": {
      "text/plain": [
       "{'itisSearchURL': 'http://services.itis.gov/?wt=json&rows=10&q=tsn:180717',\n",
       " 'originCollection': 'gapspecies',\n",
       " 'originDate': '2017-09-16T13:16:09.710167',\n",
       " 'originID': ObjectId('59b8494c3339a2d2a5efb098')}"
      ]
     },
     "metadata": {},
     "output_type": "display_data"
    },
    {
     "data": {
      "text/plain": [
       "{'itisSearchURL': 'http://services.itis.gov/?wt=json&rows=10&q=tsn:180173',\n",
       " 'originCollection': 'gapspecies',\n",
       " 'originDate': '2017-09-16T13:16:09.893654',\n",
       " 'originID': ObjectId('59b8494d3339a2d2a5efb099')}"
      ]
     },
     "metadata": {},
     "output_type": "display_data"
    },
    {
     "data": {
      "text/plain": [
       "{'itisSearchURL': 'http://services.itis.gov/?wt=json&rows=10&q=tsn:174469',\n",
       " 'originCollection': 'gapspecies',\n",
       " 'originDate': '2017-09-16T13:16:10.078567',\n",
       " 'originID': ObjectId('59b8494d3339a2d2a5efb09a')}"
      ]
     },
     "metadata": {},
     "output_type": "display_data"
    },
    {
     "data": {
      "text/plain": [
       "{'itisSearchURL': 'http://services.itis.gov/?wt=json&rows=10&q=tsn:173689',\n",
       " 'originCollection': 'gapspecies',\n",
       " 'originDate': '2017-09-16T13:16:10.281509',\n",
       " 'originID': ObjectId('59b8494d3339a2d2a5efb09b')}"
      ]
     },
     "metadata": {},
     "output_type": "display_data"
    },
    {
     "data": {
      "text/plain": [
       "{'itisSearchURL': 'http://services.itis.gov/?wt=json&rows=10&q=tsn:179222',\n",
       " 'originCollection': 'gapspecies',\n",
       " 'originDate': '2017-09-16T13:16:10.485498',\n",
       " 'originID': ObjectId('59b8494d3339a2d2a5efb09c')}"
      ]
     },
     "metadata": {},
     "output_type": "display_data"
    },
    {
     "data": {
      "text/plain": [
       "{'itisSearchURL': 'http://services.itis.gov/?wt=json&rows=10&q=tsn:180291',\n",
       " 'originCollection': 'gapspecies',\n",
       " 'originDate': '2017-09-16T13:16:10.668090',\n",
       " 'originID': ObjectId('59b8494e3339a2d2a5efb09d')}"
      ]
     },
     "metadata": {},
     "output_type": "display_data"
    },
    {
     "data": {
      "text/plain": [
       "{'itisSearchURL': 'http://services.itis.gov/?wt=json&rows=10&q=tsn:180260',\n",
       " 'originCollection': 'gapspecies',\n",
       " 'originDate': '2017-09-16T13:16:10.854264',\n",
       " 'originID': ObjectId('59b8494e3339a2d2a5efb09e')}"
      ]
     },
     "metadata": {},
     "output_type": "display_data"
    },
    {
     "data": {
      "text/plain": [
       "{'itisSearchURL': 'http://services.itis.gov/?wt=json&rows=10&q=nameWOInd:Amphispiza\\\\%20belli\\\\%20canescens',\n",
       " 'originCollection': 'gapspecies',\n",
       " 'originDate': '2017-09-16T13:16:11.041666',\n",
       " 'originID': ObjectId('59b8494e3339a2d2a5efb09f')}"
      ]
     },
     "metadata": {},
     "output_type": "display_data"
    },
    {
     "data": {
      "text/plain": [
       "{'itisSearchURL': 'http://services.itis.gov/?wt=json&rows=10&q=tsn:176838',\n",
       " 'originCollection': 'gapspecies',\n",
       " 'originDate': '2017-09-16T13:16:11.234442',\n",
       " 'originID': ObjectId('59b8494f3339a2d2a5efb0a0')}"
      ]
     },
     "metadata": {},
     "output_type": "display_data"
    },
    {
     "data": {
      "text/plain": [
       "{'itisSearchURL': 'http://services.itis.gov/?wt=json&rows=10&q=tsn:175915',\n",
       " 'originCollection': 'gapspecies',\n",
       " 'originDate': '2017-09-16T13:16:11.416820',\n",
       " 'originID': ObjectId('59b8494f3339a2d2a5efb0a1')}"
      ]
     },
     "metadata": {},
     "output_type": "display_data"
    },
    {
     "data": {
      "text/plain": [
       "{'itisSearchURL': 'http://services.itis.gov/?wt=json&rows=10&q=tsn:176923',\n",
       " 'originCollection': 'gapspecies',\n",
       " 'originDate': '2017-09-16T13:16:11.599549',\n",
       " 'originID': ObjectId('59b8494f3339a2d2a5efb0a2')}"
      ]
     },
     "metadata": {},
     "output_type": "display_data"
    },
    {
     "data": {
      "text/plain": [
       "{'itisSearchURL': 'http://services.itis.gov/?wt=json&rows=10&q=tsn:179484',\n",
       " 'originCollection': 'gapspecies',\n",
       " 'originDate': '2017-09-16T13:16:11.788627',\n",
       " 'originID': ObjectId('59b8494f3339a2d2a5efb0a3')}"
      ]
     },
     "metadata": {},
     "output_type": "display_data"
    },
    {
     "data": {
      "text/plain": [
       "{'itisSearchURL': 'http://services.itis.gov/?wt=json&rows=10&q=tsn:176593',\n",
       " 'originCollection': 'gapspecies',\n",
       " 'originDate': '2017-09-16T13:16:11.970471',\n",
       " 'originID': ObjectId('59b8494f3339a2d2a5efb0a4')}"
      ]
     },
     "metadata": {},
     "output_type": "display_data"
    },
    {
     "data": {
      "text/plain": [
       "{'itisSearchURL': 'http://services.itis.gov/?wt=json&rows=10&q=tsn:174827',\n",
       " 'originCollection': 'gapspecies',\n",
       " 'originDate': '2017-09-16T13:16:12.167730',\n",
       " 'originID': ObjectId('59b849503339a2d2a5efb0a5')}"
      ]
     },
     "metadata": {},
     "output_type": "display_data"
    },
    {
     "data": {
      "text/plain": [
       "{'itisSearchURL': 'http://services.itis.gov/?wt=json&rows=10&q=tsn:176932',\n",
       " 'originCollection': 'gapspecies',\n",
       " 'originDate': '2017-09-16T13:16:12.351504',\n",
       " 'originID': ObjectId('59b849503339a2d2a5efb0a6')}"
      ]
     },
     "metadata": {},
     "output_type": "display_data"
    },
    {
     "data": {
      "text/plain": [
       "{'itisSearchURL': 'http://services.itis.gov/?wt=json&rows=10&q=tsn:179346',\n",
       " 'originCollection': 'gapspecies',\n",
       " 'originDate': '2017-09-16T13:16:12.535924',\n",
       " 'originID': ObjectId('59b849513339a2d2a5efb0a7')}"
      ]
     },
     "metadata": {},
     "output_type": "display_data"
    },
    {
     "data": {
      "text/plain": [
       "{'itisSearchURL': 'http://services.itis.gov/?wt=json&rows=10&q=tsn:179023',\n",
       " 'originCollection': 'gapspecies',\n",
       " 'originDate': '2017-09-16T13:16:12.720397',\n",
       " 'originID': ObjectId('59b849513339a2d2a5efb0a8')}"
      ]
     },
     "metadata": {},
     "output_type": "display_data"
    },
    {
     "data": {
      "text/plain": [
       "{'itisSearchURL': 'http://services.itis.gov/?wt=json&rows=10&q=tsn:173502',\n",
       " 'originCollection': 'gapspecies',\n",
       " 'originDate': '2017-09-16T13:16:12.903530',\n",
       " 'originID': ObjectId('59b849513339a2d2a5efb0a9')}"
      ]
     },
     "metadata": {},
     "output_type": "display_data"
    },
    {
     "data": {
      "text/plain": [
       "{'itisSearchURL': 'http://services.itis.gov/?wt=json&rows=10&q=tsn:900643',\n",
       " 'originCollection': 'gapspecies',\n",
       " 'originDate': '2017-09-16T13:16:13.202756',\n",
       " 'originID': ObjectId('59b849523339a2d2a5efb0aa')}"
      ]
     },
     "metadata": {},
     "output_type": "display_data"
    },
    {
     "data": {
      "text/plain": [
       "{'itisSearchURL': 'http://services.itis.gov/?wt=json&rows=10&q=tsn:176669',\n",
       " 'originCollection': 'gapspecies',\n",
       " 'originDate': '2017-09-16T13:16:13.624239',\n",
       " 'originID': ObjectId('59b849523339a2d2a5efb0ab')}"
      ]
     },
     "metadata": {},
     "output_type": "display_data"
    },
    {
     "data": {
      "text/plain": [
       "{'itisSearchURL': 'http://services.itis.gov/?wt=json&rows=10&q=tsn:178856',\n",
       " 'originCollection': 'gapspecies',\n",
       " 'originDate': '2017-09-16T13:16:14.113722',\n",
       " 'originID': ObjectId('59b849523339a2d2a5efb0ac')}"
      ]
     },
     "metadata": {},
     "output_type": "display_data"
    },
    {
     "data": {
      "text/plain": [
       "{'itisSearchURL': 'http://services.itis.gov/?wt=json&rows=10&q=tsn:175900',\n",
       " 'originCollection': 'gapspecies',\n",
       " 'originDate': '2017-09-16T13:16:14.601058',\n",
       " 'originID': ObjectId('59b849533339a2d2a5efb0ad')}"
      ]
     },
     "metadata": {},
     "output_type": "display_data"
    },
    {
     "data": {
      "text/plain": [
       "{'itisSearchURL': 'http://services.itis.gov/?wt=json&rows=10&q=tsn:176646',\n",
       " 'originCollection': 'gapspecies',\n",
       " 'originDate': '2017-09-16T13:16:15.097354',\n",
       " 'originID': ObjectId('59b849533339a2d2a5efb0ae')}"
      ]
     },
     "metadata": {},
     "output_type": "display_data"
    },
    {
     "data": {
      "text/plain": [
       "{'itisSearchURL': 'http://services.itis.gov/?wt=json&rows=10&q=tsn:625146',\n",
       " 'originCollection': 'gapspecies',\n",
       " 'originDate': '2017-09-16T13:16:15.739903',\n",
       " 'originID': ObjectId('59b849533339a2d2a5efb0af')}"
      ]
     },
     "metadata": {},
     "output_type": "display_data"
    },
    {
     "data": {
      "text/plain": [
       "{'itisSearchURL': 'http://services.itis.gov/?wt=json&rows=10&q=tsn:179933',\n",
       " 'originCollection': 'gapspecies',\n",
       " 'originDate': '2017-09-16T13:16:16.554454',\n",
       " 'originID': ObjectId('59b849543339a2d2a5efb0b0')}"
      ]
     },
     "metadata": {},
     "output_type": "display_data"
    },
    {
     "data": {
      "text/plain": [
       "{'itisSearchURL': 'http://services.itis.gov/?wt=json&rows=10&q=tsn:173682',\n",
       " 'originCollection': 'gapspecies',\n",
       " 'originDate': '2017-09-16T13:16:16.849793',\n",
       " 'originID': ObjectId('59b849543339a2d2a5efb0b1')}"
      ]
     },
     "metadata": {},
     "output_type": "display_data"
    },
    {
     "data": {
      "text/plain": [
       "{'itisSearchURL': 'http://services.itis.gov/?wt=json&rows=10&q=tsn:173458',\n",
       " 'originCollection': 'gapspecies',\n",
       " 'originDate': '2017-09-16T13:16:17.041486',\n",
       " 'originID': ObjectId('59b849543339a2d2a5efb0b2')}"
      ]
     },
     "metadata": {},
     "output_type": "display_data"
    },
    {
     "data": {
      "text/plain": [
       "{'itisSearchURL': 'http://services.itis.gov/?wt=json&rows=10&q=tsn:174185',\n",
       " 'originCollection': 'gapspecies',\n",
       " 'originDate': '2017-09-16T13:16:17.227580',\n",
       " 'originID': ObjectId('59b849543339a2d2a5efb0b3')}"
      ]
     },
     "metadata": {},
     "output_type": "display_data"
    },
    {
     "data": {
      "text/plain": [
       "{'itisSearchURL': 'http://services.itis.gov/?wt=json&rows=10&q=tsn:179992',\n",
       " 'originCollection': 'gapspecies',\n",
       " 'originDate': '2017-09-16T13:16:17.409343',\n",
       " 'originID': ObjectId('59b849553339a2d2a5efb0b4')}"
      ]
     },
     "metadata": {},
     "output_type": "display_data"
    },
    {
     "data": {
      "text/plain": [
       "{'itisSearchURL': 'http://services.itis.gov/?wt=json&rows=10&q=tsn:173597',\n",
       " 'originCollection': 'gapspecies',\n",
       " 'originDate': '2017-09-16T13:16:17.600827',\n",
       " 'originID': ObjectId('59b849553339a2d2a5efb0b5')}"
      ]
     },
     "metadata": {},
     "output_type": "display_data"
    },
    {
     "data": {
      "text/plain": [
       "{'itisSearchURL': 'http://services.itis.gov/?wt=json&rows=10&q=tsn:178035',\n",
       " 'originCollection': 'gapspecies',\n",
       " 'originDate': '2017-09-16T13:16:17.855013',\n",
       " 'originID': ObjectId('59b849553339a2d2a5efb0b6')}"
      ]
     },
     "metadata": {},
     "output_type": "display_data"
    },
    {
     "data": {
      "text/plain": [
       "{'itisSearchURL': 'http://services.itis.gov/?wt=json&rows=10&q=tsn:173645',\n",
       " 'originCollection': 'gapspecies',\n",
       " 'originDate': '2017-09-16T13:16:18.044018',\n",
       " 'originID': ObjectId('59b849553339a2d2a5efb0b7')}"
      ]
     },
     "metadata": {},
     "output_type": "display_data"
    },
    {
     "data": {
      "text/plain": [
       "{'itisSearchURL': 'http://services.itis.gov/?wt=json&rows=10&q=tsn:173662',\n",
       " 'originCollection': 'gapspecies',\n",
       " 'originDate': '2017-09-16T13:16:18.231755',\n",
       " 'originID': ObjectId('59b849553339a2d2a5efb0b8')}"
      ]
     },
     "metadata": {},
     "output_type": "display_data"
    },
    {
     "data": {
      "text/plain": [
       "{'itisSearchURL': 'http://services.itis.gov/?wt=json&rows=10&q=tsn:179788',\n",
       " 'originCollection': 'gapspecies',\n",
       " 'originDate': '2017-09-16T13:16:18.414866',\n",
       " 'originID': ObjectId('59b849563339a2d2a5efb0b9')}"
      ]
     },
     "metadata": {},
     "output_type": "display_data"
    },
    {
     "data": {
      "text/plain": [
       "{'itisSearchURL': 'http://services.itis.gov/?wt=json&rows=10&q=tsn:175860',\n",
       " 'originCollection': 'gapspecies',\n",
       " 'originDate': '2017-09-16T13:16:18.598544',\n",
       " 'originID': ObjectId('59b849563339a2d2a5efb0ba')}"
      ]
     },
     "metadata": {},
     "output_type": "display_data"
    },
    {
     "data": {
      "text/plain": [
       "{'itisSearchURL': 'http://services.itis.gov/?wt=json&rows=10&q=tsn:173529',\n",
       " 'originCollection': 'gapspecies',\n",
       " 'originDate': '2017-09-16T13:16:18.782837',\n",
       " 'originID': ObjectId('59b849563339a2d2a5efb0bb')}"
      ]
     },
     "metadata": {},
     "output_type": "display_data"
    },
    {
     "data": {
      "text/plain": [
       "{'itisSearchURL': 'http://services.itis.gov/?wt=json&rows=10&q=tsn:773530',\n",
       " 'originCollection': 'gapspecies',\n",
       " 'originDate': '2017-09-16T13:16:18.969742',\n",
       " 'originID': ObjectId('59b849563339a2d2a5efb0bc')}"
      ]
     },
     "metadata": {},
     "output_type": "display_data"
    },
    {
     "data": {
      "text/plain": [
       "{'itisSearchURL': 'http://services.itis.gov/?wt=json&rows=10&q=tsn:174326',\n",
       " 'originCollection': 'gapspecies',\n",
       " 'originDate': '2017-09-16T13:16:19.157576',\n",
       " 'originID': ObjectId('59b849573339a2d2a5efb0bd')}"
      ]
     },
     "metadata": {},
     "output_type": "display_data"
    },
    {
     "data": {
      "text/plain": [
       "{'itisSearchURL': 'http://services.itis.gov/?wt=json&rows=10&q=tsn:573576',\n",
       " 'originCollection': 'gapspecies',\n",
       " 'originDate': '2017-09-16T13:16:19.340747',\n",
       " 'originID': ObjectId('59b849573339a2d2a5efb0be')}"
      ]
     },
     "metadata": {},
     "output_type": "display_data"
    },
    {
     "data": {
      "text/plain": [
       "{'itisSearchURL': 'http://services.itis.gov/?wt=json&rows=10&q=tsn:179393',\n",
       " 'originCollection': 'gapspecies',\n",
       " 'originDate': '2017-09-16T13:16:19.530783',\n",
       " 'originID': ObjectId('59b849573339a2d2a5efb0bf')}"
      ]
     },
     "metadata": {},
     "output_type": "display_data"
    },
    {
     "data": {
      "text/plain": [
       "{'itisSearchURL': 'http://services.itis.gov/?wt=json&rows=10&q=tsn:552489',\n",
       " 'originCollection': 'gapspecies',\n",
       " 'originDate': '2017-09-16T13:16:19.712153',\n",
       " 'originID': ObjectId('59b849573339a2d2a5efb0c0')}"
      ]
     },
     "metadata": {},
     "output_type": "display_data"
    },
    {
     "data": {
      "text/plain": [
       "{'itisSearchURL': 'http://services.itis.gov/?wt=json&rows=10&q=tsn:180154',\n",
       " 'originCollection': 'gapspecies',\n",
       " 'originDate': '2017-09-16T13:16:19.890564',\n",
       " 'originID': ObjectId('59b849583339a2d2a5efb0c1')}"
      ]
     },
     "metadata": {},
     "output_type": "display_data"
    },
    {
     "data": {
      "text/plain": [
       "{'itisSearchURL': 'http://services.itis.gov/?wt=json&rows=10&q=tsn:554254',\n",
       " 'originCollection': 'gapspecies',\n",
       " 'originDate': '2017-09-16T13:16:20.084365',\n",
       " 'originID': ObjectId('59b849583339a2d2a5efb0c2')}"
      ]
     },
     "metadata": {},
     "output_type": "display_data"
    },
    {
     "data": {
      "text/plain": [
       "{'itisSearchURL': 'http://services.itis.gov/?wt=json&rows=10&q=tsn:175449',\n",
       " 'originCollection': 'gapspecies',\n",
       " 'originDate': '2017-09-16T13:16:20.264930',\n",
       " 'originID': ObjectId('59b849583339a2d2a5efb0c3')}"
      ]
     },
     "metadata": {},
     "output_type": "display_data"
    },
    {
     "data": {
      "text/plain": [
       "{'itisSearchURL': 'http://services.itis.gov/?wt=json&rows=10&q=nameWOInd:Aplodontia\\\\%20rufa\\\\%20humboldtiana',\n",
       " 'originCollection': 'gapspecies',\n",
       " 'originDate': '2017-09-16T13:16:20.446964',\n",
       " 'originID': ObjectId('59b849583339a2d2a5efb0c4')}"
      ]
     },
     "metadata": {},
     "output_type": "display_data"
    },
    {
     "data": {
      "text/plain": [
       "{'itisSearchURL': 'http://services.itis.gov/?wt=json&rows=10&q=tsn:180359',\n",
       " 'originCollection': 'gapspecies',\n",
       " 'originDate': '2017-09-16T13:16:20.634319',\n",
       " 'originID': ObjectId('59b849593339a2d2a5efb0c5')}"
      ]
     },
     "metadata": {},
     "output_type": "display_data"
    },
    {
     "data": {
      "text/plain": [
       "{'itisSearchURL': 'http://services.itis.gov/?wt=json&rows=10&q=tsn:179070',\n",
       " 'originCollection': 'gapspecies',\n",
       " 'originDate': '2017-09-16T13:16:20.829171',\n",
       " 'originID': ObjectId('59b849593339a2d2a5efb0c6')}"
      ]
     },
     "metadata": {},
     "output_type": "display_data"
    },
    {
     "data": {
      "text/plain": [
       "{'itisSearchURL': 'http://services.itis.gov/?wt=json&rows=10&q=tsn:178917',\n",
       " 'originCollection': 'gapspecies',\n",
       " 'originDate': '2017-09-16T13:16:21.012258',\n",
       " 'originID': ObjectId('59b849593339a2d2a5efb0c7')}"
      ]
     },
     "metadata": {},
     "output_type": "display_data"
    },
    {
     "data": {
      "text/plain": [
       "{'itisSearchURL': 'http://services.itis.gov/?wt=json&rows=10&q=tsn:174354',\n",
       " 'originCollection': 'gapspecies',\n",
       " 'originDate': '2017-09-16T13:16:21.201429',\n",
       " 'originID': ObjectId('59b8495a3339a2d2a5efb0c8')}"
      ]
     },
     "metadata": {},
     "output_type": "display_data"
    },
    {
     "data": {
      "text/plain": [
       "{'itisSearchURL': 'http://services.itis.gov/?wt=json&rows=10&q=tsn:773512',\n",
       " 'originCollection': 'gapspecies',\n",
       " 'originDate': '2017-09-16T13:16:21.391201',\n",
       " 'originID': ObjectId('59b8495a3339a2d2a5efb0c9')}"
      ]
     },
     "metadata": {},
     "output_type": "display_data"
    },
    {
     "data": {
      "text/plain": [
       "{'itisSearchURL': 'http://services.itis.gov/?wt=json&rows=10&q=tsn:177908',\n",
       " 'originCollection': 'gapspecies',\n",
       " 'originDate': '2017-09-16T13:16:21.572467',\n",
       " 'originID': ObjectId('59b8495b3339a2d2a5efb0ca')}"
      ]
     },
     "metadata": {},
     "output_type": "display_data"
    },
    {
     "data": {
      "text/plain": [
       "{'itisSearchURL': 'http://services.itis.gov/?wt=json&rows=10&q=tsn:176520',\n",
       " 'originCollection': 'gapspecies',\n",
       " 'originDate': '2017-09-16T13:16:21.758960',\n",
       " 'originID': ObjectId('59b8495b3339a2d2a5efb0cb')}"
      ]
     },
     "metadata": {},
     "output_type": "display_data"
    },
    {
     "data": {
      "text/plain": [
       "{'itisSearchURL': 'http://services.itis.gov/?wt=json&rows=10&q=tsn:178855',\n",
       " 'originCollection': 'gapspecies',\n",
       " 'originDate': '2017-09-16T13:16:21.940713',\n",
       " 'originID': ObjectId('59b8495b3339a2d2a5efb0cc')}"
      ]
     },
     "metadata": {},
     "output_type": "display_data"
    },
    {
     "data": {
      "text/plain": [
       "{'itisSearchURL': 'http://services.itis.gov/?wt=json&rows=10&q=tsn:180079',\n",
       " 'originCollection': 'gapspecies',\n",
       " 'originDate': '2017-09-16T13:16:22.123976',\n",
       " 'originID': ObjectId('59b8495c3339a2d2a5efb0cd')}"
      ]
     },
     "metadata": {},
     "output_type": "display_data"
    },
    {
     "data": {
      "text/plain": [
       "{'itisSearchURL': 'http://services.itis.gov/?wt=json&rows=10&q=tsn:174286',\n",
       " 'originCollection': 'gapspecies',\n",
       " 'originDate': '2017-09-16T13:16:22.312964',\n",
       " 'originID': ObjectId('59b8495c3339a2d2a5efb0ce')}"
      ]
     },
     "metadata": {},
     "output_type": "display_data"
    },
    {
     "data": {
      "text/plain": [
       "{'itisSearchURL': 'http://services.itis.gov/?wt=json&rows=10&q=tsn:173598',\n",
       " 'originCollection': 'gapspecies',\n",
       " 'originDate': '2017-09-16T13:16:22.494766',\n",
       " 'originID': ObjectId('59b8495d3339a2d2a5efb0cf')}"
      ]
     },
     "metadata": {},
     "output_type": "display_data"
    },
    {
     "data": {
      "text/plain": [
       "{'itisSearchURL': 'http://services.itis.gov/?wt=json&rows=10&q=tsn:173665',\n",
       " 'originCollection': 'gapspecies',\n",
       " 'originDate': '2017-09-16T13:16:22.683768',\n",
       " 'originID': ObjectId('59b8495d3339a2d2a5efb0d0')}"
      ]
     },
     "metadata": {},
     "output_type": "display_data"
    },
    {
     "data": {
      "text/plain": [
       "{'itisSearchURL': 'http://services.itis.gov/?wt=json&rows=10&q=tsn:685566',\n",
       " 'originCollection': 'gapspecies',\n",
       " 'originDate': '2017-09-16T13:16:23.409590',\n",
       " 'originID': ObjectId('59b8495d3339a2d2a5efb0d1')}"
      ]
     },
     "metadata": {},
     "output_type": "display_data"
    },
    {
     "data": {
      "text/plain": [
       "{'itisSearchURL': 'http://services.itis.gov/?wt=json&rows=10&q=tsn:174172',\n",
       " 'originCollection': 'gapspecies',\n",
       " 'originDate': '2017-09-16T13:16:23.910314',\n",
       " 'originID': ObjectId('59b8495d3339a2d2a5efb0d2')}"
      ]
     },
     "metadata": {},
     "output_type": "display_data"
    },
    {
     "data": {
      "text/plain": [
       "{'itisSearchURL': 'http://services.itis.gov/?wt=json&rows=10&q=tsn:564597',\n",
       " 'originCollection': 'gapspecies',\n",
       " 'originDate': '2017-09-16T13:16:24.559380',\n",
       " 'originID': ObjectId('59b8495e3339a2d2a5efb0d3')}"
      ]
     },
     "metadata": {},
     "output_type": "display_data"
    },
    {
     "data": {
      "text/plain": [
       "{'itisSearchURL': 'http://services.itis.gov/?wt=json&rows=10&q=tsn:585976',\n",
       " 'originCollection': 'gapspecies',\n",
       " 'originDate': '2017-09-16T13:16:25.070858',\n",
       " 'originID': ObjectId('59b8495e3339a2d2a5efb0d4')}"
      ]
     },
     "metadata": {},
     "output_type": "display_data"
    },
    {
     "data": {
      "text/plain": [
       "{'itisSearchURL': 'http://services.itis.gov/?wt=json&rows=10&q=tsn:208900',\n",
       " 'originCollection': 'gapspecies',\n",
       " 'originDate': '2017-09-16T13:16:25.892109',\n",
       " 'originID': ObjectId('59b8495e3339a2d2a5efb0d5')}"
      ]
     },
     "metadata": {},
     "output_type": "display_data"
    },
    {
     "data": {
      "text/plain": [
       "{'itisSearchURL': 'http://services.itis.gov/?wt=json&rows=10&q=tsn:173636',\n",
       " 'originCollection': 'gapspecies',\n",
       " 'originDate': '2017-09-16T13:16:26.362980',\n",
       " 'originID': ObjectId('59b8495e3339a2d2a5efb0d6')}"
      ]
     },
     "metadata": {},
     "output_type": "display_data"
    },
    {
     "data": {
      "text/plain": [
       "{'itisSearchURL': 'http://services.itis.gov/?wt=json&rows=10&q=tsn:173470',\n",
       " 'originCollection': 'gapspecies',\n",
       " 'originDate': '2017-09-16T13:16:26.665060',\n",
       " 'originID': ObjectId('59b8495e3339a2d2a5efb0d7')}"
      ]
     },
     "metadata": {},
     "output_type": "display_data"
    },
    {
     "data": {
      "text/plain": [
       "{'itisSearchURL': 'http://services.itis.gov/?wt=json&rows=10&q=tsn:774548',\n",
       " 'originCollection': 'gapspecies',\n",
       " 'originDate': '2017-09-16T13:16:26.851966',\n",
       " 'originID': ObjectId('59b8495f3339a2d2a5efb0d8')}"
      ]
     },
     "metadata": {},
     "output_type": "display_data"
    },
    {
     "data": {
      "text/plain": [
       "{'itisSearchURL': 'http://services.itis.gov/?wt=json&rows=10&q=tsn:173676',\n",
       " 'originCollection': 'gapspecies',\n",
       " 'originDate': '2017-09-16T13:16:27.038275',\n",
       " 'originID': ObjectId('59b8495f3339a2d2a5efb0d9')}"
      ]
     },
     "metadata": {},
     "output_type": "display_data"
    },
    {
     "data": {
      "text/plain": [
       "{'itisSearchURL': 'http://services.itis.gov/?wt=json&rows=10&q=tsn:174263',\n",
       " 'originCollection': 'gapspecies',\n",
       " 'originDate': '2017-09-16T13:16:27.224314',\n",
       " 'originID': ObjectId('59b8495f3339a2d2a5efb0da')}"
      ]
     },
     "metadata": {},
     "output_type": "display_data"
    },
    {
     "data": {
      "text/plain": [
       "{'itisSearchURL': 'http://services.itis.gov/?wt=json&rows=10&q=tsn:174263',\n",
       " 'originCollection': 'gapspecies',\n",
       " 'originDate': '2017-09-16T13:16:27.411667',\n",
       " 'originID': ObjectId('59b849603339a2d2a5efb0db')}"
      ]
     },
     "metadata": {},
     "output_type": "display_data"
    },
    {
     "data": {
      "text/plain": [
       "{'itisSearchURL': 'http://services.itis.gov/?wt=json&rows=10&q=tsn:174244',\n",
       " 'originCollection': 'gapspecies',\n",
       " 'originDate': '2017-09-16T13:16:27.597971',\n",
       " 'originID': ObjectId('59b849603339a2d2a5efb0dc')}"
      ]
     },
     "metadata": {},
     "output_type": "display_data"
    },
    {
     "data": {
      "text/plain": [
       "{'itisSearchURL': 'http://services.itis.gov/?wt=json&rows=10&q=tsn:173857',\n",
       " 'originCollection': 'gapspecies',\n",
       " 'originDate': '2017-09-16T13:16:27.803704',\n",
       " 'originID': ObjectId('59b849603339a2d2a5efb0dd')}"
      ]
     },
     "metadata": {},
     "output_type": "display_data"
    },
    {
     "data": {
      "text/plain": [
       "{'itisSearchURL': 'http://services.itis.gov/?wt=json&rows=10&q=tsn:180010',\n",
       " 'originCollection': 'gapspecies',\n",
       " 'originDate': '2017-09-16T13:16:27.995520',\n",
       " 'originID': ObjectId('59b849603339a2d2a5efb0de')}"
      ]
     },
     "metadata": {},
     "output_type": "display_data"
    },
    {
     "data": {
      "text/plain": [
       "{'itisSearchURL': 'http://services.itis.gov/?wt=json&rows=10&q=tsn:177908',\n",
       " 'originCollection': 'gapspecies',\n",
       " 'originDate': '2017-09-16T13:16:28.186853',\n",
       " 'originID': ObjectId('59b849613339a2d2a5efb0df')}"
      ]
     },
     "metadata": {},
     "output_type": "display_data"
    },
    {
     "data": {
      "text/plain": [
       "{'itisSearchURL': 'http://services.itis.gov/?wt=json&rows=10&q=tsn:180124',\n",
       " 'originCollection': 'gapspecies',\n",
       " 'originDate': '2017-09-16T13:16:28.390207',\n",
       " 'originID': ObjectId('59b849613339a2d2a5efb0e0')}"
      ]
     },
     "metadata": {},
     "output_type": "display_data"
    },
    {
     "data": {
      "text/plain": [
       "{'itisSearchURL': 'http://services.itis.gov/?wt=json&rows=10&q=tsn:552484',\n",
       " 'originCollection': 'gapspecies',\n",
       " 'originDate': '2017-09-16T13:16:28.613473',\n",
       " 'originID': ObjectId('59b849613339a2d2a5efb0e1')}"
      ]
     },
     "metadata": {},
     "output_type": "display_data"
    },
    {
     "data": {
      "text/plain": [
       "{'itisSearchURL': 'http://services.itis.gov/?wt=json&rows=10&q=tsn:173924',\n",
       " 'originCollection': 'gapspecies',\n",
       " 'originDate': '2017-09-16T13:16:28.800927',\n",
       " 'originID': ObjectId('59b849623339a2d2a5efb0e2')}"
      ]
     },
     "metadata": {},
     "output_type": "display_data"
    },
    {
     "data": {
      "text/plain": [
       "{'itisSearchURL': 'http://services.itis.gov/?wt=json&rows=10&q=tsn:179935',\n",
       " 'originCollection': 'gapspecies',\n",
       " 'originDate': '2017-09-16T13:16:28.986981',\n",
       " 'originID': ObjectId('59b849623339a2d2a5efb0e3')}"
      ]
     },
     "metadata": {},
     "output_type": "display_data"
    },
    {
     "data": {
      "text/plain": [
       "{'itisSearchURL': 'http://services.itis.gov/?wt=json&rows=10&q=tsn:180202',\n",
       " 'originCollection': 'gapspecies',\n",
       " 'originDate': '2017-09-16T13:16:29.168023',\n",
       " 'originID': ObjectId('59b849623339a2d2a5efb0e4')}"
      ]
     },
     "metadata": {},
     "output_type": "display_data"
    },
    {
     "data": {
      "text/plain": [
       "{'itisSearchURL': 'http://services.itis.gov/?wt=json&rows=10&q=tsn:180376',\n",
       " 'originCollection': 'gapspecies',\n",
       " 'originDate': '2017-09-16T13:16:29.351817',\n",
       " 'originID': ObjectId('59b849633339a2d2a5efb0e5')}"
      ]
     },
     "metadata": {},
     "output_type": "display_data"
    },
    {
     "data": {
      "text/plain": [
       "{'itisSearchURL': 'http://services.itis.gov/?wt=json&rows=10&q=tsn:180313',\n",
       " 'originCollection': 'gapspecies',\n",
       " 'originDate': '2017-09-16T13:16:29.539989',\n",
       " 'originID': ObjectId('59b849633339a2d2a5efb0e6')}"
      ]
     },
     "metadata": {},
     "output_type": "display_data"
    },
    {
     "data": {
      "text/plain": [
       "{'itisSearchURL': 'http://services.itis.gov/?wt=json&rows=10&q=tsn:180242',\n",
       " 'originCollection': 'gapspecies',\n",
       " 'originDate': '2017-09-16T13:16:29.747638',\n",
       " 'originID': ObjectId('59b849643339a2d2a5efb0e7')}"
      ]
     },
     "metadata": {},
     "output_type": "display_data"
    },
    {
     "data": {
      "text/plain": [
       "{'itisSearchURL': 'http://services.itis.gov/?wt=json&rows=10&q=tsn:174019',\n",
       " 'originCollection': 'gapspecies',\n",
       " 'originDate': '2017-09-16T13:16:29.930069',\n",
       " 'originID': ObjectId('59b849643339a2d2a5efb0e8')}"
      ]
     },
     "metadata": {},
     "output_type": "display_data"
    },
    {
     "data": {
      "text/plain": [
       "{'itisSearchURL': 'http://services.itis.gov/?wt=json&rows=10&q=tsn:563904',\n",
       " 'originCollection': 'gapspecies',\n",
       " 'originDate': '2017-09-16T13:16:30.114455',\n",
       " 'originID': ObjectId('59b849653339a2d2a5efb0e9')}"
      ]
     },
     "metadata": {},
     "output_type": "display_data"
    },
    {
     "data": {
      "text/plain": [
       "{'itisSearchURL': 'http://services.itis.gov/?wt=json&rows=10&q=tsn:174110',\n",
       " 'originCollection': 'gapspecies',\n",
       " 'originDate': '2017-09-16T13:16:30.305943',\n",
       " 'originID': ObjectId('59b849653339a2d2a5efb0ea')}"
      ]
     },
     "metadata": {},
     "output_type": "display_data"
    },
    {
     "data": {
      "text/plain": [
       "{'itisSearchURL': 'http://services.itis.gov/?wt=json&rows=10&q=tsn:209266',\n",
       " 'originCollection': 'gapspecies',\n",
       " 'originDate': '2017-09-16T13:16:30.488982',\n",
       " 'originID': ObjectId('59b849663339a2d2a5efb0eb')}"
      ]
     },
     "metadata": {},
     "output_type": "display_data"
    },
    {
     "data": {
      "text/plain": [
       "{'itisSearchURL': 'http://services.itis.gov/?wt=json&rows=10&q=tsn:174021',\n",
       " 'originCollection': 'gapspecies',\n",
       " 'originDate': '2017-09-16T13:16:30.671496',\n",
       " 'originID': ObjectId('59b849663339a2d2a5efb0ec')}"
      ]
     },
     "metadata": {},
     "output_type": "display_data"
    },
    {
     "data": {
      "text/plain": [
       "{'itisSearchURL': 'http://services.itis.gov/?wt=json&rows=10&q=tsn:914099',\n",
       " 'originCollection': 'gapspecies',\n",
       " 'originDate': '2017-09-16T13:16:30.854814',\n",
       " 'originID': ObjectId('59b849673339a2d2a5efb0ed')}"
      ]
     },
     "metadata": {},
     "output_type": "display_data"
    },
    {
     "data": {
      "text/plain": [
       "{'itisSearchURL': 'http://services.itis.gov/?wt=json&rows=10&q=tsn:180567',\n",
       " 'originCollection': 'gapspecies',\n",
       " 'originDate': '2017-09-16T13:16:31.049839',\n",
       " 'originID': ObjectId('59b849673339a2d2a5efb0ee')}"
      ]
     },
     "metadata": {},
     "output_type": "display_data"
    },
    {
     "data": {
      "text/plain": [
       "{'itisSearchURL': 'http://services.itis.gov/?wt=json&rows=10&q=tsn:174232',\n",
       " 'originCollection': 'gapspecies',\n",
       " 'originDate': '2017-09-16T13:16:31.251149',\n",
       " 'originID': ObjectId('59b849673339a2d2a5efb0ef')}"
      ]
     },
     "metadata": {},
     "output_type": "display_data"
    },
    {
     "data": {
      "text/plain": [
       "{'itisSearchURL': 'http://services.itis.gov/?wt=json&rows=10&q=tsn:177925',\n",
       " 'originCollection': 'gapspecies',\n",
       " 'originDate': '2017-09-16T13:16:31.441428',\n",
       " 'originID': ObjectId('59b849683339a2d2a5efb0f0')}"
      ]
     },
     "metadata": {},
     "output_type": "display_data"
    },
    {
     "data": {
      "text/plain": [
       "{'itisSearchURL': 'http://services.itis.gov/?wt=json&rows=10&q=tsn:178431',\n",
       " 'originCollection': 'gapspecies',\n",
       " 'originDate': '2017-09-16T13:16:31.635741',\n",
       " 'originID': ObjectId('59b849683339a2d2a5efb0f1')}"
      ]
     },
     "metadata": {},
     "output_type": "display_data"
    },
    {
     "data": {
      "text/plain": [
       "{'itisSearchURL': 'http://services.itis.gov/?wt=json&rows=10&q=tsn:176599',\n",
       " 'originCollection': 'gapspecies',\n",
       " 'originDate': '2017-09-16T13:16:31.818298',\n",
       " 'originID': ObjectId('59b849683339a2d2a5efb0f2')}"
      ]
     },
     "metadata": {},
     "output_type": "display_data"
    },
    {
     "data": {
      "text/plain": [
       "{'itisSearchURL': 'http://services.itis.gov/?wt=json&rows=10&q=tsn:180305',\n",
       " 'originCollection': 'gapspecies',\n",
       " 'originDate': '2017-09-16T13:16:32.005254',\n",
       " 'originID': ObjectId('59b849693339a2d2a5efb0f3')}"
      ]
     },
     "metadata": {},
     "output_type": "display_data"
    },
    {
     "data": {
      "text/plain": [
       "{'itisSearchURL': 'http://services.itis.gov/?wt=json&rows=10&q=tsn:174897',\n",
       " 'originCollection': 'gapspecies',\n",
       " 'originDate': '2017-09-16T13:16:32.185194',\n",
       " 'originID': ObjectId('59b849693339a2d2a5efb0f4')}"
      ]
     },
     "metadata": {},
     "output_type": "display_data"
    },
    {
     "data": {
      "text/plain": [
       "{'itisSearchURL': 'http://services.itis.gov/?wt=json&rows=10&q=tsn:176136',\n",
       " 'originCollection': 'gapspecies',\n",
       " 'originDate': '2017-09-16T13:16:32.366213',\n",
       " 'originID': ObjectId('59b849693339a2d2a5efb0f5')}"
      ]
     },
     "metadata": {},
     "output_type": "display_data"
    },
    {
     "data": {
      "text/plain": [
       "{'itisSearchURL': 'http://services.itis.gov/?wt=json&rows=10&q=tsn:180282',\n",
       " 'originCollection': 'gapspecies',\n",
       " 'originDate': '2017-09-16T13:16:32.547798',\n",
       " 'originID': ObjectId('59b8496a3339a2d2a5efb0f6')}"
      ]
     },
     "metadata": {},
     "output_type": "display_data"
    },
    {
     "data": {
      "text/plain": [
       "{'itisSearchURL': 'http://services.itis.gov/?wt=json&rows=10&q=tsn:180115',\n",
       " 'originCollection': 'gapspecies',\n",
       " 'originDate': '2017-09-16T13:16:32.974154',\n",
       " 'originID': ObjectId('59b8496a3339a2d2a5efb0f7')}"
      ]
     },
     "metadata": {},
     "output_type": "display_data"
    },
    {
     "data": {
      "text/plain": [
       "{'itisSearchURL': 'http://services.itis.gov/?wt=json&rows=10&q=tsn:176136',\n",
       " 'originCollection': 'gapspecies',\n",
       " 'originDate': '2017-09-16T13:16:33.306420',\n",
       " 'originID': ObjectId('59b8496a3339a2d2a5efb0f8')}"
      ]
     },
     "metadata": {},
     "output_type": "display_data"
    },
    {
     "data": {
      "text/plain": [
       "{'itisSearchURL': 'http://services.itis.gov/?wt=json&rows=10&q=tsn:180585',\n",
       " 'originCollection': 'gapspecies',\n",
       " 'originDate': '2017-09-16T13:16:33.902026',\n",
       " 'originID': ObjectId('59b8496a3339a2d2a5efb0f9')}"
      ]
     },
     "metadata": {},
     "output_type": "display_data"
    },
    {
     "data": {
      "text/plain": [
       "{'itisSearchURL': 'http://services.itis.gov/?wt=json&rows=10&q=nameWOInd:Tamias\\\\%20minimus\\\\%20chuskaensis',\n",
       " 'originCollection': 'gapspecies',\n",
       " 'originDate': '2017-09-16T13:16:34.553793',\n",
       " 'originID': ObjectId('59b8496a3339a2d2a5efb0fa')}"
      ]
     },
     "metadata": {},
     "output_type": "display_data"
    },
    {
     "data": {
      "text/plain": [
       "{'itisSearchURL': 'http://services.itis.gov/?wt=json&rows=10&q=tsn:178902',\n",
       " 'originCollection': 'gapspecies',\n",
       " 'originDate': '2017-09-16T13:16:35.072333',\n",
       " 'originID': ObjectId('59b8496a3339a2d2a5efb0fb')}"
      ]
     },
     "metadata": {},
     "output_type": "display_data"
    },
    {
     "data": {
      "text/plain": [
       "{'itisSearchURL': 'http://services.itis.gov/?wt=json&rows=10&q=tsn:180058',\n",
       " 'originCollection': 'gapspecies',\n",
       " 'originDate': '2017-09-16T13:16:35.546888',\n",
       " 'originID': ObjectId('59b8496b3339a2d2a5efb0fc')}"
      ]
     },
     "metadata": {},
     "output_type": "display_data"
    },
    {
     "data": {
      "text/plain": [
       "{'itisSearchURL': 'http://services.itis.gov/?wt=json&rows=10&q=tsn:180323',\n",
       " 'originCollection': 'gapspecies',\n",
       " 'originDate': '2017-09-16T13:16:36.436565',\n",
       " 'originID': ObjectId('59b8496b3339a2d2a5efb0fd')}"
      ]
     },
     "metadata": {},
     "output_type": "display_data"
    },
    {
     "data": {
      "text/plain": [
       "{'itisSearchURL': 'http://services.itis.gov/?wt=json&rows=10&q=tsn:178547',\n",
       " 'originCollection': 'gapspecies',\n",
       " 'originDate': '2017-09-16T13:16:36.628456',\n",
       " 'originID': ObjectId('59b8496b3339a2d2a5efb0fe')}"
      ]
     },
     "metadata": {},
     "output_type": "display_data"
    },
    {
     "data": {
      "text/plain": [
       "{'itisSearchURL': 'http://services.itis.gov/?wt=json&rows=10&q=tsn:180169',\n",
       " 'originCollection': 'gapspecies',\n",
       " 'originDate': '2017-09-16T13:16:36.812708',\n",
       " 'originID': ObjectId('59b8496b3339a2d2a5efb0ff')}"
      ]
     },
     "metadata": {},
     "output_type": "display_data"
    },
    {
     "data": {
      "text/plain": [
       "{'itisSearchURL': 'http://services.itis.gov/?wt=json&rows=10&q=tsn:726905',\n",
       " 'originCollection': 'gapspecies',\n",
       " 'originDate': '2017-09-16T13:16:36.992669',\n",
       " 'originID': ObjectId('59b8496b3339a2d2a5efb100')}"
      ]
     },
     "metadata": {},
     "output_type": "display_data"
    },
    {
     "data": {
      "text/plain": [
       "{'itisSearchURL': 'http://services.itis.gov/?wt=json&rows=10&q=tsn:179529',\n",
       " 'originCollection': 'gapspecies',\n",
       " 'originDate': '2017-09-16T13:16:37.177159',\n",
       " 'originID': ObjectId('59b8496c3339a2d2a5efb101')}"
      ]
     },
     "metadata": {},
     "output_type": "display_data"
    },
    {
     "data": {
      "text/plain": [
       "{'itisSearchURL': 'http://services.itis.gov/?wt=json&rows=10&q=tsn:178106',\n",
       " 'originCollection': 'gapspecies',\n",
       " 'originDate': '2017-09-16T13:16:37.358567',\n",
       " 'originID': ObjectId('59b8496c3339a2d2a5efb102')}"
      ]
     },
     "metadata": {},
     "output_type": "display_data"
    },
    {
     "data": {
      "text/plain": [
       "{'itisSearchURL': 'http://services.itis.gov/?wt=json&rows=10&q=tsn:180149',\n",
       " 'originCollection': 'gapspecies',\n",
       " 'originDate': '2017-09-16T13:16:37.547730',\n",
       " 'originID': ObjectId('59b8496c3339a2d2a5efb103')}"
      ]
     },
     "metadata": {},
     "output_type": "display_data"
    },
    {
     "data": {
      "text/plain": [
       "{'itisSearchURL': 'http://services.itis.gov/?wt=json&rows=10&q=tsn:178259',\n",
       " 'originCollection': 'gapspecies',\n",
       " 'originDate': '2017-09-16T13:16:37.756672',\n",
       " 'originID': ObjectId('59b8496d3339a2d2a5efb104')}"
      ]
     },
     "metadata": {},
     "output_type": "display_data"
    },
    {
     "data": {
      "text/plain": [
       "{'itisSearchURL': 'http://services.itis.gov/?wt=json&rows=10&q=tsn:179034',\n",
       " 'originCollection': 'gapspecies',\n",
       " 'originDate': '2017-09-16T13:16:37.940122',\n",
       " 'originID': ObjectId('59b8496d3339a2d2a5efb105')}"
      ]
     },
     "metadata": {},
     "output_type": "display_data"
    },
    {
     "data": {
      "text/plain": [
       "{'itisSearchURL': 'http://services.itis.gov/?wt=json&rows=10&q=tsn:175086',\n",
       " 'originCollection': 'gapspecies',\n",
       " 'originDate': '2017-09-16T13:16:38.122451',\n",
       " 'originID': ObjectId('59b8496d3339a2d2a5efb106')}"
      ]
     },
     "metadata": {},
     "output_type": "display_data"
    },
    {
     "data": {
      "text/plain": [
       "{'itisSearchURL': 'http://services.itis.gov/?wt=json&rows=10&q=tsn:173656',\n",
       " 'originCollection': 'gapspecies',\n",
       " 'originDate': '2017-09-16T13:16:38.307161',\n",
       " 'originID': ObjectId('59b8496d3339a2d2a5efb107')}"
      ]
     },
     "metadata": {},
     "output_type": "display_data"
    },
    {
     "data": {
      "text/plain": [
       "{'itisSearchURL': 'http://services.itis.gov/?wt=json&rows=10&q=tsn:177946',\n",
       " 'originCollection': 'gapspecies',\n",
       " 'originDate': '2017-09-16T13:16:38.506990',\n",
       " 'originID': ObjectId('59b8496e3339a2d2a5efb108')}"
      ]
     },
     "metadata": {},
     "output_type": "display_data"
    },
    {
     "data": {
      "text/plain": [
       "{'itisSearchURL': 'http://services.itis.gov/?wt=json&rows=10&q=tsn:552517',\n",
       " 'originCollection': 'gapspecies',\n",
       " 'originDate': '2017-09-16T13:16:38.805110',\n",
       " 'originID': ObjectId('59b8496e3339a2d2a5efb109')}"
      ]
     },
     "metadata": {},
     "output_type": "display_data"
    },
    {
     "data": {
      "text/plain": [
       "{'itisSearchURL': 'http://services.itis.gov/?wt=json&rows=10&q=tsn:176567',\n",
       " 'originCollection': 'gapspecies',\n",
       " 'originDate': '2017-09-16T13:16:39.014761',\n",
       " 'originID': ObjectId('59b8496e3339a2d2a5efb10a')}"
      ]
     },
     "metadata": {},
     "output_type": "display_data"
    },
    {
     "data": {
      "text/plain": [
       "{'itisSearchURL': 'http://services.itis.gov/?wt=json&rows=10&q=tsn:179410',\n",
       " 'originCollection': 'gapspecies',\n",
       " 'originDate': '2017-09-16T13:16:39.205919',\n",
       " 'originID': ObjectId('59b8496f3339a2d2a5efb10b')}"
      ]
     },
     "metadata": {},
     "output_type": "display_data"
    },
    {
     "data": {
      "text/plain": [
       "{'itisSearchURL': 'http://services.itis.gov/?wt=json&rows=10&q=tsn:178060',\n",
       " 'originCollection': 'gapspecies',\n",
       " 'originDate': '2017-09-16T13:16:39.406828',\n",
       " 'originID': ObjectId('59b8496f3339a2d2a5efb10c')}"
      ]
     },
     "metadata": {},
     "output_type": "display_data"
    },
    {
     "data": {
      "text/plain": [
       "{'itisSearchURL': 'http://services.itis.gov/?wt=json&rows=10&q=tsn:178359',\n",
       " 'originCollection': 'gapspecies',\n",
       " 'originDate': '2017-09-16T13:16:39.590716',\n",
       " 'originID': ObjectId('59b8496f3339a2d2a5efb10d')}"
      ]
     },
     "metadata": {},
     "output_type": "display_data"
    },
    {
     "data": {
      "text/plain": [
       "{'itisSearchURL': 'http://services.itis.gov/?wt=json&rows=10&q=tsn:773520',\n",
       " 'originCollection': 'gapspecies',\n",
       " 'originDate': '2017-09-16T13:16:39.775348',\n",
       " 'originID': ObjectId('59b849703339a2d2a5efb10e')}"
      ]
     },
     "metadata": {},
     "output_type": "display_data"
    },
    {
     "data": {
      "text/plain": [
       "{'itisSearchURL': 'http://services.itis.gov/?wt=json&rows=10&q=nameWOInd:Lepus\\\\%20townsendii',\n",
       " 'originCollection': 'gapspecies',\n",
       " 'originDate': '2017-09-16T13:16:39.962236',\n",
       " 'originID': ObjectId('59b849703339a2d2a5efb10f')}"
      ]
     },
     "metadata": {},
     "output_type": "display_data"
    },
    {
     "data": {
      "text/plain": [
       "{'itisSearchURL': 'http://services.itis.gov/?wt=json&rows=10&q=nameWOInd:Aspidoscelis\\\\%20dixoni',\n",
       " 'originCollection': 'gapspecies',\n",
       " 'originDate': '2017-09-16T13:16:40.145502',\n",
       " 'originID': ObjectId('59b849703339a2d2a5efb110')}"
      ]
     },
     "metadata": {},
     "output_type": "display_data"
    },
    {
     "data": {
      "text/plain": [
       "{'itisSearchURL': 'http://services.itis.gov/?wt=json&rows=10&q=nameWOInd:Xantusia\\\\%20vigilis',\n",
       " 'originCollection': 'gapspecies',\n",
       " 'originDate': '2017-09-16T13:16:40.329454',\n",
       " 'originID': ObjectId('59b849703339a2d2a5efb111')}"
      ]
     },
     "metadata": {},
     "output_type": "display_data"
    },
    {
     "data": {
      "text/plain": [
       "{'itisSearchURL': 'http://services.itis.gov/?wt=json&rows=10&q=tsn:180306',\n",
       " 'originCollection': 'gapspecies',\n",
       " 'originDate': '2017-09-16T13:16:40.511670',\n",
       " 'originID': ObjectId('59b849703339a2d2a5efb112')}"
      ]
     },
     "metadata": {},
     "output_type": "display_data"
    }
   ],
   "source": [
    "for doc in gapspecies.find():\n",
    "    # Create the itisRecord and populate with GAP species origin\n",
    "    itisRecord = {}\n",
    "    itisRecord[\"originCollection\"] = \"gapspecies\"\n",
    "    itisRecord[\"originID\"] = ObjectId(doc[\"_id\"])\n",
    "    itisRecord[\"originDate\"] = datetime.utcnow().isoformat()\n",
    "    \n",
    "    # If the GAP species record has an explicit ITIS TSN, use that for the search; otherwise, use the scientific name\n",
    "    if \"ITIS_TSN\" in doc:\n",
    "        itisSearchString = doc[\"ITIS_TSN\"]\n",
    "    else:\n",
    "        itisSearchString = doc[\"scientificname\"]\n",
    "    \n",
    "    # Establish the ITIS search URL from the ITIS function\n",
    "    itisRecord[\"itisSearchURL\"] = itis.getITISSearchURL(itisSearchString,False,False)\n",
    "    \n",
    "    # Check to see if the ITIS cache already has the ITIS search URL\n",
    "    itisCurrent = itiscache.find_one({\"itisSearchURL\":itisRecord[\"itisSearchURL\"]},{\"originCollection\":1,\"originID\":1})\n",
    "    \n",
    "    # If the ITIS search URL has not already resulted in a cached record, go ahead and set it up\n",
    "    if itisCurrent is None:\n",
    "        # Insert the ITIS record and get the document ID as itisCacheID\n",
    "        itisCurrent = itiscache.insert_one(itisRecord)\n",
    "        itisCacheID = itisCurrent.inserted_id\n",
    "\n",
    "    # Set the itisCacheID for an existing doc\n",
    "    else:\n",
    "        itisCacheID = itisCurrent[\"_id\"]\n",
    "    \n",
    "    # If necessary update the itisCacheID\n",
    "    if gapspecies[\"itisCacheID\"] <> itisCacheID:\n",
    "        gapspecies.update_one({'_id':doc[\"_id\"]}, {\"$set\":{\"itisCacheID\": itisCacheID}}, upsert=False)\n"
   ]
  },
  {
   "cell_type": "code",
   "execution_count": null,
   "metadata": {
    "collapsed": true
   },
   "outputs": [],
   "source": []
  }
 ],
 "metadata": {
  "kernelspec": {
   "display_name": "Python 3",
   "language": "python",
   "name": "python3"
  },
  "language_info": {
   "codemirror_mode": {
    "name": "ipython",
    "version": 3
   },
   "file_extension": ".py",
   "mimetype": "text/x-python",
   "name": "python",
   "nbconvert_exporter": "python",
   "pygments_lexer": "ipython3",
   "version": "3.5.3"
  }
 },
 "nbformat": 4,
 "nbformat_minor": 0
}
