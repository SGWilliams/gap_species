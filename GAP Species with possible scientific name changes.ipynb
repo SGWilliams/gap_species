{
 "cells": [
  {
   "cell_type": "code",
   "execution_count": 1,
   "metadata": {
    "collapsed": true
   },
   "outputs": [],
   "source": [
    "import requests\n",
    "from IPython.display import display\n",
    "from bis import itis\n",
    "from bis2 import mlab"
   ]
  },
  {
   "cell_type": "code",
   "execution_count": 2,
   "metadata": {
    "collapsed": true
   },
   "outputs": [],
   "source": [
    "bisDB = mlab.getDB(\"bis\")\n",
    "itiscache = bisDB[\"itiscache\"]\n",
    "gapspecies = bisDB[\"gapspecies\"]"
   ]
  },
  {
   "cell_type": "code",
   "execution_count": 3,
   "metadata": {
    "collapsed": false
   },
   "outputs": [
    {
     "name": "stdout",
     "output_type": "stream",
     "text": [
      "GAP Record: rDHNSx -- Heterodon gloydi -- Dusty Hog-nosed Snake\n",
      "http://services.itis.gov/?wt=json&rows=10&q=nameWOInd:Heterodon\\%20gloydi~0.5\n",
      "-------------------------------\n",
      "GAP Record: aSENEx -- Taricha sierrea -- Sierra Newt\n",
      "ITIS Record with Fuzzy Match: 775939 -- Taricha sierrae\n",
      "-------------------------------\n",
      "GAP Record: rYBSLx -- Sceloporus uniformis -- Yellow-backed Spiny Lizard\n",
      "ITIS Record with Fuzzy Match: 586079 -- Sceloporus utiformis\n",
      "-------------------------------\n",
      "GAP Record: mSEWEo -- Aplodontia rufa olympica -- Mountain Beaver olympica\n",
      "http://services.itis.gov/?wt=json&rows=10&q=nameWOInd:Aplodontia\\%20rufa\\%20olympica~0.5\n",
      "-------------------------------\n",
      "GAP Record: mELK1r -- Cervus elaphus nannodes roosevelti -- Roosevelt Elk\n",
      "http://services.itis.gov/?wt=json&rows=10&q=nameWOInd:Cervus\\%20elaphus\\%20nannodes\\%20roosevelti~0.5\n",
      "-------------------------------\n",
      "GAP Record: mMARAh -- Sylvilagus palustris heferni -- Lower Keys Rabbit\n",
      "ITIS Record with Fuzzy Match: 202349 -- Sylvilagus palustris hefneri\n",
      "-------------------------------\n"
     ]
    }
   ],
   "source": [
    "for itisRecord in itiscache.find({\"itisData\": {\"$exists\": False}}):\n",
    "    gapRecord = gapspecies.find_one({\"_id\":itisRecord[\"originID\"]})\n",
    "    print (\"GAP Record:\", gapRecord[\"GAP_SpeciesCode\"], \"--\", gapRecord[\"scientificname\"], \"--\", gapRecord[\"commonname\"])\n",
    "    itisSearchResults = requests.get(itisRecord[\"itisSearchURL\"]+\"~0.5\").json()\n",
    "    if len(itisSearchResults[\"response\"][\"docs\"]) == 1:\n",
    "        itisData = itis.packageITISJSON(itisSearchResults[\"response\"][\"docs\"][0])\n",
    "        print (\"ITIS Record with Fuzzy Match:\", itisData[\"tsn\"], \"--\", itisData[\"nameWInd\"])\n",
    "    else:\n",
    "        print (itisRecord[\"itisSearchURL\"]+\"~0.5\")\n",
    "    print (\"-------------------------------\")"
   ]
  },
  {
   "cell_type": "code",
   "execution_count": null,
   "metadata": {
    "collapsed": true
   },
   "outputs": [],
   "source": []
  }
 ],
 "metadata": {
  "kernelspec": {
   "display_name": "Python 3",
   "language": "python",
   "name": "python3"
  },
  "language_info": {
   "codemirror_mode": {
    "name": "ipython",
    "version": 3
   },
   "file_extension": ".py",
   "mimetype": "text/x-python",
   "name": "python",
   "nbconvert_exporter": "python",
   "pygments_lexer": "ipython3",
   "version": "3.5.3"
  }
 },
 "nbformat": 4,
 "nbformat_minor": 0
}
