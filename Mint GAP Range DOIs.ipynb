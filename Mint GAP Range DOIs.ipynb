{
 "cells": [
  {
   "cell_type": "code",
   "execution_count": 51,
   "metadata": {
    "collapsed": true,
    "deletable": true,
    "editable": true
   },
   "outputs": [],
   "source": [
    "import requests\n",
    "import pysb\n",
    "import time\n",
    "from IPython.display import display\n",
    "import getpass\n",
    "\n",
    "from usgs_datatools import doi\n",
    "from usgs_datatools.doi import add_primary_doi_manager"
   ]
  },
  {
   "cell_type": "code",
   "execution_count": 3,
   "metadata": {
    "collapsed": false,
    "deletable": true,
    "editable": true
   },
   "outputs": [],
   "source": [
    "_rangeMapRoot = \"5951527de4b062508e3b1e79\""
   ]
  },
  {
   "cell_type": "code",
   "execution_count": 4,
   "metadata": {
    "collapsed": false,
    "deletable": true,
    "editable": true
   },
   "outputs": [
    {
     "name": "stdout",
     "output_type": "stream",
     "text": [
      "Username: sbristol@usgs.gov\n",
      "········\n",
      "Invalid password, try again\n",
      "········\n"
     ]
    },
    {
     "data": {
      "text/plain": [
       "<pysb.SbSession.SbSession at 0x11ab955c0>"
      ]
     },
     "execution_count": 4,
     "metadata": {},
     "output_type": "execute_result"
    }
   ],
   "source": [
    "sb = pysb.SbSession()\n",
    "username = input(\"Username: \")\n",
    "sb.loginc(str(username))"
   ]
  },
  {
   "cell_type": "code",
   "execution_count": 52,
   "metadata": {
    "collapsed": false
   },
   "outputs": [
    {
     "name": "stdout",
     "output_type": "stream",
     "text": [
      "USGS AD Password: ········\n"
     ]
    }
   ],
   "source": [
    "username = 'sbristol@usgs.gov'\n",
    "password = getpass.getpass('USGS AD Password: ')"
   ]
  },
  {
   "cell_type": "code",
   "execution_count": 53,
   "metadata": {
    "collapsed": false
   },
   "outputs": [
    {
     "name": "stdout",
     "output_type": "stream",
     "text": [
      "Using Staging Environment\n",
      "\n"
     ]
    }
   ],
   "source": [
    "DoiSession = doi.DoiSession(env='staging')"
   ]
  },
  {
   "cell_type": "code",
   "execution_count": 54,
   "metadata": {
    "collapsed": false
   },
   "outputs": [
    {
     "data": {
      "text/plain": [
       "<usgs_datatools.doi.DoiSession at 0x11b521f98>"
      ]
     },
     "execution_count": 54,
     "metadata": {},
     "output_type": "execute_result"
    }
   ],
   "source": [
    "DoiSession.doi_authenticate(username, password)"
   ]
  },
  {
   "cell_type": "code",
   "execution_count": 55,
   "metadata": {
    "collapsed": false,
    "deletable": true,
    "editable": true
   },
   "outputs": [],
   "source": [
    "rangeMaps = {}\n",
    "rangeMapDocs = []\n",
    "rangeMapSearchResults = sb.find_items(\"parentId=\"+_rangeMapRoot+\"&fields=title,body,contacts,identifiers&max=100\")\n",
    "while rangeMapSearchResults is not None:\n",
    "    for rangeItem in rangeMapSearchResults[\"items\"]:\n",
    "        rangeMaps[next((i for i in rangeItem[\"identifiers\"] if i[\"type\"] == \"GAP_SpeciesCode\"), None)[\"key\"]] = rangeItem[\"id\"]\n",
    "        thisRangeMapDoc = {}\n",
    "        thisRangeMapDoc[\"id\"] = rangeItem[\"id\"]\n",
    "        thisRangeMapDoc[\"identifiers\"] = rangeItem[\"identifiers\"]\n",
    "        thisRangeMapDoc[\"title\"] = rangeItem[\"title\"]\n",
    "        thisRangeMapDoc[\"body\"] = rangeItem[\"body\"]\n",
    "        thisRangeMapDoc[\"contacts\"] = rangeItem[\"contacts\"]\n",
    "        rangeMapDocs.append(thisRangeMapDoc)\n",
    "    rangeMapSearchResults = sb.next(rangeMapSearchResults)"
   ]
  },
  {
   "cell_type": "code",
   "execution_count": 80,
   "metadata": {
    "collapsed": false,
    "deletable": true,
    "editable": true,
    "scrolled": false
   },
   "outputs": [
    {
     "data": {
      "text/plain": [
       "{'abstractTypeDesc': 'This dataset represents a species known range extent for Taricha torosa (California Newt). These range maps are created by attributing sub-watershed polygons with information of a species presence, origin, seasonal and reproductive use.',\n",
       " 'authors[0].authorName': 'Boykin, Ken',\n",
       " 'authors[0].orcId': '',\n",
       " 'authors[0].position': '0',\n",
       " 'authors[1].authorName': 'Lonneker, Jeff',\n",
       " 'authors[1].orcId': '',\n",
       " 'authors[1].position': '1',\n",
       " 'pubYear': '2017',\n",
       " 'resourceType': 'Dataset',\n",
       " 'resourceURL': 'https://www.sciencebase.gov/catalog/item/59f5ebb0e4b063d5d307e0ad',\n",
       " 'status': 'reserved',\n",
       " 'title': 'Taricha torosa (California Newt) Range Map'}"
      ]
     },
     "metadata": {},
     "output_type": "display_data"
    },
    {
     "ename": "IndexError",
     "evalue": "list index out of range",
     "output_type": "error",
     "traceback": [
      "\u001b[0;31m---------------------------------------------------------------------------\u001b[0m",
      "\u001b[0;31mIndexError\u001b[0m                                Traceback (most recent call last)",
      "\u001b[0;32m<ipython-input-80-21e00db71e1c>\u001b[0m in \u001b[0;36m<module>\u001b[0;34m()\u001b[0m\n\u001b[1;32m     25\u001b[0m \u001b[0;34m\u001b[0m\u001b[0m\n\u001b[1;32m     26\u001b[0m     \u001b[0mdisplay\u001b[0m \u001b[0;34m(\u001b[0m\u001b[0mdoiRegistration\u001b[0m\u001b[0;34m)\u001b[0m\u001b[0;34m\u001b[0m\u001b[0m\n\u001b[0;32m---> 27\u001b[0;31m     \u001b[0mprint\u001b[0m \u001b[0;34m(\u001b[0m\u001b[0mDoiSession\u001b[0m\u001b[0;34m.\u001b[0m\u001b[0mdoi_create\u001b[0m\u001b[0;34m(\u001b[0m\u001b[0mdoiRegistration\u001b[0m\u001b[0;34m)\u001b[0m\u001b[0;34m)\u001b[0m\u001b[0;34m\u001b[0m\u001b[0m\n\u001b[0m\u001b[1;32m     28\u001b[0m     \u001b[0mcount\u001b[0m \u001b[0;34m=\u001b[0m \u001b[0mcount\u001b[0m \u001b[0;34m+\u001b[0m \u001b[0;36m1\u001b[0m\u001b[0;34m\u001b[0m\u001b[0m\n",
      "\u001b[0;32m/Users/sky/anaconda/lib/python3.5/site-packages/usgs_datatools/doi.py\u001b[0m in \u001b[0;36mdoi_create\u001b[0;34m(self, doi)\u001b[0m\n\u001b[1;32m    129\u001b[0m \u001b[0;34m\u001b[0m\u001b[0m\n\u001b[1;32m    130\u001b[0m         \u001b[0;31m# Retrieve DOI\u001b[0m\u001b[0;34m\u001b[0m\u001b[0;34m\u001b[0m\u001b[0m\n\u001b[0;32m--> 131\u001b[0;31m         \u001b[0mdoi_number\u001b[0m \u001b[0;34m=\u001b[0m \u001b[0mresponse_create\u001b[0m\u001b[0;34m.\u001b[0m\u001b[0mtext\u001b[0m\u001b[0;34m.\u001b[0m\u001b[0msplit\u001b[0m\u001b[0;34m(\u001b[0m\u001b[0;34m'Your DOI has been saved: '\u001b[0m\u001b[0;34m)\u001b[0m\u001b[0;34m[\u001b[0m\u001b[0;36m1\u001b[0m\u001b[0;34m]\u001b[0m\u001b[0;34m.\u001b[0m\u001b[0msplit\u001b[0m\u001b[0;34m(\u001b[0m\u001b[0;34m'</div>'\u001b[0m\u001b[0;34m)\u001b[0m\u001b[0;34m[\u001b[0m\u001b[0;36m0\u001b[0m\u001b[0;34m]\u001b[0m\u001b[0;34m.\u001b[0m\u001b[0mreplace\u001b[0m\u001b[0;34m(\u001b[0m\u001b[0;34m\" \"\u001b[0m\u001b[0;34m,\u001b[0m\u001b[0;34m\"\"\u001b[0m\u001b[0;34m)\u001b[0m\u001b[0;34m.\u001b[0m\u001b[0mreplace\u001b[0m\u001b[0;34m(\u001b[0m\u001b[0;34m\"\\n\"\u001b[0m\u001b[0;34m,\u001b[0m\u001b[0;34m\"\"\u001b[0m\u001b[0;34m)\u001b[0m\u001b[0;34m\u001b[0m\u001b[0m\n\u001b[0m\u001b[1;32m    132\u001b[0m         \u001b[0mprint\u001b[0m\u001b[0;34m(\u001b[0m\u001b[0;34m\"Created DOI: \"\u001b[0m \u001b[0;34m+\u001b[0m \u001b[0mstr\u001b[0m\u001b[0;34m(\u001b[0m\u001b[0mdoi_number\u001b[0m\u001b[0;34m)\u001b[0m\u001b[0;34m)\u001b[0m\u001b[0;34m\u001b[0m\u001b[0m\n\u001b[1;32m    133\u001b[0m         \u001b[0;32mreturn\u001b[0m \u001b[0mdoi_number\u001b[0m\u001b[0;34m\u001b[0m\u001b[0m\n",
      "\u001b[0;31mIndexError\u001b[0m: list index out of range"
     ]
    }
   ],
   "source": [
    "count = 0\n",
    "for rangeItem in rangeMapDocs:\n",
    "    if count == 2:\n",
    "        break\n",
    "    \n",
    "    doiRegistration = {}\n",
    "    doiRegistration[\"status\"] = \"reserved\"\n",
    "    doiRegistration[\"resourceURL\"] = \"https://www.sciencebase.gov/catalog/item/\"+rangeItem[\"id\"]\n",
    "    doiRegistration[\"title\"] = rangeItem[\"title\"]\n",
    "    doiRegistration[\"abstractTypeDesc\"] = rangeItem[\"body\"]\n",
    "    doiRegistration[\"pubYear\"] = \"2017\"\n",
    "    doiRegistration[\"resourceType\"] = \"Dataset\"\n",
    "    for index,contact in enumerate(rangeItem[\"contacts\"]):\n",
    "        if contact[\"type\"] == \"reviewer\":\n",
    "            lastAuthor = contact\n",
    "        else:\n",
    "            doiRegistration[\"authors[\"+str(index - 1)+\"].position\"] = str(index - 1)\n",
    "            doiRegistration[\"authors[\"+str(index - 1)+\"].orcId\"] = \"\"\n",
    "            doiRegistration[\"authors[\"+str(index - 1)+\"].authorName\"] = contact[\"name\"].split(\" \")[-1]+\", \"+contact[\"name\"].split(\" \")[0]\n",
    "            lastAuthorPosition = index - 1\n",
    "    if lastAuthor is not None:\n",
    "        doiRegistration[\"authors[\"+str(lastAuthorPosition + 1)+\"].position\"] = str(lastAuthorPosition + 1)\n",
    "        doiRegistration[\"authors[\"+str(lastAuthorPosition + 1)+\"].orcId\"] = \"\"\n",
    "        doiRegistration[\"authors[\"+str(lastAuthorPosition + 1)+\"].authorName\"] = lastAuthor[\"name\"].split(\" \")[-1]+\", \"+lastAuthor[\"name\"].split(\" \")[0]\n",
    "        \n",
    "    display (doiRegistration)\n",
    "    print (DoiSession.doi_create(doiRegistration))\n",
    "    count = count + 1\n"
   ]
  },
  {
   "cell_type": "code",
   "execution_count": null,
   "metadata": {
    "collapsed": true,
    "deletable": true,
    "editable": true
   },
   "outputs": [],
   "source": []
  }
 ],
 "metadata": {
  "kernelspec": {
   "display_name": "Python 3",
   "language": "python",
   "name": "python3"
  },
  "language_info": {
   "codemirror_mode": {
    "name": "ipython",
    "version": 3
   },
   "file_extension": ".py",
   "mimetype": "text/x-python",
   "name": "python",
   "nbconvert_exporter": "python",
   "pygments_lexer": "ipython3",
   "version": "3.5.3"
  }
 },
 "nbformat": 4,
 "nbformat_minor": 0
}
