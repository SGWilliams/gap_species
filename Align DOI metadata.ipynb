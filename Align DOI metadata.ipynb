{
 "cells": [
  {
   "cell_type": "markdown",
   "metadata": {
    "deletable": true,
    "editable": true
   },
   "source": [
    "This notebook runs through all GAP Habitat Map and Range Map items in ScienceBase, checks their onboard metadata with the citation metadata for the reserved DOI, and makes any adjustments necessary to align the two."
   ]
  },
  {
   "cell_type": "code",
   "execution_count": 29,
   "metadata": {
    "collapsed": false,
    "deletable": true,
    "editable": true
   },
   "outputs": [],
   "source": [
    "import requests\n",
    "import pysb\n",
    "import time\n",
    "import getpass\n",
    "from IPython.display import display\n",
    "from usgs_datatools import doi\n",
    "from usgs_datatools.doi import add_primary_doi_manager\n",
    "from usgs_datatools.doi import add_backup_doi_manager"
   ]
  },
  {
   "cell_type": "code",
   "execution_count": 26,
   "metadata": {
    "collapsed": false,
    "deletable": true,
    "editable": true
   },
   "outputs": [],
   "source": [
    "rootItems = {}\n",
    "rootItems[\"Habitat Maps\"] = \"527d0a83e4b0850ea0518326\"\n",
    "#rootItems[\"Range Maps\"] = \"5951527de4b062508e3b1e79\""
   ]
  },
  {
   "cell_type": "code",
   "execution_count": 16,
   "metadata": {
    "collapsed": false
   },
   "outputs": [
    {
     "name": "stdout",
     "output_type": "stream",
     "text": [
      "USGS AD Password: ········\n"
     ]
    }
   ],
   "source": [
    "username = 'sbristol@usgs.gov'\n",
    "password = getpass.getpass('USGS AD Password: ')"
   ]
  },
  {
   "cell_type": "code",
   "execution_count": 17,
   "metadata": {
    "collapsed": false,
    "deletable": true,
    "editable": true,
    "scrolled": true
   },
   "outputs": [
    {
     "data": {
      "text/plain": [
       "<pysb.SbSession.SbSession at 0x117f5b6a0>"
      ]
     },
     "execution_count": 17,
     "metadata": {},
     "output_type": "execute_result"
    }
   ],
   "source": [
    "sb = pysb.SbSession()\n",
    "sb.login(username,password)"
   ]
  },
  {
   "cell_type": "code",
   "execution_count": 18,
   "metadata": {
    "collapsed": true
   },
   "outputs": [],
   "source": [
    "DoiSession = doi.DoiSession(env='production')"
   ]
  },
  {
   "cell_type": "code",
   "execution_count": 19,
   "metadata": {
    "collapsed": false
   },
   "outputs": [
    {
     "data": {
      "text/plain": [
       "<usgs_datatools.doi.DoiSession at 0x117f5b550>"
      ]
     },
     "execution_count": 19,
     "metadata": {},
     "output_type": "execute_result"
    }
   ],
   "source": [
    "DoiSession.doi_authenticate(username, password)"
   ]
  },
  {
   "cell_type": "code",
   "execution_count": 27,
   "metadata": {
    "collapsed": false
   },
   "outputs": [],
   "source": [
    "gapSpeciesItems = []\n",
    "for parentId in list(rootItems.values()):\n",
    "    items = sb.find_items(\"parentId=\"+parentId+\"&fields=title,body,identifiers,contacts,dates&max=100\")\n",
    "    while items and 'items' in items:\n",
    "        for item in items['items']:\n",
    "            gapSpeciesItems.append(item)\n",
    "        items = sb.next(items)"
   ]
  },
  {
   "cell_type": "code",
   "execution_count": 30,
   "metadata": {
    "collapsed": false
   },
   "outputs": [
    {
     "data": {
      "text/plain": [
       "{'__ncforminfo': 'xMXhkrXc1McfEo06GNmMFvxYEi415zUd8yGR7H7zjDggEpPsns0qpdCqnvA9qC-1exAwjj5bQwuf4EGbCBp4SlkkQRh6euWknQeKbw013TJkWlFGsSeSDNjimvtOmmdKLVoZkEF6pdI0qRTH416B8A==',\n",
       " '_csrf': '2b5dddca-46fc-4139-a30d-b42c82a79006',\n",
       " 'author': None,\n",
       " 'doi': None,\n",
       " 'save': 'Search',\n",
       " 'title': None,\n",
       " 'user': None,\n",
       " 'usersAndTypes[sbristol@usgs.gov]': 'BACKUP'}"
      ]
     },
     "metadata": {},
     "output_type": "display_data"
    },
    {
     "data": {
      "text/plain": [
       "{'__ncforminfo': '6JAj7RNs1XhTTwH5H7HlbYL335PuLyzoObcBSpwHCjMo2UzR18S9xy2TyWSx6AQNJX7P7XAY64Mp6IaYJcAI3NSYh7kSqRfWQk-40xVDUsDIpEw5DBK-vdpqHI8nZrDZkJDCz3D5xV_Oy2CdZvSJbg==',\n",
       " '_csrf': '2b5dddca-46fc-4139-a30d-b42c82a79006',\n",
       " 'author': None,\n",
       " 'doi': None,\n",
       " 'save': 'Search',\n",
       " 'title': None,\n",
       " 'user': None,\n",
       " 'usersAndTypes[sbristol@usgs.gov]': 'BACKUP'}"
      ]
     },
     "metadata": {},
     "output_type": "display_data"
    }
   ],
   "source": [
    "for gapItem in gapSpeciesItems:\n",
    "    thisDOI = DoiSession.get_doi(next((i for i in gapItem[\"identifiers\"] if i[\"type\"] == \"doi\"), None)[\"key\"])\n",
    "    add_backup_doi_manager(thisDOI,\"sbristol@usgs.gov\")\n",
    "    display (DoiSession.doi_update(thisDOI))\n",
    "    count = count + 1"
   ]
  },
  {
   "cell_type": "code",
   "execution_count": null,
   "metadata": {
    "collapsed": true,
    "deletable": true,
    "editable": true
   },
   "outputs": [],
   "source": []
  }
 ],
 "metadata": {
  "kernelspec": {
   "display_name": "Python 3",
   "language": "python",
   "name": "python3"
  },
  "language_info": {
   "codemirror_mode": {
    "name": "ipython",
    "version": 3
   },
   "file_extension": ".py",
   "mimetype": "text/x-python",
   "name": "python",
   "nbconvert_exporter": "python",
   "pygments_lexer": "ipython3",
   "version": "3.5.3"
  }
 },
 "nbformat": 4,
 "nbformat_minor": 0
}
