{
 "cells": [
  {
   "cell_type": "code",
   "execution_count": 1,
   "metadata": {
    "collapsed": true,
    "deletable": true,
    "editable": true
   },
   "outputs": [],
   "source": [
    "import requests,configparser,pysb,time,datetime\n",
    "from IPython.display import display\n",
    "import pandas as pd"
   ]
  },
  {
   "cell_type": "code",
   "execution_count": 2,
   "metadata": {
    "collapsed": true,
    "deletable": true,
    "editable": true
   },
   "outputs": [],
   "source": [
    "# Get API keys and any other config details from a file that is external to the code.\n",
    "config = configparser.RawConfigParser()\n",
    "config.read_file(open(r'../config/stuff.py'))"
   ]
  },
  {
   "cell_type": "code",
   "execution_count": 3,
   "metadata": {
    "collapsed": true,
    "deletable": true,
    "editable": true
   },
   "outputs": [],
   "source": [
    "# Build base URL with API key using input from the external config.\n",
    "def getBaseURL():\n",
    "    gc2APIKey = config.get('apiKeys','apiKey_GC2_BCB').replace('\"','')\n",
    "    apiBaseURL = \"https://gc2.mapcentia.com/api/v1/sql/bcb?key=\"+gc2APIKey\n",
    "    return apiBaseURL"
   ]
  },
  {
   "cell_type": "code",
   "execution_count": 4,
   "metadata": {
    "collapsed": true,
    "deletable": true,
    "editable": true
   },
   "outputs": [],
   "source": [
    "# Basic function to insert registration info pairs into TIR\n",
    "def registerToTIR(recordInfoPairs):\n",
    "    # Build query string\n",
    "    insertSQL = \"INSERT INTO tir.tir2 (registration) VALUES ('\"+recordInfoPairs+\"')\"\n",
    "    # Execute query\n",
    "    response = requests.get(getBaseURL()+\"&q=\"+insertSQL).json()\n",
    "    return response"
   ]
  },
  {
   "cell_type": "code",
   "execution_count": 5,
   "metadata": {
    "collapsed": false,
    "deletable": true,
    "editable": true
   },
   "outputs": [
    {
     "name": "stdout",
     "output_type": "stream",
     "text": [
      "Username: sbristol@usgs.gov\n",
      "········\n"
     ]
    },
    {
     "data": {
      "text/plain": [
       "<pysb.SbSession.SbSession at 0x11078bac8>"
      ]
     },
     "execution_count": 5,
     "metadata": {},
     "output_type": "execute_result"
    }
   ],
   "source": [
    "sb = pysb.SbSession()\n",
    "username = input(\"Username: \")\n",
    "sb.loginc(str(username))"
   ]
  },
  {
   "cell_type": "code",
   "execution_count": null,
   "metadata": {
    "collapsed": false,
    "deletable": true,
    "editable": true
   },
   "outputs": [],
   "source": [
    "habitatMapCollectionID = \"527d0a83e4b0850ea0518326\"\n",
    "\n",
    "collectionIDs = sb.get_child_ids(habitatMapCollectionID)\n",
    "\n",
    "for item in collectionIDs:\n",
    "    checkTIR = requests.get(getBaseURL()+\"&q=SELECT gid FROM tir.tir2 WHERE registration->'ScienceBaseItemID' = '\"+item+\"'\").json()\n",
    "    if len(checkTIR[\"features\"]) == 0:\n",
    "        thisItem = sb.get_item(item)\n",
    "        recordInfoPairs = '\"registrationDate\"=>\"'+datetime.datetime.utcnow().isoformat()+'\"'\n",
    "        recordInfoPairs = recordInfoPairs+',\"ScienceBaseItemID\"=>\"'+item+'\"'\n",
    "        for identifier in thisItem[\"identifiers\"]:\n",
    "            recordInfoPairs = recordInfoPairs+',\"'+identifier[\"type\"]+'\"=>\"'+identifier[\"key\"].strip()+'\"'\n",
    "        for tag in thisItem[\"tags\"]:\n",
    "            if tag[\"scheme\"] == \"https://www.sciencebase.gov/vocab/bis/tir/scientificname\":\n",
    "                recordInfoPairs = recordInfoPairs+',\"GAP_ScientificName\"=>\"'+tag[\"name\"]+'\"'\n",
    "            elif tag[\"scheme\"] == \"https://www.sciencebase.gov/vocab/bis/tir/commonname\":\n",
    "                recordInfoPairs = recordInfoPairs+',\"GAP_CommonName\"=>\"'+tag[\"name\"].replace(\"'\",\"''\")+'\"'\n",
    "            else:\n",
    "                pass\n",
    "        print (recordInfoPairs)\n",
    "#        print (registerToTIR(recordInfoPairs))\n"
   ]
  },
  {
   "cell_type": "code",
   "execution_count": null,
   "metadata": {
    "collapsed": true,
    "deletable": true,
    "editable": true
   },
   "outputs": [],
   "source": []
  }
 ],
 "metadata": {
  "kernelspec": {
   "display_name": "Python 3",
   "language": "python",
   "name": "python3"
  },
  "language_info": {
   "codemirror_mode": {
    "name": "ipython",
    "version": 3
   },
   "file_extension": ".py",
   "mimetype": "text/x-python",
   "name": "python",
   "nbconvert_exporter": "python",
   "pygments_lexer": "ipython3",
   "version": "3.5.3"
  }
 },
 "nbformat": 4,
 "nbformat_minor": 0
}
