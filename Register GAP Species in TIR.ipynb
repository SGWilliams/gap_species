{
 "cells": [
  {
   "cell_type": "code",
   "execution_count": 39,
   "metadata": {
    "collapsed": true
   },
   "outputs": [],
   "source": [
    "import requests,configparser,pysb,time,datetime\n",
    "from IPython.display import display\n",
    "import pandas as pd"
   ]
  },
  {
   "cell_type": "code",
   "execution_count": 40,
   "metadata": {
    "collapsed": true
   },
   "outputs": [],
   "source": [
    "# Get API keys and any other config details from a file that is external to the code.\n",
    "config = configparser.RawConfigParser()\n",
    "config.read_file(open(r'../config/stuff.py'))"
   ]
  },
  {
   "cell_type": "code",
   "execution_count": 41,
   "metadata": {
    "collapsed": true
   },
   "outputs": [],
   "source": [
    "# Build base URL with API key using input from the external config.\n",
    "def getBaseURL():\n",
    "    gc2APIKey = config.get('apiKeys','apiKey_GC2_BCB').replace('\"','')\n",
    "    apiBaseURL = \"https://gc2.mapcentia.com/api/v1/sql/bcb?key=\"+gc2APIKey\n",
    "    return apiBaseURL"
   ]
  },
  {
   "cell_type": "code",
   "execution_count": 42,
   "metadata": {
    "collapsed": true
   },
   "outputs": [],
   "source": [
    "# Basic function to insert registration info pairs into TIR\n",
    "def registerToTIR(recordInfoPairs):\n",
    "    # Build query string\n",
    "    insertSQL = \"INSERT INTO tir.tir2 (registration) VALUES ('\"+recordInfoPairs+\"')\"\n",
    "    # Execute query\n",
    "    response = requests.get(getBaseURL()+\"&q=\"+insertSQL).json()\n",
    "    return response"
   ]
  },
  {
   "cell_type": "code",
   "execution_count": 43,
   "metadata": {
    "collapsed": false
   },
   "outputs": [
    {
     "name": "stdout",
     "output_type": "stream",
     "text": [
      "Username: sbristol@usgs.gov\n",
      "········\n"
     ]
    },
    {
     "data": {
      "text/plain": [
       "<pysb.SbSession.SbSession at 0x1175e19b0>"
      ]
     },
     "execution_count": 43,
     "metadata": {},
     "output_type": "execute_result"
    }
   ],
   "source": [
    "sb = pysb.SbSession()\n",
    "username = input(\"Username: \")\n",
    "sb.loginc(str(username))"
   ]
  },
  {
   "cell_type": "code",
   "execution_count": 44,
   "metadata": {
    "collapsed": false
   },
   "outputs": [
    {
     "ename": "KeyError",
     "evalue": "'identifiers'",
     "output_type": "error",
     "traceback": [
      "\u001b[0;31m---------------------------------------------------------------------------\u001b[0m",
      "\u001b[0;31mKeyError\u001b[0m                                  Traceback (most recent call last)",
      "\u001b[0;32m<ipython-input-44-cc38c3e47cef>\u001b[0m in \u001b[0;36m<module>\u001b[0;34m()\u001b[0m\n\u001b[1;32m      9\u001b[0m         \u001b[0mrecordInfoPairs\u001b[0m \u001b[0;34m=\u001b[0m \u001b[0;34m'\"registrationDate\"=>\"'\u001b[0m\u001b[0;34m+\u001b[0m\u001b[0mdatetime\u001b[0m\u001b[0;34m.\u001b[0m\u001b[0mdatetime\u001b[0m\u001b[0;34m.\u001b[0m\u001b[0mutcnow\u001b[0m\u001b[0;34m(\u001b[0m\u001b[0;34m)\u001b[0m\u001b[0;34m.\u001b[0m\u001b[0misoformat\u001b[0m\u001b[0;34m(\u001b[0m\u001b[0;34m)\u001b[0m\u001b[0;34m+\u001b[0m\u001b[0;34m'\"'\u001b[0m\u001b[0;34m\u001b[0m\u001b[0m\n\u001b[1;32m     10\u001b[0m         \u001b[0mrecordInfoPairs\u001b[0m \u001b[0;34m=\u001b[0m \u001b[0mrecordInfoPairs\u001b[0m\u001b[0;34m+\u001b[0m\u001b[0;34m',\"ScienceBaseItemID\"=>\"'\u001b[0m\u001b[0;34m+\u001b[0m\u001b[0mitem\u001b[0m\u001b[0;34m+\u001b[0m\u001b[0;34m'\"'\u001b[0m\u001b[0;34m\u001b[0m\u001b[0m\n\u001b[0;32m---> 11\u001b[0;31m         \u001b[0;32mfor\u001b[0m \u001b[0midentifier\u001b[0m \u001b[0;32min\u001b[0m \u001b[0mthisItem\u001b[0m\u001b[0;34m[\u001b[0m\u001b[0;34m\"identifiers\"\u001b[0m\u001b[0;34m]\u001b[0m\u001b[0;34m:\u001b[0m\u001b[0;34m\u001b[0m\u001b[0m\n\u001b[0m\u001b[1;32m     12\u001b[0m             \u001b[0mrecordInfoPairs\u001b[0m \u001b[0;34m=\u001b[0m \u001b[0mrecordInfoPairs\u001b[0m\u001b[0;34m+\u001b[0m\u001b[0;34m',\"'\u001b[0m\u001b[0;34m+\u001b[0m\u001b[0midentifier\u001b[0m\u001b[0;34m[\u001b[0m\u001b[0;34m\"type\"\u001b[0m\u001b[0;34m]\u001b[0m\u001b[0;34m+\u001b[0m\u001b[0;34m'\"=>\"'\u001b[0m\u001b[0;34m+\u001b[0m\u001b[0midentifier\u001b[0m\u001b[0;34m[\u001b[0m\u001b[0;34m\"key\"\u001b[0m\u001b[0;34m]\u001b[0m\u001b[0;34m.\u001b[0m\u001b[0mstrip\u001b[0m\u001b[0;34m(\u001b[0m\u001b[0;34m)\u001b[0m\u001b[0;34m+\u001b[0m\u001b[0;34m'\"'\u001b[0m\u001b[0;34m\u001b[0m\u001b[0m\n\u001b[1;32m     13\u001b[0m         \u001b[0;32mfor\u001b[0m \u001b[0mtag\u001b[0m \u001b[0;32min\u001b[0m \u001b[0mthisItem\u001b[0m\u001b[0;34m[\u001b[0m\u001b[0;34m\"tags\"\u001b[0m\u001b[0;34m]\u001b[0m\u001b[0;34m:\u001b[0m\u001b[0;34m\u001b[0m\u001b[0m\n",
      "\u001b[0;31mKeyError\u001b[0m: 'identifiers'"
     ]
    }
   ],
   "source": [
    "habitatMapCollectionID = \"527d0a83e4b0850ea0518326\"\n",
    "\n",
    "collectionIDs = sb.get_child_ids(habitatMapCollectionID)\n",
    "\n",
    "for item in collectionIDs:\n",
    "    checkTIR = requests.get(getBaseURL()+\"&q=SELECT gid FROM tir.tir2 WHERE registration->'ScienceBaseItemID' = '\"+item+\"'\").json()\n",
    "    if len(checkTIR[\"features\"]) == 0:\n",
    "        thisItem = sb.get_item(item)\n",
    "        recordInfoPairs = '\"registrationDate\"=>\"'+datetime.datetime.utcnow().isoformat()+'\"'\n",
    "        recordInfoPairs = recordInfoPairs+',\"ScienceBaseItemID\"=>\"'+item+'\"'\n",
    "        for identifier in thisItem[\"identifiers\"]:\n",
    "            recordInfoPairs = recordInfoPairs+',\"'+identifier[\"type\"]+'\"=>\"'+identifier[\"key\"].strip()+'\"'\n",
    "        for tag in thisItem[\"tags\"]:\n",
    "            if tag[\"scheme\"] == \"https://www.sciencebase.gov/vocab/bis/tir/scientificname\":\n",
    "                recordInfoPairs = recordInfoPairs+',\"GAP_ScientificName\"=>\"'+tag[\"name\"]+'\"'\n",
    "            elif tag[\"scheme\"] == \"https://www.sciencebase.gov/vocab/bis/tir/commonname\":\n",
    "                recordInfoPairs = recordInfoPairs+',\"GAP_CommonName\"=>\"'+tag[\"name\"].replace(\"'\",\"''\")+'\"'\n",
    "            else:\n",
    "                pass\n",
    "        print (registerToTIR(recordInfoPairs))\n"
   ]
  },
  {
   "cell_type": "code",
   "execution_count": null,
   "metadata": {
    "collapsed": true
   },
   "outputs": [],
   "source": []
  }
 ],
 "metadata": {
  "kernelspec": {
   "display_name": "Python 3",
   "language": "python",
   "name": "python3"
  },
  "language_info": {
   "codemirror_mode": {
    "name": "ipython",
    "version": 3
   },
   "file_extension": ".py",
   "mimetype": "text/x-python",
   "name": "python",
   "nbconvert_exporter": "python",
   "pygments_lexer": "ipython3",
   "version": "3.5.3"
  }
 },
 "nbformat": 4,
 "nbformat_minor": 0
}
