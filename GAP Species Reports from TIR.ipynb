{
 "cells": [
  {
   "cell_type": "code",
   "execution_count": 1,
   "metadata": {
    "collapsed": true,
    "deletable": true,
    "editable": true
   },
   "outputs": [],
   "source": [
    "import requests\n",
    "import json\n",
    "from IPython.display import display\n",
    "from bis2 import gc2\n",
    "from bis import itis"
   ]
  },
  {
   "cell_type": "markdown",
   "metadata": {
    "deletable": true,
    "editable": true
   },
   "source": [
    "### GAP Species with no TSN\n",
    "The following report shows that do not currently have an ITIS TSN assigned. At the time these species were identified for modeling, ITIS may have contained no information, but there now may be information in ITIS that could be used. The link below the listing can be used to retrieve information from the ITIS web service.\n",
    "\n",
    "This list can be reviewed to determine whether or not it is appropriate to go ahead and include a TSN in the metadata for these GAP species, setting up the information for further examination in the TIR."
   ]
  },
  {
   "cell_type": "code",
   "execution_count": 9,
   "metadata": {
    "collapsed": false,
    "deletable": true,
    "editable": true,
    "scrolled": true
   },
   "outputs": [
    {
     "name": "stdout",
     "output_type": "stream",
     "text": [
      "Number of GAP species with no ITIS designation:  25\n",
      "------------\n",
      "Cervus elaphus nannodes roosevelti  -  Roosevelt Elk ( mELK1r )\n",
      "http://services.itis.gov/?wt=json&rows=10&q=nameWOInd:Cervus\\%20elaphus\\%20nannodes\\%20roosevelti\n",
      "------------\n",
      "Sylvilagus palustris heferni  -  Lower Keys Rabbit ( mMARAh )\n",
      "http://services.itis.gov/?wt=json&rows=10&q=nameWOInd:Sylvilagus\\%20palustris\\%20heferni\n",
      "------------\n",
      "Corynorhinus townsendii ingens  -  Ozark Big-eared Bat ( mTBEBi )\n",
      "http://services.itis.gov/?wt=json&rows=10&q=nameWOInd:Corynorhinus\\%20townsendii\\%20ingens\n",
      "------------\n",
      "Urocitellus elegans elegans  -  Wyoming Ground Squirrel elegans ( mWYSQe )\n",
      "http://services.itis.gov/?wt=json&rows=10&q=nameWOInd:Urocitellus\\%20elegans\\%20elegans\n",
      "------------\n",
      "Corynorhinus townsendii australis  -  Townsend's Big-eared Bat australis ( mTBEBa )\n",
      "http://services.itis.gov/?wt=json&rows=10&q=nameWOInd:Corynorhinus\\%20townsendii\\%20australis\n",
      "------------\n",
      "Sceloporus uniformis  -  Yellow-backed Spiny Lizard ( rYBSLx )\n",
      "http://services.itis.gov/?wt=json&rows=10&q=nameWOInd:Sceloporus\\%20uniformis\n",
      "------------\n",
      "Lepus townsendii  -  White-tailed Jackrabbit ( mWTJAx )\n",
      "http://services.itis.gov/?wt=json&rows=10&q=nameWOInd:Lepus\\%20townsendii\n",
      "------------\n",
      "Aplodontia rufa humboldtiana  -  Mountain Beaver humboldtiana ( mSEWEh )\n",
      "http://services.itis.gov/?wt=json&rows=10&q=nameWOInd:Aplodontia\\%20rufa\\%20humboldtiana\n",
      "------------\n",
      "Tamias minimus chuskaensis  -  Chuska Mountain Chipmunk ( mLECHc )\n",
      "http://services.itis.gov/?wt=json&rows=10&q=nameWOInd:Tamias\\%20minimus\\%20chuskaensis\n",
      "------------\n",
      "Amphispiza belli canescens  -  Sage Sparrow canescens ( bSAGSa )\n",
      "http://services.itis.gov/?wt=json&rows=10&q=nameWOInd:Amphispiza\\%20belli\\%20canescens\n",
      "------------\n",
      "Aspidoscelis dixoni  -  Gray Checkered Whiptail ( rGCWHx )\n",
      "http://services.itis.gov/?wt=json&rows=10&q=nameWOInd:Aspidoscelis\\%20dixoni\n",
      "------------\n",
      "Xantusia vigilis  -  Desert Night Lizard ( rDNLIx )\n",
      "http://services.itis.gov/?wt=json&rows=10&q=nameWOInd:Xantusia\\%20vigilis\n",
      "------------\n",
      "Urocitellus elegans aureus  -  Wyoming Ground Squirrel aureus ( mWYSQa )\n",
      "http://services.itis.gov/?wt=json&rows=10&q=nameWOInd:Urocitellus\\%20elegans\\%20aureus\n",
      "------------\n",
      "Heterodon kennerlyi  -  Mexican Hog-nosed Snake ( rMHNSx )\n",
      "http://services.itis.gov/?wt=json&rows=10&q=nameWOInd:Heterodon\\%20kennerlyi\n",
      "------------\n",
      "Aplodontia rufa pacifica  -  Mountain Beaver pacifica ( mSEWEa )\n",
      "http://services.itis.gov/?wt=json&rows=10&q=nameWOInd:Aplodontia\\%20rufa\\%20pacifica\n",
      "------------\n",
      "Amphispiza belli nevadensis  -  Great Basin Sage Sparrow ( bSAGSn )\n",
      "http://services.itis.gov/?wt=json&rows=10&q=nameWOInd:Amphispiza\\%20belli\\%20nevadensis\n",
      "------------\n",
      "Heterodon gloydi  -  Dusty Hog-nosed Snake ( rDHNSx )\n",
      "http://services.itis.gov/?wt=json&rows=10&q=nameWOInd:Heterodon\\%20gloydi\n",
      "------------\n",
      "Taricha sierrea  -  Sierra Newt ( aSENEx )\n",
      "http://services.itis.gov/?wt=json&rows=10&q=nameWOInd:Taricha\\%20sierrea\n",
      "------------\n",
      "Tympanuchus phasianellus campestris  -  Prarie Sharp-tailed Grouse ( bSTGRa )\n",
      "http://services.itis.gov/?wt=json&rows=10&q=nameWOInd:Tympanuchus\\%20phasianellus\\%20campestris\n",
      "------------\n",
      "Aplodontia rufa olympica  -  Mountain Beaver olympica ( mSEWEo )\n",
      "http://services.itis.gov/?wt=json&rows=10&q=nameWOInd:Aplodontia\\%20rufa\\%20olympica\n",
      "------------\n",
      "Aplodontia rufa rufa  -  Mountain Beaver rufa ( mSEWEr )\n",
      "http://services.itis.gov/?wt=json&rows=10&q=nameWOInd:Aplodontia\\%20rufa\\%20rufa\n",
      "------------\n",
      "Tamias minimus atristriatus  -  Penasco Chipmunk ( mLECHt )\n",
      "http://services.itis.gov/?wt=json&rows=10&q=nameWOInd:Tamias\\%20minimus\\%20atristriatus\n",
      "------------\n",
      "Oryzomys palustris natator  -  Key Oryzomys ( mMAORn )\n",
      "http://services.itis.gov/?wt=json&rows=10&q=nameWOInd:Oryzomys\\%20palustris\\%20natator\n",
      "------------\n",
      "Tamias minimus arizonensis  -  White Mountains Chipmunk ( mLECHa )\n",
      "http://services.itis.gov/?wt=json&rows=10&q=nameWOInd:Tamias\\%20minimus\\%20arizonensis\n",
      "------------\n",
      "Eleutherodactylus guttilatus  -  Spotted Chirping Frog ( aSPCFx )\n",
      "http://services.itis.gov/?wt=json&rows=10&q=nameWOInd:Eleutherodactylus\\%20guttilatus\n",
      "------------\n"
     ]
    }
   ],
   "source": [
    "r_withoutTSN = requests.get(gc2.sqlAPI(\"DataDistillery\",\"BCB\")+\"&q=SELECT registration,worms FROM tir.tir WHERE registration->>'source' = 'GAP Species' AND itis->>'MatchMethod' = 'Not Matched'\").json()\n",
    "\n",
    "print (\"Number of GAP species with no ITIS designation: \",len(r_withoutTSN[\"features\"]))\n",
    "print (\"------------\")\n",
    "\n",
    "for feature in r_withoutTSN[\"features\"]:\n",
    "    _registration = json.loads(feature[\"properties\"][\"registration\"])\n",
    "    _gapSpeciesCode = _registration[\"identifiers\"][next(index for (index, d) in enumerate(_registration[\"identifiers\"]) if d[\"type\"] == \"GAP_SpeciesCode\")][\"key\"]\n",
    "    _scientificname = _registration[\"scientificname\"]\n",
    "    print (_scientificname, \" - \", _registration[\"commonname\"], \"(\", _gapSpeciesCode, \")\")\n",
    "    print (itis.getITISSearchURL(_scientificname,False))\n",
    "\n",
    "    if feature[\"properties\"][\"worms\"] is not None:\n",
    "        _worms = json.loads(feature[\"properties\"][\"worms\"])\n",
    "        if _worms[\"MatchMethod\"] != \"Not Matched\":\n",
    "            display (_worms)\n",
    "\n",
    "    print (\"------------\")\n",
    "    \n"
   ]
  },
  {
   "cell_type": "markdown",
   "metadata": {
    "deletable": true,
    "editable": true
   },
   "source": [
    "### Invalid TSNs\n",
    "The following report shows GAP species where the assigned TSN is currently showing as invalid from ITIS. The information displayed includes a link to the invalid TSN from the ITIS web service, the reason the name is invalid, and a link to the ITIS service for the accepted TSN.\n",
    "\n",
    "This may reflect a change in the taxonomy since the GAP species was identified and set up for modeling. These records can be reviewed to determine if some action is appropriate in the GAP species metadata."
   ]
  },
  {
   "cell_type": "code",
   "execution_count": 5,
   "metadata": {
    "collapsed": false,
    "deletable": true,
    "editable": true
   },
   "outputs": [
    {
     "name": "stdout",
     "output_type": "stream",
     "text": [
      "Number of GAP species with invalid ITIS TSN:  128\n",
      "------------\n",
      "Myodes californicus  -  Western Red-backed Vole ( mWRBVx )\n",
      "Assigned (invalid) TSN:  http://services.itis.gov/?wt=json&rows=10&q=tsn:180295\n",
      "Unaccept Reason:  subsequent name/combination\n",
      "Accepted TSN:  http://services.itis.gov/?wt=json&rows=10&q=tsn:970610\n",
      "------------\n",
      "Wilsonia citrina  -  Hooded Warbler ( bHOWAx )\n",
      "Assigned (invalid) TSN:  http://services.itis.gov/?wt=json&rows=10&q=tsn:178972\n",
      "Unaccept Reason:  subsequent name/combination\n",
      "Accepted TSN:  http://services.itis.gov/?wt=json&rows=10&q=tsn:950029\n",
      "------------\n",
      "Dendroica palmarum  -  Palm Warbler ( bPAWAx )\n",
      "Assigned (invalid) TSN:  http://services.itis.gov/?wt=json&rows=10&q=tsn:178921\n",
      "Unaccept Reason:  subsequent name/combination\n",
      "Accepted TSN:  http://services.itis.gov/?wt=json&rows=10&q=tsn:950043\n",
      "------------\n",
      "Spermophilus armatus  -  Uinta Ground Squirrel ( mUGSQx )\n",
      "Assigned (invalid) TSN:  http://services.itis.gov/?wt=json&rows=10&q=tsn:180147\n",
      "Unaccept Reason:  original name/combination\n",
      "Accepted TSN:  http://services.itis.gov/?wt=json&rows=10&q=tsn:930314\n",
      "------------\n",
      "Spermophilus variegatus  -  Rock Squirrel ( mROSQx )\n",
      "Assigned (invalid) TSN:  http://services.itis.gov/?wt=json&rows=10&q=tsn:180163\n",
      "Unaccept Reason:  subsequent name/combination\n",
      "Accepted TSN:  http://services.itis.gov/?wt=json&rows=10&q=tsn:930302\n",
      "------------\n",
      "Spermophilus spilosoma  -  Spotted Ground Squirrel ( mSGSQx )\n",
      "Assigned (invalid) TSN:  http://services.itis.gov/?wt=json&rows=10&q=tsn:180159\n",
      "Unaccept Reason:  original name/combination\n",
      "Accepted TSN:  http://services.itis.gov/?wt=json&rows=10&q=tsn:930312\n",
      "------------\n",
      "Dendroica chrysoparia  -  Golden-cheeked Warbler ( bGCWAx )\n",
      "Assigned (invalid) TSN:  http://services.itis.gov/?wt=json&rows=10&q=tsn:178901\n",
      "Unaccept Reason:  other, see comments\n",
      "Accepted TSN:  http://services.itis.gov/?wt=json&rows=10&q=tsn:950060\n",
      "------------\n",
      "Geomys streckeri  -  Strecker's Pocket Gopher ( mSPOGx )\n",
      "Assigned (invalid) TSN:  http://services.itis.gov/?wt=json&rows=10&q=tsn:900166\n",
      "Unaccept Reason:  subsequent name/combination\n",
      "Accepted TSN:  http://services.itis.gov/?wt=json&rows=10&q=tsn:900261\n",
      "------------\n",
      "Aimophila carpalis  -  Rufous-winged Sparrow ( bRWSPx )\n",
      "Assigned (invalid) TSN:  http://services.itis.gov/?wt=json&rows=10&q=tsn:179375\n",
      "Unaccept Reason:  subsequent name/combination\n",
      "Accepted TSN:  http://services.itis.gov/?wt=json&rows=10&q=tsn:997731\n",
      "------------\n",
      "Ollotis alvaria  -  Sonoran Desert Toad ( aSNTOx )\n",
      "Assigned (invalid) TSN:  http://services.itis.gov/?wt=json&rows=10&q=tsn:775976\n",
      "Unaccept Reason:  subsequent name/combination\n",
      "Accepted TSN:  http://services.itis.gov/?wt=json&rows=10&q=tsn:773562\n",
      "------------\n",
      "Spermophilus elegans  -  Wyoming Ground Squirrel ( mWYSQx )\n",
      "Assigned (invalid) TSN:  http://services.itis.gov/?wt=json&rows=10&q=tsn:180152\n",
      "Unaccept Reason:  original name/combination\n",
      "Accepted TSN:  http://services.itis.gov/?wt=json&rows=10&q=tsn:930319\n",
      "------------\n",
      "Plestiodon anthracinus  -  Coal Skink ( rCOSKx )\n",
      "Assigned (invalid) TSN:  http://services.itis.gov/?wt=json&rows=10&q=tsn:208882\n",
      "Unaccept Reason:  original name/combination\n",
      "Accepted TSN:  http://services.itis.gov/?wt=json&rows=10&q=tsn:173962\n",
      "------------\n",
      "Spermophilus tereticaudus  -  Round-tailed Ground Squirrel ( mRTGSx )\n",
      "Assigned (invalid) TSN:  http://services.itis.gov/?wt=json&rows=10&q=tsn:180160\n",
      "Unaccept Reason:  original name/combination\n",
      "Accepted TSN:  http://services.itis.gov/?wt=json&rows=10&q=tsn:930313\n",
      "------------\n",
      "Vermivora virginiae  -  Virginia's Warbler ( bVIWAx )\n",
      "Assigned (invalid) TSN:  http://services.itis.gov/?wt=json&rows=10&q=tsn:178864\n",
      "Unaccept Reason:  subsequent name/combination\n",
      "Accepted TSN:  http://services.itis.gov/?wt=json&rows=10&q=tsn:950019\n",
      "------------\n",
      "Calcarius mccownii  -  Mccown's Longspur ( bMCLOx )\n",
      "Assigned (invalid) TSN:  http://services.itis.gov/?wt=json&rows=10&q=tsn:179525\n",
      "Unaccept Reason:  subsequent name/combination\n",
      "Accepted TSN:  http://services.itis.gov/?wt=json&rows=10&q=tsn:997873\n",
      "------------\n",
      "Spermophilus tridecemlineatus  -  Thirteen-lined Ground Squirrel ( mTLGSx )\n",
      "Assigned (invalid) TSN:  http://services.itis.gov/?wt=json&rows=10&q=tsn:180162\n",
      "Unaccept Reason:  subsequent name/combination\n",
      "Accepted TSN:  http://services.itis.gov/?wt=json&rows=10&q=tsn:930308\n",
      "------------\n",
      "Tringa semipalmata  -  Willet ( bWILLx )\n",
      "Assigned (invalid) TSN:  http://services.itis.gov/?wt=json&rows=10&q=tsn:176638\n",
      "Unaccept Reason:  subsequent name/combination\n",
      "Accepted TSN:  http://services.itis.gov/?wt=json&rows=10&q=tsn:824147\n",
      "------------\n",
      "Rusa unicolor  -  Sambar ( mSAMBx )\n",
      "Assigned (invalid) TSN:  http://services.itis.gov/?wt=json&rows=10&q=tsn:625051\n",
      "Unaccept Reason:  original name/combination\n",
      "Accepted TSN:  http://services.itis.gov/?wt=json&rows=10&q=tsn:898215\n",
      "------------\n",
      "Carpodacus cassinii  -  Cassin's Finch ( bCAFIx )\n",
      "Assigned (invalid) TSN:  http://services.itis.gov/?wt=json&rows=10&q=tsn:179190\n",
      "Unaccept Reason:  original name/combination\n",
      "Accepted TSN:  http://services.itis.gov/?wt=json&rows=10&q=tsn:997804\n",
      "------------\n",
      "Aimophila aestivalis  -  Bachman's Sparrow ( bBACSx )\n",
      "Assigned (invalid) TSN:  http://services.itis.gov/?wt=json&rows=10&q=tsn:179386\n",
      "Unaccept Reason:  subsequent name/combination\n",
      "Accepted TSN:  http://services.itis.gov/?wt=json&rows=10&q=tsn:997733\n",
      "------------\n",
      "Seiurus noveboracensis  -  Northern Waterthrush ( bNOWAx )\n",
      "Assigned (invalid) TSN:  http://services.itis.gov/?wt=json&rows=10&q=tsn:178931\n",
      "Unaccept Reason:  subsequent name/combination\n",
      "Accepted TSN:  http://services.itis.gov/?wt=json&rows=10&q=tsn:950010\n",
      "------------\n",
      "Dendroica cerulea  -  Cerulean Warbler ( bCERWx )\n",
      "Assigned (invalid) TSN:  http://services.itis.gov/?wt=json&rows=10&q=tsn:178903\n",
      "Unaccept Reason:  subsequent name/combination\n",
      "Accepted TSN:  http://services.itis.gov/?wt=json&rows=10&q=tsn:950032\n",
      "------------\n",
      "Dendroica dominica  -  Yellow-throated Warbler ( bYTWAx )\n",
      "Assigned (invalid) TSN:  http://services.itis.gov/?wt=json&rows=10&q=tsn:178905\n",
      "Unaccept Reason:  subsequent name/combination\n",
      "Accepted TSN:  http://services.itis.gov/?wt=json&rows=10&q=tsn:950049\n",
      "------------\n",
      "Chrysemys dorsalis  -  Southern Painted Turtle ( rSOPTx )\n",
      "Assigned (invalid) TSN:  http://services.itis.gov/?wt=json&rows=10&q=tsn:208623\n",
      "Unaccept Reason:  original name/combination\n",
      "Accepted TSN:  http://services.itis.gov/?wt=json&rows=10&q=tsn:208622\n",
      "------------\n",
      "Plestiodon egregius  -  Mole Skink ( rMOSKx )\n",
      "Assigned (invalid) TSN:  http://services.itis.gov/?wt=json&rows=10&q=tsn:208885\n",
      "Unaccept Reason:  original name/combination\n",
      "Accepted TSN:  http://services.itis.gov/?wt=json&rows=10&q=tsn:173965\n",
      "------------\n",
      "Hypsiglena ochrorhyncha  -  Coast Nightsnake ( rCNIGx )\n",
      "Assigned (invalid) TSN:  http://services.itis.gov/?wt=json&rows=10&q=tsn:209311\n",
      "Unaccept Reason:  other, see comments\n",
      "Accepted TSN:  http://services.itis.gov/?wt=json&rows=10&q=tsn:683068\n",
      "------------\n",
      "Cratogeomys castanops  -  Yellow-faced Pocket Gopher ( mYFPGx )\n",
      "Assigned (invalid) TSN:  http://services.itis.gov/?wt=json&rows=10&q=tsn:180220\n",
      "Unaccept Reason:  subsequent name/combination\n",
      "Accepted TSN:  http://services.itis.gov/?wt=json&rows=10&q=tsn:900158\n",
      "------------\n",
      "Pipistrellus hesperus  -  Western Pipistrelle ( mWEPIx )\n",
      "Assigned (invalid) TSN:  http://services.itis.gov/?wt=json&rows=10&q=tsn:180024\n",
      "Unaccept Reason:  subsequent name/combination\n",
      "Accepted TSN:  http://services.itis.gov/?wt=json&rows=10&q=tsn:947298\n",
      "------------\n",
      "Spermophilus canus  -  Merriam's Ground Squirrel ( mMGSQx )\n",
      "Assigned (invalid) TSN:  http://services.itis.gov/?wt=json&rows=10&q=tsn:552499\n",
      "Unaccept Reason:  subsequent name/combination\n",
      "Accepted TSN:  http://services.itis.gov/?wt=json&rows=10&q=tsn:930317\n",
      "------------\n",
      "Vermivora luciae  -  Lucy's Warbler ( bLUWAx )\n",
      "Assigned (invalid) TSN:  http://services.itis.gov/?wt=json&rows=10&q=tsn:178866\n",
      "Unaccept Reason:  subsequent name/combination\n",
      "Accepted TSN:  http://services.itis.gov/?wt=json&rows=10&q=tsn:950017\n",
      "------------\n",
      "Spermophilus saturatus  -  Cascade Golden-mantled Ground Squirrel ( mCGGSx )\n",
      "Assigned (invalid) TSN:  http://services.itis.gov/?wt=json&rows=10&q=tsn:180158\n",
      "Unaccept Reason:  subsequent name/combination\n",
      "Accepted TSN:  http://services.itis.gov/?wt=json&rows=10&q=tsn:930304\n",
      "------------\n",
      "Spermophilus richardsonii  -  Richardson's Ground Squirrel ( mRGSQx )\n",
      "Assigned (invalid) TSN:  http://services.itis.gov/?wt=json&rows=10&q=tsn:180157\n",
      "Unaccept Reason:  subsequent name/combination\n",
      "Accepted TSN:  http://services.itis.gov/?wt=json&rows=10&q=tsn:930322\n",
      "------------\n",
      "Dendroica townsendi  -  Townsend's Warbler ( bTOWAx )\n",
      "Assigned (invalid) TSN:  http://services.itis.gov/?wt=json&rows=10&q=tsn:178897\n",
      "Unaccept Reason:  subsequent name/combination\n",
      "Accepted TSN:  http://services.itis.gov/?wt=json&rows=10&q=tsn:950058\n",
      "------------\n",
      "Parula americana  -  Northern Parula ( bNOPAx )\n",
      "Assigned (invalid) TSN:  http://services.itis.gov/?wt=json&rows=10&q=tsn:178868\n",
      "Unaccept Reason:  subsequent name/combination\n",
      "Accepted TSN:  http://services.itis.gov/?wt=json&rows=10&q=tsn:950033\n",
      "------------\n",
      "Xantusia arizonae  -  Arizona Night Lizard ( rANLIx )\n",
      "Assigned (invalid) TSN:  http://services.itis.gov/?wt=json&rows=10&q=tsn:914104\n",
      "Unaccept Reason:  original name/combination\n",
      "Accepted TSN:  http://services.itis.gov/?wt=json&rows=10&q=tsn:208991\n",
      "------------\n",
      "Vermivora pinus  -  Blue-winged Warbler ( bBWWAx )\n",
      "Assigned (invalid) TSN:  http://services.itis.gov/?wt=json&rows=10&q=tsn:178853\n",
      "Unaccept Reason:  other, see comments\n",
      "Accepted TSN:  http://services.itis.gov/?wt=json&rows=10&q=tsn:950045\n",
      "------------\n",
      "Haideotriton wallacei  -  Georgia Blind Salamander ( aGBSAx )\n",
      "Assigned (invalid) TSN:  http://services.itis.gov/?wt=json&rows=10&q=tsn:173717\n",
      "Unaccept Reason:  original name/combination\n",
      "Accepted TSN:  http://services.itis.gov/?wt=json&rows=10&q=tsn:775913\n",
      "------------\n",
      "Microtus mogollonensis  -  Mogollon Vole ( mMGVOx )\n",
      "Assigned (invalid) TSN:  http://services.itis.gov/?wt=json&rows=10&q=tsn:552480\n",
      "Unaccept Reason:  junior synonym\n",
      "Accepted TSN:  http://services.itis.gov/?wt=json&rows=10&q=tsn:180308\n",
      "------------\n",
      "Carduelis hornemanni  -  Hoary Redpoll ( bHOREx )\n",
      "Assigned (invalid) TSN:  http://services.itis.gov/?wt=json&rows=10&q=tsn:179231\n",
      "Unaccept Reason:  subsequent name/combination\n",
      "Accepted TSN:  http://services.itis.gov/?wt=json&rows=10&q=tsn:179238\n",
      "------------\n",
      "Sternula antillarum athalassos  -  Interior Least Tern ( bLETEa )\n",
      "Assigned (invalid) TSN:  http://services.itis.gov/?wt=json&rows=10&q=tsn:176923\n",
      "Unaccept Reason:  subsequent name/combination\n",
      "Accepted TSN:  http://services.itis.gov/?wt=json&rows=10&q=tsn:824127\n",
      "------------\n",
      "Amphispiza belli  -  Sage Sparrow ( bSAGSx )\n",
      "Assigned (invalid) TSN:  http://services.itis.gov/?wt=json&rows=10&q=tsn:179402\n",
      "Unaccept Reason:  subsequent name/combination\n",
      "Accepted TSN:  http://services.itis.gov/?wt=json&rows=10&q=tsn:997724\n",
      "------------\n",
      "Urocitellus elegans nevadensis  -  Wyoming Ground Squirrel nevadensis ( mWYSQn )\n",
      "Assigned (invalid) TSN:  http://services.itis.gov/?wt=json&rows=10&q=tsn:180152\n",
      "Unaccept Reason:  original name/combination\n",
      "Accepted TSN:  http://services.itis.gov/?wt=json&rows=10&q=tsn:930319\n",
      "------------\n",
      "Vermivora ruficapilla  -  Nashville Warbler ( bNAWAx )\n",
      "Assigned (invalid) TSN:  http://services.itis.gov/?wt=json&rows=10&q=tsn:178861\n",
      "Unaccept Reason:  subsequent name/combination\n",
      "Accepted TSN:  http://services.itis.gov/?wt=json&rows=10&q=tsn:950018\n",
      "------------\n",
      "Dendroica striata  -  Blackpoll Warbler ( bBLPWx )\n",
      "Assigned (invalid) TSN:  http://services.itis.gov/?wt=json&rows=10&q=tsn:178913\n",
      "Unaccept Reason:  subsequent name/combination\n",
      "Accepted TSN:  http://services.itis.gov/?wt=json&rows=10&q=tsn:950041\n",
      "------------\n",
      "Spermophilus franklinii  -  Franklin's Ground Squirrel ( mFGSQx )\n",
      "Assigned (invalid) TSN:  http://services.itis.gov/?wt=json&rows=10&q=tsn:180153\n",
      "Unaccept Reason:  subsequent name/combination\n",
      "Accepted TSN:  http://services.itis.gov/?wt=json&rows=10&q=tsn:930309\n",
      "------------\n",
      "Microtus townsendii pugeti  -  Shaw Island Vole ( mTOVOp )\n",
      "Assigned (invalid) TSN:  http://services.itis.gov/?wt=json&rows=10&q=tsn:972933\n",
      "Unaccept Reason:  junior synonym\n",
      "Accepted TSN:  http://services.itis.gov/?wt=json&rows=10&q=tsn:180316\n",
      "------------\n",
      "Larus philadelphia  -  Bonaparte's Gull ( bBOGUx )\n",
      "Assigned (invalid) TSN:  http://services.itis.gov/?wt=json&rows=10&q=tsn:176839\n",
      "Unaccept Reason:  subsequent name/combination\n",
      "Accepted TSN:  http://services.itis.gov/?wt=json&rows=10&q=tsn:824040\n",
      "------------\n",
      "Sternula antillarum  -  Least Tern ( bLETEx )\n",
      "Assigned (invalid) TSN:  http://services.itis.gov/?wt=json&rows=10&q=tsn:176923\n",
      "Unaccept Reason:  subsequent name/combination\n",
      "Accepted TSN:  http://services.itis.gov/?wt=json&rows=10&q=tsn:824127\n",
      "------------\n",
      "Aimophila cassinii  -  Cassin's Sparrow ( bCASPx )\n",
      "Assigned (invalid) TSN:  http://services.itis.gov/?wt=json&rows=10&q=tsn:179393\n",
      "Unaccept Reason:  subsequent name/combination\n",
      "Accepted TSN:  http://services.itis.gov/?wt=json&rows=10&q=tsn:997732\n",
      "------------\n",
      "Sternula antillarum browni  -  California Least Tern ( bLETEb )\n",
      "Assigned (invalid) TSN:  http://services.itis.gov/?wt=json&rows=10&q=tsn:176923\n",
      "Unaccept Reason:  subsequent name/combination\n",
      "Accepted TSN:  http://services.itis.gov/?wt=json&rows=10&q=tsn:824127\n",
      "------------\n",
      "Dendroica kirtlandii  -  Kirtland's Warbler ( bKIWAx )\n",
      "Assigned (invalid) TSN:  http://services.itis.gov/?wt=json&rows=10&q=tsn:178917\n",
      "Unaccept Reason:  subsequent name/combination\n",
      "Accepted TSN:  http://services.itis.gov/?wt=json&rows=10&q=tsn:950030\n",
      "------------\n",
      "Vermivora celata  -  Orange-crowned Warbler ( bOCWAx )\n",
      "Assigned (invalid) TSN:  http://services.itis.gov/?wt=json&rows=10&q=tsn:178856\n",
      "Unaccept Reason:  subsequent name/combination\n",
      "Accepted TSN:  http://services.itis.gov/?wt=json&rows=10&q=tsn:950015\n",
      "------------\n",
      "Spermophilus lateralis bernardinus  -  San Bernardino Golden-mantled Ground Squirrel ( mGMGSb )\n",
      "Assigned (invalid) TSN:  http://services.itis.gov/?wt=json&rows=10&q=tsn:180154\n",
      "Unaccept Reason:  subsequent name/combination\n",
      "Accepted TSN:  http://services.itis.gov/?wt=json&rows=10&q=tsn:930305\n",
      "------------\n",
      "Vermivora peregrina  -  Tennessee Warbler ( bTEWAx )\n",
      "Assigned (invalid) TSN:  http://services.itis.gov/?wt=json&rows=10&q=tsn:178855\n",
      "Unaccept Reason:  subsequent name/combination\n",
      "Accepted TSN:  http://services.itis.gov/?wt=json&rows=10&q=tsn:950014\n",
      "------------\n",
      "Spermophilus beldingi  -  Belding's Ground Squirrel ( mBGSQx )\n",
      "Assigned (invalid) TSN:  http://services.itis.gov/?wt=json&rows=10&q=tsn:180149\n",
      "Unaccept Reason:  original name/combination\n",
      "Accepted TSN:  http://services.itis.gov/?wt=json&rows=10&q=tsn:930315\n",
      "------------\n",
      "Dendroica occidentalis  -  Hermit Warbler ( bHEWAx )\n",
      "Assigned (invalid) TSN:  http://services.itis.gov/?wt=json&rows=10&q=tsn:178902\n",
      "Unaccept Reason:  subsequent name/combination\n",
      "Accepted TSN:  http://services.itis.gov/?wt=json&rows=10&q=tsn:950059\n",
      "------------\n",
      "Plestiodon septentrionalis  -  Prairie Skink ( rPRSKx )\n",
      "Assigned (invalid) TSN:  http://services.itis.gov/?wt=json&rows=10&q=tsn:208900\n",
      "Unaccept Reason:  original name/combination\n",
      "Accepted TSN:  http://services.itis.gov/?wt=json&rows=10&q=tsn:173969\n",
      "------------\n",
      "Leucophaeus pipixcan  -  Franklin's Gull ( bFRGUx )\n",
      "Assigned (invalid) TSN:  http://services.itis.gov/?wt=json&rows=10&q=tsn:176838\n",
      "Unaccept Reason:  original name/combination\n",
      "Accepted TSN:  http://services.itis.gov/?wt=json&rows=10&q=tsn:824082\n",
      "------------\n",
      "Coccothraustes vespertinus  -  Evening Grosbeak ( bEVGRx )\n",
      "Assigned (invalid) TSN:  http://services.itis.gov/?wt=json&rows=10&q=tsn:179173\n",
      "Unaccept Reason:  subsequent name/combination\n",
      "Accepted TSN:  http://services.itis.gov/?wt=json&rows=10&q=tsn:179175\n",
      "------------\n",
      "Phrynosoma blainvillii  -  Blainville's Horned Lizard ( rBHLIx )\n",
      "Assigned (invalid) TSN:  http://services.itis.gov/?wt=json&rows=10&q=tsn:208819\n",
      "Unaccept Reason:  junior synonym\n",
      "Accepted TSN:  http://services.itis.gov/?wt=json&rows=10&q=tsn:173939\n",
      "------------\n",
      "Aspidoscelis neotesselata  -  Colorado Checkered Whiptail ( rCCHWx )\n",
      "Assigned (invalid) TSN:  http://services.itis.gov/?wt=json&rows=10&q=tsn:683028\n",
      "Unaccept Reason:  junior synonym\n",
      "Accepted TSN:  http://services.itis.gov/?wt=json&rows=10&q=tsn:174026\n",
      "------------\n",
      "Coluber flagellum  -  Coachwhip ( rCOACx )\n",
      "Assigned (invalid) TSN:  http://services.itis.gov/?wt=json&rows=10&q=tsn:209320\n",
      "Unaccept Reason:  original name/combination\n",
      "Accepted TSN:  http://services.itis.gov/?wt=json&rows=10&q=tsn:174238\n",
      "------------\n",
      "Dendroica coronata  -  Yellow-rumped Warbler ( bYRWAx )\n",
      "Assigned (invalid) TSN:  http://services.itis.gov/?wt=json&rows=10&q=tsn:178891\n",
      "Unaccept Reason:  subsequent name/combination\n",
      "Accepted TSN:  http://services.itis.gov/?wt=json&rows=10&q=tsn:950046\n",
      "------------\n",
      "Wilsonia pusilla  -  Wilson's Warbler ( bWIWAx )\n",
      "Assigned (invalid) TSN:  http://services.itis.gov/?wt=json&rows=10&q=tsn:178973\n",
      "Unaccept Reason:  subsequent name/combination\n",
      "Accepted TSN:  http://services.itis.gov/?wt=json&rows=10&q=tsn:950080\n",
      "------------\n",
      "Leucophaeus atricilla  -  Laughing Gull ( bLAGUx )\n",
      "Assigned (invalid) TSN:  http://services.itis.gov/?wt=json&rows=10&q=tsn:176837\n",
      "Unaccept Reason:  original name/combination\n",
      "Accepted TSN:  http://services.itis.gov/?wt=json&rows=10&q=tsn:824079\n",
      "------------\n",
      "Dendroica nigrescens  -  Black-throated Gray Warbler ( bBTYWx )\n",
      "Assigned (invalid) TSN:  http://services.itis.gov/?wt=json&rows=10&q=tsn:178896\n",
      "Unaccept Reason:  subsequent name/combination\n",
      "Accepted TSN:  http://services.itis.gov/?wt=json&rows=10&q=tsn:950057\n",
      "------------\n",
      "Thalasseus maximus  -  Royal Tern ( bROYTx )\n",
      "Assigned (invalid) TSN:  http://services.itis.gov/?wt=json&rows=10&q=tsn:176922\n",
      "Unaccept Reason:  original name/combination\n",
      "Accepted TSN:  http://services.itis.gov/?wt=json&rows=10&q=tsn:824142\n",
      "------------\n",
      "Parula pitiayumi  -  Tropical Parula ( bTRPAx )\n",
      "Assigned (invalid) TSN:  http://services.itis.gov/?wt=json&rows=10&q=tsn:178869\n",
      "Unaccept Reason:  subsequent name/combination\n",
      "Accepted TSN:  http://services.itis.gov/?wt=json&rows=10&q=tsn:950034\n",
      "------------\n",
      "Spermophilus brunneus  -  Idaho Ground Squirrel ( mIGSQx )\n",
      "Assigned (invalid) TSN:  http://services.itis.gov/?wt=json&rows=10&q=tsn:180150\n",
      "Unaccept Reason:  subsequent name/combination\n",
      "Accepted TSN:  http://services.itis.gov/?wt=json&rows=10&q=tsn:930316\n",
      "------------\n",
      "Dendroica pensylvanica  -  Chestnut-sided Warbler ( bCSWAx )\n",
      "Assigned (invalid) TSN:  http://services.itis.gov/?wt=json&rows=10&q=tsn:178911\n",
      "Unaccept Reason:  subsequent name/combination\n",
      "Accepted TSN:  http://services.itis.gov/?wt=json&rows=10&q=tsn:950040\n",
      "------------\n",
      "Myodes gapperi  -  Southern Red-backed Vole ( mSRBVx )\n",
      "Assigned (invalid) TSN:  http://services.itis.gov/?wt=json&rows=10&q=tsn:180294\n",
      "Unaccept Reason:  subsequent name/combination\n",
      "Accepted TSN:  http://services.itis.gov/?wt=json&rows=10&q=tsn:970612\n",
      "------------\n",
      "Pipilo crissalis  -  California Towhee ( bCALTx )\n",
      "Assigned (invalid) TSN:  http://services.itis.gov/?wt=json&rows=10&q=tsn:202307\n",
      "Unaccept Reason:  subsequent name/combination\n",
      "Accepted TSN:  http://services.itis.gov/?wt=json&rows=10&q=tsn:997738\n",
      "------------\n",
      "Carduelis pinus  -  Pine Siskin ( bPISIx )\n",
      "Assigned (invalid) TSN:  http://services.itis.gov/?wt=json&rows=10&q=tsn:179233\n",
      "Unaccept Reason:  subsequent name/combination\n",
      "Accepted TSN:  http://services.itis.gov/?wt=json&rows=10&q=tsn:179246\n",
      "------------\n",
      "Erethizon dorsatum  -  North American Porcupine ( mNAPOx )\n",
      "Assigned (invalid) TSN:  http://services.itis.gov/?wt=json&rows=10&q=tsn:180393\n",
      "Unaccept Reason:  other, see comments\n",
      "Accepted TSN:  http://services.itis.gov/?wt=json&rows=10&q=tsn:825295\n",
      "------------\n",
      "Oporornis formosus  -  Kentucky Warbler ( bKEWAx )\n",
      "Assigned (invalid) TSN:  http://services.itis.gov/?wt=json&rows=10&q=tsn:178937\n",
      "Unaccept Reason:  subsequent name/combination\n",
      "Accepted TSN:  http://services.itis.gov/?wt=json&rows=10&q=tsn:950025\n",
      "------------\n",
      "Carduelis lawrencei  -  Lawrence's Goldfinch ( bLAGOx )\n",
      "Assigned (invalid) TSN:  http://services.itis.gov/?wt=json&rows=10&q=tsn:179232\n",
      "Unaccept Reason:  original name/combination\n",
      "Accepted TSN:  http://services.itis.gov/?wt=json&rows=10&q=tsn:179257\n",
      "------------\n",
      "Amphispiza belli clementeae  -  San Clemente Sage Sparrow ( bSAGSc )\n",
      "Assigned (invalid) TSN:  http://services.itis.gov/?wt=json&rows=10&q=tsn:179402\n",
      "Unaccept Reason:  subsequent name/combination\n",
      "Accepted TSN:  http://services.itis.gov/?wt=json&rows=10&q=tsn:997724\n",
      "------------\n",
      "Wilsonia canadensis  -  Canada Warbler ( bCAWAx )\n",
      "Assigned (invalid) TSN:  http://services.itis.gov/?wt=json&rows=10&q=tsn:178977\n",
      "Unaccept Reason:  subsequent name/combination\n",
      "Accepted TSN:  http://services.itis.gov/?wt=json&rows=10&q=tsn:950079\n",
      "------------\n",
      "Cyanocorax morio  -  Brown Jay ( bBRJAx )\n",
      "Assigned (invalid) TSN:  http://services.itis.gov/?wt=json&rows=10&q=tsn:179715\n",
      "Unaccept Reason:  subsequent name/combination\n",
      "Accepted TSN:  http://services.itis.gov/?wt=json&rows=10&q=tsn:562548\n",
      "------------\n",
      "Aimophila botterii  -  Botteri's Sparrow ( bBOSPx )\n",
      "Assigned (invalid) TSN:  http://services.itis.gov/?wt=json&rows=10&q=tsn:179390\n",
      "Unaccept Reason:  subsequent name/combination\n",
      "Accepted TSN:  http://services.itis.gov/?wt=json&rows=10&q=tsn:997734\n",
      "------------\n",
      "Kinosternon subrubrum  -  Eastern Mud Turtle ( rEMDTx )\n",
      "Assigned (invalid) TSN:  http://services.itis.gov/?wt=json&rows=10&q=tsn:173763\n",
      "Unaccept Reason:  unavailable, suppressed by ruling\n",
      "Accepted TSN:  http://services.itis.gov/?wt=json&rows=10&q=tsn:949136\n",
      "------------\n",
      "Spermophilus mohavensis  -  Mohave Ground Squirrel ( mMOSQx )\n",
      "Assigned (invalid) TSN:  http://services.itis.gov/?wt=json&rows=10&q=tsn:180156\n",
      "Unaccept Reason:  original name/combination\n",
      "Accepted TSN:  http://services.itis.gov/?wt=json&rows=10&q=tsn:930310\n",
      "------------\n",
      "Poecile hudsonica  -  Boreal Chickadee ( bBOCHx )\n",
      "Assigned (invalid) TSN:  http://services.itis.gov/?wt=json&rows=10&q=tsn:726112\n",
      "Unaccept Reason:  other, see comments\n",
      "Accepted TSN:  http://services.itis.gov/?wt=json&rows=10&q=tsn:554386\n",
      "------------\n",
      "Dendroica tigrina  -  Cape May Warbler ( bCMWAx )\n",
      "Assigned (invalid) TSN:  http://services.itis.gov/?wt=json&rows=10&q=tsn:178887\n",
      "Unaccept Reason:  subsequent name/combination\n",
      "Accepted TSN:  http://services.itis.gov/?wt=json&rows=10&q=tsn:950031\n",
      "------------\n",
      "Dendroica caerulescens  -  Black-throated Blue Warbler ( bBTBWx )\n",
      "Assigned (invalid) TSN:  http://services.itis.gov/?wt=json&rows=10&q=tsn:178888\n",
      "Unaccept Reason:  subsequent name/combination\n",
      "Accepted TSN:  http://services.itis.gov/?wt=json&rows=10&q=tsn:950042\n",
      "------------\n",
      "Spermophilus brunneus endemicus  -  Southern Idaho Ground Squirrel ( mIGSQe )\n",
      "Assigned (invalid) TSN:  http://services.itis.gov/?wt=json&rows=10&q=tsn:180150\n",
      "Unaccept Reason:  subsequent name/combination\n",
      "Accepted TSN:  http://services.itis.gov/?wt=json&rows=10&q=tsn:930316\n",
      "------------\n",
      "Onychoprion anaethetus  -  Bridled Tern ( bBRTEx )\n",
      "Assigned (invalid) TSN:  http://services.itis.gov/?wt=json&rows=10&q=tsn:176897\n",
      "Unaccept Reason:  original name/combination\n",
      "Accepted TSN:  http://services.itis.gov/?wt=json&rows=10&q=tsn:824104\n",
      "------------\n",
      "Hydrocoloeus minutus  -  Little Gull ( bLIGUx )\n",
      "Assigned (invalid) TSN:  http://services.itis.gov/?wt=json&rows=10&q=tsn:176840\n",
      "Unaccept Reason:  original name/combination\n",
      "Accepted TSN:  http://services.itis.gov/?wt=json&rows=10&q=tsn:824065\n",
      "------------\n",
      "Spermophilus mollis  -  Piute Ground Squirrel ( mPGSQx )\n",
      "Assigned (invalid) TSN:  http://services.itis.gov/?wt=json&rows=10&q=tsn:552504\n",
      "Unaccept Reason:  original name/combination\n",
      "Accepted TSN:  http://services.itis.gov/?wt=json&rows=10&q=tsn:930320\n",
      "------------\n",
      "Pseudemys suwanniensis  -  Suwannee Cooter ( rSUCOx )\n",
      "Assigned (invalid) TSN:  http://services.itis.gov/?wt=json&rows=10&q=tsn:668673\n",
      "Unaccept Reason:  subsequent name/combination\n",
      "Accepted TSN:  http://services.itis.gov/?wt=json&rows=10&q=tsn:208646\n",
      "------------\n",
      "Rhinella marinus  -  Cane Toad ( aCANEx )\n",
      "Assigned (invalid) TSN:  http://services.itis.gov/?wt=json&rows=10&q=tsn:776032\n",
      "Unaccept Reason:  other, see comments\n",
      "Accepted TSN:  http://services.itis.gov/?wt=json&rows=10&q=tsn:773729\n",
      "------------\n",
      "Oporornis philadelphia  -  Mourning Warbler ( bMOWAx )\n",
      "Assigned (invalid) TSN:  http://services.itis.gov/?wt=json&rows=10&q=tsn:178939\n",
      "Unaccept Reason:  subsequent name/combination\n",
      "Accepted TSN:  http://services.itis.gov/?wt=json&rows=10&q=tsn:950024\n",
      "------------\n",
      "Myodes gapperi brevicaudus  -  Black Hills Red-backed Vole ( mSRBVb )\n",
      "Assigned (invalid) TSN:  http://services.itis.gov/?wt=json&rows=10&q=tsn:180294\n",
      "Unaccept Reason:  subsequent name/combination\n",
      "Accepted TSN:  http://services.itis.gov/?wt=json&rows=10&q=tsn:970612\n",
      "------------\n",
      "Dendroica virens  -  Black-throated Green Warbler ( bBTNWx )\n",
      "Assigned (invalid) TSN:  http://services.itis.gov/?wt=json&rows=10&q=tsn:178898\n",
      "Unaccept Reason:  subsequent name/combination\n",
      "Accepted TSN:  http://services.itis.gov/?wt=json&rows=10&q=tsn:950061\n",
      "------------\n",
      "Dendroica castanea  -  Bay-breasted Warbler ( bBBWAx )\n",
      "Assigned (invalid) TSN:  http://services.itis.gov/?wt=json&rows=10&q=tsn:178912\n",
      "Unaccept Reason:  subsequent name/combination\n",
      "Accepted TSN:  http://services.itis.gov/?wt=json&rows=10&q=tsn:950036\n",
      "------------\n",
      "Dendroica pinus  -  Pine Warbler ( bPIWAx )\n",
      "Assigned (invalid) TSN:  http://services.itis.gov/?wt=json&rows=10&q=tsn:178914\n",
      "Unaccept Reason:  subsequent name/combination\n",
      "Accepted TSN:  http://services.itis.gov/?wt=json&rows=10&q=tsn:950045\n",
      "------------\n",
      "Carpodacus purpureus  -  Purple Finch ( bPUFIx )\n",
      "Assigned (invalid) TSN:  http://services.itis.gov/?wt=json&rows=10&q=tsn:179186\n",
      "Unaccept Reason:  subsequent name/combination\n",
      "Accepted TSN:  http://services.itis.gov/?wt=json&rows=10&q=tsn:997803\n",
      "------------\n",
      "Dendroica petechia  -  Yellow Warbler ( bYWARx )\n",
      "Assigned (invalid) TSN:  http://services.itis.gov/?wt=json&rows=10&q=tsn:178878\n",
      "Unaccept Reason:  subsequent name/combination\n",
      "Accepted TSN:  http://services.itis.gov/?wt=json&rows=10&q=tsn:950039\n",
      "------------\n",
      "Perognathus alticolus  -  White-eared Pocket Mouse ( mWEPMx )\n",
      "Assigned (invalid) TSN:  http://services.itis.gov/?wt=json&rows=10&q=tsn:180255\n",
      "Unaccept Reason:  other, see comments\n",
      "Accepted TSN:  http://services.itis.gov/?wt=json&rows=10&q=tsn:900644\n",
      "------------\n",
      "Vermivora crissalis  -  Colima Warbler ( bCOLWx )\n",
      "Assigned (invalid) TSN:  http://services.itis.gov/?wt=json&rows=10&q=tsn:178865\n",
      "Unaccept Reason:  subsequent name/combination\n",
      "Accepted TSN:  http://services.itis.gov/?wt=json&rows=10&q=tsn:950016\n",
      "------------\n",
      "Dendroica fusca  -  Blackburnian Warbler ( bBLBWx )\n",
      "Assigned (invalid) TSN:  http://services.itis.gov/?wt=json&rows=10&q=tsn:178904\n",
      "Unaccept Reason:  subsequent name/combination\n",
      "Accepted TSN:  http://services.itis.gov/?wt=json&rows=10&q=tsn:950037\n",
      "------------\n",
      "Dendroica graciae  -  Grace's Warbler ( bGRWAx )\n",
      "Assigned (invalid) TSN:  http://services.itis.gov/?wt=json&rows=10&q=tsn:178909\n",
      "Unaccept Reason:  original name/combination\n",
      "Accepted TSN:  http://services.itis.gov/?wt=json&rows=10&q=tsn:950056\n",
      "------------\n",
      "Batrachoseps wrightorum  -  Oregon Slender Salamander ( aOSSAx )\n",
      "Assigned (invalid) TSN:  http://services.itis.gov/?wt=json&rows=10&q=tsn:573579\n",
      "Unaccept Reason:  unjustified emendation\n",
      "Accepted TSN:  http://services.itis.gov/?wt=json&rows=10&q=tsn:173712\n",
      "------------\n",
      "Aimophila quinquestriata  -  Five-striped Sparrow ( bFSSPx )\n",
      "Assigned (invalid) TSN:  http://services.itis.gov/?wt=json&rows=10&q=tsn:554030\n",
      "Unaccept Reason:  subsequent name/combination\n",
      "Accepted TSN:  http://services.itis.gov/?wt=json&rows=10&q=tsn:179408\n",
      "------------\n",
      "Spermophilus brunneus brunneus  -  Northern Idaho Ground Squirrel ( mIGSQb )\n",
      "Assigned (invalid) TSN:  http://services.itis.gov/?wt=json&rows=10&q=tsn:180150\n",
      "Unaccept Reason:  subsequent name/combination\n",
      "Accepted TSN:  http://services.itis.gov/?wt=json&rows=10&q=tsn:930316\n",
      "------------\n",
      "Pipistrellus subflavus  -  Eastern Pipistrelle ( mEAPIx )\n",
      "Assigned (invalid) TSN:  http://services.itis.gov/?wt=json&rows=10&q=tsn:180025\n",
      "Unaccept Reason:  subsequent name/combination\n",
      "Accepted TSN:  http://services.itis.gov/?wt=json&rows=10&q=tsn:948895\n",
      "------------\n",
      "Oporornis tolmiei  -  Macgillivray's Warbler ( bMGWAx )\n",
      "Assigned (invalid) TSN:  http://services.itis.gov/?wt=json&rows=10&q=tsn:178940\n",
      "Unaccept Reason:  subsequent name/combination\n",
      "Accepted TSN:  http://services.itis.gov/?wt=json&rows=10&q=tsn:950023\n",
      "------------\n",
      "Seiurus motacilla  -  Louisiana Waterthrush ( bLOWAx )\n",
      "Assigned (invalid) TSN:  http://services.itis.gov/?wt=json&rows=10&q=tsn:178935\n",
      "Unaccept Reason:  subsequent name/combination\n",
      "Accepted TSN:  http://services.itis.gov/?wt=json&rows=10&q=tsn:950009\n",
      "------------\n",
      "Carduelis psaltria  -  Lesser Goldfinch ( bLEGOx )\n",
      "Assigned (invalid) TSN:  http://services.itis.gov/?wt=json&rows=10&q=tsn:179234\n",
      "Unaccept Reason:  subsequent name/combination\n",
      "Accepted TSN:  http://services.itis.gov/?wt=json&rows=10&q=tsn:179254\n",
      "------------\n",
      "Pipilo fuscus  -  Canyon Towhee ( bCANTx )\n",
      "Assigned (invalid) TSN:  http://services.itis.gov/?wt=json&rows=10&q=tsn:179293\n",
      "Unaccept Reason:  original name/combination\n",
      "Accepted TSN:  http://services.itis.gov/?wt=json&rows=10&q=tsn:997737\n",
      "------------\n",
      "Plestiodon tetragrammus  -  Four-lined Skink ( rFLSKx )\n",
      "Assigned (invalid) TSN:  http://services.itis.gov/?wt=json&rows=10&q=tsn:208908\n",
      "Unaccept Reason:  original name/combination\n",
      "Accepted TSN:  http://services.itis.gov/?wt=json&rows=10&q=tsn:173971\n",
      "------------\n",
      "Neotoma fuscipes riparia  -  San Joaquin Valley Wood Rat ( mDFWOs )\n",
      "Assigned (invalid) TSN:  http://services.itis.gov/?wt=json&rows=10&q=tsn:633407\n",
      "Unaccept Reason:  junior synonym\n",
      "Accepted TSN:  http://services.itis.gov/?wt=json&rows=10&q=tsn:180373\n",
      "------------\n",
      "Amphispiza belli belli  -  Bell's Sage Sparrow ( bSAGSb )\n",
      "Assigned (invalid) TSN:  http://services.itis.gov/?wt=json&rows=10&q=tsn:179402\n",
      "Unaccept Reason:  subsequent name/combination\n",
      "Accepted TSN:  http://services.itis.gov/?wt=json&rows=10&q=tsn:997724\n",
      "------------\n",
      "Spermophilus townsendii  -  Townsend's Ground Squirrel ( mTGSQx )\n",
      "Assigned (invalid) TSN:  http://services.itis.gov/?wt=json&rows=10&q=tsn:180161\n",
      "Unaccept Reason:  original name/combination\n",
      "Accepted TSN:  http://services.itis.gov/?wt=json&rows=10&q=tsn:930323\n",
      "------------\n",
      "Dendroica discolor  -  Prairie Warbler ( bPRAWx )\n",
      "Assigned (invalid) TSN:  http://services.itis.gov/?wt=json&rows=10&q=tsn:178918\n",
      "Unaccept Reason:  subsequent name/combination\n",
      "Accepted TSN:  http://services.itis.gov/?wt=json&rows=10&q=tsn:950052\n",
      "------------\n",
      "Spermophilus beecheyi  -  California Ground Squirrel ( mCASQx )\n",
      "Assigned (invalid) TSN:  http://services.itis.gov/?wt=json&rows=10&q=tsn:180148\n",
      "Unaccept Reason:  subsequent name/combination\n",
      "Accepted TSN:  http://services.itis.gov/?wt=json&rows=10&q=tsn:930301\n",
      "------------\n",
      "Carpodacus mexicanus  -  House Finch ( bHOFIx )\n",
      "Assigned (invalid) TSN:  http://services.itis.gov/?wt=json&rows=10&q=tsn:179191\n",
      "Unaccept Reason:  subsequent name/combination\n",
      "Accepted TSN:  http://services.itis.gov/?wt=json&rows=10&q=tsn:997805\n",
      "------------\n",
      "Pipilo aberti  -  Abert's Towhee ( bABTOx )\n",
      "Assigned (invalid) TSN:  http://services.itis.gov/?wt=json&rows=10&q=tsn:179307\n",
      "Unaccept Reason:  original name/combination\n",
      "Accepted TSN:  http://services.itis.gov/?wt=json&rows=10&q=tsn:997739\n",
      "------------\n",
      "Ollotis nebulifer  -  Gulf Coast Toad ( aGCTOx )\n",
      "Assigned (invalid) TSN:  http://services.itis.gov/?wt=json&rows=10&q=tsn:775988\n",
      "Unaccept Reason:  subsequent name/combination\n",
      "Accepted TSN:  http://services.itis.gov/?wt=json&rows=10&q=tsn:773583\n",
      "------------\n",
      "Carduelis tristis  -  American Goldfinch ( bAMGOx )\n",
      "Assigned (invalid) TSN:  http://services.itis.gov/?wt=json&rows=10&q=tsn:179236\n",
      "Unaccept Reason:  subsequent name/combination\n",
      "Accepted TSN:  http://services.itis.gov/?wt=json&rows=10&q=tsn:179249\n",
      "------------\n",
      "Onychoprion fuscatus  -  Sooty Tern ( bSOTEx )\n",
      "Assigned (invalid) TSN:  http://services.itis.gov/?wt=json&rows=10&q=tsn:176894\n",
      "Unaccept Reason:  original name/combination\n",
      "Accepted TSN:  http://services.itis.gov/?wt=json&rows=10&q=tsn:824105\n",
      "------------\n",
      "Dendroica magnolia  -  Magnolia Warbler ( bMAWAx )\n",
      "Assigned (invalid) TSN:  http://services.itis.gov/?wt=json&rows=10&q=tsn:178886\n",
      "Unaccept Reason:  subsequent name/combination\n",
      "Accepted TSN:  http://services.itis.gov/?wt=json&rows=10&q=tsn:950035\n",
      "------------\n",
      "Spermophilus lateralis  -  Golden-mantled Ground Squirrel ( mGMGSx )\n",
      "Assigned (invalid) TSN:  http://services.itis.gov/?wt=json&rows=10&q=tsn:180154\n",
      "Unaccept Reason:  subsequent name/combination\n",
      "Accepted TSN:  http://services.itis.gov/?wt=json&rows=10&q=tsn:930305\n",
      "------------\n",
      "Spermophilus mexicanus  -  Mexican Ground Squirrel ( mMESQx )\n",
      "Assigned (invalid) TSN:  http://services.itis.gov/?wt=json&rows=10&q=tsn:180155\n",
      "Unaccept Reason:  subsequent name/combination\n",
      "Accepted TSN:  http://services.itis.gov/?wt=json&rows=10&q=tsn:930307\n",
      "------------\n",
      "Carduelis flammea  -  Common Redpoll ( bCOREx )\n",
      "Assigned (invalid) TSN:  http://services.itis.gov/?wt=json&rows=10&q=tsn:179230\n",
      "Unaccept Reason:  subsequent name/combination\n",
      "Accepted TSN:  http://services.itis.gov/?wt=json&rows=10&q=tsn:179241\n",
      "------------\n",
      "Spermophilus columbianus  -  Columbian Ground Squirrel ( mCOSQx )\n",
      "Assigned (invalid) TSN:  http://services.itis.gov/?wt=json&rows=10&q=tsn:180151\n",
      "Unaccept Reason:  subsequent name/combination\n",
      "Accepted TSN:  http://services.itis.gov/?wt=json&rows=10&q=tsn:930318\n",
      "------------\n",
      "Spermophilus washingtoni  -  Washington Ground Squirrel ( mWASQx )\n",
      "Assigned (invalid) TSN:  http://services.itis.gov/?wt=json&rows=10&q=tsn:180164\n",
      "Unaccept Reason:  subsequent name/combination\n",
      "Accepted TSN:  http://services.itis.gov/?wt=json&rows=10&q=tsn:930325\n",
      "------------\n",
      "Spizella arborea  -  American Tree Sparrow ( bATSPx )\n",
      "Assigned (invalid) TSN:  http://services.itis.gov/?wt=json&rows=10&q=tsn:179432\n",
      "Unaccept Reason:  subsequent name/combination\n",
      "Accepted TSN:  http://services.itis.gov/?wt=json&rows=10&q=tsn:997961\n",
      "------------\n"
     ]
    }
   ],
   "source": [
    "r_invalidTSN = requests.get(gc2.sqlAPI(\"DataDistillery\",\"BCB\")+\"&q=SELECT registration,itis FROM tir.tir WHERE registration->>'source' = 'GAP Species' AND itis->>'usage' <> 'valid'\").json()\n",
    "\n",
    "print (\"Number of GAP species with invalid ITIS TSN: \",len(r_invalidTSN[\"features\"]))\n",
    "print (\"------------\")\n",
    "\n",
    "for feature in r_invalidTSN[\"features\"]:\n",
    "    _registration = json.loads(feature[\"properties\"][\"registration\"])\n",
    "    _itis = json.loads(feature[\"properties\"][\"itis\"])\n",
    "    _gapSpeciesCode = _registration[\"identifiers\"][next(index for (index, d) in enumerate(_registration[\"identifiers\"]) if d[\"type\"] == \"GAP_SpeciesCode\")][\"key\"]\n",
    "    print (_registration[\"scientificname\"], \" - \", _registration[\"commonname\"], \"(\", _gapSpeciesCode, \")\")\n",
    "    print (\"Assigned (invalid) TSN: \",itis.getITISSearchURL(_itis[\"tsn\"],False))\n",
    "    print (\"Unaccept Reason: \",_itis[\"unacceptReason\"])\n",
    "    print (\"Accepted TSN: \",itis.getITISSearchURL(_itis[\"acceptedTSN\"][0],False))\n",
    "    print (\"------------\")\n"
   ]
  },
  {
   "cell_type": "markdown",
   "metadata": {},
   "source": [
    "### WoRMS Information\n",
    "\n",
    "In addition to consulting ITIS, the TIR looks for taxa in the World Register of Marine Species. The following report shows GAP species that were found in the WoRMS system. The full data structure captured from WoRMS is shown for evaluation."
   ]
  },
  {
   "cell_type": "code",
   "execution_count": 14,
   "metadata": {
    "collapsed": false
   },
   "outputs": [
    {
     "name": "stdout",
     "output_type": "stream",
     "text": [
      "Number of GAP species with WoRMS information:  319\n",
      "------------\n",
      "Rattus norvegicus  -  Brown Rat ( mBRRTx )\n"
     ]
    },
    {
     "data": {
      "text/plain": [
       "{'AphiaID': 993634,\n",
       " 'MatchMethod': 'Exact Match',\n",
       " 'MatchString': 'Rattus norvegicus',\n",
       " 'cacheDate': '2017-07-26T15:08:03.419808',\n",
       " 'class': 'Mammalia',\n",
       " 'family': 'Muridae',\n",
       " 'genus': 'Rattus',\n",
       " 'isBrackish': 0,\n",
       " 'isExtinct': None,\n",
       " 'isFreshwater': 0,\n",
       " 'isMarine': 0,\n",
       " 'isTerrestrial': 1,\n",
       " 'kingdom': 'Animalia',\n",
       " 'lsid': 'urn:lsid:marinespecies.org:taxname:993634',\n",
       " 'match_type': 'exact',\n",
       " 'modified': '2017-05-30T15:14:47Z',\n",
       " 'order': 'Rodentia',\n",
       " 'phylum': 'Chordata',\n",
       " 'rank': 'Species',\n",
       " 'scientificname': 'Rattus norvegicus',\n",
       " 'status': 'accepted',\n",
       " 'unacceptreason': None,\n",
       " 'valid_AphiaID': 993634,\n",
       " 'valid_name': 'Rattus norvegicus'}"
      ]
     },
     "metadata": {},
     "output_type": "display_data"
    },
    {
     "name": "stdout",
     "output_type": "stream",
     "text": [
      "------------\n",
      "Wilsonia pusilla  -  Wilson's Warbler ( bWIWAx )\n"
     ]
    },
    {
     "data": {
      "text/plain": [
       "{'AphiaID': 422662,\n",
       " 'MatchMethod': 'Exact Match',\n",
       " 'MatchString': 'Wilsonia pusilla',\n",
       " 'cacheDate': '2017-07-26T15:09:17.254067',\n",
       " 'class': 'Aves',\n",
       " 'family': 'Parulidae',\n",
       " 'genus': 'Wilsonia',\n",
       " 'isBrackish': 0,\n",
       " 'isExtinct': None,\n",
       " 'isFreshwater': None,\n",
       " 'isMarine': 0,\n",
       " 'isTerrestrial': None,\n",
       " 'kingdom': 'Animalia',\n",
       " 'lsid': 'urn:lsid:marinespecies.org:taxname:422662',\n",
       " 'match_type': 'exact',\n",
       " 'modified': '2011-04-08T08:18:06Z',\n",
       " 'order': 'Passeriformes',\n",
       " 'phylum': 'Chordata',\n",
       " 'rank': 'Species',\n",
       " 'scientificname': 'Wilsonia pusilla',\n",
       " 'status': 'accepted',\n",
       " 'unacceptreason': None,\n",
       " 'valid_AphiaID': 422662,\n",
       " 'valid_name': 'Wilsonia pusilla'}"
      ]
     },
     "metadata": {},
     "output_type": "display_data"
    },
    {
     "name": "stdout",
     "output_type": "stream",
     "text": [
      "------------\n",
      "Dendroica coronata  -  Yellow-rumped Warbler ( bYRWAx )\n"
     ]
    },
    {
     "data": {
      "text/plain": [
       "{'AphiaID': 422639,\n",
       " 'MatchMethod': 'Exact Match',\n",
       " 'MatchString': 'Dendroica coronata',\n",
       " 'cacheDate': '2017-07-26T15:08:09.402820',\n",
       " 'class': 'Aves',\n",
       " 'family': 'Parulidae',\n",
       " 'genus': 'Dendroica',\n",
       " 'isBrackish': 0,\n",
       " 'isExtinct': None,\n",
       " 'isFreshwater': None,\n",
       " 'isMarine': 0,\n",
       " 'isTerrestrial': None,\n",
       " 'kingdom': 'Animalia',\n",
       " 'lsid': 'urn:lsid:marinespecies.org:taxname:422639',\n",
       " 'match_type': 'exact',\n",
       " 'modified': '2011-04-08T08:18:06Z',\n",
       " 'order': 'Passeriformes',\n",
       " 'phylum': 'Chordata',\n",
       " 'rank': 'Species',\n",
       " 'scientificname': 'Dendroica coronata',\n",
       " 'status': 'accepted',\n",
       " 'unacceptreason': None,\n",
       " 'valid_AphiaID': 422639,\n",
       " 'valid_name': 'Dendroica coronata'}"
      ]
     },
     "metadata": {},
     "output_type": "display_data"
    },
    {
     "name": "stdout",
     "output_type": "stream",
     "text": [
      "------------\n",
      "Leucophaeus atricilla  -  Laughing Gull ( bLAGUx )\n"
     ]
    },
    {
     "data": {
      "text/plain": [
       "{'AphiaID': 882956,\n",
       " 'MatchMethod': 'Exact Match',\n",
       " 'MatchString': 'Leucophaeus atricilla',\n",
       " 'cacheDate': '2017-07-26T15:09:18.810591',\n",
       " 'class': 'Aves',\n",
       " 'family': 'Laridae',\n",
       " 'genus': 'Leucophaeus',\n",
       " 'isBrackish': None,\n",
       " 'isExtinct': None,\n",
       " 'isFreshwater': None,\n",
       " 'isMarine': None,\n",
       " 'isTerrestrial': None,\n",
       " 'kingdom': 'Animalia',\n",
       " 'lsid': 'urn:lsid:marinespecies.org:taxname:882956',\n",
       " 'match_type': 'exact',\n",
       " 'modified': '2016-08-11T09:15:01Z',\n",
       " 'order': 'Charadriiformes',\n",
       " 'phylum': 'Chordata',\n",
       " 'rank': 'Species',\n",
       " 'scientificname': 'Leucophaeus atricilla',\n",
       " 'status': 'unaccepted',\n",
       " 'unacceptreason': None,\n",
       " 'valid_AphiaID': 159074,\n",
       " 'valid_name': 'Larus atricilla'}"
      ]
     },
     "metadata": {},
     "output_type": "display_data"
    },
    {
     "name": "stdout",
     "output_type": "stream",
     "text": [
      "------------\n",
      "Oporornis formosus  -  Kentucky Warbler ( bKEWAx )\n"
     ]
    },
    {
     "data": {
      "text/plain": [
       "{'AphiaID': 422656,\n",
       " 'MatchMethod': 'Exact Match',\n",
       " 'MatchString': 'Oporornis formosus',\n",
       " 'cacheDate': '2017-07-26T15:13:35.610545',\n",
       " 'class': 'Aves',\n",
       " 'family': 'Parulidae',\n",
       " 'genus': 'Oporornis',\n",
       " 'isBrackish': 0,\n",
       " 'isExtinct': None,\n",
       " 'isFreshwater': None,\n",
       " 'isMarine': 0,\n",
       " 'isTerrestrial': None,\n",
       " 'kingdom': 'Animalia',\n",
       " 'lsid': 'urn:lsid:marinespecies.org:taxname:422656',\n",
       " 'match_type': 'exact',\n",
       " 'modified': '2011-04-08T08:18:06Z',\n",
       " 'order': 'Passeriformes',\n",
       " 'phylum': 'Chordata',\n",
       " 'rank': 'Species',\n",
       " 'scientificname': 'Oporornis formosus',\n",
       " 'status': 'accepted',\n",
       " 'unacceptreason': None,\n",
       " 'valid_AphiaID': 422656,\n",
       " 'valid_name': 'Oporornis formosus'}"
      ]
     },
     "metadata": {},
     "output_type": "display_data"
    },
    {
     "name": "stdout",
     "output_type": "stream",
     "text": [
      "------------\n",
      "Ammodramus henslowii  -  Henslow's Sparrow ( bHESPx )\n"
     ]
    },
    {
     "data": {
      "text/plain": [
       "{'AphiaID': 422667,\n",
       " 'MatchMethod': 'Exact Match',\n",
       " 'MatchString': 'Ammodramus henslowii',\n",
       " 'cacheDate': '2017-07-26T15:13:46.941343',\n",
       " 'class': 'Aves',\n",
       " 'family': 'Fringillidae',\n",
       " 'genus': 'Ammodramus',\n",
       " 'isBrackish': 0,\n",
       " 'isExtinct': None,\n",
       " 'isFreshwater': None,\n",
       " 'isMarine': 0,\n",
       " 'isTerrestrial': None,\n",
       " 'kingdom': 'Animalia',\n",
       " 'lsid': 'urn:lsid:marinespecies.org:taxname:422667',\n",
       " 'match_type': 'exact',\n",
       " 'modified': '2011-04-08T08:18:06Z',\n",
       " 'order': 'Passeriformes',\n",
       " 'phylum': 'Chordata',\n",
       " 'rank': 'Species',\n",
       " 'scientificname': 'Ammodramus henslowii',\n",
       " 'status': 'accepted',\n",
       " 'unacceptreason': None,\n",
       " 'valid_AphiaID': 422667,\n",
       " 'valid_name': 'Ammodramus henslowii'}"
      ]
     },
     "metadata": {},
     "output_type": "display_data"
    },
    {
     "name": "stdout",
     "output_type": "stream",
     "text": [
      "------------\n",
      "Larus glaucoides  -  Iceland Gull ( bICGUx )\n"
     ]
    },
    {
     "data": {
      "text/plain": [
       "{'AphiaID': 137144,\n",
       " 'MatchMethod': 'Exact Match',\n",
       " 'MatchString': 'Larus glaucoides',\n",
       " 'cacheDate': '2017-07-26T15:13:48.306456',\n",
       " 'class': 'Aves',\n",
       " 'family': 'Laridae',\n",
       " 'genus': 'Larus',\n",
       " 'isBrackish': None,\n",
       " 'isExtinct': None,\n",
       " 'isFreshwater': None,\n",
       " 'isMarine': 1,\n",
       " 'isTerrestrial': None,\n",
       " 'kingdom': 'Animalia',\n",
       " 'lsid': 'urn:lsid:marinespecies.org:taxname:137144',\n",
       " 'match_type': 'exact',\n",
       " 'modified': '2011-04-08T08:18:06Z',\n",
       " 'order': 'Charadriiformes',\n",
       " 'phylum': 'Chordata',\n",
       " 'rank': 'Species',\n",
       " 'scientificname': 'Larus glaucoides',\n",
       " 'status': 'accepted',\n",
       " 'unacceptreason': None,\n",
       " 'valid_AphiaID': 137144,\n",
       " 'valid_name': 'Larus glaucoides'}"
      ]
     },
     "metadata": {},
     "output_type": "display_data"
    },
    {
     "name": "stdout",
     "output_type": "stream",
     "text": [
      "------------\n",
      "Anas penelope  -  Eurasian Wigeon ( bEUWIx )\n"
     ]
    },
    {
     "data": {
      "text/plain": [
       "{'AphiaID': 159168,\n",
       " 'MatchMethod': 'Exact Match',\n",
       " 'MatchString': 'Anas penelope',\n",
       " 'cacheDate': '2017-07-26T15:16:08.787796',\n",
       " 'class': 'Aves',\n",
       " 'family': 'Anatidae',\n",
       " 'genus': 'Anas',\n",
       " 'isBrackish': None,\n",
       " 'isExtinct': None,\n",
       " 'isFreshwater': 1,\n",
       " 'isMarine': 0,\n",
       " 'isTerrestrial': None,\n",
       " 'kingdom': 'Animalia',\n",
       " 'lsid': 'urn:lsid:marinespecies.org:taxname:159168',\n",
       " 'match_type': 'exact',\n",
       " 'modified': '2011-04-08T08:18:06Z',\n",
       " 'order': 'Anseriformes',\n",
       " 'phylum': 'Chordata',\n",
       " 'rank': 'Species',\n",
       " 'scientificname': 'Anas penelope',\n",
       " 'status': 'accepted',\n",
       " 'unacceptreason': None,\n",
       " 'valid_AphiaID': 159168,\n",
       " 'valid_name': 'Anas penelope'}"
      ]
     },
     "metadata": {},
     "output_type": "display_data"
    },
    {
     "name": "stdout",
     "output_type": "stream",
     "text": [
      "------------\n",
      "Phalacrocorax auritus  -  Double-crested Cormorant ( bDCCOx )\n"
     ]
    },
    {
     "data": {
      "text/plain": [
       "{'AphiaID': 159059,\n",
       " 'MatchMethod': 'Exact Match',\n",
       " 'MatchString': 'Phalacrocorax auritus',\n",
       " 'cacheDate': '2017-07-26T14:58:02.200179',\n",
       " 'class': 'Aves',\n",
       " 'family': 'Phalacrocoracidae',\n",
       " 'genus': 'Phalacrocorax',\n",
       " 'isBrackish': None,\n",
       " 'isExtinct': None,\n",
       " 'isFreshwater': None,\n",
       " 'isMarine': 1,\n",
       " 'isTerrestrial': None,\n",
       " 'kingdom': 'Animalia',\n",
       " 'lsid': 'urn:lsid:marinespecies.org:taxname:159059',\n",
       " 'match_type': 'exact',\n",
       " 'modified': '2011-04-27T11:01:37Z',\n",
       " 'order': 'Pelecaniformes',\n",
       " 'phylum': 'Chordata',\n",
       " 'rank': 'Species',\n",
       " 'scientificname': 'Phalacrocorax auritus',\n",
       " 'status': 'accepted',\n",
       " 'unacceptreason': None,\n",
       " 'valid_AphiaID': 159059,\n",
       " 'valid_name': 'Phalacrocorax auritus'}"
      ]
     },
     "metadata": {},
     "output_type": "display_data"
    },
    {
     "name": "stdout",
     "output_type": "stream",
     "text": [
      "------------\n",
      "Limnodromus griseus  -  Short-billed Dowitcher ( bSBDOx )\n"
     ]
    },
    {
     "data": {
      "text/plain": [
       "{'AphiaID': 158955,\n",
       " 'MatchMethod': 'Exact Match',\n",
       " 'MatchString': 'Limnodromus griseus',\n",
       " 'cacheDate': '2017-07-26T14:59:12.409691',\n",
       " 'class': 'Aves',\n",
       " 'family': 'Scolopacidae',\n",
       " 'genus': 'Limnodromus',\n",
       " 'isBrackish': None,\n",
       " 'isExtinct': None,\n",
       " 'isFreshwater': None,\n",
       " 'isMarine': 1,\n",
       " 'isTerrestrial': None,\n",
       " 'kingdom': 'Animalia',\n",
       " 'lsid': 'urn:lsid:marinespecies.org:taxname:158955',\n",
       " 'match_type': 'exact',\n",
       " 'modified': '2011-04-27T11:01:37Z',\n",
       " 'order': 'Charadriiformes',\n",
       " 'phylum': 'Chordata',\n",
       " 'rank': 'Species',\n",
       " 'scientificname': 'Limnodromus griseus',\n",
       " 'status': 'accepted',\n",
       " 'unacceptreason': None,\n",
       " 'valid_AphiaID': 158955,\n",
       " 'valid_name': 'Limnodromus griseus'}"
      ]
     },
     "metadata": {},
     "output_type": "display_data"
    },
    {
     "name": "stdout",
     "output_type": "stream",
     "text": [
      "------------\n",
      "Leucophaeus pipixcan  -  Franklin's Gull ( bFRGUx )\n"
     ]
    },
    {
     "data": {
      "text/plain": [
       "{'AphiaID': 882957,\n",
       " 'MatchMethod': 'Exact Match',\n",
       " 'MatchString': 'Leucophaeus pipixcan',\n",
       " 'cacheDate': '2017-07-26T15:05:28.428006',\n",
       " 'class': 'Aves',\n",
       " 'family': 'Laridae',\n",
       " 'genus': 'Leucophaeus',\n",
       " 'isBrackish': None,\n",
       " 'isExtinct': None,\n",
       " 'isFreshwater': None,\n",
       " 'isMarine': None,\n",
       " 'isTerrestrial': None,\n",
       " 'kingdom': 'Animalia',\n",
       " 'lsid': 'urn:lsid:marinespecies.org:taxname:882957',\n",
       " 'match_type': 'exact',\n",
       " 'modified': '2016-08-11T09:15:01Z',\n",
       " 'order': 'Charadriiformes',\n",
       " 'phylum': 'Chordata',\n",
       " 'rank': 'Species',\n",
       " 'scientificname': 'Leucophaeus pipixcan',\n",
       " 'status': 'unaccepted',\n",
       " 'unacceptreason': None,\n",
       " 'valid_AphiaID': 159077,\n",
       " 'valid_name': 'Larus pipixcan'}"
      ]
     },
     "metadata": {},
     "output_type": "display_data"
    },
    {
     "name": "stdout",
     "output_type": "stream",
     "text": [
      "------------\n",
      "Arenaria interpres  -  Ruddy Turnstone ( bRUTUx )\n"
     ]
    },
    {
     "data": {
      "text/plain": [
       "{'AphiaID': 147431,\n",
       " 'MatchMethod': 'Exact Match',\n",
       " 'MatchString': 'Arenaria interpres',\n",
       " 'cacheDate': '2017-07-26T15:06:02.345914',\n",
       " 'class': 'Aves',\n",
       " 'family': 'Scolopacidae',\n",
       " 'genus': 'Arenaria',\n",
       " 'isBrackish': None,\n",
       " 'isExtinct': None,\n",
       " 'isFreshwater': None,\n",
       " 'isMarine': 1,\n",
       " 'isTerrestrial': None,\n",
       " 'kingdom': 'Animalia',\n",
       " 'lsid': 'urn:lsid:marinespecies.org:taxname:147431',\n",
       " 'match_type': 'exact',\n",
       " 'modified': '2011-04-08T08:18:06Z',\n",
       " 'order': 'Charadriiformes',\n",
       " 'phylum': 'Chordata',\n",
       " 'rank': 'Species',\n",
       " 'scientificname': 'Arenaria interpres',\n",
       " 'status': 'accepted',\n",
       " 'unacceptreason': None,\n",
       " 'valid_AphiaID': 147431,\n",
       " 'valid_name': 'Arenaria interpres'}"
      ]
     },
     "metadata": {},
     "output_type": "display_data"
    },
    {
     "name": "stdout",
     "output_type": "stream",
     "text": [
      "------------\n",
      "Tringa flavipes  -  Lesser Yellowlegs ( bLEYEx )\n"
     ]
    },
    {
     "data": {
      "text/plain": [
       "{'AphiaID': 159030,\n",
       " 'MatchMethod': 'Exact Match',\n",
       " 'MatchString': 'Tringa flavipes',\n",
       " 'cacheDate': '2017-07-26T15:06:27.234293',\n",
       " 'class': 'Aves',\n",
       " 'family': 'Scolopacidae',\n",
       " 'genus': 'Tringa',\n",
       " 'isBrackish': None,\n",
       " 'isExtinct': None,\n",
       " 'isFreshwater': None,\n",
       " 'isMarine': 1,\n",
       " 'isTerrestrial': None,\n",
       " 'kingdom': 'Animalia',\n",
       " 'lsid': 'urn:lsid:marinespecies.org:taxname:159030',\n",
       " 'match_type': 'exact',\n",
       " 'modified': '2011-04-27T11:01:37Z',\n",
       " 'order': 'Charadriiformes',\n",
       " 'phylum': 'Chordata',\n",
       " 'rank': 'Species',\n",
       " 'scientificname': 'Tringa flavipes',\n",
       " 'status': 'accepted',\n",
       " 'unacceptreason': None,\n",
       " 'valid_AphiaID': 159030,\n",
       " 'valid_name': 'Tringa flavipes'}"
      ]
     },
     "metadata": {},
     "output_type": "display_data"
    },
    {
     "name": "stdout",
     "output_type": "stream",
     "text": [
      "------------\n",
      "Eretmochelys imbricata  -  Hawksbill Sea Turtle ( rHSTUx )\n"
     ]
    },
    {
     "data": {
      "text/plain": [
       "{'AphiaID': 137207,\n",
       " 'MatchMethod': 'Exact Match',\n",
       " 'MatchString': 'Eretmochelys imbricata',\n",
       " 'cacheDate': '2017-07-26T15:06:54.624860',\n",
       " 'class': 'Reptilia',\n",
       " 'family': 'Cheloniidae',\n",
       " 'genus': 'Eretmochelys',\n",
       " 'isBrackish': None,\n",
       " 'isExtinct': None,\n",
       " 'isFreshwater': None,\n",
       " 'isMarine': 1,\n",
       " 'isTerrestrial': None,\n",
       " 'kingdom': 'Animalia',\n",
       " 'lsid': 'urn:lsid:marinespecies.org:taxname:137207',\n",
       " 'match_type': 'exact',\n",
       " 'modified': '2009-06-30T08:57:17Z',\n",
       " 'order': 'Testudines',\n",
       " 'phylum': 'Chordata',\n",
       " 'rank': 'Species',\n",
       " 'scientificname': 'Eretmochelys imbricata',\n",
       " 'status': 'accepted',\n",
       " 'unacceptreason': None,\n",
       " 'valid_AphiaID': 137207,\n",
       " 'valid_name': 'Eretmochelys imbricata'}"
      ]
     },
     "metadata": {},
     "output_type": "display_data"
    },
    {
     "name": "stdout",
     "output_type": "stream",
     "text": [
      "------------\n",
      "Falco columbarius  -  Merlin ( bMERLx )\n"
     ]
    },
    {
     "data": {
      "text/plain": [
       "{'AphiaID': 159152,\n",
       " 'MatchMethod': 'Exact Match',\n",
       " 'MatchString': 'Falco columbarius',\n",
       " 'cacheDate': '2017-07-26T15:06:57.986870',\n",
       " 'class': 'Aves',\n",
       " 'family': 'Falconidae',\n",
       " 'genus': 'Falco',\n",
       " 'isBrackish': 0,\n",
       " 'isExtinct': None,\n",
       " 'isFreshwater': None,\n",
       " 'isMarine': 0,\n",
       " 'isTerrestrial': None,\n",
       " 'kingdom': 'Animalia',\n",
       " 'lsid': 'urn:lsid:marinespecies.org:taxname:159152',\n",
       " 'match_type': 'exact',\n",
       " 'modified': '2011-04-08T08:18:06Z',\n",
       " 'order': 'Falconiformes',\n",
       " 'phylum': 'Chordata',\n",
       " 'rank': 'Species',\n",
       " 'scientificname': 'Falco columbarius',\n",
       " 'status': 'accepted',\n",
       " 'unacceptreason': None,\n",
       " 'valid_AphiaID': 159152,\n",
       " 'valid_name': 'Falco columbarius'}"
      ]
     },
     "metadata": {},
     "output_type": "display_data"
    },
    {
     "name": "stdout",
     "output_type": "stream",
     "text": [
      "------------\n",
      "Accipiter gentilis  -  Northern Goshawk ( bNOGOx )\n"
     ]
    },
    {
     "data": {
      "text/plain": [
       "{'AphiaID': 159104,\n",
       " 'MatchMethod': 'Exact Match',\n",
       " 'MatchString': 'Accipiter gentilis',\n",
       " 'cacheDate': '2017-07-26T15:07:01.212976',\n",
       " 'class': 'Aves',\n",
       " 'family': 'Accipitridae',\n",
       " 'genus': 'Accipiter',\n",
       " 'isBrackish': 0,\n",
       " 'isExtinct': None,\n",
       " 'isFreshwater': None,\n",
       " 'isMarine': 0,\n",
       " 'isTerrestrial': None,\n",
       " 'kingdom': 'Animalia',\n",
       " 'lsid': 'urn:lsid:marinespecies.org:taxname:159104',\n",
       " 'match_type': 'exact',\n",
       " 'modified': '2011-04-27T11:01:37Z',\n",
       " 'order': 'Falconiformes',\n",
       " 'phylum': 'Chordata',\n",
       " 'rank': 'Species',\n",
       " 'scientificname': 'Accipiter gentilis',\n",
       " 'status': 'accepted',\n",
       " 'unacceptreason': None,\n",
       " 'valid_AphiaID': 159104,\n",
       " 'valid_name': 'Accipiter gentilis'}"
      ]
     },
     "metadata": {},
     "output_type": "display_data"
    },
    {
     "name": "stdout",
     "output_type": "stream",
     "text": [
      "------------\n",
      "Pelecanus occidentalis  -  Brown Pelican ( bBRPEx )\n"
     ]
    },
    {
     "data": {
      "text/plain": [
       "{'AphiaID': 343935,\n",
       " 'MatchMethod': 'Exact Match',\n",
       " 'MatchString': 'Pelecanus occidentalis',\n",
       " 'cacheDate': '2017-07-26T15:07:09.542304',\n",
       " 'class': 'Aves',\n",
       " 'family': 'Pelecanidae',\n",
       " 'genus': 'Pelecanus',\n",
       " 'isBrackish': None,\n",
       " 'isExtinct': None,\n",
       " 'isFreshwater': None,\n",
       " 'isMarine': 1,\n",
       " 'isTerrestrial': None,\n",
       " 'kingdom': 'Animalia',\n",
       " 'lsid': 'urn:lsid:marinespecies.org:taxname:343935',\n",
       " 'match_type': 'exact',\n",
       " 'modified': '2011-04-08T08:18:06Z',\n",
       " 'order': 'Pelecaniformes',\n",
       " 'phylum': 'Chordata',\n",
       " 'rank': 'Species',\n",
       " 'scientificname': 'Pelecanus occidentalis',\n",
       " 'status': 'accepted',\n",
       " 'unacceptreason': None,\n",
       " 'valid_AphiaID': 343935,\n",
       " 'valid_name': 'Pelecanus occidentalis'}"
      ]
     },
     "metadata": {},
     "output_type": "display_data"
    },
    {
     "name": "stdout",
     "output_type": "stream",
     "text": [
      "------------\n",
      "Calidris maritima  -  Purple Sandpiper ( bPUSAx )\n"
     ]
    },
    {
     "data": {
      "text/plain": [
       "{'AphiaID': 159052,\n",
       " 'MatchMethod': 'Exact Match',\n",
       " 'MatchString': 'Calidris maritima',\n",
       " 'cacheDate': '2017-07-26T15:07:21.592034',\n",
       " 'class': 'Aves',\n",
       " 'family': 'Scolopacidae',\n",
       " 'genus': 'Calidris',\n",
       " 'isBrackish': None,\n",
       " 'isExtinct': None,\n",
       " 'isFreshwater': None,\n",
       " 'isMarine': 1,\n",
       " 'isTerrestrial': None,\n",
       " 'kingdom': 'Animalia',\n",
       " 'lsid': 'urn:lsid:marinespecies.org:taxname:159052',\n",
       " 'match_type': 'exact',\n",
       " 'modified': '2011-04-27T11:01:37Z',\n",
       " 'order': 'Charadriiformes',\n",
       " 'phylum': 'Chordata',\n",
       " 'rank': 'Species',\n",
       " 'scientificname': 'Calidris maritima',\n",
       " 'status': 'accepted',\n",
       " 'unacceptreason': None,\n",
       " 'valid_AphiaID': 159052,\n",
       " 'valid_name': 'Calidris maritima'}"
      ]
     },
     "metadata": {},
     "output_type": "display_data"
    },
    {
     "name": "stdout",
     "output_type": "stream",
     "text": [
      "------------\n",
      "Haematopus palliatus  -  American Oystercatcher ( bAMOYx )\n"
     ]
    },
    {
     "data": {
      "text/plain": [
       "{'AphiaID': 159128,\n",
       " 'MatchMethod': 'Exact Match',\n",
       " 'MatchString': 'Haematopus palliatus',\n",
       " 'cacheDate': '2017-07-26T15:07:45.271162',\n",
       " 'class': 'Aves',\n",
       " 'family': 'Charadriidae',\n",
       " 'genus': 'Haematopus',\n",
       " 'isBrackish': None,\n",
       " 'isExtinct': None,\n",
       " 'isFreshwater': None,\n",
       " 'isMarine': 1,\n",
       " 'isTerrestrial': None,\n",
       " 'kingdom': 'Animalia',\n",
       " 'lsid': 'urn:lsid:marinespecies.org:taxname:159128',\n",
       " 'match_type': 'exact',\n",
       " 'modified': '2011-04-08T08:18:06Z',\n",
       " 'order': 'Charadriiformes',\n",
       " 'phylum': 'Chordata',\n",
       " 'rank': 'Species',\n",
       " 'scientificname': 'Haematopus palliatus',\n",
       " 'status': 'accepted',\n",
       " 'unacceptreason': None,\n",
       " 'valid_AphiaID': 159128,\n",
       " 'valid_name': 'Haematopus palliatus'}"
      ]
     },
     "metadata": {},
     "output_type": "display_data"
    },
    {
     "name": "stdout",
     "output_type": "stream",
     "text": [
      "------------\n",
      "Phalacrocorax pelagicus  -  Pelagic Cormorant ( bPECOx )\n"
     ]
    },
    {
     "data": {
      "text/plain": [
       "{'AphiaID': 343950,\n",
       " 'MatchMethod': 'Exact Match',\n",
       " 'MatchString': 'Phalacrocorax pelagicus',\n",
       " 'cacheDate': '2017-07-26T15:08:53.677845',\n",
       " 'class': 'Aves',\n",
       " 'family': 'Phalacrocoracidae',\n",
       " 'genus': 'Phalacrocorax',\n",
       " 'isBrackish': None,\n",
       " 'isExtinct': None,\n",
       " 'isFreshwater': None,\n",
       " 'isMarine': 1,\n",
       " 'isTerrestrial': None,\n",
       " 'kingdom': 'Animalia',\n",
       " 'lsid': 'urn:lsid:marinespecies.org:taxname:343950',\n",
       " 'match_type': 'exact',\n",
       " 'modified': '2011-04-08T08:18:06Z',\n",
       " 'order': 'Pelecaniformes',\n",
       " 'phylum': 'Chordata',\n",
       " 'rank': 'Species',\n",
       " 'scientificname': 'Phalacrocorax pelagicus',\n",
       " 'status': 'accepted',\n",
       " 'unacceptreason': None,\n",
       " 'valid_AphiaID': 343950,\n",
       " 'valid_name': 'Phalacrocorax pelagicus'}"
      ]
     },
     "metadata": {},
     "output_type": "display_data"
    },
    {
     "name": "stdout",
     "output_type": "stream",
     "text": [
      "------------\n",
      "Empidonax flaviventris  -  Yellow-bellied Flycatcher ( bYBFLx )\n"
     ]
    },
    {
     "data": {
      "text/plain": [
       "{'AphiaID': 422621,\n",
       " 'MatchMethod': 'Exact Match',\n",
       " 'MatchString': 'Empidonax flaviventris',\n",
       " 'cacheDate': '2017-07-26T15:09:31.005706',\n",
       " 'class': 'Aves',\n",
       " 'family': 'Tyrannidae',\n",
       " 'genus': 'Empidonax',\n",
       " 'isBrackish': 0,\n",
       " 'isExtinct': None,\n",
       " 'isFreshwater': None,\n",
       " 'isMarine': 0,\n",
       " 'isTerrestrial': None,\n",
       " 'kingdom': 'Animalia',\n",
       " 'lsid': 'urn:lsid:marinespecies.org:taxname:422621',\n",
       " 'match_type': 'exact',\n",
       " 'modified': '2011-04-27T11:01:37Z',\n",
       " 'order': 'Passeriformes',\n",
       " 'phylum': 'Chordata',\n",
       " 'rank': 'Species',\n",
       " 'scientificname': 'Empidonax flaviventris',\n",
       " 'status': 'accepted',\n",
       " 'unacceptreason': None,\n",
       " 'valid_AphiaID': 422621,\n",
       " 'valid_name': 'Empidonax flaviventris'}"
      ]
     },
     "metadata": {},
     "output_type": "display_data"
    },
    {
     "name": "stdout",
     "output_type": "stream",
     "text": [
      "------------\n",
      "Podilymbus podiceps  -  Pied-billed Grebe ( bPBGRx )\n"
     ]
    },
    {
     "data": {
      "text/plain": [
       "{'AphiaID': 159062,\n",
       " 'MatchMethod': 'Exact Match',\n",
       " 'MatchString': 'Podilymbus podiceps',\n",
       " 'cacheDate': '2017-07-26T15:12:36.202855',\n",
       " 'class': 'Aves',\n",
       " 'family': 'Podicipedidae',\n",
       " 'genus': 'Podilymbus',\n",
       " 'isBrackish': None,\n",
       " 'isExtinct': None,\n",
       " 'isFreshwater': None,\n",
       " 'isMarine': 1,\n",
       " 'isTerrestrial': None,\n",
       " 'kingdom': 'Animalia',\n",
       " 'lsid': 'urn:lsid:marinespecies.org:taxname:159062',\n",
       " 'match_type': 'exact',\n",
       " 'modified': '2011-04-27T11:01:37Z',\n",
       " 'order': 'Podicipediformes',\n",
       " 'phylum': 'Chordata',\n",
       " 'rank': 'Species',\n",
       " 'scientificname': 'Podilymbus podiceps',\n",
       " 'status': 'accepted',\n",
       " 'unacceptreason': None,\n",
       " 'valid_AphiaID': 159062,\n",
       " 'valid_name': 'Podilymbus podiceps'}"
      ]
     },
     "metadata": {},
     "output_type": "display_data"
    },
    {
     "name": "stdout",
     "output_type": "stream",
     "text": [
      "------------\n",
      "Larus thayeri  -  Thayer's Gull ( bTHGUx )\n"
     ]
    },
    {
     "data": {
      "text/plain": [
       "{'AphiaID': 343922,\n",
       " 'MatchMethod': 'Exact Match',\n",
       " 'MatchString': 'Larus thayeri',\n",
       " 'cacheDate': '2017-07-26T15:13:58.153986',\n",
       " 'class': 'Aves',\n",
       " 'family': 'Laridae',\n",
       " 'genus': 'Larus',\n",
       " 'isBrackish': None,\n",
       " 'isExtinct': None,\n",
       " 'isFreshwater': None,\n",
       " 'isMarine': 1,\n",
       " 'isTerrestrial': None,\n",
       " 'kingdom': 'Animalia',\n",
       " 'lsid': 'urn:lsid:marinespecies.org:taxname:343922',\n",
       " 'match_type': 'exact',\n",
       " 'modified': '2011-04-08T08:18:06Z',\n",
       " 'order': 'Charadriiformes',\n",
       " 'phylum': 'Chordata',\n",
       " 'rank': 'Species',\n",
       " 'scientificname': 'Larus thayeri',\n",
       " 'status': 'accepted',\n",
       " 'unacceptreason': None,\n",
       " 'valid_AphiaID': 343922,\n",
       " 'valid_name': 'Larus thayeri'}"
      ]
     },
     "metadata": {},
     "output_type": "display_data"
    },
    {
     "name": "stdout",
     "output_type": "stream",
     "text": [
      "------------\n",
      "Brachyramphus marmoratus  -  Marbled Murrelet ( bMAMUx )\n"
     ]
    },
    {
     "data": {
      "text/plain": [
       "{'AphiaID': 254308,\n",
       " 'MatchMethod': 'Exact Match',\n",
       " 'MatchString': 'Brachyramphus marmoratus',\n",
       " 'cacheDate': '2017-07-26T15:17:04.750337',\n",
       " 'class': 'Aves',\n",
       " 'family': 'Alcidae',\n",
       " 'genus': 'Brachyramphus',\n",
       " 'isBrackish': None,\n",
       " 'isExtinct': None,\n",
       " 'isFreshwater': None,\n",
       " 'isMarine': 1,\n",
       " 'isTerrestrial': None,\n",
       " 'kingdom': 'Animalia',\n",
       " 'lsid': 'urn:lsid:marinespecies.org:taxname:254308',\n",
       " 'match_type': 'exact',\n",
       " 'modified': '2011-04-08T08:18:06Z',\n",
       " 'order': 'Charadriiformes',\n",
       " 'phylum': 'Chordata',\n",
       " 'rank': 'Species',\n",
       " 'scientificname': 'Brachyramphus marmoratus',\n",
       " 'status': 'accepted',\n",
       " 'unacceptreason': None,\n",
       " 'valid_AphiaID': 254308,\n",
       " 'valid_name': 'Brachyramphus marmoratus'}"
      ]
     },
     "metadata": {},
     "output_type": "display_data"
    },
    {
     "name": "stdout",
     "output_type": "stream",
     "text": [
      "------------\n",
      "Rallus elegans  -  King Rail ( bKIRAx )\n"
     ]
    },
    {
     "data": {
      "text/plain": [
       "{'AphiaID': 159015,\n",
       " 'MatchMethod': 'Exact Match',\n",
       " 'MatchString': 'Rallus elegans',\n",
       " 'cacheDate': '2017-07-26T15:17:54.037126',\n",
       " 'class': 'Aves',\n",
       " 'family': 'Rallidae',\n",
       " 'genus': 'Rallus',\n",
       " 'isBrackish': 0,\n",
       " 'isExtinct': None,\n",
       " 'isFreshwater': 1,\n",
       " 'isMarine': 0,\n",
       " 'isTerrestrial': None,\n",
       " 'kingdom': 'Animalia',\n",
       " 'lsid': 'urn:lsid:marinespecies.org:taxname:159015',\n",
       " 'match_type': 'exact',\n",
       " 'modified': '2011-04-08T08:18:06Z',\n",
       " 'order': 'Gruiformes',\n",
       " 'phylum': 'Chordata',\n",
       " 'rank': 'Species',\n",
       " 'scientificname': 'Rallus elegans',\n",
       " 'status': 'accepted',\n",
       " 'unacceptreason': None,\n",
       " 'valid_AphiaID': 159015,\n",
       " 'valid_name': 'Rallus elegans'}"
      ]
     },
     "metadata": {},
     "output_type": "display_data"
    },
    {
     "name": "stdout",
     "output_type": "stream",
     "text": [
      "------------\n",
      "Sterna paradisaea  -  Arctic Tern ( bARTEx )\n"
     ]
    },
    {
     "data": {
      "text/plain": [
       "{'AphiaID': 137165,\n",
       " 'MatchMethod': 'Exact Match',\n",
       " 'MatchString': 'Sterna paradisaea',\n",
       " 'cacheDate': '2017-07-26T15:18:29.711153',\n",
       " 'class': 'Aves',\n",
       " 'family': 'Sternidae',\n",
       " 'genus': 'Sterna',\n",
       " 'isBrackish': None,\n",
       " 'isExtinct': None,\n",
       " 'isFreshwater': None,\n",
       " 'isMarine': 1,\n",
       " 'isTerrestrial': None,\n",
       " 'kingdom': 'Animalia',\n",
       " 'lsid': 'urn:lsid:marinespecies.org:taxname:137165',\n",
       " 'match_type': 'exact',\n",
       " 'modified': '2011-04-08T08:18:06Z',\n",
       " 'order': 'Charadriiformes',\n",
       " 'phylum': 'Chordata',\n",
       " 'rank': 'Species',\n",
       " 'scientificname': 'Sterna paradisaea',\n",
       " 'status': 'accepted',\n",
       " 'unacceptreason': None,\n",
       " 'valid_AphiaID': 137165,\n",
       " 'valid_name': 'Sterna paradisaea'}"
      ]
     },
     "metadata": {},
     "output_type": "display_data"
    },
    {
     "name": "stdout",
     "output_type": "stream",
     "text": [
      "------------\n",
      "Calidris minutilla  -  Least Sandpiper ( bLESAx )\n"
     ]
    },
    {
     "data": {
      "text/plain": [
       "{'AphiaID': 159054,\n",
       " 'MatchMethod': 'Exact Match',\n",
       " 'MatchString': 'Calidris minutilla',\n",
       " 'cacheDate': '2017-07-26T15:18:57.702622',\n",
       " 'class': 'Aves',\n",
       " 'family': 'Scolopacidae',\n",
       " 'genus': 'Calidris',\n",
       " 'isBrackish': None,\n",
       " 'isExtinct': None,\n",
       " 'isFreshwater': None,\n",
       " 'isMarine': 1,\n",
       " 'isTerrestrial': None,\n",
       " 'kingdom': 'Animalia',\n",
       " 'lsid': 'urn:lsid:marinespecies.org:taxname:159054',\n",
       " 'match_type': 'exact',\n",
       " 'modified': '2011-04-27T11:01:37Z',\n",
       " 'order': 'Charadriiformes',\n",
       " 'phylum': 'Chordata',\n",
       " 'rank': 'Species',\n",
       " 'scientificname': 'Calidris minutilla',\n",
       " 'status': 'accepted',\n",
       " 'unacceptreason': None,\n",
       " 'valid_AphiaID': 159054,\n",
       " 'valid_name': 'Calidris minutilla'}"
      ]
     },
     "metadata": {},
     "output_type": "display_data"
    },
    {
     "name": "stdout",
     "output_type": "stream",
     "text": [
      "------------\n",
      "Rattus rattus  -  Roof Rat ( mRORAx )\n"
     ]
    },
    {
     "data": {
      "text/plain": [
       "{'AphiaID': 993636,\n",
       " 'MatchMethod': 'Exact Match',\n",
       " 'MatchString': 'Rattus rattus',\n",
       " 'cacheDate': '2017-07-26T15:12:17.778661',\n",
       " 'class': 'Mammalia',\n",
       " 'family': 'Muridae',\n",
       " 'genus': 'Rattus',\n",
       " 'isBrackish': 0,\n",
       " 'isExtinct': None,\n",
       " 'isFreshwater': 0,\n",
       " 'isMarine': 0,\n",
       " 'isTerrestrial': 1,\n",
       " 'kingdom': 'Animalia',\n",
       " 'lsid': 'urn:lsid:marinespecies.org:taxname:993636',\n",
       " 'match_type': 'exact',\n",
       " 'modified': '2017-05-30T15:14:47Z',\n",
       " 'order': 'Rodentia',\n",
       " 'phylum': 'Chordata',\n",
       " 'rank': 'Species',\n",
       " 'scientificname': 'Rattus rattus',\n",
       " 'status': 'accepted',\n",
       " 'unacceptreason': None,\n",
       " 'valid_AphiaID': 993636,\n",
       " 'valid_name': 'Rattus rattus'}"
      ]
     },
     "metadata": {},
     "output_type": "display_data"
    },
    {
     "name": "stdout",
     "output_type": "stream",
     "text": [
      "------------\n",
      "Egretta rufescens  -  Reddish Egret ( bREEGx )\n"
     ]
    },
    {
     "data": {
      "text/plain": [
       "{'AphiaID': 422580,\n",
       " 'MatchMethod': 'Exact Match',\n",
       " 'MatchString': 'Egretta rufescens',\n",
       " 'cacheDate': '2017-07-26T15:13:40.605270',\n",
       " 'class': 'Aves',\n",
       " 'family': 'Ardeidae',\n",
       " 'genus': 'Egretta',\n",
       " 'isBrackish': None,\n",
       " 'isExtinct': None,\n",
       " 'isFreshwater': None,\n",
       " 'isMarine': 1,\n",
       " 'isTerrestrial': None,\n",
       " 'kingdom': 'Animalia',\n",
       " 'lsid': 'urn:lsid:marinespecies.org:taxname:422580',\n",
       " 'match_type': 'exact',\n",
       " 'modified': '2011-04-08T08:18:06Z',\n",
       " 'order': 'Ciconiiformes',\n",
       " 'phylum': 'Chordata',\n",
       " 'rank': 'Species',\n",
       " 'scientificname': 'Egretta rufescens',\n",
       " 'status': 'accepted',\n",
       " 'unacceptreason': None,\n",
       " 'valid_AphiaID': 422580,\n",
       " 'valid_name': 'Egretta rufescens'}"
      ]
     },
     "metadata": {},
     "output_type": "display_data"
    },
    {
     "name": "stdout",
     "output_type": "stream",
     "text": [
      "------------\n",
      "Mirounga angustirostris  -  Northern Elephant Seal ( mNESEx )\n"
     ]
    },
    {
     "data": {
      "text/plain": [
       "{'AphiaID': 255018,\n",
       " 'MatchMethod': 'Exact Match',\n",
       " 'MatchString': 'Mirounga angustirostris',\n",
       " 'cacheDate': '2017-07-26T15:14:55.286058',\n",
       " 'class': 'Mammalia',\n",
       " 'family': 'Phocidae',\n",
       " 'genus': 'Mirounga',\n",
       " 'isBrackish': None,\n",
       " 'isExtinct': None,\n",
       " 'isFreshwater': None,\n",
       " 'isMarine': 1,\n",
       " 'isTerrestrial': None,\n",
       " 'kingdom': 'Animalia',\n",
       " 'lsid': 'urn:lsid:marinespecies.org:taxname:255018',\n",
       " 'match_type': 'exact',\n",
       " 'modified': '2010-05-20T12:09:50Z',\n",
       " 'order': 'Carnivora',\n",
       " 'phylum': 'Chordata',\n",
       " 'rank': 'Species',\n",
       " 'scientificname': 'Mirounga angustirostris',\n",
       " 'status': 'accepted',\n",
       " 'unacceptreason': None,\n",
       " 'valid_AphiaID': 255018,\n",
       " 'valid_name': 'Mirounga angustirostris'}"
      ]
     },
     "metadata": {},
     "output_type": "display_data"
    },
    {
     "name": "stdout",
     "output_type": "stream",
     "text": [
      "------------\n",
      "Setophaga ruticilla  -  American Redstart ( bAMREx )\n"
     ]
    },
    {
     "data": {
      "text/plain": [
       "{'AphiaID': 422649,\n",
       " 'MatchMethod': 'Exact Match',\n",
       " 'MatchString': 'Setophaga ruticilla',\n",
       " 'cacheDate': '2017-07-26T15:16:57.399206',\n",
       " 'class': 'Aves',\n",
       " 'family': 'Parulidae',\n",
       " 'genus': 'Setophaga',\n",
       " 'isBrackish': 0,\n",
       " 'isExtinct': None,\n",
       " 'isFreshwater': None,\n",
       " 'isMarine': 0,\n",
       " 'isTerrestrial': None,\n",
       " 'kingdom': 'Animalia',\n",
       " 'lsid': 'urn:lsid:marinespecies.org:taxname:422649',\n",
       " 'match_type': 'exact',\n",
       " 'modified': '2011-04-08T08:18:06Z',\n",
       " 'order': 'Passeriformes',\n",
       " 'phylum': 'Chordata',\n",
       " 'rank': 'Species',\n",
       " 'scientificname': 'Setophaga ruticilla',\n",
       " 'status': 'accepted',\n",
       " 'unacceptreason': None,\n",
       " 'valid_AphiaID': 422649,\n",
       " 'valid_name': 'Setophaga ruticilla'}"
      ]
     },
     "metadata": {},
     "output_type": "display_data"
    },
    {
     "name": "stdout",
     "output_type": "stream",
     "text": [
      "------------\n",
      "Larus argentatus  -  Herring Gull ( bHERGx )\n"
     ]
    },
    {
     "data": {
      "text/plain": [
       "{'AphiaID': 137138,\n",
       " 'MatchMethod': 'Exact Match',\n",
       " 'MatchString': 'Larus argentatus',\n",
       " 'cacheDate': '2017-07-26T15:17:09.278516',\n",
       " 'class': 'Aves',\n",
       " 'family': 'Laridae',\n",
       " 'genus': 'Larus',\n",
       " 'isBrackish': None,\n",
       " 'isExtinct': None,\n",
       " 'isFreshwater': None,\n",
       " 'isMarine': 1,\n",
       " 'isTerrestrial': None,\n",
       " 'kingdom': 'Animalia',\n",
       " 'lsid': 'urn:lsid:marinespecies.org:taxname:137138',\n",
       " 'match_type': 'exact',\n",
       " 'modified': '2011-04-08T08:18:06Z',\n",
       " 'order': 'Charadriiformes',\n",
       " 'phylum': 'Chordata',\n",
       " 'rank': 'Species',\n",
       " 'scientificname': 'Larus argentatus',\n",
       " 'status': 'accepted',\n",
       " 'unacceptreason': None,\n",
       " 'valid_AphiaID': 137138,\n",
       " 'valid_name': 'Larus argentatus'}"
      ]
     },
     "metadata": {},
     "output_type": "display_data"
    },
    {
     "name": "stdout",
     "output_type": "stream",
     "text": [
      "------------\n",
      "Cygnus columbianus  -  Tundra Swan ( bWHSWx )\n"
     ]
    },
    {
     "data": {
      "text/plain": [
       "{'AphiaID': 159088,\n",
       " 'MatchMethod': 'Exact Match',\n",
       " 'MatchString': 'Cygnus columbianus',\n",
       " 'cacheDate': '2017-07-26T15:18:26.377476',\n",
       " 'class': 'Aves',\n",
       " 'family': 'Anatidae',\n",
       " 'genus': 'Cygnus',\n",
       " 'isBrackish': None,\n",
       " 'isExtinct': None,\n",
       " 'isFreshwater': 1,\n",
       " 'isMarine': 0,\n",
       " 'isTerrestrial': None,\n",
       " 'kingdom': 'Animalia',\n",
       " 'lsid': 'urn:lsid:marinespecies.org:taxname:159088',\n",
       " 'match_type': 'exact',\n",
       " 'modified': '2011-04-27T11:01:37Z',\n",
       " 'order': 'Anseriformes',\n",
       " 'phylum': 'Chordata',\n",
       " 'rank': 'Species',\n",
       " 'scientificname': 'Cygnus columbianus',\n",
       " 'status': 'accepted',\n",
       " 'unacceptreason': None,\n",
       " 'valid_AphiaID': 159088,\n",
       " 'valid_name': 'Cygnus columbianus'}"
      ]
     },
     "metadata": {},
     "output_type": "display_data"
    },
    {
     "name": "stdout",
     "output_type": "stream",
     "text": [
      "------------\n",
      "Athene cunicularia floridana  -  Florida Burrowing Owl ( bBUOWf )\n"
     ]
    },
    {
     "data": {
      "text/plain": [
       "{'AphiaID': 422611,\n",
       " 'MatchMethod': 'Exact Match',\n",
       " 'MatchString': 'Athene cunicularia',\n",
       " 'cacheDate': '2017-07-26T15:21:35.938473',\n",
       " 'class': 'Aves',\n",
       " 'family': 'Strigidae',\n",
       " 'genus': 'Athene',\n",
       " 'isBrackish': 0,\n",
       " 'isExtinct': None,\n",
       " 'isFreshwater': None,\n",
       " 'isMarine': 0,\n",
       " 'isTerrestrial': None,\n",
       " 'kingdom': 'Animalia',\n",
       " 'lsid': 'urn:lsid:marinespecies.org:taxname:422611',\n",
       " 'match_type': 'exact',\n",
       " 'modified': '2011-04-08T08:18:06Z',\n",
       " 'order': 'Strigiformes',\n",
       " 'phylum': 'Chordata',\n",
       " 'rank': 'Species',\n",
       " 'scientificname': 'Athene cunicularia',\n",
       " 'status': 'accepted',\n",
       " 'unacceptreason': None,\n",
       " 'valid_AphiaID': 422611,\n",
       " 'valid_name': 'Athene cunicularia'}"
      ]
     },
     "metadata": {},
     "output_type": "display_data"
    },
    {
     "name": "stdout",
     "output_type": "stream",
     "text": [
      "------------\n",
      "Dendroica castanea  -  Bay-breasted Warbler ( bBBWAx )\n"
     ]
    },
    {
     "data": {
      "text/plain": [
       "{'AphiaID': 422645,\n",
       " 'MatchMethod': 'Exact Match',\n",
       " 'MatchString': 'Dendroica castanea',\n",
       " 'cacheDate': '2017-07-26T15:22:31.173038',\n",
       " 'class': 'Aves',\n",
       " 'family': 'Parulidae',\n",
       " 'genus': 'Dendroica',\n",
       " 'isBrackish': 0,\n",
       " 'isExtinct': None,\n",
       " 'isFreshwater': None,\n",
       " 'isMarine': 0,\n",
       " 'isTerrestrial': None,\n",
       " 'kingdom': 'Animalia',\n",
       " 'lsid': 'urn:lsid:marinespecies.org:taxname:422645',\n",
       " 'match_type': 'exact',\n",
       " 'modified': '2011-04-08T08:18:06Z',\n",
       " 'order': 'Passeriformes',\n",
       " 'phylum': 'Chordata',\n",
       " 'rank': 'Species',\n",
       " 'scientificname': 'Dendroica castanea',\n",
       " 'status': 'accepted',\n",
       " 'unacceptreason': None,\n",
       " 'valid_AphiaID': 422645,\n",
       " 'valid_name': 'Dendroica castanea'}"
      ]
     },
     "metadata": {},
     "output_type": "display_data"
    },
    {
     "name": "stdout",
     "output_type": "stream",
     "text": [
      "------------\n",
      "Progne subis  -  Purple Martin ( bPUMAx )\n"
     ]
    },
    {
     "data": {
      "text/plain": [
       "{'AphiaID': 225991,\n",
       " 'MatchMethod': 'Exact Match',\n",
       " 'MatchString': 'Progne subis',\n",
       " 'cacheDate': '2017-07-26T15:22:49.779559',\n",
       " 'class': 'Aves',\n",
       " 'family': 'Hirundinidae',\n",
       " 'genus': 'Progne',\n",
       " 'isBrackish': 0,\n",
       " 'isExtinct': None,\n",
       " 'isFreshwater': None,\n",
       " 'isMarine': 0,\n",
       " 'isTerrestrial': None,\n",
       " 'kingdom': 'Animalia',\n",
       " 'lsid': 'urn:lsid:marinespecies.org:taxname:225991',\n",
       " 'match_type': 'exact',\n",
       " 'modified': '2011-04-27T11:01:37Z',\n",
       " 'order': 'Passeriformes',\n",
       " 'phylum': 'Chordata',\n",
       " 'rank': 'Species',\n",
       " 'scientificname': 'Progne subis',\n",
       " 'status': 'accepted',\n",
       " 'unacceptreason': None,\n",
       " 'valid_AphiaID': 225991,\n",
       " 'valid_name': 'Progne subis'}"
      ]
     },
     "metadata": {},
     "output_type": "display_data"
    },
    {
     "name": "stdout",
     "output_type": "stream",
     "text": [
      "------------\n",
      "Mus musculus  -  House Mouse ( mHOMOx )\n"
     ]
    },
    {
     "data": {
      "text/plain": [
       "{'AphiaID': 993616,\n",
       " 'MatchMethod': 'Exact Match',\n",
       " 'MatchString': 'Mus musculus',\n",
       " 'cacheDate': '2017-07-26T15:23:45.747246',\n",
       " 'class': 'Mammalia',\n",
       " 'family': 'Muridae',\n",
       " 'genus': 'Mus',\n",
       " 'isBrackish': 0,\n",
       " 'isExtinct': None,\n",
       " 'isFreshwater': 0,\n",
       " 'isMarine': 0,\n",
       " 'isTerrestrial': 1,\n",
       " 'kingdom': 'Animalia',\n",
       " 'lsid': 'urn:lsid:marinespecies.org:taxname:993616',\n",
       " 'match_type': 'exact',\n",
       " 'modified': '2017-05-30T15:14:47Z',\n",
       " 'order': 'Rodentia',\n",
       " 'phylum': 'Chordata',\n",
       " 'rank': 'Species',\n",
       " 'scientificname': 'Mus musculus',\n",
       " 'status': 'accepted',\n",
       " 'unacceptreason': None,\n",
       " 'valid_AphiaID': 993616,\n",
       " 'valid_name': 'Mus musculus'}"
      ]
     },
     "metadata": {},
     "output_type": "display_data"
    },
    {
     "name": "stdout",
     "output_type": "stream",
     "text": [
      "------------\n",
      "Dendroica fusca  -  Blackburnian Warbler ( bBLBWx )\n"
     ]
    },
    {
     "data": {
      "text/plain": [
       "{'AphiaID': 422641,\n",
       " 'MatchMethod': 'Exact Match',\n",
       " 'MatchString': 'Dendroica fusca',\n",
       " 'cacheDate': '2017-07-26T15:24:09.985273',\n",
       " 'class': 'Aves',\n",
       " 'family': 'Parulidae',\n",
       " 'genus': 'Dendroica',\n",
       " 'isBrackish': 0,\n",
       " 'isExtinct': None,\n",
       " 'isFreshwater': None,\n",
       " 'isMarine': 0,\n",
       " 'isTerrestrial': None,\n",
       " 'kingdom': 'Animalia',\n",
       " 'lsid': 'urn:lsid:marinespecies.org:taxname:422641',\n",
       " 'match_type': 'exact',\n",
       " 'modified': '2011-04-08T08:18:06Z',\n",
       " 'order': 'Passeriformes',\n",
       " 'phylum': 'Chordata',\n",
       " 'rank': 'Species',\n",
       " 'scientificname': 'Dendroica fusca',\n",
       " 'status': 'accepted',\n",
       " 'unacceptreason': None,\n",
       " 'valid_AphiaID': 422641,\n",
       " 'valid_name': 'Dendroica fusca'}"
      ]
     },
     "metadata": {},
     "output_type": "display_data"
    },
    {
     "name": "stdout",
     "output_type": "stream",
     "text": [
      "------------\n",
      "Cathartes aura  -  Turkey Vulture ( bTUVUx )\n"
     ]
    },
    {
     "data": {
      "text/plain": [
       "{'AphiaID': 159144,\n",
       " 'MatchMethod': 'Exact Match',\n",
       " 'MatchString': 'Cathartes aura',\n",
       " 'cacheDate': '2017-07-26T14:27:37.595065',\n",
       " 'class': 'Aves',\n",
       " 'family': 'Cathartidae',\n",
       " 'genus': 'Cathartes',\n",
       " 'isBrackish': 0,\n",
       " 'isExtinct': None,\n",
       " 'isFreshwater': 0,\n",
       " 'isMarine': 0,\n",
       " 'isTerrestrial': None,\n",
       " 'kingdom': 'Animalia',\n",
       " 'lsid': 'urn:lsid:marinespecies.org:taxname:159144',\n",
       " 'match_type': 'exact',\n",
       " 'modified': '2011-04-27T11:01:37Z',\n",
       " 'order': 'Accipitriformes',\n",
       " 'phylum': 'Chordata',\n",
       " 'rank': 'Species',\n",
       " 'scientificname': 'Cathartes aura',\n",
       " 'status': 'accepted',\n",
       " 'unacceptreason': None,\n",
       " 'valid_AphiaID': 159144,\n",
       " 'valid_name': 'Cathartes aura'}"
      ]
     },
     "metadata": {},
     "output_type": "display_data"
    },
    {
     "name": "stdout",
     "output_type": "stream",
     "text": [
      "------------\n",
      "Cairina moschata  -  Muscovy Duck ( bMUDUx )\n"
     ]
    },
    {
     "data": {
      "text/plain": [
       "{'AphiaID': 422571,\n",
       " 'MatchMethod': 'Exact Match',\n",
       " 'MatchString': 'Cairina moschata',\n",
       " 'cacheDate': '2017-07-26T14:30:41.748918',\n",
       " 'class': 'Aves',\n",
       " 'family': 'Anatidae',\n",
       " 'genus': 'Cairina',\n",
       " 'isBrackish': None,\n",
       " 'isExtinct': None,\n",
       " 'isFreshwater': 1,\n",
       " 'isMarine': 0,\n",
       " 'isTerrestrial': None,\n",
       " 'kingdom': 'Animalia',\n",
       " 'lsid': 'urn:lsid:marinespecies.org:taxname:422571',\n",
       " 'match_type': 'exact',\n",
       " 'modified': '2011-04-08T08:18:06Z',\n",
       " 'order': 'Anseriformes',\n",
       " 'phylum': 'Chordata',\n",
       " 'rank': 'Species',\n",
       " 'scientificname': 'Cairina moschata',\n",
       " 'status': 'accepted',\n",
       " 'unacceptreason': None,\n",
       " 'valid_AphiaID': 422571,\n",
       " 'valid_name': 'Cairina moschata'}"
      ]
     },
     "metadata": {},
     "output_type": "display_data"
    },
    {
     "name": "stdout",
     "output_type": "stream",
     "text": [
      "------------\n",
      "Ardea herodias  -  Great Blue Heron ( bGBHEx )\n"
     ]
    },
    {
     "data": {
      "text/plain": [
       "{'AphiaID': 159382,\n",
       " 'MatchMethod': 'Exact Match',\n",
       " 'MatchString': 'Ardea herodias',\n",
       " 'cacheDate': '2017-07-26T15:16:21.282073',\n",
       " 'class': 'Aves',\n",
       " 'family': 'Ardeidae',\n",
       " 'genus': 'Ardea',\n",
       " 'isBrackish': 1,\n",
       " 'isExtinct': None,\n",
       " 'isFreshwater': 1,\n",
       " 'isMarine': 0,\n",
       " 'isTerrestrial': 1,\n",
       " 'kingdom': 'Animalia',\n",
       " 'lsid': 'urn:lsid:marinespecies.org:taxname:159382',\n",
       " 'match_type': 'exact',\n",
       " 'modified': '2011-04-08T08:18:06Z',\n",
       " 'order': 'Ciconiiformes',\n",
       " 'phylum': 'Chordata',\n",
       " 'rank': 'Species',\n",
       " 'scientificname': 'Ardea herodias',\n",
       " 'status': 'accepted',\n",
       " 'unacceptreason': None,\n",
       " 'valid_AphiaID': 159382,\n",
       " 'valid_name': 'Ardea herodias'}"
      ]
     },
     "metadata": {},
     "output_type": "display_data"
    },
    {
     "name": "stdout",
     "output_type": "stream",
     "text": [
      "------------\n",
      "Dendroica tigrina  -  Cape May Warbler ( bCMWAx )\n"
     ]
    },
    {
     "data": {
      "text/plain": [
       "{'AphiaID': 422637,\n",
       " 'MatchMethod': 'Exact Match',\n",
       " 'MatchString': 'Dendroica tigrina',\n",
       " 'cacheDate': '2017-07-26T15:16:30.592901',\n",
       " 'class': 'Aves',\n",
       " 'family': 'Parulidae',\n",
       " 'genus': 'Dendroica',\n",
       " 'isBrackish': 0,\n",
       " 'isExtinct': None,\n",
       " 'isFreshwater': None,\n",
       " 'isMarine': 0,\n",
       " 'isTerrestrial': None,\n",
       " 'kingdom': 'Animalia',\n",
       " 'lsid': 'urn:lsid:marinespecies.org:taxname:422637',\n",
       " 'match_type': 'exact',\n",
       " 'modified': '2011-04-08T08:18:06Z',\n",
       " 'order': 'Passeriformes',\n",
       " 'phylum': 'Chordata',\n",
       " 'rank': 'Species',\n",
       " 'scientificname': 'Dendroica tigrina',\n",
       " 'status': 'accepted',\n",
       " 'unacceptreason': None,\n",
       " 'valid_AphiaID': 422637,\n",
       " 'valid_name': 'Dendroica tigrina'}"
      ]
     },
     "metadata": {},
     "output_type": "display_data"
    },
    {
     "name": "stdout",
     "output_type": "stream",
     "text": [
      "------------\n",
      "Phalacrocorax brasilianus  -  Neotropic Cormorant ( bNECOx )\n"
     ]
    },
    {
     "data": {
      "text/plain": [
       "{'AphiaID': 343939,\n",
       " 'MatchMethod': 'Exact Match',\n",
       " 'MatchString': 'Phalacrocorax brasilianus',\n",
       " 'cacheDate': '2017-07-26T15:16:50.630445',\n",
       " 'class': 'Aves',\n",
       " 'family': 'Phalacrocoracidae',\n",
       " 'genus': 'Phalacrocorax',\n",
       " 'isBrackish': None,\n",
       " 'isExtinct': None,\n",
       " 'isFreshwater': None,\n",
       " 'isMarine': 1,\n",
       " 'isTerrestrial': None,\n",
       " 'kingdom': 'Animalia',\n",
       " 'lsid': 'urn:lsid:marinespecies.org:taxname:343939',\n",
       " 'match_type': 'exact',\n",
       " 'modified': '2011-04-08T08:18:06Z',\n",
       " 'order': 'Pelecaniformes',\n",
       " 'phylum': 'Chordata',\n",
       " 'rank': 'Species',\n",
       " 'scientificname': 'Phalacrocorax brasilianus',\n",
       " 'status': 'accepted',\n",
       " 'unacceptreason': None,\n",
       " 'valid_AphiaID': 343939,\n",
       " 'valid_name': 'Phalacrocorax brasilianus'}"
      ]
     },
     "metadata": {},
     "output_type": "display_data"
    },
    {
     "name": "stdout",
     "output_type": "stream",
     "text": [
      "------------\n",
      "Zalophus californianus  -  California Sealion ( mCASEx )\n"
     ]
    },
    {
     "data": {
      "text/plain": [
       "{'AphiaID': 255003,\n",
       " 'MatchMethod': 'Exact Match',\n",
       " 'MatchString': 'Zalophus californianus',\n",
       " 'cacheDate': '2017-07-26T14:40:43.372824',\n",
       " 'class': 'Mammalia',\n",
       " 'family': 'Otariidae',\n",
       " 'genus': 'Zalophus',\n",
       " 'isBrackish': None,\n",
       " 'isExtinct': None,\n",
       " 'isFreshwater': None,\n",
       " 'isMarine': 1,\n",
       " 'isTerrestrial': None,\n",
       " 'kingdom': 'Animalia',\n",
       " 'lsid': 'urn:lsid:marinespecies.org:taxname:255003',\n",
       " 'match_type': 'exact',\n",
       " 'modified': '2010-05-20T12:09:50Z',\n",
       " 'order': 'Carnivora',\n",
       " 'phylum': 'Chordata',\n",
       " 'rank': 'Species',\n",
       " 'scientificname': 'Zalophus californianus',\n",
       " 'status': 'accepted',\n",
       " 'unacceptreason': None,\n",
       " 'valid_AphiaID': 255003,\n",
       " 'valid_name': 'Zalophus californianus'}"
      ]
     },
     "metadata": {},
     "output_type": "display_data"
    },
    {
     "name": "stdout",
     "output_type": "stream",
     "text": [
      "------------\n",
      "Rangifer tarandus  -  Caribou ( mCARIx )\n"
     ]
    },
    {
     "data": {
      "text/plain": [
       "{'AphiaID': 993630,\n",
       " 'MatchMethod': 'Exact Match',\n",
       " 'MatchString': 'Rangifer tarandus',\n",
       " 'cacheDate': '2017-07-26T15:09:53.994315',\n",
       " 'class': 'Mammalia',\n",
       " 'family': 'Cervidae',\n",
       " 'genus': 'Rangifer',\n",
       " 'isBrackish': 0,\n",
       " 'isExtinct': None,\n",
       " 'isFreshwater': 0,\n",
       " 'isMarine': 0,\n",
       " 'isTerrestrial': 1,\n",
       " 'kingdom': 'Animalia',\n",
       " 'lsid': 'urn:lsid:marinespecies.org:taxname:993630',\n",
       " 'match_type': 'exact',\n",
       " 'modified': '2017-05-30T15:14:47Z',\n",
       " 'order': 'Artiodactyla',\n",
       " 'phylum': 'Chordata',\n",
       " 'rank': 'Species',\n",
       " 'scientificname': 'Rangifer tarandus',\n",
       " 'status': 'accepted',\n",
       " 'unacceptreason': None,\n",
       " 'valid_AphiaID': 993630,\n",
       " 'valid_name': 'Rangifer tarandus'}"
      ]
     },
     "metadata": {},
     "output_type": "display_data"
    },
    {
     "name": "stdout",
     "output_type": "stream",
     "text": [
      "------------\n",
      "Larus livens  -  Yellow-footed Gull ( bYFGUx )\n"
     ]
    },
    {
     "data": {
      "text/plain": [
       "{'AphiaID': 343914,\n",
       " 'MatchMethod': 'Exact Match',\n",
       " 'MatchString': 'Larus livens',\n",
       " 'cacheDate': '2017-07-26T15:10:18.242902',\n",
       " 'class': 'Aves',\n",
       " 'family': 'Laridae',\n",
       " 'genus': 'Larus',\n",
       " 'isBrackish': None,\n",
       " 'isExtinct': None,\n",
       " 'isFreshwater': None,\n",
       " 'isMarine': 1,\n",
       " 'isTerrestrial': None,\n",
       " 'kingdom': 'Animalia',\n",
       " 'lsid': 'urn:lsid:marinespecies.org:taxname:343914',\n",
       " 'match_type': 'exact',\n",
       " 'modified': '2011-04-08T08:18:06Z',\n",
       " 'order': 'Charadriiformes',\n",
       " 'phylum': 'Chordata',\n",
       " 'rank': 'Species',\n",
       " 'scientificname': 'Larus livens',\n",
       " 'status': 'accepted',\n",
       " 'unacceptreason': None,\n",
       " 'valid_AphiaID': 343914,\n",
       " 'valid_name': 'Larus livens'}"
      ]
     },
     "metadata": {},
     "output_type": "display_data"
    },
    {
     "name": "stdout",
     "output_type": "stream",
     "text": [
      "------------\n",
      "Thalasseus maximus  -  Royal Tern ( bROYTx )\n"
     ]
    },
    {
     "data": {
      "text/plain": [
       "{'AphiaID': 413040,\n",
       " 'MatchMethod': 'Exact Match',\n",
       " 'MatchString': 'Thalasseus maximus',\n",
       " 'cacheDate': '2017-07-26T15:10:56.535093',\n",
       " 'class': 'Aves',\n",
       " 'family': 'Sternidae',\n",
       " 'genus': 'Thalasseus',\n",
       " 'isBrackish': None,\n",
       " 'isExtinct': None,\n",
       " 'isFreshwater': None,\n",
       " 'isMarine': 1,\n",
       " 'isTerrestrial': None,\n",
       " 'kingdom': 'Animalia',\n",
       " 'lsid': 'urn:lsid:marinespecies.org:taxname:413040',\n",
       " 'match_type': 'exact',\n",
       " 'modified': '2011-04-08T08:18:06Z',\n",
       " 'order': 'Charadriiformes',\n",
       " 'phylum': 'Chordata',\n",
       " 'rank': 'Species',\n",
       " 'scientificname': 'Thalasseus maximus',\n",
       " 'status': 'unaccepted',\n",
       " 'unacceptreason': None,\n",
       " 'valid_AphiaID': 137163,\n",
       " 'valid_name': 'Sterna maxima'}"
      ]
     },
     "metadata": {},
     "output_type": "display_data"
    },
    {
     "name": "stdout",
     "output_type": "stream",
     "text": [
      "------------\n",
      "Rallus limicola  -  Virginia Rail ( bVIRAx )\n"
     ]
    },
    {
     "data": {
      "text/plain": [
       "{'AphiaID': 159744,\n",
       " 'MatchMethod': 'Exact Match',\n",
       " 'MatchString': 'Rallus limicola',\n",
       " 'cacheDate': '2017-07-26T15:11:30.111769',\n",
       " 'class': 'Aves',\n",
       " 'family': 'Rallidae',\n",
       " 'genus': 'Rallus',\n",
       " 'isBrackish': 0,\n",
       " 'isExtinct': None,\n",
       " 'isFreshwater': 1,\n",
       " 'isMarine': 0,\n",
       " 'isTerrestrial': None,\n",
       " 'kingdom': 'Animalia',\n",
       " 'lsid': 'urn:lsid:marinespecies.org:taxname:159744',\n",
       " 'match_type': 'exact',\n",
       " 'modified': '2011-04-08T08:18:06Z',\n",
       " 'order': 'Gruiformes',\n",
       " 'phylum': 'Chordata',\n",
       " 'rank': 'Species',\n",
       " 'scientificname': 'Rallus limicola',\n",
       " 'status': 'accepted',\n",
       " 'unacceptreason': None,\n",
       " 'valid_AphiaID': 159744,\n",
       " 'valid_name': 'Rallus limicola'}"
      ]
     },
     "metadata": {},
     "output_type": "display_data"
    },
    {
     "name": "stdout",
     "output_type": "stream",
     "text": [
      "------------\n",
      "Nerodia fasciata  -  Southern Watersnake ( rSOWAx )\n"
     ]
    },
    {
     "data": {
      "text/plain": [
       "{'AphiaID': 344094,\n",
       " 'MatchMethod': 'Exact Match',\n",
       " 'MatchString': 'Nerodia fasciata',\n",
       " 'cacheDate': '2017-07-26T15:11:56.333760',\n",
       " 'class': 'Reptilia',\n",
       " 'family': 'Colubridae',\n",
       " 'genus': 'Nerodia',\n",
       " 'isBrackish': 1,\n",
       " 'isExtinct': None,\n",
       " 'isFreshwater': 1,\n",
       " 'isMarine': 1,\n",
       " 'isTerrestrial': None,\n",
       " 'kingdom': 'Animalia',\n",
       " 'lsid': 'urn:lsid:marinespecies.org:taxname:344094',\n",
       " 'match_type': 'exact',\n",
       " 'modified': '2009-07-01T11:53:39Z',\n",
       " 'order': 'Squamata',\n",
       " 'phylum': 'Chordata',\n",
       " 'rank': 'Species',\n",
       " 'scientificname': 'Nerodia fasciata',\n",
       " 'status': 'accepted',\n",
       " 'unacceptreason': None,\n",
       " 'valid_AphiaID': 344094,\n",
       " 'valid_name': 'Nerodia fasciata'}"
      ]
     },
     "metadata": {},
     "output_type": "display_data"
    },
    {
     "name": "stdout",
     "output_type": "stream",
     "text": [
      "------------\n",
      "Dendroica pensylvanica  -  Chestnut-sided Warbler ( bCSWAx )\n"
     ]
    },
    {
     "data": {
      "text/plain": [
       "{'AphiaID': 422635,\n",
       " 'MatchMethod': 'Exact Match',\n",
       " 'MatchString': 'Dendroica pensylvanica',\n",
       " 'cacheDate': '2017-07-26T15:12:05.283165',\n",
       " 'class': 'Aves',\n",
       " 'family': 'Parulidae',\n",
       " 'genus': 'Dendroica',\n",
       " 'isBrackish': 0,\n",
       " 'isExtinct': None,\n",
       " 'isFreshwater': None,\n",
       " 'isMarine': 0,\n",
       " 'isTerrestrial': None,\n",
       " 'kingdom': 'Animalia',\n",
       " 'lsid': 'urn:lsid:marinespecies.org:taxname:422635',\n",
       " 'match_type': 'exact',\n",
       " 'modified': '2011-04-08T08:18:06Z',\n",
       " 'order': 'Passeriformes',\n",
       " 'phylum': 'Chordata',\n",
       " 'rank': 'Species',\n",
       " 'scientificname': 'Dendroica pensylvanica',\n",
       " 'status': 'accepted',\n",
       " 'unacceptreason': None,\n",
       " 'valid_AphiaID': 422635,\n",
       " 'valid_name': 'Dendroica pensylvanica'}"
      ]
     },
     "metadata": {},
     "output_type": "display_data"
    },
    {
     "name": "stdout",
     "output_type": "stream",
     "text": [
      "------------\n",
      "Gavia pacifica  -  Pacific Loon ( bPALOx )\n"
     ]
    },
    {
     "data": {
      "text/plain": [
       "{'AphiaID': 422575,\n",
       " 'MatchMethod': 'Exact Match',\n",
       " 'MatchString': 'Gavia pacifica',\n",
       " 'cacheDate': '2017-07-26T15:12:34.502327',\n",
       " 'class': 'Aves',\n",
       " 'family': 'Gaviidae',\n",
       " 'genus': 'Gavia',\n",
       " 'isBrackish': 0,\n",
       " 'isExtinct': None,\n",
       " 'isFreshwater': 1,\n",
       " 'isMarine': 0,\n",
       " 'isTerrestrial': None,\n",
       " 'kingdom': 'Animalia',\n",
       " 'lsid': 'urn:lsid:marinespecies.org:taxname:422575',\n",
       " 'match_type': 'exact',\n",
       " 'modified': '2011-04-08T08:18:06Z',\n",
       " 'order': 'Gaviiformes',\n",
       " 'phylum': 'Chordata',\n",
       " 'rank': 'Species',\n",
       " 'scientificname': 'Gavia pacifica',\n",
       " 'status': 'accepted',\n",
       " 'unacceptreason': None,\n",
       " 'valid_AphiaID': 422575,\n",
       " 'valid_name': 'Gavia pacifica'}"
      ]
     },
     "metadata": {},
     "output_type": "display_data"
    },
    {
     "name": "stdout",
     "output_type": "stream",
     "text": [
      "------------\n",
      "Phalacrocorax carbo  -  Great Cormorant ( bGRCOx )\n"
     ]
    },
    {
     "data": {
      "text/plain": [
       "{'AphiaID': 137179,\n",
       " 'MatchMethod': 'Exact Match',\n",
       " 'MatchString': 'Phalacrocorax carbo',\n",
       " 'cacheDate': '2017-07-26T15:12:57.054016',\n",
       " 'class': 'Aves',\n",
       " 'family': 'Phalacrocoracidae',\n",
       " 'genus': 'Phalacrocorax',\n",
       " 'isBrackish': 1,\n",
       " 'isExtinct': None,\n",
       " 'isFreshwater': 1,\n",
       " 'isMarine': 1,\n",
       " 'isTerrestrial': None,\n",
       " 'kingdom': 'Animalia',\n",
       " 'lsid': 'urn:lsid:marinespecies.org:taxname:137179',\n",
       " 'match_type': 'exact',\n",
       " 'modified': '2011-04-08T08:18:06Z',\n",
       " 'order': 'Pelecaniformes',\n",
       " 'phylum': 'Chordata',\n",
       " 'rank': 'Species',\n",
       " 'scientificname': 'Phalacrocorax carbo',\n",
       " 'status': 'accepted',\n",
       " 'unacceptreason': None,\n",
       " 'valid_AphiaID': 137179,\n",
       " 'valid_name': 'Phalacrocorax carbo'}"
      ]
     },
     "metadata": {},
     "output_type": "display_data"
    },
    {
     "name": "stdout",
     "output_type": "stream",
     "text": [
      "------------\n",
      "Oceanodroma furcata  -  Fork-tailed Storm-petrel ( bFTSPx )\n"
     ]
    },
    {
     "data": {
      "text/plain": [
       "{'AphiaID': 343962,\n",
       " 'MatchMethod': 'Exact Match',\n",
       " 'MatchString': 'Oceanodroma furcata',\n",
       " 'cacheDate': '2017-07-26T15:13:21.119232',\n",
       " 'class': 'Aves',\n",
       " 'family': 'Hydrobatidae',\n",
       " 'genus': 'Oceanodroma',\n",
       " 'isBrackish': None,\n",
       " 'isExtinct': None,\n",
       " 'isFreshwater': None,\n",
       " 'isMarine': 1,\n",
       " 'isTerrestrial': None,\n",
       " 'kingdom': 'Animalia',\n",
       " 'lsid': 'urn:lsid:marinespecies.org:taxname:343962',\n",
       " 'match_type': 'exact',\n",
       " 'modified': '2011-04-08T08:18:06Z',\n",
       " 'order': 'Procellariiformes',\n",
       " 'phylum': 'Chordata',\n",
       " 'rank': 'Species',\n",
       " 'scientificname': 'Oceanodroma furcata',\n",
       " 'status': 'accepted',\n",
       " 'unacceptreason': None,\n",
       " 'valid_AphiaID': 343962,\n",
       " 'valid_name': 'Oceanodroma furcata'}"
      ]
     },
     "metadata": {},
     "output_type": "display_data"
    },
    {
     "name": "stdout",
     "output_type": "stream",
     "text": [
      "------------\n",
      "Anas cyanoptera  -  Cinnamon Teal ( bCITEx )\n"
     ]
    },
    {
     "data": {
      "text/plain": [
       "{'AphiaID': 225906,\n",
       " 'MatchMethod': 'Exact Match',\n",
       " 'MatchString': 'Anas cyanoptera',\n",
       " 'cacheDate': '2017-07-26T15:13:22.565743',\n",
       " 'class': 'Aves',\n",
       " 'family': 'Anatidae',\n",
       " 'genus': 'Anas',\n",
       " 'isBrackish': 1,\n",
       " 'isExtinct': None,\n",
       " 'isFreshwater': 1,\n",
       " 'isMarine': 1,\n",
       " 'isTerrestrial': None,\n",
       " 'kingdom': 'Animalia',\n",
       " 'lsid': 'urn:lsid:marinespecies.org:taxname:225906',\n",
       " 'match_type': 'exact',\n",
       " 'modified': '2011-04-27T11:01:37Z',\n",
       " 'order': 'Anseriformes',\n",
       " 'phylum': 'Chordata',\n",
       " 'rank': 'Species',\n",
       " 'scientificname': 'Anas cyanoptera',\n",
       " 'status': 'accepted',\n",
       " 'unacceptreason': None,\n",
       " 'valid_AphiaID': 225906,\n",
       " 'valid_name': 'Anas cyanoptera'}"
      ]
     },
     "metadata": {},
     "output_type": "display_data"
    },
    {
     "name": "stdout",
     "output_type": "stream",
     "text": [
      "------------\n",
      "Charadrius wilsonia  -  Wilson's Plover ( bWIPLx )\n"
     ]
    },
    {
     "data": {
      "text/plain": [
       "{'AphiaID': 366844,\n",
       " 'MatchMethod': 'Exact Match',\n",
       " 'MatchString': 'Charadrius wilsonia',\n",
       " 'cacheDate': '2017-07-26T15:13:30.080964',\n",
       " 'class': 'Aves',\n",
       " 'family': 'Charadriidae',\n",
       " 'genus': 'Charadrius',\n",
       " 'isBrackish': None,\n",
       " 'isExtinct': None,\n",
       " 'isFreshwater': None,\n",
       " 'isMarine': 1,\n",
       " 'isTerrestrial': None,\n",
       " 'kingdom': 'Animalia',\n",
       " 'lsid': 'urn:lsid:marinespecies.org:taxname:366844',\n",
       " 'match_type': 'exact',\n",
       " 'modified': '2011-04-08T08:18:06Z',\n",
       " 'order': 'Charadriiformes',\n",
       " 'phylum': 'Chordata',\n",
       " 'rank': 'Species',\n",
       " 'scientificname': 'Charadrius wilsonia',\n",
       " 'status': 'accepted',\n",
       " 'unacceptreason': None,\n",
       " 'valid_AphiaID': 366844,\n",
       " 'valid_name': 'Charadrius wilsonia'}"
      ]
     },
     "metadata": {},
     "output_type": "display_data"
    },
    {
     "name": "stdout",
     "output_type": "stream",
     "text": [
      "------------\n",
      "Platalea ajaja  -  Roseate Spoonbill ( bROSPx )\n"
     ]
    },
    {
     "data": {
      "text/plain": [
       "{'AphiaID': 422584,\n",
       " 'MatchMethod': 'Exact Match',\n",
       " 'MatchString': 'Platalea ajaja',\n",
       " 'cacheDate': '2017-07-26T15:13:41.981689',\n",
       " 'class': 'Aves',\n",
       " 'family': 'Threskiornithidae',\n",
       " 'genus': 'Platalea',\n",
       " 'isBrackish': 1,\n",
       " 'isExtinct': None,\n",
       " 'isFreshwater': 1,\n",
       " 'isMarine': 1,\n",
       " 'isTerrestrial': None,\n",
       " 'kingdom': 'Animalia',\n",
       " 'lsid': 'urn:lsid:marinespecies.org:taxname:422584',\n",
       " 'match_type': 'exact',\n",
       " 'modified': '2011-04-08T08:18:06Z',\n",
       " 'order': 'Ciconiiformes',\n",
       " 'phylum': 'Chordata',\n",
       " 'rank': 'Species',\n",
       " 'scientificname': 'Platalea ajaja',\n",
       " 'status': 'accepted',\n",
       " 'unacceptreason': None,\n",
       " 'valid_AphiaID': 422584,\n",
       " 'valid_name': 'Platalea ajaja'}"
      ]
     },
     "metadata": {},
     "output_type": "display_data"
    },
    {
     "name": "stdout",
     "output_type": "stream",
     "text": [
      "------------\n",
      "Calidris himantopus  -  Stilt Sandpiper ( bSTSAx )\n"
     ]
    },
    {
     "data": {
      "text/plain": [
       "{'AphiaID': 159051,\n",
       " 'MatchMethod': 'Exact Match',\n",
       " 'MatchString': 'Calidris himantopus',\n",
       " 'cacheDate': '2017-07-26T15:13:56.780025',\n",
       " 'class': 'Aves',\n",
       " 'family': 'Scolopacidae',\n",
       " 'genus': 'Calidris',\n",
       " 'isBrackish': None,\n",
       " 'isExtinct': None,\n",
       " 'isFreshwater': None,\n",
       " 'isMarine': 1,\n",
       " 'isTerrestrial': None,\n",
       " 'kingdom': 'Animalia',\n",
       " 'lsid': 'urn:lsid:marinespecies.org:taxname:159051',\n",
       " 'match_type': 'exact',\n",
       " 'modified': '2011-04-27T11:01:37Z',\n",
       " 'order': 'Charadriiformes',\n",
       " 'phylum': 'Chordata',\n",
       " 'rank': 'Species',\n",
       " 'scientificname': 'Calidris himantopus',\n",
       " 'status': 'accepted',\n",
       " 'unacceptreason': None,\n",
       " 'valid_AphiaID': 159051,\n",
       " 'valid_name': 'Calidris himantopus'}"
      ]
     },
     "metadata": {},
     "output_type": "display_data"
    },
    {
     "name": "stdout",
     "output_type": "stream",
     "text": [
      "------------\n",
      "Pandion haliaetus  -  Osprey ( bOSPRx )\n"
     ]
    },
    {
     "data": {
      "text/plain": [
       "{'AphiaID': 159377,\n",
       " 'MatchMethod': 'Exact Match',\n",
       " 'MatchString': 'Pandion haliaetus',\n",
       " 'cacheDate': '2017-07-26T15:14:05.243479',\n",
       " 'class': 'Aves',\n",
       " 'family': 'Accipitridae',\n",
       " 'genus': 'Pandion',\n",
       " 'isBrackish': 0,\n",
       " 'isExtinct': None,\n",
       " 'isFreshwater': 1,\n",
       " 'isMarine': 0,\n",
       " 'isTerrestrial': None,\n",
       " 'kingdom': 'Animalia',\n",
       " 'lsid': 'urn:lsid:marinespecies.org:taxname:159377',\n",
       " 'match_type': 'exact',\n",
       " 'modified': '2011-04-27T11:01:37Z',\n",
       " 'order': 'Falconiformes',\n",
       " 'phylum': 'Chordata',\n",
       " 'rank': 'Species',\n",
       " 'scientificname': 'Pandion haliaetus',\n",
       " 'status': 'accepted',\n",
       " 'unacceptreason': None,\n",
       " 'valid_AphiaID': 159377,\n",
       " 'valid_name': 'Pandion haliaetus'}"
      ]
     },
     "metadata": {},
     "output_type": "display_data"
    },
    {
     "name": "stdout",
     "output_type": "stream",
     "text": [
      "------------\n",
      "Seiurus aurocapilla  -  Ovenbird ( bOVENx )\n"
     ]
    },
    {
     "data": {
      "text/plain": [
       "{'AphiaID': 422653,\n",
       " 'MatchMethod': 'Exact Match',\n",
       " 'MatchString': 'Seiurus aurocapilla',\n",
       " 'cacheDate': '2017-07-26T15:14:06.486383',\n",
       " 'class': 'Aves',\n",
       " 'family': 'Parulidae',\n",
       " 'genus': 'Seiurus',\n",
       " 'isBrackish': 0,\n",
       " 'isExtinct': None,\n",
       " 'isFreshwater': None,\n",
       " 'isMarine': 0,\n",
       " 'isTerrestrial': None,\n",
       " 'kingdom': 'Animalia',\n",
       " 'lsid': 'urn:lsid:marinespecies.org:taxname:422653',\n",
       " 'match_type': 'exact',\n",
       " 'modified': '2011-04-08T08:18:06Z',\n",
       " 'order': 'Passeriformes',\n",
       " 'phylum': 'Chordata',\n",
       " 'rank': 'Species',\n",
       " 'scientificname': 'Seiurus aurocapilla',\n",
       " 'status': 'accepted',\n",
       " 'unacceptreason': None,\n",
       " 'valid_AphiaID': 422653,\n",
       " 'valid_name': 'Seiurus aurocapilla'}"
      ]
     },
     "metadata": {},
     "output_type": "display_data"
    },
    {
     "name": "stdout",
     "output_type": "stream",
     "text": [
      "------------\n",
      "Wilsonia canadensis  -  Canada Warbler ( bCAWAx )\n"
     ]
    },
    {
     "data": {
      "text/plain": [
       "{'AphiaID': 422663,\n",
       " 'MatchMethod': 'Exact Match',\n",
       " 'MatchString': 'Wilsonia canadensis',\n",
       " 'cacheDate': '2017-07-26T15:14:21.381709',\n",
       " 'class': 'Aves',\n",
       " 'family': 'Parulidae',\n",
       " 'genus': 'Wilsonia',\n",
       " 'isBrackish': 0,\n",
       " 'isExtinct': None,\n",
       " 'isFreshwater': None,\n",
       " 'isMarine': 0,\n",
       " 'isTerrestrial': None,\n",
       " 'kingdom': 'Animalia',\n",
       " 'lsid': 'urn:lsid:marinespecies.org:taxname:422663',\n",
       " 'match_type': 'exact',\n",
       " 'modified': '2011-04-08T08:18:06Z',\n",
       " 'order': 'Passeriformes',\n",
       " 'phylum': 'Chordata',\n",
       " 'rank': 'Species',\n",
       " 'scientificname': 'Wilsonia canadensis',\n",
       " 'status': 'accepted',\n",
       " 'unacceptreason': None,\n",
       " 'valid_AphiaID': 422663,\n",
       " 'valid_name': 'Wilsonia canadensis'}"
      ]
     },
     "metadata": {},
     "output_type": "display_data"
    },
    {
     "name": "stdout",
     "output_type": "stream",
     "text": [
      "------------\n",
      "Rallus longirostris  -  Clapper Rail ( bCLRAx )\n"
     ]
    },
    {
     "data": {
      "text/plain": [
       "{'AphiaID': 159745,\n",
       " 'MatchMethod': 'Exact Match',\n",
       " 'MatchString': 'Rallus longirostris',\n",
       " 'cacheDate': '2017-07-26T15:14:40.264299',\n",
       " 'class': 'Aves',\n",
       " 'family': 'Rallidae',\n",
       " 'genus': 'Rallus',\n",
       " 'isBrackish': 1,\n",
       " 'isExtinct': None,\n",
       " 'isFreshwater': None,\n",
       " 'isMarine': 0,\n",
       " 'isTerrestrial': None,\n",
       " 'kingdom': 'Animalia',\n",
       " 'lsid': 'urn:lsid:marinespecies.org:taxname:159745',\n",
       " 'match_type': 'exact',\n",
       " 'modified': '2011-04-08T08:18:06Z',\n",
       " 'order': 'Gruiformes',\n",
       " 'phylum': 'Chordata',\n",
       " 'rank': 'Species',\n",
       " 'scientificname': 'Rallus longirostris',\n",
       " 'status': 'accepted',\n",
       " 'unacceptreason': None,\n",
       " 'valid_AphiaID': 159745,\n",
       " 'valid_name': 'Rallus longirostris'}"
      ]
     },
     "metadata": {},
     "output_type": "display_data"
    },
    {
     "name": "stdout",
     "output_type": "stream",
     "text": [
      "------------\n",
      "Trachemys scripta  -  Pond Slider ( rPOSLx )\n"
     ]
    },
    {
     "data": {
      "text/plain": [
       "{'AphiaID': 999901,\n",
       " 'MatchMethod': 'Exact Match',\n",
       " 'MatchString': 'Trachemys scripta',\n",
       " 'cacheDate': '2017-07-26T15:14:50.303690',\n",
       " 'class': 'Reptilia',\n",
       " 'family': 'Emydidae',\n",
       " 'genus': 'Trachemys',\n",
       " 'isBrackish': 0,\n",
       " 'isExtinct': None,\n",
       " 'isFreshwater': 1,\n",
       " 'isMarine': 0,\n",
       " 'isTerrestrial': 0,\n",
       " 'kingdom': 'Animalia',\n",
       " 'lsid': 'urn:lsid:marinespecies.org:taxname:999901',\n",
       " 'match_type': 'exact',\n",
       " 'modified': '2017-06-30T16:20:27Z',\n",
       " 'order': 'Testudines',\n",
       " 'phylum': 'Chordata',\n",
       " 'rank': 'Species',\n",
       " 'scientificname': 'Trachemys scripta',\n",
       " 'status': 'accepted',\n",
       " 'unacceptreason': None,\n",
       " 'valid_AphiaID': 999901,\n",
       " 'valid_name': 'Trachemys scripta'}"
      ]
     },
     "metadata": {},
     "output_type": "display_data"
    },
    {
     "name": "stdout",
     "output_type": "stream",
     "text": [
      "------------\n",
      "Phoenicopterus ruber  -  American Flamingo ( bAMFLx )\n"
     ]
    },
    {
     "data": {
      "text/plain": [
       "{'AphiaID': 212708,\n",
       " 'MatchMethod': 'Exact Match',\n",
       " 'MatchString': 'Phoenicopterus ruber',\n",
       " 'cacheDate': '2017-07-26T15:14:58.153270',\n",
       " 'class': 'Aves',\n",
       " 'family': 'Phoenicopteridae',\n",
       " 'genus': 'Phoenicopterus',\n",
       " 'isBrackish': 1,\n",
       " 'isExtinct': None,\n",
       " 'isFreshwater': None,\n",
       " 'isMarine': None,\n",
       " 'isTerrestrial': None,\n",
       " 'kingdom': 'Animalia',\n",
       " 'lsid': 'urn:lsid:marinespecies.org:taxname:212708',\n",
       " 'match_type': 'exact',\n",
       " 'modified': '2011-04-08T08:18:06Z',\n",
       " 'order': 'Phoenicopteriformes',\n",
       " 'phylum': 'Chordata',\n",
       " 'rank': 'Species',\n",
       " 'scientificname': 'Phoenicopterus ruber',\n",
       " 'status': 'accepted',\n",
       " 'unacceptreason': None,\n",
       " 'valid_AphiaID': 212708,\n",
       " 'valid_name': 'Phoenicopterus ruber'}"
      ]
     },
     "metadata": {},
     "output_type": "display_data"
    },
    {
     "name": "stdout",
     "output_type": "stream",
     "text": [
      "------------\n",
      "Caretta caretta  -  Loggerhead Sea Turtle ( rLOGTx )\n"
     ]
    },
    {
     "data": {
      "text/plain": [
       "{'AphiaID': 137205,\n",
       " 'MatchMethod': 'Exact Match',\n",
       " 'MatchString': 'Caretta caretta',\n",
       " 'cacheDate': '2017-07-26T15:15:40.110651',\n",
       " 'class': 'Reptilia',\n",
       " 'family': 'Cheloniidae',\n",
       " 'genus': 'Caretta',\n",
       " 'isBrackish': None,\n",
       " 'isExtinct': None,\n",
       " 'isFreshwater': None,\n",
       " 'isMarine': 1,\n",
       " 'isTerrestrial': None,\n",
       " 'kingdom': 'Animalia',\n",
       " 'lsid': 'urn:lsid:marinespecies.org:taxname:137205',\n",
       " 'match_type': 'exact',\n",
       " 'modified': '2009-06-30T08:57:17Z',\n",
       " 'order': 'Testudines',\n",
       " 'phylum': 'Chordata',\n",
       " 'rank': 'Species',\n",
       " 'scientificname': 'Caretta caretta',\n",
       " 'status': 'accepted',\n",
       " 'unacceptreason': None,\n",
       " 'valid_AphiaID': 137205,\n",
       " 'valid_name': 'Caretta caretta'}"
      ]
     },
     "metadata": {},
     "output_type": "display_data"
    },
    {
     "name": "stdout",
     "output_type": "stream",
     "text": [
      "------------\n",
      "Coccyzus americanus  -  Yellow-billed Cuckoo ( bYBCUx )\n"
     ]
    },
    {
     "data": {
      "text/plain": [
       "{'AphiaID': 422609,\n",
       " 'MatchMethod': 'Exact Match',\n",
       " 'MatchString': 'Coccyzus americanus',\n",
       " 'cacheDate': '2017-07-26T15:15:59.529333',\n",
       " 'class': 'Aves',\n",
       " 'family': 'Cuculidae',\n",
       " 'genus': 'Coccyzus',\n",
       " 'isBrackish': 0,\n",
       " 'isExtinct': None,\n",
       " 'isFreshwater': None,\n",
       " 'isMarine': 0,\n",
       " 'isTerrestrial': None,\n",
       " 'kingdom': 'Animalia',\n",
       " 'lsid': 'urn:lsid:marinespecies.org:taxname:422609',\n",
       " 'match_type': 'exact',\n",
       " 'modified': '2011-04-08T08:18:06Z',\n",
       " 'order': 'Cuculiformes',\n",
       " 'phylum': 'Chordata',\n",
       " 'rank': 'Species',\n",
       " 'scientificname': 'Coccyzus americanus',\n",
       " 'status': 'accepted',\n",
       " 'unacceptreason': None,\n",
       " 'valid_AphiaID': 422609,\n",
       " 'valid_name': 'Coccyzus americanus'}"
      ]
     },
     "metadata": {},
     "output_type": "display_data"
    },
    {
     "name": "stdout",
     "output_type": "stream",
     "text": [
      "------------\n",
      "Mniotilta varia  -  Black-and-White Warbler ( bBAWWx )\n"
     ]
    },
    {
     "data": {
      "text/plain": [
       "{'AphiaID': 422648,\n",
       " 'MatchMethod': 'Exact Match',\n",
       " 'MatchString': 'Mniotilta varia',\n",
       " 'cacheDate': '2017-07-26T15:16:19.856585',\n",
       " 'class': 'Aves',\n",
       " 'family': 'Parulidae',\n",
       " 'genus': 'Mniotilta',\n",
       " 'isBrackish': 0,\n",
       " 'isExtinct': None,\n",
       " 'isFreshwater': None,\n",
       " 'isMarine': 0,\n",
       " 'isTerrestrial': None,\n",
       " 'kingdom': 'Animalia',\n",
       " 'lsid': 'urn:lsid:marinespecies.org:taxname:422648',\n",
       " 'match_type': 'exact',\n",
       " 'modified': '2011-04-08T08:18:06Z',\n",
       " 'order': 'Passeriformes',\n",
       " 'phylum': 'Chordata',\n",
       " 'rank': 'Species',\n",
       " 'scientificname': 'Mniotilta varia',\n",
       " 'status': 'accepted',\n",
       " 'unacceptreason': None,\n",
       " 'valid_AphiaID': 422648,\n",
       " 'valid_name': 'Mniotilta varia'}"
      ]
     },
     "metadata": {},
     "output_type": "display_data"
    },
    {
     "name": "stdout",
     "output_type": "stream",
     "text": [
      "------------\n",
      "Sterna forsteri  -  Forster's Tern ( bFOTEx )\n"
     ]
    },
    {
     "data": {
      "text/plain": [
       "{'AphiaID': 159057,\n",
       " 'MatchMethod': 'Exact Match',\n",
       " 'MatchString': 'Sterna forsteri',\n",
       " 'cacheDate': '2017-07-26T15:16:31.984665',\n",
       " 'class': 'Aves',\n",
       " 'family': 'Sternidae',\n",
       " 'genus': 'Sterna',\n",
       " 'isBrackish': None,\n",
       " 'isExtinct': None,\n",
       " 'isFreshwater': None,\n",
       " 'isMarine': 1,\n",
       " 'isTerrestrial': None,\n",
       " 'kingdom': 'Animalia',\n",
       " 'lsid': 'urn:lsid:marinespecies.org:taxname:159057',\n",
       " 'match_type': 'exact',\n",
       " 'modified': '2011-04-08T08:18:06Z',\n",
       " 'order': 'Charadriiformes',\n",
       " 'phylum': 'Chordata',\n",
       " 'rank': 'Species',\n",
       " 'scientificname': 'Sterna forsteri',\n",
       " 'status': 'accepted',\n",
       " 'unacceptreason': None,\n",
       " 'valid_AphiaID': 159057,\n",
       " 'valid_name': 'Sterna forsteri'}"
      ]
     },
     "metadata": {},
     "output_type": "display_data"
    },
    {
     "name": "stdout",
     "output_type": "stream",
     "text": [
      "------------\n",
      "Gelochelidon nilotica  -  Gull-billed Tern ( bGBTEx )\n"
     ]
    },
    {
     "data": {
      "text/plain": [
       "{'AphiaID': 148798,\n",
       " 'MatchMethod': 'Exact Match',\n",
       " 'MatchString': 'Gelochelidon nilotica',\n",
       " 'cacheDate': '2017-07-26T15:16:33.304580',\n",
       " 'class': 'Aves',\n",
       " 'family': 'Sternidae',\n",
       " 'genus': 'Gelochelidon',\n",
       " 'isBrackish': None,\n",
       " 'isExtinct': None,\n",
       " 'isFreshwater': None,\n",
       " 'isMarine': 1,\n",
       " 'isTerrestrial': None,\n",
       " 'kingdom': 'Animalia',\n",
       " 'lsid': 'urn:lsid:marinespecies.org:taxname:148798',\n",
       " 'match_type': 'exact',\n",
       " 'modified': '2011-04-08T08:18:06Z',\n",
       " 'order': 'Charadriiformes',\n",
       " 'phylum': 'Chordata',\n",
       " 'rank': 'Species',\n",
       " 'scientificname': 'Gelochelidon nilotica',\n",
       " 'status': 'accepted',\n",
       " 'unacceptreason': None,\n",
       " 'valid_AphiaID': 148798,\n",
       " 'valid_name': 'Gelochelidon nilotica'}"
      ]
     },
     "metadata": {},
     "output_type": "display_data"
    },
    {
     "name": "stdout",
     "output_type": "stream",
     "text": [
      "------------\n",
      "Buteo platypterus  -  Broad-winged Hawk ( bBWHAx )\n"
     ]
    },
    {
     "data": {
      "text/plain": [
       "{'AphiaID': 159370,\n",
       " 'MatchMethod': 'Exact Match',\n",
       " 'MatchString': 'Buteo platypterus',\n",
       " 'cacheDate': '2017-07-26T15:16:37.985848',\n",
       " 'class': 'Aves',\n",
       " 'family': 'Accipitridae',\n",
       " 'genus': 'Buteo',\n",
       " 'isBrackish': 0,\n",
       " 'isExtinct': None,\n",
       " 'isFreshwater': None,\n",
       " 'isMarine': 0,\n",
       " 'isTerrestrial': None,\n",
       " 'kingdom': 'Animalia',\n",
       " 'lsid': 'urn:lsid:marinespecies.org:taxname:159370',\n",
       " 'match_type': 'exact',\n",
       " 'modified': '2011-04-27T11:01:37Z',\n",
       " 'order': 'Falconiformes',\n",
       " 'phylum': 'Chordata',\n",
       " 'rank': 'Species',\n",
       " 'scientificname': 'Buteo platypterus',\n",
       " 'status': 'accepted',\n",
       " 'unacceptreason': None,\n",
       " 'valid_AphiaID': 159370,\n",
       " 'valid_name': 'Buteo platypterus'}"
      ]
     },
     "metadata": {},
     "output_type": "display_data"
    },
    {
     "name": "stdout",
     "output_type": "stream",
     "text": [
      "------------\n",
      "Charadrius semipalmatus  -  Semipalmated Plover ( bSEPLx )\n"
     ]
    },
    {
     "data": {
      "text/plain": [
       "{'AphiaID': 159126,\n",
       " 'MatchMethod': 'Exact Match',\n",
       " 'MatchString': 'Charadrius semipalmatus',\n",
       " 'cacheDate': '2017-07-26T15:16:45.010924',\n",
       " 'class': 'Aves',\n",
       " 'family': 'Charadriidae',\n",
       " 'genus': 'Charadrius',\n",
       " 'isBrackish': None,\n",
       " 'isExtinct': None,\n",
       " 'isFreshwater': None,\n",
       " 'isMarine': 1,\n",
       " 'isTerrestrial': None,\n",
       " 'kingdom': 'Animalia',\n",
       " 'lsid': 'urn:lsid:marinespecies.org:taxname:159126',\n",
       " 'match_type': 'exact',\n",
       " 'modified': '2011-04-08T08:18:06Z',\n",
       " 'order': 'Charadriiformes',\n",
       " 'phylum': 'Chordata',\n",
       " 'rank': 'Species',\n",
       " 'scientificname': 'Charadrius semipalmatus',\n",
       " 'status': 'accepted',\n",
       " 'unacceptreason': None,\n",
       " 'valid_AphiaID': 159126,\n",
       " 'valid_name': 'Charadrius semipalmatus'}"
      ]
     },
     "metadata": {},
     "output_type": "display_data"
    },
    {
     "name": "stdout",
     "output_type": "stream",
     "text": [
      "------------\n",
      "Dendroica caerulescens  -  Black-throated Blue Warbler ( bBTBWx )\n"
     ]
    },
    {
     "data": {
      "text/plain": [
       "{'AphiaID': 422638,\n",
       " 'MatchMethod': 'Exact Match',\n",
       " 'MatchString': 'Dendroica caerulescens',\n",
       " 'cacheDate': '2017-07-26T15:16:49.405553',\n",
       " 'class': 'Aves',\n",
       " 'family': 'Parulidae',\n",
       " 'genus': 'Dendroica',\n",
       " 'isBrackish': 0,\n",
       " 'isExtinct': None,\n",
       " 'isFreshwater': None,\n",
       " 'isMarine': 0,\n",
       " 'isTerrestrial': None,\n",
       " 'kingdom': 'Animalia',\n",
       " 'lsid': 'urn:lsid:marinespecies.org:taxname:422638',\n",
       " 'match_type': 'exact',\n",
       " 'modified': '2011-04-08T08:18:06Z',\n",
       " 'order': 'Passeriformes',\n",
       " 'phylum': 'Chordata',\n",
       " 'rank': 'Species',\n",
       " 'scientificname': 'Dendroica caerulescens',\n",
       " 'status': 'accepted',\n",
       " 'unacceptreason': None,\n",
       " 'valid_AphiaID': 422638,\n",
       " 'valid_name': 'Dendroica caerulescens'}"
      ]
     },
     "metadata": {},
     "output_type": "display_data"
    },
    {
     "name": "stdout",
     "output_type": "stream",
     "text": [
      "------------\n",
      "Egretta thula  -  Snowy Egret ( bSNEGx )\n"
     ]
    },
    {
     "data": {
      "text/plain": [
       "{'AphiaID': 159116,\n",
       " 'MatchMethod': 'Exact Match',\n",
       " 'MatchString': 'Egretta thula',\n",
       " 'cacheDate': '2017-07-26T15:16:53.535114',\n",
       " 'class': 'Aves',\n",
       " 'family': 'Ardeidae',\n",
       " 'genus': 'Egretta',\n",
       " 'isBrackish': 1,\n",
       " 'isExtinct': None,\n",
       " 'isFreshwater': 1,\n",
       " 'isMarine': 0,\n",
       " 'isTerrestrial': None,\n",
       " 'kingdom': 'Animalia',\n",
       " 'lsid': 'urn:lsid:marinespecies.org:taxname:159116',\n",
       " 'match_type': 'exact',\n",
       " 'modified': '2011-04-27T11:01:37Z',\n",
       " 'order': 'Ciconiiformes',\n",
       " 'phylum': 'Chordata',\n",
       " 'rank': 'Species',\n",
       " 'scientificname': 'Egretta thula',\n",
       " 'status': 'accepted',\n",
       " 'unacceptreason': None,\n",
       " 'valid_AphiaID': 159116,\n",
       " 'valid_name': 'Egretta thula'}"
      ]
     },
     "metadata": {},
     "output_type": "display_data"
    },
    {
     "name": "stdout",
     "output_type": "stream",
     "text": [
      "------------\n",
      "Bucephala albeola  -  Bufflehead ( bBUFFx )\n"
     ]
    },
    {
     "data": {
      "text/plain": [
       "{'AphiaID': 159179,\n",
       " 'MatchMethod': 'Exact Match',\n",
       " 'MatchString': 'Bucephala albeola',\n",
       " 'cacheDate': '2017-07-26T15:16:58.611614',\n",
       " 'class': 'Aves',\n",
       " 'family': 'Anatidae',\n",
       " 'genus': 'Bucephala',\n",
       " 'isBrackish': 1,\n",
       " 'isExtinct': None,\n",
       " 'isFreshwater': 1,\n",
       " 'isMarine': 1,\n",
       " 'isTerrestrial': None,\n",
       " 'kingdom': 'Animalia',\n",
       " 'lsid': 'urn:lsid:marinespecies.org:taxname:159179',\n",
       " 'match_type': 'exact',\n",
       " 'modified': '2011-04-27T11:01:37Z',\n",
       " 'order': 'Anseriformes',\n",
       " 'phylum': 'Chordata',\n",
       " 'rank': 'Species',\n",
       " 'scientificname': 'Bucephala albeola',\n",
       " 'status': 'accepted',\n",
       " 'unacceptreason': None,\n",
       " 'valid_AphiaID': 159179,\n",
       " 'valid_name': 'Bucephala albeola'}"
      ]
     },
     "metadata": {},
     "output_type": "display_data"
    },
    {
     "name": "stdout",
     "output_type": "stream",
     "text": [
      "------------\n",
      "Aphriza virgata  -  Surfbird ( bSURFx )\n"
     ]
    },
    {
     "data": {
      "text/plain": [
       "{'AphiaID': 225897,\n",
       " 'MatchMethod': 'Exact Match',\n",
       " 'MatchString': 'Aphriza virgata',\n",
       " 'cacheDate': '2017-07-26T15:16:59.896880',\n",
       " 'class': 'Aves',\n",
       " 'family': 'Scolopacidae',\n",
       " 'genus': 'Aphriza',\n",
       " 'isBrackish': None,\n",
       " 'isExtinct': None,\n",
       " 'isFreshwater': None,\n",
       " 'isMarine': 1,\n",
       " 'isTerrestrial': None,\n",
       " 'kingdom': 'Animalia',\n",
       " 'lsid': 'urn:lsid:marinespecies.org:taxname:225897',\n",
       " 'match_type': 'exact',\n",
       " 'modified': '2011-04-27T11:01:37Z',\n",
       " 'order': 'Charadriiformes',\n",
       " 'phylum': 'Chordata',\n",
       " 'rank': 'Species',\n",
       " 'scientificname': 'Aphriza virgata',\n",
       " 'status': 'accepted',\n",
       " 'unacceptreason': None,\n",
       " 'valid_AphiaID': 225897,\n",
       " 'valid_name': 'Aphriza virgata'}"
      ]
     },
     "metadata": {},
     "output_type": "display_data"
    },
    {
     "name": "stdout",
     "output_type": "stream",
     "text": [
      "------------\n",
      "Eremophila alpestris  -  Horned Lark ( bHOLAx )\n"
     ]
    },
    {
     "data": {
      "text/plain": [
       "{'AphiaID': 232056,\n",
       " 'MatchMethod': 'Exact Match',\n",
       " 'MatchString': 'Eremophila alpestris',\n",
       " 'cacheDate': '2017-07-26T15:17:38.690578',\n",
       " 'class': 'Aves',\n",
       " 'family': 'Alaudidae',\n",
       " 'genus': 'Eremophila',\n",
       " 'isBrackish': 0,\n",
       " 'isExtinct': None,\n",
       " 'isFreshwater': None,\n",
       " 'isMarine': 0,\n",
       " 'isTerrestrial': None,\n",
       " 'kingdom': 'Animalia',\n",
       " 'lsid': 'urn:lsid:marinespecies.org:taxname:232056',\n",
       " 'match_type': 'exact',\n",
       " 'modified': '2011-04-08T08:18:06Z',\n",
       " 'order': 'Passeriformes',\n",
       " 'phylum': 'Chordata',\n",
       " 'rank': 'Species',\n",
       " 'scientificname': 'Eremophila alpestris',\n",
       " 'status': 'accepted',\n",
       " 'unacceptreason': None,\n",
       " 'valid_AphiaID': 232056,\n",
       " 'valid_name': 'Eremophila alpestris'}"
      ]
     },
     "metadata": {},
     "output_type": "display_data"
    },
    {
     "name": "stdout",
     "output_type": "stream",
     "text": [
      "------------\n",
      "Aythya collaris  -  Ring-necked Duck ( bRNDUx )\n"
     ]
    },
    {
     "data": {
      "text/plain": [
       "{'AphiaID': 159163,\n",
       " 'MatchMethod': 'Exact Match',\n",
       " 'MatchString': 'Aythya collaris',\n",
       " 'cacheDate': '2017-07-26T15:17:52.552438',\n",
       " 'class': 'Aves',\n",
       " 'family': 'Anatidae',\n",
       " 'genus': 'Aythya',\n",
       " 'isBrackish': None,\n",
       " 'isExtinct': None,\n",
       " 'isFreshwater': 1,\n",
       " 'isMarine': 0,\n",
       " 'isTerrestrial': None,\n",
       " 'kingdom': 'Animalia',\n",
       " 'lsid': 'urn:lsid:marinespecies.org:taxname:159163',\n",
       " 'match_type': 'exact',\n",
       " 'modified': '2011-04-27T11:01:37Z',\n",
       " 'order': 'Anseriformes',\n",
       " 'phylum': 'Chordata',\n",
       " 'rank': 'Species',\n",
       " 'scientificname': 'Aythya collaris',\n",
       " 'status': 'accepted',\n",
       " 'unacceptreason': None,\n",
       " 'valid_AphiaID': 159163,\n",
       " 'valid_name': 'Aythya collaris'}"
      ]
     },
     "metadata": {},
     "output_type": "display_data"
    },
    {
     "name": "stdout",
     "output_type": "stream",
     "text": [
      "------------\n",
      "Onychoprion anaethetus  -  Bridled Tern ( bBRTEx )\n"
     ]
    },
    {
     "data": {
      "text/plain": [
       "{'AphiaID': 567792,\n",
       " 'MatchMethod': 'Exact Match',\n",
       " 'MatchString': 'Onychoprion anaethetus',\n",
       " 'cacheDate': '2017-07-26T15:18:20.989674',\n",
       " 'class': 'Aves',\n",
       " 'family': 'Sternidae',\n",
       " 'genus': 'Onychoprion',\n",
       " 'isBrackish': None,\n",
       " 'isExtinct': None,\n",
       " 'isFreshwater': None,\n",
       " 'isMarine': 1,\n",
       " 'isTerrestrial': None,\n",
       " 'kingdom': 'Animalia',\n",
       " 'lsid': 'urn:lsid:marinespecies.org:taxname:567792',\n",
       " 'match_type': 'exact',\n",
       " 'modified': '2011-11-23T14:20:48Z',\n",
       " 'order': 'Charadriiformes',\n",
       " 'phylum': 'Chordata',\n",
       " 'rank': 'Species',\n",
       " 'scientificname': 'Onychoprion anaethetus',\n",
       " 'status': 'accepted',\n",
       " 'unacceptreason': None,\n",
       " 'valid_AphiaID': 567792,\n",
       " 'valid_name': 'Onychoprion anaethetus'}"
      ]
     },
     "metadata": {},
     "output_type": "display_data"
    },
    {
     "name": "stdout",
     "output_type": "stream",
     "text": [
      "------------\n",
      "Circus cyaneus  -  Northern Harrier ( bNOHAx )\n"
     ]
    },
    {
     "data": {
      "text/plain": [
       "{'AphiaID': 159372,\n",
       " 'MatchMethod': 'Exact Match',\n",
       " 'MatchString': 'Circus cyaneus',\n",
       " 'cacheDate': '2017-07-26T15:18:34.869175',\n",
       " 'class': 'Aves',\n",
       " 'family': 'Accipitridae',\n",
       " 'genus': 'Circus',\n",
       " 'isBrackish': 0,\n",
       " 'isExtinct': None,\n",
       " 'isFreshwater': None,\n",
       " 'isMarine': 0,\n",
       " 'isTerrestrial': None,\n",
       " 'kingdom': 'Animalia',\n",
       " 'lsid': 'urn:lsid:marinespecies.org:taxname:159372',\n",
       " 'match_type': 'exact',\n",
       " 'modified': '2011-04-27T11:01:37Z',\n",
       " 'order': 'Falconiformes',\n",
       " 'phylum': 'Chordata',\n",
       " 'rank': 'Species',\n",
       " 'scientificname': 'Circus cyaneus',\n",
       " 'status': 'accepted',\n",
       " 'unacceptreason': None,\n",
       " 'valid_AphiaID': 159372,\n",
       " 'valid_name': 'Circus cyaneus'}"
      ]
     },
     "metadata": {},
     "output_type": "display_data"
    },
    {
     "name": "stdout",
     "output_type": "stream",
     "text": [
      "------------\n",
      "Falco peregrinus  -  Peregrine Falcon ( bPEFAx )\n"
     ]
    },
    {
     "data": {
      "text/plain": [
       "{'AphiaID': 159153,\n",
       " 'MatchMethod': 'Exact Match',\n",
       " 'MatchString': 'Falco peregrinus',\n",
       " 'cacheDate': '2017-07-26T15:18:39.545442',\n",
       " 'class': 'Aves',\n",
       " 'family': 'Falconidae',\n",
       " 'genus': 'Falco',\n",
       " 'isBrackish': 0,\n",
       " 'isExtinct': None,\n",
       " 'isFreshwater': None,\n",
       " 'isMarine': 0,\n",
       " 'isTerrestrial': None,\n",
       " 'kingdom': 'Animalia',\n",
       " 'lsid': 'urn:lsid:marinespecies.org:taxname:159153',\n",
       " 'match_type': 'exact',\n",
       " 'modified': '2011-04-08T08:18:06Z',\n",
       " 'order': 'Falconiformes',\n",
       " 'phylum': 'Chordata',\n",
       " 'rank': 'Species',\n",
       " 'scientificname': 'Falco peregrinus',\n",
       " 'status': 'accepted',\n",
       " 'unacceptreason': None,\n",
       " 'valid_AphiaID': 159153,\n",
       " 'valid_name': 'Falco peregrinus'}"
      ]
     },
     "metadata": {},
     "output_type": "display_data"
    },
    {
     "name": "stdout",
     "output_type": "stream",
     "text": [
      "------------\n",
      "Contopus cooperi  -  Olive-sided Flycatcher ( bOSFLx )\n"
     ]
    },
    {
     "data": {
      "text/plain": [
       "{'AphiaID': 422619,\n",
       " 'MatchMethod': 'Exact Match',\n",
       " 'MatchString': 'Contopus cooperi',\n",
       " 'cacheDate': '2017-07-26T15:18:40.849409',\n",
       " 'class': 'Aves',\n",
       " 'family': 'Tyrannidae',\n",
       " 'genus': 'Contopus',\n",
       " 'isBrackish': 0,\n",
       " 'isExtinct': None,\n",
       " 'isFreshwater': None,\n",
       " 'isMarine': 0,\n",
       " 'isTerrestrial': None,\n",
       " 'kingdom': 'Animalia',\n",
       " 'lsid': 'urn:lsid:marinespecies.org:taxname:422619',\n",
       " 'match_type': 'exact',\n",
       " 'modified': '2011-04-27T11:01:37Z',\n",
       " 'order': 'Passeriformes',\n",
       " 'phylum': 'Chordata',\n",
       " 'rank': 'Species',\n",
       " 'scientificname': 'Contopus cooperi',\n",
       " 'status': 'accepted',\n",
       " 'unacceptreason': None,\n",
       " 'valid_AphiaID': 422619,\n",
       " 'valid_name': 'Contopus cooperi'}"
      ]
     },
     "metadata": {},
     "output_type": "display_data"
    },
    {
     "name": "stdout",
     "output_type": "stream",
     "text": [
      "------------\n",
      "Hydrocoloeus minutus  -  Little Gull ( bLIGUx )\n"
     ]
    },
    {
     "data": {
      "text/plain": [
       "{'AphiaID': 567449,\n",
       " 'MatchMethod': 'Exact Match',\n",
       " 'MatchString': 'Hydrocoloeus minutus',\n",
       " 'cacheDate': '2017-07-26T15:18:59.429758',\n",
       " 'class': 'Aves',\n",
       " 'family': 'Laridae',\n",
       " 'genus': 'Hydrocoloeus',\n",
       " 'isBrackish': None,\n",
       " 'isExtinct': None,\n",
       " 'isFreshwater': None,\n",
       " 'isMarine': 1,\n",
       " 'isTerrestrial': None,\n",
       " 'kingdom': 'Animalia',\n",
       " 'lsid': 'urn:lsid:marinespecies.org:taxname:567449',\n",
       " 'match_type': 'exact',\n",
       " 'modified': '2011-04-04T16:27:55Z',\n",
       " 'order': 'Charadriiformes',\n",
       " 'phylum': 'Chordata',\n",
       " 'rank': 'Species',\n",
       " 'scientificname': 'Hydrocoloeus minutus',\n",
       " 'status': 'accepted',\n",
       " 'unacceptreason': None,\n",
       " 'valid_AphiaID': 567449,\n",
       " 'valid_name': 'Hydrocoloeus minutus'}"
      ]
     },
     "metadata": {},
     "output_type": "display_data"
    },
    {
     "name": "stdout",
     "output_type": "stream",
     "text": [
      "------------\n",
      "Chen rossii  -  Ross's Goose ( bROGOx )\n"
     ]
    },
    {
     "data": {
      "text/plain": [
       "{'AphiaID': 159086,\n",
       " 'MatchMethod': 'Exact Match',\n",
       " 'MatchString': 'Chen rossii',\n",
       " 'cacheDate': '2017-07-26T15:19:04.877068',\n",
       " 'class': 'Aves',\n",
       " 'family': 'Anatidae',\n",
       " 'genus': 'Chen',\n",
       " 'isBrackish': None,\n",
       " 'isExtinct': None,\n",
       " 'isFreshwater': 1,\n",
       " 'isMarine': 0,\n",
       " 'isTerrestrial': None,\n",
       " 'kingdom': 'Animalia',\n",
       " 'lsid': 'urn:lsid:marinespecies.org:taxname:159086',\n",
       " 'match_type': 'exact',\n",
       " 'modified': '2011-04-04T14:52:35Z',\n",
       " 'order': 'Anseriformes',\n",
       " 'phylum': 'Chordata',\n",
       " 'rank': 'Species',\n",
       " 'scientificname': 'Chen rossii',\n",
       " 'status': 'accepted',\n",
       " 'unacceptreason': None,\n",
       " 'valid_AphiaID': 159086,\n",
       " 'valid_name': 'Chen rossii'}"
      ]
     },
     "metadata": {},
     "output_type": "display_data"
    },
    {
     "name": "stdout",
     "output_type": "stream",
     "text": [
      "------------\n",
      "Coccyzus minor  -  Mangrove Cuckoo ( bMACUx )\n"
     ]
    },
    {
     "data": {
      "text/plain": [
       "{'AphiaID': 422610,\n",
       " 'MatchMethod': 'Exact Match',\n",
       " 'MatchString': 'Coccyzus minor',\n",
       " 'cacheDate': '2017-07-26T15:19:11.656793',\n",
       " 'class': 'Aves',\n",
       " 'family': 'Cuculidae',\n",
       " 'genus': 'Coccyzus',\n",
       " 'isBrackish': 0,\n",
       " 'isExtinct': None,\n",
       " 'isFreshwater': None,\n",
       " 'isMarine': 0,\n",
       " 'isTerrestrial': None,\n",
       " 'kingdom': 'Animalia',\n",
       " 'lsid': 'urn:lsid:marinespecies.org:taxname:422610',\n",
       " 'match_type': 'exact',\n",
       " 'modified': '2011-04-08T08:18:06Z',\n",
       " 'order': 'Cuculiformes',\n",
       " 'phylum': 'Chordata',\n",
       " 'rank': 'Species',\n",
       " 'scientificname': 'Coccyzus minor',\n",
       " 'status': 'accepted',\n",
       " 'unacceptreason': None,\n",
       " 'valid_AphiaID': 422610,\n",
       " 'valid_name': 'Coccyzus minor'}"
      ]
     },
     "metadata": {},
     "output_type": "display_data"
    },
    {
     "name": "stdout",
     "output_type": "stream",
     "text": [
      "------------\n",
      "Eudocimus albus  -  White Ibis ( bWHIBx )\n"
     ]
    },
    {
     "data": {
      "text/plain": [
       "{'AphiaID': 158975,\n",
       " 'MatchMethod': 'Exact Match',\n",
       " 'MatchString': 'Eudocimus albus',\n",
       " 'cacheDate': '2017-07-26T15:20:21.801146',\n",
       " 'class': 'Aves',\n",
       " 'family': 'Threskiornithidae',\n",
       " 'genus': 'Eudocimus',\n",
       " 'isBrackish': 0,\n",
       " 'isExtinct': None,\n",
       " 'isFreshwater': 1,\n",
       " 'isMarine': 0,\n",
       " 'isTerrestrial': None,\n",
       " 'kingdom': 'Animalia',\n",
       " 'lsid': 'urn:lsid:marinespecies.org:taxname:158975',\n",
       " 'match_type': 'exact',\n",
       " 'modified': '2011-04-27T11:01:37Z',\n",
       " 'order': 'Ciconiiformes',\n",
       " 'phylum': 'Chordata',\n",
       " 'rank': 'Species',\n",
       " 'scientificname': 'Eudocimus albus',\n",
       " 'status': 'accepted',\n",
       " 'unacceptreason': None,\n",
       " 'valid_AphiaID': 158975,\n",
       " 'valid_name': 'Eudocimus albus'}"
      ]
     },
     "metadata": {},
     "output_type": "display_data"
    },
    {
     "name": "stdout",
     "output_type": "stream",
     "text": [
      "------------\n",
      "Cistothorus palustris  -  Marsh Wren ( bMAWRx )\n"
     ]
    },
    {
     "data": {
      "text/plain": [
       "{'AphiaID': 422626,\n",
       " 'MatchMethod': 'Exact Match',\n",
       " 'MatchString': 'Cistothorus palustris',\n",
       " 'cacheDate': '2017-07-26T15:20:26.695997',\n",
       " 'class': 'Aves',\n",
       " 'family': 'Troglodytidae',\n",
       " 'genus': 'Cistothorus',\n",
       " 'isBrackish': 0,\n",
       " 'isExtinct': None,\n",
       " 'isFreshwater': None,\n",
       " 'isMarine': 0,\n",
       " 'isTerrestrial': None,\n",
       " 'kingdom': 'Animalia',\n",
       " 'lsid': 'urn:lsid:marinespecies.org:taxname:422626',\n",
       " 'match_type': 'exact',\n",
       " 'modified': '2011-04-27T11:01:37Z',\n",
       " 'order': 'Passeriformes',\n",
       " 'phylum': 'Chordata',\n",
       " 'rank': 'Species',\n",
       " 'scientificname': 'Cistothorus palustris',\n",
       " 'status': 'accepted',\n",
       " 'unacceptreason': None,\n",
       " 'valid_AphiaID': 422626,\n",
       " 'valid_name': 'Cistothorus palustris'}"
      ]
     },
     "metadata": {},
     "output_type": "display_data"
    },
    {
     "name": "stdout",
     "output_type": "stream",
     "text": [
      "------------\n",
      "Oporornis philadelphia  -  Mourning Warbler ( bMOWAx )\n"
     ]
    },
    {
     "data": {
      "text/plain": [
       "{'AphiaID': 422658,\n",
       " 'MatchMethod': 'Exact Match',\n",
       " 'MatchString': 'Oporornis philadelphia',\n",
       " 'cacheDate': '2017-07-26T15:20:27.913939',\n",
       " 'class': 'Aves',\n",
       " 'family': 'Parulidae',\n",
       " 'genus': 'Oporornis',\n",
       " 'isBrackish': 0,\n",
       " 'isExtinct': None,\n",
       " 'isFreshwater': None,\n",
       " 'isMarine': 0,\n",
       " 'isTerrestrial': None,\n",
       " 'kingdom': 'Animalia',\n",
       " 'lsid': 'urn:lsid:marinespecies.org:taxname:422658',\n",
       " 'match_type': 'exact',\n",
       " 'modified': '2011-04-08T08:18:06Z',\n",
       " 'order': 'Passeriformes',\n",
       " 'phylum': 'Chordata',\n",
       " 'rank': 'Species',\n",
       " 'scientificname': 'Oporornis philadelphia',\n",
       " 'status': 'accepted',\n",
       " 'unacceptreason': None,\n",
       " 'valid_AphiaID': 422658,\n",
       " 'valid_name': 'Oporornis philadelphia'}"
      ]
     },
     "metadata": {},
     "output_type": "display_data"
    },
    {
     "name": "stdout",
     "output_type": "stream",
     "text": [
      "------------\n",
      "Dendroica virens  -  Black-throated Green Warbler ( bBTNWx )\n"
     ]
    },
    {
     "data": {
      "text/plain": [
       "{'AphiaID': 422640,\n",
       " 'MatchMethod': 'Exact Match',\n",
       " 'MatchString': 'Dendroica virens',\n",
       " 'cacheDate': '2017-07-26T15:20:43.415357',\n",
       " 'class': 'Aves',\n",
       " 'family': 'Parulidae',\n",
       " 'genus': 'Dendroica',\n",
       " 'isBrackish': 0,\n",
       " 'isExtinct': None,\n",
       " 'isFreshwater': None,\n",
       " 'isMarine': 0,\n",
       " 'isTerrestrial': None,\n",
       " 'kingdom': 'Animalia',\n",
       " 'lsid': 'urn:lsid:marinespecies.org:taxname:422640',\n",
       " 'match_type': 'exact',\n",
       " 'modified': '2011-04-08T08:18:06Z',\n",
       " 'order': 'Passeriformes',\n",
       " 'phylum': 'Chordata',\n",
       " 'rank': 'Species',\n",
       " 'scientificname': 'Dendroica virens',\n",
       " 'status': 'accepted',\n",
       " 'unacceptreason': None,\n",
       " 'valid_AphiaID': 422640,\n",
       " 'valid_name': 'Dendroica virens'}"
      ]
     },
     "metadata": {},
     "output_type": "display_data"
    },
    {
     "name": "stdout",
     "output_type": "stream",
     "text": [
      "------------\n",
      "Nerodia clarkii  -  Saltmarsh Watersnake ( rSAWAx )\n"
     ]
    },
    {
     "data": {
      "text/plain": [
       "{'AphiaID': 405991,\n",
       " 'MatchMethod': 'Exact Match',\n",
       " 'MatchString': 'Nerodia clarkii',\n",
       " 'cacheDate': '2017-07-26T15:21:54.908829',\n",
       " 'class': 'Reptilia',\n",
       " 'family': 'Colubridae',\n",
       " 'genus': 'Nerodia',\n",
       " 'isBrackish': 1,\n",
       " 'isExtinct': None,\n",
       " 'isFreshwater': None,\n",
       " 'isMarine': None,\n",
       " 'isTerrestrial': None,\n",
       " 'kingdom': 'Animalia',\n",
       " 'lsid': 'urn:lsid:marinespecies.org:taxname:405991',\n",
       " 'match_type': 'exact',\n",
       " 'modified': '2009-06-25T14:17:49Z',\n",
       " 'order': 'Squamata',\n",
       " 'phylum': 'Chordata',\n",
       " 'rank': 'Species',\n",
       " 'scientificname': 'Nerodia clarkii',\n",
       " 'status': 'accepted',\n",
       " 'unacceptreason': None,\n",
       " 'valid_AphiaID': 405991,\n",
       " 'valid_name': 'Nerodia clarkii'}"
      ]
     },
     "metadata": {},
     "output_type": "display_data"
    },
    {
     "name": "stdout",
     "output_type": "stream",
     "text": [
      "------------\n",
      "Dendroica petechia  -  Yellow Warbler ( bYWARx )\n"
     ]
    },
    {
     "data": {
      "text/plain": [
       "{'AphiaID': 422634,\n",
       " 'MatchMethod': 'Exact Match',\n",
       " 'MatchString': 'Dendroica petechia',\n",
       " 'cacheDate': '2017-07-26T15:23:07.556418',\n",
       " 'class': 'Aves',\n",
       " 'family': 'Parulidae',\n",
       " 'genus': 'Dendroica',\n",
       " 'isBrackish': 0,\n",
       " 'isExtinct': None,\n",
       " 'isFreshwater': None,\n",
       " 'isMarine': 0,\n",
       " 'isTerrestrial': None,\n",
       " 'kingdom': 'Animalia',\n",
       " 'lsid': 'urn:lsid:marinespecies.org:taxname:422634',\n",
       " 'match_type': 'exact',\n",
       " 'modified': '2011-04-08T08:18:06Z',\n",
       " 'order': 'Passeriformes',\n",
       " 'phylum': 'Chordata',\n",
       " 'rank': 'Species',\n",
       " 'scientificname': 'Dendroica petechia',\n",
       " 'status': 'accepted',\n",
       " 'unacceptreason': None,\n",
       " 'valid_AphiaID': 422634,\n",
       " 'valid_name': 'Dendroica petechia'}"
      ]
     },
     "metadata": {},
     "output_type": "display_data"
    },
    {
     "name": "stdout",
     "output_type": "stream",
     "text": [
      "------------\n",
      "Tyrannus forficatus  -  Scissor-tailed Flycatcher ( bSTFLx )\n"
     ]
    },
    {
     "data": {
      "text/plain": [
       "{'AphiaID': 422623,\n",
       " 'MatchMethod': 'Exact Match',\n",
       " 'MatchString': 'Tyrannus forficatus',\n",
       " 'cacheDate': '2017-07-26T15:23:36.749792',\n",
       " 'class': 'Aves',\n",
       " 'family': 'Tyrannidae',\n",
       " 'genus': 'Tyrannus',\n",
       " 'isBrackish': 0,\n",
       " 'isExtinct': None,\n",
       " 'isFreshwater': None,\n",
       " 'isMarine': 0,\n",
       " 'isTerrestrial': None,\n",
       " 'kingdom': 'Animalia',\n",
       " 'lsid': 'urn:lsid:marinespecies.org:taxname:422623',\n",
       " 'match_type': 'exact',\n",
       " 'modified': '2011-04-08T08:18:06Z',\n",
       " 'order': 'Passeriformes',\n",
       " 'phylum': 'Chordata',\n",
       " 'rank': 'Species',\n",
       " 'scientificname': 'Tyrannus forficatus',\n",
       " 'status': 'accepted',\n",
       " 'unacceptreason': None,\n",
       " 'valid_AphiaID': 422623,\n",
       " 'valid_name': 'Tyrannus forficatus'}"
      ]
     },
     "metadata": {},
     "output_type": "display_data"
    },
    {
     "name": "stdout",
     "output_type": "stream",
     "text": [
      "------------\n",
      "Pelecanus occidentalis californicus  -  California Brown Pelican ( bBRPEc )\n"
     ]
    },
    {
     "data": {
      "text/plain": [
       "{'AphiaID': 343935,\n",
       " 'MatchMethod': 'Exact Match',\n",
       " 'MatchString': 'Pelecanus occidentalis',\n",
       " 'cacheDate': '2017-07-26T15:23:48.091527',\n",
       " 'class': 'Aves',\n",
       " 'family': 'Pelecanidae',\n",
       " 'genus': 'Pelecanus',\n",
       " 'isBrackish': None,\n",
       " 'isExtinct': None,\n",
       " 'isFreshwater': None,\n",
       " 'isMarine': 1,\n",
       " 'isTerrestrial': None,\n",
       " 'kingdom': 'Animalia',\n",
       " 'lsid': 'urn:lsid:marinespecies.org:taxname:343935',\n",
       " 'match_type': 'exact',\n",
       " 'modified': '2011-04-08T08:18:06Z',\n",
       " 'order': 'Pelecaniformes',\n",
       " 'phylum': 'Chordata',\n",
       " 'rank': 'Species',\n",
       " 'scientificname': 'Pelecanus occidentalis',\n",
       " 'status': 'accepted',\n",
       " 'unacceptreason': None,\n",
       " 'valid_AphiaID': 343935,\n",
       " 'valid_name': 'Pelecanus occidentalis'}"
      ]
     },
     "metadata": {},
     "output_type": "display_data"
    },
    {
     "name": "stdout",
     "output_type": "stream",
     "text": [
      "------------\n",
      "Anous stolidus  -  Brown Noddy ( bBRNOx )\n"
     ]
    },
    {
     "data": {
      "text/plain": [
       "{'AphiaID': 212629,\n",
       " 'MatchMethod': 'Exact Match',\n",
       " 'MatchString': 'Anous stolidus',\n",
       " 'cacheDate': '2017-07-26T15:23:49.392158',\n",
       " 'class': 'Aves',\n",
       " 'family': 'Sternidae',\n",
       " 'genus': 'Anous',\n",
       " 'isBrackish': None,\n",
       " 'isExtinct': None,\n",
       " 'isFreshwater': None,\n",
       " 'isMarine': 1,\n",
       " 'isTerrestrial': None,\n",
       " 'kingdom': 'Animalia',\n",
       " 'lsid': 'urn:lsid:marinespecies.org:taxname:212629',\n",
       " 'match_type': 'exact',\n",
       " 'modified': '2011-04-08T08:18:06Z',\n",
       " 'order': 'Charadriiformes',\n",
       " 'phylum': 'Chordata',\n",
       " 'rank': 'Species',\n",
       " 'scientificname': 'Anous stolidus',\n",
       " 'status': 'accepted',\n",
       " 'unacceptreason': None,\n",
       " 'valid_AphiaID': 212629,\n",
       " 'valid_name': 'Anous stolidus'}"
      ]
     },
     "metadata": {},
     "output_type": "display_data"
    },
    {
     "name": "stdout",
     "output_type": "stream",
     "text": [
      "------------\n",
      "Plegadis chihi  -  White-faced Ibis ( bWFIBx )\n"
     ]
    },
    {
     "data": {
      "text/plain": [
       "{'AphiaID': 422583,\n",
       " 'MatchMethod': 'Exact Match',\n",
       " 'MatchString': 'Plegadis chihi',\n",
       " 'cacheDate': '2017-07-26T15:23:54.374745',\n",
       " 'class': 'Aves',\n",
       " 'family': 'Threskiornithidae',\n",
       " 'genus': 'Plegadis',\n",
       " 'isBrackish': 0,\n",
       " 'isExtinct': None,\n",
       " 'isFreshwater': 1,\n",
       " 'isMarine': 0,\n",
       " 'isTerrestrial': None,\n",
       " 'kingdom': 'Animalia',\n",
       " 'lsid': 'urn:lsid:marinespecies.org:taxname:422583',\n",
       " 'match_type': 'exact',\n",
       " 'modified': '2011-04-08T08:18:06Z',\n",
       " 'order': 'Ciconiiformes',\n",
       " 'phylum': 'Chordata',\n",
       " 'rank': 'Species',\n",
       " 'scientificname': 'Plegadis chihi',\n",
       " 'status': 'accepted',\n",
       " 'unacceptreason': None,\n",
       " 'valid_AphiaID': 422583,\n",
       " 'valid_name': 'Plegadis chihi'}"
      ]
     },
     "metadata": {},
     "output_type": "display_data"
    },
    {
     "name": "stdout",
     "output_type": "stream",
     "text": [
      "------------\n",
      "Branta hutchinsii  -  Cackling Goose ( bCACGx )\n"
     ]
    },
    {
     "data": {
      "text/plain": [
       "{'AphiaID': 422569,\n",
       " 'MatchMethod': 'Exact Match',\n",
       " 'MatchString': 'Branta hutchinsii',\n",
       " 'cacheDate': '2017-07-26T15:23:57.205273',\n",
       " 'class': 'Aves',\n",
       " 'family': 'Anatidae',\n",
       " 'genus': 'Branta',\n",
       " 'isBrackish': None,\n",
       " 'isExtinct': None,\n",
       " 'isFreshwater': 1,\n",
       " 'isMarine': 0,\n",
       " 'isTerrestrial': None,\n",
       " 'kingdom': 'Animalia',\n",
       " 'lsid': 'urn:lsid:marinespecies.org:taxname:422569',\n",
       " 'match_type': 'exact',\n",
       " 'modified': '2011-04-27T11:01:37Z',\n",
       " 'order': 'Anseriformes',\n",
       " 'phylum': 'Chordata',\n",
       " 'rank': 'Species',\n",
       " 'scientificname': 'Branta hutchinsii',\n",
       " 'status': 'accepted',\n",
       " 'unacceptreason': None,\n",
       " 'valid_AphiaID': 422569,\n",
       " 'valid_name': 'Branta hutchinsii'}"
      ]
     },
     "metadata": {},
     "output_type": "display_data"
    },
    {
     "name": "stdout",
     "output_type": "stream",
     "text": [
      "------------\n",
      "Hylocichla mustelina  -  Wood Thrush ( bWOTHx )\n"
     ]
    },
    {
     "data": {
      "text/plain": [
       "{'AphiaID': 422627,\n",
       " 'MatchMethod': 'Exact Match',\n",
       " 'MatchString': 'Hylocichla mustelina',\n",
       " 'cacheDate': '2017-07-26T15:24:04.261906',\n",
       " 'class': 'Aves',\n",
       " 'family': 'Turdidae',\n",
       " 'genus': 'Hylocichla',\n",
       " 'isBrackish': 0,\n",
       " 'isExtinct': None,\n",
       " 'isFreshwater': None,\n",
       " 'isMarine': 0,\n",
       " 'isTerrestrial': None,\n",
       " 'kingdom': 'Animalia',\n",
       " 'lsid': 'urn:lsid:marinespecies.org:taxname:422627',\n",
       " 'match_type': 'exact',\n",
       " 'modified': '2011-04-08T08:18:06Z',\n",
       " 'order': 'Passeriformes',\n",
       " 'phylum': 'Chordata',\n",
       " 'rank': 'Species',\n",
       " 'scientificname': 'Hylocichla mustelina',\n",
       " 'status': 'accepted',\n",
       " 'unacceptreason': None,\n",
       " 'valid_AphiaID': 422627,\n",
       " 'valid_name': 'Hylocichla mustelina'}"
      ]
     },
     "metadata": {},
     "output_type": "display_data"
    },
    {
     "name": "stdout",
     "output_type": "stream",
     "text": [
      "------------\n",
      "Sturnus vulgaris  -  European Starling ( bEUSTx )\n"
     ]
    },
    {
     "data": {
      "text/plain": [
       "{'AphiaID': 558591,\n",
       " 'MatchMethod': 'Exact Match',\n",
       " 'MatchString': 'Sturnus vulgaris',\n",
       " 'cacheDate': '2017-07-26T15:24:05.517769',\n",
       " 'class': 'Aves',\n",
       " 'family': 'Sturnidae',\n",
       " 'genus': 'Sturnus',\n",
       " 'isBrackish': 0,\n",
       " 'isExtinct': None,\n",
       " 'isFreshwater': 0,\n",
       " 'isMarine': 0,\n",
       " 'isTerrestrial': 1,\n",
       " 'kingdom': 'Animalia',\n",
       " 'lsid': 'urn:lsid:marinespecies.org:taxname:558591',\n",
       " 'match_type': 'exact',\n",
       " 'modified': '2011-04-08T08:18:06Z',\n",
       " 'order': 'Passeriformes',\n",
       " 'phylum': 'Chordata',\n",
       " 'rank': 'Species',\n",
       " 'scientificname': 'Sturnus vulgaris',\n",
       " 'status': 'accepted',\n",
       " 'unacceptreason': None,\n",
       " 'valid_AphiaID': 558591,\n",
       " 'valid_name': 'Sturnus vulgaris'}"
      ]
     },
     "metadata": {},
     "output_type": "display_data"
    },
    {
     "name": "stdout",
     "output_type": "stream",
     "text": [
      "------------\n",
      "Ammodramus savannarum  -  Grasshopper Sparrow ( bGRSPx )\n"
     ]
    },
    {
     "data": {
      "text/plain": [
       "{'AphiaID': 422666,\n",
       " 'MatchMethod': 'Exact Match',\n",
       " 'MatchString': 'Ammodramus savannarum',\n",
       " 'cacheDate': '2017-07-26T15:24:39.529419',\n",
       " 'class': 'Aves',\n",
       " 'family': 'Fringillidae',\n",
       " 'genus': 'Ammodramus',\n",
       " 'isBrackish': 0,\n",
       " 'isExtinct': None,\n",
       " 'isFreshwater': None,\n",
       " 'isMarine': 0,\n",
       " 'isTerrestrial': None,\n",
       " 'kingdom': 'Animalia',\n",
       " 'lsid': 'urn:lsid:marinespecies.org:taxname:422666',\n",
       " 'match_type': 'exact',\n",
       " 'modified': '2011-04-08T08:18:06Z',\n",
       " 'order': 'Passeriformes',\n",
       " 'phylum': 'Chordata',\n",
       " 'rank': 'Species',\n",
       " 'scientificname': 'Ammodramus savannarum',\n",
       " 'status': 'accepted',\n",
       " 'unacceptreason': None,\n",
       " 'valid_AphiaID': 422666,\n",
       " 'valid_name': 'Ammodramus savannarum'}"
      ]
     },
     "metadata": {},
     "output_type": "display_data"
    },
    {
     "name": "stdout",
     "output_type": "stream",
     "text": [
      "------------\n",
      "Tringa incana  -  Wandering Tattler ( bWATAx )\n"
     ]
    },
    {
     "data": {
      "text/plain": [
       "{'AphiaID': 567470,\n",
       " 'MatchMethod': 'Exact Match',\n",
       " 'MatchString': 'Tringa incana',\n",
       " 'cacheDate': '2017-07-26T15:24:59.754696',\n",
       " 'class': 'Aves',\n",
       " 'family': 'Scolopacidae',\n",
       " 'genus': 'Tringa',\n",
       " 'isBrackish': 1,\n",
       " 'isExtinct': None,\n",
       " 'isFreshwater': 1,\n",
       " 'isMarine': 1,\n",
       " 'isTerrestrial': None,\n",
       " 'kingdom': 'Animalia',\n",
       " 'lsid': 'urn:lsid:marinespecies.org:taxname:567470',\n",
       " 'match_type': 'exact',\n",
       " 'modified': '2011-04-04T16:27:55Z',\n",
       " 'order': 'Charadriiformes',\n",
       " 'phylum': 'Chordata',\n",
       " 'rank': 'Species',\n",
       " 'scientificname': 'Tringa incana',\n",
       " 'status': 'accepted',\n",
       " 'unacceptreason': None,\n",
       " 'valid_AphiaID': 567470,\n",
       " 'valid_name': 'Tringa incana'}"
      ]
     },
     "metadata": {},
     "output_type": "display_data"
    },
    {
     "name": "stdout",
     "output_type": "stream",
     "text": [
      "------------\n",
      "Bucephala islandica  -  Barrow's Goldeneye ( bBAGOx )\n"
     ]
    },
    {
     "data": {
      "text/plain": [
       "{'AphiaID': 159198,\n",
       " 'MatchMethod': 'Exact Match',\n",
       " 'MatchString': 'Bucephala islandica',\n",
       " 'cacheDate': '2017-07-26T14:25:02.490278',\n",
       " 'class': 'Aves',\n",
       " 'family': 'Anatidae',\n",
       " 'genus': 'Bucephala',\n",
       " 'isBrackish': None,\n",
       " 'isExtinct': None,\n",
       " 'isFreshwater': 1,\n",
       " 'isMarine': 0,\n",
       " 'isTerrestrial': None,\n",
       " 'kingdom': 'Animalia',\n",
       " 'lsid': 'urn:lsid:marinespecies.org:taxname:159198',\n",
       " 'match_type': 'exact',\n",
       " 'modified': '2011-04-27T11:01:37Z',\n",
       " 'order': 'Anseriformes',\n",
       " 'phylum': 'Chordata',\n",
       " 'rank': 'Species',\n",
       " 'scientificname': 'Bucephala islandica',\n",
       " 'status': 'accepted',\n",
       " 'unacceptreason': None,\n",
       " 'valid_AphiaID': 159198,\n",
       " 'valid_name': 'Bucephala islandica'}"
      ]
     },
     "metadata": {},
     "output_type": "display_data"
    },
    {
     "name": "stdout",
     "output_type": "stream",
     "text": [
      "------------\n",
      "Uria aalge  -  Common Murre ( bCOMUx )\n"
     ]
    },
    {
     "data": {
      "text/plain": [
       "{'AphiaID': 137133,\n",
       " 'MatchMethod': 'Exact Match',\n",
       " 'MatchString': 'Uria aalge',\n",
       " 'cacheDate': '2017-07-26T14:25:05.548040',\n",
       " 'class': 'Aves',\n",
       " 'family': 'Alcidae',\n",
       " 'genus': 'Uria',\n",
       " 'isBrackish': None,\n",
       " 'isExtinct': None,\n",
       " 'isFreshwater': None,\n",
       " 'isMarine': 1,\n",
       " 'isTerrestrial': None,\n",
       " 'kingdom': 'Animalia',\n",
       " 'lsid': 'urn:lsid:marinespecies.org:taxname:137133',\n",
       " 'match_type': 'exact',\n",
       " 'modified': '2011-04-08T08:18:06Z',\n",
       " 'order': 'Charadriiformes',\n",
       " 'phylum': 'Chordata',\n",
       " 'rank': 'Species',\n",
       " 'scientificname': 'Uria aalge',\n",
       " 'status': 'accepted',\n",
       " 'unacceptreason': None,\n",
       " 'valid_AphiaID': 137133,\n",
       " 'valid_name': 'Uria aalge'}"
      ]
     },
     "metadata": {},
     "output_type": "display_data"
    },
    {
     "name": "stdout",
     "output_type": "stream",
     "text": [
      "------------\n",
      "Callorhinus ursinus  -  Northern Fur Seal ( mNFSEx )\n"
     ]
    },
    {
     "data": {
      "text/plain": [
       "{'AphiaID': 254997,\n",
       " 'MatchMethod': 'Exact Match',\n",
       " 'MatchString': 'Callorhinus ursinus',\n",
       " 'cacheDate': '2017-07-26T14:25:06.767235',\n",
       " 'class': 'Mammalia',\n",
       " 'family': 'Otariidae',\n",
       " 'genus': 'Callorhinus',\n",
       " 'isBrackish': None,\n",
       " 'isExtinct': None,\n",
       " 'isFreshwater': None,\n",
       " 'isMarine': 1,\n",
       " 'isTerrestrial': None,\n",
       " 'kingdom': 'Animalia',\n",
       " 'lsid': 'urn:lsid:marinespecies.org:taxname:254997',\n",
       " 'match_type': 'exact',\n",
       " 'modified': '2010-05-20T12:09:50Z',\n",
       " 'order': 'Carnivora',\n",
       " 'phylum': 'Chordata',\n",
       " 'rank': 'Species',\n",
       " 'scientificname': 'Callorhinus ursinus',\n",
       " 'status': 'accepted',\n",
       " 'unacceptreason': None,\n",
       " 'valid_AphiaID': 254997,\n",
       " 'valid_name': 'Callorhinus ursinus'}"
      ]
     },
     "metadata": {},
     "output_type": "display_data"
    },
    {
     "name": "stdout",
     "output_type": "stream",
     "text": [
      "------------\n",
      "Gallinula chloropus  -  Common Moorhen ( bCOMOx )\n"
     ]
    },
    {
     "data": {
      "text/plain": [
       "{'AphiaID': 159009,\n",
       " 'MatchMethod': 'Exact Match',\n",
       " 'MatchString': 'Gallinula chloropus',\n",
       " 'cacheDate': '2017-07-26T14:25:17.870385',\n",
       " 'class': 'Aves',\n",
       " 'family': 'Rallidae',\n",
       " 'genus': 'Gallinula',\n",
       " 'isBrackish': 0,\n",
       " 'isExtinct': None,\n",
       " 'isFreshwater': 1,\n",
       " 'isMarine': 0,\n",
       " 'isTerrestrial': None,\n",
       " 'kingdom': 'Animalia',\n",
       " 'lsid': 'urn:lsid:marinespecies.org:taxname:159009',\n",
       " 'match_type': 'exact',\n",
       " 'modified': '2011-04-27T11:01:37Z',\n",
       " 'order': 'Gruiformes',\n",
       " 'phylum': 'Chordata',\n",
       " 'rank': 'Species',\n",
       " 'scientificname': 'Gallinula chloropus',\n",
       " 'status': 'accepted',\n",
       " 'unacceptreason': None,\n",
       " 'valid_AphiaID': 159009,\n",
       " 'valid_name': 'Gallinula chloropus'}"
      ]
     },
     "metadata": {},
     "output_type": "display_data"
    },
    {
     "name": "stdout",
     "output_type": "stream",
     "text": [
      "------------\n",
      "Ptychoramphus aleuticus  -  Cassin's Auklet ( bCAAUx )\n"
     ]
    },
    {
     "data": {
      "text/plain": [
       "{'AphiaID': 344115,\n",
       " 'MatchMethod': 'Exact Match',\n",
       " 'MatchString': 'Ptychoramphus aleuticus',\n",
       " 'cacheDate': '2017-07-26T14:25:40.384345',\n",
       " 'class': 'Aves',\n",
       " 'family': 'Alcidae',\n",
       " 'genus': 'Ptychoramphus',\n",
       " 'isBrackish': None,\n",
       " 'isExtinct': None,\n",
       " 'isFreshwater': None,\n",
       " 'isMarine': 1,\n",
       " 'isTerrestrial': None,\n",
       " 'kingdom': 'Animalia',\n",
       " 'lsid': 'urn:lsid:marinespecies.org:taxname:344115',\n",
       " 'match_type': 'exact',\n",
       " 'modified': '2011-04-08T08:18:06Z',\n",
       " 'order': 'Charadriiformes',\n",
       " 'phylum': 'Chordata',\n",
       " 'rank': 'Species',\n",
       " 'scientificname': 'Ptychoramphus aleuticus',\n",
       " 'status': 'accepted',\n",
       " 'unacceptreason': None,\n",
       " 'valid_AphiaID': 344115,\n",
       " 'valid_name': 'Ptychoramphus aleuticus'}"
      ]
     },
     "metadata": {},
     "output_type": "display_data"
    },
    {
     "name": "stdout",
     "output_type": "stream",
     "text": [
      "------------\n",
      "Quiscalus major  -  Boat-tailed Grackle ( bBTGRx )\n"
     ]
    },
    {
     "data": {
      "text/plain": [
       "{'AphiaID': 422674,\n",
       " 'MatchMethod': 'Exact Match',\n",
       " 'MatchString': 'Quiscalus major',\n",
       " 'cacheDate': '2017-07-26T14:25:50.486697',\n",
       " 'class': 'Aves',\n",
       " 'family': 'Icteridae',\n",
       " 'genus': 'Quiscalus',\n",
       " 'isBrackish': 0,\n",
       " 'isExtinct': None,\n",
       " 'isFreshwater': None,\n",
       " 'isMarine': 0,\n",
       " 'isTerrestrial': None,\n",
       " 'kingdom': 'Animalia',\n",
       " 'lsid': 'urn:lsid:marinespecies.org:taxname:422674',\n",
       " 'match_type': 'exact',\n",
       " 'modified': '2011-04-08T08:18:06Z',\n",
       " 'order': 'Passeriformes',\n",
       " 'phylum': 'Chordata',\n",
       " 'rank': 'Species',\n",
       " 'scientificname': 'Quiscalus major',\n",
       " 'status': 'accepted',\n",
       " 'unacceptreason': None,\n",
       " 'valid_AphiaID': 422674,\n",
       " 'valid_name': 'Quiscalus major'}"
      ]
     },
     "metadata": {},
     "output_type": "display_data"
    },
    {
     "name": "stdout",
     "output_type": "stream",
     "text": [
      "------------\n",
      "Anhinga anhinga  -  Anhinga ( bANHIx )\n"
     ]
    },
    {
     "data": {
      "text/plain": [
       "{'AphiaID': 422576,\n",
       " 'MatchMethod': 'Exact Match',\n",
       " 'MatchString': 'Anhinga anhinga',\n",
       " 'cacheDate': '2017-07-26T14:25:58.370016',\n",
       " 'class': 'Aves',\n",
       " 'family': 'Anhingidae',\n",
       " 'genus': 'Anhinga',\n",
       " 'isBrackish': 0,\n",
       " 'isExtinct': None,\n",
       " 'isFreshwater': 1,\n",
       " 'isMarine': 0,\n",
       " 'isTerrestrial': None,\n",
       " 'kingdom': 'Animalia',\n",
       " 'lsid': 'urn:lsid:marinespecies.org:taxname:422576',\n",
       " 'match_type': 'exact',\n",
       " 'modified': '2011-04-08T08:18:06Z',\n",
       " 'order': 'Pelecaniformes',\n",
       " 'phylum': 'Chordata',\n",
       " 'rank': 'Species',\n",
       " 'scientificname': 'Anhinga anhinga',\n",
       " 'status': 'accepted',\n",
       " 'unacceptreason': None,\n",
       " 'valid_AphiaID': 422576,\n",
       " 'valid_name': 'Anhinga anhinga'}"
      ]
     },
     "metadata": {},
     "output_type": "display_data"
    },
    {
     "name": "stdout",
     "output_type": "stream",
     "text": [
      "------------\n",
      "Porphyrio martinica  -  Purple Gallinule ( bPUGAx )\n"
     ]
    },
    {
     "data": {
      "text/plain": [
       "{'AphiaID': 422597,\n",
       " 'MatchMethod': 'Exact Match',\n",
       " 'MatchString': 'Porphyrio martinica',\n",
       " 'cacheDate': '2017-07-26T14:26:09.664075',\n",
       " 'class': 'Aves',\n",
       " 'family': 'Rallidae',\n",
       " 'genus': 'Porphyrio',\n",
       " 'isBrackish': 0,\n",
       " 'isExtinct': None,\n",
       " 'isFreshwater': 1,\n",
       " 'isMarine': 0,\n",
       " 'isTerrestrial': None,\n",
       " 'kingdom': 'Animalia',\n",
       " 'lsid': 'urn:lsid:marinespecies.org:taxname:422597',\n",
       " 'match_type': 'exact',\n",
       " 'modified': '2011-04-27T11:01:37Z',\n",
       " 'order': 'Gruiformes',\n",
       " 'phylum': 'Chordata',\n",
       " 'rank': 'Species',\n",
       " 'scientificname': 'Porphyrio martinica',\n",
       " 'status': 'accepted',\n",
       " 'unacceptreason': None,\n",
       " 'valid_AphiaID': 422597,\n",
       " 'valid_name': 'Porphyrio martinica'}"
      ]
     },
     "metadata": {},
     "output_type": "display_data"
    },
    {
     "name": "stdout",
     "output_type": "stream",
     "text": [
      "------------\n",
      "Tachybaptus dominicus  -  Least Grebe ( bLEGRx )\n"
     ]
    },
    {
     "data": {
      "text/plain": [
       "{'AphiaID': 366615,\n",
       " 'MatchMethod': 'Exact Match',\n",
       " 'MatchString': 'Tachybaptus dominicus',\n",
       " 'cacheDate': '2017-07-26T14:27:06.085174',\n",
       " 'class': 'Aves',\n",
       " 'family': 'Podicipedidae',\n",
       " 'genus': 'Tachybaptus',\n",
       " 'isBrackish': None,\n",
       " 'isExtinct': None,\n",
       " 'isFreshwater': None,\n",
       " 'isMarine': 1,\n",
       " 'isTerrestrial': None,\n",
       " 'kingdom': 'Animalia',\n",
       " 'lsid': 'urn:lsid:marinespecies.org:taxname:366615',\n",
       " 'match_type': 'exact',\n",
       " 'modified': '2011-04-08T08:18:06Z',\n",
       " 'order': 'Podicipediformes',\n",
       " 'phylum': 'Chordata',\n",
       " 'rank': 'Species',\n",
       " 'scientificname': 'Tachybaptus dominicus',\n",
       " 'status': 'accepted',\n",
       " 'unacceptreason': None,\n",
       " 'valid_AphiaID': 366615,\n",
       " 'valid_name': 'Tachybaptus dominicus'}"
      ]
     },
     "metadata": {},
     "output_type": "display_data"
    },
    {
     "name": "stdout",
     "output_type": "stream",
     "text": [
      "------------\n",
      "Seiurus motacilla  -  Louisiana Waterthrush ( bLOWAx )\n"
     ]
    },
    {
     "data": {
      "text/plain": [
       "{'AphiaID': 422655,\n",
       " 'MatchMethod': 'Exact Match',\n",
       " 'MatchString': 'Seiurus motacilla',\n",
       " 'cacheDate': '2017-07-26T14:27:07.325043',\n",
       " 'class': 'Aves',\n",
       " 'family': 'Parulidae',\n",
       " 'genus': 'Seiurus',\n",
       " 'isBrackish': 0,\n",
       " 'isExtinct': None,\n",
       " 'isFreshwater': None,\n",
       " 'isMarine': 0,\n",
       " 'isTerrestrial': None,\n",
       " 'kingdom': 'Animalia',\n",
       " 'lsid': 'urn:lsid:marinespecies.org:taxname:422655',\n",
       " 'match_type': 'exact',\n",
       " 'modified': '2011-04-07T15:28:46Z',\n",
       " 'order': 'Passeriformes',\n",
       " 'phylum': 'Chordata',\n",
       " 'rank': 'Species',\n",
       " 'scientificname': 'Seiurus motacilla',\n",
       " 'status': 'unaccepted',\n",
       " 'unacceptreason': 'synonym',\n",
       " 'valid_AphiaID': 567886,\n",
       " 'valid_name': 'Parkesia motacilla'}"
      ]
     },
     "metadata": {},
     "output_type": "display_data"
    },
    {
     "name": "stdout",
     "output_type": "stream",
     "text": [
      "------------\n",
      "Charadrius montanus  -  Mountain Plover ( bMOPLx )\n"
     ]
    },
    {
     "data": {
      "text/plain": [
       "{'AphiaID': 422603,\n",
       " 'MatchMethod': 'Exact Match',\n",
       " 'MatchString': 'Charadrius montanus',\n",
       " 'cacheDate': '2017-07-26T14:27:16.690921',\n",
       " 'class': 'Aves',\n",
       " 'family': 'Charadriidae',\n",
       " 'genus': 'Charadrius',\n",
       " 'isBrackish': 0,\n",
       " 'isExtinct': None,\n",
       " 'isFreshwater': None,\n",
       " 'isMarine': 0,\n",
       " 'isTerrestrial': None,\n",
       " 'kingdom': 'Animalia',\n",
       " 'lsid': 'urn:lsid:marinespecies.org:taxname:422603',\n",
       " 'match_type': 'exact',\n",
       " 'modified': '2011-04-08T08:18:06Z',\n",
       " 'order': 'Charadriiformes',\n",
       " 'phylum': 'Chordata',\n",
       " 'rank': 'Species',\n",
       " 'scientificname': 'Charadrius montanus',\n",
       " 'status': 'accepted',\n",
       " 'unacceptreason': None,\n",
       " 'valid_AphiaID': 422603,\n",
       " 'valid_name': 'Charadrius montanus'}"
      ]
     },
     "metadata": {},
     "output_type": "display_data"
    },
    {
     "name": "stdout",
     "output_type": "stream",
     "text": [
      "------------\n",
      "Calidris mauri  -  Western Sandpiper ( bWESAx )\n"
     ]
    },
    {
     "data": {
      "text/plain": [
       "{'AphiaID': 366588,\n",
       " 'MatchMethod': 'Exact Match',\n",
       " 'MatchString': 'Calidris mauri',\n",
       " 'cacheDate': '2017-07-26T14:27:44.106516',\n",
       " 'class': 'Aves',\n",
       " 'family': 'Scolopacidae',\n",
       " 'genus': 'Calidris',\n",
       " 'isBrackish': None,\n",
       " 'isExtinct': None,\n",
       " 'isFreshwater': None,\n",
       " 'isMarine': 1,\n",
       " 'isTerrestrial': None,\n",
       " 'kingdom': 'Animalia',\n",
       " 'lsid': 'urn:lsid:marinespecies.org:taxname:366588',\n",
       " 'match_type': 'exact',\n",
       " 'modified': '2011-04-08T08:18:06Z',\n",
       " 'order': 'Charadriiformes',\n",
       " 'phylum': 'Chordata',\n",
       " 'rank': 'Species',\n",
       " 'scientificname': 'Calidris mauri',\n",
       " 'status': 'accepted',\n",
       " 'unacceptreason': None,\n",
       " 'valid_AphiaID': 366588,\n",
       " 'valid_name': 'Calidris mauri'}"
      ]
     },
     "metadata": {},
     "output_type": "display_data"
    },
    {
     "name": "stdout",
     "output_type": "stream",
     "text": [
      "------------\n",
      "Pelecanus erythrorhynchos  -  American White Pelican ( bAWPEx )\n"
     ]
    },
    {
     "data": {
      "text/plain": [
       "{'AphiaID': 159058,\n",
       " 'MatchMethod': 'Exact Match',\n",
       " 'MatchString': 'Pelecanus erythrorhynchos',\n",
       " 'cacheDate': '2017-07-26T14:27:49.909054',\n",
       " 'class': 'Aves',\n",
       " 'family': 'Pelecanidae',\n",
       " 'genus': 'Pelecanus',\n",
       " 'isBrackish': None,\n",
       " 'isExtinct': None,\n",
       " 'isFreshwater': None,\n",
       " 'isMarine': 1,\n",
       " 'isTerrestrial': None,\n",
       " 'kingdom': 'Animalia',\n",
       " 'lsid': 'urn:lsid:marinespecies.org:taxname:159058',\n",
       " 'match_type': 'exact',\n",
       " 'modified': '2011-04-27T11:01:37Z',\n",
       " 'order': 'Pelecaniformes',\n",
       " 'phylum': 'Chordata',\n",
       " 'rank': 'Species',\n",
       " 'scientificname': 'Pelecanus erythrorhynchos',\n",
       " 'status': 'accepted',\n",
       " 'unacceptreason': None,\n",
       " 'valid_AphiaID': 159058,\n",
       " 'valid_name': 'Pelecanus erythrorhynchos'}"
      ]
     },
     "metadata": {},
     "output_type": "display_data"
    },
    {
     "name": "stdout",
     "output_type": "stream",
     "text": [
      "------------\n",
      "Somateria mollissima  -  Common Eider ( bCOEIx )\n"
     ]
    },
    {
     "data": {
      "text/plain": [
       "{'AphiaID': 137074,\n",
       " 'MatchMethod': 'Exact Match',\n",
       " 'MatchString': 'Somateria mollissima',\n",
       " 'cacheDate': '2017-07-26T14:28:02.876649',\n",
       " 'class': 'Aves',\n",
       " 'family': 'Anatidae',\n",
       " 'genus': 'Somateria',\n",
       " 'isBrackish': None,\n",
       " 'isExtinct': None,\n",
       " 'isFreshwater': None,\n",
       " 'isMarine': 1,\n",
       " 'isTerrestrial': None,\n",
       " 'kingdom': 'Animalia',\n",
       " 'lsid': 'urn:lsid:marinespecies.org:taxname:137074',\n",
       " 'match_type': 'exact',\n",
       " 'modified': '2011-04-08T08:18:06Z',\n",
       " 'order': 'Anseriformes',\n",
       " 'phylum': 'Chordata',\n",
       " 'rank': 'Species',\n",
       " 'scientificname': 'Somateria mollissima',\n",
       " 'status': 'accepted',\n",
       " 'unacceptreason': None,\n",
       " 'valid_AphiaID': 137074,\n",
       " 'valid_name': 'Somateria mollissima'}"
      ]
     },
     "metadata": {},
     "output_type": "display_data"
    },
    {
     "name": "stdout",
     "output_type": "stream",
     "text": [
      "------------\n",
      "Aechmophorus occidentalis  -  Western Grebe ( bWEGRx )\n"
     ]
    },
    {
     "data": {
      "text/plain": [
       "{'AphiaID': 366617,\n",
       " 'MatchMethod': 'Exact Match',\n",
       " 'MatchString': 'Aechmophorus occidentalis',\n",
       " 'cacheDate': '2017-07-26T14:28:43.550799',\n",
       " 'class': 'Aves',\n",
       " 'family': 'Podicipedidae',\n",
       " 'genus': 'Aechmophorus',\n",
       " 'isBrackish': None,\n",
       " 'isExtinct': None,\n",
       " 'isFreshwater': None,\n",
       " 'isMarine': 1,\n",
       " 'isTerrestrial': None,\n",
       " 'kingdom': 'Animalia',\n",
       " 'lsid': 'urn:lsid:marinespecies.org:taxname:366617',\n",
       " 'match_type': 'exact',\n",
       " 'modified': '2011-04-08T08:18:06Z',\n",
       " 'order': 'Podicipediformes',\n",
       " 'phylum': 'Chordata',\n",
       " 'rank': 'Species',\n",
       " 'scientificname': 'Aechmophorus occidentalis',\n",
       " 'status': 'accepted',\n",
       " 'unacceptreason': None,\n",
       " 'valid_AphiaID': 366617,\n",
       " 'valid_name': 'Aechmophorus occidentalis'}"
      ]
     },
     "metadata": {},
     "output_type": "display_data"
    },
    {
     "name": "stdout",
     "output_type": "stream",
     "text": [
      "------------\n",
      "Phalaropus tricolor  -  Wilson's Phalarope ( bWIPHx )\n"
     ]
    },
    {
     "data": {
      "text/plain": [
       "{'AphiaID': 159043,\n",
       " 'MatchMethod': 'Exact Match',\n",
       " 'MatchString': 'Phalaropus tricolor',\n",
       " 'cacheDate': '2017-07-26T14:28:56.271103',\n",
       " 'class': 'Aves',\n",
       " 'family': 'Phalaropodidae',\n",
       " 'genus': 'Phalaropus',\n",
       " 'isBrackish': None,\n",
       " 'isExtinct': None,\n",
       " 'isFreshwater': None,\n",
       " 'isMarine': 1,\n",
       " 'isTerrestrial': None,\n",
       " 'kingdom': 'Animalia',\n",
       " 'lsid': 'urn:lsid:marinespecies.org:taxname:159043',\n",
       " 'match_type': 'exact',\n",
       " 'modified': '2011-04-08T08:18:06Z',\n",
       " 'order': 'Charadriiformes',\n",
       " 'phylum': 'Chordata',\n",
       " 'rank': 'Species',\n",
       " 'scientificname': 'Phalaropus tricolor',\n",
       " 'status': 'accepted',\n",
       " 'unacceptreason': None,\n",
       " 'valid_AphiaID': 159043,\n",
       " 'valid_name': 'Phalaropus tricolor'}"
      ]
     },
     "metadata": {},
     "output_type": "display_data"
    },
    {
     "name": "stdout",
     "output_type": "stream",
     "text": [
      "------------\n",
      "Oxyura jamaicensis  -  Ruddy Duck ( bRUDUx )\n"
     ]
    },
    {
     "data": {
      "text/plain": [
       "{'AphiaID': 159100,\n",
       " 'MatchMethod': 'Exact Match',\n",
       " 'MatchString': 'Oxyura jamaicensis',\n",
       " 'cacheDate': '2017-07-26T14:29:17.422070',\n",
       " 'class': 'Aves',\n",
       " 'family': 'Anatidae',\n",
       " 'genus': 'Oxyura',\n",
       " 'isBrackish': None,\n",
       " 'isExtinct': None,\n",
       " 'isFreshwater': 1,\n",
       " 'isMarine': 0,\n",
       " 'isTerrestrial': None,\n",
       " 'kingdom': 'Animalia',\n",
       " 'lsid': 'urn:lsid:marinespecies.org:taxname:159100',\n",
       " 'match_type': 'exact',\n",
       " 'modified': '2011-04-27T11:01:37Z',\n",
       " 'order': 'Anseriformes',\n",
       " 'phylum': 'Chordata',\n",
       " 'rank': 'Species',\n",
       " 'scientificname': 'Oxyura jamaicensis',\n",
       " 'status': 'accepted',\n",
       " 'unacceptreason': None,\n",
       " 'valid_AphiaID': 159100,\n",
       " 'valid_name': 'Oxyura jamaicensis'}"
      ]
     },
     "metadata": {},
     "output_type": "display_data"
    },
    {
     "name": "stdout",
     "output_type": "stream",
     "text": [
      "------------\n",
      "Charadrius melodus  -  Piping Plover ( bPIPLx )\n"
     ]
    },
    {
     "data": {
      "text/plain": [
       "{'AphiaID': 159125,\n",
       " 'MatchMethod': 'Exact Match',\n",
       " 'MatchString': 'Charadrius melodus',\n",
       " 'cacheDate': '2017-07-26T14:29:18.863678',\n",
       " 'class': 'Aves',\n",
       " 'family': 'Charadriidae',\n",
       " 'genus': 'Charadrius',\n",
       " 'isBrackish': None,\n",
       " 'isExtinct': None,\n",
       " 'isFreshwater': None,\n",
       " 'isMarine': 1,\n",
       " 'isTerrestrial': None,\n",
       " 'kingdom': 'Animalia',\n",
       " 'lsid': 'urn:lsid:marinespecies.org:taxname:159125',\n",
       " 'match_type': 'exact',\n",
       " 'modified': '2011-04-08T08:18:06Z',\n",
       " 'order': 'Charadriiformes',\n",
       " 'phylum': 'Chordata',\n",
       " 'rank': 'Species',\n",
       " 'scientificname': 'Charadrius melodus',\n",
       " 'status': 'accepted',\n",
       " 'unacceptreason': None,\n",
       " 'valid_AphiaID': 159125,\n",
       " 'valid_name': 'Charadrius melodus'}"
      ]
     },
     "metadata": {},
     "output_type": "display_data"
    },
    {
     "name": "stdout",
     "output_type": "stream",
     "text": [
      "------------\n",
      "Anas clypeata  -  Northern Shoveler ( bNSHOx )\n"
     ]
    },
    {
     "data": {
      "text/plain": [
       "{'AphiaID': 158941,\n",
       " 'MatchMethod': 'Exact Match',\n",
       " 'MatchString': 'Anas clypeata',\n",
       " 'cacheDate': '2017-07-26T14:29:27.191302',\n",
       " 'class': 'Aves',\n",
       " 'family': 'Anatidae',\n",
       " 'genus': 'Anas',\n",
       " 'isBrackish': None,\n",
       " 'isExtinct': None,\n",
       " 'isFreshwater': 1,\n",
       " 'isMarine': 0,\n",
       " 'isTerrestrial': None,\n",
       " 'kingdom': 'Animalia',\n",
       " 'lsid': 'urn:lsid:marinespecies.org:taxname:158941',\n",
       " 'match_type': 'exact',\n",
       " 'modified': '2011-04-08T08:18:06Z',\n",
       " 'order': 'Anseriformes',\n",
       " 'phylum': 'Chordata',\n",
       " 'rank': 'Species',\n",
       " 'scientificname': 'Anas clypeata',\n",
       " 'status': 'accepted',\n",
       " 'unacceptreason': None,\n",
       " 'valid_AphiaID': 158941,\n",
       " 'valid_name': 'Anas clypeata'}"
      ]
     },
     "metadata": {},
     "output_type": "display_data"
    },
    {
     "name": "stdout",
     "output_type": "stream",
     "text": [
      "------------\n",
      "Cygnus olor  -  Mute Swan ( bMUSWx )\n"
     ]
    },
    {
     "data": {
      "text/plain": [
       "{'AphiaID': 159090,\n",
       " 'MatchMethod': 'Exact Match',\n",
       " 'MatchString': 'Cygnus olor',\n",
       " 'cacheDate': '2017-07-26T14:29:30.716154',\n",
       " 'class': 'Aves',\n",
       " 'family': 'Anatidae',\n",
       " 'genus': 'Cygnus',\n",
       " 'isBrackish': None,\n",
       " 'isExtinct': None,\n",
       " 'isFreshwater': 1,\n",
       " 'isMarine': 0,\n",
       " 'isTerrestrial': None,\n",
       " 'kingdom': 'Animalia',\n",
       " 'lsid': 'urn:lsid:marinespecies.org:taxname:159090',\n",
       " 'match_type': 'exact',\n",
       " 'modified': '2011-04-27T11:01:37Z',\n",
       " 'order': 'Anseriformes',\n",
       " 'phylum': 'Chordata',\n",
       " 'rank': 'Species',\n",
       " 'scientificname': 'Cygnus olor',\n",
       " 'status': 'accepted',\n",
       " 'unacceptreason': None,\n",
       " 'valid_AphiaID': 159090,\n",
       " 'valid_name': 'Cygnus olor'}"
      ]
     },
     "metadata": {},
     "output_type": "display_data"
    },
    {
     "name": "stdout",
     "output_type": "stream",
     "text": [
      "------------\n",
      "Dendroica discolor  -  Prairie Warbler ( bPRAWx )\n"
     ]
    },
    {
     "data": {
      "text/plain": [
       "{'AphiaID': 422643,\n",
       " 'MatchMethod': 'Exact Match',\n",
       " 'MatchString': 'Dendroica discolor',\n",
       " 'cacheDate': '2017-07-26T14:29:36.811594',\n",
       " 'class': 'Aves',\n",
       " 'family': 'Parulidae',\n",
       " 'genus': 'Dendroica',\n",
       " 'isBrackish': 0,\n",
       " 'isExtinct': None,\n",
       " 'isFreshwater': None,\n",
       " 'isMarine': 0,\n",
       " 'isTerrestrial': None,\n",
       " 'kingdom': 'Animalia',\n",
       " 'lsid': 'urn:lsid:marinespecies.org:taxname:422643',\n",
       " 'match_type': 'exact',\n",
       " 'modified': '2011-04-08T08:18:06Z',\n",
       " 'order': 'Passeriformes',\n",
       " 'phylum': 'Chordata',\n",
       " 'rank': 'Species',\n",
       " 'scientificname': 'Dendroica discolor',\n",
       " 'status': 'accepted',\n",
       " 'unacceptreason': None,\n",
       " 'valid_AphiaID': 422643,\n",
       " 'valid_name': 'Dendroica discolor'}"
      ]
     },
     "metadata": {},
     "output_type": "display_data"
    },
    {
     "name": "stdout",
     "output_type": "stream",
     "text": [
      "------------\n",
      "Rangifer tarandus caribou  -  Woodland Caribou ( mCARIc )\n"
     ]
    },
    {
     "data": {
      "text/plain": [
       "{'AphiaID': 993630,\n",
       " 'MatchMethod': 'Exact Match',\n",
       " 'MatchString': 'Rangifer tarandus',\n",
       " 'cacheDate': '2017-07-26T14:29:47.227682',\n",
       " 'class': 'Mammalia',\n",
       " 'family': 'Cervidae',\n",
       " 'genus': 'Rangifer',\n",
       " 'isBrackish': 0,\n",
       " 'isExtinct': None,\n",
       " 'isFreshwater': 0,\n",
       " 'isMarine': 0,\n",
       " 'isTerrestrial': 1,\n",
       " 'kingdom': 'Animalia',\n",
       " 'lsid': 'urn:lsid:marinespecies.org:taxname:993630',\n",
       " 'match_type': 'exact',\n",
       " 'modified': '2017-05-30T15:14:47Z',\n",
       " 'order': 'Artiodactyla',\n",
       " 'phylum': 'Chordata',\n",
       " 'rank': 'Species',\n",
       " 'scientificname': 'Rangifer tarandus',\n",
       " 'status': 'accepted',\n",
       " 'unacceptreason': None,\n",
       " 'valid_AphiaID': 993630,\n",
       " 'valid_name': 'Rangifer tarandus'}"
      ]
     },
     "metadata": {},
     "output_type": "display_data"
    },
    {
     "name": "stdout",
     "output_type": "stream",
     "text": [
      "------------\n",
      "Dendrocygna bicolor  -  Fulvous Whistling-duck ( bFUWDx )\n"
     ]
    },
    {
     "data": {
      "text/plain": [
       "{'AphiaID': 212674,\n",
       " 'MatchMethod': 'Exact Match',\n",
       " 'MatchString': 'Dendrocygna bicolor',\n",
       " 'cacheDate': '2017-07-26T14:29:53.168246',\n",
       " 'class': 'Aves',\n",
       " 'family': 'Anatidae',\n",
       " 'genus': 'Dendrocygna',\n",
       " 'isBrackish': None,\n",
       " 'isExtinct': None,\n",
       " 'isFreshwater': 1,\n",
       " 'isMarine': 0,\n",
       " 'isTerrestrial': None,\n",
       " 'kingdom': 'Animalia',\n",
       " 'lsid': 'urn:lsid:marinespecies.org:taxname:212674',\n",
       " 'match_type': 'exact',\n",
       " 'modified': '2011-04-08T08:18:06Z',\n",
       " 'order': 'Anseriformes',\n",
       " 'phylum': 'Chordata',\n",
       " 'rank': 'Species',\n",
       " 'scientificname': 'Dendrocygna bicolor',\n",
       " 'status': 'accepted',\n",
       " 'unacceptreason': None,\n",
       " 'valid_AphiaID': 212674,\n",
       " 'valid_name': 'Dendrocygna bicolor'}"
      ]
     },
     "metadata": {},
     "output_type": "display_data"
    },
    {
     "name": "stdout",
     "output_type": "stream",
     "text": [
      "------------\n",
      "Coccyzus erythropthalmus  -  Black-billed Cuckoo ( bBBCUx )\n"
     ]
    },
    {
     "data": {
      "text/plain": [
       "{'AphiaID': 422608,\n",
       " 'MatchMethod': 'Exact Match',\n",
       " 'MatchString': 'Coccyzus erythropthalmus',\n",
       " 'cacheDate': '2017-07-26T14:29:57.230373',\n",
       " 'class': 'Aves',\n",
       " 'family': 'Cuculidae',\n",
       " 'genus': 'Coccyzus',\n",
       " 'isBrackish': 0,\n",
       " 'isExtinct': None,\n",
       " 'isFreshwater': None,\n",
       " 'isMarine': 0,\n",
       " 'isTerrestrial': None,\n",
       " 'kingdom': 'Animalia',\n",
       " 'lsid': 'urn:lsid:marinespecies.org:taxname:422608',\n",
       " 'match_type': 'exact',\n",
       " 'modified': '2011-04-08T08:18:06Z',\n",
       " 'order': 'Cuculiformes',\n",
       " 'phylum': 'Chordata',\n",
       " 'rank': 'Species',\n",
       " 'scientificname': 'Coccyzus erythropthalmus',\n",
       " 'status': 'accepted',\n",
       " 'unacceptreason': None,\n",
       " 'valid_AphiaID': 422608,\n",
       " 'valid_name': 'Coccyzus erythropthalmus'}"
      ]
     },
     "metadata": {},
     "output_type": "display_data"
    },
    {
     "name": "stdout",
     "output_type": "stream",
     "text": [
      "------------\n",
      "Sterna caspia  -  Caspian Tern ( bCATEx )\n"
     ]
    },
    {
     "data": {
      "text/plain": [
       "{'AphiaID': 137159,\n",
       " 'MatchMethod': 'Exact Match',\n",
       " 'MatchString': 'Sterna caspia',\n",
       " 'cacheDate': '2017-07-26T14:30:09.566337',\n",
       " 'class': 'Aves',\n",
       " 'family': 'Sternidae',\n",
       " 'genus': 'Sterna',\n",
       " 'isBrackish': None,\n",
       " 'isExtinct': None,\n",
       " 'isFreshwater': None,\n",
       " 'isMarine': 1,\n",
       " 'isTerrestrial': None,\n",
       " 'kingdom': 'Animalia',\n",
       " 'lsid': 'urn:lsid:marinespecies.org:taxname:137159',\n",
       " 'match_type': 'exact',\n",
       " 'modified': '2011-04-07T11:46:01Z',\n",
       " 'order': 'Charadriiformes',\n",
       " 'phylum': 'Chordata',\n",
       " 'rank': 'Species',\n",
       " 'scientificname': 'Sterna caspia',\n",
       " 'status': 'unaccepted',\n",
       " 'unacceptreason': 'synonym',\n",
       " 'valid_AphiaID': 567825,\n",
       " 'valid_name': 'Hydroprogne caspia'}"
      ]
     },
     "metadata": {},
     "output_type": "display_data"
    },
    {
     "name": "stdout",
     "output_type": "stream",
     "text": [
      "------------\n",
      "Plegadis falcinellus  -  Glossy Ibis ( bGLIBx )\n"
     ]
    },
    {
     "data": {
      "text/plain": [
       "{'AphiaID': 158977,\n",
       " 'MatchMethod': 'Exact Match',\n",
       " 'MatchString': 'Plegadis falcinellus',\n",
       " 'cacheDate': '2017-07-26T14:30:16.662667',\n",
       " 'class': 'Aves',\n",
       " 'family': 'Threskiornithidae',\n",
       " 'genus': 'Plegadis',\n",
       " 'isBrackish': 1,\n",
       " 'isExtinct': None,\n",
       " 'isFreshwater': 1,\n",
       " 'isMarine': 0,\n",
       " 'isTerrestrial': None,\n",
       " 'kingdom': 'Animalia',\n",
       " 'lsid': 'urn:lsid:marinespecies.org:taxname:158977',\n",
       " 'match_type': 'exact',\n",
       " 'modified': '2011-04-27T11:01:37Z',\n",
       " 'order': 'Ciconiiformes',\n",
       " 'phylum': 'Chordata',\n",
       " 'rank': 'Species',\n",
       " 'scientificname': 'Plegadis falcinellus',\n",
       " 'status': 'accepted',\n",
       " 'unacceptreason': None,\n",
       " 'valid_AphiaID': 158977,\n",
       " 'valid_name': 'Plegadis falcinellus'}"
      ]
     },
     "metadata": {},
     "output_type": "display_data"
    },
    {
     "name": "stdout",
     "output_type": "stream",
     "text": [
      "------------\n",
      "Calidris alpina  -  Dunlin ( bDUNLx )\n"
     ]
    },
    {
     "data": {
      "text/plain": [
       "{'AphiaID': 159047,\n",
       " 'MatchMethod': 'Exact Match',\n",
       " 'MatchString': 'Calidris alpina',\n",
       " 'cacheDate': '2017-07-26T14:30:35.192679',\n",
       " 'class': 'Aves',\n",
       " 'family': 'Scolopacidae',\n",
       " 'genus': 'Calidris',\n",
       " 'isBrackish': None,\n",
       " 'isExtinct': None,\n",
       " 'isFreshwater': None,\n",
       " 'isMarine': 1,\n",
       " 'isTerrestrial': None,\n",
       " 'kingdom': 'Animalia',\n",
       " 'lsid': 'urn:lsid:marinespecies.org:taxname:159047',\n",
       " 'match_type': 'exact',\n",
       " 'modified': '2011-04-08T08:18:06Z',\n",
       " 'order': 'Charadriiformes',\n",
       " 'phylum': 'Chordata',\n",
       " 'rank': 'Species',\n",
       " 'scientificname': 'Calidris alpina',\n",
       " 'status': 'accepted',\n",
       " 'unacceptreason': None,\n",
       " 'valid_AphiaID': 159047,\n",
       " 'valid_name': 'Calidris alpina'}"
      ]
     },
     "metadata": {},
     "output_type": "display_data"
    },
    {
     "name": "stdout",
     "output_type": "stream",
     "text": [
      "------------\n",
      "Oceanodroma homochroa  -  Ashy Storm-petrel ( bASSPx )\n"
     ]
    },
    {
     "data": {
      "text/plain": [
       "{'AphiaID': 343963,\n",
       " 'MatchMethod': 'Exact Match',\n",
       " 'MatchString': 'Oceanodroma homochroa',\n",
       " 'cacheDate': '2017-07-26T14:30:40.154671',\n",
       " 'class': 'Aves',\n",
       " 'family': 'Hydrobatidae',\n",
       " 'genus': 'Oceanodroma',\n",
       " 'isBrackish': None,\n",
       " 'isExtinct': None,\n",
       " 'isFreshwater': None,\n",
       " 'isMarine': 1,\n",
       " 'isTerrestrial': None,\n",
       " 'kingdom': 'Animalia',\n",
       " 'lsid': 'urn:lsid:marinespecies.org:taxname:343963',\n",
       " 'match_type': 'exact',\n",
       " 'modified': '2011-04-08T08:18:06Z',\n",
       " 'order': 'Procellariiformes',\n",
       " 'phylum': 'Chordata',\n",
       " 'rank': 'Species',\n",
       " 'scientificname': 'Oceanodroma homochroa',\n",
       " 'status': 'accepted',\n",
       " 'unacceptreason': None,\n",
       " 'valid_AphiaID': 343963,\n",
       " 'valid_name': 'Oceanodroma homochroa'}"
      ]
     },
     "metadata": {},
     "output_type": "display_data"
    },
    {
     "name": "stdout",
     "output_type": "stream",
     "text": [
      "------------\n",
      "Sula dactylatra  -  Masked Booby ( bMABOx )\n"
     ]
    },
    {
     "data": {
      "text/plain": [
       "{'AphiaID': 212599,\n",
       " 'MatchMethod': 'Exact Match',\n",
       " 'MatchString': 'Sula dactylatra',\n",
       " 'cacheDate': '2017-07-26T14:30:59.219560',\n",
       " 'class': 'Aves',\n",
       " 'family': 'Sulidae',\n",
       " 'genus': 'Sula',\n",
       " 'isBrackish': None,\n",
       " 'isExtinct': None,\n",
       " 'isFreshwater': None,\n",
       " 'isMarine': 1,\n",
       " 'isTerrestrial': None,\n",
       " 'kingdom': 'Animalia',\n",
       " 'lsid': 'urn:lsid:marinespecies.org:taxname:212599',\n",
       " 'match_type': 'exact',\n",
       " 'modified': '2011-04-08T08:18:06Z',\n",
       " 'order': 'Pelecaniformes',\n",
       " 'phylum': 'Chordata',\n",
       " 'rank': 'Species',\n",
       " 'scientificname': 'Sula dactylatra',\n",
       " 'status': 'accepted',\n",
       " 'unacceptreason': None,\n",
       " 'valid_AphiaID': 212599,\n",
       " 'valid_name': 'Sula dactylatra'}"
      ]
     },
     "metadata": {},
     "output_type": "display_data"
    },
    {
     "name": "stdout",
     "output_type": "stream",
     "text": [
      "------------\n",
      "Calcarius lapponicus  -  Lapland Longspur ( bLALOx )\n"
     ]
    },
    {
     "data": {
      "text/plain": [
       "{'AphiaID': 383230,\n",
       " 'MatchMethod': 'Exact Match',\n",
       " 'MatchString': 'Calcarius lapponicus',\n",
       " 'cacheDate': '2017-07-26T14:31:06.108302',\n",
       " 'class': 'Aves',\n",
       " 'family': 'Emberizidae',\n",
       " 'genus': 'Calcarius',\n",
       " 'isBrackish': 0,\n",
       " 'isExtinct': None,\n",
       " 'isFreshwater': None,\n",
       " 'isMarine': 0,\n",
       " 'isTerrestrial': None,\n",
       " 'kingdom': 'Animalia',\n",
       " 'lsid': 'urn:lsid:marinespecies.org:taxname:383230',\n",
       " 'match_type': 'exact',\n",
       " 'modified': '2011-04-08T08:18:06Z',\n",
       " 'order': 'Passeriformes',\n",
       " 'phylum': 'Chordata',\n",
       " 'rank': 'Species',\n",
       " 'scientificname': 'Calcarius lapponicus',\n",
       " 'status': 'accepted',\n",
       " 'unacceptreason': None,\n",
       " 'valid_AphiaID': 383230,\n",
       " 'valid_name': 'Calcarius lapponicus'}"
      ]
     },
     "metadata": {},
     "output_type": "display_data"
    },
    {
     "name": "stdout",
     "output_type": "stream",
     "text": [
      "------------\n",
      "Nomonyx dominicus  -  Masked Duck ( bMADUx )\n"
     ]
    },
    {
     "data": {
      "text/plain": [
       "{'AphiaID': 422574,\n",
       " 'MatchMethod': 'Exact Match',\n",
       " 'MatchString': 'Nomonyx dominicus',\n",
       " 'cacheDate': '2017-07-26T14:31:07.427782',\n",
       " 'class': 'Aves',\n",
       " 'family': 'Anatidae',\n",
       " 'genus': 'Nomonyx',\n",
       " 'isBrackish': None,\n",
       " 'isExtinct': None,\n",
       " 'isFreshwater': 1,\n",
       " 'isMarine': 0,\n",
       " 'isTerrestrial': None,\n",
       " 'kingdom': 'Animalia',\n",
       " 'lsid': 'urn:lsid:marinespecies.org:taxname:422574',\n",
       " 'match_type': 'exact',\n",
       " 'modified': '2011-04-08T08:18:06Z',\n",
       " 'order': 'Anseriformes',\n",
       " 'phylum': 'Chordata',\n",
       " 'rank': 'Species',\n",
       " 'scientificname': 'Nomonyx dominicus',\n",
       " 'status': 'accepted',\n",
       " 'unacceptreason': None,\n",
       " 'valid_AphiaID': 422574,\n",
       " 'valid_name': 'Nomonyx dominicus'}"
      ]
     },
     "metadata": {},
     "output_type": "display_data"
    },
    {
     "name": "stdout",
     "output_type": "stream",
     "text": [
      "------------\n",
      "Larus canus  -  Mew Gull ( bMEGUx )\n"
     ]
    },
    {
     "data": {
      "text/plain": [
       "{'AphiaID': 137141,\n",
       " 'MatchMethod': 'Exact Match',\n",
       " 'MatchString': 'Larus canus',\n",
       " 'cacheDate': '2017-07-26T14:31:08.678716',\n",
       " 'class': 'Aves',\n",
       " 'family': 'Laridae',\n",
       " 'genus': 'Larus',\n",
       " 'isBrackish': None,\n",
       " 'isExtinct': None,\n",
       " 'isFreshwater': None,\n",
       " 'isMarine': 1,\n",
       " 'isTerrestrial': None,\n",
       " 'kingdom': 'Animalia',\n",
       " 'lsid': 'urn:lsid:marinespecies.org:taxname:137141',\n",
       " 'match_type': 'exact',\n",
       " 'modified': '2011-04-08T08:18:06Z',\n",
       " 'order': 'Charadriiformes',\n",
       " 'phylum': 'Chordata',\n",
       " 'rank': 'Species',\n",
       " 'scientificname': 'Larus canus',\n",
       " 'status': 'accepted',\n",
       " 'unacceptreason': None,\n",
       " 'valid_AphiaID': 137141,\n",
       " 'valid_name': 'Larus canus'}"
      ]
     },
     "metadata": {},
     "output_type": "display_data"
    },
    {
     "name": "stdout",
     "output_type": "stream",
     "text": [
      "------------\n",
      "Corvus brachyrhynchos  -  American Crow ( bAMCRx )\n"
     ]
    },
    {
     "data": {
      "text/plain": [
       "{'AphiaID': 159388,\n",
       " 'MatchMethod': 'Exact Match',\n",
       " 'MatchString': 'Corvus brachyrhynchos',\n",
       " 'cacheDate': '2017-07-26T14:31:20.162052',\n",
       " 'class': 'Aves',\n",
       " 'family': 'Corvidae',\n",
       " 'genus': 'Corvus',\n",
       " 'isBrackish': 0,\n",
       " 'isExtinct': None,\n",
       " 'isFreshwater': None,\n",
       " 'isMarine': 0,\n",
       " 'isTerrestrial': None,\n",
       " 'kingdom': 'Animalia',\n",
       " 'lsid': 'urn:lsid:marinespecies.org:taxname:159388',\n",
       " 'match_type': 'exact',\n",
       " 'modified': '2011-04-08T08:18:06Z',\n",
       " 'order': 'Passeriformes',\n",
       " 'phylum': 'Chordata',\n",
       " 'rank': 'Species',\n",
       " 'scientificname': 'Corvus brachyrhynchos',\n",
       " 'status': 'accepted',\n",
       " 'unacceptreason': None,\n",
       " 'valid_AphiaID': 159388,\n",
       " 'valid_name': 'Corvus brachyrhynchos'}"
      ]
     },
     "metadata": {},
     "output_type": "display_data"
    },
    {
     "name": "stdout",
     "output_type": "stream",
     "text": [
      "------------\n",
      "Larus occidentalis  -  Western Gull ( bWEGUx )\n"
     ]
    },
    {
     "data": {
      "text/plain": [
       "{'AphiaID': 343916,\n",
       " 'MatchMethod': 'Exact Match',\n",
       " 'MatchString': 'Larus occidentalis',\n",
       " 'cacheDate': '2017-07-26T14:31:40.743524',\n",
       " 'class': 'Aves',\n",
       " 'family': 'Laridae',\n",
       " 'genus': 'Larus',\n",
       " 'isBrackish': None,\n",
       " 'isExtinct': None,\n",
       " 'isFreshwater': None,\n",
       " 'isMarine': 1,\n",
       " 'isTerrestrial': None,\n",
       " 'kingdom': 'Animalia',\n",
       " 'lsid': 'urn:lsid:marinespecies.org:taxname:343916',\n",
       " 'match_type': 'exact',\n",
       " 'modified': '2011-04-08T08:18:06Z',\n",
       " 'order': 'Charadriiformes',\n",
       " 'phylum': 'Chordata',\n",
       " 'rank': 'Species',\n",
       " 'scientificname': 'Larus occidentalis',\n",
       " 'status': 'accepted',\n",
       " 'unacceptreason': None,\n",
       " 'valid_AphiaID': 343916,\n",
       " 'valid_name': 'Larus occidentalis'}"
      ]
     },
     "metadata": {},
     "output_type": "display_data"
    },
    {
     "name": "stdout",
     "output_type": "stream",
     "text": [
      "------------\n",
      "Pelecanus occidentalis carolinensis  -  Eastern Brown Pelican ( bBRPEa )\n"
     ]
    },
    {
     "data": {
      "text/plain": [
       "{'AphiaID': 343935,\n",
       " 'MatchMethod': 'Exact Match',\n",
       " 'MatchString': 'Pelecanus occidentalis',\n",
       " 'cacheDate': '2017-07-26T14:32:02.104885',\n",
       " 'class': 'Aves',\n",
       " 'family': 'Pelecanidae',\n",
       " 'genus': 'Pelecanus',\n",
       " 'isBrackish': None,\n",
       " 'isExtinct': None,\n",
       " 'isFreshwater': None,\n",
       " 'isMarine': 1,\n",
       " 'isTerrestrial': None,\n",
       " 'kingdom': 'Animalia',\n",
       " 'lsid': 'urn:lsid:marinespecies.org:taxname:343935',\n",
       " 'match_type': 'exact',\n",
       " 'modified': '2011-04-08T08:18:06Z',\n",
       " 'order': 'Pelecaniformes',\n",
       " 'phylum': 'Chordata',\n",
       " 'rank': 'Species',\n",
       " 'scientificname': 'Pelecanus occidentalis',\n",
       " 'status': 'accepted',\n",
       " 'unacceptreason': None,\n",
       " 'valid_AphiaID': 343935,\n",
       " 'valid_name': 'Pelecanus occidentalis'}"
      ]
     },
     "metadata": {},
     "output_type": "display_data"
    },
    {
     "name": "stdout",
     "output_type": "stream",
     "text": [
      "------------\n",
      "Bartramia longicauda  -  Upland Sandpiper ( bUPSAx )\n"
     ]
    },
    {
     "data": {
      "text/plain": [
       "{'AphiaID': 159083,\n",
       " 'MatchMethod': 'Exact Match',\n",
       " 'MatchString': 'Bartramia longicauda',\n",
       " 'cacheDate': '2017-07-26T14:32:14.572065',\n",
       " 'class': 'Aves',\n",
       " 'family': 'Scolopacidae',\n",
       " 'genus': 'Bartramia',\n",
       " 'isBrackish': 0,\n",
       " 'isExtinct': None,\n",
       " 'isFreshwater': None,\n",
       " 'isMarine': 0,\n",
       " 'isTerrestrial': None,\n",
       " 'kingdom': 'Animalia',\n",
       " 'lsid': 'urn:lsid:marinespecies.org:taxname:159083',\n",
       " 'match_type': 'exact',\n",
       " 'modified': '2011-04-27T11:01:37Z',\n",
       " 'order': 'Charadriiformes',\n",
       " 'phylum': 'Chordata',\n",
       " 'rank': 'Species',\n",
       " 'scientificname': 'Bartramia longicauda',\n",
       " 'status': 'accepted',\n",
       " 'unacceptreason': None,\n",
       " 'valid_AphiaID': 159083,\n",
       " 'valid_name': 'Bartramia longicauda'}"
      ]
     },
     "metadata": {},
     "output_type": "display_data"
    },
    {
     "name": "stdout",
     "output_type": "stream",
     "text": [
      "------------\n",
      "Grus canadensis  -  Sandhill Crane ( bSACRx )\n"
     ]
    },
    {
     "data": {
      "text/plain": [
       "{'AphiaID': 422601,\n",
       " 'MatchMethod': 'Exact Match',\n",
       " 'MatchString': 'Grus canadensis',\n",
       " 'cacheDate': '2017-07-26T14:32:15.812635',\n",
       " 'class': 'Aves',\n",
       " 'family': 'Gruidae',\n",
       " 'genus': 'Grus',\n",
       " 'isBrackish': 0,\n",
       " 'isExtinct': None,\n",
       " 'isFreshwater': None,\n",
       " 'isMarine': 0,\n",
       " 'isTerrestrial': None,\n",
       " 'kingdom': 'Animalia',\n",
       " 'lsid': 'urn:lsid:marinespecies.org:taxname:422601',\n",
       " 'match_type': 'exact',\n",
       " 'modified': '2016-08-11T09:15:01Z',\n",
       " 'order': 'Gruiformes',\n",
       " 'phylum': 'Chordata',\n",
       " 'rank': 'Species',\n",
       " 'scientificname': 'Grus canadensis',\n",
       " 'status': 'accepted',\n",
       " 'unacceptreason': None,\n",
       " 'valid_AphiaID': 422601,\n",
       " 'valid_name': 'Grus canadensis'}"
      ]
     },
     "metadata": {},
     "output_type": "display_data"
    },
    {
     "name": "stdout",
     "output_type": "stream",
     "text": [
      "------------\n",
      "Onychoprion fuscatus  -  Sooty Tern ( bSOTEx )\n"
     ]
    },
    {
     "data": {
      "text/plain": [
       "{'AphiaID': 567827,\n",
       " 'MatchMethod': 'Exact Match',\n",
       " 'MatchString': 'Onychoprion fuscatus',\n",
       " 'cacheDate': '2017-07-26T14:32:17.069839',\n",
       " 'class': 'Aves',\n",
       " 'family': 'Sternidae',\n",
       " 'genus': 'Onychoprion',\n",
       " 'isBrackish': None,\n",
       " 'isExtinct': None,\n",
       " 'isFreshwater': None,\n",
       " 'isMarine': 1,\n",
       " 'isTerrestrial': None,\n",
       " 'kingdom': 'Animalia',\n",
       " 'lsid': 'urn:lsid:marinespecies.org:taxname:567827',\n",
       " 'match_type': 'exact',\n",
       " 'modified': '2011-04-07T11:46:01Z',\n",
       " 'order': 'Charadriiformes',\n",
       " 'phylum': 'Chordata',\n",
       " 'rank': 'Species',\n",
       " 'scientificname': 'Onychoprion fuscatus',\n",
       " 'status': 'accepted',\n",
       " 'unacceptreason': None,\n",
       " 'valid_AphiaID': 567827,\n",
       " 'valid_name': 'Onychoprion fuscatus'}"
      ]
     },
     "metadata": {},
     "output_type": "display_data"
    },
    {
     "name": "stdout",
     "output_type": "stream",
     "text": [
      "------------\n",
      "Fregata magnificens  -  Magnificent Frigatebird ( bMAFRx )\n"
     ]
    },
    {
     "data": {
      "text/plain": [
       "{'AphiaID': 343999,\n",
       " 'MatchMethod': 'Exact Match',\n",
       " 'MatchString': 'Fregata magnificens',\n",
       " 'cacheDate': '2017-07-26T14:32:20.106005',\n",
       " 'class': 'Aves',\n",
       " 'family': 'Fregatidae',\n",
       " 'genus': 'Fregata',\n",
       " 'isBrackish': None,\n",
       " 'isExtinct': None,\n",
       " 'isFreshwater': None,\n",
       " 'isMarine': 1,\n",
       " 'isTerrestrial': None,\n",
       " 'kingdom': 'Animalia',\n",
       " 'lsid': 'urn:lsid:marinespecies.org:taxname:343999',\n",
       " 'match_type': 'exact',\n",
       " 'modified': '2011-04-08T08:18:06Z',\n",
       " 'order': 'Pelecaniformes',\n",
       " 'phylum': 'Chordata',\n",
       " 'rank': 'Species',\n",
       " 'scientificname': 'Fregata magnificens',\n",
       " 'status': 'accepted',\n",
       " 'unacceptreason': None,\n",
       " 'valid_AphiaID': 343999,\n",
       " 'valid_name': 'Fregata magnificens'}"
      ]
     },
     "metadata": {},
     "output_type": "display_data"
    },
    {
     "name": "stdout",
     "output_type": "stream",
     "text": [
      "------------\n",
      "Dendroica magnolia  -  Magnolia Warbler ( bMAWAx )\n"
     ]
    },
    {
     "data": {
      "text/plain": [
       "{'AphiaID': 422636,\n",
       " 'MatchMethod': 'Exact Match',\n",
       " 'MatchString': 'Dendroica magnolia',\n",
       " 'cacheDate': '2017-07-26T14:32:28.582362',\n",
       " 'class': 'Aves',\n",
       " 'family': 'Parulidae',\n",
       " 'genus': 'Dendroica',\n",
       " 'isBrackish': 0,\n",
       " 'isExtinct': None,\n",
       " 'isFreshwater': None,\n",
       " 'isMarine': 0,\n",
       " 'isTerrestrial': None,\n",
       " 'kingdom': 'Animalia',\n",
       " 'lsid': 'urn:lsid:marinespecies.org:taxname:422636',\n",
       " 'match_type': 'exact',\n",
       " 'modified': '2011-04-08T08:18:06Z',\n",
       " 'order': 'Passeriformes',\n",
       " 'phylum': 'Chordata',\n",
       " 'rank': 'Species',\n",
       " 'scientificname': 'Dendroica magnolia',\n",
       " 'status': 'accepted',\n",
       " 'unacceptreason': None,\n",
       " 'valid_AphiaID': 422636,\n",
       " 'valid_name': 'Dendroica magnolia'}"
      ]
     },
     "metadata": {},
     "output_type": "display_data"
    },
    {
     "name": "stdout",
     "output_type": "stream",
     "text": [
      "------------\n",
      "Anas fulvigula  -  Mottled Duck ( bMODUx )\n"
     ]
    },
    {
     "data": {
      "text/plain": [
       "{'AphiaID': 422572,\n",
       " 'MatchMethod': 'Exact Match',\n",
       " 'MatchString': 'Anas fulvigula',\n",
       " 'cacheDate': '2017-07-26T14:32:29.850395',\n",
       " 'class': 'Aves',\n",
       " 'family': 'Anatidae',\n",
       " 'genus': 'Anas',\n",
       " 'isBrackish': 1,\n",
       " 'isExtinct': None,\n",
       " 'isFreshwater': 1,\n",
       " 'isMarine': 1,\n",
       " 'isTerrestrial': None,\n",
       " 'kingdom': 'Animalia',\n",
       " 'lsid': 'urn:lsid:marinespecies.org:taxname:422572',\n",
       " 'match_type': 'exact',\n",
       " 'modified': '2011-04-08T08:18:06Z',\n",
       " 'order': 'Anseriformes',\n",
       " 'phylum': 'Chordata',\n",
       " 'rank': 'Species',\n",
       " 'scientificname': 'Anas fulvigula',\n",
       " 'status': 'accepted',\n",
       " 'unacceptreason': None,\n",
       " 'valid_AphiaID': 422572,\n",
       " 'valid_name': 'Anas fulvigula'}"
      ]
     },
     "metadata": {},
     "output_type": "display_data"
    },
    {
     "name": "stdout",
     "output_type": "stream",
     "text": [
      "------------\n",
      "Limosa fedoa  -  Marbled Godwit ( bMAGOx )\n"
     ]
    },
    {
     "data": {
      "text/plain": [
       "{'AphiaID': 158965,\n",
       " 'MatchMethod': 'Exact Match',\n",
       " 'MatchString': 'Limosa fedoa',\n",
       " 'cacheDate': '2017-07-26T14:32:49.041336',\n",
       " 'class': 'Aves',\n",
       " 'family': 'Scolopacidae',\n",
       " 'genus': 'Limosa',\n",
       " 'isBrackish': None,\n",
       " 'isExtinct': None,\n",
       " 'isFreshwater': None,\n",
       " 'isMarine': 1,\n",
       " 'isTerrestrial': None,\n",
       " 'kingdom': 'Animalia',\n",
       " 'lsid': 'urn:lsid:marinespecies.org:taxname:158965',\n",
       " 'match_type': 'exact',\n",
       " 'modified': '2011-04-27T11:01:37Z',\n",
       " 'order': 'Charadriiformes',\n",
       " 'phylum': 'Chordata',\n",
       " 'rank': 'Species',\n",
       " 'scientificname': 'Limosa fedoa',\n",
       " 'status': 'accepted',\n",
       " 'unacceptreason': None,\n",
       " 'valid_AphiaID': 158965,\n",
       " 'valid_name': 'Limosa fedoa'}"
      ]
     },
     "metadata": {},
     "output_type": "display_data"
    },
    {
     "name": "stdout",
     "output_type": "stream",
     "text": [
      "------------\n",
      "Tringa solitaria  -  Solitary Sandpiper ( bSOSAx )\n"
     ]
    },
    {
     "data": {
      "text/plain": [
       "{'AphiaID': 158969,\n",
       " 'MatchMethod': 'Exact Match',\n",
       " 'MatchString': 'Tringa solitaria',\n",
       " 'cacheDate': '2017-07-26T14:32:53.123379',\n",
       " 'class': 'Aves',\n",
       " 'family': 'Scolopacidae',\n",
       " 'genus': 'Tringa',\n",
       " 'isBrackish': 0,\n",
       " 'isExtinct': None,\n",
       " 'isFreshwater': None,\n",
       " 'isMarine': 0,\n",
       " 'isTerrestrial': None,\n",
       " 'kingdom': 'Animalia',\n",
       " 'lsid': 'urn:lsid:marinespecies.org:taxname:158969',\n",
       " 'match_type': 'exact',\n",
       " 'modified': '2011-04-08T08:18:06Z',\n",
       " 'order': 'Charadriiformes',\n",
       " 'phylum': 'Chordata',\n",
       " 'rank': 'Species',\n",
       " 'scientificname': 'Tringa solitaria',\n",
       " 'status': 'accepted',\n",
       " 'unacceptreason': None,\n",
       " 'valid_AphiaID': 158969,\n",
       " 'valid_name': 'Tringa solitaria'}"
      ]
     },
     "metadata": {},
     "output_type": "display_data"
    },
    {
     "name": "stdout",
     "output_type": "stream",
     "text": [
      "------------\n",
      "Anas crecca  -  Green-winged Teal ( bGWTEx )\n"
     ]
    },
    {
     "data": {
      "text/plain": [
       "{'AphiaID': 158943,\n",
       " 'MatchMethod': 'Exact Match',\n",
       " 'MatchString': 'Anas crecca',\n",
       " 'cacheDate': '2017-07-26T14:32:59.578700',\n",
       " 'class': 'Aves',\n",
       " 'family': 'Anatidae',\n",
       " 'genus': 'Anas',\n",
       " 'isBrackish': None,\n",
       " 'isExtinct': None,\n",
       " 'isFreshwater': 1,\n",
       " 'isMarine': 0,\n",
       " 'isTerrestrial': None,\n",
       " 'kingdom': 'Animalia',\n",
       " 'lsid': 'urn:lsid:marinespecies.org:taxname:158943',\n",
       " 'match_type': 'exact',\n",
       " 'modified': '2011-04-27T11:01:37Z',\n",
       " 'order': 'Anseriformes',\n",
       " 'phylum': 'Chordata',\n",
       " 'rank': 'Species',\n",
       " 'scientificname': 'Anas crecca',\n",
       " 'status': 'accepted',\n",
       " 'unacceptreason': None,\n",
       " 'valid_AphiaID': 158943,\n",
       " 'valid_name': 'Anas crecca'}"
      ]
     },
     "metadata": {},
     "output_type": "display_data"
    },
    {
     "name": "stdout",
     "output_type": "stream",
     "text": [
      "------------\n",
      "Vermivora chrysoptera  -  Golden-winged Warbler ( bGWWAx )\n"
     ]
    },
    {
     "data": {
      "text/plain": [
       "{'AphiaID': 422630,\n",
       " 'MatchMethod': 'Exact Match',\n",
       " 'MatchString': 'Vermivora chrysoptera',\n",
       " 'cacheDate': '2017-07-26T14:33:13.084797',\n",
       " 'class': 'Aves',\n",
       " 'family': 'Parulidae',\n",
       " 'genus': 'Vermivora',\n",
       " 'isBrackish': 0,\n",
       " 'isExtinct': None,\n",
       " 'isFreshwater': None,\n",
       " 'isMarine': 0,\n",
       " 'isTerrestrial': None,\n",
       " 'kingdom': 'Animalia',\n",
       " 'lsid': 'urn:lsid:marinespecies.org:taxname:422630',\n",
       " 'match_type': 'exact',\n",
       " 'modified': '2011-04-08T08:18:06Z',\n",
       " 'order': 'Passeriformes',\n",
       " 'phylum': 'Chordata',\n",
       " 'rank': 'Species',\n",
       " 'scientificname': 'Vermivora chrysoptera',\n",
       " 'status': 'accepted',\n",
       " 'unacceptreason': None,\n",
       " 'valid_AphiaID': 422630,\n",
       " 'valid_name': 'Vermivora chrysoptera'}"
      ]
     },
     "metadata": {},
     "output_type": "display_data"
    },
    {
     "name": "stdout",
     "output_type": "stream",
     "text": [
      "------------\n",
      "Carduelis flammea  -  Common Redpoll ( bCOREx )\n"
     ]
    },
    {
     "data": {
      "text/plain": [
       "{'AphiaID': 558537,\n",
       " 'MatchMethod': 'Exact Match',\n",
       " 'MatchString': 'Carduelis flammea',\n",
       " 'cacheDate': '2017-07-26T14:33:26.781089',\n",
       " 'class': 'Aves',\n",
       " 'family': 'Fringillidae',\n",
       " 'genus': 'Carduelis',\n",
       " 'isBrackish': 0,\n",
       " 'isExtinct': None,\n",
       " 'isFreshwater': 0,\n",
       " 'isMarine': 0,\n",
       " 'isTerrestrial': 1,\n",
       " 'kingdom': 'Animalia',\n",
       " 'lsid': 'urn:lsid:marinespecies.org:taxname:558537',\n",
       " 'match_type': 'exact',\n",
       " 'modified': '2011-04-08T08:18:06Z',\n",
       " 'order': 'Passeriformes',\n",
       " 'phylum': 'Chordata',\n",
       " 'rank': 'Species',\n",
       " 'scientificname': 'Carduelis flammea',\n",
       " 'status': 'accepted',\n",
       " 'unacceptreason': None,\n",
       " 'valid_AphiaID': 558537,\n",
       " 'valid_name': 'Carduelis flammea'}"
      ]
     },
     "metadata": {},
     "output_type": "display_data"
    },
    {
     "name": "stdout",
     "output_type": "stream",
     "text": [
      "------------\n",
      "Larus glaucescens  -  Glaucous-winged Gull ( bGWGUx )\n"
     ]
    },
    {
     "data": {
      "text/plain": [
       "{'AphiaID': 343911,\n",
       " 'MatchMethod': 'Exact Match',\n",
       " 'MatchString': 'Larus glaucescens',\n",
       " 'cacheDate': '2017-07-26T14:33:43.174366',\n",
       " 'class': 'Aves',\n",
       " 'family': 'Laridae',\n",
       " 'genus': 'Larus',\n",
       " 'isBrackish': None,\n",
       " 'isExtinct': None,\n",
       " 'isFreshwater': None,\n",
       " 'isMarine': 1,\n",
       " 'isTerrestrial': None,\n",
       " 'kingdom': 'Animalia',\n",
       " 'lsid': 'urn:lsid:marinespecies.org:taxname:343911',\n",
       " 'match_type': 'exact',\n",
       " 'modified': '2011-04-08T08:18:06Z',\n",
       " 'order': 'Charadriiformes',\n",
       " 'phylum': 'Chordata',\n",
       " 'rank': 'Species',\n",
       " 'scientificname': 'Larus glaucescens',\n",
       " 'status': 'accepted',\n",
       " 'unacceptreason': None,\n",
       " 'valid_AphiaID': 343911,\n",
       " 'valid_name': 'Larus glaucescens'}"
      ]
     },
     "metadata": {},
     "output_type": "display_data"
    },
    {
     "name": "stdout",
     "output_type": "stream",
     "text": [
      "------------\n",
      "Lepidochelys olivacea  -  Olive Ridley Sea Turtle ( rORSTx )\n"
     ]
    },
    {
     "data": {
      "text/plain": [
       "{'AphiaID': 220293,\n",
       " 'MatchMethod': 'Exact Match',\n",
       " 'MatchString': 'Lepidochelys olivacea',\n",
       " 'cacheDate': '2017-07-26T14:34:04.760107',\n",
       " 'class': 'Reptilia',\n",
       " 'family': 'Cheloniidae',\n",
       " 'genus': 'Lepidochelys',\n",
       " 'isBrackish': None,\n",
       " 'isExtinct': None,\n",
       " 'isFreshwater': None,\n",
       " 'isMarine': 1,\n",
       " 'isTerrestrial': None,\n",
       " 'kingdom': 'Animalia',\n",
       " 'lsid': 'urn:lsid:marinespecies.org:taxname:220293',\n",
       " 'match_type': 'exact',\n",
       " 'modified': '2009-06-30T08:57:17Z',\n",
       " 'order': 'Testudines',\n",
       " 'phylum': 'Chordata',\n",
       " 'rank': 'Species',\n",
       " 'scientificname': 'Lepidochelys olivacea',\n",
       " 'status': 'accepted',\n",
       " 'unacceptreason': None,\n",
       " 'valid_AphiaID': 220293,\n",
       " 'valid_name': 'Lepidochelys olivacea'}"
      ]
     },
     "metadata": {},
     "output_type": "display_data"
    },
    {
     "name": "stdout",
     "output_type": "stream",
     "text": [
      "------------\n",
      "Aquila chrysaetos  -  Golden Eagle ( bGOEAx )\n"
     ]
    },
    {
     "data": {
      "text/plain": [
       "{'AphiaID': 159107,\n",
       " 'MatchMethod': 'Exact Match',\n",
       " 'MatchString': 'Aquila chrysaetos',\n",
       " 'cacheDate': '2017-07-26T14:34:16.275627',\n",
       " 'class': 'Aves',\n",
       " 'family': 'Accipitridae',\n",
       " 'genus': 'Aquila',\n",
       " 'isBrackish': 0,\n",
       " 'isExtinct': None,\n",
       " 'isFreshwater': None,\n",
       " 'isMarine': 0,\n",
       " 'isTerrestrial': None,\n",
       " 'kingdom': 'Animalia',\n",
       " 'lsid': 'urn:lsid:marinespecies.org:taxname:159107',\n",
       " 'match_type': 'exact',\n",
       " 'modified': '2011-04-27T11:01:37Z',\n",
       " 'order': 'Falconiformes',\n",
       " 'phylum': 'Chordata',\n",
       " 'rank': 'Species',\n",
       " 'scientificname': 'Aquila chrysaetos',\n",
       " 'status': 'accepted',\n",
       " 'unacceptreason': None,\n",
       " 'valid_AphiaID': 159107,\n",
       " 'valid_name': 'Aquila chrysaetos'}"
      ]
     },
     "metadata": {},
     "output_type": "display_data"
    },
    {
     "name": "stdout",
     "output_type": "stream",
     "text": [
      "------------\n",
      "Anas strepera  -  Gadwall ( bGADWx )\n"
     ]
    },
    {
     "data": {
      "text/plain": [
       "{'AphiaID': 159171,\n",
       " 'MatchMethod': 'Exact Match',\n",
       " 'MatchString': 'Anas strepera',\n",
       " 'cacheDate': '2017-07-26T14:34:25.573292',\n",
       " 'class': 'Aves',\n",
       " 'family': 'Anatidae',\n",
       " 'genus': 'Anas',\n",
       " 'isBrackish': None,\n",
       " 'isExtinct': None,\n",
       " 'isFreshwater': 1,\n",
       " 'isMarine': 0,\n",
       " 'isTerrestrial': None,\n",
       " 'kingdom': 'Animalia',\n",
       " 'lsid': 'urn:lsid:marinespecies.org:taxname:159171',\n",
       " 'match_type': 'exact',\n",
       " 'modified': '2011-04-08T08:18:06Z',\n",
       " 'order': 'Anseriformes',\n",
       " 'phylum': 'Chordata',\n",
       " 'rank': 'Species',\n",
       " 'scientificname': 'Anas strepera',\n",
       " 'status': 'accepted',\n",
       " 'unacceptreason': None,\n",
       " 'valid_AphiaID': 159171,\n",
       " 'valid_name': 'Anas strepera'}"
      ]
     },
     "metadata": {},
     "output_type": "display_data"
    },
    {
     "name": "stdout",
     "output_type": "stream",
     "text": [
      "------------\n",
      "Larus hyperboreus  -  Glaucous Gull ( bGLGUx )\n"
     ]
    },
    {
     "data": {
      "text/plain": [
       "{'AphiaID': 137145,\n",
       " 'MatchMethod': 'Exact Match',\n",
       " 'MatchString': 'Larus hyperboreus',\n",
       " 'cacheDate': '2017-07-26T14:34:27.629151',\n",
       " 'class': 'Aves',\n",
       " 'family': 'Laridae',\n",
       " 'genus': 'Larus',\n",
       " 'isBrackish': None,\n",
       " 'isExtinct': None,\n",
       " 'isFreshwater': None,\n",
       " 'isMarine': 1,\n",
       " 'isTerrestrial': None,\n",
       " 'kingdom': 'Animalia',\n",
       " 'lsid': 'urn:lsid:marinespecies.org:taxname:137145',\n",
       " 'match_type': 'exact',\n",
       " 'modified': '2011-04-08T08:18:06Z',\n",
       " 'order': 'Charadriiformes',\n",
       " 'phylum': 'Chordata',\n",
       " 'rank': 'Species',\n",
       " 'scientificname': 'Larus hyperboreus',\n",
       " 'status': 'accepted',\n",
       " 'unacceptreason': None,\n",
       " 'valid_AphiaID': 137145,\n",
       " 'valid_name': 'Larus hyperboreus'}"
      ]
     },
     "metadata": {},
     "output_type": "display_data"
    },
    {
     "name": "stdout",
     "output_type": "stream",
     "text": [
      "------------\n",
      "Nyctanassa violacea  -  Yellow-crowned Night-heron ( bYCNHx )\n"
     ]
    },
    {
     "data": {
      "text/plain": [
       "{'AphiaID': 159121,\n",
       " 'MatchMethod': 'Exact Match',\n",
       " 'MatchString': 'Nyctanassa violacea',\n",
       " 'cacheDate': '2017-07-26T14:34:43.046693',\n",
       " 'class': 'Aves',\n",
       " 'family': 'Ardeidae',\n",
       " 'genus': 'Nyctanassa',\n",
       " 'isBrackish': 0,\n",
       " 'isExtinct': None,\n",
       " 'isFreshwater': 1,\n",
       " 'isMarine': 0,\n",
       " 'isTerrestrial': None,\n",
       " 'kingdom': 'Animalia',\n",
       " 'lsid': 'urn:lsid:marinespecies.org:taxname:159121',\n",
       " 'match_type': 'exact',\n",
       " 'modified': '2011-04-27T11:01:37Z',\n",
       " 'order': 'Ciconiiformes',\n",
       " 'phylum': 'Chordata',\n",
       " 'rank': 'Species',\n",
       " 'scientificname': 'Nyctanassa violacea',\n",
       " 'status': 'accepted',\n",
       " 'unacceptreason': None,\n",
       " 'valid_AphiaID': 159121,\n",
       " 'valid_name': 'Nyctanassa violacea'}"
      ]
     },
     "metadata": {},
     "output_type": "display_data"
    },
    {
     "name": "stdout",
     "output_type": "stream",
     "text": [
      "------------\n",
      "Chelonia mydas  -  Green Sea Turtle ( rGSTUx )\n"
     ]
    },
    {
     "data": {
      "text/plain": [
       "{'AphiaID': 137206,\n",
       " 'MatchMethod': 'Exact Match',\n",
       " 'MatchString': 'Chelonia mydas',\n",
       " 'cacheDate': '2017-07-26T14:35:37.587271',\n",
       " 'class': 'Reptilia',\n",
       " 'family': 'Cheloniidae',\n",
       " 'genus': 'Chelonia',\n",
       " 'isBrackish': None,\n",
       " 'isExtinct': None,\n",
       " 'isFreshwater': None,\n",
       " 'isMarine': 1,\n",
       " 'isTerrestrial': None,\n",
       " 'kingdom': 'Animalia',\n",
       " 'lsid': 'urn:lsid:marinespecies.org:taxname:137206',\n",
       " 'match_type': 'exact',\n",
       " 'modified': '2009-06-30T08:57:17Z',\n",
       " 'order': 'Testudines',\n",
       " 'phylum': 'Chordata',\n",
       " 'rank': 'Species',\n",
       " 'scientificname': 'Chelonia mydas',\n",
       " 'status': 'accepted',\n",
       " 'unacceptreason': None,\n",
       " 'valid_AphiaID': 137206,\n",
       " 'valid_name': 'Chelonia mydas'}"
      ]
     },
     "metadata": {},
     "output_type": "display_data"
    },
    {
     "name": "stdout",
     "output_type": "stream",
     "text": [
      "------------\n",
      "Buteo lineatus  -  Red-shouldered Hawk ( bRSHAx )\n"
     ]
    },
    {
     "data": {
      "text/plain": [
       "{'AphiaID': 159368,\n",
       " 'MatchMethod': 'Exact Match',\n",
       " 'MatchString': 'Buteo lineatus',\n",
       " 'cacheDate': '2017-07-26T14:35:47.516914',\n",
       " 'class': 'Aves',\n",
       " 'family': 'Accipitridae',\n",
       " 'genus': 'Buteo',\n",
       " 'isBrackish': 0,\n",
       " 'isExtinct': None,\n",
       " 'isFreshwater': None,\n",
       " 'isMarine': 0,\n",
       " 'isTerrestrial': None,\n",
       " 'kingdom': 'Animalia',\n",
       " 'lsid': 'urn:lsid:marinespecies.org:taxname:159368',\n",
       " 'match_type': 'exact',\n",
       " 'modified': '2011-04-27T11:01:37Z',\n",
       " 'order': 'Falconiformes',\n",
       " 'phylum': 'Chordata',\n",
       " 'rank': 'Species',\n",
       " 'scientificname': 'Buteo lineatus',\n",
       " 'status': 'accepted',\n",
       " 'unacceptreason': None,\n",
       " 'valid_AphiaID': 159368,\n",
       " 'valid_name': 'Buteo lineatus'}"
      ]
     },
     "metadata": {},
     "output_type": "display_data"
    },
    {
     "name": "stdout",
     "output_type": "stream",
     "text": [
      "------------\n",
      "Trichechus manatus  -  West Indian Manatee ( mWIMAx )\n"
     ]
    },
    {
     "data": {
      "text/plain": [
       "{'AphiaID': 159509,\n",
       " 'MatchMethod': 'Exact Match',\n",
       " 'MatchString': 'Trichechus manatus',\n",
       " 'cacheDate': '2017-07-26T14:35:52.197447',\n",
       " 'class': 'Mammalia',\n",
       " 'family': 'Trichechidae',\n",
       " 'genus': 'Trichechus',\n",
       " 'isBrackish': 1,\n",
       " 'isExtinct': None,\n",
       " 'isFreshwater': 1,\n",
       " 'isMarine': 1,\n",
       " 'isTerrestrial': 0,\n",
       " 'kingdom': 'Animalia',\n",
       " 'lsid': 'urn:lsid:marinespecies.org:taxname:159509',\n",
       " 'match_type': 'exact',\n",
       " 'modified': '2010-02-05T18:38:19Z',\n",
       " 'order': 'Sirenia',\n",
       " 'phylum': 'Chordata',\n",
       " 'rank': 'Species',\n",
       " 'scientificname': 'Trichechus manatus',\n",
       " 'status': 'accepted',\n",
       " 'unacceptreason': None,\n",
       " 'valid_AphiaID': 159509,\n",
       " 'valid_name': 'Trichechus manatus'}"
      ]
     },
     "metadata": {},
     "output_type": "display_data"
    },
    {
     "name": "stdout",
     "output_type": "stream",
     "text": [
      "------------\n",
      "Histrionicus histrionicus  -  Harlequin Duck ( bHADUx )\n"
     ]
    },
    {
     "data": {
      "text/plain": [
       "{'AphiaID': 159092,\n",
       " 'MatchMethod': 'Exact Match',\n",
       " 'MatchString': 'Histrionicus histrionicus',\n",
       " 'cacheDate': '2017-07-26T14:35:55.000725',\n",
       " 'class': 'Aves',\n",
       " 'family': 'Anatidae',\n",
       " 'genus': 'Histrionicus',\n",
       " 'isBrackish': None,\n",
       " 'isExtinct': None,\n",
       " 'isFreshwater': None,\n",
       " 'isMarine': 1,\n",
       " 'isTerrestrial': None,\n",
       " 'kingdom': 'Animalia',\n",
       " 'lsid': 'urn:lsid:marinespecies.org:taxname:159092',\n",
       " 'match_type': 'exact',\n",
       " 'modified': '2011-04-27T11:01:37Z',\n",
       " 'order': 'Anseriformes',\n",
       " 'phylum': 'Chordata',\n",
       " 'rank': 'Species',\n",
       " 'scientificname': 'Histrionicus histrionicus',\n",
       " 'status': 'accepted',\n",
       " 'unacceptreason': None,\n",
       " 'valid_AphiaID': 159092,\n",
       " 'valid_name': 'Histrionicus histrionicus'}"
      ]
     },
     "metadata": {},
     "output_type": "display_data"
    },
    {
     "name": "stdout",
     "output_type": "stream",
     "text": [
      "------------\n",
      "Wilsonia citrina  -  Hooded Warbler ( bHOWAx )\n"
     ]
    },
    {
     "data": {
      "text/plain": [
       "{'AphiaID': 422661,\n",
       " 'MatchMethod': 'Exact Match',\n",
       " 'MatchString': 'Wilsonia citrina',\n",
       " 'cacheDate': '2017-07-26T14:35:56.196638',\n",
       " 'class': 'Aves',\n",
       " 'family': 'Parulidae',\n",
       " 'genus': 'Wilsonia',\n",
       " 'isBrackish': 0,\n",
       " 'isExtinct': None,\n",
       " 'isFreshwater': None,\n",
       " 'isMarine': 0,\n",
       " 'isTerrestrial': None,\n",
       " 'kingdom': 'Animalia',\n",
       " 'lsid': 'urn:lsid:marinespecies.org:taxname:422661',\n",
       " 'match_type': 'exact',\n",
       " 'modified': '2011-04-27T11:01:37Z',\n",
       " 'order': 'Passeriformes',\n",
       " 'phylum': 'Chordata',\n",
       " 'rank': 'Species',\n",
       " 'scientificname': 'Wilsonia citrina',\n",
       " 'status': 'accepted',\n",
       " 'unacceptreason': None,\n",
       " 'valid_AphiaID': 422661,\n",
       " 'valid_name': 'Wilsonia citrina'}"
      ]
     },
     "metadata": {},
     "output_type": "display_data"
    },
    {
     "name": "stdout",
     "output_type": "stream",
     "text": [
      "------------\n",
      "Larus delawarensis  -  Ring-billed Gull ( bRBGUx )\n"
     ]
    },
    {
     "data": {
      "text/plain": [
       "{'AphiaID': 148797,\n",
       " 'MatchMethod': 'Exact Match',\n",
       " 'MatchString': 'Larus delawarensis',\n",
       " 'cacheDate': '2017-07-26T14:36:00.658131',\n",
       " 'class': 'Aves',\n",
       " 'family': 'Laridae',\n",
       " 'genus': 'Larus',\n",
       " 'isBrackish': None,\n",
       " 'isExtinct': None,\n",
       " 'isFreshwater': None,\n",
       " 'isMarine': 1,\n",
       " 'isTerrestrial': None,\n",
       " 'kingdom': 'Animalia',\n",
       " 'lsid': 'urn:lsid:marinespecies.org:taxname:148797',\n",
       " 'match_type': 'exact',\n",
       " 'modified': '2011-04-08T08:18:06Z',\n",
       " 'order': 'Charadriiformes',\n",
       " 'phylum': 'Chordata',\n",
       " 'rank': 'Species',\n",
       " 'scientificname': 'Larus delawarensis',\n",
       " 'status': 'accepted',\n",
       " 'unacceptreason': None,\n",
       " 'valid_AphiaID': 148797,\n",
       " 'valid_name': 'Larus delawarensis'}"
      ]
     },
     "metadata": {},
     "output_type": "display_data"
    },
    {
     "name": "stdout",
     "output_type": "stream",
     "text": [
      "------------\n",
      "Ammodramus nelsoni  -  Nelson's Sharp-tailed Sparrow ( bNSTSx )\n"
     ]
    },
    {
     "data": {
      "text/plain": [
       "{'AphiaID': 422668,\n",
       " 'MatchMethod': 'Exact Match',\n",
       " 'MatchString': 'Ammodramus nelsoni',\n",
       " 'cacheDate': '2017-07-26T14:36:09.668768',\n",
       " 'class': 'Aves',\n",
       " 'family': 'Fringillidae',\n",
       " 'genus': 'Ammodramus',\n",
       " 'isBrackish': 0,\n",
       " 'isExtinct': None,\n",
       " 'isFreshwater': None,\n",
       " 'isMarine': 0,\n",
       " 'isTerrestrial': None,\n",
       " 'kingdom': 'Animalia',\n",
       " 'lsid': 'urn:lsid:marinespecies.org:taxname:422668',\n",
       " 'match_type': 'exact',\n",
       " 'modified': '2011-04-08T08:18:06Z',\n",
       " 'order': 'Passeriformes',\n",
       " 'phylum': 'Chordata',\n",
       " 'rank': 'Species',\n",
       " 'scientificname': 'Ammodramus nelsoni',\n",
       " 'status': 'accepted',\n",
       " 'unacceptreason': None,\n",
       " 'valid_AphiaID': 422668,\n",
       " 'valid_name': 'Ammodramus nelsoni'}"
      ]
     },
     "metadata": {},
     "output_type": "display_data"
    },
    {
     "name": "stdout",
     "output_type": "stream",
     "text": [
      "------------\n",
      "Pluvialis fulva  -  Pacific Golden-plover ( bPAGPx )\n"
     ]
    },
    {
     "data": {
      "text/plain": [
       "{'AphiaID': 232044,\n",
       " 'MatchMethod': 'Exact Match',\n",
       " 'MatchString': 'Pluvialis fulva',\n",
       " 'cacheDate': '2017-07-26T14:36:10.910338',\n",
       " 'class': 'Aves',\n",
       " 'family': 'Charadriidae',\n",
       " 'genus': 'Pluvialis',\n",
       " 'isBrackish': None,\n",
       " 'isExtinct': None,\n",
       " 'isFreshwater': None,\n",
       " 'isMarine': 1,\n",
       " 'isTerrestrial': None,\n",
       " 'kingdom': 'Animalia',\n",
       " 'lsid': 'urn:lsid:marinespecies.org:taxname:232044',\n",
       " 'match_type': 'exact',\n",
       " 'modified': '2011-04-08T08:18:06Z',\n",
       " 'order': 'Charadriiformes',\n",
       " 'phylum': 'Chordata',\n",
       " 'rank': 'Species',\n",
       " 'scientificname': 'Pluvialis fulva',\n",
       " 'status': 'accepted',\n",
       " 'unacceptreason': None,\n",
       " 'valid_AphiaID': 232044,\n",
       " 'valid_name': 'Pluvialis fulva'}"
      ]
     },
     "metadata": {},
     "output_type": "display_data"
    },
    {
     "name": "stdout",
     "output_type": "stream",
     "text": [
      "------------\n",
      "Dendroica palmarum  -  Palm Warbler ( bPAWAx )\n"
     ]
    },
    {
     "data": {
      "text/plain": [
       "{'AphiaID': 422644,\n",
       " 'MatchMethod': 'Exact Match',\n",
       " 'MatchString': 'Dendroica palmarum',\n",
       " 'cacheDate': '2017-07-26T14:36:12.139575',\n",
       " 'class': 'Aves',\n",
       " 'family': 'Parulidae',\n",
       " 'genus': 'Dendroica',\n",
       " 'isBrackish': 0,\n",
       " 'isExtinct': None,\n",
       " 'isFreshwater': None,\n",
       " 'isMarine': 0,\n",
       " 'isTerrestrial': None,\n",
       " 'kingdom': 'Animalia',\n",
       " 'lsid': 'urn:lsid:marinespecies.org:taxname:422644',\n",
       " 'match_type': 'exact',\n",
       " 'modified': '2011-04-08T08:18:06Z',\n",
       " 'order': 'Passeriformes',\n",
       " 'phylum': 'Chordata',\n",
       " 'rank': 'Species',\n",
       " 'scientificname': 'Dendroica palmarum',\n",
       " 'status': 'accepted',\n",
       " 'unacceptreason': None,\n",
       " 'valid_AphiaID': 422644,\n",
       " 'valid_name': 'Dendroica palmarum'}"
      ]
     },
     "metadata": {},
     "output_type": "display_data"
    },
    {
     "name": "stdout",
     "output_type": "stream",
     "text": [
      "------------\n",
      "Corvus corax  -  Common Raven ( bCORAx )\n"
     ]
    },
    {
     "data": {
      "text/plain": [
       "{'AphiaID': 159389,\n",
       " 'MatchMethod': 'Exact Match',\n",
       " 'MatchString': 'Corvus corax',\n",
       " 'cacheDate': '2017-07-26T14:36:34.592120',\n",
       " 'class': 'Aves',\n",
       " 'family': 'Corvidae',\n",
       " 'genus': 'Corvus',\n",
       " 'isBrackish': 0,\n",
       " 'isExtinct': None,\n",
       " 'isFreshwater': None,\n",
       " 'isMarine': 0,\n",
       " 'isTerrestrial': None,\n",
       " 'kingdom': 'Animalia',\n",
       " 'lsid': 'urn:lsid:marinespecies.org:taxname:159389',\n",
       " 'match_type': 'exact',\n",
       " 'modified': '2011-04-08T08:18:06Z',\n",
       " 'order': 'Passeriformes',\n",
       " 'phylum': 'Chordata',\n",
       " 'rank': 'Species',\n",
       " 'scientificname': 'Corvus corax',\n",
       " 'status': 'accepted',\n",
       " 'unacceptreason': None,\n",
       " 'valid_AphiaID': 159389,\n",
       " 'valid_name': 'Corvus corax'}"
      ]
     },
     "metadata": {},
     "output_type": "display_data"
    },
    {
     "name": "stdout",
     "output_type": "stream",
     "text": [
      "------------\n",
      "Charadrius alexandrinus nivosus  -  Western Snowy Plover ( bSNPLn )\n"
     ]
    },
    {
     "data": {
      "text/plain": [
       "{'AphiaID': 212611,\n",
       " 'MatchMethod': 'Exact Match',\n",
       " 'MatchString': 'Charadrius alexandrinus',\n",
       " 'cacheDate': '2017-07-26T14:36:43.027334',\n",
       " 'class': 'Aves',\n",
       " 'family': 'Charadriidae',\n",
       " 'genus': 'Charadrius',\n",
       " 'isBrackish': None,\n",
       " 'isExtinct': None,\n",
       " 'isFreshwater': None,\n",
       " 'isMarine': 1,\n",
       " 'isTerrestrial': None,\n",
       " 'kingdom': 'Animalia',\n",
       " 'lsid': 'urn:lsid:marinespecies.org:taxname:212611',\n",
       " 'match_type': 'exact',\n",
       " 'modified': '2011-04-08T08:18:06Z',\n",
       " 'order': 'Charadriiformes',\n",
       " 'phylum': 'Chordata',\n",
       " 'rank': 'Species',\n",
       " 'scientificname': 'Charadrius alexandrinus',\n",
       " 'status': 'accepted',\n",
       " 'unacceptreason': None,\n",
       " 'valid_AphiaID': 212611,\n",
       " 'valid_name': 'Charadrius alexandrinus'}"
      ]
     },
     "metadata": {},
     "output_type": "display_data"
    },
    {
     "name": "stdout",
     "output_type": "stream",
     "text": [
      "------------\n",
      "Nycticorax nycticorax  -  Black-crowned Night-heron ( bBCNHx )\n"
     ]
    },
    {
     "data": {
      "text/plain": [
       "{'AphiaID': 159123,\n",
       " 'MatchMethod': 'Exact Match',\n",
       " 'MatchString': 'Nycticorax nycticorax',\n",
       " 'cacheDate': '2017-07-26T14:36:45.931322',\n",
       " 'class': 'Aves',\n",
       " 'family': 'Ardeidae',\n",
       " 'genus': 'Nycticorax',\n",
       " 'isBrackish': 0,\n",
       " 'isExtinct': None,\n",
       " 'isFreshwater': 1,\n",
       " 'isMarine': 0,\n",
       " 'isTerrestrial': None,\n",
       " 'kingdom': 'Animalia',\n",
       " 'lsid': 'urn:lsid:marinespecies.org:taxname:159123',\n",
       " 'match_type': 'exact',\n",
       " 'modified': '2011-04-27T11:01:37Z',\n",
       " 'order': 'Ciconiiformes',\n",
       " 'phylum': 'Chordata',\n",
       " 'rank': 'Species',\n",
       " 'scientificname': 'Nycticorax nycticorax',\n",
       " 'status': 'accepted',\n",
       " 'unacceptreason': None,\n",
       " 'valid_AphiaID': 159123,\n",
       " 'valid_name': 'Nycticorax nycticorax'}"
      ]
     },
     "metadata": {},
     "output_type": "display_data"
    },
    {
     "name": "stdout",
     "output_type": "stream",
     "text": [
      "------------\n",
      "Botaurus lentiginosus  -  American Bittern ( bAMBIx )\n"
     ]
    },
    {
     "data": {
      "text/plain": [
       "{'AphiaID': 159839,\n",
       " 'MatchMethod': 'Exact Match',\n",
       " 'MatchString': 'Botaurus lentiginosus',\n",
       " 'cacheDate': '2017-07-26T14:36:48.867254',\n",
       " 'class': 'Aves',\n",
       " 'family': 'Ardeidae',\n",
       " 'genus': 'Botaurus',\n",
       " 'isBrackish': 0,\n",
       " 'isExtinct': None,\n",
       " 'isFreshwater': 1,\n",
       " 'isMarine': 0,\n",
       " 'isTerrestrial': None,\n",
       " 'kingdom': 'Animalia',\n",
       " 'lsid': 'urn:lsid:marinespecies.org:taxname:159839',\n",
       " 'match_type': 'exact',\n",
       " 'modified': '2011-04-27T11:01:37Z',\n",
       " 'order': 'Ciconiiformes',\n",
       " 'phylum': 'Chordata',\n",
       " 'rank': 'Species',\n",
       " 'scientificname': 'Botaurus lentiginosus',\n",
       " 'status': 'accepted',\n",
       " 'unacceptreason': None,\n",
       " 'valid_AphiaID': 159839,\n",
       " 'valid_name': 'Botaurus lentiginosus'}"
      ]
     },
     "metadata": {},
     "output_type": "display_data"
    },
    {
     "name": "stdout",
     "output_type": "stream",
     "text": [
      "------------\n",
      "Athene cunicularia hypugaea  -  Western Burrowing Owl ( bBUOWh )\n"
     ]
    },
    {
     "data": {
      "text/plain": [
       "{'AphiaID': 422611,\n",
       " 'MatchMethod': 'Exact Match',\n",
       " 'MatchString': 'Athene cunicularia',\n",
       " 'cacheDate': '2017-07-26T14:37:07.949632',\n",
       " 'class': 'Aves',\n",
       " 'family': 'Strigidae',\n",
       " 'genus': 'Athene',\n",
       " 'isBrackish': 0,\n",
       " 'isExtinct': None,\n",
       " 'isFreshwater': None,\n",
       " 'isMarine': 0,\n",
       " 'isTerrestrial': None,\n",
       " 'kingdom': 'Animalia',\n",
       " 'lsid': 'urn:lsid:marinespecies.org:taxname:422611',\n",
       " 'match_type': 'exact',\n",
       " 'modified': '2011-04-08T08:18:06Z',\n",
       " 'order': 'Strigiformes',\n",
       " 'phylum': 'Chordata',\n",
       " 'rank': 'Species',\n",
       " 'scientificname': 'Athene cunicularia',\n",
       " 'status': 'accepted',\n",
       " 'unacceptreason': None,\n",
       " 'valid_AphiaID': 422611,\n",
       " 'valid_name': 'Athene cunicularia'}"
      ]
     },
     "metadata": {},
     "output_type": "display_data"
    },
    {
     "name": "stdout",
     "output_type": "stream",
     "text": [
      "------------\n",
      "Protonotaria citrea  -  Prothonotary Warbler ( bPROWx )\n"
     ]
    },
    {
     "data": {
      "text/plain": [
       "{'AphiaID': 422650,\n",
       " 'MatchMethod': 'Exact Match',\n",
       " 'MatchString': 'Protonotaria citrea',\n",
       " 'cacheDate': '2017-07-26T14:37:16.137557',\n",
       " 'class': 'Aves',\n",
       " 'family': 'Parulidae',\n",
       " 'genus': 'Protonotaria',\n",
       " 'isBrackish': 0,\n",
       " 'isExtinct': None,\n",
       " 'isFreshwater': None,\n",
       " 'isMarine': 0,\n",
       " 'isTerrestrial': None,\n",
       " 'kingdom': 'Animalia',\n",
       " 'lsid': 'urn:lsid:marinespecies.org:taxname:422650',\n",
       " 'match_type': 'exact',\n",
       " 'modified': '2011-04-08T08:18:06Z',\n",
       " 'order': 'Passeriformes',\n",
       " 'phylum': 'Chordata',\n",
       " 'rank': 'Species',\n",
       " 'scientificname': 'Protonotaria citrea',\n",
       " 'status': 'accepted',\n",
       " 'unacceptreason': None,\n",
       " 'valid_AphiaID': 422650,\n",
       " 'valid_name': 'Protonotaria citrea'}"
      ]
     },
     "metadata": {},
     "output_type": "display_data"
    },
    {
     "name": "stdout",
     "output_type": "stream",
     "text": [
      "------------\n",
      "Branta canadensis  -  Canada Goose ( bCANGx )\n"
     ]
    },
    {
     "data": {
      "text/plain": [
       "{'AphiaID': 159176,\n",
       " 'MatchMethod': 'Exact Match',\n",
       " 'MatchString': 'Branta canadensis',\n",
       " 'cacheDate': '2017-07-26T14:37:28.659970',\n",
       " 'class': 'Aves',\n",
       " 'family': 'Anatidae',\n",
       " 'genus': 'Branta',\n",
       " 'isBrackish': None,\n",
       " 'isExtinct': None,\n",
       " 'isFreshwater': 1,\n",
       " 'isMarine': 0,\n",
       " 'isTerrestrial': None,\n",
       " 'kingdom': 'Animalia',\n",
       " 'lsid': 'urn:lsid:marinespecies.org:taxname:159176',\n",
       " 'match_type': 'exact',\n",
       " 'modified': '2011-04-27T11:01:37Z',\n",
       " 'order': 'Anseriformes',\n",
       " 'phylum': 'Chordata',\n",
       " 'rank': 'Species',\n",
       " 'scientificname': 'Branta canadensis',\n",
       " 'status': 'accepted',\n",
       " 'unacceptreason': None,\n",
       " 'valid_AphiaID': 159176,\n",
       " 'valid_name': 'Branta canadensis'}"
      ]
     },
     "metadata": {},
     "output_type": "display_data"
    },
    {
     "name": "stdout",
     "output_type": "stream",
     "text": [
      "------------\n",
      "Anas acuta  -  Northern Pintail ( bNOPIx )\n"
     ]
    },
    {
     "data": {
      "text/plain": [
       "{'AphiaID': 158939,\n",
       " 'MatchMethod': 'Exact Match',\n",
       " 'MatchString': 'Anas acuta',\n",
       " 'cacheDate': '2017-07-26T14:37:33.138602',\n",
       " 'class': 'Aves',\n",
       " 'family': 'Anatidae',\n",
       " 'genus': 'Anas',\n",
       " 'isBrackish': None,\n",
       " 'isExtinct': None,\n",
       " 'isFreshwater': 1,\n",
       " 'isMarine': 0,\n",
       " 'isTerrestrial': None,\n",
       " 'kingdom': 'Animalia',\n",
       " 'lsid': 'urn:lsid:marinespecies.org:taxname:158939',\n",
       " 'match_type': 'exact',\n",
       " 'modified': '2011-04-08T08:18:06Z',\n",
       " 'order': 'Anseriformes',\n",
       " 'phylum': 'Chordata',\n",
       " 'rank': 'Species',\n",
       " 'scientificname': 'Anas acuta',\n",
       " 'status': 'accepted',\n",
       " 'unacceptreason': None,\n",
       " 'valid_AphiaID': 158939,\n",
       " 'valid_name': 'Anas acuta'}"
      ]
     },
     "metadata": {},
     "output_type": "display_data"
    },
    {
     "name": "stdout",
     "output_type": "stream",
     "text": [
      "------------\n",
      "Accipiter cooperii  -  Cooper's Hawk ( bCOHAx )\n"
     ]
    },
    {
     "data": {
      "text/plain": [
       "{'AphiaID': 159103,\n",
       " 'MatchMethod': 'Exact Match',\n",
       " 'MatchString': 'Accipiter cooperii',\n",
       " 'cacheDate': '2017-07-26T15:25:43.594907',\n",
       " 'class': 'Aves',\n",
       " 'family': 'Accipitridae',\n",
       " 'genus': 'Accipiter',\n",
       " 'isBrackish': 0,\n",
       " 'isExtinct': None,\n",
       " 'isFreshwater': None,\n",
       " 'isMarine': 0,\n",
       " 'isTerrestrial': None,\n",
       " 'kingdom': 'Animalia',\n",
       " 'lsid': 'urn:lsid:marinespecies.org:taxname:159103',\n",
       " 'match_type': 'exact',\n",
       " 'modified': '2011-04-27T11:01:37Z',\n",
       " 'order': 'Falconiformes',\n",
       " 'phylum': 'Chordata',\n",
       " 'rank': 'Species',\n",
       " 'scientificname': 'Accipiter cooperii',\n",
       " 'status': 'accepted',\n",
       " 'unacceptreason': None,\n",
       " 'valid_AphiaID': 159103,\n",
       " 'valid_name': 'Accipiter cooperii'}"
      ]
     },
     "metadata": {},
     "output_type": "display_data"
    },
    {
     "name": "stdout",
     "output_type": "stream",
     "text": [
      "------------\n",
      "Mergus merganser  -  Common Merganser ( bCOMEx )\n"
     ]
    },
    {
     "data": {
      "text/plain": [
       "{'AphiaID': 159097,\n",
       " 'MatchMethod': 'Exact Match',\n",
       " 'MatchString': 'Mergus merganser',\n",
       " 'cacheDate': '2017-07-26T15:25:45.439912',\n",
       " 'class': 'Aves',\n",
       " 'family': 'Anatidae',\n",
       " 'genus': 'Mergus',\n",
       " 'isBrackish': None,\n",
       " 'isExtinct': None,\n",
       " 'isFreshwater': 1,\n",
       " 'isMarine': 0,\n",
       " 'isTerrestrial': None,\n",
       " 'kingdom': 'Animalia',\n",
       " 'lsid': 'urn:lsid:marinespecies.org:taxname:159097',\n",
       " 'match_type': 'exact',\n",
       " 'modified': '2011-04-08T08:18:06Z',\n",
       " 'order': 'Anseriformes',\n",
       " 'phylum': 'Chordata',\n",
       " 'rank': 'Species',\n",
       " 'scientificname': 'Mergus merganser',\n",
       " 'status': 'accepted',\n",
       " 'unacceptreason': None,\n",
       " 'valid_AphiaID': 159097,\n",
       " 'valid_name': 'Mergus merganser'}"
      ]
     },
     "metadata": {},
     "output_type": "display_data"
    },
    {
     "name": "stdout",
     "output_type": "stream",
     "text": [
      "------------\n",
      "Branta bernicla  -  Brant ( bATBRx )\n"
     ]
    },
    {
     "data": {
      "text/plain": [
       "{'AphiaID': 159175,\n",
       " 'MatchMethod': 'Exact Match',\n",
       " 'MatchString': 'Branta bernicla',\n",
       " 'cacheDate': '2017-07-26T15:25:49.571107',\n",
       " 'class': 'Aves',\n",
       " 'family': 'Anatidae',\n",
       " 'genus': 'Branta',\n",
       " 'isBrackish': 1,\n",
       " 'isExtinct': None,\n",
       " 'isFreshwater': None,\n",
       " 'isMarine': 1,\n",
       " 'isTerrestrial': None,\n",
       " 'kingdom': 'Animalia',\n",
       " 'lsid': 'urn:lsid:marinespecies.org:taxname:159175',\n",
       " 'match_type': 'exact',\n",
       " 'modified': '2011-04-08T08:18:06Z',\n",
       " 'order': 'Anseriformes',\n",
       " 'phylum': 'Chordata',\n",
       " 'rank': 'Species',\n",
       " 'scientificname': 'Branta bernicla',\n",
       " 'status': 'accepted',\n",
       " 'unacceptreason': None,\n",
       " 'valid_AphiaID': 159175,\n",
       " 'valid_name': 'Branta bernicla'}"
      ]
     },
     "metadata": {},
     "output_type": "display_data"
    },
    {
     "name": "stdout",
     "output_type": "stream",
     "text": [
      "------------\n",
      "Buteo jamaicensis  -  Red-tailed Hawk ( bRTHAx )\n"
     ]
    },
    {
     "data": {
      "text/plain": [
       "{'AphiaID': 159109,\n",
       " 'MatchMethod': 'Exact Match',\n",
       " 'MatchString': 'Buteo jamaicensis',\n",
       " 'cacheDate': '2017-07-26T15:26:10.969864',\n",
       " 'class': 'Aves',\n",
       " 'family': 'Accipitridae',\n",
       " 'genus': 'Buteo',\n",
       " 'isBrackish': 0,\n",
       " 'isExtinct': None,\n",
       " 'isFreshwater': None,\n",
       " 'isMarine': 0,\n",
       " 'isTerrestrial': None,\n",
       " 'kingdom': 'Animalia',\n",
       " 'lsid': 'urn:lsid:marinespecies.org:taxname:159109',\n",
       " 'match_type': 'exact',\n",
       " 'modified': '2011-04-27T11:01:37Z',\n",
       " 'order': 'Falconiformes',\n",
       " 'phylum': 'Chordata',\n",
       " 'rank': 'Species',\n",
       " 'scientificname': 'Buteo jamaicensis',\n",
       " 'status': 'accepted',\n",
       " 'unacceptreason': None,\n",
       " 'valid_AphiaID': 159109,\n",
       " 'valid_name': 'Buteo jamaicensis'}"
      ]
     },
     "metadata": {},
     "output_type": "display_data"
    },
    {
     "name": "stdout",
     "output_type": "stream",
     "text": [
      "------------\n",
      "Chordeiles minor  -  Common Nighthawk ( bCONIx )\n"
     ]
    },
    {
     "data": {
      "text/plain": [
       "{'AphiaID': 422612,\n",
       " 'MatchMethod': 'Exact Match',\n",
       " 'MatchString': 'Chordeiles minor',\n",
       " 'cacheDate': '2017-07-26T15:26:50.804671',\n",
       " 'class': 'Aves',\n",
       " 'family': 'Caprimulgidae',\n",
       " 'genus': 'Chordeiles',\n",
       " 'isBrackish': 0,\n",
       " 'isExtinct': None,\n",
       " 'isFreshwater': None,\n",
       " 'isMarine': 0,\n",
       " 'isTerrestrial': None,\n",
       " 'kingdom': 'Animalia',\n",
       " 'lsid': 'urn:lsid:marinespecies.org:taxname:422612',\n",
       " 'match_type': 'exact',\n",
       " 'modified': '2011-04-08T08:18:06Z',\n",
       " 'order': 'Caprimulgiformes',\n",
       " 'phylum': 'Chordata',\n",
       " 'rank': 'Species',\n",
       " 'scientificname': 'Chordeiles minor',\n",
       " 'status': 'accepted',\n",
       " 'unacceptreason': None,\n",
       " 'valid_AphiaID': 422612,\n",
       " 'valid_name': 'Chordeiles minor'}"
      ]
     },
     "metadata": {},
     "output_type": "display_data"
    },
    {
     "name": "stdout",
     "output_type": "stream",
     "text": [
      "------------\n",
      "Geothlypis trichas  -  Common Yellowthroat ( bCOYEx )\n"
     ]
    },
    {
     "data": {
      "text/plain": [
       "{'AphiaID': 422659,\n",
       " 'MatchMethod': 'Exact Match',\n",
       " 'MatchString': 'Geothlypis trichas',\n",
       " 'cacheDate': '2017-07-26T15:26:52.115927',\n",
       " 'class': 'Aves',\n",
       " 'family': 'Parulidae',\n",
       " 'genus': 'Geothlypis',\n",
       " 'isBrackish': 0,\n",
       " 'isExtinct': None,\n",
       " 'isFreshwater': None,\n",
       " 'isMarine': 0,\n",
       " 'isTerrestrial': None,\n",
       " 'kingdom': 'Animalia',\n",
       " 'lsid': 'urn:lsid:marinespecies.org:taxname:422659',\n",
       " 'match_type': 'exact',\n",
       " 'modified': '2011-04-08T08:18:06Z',\n",
       " 'order': 'Passeriformes',\n",
       " 'phylum': 'Chordata',\n",
       " 'rank': 'Species',\n",
       " 'scientificname': 'Geothlypis trichas',\n",
       " 'status': 'accepted',\n",
       " 'unacceptreason': None,\n",
       " 'valid_AphiaID': 422659,\n",
       " 'valid_name': 'Geothlypis trichas'}"
      ]
     },
     "metadata": {},
     "output_type": "display_data"
    },
    {
     "name": "stdout",
     "output_type": "stream",
     "text": [
      "------------\n",
      "Aythya marila  -  Greater Scaup ( bGRSCx )\n"
     ]
    },
    {
     "data": {
      "text/plain": [
       "{'AphiaID': 159172,\n",
       " 'MatchMethod': 'Exact Match',\n",
       " 'MatchString': 'Aythya marila',\n",
       " 'cacheDate': '2017-07-26T15:27:11.082812',\n",
       " 'class': 'Aves',\n",
       " 'family': 'Anatidae',\n",
       " 'genus': 'Aythya',\n",
       " 'isBrackish': None,\n",
       " 'isExtinct': None,\n",
       " 'isFreshwater': None,\n",
       " 'isMarine': 1,\n",
       " 'isTerrestrial': None,\n",
       " 'kingdom': 'Animalia',\n",
       " 'lsid': 'urn:lsid:marinespecies.org:taxname:159172',\n",
       " 'match_type': 'exact',\n",
       " 'modified': '2011-04-08T08:18:06Z',\n",
       " 'order': 'Anseriformes',\n",
       " 'phylum': 'Chordata',\n",
       " 'rank': 'Species',\n",
       " 'scientificname': 'Aythya marila',\n",
       " 'status': 'accepted',\n",
       " 'unacceptreason': None,\n",
       " 'valid_AphiaID': 159172,\n",
       " 'valid_name': 'Aythya marila'}"
      ]
     },
     "metadata": {},
     "output_type": "display_data"
    },
    {
     "name": "stdout",
     "output_type": "stream",
     "text": [
      "------------\n",
      "Anser albifrons  -  Greater White-fronted Goose ( bGWFGx )\n"
     ]
    },
    {
     "data": {
      "text/plain": [
       "{'AphiaID': 159159,\n",
       " 'MatchMethod': 'Exact Match',\n",
       " 'MatchString': 'Anser albifrons',\n",
       " 'cacheDate': '2017-07-26T15:27:39.038969',\n",
       " 'class': 'Aves',\n",
       " 'family': 'Anatidae',\n",
       " 'genus': 'Anser',\n",
       " 'isBrackish': None,\n",
       " 'isExtinct': None,\n",
       " 'isFreshwater': 1,\n",
       " 'isMarine': 0,\n",
       " 'isTerrestrial': None,\n",
       " 'kingdom': 'Animalia',\n",
       " 'lsid': 'urn:lsid:marinespecies.org:taxname:159159',\n",
       " 'match_type': 'exact',\n",
       " 'modified': '2011-04-27T11:01:37Z',\n",
       " 'order': 'Anseriformes',\n",
       " 'phylum': 'Chordata',\n",
       " 'rank': 'Species',\n",
       " 'scientificname': 'Anser albifrons',\n",
       " 'status': 'accepted',\n",
       " 'unacceptreason': None,\n",
       " 'valid_AphiaID': 159159,\n",
       " 'valid_name': 'Anser albifrons'}"
      ]
     },
     "metadata": {},
     "output_type": "display_data"
    },
    {
     "name": "stdout",
     "output_type": "stream",
     "text": [
      "------------\n",
      "Cepphus grylle  -  Black Guillemot ( bBLGUx )\n"
     ]
    },
    {
     "data": {
      "text/plain": [
       "{'AphiaID': 137130,\n",
       " 'MatchMethod': 'Exact Match',\n",
       " 'MatchString': 'Cepphus grylle',\n",
       " 'cacheDate': '2017-07-26T15:27:47.101761',\n",
       " 'class': 'Aves',\n",
       " 'family': 'Alcidae',\n",
       " 'genus': 'Cepphus',\n",
       " 'isBrackish': None,\n",
       " 'isExtinct': None,\n",
       " 'isFreshwater': None,\n",
       " 'isMarine': 1,\n",
       " 'isTerrestrial': None,\n",
       " 'kingdom': 'Animalia',\n",
       " 'lsid': 'urn:lsid:marinespecies.org:taxname:137130',\n",
       " 'match_type': 'exact',\n",
       " 'modified': '2011-04-08T08:18:06Z',\n",
       " 'order': 'Charadriiformes',\n",
       " 'phylum': 'Chordata',\n",
       " 'rank': 'Species',\n",
       " 'scientificname': 'Cepphus grylle',\n",
       " 'status': 'accepted',\n",
       " 'unacceptreason': None,\n",
       " 'valid_AphiaID': 137130,\n",
       " 'valid_name': 'Cepphus grylle'}"
      ]
     },
     "metadata": {},
     "output_type": "display_data"
    },
    {
     "name": "stdout",
     "output_type": "stream",
     "text": [
      "------------\n",
      "Helmitheros vermivorum  -  Worm-eating Warbler ( bWEWAx )\n"
     ]
    },
    {
     "data": {
      "text/plain": [
       "{'AphiaID': 422651,\n",
       " 'MatchMethod': 'Exact Match',\n",
       " 'MatchString': 'Helmitheros vermivorum',\n",
       " 'cacheDate': '2017-07-26T15:27:48.581905',\n",
       " 'class': 'Aves',\n",
       " 'family': 'Parulidae',\n",
       " 'genus': 'Helmitheros',\n",
       " 'isBrackish': 0,\n",
       " 'isExtinct': None,\n",
       " 'isFreshwater': None,\n",
       " 'isMarine': 0,\n",
       " 'isTerrestrial': None,\n",
       " 'kingdom': 'Animalia',\n",
       " 'lsid': 'urn:lsid:marinespecies.org:taxname:422651',\n",
       " 'match_type': 'exact',\n",
       " 'modified': '2011-04-08T08:18:06Z',\n",
       " 'order': 'Passeriformes',\n",
       " 'phylum': 'Chordata',\n",
       " 'rank': 'Species',\n",
       " 'scientificname': 'Helmitheros vermivorum',\n",
       " 'status': 'accepted',\n",
       " 'unacceptreason': None,\n",
       " 'valid_AphiaID': 422651,\n",
       " 'valid_name': 'Helmitheros vermivorum'}"
      ]
     },
     "metadata": {},
     "output_type": "display_data"
    },
    {
     "name": "stdout",
     "output_type": "stream",
     "text": [
      "------------\n",
      "Aix sponsa  -  Wood Duck ( bWODUx )\n"
     ]
    },
    {
     "data": {
      "text/plain": [
       "{'AphiaID': 158938,\n",
       " 'MatchMethod': 'Exact Match',\n",
       " 'MatchString': 'Aix sponsa',\n",
       " 'cacheDate': '2017-07-26T15:27:53.288315',\n",
       " 'class': 'Aves',\n",
       " 'family': 'Anatidae',\n",
       " 'genus': 'Aix',\n",
       " 'isBrackish': None,\n",
       " 'isExtinct': None,\n",
       " 'isFreshwater': 1,\n",
       " 'isMarine': 0,\n",
       " 'isTerrestrial': None,\n",
       " 'kingdom': 'Animalia',\n",
       " 'lsid': 'urn:lsid:marinespecies.org:taxname:158938',\n",
       " 'match_type': 'exact',\n",
       " 'modified': '2011-04-27T11:01:37Z',\n",
       " 'order': 'Anseriformes',\n",
       " 'phylum': 'Chordata',\n",
       " 'rank': 'Species',\n",
       " 'scientificname': 'Aix sponsa',\n",
       " 'status': 'accepted',\n",
       " 'unacceptreason': None,\n",
       " 'valid_AphiaID': 158938,\n",
       " 'valid_name': 'Aix sponsa'}"
      ]
     },
     "metadata": {},
     "output_type": "display_data"
    },
    {
     "name": "stdout",
     "output_type": "stream",
     "text": [
      "------------\n",
      "Limnothlypis swainsonii  -  Swainson's Warbler ( bSWWAx )\n"
     ]
    },
    {
     "data": {
      "text/plain": [
       "{'AphiaID': 422652,\n",
       " 'MatchMethod': 'Exact Match',\n",
       " 'MatchString': 'Limnothlypis swainsonii',\n",
       " 'cacheDate': '2017-07-26T14:37:57.060461',\n",
       " 'class': 'Aves',\n",
       " 'family': 'Parulidae',\n",
       " 'genus': 'Limnothlypis',\n",
       " 'isBrackish': 0,\n",
       " 'isExtinct': None,\n",
       " 'isFreshwater': None,\n",
       " 'isMarine': 0,\n",
       " 'isTerrestrial': None,\n",
       " 'kingdom': 'Animalia',\n",
       " 'lsid': 'urn:lsid:marinespecies.org:taxname:422652',\n",
       " 'match_type': 'exact',\n",
       " 'modified': '2011-04-08T08:18:06Z',\n",
       " 'order': 'Passeriformes',\n",
       " 'phylum': 'Chordata',\n",
       " 'rank': 'Species',\n",
       " 'scientificname': 'Limnothlypis swainsonii',\n",
       " 'status': 'accepted',\n",
       " 'unacceptreason': None,\n",
       " 'valid_AphiaID': 422652,\n",
       " 'valid_name': 'Limnothlypis swainsonii'}"
      ]
     },
     "metadata": {},
     "output_type": "display_data"
    },
    {
     "name": "stdout",
     "output_type": "stream",
     "text": [
      "------------\n",
      "Cygnus buccinator  -  Trumpeter Swan ( bTRUSx )\n"
     ]
    },
    {
     "data": {
      "text/plain": [
       "{'AphiaID': 422570,\n",
       " 'MatchMethod': 'Exact Match',\n",
       " 'MatchString': 'Cygnus buccinator',\n",
       " 'cacheDate': '2017-07-26T14:37:58.297928',\n",
       " 'class': 'Aves',\n",
       " 'family': 'Anatidae',\n",
       " 'genus': 'Cygnus',\n",
       " 'isBrackish': None,\n",
       " 'isExtinct': None,\n",
       " 'isFreshwater': 1,\n",
       " 'isMarine': 0,\n",
       " 'isTerrestrial': None,\n",
       " 'kingdom': 'Animalia',\n",
       " 'lsid': 'urn:lsid:marinespecies.org:taxname:422570',\n",
       " 'match_type': 'exact',\n",
       " 'modified': '2011-04-27T11:01:37Z',\n",
       " 'order': 'Anseriformes',\n",
       " 'phylum': 'Chordata',\n",
       " 'rank': 'Species',\n",
       " 'scientificname': 'Cygnus buccinator',\n",
       " 'status': 'accepted',\n",
       " 'unacceptreason': None,\n",
       " 'valid_AphiaID': 422570,\n",
       " 'valid_name': 'Cygnus buccinator'}"
      ]
     },
     "metadata": {},
     "output_type": "display_data"
    },
    {
     "name": "stdout",
     "output_type": "stream",
     "text": [
      "------------\n",
      "Passerculus sandwichensis  -  Savannah Sparrow ( bSAVSx )\n"
     ]
    },
    {
     "data": {
      "text/plain": [
       "{'AphiaID': 422665,\n",
       " 'MatchMethod': 'Exact Match',\n",
       " 'MatchString': 'Passerculus sandwichensis',\n",
       " 'cacheDate': '2017-07-26T14:38:01.139369',\n",
       " 'class': 'Aves',\n",
       " 'family': 'Emberizidae',\n",
       " 'genus': 'Passerculus',\n",
       " 'isBrackish': 0,\n",
       " 'isExtinct': None,\n",
       " 'isFreshwater': None,\n",
       " 'isMarine': 0,\n",
       " 'isTerrestrial': None,\n",
       " 'kingdom': 'Animalia',\n",
       " 'lsid': 'urn:lsid:marinespecies.org:taxname:422665',\n",
       " 'match_type': 'exact',\n",
       " 'modified': '2011-04-08T08:18:06Z',\n",
       " 'order': 'Passeriformes',\n",
       " 'phylum': 'Chordata',\n",
       " 'rank': 'Species',\n",
       " 'scientificname': 'Passerculus sandwichensis',\n",
       " 'status': 'accepted',\n",
       " 'unacceptreason': None,\n",
       " 'valid_AphiaID': 422665,\n",
       " 'valid_name': 'Passerculus sandwichensis'}"
      ]
     },
     "metadata": {},
     "output_type": "display_data"
    },
    {
     "name": "stdout",
     "output_type": "stream",
     "text": [
      "------------\n",
      "Podiceps auritus  -  Horned Grebe ( bHOGRx )\n"
     ]
    },
    {
     "data": {
      "text/plain": [
       "{'AphiaID': 137181,\n",
       " 'MatchMethod': 'Exact Match',\n",
       " 'MatchString': 'Podiceps auritus',\n",
       " 'cacheDate': '2017-07-26T14:38:12.193753',\n",
       " 'class': 'Aves',\n",
       " 'family': 'Podicipedidae',\n",
       " 'genus': 'Podiceps',\n",
       " 'isBrackish': None,\n",
       " 'isExtinct': None,\n",
       " 'isFreshwater': None,\n",
       " 'isMarine': 1,\n",
       " 'isTerrestrial': None,\n",
       " 'kingdom': 'Animalia',\n",
       " 'lsid': 'urn:lsid:marinespecies.org:taxname:137181',\n",
       " 'match_type': 'exact',\n",
       " 'modified': '2011-04-08T08:18:06Z',\n",
       " 'order': 'Podicipediformes',\n",
       " 'phylum': 'Chordata',\n",
       " 'rank': 'Species',\n",
       " 'scientificname': 'Podiceps auritus',\n",
       " 'status': 'accepted',\n",
       " 'unacceptreason': None,\n",
       " 'valid_AphiaID': 137181,\n",
       " 'valid_name': 'Podiceps auritus'}"
      ]
     },
     "metadata": {},
     "output_type": "display_data"
    },
    {
     "name": "stdout",
     "output_type": "stream",
     "text": [
      "------------\n",
      "Lophodytes cucullatus  -  Hooded Merganser ( bHOMEx )\n"
     ]
    },
    {
     "data": {
      "text/plain": [
       "{'AphiaID': 159094,\n",
       " 'MatchMethod': 'Exact Match',\n",
       " 'MatchString': 'Lophodytes cucullatus',\n",
       " 'cacheDate': '2017-07-26T14:38:13.378247',\n",
       " 'class': 'Aves',\n",
       " 'family': 'Anatidae',\n",
       " 'genus': 'Lophodytes',\n",
       " 'isBrackish': None,\n",
       " 'isExtinct': None,\n",
       " 'isFreshwater': 1,\n",
       " 'isMarine': 0,\n",
       " 'isTerrestrial': None,\n",
       " 'kingdom': 'Animalia',\n",
       " 'lsid': 'urn:lsid:marinespecies.org:taxname:159094',\n",
       " 'match_type': 'exact',\n",
       " 'modified': '2011-04-27T11:01:37Z',\n",
       " 'order': 'Anseriformes',\n",
       " 'phylum': 'Chordata',\n",
       " 'rank': 'Species',\n",
       " 'scientificname': 'Lophodytes cucullatus',\n",
       " 'status': 'accepted',\n",
       " 'unacceptreason': None,\n",
       " 'valid_AphiaID': 159094,\n",
       " 'valid_name': 'Lophodytes cucullatus'}"
      ]
     },
     "metadata": {},
     "output_type": "display_data"
    },
    {
     "name": "stdout",
     "output_type": "stream",
     "text": [
      "------------\n",
      "Calidris ptilocnemis  -  Rock Sandpiper ( bROSAx )\n"
     ]
    },
    {
     "data": {
      "text/plain": [
       "{'AphiaID': 366589,\n",
       " 'MatchMethod': 'Exact Match',\n",
       " 'MatchString': 'Calidris ptilocnemis',\n",
       " 'cacheDate': '2017-07-26T14:38:14.608316',\n",
       " 'class': 'Aves',\n",
       " 'family': 'Scolopacidae',\n",
       " 'genus': 'Calidris',\n",
       " 'isBrackish': None,\n",
       " 'isExtinct': None,\n",
       " 'isFreshwater': None,\n",
       " 'isMarine': 1,\n",
       " 'isTerrestrial': None,\n",
       " 'kingdom': 'Animalia',\n",
       " 'lsid': 'urn:lsid:marinespecies.org:taxname:366589',\n",
       " 'match_type': 'exact',\n",
       " 'modified': '2011-04-08T08:18:06Z',\n",
       " 'order': 'Charadriiformes',\n",
       " 'phylum': 'Chordata',\n",
       " 'rank': 'Species',\n",
       " 'scientificname': 'Calidris ptilocnemis',\n",
       " 'status': 'accepted',\n",
       " 'unacceptreason': None,\n",
       " 'valid_AphiaID': 366589,\n",
       " 'valid_name': 'Calidris ptilocnemis'}"
      ]
     },
     "metadata": {},
     "output_type": "display_data"
    },
    {
     "name": "stdout",
     "output_type": "stream",
     "text": [
      "------------\n",
      "Plectrophenax nivalis  -  Snow Bunting ( bSNBUx )\n"
     ]
    },
    {
     "data": {
      "text/plain": [
       "{'AphiaID': 383228,\n",
       " 'MatchMethod': 'Exact Match',\n",
       " 'MatchString': 'Plectrophenax nivalis',\n",
       " 'cacheDate': '2017-07-26T14:38:17.536666',\n",
       " 'class': 'Aves',\n",
       " 'family': 'Emberizidae',\n",
       " 'genus': 'Plectrophenax',\n",
       " 'isBrackish': 0,\n",
       " 'isExtinct': None,\n",
       " 'isFreshwater': None,\n",
       " 'isMarine': 0,\n",
       " 'isTerrestrial': None,\n",
       " 'kingdom': 'Animalia',\n",
       " 'lsid': 'urn:lsid:marinespecies.org:taxname:383228',\n",
       " 'match_type': 'exact',\n",
       " 'modified': '2011-04-08T08:18:06Z',\n",
       " 'order': 'Passeriformes',\n",
       " 'phylum': 'Chordata',\n",
       " 'rank': 'Species',\n",
       " 'scientificname': 'Plectrophenax nivalis',\n",
       " 'status': 'accepted',\n",
       " 'unacceptreason': None,\n",
       " 'valid_AphiaID': 383228,\n",
       " 'valid_name': 'Plectrophenax nivalis'}"
      ]
     },
     "metadata": {},
     "output_type": "display_data"
    },
    {
     "name": "stdout",
     "output_type": "stream",
     "text": [
      "------------\n",
      "Anas rubripes  -  American Black Duck ( bABDUx )\n"
     ]
    },
    {
     "data": {
      "text/plain": [
       "{'AphiaID': 159170,\n",
       " 'MatchMethod': 'Exact Match',\n",
       " 'MatchString': 'Anas rubripes',\n",
       " 'cacheDate': '2017-07-26T14:38:20.425092',\n",
       " 'class': 'Aves',\n",
       " 'family': 'Anatidae',\n",
       " 'genus': 'Anas',\n",
       " 'isBrackish': 1,\n",
       " 'isExtinct': None,\n",
       " 'isFreshwater': 1,\n",
       " 'isMarine': 0,\n",
       " 'isTerrestrial': None,\n",
       " 'kingdom': 'Animalia',\n",
       " 'lsid': 'urn:lsid:marinespecies.org:taxname:159170',\n",
       " 'match_type': 'exact',\n",
       " 'modified': '2011-04-08T08:18:06Z',\n",
       " 'order': 'Anseriformes',\n",
       " 'phylum': 'Chordata',\n",
       " 'rank': 'Species',\n",
       " 'scientificname': 'Anas rubripes',\n",
       " 'status': 'accepted',\n",
       " 'unacceptreason': None,\n",
       " 'valid_AphiaID': 159170,\n",
       " 'valid_name': 'Anas rubripes'}"
      ]
     },
     "metadata": {},
     "output_type": "display_data"
    },
    {
     "name": "stdout",
     "output_type": "stream",
     "text": [
      "------------\n",
      "Scolopax minor  -  American Woodcock ( bAMWOx )\n"
     ]
    },
    {
     "data": {
      "text/plain": [
       "{'AphiaID': 159027,\n",
       " 'MatchMethod': 'Exact Match',\n",
       " 'MatchString': 'Scolopax minor',\n",
       " 'cacheDate': '2017-07-26T14:38:28.441640',\n",
       " 'class': 'Aves',\n",
       " 'family': 'Scolopacidae',\n",
       " 'genus': 'Scolopax',\n",
       " 'isBrackish': 0,\n",
       " 'isExtinct': None,\n",
       " 'isFreshwater': 0,\n",
       " 'isMarine': 0,\n",
       " 'isTerrestrial': None,\n",
       " 'kingdom': 'Animalia',\n",
       " 'lsid': 'urn:lsid:marinespecies.org:taxname:159027',\n",
       " 'match_type': 'exact',\n",
       " 'modified': '2011-04-27T11:01:37Z',\n",
       " 'order': 'Charadriiformes',\n",
       " 'phylum': 'Chordata',\n",
       " 'rank': 'Species',\n",
       " 'scientificname': 'Scolopax minor',\n",
       " 'status': 'accepted',\n",
       " 'unacceptreason': None,\n",
       " 'valid_AphiaID': 159027,\n",
       " 'valid_name': 'Scolopax minor'}"
      ]
     },
     "metadata": {},
     "output_type": "display_data"
    },
    {
     "name": "stdout",
     "output_type": "stream",
     "text": [
      "------------\n",
      "Anas americana  -  American Wigeon ( bAMWIx )\n"
     ]
    },
    {
     "data": {
      "text/plain": [
       "{'AphiaID': 158940,\n",
       " 'MatchMethod': 'Exact Match',\n",
       " 'MatchString': 'Anas americana',\n",
       " 'cacheDate': '2017-07-26T14:38:29.707988',\n",
       " 'class': 'Aves',\n",
       " 'family': 'Anatidae',\n",
       " 'genus': 'Anas',\n",
       " 'isBrackish': None,\n",
       " 'isExtinct': None,\n",
       " 'isFreshwater': 1,\n",
       " 'isMarine': 0,\n",
       " 'isTerrestrial': None,\n",
       " 'kingdom': 'Animalia',\n",
       " 'lsid': 'urn:lsid:marinespecies.org:taxname:158940',\n",
       " 'match_type': 'exact',\n",
       " 'modified': '2011-04-27T11:01:37Z',\n",
       " 'order': 'Anseriformes',\n",
       " 'phylum': 'Chordata',\n",
       " 'rank': 'Species',\n",
       " 'scientificname': 'Anas americana',\n",
       " 'status': 'accepted',\n",
       " 'unacceptreason': None,\n",
       " 'valid_AphiaID': 158940,\n",
       " 'valid_name': 'Anas americana'}"
      ]
     },
     "metadata": {},
     "output_type": "display_data"
    },
    {
     "name": "stdout",
     "output_type": "stream",
     "text": [
      "------------\n",
      "Alligator mississippiensis  -  American Alligator ( rAMALx )\n"
     ]
    },
    {
     "data": {
      "text/plain": [
       "{'AphiaID': 886665,\n",
       " 'MatchMethod': 'Exact Match',\n",
       " 'MatchString': 'Alligator mississippiensis',\n",
       " 'cacheDate': '2017-07-26T14:38:43.875838',\n",
       " 'class': 'Reptilia',\n",
       " 'family': 'Alligatoridae',\n",
       " 'genus': 'Alligator',\n",
       " 'isBrackish': 1,\n",
       " 'isExtinct': None,\n",
       " 'isFreshwater': 1,\n",
       " 'isMarine': 0,\n",
       " 'isTerrestrial': None,\n",
       " 'kingdom': 'Animalia',\n",
       " 'lsid': 'urn:lsid:marinespecies.org:taxname:886665',\n",
       " 'match_type': 'exact',\n",
       " 'modified': '2016-09-26T08:07:08Z',\n",
       " 'order': 'Crocodylia',\n",
       " 'phylum': 'Chordata',\n",
       " 'rank': 'Species',\n",
       " 'scientificname': 'Alligator mississippiensis',\n",
       " 'status': 'accepted',\n",
       " 'unacceptreason': None,\n",
       " 'valid_AphiaID': 886665,\n",
       " 'valid_name': 'Alligator mississippiensis'}"
      ]
     },
     "metadata": {},
     "output_type": "display_data"
    },
    {
     "name": "stdout",
     "output_type": "stream",
     "text": [
      "------------\n",
      "Melanitta fusca  -  White-winged Scoter ( bWWSCx )\n"
     ]
    },
    {
     "data": {
      "text/plain": [
       "{'AphiaID': 137072,\n",
       " 'MatchMethod': 'Exact Match',\n",
       " 'MatchString': 'Melanitta fusca',\n",
       " 'cacheDate': '2017-07-26T14:39:13.994293',\n",
       " 'class': 'Aves',\n",
       " 'family': 'Anatidae',\n",
       " 'genus': 'Melanitta',\n",
       " 'isBrackish': None,\n",
       " 'isExtinct': None,\n",
       " 'isFreshwater': None,\n",
       " 'isMarine': 1,\n",
       " 'isTerrestrial': None,\n",
       " 'kingdom': 'Animalia',\n",
       " 'lsid': 'urn:lsid:marinespecies.org:taxname:137072',\n",
       " 'match_type': 'exact',\n",
       " 'modified': '2011-04-08T08:18:06Z',\n",
       " 'order': 'Anseriformes',\n",
       " 'phylum': 'Chordata',\n",
       " 'rank': 'Species',\n",
       " 'scientificname': 'Melanitta fusca',\n",
       " 'status': 'accepted',\n",
       " 'unacceptreason': None,\n",
       " 'valid_AphiaID': 137072,\n",
       " 'valid_name': 'Melanitta fusca'}"
      ]
     },
     "metadata": {},
     "output_type": "display_data"
    },
    {
     "name": "stdout",
     "output_type": "stream",
     "text": [
      "------------\n",
      "Anas platyrhynchos  -  Mallard ( bMALLx )\n"
     ]
    },
    {
     "data": {
      "text/plain": [
       "{'AphiaID': 148791,\n",
       " 'MatchMethod': 'Exact Match',\n",
       " 'MatchString': 'Anas platyrhynchos',\n",
       " 'cacheDate': '2017-07-26T14:39:48.451706',\n",
       " 'class': 'Aves',\n",
       " 'family': 'Anatidae',\n",
       " 'genus': 'Anas',\n",
       " 'isBrackish': 1,\n",
       " 'isExtinct': None,\n",
       " 'isFreshwater': 1,\n",
       " 'isMarine': 1,\n",
       " 'isTerrestrial': None,\n",
       " 'kingdom': 'Animalia',\n",
       " 'lsid': 'urn:lsid:marinespecies.org:taxname:148791',\n",
       " 'match_type': 'exact',\n",
       " 'modified': '2011-04-08T08:18:06Z',\n",
       " 'order': 'Anseriformes',\n",
       " 'phylum': 'Chordata',\n",
       " 'rank': 'Species',\n",
       " 'scientificname': 'Anas platyrhynchos',\n",
       " 'status': 'accepted',\n",
       " 'unacceptreason': None,\n",
       " 'valid_AphiaID': 148791,\n",
       " 'valid_name': 'Anas platyrhynchos'}"
      ]
     },
     "metadata": {},
     "output_type": "display_data"
    },
    {
     "name": "stdout",
     "output_type": "stream",
     "text": [
      "------------\n",
      "Somateria spectabilis  -  King Eider ( bKIEIx )\n"
     ]
    },
    {
     "data": {
      "text/plain": [
       "{'AphiaID': 137075,\n",
       " 'MatchMethod': 'Exact Match',\n",
       " 'MatchString': 'Somateria spectabilis',\n",
       " 'cacheDate': '2017-07-26T14:39:54.871768',\n",
       " 'class': 'Aves',\n",
       " 'family': 'Anatidae',\n",
       " 'genus': 'Somateria',\n",
       " 'isBrackish': None,\n",
       " 'isExtinct': None,\n",
       " 'isFreshwater': None,\n",
       " 'isMarine': 1,\n",
       " 'isTerrestrial': None,\n",
       " 'kingdom': 'Animalia',\n",
       " 'lsid': 'urn:lsid:marinespecies.org:taxname:137075',\n",
       " 'match_type': 'exact',\n",
       " 'modified': '2011-04-08T08:18:06Z',\n",
       " 'order': 'Anseriformes',\n",
       " 'phylum': 'Chordata',\n",
       " 'rank': 'Species',\n",
       " 'scientificname': 'Somateria spectabilis',\n",
       " 'status': 'accepted',\n",
       " 'unacceptreason': None,\n",
       " 'valid_AphiaID': 137075,\n",
       " 'valid_name': 'Somateria spectabilis'}"
      ]
     },
     "metadata": {},
     "output_type": "display_data"
    },
    {
     "name": "stdout",
     "output_type": "stream",
     "text": [
      "------------\n",
      "Dolichonyx oryzivorus  -  Bobolink ( bBOBOx )\n"
     ]
    },
    {
     "data": {
      "text/plain": [
       "{'AphiaID': 422673,\n",
       " 'MatchMethod': 'Exact Match',\n",
       " 'MatchString': 'Dolichonyx oryzivorus',\n",
       " 'cacheDate': '2017-07-26T14:40:06.311495',\n",
       " 'class': 'Aves',\n",
       " 'family': 'Icteridae',\n",
       " 'genus': 'Dolichonyx',\n",
       " 'isBrackish': 0,\n",
       " 'isExtinct': None,\n",
       " 'isFreshwater': None,\n",
       " 'isMarine': 0,\n",
       " 'isTerrestrial': None,\n",
       " 'kingdom': 'Animalia',\n",
       " 'lsid': 'urn:lsid:marinespecies.org:taxname:422673',\n",
       " 'match_type': 'exact',\n",
       " 'modified': '2011-04-08T08:18:06Z',\n",
       " 'order': 'Passeriformes',\n",
       " 'phylum': 'Chordata',\n",
       " 'rank': 'Species',\n",
       " 'scientificname': 'Dolichonyx oryzivorus',\n",
       " 'status': 'accepted',\n",
       " 'unacceptreason': None,\n",
       " 'valid_AphiaID': 422673,\n",
       " 'valid_name': 'Dolichonyx oryzivorus'}"
      ]
     },
     "metadata": {},
     "output_type": "display_data"
    },
    {
     "name": "stdout",
     "output_type": "stream",
     "text": [
      "------------\n",
      "Rynchops niger  -  Black Skimmer ( bBLSKx )\n"
     ]
    },
    {
     "data": {
      "text/plain": [
       "{'AphiaID': 159079,\n",
       " 'MatchMethod': 'Exact Match',\n",
       " 'MatchString': 'Rynchops niger',\n",
       " 'cacheDate': '2017-07-26T14:40:14.369983',\n",
       " 'class': 'Aves',\n",
       " 'family': 'Rynchopidae',\n",
       " 'genus': 'Rynchops',\n",
       " 'isBrackish': None,\n",
       " 'isExtinct': None,\n",
       " 'isFreshwater': None,\n",
       " 'isMarine': 1,\n",
       " 'isTerrestrial': None,\n",
       " 'kingdom': 'Animalia',\n",
       " 'lsid': 'urn:lsid:marinespecies.org:taxname:159079',\n",
       " 'match_type': 'exact',\n",
       " 'modified': '2011-04-08T08:18:06Z',\n",
       " 'order': 'Charadriiformes',\n",
       " 'phylum': 'Chordata',\n",
       " 'rank': 'Species',\n",
       " 'scientificname': 'Rynchops niger',\n",
       " 'status': 'accepted',\n",
       " 'unacceptreason': None,\n",
       " 'valid_AphiaID': 159079,\n",
       " 'valid_name': 'Rynchops niger'}"
      ]
     },
     "metadata": {},
     "output_type": "display_data"
    },
    {
     "name": "stdout",
     "output_type": "stream",
     "text": [
      "------------\n",
      "Gallinago delicata  -  Wilson's Snipe ( bWISNx )\n"
     ]
    },
    {
     "data": {
      "text/plain": [
       "{'AphiaID': 422606,\n",
       " 'MatchMethod': 'Exact Match',\n",
       " 'MatchString': 'Gallinago delicata',\n",
       " 'cacheDate': '2017-07-26T14:40:19.503319',\n",
       " 'class': 'Aves',\n",
       " 'family': 'Scolopacidae',\n",
       " 'genus': 'Gallinago',\n",
       " 'isBrackish': 0,\n",
       " 'isExtinct': None,\n",
       " 'isFreshwater': None,\n",
       " 'isMarine': 0,\n",
       " 'isTerrestrial': None,\n",
       " 'kingdom': 'Animalia',\n",
       " 'lsid': 'urn:lsid:marinespecies.org:taxname:422606',\n",
       " 'match_type': 'exact',\n",
       " 'modified': '2011-04-08T08:18:06Z',\n",
       " 'order': 'Charadriiformes',\n",
       " 'phylum': 'Chordata',\n",
       " 'rank': 'Species',\n",
       " 'scientificname': 'Gallinago delicata',\n",
       " 'status': 'accepted',\n",
       " 'unacceptreason': None,\n",
       " 'valid_AphiaID': 422606,\n",
       " 'valid_name': 'Gallinago delicata'}"
      ]
     },
     "metadata": {},
     "output_type": "display_data"
    },
    {
     "name": "stdout",
     "output_type": "stream",
     "text": [
      "------------\n",
      "Thalasseus elegans  -  Elegant Tern ( bELTEx )\n"
     ]
    },
    {
     "data": {
      "text/plain": [
       "{'AphiaID': 413043,\n",
       " 'MatchMethod': 'Exact Match',\n",
       " 'MatchString': 'Thalasseus elegans',\n",
       " 'cacheDate': '2017-07-26T14:40:29.242872',\n",
       " 'class': 'Aves',\n",
       " 'family': 'Sternidae',\n",
       " 'genus': 'Thalasseus',\n",
       " 'isBrackish': None,\n",
       " 'isExtinct': None,\n",
       " 'isFreshwater': None,\n",
       " 'isMarine': 1,\n",
       " 'isTerrestrial': None,\n",
       " 'kingdom': 'Animalia',\n",
       " 'lsid': 'urn:lsid:marinespecies.org:taxname:413043',\n",
       " 'match_type': 'exact',\n",
       " 'modified': '2011-04-08T08:18:06Z',\n",
       " 'order': 'Charadriiformes',\n",
       " 'phylum': 'Chordata',\n",
       " 'rank': 'Species',\n",
       " 'scientificname': 'Thalasseus elegans',\n",
       " 'status': 'unaccepted',\n",
       " 'unacceptreason': None,\n",
       " 'valid_AphiaID': 225959,\n",
       " 'valid_name': 'Sterna elegans'}"
      ]
     },
     "metadata": {},
     "output_type": "display_data"
    },
    {
     "name": "stdout",
     "output_type": "stream",
     "text": [
      "------------\n",
      "Tringa semipalmata  -  Willet ( bWILLx )\n"
     ]
    },
    {
     "data": {
      "text/plain": [
       "{'AphiaID': 159032,\n",
       " 'MatchMethod': 'Exact Match',\n",
       " 'MatchString': 'Catoptrophorus semipalmatus',\n",
       " 'cacheDate': '2017-07-26T14:40:37.987631',\n",
       " 'class': 'Aves',\n",
       " 'family': 'Scolopacidae',\n",
       " 'genus': 'Catoptrophorus',\n",
       " 'isBrackish': None,\n",
       " 'isExtinct': None,\n",
       " 'isFreshwater': None,\n",
       " 'isMarine': 1,\n",
       " 'isTerrestrial': None,\n",
       " 'kingdom': 'Animalia',\n",
       " 'lsid': 'urn:lsid:marinespecies.org:taxname:159032',\n",
       " 'match_type': 'exact',\n",
       " 'modified': '2011-04-27T11:01:37Z',\n",
       " 'order': 'Charadriiformes',\n",
       " 'phylum': 'Chordata',\n",
       " 'rank': 'Species',\n",
       " 'scientificname': 'Catoptrophorus semipalmatus',\n",
       " 'status': 'unaccepted',\n",
       " 'unacceptreason': None,\n",
       " 'valid_AphiaID': 567466,\n",
       " 'valid_name': 'Tringa semipalmatus'}"
      ]
     },
     "metadata": {},
     "output_type": "display_data"
    },
    {
     "name": "stdout",
     "output_type": "stream",
     "text": [
      "------------\n",
      "Calidris canutus  -  Red Knot ( bREKNx )\n"
     ]
    },
    {
     "data": {
      "text/plain": [
       "{'AphiaID': 147433,\n",
       " 'MatchMethod': 'Exact Match',\n",
       " 'MatchString': 'Calidris canutus',\n",
       " 'cacheDate': '2017-07-26T14:41:04.131450',\n",
       " 'class': 'Aves',\n",
       " 'family': 'Scolopacidae',\n",
       " 'genus': 'Calidris',\n",
       " 'isBrackish': None,\n",
       " 'isExtinct': None,\n",
       " 'isFreshwater': None,\n",
       " 'isMarine': 1,\n",
       " 'isTerrestrial': None,\n",
       " 'kingdom': 'Animalia',\n",
       " 'lsid': 'urn:lsid:marinespecies.org:taxname:147433',\n",
       " 'match_type': 'exact',\n",
       " 'modified': '2011-04-08T08:18:06Z',\n",
       " 'order': 'Charadriiformes',\n",
       " 'phylum': 'Chordata',\n",
       " 'rank': 'Species',\n",
       " 'scientificname': 'Calidris canutus',\n",
       " 'status': 'accepted',\n",
       " 'unacceptreason': None,\n",
       " 'valid_AphiaID': 147433,\n",
       " 'valid_name': 'Calidris canutus'}"
      ]
     },
     "metadata": {},
     "output_type": "display_data"
    },
    {
     "name": "stdout",
     "output_type": "stream",
     "text": [
      "------------\n",
      "Rostrhamus sociabilis  -  Snail Kite ( bSNKIx )\n"
     ]
    },
    {
     "data": {
      "text/plain": [
       "{'AphiaID': 422586,\n",
       " 'MatchMethod': 'Exact Match',\n",
       " 'MatchString': 'Rostrhamus sociabilis',\n",
       " 'cacheDate': '2017-07-26T14:41:26.250074',\n",
       " 'class': 'Aves',\n",
       " 'family': 'Accipitridae',\n",
       " 'genus': 'Rostrhamus',\n",
       " 'isBrackish': 0,\n",
       " 'isExtinct': None,\n",
       " 'isFreshwater': 1,\n",
       " 'isMarine': 0,\n",
       " 'isTerrestrial': None,\n",
       " 'kingdom': 'Animalia',\n",
       " 'lsid': 'urn:lsid:marinespecies.org:taxname:422586',\n",
       " 'match_type': 'exact',\n",
       " 'modified': '2011-04-08T08:18:06Z',\n",
       " 'order': 'Falconiformes',\n",
       " 'phylum': 'Chordata',\n",
       " 'rank': 'Species',\n",
       " 'scientificname': 'Rostrhamus sociabilis',\n",
       " 'status': 'accepted',\n",
       " 'unacceptreason': None,\n",
       " 'valid_AphiaID': 422586,\n",
       " 'valid_name': 'Rostrhamus sociabilis'}"
      ]
     },
     "metadata": {},
     "output_type": "display_data"
    },
    {
     "name": "stdout",
     "output_type": "stream",
     "text": [
      "------------\n",
      "Dendrocygna autumnalis  -  Black-bellied Whistling-Duck ( bBBWDx )\n"
     ]
    },
    {
     "data": {
      "text/plain": [
       "{'AphiaID': 422567,\n",
       " 'MatchMethod': 'Exact Match',\n",
       " 'MatchString': 'Dendrocygna autumnalis',\n",
       " 'cacheDate': '2017-07-26T14:41:30.068894',\n",
       " 'class': 'Aves',\n",
       " 'family': 'Anatidae',\n",
       " 'genus': 'Dendrocygna',\n",
       " 'isBrackish': None,\n",
       " 'isExtinct': None,\n",
       " 'isFreshwater': 1,\n",
       " 'isMarine': 0,\n",
       " 'isTerrestrial': None,\n",
       " 'kingdom': 'Animalia',\n",
       " 'lsid': 'urn:lsid:marinespecies.org:taxname:422567',\n",
       " 'match_type': 'exact',\n",
       " 'modified': '2011-04-08T08:18:06Z',\n",
       " 'order': 'Anseriformes',\n",
       " 'phylum': 'Chordata',\n",
       " 'rank': 'Species',\n",
       " 'scientificname': 'Dendrocygna autumnalis',\n",
       " 'status': 'accepted',\n",
       " 'unacceptreason': None,\n",
       " 'valid_AphiaID': 422567,\n",
       " 'valid_name': 'Dendrocygna autumnalis'}"
      ]
     },
     "metadata": {},
     "output_type": "display_data"
    },
    {
     "name": "stdout",
     "output_type": "stream",
     "text": [
      "------------\n",
      "Pheucticus ludovicianus  -  Rose-breasted Grosbeak ( bRBGRx )\n"
     ]
    },
    {
     "data": {
      "text/plain": [
       "{'AphiaID': 422669,\n",
       " 'MatchMethod': 'Exact Match',\n",
       " 'MatchString': 'Pheucticus ludovicianus',\n",
       " 'cacheDate': '2017-07-26T14:41:36.402304',\n",
       " 'class': 'Aves',\n",
       " 'family': 'Cardinalidae',\n",
       " 'genus': 'Pheucticus',\n",
       " 'isBrackish': 0,\n",
       " 'isExtinct': None,\n",
       " 'isFreshwater': None,\n",
       " 'isMarine': 0,\n",
       " 'isTerrestrial': None,\n",
       " 'kingdom': 'Animalia',\n",
       " 'lsid': 'urn:lsid:marinespecies.org:taxname:422669',\n",
       " 'match_type': 'exact',\n",
       " 'modified': '2011-04-08T08:18:06Z',\n",
       " 'order': 'Passeriformes',\n",
       " 'phylum': 'Chordata',\n",
       " 'rank': 'Species',\n",
       " 'scientificname': 'Pheucticus ludovicianus',\n",
       " 'status': 'accepted',\n",
       " 'unacceptreason': None,\n",
       " 'valid_AphiaID': 422669,\n",
       " 'valid_name': 'Pheucticus ludovicianus'}"
      ]
     },
     "metadata": {},
     "output_type": "display_data"
    },
    {
     "name": "stdout",
     "output_type": "stream",
     "text": [
      "------------\n",
      "Seiurus noveboracensis  -  Northern Waterthrush ( bNOWAx )\n"
     ]
    },
    {
     "data": {
      "text/plain": [
       "{'AphiaID': 422654,\n",
       " 'MatchMethod': 'Exact Match',\n",
       " 'MatchString': 'Seiurus noveboracensis',\n",
       " 'cacheDate': '2017-07-26T14:41:43.232484',\n",
       " 'class': 'Aves',\n",
       " 'family': 'Parulidae',\n",
       " 'genus': 'Seiurus',\n",
       " 'isBrackish': 0,\n",
       " 'isExtinct': None,\n",
       " 'isFreshwater': None,\n",
       " 'isMarine': 0,\n",
       " 'isTerrestrial': None,\n",
       " 'kingdom': 'Animalia',\n",
       " 'lsid': 'urn:lsid:marinespecies.org:taxname:422654',\n",
       " 'match_type': 'exact',\n",
       " 'modified': '2011-04-07T15:28:46Z',\n",
       " 'order': 'Passeriformes',\n",
       " 'phylum': 'Chordata',\n",
       " 'rank': 'Species',\n",
       " 'scientificname': 'Seiurus noveboracensis',\n",
       " 'status': 'unaccepted',\n",
       " 'unacceptreason': 'synonym',\n",
       " 'valid_AphiaID': 567887,\n",
       " 'valid_name': 'Parkesia noveboracensis'}"
      ]
     },
     "metadata": {},
     "output_type": "display_data"
    },
    {
     "name": "stdout",
     "output_type": "stream",
     "text": [
      "------------\n",
      "Mergus serrator  -  Red-breasted Merganser ( bRBMEx )\n"
     ]
    },
    {
     "data": {
      "text/plain": [
       "{'AphiaID': 159098,\n",
       " 'MatchMethod': 'Exact Match',\n",
       " 'MatchString': 'Mergus serrator',\n",
       " 'cacheDate': '2017-07-26T14:41:56.772721',\n",
       " 'class': 'Aves',\n",
       " 'family': 'Anatidae',\n",
       " 'genus': 'Mergus',\n",
       " 'isBrackish': None,\n",
       " 'isExtinct': None,\n",
       " 'isFreshwater': 1,\n",
       " 'isMarine': 1,\n",
       " 'isTerrestrial': None,\n",
       " 'kingdom': 'Animalia',\n",
       " 'lsid': 'urn:lsid:marinespecies.org:taxname:159098',\n",
       " 'match_type': 'exact',\n",
       " 'modified': '2011-04-08T08:18:06Z',\n",
       " 'order': 'Anseriformes',\n",
       " 'phylum': 'Chordata',\n",
       " 'rank': 'Species',\n",
       " 'scientificname': 'Mergus serrator',\n",
       " 'status': 'accepted',\n",
       " 'unacceptreason': None,\n",
       " 'valid_AphiaID': 159098,\n",
       " 'valid_name': 'Mergus serrator'}"
      ]
     },
     "metadata": {},
     "output_type": "display_data"
    },
    {
     "name": "stdout",
     "output_type": "stream",
     "text": [
      "------------\n",
      "Petrochelidon pyrrhonota  -  Cliff Swallow ( bCLSWx )\n"
     ]
    },
    {
     "data": {
      "text/plain": [
       "{'AphiaID': 225908,\n",
       " 'MatchMethod': 'Exact Match',\n",
       " 'MatchString': 'Petrochelidon pyrrhonota',\n",
       " 'cacheDate': '2017-07-26T14:42:00.876146',\n",
       " 'class': 'Aves',\n",
       " 'family': 'Hirundinidae',\n",
       " 'genus': 'Petrochelidon',\n",
       " 'isBrackish': 0,\n",
       " 'isExtinct': None,\n",
       " 'isFreshwater': None,\n",
       " 'isMarine': 0,\n",
       " 'isTerrestrial': None,\n",
       " 'kingdom': 'Animalia',\n",
       " 'lsid': 'urn:lsid:marinespecies.org:taxname:225908',\n",
       " 'match_type': 'exact',\n",
       " 'modified': '2011-04-27T11:01:37Z',\n",
       " 'order': 'Passeriformes',\n",
       " 'phylum': 'Chordata',\n",
       " 'rank': 'Species',\n",
       " 'scientificname': 'Petrochelidon pyrrhonota',\n",
       " 'status': 'accepted',\n",
       " 'unacceptreason': None,\n",
       " 'valid_AphiaID': 225908,\n",
       " 'valid_name': 'Petrochelidon pyrrhonota'}"
      ]
     },
     "metadata": {},
     "output_type": "display_data"
    },
    {
     "name": "stdout",
     "output_type": "stream",
     "text": [
      "------------\n",
      "Ammodramus caudacutus  -  Saltmarsh Sharp-tailed Sparrow ( bSSTSx )\n"
     ]
    },
    {
     "data": {
      "text/plain": [
       "{'AphiaID': 159396,\n",
       " 'MatchMethod': 'Exact Match',\n",
       " 'MatchString': 'Ammodramus caudacutus',\n",
       " 'cacheDate': '2017-07-26T14:42:07.466846',\n",
       " 'class': 'Aves',\n",
       " 'family': 'Fringillidae',\n",
       " 'genus': 'Ammodramus',\n",
       " 'isBrackish': 0,\n",
       " 'isExtinct': None,\n",
       " 'isFreshwater': None,\n",
       " 'isMarine': 0,\n",
       " 'isTerrestrial': None,\n",
       " 'kingdom': 'Animalia',\n",
       " 'lsid': 'urn:lsid:marinespecies.org:taxname:159396',\n",
       " 'match_type': 'exact',\n",
       " 'modified': '2011-04-27T11:01:37Z',\n",
       " 'order': 'Passeriformes',\n",
       " 'phylum': 'Chordata',\n",
       " 'rank': 'Species',\n",
       " 'scientificname': 'Ammodramus caudacutus',\n",
       " 'status': 'accepted',\n",
       " 'unacceptreason': None,\n",
       " 'valid_AphiaID': 159396,\n",
       " 'valid_name': 'Ammodramus caudacutus'}"
      ]
     },
     "metadata": {},
     "output_type": "display_data"
    },
    {
     "name": "stdout",
     "output_type": "stream",
     "text": [
      "------------\n",
      "Ardea alba  -  Great Egret ( bGREGx )\n"
     ]
    },
    {
     "data": {
      "text/plain": [
       "{'AphiaID': 159381,\n",
       " 'MatchMethod': 'Exact Match',\n",
       " 'MatchString': 'Ardea alba',\n",
       " 'cacheDate': '2017-07-26T14:42:13.462761',\n",
       " 'class': 'Aves',\n",
       " 'family': 'Ardeidae',\n",
       " 'genus': 'Ardea',\n",
       " 'isBrackish': 0,\n",
       " 'isExtinct': None,\n",
       " 'isFreshwater': None,\n",
       " 'isMarine': 0,\n",
       " 'isTerrestrial': None,\n",
       " 'kingdom': 'Animalia',\n",
       " 'lsid': 'urn:lsid:marinespecies.org:taxname:159381',\n",
       " 'match_type': 'exact',\n",
       " 'modified': '2011-04-08T08:18:06Z',\n",
       " 'order': 'Ciconiiformes',\n",
       " 'phylum': 'Chordata',\n",
       " 'rank': 'Species',\n",
       " 'scientificname': 'Ardea alba',\n",
       " 'status': 'accepted',\n",
       " 'unacceptreason': None,\n",
       " 'valid_AphiaID': 159381,\n",
       " 'valid_name': 'Ardea alba'}"
      ]
     },
     "metadata": {},
     "output_type": "display_data"
    },
    {
     "name": "stdout",
     "output_type": "stream",
     "text": [
      "------------\n",
      "Dendroica cerulea  -  Cerulean Warbler ( bCERWx )\n"
     ]
    },
    {
     "data": {
      "text/plain": [
       "{'AphiaID': 422647,\n",
       " 'MatchMethod': 'Exact Match',\n",
       " 'MatchString': 'Dendroica cerulea',\n",
       " 'cacheDate': '2017-07-26T14:42:14.635086',\n",
       " 'class': 'Aves',\n",
       " 'family': 'Parulidae',\n",
       " 'genus': 'Dendroica',\n",
       " 'isBrackish': 0,\n",
       " 'isExtinct': None,\n",
       " 'isFreshwater': None,\n",
       " 'isMarine': 0,\n",
       " 'isTerrestrial': None,\n",
       " 'kingdom': 'Animalia',\n",
       " 'lsid': 'urn:lsid:marinespecies.org:taxname:422647',\n",
       " 'match_type': 'exact',\n",
       " 'modified': '2011-04-08T08:18:06Z',\n",
       " 'order': 'Passeriformes',\n",
       " 'phylum': 'Chordata',\n",
       " 'rank': 'Species',\n",
       " 'scientificname': 'Dendroica cerulea',\n",
       " 'status': 'accepted',\n",
       " 'unacceptreason': None,\n",
       " 'valid_AphiaID': 422647,\n",
       " 'valid_name': 'Dendroica cerulea'}"
      ]
     },
     "metadata": {},
     "output_type": "display_data"
    },
    {
     "name": "stdout",
     "output_type": "stream",
     "text": [
      "------------\n",
      "Fratercula cirrhata  -  Tufted Puffin ( bTUPUx )\n"
     ]
    },
    {
     "data": {
      "text/plain": [
       "{'AphiaID': 344610,\n",
       " 'MatchMethod': 'Exact Match',\n",
       " 'MatchString': 'Fratercula cirrhata',\n",
       " 'cacheDate': '2017-07-26T14:42:19.826341',\n",
       " 'class': 'Aves',\n",
       " 'family': 'Alcidae',\n",
       " 'genus': 'Fratercula',\n",
       " 'isBrackish': None,\n",
       " 'isExtinct': None,\n",
       " 'isFreshwater': None,\n",
       " 'isMarine': 1,\n",
       " 'isTerrestrial': None,\n",
       " 'kingdom': 'Animalia',\n",
       " 'lsid': 'urn:lsid:marinespecies.org:taxname:344610',\n",
       " 'match_type': 'exact',\n",
       " 'modified': '2011-04-27T11:01:37Z',\n",
       " 'order': 'Charadriiformes',\n",
       " 'phylum': 'Chordata',\n",
       " 'rank': 'Species',\n",
       " 'scientificname': 'Fratercula cirrhata',\n",
       " 'status': 'accepted',\n",
       " 'unacceptreason': None,\n",
       " 'valid_AphiaID': 344610,\n",
       " 'valid_name': 'Fratercula cirrhata'}"
      ]
     },
     "metadata": {},
     "output_type": "display_data"
    },
    {
     "name": "stdout",
     "output_type": "stream",
     "text": [
      "------------\n",
      "Uria lomvia  -  Thick-billed Murre ( bTBMUx )\n"
     ]
    },
    {
     "data": {
      "text/plain": [
       "{'AphiaID': 137134,\n",
       " 'MatchMethod': 'Exact Match',\n",
       " 'MatchString': 'Uria lomvia',\n",
       " 'cacheDate': '2017-07-26T14:42:24.964718',\n",
       " 'class': 'Aves',\n",
       " 'family': 'Alcidae',\n",
       " 'genus': 'Uria',\n",
       " 'isBrackish': None,\n",
       " 'isExtinct': None,\n",
       " 'isFreshwater': None,\n",
       " 'isMarine': 1,\n",
       " 'isTerrestrial': None,\n",
       " 'kingdom': 'Animalia',\n",
       " 'lsid': 'urn:lsid:marinespecies.org:taxname:137134',\n",
       " 'match_type': 'exact',\n",
       " 'modified': '2011-04-08T08:18:06Z',\n",
       " 'order': 'Charadriiformes',\n",
       " 'phylum': 'Chordata',\n",
       " 'rank': 'Species',\n",
       " 'scientificname': 'Uria lomvia',\n",
       " 'status': 'accepted',\n",
       " 'unacceptreason': None,\n",
       " 'valid_AphiaID': 137134,\n",
       " 'valid_name': 'Uria lomvia'}"
      ]
     },
     "metadata": {},
     "output_type": "display_data"
    },
    {
     "name": "stdout",
     "output_type": "stream",
     "text": [
      "------------\n",
      "Synthliboramphus hypoleucus  -  Xantus's Murrelet ( bXAMUx )\n"
     ]
    },
    {
     "data": {
      "text/plain": [
       "{'AphiaID': 344122,\n",
       " 'MatchMethod': 'Exact Match',\n",
       " 'MatchString': 'Synthliboramphus hypoleucus',\n",
       " 'cacheDate': '2017-07-26T14:42:26.518773',\n",
       " 'class': 'Aves',\n",
       " 'family': 'Alcidae',\n",
       " 'genus': 'Synthliboramphus',\n",
       " 'isBrackish': None,\n",
       " 'isExtinct': None,\n",
       " 'isFreshwater': None,\n",
       " 'isMarine': 1,\n",
       " 'isTerrestrial': None,\n",
       " 'kingdom': 'Animalia',\n",
       " 'lsid': 'urn:lsid:marinespecies.org:taxname:344122',\n",
       " 'match_type': 'exact',\n",
       " 'modified': '2011-04-27T11:01:37Z',\n",
       " 'order': 'Charadriiformes',\n",
       " 'phylum': 'Chordata',\n",
       " 'rank': 'Species',\n",
       " 'scientificname': 'Synthliboramphus hypoleucus',\n",
       " 'status': 'accepted',\n",
       " 'unacceptreason': None,\n",
       " 'valid_AphiaID': 344122,\n",
       " 'valid_name': 'Synthliboramphus hypoleucus'}"
      ]
     },
     "metadata": {},
     "output_type": "display_data"
    },
    {
     "name": "stdout",
     "output_type": "stream",
     "text": [
      "------------\n",
      "Dendroica dominica  -  Yellow-throated Warbler ( bYTWAx )\n"
     ]
    },
    {
     "data": {
      "text/plain": [
       "{'AphiaID': 422642,\n",
       " 'MatchMethod': 'Exact Match',\n",
       " 'MatchString': 'Dendroica dominica',\n",
       " 'cacheDate': '2017-07-26T14:42:28.611102',\n",
       " 'class': 'Aves',\n",
       " 'family': 'Parulidae',\n",
       " 'genus': 'Dendroica',\n",
       " 'isBrackish': 0,\n",
       " 'isExtinct': None,\n",
       " 'isFreshwater': None,\n",
       " 'isMarine': 0,\n",
       " 'isTerrestrial': None,\n",
       " 'kingdom': 'Animalia',\n",
       " 'lsid': 'urn:lsid:marinespecies.org:taxname:422642',\n",
       " 'match_type': 'exact',\n",
       " 'modified': '2011-04-08T08:18:06Z',\n",
       " 'order': 'Passeriformes',\n",
       " 'phylum': 'Chordata',\n",
       " 'rank': 'Species',\n",
       " 'scientificname': 'Dendroica dominica',\n",
       " 'status': 'accepted',\n",
       " 'unacceptreason': None,\n",
       " 'valid_AphiaID': 422642,\n",
       " 'valid_name': 'Dendroica dominica'}"
      ]
     },
     "metadata": {},
     "output_type": "display_data"
    },
    {
     "name": "stdout",
     "output_type": "stream",
     "text": [
      "------------\n",
      "Eumetopias jubatus  -  Steller Sea Lion ( mSSLIx )\n"
     ]
    },
    {
     "data": {
      "text/plain": [
       "{'AphiaID': 254999,\n",
       " 'MatchMethod': 'Exact Match',\n",
       " 'MatchString': 'Eumetopias jubatus',\n",
       " 'cacheDate': '2017-07-26T14:42:51.772199',\n",
       " 'class': 'Mammalia',\n",
       " 'family': 'Otariidae',\n",
       " 'genus': 'Eumetopias',\n",
       " 'isBrackish': None,\n",
       " 'isExtinct': None,\n",
       " 'isFreshwater': None,\n",
       " 'isMarine': 1,\n",
       " 'isTerrestrial': None,\n",
       " 'kingdom': 'Animalia',\n",
       " 'lsid': 'urn:lsid:marinespecies.org:taxname:254999',\n",
       " 'match_type': 'exact',\n",
       " 'modified': '2010-05-20T12:09:50Z',\n",
       " 'order': 'Carnivora',\n",
       " 'phylum': 'Chordata',\n",
       " 'rank': 'Species',\n",
       " 'scientificname': 'Eumetopias jubatus',\n",
       " 'status': 'accepted',\n",
       " 'unacceptreason': None,\n",
       " 'valid_AphiaID': 254999,\n",
       " 'valid_name': 'Eumetopias jubatus'}"
      ]
     },
     "metadata": {},
     "output_type": "display_data"
    },
    {
     "name": "stdout",
     "output_type": "stream",
     "text": [
      "------------\n",
      "Agkistrodon piscivorus  -  Cottonmouth ( rCOTTx )\n"
     ]
    },
    {
     "data": {
      "text/plain": [
       "{'AphiaID': 422565,\n",
       " 'MatchMethod': 'Exact Match',\n",
       " 'MatchString': 'Agkistrodon piscivorus',\n",
       " 'cacheDate': '2017-07-26T14:43:34.096468',\n",
       " 'class': 'Reptilia',\n",
       " 'family': 'Viperidae',\n",
       " 'genus': 'Agkistrodon',\n",
       " 'isBrackish': 1,\n",
       " 'isExtinct': None,\n",
       " 'isFreshwater': 1,\n",
       " 'isMarine': 1,\n",
       " 'isTerrestrial': None,\n",
       " 'kingdom': 'Animalia',\n",
       " 'lsid': 'urn:lsid:marinespecies.org:taxname:422565',\n",
       " 'match_type': 'exact',\n",
       " 'modified': '2010-02-06T12:38:45Z',\n",
       " 'order': 'Squamata',\n",
       " 'phylum': 'Chordata',\n",
       " 'rank': 'Species',\n",
       " 'scientificname': 'Agkistrodon piscivorus',\n",
       " 'status': 'accepted',\n",
       " 'unacceptreason': None,\n",
       " 'valid_AphiaID': 422565,\n",
       " 'valid_name': 'Agkistrodon piscivorus'}"
      ]
     },
     "metadata": {},
     "output_type": "display_data"
    },
    {
     "name": "stdout",
     "output_type": "stream",
     "text": [
      "------------\n",
      "Crocodylus acutus  -  American Crocodile ( rCROCx )\n"
     ]
    },
    {
     "data": {
      "text/plain": [
       "{'AphiaID': 422566,\n",
       " 'MatchMethod': 'Exact Match',\n",
       " 'MatchString': 'Crocodylus acutus',\n",
       " 'cacheDate': '2017-07-26T14:43:36.972493',\n",
       " 'class': 'Reptilia',\n",
       " 'family': 'Crocodylidae',\n",
       " 'genus': 'Crocodylus',\n",
       " 'isBrackish': 1,\n",
       " 'isExtinct': None,\n",
       " 'isFreshwater': None,\n",
       " 'isMarine': None,\n",
       " 'isTerrestrial': None,\n",
       " 'kingdom': 'Animalia',\n",
       " 'lsid': 'urn:lsid:marinespecies.org:taxname:422566',\n",
       " 'match_type': 'exact',\n",
       " 'modified': '2010-02-06T12:38:45Z',\n",
       " 'order': 'Crocodylia',\n",
       " 'phylum': 'Chordata',\n",
       " 'rank': 'Species',\n",
       " 'scientificname': 'Crocodylus acutus',\n",
       " 'status': 'accepted',\n",
       " 'unacceptreason': None,\n",
       " 'valid_AphiaID': 422566,\n",
       " 'valid_name': 'Crocodylus acutus'}"
      ]
     },
     "metadata": {},
     "output_type": "display_data"
    },
    {
     "name": "stdout",
     "output_type": "stream",
     "text": [
      "------------\n",
      "Nerodia sipedon  -  Northern Watersnake ( rNWATx )\n"
     ]
    },
    {
     "data": {
      "text/plain": [
       "{'AphiaID': 344095,\n",
       " 'MatchMethod': 'Exact Match',\n",
       " 'MatchString': 'Nerodia sipedon',\n",
       " 'cacheDate': '2017-07-26T14:43:46.661635',\n",
       " 'class': 'Reptilia',\n",
       " 'family': 'Colubridae',\n",
       " 'genus': 'Nerodia',\n",
       " 'isBrackish': 1,\n",
       " 'isExtinct': None,\n",
       " 'isFreshwater': 1,\n",
       " 'isMarine': 1,\n",
       " 'isTerrestrial': None,\n",
       " 'kingdom': 'Animalia',\n",
       " 'lsid': 'urn:lsid:marinespecies.org:taxname:344095',\n",
       " 'match_type': 'exact',\n",
       " 'modified': '2009-07-01T11:53:39Z',\n",
       " 'order': 'Squamata',\n",
       " 'phylum': 'Chordata',\n",
       " 'rank': 'Species',\n",
       " 'scientificname': 'Nerodia sipedon',\n",
       " 'status': 'accepted',\n",
       " 'unacceptreason': None,\n",
       " 'valid_AphiaID': 344095,\n",
       " 'valid_name': 'Nerodia sipedon'}"
      ]
     },
     "metadata": {},
     "output_type": "display_data"
    },
    {
     "name": "stdout",
     "output_type": "stream",
     "text": [
      "------------\n",
      "Haliaeetus leucocephalus  -  Bald Eagle ( bBAEAx )\n"
     ]
    },
    {
     "data": {
      "text/plain": [
       "{'AphiaID': 159374,\n",
       " 'MatchMethod': 'Exact Match',\n",
       " 'MatchString': 'Haliaeetus leucocephalus',\n",
       " 'cacheDate': '2017-07-26T14:44:41.353509',\n",
       " 'class': 'Aves',\n",
       " 'family': 'Accipitridae',\n",
       " 'genus': 'Haliaeetus',\n",
       " 'isBrackish': 1,\n",
       " 'isExtinct': None,\n",
       " 'isFreshwater': 1,\n",
       " 'isMarine': 1,\n",
       " 'isTerrestrial': None,\n",
       " 'kingdom': 'Animalia',\n",
       " 'lsid': 'urn:lsid:marinespecies.org:taxname:159374',\n",
       " 'match_type': 'exact',\n",
       " 'modified': '2011-04-27T11:01:37Z',\n",
       " 'order': 'Falconiformes',\n",
       " 'phylum': 'Chordata',\n",
       " 'rank': 'Species',\n",
       " 'scientificname': 'Haliaeetus leucocephalus',\n",
       " 'status': 'accepted',\n",
       " 'unacceptreason': None,\n",
       " 'valid_AphiaID': 159374,\n",
       " 'valid_name': 'Haliaeetus leucocephalus'}"
      ]
     },
     "metadata": {},
     "output_type": "display_data"
    },
    {
     "name": "stdout",
     "output_type": "stream",
     "text": [
      "------------\n",
      "Riparia riparia  -  Bank Swallow ( bBANSx )\n"
     ]
    },
    {
     "data": {
      "text/plain": [
       "{'AphiaID': 225984,\n",
       " 'MatchMethod': 'Exact Match',\n",
       " 'MatchString': 'Riparia riparia',\n",
       " 'cacheDate': '2017-07-26T14:44:43.040001',\n",
       " 'class': 'Aves',\n",
       " 'family': 'Hirundinidae',\n",
       " 'genus': 'Riparia',\n",
       " 'isBrackish': 0,\n",
       " 'isExtinct': None,\n",
       " 'isFreshwater': None,\n",
       " 'isMarine': 0,\n",
       " 'isTerrestrial': None,\n",
       " 'kingdom': 'Animalia',\n",
       " 'lsid': 'urn:lsid:marinespecies.org:taxname:225984',\n",
       " 'match_type': 'exact',\n",
       " 'modified': '2011-04-27T11:01:37Z',\n",
       " 'order': 'Passeriformes',\n",
       " 'phylum': 'Chordata',\n",
       " 'rank': 'Species',\n",
       " 'scientificname': 'Riparia riparia',\n",
       " 'status': 'accepted',\n",
       " 'unacceptreason': None,\n",
       " 'valid_AphiaID': 225984,\n",
       " 'valid_name': 'Riparia riparia'}"
      ]
     },
     "metadata": {},
     "output_type": "display_data"
    },
    {
     "name": "stdout",
     "output_type": "stream",
     "text": [
      "------------\n",
      "Sterna dougallii  -  Roseate Tern ( bROSTx )\n"
     ]
    },
    {
     "data": {
      "text/plain": [
       "{'AphiaID': 137160,\n",
       " 'MatchMethod': 'Exact Match',\n",
       " 'MatchString': 'Sterna dougallii',\n",
       " 'cacheDate': '2017-07-26T14:44:49.440965',\n",
       " 'class': 'Aves',\n",
       " 'family': 'Sternidae',\n",
       " 'genus': 'Sterna',\n",
       " 'isBrackish': None,\n",
       " 'isExtinct': None,\n",
       " 'isFreshwater': None,\n",
       " 'isMarine': 1,\n",
       " 'isTerrestrial': None,\n",
       " 'kingdom': 'Animalia',\n",
       " 'lsid': 'urn:lsid:marinespecies.org:taxname:137160',\n",
       " 'match_type': 'exact',\n",
       " 'modified': '2011-04-08T08:18:06Z',\n",
       " 'order': 'Charadriiformes',\n",
       " 'phylum': 'Chordata',\n",
       " 'rank': 'Species',\n",
       " 'scientificname': 'Sterna dougallii',\n",
       " 'status': 'accepted',\n",
       " 'unacceptreason': None,\n",
       " 'valid_AphiaID': 137160,\n",
       " 'valid_name': 'Sterna dougallii'}"
      ]
     },
     "metadata": {},
     "output_type": "display_data"
    },
    {
     "name": "stdout",
     "output_type": "stream",
     "text": [
      "------------\n",
      "Lepidochelys kempii  -  Kemp's Ridley Sea Turtle ( rKRSTx )\n"
     ]
    },
    {
     "data": {
      "text/plain": [
       "{'AphiaID': 137208,\n",
       " 'MatchMethod': 'Exact Match',\n",
       " 'MatchString': 'Lepidochelys kempii',\n",
       " 'cacheDate': '2017-07-26T14:45:22.056328',\n",
       " 'class': 'Reptilia',\n",
       " 'family': 'Cheloniidae',\n",
       " 'genus': 'Lepidochelys',\n",
       " 'isBrackish': None,\n",
       " 'isExtinct': None,\n",
       " 'isFreshwater': None,\n",
       " 'isMarine': 1,\n",
       " 'isTerrestrial': None,\n",
       " 'kingdom': 'Animalia',\n",
       " 'lsid': 'urn:lsid:marinespecies.org:taxname:137208',\n",
       " 'match_type': 'exact',\n",
       " 'modified': '2009-06-30T08:57:17Z',\n",
       " 'order': 'Testudines',\n",
       " 'phylum': 'Chordata',\n",
       " 'rank': 'Species',\n",
       " 'scientificname': 'Lepidochelys kempii',\n",
       " 'status': 'accepted',\n",
       " 'unacceptreason': None,\n",
       " 'valid_AphiaID': 137208,\n",
       " 'valid_name': 'Lepidochelys kempii'}"
      ]
     },
     "metadata": {},
     "output_type": "display_data"
    },
    {
     "name": "stdout",
     "output_type": "stream",
     "text": [
      "------------\n",
      "Myocastor coypus  -  Coypu ( mCOYPx )\n"
     ]
    },
    {
     "data": {
      "text/plain": [
       "{'AphiaID': 594792,\n",
       " 'MatchMethod': 'Exact Match',\n",
       " 'MatchString': 'Myocastor coypus',\n",
       " 'cacheDate': '2017-07-26T14:45:26.723371',\n",
       " 'class': 'Mammalia',\n",
       " 'family': 'Myocastoridae',\n",
       " 'genus': 'Myocastor',\n",
       " 'isBrackish': 0,\n",
       " 'isExtinct': None,\n",
       " 'isFreshwater': 1,\n",
       " 'isMarine': 0,\n",
       " 'isTerrestrial': 1,\n",
       " 'kingdom': 'Animalia',\n",
       " 'lsid': 'urn:lsid:marinespecies.org:taxname:594792',\n",
       " 'match_type': 'exact',\n",
       " 'modified': '2012-01-23T12:37:50Z',\n",
       " 'order': 'Rodentia',\n",
       " 'phylum': 'Chordata',\n",
       " 'rank': 'Species',\n",
       " 'scientificname': 'Myocastor coypus',\n",
       " 'status': 'accepted',\n",
       " 'unacceptreason': None,\n",
       " 'valid_AphiaID': 594792,\n",
       " 'valid_name': 'Myocastor coypus'}"
      ]
     },
     "metadata": {},
     "output_type": "display_data"
    },
    {
     "name": "stdout",
     "output_type": "stream",
     "text": [
      "------------\n",
      "Podiceps grisegena  -  Red-necked Grebe ( bRNGRx )\n"
     ]
    },
    {
     "data": {
      "text/plain": [
       "{'AphiaID': 137183,\n",
       " 'MatchMethod': 'Exact Match',\n",
       " 'MatchString': 'Podiceps grisegena',\n",
       " 'cacheDate': '2017-07-26T14:45:55.164366',\n",
       " 'class': 'Aves',\n",
       " 'family': 'Podicipedidae',\n",
       " 'genus': 'Podiceps',\n",
       " 'isBrackish': None,\n",
       " 'isExtinct': None,\n",
       " 'isFreshwater': None,\n",
       " 'isMarine': 1,\n",
       " 'isTerrestrial': None,\n",
       " 'kingdom': 'Animalia',\n",
       " 'lsid': 'urn:lsid:marinespecies.org:taxname:137183',\n",
       " 'match_type': 'exact',\n",
       " 'modified': '2011-04-08T08:18:06Z',\n",
       " 'order': 'Podicipediformes',\n",
       " 'phylum': 'Chordata',\n",
       " 'rank': 'Species',\n",
       " 'scientificname': 'Podiceps grisegena',\n",
       " 'status': 'accepted',\n",
       " 'unacceptreason': None,\n",
       " 'valid_AphiaID': 137183,\n",
       " 'valid_name': 'Podiceps grisegena'}"
      ]
     },
     "metadata": {},
     "output_type": "display_data"
    },
    {
     "name": "stdout",
     "output_type": "stream",
     "text": [
      "------------\n",
      "Larus heermanni  -  Heermann's Gull ( bHEEGx )\n"
     ]
    },
    {
     "data": {
      "text/plain": [
       "{'AphiaID': 343913,\n",
       " 'MatchMethod': 'Exact Match',\n",
       " 'MatchString': 'Larus heermanni',\n",
       " 'cacheDate': '2017-07-26T14:45:56.390011',\n",
       " 'class': 'Aves',\n",
       " 'family': 'Laridae',\n",
       " 'genus': 'Larus',\n",
       " 'isBrackish': None,\n",
       " 'isExtinct': None,\n",
       " 'isFreshwater': None,\n",
       " 'isMarine': 1,\n",
       " 'isTerrestrial': None,\n",
       " 'kingdom': 'Animalia',\n",
       " 'lsid': 'urn:lsid:marinespecies.org:taxname:343913',\n",
       " 'match_type': 'exact',\n",
       " 'modified': '2011-04-08T08:18:06Z',\n",
       " 'order': 'Charadriiformes',\n",
       " 'phylum': 'Chordata',\n",
       " 'rank': 'Species',\n",
       " 'scientificname': 'Larus heermanni',\n",
       " 'status': 'accepted',\n",
       " 'unacceptreason': None,\n",
       " 'valid_AphiaID': 343913,\n",
       " 'valid_name': 'Larus heermanni'}"
      ]
     },
     "metadata": {},
     "output_type": "display_data"
    },
    {
     "name": "stdout",
     "output_type": "stream",
     "text": [
      "------------\n",
      "Aythya affinis  -  Lesser Scaup ( bLESCx )\n"
     ]
    },
    {
     "data": {
      "text/plain": [
       "{'AphiaID': 159161,\n",
       " 'MatchMethod': 'Exact Match',\n",
       " 'MatchString': 'Aythya affinis',\n",
       " 'cacheDate': '2017-07-26T14:45:59.420731',\n",
       " 'class': 'Aves',\n",
       " 'family': 'Anatidae',\n",
       " 'genus': 'Aythya',\n",
       " 'isBrackish': None,\n",
       " 'isExtinct': None,\n",
       " 'isFreshwater': 1,\n",
       " 'isMarine': 0,\n",
       " 'isTerrestrial': None,\n",
       " 'kingdom': 'Animalia',\n",
       " 'lsid': 'urn:lsid:marinespecies.org:taxname:159161',\n",
       " 'match_type': 'exact',\n",
       " 'modified': '2011-04-27T11:01:37Z',\n",
       " 'order': 'Anseriformes',\n",
       " 'phylum': 'Chordata',\n",
       " 'rank': 'Species',\n",
       " 'scientificname': 'Aythya affinis',\n",
       " 'status': 'accepted',\n",
       " 'unacceptreason': None,\n",
       " 'valid_AphiaID': 159161,\n",
       " 'valid_name': 'Aythya affinis'}"
      ]
     },
     "metadata": {},
     "output_type": "display_data"
    },
    {
     "name": "stdout",
     "output_type": "stream",
     "text": [
      "------------\n",
      "Porzana carolina  -  Sora ( bSORAx )\n"
     ]
    },
    {
     "data": {
      "text/plain": [
       "{'AphiaID': 159013,\n",
       " 'MatchMethod': 'Exact Match',\n",
       " 'MatchString': 'Porzana carolina',\n",
       " 'cacheDate': '2017-07-26T14:46:03.957450',\n",
       " 'class': 'Aves',\n",
       " 'family': 'Rallidae',\n",
       " 'genus': 'Porzana',\n",
       " 'isBrackish': 0,\n",
       " 'isExtinct': None,\n",
       " 'isFreshwater': 1,\n",
       " 'isMarine': 0,\n",
       " 'isTerrestrial': None,\n",
       " 'kingdom': 'Animalia',\n",
       " 'lsid': 'urn:lsid:marinespecies.org:taxname:159013',\n",
       " 'match_type': 'exact',\n",
       " 'modified': '2011-04-27T11:01:37Z',\n",
       " 'order': 'Gruiformes',\n",
       " 'phylum': 'Chordata',\n",
       " 'rank': 'Species',\n",
       " 'scientificname': 'Porzana carolina',\n",
       " 'status': 'accepted',\n",
       " 'unacceptreason': None,\n",
       " 'valid_AphiaID': 159013,\n",
       " 'valid_name': 'Porzana carolina'}"
      ]
     },
     "metadata": {},
     "output_type": "display_data"
    },
    {
     "name": "stdout",
     "output_type": "stream",
     "text": [
      "------------\n",
      "Passerina cyanea  -  Indigo Bunting ( bINBUx )\n"
     ]
    },
    {
     "data": {
      "text/plain": [
       "{'AphiaID': 422670,\n",
       " 'MatchMethod': 'Exact Match',\n",
       " 'MatchString': 'Passerina cyanea',\n",
       " 'cacheDate': '2017-07-26T14:46:05.230271',\n",
       " 'class': 'Aves',\n",
       " 'family': 'Cardinalidae',\n",
       " 'genus': 'Passerina',\n",
       " 'isBrackish': 0,\n",
       " 'isExtinct': None,\n",
       " 'isFreshwater': None,\n",
       " 'isMarine': 0,\n",
       " 'isTerrestrial': None,\n",
       " 'kingdom': 'Animalia',\n",
       " 'lsid': 'urn:lsid:marinespecies.org:taxname:422670',\n",
       " 'match_type': 'exact',\n",
       " 'modified': '2011-04-08T08:18:06Z',\n",
       " 'order': 'Passeriformes',\n",
       " 'phylum': 'Chordata',\n",
       " 'rank': 'Species',\n",
       " 'scientificname': 'Passerina cyanea',\n",
       " 'status': 'accepted',\n",
       " 'unacceptreason': None,\n",
       " 'valid_AphiaID': 422670,\n",
       " 'valid_name': 'Passerina cyanea'}"
      ]
     },
     "metadata": {},
     "output_type": "display_data"
    },
    {
     "name": "stdout",
     "output_type": "stream",
     "text": [
      "------------\n",
      "Puffinus puffinus  -  Manx Shearwater ( bMASHx )\n"
     ]
    },
    {
     "data": {
      "text/plain": [
       "{'AphiaID': 137203,\n",
       " 'MatchMethod': 'Exact Match',\n",
       " 'MatchString': 'Puffinus puffinus',\n",
       " 'cacheDate': '2017-07-26T14:46:09.065801',\n",
       " 'class': 'Aves',\n",
       " 'family': 'Procellariidae',\n",
       " 'genus': 'Puffinus',\n",
       " 'isBrackish': None,\n",
       " 'isExtinct': None,\n",
       " 'isFreshwater': None,\n",
       " 'isMarine': 1,\n",
       " 'isTerrestrial': None,\n",
       " 'kingdom': 'Animalia',\n",
       " 'lsid': 'urn:lsid:marinespecies.org:taxname:137203',\n",
       " 'match_type': 'exact',\n",
       " 'modified': '2011-04-27T11:01:37Z',\n",
       " 'order': 'Procellariiformes',\n",
       " 'phylum': 'Chordata',\n",
       " 'rank': 'Species',\n",
       " 'scientificname': 'Puffinus puffinus',\n",
       " 'status': 'accepted',\n",
       " 'unacceptreason': None,\n",
       " 'valid_AphiaID': 137203,\n",
       " 'valid_name': 'Puffinus puffinus'}"
      ]
     },
     "metadata": {},
     "output_type": "display_data"
    },
    {
     "name": "stdout",
     "output_type": "stream",
     "text": [
      "------------\n",
      "Larus californicus  -  California Gull ( bCAGUx )\n"
     ]
    },
    {
     "data": {
      "text/plain": [
       "{'AphiaID': 343907,\n",
       " 'MatchMethod': 'Exact Match',\n",
       " 'MatchString': 'Larus californicus',\n",
       " 'cacheDate': '2017-07-26T14:46:19.718738',\n",
       " 'class': 'Aves',\n",
       " 'family': 'Laridae',\n",
       " 'genus': 'Larus',\n",
       " 'isBrackish': None,\n",
       " 'isExtinct': None,\n",
       " 'isFreshwater': None,\n",
       " 'isMarine': 1,\n",
       " 'isTerrestrial': None,\n",
       " 'kingdom': 'Animalia',\n",
       " 'lsid': 'urn:lsid:marinespecies.org:taxname:343907',\n",
       " 'match_type': 'exact',\n",
       " 'modified': '2011-04-08T08:18:06Z',\n",
       " 'order': 'Charadriiformes',\n",
       " 'phylum': 'Chordata',\n",
       " 'rank': 'Species',\n",
       " 'scientificname': 'Larus californicus',\n",
       " 'status': 'accepted',\n",
       " 'unacceptreason': None,\n",
       " 'valid_AphiaID': 343907,\n",
       " 'valid_name': 'Larus californicus'}"
      ]
     },
     "metadata": {},
     "output_type": "display_data"
    },
    {
     "name": "stdout",
     "output_type": "stream",
     "text": [
      "------------\n",
      "Aythya valisineria  -  Canvasback ( bCANVx )\n"
     ]
    },
    {
     "data": {
      "text/plain": [
       "{'AphiaID': 159173,\n",
       " 'MatchMethod': 'Exact Match',\n",
       " 'MatchString': 'Aythya valisineria',\n",
       " 'cacheDate': '2017-07-26T14:46:38.327584',\n",
       " 'class': 'Aves',\n",
       " 'family': 'Anatidae',\n",
       " 'genus': 'Aythya',\n",
       " 'isBrackish': 1,\n",
       " 'isExtinct': None,\n",
       " 'isFreshwater': 1,\n",
       " 'isMarine': 1,\n",
       " 'isTerrestrial': None,\n",
       " 'kingdom': 'Animalia',\n",
       " 'lsid': 'urn:lsid:marinespecies.org:taxname:159173',\n",
       " 'match_type': 'exact',\n",
       " 'modified': '2011-04-27T11:01:37Z',\n",
       " 'order': 'Anseriformes',\n",
       " 'phylum': 'Chordata',\n",
       " 'rank': 'Species',\n",
       " 'scientificname': 'Aythya valisineria',\n",
       " 'status': 'accepted',\n",
       " 'unacceptreason': None,\n",
       " 'valid_AphiaID': 159173,\n",
       " 'valid_name': 'Aythya valisineria'}"
      ]
     },
     "metadata": {},
     "output_type": "display_data"
    },
    {
     "name": "stdout",
     "output_type": "stream",
     "text": [
      "------------\n",
      "Fratercula arctica  -  Atlantic Puffin ( bATPUx )\n"
     ]
    },
    {
     "data": {
      "text/plain": [
       "{'AphiaID': 137131,\n",
       " 'MatchMethod': 'Exact Match',\n",
       " 'MatchString': 'Fratercula arctica',\n",
       " 'cacheDate': '2017-07-26T14:47:18.122046',\n",
       " 'class': 'Aves',\n",
       " 'family': 'Alcidae',\n",
       " 'genus': 'Fratercula',\n",
       " 'isBrackish': None,\n",
       " 'isExtinct': None,\n",
       " 'isFreshwater': None,\n",
       " 'isMarine': 1,\n",
       " 'isTerrestrial': None,\n",
       " 'kingdom': 'Animalia',\n",
       " 'lsid': 'urn:lsid:marinespecies.org:taxname:137131',\n",
       " 'match_type': 'exact',\n",
       " 'modified': '2011-04-08T08:18:06Z',\n",
       " 'order': 'Charadriiformes',\n",
       " 'phylum': 'Chordata',\n",
       " 'rank': 'Species',\n",
       " 'scientificname': 'Fratercula arctica',\n",
       " 'status': 'accepted',\n",
       " 'unacceptreason': None,\n",
       " 'valid_AphiaID': 137131,\n",
       " 'valid_name': 'Fratercula arctica'}"
      ]
     },
     "metadata": {},
     "output_type": "display_data"
    },
    {
     "name": "stdout",
     "output_type": "stream",
     "text": [
      "------------\n",
      "Alle alle  -  Dovekie ( bDOVEx )\n"
     ]
    },
    {
     "data": {
      "text/plain": [
       "{'AphiaID': 137129,\n",
       " 'MatchMethod': 'Exact Match',\n",
       " 'MatchString': 'Alle alle',\n",
       " 'cacheDate': '2017-07-26T14:47:29.754249',\n",
       " 'class': 'Aves',\n",
       " 'family': 'Alcidae',\n",
       " 'genus': 'Alle',\n",
       " 'isBrackish': None,\n",
       " 'isExtinct': None,\n",
       " 'isFreshwater': None,\n",
       " 'isMarine': 1,\n",
       " 'isTerrestrial': None,\n",
       " 'kingdom': 'Animalia',\n",
       " 'lsid': 'urn:lsid:marinespecies.org:taxname:137129',\n",
       " 'match_type': 'exact',\n",
       " 'modified': '2011-04-08T08:18:06Z',\n",
       " 'order': 'Charadriiformes',\n",
       " 'phylum': 'Chordata',\n",
       " 'rank': 'Species',\n",
       " 'scientificname': 'Alle alle',\n",
       " 'status': 'accepted',\n",
       " 'unacceptreason': None,\n",
       " 'valid_AphiaID': 137129,\n",
       " 'valid_name': 'Alle alle'}"
      ]
     },
     "metadata": {},
     "output_type": "display_data"
    },
    {
     "name": "stdout",
     "output_type": "stream",
     "text": [
      "------------\n",
      "Podiceps nigricollis  -  Eared Grebe ( bEAGRx )\n"
     ]
    },
    {
     "data": {
      "text/plain": [
       "{'AphiaID': 137184,\n",
       " 'MatchMethod': 'Exact Match',\n",
       " 'MatchString': 'Podiceps nigricollis',\n",
       " 'cacheDate': '2017-07-26T14:47:37.881083',\n",
       " 'class': 'Aves',\n",
       " 'family': 'Podicipedidae',\n",
       " 'genus': 'Podiceps',\n",
       " 'isBrackish': None,\n",
       " 'isExtinct': None,\n",
       " 'isFreshwater': None,\n",
       " 'isMarine': 1,\n",
       " 'isTerrestrial': None,\n",
       " 'kingdom': 'Animalia',\n",
       " 'lsid': 'urn:lsid:marinespecies.org:taxname:137184',\n",
       " 'match_type': 'exact',\n",
       " 'modified': '2011-04-27T11:01:37Z',\n",
       " 'order': 'Podicipediformes',\n",
       " 'phylum': 'Chordata',\n",
       " 'rank': 'Species',\n",
       " 'scientificname': 'Podiceps nigricollis',\n",
       " 'status': 'accepted',\n",
       " 'unacceptreason': None,\n",
       " 'valid_AphiaID': 137184,\n",
       " 'valid_name': 'Podiceps nigricollis'}"
      ]
     },
     "metadata": {},
     "output_type": "display_data"
    },
    {
     "name": "stdout",
     "output_type": "stream",
     "text": [
      "------------\n",
      "Oporornis agilis  -  Connecticut Warbler ( bCONWx )\n"
     ]
    },
    {
     "data": {
      "text/plain": [
       "{'AphiaID': 422657,\n",
       " 'MatchMethod': 'Exact Match',\n",
       " 'MatchString': 'Oporornis agilis',\n",
       " 'cacheDate': '2017-07-26T14:47:39.361597',\n",
       " 'class': 'Aves',\n",
       " 'family': 'Parulidae',\n",
       " 'genus': 'Oporornis',\n",
       " 'isBrackish': 0,\n",
       " 'isExtinct': None,\n",
       " 'isFreshwater': None,\n",
       " 'isMarine': 0,\n",
       " 'isTerrestrial': None,\n",
       " 'kingdom': 'Animalia',\n",
       " 'lsid': 'urn:lsid:marinespecies.org:taxname:422657',\n",
       " 'match_type': 'exact',\n",
       " 'modified': '2011-04-08T08:18:06Z',\n",
       " 'order': 'Passeriformes',\n",
       " 'phylum': 'Chordata',\n",
       " 'rank': 'Species',\n",
       " 'scientificname': 'Oporornis agilis',\n",
       " 'status': 'accepted',\n",
       " 'unacceptreason': None,\n",
       " 'valid_AphiaID': 422657,\n",
       " 'valid_name': 'Oporornis agilis'}"
      ]
     },
     "metadata": {},
     "output_type": "display_data"
    },
    {
     "name": "stdout",
     "output_type": "stream",
     "text": [
      "------------\n",
      "Passer montanus  -  Eurasian Tree Sparrow ( bETSPx )\n"
     ]
    },
    {
     "data": {
      "text/plain": [
       "{'AphiaID': 558571,\n",
       " 'MatchMethod': 'Exact Match',\n",
       " 'MatchString': 'Passer montanus',\n",
       " 'cacheDate': '2017-07-26T14:47:44.796251',\n",
       " 'class': 'Aves',\n",
       " 'family': 'Passeridae',\n",
       " 'genus': 'Passer',\n",
       " 'isBrackish': 0,\n",
       " 'isExtinct': None,\n",
       " 'isFreshwater': 0,\n",
       " 'isMarine': 0,\n",
       " 'isTerrestrial': 1,\n",
       " 'kingdom': 'Animalia',\n",
       " 'lsid': 'urn:lsid:marinespecies.org:taxname:558571',\n",
       " 'match_type': 'exact',\n",
       " 'modified': '2011-04-08T08:18:06Z',\n",
       " 'order': 'Passeriformes',\n",
       " 'phylum': 'Chordata',\n",
       " 'rank': 'Species',\n",
       " 'scientificname': 'Passer montanus',\n",
       " 'status': 'accepted',\n",
       " 'unacceptreason': None,\n",
       " 'valid_AphiaID': 558571,\n",
       " 'valid_name': 'Passer montanus'}"
      ]
     },
     "metadata": {},
     "output_type": "display_data"
    },
    {
     "name": "stdout",
     "output_type": "stream",
     "text": [
      "------------\n",
      "Haematopus bachmani  -  Black Oystercatcher ( bBLOYx )\n"
     ]
    },
    {
     "data": {
      "text/plain": [
       "{'AphiaID': 366767,\n",
       " 'MatchMethod': 'Exact Match',\n",
       " 'MatchString': 'Haematopus bachmani',\n",
       " 'cacheDate': '2017-07-26T14:47:46.664662',\n",
       " 'class': 'Aves',\n",
       " 'family': 'Charadriidae',\n",
       " 'genus': 'Haematopus',\n",
       " 'isBrackish': None,\n",
       " 'isExtinct': None,\n",
       " 'isFreshwater': None,\n",
       " 'isMarine': 1,\n",
       " 'isTerrestrial': None,\n",
       " 'kingdom': 'Animalia',\n",
       " 'lsid': 'urn:lsid:marinespecies.org:taxname:366767',\n",
       " 'match_type': 'exact',\n",
       " 'modified': '2011-04-08T08:18:06Z',\n",
       " 'order': 'Charadriiformes',\n",
       " 'phylum': 'Chordata',\n",
       " 'rank': 'Species',\n",
       " 'scientificname': 'Haematopus bachmani',\n",
       " 'status': 'accepted',\n",
       " 'unacceptreason': None,\n",
       " 'valid_AphiaID': 366767,\n",
       " 'valid_name': 'Haematopus bachmani'}"
      ]
     },
     "metadata": {},
     "output_type": "display_data"
    },
    {
     "name": "stdout",
     "output_type": "stream",
     "text": [
      "------------\n",
      "Grus americana  -  Whooping Crane ( bWHCRx )\n"
     ]
    },
    {
     "data": {
      "text/plain": [
       "{'AphiaID': 422602,\n",
       " 'MatchMethod': 'Exact Match',\n",
       " 'MatchString': 'Grus americana',\n",
       " 'cacheDate': '2017-07-26T14:47:48.135369',\n",
       " 'class': 'Aves',\n",
       " 'family': 'Gruidae',\n",
       " 'genus': 'Grus',\n",
       " 'isBrackish': 0,\n",
       " 'isExtinct': None,\n",
       " 'isFreshwater': None,\n",
       " 'isMarine': 0,\n",
       " 'isTerrestrial': None,\n",
       " 'kingdom': 'Animalia',\n",
       " 'lsid': 'urn:lsid:marinespecies.org:taxname:422602',\n",
       " 'match_type': 'exact',\n",
       " 'modified': '2011-04-08T08:18:06Z',\n",
       " 'order': 'Gruiformes',\n",
       " 'phylum': 'Chordata',\n",
       " 'rank': 'Species',\n",
       " 'scientificname': 'Grus americana',\n",
       " 'status': 'accepted',\n",
       " 'unacceptreason': None,\n",
       " 'valid_AphiaID': 422602,\n",
       " 'valid_name': 'Grus americana'}"
      ]
     },
     "metadata": {},
     "output_type": "display_data"
    },
    {
     "name": "stdout",
     "output_type": "stream",
     "text": [
      "------------\n",
      "Larus marinus  -  Great Black-backed Gull ( bGBBGx )\n"
     ]
    },
    {
     "data": {
      "text/plain": [
       "{'AphiaID': 137146,\n",
       " 'MatchMethod': 'Exact Match',\n",
       " 'MatchString': 'Larus marinus',\n",
       " 'cacheDate': '2017-07-26T14:48:01.600287',\n",
       " 'class': 'Aves',\n",
       " 'family': 'Laridae',\n",
       " 'genus': 'Larus',\n",
       " 'isBrackish': None,\n",
       " 'isExtinct': None,\n",
       " 'isFreshwater': None,\n",
       " 'isMarine': 1,\n",
       " 'isTerrestrial': None,\n",
       " 'kingdom': 'Animalia',\n",
       " 'lsid': 'urn:lsid:marinespecies.org:taxname:137146',\n",
       " 'match_type': 'exact',\n",
       " 'modified': '2011-04-08T08:18:06Z',\n",
       " 'order': 'Charadriiformes',\n",
       " 'phylum': 'Chordata',\n",
       " 'rank': 'Species',\n",
       " 'scientificname': 'Larus marinus',\n",
       " 'status': 'accepted',\n",
       " 'unacceptreason': None,\n",
       " 'valid_AphiaID': 137146,\n",
       " 'valid_name': 'Larus marinus'}"
      ]
     },
     "metadata": {},
     "output_type": "display_data"
    },
    {
     "name": "stdout",
     "output_type": "stream",
     "text": [
      "------------\n",
      "Streptopelia decaocto  -  Eurasian Collared-dove ( bEUCDx )\n"
     ]
    },
    {
     "data": {
      "text/plain": [
       "{'AphiaID': 558586,\n",
       " 'MatchMethod': 'Exact Match',\n",
       " 'MatchString': 'Streptopelia decaocto',\n",
       " 'cacheDate': '2017-07-26T14:48:04.814378',\n",
       " 'class': 'Aves',\n",
       " 'family': 'Columbidae',\n",
       " 'genus': 'Streptopelia',\n",
       " 'isBrackish': 0,\n",
       " 'isExtinct': None,\n",
       " 'isFreshwater': 0,\n",
       " 'isMarine': 0,\n",
       " 'isTerrestrial': 1,\n",
       " 'kingdom': 'Animalia',\n",
       " 'lsid': 'urn:lsid:marinespecies.org:taxname:558586',\n",
       " 'match_type': 'exact',\n",
       " 'modified': '2011-04-08T08:18:06Z',\n",
       " 'order': 'Columbiformes',\n",
       " 'phylum': 'Chordata',\n",
       " 'rank': 'Species',\n",
       " 'scientificname': 'Streptopelia decaocto',\n",
       " 'status': 'accepted',\n",
       " 'unacceptreason': None,\n",
       " 'valid_AphiaID': 558586,\n",
       " 'valid_name': 'Streptopelia decaocto'}"
      ]
     },
     "metadata": {},
     "output_type": "display_data"
    },
    {
     "name": "stdout",
     "output_type": "stream",
     "text": [
      "------------\n",
      "Caprimulgus carolinensis  -  Chuck-will's-widow ( bCWWIx )\n"
     ]
    },
    {
     "data": {
      "text/plain": [
       "{'AphiaID': 422613,\n",
       " 'MatchMethod': 'Exact Match',\n",
       " 'MatchString': 'Caprimulgus carolinensis',\n",
       " 'cacheDate': '2017-07-26T14:48:06.571496',\n",
       " 'class': 'Aves',\n",
       " 'family': 'Caprimulgidae',\n",
       " 'genus': 'Caprimulgus',\n",
       " 'isBrackish': 0,\n",
       " 'isExtinct': None,\n",
       " 'isFreshwater': None,\n",
       " 'isMarine': 0,\n",
       " 'isTerrestrial': None,\n",
       " 'kingdom': 'Animalia',\n",
       " 'lsid': 'urn:lsid:marinespecies.org:taxname:422613',\n",
       " 'match_type': 'exact',\n",
       " 'modified': '2011-04-08T08:18:06Z',\n",
       " 'order': 'Caprimulgiformes',\n",
       " 'phylum': 'Chordata',\n",
       " 'rank': 'Species',\n",
       " 'scientificname': 'Caprimulgus carolinensis',\n",
       " 'status': 'accepted',\n",
       " 'unacceptreason': None,\n",
       " 'valid_AphiaID': 422613,\n",
       " 'valid_name': 'Caprimulgus carolinensis'}"
      ]
     },
     "metadata": {},
     "output_type": "display_data"
    },
    {
     "name": "stdout",
     "output_type": "stream",
     "text": [
      "------------\n",
      "Tringa melanoleuca  -  Greater Yellowlegs ( bGRYEx )\n"
     ]
    },
    {
     "data": {
      "text/plain": [
       "{'AphiaID': 158967,\n",
       " 'MatchMethod': 'Exact Match',\n",
       " 'MatchString': 'Tringa melanoleuca',\n",
       " 'cacheDate': '2017-07-26T14:48:08.390769',\n",
       " 'class': 'Aves',\n",
       " 'family': 'Scolopacidae',\n",
       " 'genus': 'Tringa',\n",
       " 'isBrackish': None,\n",
       " 'isExtinct': None,\n",
       " 'isFreshwater': None,\n",
       " 'isMarine': 1,\n",
       " 'isTerrestrial': None,\n",
       " 'kingdom': 'Animalia',\n",
       " 'lsid': 'urn:lsid:marinespecies.org:taxname:158967',\n",
       " 'match_type': 'exact',\n",
       " 'modified': '2011-04-27T11:01:37Z',\n",
       " 'order': 'Charadriiformes',\n",
       " 'phylum': 'Chordata',\n",
       " 'rank': 'Species',\n",
       " 'scientificname': 'Tringa melanoleuca',\n",
       " 'status': 'accepted',\n",
       " 'unacceptreason': None,\n",
       " 'valid_AphiaID': 158967,\n",
       " 'valid_name': 'Tringa melanoleuca'}"
      ]
     },
     "metadata": {},
     "output_type": "display_data"
    },
    {
     "name": "stdout",
     "output_type": "stream",
     "text": [
      "------------\n",
      "Anser albifrons elgasi  -  Tule White-fronted Goose ( bGWFGe )\n"
     ]
    },
    {
     "data": {
      "text/plain": [
       "{'AphiaID': 159159,\n",
       " 'MatchMethod': 'Exact Match',\n",
       " 'MatchString': 'Anser albifrons',\n",
       " 'cacheDate': '2017-07-26T14:48:10.881696',\n",
       " 'class': 'Aves',\n",
       " 'family': 'Anatidae',\n",
       " 'genus': 'Anser',\n",
       " 'isBrackish': None,\n",
       " 'isExtinct': None,\n",
       " 'isFreshwater': 1,\n",
       " 'isMarine': 0,\n",
       " 'isTerrestrial': None,\n",
       " 'kingdom': 'Animalia',\n",
       " 'lsid': 'urn:lsid:marinespecies.org:taxname:159159',\n",
       " 'match_type': 'exact',\n",
       " 'modified': '2011-04-27T11:01:37Z',\n",
       " 'order': 'Anseriformes',\n",
       " 'phylum': 'Chordata',\n",
       " 'rank': 'Species',\n",
       " 'scientificname': 'Anser albifrons',\n",
       " 'status': 'accepted',\n",
       " 'unacceptreason': None,\n",
       " 'valid_AphiaID': 159159,\n",
       " 'valid_name': 'Anser albifrons'}"
      ]
     },
     "metadata": {},
     "output_type": "display_data"
    },
    {
     "name": "stdout",
     "output_type": "stream",
     "text": [
      "------------\n",
      "Himantopus mexicanus  -  Black-necked Stilt ( bBNSTx )\n"
     ]
    },
    {
     "data": {
      "text/plain": [
       "{'AphiaID': 159131,\n",
       " 'MatchMethod': 'Exact Match',\n",
       " 'MatchString': 'Himantopus mexicanus',\n",
       " 'cacheDate': '2017-07-26T14:48:43.250992',\n",
       " 'class': 'Aves',\n",
       " 'family': 'Recurvirostridae',\n",
       " 'genus': 'Himantopus',\n",
       " 'isBrackish': 1,\n",
       " 'isExtinct': None,\n",
       " 'isFreshwater': 1,\n",
       " 'isMarine': 1,\n",
       " 'isTerrestrial': None,\n",
       " 'kingdom': 'Animalia',\n",
       " 'lsid': 'urn:lsid:marinespecies.org:taxname:159131',\n",
       " 'match_type': 'exact',\n",
       " 'modified': '2011-04-27T11:01:37Z',\n",
       " 'order': 'Charadriiformes',\n",
       " 'phylum': 'Chordata',\n",
       " 'rank': 'Species',\n",
       " 'scientificname': 'Himantopus mexicanus',\n",
       " 'status': 'accepted',\n",
       " 'unacceptreason': None,\n",
       " 'valid_AphiaID': 159131,\n",
       " 'valid_name': 'Himantopus mexicanus'}"
      ]
     },
     "metadata": {},
     "output_type": "display_data"
    },
    {
     "name": "stdout",
     "output_type": "stream",
     "text": [
      "------------\n",
      "Cepphus columba  -  Pigeon Guillemot ( bPIGUx )\n"
     ]
    },
    {
     "data": {
      "text/plain": [
       "{'AphiaID': 343902,\n",
       " 'MatchMethod': 'Exact Match',\n",
       " 'MatchString': 'Cepphus columba',\n",
       " 'cacheDate': '2017-07-26T14:48:53.543571',\n",
       " 'class': 'Aves',\n",
       " 'family': 'Alcidae',\n",
       " 'genus': 'Cepphus',\n",
       " 'isBrackish': None,\n",
       " 'isExtinct': None,\n",
       " 'isFreshwater': None,\n",
       " 'isMarine': 1,\n",
       " 'isTerrestrial': None,\n",
       " 'kingdom': 'Animalia',\n",
       " 'lsid': 'urn:lsid:marinespecies.org:taxname:343902',\n",
       " 'match_type': 'exact',\n",
       " 'modified': '2011-04-08T08:18:06Z',\n",
       " 'order': 'Charadriiformes',\n",
       " 'phylum': 'Chordata',\n",
       " 'rank': 'Species',\n",
       " 'scientificname': 'Cepphus columba',\n",
       " 'status': 'accepted',\n",
       " 'unacceptreason': None,\n",
       " 'valid_AphiaID': 343902,\n",
       " 'valid_name': 'Cepphus columba'}"
      ]
     },
     "metadata": {},
     "output_type": "display_data"
    },
    {
     "name": "stdout",
     "output_type": "stream",
     "text": [
      "------------\n",
      "Melanitta perspicillata  -  Surf Scoter ( bSUSCx )\n"
     ]
    },
    {
     "data": {
      "text/plain": [
       "{'AphiaID': 159095,\n",
       " 'MatchMethod': 'Exact Match',\n",
       " 'MatchString': 'Melanitta perspicillata',\n",
       " 'cacheDate': '2017-07-26T14:49:03.248179',\n",
       " 'class': 'Aves',\n",
       " 'family': 'Anatidae',\n",
       " 'genus': 'Melanitta',\n",
       " 'isBrackish': None,\n",
       " 'isExtinct': None,\n",
       " 'isFreshwater': None,\n",
       " 'isMarine': 1,\n",
       " 'isTerrestrial': None,\n",
       " 'kingdom': 'Animalia',\n",
       " 'lsid': 'urn:lsid:marinespecies.org:taxname:159095',\n",
       " 'match_type': 'exact',\n",
       " 'modified': '2011-04-27T11:01:37Z',\n",
       " 'order': 'Anseriformes',\n",
       " 'phylum': 'Chordata',\n",
       " 'rank': 'Species',\n",
       " 'scientificname': 'Melanitta perspicillata',\n",
       " 'status': 'accepted',\n",
       " 'unacceptreason': None,\n",
       " 'valid_AphiaID': 159095,\n",
       " 'valid_name': 'Melanitta perspicillata'}"
      ]
     },
     "metadata": {},
     "output_type": "display_data"
    },
    {
     "name": "stdout",
     "output_type": "stream",
     "text": [
      "------------\n",
      "Passerina ciris  -  Painted Bunting ( bPABUx )\n"
     ]
    },
    {
     "data": {
      "text/plain": [
       "{'AphiaID': 422671,\n",
       " 'MatchMethod': 'Exact Match',\n",
       " 'MatchString': 'Passerina ciris',\n",
       " 'cacheDate': '2017-07-26T14:49:13.285223',\n",
       " 'class': 'Aves',\n",
       " 'family': 'Cardinalidae',\n",
       " 'genus': 'Passerina',\n",
       " 'isBrackish': 0,\n",
       " 'isExtinct': None,\n",
       " 'isFreshwater': None,\n",
       " 'isMarine': 0,\n",
       " 'isTerrestrial': None,\n",
       " 'kingdom': 'Animalia',\n",
       " 'lsid': 'urn:lsid:marinespecies.org:taxname:422671',\n",
       " 'match_type': 'exact',\n",
       " 'modified': '2011-04-08T08:18:06Z',\n",
       " 'order': 'Passeriformes',\n",
       " 'phylum': 'Chordata',\n",
       " 'rank': 'Species',\n",
       " 'scientificname': 'Passerina ciris',\n",
       " 'status': 'accepted',\n",
       " 'unacceptreason': None,\n",
       " 'valid_AphiaID': 422671,\n",
       " 'valid_name': 'Passerina ciris'}"
      ]
     },
     "metadata": {},
     "output_type": "display_data"
    },
    {
     "name": "stdout",
     "output_type": "stream",
     "text": [
      "------------\n",
      "Parula americana  -  Northern Parula ( bNOPAx )\n"
     ]
    },
    {
     "data": {
      "text/plain": [
       "{'AphiaID': 422633,\n",
       " 'MatchMethod': 'Exact Match',\n",
       " 'MatchString': 'Parula americana',\n",
       " 'cacheDate': '2017-07-26T14:49:16.431835',\n",
       " 'class': 'Aves',\n",
       " 'family': 'Parulidae',\n",
       " 'genus': 'Parula',\n",
       " 'isBrackish': 0,\n",
       " 'isExtinct': None,\n",
       " 'isFreshwater': None,\n",
       " 'isMarine': 0,\n",
       " 'isTerrestrial': None,\n",
       " 'kingdom': 'Animalia',\n",
       " 'lsid': 'urn:lsid:marinespecies.org:taxname:422633',\n",
       " 'match_type': 'exact',\n",
       " 'modified': '2011-04-08T08:18:06Z',\n",
       " 'order': 'Passeriformes',\n",
       " 'phylum': 'Chordata',\n",
       " 'rank': 'Species',\n",
       " 'scientificname': 'Parula americana',\n",
       " 'status': 'accepted',\n",
       " 'unacceptreason': None,\n",
       " 'valid_AphiaID': 422633,\n",
       " 'valid_name': 'Parula americana'}"
      ]
     },
     "metadata": {},
     "output_type": "display_data"
    },
    {
     "name": "stdout",
     "output_type": "stream",
     "text": [
      "------------\n",
      "Phoca vitulina  -  Harbor Seal ( mHASEx )\n"
     ]
    },
    {
     "data": {
      "text/plain": [
       "{'AphiaID': 137084,\n",
       " 'MatchMethod': 'Exact Match',\n",
       " 'MatchString': 'Phoca vitulina',\n",
       " 'cacheDate': '2017-07-26T14:49:41.851454',\n",
       " 'class': 'Mammalia',\n",
       " 'family': 'Phocidae',\n",
       " 'genus': 'Phoca',\n",
       " 'isBrackish': 1,\n",
       " 'isExtinct': None,\n",
       " 'isFreshwater': 1,\n",
       " 'isMarine': 1,\n",
       " 'isTerrestrial': None,\n",
       " 'kingdom': 'Animalia',\n",
       " 'lsid': 'urn:lsid:marinespecies.org:taxname:137084',\n",
       " 'match_type': 'exact',\n",
       " 'modified': '2010-05-20T12:09:50Z',\n",
       " 'order': 'Carnivora',\n",
       " 'phylum': 'Chordata',\n",
       " 'rank': 'Species',\n",
       " 'scientificname': 'Phoca vitulina',\n",
       " 'status': 'accepted',\n",
       " 'unacceptreason': None,\n",
       " 'valid_AphiaID': 137084,\n",
       " 'valid_name': 'Phoca vitulina'}"
      ]
     },
     "metadata": {},
     "output_type": "display_data"
    },
    {
     "name": "stdout",
     "output_type": "stream",
     "text": [
      "------------\n",
      "Recurvirostra americana  -  American Avocet ( bAMAVx )\n"
     ]
    },
    {
     "data": {
      "text/plain": [
       "{'AphiaID': 159140,\n",
       " 'MatchMethod': 'Exact Match',\n",
       " 'MatchString': 'Recurvirostra americana',\n",
       " 'cacheDate': '2017-07-26T14:50:08.537075',\n",
       " 'class': 'Aves',\n",
       " 'family': 'Recurvirostridae',\n",
       " 'genus': 'Recurvirostra',\n",
       " 'isBrackish': None,\n",
       " 'isExtinct': None,\n",
       " 'isFreshwater': None,\n",
       " 'isMarine': 1,\n",
       " 'isTerrestrial': None,\n",
       " 'kingdom': 'Animalia',\n",
       " 'lsid': 'urn:lsid:marinespecies.org:taxname:159140',\n",
       " 'match_type': 'exact',\n",
       " 'modified': '2011-04-08T08:18:06Z',\n",
       " 'order': 'Charadriiformes',\n",
       " 'phylum': 'Chordata',\n",
       " 'rank': 'Species',\n",
       " 'scientificname': 'Recurvirostra americana',\n",
       " 'status': 'accepted',\n",
       " 'unacceptreason': None,\n",
       " 'valid_AphiaID': 159140,\n",
       " 'valid_name': 'Recurvirostra americana'}"
      ]
     },
     "metadata": {},
     "output_type": "display_data"
    },
    {
     "name": "stdout",
     "output_type": "stream",
     "text": [
      "------------\n",
      "Fulica americana  -  American Coot ( bAMCOx )\n"
     ]
    },
    {
     "data": {
      "text/plain": [
       "{'AphiaID': 159007,\n",
       " 'MatchMethod': 'Exact Match',\n",
       " 'MatchString': 'Fulica americana',\n",
       " 'cacheDate': '2017-07-26T14:50:24.618985',\n",
       " 'class': 'Aves',\n",
       " 'family': 'Rallidae',\n",
       " 'genus': 'Fulica',\n",
       " 'isBrackish': 0,\n",
       " 'isExtinct': None,\n",
       " 'isFreshwater': 1,\n",
       " 'isMarine': 0,\n",
       " 'isTerrestrial': None,\n",
       " 'kingdom': 'Animalia',\n",
       " 'lsid': 'urn:lsid:marinespecies.org:taxname:159007',\n",
       " 'match_type': 'exact',\n",
       " 'modified': '2011-04-27T11:01:37Z',\n",
       " 'order': 'Gruiformes',\n",
       " 'phylum': 'Chordata',\n",
       " 'rank': 'Species',\n",
       " 'scientificname': 'Fulica americana',\n",
       " 'status': 'accepted',\n",
       " 'unacceptreason': None,\n",
       " 'valid_AphiaID': 159007,\n",
       " 'valid_name': 'Fulica americana'}"
      ]
     },
     "metadata": {},
     "output_type": "display_data"
    },
    {
     "name": "stdout",
     "output_type": "stream",
     "text": [
      "------------\n",
      "Dermochelys coriacea  -  Leatherback Sea Turtle ( rLEATx )\n"
     ]
    },
    {
     "data": {
      "text/plain": [
       "{'AphiaID': 137209,\n",
       " 'MatchMethod': 'Exact Match',\n",
       " 'MatchString': 'Dermochelys coriacea',\n",
       " 'cacheDate': '2017-07-26T14:50:37.650025',\n",
       " 'class': 'Reptilia',\n",
       " 'family': 'Dermochelyidae',\n",
       " 'genus': 'Dermochelys',\n",
       " 'isBrackish': None,\n",
       " 'isExtinct': None,\n",
       " 'isFreshwater': None,\n",
       " 'isMarine': 1,\n",
       " 'isTerrestrial': None,\n",
       " 'kingdom': 'Animalia',\n",
       " 'lsid': 'urn:lsid:marinespecies.org:taxname:137209',\n",
       " 'match_type': 'exact',\n",
       " 'modified': '2009-06-30T08:57:17Z',\n",
       " 'order': 'Testudines',\n",
       " 'phylum': 'Chordata',\n",
       " 'rank': 'Species',\n",
       " 'scientificname': 'Dermochelys coriacea',\n",
       " 'status': 'accepted',\n",
       " 'unacceptreason': None,\n",
       " 'valid_AphiaID': 137209,\n",
       " 'valid_name': 'Dermochelys coriacea'}"
      ]
     },
     "metadata": {},
     "output_type": "display_data"
    },
    {
     "name": "stdout",
     "output_type": "stream",
     "text": [
      "------------\n",
      "Accipiter striatus  -  Sharp-shinned Hawk ( bSSHAx )\n"
     ]
    },
    {
     "data": {
      "text/plain": [
       "{'AphiaID': 159105,\n",
       " 'MatchMethod': 'Exact Match',\n",
       " 'MatchString': 'Accipiter striatus',\n",
       " 'cacheDate': '2017-07-26T14:51:31.782852',\n",
       " 'class': 'Aves',\n",
       " 'family': 'Accipitridae',\n",
       " 'genus': 'Accipiter',\n",
       " 'isBrackish': 0,\n",
       " 'isExtinct': None,\n",
       " 'isFreshwater': None,\n",
       " 'isMarine': 0,\n",
       " 'isTerrestrial': None,\n",
       " 'kingdom': 'Animalia',\n",
       " 'lsid': 'urn:lsid:marinespecies.org:taxname:159105',\n",
       " 'match_type': 'exact',\n",
       " 'modified': '2011-04-27T11:01:37Z',\n",
       " 'order': 'Falconiformes',\n",
       " 'phylum': 'Chordata',\n",
       " 'rank': 'Species',\n",
       " 'scientificname': 'Accipiter striatus',\n",
       " 'status': 'accepted',\n",
       " 'unacceptreason': None,\n",
       " 'valid_AphiaID': 159105,\n",
       " 'valid_name': 'Accipiter striatus'}"
      ]
     },
     "metadata": {},
     "output_type": "display_data"
    },
    {
     "name": "stdout",
     "output_type": "stream",
     "text": [
      "------------\n",
      "Vermivora pinus  -  Blue-winged Warbler ( bBWWAx )\n"
     ]
    },
    {
     "data": {
      "text/plain": [
       "{'AphiaID': 422629,\n",
       " 'MatchMethod': 'Exact Match',\n",
       " 'MatchString': 'Vermivora pinus',\n",
       " 'cacheDate': '2017-07-26T14:51:33.167732',\n",
       " 'class': 'Aves',\n",
       " 'family': 'Parulidae',\n",
       " 'genus': 'Vermivora',\n",
       " 'isBrackish': 0,\n",
       " 'isExtinct': None,\n",
       " 'isFreshwater': None,\n",
       " 'isMarine': 0,\n",
       " 'isTerrestrial': None,\n",
       " 'kingdom': 'Animalia',\n",
       " 'lsid': 'urn:lsid:marinespecies.org:taxname:422629',\n",
       " 'match_type': 'exact',\n",
       " 'modified': '2011-04-07T15:28:46Z',\n",
       " 'order': 'Passeriformes',\n",
       " 'phylum': 'Chordata',\n",
       " 'rank': 'Species',\n",
       " 'scientificname': 'Vermivora pinus',\n",
       " 'status': 'unaccepted',\n",
       " 'unacceptreason': 'synonym',\n",
       " 'valid_AphiaID': 567890,\n",
       " 'valid_name': 'Vermivora cyanoptera'}"
      ]
     },
     "metadata": {},
     "output_type": "display_data"
    },
    {
     "name": "stdout",
     "output_type": "stream",
     "text": [
      "------------\n",
      "Sterna hirundo  -  Common Tern ( bCOTEx )\n"
     ]
    },
    {
     "data": {
      "text/plain": [
       "{'AphiaID': 137162,\n",
       " 'MatchMethod': 'Exact Match',\n",
       " 'MatchString': 'Sterna hirundo',\n",
       " 'cacheDate': '2017-07-26T14:51:54.054240',\n",
       " 'class': 'Aves',\n",
       " 'family': 'Sternidae',\n",
       " 'genus': 'Sterna',\n",
       " 'isBrackish': None,\n",
       " 'isExtinct': None,\n",
       " 'isFreshwater': None,\n",
       " 'isMarine': 1,\n",
       " 'isTerrestrial': None,\n",
       " 'kingdom': 'Animalia',\n",
       " 'lsid': 'urn:lsid:marinespecies.org:taxname:137162',\n",
       " 'match_type': 'exact',\n",
       " 'modified': '2011-04-08T08:18:06Z',\n",
       " 'order': 'Charadriiformes',\n",
       " 'phylum': 'Chordata',\n",
       " 'rank': 'Species',\n",
       " 'scientificname': 'Sterna hirundo',\n",
       " 'status': 'accepted',\n",
       " 'unacceptreason': None,\n",
       " 'valid_AphiaID': 137162,\n",
       " 'valid_name': 'Sterna hirundo'}"
      ]
     },
     "metadata": {},
     "output_type": "display_data"
    },
    {
     "name": "stdout",
     "output_type": "stream",
     "text": [
      "------------\n",
      "Phalacrocorax penicillatus  -  Brandt's Cormorant ( bBRACx )\n"
     ]
    },
    {
     "data": {
      "text/plain": [
       "{'AphiaID': 343951,\n",
       " 'MatchMethod': 'Exact Match',\n",
       " 'MatchString': 'Phalacrocorax penicillatus',\n",
       " 'cacheDate': '2017-07-26T14:52:31.480277',\n",
       " 'class': 'Aves',\n",
       " 'family': 'Phalacrocoracidae',\n",
       " 'genus': 'Phalacrocorax',\n",
       " 'isBrackish': None,\n",
       " 'isExtinct': None,\n",
       " 'isFreshwater': None,\n",
       " 'isMarine': 1,\n",
       " 'isTerrestrial': None,\n",
       " 'kingdom': 'Animalia',\n",
       " 'lsid': 'urn:lsid:marinespecies.org:taxname:343951',\n",
       " 'match_type': 'exact',\n",
       " 'modified': '2011-04-08T08:18:06Z',\n",
       " 'order': 'Pelecaniformes',\n",
       " 'phylum': 'Chordata',\n",
       " 'rank': 'Species',\n",
       " 'scientificname': 'Phalacrocorax penicillatus',\n",
       " 'status': 'accepted',\n",
       " 'unacceptreason': None,\n",
       " 'valid_AphiaID': 343951,\n",
       " 'valid_name': 'Phalacrocorax penicillatus'}"
      ]
     },
     "metadata": {},
     "output_type": "display_data"
    },
    {
     "name": "stdout",
     "output_type": "stream",
     "text": [
      "------------\n",
      "Butorides virescens  -  Green Heron ( bGRHEx )\n"
     ]
    },
    {
     "data": {
      "text/plain": [
       "{'AphiaID': 159112,\n",
       " 'MatchMethod': 'Exact Match',\n",
       " 'MatchString': 'Butorides virescens',\n",
       " 'cacheDate': '2017-07-26T14:52:34.733200',\n",
       " 'class': 'Aves',\n",
       " 'family': 'Ardeidae',\n",
       " 'genus': 'Butorides',\n",
       " 'isBrackish': 0,\n",
       " 'isExtinct': None,\n",
       " 'isFreshwater': None,\n",
       " 'isMarine': 0,\n",
       " 'isTerrestrial': None,\n",
       " 'kingdom': 'Animalia',\n",
       " 'lsid': 'urn:lsid:marinespecies.org:taxname:159112',\n",
       " 'match_type': 'exact',\n",
       " 'modified': '2011-04-27T11:01:37Z',\n",
       " 'order': 'Ciconiiformes',\n",
       " 'phylum': 'Chordata',\n",
       " 'rank': 'Species',\n",
       " 'scientificname': 'Butorides virescens',\n",
       " 'status': 'accepted',\n",
       " 'unacceptreason': None,\n",
       " 'valid_AphiaID': 159112,\n",
       " 'valid_name': 'Butorides virescens'}"
      ]
     },
     "metadata": {},
     "output_type": "display_data"
    },
    {
     "name": "stdout",
     "output_type": "stream",
     "text": [
      "------------\n",
      "Chlidonias niger  -  Black Tern ( bBLTEx )\n"
     ]
    },
    {
     "data": {
      "text/plain": [
       "{'AphiaID': 137137,\n",
       " 'MatchMethod': 'Exact Match',\n",
       " 'MatchString': 'Chlidonias niger',\n",
       " 'cacheDate': '2017-07-26T14:52:36.687931',\n",
       " 'class': 'Aves',\n",
       " 'family': 'Sternidae',\n",
       " 'genus': 'Chlidonias',\n",
       " 'isBrackish': None,\n",
       " 'isExtinct': None,\n",
       " 'isFreshwater': 1,\n",
       " 'isMarine': 1,\n",
       " 'isTerrestrial': None,\n",
       " 'kingdom': 'Animalia',\n",
       " 'lsid': 'urn:lsid:marinespecies.org:taxname:137137',\n",
       " 'match_type': 'exact',\n",
       " 'modified': '2011-04-08T08:18:06Z',\n",
       " 'order': 'Charadriiformes',\n",
       " 'phylum': 'Chordata',\n",
       " 'rank': 'Species',\n",
       " 'scientificname': 'Chlidonias niger',\n",
       " 'status': 'accepted',\n",
       " 'unacceptreason': None,\n",
       " 'valid_AphiaID': 137137,\n",
       " 'valid_name': 'Chlidonias niger'}"
      ]
     },
     "metadata": {},
     "output_type": "display_data"
    },
    {
     "name": "stdout",
     "output_type": "stream",
     "text": [
      "------------\n",
      "Coragyps atratus  -  Black Vulture ( bBLVUx )\n"
     ]
    },
    {
     "data": {
      "text/plain": [
       "{'AphiaID': 159147,\n",
       " 'MatchMethod': 'Exact Match',\n",
       " 'MatchString': 'Coragyps atratus',\n",
       " 'cacheDate': '2017-07-26T14:52:39.036912',\n",
       " 'class': 'Aves',\n",
       " 'family': 'Cathartidae',\n",
       " 'genus': 'Coragyps',\n",
       " 'isBrackish': 0,\n",
       " 'isExtinct': None,\n",
       " 'isFreshwater': None,\n",
       " 'isMarine': 0,\n",
       " 'isTerrestrial': None,\n",
       " 'kingdom': 'Animalia',\n",
       " 'lsid': 'urn:lsid:marinespecies.org:taxname:159147',\n",
       " 'match_type': 'exact',\n",
       " 'modified': '2011-04-27T11:01:37Z',\n",
       " 'order': 'Accipitriformes',\n",
       " 'phylum': 'Chordata',\n",
       " 'rank': 'Species',\n",
       " 'scientificname': 'Coragyps atratus',\n",
       " 'status': 'accepted',\n",
       " 'unacceptreason': None,\n",
       " 'valid_AphiaID': 159147,\n",
       " 'valid_name': 'Coragyps atratus'}"
      ]
     },
     "metadata": {},
     "output_type": "display_data"
    },
    {
     "name": "stdout",
     "output_type": "stream",
     "text": [
      "------------\n",
      "Bucephala clangula  -  Common Goldeneye ( bCOGOx )\n"
     ]
    },
    {
     "data": {
      "text/plain": [
       "{'AphiaID': 159197,\n",
       " 'MatchMethod': 'Exact Match',\n",
       " 'MatchString': 'Bucephala clangula',\n",
       " 'cacheDate': '2017-07-26T14:52:54.963058',\n",
       " 'class': 'Aves',\n",
       " 'family': 'Anatidae',\n",
       " 'genus': 'Bucephala',\n",
       " 'isBrackish': None,\n",
       " 'isExtinct': None,\n",
       " 'isFreshwater': 1,\n",
       " 'isMarine': 0,\n",
       " 'isTerrestrial': None,\n",
       " 'kingdom': 'Animalia',\n",
       " 'lsid': 'urn:lsid:marinespecies.org:taxname:159197',\n",
       " 'match_type': 'exact',\n",
       " 'modified': '2011-04-27T11:01:37Z',\n",
       " 'order': 'Anseriformes',\n",
       " 'phylum': 'Chordata',\n",
       " 'rank': 'Species',\n",
       " 'scientificname': 'Bucephala clangula',\n",
       " 'status': 'accepted',\n",
       " 'unacceptreason': None,\n",
       " 'valid_AphiaID': 159197,\n",
       " 'valid_name': 'Bucephala clangula'}"
      ]
     },
     "metadata": {},
     "output_type": "display_data"
    },
    {
     "name": "stdout",
     "output_type": "stream",
     "text": [
      "------------\n",
      "Chloroceryle americana  -  Green Kingfisher ( bGKINx )\n"
     ]
    },
    {
     "data": {
      "text/plain": [
       "{'AphiaID': 422617,\n",
       " 'MatchMethod': 'Exact Match',\n",
       " 'MatchString': 'Chloroceryle americana',\n",
       " 'cacheDate': '2017-07-26T14:53:04.053468',\n",
       " 'class': 'Aves',\n",
       " 'family': 'Alcedinidae',\n",
       " 'genus': 'Chloroceryle',\n",
       " 'isBrackish': 1,\n",
       " 'isExtinct': None,\n",
       " 'isFreshwater': 1,\n",
       " 'isMarine': 1,\n",
       " 'isTerrestrial': None,\n",
       " 'kingdom': 'Animalia',\n",
       " 'lsid': 'urn:lsid:marinespecies.org:taxname:422617',\n",
       " 'match_type': 'exact',\n",
       " 'modified': '2011-04-08T08:18:06Z',\n",
       " 'order': 'Coraciiformes',\n",
       " 'phylum': 'Chordata',\n",
       " 'rank': 'Species',\n",
       " 'scientificname': 'Chloroceryle americana',\n",
       " 'status': 'accepted',\n",
       " 'unacceptreason': None,\n",
       " 'valid_AphiaID': 422617,\n",
       " 'valid_name': 'Chloroceryle americana'}"
      ]
     },
     "metadata": {},
     "output_type": "display_data"
    },
    {
     "name": "stdout",
     "output_type": "stream",
     "text": [
      "------------\n",
      "Clangula hyemalis  -  Long-tailed Duck ( bLTDUx )\n"
     ]
    },
    {
     "data": {
      "text/plain": [
       "{'AphiaID': 137071,\n",
       " 'MatchMethod': 'Exact Match',\n",
       " 'MatchString': 'Clangula hyemalis',\n",
       " 'cacheDate': '2017-07-26T14:53:07.424957',\n",
       " 'class': 'Aves',\n",
       " 'family': 'Anatidae',\n",
       " 'genus': 'Clangula',\n",
       " 'isBrackish': None,\n",
       " 'isExtinct': None,\n",
       " 'isFreshwater': None,\n",
       " 'isMarine': 1,\n",
       " 'isTerrestrial': None,\n",
       " 'kingdom': 'Animalia',\n",
       " 'lsid': 'urn:lsid:marinespecies.org:taxname:137071',\n",
       " 'match_type': 'exact',\n",
       " 'modified': '2011-04-08T08:18:06Z',\n",
       " 'order': 'Anseriformes',\n",
       " 'phylum': 'Chordata',\n",
       " 'rank': 'Species',\n",
       " 'scientificname': 'Clangula hyemalis',\n",
       " 'status': 'accepted',\n",
       " 'unacceptreason': None,\n",
       " 'valid_AphiaID': 137071,\n",
       " 'valid_name': 'Clangula hyemalis'}"
      ]
     },
     "metadata": {},
     "output_type": "display_data"
    },
    {
     "name": "stdout",
     "output_type": "stream",
     "text": [
      "------------\n",
      "Aythya americana  -  Redhead ( bREDHx )\n"
     ]
    },
    {
     "data": {
      "text/plain": [
       "{'AphiaID': 159162,\n",
       " 'MatchMethod': 'Exact Match',\n",
       " 'MatchString': 'Aythya americana',\n",
       " 'cacheDate': '2017-07-26T14:53:12.795967',\n",
       " 'class': 'Aves',\n",
       " 'family': 'Anatidae',\n",
       " 'genus': 'Aythya',\n",
       " 'isBrackish': None,\n",
       " 'isExtinct': None,\n",
       " 'isFreshwater': 1,\n",
       " 'isMarine': 0,\n",
       " 'isTerrestrial': None,\n",
       " 'kingdom': 'Animalia',\n",
       " 'lsid': 'urn:lsid:marinespecies.org:taxname:159162',\n",
       " 'match_type': 'exact',\n",
       " 'modified': '2011-04-27T11:01:37Z',\n",
       " 'order': 'Anseriformes',\n",
       " 'phylum': 'Chordata',\n",
       " 'rank': 'Species',\n",
       " 'scientificname': 'Aythya americana',\n",
       " 'status': 'accepted',\n",
       " 'unacceptreason': None,\n",
       " 'valid_AphiaID': 159162,\n",
       " 'valid_name': 'Aythya americana'}"
      ]
     },
     "metadata": {},
     "output_type": "display_data"
    },
    {
     "name": "stdout",
     "output_type": "stream",
     "text": [
      "------------\n",
      "Falco rusticolus  -  Gyrfalcon ( bGYRFx )\n"
     ]
    },
    {
     "data": {
      "text/plain": [
       "{'AphiaID': 159154,\n",
       " 'MatchMethod': 'Exact Match',\n",
       " 'MatchString': 'Falco rusticolus',\n",
       " 'cacheDate': '2017-07-26T14:53:17.979857',\n",
       " 'class': 'Aves',\n",
       " 'family': 'Falconidae',\n",
       " 'genus': 'Falco',\n",
       " 'isBrackish': 0,\n",
       " 'isExtinct': None,\n",
       " 'isFreshwater': None,\n",
       " 'isMarine': 0,\n",
       " 'isTerrestrial': None,\n",
       " 'kingdom': 'Animalia',\n",
       " 'lsid': 'urn:lsid:marinespecies.org:taxname:159154',\n",
       " 'match_type': 'exact',\n",
       " 'modified': '2011-04-08T08:18:06Z',\n",
       " 'order': 'Falconiformes',\n",
       " 'phylum': 'Chordata',\n",
       " 'rank': 'Species',\n",
       " 'scientificname': 'Falco rusticolus',\n",
       " 'status': 'accepted',\n",
       " 'unacceptreason': None,\n",
       " 'valid_AphiaID': 159154,\n",
       " 'valid_name': 'Falco rusticolus'}"
      ]
     },
     "metadata": {},
     "output_type": "display_data"
    },
    {
     "name": "stdout",
     "output_type": "stream",
     "text": [
      "------------\n",
      "Chen caerulescens  -  Snow Goose ( bSNGOx )\n"
     ]
    },
    {
     "data": {
      "text/plain": [
       "{'AphiaID': 159204,\n",
       " 'MatchMethod': 'Exact Match',\n",
       " 'MatchString': 'Chen caerulescens',\n",
       " 'cacheDate': '2017-07-26T14:53:26.154758',\n",
       " 'class': 'Aves',\n",
       " 'family': 'Anatidae',\n",
       " 'genus': 'Chen',\n",
       " 'isBrackish': None,\n",
       " 'isExtinct': None,\n",
       " 'isFreshwater': 1,\n",
       " 'isMarine': 0,\n",
       " 'isTerrestrial': None,\n",
       " 'kingdom': 'Animalia',\n",
       " 'lsid': 'urn:lsid:marinespecies.org:taxname:159204',\n",
       " 'match_type': 'exact',\n",
       " 'modified': '2011-04-27T11:01:37Z',\n",
       " 'order': 'Anseriformes',\n",
       " 'phylum': 'Chordata',\n",
       " 'rank': 'Species',\n",
       " 'scientificname': 'Chen caerulescens',\n",
       " 'status': 'accepted',\n",
       " 'unacceptreason': None,\n",
       " 'valid_AphiaID': 159204,\n",
       " 'valid_name': 'Chen caerulescens'}"
      ]
     },
     "metadata": {},
     "output_type": "display_data"
    },
    {
     "name": "stdout",
     "output_type": "stream",
     "text": [
      "------------\n",
      "Sternula antillarum athalassos  -  Interior Least Tern ( bLETEa )\n"
     ]
    },
    {
     "data": {
      "text/plain": [
       "{'AphiaID': 567799,\n",
       " 'MatchMethod': 'Exact Match',\n",
       " 'MatchString': 'Sternula antillarum athalassos',\n",
       " 'cacheDate': '2017-07-26T14:53:33.398426',\n",
       " 'class': 'Aves',\n",
       " 'family': 'Sternidae',\n",
       " 'genus': 'Sternula',\n",
       " 'isBrackish': None,\n",
       " 'isExtinct': None,\n",
       " 'isFreshwater': None,\n",
       " 'isMarine': 1,\n",
       " 'isTerrestrial': None,\n",
       " 'kingdom': 'Animalia',\n",
       " 'lsid': 'urn:lsid:marinespecies.org:taxname:567799',\n",
       " 'match_type': 'exact',\n",
       " 'modified': '2011-04-07T11:46:01Z',\n",
       " 'order': 'Charadriiformes',\n",
       " 'phylum': 'Chordata',\n",
       " 'rank': 'Subspecies',\n",
       " 'scientificname': 'Sternula antillarum athalassos',\n",
       " 'status': 'accepted',\n",
       " 'unacceptreason': None,\n",
       " 'valid_AphiaID': 567799,\n",
       " 'valid_name': 'Sternula antillarum athalassos'}"
      ]
     },
     "metadata": {},
     "output_type": "display_data"
    },
    {
     "name": "stdout",
     "output_type": "stream",
     "text": [
      "------------\n",
      "Asio flammeus  -  Short-eared Owl ( bSEOWx )\n"
     ]
    },
    {
     "data": {
      "text/plain": [
       "{'AphiaID': 212685,\n",
       " 'MatchMethod': 'Exact Match',\n",
       " 'MatchString': 'Asio flammeus',\n",
       " 'cacheDate': '2017-07-26T14:53:55.865254',\n",
       " 'class': 'Aves',\n",
       " 'family': 'Strigidae',\n",
       " 'genus': 'Asio',\n",
       " 'isBrackish': 0,\n",
       " 'isExtinct': None,\n",
       " 'isFreshwater': 0,\n",
       " 'isMarine': 0,\n",
       " 'isTerrestrial': 1,\n",
       " 'kingdom': 'Animalia',\n",
       " 'lsid': 'urn:lsid:marinespecies.org:taxname:212685',\n",
       " 'match_type': 'exact',\n",
       " 'modified': '2011-04-08T08:18:06Z',\n",
       " 'order': 'Strigiformes',\n",
       " 'phylum': 'Chordata',\n",
       " 'rank': 'Species',\n",
       " 'scientificname': 'Asio flammeus',\n",
       " 'status': 'accepted',\n",
       " 'unacceptreason': None,\n",
       " 'valid_AphiaID': 212685,\n",
       " 'valid_name': 'Asio flammeus'}"
      ]
     },
     "metadata": {},
     "output_type": "display_data"
    },
    {
     "name": "stdout",
     "output_type": "stream",
     "text": [
      "------------\n",
      "Lontra canadensis  -  North American River Otter ( mNAROx )\n"
     ]
    },
    {
     "data": {
      "text/plain": [
       "{'AphiaID': 159017,\n",
       " 'MatchMethod': 'Exact Match',\n",
       " 'MatchString': 'Lontra canadensis',\n",
       " 'cacheDate': '2017-07-26T14:54:37.979297',\n",
       " 'class': 'Mammalia',\n",
       " 'family': 'Mustelidae',\n",
       " 'genus': 'Lontra',\n",
       " 'isBrackish': None,\n",
       " 'isExtinct': None,\n",
       " 'isFreshwater': None,\n",
       " 'isMarine': 1,\n",
       " 'isTerrestrial': None,\n",
       " 'kingdom': 'Animalia',\n",
       " 'lsid': 'urn:lsid:marinespecies.org:taxname:159017',\n",
       " 'match_type': 'exact',\n",
       " 'modified': '2010-05-20T12:09:50Z',\n",
       " 'order': 'Carnivora',\n",
       " 'phylum': 'Chordata',\n",
       " 'rank': 'Species',\n",
       " 'scientificname': 'Lontra canadensis',\n",
       " 'status': 'accepted',\n",
       " 'unacceptreason': None,\n",
       " 'valid_AphiaID': 159017,\n",
       " 'valid_name': 'Lontra canadensis'}"
      ]
     },
     "metadata": {},
     "output_type": "display_data"
    },
    {
     "name": "stdout",
     "output_type": "stream",
     "text": [
      "------------\n",
      "Alca torda  -  Razorbill ( bRAZOx )\n"
     ]
    },
    {
     "data": {
      "text/plain": [
       "{'AphiaID': 137128,\n",
       " 'MatchMethod': 'Exact Match',\n",
       " 'MatchString': 'Alca torda',\n",
       " 'cacheDate': '2017-07-26T14:55:47.478133',\n",
       " 'class': 'Aves',\n",
       " 'family': 'Alcidae',\n",
       " 'genus': 'Alca',\n",
       " 'isBrackish': None,\n",
       " 'isExtinct': None,\n",
       " 'isFreshwater': None,\n",
       " 'isMarine': 1,\n",
       " 'isTerrestrial': None,\n",
       " 'kingdom': 'Animalia',\n",
       " 'lsid': 'urn:lsid:marinespecies.org:taxname:137128',\n",
       " 'match_type': 'exact',\n",
       " 'modified': '2011-04-08T08:18:06Z',\n",
       " 'order': 'Charadriiformes',\n",
       " 'phylum': 'Chordata',\n",
       " 'rank': 'Species',\n",
       " 'scientificname': 'Alca torda',\n",
       " 'status': 'accepted',\n",
       " 'unacceptreason': None,\n",
       " 'valid_AphiaID': 137128,\n",
       " 'valid_name': 'Alca torda'}"
      ]
     },
     "metadata": {},
     "output_type": "display_data"
    },
    {
     "name": "stdout",
     "output_type": "stream",
     "text": [
      "------------\n",
      "Stercorarius parasiticus  -  Parasitic Jaeger ( bPAJAx )\n"
     ]
    },
    {
     "data": {
      "text/plain": [
       "{'AphiaID': 137172,\n",
       " 'MatchMethod': 'Exact Match',\n",
       " 'MatchString': 'Stercorarius parasiticus',\n",
       " 'cacheDate': '2017-07-26T14:55:52.303305',\n",
       " 'class': 'Aves',\n",
       " 'family': 'Stercorariidae',\n",
       " 'genus': 'Stercorarius',\n",
       " 'isBrackish': None,\n",
       " 'isExtinct': None,\n",
       " 'isFreshwater': None,\n",
       " 'isMarine': 1,\n",
       " 'isTerrestrial': None,\n",
       " 'kingdom': 'Animalia',\n",
       " 'lsid': 'urn:lsid:marinespecies.org:taxname:137172',\n",
       " 'match_type': 'exact',\n",
       " 'modified': '2011-04-08T08:18:06Z',\n",
       " 'order': 'Charadriiformes',\n",
       " 'phylum': 'Chordata',\n",
       " 'rank': 'Species',\n",
       " 'scientificname': 'Stercorarius parasiticus',\n",
       " 'status': 'accepted',\n",
       " 'unacceptreason': None,\n",
       " 'valid_AphiaID': 137172,\n",
       " 'valid_name': 'Stercorarius parasiticus'}"
      ]
     },
     "metadata": {},
     "output_type": "display_data"
    },
    {
     "name": "stdout",
     "output_type": "stream",
     "text": [
      "------------\n",
      "Malaclemys terrapin  -  Diamond-backed Terrapin ( rDBTEx )\n"
     ]
    },
    {
     "data": {
      "text/plain": [
       "{'AphiaID': 422564,\n",
       " 'MatchMethod': 'Exact Match',\n",
       " 'MatchString': 'Malaclemys terrapin',\n",
       " 'cacheDate': '2017-07-26T14:56:00.585455',\n",
       " 'class': 'Reptilia',\n",
       " 'family': 'Emydidae',\n",
       " 'genus': 'Malaclemys',\n",
       " 'isBrackish': 1,\n",
       " 'isExtinct': None,\n",
       " 'isFreshwater': None,\n",
       " 'isMarine': None,\n",
       " 'isTerrestrial': None,\n",
       " 'kingdom': 'Animalia',\n",
       " 'lsid': 'urn:lsid:marinespecies.org:taxname:422564',\n",
       " 'match_type': 'exact',\n",
       " 'modified': '2010-02-06T12:38:45Z',\n",
       " 'order': 'Testudines',\n",
       " 'phylum': 'Chordata',\n",
       " 'rank': 'Species',\n",
       " 'scientificname': 'Malaclemys terrapin',\n",
       " 'status': 'accepted',\n",
       " 'unacceptreason': None,\n",
       " 'valid_AphiaID': 422564,\n",
       " 'valid_name': 'Malaclemys terrapin'}"
      ]
     },
     "metadata": {},
     "output_type": "display_data"
    },
    {
     "name": "stdout",
     "output_type": "stream",
     "text": [
      "------------\n",
      "Vermivora ruficapilla  -  Nashville Warbler ( bNAWAx )\n"
     ]
    },
    {
     "data": {
      "text/plain": [
       "{'AphiaID': 422632,\n",
       " 'MatchMethod': 'Exact Match',\n",
       " 'MatchString': 'Vermivora ruficapilla',\n",
       " 'cacheDate': '2017-07-26T14:56:20.119136',\n",
       " 'class': 'Aves',\n",
       " 'family': 'Parulidae',\n",
       " 'genus': 'Vermivora',\n",
       " 'isBrackish': 0,\n",
       " 'isExtinct': None,\n",
       " 'isFreshwater': None,\n",
       " 'isMarine': 0,\n",
       " 'isTerrestrial': None,\n",
       " 'kingdom': 'Animalia',\n",
       " 'lsid': 'urn:lsid:marinespecies.org:taxname:422632',\n",
       " 'match_type': 'exact',\n",
       " 'modified': '2011-04-07T15:28:46Z',\n",
       " 'order': 'Passeriformes',\n",
       " 'phylum': 'Chordata',\n",
       " 'rank': 'Species',\n",
       " 'scientificname': 'Vermivora ruficapilla',\n",
       " 'status': 'unaccepted',\n",
       " 'unacceptreason': 'synonym',\n",
       " 'valid_AphiaID': 567892,\n",
       " 'valid_name': 'Oreothlypis ruficapilla'}"
      ]
     },
     "metadata": {},
     "output_type": "display_data"
    },
    {
     "name": "stdout",
     "output_type": "stream",
     "text": [
      "------------\n",
      "Bubulcus ibis  -  Cattle Egret ( bCAEGx )\n"
     ]
    },
    {
     "data": {
      "text/plain": [
       "{'AphiaID': 159742,\n",
       " 'MatchMethod': 'Exact Match',\n",
       " 'MatchString': 'Bubulcus ibis',\n",
       " 'cacheDate': '2017-07-26T14:56:28.953404',\n",
       " 'class': 'Aves',\n",
       " 'family': 'Ardeidae',\n",
       " 'genus': 'Bubulcus',\n",
       " 'isBrackish': 0,\n",
       " 'isExtinct': None,\n",
       " 'isFreshwater': None,\n",
       " 'isMarine': 0,\n",
       " 'isTerrestrial': None,\n",
       " 'kingdom': 'Animalia',\n",
       " 'lsid': 'urn:lsid:marinespecies.org:taxname:159742',\n",
       " 'match_type': 'exact',\n",
       " 'modified': '2011-04-27T11:01:37Z',\n",
       " 'order': 'Ciconiiformes',\n",
       " 'phylum': 'Chordata',\n",
       " 'rank': 'Species',\n",
       " 'scientificname': 'Bubulcus ibis',\n",
       " 'status': 'accepted',\n",
       " 'unacceptreason': None,\n",
       " 'valid_AphiaID': 159742,\n",
       " 'valid_name': 'Bubulcus ibis'}"
      ]
     },
     "metadata": {},
     "output_type": "display_data"
    },
    {
     "name": "stdout",
     "output_type": "stream",
     "text": [
      "------------\n",
      "Dendroica striata  -  Blackpoll Warbler ( bBLPWx )\n"
     ]
    },
    {
     "data": {
      "text/plain": [
       "{'AphiaID': 422646,\n",
       " 'MatchMethod': 'Exact Match',\n",
       " 'MatchString': 'Dendroica striata',\n",
       " 'cacheDate': '2017-07-26T14:56:45.159873',\n",
       " 'class': 'Aves',\n",
       " 'family': 'Parulidae',\n",
       " 'genus': 'Dendroica',\n",
       " 'isBrackish': 0,\n",
       " 'isExtinct': None,\n",
       " 'isFreshwater': None,\n",
       " 'isMarine': 0,\n",
       " 'isTerrestrial': None,\n",
       " 'kingdom': 'Animalia',\n",
       " 'lsid': 'urn:lsid:marinespecies.org:taxname:422646',\n",
       " 'match_type': 'exact',\n",
       " 'modified': '2011-04-08T08:18:06Z',\n",
       " 'order': 'Passeriformes',\n",
       " 'phylum': 'Chordata',\n",
       " 'rank': 'Species',\n",
       " 'scientificname': 'Dendroica striata',\n",
       " 'status': 'accepted',\n",
       " 'unacceptreason': None,\n",
       " 'valid_AphiaID': 422646,\n",
       " 'valid_name': 'Dendroica striata'}"
      ]
     },
     "metadata": {},
     "output_type": "display_data"
    },
    {
     "name": "stdout",
     "output_type": "stream",
     "text": [
      "------------\n",
      "Coturnicops noveboracensis  -  Yellow Rail ( bYERAx )\n"
     ]
    },
    {
     "data": {
      "text/plain": [
       "{'AphiaID': 159005,\n",
       " 'MatchMethod': 'Exact Match',\n",
       " 'MatchString': 'Coturnicops noveboracensis',\n",
       " 'cacheDate': '2017-07-26T14:57:05.288104',\n",
       " 'class': 'Aves',\n",
       " 'family': 'Rallidae',\n",
       " 'genus': 'Coturnicops',\n",
       " 'isBrackish': 1,\n",
       " 'isExtinct': None,\n",
       " 'isFreshwater': 1,\n",
       " 'isMarine': 0,\n",
       " 'isTerrestrial': None,\n",
       " 'kingdom': 'Animalia',\n",
       " 'lsid': 'urn:lsid:marinespecies.org:taxname:159005',\n",
       " 'match_type': 'exact',\n",
       " 'modified': '2011-04-27T11:01:37Z',\n",
       " 'order': 'Gruiformes',\n",
       " 'phylum': 'Chordata',\n",
       " 'rank': 'Species',\n",
       " 'scientificname': 'Coturnicops noveboracensis',\n",
       " 'status': 'accepted',\n",
       " 'unacceptreason': None,\n",
       " 'valid_AphiaID': 159005,\n",
       " 'valid_name': 'Coturnicops noveboracensis'}"
      ]
     },
     "metadata": {},
     "output_type": "display_data"
    },
    {
     "name": "stdout",
     "output_type": "stream",
     "text": [
      "------------\n",
      "Agelaius phoeniceus  -  Red-winged Blackbird ( bRWBLx )\n"
     ]
    },
    {
     "data": {
      "text/plain": [
       "{'AphiaID': 159394,\n",
       " 'MatchMethod': 'Exact Match',\n",
       " 'MatchString': 'Agelaius phoeniceus',\n",
       " 'cacheDate': '2017-07-26T14:57:37.614630',\n",
       " 'class': 'Aves',\n",
       " 'family': 'Fringillidae',\n",
       " 'genus': 'Agelaius',\n",
       " 'isBrackish': 0,\n",
       " 'isExtinct': None,\n",
       " 'isFreshwater': None,\n",
       " 'isMarine': 0,\n",
       " 'isTerrestrial': None,\n",
       " 'kingdom': 'Animalia',\n",
       " 'lsid': 'urn:lsid:marinespecies.org:taxname:159394',\n",
       " 'match_type': 'exact',\n",
       " 'modified': '2011-04-08T08:18:06Z',\n",
       " 'order': 'Passeriformes',\n",
       " 'phylum': 'Chordata',\n",
       " 'rank': 'Species',\n",
       " 'scientificname': 'Agelaius phoeniceus',\n",
       " 'status': 'accepted',\n",
       " 'unacceptreason': None,\n",
       " 'valid_AphiaID': 159394,\n",
       " 'valid_name': 'Agelaius phoeniceus'}"
      ]
     },
     "metadata": {},
     "output_type": "display_data"
    },
    {
     "name": "stdout",
     "output_type": "stream",
     "text": [
      "------------\n",
      "Cerorhinca monocerata  -  Rhinoceros Auklet ( bRHAUx )\n"
     ]
    },
    {
     "data": {
      "text/plain": [
       "{'AphiaID': 344029,\n",
       " 'MatchMethod': 'Exact Match',\n",
       " 'MatchString': 'Cerorhinca monocerata',\n",
       " 'cacheDate': '2017-07-26T14:57:38.865372',\n",
       " 'class': 'Aves',\n",
       " 'family': 'Alcidae',\n",
       " 'genus': 'Cerorhinca',\n",
       " 'isBrackish': None,\n",
       " 'isExtinct': None,\n",
       " 'isFreshwater': None,\n",
       " 'isMarine': 1,\n",
       " 'isTerrestrial': None,\n",
       " 'kingdom': 'Animalia',\n",
       " 'lsid': 'urn:lsid:marinespecies.org:taxname:344029',\n",
       " 'match_type': 'exact',\n",
       " 'modified': '2011-04-08T08:18:06Z',\n",
       " 'order': 'Charadriiformes',\n",
       " 'phylum': 'Chordata',\n",
       " 'rank': 'Species',\n",
       " 'scientificname': 'Cerorhinca monocerata',\n",
       " 'status': 'accepted',\n",
       " 'unacceptreason': None,\n",
       " 'valid_AphiaID': 344029,\n",
       " 'valid_name': 'Cerorhinca monocerata'}"
      ]
     },
     "metadata": {},
     "output_type": "display_data"
    },
    {
     "name": "stdout",
     "output_type": "stream",
     "text": [
      "------------\n",
      "Phalaropus fulicaria  -  Red Phalarope ( bREPHx )\n"
     ]
    },
    {
     "data": {
      "text/plain": [
       "{'AphiaID': 159042,\n",
       " 'MatchMethod': 'Exact Match',\n",
       " 'MatchString': 'Phalaropus fulicaria',\n",
       " 'cacheDate': '2017-07-26T14:57:40.109590',\n",
       " 'class': 'Aves',\n",
       " 'family': 'Phalaropodidae',\n",
       " 'genus': 'Phalaropus',\n",
       " 'isBrackish': None,\n",
       " 'isExtinct': None,\n",
       " 'isFreshwater': None,\n",
       " 'isMarine': 1,\n",
       " 'isTerrestrial': None,\n",
       " 'kingdom': 'Animalia',\n",
       " 'lsid': 'urn:lsid:marinespecies.org:taxname:159042',\n",
       " 'match_type': 'exact',\n",
       " 'modified': '2011-04-08T08:18:06Z',\n",
       " 'order': 'Charadriiformes',\n",
       " 'phylum': 'Chordata',\n",
       " 'rank': 'Species',\n",
       " 'scientificname': 'Phalaropus fulicaria',\n",
       " 'status': 'unaccepted',\n",
       " 'unacceptreason': 'Spelling variation',\n",
       " 'valid_AphiaID': 137168,\n",
       " 'valid_name': 'Phalaropus fulicarius'}"
      ]
     },
     "metadata": {},
     "output_type": "display_data"
    },
    {
     "name": "stdout",
     "output_type": "stream",
     "text": [
      "------------\n",
      "Buteo lagopus  -  Rough-legged Hawk ( bRLHAx )\n"
     ]
    },
    {
     "data": {
      "text/plain": [
       "{'AphiaID': 159110,\n",
       " 'MatchMethod': 'Exact Match',\n",
       " 'MatchString': 'Buteo lagopus',\n",
       " 'cacheDate': '2017-07-26T14:57:41.357044',\n",
       " 'class': 'Aves',\n",
       " 'family': 'Accipitridae',\n",
       " 'genus': 'Buteo',\n",
       " 'isBrackish': 0,\n",
       " 'isExtinct': None,\n",
       " 'isFreshwater': None,\n",
       " 'isMarine': 0,\n",
       " 'isTerrestrial': None,\n",
       " 'kingdom': 'Animalia',\n",
       " 'lsid': 'urn:lsid:marinespecies.org:taxname:159110',\n",
       " 'match_type': 'exact',\n",
       " 'modified': '2011-04-27T11:01:37Z',\n",
       " 'order': 'Falconiformes',\n",
       " 'phylum': 'Chordata',\n",
       " 'rank': 'Species',\n",
       " 'scientificname': 'Buteo lagopus',\n",
       " 'status': 'accepted',\n",
       " 'unacceptreason': None,\n",
       " 'valid_AphiaID': 159110,\n",
       " 'valid_name': 'Buteo lagopus'}"
      ]
     },
     "metadata": {},
     "output_type": "display_data"
    },
    {
     "name": "stdout",
     "output_type": "stream",
     "text": [
      "------------\n",
      "Larus fuscus  -  Lesser Black-backed Gull ( bLBBGx )\n"
     ]
    },
    {
     "data": {
      "text/plain": [
       "{'AphiaID': 137142,\n",
       " 'MatchMethod': 'Exact Match',\n",
       " 'MatchString': 'Larus fuscus',\n",
       " 'cacheDate': '2017-07-26T14:57:44.829701',\n",
       " 'class': 'Aves',\n",
       " 'family': 'Laridae',\n",
       " 'genus': 'Larus',\n",
       " 'isBrackish': None,\n",
       " 'isExtinct': None,\n",
       " 'isFreshwater': None,\n",
       " 'isMarine': 1,\n",
       " 'isTerrestrial': None,\n",
       " 'kingdom': 'Animalia',\n",
       " 'lsid': 'urn:lsid:marinespecies.org:taxname:137142',\n",
       " 'match_type': 'exact',\n",
       " 'modified': '2011-04-08T08:18:06Z',\n",
       " 'order': 'Charadriiformes',\n",
       " 'phylum': 'Chordata',\n",
       " 'rank': 'Species',\n",
       " 'scientificname': 'Larus fuscus',\n",
       " 'status': 'accepted',\n",
       " 'unacceptreason': None,\n",
       " 'valid_AphiaID': 137142,\n",
       " 'valid_name': 'Larus fuscus'}"
      ]
     },
     "metadata": {},
     "output_type": "display_data"
    },
    {
     "name": "stdout",
     "output_type": "stream",
     "text": [
      "------------\n",
      "Enhydra lutris  -  Sea Otter ( mSEOTx )\n"
     ]
    },
    {
     "data": {
      "text/plain": [
       "{'AphiaID': 242598,\n",
       " 'MatchMethod': 'Exact Match',\n",
       " 'MatchString': 'Enhydra lutris',\n",
       " 'cacheDate': '2017-07-26T14:57:51.595457',\n",
       " 'class': 'Mammalia',\n",
       " 'family': 'Mustelidae',\n",
       " 'genus': 'Enhydra',\n",
       " 'isBrackish': None,\n",
       " 'isExtinct': None,\n",
       " 'isFreshwater': None,\n",
       " 'isMarine': 1,\n",
       " 'isTerrestrial': None,\n",
       " 'kingdom': 'Animalia',\n",
       " 'lsid': 'urn:lsid:marinespecies.org:taxname:242598',\n",
       " 'match_type': 'exact',\n",
       " 'modified': '2010-05-20T12:09:50Z',\n",
       " 'order': 'Carnivora',\n",
       " 'phylum': 'Chordata',\n",
       " 'rank': 'Species',\n",
       " 'scientificname': 'Enhydra lutris',\n",
       " 'status': 'accepted',\n",
       " 'unacceptreason': None,\n",
       " 'valid_AphiaID': 242598,\n",
       " 'valid_name': 'Enhydra lutris'}"
      ]
     },
     "metadata": {},
     "output_type": "display_data"
    },
    {
     "name": "stdout",
     "output_type": "stream",
     "text": [
      "------------\n",
      "Gavia stellata  -  Red-throated Loon ( bRTLOx )\n"
     ]
    },
    {
     "data": {
      "text/plain": [
       "{'AphiaID': 137188,\n",
       " 'MatchMethod': 'Exact Match',\n",
       " 'MatchString': 'Gavia stellata',\n",
       " 'cacheDate': '2017-07-26T14:57:53.019215',\n",
       " 'class': 'Aves',\n",
       " 'family': 'Gaviidae',\n",
       " 'genus': 'Gavia',\n",
       " 'isBrackish': None,\n",
       " 'isExtinct': None,\n",
       " 'isFreshwater': None,\n",
       " 'isMarine': 1,\n",
       " 'isTerrestrial': None,\n",
       " 'kingdom': 'Animalia',\n",
       " 'lsid': 'urn:lsid:marinespecies.org:taxname:137188',\n",
       " 'match_type': 'exact',\n",
       " 'modified': '2011-04-08T08:18:06Z',\n",
       " 'order': 'Gaviiformes',\n",
       " 'phylum': 'Chordata',\n",
       " 'rank': 'Species',\n",
       " 'scientificname': 'Gavia stellata',\n",
       " 'status': 'accepted',\n",
       " 'unacceptreason': None,\n",
       " 'valid_AphiaID': 137188,\n",
       " 'valid_name': 'Gavia stellata'}"
      ]
     },
     "metadata": {},
     "output_type": "display_data"
    },
    {
     "name": "stdout",
     "output_type": "stream",
     "text": [
      "------------\n",
      "Falco sparverius  -  American Kestrel ( bAMKEx )\n"
     ]
    },
    {
     "data": {
      "text/plain": [
       "{'AphiaID': 159072,\n",
       " 'MatchMethod': 'Exact Match',\n",
       " 'MatchString': 'Falco sparverius',\n",
       " 'cacheDate': '2017-07-26T14:58:03.768405',\n",
       " 'class': 'Aves',\n",
       " 'family': 'Falconidae',\n",
       " 'genus': 'Falco',\n",
       " 'isBrackish': 0,\n",
       " 'isExtinct': None,\n",
       " 'isFreshwater': None,\n",
       " 'isMarine': 0,\n",
       " 'isTerrestrial': None,\n",
       " 'kingdom': 'Animalia',\n",
       " 'lsid': 'urn:lsid:marinespecies.org:taxname:159072',\n",
       " 'match_type': 'exact',\n",
       " 'modified': '2011-04-08T08:18:06Z',\n",
       " 'order': 'Falconiformes',\n",
       " 'phylum': 'Chordata',\n",
       " 'rank': 'Species',\n",
       " 'scientificname': 'Falco sparverius',\n",
       " 'status': 'accepted',\n",
       " 'unacceptreason': None,\n",
       " 'valid_AphiaID': 159072,\n",
       " 'valid_name': 'Falco sparverius'}"
      ]
     },
     "metadata": {},
     "output_type": "display_data"
    },
    {
     "name": "stdout",
     "output_type": "stream",
     "text": [
      "------------\n",
      "Spiza americana  -  Dickcissel ( bDICKx )\n"
     ]
    },
    {
     "data": {
      "text/plain": [
       "{'AphiaID': 422672,\n",
       " 'MatchMethod': 'Exact Match',\n",
       " 'MatchString': 'Spiza americana',\n",
       " 'cacheDate': '2017-07-26T14:58:30.435658',\n",
       " 'class': 'Aves',\n",
       " 'family': 'Cardinalidae',\n",
       " 'genus': 'Spiza',\n",
       " 'isBrackish': 0,\n",
       " 'isExtinct': None,\n",
       " 'isFreshwater': None,\n",
       " 'isMarine': 0,\n",
       " 'isTerrestrial': None,\n",
       " 'kingdom': 'Animalia',\n",
       " 'lsid': 'urn:lsid:marinespecies.org:taxname:422672',\n",
       " 'match_type': 'exact',\n",
       " 'modified': '2011-04-08T08:18:06Z',\n",
       " 'order': 'Passeriformes',\n",
       " 'phylum': 'Chordata',\n",
       " 'rank': 'Species',\n",
       " 'scientificname': 'Spiza americana',\n",
       " 'status': 'accepted',\n",
       " 'unacceptreason': None,\n",
       " 'valid_AphiaID': 422672,\n",
       " 'valid_name': 'Spiza americana'}"
      ]
     },
     "metadata": {},
     "output_type": "display_data"
    },
    {
     "name": "stdout",
     "output_type": "stream",
     "text": [
      "------------\n",
      "Buteogallus anthracinus  -  Common Black-hawk ( bCOBHx )\n"
     ]
    },
    {
     "data": {
      "text/plain": [
       "{'AphiaID': 422588,\n",
       " 'MatchMethod': 'Exact Match',\n",
       " 'MatchString': 'Buteogallus anthracinus',\n",
       " 'cacheDate': '2017-07-26T14:58:32.015858',\n",
       " 'class': 'Aves',\n",
       " 'family': 'Accipitridae',\n",
       " 'genus': 'Buteogallus',\n",
       " 'isBrackish': 1,\n",
       " 'isExtinct': None,\n",
       " 'isFreshwater': None,\n",
       " 'isMarine': 0,\n",
       " 'isTerrestrial': None,\n",
       " 'kingdom': 'Animalia',\n",
       " 'lsid': 'urn:lsid:marinespecies.org:taxname:422588',\n",
       " 'match_type': 'exact',\n",
       " 'modified': '2011-04-08T08:18:06Z',\n",
       " 'order': 'Falconiformes',\n",
       " 'phylum': 'Chordata',\n",
       " 'rank': 'Species',\n",
       " 'scientificname': 'Buteogallus anthracinus',\n",
       " 'status': 'accepted',\n",
       " 'unacceptreason': None,\n",
       " 'valid_AphiaID': 422588,\n",
       " 'valid_name': 'Buteogallus anthracinus'}"
      ]
     },
     "metadata": {},
     "output_type": "display_data"
    },
    {
     "name": "stdout",
     "output_type": "stream",
     "text": [
      "------------\n",
      "Dumetella carolinensis  -  Gray Catbird ( bGRCAx )\n"
     ]
    },
    {
     "data": {
      "text/plain": [
       "{'AphiaID': 422628,\n",
       " 'MatchMethod': 'Exact Match',\n",
       " 'MatchString': 'Dumetella carolinensis',\n",
       " 'cacheDate': '2017-07-26T14:58:33.624631',\n",
       " 'class': 'Aves',\n",
       " 'family': 'Mimidae',\n",
       " 'genus': 'Dumetella',\n",
       " 'isBrackish': 0,\n",
       " 'isExtinct': None,\n",
       " 'isFreshwater': None,\n",
       " 'isMarine': 0,\n",
       " 'isTerrestrial': None,\n",
       " 'kingdom': 'Animalia',\n",
       " 'lsid': 'urn:lsid:marinespecies.org:taxname:422628',\n",
       " 'match_type': 'exact',\n",
       " 'modified': '2011-04-08T08:18:06Z',\n",
       " 'order': 'Passeriformes',\n",
       " 'phylum': 'Chordata',\n",
       " 'rank': 'Species',\n",
       " 'scientificname': 'Dumetella carolinensis',\n",
       " 'status': 'accepted',\n",
       " 'unacceptreason': None,\n",
       " 'valid_AphiaID': 422628,\n",
       " 'valid_name': 'Dumetella carolinensis'}"
      ]
     },
     "metadata": {},
     "output_type": "display_data"
    },
    {
     "name": "stdout",
     "output_type": "stream",
     "text": [
      "------------\n",
      "Arenaria melanocephala  -  Black Turnstone ( bBLTUx )\n"
     ]
    },
    {
     "data": {
      "text/plain": [
       "{'AphiaID': 366869,\n",
       " 'MatchMethod': 'Exact Match',\n",
       " 'MatchString': 'Arenaria melanocephala',\n",
       " 'cacheDate': '2017-07-26T14:58:35.060857',\n",
       " 'class': 'Aves',\n",
       " 'family': 'Scolopacidae',\n",
       " 'genus': 'Arenaria',\n",
       " 'isBrackish': None,\n",
       " 'isExtinct': None,\n",
       " 'isFreshwater': None,\n",
       " 'isMarine': 1,\n",
       " 'isTerrestrial': None,\n",
       " 'kingdom': 'Animalia',\n",
       " 'lsid': 'urn:lsid:marinespecies.org:taxname:366869',\n",
       " 'match_type': 'exact',\n",
       " 'modified': '2011-04-08T08:18:06Z',\n",
       " 'order': 'Charadriiformes',\n",
       " 'phylum': 'Chordata',\n",
       " 'rank': 'Species',\n",
       " 'scientificname': 'Arenaria melanocephala',\n",
       " 'status': 'accepted',\n",
       " 'unacceptreason': None,\n",
       " 'valid_AphiaID': 366869,\n",
       " 'valid_name': 'Arenaria melanocephala'}"
      ]
     },
     "metadata": {},
     "output_type": "display_data"
    },
    {
     "name": "stdout",
     "output_type": "stream",
     "text": [
      "------------\n",
      "Laterallus jamaicensis  -  Black Rail ( bBLRAx )\n"
     ]
    },
    {
     "data": {
      "text/plain": [
       "{'AphiaID': 422591,\n",
       " 'MatchMethod': 'Exact Match',\n",
       " 'MatchString': 'Laterallus jamaicensis',\n",
       " 'cacheDate': '2017-07-26T14:58:36.815680',\n",
       " 'class': 'Aves',\n",
       " 'family': 'Rallidae',\n",
       " 'genus': 'Laterallus',\n",
       " 'isBrackish': 1,\n",
       " 'isExtinct': None,\n",
       " 'isFreshwater': 1,\n",
       " 'isMarine': 0,\n",
       " 'isTerrestrial': None,\n",
       " 'kingdom': 'Animalia',\n",
       " 'lsid': 'urn:lsid:marinespecies.org:taxname:422591',\n",
       " 'match_type': 'exact',\n",
       " 'modified': '2011-04-08T08:18:06Z',\n",
       " 'order': 'Gruiformes',\n",
       " 'phylum': 'Chordata',\n",
       " 'rank': 'Species',\n",
       " 'scientificname': 'Laterallus jamaicensis',\n",
       " 'status': 'accepted',\n",
       " 'unacceptreason': None,\n",
       " 'valid_AphiaID': 422591,\n",
       " 'valid_name': 'Laterallus jamaicensis'}"
      ]
     },
     "metadata": {},
     "output_type": "display_data"
    },
    {
     "name": "stdout",
     "output_type": "stream",
     "text": [
      "------------\n",
      "Myiarchus crinitus  -  Great Crested Flycatcher ( bGCFLx )\n"
     ]
    },
    {
     "data": {
      "text/plain": [
       "{'AphiaID': 422622,\n",
       " 'MatchMethod': 'Exact Match',\n",
       " 'MatchString': 'Myiarchus crinitus',\n",
       " 'cacheDate': '2017-07-26T14:58:38.463605',\n",
       " 'class': 'Aves',\n",
       " 'family': 'Tyrannidae',\n",
       " 'genus': 'Myiarchus',\n",
       " 'isBrackish': 0,\n",
       " 'isExtinct': None,\n",
       " 'isFreshwater': None,\n",
       " 'isMarine': 0,\n",
       " 'isTerrestrial': None,\n",
       " 'kingdom': 'Animalia',\n",
       " 'lsid': 'urn:lsid:marinespecies.org:taxname:422622',\n",
       " 'match_type': 'exact',\n",
       " 'modified': '2011-04-08T08:18:06Z',\n",
       " 'order': 'Passeriformes',\n",
       " 'phylum': 'Chordata',\n",
       " 'rank': 'Species',\n",
       " 'scientificname': 'Myiarchus crinitus',\n",
       " 'status': 'accepted',\n",
       " 'unacceptreason': None,\n",
       " 'valid_AphiaID': 422622,\n",
       " 'valid_name': 'Myiarchus crinitus'}"
      ]
     },
     "metadata": {},
     "output_type": "display_data"
    },
    {
     "name": "stdout",
     "output_type": "stream",
     "text": [
      "------------\n",
      "Larus philadelphia  -  Bonaparte's Gull ( bBOGUx )\n"
     ]
    },
    {
     "data": {
      "text/plain": [
       "{'AphiaID': 159076,\n",
       " 'MatchMethod': 'Exact Match',\n",
       " 'MatchString': 'Larus philadelphia',\n",
       " 'cacheDate': '2017-07-26T14:58:48.671141',\n",
       " 'class': 'Aves',\n",
       " 'family': 'Laridae',\n",
       " 'genus': 'Larus',\n",
       " 'isBrackish': None,\n",
       " 'isExtinct': None,\n",
       " 'isFreshwater': None,\n",
       " 'isMarine': 1,\n",
       " 'isTerrestrial': None,\n",
       " 'kingdom': 'Animalia',\n",
       " 'lsid': 'urn:lsid:marinespecies.org:taxname:159076',\n",
       " 'match_type': 'exact',\n",
       " 'modified': '2016-08-11T09:15:01Z',\n",
       " 'order': 'Charadriiformes',\n",
       " 'phylum': 'Chordata',\n",
       " 'rank': 'Species',\n",
       " 'scientificname': 'Larus philadelphia',\n",
       " 'status': 'accepted',\n",
       " 'unacceptreason': None,\n",
       " 'valid_AphiaID': 159076,\n",
       " 'valid_name': 'Larus philadelphia'}"
      ]
     },
     "metadata": {},
     "output_type": "display_data"
    },
    {
     "name": "stdout",
     "output_type": "stream",
     "text": [
      "------------\n",
      "Chaetura pelagica  -  Chimney Swift ( bCHSWx )\n"
     ]
    },
    {
     "data": {
      "text/plain": [
       "{'AphiaID': 422614,\n",
       " 'MatchMethod': 'Exact Match',\n",
       " 'MatchString': 'Chaetura pelagica',\n",
       " 'cacheDate': '2017-07-26T14:58:51.608452',\n",
       " 'class': 'Aves',\n",
       " 'family': 'Apodidae',\n",
       " 'genus': 'Chaetura',\n",
       " 'isBrackish': 0,\n",
       " 'isExtinct': None,\n",
       " 'isFreshwater': None,\n",
       " 'isMarine': 0,\n",
       " 'isTerrestrial': None,\n",
       " 'kingdom': 'Animalia',\n",
       " 'lsid': 'urn:lsid:marinespecies.org:taxname:422614',\n",
       " 'match_type': 'exact',\n",
       " 'modified': '2011-04-08T08:18:06Z',\n",
       " 'order': 'Apodiformes',\n",
       " 'phylum': 'Chordata',\n",
       " 'rank': 'Species',\n",
       " 'scientificname': 'Chaetura pelagica',\n",
       " 'status': 'accepted',\n",
       " 'unacceptreason': None,\n",
       " 'valid_AphiaID': 422614,\n",
       " 'valid_name': 'Chaetura pelagica'}"
      ]
     },
     "metadata": {},
     "output_type": "display_data"
    },
    {
     "name": "stdout",
     "output_type": "stream",
     "text": [
      "------------\n",
      "Limnodromus scolopaceus  -  Long-billed Dowitcher ( bLBDOx )\n"
     ]
    },
    {
     "data": {
      "text/plain": [
       "{'AphiaID': 158957,\n",
       " 'MatchMethod': 'Exact Match',\n",
       " 'MatchString': 'Limnodromus scolopaceus',\n",
       " 'cacheDate': '2017-07-26T14:59:08.861304',\n",
       " 'class': 'Aves',\n",
       " 'family': 'Scolopacidae',\n",
       " 'genus': 'Limnodromus',\n",
       " 'isBrackish': None,\n",
       " 'isExtinct': None,\n",
       " 'isFreshwater': None,\n",
       " 'isMarine': 1,\n",
       " 'isTerrestrial': None,\n",
       " 'kingdom': 'Animalia',\n",
       " 'lsid': 'urn:lsid:marinespecies.org:taxname:158957',\n",
       " 'match_type': 'exact',\n",
       " 'modified': '2011-04-27T11:01:37Z',\n",
       " 'order': 'Charadriiformes',\n",
       " 'phylum': 'Chordata',\n",
       " 'rank': 'Species',\n",
       " 'scientificname': 'Limnodromus scolopaceus',\n",
       " 'status': 'accepted',\n",
       " 'unacceptreason': None,\n",
       " 'valid_AphiaID': 158957,\n",
       " 'valid_name': 'Limnodromus scolopaceus'}"
      ]
     },
     "metadata": {},
     "output_type": "display_data"
    },
    {
     "name": "stdout",
     "output_type": "stream",
     "text": [
      "------------\n",
      "Charadrius alexandrinus  -  Snowy Plover ( bSNPLx )\n"
     ]
    },
    {
     "data": {
      "text/plain": [
       "{'AphiaID': 212611,\n",
       " 'MatchMethod': 'Exact Match',\n",
       " 'MatchString': 'Charadrius alexandrinus',\n",
       " 'cacheDate': '2017-07-26T14:59:14.181907',\n",
       " 'class': 'Aves',\n",
       " 'family': 'Charadriidae',\n",
       " 'genus': 'Charadrius',\n",
       " 'isBrackish': None,\n",
       " 'isExtinct': None,\n",
       " 'isFreshwater': None,\n",
       " 'isMarine': 1,\n",
       " 'isTerrestrial': None,\n",
       " 'kingdom': 'Animalia',\n",
       " 'lsid': 'urn:lsid:marinespecies.org:taxname:212611',\n",
       " 'match_type': 'exact',\n",
       " 'modified': '2011-04-08T08:18:06Z',\n",
       " 'order': 'Charadriiformes',\n",
       " 'phylum': 'Chordata',\n",
       " 'rank': 'Species',\n",
       " 'scientificname': 'Charadrius alexandrinus',\n",
       " 'status': 'accepted',\n",
       " 'unacceptreason': None,\n",
       " 'valid_AphiaID': 212611,\n",
       " 'valid_name': 'Charadrius alexandrinus'}"
      ]
     },
     "metadata": {},
     "output_type": "display_data"
    },
    {
     "name": "stdout",
     "output_type": "stream",
     "text": [
      "------------\n",
      "Oceanodroma leucorhoa  -  Leach's Storm-petrel ( bLESPx )\n"
     ]
    },
    {
     "data": {
      "text/plain": [
       "{'AphiaID': 137192,\n",
       " 'MatchMethod': 'Exact Match',\n",
       " 'MatchString': 'Oceanodroma leucorhoa',\n",
       " 'cacheDate': '2017-07-26T14:59:19.970542',\n",
       " 'class': 'Aves',\n",
       " 'family': 'Hydrobatidae',\n",
       " 'genus': 'Oceanodroma',\n",
       " 'isBrackish': None,\n",
       " 'isExtinct': None,\n",
       " 'isFreshwater': None,\n",
       " 'isMarine': 1,\n",
       " 'isTerrestrial': None,\n",
       " 'kingdom': 'Animalia',\n",
       " 'lsid': 'urn:lsid:marinespecies.org:taxname:137192',\n",
       " 'match_type': 'exact',\n",
       " 'modified': '2011-04-08T08:18:06Z',\n",
       " 'order': 'Procellariiformes',\n",
       " 'phylum': 'Chordata',\n",
       " 'rank': 'Species',\n",
       " 'scientificname': 'Oceanodroma leucorhoa',\n",
       " 'status': 'accepted',\n",
       " 'unacceptreason': None,\n",
       " 'valid_AphiaID': 137192,\n",
       " 'valid_name': 'Oceanodroma leucorhoa'}"
      ]
     },
     "metadata": {},
     "output_type": "display_data"
    },
    {
     "name": "stdout",
     "output_type": "stream",
     "text": [
      "------------\n",
      "Sternula antillarum  -  Least Tern ( bLETEx )\n"
     ]
    },
    {
     "data": {
      "text/plain": [
       "{'AphiaID': 567797,\n",
       " 'MatchMethod': 'Exact Match',\n",
       " 'MatchString': 'Sternula antillarum',\n",
       " 'cacheDate': '2017-07-26T14:59:21.306019',\n",
       " 'class': 'Aves',\n",
       " 'family': 'Sternidae',\n",
       " 'genus': 'Sternula',\n",
       " 'isBrackish': None,\n",
       " 'isExtinct': None,\n",
       " 'isFreshwater': None,\n",
       " 'isMarine': 1,\n",
       " 'isTerrestrial': None,\n",
       " 'kingdom': 'Animalia',\n",
       " 'lsid': 'urn:lsid:marinespecies.org:taxname:567797',\n",
       " 'match_type': 'exact',\n",
       " 'modified': '2011-11-23T14:20:48Z',\n",
       " 'order': 'Charadriiformes',\n",
       " 'phylum': 'Chordata',\n",
       " 'rank': 'Species',\n",
       " 'scientificname': 'Sternula antillarum',\n",
       " 'status': 'accepted',\n",
       " 'unacceptreason': None,\n",
       " 'valid_AphiaID': 567797,\n",
       " 'valid_name': 'Sternula antillarum'}"
      ]
     },
     "metadata": {},
     "output_type": "display_data"
    },
    {
     "name": "stdout",
     "output_type": "stream",
     "text": [
      "------------\n",
      "Aramus guarauna  -  Limpkin ( bLIMPx )\n"
     ]
    },
    {
     "data": {
      "text/plain": [
       "{'AphiaID': 422600,\n",
       " 'MatchMethod': 'Exact Match',\n",
       " 'MatchString': 'Aramus guarauna',\n",
       " 'cacheDate': '2017-07-26T14:59:25.967193',\n",
       " 'class': 'Aves',\n",
       " 'family': 'Aramidae',\n",
       " 'genus': 'Aramus',\n",
       " 'isBrackish': 1,\n",
       " 'isExtinct': None,\n",
       " 'isFreshwater': 1,\n",
       " 'isMarine': 0,\n",
       " 'isTerrestrial': None,\n",
       " 'kingdom': 'Animalia',\n",
       " 'lsid': 'urn:lsid:marinespecies.org:taxname:422600',\n",
       " 'match_type': 'exact',\n",
       " 'modified': '2011-04-08T08:18:06Z',\n",
       " 'order': 'Gruiformes',\n",
       " 'phylum': 'Chordata',\n",
       " 'rank': 'Species',\n",
       " 'scientificname': 'Aramus guarauna',\n",
       " 'status': 'accepted',\n",
       " 'unacceptreason': None,\n",
       " 'valid_AphiaID': 422600,\n",
       " 'valid_name': 'Aramus guarauna'}"
      ]
     },
     "metadata": {},
     "output_type": "display_data"
    },
    {
     "name": "stdout",
     "output_type": "stream",
     "text": [
      "------------\n",
      "Ixobrychus exilis  -  Least Bittern ( bLEBIx )\n"
     ]
    },
    {
     "data": {
      "text/plain": [
       "{'AphiaID': 159119,\n",
       " 'MatchMethod': 'Exact Match',\n",
       " 'MatchString': 'Ixobrychus exilis',\n",
       " 'cacheDate': '2017-07-26T14:59:28.835428',\n",
       " 'class': 'Aves',\n",
       " 'family': 'Ardeidae',\n",
       " 'genus': 'Ixobrychus',\n",
       " 'isBrackish': 0,\n",
       " 'isExtinct': None,\n",
       " 'isFreshwater': 1,\n",
       " 'isMarine': 0,\n",
       " 'isTerrestrial': None,\n",
       " 'kingdom': 'Animalia',\n",
       " 'lsid': 'urn:lsid:marinespecies.org:taxname:159119',\n",
       " 'match_type': 'exact',\n",
       " 'modified': '2011-04-27T11:01:37Z',\n",
       " 'order': 'Ciconiiformes',\n",
       " 'phylum': 'Chordata',\n",
       " 'rank': 'Species',\n",
       " 'scientificname': 'Ixobrychus exilis',\n",
       " 'status': 'accepted',\n",
       " 'unacceptreason': None,\n",
       " 'valid_AphiaID': 159119,\n",
       " 'valid_name': 'Ixobrychus exilis'}"
      ]
     },
     "metadata": {},
     "output_type": "display_data"
    },
    {
     "name": "stdout",
     "output_type": "stream",
     "text": [
      "------------\n",
      "Egretta tricolor  -  Tricolored Heron ( bTRHEx )\n"
     ]
    },
    {
     "data": {
      "text/plain": [
       "{'AphiaID': 159117,\n",
       " 'MatchMethod': 'Exact Match',\n",
       " 'MatchString': 'Egretta tricolor',\n",
       " 'cacheDate': '2017-07-26T14:59:30.059826',\n",
       " 'class': 'Aves',\n",
       " 'family': 'Ardeidae',\n",
       " 'genus': 'Egretta',\n",
       " 'isBrackish': None,\n",
       " 'isExtinct': None,\n",
       " 'isFreshwater': None,\n",
       " 'isMarine': 1,\n",
       " 'isTerrestrial': None,\n",
       " 'kingdom': 'Animalia',\n",
       " 'lsid': 'urn:lsid:marinespecies.org:taxname:159117',\n",
       " 'match_type': 'exact',\n",
       " 'modified': '2011-04-27T11:01:37Z',\n",
       " 'order': 'Ciconiiformes',\n",
       " 'phylum': 'Chordata',\n",
       " 'rank': 'Species',\n",
       " 'scientificname': 'Egretta tricolor',\n",
       " 'status': 'accepted',\n",
       " 'unacceptreason': None,\n",
       " 'valid_AphiaID': 159117,\n",
       " 'valid_name': 'Egretta tricolor'}"
      ]
     },
     "metadata": {},
     "output_type": "display_data"
    },
    {
     "name": "stdout",
     "output_type": "stream",
     "text": [
      "------------\n",
      "Egretta caerulea  -  Little Blue Heron ( bLBHEx )\n"
     ]
    },
    {
     "data": {
      "text/plain": [
       "{'AphiaID': 159114,\n",
       " 'MatchMethod': 'Exact Match',\n",
       " 'MatchString': 'Egretta caerulea',\n",
       " 'cacheDate': '2017-07-26T14:59:58.123424',\n",
       " 'class': 'Aves',\n",
       " 'family': 'Ardeidae',\n",
       " 'genus': 'Egretta',\n",
       " 'isBrackish': 0,\n",
       " 'isExtinct': None,\n",
       " 'isFreshwater': None,\n",
       " 'isMarine': 0,\n",
       " 'isTerrestrial': None,\n",
       " 'kingdom': 'Animalia',\n",
       " 'lsid': 'urn:lsid:marinespecies.org:taxname:159114',\n",
       " 'match_type': 'exact',\n",
       " 'modified': '2011-04-27T11:01:37Z',\n",
       " 'order': 'Ciconiiformes',\n",
       " 'phylum': 'Chordata',\n",
       " 'rank': 'Species',\n",
       " 'scientificname': 'Egretta caerulea',\n",
       " 'status': 'accepted',\n",
       " 'unacceptreason': None,\n",
       " 'valid_AphiaID': 159114,\n",
       " 'valid_name': 'Egretta caerulea'}"
      ]
     },
     "metadata": {},
     "output_type": "display_data"
    },
    {
     "name": "stdout",
     "output_type": "stream",
     "text": [
      "------------\n",
      "Sternula antillarum browni  -  California Least Tern ( bLETEb )\n"
     ]
    },
    {
     "data": {
      "text/plain": [
       "{'AphiaID': 567798,\n",
       " 'MatchMethod': 'Exact Match',\n",
       " 'MatchString': 'Sternula antillarum browni',\n",
       " 'cacheDate': '2017-07-26T14:59:59.777123',\n",
       " 'class': 'Aves',\n",
       " 'family': 'Sternidae',\n",
       " 'genus': 'Sternula',\n",
       " 'isBrackish': None,\n",
       " 'isExtinct': None,\n",
       " 'isFreshwater': None,\n",
       " 'isMarine': 1,\n",
       " 'isTerrestrial': None,\n",
       " 'kingdom': 'Animalia',\n",
       " 'lsid': 'urn:lsid:marinespecies.org:taxname:567798',\n",
       " 'match_type': 'exact',\n",
       " 'modified': '2011-04-07T11:46:01Z',\n",
       " 'order': 'Charadriiformes',\n",
       " 'phylum': 'Chordata',\n",
       " 'rank': 'Subspecies',\n",
       " 'scientificname': 'Sternula antillarum browni',\n",
       " 'status': 'accepted',\n",
       " 'unacceptreason': None,\n",
       " 'valid_AphiaID': 567798,\n",
       " 'valid_name': 'Sternula antillarum browni'}"
      ]
     },
     "metadata": {},
     "output_type": "display_data"
    },
    {
     "name": "stdout",
     "output_type": "stream",
     "text": [
      "------------\n",
      "Ammodramus maritimus  -  Seaside Sparrow ( bSESPx )\n"
     ]
    },
    {
     "data": {
      "text/plain": [
       "{'AphiaID': 159397,\n",
       " 'MatchMethod': 'Exact Match',\n",
       " 'MatchString': 'Ammodramus maritimus',\n",
       " 'cacheDate': '2017-07-26T15:00:01.325918',\n",
       " 'class': 'Aves',\n",
       " 'family': 'Fringillidae',\n",
       " 'genus': 'Ammodramus',\n",
       " 'isBrackish': 0,\n",
       " 'isExtinct': None,\n",
       " 'isFreshwater': None,\n",
       " 'isMarine': 0,\n",
       " 'isTerrestrial': None,\n",
       " 'kingdom': 'Animalia',\n",
       " 'lsid': 'urn:lsid:marinespecies.org:taxname:159397',\n",
       " 'match_type': 'exact',\n",
       " 'modified': '2011-04-27T11:01:37Z',\n",
       " 'order': 'Passeriformes',\n",
       " 'phylum': 'Chordata',\n",
       " 'rank': 'Species',\n",
       " 'scientificname': 'Ammodramus maritimus',\n",
       " 'status': 'accepted',\n",
       " 'unacceptreason': None,\n",
       " 'valid_AphiaID': 159397,\n",
       " 'valid_name': 'Ammodramus maritimus'}"
      ]
     },
     "metadata": {},
     "output_type": "display_data"
    },
    {
     "name": "stdout",
     "output_type": "stream",
     "text": [
      "------------\n",
      "Charadrius vociferus  -  Killdeer ( bKILLx )\n"
     ]
    },
    {
     "data": {
      "text/plain": [
       "{'AphiaID': 159127,\n",
       " 'MatchMethod': 'Exact Match',\n",
       " 'MatchString': 'Charadrius vociferus',\n",
       " 'cacheDate': '2017-07-26T15:00:26.762393',\n",
       " 'class': 'Aves',\n",
       " 'family': 'Charadriidae',\n",
       " 'genus': 'Charadrius',\n",
       " 'isBrackish': None,\n",
       " 'isExtinct': None,\n",
       " 'isFreshwater': None,\n",
       " 'isMarine': 1,\n",
       " 'isTerrestrial': None,\n",
       " 'kingdom': 'Animalia',\n",
       " 'lsid': 'urn:lsid:marinespecies.org:taxname:159127',\n",
       " 'match_type': 'exact',\n",
       " 'modified': '2011-04-08T08:18:06Z',\n",
       " 'order': 'Charadriiformes',\n",
       " 'phylum': 'Chordata',\n",
       " 'rank': 'Species',\n",
       " 'scientificname': 'Charadrius vociferus',\n",
       " 'status': 'accepted',\n",
       " 'unacceptreason': None,\n",
       " 'valid_AphiaID': 159127,\n",
       " 'valid_name': 'Charadrius vociferus'}"
      ]
     },
     "metadata": {},
     "output_type": "display_data"
    },
    {
     "name": "stdout",
     "output_type": "stream",
     "text": [
      "------------\n",
      "Calidris alba  -  Sanderling ( bSANDx )\n"
     ]
    },
    {
     "data": {
      "text/plain": [
       "{'AphiaID': 159084,\n",
       " 'MatchMethod': 'Exact Match',\n",
       " 'MatchString': 'Calidris alba',\n",
       " 'cacheDate': '2017-07-26T15:00:34.820706',\n",
       " 'class': 'Aves',\n",
       " 'family': 'Scolopacidae',\n",
       " 'genus': 'Calidris',\n",
       " 'isBrackish': None,\n",
       " 'isExtinct': None,\n",
       " 'isFreshwater': None,\n",
       " 'isMarine': 1,\n",
       " 'isTerrestrial': None,\n",
       " 'kingdom': 'Animalia',\n",
       " 'lsid': 'urn:lsid:marinespecies.org:taxname:159084',\n",
       " 'match_type': 'exact',\n",
       " 'modified': '2011-04-08T08:18:06Z',\n",
       " 'order': 'Charadriiformes',\n",
       " 'phylum': 'Chordata',\n",
       " 'rank': 'Species',\n",
       " 'scientificname': 'Calidris alba',\n",
       " 'status': 'accepted',\n",
       " 'unacceptreason': None,\n",
       " 'valid_AphiaID': 159084,\n",
       " 'valid_name': 'Calidris alba'}"
      ]
     },
     "metadata": {},
     "output_type": "display_data"
    },
    {
     "name": "stdout",
     "output_type": "stream",
     "text": [
      "------------\n",
      "Thalasseus sandvicensis  -  Sandwich Tern ( bSATEx )\n"
     ]
    },
    {
     "data": {
      "text/plain": [
       "{'AphiaID': 413044,\n",
       " 'MatchMethod': 'Exact Match',\n",
       " 'MatchString': 'Thalasseus sandvicensis',\n",
       " 'cacheDate': '2017-07-26T15:00:36.032760',\n",
       " 'class': 'Aves',\n",
       " 'family': 'Sternidae',\n",
       " 'genus': 'Thalasseus',\n",
       " 'isBrackish': None,\n",
       " 'isExtinct': None,\n",
       " 'isFreshwater': None,\n",
       " 'isMarine': 1,\n",
       " 'isTerrestrial': None,\n",
       " 'kingdom': 'Animalia',\n",
       " 'lsid': 'urn:lsid:marinespecies.org:taxname:413044',\n",
       " 'match_type': 'exact',\n",
       " 'modified': '2011-04-08T08:18:06Z',\n",
       " 'order': 'Charadriiformes',\n",
       " 'phylum': 'Chordata',\n",
       " 'rank': 'Species',\n",
       " 'scientificname': 'Thalasseus sandvicensis',\n",
       " 'status': 'unaccepted',\n",
       " 'unacceptreason': None,\n",
       " 'valid_AphiaID': 137166,\n",
       " 'valid_name': 'Sterna sandvicensis'}"
      ]
     },
     "metadata": {},
     "output_type": "display_data"
    },
    {
     "name": "stdout",
     "output_type": "stream",
     "text": [
      "------------\n",
      "Numenius americanus  -  Long-billed Curlew ( bLBCUx )\n"
     ]
    },
    {
     "data": {
      "text/plain": [
       "{'AphiaID': 366865,\n",
       " 'MatchMethod': 'Exact Match',\n",
       " 'MatchString': 'Numenius americanus',\n",
       " 'cacheDate': '2017-07-26T15:00:39.232912',\n",
       " 'class': 'Aves',\n",
       " 'family': 'Scolopacidae',\n",
       " 'genus': 'Numenius',\n",
       " 'isBrackish': None,\n",
       " 'isExtinct': None,\n",
       " 'isFreshwater': None,\n",
       " 'isMarine': 1,\n",
       " 'isTerrestrial': None,\n",
       " 'kingdom': 'Animalia',\n",
       " 'lsid': 'urn:lsid:marinespecies.org:taxname:366865',\n",
       " 'match_type': 'exact',\n",
       " 'modified': '2011-04-08T08:18:06Z',\n",
       " 'order': 'Charadriiformes',\n",
       " 'phylum': 'Chordata',\n",
       " 'rank': 'Species',\n",
       " 'scientificname': 'Numenius americanus',\n",
       " 'status': 'accepted',\n",
       " 'unacceptreason': None,\n",
       " 'valid_AphiaID': 366865,\n",
       " 'valid_name': 'Numenius americanus'}"
      ]
     },
     "metadata": {},
     "output_type": "display_data"
    },
    {
     "name": "stdout",
     "output_type": "stream",
     "text": [
      "------------\n",
      "Tachycineta bicolor  -  Tree Swallow ( bTRESx )\n"
     ]
    },
    {
     "data": {
      "text/plain": [
       "{'AphiaID': 422625,\n",
       " 'MatchMethod': 'Exact Match',\n",
       " 'MatchString': 'Tachycineta bicolor',\n",
       " 'cacheDate': '2017-07-26T15:01:14.298014',\n",
       " 'class': 'Aves',\n",
       " 'family': 'Hirundinidae',\n",
       " 'genus': 'Tachycineta',\n",
       " 'isBrackish': 0,\n",
       " 'isExtinct': None,\n",
       " 'isFreshwater': None,\n",
       " 'isMarine': 0,\n",
       " 'isTerrestrial': None,\n",
       " 'kingdom': 'Animalia',\n",
       " 'lsid': 'urn:lsid:marinespecies.org:taxname:422625',\n",
       " 'match_type': 'exact',\n",
       " 'modified': '2011-04-08T08:18:06Z',\n",
       " 'order': 'Passeriformes',\n",
       " 'phylum': 'Chordata',\n",
       " 'rank': 'Species',\n",
       " 'scientificname': 'Tachycineta bicolor',\n",
       " 'status': 'accepted',\n",
       " 'unacceptreason': None,\n",
       " 'valid_AphiaID': 422625,\n",
       " 'valid_name': 'Tachycineta bicolor'}"
      ]
     },
     "metadata": {},
     "output_type": "display_data"
    },
    {
     "name": "stdout",
     "output_type": "stream",
     "text": [
      "------------\n",
      "Mycteria americana  -  Wood Stork ( bWOSTx )\n"
     ]
    },
    {
     "data": {
      "text/plain": [
       "{'AphiaID': 159150,\n",
       " 'MatchMethod': 'Exact Match',\n",
       " 'MatchString': 'Mycteria americana',\n",
       " 'cacheDate': '2017-07-26T15:01:28.435386',\n",
       " 'class': 'Aves',\n",
       " 'family': 'Ciconiidae',\n",
       " 'genus': 'Mycteria',\n",
       " 'isBrackish': 0,\n",
       " 'isExtinct': None,\n",
       " 'isFreshwater': 1,\n",
       " 'isMarine': 0,\n",
       " 'isTerrestrial': None,\n",
       " 'kingdom': 'Animalia',\n",
       " 'lsid': 'urn:lsid:marinespecies.org:taxname:159150',\n",
       " 'match_type': 'exact',\n",
       " 'modified': '2011-04-08T08:18:06Z',\n",
       " 'order': 'Ciconiiformes',\n",
       " 'phylum': 'Chordata',\n",
       " 'rank': 'Species',\n",
       " 'scientificname': 'Mycteria americana',\n",
       " 'status': 'accepted',\n",
       " 'unacceptreason': None,\n",
       " 'valid_AphiaID': 159150,\n",
       " 'valid_name': 'Mycteria americana'}"
      ]
     },
     "metadata": {},
     "output_type": "display_data"
    },
    {
     "name": "stdout",
     "output_type": "stream",
     "text": [
      "------------\n",
      "Anas discors  -  Blue-winged Teal ( bBWTEx )\n"
     ]
    },
    {
     "data": {
      "text/plain": [
       "{'AphiaID': 159167,\n",
       " 'MatchMethod': 'Exact Match',\n",
       " 'MatchString': 'Anas discors',\n",
       " 'cacheDate': '2017-07-26T15:01:33.489945',\n",
       " 'class': 'Aves',\n",
       " 'family': 'Anatidae',\n",
       " 'genus': 'Anas',\n",
       " 'isBrackish': None,\n",
       " 'isExtinct': None,\n",
       " 'isFreshwater': 1,\n",
       " 'isMarine': 0,\n",
       " 'isTerrestrial': None,\n",
       " 'kingdom': 'Animalia',\n",
       " 'lsid': 'urn:lsid:marinespecies.org:taxname:159167',\n",
       " 'match_type': 'exact',\n",
       " 'modified': '2011-04-08T08:18:06Z',\n",
       " 'order': 'Anseriformes',\n",
       " 'phylum': 'Chordata',\n",
       " 'rank': 'Species',\n",
       " 'scientificname': 'Anas discors',\n",
       " 'status': 'accepted',\n",
       " 'unacceptreason': None,\n",
       " 'valid_AphiaID': 159167,\n",
       " 'valid_name': 'Anas discors'}"
      ]
     },
     "metadata": {},
     "output_type": "display_data"
    },
    {
     "name": "stdout",
     "output_type": "stream",
     "text": [
      "------------\n",
      "Vermivora peregrina  -  Tennessee Warbler ( bTEWAx )\n"
     ]
    },
    {
     "data": {
      "text/plain": [
       "{'AphiaID': 422631,\n",
       " 'MatchMethod': 'Exact Match',\n",
       " 'MatchString': 'Vermivora peregrina',\n",
       " 'cacheDate': '2017-07-26T15:02:01.036612',\n",
       " 'class': 'Aves',\n",
       " 'family': 'Parulidae',\n",
       " 'genus': 'Vermivora',\n",
       " 'isBrackish': 0,\n",
       " 'isExtinct': None,\n",
       " 'isFreshwater': None,\n",
       " 'isMarine': 0,\n",
       " 'isTerrestrial': None,\n",
       " 'kingdom': 'Animalia',\n",
       " 'lsid': 'urn:lsid:marinespecies.org:taxname:422631',\n",
       " 'match_type': 'exact',\n",
       " 'modified': '2011-04-07T15:28:46Z',\n",
       " 'order': 'Passeriformes',\n",
       " 'phylum': 'Chordata',\n",
       " 'rank': 'Species',\n",
       " 'scientificname': 'Vermivora peregrina',\n",
       " 'status': 'unaccepted',\n",
       " 'unacceptreason': 'synonym',\n",
       " 'valid_AphiaID': 567889,\n",
       " 'valid_name': 'Oreothlypis peregrina'}"
      ]
     },
     "metadata": {},
     "output_type": "display_data"
    },
    {
     "name": "stdout",
     "output_type": "stream",
     "text": [
      "------------\n",
      "Athene cunicularia  -  Burrowing Owl ( bBUOWx )\n"
     ]
    },
    {
     "data": {
      "text/plain": [
       "{'AphiaID': 422611,\n",
       " 'MatchMethod': 'Exact Match',\n",
       " 'MatchString': 'Athene cunicularia',\n",
       " 'cacheDate': '2017-07-26T15:02:05.493502',\n",
       " 'class': 'Aves',\n",
       " 'family': 'Strigidae',\n",
       " 'genus': 'Athene',\n",
       " 'isBrackish': 0,\n",
       " 'isExtinct': None,\n",
       " 'isFreshwater': None,\n",
       " 'isMarine': 0,\n",
       " 'isTerrestrial': None,\n",
       " 'kingdom': 'Animalia',\n",
       " 'lsid': 'urn:lsid:marinespecies.org:taxname:422611',\n",
       " 'match_type': 'exact',\n",
       " 'modified': '2011-04-08T08:18:06Z',\n",
       " 'order': 'Strigiformes',\n",
       " 'phylum': 'Chordata',\n",
       " 'rank': 'Species',\n",
       " 'scientificname': 'Athene cunicularia',\n",
       " 'status': 'accepted',\n",
       " 'unacceptreason': None,\n",
       " 'valid_AphiaID': 422611,\n",
       " 'valid_name': 'Athene cunicularia'}"
      ]
     },
     "metadata": {},
     "output_type": "display_data"
    },
    {
     "name": "stdout",
     "output_type": "stream",
     "text": [
      "------------\n",
      "Pluvialis squatarola  -  Black-bellied Plover ( bBBPLx )\n"
     ]
    },
    {
     "data": {
      "text/plain": [
       "{'AphiaID': 159137,\n",
       " 'MatchMethod': 'Exact Match',\n",
       " 'MatchString': 'Pluvialis squatarola',\n",
       " 'cacheDate': '2017-07-26T15:02:09.771008',\n",
       " 'class': 'Aves',\n",
       " 'family': 'Charadriidae',\n",
       " 'genus': 'Pluvialis',\n",
       " 'isBrackish': None,\n",
       " 'isExtinct': None,\n",
       " 'isFreshwater': None,\n",
       " 'isMarine': 1,\n",
       " 'isTerrestrial': None,\n",
       " 'kingdom': 'Animalia',\n",
       " 'lsid': 'urn:lsid:marinespecies.org:taxname:159137',\n",
       " 'match_type': 'exact',\n",
       " 'modified': '2011-04-08T08:18:06Z',\n",
       " 'order': 'Charadriiformes',\n",
       " 'phylum': 'Chordata',\n",
       " 'rank': 'Species',\n",
       " 'scientificname': 'Pluvialis squatarola',\n",
       " 'status': 'accepted',\n",
       " 'unacceptreason': None,\n",
       " 'valid_AphiaID': 159137,\n",
       " 'valid_name': 'Pluvialis squatarola'}"
      ]
     },
     "metadata": {},
     "output_type": "display_data"
    },
    {
     "name": "stdout",
     "output_type": "stream",
     "text": [
      "------------\n",
      "Contopus virens  -  Eastern Wood-pewee ( bEAWPx )\n"
     ]
    },
    {
     "data": {
      "text/plain": [
       "{'AphiaID': 422620,\n",
       " 'MatchMethod': 'Exact Match',\n",
       " 'MatchString': 'Contopus virens',\n",
       " 'cacheDate': '2017-07-26T15:02:11.804807',\n",
       " 'class': 'Aves',\n",
       " 'family': 'Tyrannidae',\n",
       " 'genus': 'Contopus',\n",
       " 'isBrackish': 0,\n",
       " 'isExtinct': None,\n",
       " 'isFreshwater': None,\n",
       " 'isMarine': 0,\n",
       " 'isTerrestrial': None,\n",
       " 'kingdom': 'Animalia',\n",
       " 'lsid': 'urn:lsid:marinespecies.org:taxname:422620',\n",
       " 'match_type': 'exact',\n",
       " 'modified': '2011-04-08T08:18:06Z',\n",
       " 'order': 'Passeriformes',\n",
       " 'phylum': 'Chordata',\n",
       " 'rank': 'Species',\n",
       " 'scientificname': 'Contopus virens',\n",
       " 'status': 'accepted',\n",
       " 'unacceptreason': None,\n",
       " 'valid_AphiaID': 422620,\n",
       " 'valid_name': 'Contopus virens'}"
      ]
     },
     "metadata": {},
     "output_type": "display_data"
    },
    {
     "name": "stdout",
     "output_type": "stream",
     "text": [
      "------------\n",
      "Ceryle alcyon  -  Belted Kingfisher ( bBEKIx )\n"
     ]
    },
    {
     "data": {
      "text/plain": [
       "{'AphiaID': 158984,\n",
       " 'MatchMethod': 'Exact Match',\n",
       " 'MatchString': 'Ceryle alcyon',\n",
       " 'cacheDate': '2017-07-26T15:02:13.809782',\n",
       " 'class': 'Aves',\n",
       " 'family': 'Alcedinidae',\n",
       " 'genus': 'Ceryle',\n",
       " 'isBrackish': 0,\n",
       " 'isExtinct': None,\n",
       " 'isFreshwater': 1,\n",
       " 'isMarine': 0,\n",
       " 'isTerrestrial': None,\n",
       " 'kingdom': 'Animalia',\n",
       " 'lsid': 'urn:lsid:marinespecies.org:taxname:158984',\n",
       " 'match_type': 'exact',\n",
       " 'modified': '2011-04-08T08:18:06Z',\n",
       " 'order': 'Coraciiformes',\n",
       " 'phylum': 'Chordata',\n",
       " 'rank': 'Species',\n",
       " 'scientificname': 'Ceryle alcyon',\n",
       " 'status': 'unaccepted',\n",
       " 'unacceptreason': None,\n",
       " 'valid_AphiaID': 159001,\n",
       " 'valid_name': 'Megaceryle alcyon'}"
      ]
     },
     "metadata": {},
     "output_type": "display_data"
    },
    {
     "name": "stdout",
     "output_type": "stream",
     "text": [
      "------------\n",
      "Melanitta nigra  -  Black Scoter ( bBLSCx )\n"
     ]
    },
    {
     "data": {
      "text/plain": [
       "{'AphiaID': 137073,\n",
       " 'MatchMethod': 'Exact Match',\n",
       " 'MatchString': 'Melanitta nigra',\n",
       " 'cacheDate': '2017-07-26T15:03:45.669179',\n",
       " 'class': 'Aves',\n",
       " 'family': 'Anatidae',\n",
       " 'genus': 'Melanitta',\n",
       " 'isBrackish': None,\n",
       " 'isExtinct': None,\n",
       " 'isFreshwater': None,\n",
       " 'isMarine': 1,\n",
       " 'isTerrestrial': None,\n",
       " 'kingdom': 'Animalia',\n",
       " 'lsid': 'urn:lsid:marinespecies.org:taxname:137073',\n",
       " 'match_type': 'exact',\n",
       " 'modified': '2011-04-08T08:18:06Z',\n",
       " 'order': 'Anseriformes',\n",
       " 'phylum': 'Chordata',\n",
       " 'rank': 'Species',\n",
       " 'scientificname': 'Melanitta nigra',\n",
       " 'status': 'accepted',\n",
       " 'unacceptreason': None,\n",
       " 'valid_AphiaID': 137073,\n",
       " 'valid_name': 'Melanitta nigra'}"
      ]
     },
     "metadata": {},
     "output_type": "display_data"
    },
    {
     "name": "stdout",
     "output_type": "stream",
     "text": [
      "------------\n",
      "Troglodytes troglodytes  -  Winter Wren ( bWIWRx )\n"
     ]
    },
    {
     "data": {
      "text/plain": [
       "{'AphiaID': 558598,\n",
       " 'MatchMethod': 'Exact Match',\n",
       " 'MatchString': 'Troglodytes troglodytes',\n",
       " 'cacheDate': '2017-07-26T15:03:50.152564',\n",
       " 'class': 'Aves',\n",
       " 'family': 'Troglodytidae',\n",
       " 'genus': 'Troglodytes',\n",
       " 'isBrackish': 0,\n",
       " 'isExtinct': None,\n",
       " 'isFreshwater': 0,\n",
       " 'isMarine': 0,\n",
       " 'isTerrestrial': 1,\n",
       " 'kingdom': 'Animalia',\n",
       " 'lsid': 'urn:lsid:marinespecies.org:taxname:558598',\n",
       " 'match_type': 'exact',\n",
       " 'modified': '2011-04-08T08:18:06Z',\n",
       " 'order': 'Passeriformes',\n",
       " 'phylum': 'Chordata',\n",
       " 'rank': 'Species',\n",
       " 'scientificname': 'Troglodytes troglodytes',\n",
       " 'status': 'accepted',\n",
       " 'unacceptreason': None,\n",
       " 'valid_AphiaID': 558598,\n",
       " 'valid_name': 'Troglodytes troglodytes'}"
      ]
     },
     "metadata": {},
     "output_type": "display_data"
    },
    {
     "name": "stdout",
     "output_type": "stream",
     "text": [
      "------------\n",
      "Numenius phaeopus  -  Whimbrel ( bWHIMx )\n"
     ]
    },
    {
     "data": {
      "text/plain": [
       "{'AphiaID': 159040,\n",
       " 'MatchMethod': 'Exact Match',\n",
       " 'MatchString': 'Numenius phaeopus',\n",
       " 'cacheDate': '2017-07-26T15:04:16.748106',\n",
       " 'class': 'Aves',\n",
       " 'family': 'Scolopacidae',\n",
       " 'genus': 'Numenius',\n",
       " 'isBrackish': None,\n",
       " 'isExtinct': None,\n",
       " 'isFreshwater': None,\n",
       " 'isMarine': 1,\n",
       " 'isTerrestrial': None,\n",
       " 'kingdom': 'Animalia',\n",
       " 'lsid': 'urn:lsid:marinespecies.org:taxname:159040',\n",
       " 'match_type': 'exact',\n",
       " 'modified': '2011-04-08T08:18:06Z',\n",
       " 'order': 'Charadriiformes',\n",
       " 'phylum': 'Chordata',\n",
       " 'rank': 'Species',\n",
       " 'scientificname': 'Numenius phaeopus',\n",
       " 'status': 'accepted',\n",
       " 'unacceptreason': None,\n",
       " 'valid_AphiaID': 159040,\n",
       " 'valid_name': 'Numenius phaeopus'}"
      ]
     },
     "metadata": {},
     "output_type": "display_data"
    },
    {
     "name": "stdout",
     "output_type": "stream",
     "text": [
      "------------\n",
      "Gavia immer  -  Common Loon ( bCOLOx )\n"
     ]
    },
    {
     "data": {
      "text/plain": [
       "{'AphiaID': 137187,\n",
       " 'MatchMethod': 'Exact Match',\n",
       " 'MatchString': 'Gavia immer',\n",
       " 'cacheDate': '2017-07-26T15:05:29.674635',\n",
       " 'class': 'Aves',\n",
       " 'family': 'Gaviidae',\n",
       " 'genus': 'Gavia',\n",
       " 'isBrackish': None,\n",
       " 'isExtinct': None,\n",
       " 'isFreshwater': None,\n",
       " 'isMarine': 1,\n",
       " 'isTerrestrial': None,\n",
       " 'kingdom': 'Animalia',\n",
       " 'lsid': 'urn:lsid:marinespecies.org:taxname:137187',\n",
       " 'match_type': 'exact',\n",
       " 'modified': '2011-04-27T11:01:37Z',\n",
       " 'order': 'Gaviiformes',\n",
       " 'phylum': 'Chordata',\n",
       " 'rank': 'Species',\n",
       " 'scientificname': 'Gavia immer',\n",
       " 'status': 'accepted',\n",
       " 'unacceptreason': None,\n",
       " 'valid_AphiaID': 137187,\n",
       " 'valid_name': 'Gavia immer'}"
      ]
     },
     "metadata": {},
     "output_type": "display_data"
    },
    {
     "name": "stdout",
     "output_type": "stream",
     "text": [
      "------------\n",
      "Laterallus jamaicensis coturniculus  -  California Black Rail ( bBLRAc )\n"
     ]
    },
    {
     "data": {
      "text/plain": [
       "{'AphiaID': 422591,\n",
       " 'MatchMethod': 'Exact Match',\n",
       " 'MatchString': 'Laterallus jamaicensis',\n",
       " 'cacheDate': '2017-07-26T15:05:56.128975',\n",
       " 'class': 'Aves',\n",
       " 'family': 'Rallidae',\n",
       " 'genus': 'Laterallus',\n",
       " 'isBrackish': 1,\n",
       " 'isExtinct': None,\n",
       " 'isFreshwater': 1,\n",
       " 'isMarine': 0,\n",
       " 'isTerrestrial': None,\n",
       " 'kingdom': 'Animalia',\n",
       " 'lsid': 'urn:lsid:marinespecies.org:taxname:422591',\n",
       " 'match_type': 'exact',\n",
       " 'modified': '2011-04-08T08:18:06Z',\n",
       " 'order': 'Gruiformes',\n",
       " 'phylum': 'Chordata',\n",
       " 'rank': 'Species',\n",
       " 'scientificname': 'Laterallus jamaicensis',\n",
       " 'status': 'accepted',\n",
       " 'unacceptreason': None,\n",
       " 'valid_AphiaID': 422591,\n",
       " 'valid_name': 'Laterallus jamaicensis'}"
      ]
     },
     "metadata": {},
     "output_type": "display_data"
    },
    {
     "name": "stdout",
     "output_type": "stream",
     "text": [
      "------------\n",
      "Icteria virens  -  Yellow-breasted Chat ( bYBCHx )\n"
     ]
    },
    {
     "data": {
      "text/plain": [
       "{'AphiaID': 422664,\n",
       " 'MatchMethod': 'Exact Match',\n",
       " 'MatchString': 'Icteria virens',\n",
       " 'cacheDate': '2017-07-26T15:06:33.661428',\n",
       " 'class': 'Aves',\n",
       " 'family': 'Parulidae',\n",
       " 'genus': 'Icteria',\n",
       " 'isBrackish': 0,\n",
       " 'isExtinct': None,\n",
       " 'isFreshwater': None,\n",
       " 'isMarine': 0,\n",
       " 'isTerrestrial': None,\n",
       " 'kingdom': 'Animalia',\n",
       " 'lsid': 'urn:lsid:marinespecies.org:taxname:422664',\n",
       " 'match_type': 'exact',\n",
       " 'modified': '2011-04-08T08:18:06Z',\n",
       " 'order': 'Passeriformes',\n",
       " 'phylum': 'Chordata',\n",
       " 'rank': 'Species',\n",
       " 'scientificname': 'Icteria virens',\n",
       " 'status': 'accepted',\n",
       " 'unacceptreason': None,\n",
       " 'valid_AphiaID': 422664,\n",
       " 'valid_name': 'Icteria virens'}"
      ]
     },
     "metadata": {},
     "output_type": "display_data"
    },
    {
     "name": "stdout",
     "output_type": "stream",
     "text": [
      "------------\n",
      "Actitis macularius  -  Spotted Sandpiper ( bSPSAx )\n"
     ]
    },
    {
     "data": {
      "text/plain": [
       "{'AphiaID': 159081,\n",
       " 'MatchMethod': 'Exact Match',\n",
       " 'MatchString': 'Actitis macularius',\n",
       " 'cacheDate': '2017-07-26T15:06:42.235347',\n",
       " 'class': 'Aves',\n",
       " 'family': 'Scolopacidae',\n",
       " 'genus': 'Actitis',\n",
       " 'isBrackish': None,\n",
       " 'isExtinct': None,\n",
       " 'isFreshwater': None,\n",
       " 'isMarine': 1,\n",
       " 'isTerrestrial': None,\n",
       " 'kingdom': 'Animalia',\n",
       " 'lsid': 'urn:lsid:marinespecies.org:taxname:159081',\n",
       " 'match_type': 'exact',\n",
       " 'modified': '2011-04-08T08:18:06Z',\n",
       " 'order': 'Charadriiformes',\n",
       " 'phylum': 'Chordata',\n",
       " 'rank': 'Species',\n",
       " 'scientificname': 'Actitis macularius',\n",
       " 'status': 'accepted',\n",
       " 'unacceptreason': None,\n",
       " 'valid_AphiaID': 159081,\n",
       " 'valid_name': 'Actitis macularius'}"
      ]
     },
     "metadata": {},
     "output_type": "display_data"
    },
    {
     "name": "stdout",
     "output_type": "stream",
     "text": [
      "------------\n",
      "Hirundo rustica  -  Barn Swallow ( bBARSx )\n"
     ]
    },
    {
     "data": {
      "text/plain": [
       "{'AphiaID': 212750,\n",
       " 'MatchMethod': 'Exact Match',\n",
       " 'MatchString': 'Hirundo rustica',\n",
       " 'cacheDate': '2017-07-26T15:06:46.844044',\n",
       " 'class': 'Aves',\n",
       " 'family': 'Hirundinidae',\n",
       " 'genus': 'Hirundo',\n",
       " 'isBrackish': 0,\n",
       " 'isExtinct': None,\n",
       " 'isFreshwater': None,\n",
       " 'isMarine': 0,\n",
       " 'isTerrestrial': 1,\n",
       " 'kingdom': 'Animalia',\n",
       " 'lsid': 'urn:lsid:marinespecies.org:taxname:212750',\n",
       " 'match_type': 'exact',\n",
       " 'modified': '2011-04-08T08:18:06Z',\n",
       " 'order': 'Passeriformes',\n",
       " 'phylum': 'Chordata',\n",
       " 'rank': 'Species',\n",
       " 'scientificname': 'Hirundo rustica',\n",
       " 'status': 'accepted',\n",
       " 'unacceptreason': None,\n",
       " 'valid_AphiaID': 212750,\n",
       " 'valid_name': 'Hirundo rustica'}"
      ]
     },
     "metadata": {},
     "output_type": "display_data"
    },
    {
     "name": "stdout",
     "output_type": "stream",
     "text": [
      "------------\n",
      "Arctocephalus townsendi  -  Guadalupe Fur Seal ( mGFSEx )\n"
     ]
    },
    {
     "data": {
      "text/plain": [
       "{'AphiaID': 255007,\n",
       " 'MatchMethod': 'Exact Match',\n",
       " 'MatchString': 'Arctocephalus townsendi',\n",
       " 'cacheDate': '2017-07-26T15:07:08.081917',\n",
       " 'class': 'Mammalia',\n",
       " 'family': 'Otariidae',\n",
       " 'genus': 'Arctocephalus',\n",
       " 'isBrackish': None,\n",
       " 'isExtinct': None,\n",
       " 'isFreshwater': None,\n",
       " 'isMarine': 1,\n",
       " 'isTerrestrial': None,\n",
       " 'kingdom': 'Animalia',\n",
       " 'lsid': 'urn:lsid:marinespecies.org:taxname:255007',\n",
       " 'match_type': 'exact',\n",
       " 'modified': '2010-05-20T12:09:50Z',\n",
       " 'order': 'Carnivora',\n",
       " 'phylum': 'Chordata',\n",
       " 'rank': 'Species',\n",
       " 'scientificname': 'Arctocephalus townsendi',\n",
       " 'status': 'unaccepted',\n",
       " 'unacceptreason': None,\n",
       " 'valid_AphiaID': 477319,\n",
       " 'valid_name': 'Arctocephalus philippii townsendi'}"
      ]
     },
     "metadata": {},
     "output_type": "display_data"
    },
    {
     "name": "stdout",
     "output_type": "stream",
     "text": [
      "------------\n"
     ]
    }
   ],
   "source": [
    "r_gapSpeciesInWoRMS = requests.get(gc2.sqlAPI(\"DataDistillery\",\"BCB\")+\"&q=SELECT registration,worms FROM tir.tir WHERE registration->>'source' = 'GAP Species' AND worms->>'MatchMethod' <> 'Not Matched'\").json()\n",
    "\n",
    "print (\"Number of GAP species with WoRMS information: \",len(r_gapSpeciesInWoRMS[\"features\"]))\n",
    "print (\"------------\")\n",
    "\n",
    "for feature in r_gapSpeciesInWoRMS[\"features\"]:\n",
    "    _registration = json.loads(feature[\"properties\"][\"registration\"])\n",
    "    _worms = json.loads(feature[\"properties\"][\"worms\"])\n",
    "    _gapSpeciesCode = _registration[\"identifiers\"][next(index for (index, d) in enumerate(_registration[\"identifiers\"]) if d[\"type\"] == \"GAP_SpeciesCode\")][\"key\"]\n",
    "    print (_registration[\"scientificname\"], \" - \", _registration[\"commonname\"], \"(\", _gapSpeciesCode, \")\")\n",
    "    display (_worms)\n",
    "    print (\"------------\")\n"
   ]
  },
  {
   "cell_type": "markdown",
   "metadata": {},
   "source": [
    "### FWS Listing Status\n",
    "\n",
    "The TIR looks for information from the US Fish and Wildlife Service Threatened and Endangered Species System (TESS) for registered species. The following report shows listing status for GAP species. Listing status here is stored as a data structure that can contain more than one set of listing details for different populations where a species has specific designations. This information could be further synthesized in some way to produce a more simplified way of filtering GAP species for specific purposes."
   ]
  },
  {
   "cell_type": "code",
   "execution_count": 13,
   "metadata": {
    "collapsed": false,
    "deletable": true,
    "editable": true
   },
   "outputs": [
    {
     "name": "stdout",
     "output_type": "stream",
     "text": [
      "Megascops asio  -  Eastern Screech-owl ( bEASOx )\n",
      "Not listed\n",
      "------------\n",
      "Rattus norvegicus  -  Brown Rat ( mBRRTx )\n",
      "Not listed\n",
      "------------\n",
      "Plethodon dorsalis  -  Northern Zigzag Salamander ( aNZSAx )\n",
      "Not listed\n",
      "------------\n",
      "Wilsonia pusilla  -  Wilson's Warbler ( bWIWAx )\n",
      "Not listed\n",
      "------------\n",
      "Empidonax virescens  -  Acadian Flycatcher ( bACFLx )\n",
      "Not listed\n",
      "------------\n",
      "Peromyscus truei comanche  -  Palo Duro Deermouse ( mPIDEc )\n",
      "Date Cached:  2017-07-26T15:54:42.935617\n"
     ]
    },
    {
     "data": {
      "text/plain": [
       "[{'POP_ABBREV': 'Wherever found',\n",
       "  'POP_DESC': 'Wherever found',\n",
       "  'STATUS': 'Species of Concern'}]"
      ]
     },
     "metadata": {},
     "output_type": "display_data"
    },
    {
     "name": "stdout",
     "output_type": "stream",
     "text": [
      "------------\n",
      "Peromyscus eremicus  -  Cactus Deermouse ( mCCDEx )\n",
      "Not listed\n",
      "------------\n",
      "Phaeognathus hubrichti  -  Red Hills Salamander ( aRHSAx )\n",
      "Date Cached:  2017-07-26T15:54:58.044765\n"
     ]
    },
    {
     "data": {
      "text/plain": [
       "[{'LISTING_DATE': '1977-01-03',\n",
       "  'POP_ABBREV': 'Wherever found',\n",
       "  'POP_DESC': 'Wherever found',\n",
       "  'STATUS': 'Threatened'}]"
      ]
     },
     "metadata": {},
     "output_type": "display_data"
    },
    {
     "name": "stdout",
     "output_type": "stream",
     "text": [
      "------------\n",
      "Eurycea longicauda  -  Long-tailed Salamander ( aLTASx )\n",
      "Not listed\n",
      "------------\n",
      "Apalone mutica calvata  -  Gulf Coast Smooth Softshell ( rSMSOc )\n",
      "Not listed\n",
      "------------\n",
      "Kinosternon sonoriense  -  Sonoran Mud Turtle ( rSOMTx )\n",
      "Not listed\n",
      "------------\n",
      "Dendroica coronata  -  Yellow-rumped Warbler ( bYRWAx )\n",
      "Not listed\n",
      "------------\n",
      "Tympanuchus cupido  -  Greater Prairie-chicken ( bGRPCx )\n",
      "Not listed\n",
      "------------\n",
      "Cryptotis parva  -  North American Least Shrew ( mNALSx )\n",
      "Not listed\n",
      "------------\n",
      "Lasiurus blossevillii  -  Western Red Bat ( mWRBAx )\n",
      "Not listed\n",
      "------------\n",
      "Synaptomys cooperi  -  Southern Bog Lemming ( mSBLEx )\n",
      "Not listed\n",
      "------------\n",
      "Leucophaeus atricilla  -  Laughing Gull ( bLAGUx )\n",
      "Not listed\n",
      "------------\n",
      "Peromyscus polionotus peninsularis  -  St. Andrews Beach Deermouse ( mOLDEp )\n",
      "Date Cached:  2017-07-26T15:55:31.475992\n"
     ]
    },
    {
     "data": {
      "text/plain": [
       "[{'LISTING_DATE': '1998-12-18',\n",
       "  'POP_ABBREV': 'Wherever found',\n",
       "  'POP_DESC': 'Wherever found',\n",
       "  'STATUS': 'Endangered'}]"
      ]
     },
     "metadata": {},
     "output_type": "display_data"
    },
    {
     "name": "stdout",
     "output_type": "stream",
     "text": [
      "------------\n",
      "Diadophis punctatus  -  Ring-necked Snake ( rRNSNx )\n",
      "Not listed\n",
      "------------\n",
      "Peromyscus crinitus  -  Canyon Deermouse ( mCNDEx )\n",
      "Not listed\n",
      "------------\n",
      "Thryomanes bewickii  -  Bewick's Wren ( bBEWRx )\n",
      "Not listed\n",
      "------------\n",
      "Peromyscus maniculatus  -  North American Deermouse ( mNADEx )\n",
      "Not listed\n",
      "------------\n",
      "Vulpes vulpes  -  Red Fox ( mREFOx )\n",
      "Not listed\n",
      "------------\n",
      "Oporornis formosus  -  Kentucky Warbler ( bKEWAx )\n",
      "Not listed\n",
      "------------\n",
      "Ammodramus henslowii  -  Henslow's Sparrow ( bHESPx )\n",
      "Date Cached:  2017-07-26T15:56:22.110629\n"
     ]
    },
    {
     "data": {
      "text/plain": [
       "[{'POP_ABBREV': 'Wherever found',\n",
       "  'POP_DESC': 'Wherever found',\n",
       "  'STATUS': 'Resolved Taxon'}]"
      ]
     },
     "metadata": {},
     "output_type": "display_data"
    },
    {
     "name": "stdout",
     "output_type": "stream",
     "text": [
      "------------\n",
      "Larus glaucoides  -  Iceland Gull ( bICGUx )\n",
      "Not listed\n",
      "------------\n",
      "Picoides borealis  -  Red-cockaded Woodpecker ( bRCWOx )\n",
      "Date Cached:  2017-07-26T15:56:24.136653\n"
     ]
    },
    {
     "data": {
      "text/plain": [
       "[{'LISTING_DATE': '1970-10-13',\n",
       "  'POP_ABBREV': 'Wherever found',\n",
       "  'POP_DESC': 'Wherever found',\n",
       "  'STATUS': 'Endangered'}]"
      ]
     },
     "metadata": {},
     "output_type": "display_data"
    },
    {
     "name": "stdout",
     "output_type": "stream",
     "text": [
      "------------\n",
      "Dama dama  -  Fallow Deer ( mFADEx )\n",
      "Not listed\n",
      "------------\n",
      "Aegolius acadicus  -  Northern Saw-whet Owl ( bNSWOx )\n",
      "Not listed\n",
      "------------\n",
      "Gyrinophilus subterraneus  -  West Virginia Spring Salamander ( aWVSSx )\n",
      "Date Cached:  2017-07-26T15:56:32.179930\n"
     ]
    },
    {
     "data": {
      "text/plain": [
       "[{'POP_ABBREV': 'Wherever found',\n",
       "  'POP_DESC': 'Wherever found',\n",
       "  'STATUS': 'Under Review in the Candidate or Petition Process'}]"
      ]
     },
     "metadata": {},
     "output_type": "display_data"
    },
    {
     "name": "stdout",
     "output_type": "stream",
     "text": [
      "------------\n",
      "Sciurus carolinensis  -  Eastern Gray Squirrel ( mEBSQx )\n",
      "Not listed\n",
      "------------\n",
      "Anas penelope  -  Eurasian Wigeon ( bEUWIx )\n",
      "Not listed\n",
      "------------\n",
      "Microtus chrotorrhinus carolinensis  -  Southern Rock Vole ( mROVOc )\n",
      "Date Cached:  2017-07-26T15:56:52.131831\n"
     ]
    },
    {
     "data": {
      "text/plain": [
       "[{'POP_ABBREV': 'Wherever found',\n",
       "  'POP_DESC': 'Wherever found',\n",
       "  'STATUS': 'Species of Concern'}]"
      ]
     },
     "metadata": {},
     "output_type": "display_data"
    },
    {
     "name": "stdout",
     "output_type": "stream",
     "text": [
      "------------\n",
      "Poecile sclateri  -  Mexican Chickadee ( bMECHx )\n",
      "Not listed\n",
      "------------\n",
      "Psaltriparus minimus  -  Bushtit ( bBUSHx )\n",
      "Not listed\n",
      "------------\n",
      "Hydromantes brunus  -  Limestone Salamander ( aLISAx )\n",
      "Date Cached:  2017-07-26T15:39:13.231245\n"
     ]
    },
    {
     "data": {
      "text/plain": [
       "[{'POP_ABBREV': 'Wherever found',\n",
       "  'POP_DESC': 'Wherever found',\n",
       "  'STATUS': 'Under Review in the Candidate or Petition Process'}]"
      ]
     },
     "metadata": {},
     "output_type": "display_data"
    },
    {
     "name": "stdout",
     "output_type": "stream",
     "text": [
      "------------\n",
      "Peromyscus nasutus  -  Northern Rock Deermouse ( mNRDEx )\n",
      "Not listed\n",
      "------------\n",
      "Icterus pustulatus  -  Streak-backed Oriole ( bSBAOx )\n",
      "Not listed\n",
      "------------\n",
      "Thomomys bulbivorus  -  Camas Pocket Gopher ( mCPGOx )\n",
      "Not listed\n",
      "------------\n",
      "Reithrodontomys humulis  -  Eastern Harvest Mouse ( mEHMOx )\n",
      "Not listed\n",
      "------------\n",
      "Crotalus cerberus  -  Arizona Black Rattlesnake ( rSBRAx )\n",
      "Not listed\n",
      "------------\n",
      "Plethodon electromorphus  -  Northern Ravine Salamander ( aNRSAx )\n",
      "Not listed\n",
      "------------\n",
      "Lasiurus intermedius  -  Northern Yellow Bat ( mNYBAx )\n",
      "Not listed\n",
      "------------\n",
      "Spizella breweri  -  Brewer's Sparrow ( bBRSPx )\n",
      "Date Cached:  2017-07-26T15:41:26.873121\n"
     ]
    },
    {
     "data": {
      "text/plain": [
       "[{'POP_ABBREV': 'Wherever found',\n",
       "  'POP_DESC': 'Wherever found',\n",
       "  'STATUS': 'Species of Concern'}]"
      ]
     },
     "metadata": {},
     "output_type": "display_data"
    },
    {
     "name": "stdout",
     "output_type": "stream",
     "text": [
      "------------\n",
      "Rhinophrynus dorsalis  -  Burrowing Toad ( aBUTOx )\n",
      "Not listed\n",
      "------------\n",
      "Spermophilus canus  -  Merriam's Ground Squirrel ( mMGSQx )\n",
      "Not listed\n",
      "------------\n",
      "Hyla femoralis  -  Pine Woods Treefrog ( aPWTRx )\n",
      "Not listed\n",
      "------------\n",
      "Mustela vison  -  American Mink ( mAMMIx )\n",
      "Not listed\n",
      "------------\n",
      "Parabuteo unicinctus  -  Harris's Hawk ( bHASHx )\n",
      "Not listed\n",
      "------------\n",
      "Tympanuchus phasianellus  -  Sharp-tailed Grouse ( bSTGRx )\n",
      "Not listed\n",
      "------------\n",
      "Passerina amoena  -  Lazuli Bunting ( bLAZBx )\n",
      "Not listed\n",
      "------------\n",
      "Alectoris chukar  -  Chukar ( bCHUKx )\n",
      "Not listed\n",
      "------------\n",
      "Passerina caerulea  -  Blue Grosbeak ( bBLGRx )\n",
      "Not listed\n",
      "------------\n",
      "Anthus rubescens  -  American Pipit ( bAMPIx )\n",
      "Not listed\n",
      "------------\n",
      "Empidonax traillii  -  Willow Flycatcher ( bWIFLx )\n",
      "Date Cached:  2017-07-26T15:43:45.602277\n"
     ]
    },
    {
     "data": {
      "text/plain": [
       "[{'POP_ABBREV': 'Wherever found',\n",
       "  'POP_DESC': 'Wherever found',\n",
       "  'STATUS': 'Species of Concern'}]"
      ]
     },
     "metadata": {},
     "output_type": "display_data"
    },
    {
     "name": "stdout",
     "output_type": "stream",
     "text": [
      "------------\n",
      "Oryx gazella  -  Gemsbok ( mGEMSx )\n",
      "Not listed\n",
      "------------\n",
      "Marmota flaviventris  -  Yellow-bellied Marmot ( mYEMAx )\n",
      "Not listed\n",
      "------------\n",
      "Plethodon serratus  -  Southern Red-backed Salamander ( aSRBSx )\n",
      "Not listed\n",
      "------------\n",
      "Plestiodon callicephalus  -  Mountain Skink ( rMTSKx )\n",
      "Not listed\n",
      "------------\n",
      "Osteopilus septentrionalis  -  Cuban Treefrog ( aCUTRx )\n",
      "Not listed\n",
      "------------\n",
      "Lasiurus cinereus  -  Hoary Bat ( mHOBAx )\n",
      "Date Cached:  2017-07-26T15:44:44.782511\n"
     ]
    },
    {
     "data": {
      "text/plain": [
       "[{'POP_ABBREV': 'Wherever found',\n",
       "  'POP_DESC': 'Wherever found',\n",
       "  'STATUS': 'Status Undefined'}]"
      ]
     },
     "metadata": {},
     "output_type": "display_data"
    },
    {
     "name": "stdout",
     "output_type": "stream",
     "text": [
      "------------\n",
      "Batrachoseps simatus  -  Kern Canyon Slender Salamander ( aKCSSx )\n",
      "Date Cached:  2017-07-26T15:44:48.767845\n"
     ]
    },
    {
     "data": {
      "text/plain": [
       "[{'POP_ABBREV': 'Wherever found',\n",
       "  'POP_DESC': 'Wherever found',\n",
       "  'STATUS': 'Under Review in the Candidate or Petition Process'}]"
      ]
     },
     "metadata": {},
     "output_type": "display_data"
    },
    {
     "name": "stdout",
     "output_type": "stream",
     "text": [
      "------------\n",
      "Ambystoma opacum  -  Marbled Salamander ( aMASAx )\n",
      "Not listed\n",
      "------------\n",
      "Sayornis nigricans  -  Black Phoebe ( bBLPHx )\n",
      "Not listed\n",
      "------------\n",
      "Gambelia copeii  -  Cope's Leopard Lizard ( rCLLIx )\n",
      "Not listed\n",
      "------------\n",
      "Picoides arcticus  -  Black-backed Woodpecker ( bBBWOx )\n",
      "Not listed\n",
      "------------\n",
      "Selasphorus platycercus  -  Broad-tailed Hummingbird ( bBTAHx )\n",
      "Not listed\n",
      "------------\n",
      "Eptesicus fuscus  -  Big Brown Bat ( mBBBAx )\n",
      "Not listed\n",
      "------------\n",
      "Glaucidium gnoma  -  Northern Pygmy-owl ( bNOPOx )\n",
      "Not listed\n",
      "------------\n",
      "Aneides vagrans  -  Wandering Salamander ( aWASAx )\n",
      "Not listed\n",
      "------------\n",
      "Storeria victa  -  Florida Brownsnake ( rFLBRx )\n",
      "Not listed\n",
      "------------\n",
      "Sitta pygmaea  -  Pygmy Nuthatch ( bPYNUx )\n",
      "Not listed\n",
      "------------\n",
      "Anniella pulchra  -  California Legless Lizard ( rCLIZx )\n",
      "Not listed\n",
      "------------\n",
      "Batrachoseps attenuatus  -  California Slender Salamander ( aCSLSx )\n",
      "Not listed\n",
      "------------\n",
      "Lagopus leucurus  -  White-Tailed Ptarmigan ( bWTPTx )\n",
      "Not listed\n",
      "------------\n",
      "Lithobates sphenocephalus  -  Southern Leopard Frog ( aSLFRx )\n",
      "Not listed\n",
      "------------\n",
      "Geomys attwateri  -  Attwater's Pocket Gopher ( mAPGOx )\n",
      "Not listed\n",
      "------------\n",
      "Sciurus niger  -  Eastern Fox Squirrel ( mEFSQx )\n",
      "Not listed\n",
      "------------\n",
      "Vireo flavoviridis  -  Yellow-green Vireo ( bYGVIx )\n",
      "Not listed\n",
      "------------\n",
      "Chaetodipus nelsoni  -  Nelson's Pocket Mouse ( mNPMOx )\n",
      "Not listed\n",
      "------------\n",
      "Salpinctes obsoletus  -  Rock Wren ( bROWRx )\n",
      "Not listed\n",
      "------------\n",
      "Phalacrocorax auritus  -  Double-crested Cormorant ( bDCCOx )\n",
      "Not listed\n",
      "------------\n",
      "Sceloporus variabilis  -  Rose-bellied Lizard ( rRBLIx )\n",
      "Not listed\n",
      "------------\n",
      "Myotis californicus  -  California Myotis ( mCAMYx )\n",
      "Not listed\n",
      "------------\n",
      "Limnodromus griseus  -  Short-billed Dowitcher ( bSBDOx )\n",
      "Date Cached:  2017-07-26T15:50:11.180725\n"
     ]
    },
    {
     "data": {
      "text/plain": [
       "[{'POP_ABBREV': 'Wherever found',\n",
       "  'POP_DESC': 'Wherever found',\n",
       "  'STATUS': 'Species of Concern'}]"
      ]
     },
     "metadata": {},
     "output_type": "display_data"
    },
    {
     "name": "stdout",
     "output_type": "stream",
     "text": [
      "------------\n",
      "Pseudotriton montanus  -  Mud Salamander ( aMUSAx )\n",
      "Not listed\n",
      "------------\n",
      "Charina bottae  -  Northern Rubber Boa ( rNRBOx )\n",
      "Not listed\n",
      "------------\n",
      "Catharus ustulatus  -  Swainson's Thrush ( bSWTHx )\n",
      "Not listed\n",
      "------------\n",
      "Sorex palustris  -  American Water Shrew ( mAWSHx )\n",
      "Not listed\n",
      "------------\n",
      "Artibeus jamaicensis  -  Jamaican Fruit-eating Bat ( mJFEBx )\n",
      "Not listed\n",
      "------------\n",
      "Meleagris gallopavo merriami  -  Merriam's Turkey ( bWITUm )\n",
      "Not listed\n",
      "------------\n",
      "Chaetodipus eremicus  -  Chihuahuan Pocket Mouse ( mCHPMx )\n",
      "Not listed\n",
      "------------\n",
      "Phenacomys intermedius  -  Western Heather Vole ( mWHVOx )\n",
      "Not listed\n",
      "------------\n",
      "Junco hyemalis  -  Dark-eyed Junco ( bDEJUx )\n",
      "Not listed\n",
      "------------\n",
      "Geomys breviceps  -  Baird's Pocket Gopher ( mBPGOx )\n",
      "Not listed\n",
      "------------\n",
      "Sylvilagus floridanus  -  Eastern Cottontail ( mEACOx )\n",
      "Not listed\n",
      "------------\n",
      "Microtus oregoni  -  Creeping Vole ( mCRVOx )\n",
      "Not listed\n",
      "------------\n",
      "Drymarchon melanurus  -  Central American Indigo Snake ( rCAISx )\n",
      "Not listed\n",
      "------------\n",
      "Graptemys barbouri  -  Barbour's Map Turtle ( rBMTUx )\n",
      "Date Cached:  2017-07-26T15:52:24.104367\n"
     ]
    },
    {
     "data": {
      "text/plain": [
       "[{'POP_ABBREV': 'Wherever found',\n",
       "  'POP_DESC': 'Wherever found',\n",
       "  'STATUS': 'Under Review in the Candidate or Petition Process'}]"
      ]
     },
     "metadata": {},
     "output_type": "display_data"
    },
    {
     "name": "stdout",
     "output_type": "stream",
     "text": [
      "------------\n",
      "Aspidoscelis gularis  -  Common Spotted Whiptail ( rCSPWx )\n",
      "Not listed\n",
      "------------\n",
      "Nerodia rhombifer  -  Diamond-backed Watersnake ( rDBWAx )\n",
      "Not listed\n",
      "------------\n",
      "Bubo virginianus  -  Great Horned Owl ( bGHOWx )\n",
      "Not listed\n",
      "------------\n",
      "Tantilla relicta  -  Florida Crowned Snake ( rFCSNx )\n",
      "Not listed\n",
      "------------\n",
      "Sceloporus slevini  -  Slevin's Bunchgrass Lizard ( rSBLIx )\n",
      "Not listed\n",
      "------------\n",
      "Batrachoseps gregarius  -  Gregarious Salamander ( aGGSAx )\n",
      "Not listed\n",
      "------------\n",
      "Plethodon larselli  -  Larch Mountain Salamander ( aLMSAx )\n",
      "Date Cached:  2017-07-26T15:53:17.038032\n"
     ]
    },
    {
     "data": {
      "text/plain": [
       "[{'POP_ABBREV': 'Wherever found',\n",
       "  'POP_DESC': 'Wherever found',\n",
       "  'STATUS': 'Resolved Taxon'}]"
      ]
     },
     "metadata": {},
     "output_type": "display_data"
    },
    {
     "name": "stdout",
     "output_type": "stream",
     "text": [
      "------------\n",
      "Perognathus fasciatus  -  Olive-backed Pocket Mouse ( mOBPMx )\n",
      "Not listed\n",
      "------------\n",
      "Leucophaeus pipixcan  -  Franklin's Gull ( bFRGUx )\n",
      "Not listed\n",
      "------------\n",
      "Cryptobranchus alleganiensis  -  Hellbender ( aHELLx )\n",
      "Date Cached:  2017-07-26T15:53:27.118985\n"
     ]
    },
    {
     "data": {
      "text/plain": [
       "[{'POP_ABBREV': 'Wherever found',\n",
       "  'POP_DESC': 'Wherever found',\n",
       "  'STATUS': 'Under Review in the Candidate or Petition Process'}]"
      ]
     },
     "metadata": {},
     "output_type": "display_data"
    },
    {
     "name": "stdout",
     "output_type": "stream",
     "text": [
      "------------\n",
      "Xantusia gracilis  -  Sandstone Night Lizard ( rSANLx )\n",
      "Date Cached:  2017-07-26T15:53:30.957605\n"
     ]
    },
    {
     "data": {
      "text/plain": [
       "[{'POP_ABBREV': 'Wherever found',\n",
       "  'POP_DESC': 'Wherever found',\n",
       "  'STATUS': 'Resolved Taxon'}]"
      ]
     },
     "metadata": {},
     "output_type": "display_data"
    },
    {
     "name": "stdout",
     "output_type": "stream",
     "text": [
      "------------\n",
      "Poecile carolinensis  -  Carolina Chickadee ( bCACHx )\n",
      "Not listed\n",
      "------------\n",
      "Sphyrapicus thyroideus  -  Williamson's Sapsucker ( bWISAx )\n",
      "Date Cached:  2017-07-26T15:53:33.231995\n"
     ]
    },
    {
     "data": {
      "text/plain": [
       "[{'POP_ABBREV': 'Wherever found',\n",
       "  'POP_DESC': 'Wherever found',\n",
       "  'STATUS': 'Species of Concern'}]"
      ]
     },
     "metadata": {},
     "output_type": "display_data"
    },
    {
     "name": "stdout",
     "output_type": "stream",
     "text": [
      "------------\n",
      "Coccothraustes vespertinus  -  Evening Grosbeak ( bEVGRx )\n",
      "Not listed\n",
      "------------\n",
      "Aechmophorus clarkii  -  Clark's Grebe ( bCLGRx )\n",
      "Not listed\n",
      "------------\n",
      "Anaxyrus quercicus  -  Oak Toad ( aOATOx )\n",
      "Not listed\n",
      "------------\n",
      "Arenaria interpres  -  Ruddy Turnstone ( bRUTUx )\n",
      "Not listed\n",
      "------------\n",
      "Chordeiles gundlachii  -  Antillean Nighthawk ( bANNIx )\n",
      "Not listed\n",
      "------------\n",
      "Lemmiscus curtatus  -  Sagebrush Vole ( mSAVOx )\n",
      "Not listed\n",
      "------------\n",
      "Amazilia violiceps  -  Violet-crowned Hummingbird ( bVCHUx )\n",
      "Not listed\n",
      "------------\n",
      "Tringa flavipes  -  Lesser Yellowlegs ( bLEYEx )\n",
      "Date Cached:  2017-07-26T15:53:54.607298\n"
     ]
    },
    {
     "data": {
      "text/plain": [
       "[{'POP_ABBREV': 'Wherever found',\n",
       "  'POP_DESC': 'Wherever found',\n",
       "  'STATUS': 'Species of Concern'}]"
      ]
     },
     "metadata": {},
     "output_type": "display_data"
    },
    {
     "name": "stdout",
     "output_type": "stream",
     "text": [
      "------------\n",
      "Aspidoscelis hyperythra  -  Orange-throated Whiptail ( rORWHx )\n",
      "Not listed\n",
      "------------\n",
      "Holbrookia elegans  -  Elegant Earless Lizard ( rEELIx )\n",
      "Not listed\n",
      "------------\n",
      "Desmognathus apalachicolae  -  Apalachicola Dusky Salamander ( aADSAx )\n",
      "Not listed\n",
      "------------\n",
      "Elgaria coerulea  -  Northern Alligator Lizard ( rNALIx )\n",
      "Not listed\n",
      "------------\n",
      "Eurycea quadridigitata  -  Dwarf Salamander ( aDWSAx )\n",
      "Not listed\n",
      "------------\n",
      "Eretmochelys imbricata  -  Hawksbill Sea Turtle ( rHSTUx )\n",
      "Date Cached:  2017-07-26T15:54:11.556186\n"
     ]
    },
    {
     "data": {
      "text/plain": [
       "[{'LISTING_DATE': '1970-06-02',\n",
       "  'POP_ABBREV': 'Wherever found',\n",
       "  'POP_DESC': 'Wherever found',\n",
       "  'STATUS': 'Endangered'}]"
      ]
     },
     "metadata": {},
     "output_type": "display_data"
    },
    {
     "name": "stdout",
     "output_type": "stream",
     "text": [
      "------------\n",
      "Falco columbarius  -  Merlin ( bMERLx )\n",
      "Not listed\n",
      "------------\n",
      "Accipiter gentilis  -  Northern Goshawk ( bNOGOx )\n",
      "Date Cached:  2017-07-26T15:54:15.747923\n"
     ]
    },
    {
     "data": {
      "text/plain": [
       "[{'POP_ABBREV': 'Wherever found',\n",
       "  'POP_DESC': 'Wherever found',\n",
       "  'STATUS': 'Resolved Taxon'}]"
      ]
     },
     "metadata": {},
     "output_type": "display_data"
    },
    {
     "name": "stdout",
     "output_type": "stream",
     "text": [
      "------------\n",
      "Poecile gambeli  -  Mountain Chickadee ( bMOCHx )\n",
      "Not listed\n",
      "------------\n",
      "Zonotrichia querula  -  Harris's Sparrow ( bHASPx )\n",
      "Not listed\n",
      "------------\n",
      "Pelecanus occidentalis  -  Brown Pelican ( bBRPEx )\n",
      "Date Cached:  2017-07-26T15:54:20.825890\n"
     ]
    },
    {
     "data": {
      "text/plain": [
       "[{'LISTING_DATE': '1970-06-02',\n",
       "  'POP_ABBREV': 'U.S. Atlantic coast, FL, AL',\n",
       "  'POP_DESC': 'U.S. Atlantic coast, FL, AL',\n",
       "  'STATUS': 'Recovery'},\n",
       " {'LISTING_DATE': '1970-06-02',\n",
       "  'POP_ABBREV': 'except U.S. Atlantic coast, FL, AL',\n",
       "  'POP_DESC': 'Wherever found, except U.S. Atlantic coast, FL, AL',\n",
       "  'STATUS': 'Recovery'}]"
      ]
     },
     "metadata": {},
     "output_type": "display_data"
    },
    {
     "name": "stdout",
     "output_type": "stream",
     "text": [
      "------------\n",
      "Phrynosoma blainvillii  -  Blainville's Horned Lizard ( rBHLIx )\n",
      "Not listed\n",
      "------------\n",
      "Dipodomys compactus  -  Gulf Coast Kangaroo Rat ( mGCKRx )\n",
      "Not listed\n",
      "------------\n",
      "Peromyscus gossypinus  -  Cotton Deermouse ( mCODEx )\n",
      "Not listed\n",
      "------------\n",
      "Euphagus cyanocephalus  -  Brewer's Blackbird ( bBRBLx )\n",
      "Not listed\n",
      "------------\n",
      "Calidris maritima  -  Purple Sandpiper ( bPUSAx )\n",
      "Not listed\n",
      "------------\n",
      "Aspidoscelis neotesselata  -  Colorado Checkered Whiptail ( rCCHWx )\n",
      "Not listed\n",
      "------------\n",
      "Dendroica nigrescens  -  Black-throated Gray Warbler ( bBTYWx )\n",
      "Not listed\n",
      "------------\n",
      "Anaxyrus retiformis  -  Sonoran Green Toad ( aSGTOx )\n",
      "Not listed\n",
      "------------\n",
      "Peromyscus gratus  -  Saxicoline Deermouse ( mSADEx )\n",
      "Not listed\n",
      "------------\n",
      "Urocyon cinereoargenteus  -  Gray Fox ( mGRFOx )\n",
      "Not listed\n",
      "------------\n",
      "Pantherophis obsoletus  -  Texas Ratsnake ( rTERAx )\n",
      "Not listed\n",
      "------------\n",
      "Pantherophis vulpina  -  Western Foxsnake ( rWEFOx )\n",
      "Not listed\n",
      "------------\n",
      "Canis latrans  -  Coyote ( mCOYOx )\n",
      "Not listed\n",
      "------------\n",
      "Lithobates virgatipes  -  Carpenter Frog ( aCRFRx )\n",
      "Not listed\n",
      "------------\n",
      "Peromyscus leucopus  -  White-footed Deermouse ( mWFDEx )\n",
      "Not listed\n",
      "------------\n",
      "Graptemys pseudogeographica  -  False Map Turtle ( rFMTUx )\n",
      "Date Cached:  2017-07-26T15:54:47.921909\n"
     ]
    },
    {
     "data": {
      "text/plain": [
       "[{'POP_ABBREV': 'Wherever found',\n",
       "  'POP_DESC': 'Wherever found',\n",
       "  'STATUS': 'Species of Concern'}]"
      ]
     },
     "metadata": {},
     "output_type": "display_data"
    },
    {
     "name": "stdout",
     "output_type": "stream",
     "text": [
      "------------\n",
      "Sceloporus merriami  -  Canyon Lizard ( rCALIx )\n",
      "Not listed\n",
      "------------\n",
      "Coluber flagellum  -  Coachwhip ( rCOACx )\n",
      "Not listed\n",
      "------------\n",
      "Thamnophis marcianus  -  Checkered Gartersnake ( rCHGAx )\n",
      "Not listed\n",
      "------------\n",
      "Kinosternon arizonense  -  Arizona Mud Turtle ( rAZTUx )\n",
      "Not listed\n",
      "------------\n",
      "Eurycea nana  -  San Marcos Salamander ( aSMSAx )\n",
      "Date Cached:  2017-07-26T15:54:53.090776\n"
     ]
    },
    {
     "data": {
      "text/plain": [
       "[{'LISTING_DATE': '1980-07-14',\n",
       "  'POP_ABBREV': 'Wherever found',\n",
       "  'POP_DESC': 'Wherever found',\n",
       "  'STATUS': 'Threatened'}]"
      ]
     },
     "metadata": {},
     "output_type": "display_data"
    },
    {
     "name": "stdout",
     "output_type": "stream",
     "text": [
      "------------\n",
      "Haematopus palliatus  -  American Oystercatcher ( bAMOYx )\n",
      "Date Cached:  2017-07-26T15:54:54.071781\n"
     ]
    },
    {
     "data": {
      "text/plain": [
       "[{'POP_ABBREV': 'Wherever found',\n",
       "  'POP_DESC': 'Wherever found',\n",
       "  'STATUS': 'Species of Concern'}]"
      ]
     },
     "metadata": {},
     "output_type": "display_data"
    },
    {
     "name": "stdout",
     "output_type": "stream",
     "text": [
      "------------\n",
      "Plethodon shenandoah  -  Shenandoah Salamander ( aSDSAx )\n",
      "Date Cached:  2017-07-26T15:54:54.998771\n"
     ]
    },
    {
     "data": {
      "text/plain": [
       "[{'LISTING_DATE': '1989-08-18',\n",
       "  'POP_ABBREV': 'Wherever found',\n",
       "  'POP_DESC': 'Wherever found',\n",
       "  'STATUS': 'Endangered'}]"
      ]
     },
     "metadata": {},
     "output_type": "display_data"
    },
    {
     "name": "stdout",
     "output_type": "stream",
     "text": [
      "------------\n",
      "Xantusia sierrae  -  Sierra Night Lizard ( rSINLx )\n",
      "Not listed\n",
      "------------\n",
      "Plethodon virginia  -  Shenandoah Mountain Salamander ( aSHMSx )\n",
      "Not listed\n",
      "------------\n",
      "Lithobates yavapaiensis  -  Lowland Leopard Frog ( aLLFRx )\n",
      "Not listed\n",
      "------------\n",
      "Ambystoma texanum  -  Small-mouthed Salamander ( aSMMSx )\n",
      "Not listed\n",
      "------------\n",
      "Chaetodipus hispidus  -  Hispid Pocket Mouse ( mHPMOx )\n",
      "Not listed\n",
      "------------\n",
      "Sorex monticolus  -  Dusky Shrew ( mDUSHx )\n",
      "Not listed\n",
      "------------\n",
      "Coniophanes imperialis  -  Regal Black-striped Snake ( rRBSSx )\n",
      "Not listed\n",
      "------------\n",
      "Gopherus polyphemus  -  Gopher Tortoise ( rGOTOx )\n",
      "Date Cached:  2017-07-26T15:55:08.397336\n"
     ]
    },
    {
     "data": {
      "text/plain": [
       "[{'POP_ABBREV': 'eastern', 'POP_DESC': 'eastern', 'STATUS': 'Candidate'},\n",
       " {'POP_ABBREV': 'Florida',\n",
       "  'POP_DESC': 'U.S.A. (Florida)',\n",
       "  'STATUS': 'Resolved Taxon'},\n",
       " {'LISTING_DATE': '1987-07-07',\n",
       "  'POP_ABBREV': 'West of Mobile and Tombigbee Rivers',\n",
       "  'POP_DESC': 'Wherever found west of Mobile and Tombigbee Rivers in AL, MS, and LA',\n",
       "  'STATUS': 'Threatened'}]"
      ]
     },
     "metadata": {},
     "output_type": "display_data"
    },
    {
     "name": "stdout",
     "output_type": "stream",
     "text": [
      "------------\n",
      "Sylvilagus bachmani  -  Brush Rabbit ( mBRRAx )\n",
      "Date Cached:  2017-07-26T15:55:09.426163\n"
     ]
    },
    {
     "data": {
      "text/plain": [
       "[{'POP_ABBREV': 'Wherever found',\n",
       "  'POP_DESC': 'Wherever found',\n",
       "  'STATUS': 'Species of Concern'}]"
      ]
     },
     "metadata": {},
     "output_type": "display_data"
    },
    {
     "name": "stdout",
     "output_type": "stream",
     "text": [
      "------------\n",
      "Rana luteiventris  -  Columbia Spotted Frog ( aCOFRx )\n",
      "Date Cached:  2017-07-26T15:55:10.394763\n"
     ]
    },
    {
     "data": {
      "text/plain": [
       "[{'POP_ABBREV': 'main pop.',\n",
       "  'POP_DESC': 'main pop.',\n",
       "  'STATUS': 'Resolved Taxon'},\n",
       " {'POP_ABBREV': 'Great Basin DPS',\n",
       "  'POP_DESC': 'Great Basin DPS',\n",
       "  'STATUS': 'Resolved Taxon'}]"
      ]
     },
     "metadata": {},
     "output_type": "display_data"
    },
    {
     "name": "stdout",
     "output_type": "stream",
     "text": [
      "------------\n",
      "Tamias canipes  -  Gray-footed Chipmunk ( mGFCHx )\n",
      "Date Cached:  2017-07-26T15:55:11.396906\n"
     ]
    },
    {
     "data": {
      "text/plain": [
       "[{'POP_ABBREV': 'Wherever found',\n",
       "  'POP_DESC': 'Wherever found',\n",
       "  'STATUS': 'Species of Concern'}]"
      ]
     },
     "metadata": {},
     "output_type": "display_data"
    },
    {
     "name": "stdout",
     "output_type": "stream",
     "text": [
      "------------\n",
      "Odocoileus virginianus leucurus  -  Columbian White-tailed Deer ( mWTDEl )\n",
      "Date Cached:  2017-07-26T15:55:12.355091\n"
     ]
    },
    {
     "data": {
      "text/plain": [
       "[{'LISTING_DATE': '1967-03-11',\n",
       "  'POP_ABBREV': 'Columbia River DPS',\n",
       "  'POP_DESC': 'Columbia River (Clark, Cowliz, Pacific, Skamania, and Wahkiakum Counties, WA., and Clatsop, Columbia, and Multnomah Counties, OR.)',\n",
       "  'STATUS': 'Threatened'},\n",
       " {'LISTING_DATE': '1967-03-11',\n",
       "  'POP_ABBREV': 'Douglas County DPS',\n",
       "  'POP_DESC': 'Douglas County, Oregon',\n",
       "  'STATUS': 'Recovery'}]"
      ]
     },
     "metadata": {},
     "output_type": "display_data"
    },
    {
     "name": "stdout",
     "output_type": "stream",
     "text": [
      "------------\n",
      "Cardinalis sinuatus  -  Pyrrhuloxia ( bPYRRx )\n",
      "Not listed\n",
      "------------\n",
      "Phalacrocorax pelagicus  -  Pelagic Cormorant ( bPECOx )\n",
      "Not listed\n",
      "------------\n",
      "Vireo philadelphicus  -  Philadelphia Vireo ( bPHVIx )\n",
      "Not listed\n",
      "------------\n",
      "Pinicola enucleator  -  Pine Grosbeak ( bPIGRx )\n",
      "Not listed\n",
      "------------\n",
      "Rhyacotriton cascadae  -  Cascade Torrent Salamander ( aCTRSx )\n",
      "Date Cached:  2017-07-26T15:55:17.337301\n"
     ]
    },
    {
     "data": {
      "text/plain": [
       "[{'POP_ABBREV': 'Wherever found',\n",
       "  'POP_DESC': 'Wherever found',\n",
       "  'STATUS': 'Under Review in the Candidate or Petition Process'}]"
      ]
     },
     "metadata": {},
     "output_type": "display_data"
    },
    {
     "name": "stdout",
     "output_type": "stream",
     "text": [
      "------------\n",
      "Microtus montanus nevadensis  -  Ash Meadows Montane Vole ( mMOVOn )\n",
      "Date Cached:  2017-07-26T15:55:19.219737\n"
     ]
    },
    {
     "data": {
      "text/plain": [
       "[{'POP_ABBREV': 'Wherever found',\n",
       "  'POP_DESC': 'Wherever found',\n",
       "  'STATUS': 'Species of Concern'}]"
      ]
     },
     "metadata": {},
     "output_type": "display_data"
    },
    {
     "name": "stdout",
     "output_type": "stream",
     "text": [
      "------------\n",
      "Tyrannus dominicensis  -  Gray Kingbird ( bGRAKx )\n",
      "Not listed\n",
      "------------\n",
      "Baeolophus ridgwayi  -  Juniper Titmouse ( bJUTIx )\n",
      "Not listed\n",
      "------------\n",
      "Aratinga mitrata  -  Mitred Parakeet ( bMIPAx )\n",
      "Not listed\n",
      "------------\n",
      "Macrotus californicus  -  Californian Leaf-nosed Bat ( mCLEBx )\n",
      "Date Cached:  2017-07-26T15:55:27.173061\n"
     ]
    },
    {
     "data": {
      "text/plain": [
       "[{'POP_ABBREV': 'Wherever found',\n",
       "  'POP_DESC': 'Wherever found',\n",
       "  'STATUS': 'Species of Concern'}]"
      ]
     },
     "metadata": {},
     "output_type": "display_data"
    },
    {
     "name": "stdout",
     "output_type": "stream",
     "text": [
      "------------\n",
      "Thomomys talpoides  -  Northern Pocket Gopher ( mNPGOx )\n",
      "Not listed\n",
      "------------\n",
      "Poecile rufescens  -  Chestnut-backed Chickadee ( bCBCHx )\n",
      "Not listed\n",
      "------------\n",
      "Empidonax flaviventris  -  Yellow-bellied Flycatcher ( bYBFLx )\n",
      "Not listed\n",
      "------------\n",
      "Pseudacris hypochondriaca  -  Baja California Treefrog ( aBCTRx )\n",
      "Not listed\n",
      "------------\n",
      "Didelphis virginiana  -  Virginia Opossum ( mVIOPx )\n",
      "Not listed\n",
      "------------\n",
      "Petrosaurus mearnsi  -  Banded Rock Lizard ( rBRLIx )\n",
      "Not listed\n",
      "------------\n",
      "Oxybelis aeneus  -  Brown Vinesnake ( rBRVIx )\n",
      "Not listed\n",
      "------------\n",
      "Trimorphodon vilkinsonii  -  Texas Lyresnake ( rTXLYx )\n",
      "Not listed\n",
      "------------\n",
      "Coleonyx variegatus  -  Western Banded Gecko ( rWBGEx )\n",
      "Not listed\n",
      "------------\n",
      "Ambystoma annulatum  -  Ringed Salamander ( aRISAx )\n",
      "Not listed\n",
      "------------\n",
      "Crotalus pricei  -  Twin-spotted Rattlesnake ( rTSRAx )\n",
      "Not listed\n",
      "------------\n",
      "Hyla cinerea  -  Green Treefrog ( aGRTRx )\n",
      "Not listed\n",
      "------------\n",
      "Chelydra serpentina  -  Snapping Turtle ( rSNTUx )\n",
      "Not listed\n",
      "------------\n",
      "Parula pitiayumi  -  Tropical Parula ( bTRPAx )\n",
      "Not listed\n",
      "------------\n",
      "Vireo altiloquus  -  Black-whiskered Vireo ( bBWVIx )\n",
      "Not listed\n",
      "------------\n",
      "Spermophilus brunneus  -  Idaho Ground Squirrel ( mIGSQx )\n",
      "Not listed\n",
      "------------\n",
      "Amphiuma tridactylum  -  Three-toed Amphiuma ( aTHAMx )\n",
      "Not listed\n",
      "------------\n",
      "Crotalus tigris  -  Tiger Rattlesnake ( rTRATx )\n",
      "Not listed\n",
      "------------\n",
      "Hemidactylus mabouia  -  Wood Slave ( rWOSLx )\n",
      "Not listed\n",
      "------------\n",
      "Sigmodon arizonae plenus  -  Arizona Cotton Rat (S. a. plenus) ( mACRAp )\n",
      "Date Cached:  2017-07-26T15:55:54.744986\n"
     ]
    },
    {
     "data": {
      "text/plain": [
       "[{'POP_ABBREV': 'Wherever found',\n",
       "  'POP_DESC': 'Wherever found',\n",
       "  'STATUS': 'Species of Concern'}]"
      ]
     },
     "metadata": {},
     "output_type": "display_data"
    },
    {
     "name": "stdout",
     "output_type": "stream",
     "text": [
      "------------\n",
      "Pituophis catenifer  -  Gophersnake ( rGOPHx )\n",
      "Not listed\n",
      "------------\n",
      "Colaptes auratus  -  Northern Flicker ( bNOFLx )\n",
      "Not listed\n",
      "------------\n",
      "Podilymbus podiceps  -  Pied-billed Grebe ( bPBGRx )\n",
      "Not listed\n",
      "------------\n",
      "Onychomys arenicola  -  Chihuahuan Grasshopper Mouse ( mCGMOx )\n",
      "Not listed\n",
      "------------\n",
      "Tamias senex  -  Shadow Chipmunk ( mSHCHx )\n",
      "Not listed\n",
      "------------\n",
      "Dipodomys ingens  -  Giant Kangaroo Rat ( mGKRAx )\n",
      "Date Cached:  2017-07-26T15:56:03.469388\n"
     ]
    },
    {
     "data": {
      "text/plain": [
       "[{'LISTING_DATE': '1987-01-05',\n",
       "  'POP_ABBREV': 'Wherever found',\n",
       "  'POP_DESC': 'Wherever found',\n",
       "  'STATUS': 'Endangered'}]"
      ]
     },
     "metadata": {},
     "output_type": "display_data"
    },
    {
     "name": "stdout",
     "output_type": "stream",
     "text": [
      "------------\n",
      "Ammospermophilus harrisii  -  Harris' Antelope Squirrel ( mHASQx )\n",
      "Not listed\n",
      "------------\n",
      "Pipilo crissalis  -  California Towhee ( bCALTx )\n",
      "Not listed\n",
      "------------\n",
      "Puma yagouaroundi  -  Jaguarundi ( mJAGDx )\n",
      "Not listed\n",
      "------------\n",
      "Carduelis pinus  -  Pine Siskin ( bPISIx )\n",
      "Not listed\n",
      "------------\n",
      "Ammospermophilus nelsoni  -  Nelson's Antelope Squirrel ( mNASQx )\n",
      "Date Cached:  2017-07-26T15:56:10.184220\n"
     ]
    },
    {
     "data": {
      "text/plain": [
       "[{'POP_ABBREV': 'Wherever found',\n",
       "  'POP_DESC': 'Wherever found',\n",
       "  'STATUS': 'Species of Concern'}]"
      ]
     },
     "metadata": {},
     "output_type": "display_data"
    },
    {
     "name": "stdout",
     "output_type": "stream",
     "text": [
      "------------\n",
      "Geomys knoxjonesi  -  Knox Jones's Pocket Gopher ( mKJPGx )\n",
      "Not listed\n",
      "------------\n",
      "Necturus punctatus  -  Dwarf Waterdog ( aDWWAx )\n",
      "Not listed\n",
      "------------\n",
      "Erethizon dorsatum  -  North American Porcupine ( mNAPOx )\n",
      "Not listed\n",
      "------------\n",
      "Polioptila melanura  -  Black-tailed Gnatcatcher ( bBTGNx )\n",
      "Not listed\n",
      "------------\n",
      "Sialia currucoides  -  Mountain Bluebird ( bMOBLx )\n",
      "Not listed\n",
      "------------\n",
      "Myiopsitta monachus  -  Monk Parakeet ( bMOPAx )\n",
      "Not listed\n",
      "------------\n",
      "Asio otus  -  Long-eared Owl ( bLEOWx )\n",
      "Not listed\n",
      "------------\n",
      "Larus thayeri  -  Thayer's Gull ( bTHGUx )\n",
      "Not listed\n",
      "------------\n",
      "Anaxyrus californicus  -  Arroyo Toad ( aARTOx )\n",
      "Date Cached:  2017-07-26T15:56:28.294177\n"
     ]
    },
    {
     "data": {
      "text/plain": [
       "[{'LISTING_DATE': '1994-12-16',\n",
       "  'POP_ABBREV': 'Wherever found',\n",
       "  'POP_DESC': 'Wherever found',\n",
       "  'STATUS': 'Endangered'}]"
      ]
     },
     "metadata": {},
     "output_type": "display_data"
    },
    {
     "name": "stdout",
     "output_type": "stream",
     "text": [
      "------------\n",
      "Sorex merriami  -  Merriam's Shrew ( mMESHx )\n",
      "Not listed\n",
      "------------\n",
      "Reithrodontomys montanus  -  Plains Harvest Mouse ( mPHMOx )\n",
      "Not listed\n",
      "------------\n",
      "Thamnophis radix  -  Plains Gartersnake ( rPLGAx )\n",
      "Not listed\n",
      "------------\n",
      "Carphophis vermis  -  Western Wormsnake ( rWEWOx )\n",
      "Not listed\n",
      "------------\n",
      "Graptemys flavimaculata  -  Yellow-blotched Map Turtle ( rYBMTx )\n",
      "Date Cached:  2017-07-26T15:56:34.029328\n"
     ]
    },
    {
     "data": {
      "text/plain": [
       "[{'LISTING_DATE': '1991-01-14',\n",
       "  'POP_ABBREV': 'Wherever found',\n",
       "  'POP_DESC': 'Wherever found',\n",
       "  'STATUS': 'Threatened'}]"
      ]
     },
     "metadata": {},
     "output_type": "display_data"
    },
    {
     "name": "stdout",
     "output_type": "stream",
     "text": [
      "------------\n",
      "Odocoileus hemionus  -  Mule Deer ( mMUDEx )\n",
      "Not listed\n",
      "------------\n",
      "Spermophilus brunneus endemicus  -  Southern Idaho Ground Squirrel ( mIGSQe )\n",
      "Not listed\n",
      "------------\n",
      "Ammospermophilus interpres  -  Texas Antelope Squirrel ( mTASQx )\n",
      "Not listed\n",
      "------------\n",
      "Brachyramphus marmoratus  -  Marbled Murrelet ( bMAMUx )\n",
      "Date Cached:  2017-07-26T15:56:40.107482\n"
     ]
    },
    {
     "data": {
      "text/plain": [
       "[{'LISTING_DATE': '1992-10-01',\n",
       "  'POP_ABBREV': 'U.S.A. (CA, OR, WA)',\n",
       "  'POP_DESC': 'U.S.A. (CA, OR, WA)',\n",
       "  'STATUS': 'Threatened'},\n",
       " {'POP_ABBREV': 'except CA, OR, WA',\n",
       "  'POP_DESC': 'Entire, except U.S.A. (CA, OR, WA)',\n",
       "  'STATUS': 'Species of Concern'}]"
      ]
     },
     "metadata": {},
     "output_type": "display_data"
    },
    {
     "name": "stdout",
     "output_type": "stream",
     "text": [
      "------------\n",
      "Rallus elegans  -  King Rail ( bKIRAx )\n",
      "Date Cached:  2017-07-26T15:56:41.042547\n"
     ]
    },
    {
     "data": {
      "text/plain": [
       "[{'POP_ABBREV': 'Wherever found',\n",
       "  'POP_DESC': 'Wherever found',\n",
       "  'STATUS': 'Species of Concern'}]"
      ]
     },
     "metadata": {},
     "output_type": "display_data"
    },
    {
     "name": "stdout",
     "output_type": "stream",
     "text": [
      "------------\n",
      "Eugenes fulgens  -  Magnificent Hummingbird ( bMAHUx )\n",
      "Not listed\n",
      "------------\n",
      "Sterna paradisaea  -  Arctic Tern ( bARTEx )\n",
      "Not listed\n",
      "------------\n",
      "Plethodon cheoah  -  Cheoah Bald Salamander ( aCHSAx )\n",
      "Date Cached:  2017-07-26T15:56:45.122904\n"
     ]
    },
    {
     "data": {
      "text/plain": [
       "[{'POP_ABBREV': 'Wherever found',\n",
       "  'POP_DESC': 'Wherever found',\n",
       "  'STATUS': 'Resolved Taxon'}]"
      ]
     },
     "metadata": {},
     "output_type": "display_data"
    },
    {
     "name": "stdout",
     "output_type": "stream",
     "text": [
      "------------\n",
      "Calidris minutilla  -  Least Sandpiper ( bLESAx )\n",
      "Not listed\n",
      "------------\n",
      "Lithobates pipiens  -  Northern Leopard Frog ( aNLFRx )\n",
      "Not listed\n",
      "------------\n",
      "ammadramus savannarum floridanus  -  Florida Grasshopper Sparrow ( bGRSPf )\n",
      "Not listed\n",
      "------------\n",
      "Spermophilus mollis  -  Piute Ground Squirrel ( mPGSQx )\n",
      "Not listed\n",
      "------------\n",
      "Hyla andersonii  -  Pine Barrens Treefrog ( aPBTRx )\n",
      "Date Cached:  2017-07-26T15:56:50.170217\n"
     ]
    },
    {
     "data": {
      "text/plain": [
       "[{'LISTING_DATE': '1977-12-18',\n",
       "  'POP_ABBREV': 'FL pop.',\n",
       "  'POP_DESC': 'Florida',\n",
       "  'STATUS': 'Original Data in Error - Erroneous Data'}]"
      ]
     },
     "metadata": {},
     "output_type": "display_data"
    },
    {
     "name": "stdout",
     "output_type": "stream",
     "text": [
      "------------\n",
      "Corvus caurinus  -  Northwestern Crow ( bNOCRx )\n",
      "Not listed\n",
      "------------\n",
      "Sciurus niger avicennia  -  Mangrove Fox Squirrel ( mEFSQa )\n",
      "Date Cached:  2017-07-26T15:56:53.138530\n"
     ]
    },
    {
     "data": {
      "text/plain": [
       "[{'POP_ABBREV': 'Wherever found',\n",
       "  'POP_DESC': 'Wherever found',\n",
       "  'STATUS': 'Resolved Taxon'}]"
      ]
     },
     "metadata": {},
     "output_type": "display_data"
    },
    {
     "name": "stdout",
     "output_type": "stream",
     "text": [
      "------------\n",
      "Passerella iliaca  -  Fox Sparrow ( bFOSPx )\n",
      "Not listed\n",
      "------------\n",
      "Sayornis phoebe  -  Eastern Phoebe ( bEAPHx )\n",
      "Not listed\n",
      "------------\n",
      "Eurycea sosorum  -  Barton Springs Salamander ( aBSPSx )\n",
      "Date Cached:  2017-07-26T15:56:57.106562\n"
     ]
    },
    {
     "data": {
      "text/plain": [
       "[{'LISTING_DATE': '1997-04-30',\n",
       "  'POP_ABBREV': 'Wherever found',\n",
       "  'POP_DESC': 'Wherever found',\n",
       "  'STATUS': 'Endangered'}]"
      ]
     },
     "metadata": {},
     "output_type": "display_data"
    },
    {
     "name": "stdout",
     "output_type": "stream",
     "text": [
      "------------\n",
      "Deirochelys reticularia  -  Chicken Turtle ( rCHTUx )\n",
      "Not listed\n",
      "------------\n",
      "Urocyon littoralis santarosae  -  Santa Rosa Island Fox ( mISFOr )\n",
      "Date Cached:  2017-07-26T15:57:09.774316\n"
     ]
    },
    {
     "data": {
      "text/plain": [
       "[{'LISTING_DATE': '2004-03-05',\n",
       "  'POP_ABBREV': 'wherever found',\n",
       "  'POP_DESC': 'wherever found',\n",
       "  'STATUS': 'Recovery'}]"
      ]
     },
     "metadata": {},
     "output_type": "display_data"
    },
    {
     "name": "stdout",
     "output_type": "stream",
     "text": [
      "------------\n",
      "Marmota caligata  -  Hoary Marmot ( mHOMAx )\n",
      "Not listed\n",
      "------------\n",
      "Sternotherus minor  -  Loggerhead Musk Turtle ( rLMTUx )\n",
      "Not listed\n",
      "------------\n",
      "Rattus rattus  -  Roof Rat ( mRORAx )\n",
      "Not listed\n",
      "------------\n",
      "Heterodon kennerlyi  -  Mexican Hog-nosed Snake ( rMHNSx )\n",
      "Not listed\n",
      "------------\n",
      "Aplodontia rufa pacifica  -  Mountain Beaver pacifica ( mSEWEa )\n",
      "Not listed\n",
      "------------\n",
      "Sorex ornatus  -  Ornate Shrew ( mORSHx )\n",
      "Not listed\n",
      "------------\n",
      "Egretta rufescens  -  Reddish Egret ( bREEGx )\n",
      "Date Cached:  2017-07-26T15:57:52.989638\n"
     ]
    },
    {
     "data": {
      "text/plain": [
       "[{'POP_ABBREV': 'Wherever found',\n",
       "  'POP_DESC': 'Wherever found',\n",
       "  'STATUS': 'Species of Concern'}]"
      ]
     },
     "metadata": {},
     "output_type": "display_data"
    },
    {
     "name": "stdout",
     "output_type": "stream",
     "text": [
      "------------\n",
      "Carduelis lawrencei  -  Lawrence's Goldfinch ( bLAGOx )\n",
      "Date Cached:  2017-07-26T15:57:58.030488\n"
     ]
    },
    {
     "data": {
      "text/plain": [
       "[{'POP_ABBREV': 'Wherever found',\n",
       "  'POP_DESC': 'Wherever found',\n",
       "  'STATUS': 'Species of Concern'}]"
      ]
     },
     "metadata": {},
     "output_type": "display_data"
    },
    {
     "name": "stdout",
     "output_type": "stream",
     "text": [
      "------------\n",
      "Plethodon punctatus  -  Cow Knob Salamander ( aCKSAx )\n",
      "Date Cached:  2017-07-26T15:58:01.761428\n"
     ]
    },
    {
     "data": {
      "text/plain": [
       "[{'POP_ABBREV': 'Wherever found',\n",
       "  'POP_DESC': 'Wherever found',\n",
       "  'STATUS': 'Resolved Taxon'}]"
      ]
     },
     "metadata": {},
     "output_type": "display_data"
    },
    {
     "name": "stdout",
     "output_type": "stream",
     "text": [
      "------------\n",
      "Tyto alba  -  Barn Owl ( bBANOx )\n",
      "Not listed\n",
      "------------\n",
      "Antrozous pallidus  -  Pallid Bat ( mPABAx )\n",
      "Not listed\n",
      "------------\n",
      "Perognathus flavescens  -  Plains Pocket Mouse ( mPPMOx )\n",
      "Not listed\n",
      "------------\n",
      "Spilogale putorius  -  Eastern Spotted Skunk ( mESSKx )\n",
      "Not listed\n",
      "------------\n",
      "Gyalopion quadrangulare  -  Thornscrub Hook-nosed Snake ( rTSSNx )\n",
      "Not listed\n",
      "------------\n",
      "Mirounga angustirostris  -  Northern Elephant Seal ( mNESEx )\n",
      "Not listed\n",
      "------------\n",
      "Icterus gularis  -  Altamira Oriole ( bALORx )\n",
      "Not listed\n",
      "------------\n",
      "Selasphorus sasin  -  Allen's Hummingbird ( bALHUx )\n",
      "Date Cached:  2017-07-26T15:59:15.143480\n"
     ]
    },
    {
     "data": {
      "text/plain": [
       "[{'POP_ABBREV': 'Wherever found',\n",
       "  'POP_DESC': 'Wherever found',\n",
       "  'STATUS': 'Species of Concern'}]"
      ]
     },
     "metadata": {},
     "output_type": "display_data"
    },
    {
     "name": "stdout",
     "output_type": "stream",
     "text": [
      "------------\n",
      "Sceloporus olivaceus  -  Texas Spiny Lizard ( rTSLIx )\n",
      "Not listed\n",
      "------------\n",
      "Desmognathus ocoee  -  Ocoee Salamander ( aOCSAx )\n",
      "Not listed\n",
      "------------\n",
      "Crotalus molossus  -  Black-tailed Rattlesnake ( rBTRAx )\n",
      "Not listed\n",
      "------------\n",
      "Coluber schotti  -  Schott's Whipsnake ( rSCWHx )\n",
      "Not listed\n",
      "------------\n",
      "Turdus migratorius  -  American Robin ( bAMROx )\n",
      "Not listed\n",
      "------------\n",
      "Dipodomys deserti  -  Desert Kangaroo Rat ( mDKRAx )\n",
      "Not listed\n",
      "------------\n",
      "Sceloporus poinsettii  -  Crevice Spiny Lizard ( rCRSLx )\n",
      "Not listed\n",
      "------------\n",
      "Plestiodon fasciatus  -  Common Five-lined Skink ( rCFLSx )\n",
      "Not listed\n",
      "------------\n",
      "Puma concolor coryi  -  Florida Panther ( mCOUGc )\n",
      "Not listed\n",
      "------------\n",
      "Setophaga ruticilla  -  American Redstart ( bAMREx )\n",
      "Not listed\n",
      "------------\n",
      "Sigmodon fulviventer  -  Tawny-bellied Cotton Rat ( mTBCRx )\n",
      "Not listed\n",
      "------------\n",
      "Zenaida macroura  -  Mourning Dove ( bMODOx )\n",
      "Not listed\n",
      "------------\n",
      "Larus argentatus  -  Herring Gull ( bHERGx )\n",
      "Not listed\n",
      "------------\n",
      "Vireo huttoni  -  Hutton's Vireo ( bHUVIx )\n",
      "Not listed\n",
      "------------\n",
      "Leptodactylus fragilis  -  Mexican White-lipped Frog ( aMWLFx )\n",
      "Not listed\n",
      "------------\n",
      "Gyrinophilus porphyriticus  -  Spring Salamander ( aSPRSx )\n",
      "Not listed\n",
      "------------\n",
      "Thamnophis eques  -  Mexican Gartersnake ( rMEGAx )\n",
      "Not listed\n",
      "------------\n",
      "Coluber constrictor  -  North American Racer ( rNARAx )\n",
      "Not listed\n",
      "------------\n",
      "Aneides lugubris  -  Arboreal Salamander ( aARSAx )\n",
      "Not listed\n",
      "------------\n",
      "Plestiodon reynoldsi  -  Florida Sand Skink ( rFSSKx )\n",
      "Not listed\n",
      "------------\n",
      "Desmognathus abditus  -  Cumberland Dusky Salamander ( aCUDSx )\n",
      "Date Cached:  2017-07-26T16:00:33.459793\n"
     ]
    },
    {
     "data": {
      "text/plain": [
       "[{'POP_ABBREV': 'Wherever found',\n",
       "  'POP_DESC': 'Wherever found',\n",
       "  'STATUS': 'Under Review in the Candidate or Petition Process'}]"
      ]
     },
     "metadata": {},
     "output_type": "display_data"
    },
    {
     "name": "stdout",
     "output_type": "stream",
     "text": [
      "------------\n",
      "Cygnus columbianus  -  Tundra Swan ( bWHSWx )\n",
      "Not listed\n",
      "------------\n",
      "Megascops trichopsis  -  Whiskered Screech-owl ( bWHSOx )\n",
      "Not listed\n",
      "------------\n",
      "Vireo plumbeus  -  Plumbeous Vireo ( bPLVIx )\n",
      "Not listed\n",
      "------------\n",
      "Cervus elaphus  -  Elk ( mELK1x )\n",
      "Not listed\n",
      "------------\n",
      "Corynorhinus townsendii pallescens  -  Pale Lumped-nosed Bat ( mTBEBp )\n",
      "Not listed\n",
      "------------\n",
      "Corynorhinus townsendii virginianus  -  Virginia Big-eared Bat ( mTBEBv )\n",
      "Not listed\n",
      "------------\n",
      "Arborimus albipes  -  White-footed Vole ( mWFVOx )\n",
      "Date Cached:  2017-07-26T16:00:49.208612\n"
     ]
    },
    {
     "data": {
      "text/plain": [
       "[{'POP_ABBREV': 'Wherever found',\n",
       "  'POP_DESC': 'Wherever found',\n",
       "  'STATUS': 'Species of Concern'}]"
      ]
     },
     "metadata": {},
     "output_type": "display_data"
    },
    {
     "name": "stdout",
     "output_type": "stream",
     "text": [
      "------------\n",
      "Vireo olivaceus  -  Red-eyed Vireo ( bREVIx )\n",
      "Not listed\n",
      "------------\n",
      "Vulpes velox  -  Swift Fox ( mSWFOx )\n",
      "Date Cached:  2017-07-26T16:00:57.610030\n"
     ]
    },
    {
     "data": {
      "text/plain": [
       "[{'POP_ABBREV': 'U.S. pop.',\n",
       "  'POP_DESC': 'U.S. pop.',\n",
       "  'STATUS': 'Resolved Taxon'}]"
      ]
     },
     "metadata": {},
     "output_type": "display_data"
    },
    {
     "name": "stdout",
     "output_type": "stream",
     "text": [
      "------------\n",
      "Plethodon ocmulgee  -  Ocmulgee Slimy Salamander ( aOCSSx )\n",
      "Not listed\n",
      "------------\n",
      "Lithobates okaloosae  -  Florida Bog Frog ( aFBFRx )\n",
      "Not listed\n",
      "------------\n",
      "Lithobates grylio  -  Pig Frog ( aPIGFx )\n",
      "Not listed\n",
      "------------\n",
      "Rhadinaea flavilata  -  Pine Woods Littersnake ( rPWLIx )\n",
      "Not listed\n",
      "------------\n",
      "Tamias minimus  -  Least Chipmunk ( mLECHx )\n",
      "Not listed\n",
      "------------\n",
      "Megascops kennicottii  -  Western Screech-owl ( bWESOx )\n",
      "Not listed\n",
      "------------\n",
      "Rhinella marinus  -  Cane Toad ( aCANEx )\n",
      "Not listed\n",
      "------------\n",
      "Sporophila torqueola  -  White-collared Seedeater ( bWCSEx )\n",
      "Not listed\n",
      "------------\n",
      "Icterus spurius  -  Orchard Oriole ( bORORx )\n",
      "Not listed\n",
      "------------\n",
      "Ascaphus montanus  -  Rocky Mountain Tailed Frog ( aROTFx )\n",
      "Not listed\n",
      "------------\n",
      "Dicamptodon copei  -  Cope's Giant Salamander ( aCGSAx )\n",
      "Not listed\n",
      "------------\n",
      "Xantusia bezyi  -  Bezy's Night Lizard ( rBNLIx )\n",
      "Date Cached:  2017-07-26T16:01:51.051050\n"
     ]
    },
    {
     "data": {
      "text/plain": [
       "[{'POP_ABBREV': 'Wherever found',\n",
       "  'POP_DESC': 'Wherever found',\n",
       "  'STATUS': 'Resolved Taxon'}]"
      ]
     },
     "metadata": {},
     "output_type": "display_data"
    },
    {
     "name": "stdout",
     "output_type": "stream",
     "text": [
      "------------\n",
      "Athene cunicularia floridana  -  Florida Burrowing Owl ( bBUOWf )\n",
      "Date Cached:  2017-07-26T16:02:00.537487\n"
     ]
    },
    {
     "data": {
      "text/plain": [
       "[{'POP_ABBREV': 'Wherever found',\n",
       "  'POP_DESC': 'Wherever found',\n",
       "  'STATUS': 'Species of Concern'}]"
      ]
     },
     "metadata": {},
     "output_type": "display_data"
    },
    {
     "name": "stdout",
     "output_type": "stream",
     "text": [
      "------------\n",
      "Apalone mutica mutica  -  Midland Smooth Softshell ( rSMSOm )\n",
      "Not listed\n",
      "------------\n",
      "Melanerpes formicivorus  -  Acorn Woodpecker ( bACWOx )\n",
      "Not listed\n",
      "------------\n",
      "Phyllorhynchus decurtatus  -  Spotted Leaf-nosed Snake ( rSPLSx )\n",
      "Not listed\n",
      "------------\n",
      "Lithobates clamitans  -  Green Frog ( aGRFRx )\n",
      "Not listed\n",
      "------------\n",
      "Anaxyrus punctatus  -  Red-spotted Toad ( aRSTOx )\n",
      "Not listed\n",
      "------------\n",
      "Batrachoseps relictus  -  Relictual Slender Salamander ( aRSSAx )\n",
      "Date Cached:  2017-07-26T16:02:16.798186\n"
     ]
    },
    {
     "data": {
      "text/plain": [
       "[{'POP_ABBREV': 'Wherever found',\n",
       "  'POP_DESC': 'Wherever found',\n",
       "  'STATUS': 'Under Review in the Candidate or Petition Process'}]"
      ]
     },
     "metadata": {},
     "output_type": "display_data"
    },
    {
     "name": "stdout",
     "output_type": "stream",
     "text": [
      "------------\n",
      "Dendroica castanea  -  Bay-breasted Warbler ( bBBWAx )\n",
      "Not listed\n",
      "------------\n",
      "Plethodon kiamichi  -  Kiamichi Slimy Salamander ( aKSSAx )\n",
      "Not listed\n",
      "------------\n",
      "Coluber bilineatus  -  Sonoran Whipsnake ( rSOWHx )\n",
      "Not listed\n",
      "------------\n",
      "Acris gryllus  -  Southern Cricket Frog ( aSCFRx )\n",
      "Not listed\n",
      "------------\n",
      "Dendroica pinus  -  Pine Warbler ( bPIWAx )\n",
      "Not listed\n",
      "------------\n",
      "Progne subis  -  Purple Martin ( bPUMAx )\n",
      "Not listed\n",
      "------------\n",
      "Xanthocephalus xanthocephalus  -  Yellow-headed Blackbird ( bYHBLx )\n",
      "Not listed\n",
      "------------\n",
      "Tamias alpinus  -  Alpine Chipmunk ( mALCHx )\n",
      "Not listed\n",
      "------------\n",
      "Martes americana  -  American Marten ( mAMMAx )\n",
      "Not listed\n",
      "------------\n",
      "Perognathus alticolus  -  White-eared Pocket Mouse ( mWEPMx )\n",
      "Not listed\n",
      "------------\n",
      "Zonotrichia albicollis  -  White-throated Sparrow ( bWTSPx )\n",
      "Not listed\n",
      "------------\n",
      "Myiarchus cinerascens  -  Ash-throated Flycatcher ( bATFLx )\n",
      "Not listed\n",
      "------------\n",
      "Catharus fuscescens  -  Veery ( bVEERx )\n",
      "Not listed\n",
      "------------\n",
      "Eurycea naufragia  -  Georgetown Salamander ( aGESAx )\n",
      "Date Cached:  2017-07-26T16:02:53.529279\n"
     ]
    },
    {
     "data": {
      "text/plain": [
       "[{'LISTING_DATE': '2014-03-26',\n",
       "  'POP_ABBREV': 'Wherever found',\n",
       "  'POP_DESC': 'Wherever found',\n",
       "  'STATUS': 'Threatened'}]"
      ]
     },
     "metadata": {},
     "output_type": "display_data"
    },
    {
     "name": "stdout",
     "output_type": "stream",
     "text": [
      "------------\n",
      "Mus musculus  -  House Mouse ( mHOMOx )\n",
      "Not listed\n",
      "------------\n",
      "Vermivora crissalis  -  Colima Warbler ( bCOLWx )\n",
      "Date Cached:  2017-07-26T16:03:03.591521\n"
     ]
    },
    {
     "data": {
      "text/plain": [
       "[{'POP_ABBREV': 'Wherever found',\n",
       "  'POP_DESC': 'Wherever found',\n",
       "  'STATUS': 'Resolved Taxon'}]"
      ]
     },
     "metadata": {},
     "output_type": "display_data"
    },
    {
     "name": "stdout",
     "output_type": "stream",
     "text": [
      "------------\n",
      "Chaetura vauxi  -  Vaux's Swift ( bVASWx )\n",
      "Date Cached:  2017-07-26T16:03:05.943965\n"
     ]
    },
    {
     "data": {
      "text/plain": [
       "[{'POP_ABBREV': 'Wherever found',\n",
       "  'POP_DESC': 'Wherever found',\n",
       "  'STATUS': 'Species of Concern'}]"
      ]
     },
     "metadata": {},
     "output_type": "display_data"
    },
    {
     "name": "stdout",
     "output_type": "stream",
     "text": [
      "------------\n",
      "Neotoma floridana  -  Eastern Woodrat ( mEAWOx )\n",
      "Not listed\n",
      "------------\n",
      "Geomys pinetis  -  Southeastern Pocket Gopher ( mSEGOx )\n",
      "Not listed\n",
      "------------\n",
      "Dendroica fusca  -  Blackburnian Warbler ( bBLBWx )\n",
      "Not listed\n",
      "------------\n",
      "Tamiasciurus hudsonicus grahamensis  -  Mt. Graham Red Squirrel ( mRESQg )\n",
      "Date Cached:  2017-07-26T16:03:40.787177\n"
     ]
    },
    {
     "data": {
      "text/plain": [
       "[{'LISTING_DATE': '1987-06-03',\n",
       "  'POP_ABBREV': 'Wherever found',\n",
       "  'POP_DESC': 'Wherever found',\n",
       "  'STATUS': 'Endangered'}]"
      ]
     },
     "metadata": {},
     "output_type": "display_data"
    },
    {
     "name": "stdout",
     "output_type": "stream",
     "text": [
      "------------\n",
      "Peromyscus pectoralis  -  White-ankled Deermouse ( mWADEx )\n",
      "Not listed\n",
      "------------\n",
      "Glaucomys sabrinus californicus  -  San Bernardino Flying Squirrel ( mNFSQa )\n",
      "Date Cached:  2017-07-26T16:03:58.616729\n"
     ]
    },
    {
     "data": {
      "text/plain": [
       "[{'POP_ABBREV': 'Wherever found',\n",
       "  'POP_DESC': 'Wherever found',\n",
       "  'STATUS': 'Resolved Taxon'}]"
      ]
     },
     "metadata": {},
     "output_type": "display_data"
    },
    {
     "name": "stdout",
     "output_type": "stream",
     "text": [
      "------------\n",
      "Batrachoseps wrightorum  -  Oregon Slender Salamander ( aOSSAx )\n",
      "Not listed\n",
      "------------\n",
      "Tantilla wilcoxi  -  Chihuahuan Black-headed Snake ( rCBHSx )\n",
      "Not listed\n",
      "------------\n",
      "Smilisca fodiens  -  Lowland Burrowing Treefrog ( aLBTRx )\n",
      "Not listed\n",
      "------------\n",
      "Dipodomys spectabilis  -  Banner-tailed Kangaroo Rat ( mBTKRx )\n",
      "Not listed\n",
      "------------\n",
      "Ammodramus bairdii  -  Baird's Sparrow ( bBAISx )\n",
      "Date Cached:  2017-07-26T16:04:29.190149\n"
     ]
    },
    {
     "data": {
      "text/plain": [
       "[{'POP_ABBREV': 'Wherever found',\n",
       "  'POP_DESC': 'Wherever found',\n",
       "  'STATUS': 'Resolved Taxon'}]"
      ]
     },
     "metadata": {},
     "output_type": "display_data"
    },
    {
     "name": "stdout",
     "output_type": "stream",
     "text": [
      "------------\n",
      "Aimophila quinquestriata  -  Five-striped Sparrow ( bFSSPx )\n",
      "Not listed\n",
      "------------\n",
      "Clemmys guttata  -  Spotted Turtle ( rSPTUx )\n",
      "Not listed\n",
      "------------\n",
      "Thomomys townsendii  -  Townsend's Pocket Gopher ( mTPGOx )\n",
      "Not listed\n",
      "------------\n",
      "Necturus lewisi  -  Neuse River Waterdog ( aNRWAx )\n",
      "Date Cached:  2017-07-26T16:05:44.571007\n"
     ]
    },
    {
     "data": {
      "text/plain": [
       "[{'POP_ABBREV': 'Wherever found',\n",
       "  'POP_DESC': 'Wherever found',\n",
       "  'STATUS': 'Under Review in the Candidate or Petition Process'}]"
      ]
     },
     "metadata": {},
     "output_type": "display_data"
    },
    {
     "name": "stdout",
     "output_type": "stream",
     "text": [
      "------------\n",
      "Nerodia taxispilota  -  Brown Watersnake ( rBRWAx )\n",
      "Not listed\n",
      "------------\n",
      "Spermophilus brunneus brunneus  -  Northern Idaho Ground Squirrel ( mIGSQb )\n",
      "Not listed\n",
      "------------\n",
      "Euphagus carolinus  -  Rusty Blackbird ( bRUBLx )\n",
      "Not listed\n",
      "------------\n",
      "Dipodomys simulans  -  Dulzura Kangaroo Rat ( mDZRAx )\n",
      "Not listed\n",
      "------------\n",
      "Plestiodon obsoletus  -  Great Plains Skink ( rGPSKx )\n",
      "Not listed\n",
      "------------\n",
      "Tamias quadrivittatus  -  Colorado Chipmunk ( mCOCHx )\n",
      "Not listed\n",
      "------------\n",
      "Sternotherus odoratus  -  Eastern Musk Turtle ( rEMSTx )\n",
      "Not listed\n",
      "------------\n",
      "Pecari tajacu  -  Collared Peccary ( mCOPEx )\n",
      "Not listed\n",
      "------------\n",
      "Buteo nitidus  -  Gray Hawk ( bGRHAx )\n",
      "Not listed\n",
      "------------\n",
      "Picoides scalaris  -  Ladder-backed Woodpecker ( bLBWOx )\n",
      "Not listed\n",
      "------------\n",
      "Gastrophryne olivacea  -  Western Narrow-mouthed Toad ( aWNMTx )\n",
      "Not listed\n",
      "------------\n",
      "Lasiurus borealis  -  Eastern Red Bat ( mERBAx )\n",
      "Not listed\n",
      "------------\n",
      "Marmota monax  -  Woodchuck ( mWOODx )\n",
      "Not listed\n",
      "------------\n",
      "Eumops floridanus  -  Florida Bonneted Bat ( mFBBAx )\n",
      "Date Cached:  2017-07-26T16:06:48.628145\n"
     ]
    },
    {
     "data": {
      "text/plain": [
       "[{'LISTING_DATE': '2013-11-01',\n",
       "  'POP_ABBREV': 'Wherever found',\n",
       "  'POP_DESC': 'Wherever found',\n",
       "  'STATUS': 'Endangered'}]"
      ]
     },
     "metadata": {},
     "output_type": "display_data"
    },
    {
     "name": "stdout",
     "output_type": "stream",
     "text": [
      "------------\n",
      "Cathartes aura  -  Turkey Vulture ( bTUVUx )\n",
      "Not listed\n",
      "------------\n",
      "Contopus sordidulus  -  Western Wood-pewee ( bWEWPx )\n",
      "Not listed\n",
      "------------\n",
      "Pseudacris regilla  -  Northern Pacific Treefrog ( aNPTRx )\n",
      "Not listed\n",
      "------------\n",
      "Blarina carolinensis  -  Southern Short-tailed Shrew ( mSOTSx )\n",
      "Not listed\n",
      "------------\n",
      "Contia tenuis  -  Sharp-tailed Snake ( rSPSNx )\n",
      "Not listed\n",
      "------------\n",
      "Plethodon mississippi  -  Mississippi Slimy Salamander ( aMSSAx )\n",
      "Not listed\n",
      "------------\n",
      "Pyrocephalus rubinus  -  Vermilion Flycatcher ( bVEFLx )\n",
      "Not listed\n",
      "------------\n",
      "Dipodomys merriami  -  Merriam's Kangaroo Rat ( mMKRAx )\n",
      "Not listed\n",
      "------------\n",
      "Spermophilus townsendii  -  Townsend's Ground Squirrel ( mTGSQx )\n",
      "Not listed\n",
      "------------\n",
      "Eurycea lucifuga  -  Cave Salamander ( aCVSAx )\n",
      "Not listed\n",
      "------------\n",
      "Patagioenas flavirostris  -  Red-billed Pigeon ( bRBPIx )\n",
      "Not listed\n",
      "------------\n",
      "Phainopepla nitens  -  Phainopepla ( bPHAIx )\n",
      "Not listed\n",
      "------------\n",
      "Spermophilus beecheyi  -  California Ground Squirrel ( mCASQx )\n",
      "Not listed\n",
      "------------\n",
      "Nucifraga columbiana  -  Clark's Nutcracker ( bCLNUx )\n",
      "Not listed\n",
      "------------\n",
      "Tympanuchus cupido attwateri  -  Attwater's Greater Prairie Chicken ( bGRPCa )\n",
      "Date Cached:  2017-07-26T16:08:30.585206\n"
     ]
    },
    {
     "data": {
      "text/plain": [
       "[{'LISTING_DATE': '1967-03-11',\n",
       "  'POP_ABBREV': 'Wherever found',\n",
       "  'POP_DESC': 'Wherever found',\n",
       "  'STATUS': 'Endangered'}]"
      ]
     },
     "metadata": {},
     "output_type": "display_data"
    },
    {
     "name": "stdout",
     "output_type": "stream",
     "text": [
      "------------\n",
      "Antilocapra americana  -  Pronghorn ( mPRONx )\n",
      "Not listed\n",
      "------------\n",
      "Columba livia  -  Rock Pigeon ( bROPIx )\n",
      "Not listed\n",
      "------------\n",
      "Streptopelia chinensis  -  Spotted Dove ( bSPDOx )\n",
      "Not listed\n",
      "------------\n",
      "Cairina moschata  -  Muscovy Duck ( bMUDUx )\n",
      "Not listed\n",
      "------------\n",
      "Sigmodon arizonae  -  Arizona Cotton Rat ( mACRAx )\n",
      "Not listed\n",
      "------------\n",
      "Empidonax occidentalis  -  Cordilleran Flycatcher ( bCOFLx )\n",
      "Not listed\n",
      "------------\n",
      "Ardea herodias  -  Great Blue Heron ( bGBHEx )\n",
      "Date Cached:  2017-07-26T16:11:57.571555\n"
     ]
    },
    {
     "data": {
      "text/plain": [
       "[{'POP_ABBREV': 'Wherever found',\n",
       "  'POP_DESC': 'Wherever found',\n",
       "  'STATUS': 'Species of Concern'}]"
      ]
     },
     "metadata": {},
     "output_type": "display_data"
    },
    {
     "name": "stdout",
     "output_type": "stream",
     "text": [
      "------------\n",
      "Toxostoma curvirostre  -  Curve-billed Thrasher ( bCBTHx )\n",
      "Not listed\n",
      "------------\n",
      "Pooecetes gramineus  -  Vesper Sparrow ( bVESPx )\n",
      "Not listed\n",
      "------------\n",
      "Dendroica tigrina  -  Cape May Warbler ( bCMWAx )\n",
      "Not listed\n",
      "------------\n",
      "Perisoreus canadensis  -  Gray Jay ( bGRAJx )\n",
      "Not listed\n",
      "------------\n",
      "Amphispiza bilineata  -  Black-throated Sparrow ( bBTSPx )\n",
      "Not listed\n",
      "------------\n",
      "Phalacrocorax brasilianus  -  Neotropic Cormorant ( bNECOx )\n",
      "Not listed\n",
      "------------\n",
      "Zalophus californianus  -  California Sealion ( mCASEx )\n",
      "Not listed\n",
      "------------\n",
      "Rangifer tarandus  -  Caribou ( mCARIx )\n",
      "Not listed\n",
      "------------\n",
      "Sorex vagrans paludivagus  -  Monterey Vagrant Shrew ( mVASHp )\n",
      "Not listed\n",
      "------------\n",
      "Ursus arctos  -  Grizzly Or Brown Bear ( mBRBEx )\n",
      "Date Cached:  2017-07-26T15:57:01.057149\n"
     ]
    },
    {
     "data": {
      "text/plain": [
       "[{'LISTING_DATE': '1970-06-02',\n",
       "  'POP_ABBREV': 'Mexico',\n",
       "  'POP_DESC': 'Mexico',\n",
       "  'STATUS': 'Endangered'}]"
      ]
     },
     "metadata": {},
     "output_type": "display_data"
    },
    {
     "name": "stdout",
     "output_type": "stream",
     "text": [
      "------------\n",
      "Cophosaurus texanus  -  Greater Earless Lizard ( rGELIx )\n",
      "Not listed\n",
      "------------\n",
      "Larus livens  -  Yellow-footed Gull ( bYFGUx )\n",
      "Not listed\n",
      "------------\n",
      "Coluber taeniatus  -  Striped Whipsnake ( rSTWHx )\n",
      "Not listed\n",
      "------------\n",
      "Hyla versicolor  -  Gray Treefrog ( aGYTRx )\n",
      "Not listed\n",
      "------------\n",
      "Thalasseus maximus  -  Royal Tern ( bROYTx )\n",
      "Not listed\n",
      "------------\n",
      "Rallus limicola  -  Virginia Rail ( bVIRAx )\n",
      "Not listed\n",
      "------------\n",
      "Mephitis macroura  -  Hooded Skunk ( mHOSKx )\n",
      "Not listed\n",
      "------------\n",
      "Batrachoseps incognitus  -  San Simeon Slender Salamander ( aSSSSx )\n",
      "Not listed\n",
      "------------\n",
      "Aspidoscelis neomexicana  -  New Mexico Whiptail ( rNMWHx )\n",
      "Not listed\n",
      "------------\n",
      "Chionactis occipitalis  -  Western Shovel-nosed Snake ( rWSNSx )\n",
      "Not listed\n",
      "------------\n",
      "Crotalus cerastes  -  Sidewinder ( rSIDEx )\n",
      "Date Cached:  2017-07-26T15:57:17.370414\n"
     ]
    },
    {
     "data": {
      "text/plain": [
       "[{'POP_ABBREV': 'Wherever found',\n",
       "  'POP_DESC': 'Wherever found',\n",
       "  'STATUS': 'Species of Concern'}]"
      ]
     },
     "metadata": {},
     "output_type": "display_data"
    },
    {
     "name": "stdout",
     "output_type": "stream",
     "text": [
      "------------\n",
      "Nerodia fasciata  -  Southern Watersnake ( rSOWAx )\n",
      "Not listed\n",
      "------------\n",
      "Tantilla atriceps  -  Mexican Black-headed Snake ( rMBHSx )\n",
      "Not listed\n",
      "------------\n",
      "Plethodon grobmani  -  Southeastern Slimy Salamander ( aSSMSx )\n",
      "Not listed\n",
      "------------\n",
      "Dendroica pensylvanica  -  Chestnut-sided Warbler ( bCSWAx )\n",
      "Not listed\n",
      "------------\n",
      "Urocitellus elegans aureus  -  Wyoming Ground Squirrel aureus ( mWYSQa )\n",
      "Not listed\n",
      "------------\n",
      "Sceloporus grammicus  -  Graphic Spiny Lizard ( rGPSLx )\n",
      "Not listed\n",
      "------------\n",
      "Phenacomys ungava  -  Eastern Heather Vole ( mEHVOx )\n",
      "Not listed\n",
      "------------\n",
      "Myodes gapperi  -  Southern Red-backed Vole ( mSRBVx )\n",
      "Not listed\n",
      "------------\n",
      "Aplodontia rufa californica  -  Sierra Nevada Mountain Beaver ( mSEWEc )\n",
      "Date Cached:  2017-07-26T15:57:31.942824\n"
     ]
    },
    {
     "data": {
      "text/plain": [
       "[{'POP_ABBREV': 'Wherever found',\n",
       "  'POP_DESC': 'Wherever found',\n",
       "  'STATUS': 'Species of Concern'}]"
      ]
     },
     "metadata": {},
     "output_type": "display_data"
    },
    {
     "name": "stdout",
     "output_type": "stream",
     "text": [
      "------------\n",
      "Gavia pacifica  -  Pacific Loon ( bPALOx )\n",
      "Not listed\n",
      "------------\n",
      "Thomomys umbrinus emotus  -  Southern Pocket Gopher ( mSPGOi )\n",
      "Date Cached:  2017-07-26T15:57:34.889292\n"
     ]
    },
    {
     "data": {
      "text/plain": [
       "[{'POP_ABBREV': 'Wherever found',\n",
       "  'POP_DESC': 'Wherever found',\n",
       "  'STATUS': 'Resolved Taxon'}]"
      ]
     },
     "metadata": {},
     "output_type": "display_data"
    },
    {
     "name": "stdout",
     "output_type": "stream",
     "text": [
      "------------\n",
      "Tamias sonomae  -  Sonoma Chipmunk ( mSOCHx )\n",
      "Not listed\n",
      "------------\n",
      "Phalacrocorax carbo  -  Great Cormorant ( bGRCOx )\n",
      "Not listed\n",
      "------------\n",
      "Urocyon littoralis santacruzae  -  Santa Cruz Island Fox ( mISFOs )\n",
      "Date Cached:  2017-07-26T15:57:40.074919\n"
     ]
    },
    {
     "data": {
      "text/plain": [
       "[{'LISTING_DATE': '2004-03-05',\n",
       "  'POP_ABBREV': 'wherever found',\n",
       "  'POP_DESC': 'wherever found',\n",
       "  'STATUS': 'Recovery'}]"
      ]
     },
     "metadata": {},
     "output_type": "display_data"
    },
    {
     "name": "stdout",
     "output_type": "stream",
     "text": [
      "------------\n",
      "Coleonyx switaki  -  Switak's Banded Gecko ( rSBGEx )\n",
      "Date Cached:  2017-07-26T15:57:41.230579\n"
     ]
    },
    {
     "data": {
      "text/plain": [
       "[{'POP_ABBREV': 'Wherever found',\n",
       "  'POP_DESC': 'Wherever found',\n",
       "  'STATUS': 'Species of Concern'}]"
      ]
     },
     "metadata": {},
     "output_type": "display_data"
    },
    {
     "name": "stdout",
     "output_type": "stream",
     "text": [
      "------------\n",
      "Pantherophis slowinskii  -  Slowinski's Cornsnake ( rSLCOx )\n",
      "Not listed\n",
      "------------\n",
      "Oceanodroma furcata  -  Fork-tailed Storm-petrel ( bFTSPx )\n",
      "Not listed\n",
      "------------\n",
      "Anas cyanoptera  -  Cinnamon Teal ( bCITEx )\n",
      "Not listed\n",
      "------------\n",
      "Charadrius wilsonia  -  Wilson's Plover ( bWIPLx )\n",
      "Not listed\n",
      "------------\n",
      "Calamospiza melanocorys  -  Lark Bunting ( bLARBx )\n",
      "Not listed\n",
      "------------\n",
      "Platalea ajaja  -  Roseate Spoonbill ( bROSPx )\n",
      "Not listed\n",
      "------------\n",
      "Chondestes grammacus  -  Lark Sparrow ( bLASPx )\n",
      "Not listed\n",
      "------------\n",
      "Necturus alabamensis  -  Black Warrior River Waterdog ( aBWRWx )\n",
      "Date Cached:  2017-07-26T15:58:00.323484\n"
     ]
    },
    {
     "data": {
      "text/plain": [
       "[{'POP_ABBREV': 'Wherever found',\n",
       "  'POP_DESC': 'Wherever found',\n",
       "  'STATUS': 'Proposed Endangered'}]"
      ]
     },
     "metadata": {},
     "output_type": "display_data"
    },
    {
     "name": "stdout",
     "output_type": "stream",
     "text": [
      "------------\n",
      "Calidris himantopus  -  Stilt Sandpiper ( bSTSAx )\n",
      "Not listed\n",
      "------------\n",
      "Amphispiza belli clementeae  -  San Clemente Sage Sparrow ( bSAGSc )\n",
      "Date Cached:  2017-07-26T15:58:05.477980\n"
     ]
    },
    {
     "data": {
      "text/plain": [
       "[{'LISTING_DATE': '1977-09-12',\n",
       "  'POP_ABBREV': 'Wherever found',\n",
       "  'POP_DESC': 'Wherever found',\n",
       "  'STATUS': 'Threatened'}]"
      ]
     },
     "metadata": {},
     "output_type": "display_data"
    },
    {
     "name": "stdout",
     "output_type": "stream",
     "text": [
      "------------\n",
      "Pandion haliaetus  -  Osprey ( bOSPRx )\n",
      "Date Cached:  2017-07-26T15:58:07.551350\n"
     ]
    },
    {
     "data": {
      "text/plain": [
       "[{'POP_ABBREV': 'Wherever found',\n",
       "  'POP_DESC': 'Wherever found',\n",
       "  'STATUS': 'Species of Concern'}]"
      ]
     },
     "metadata": {},
     "output_type": "display_data"
    },
    {
     "name": "stdout",
     "output_type": "stream",
     "text": [
      "------------\n",
      "Seiurus aurocapilla  -  Ovenbird ( bOVENx )\n",
      "Not listed\n",
      "------------\n",
      "Desmognathus orestes  -  Blue Ridge Dusky Salamander ( aBRDSx )\n",
      "Not listed\n",
      "------------\n",
      "Glaucidium gnoma californicum  -  Northern Pygmy-owl californicum ( bNOPOc )\n",
      "Not listed\n",
      "------------\n",
      "Anaxyrus nelsoni  -  Amargosa Toad ( aAGTOx )\n",
      "Not listed\n",
      "------------\n",
      "Tadarida brasiliensis  -  Mexican Free-tailed Bat ( mMFTBx )\n",
      "Not listed\n",
      "------------\n",
      "Mustela erminea  -  Ermine ( mERMIx )\n",
      "Not listed\n",
      "------------\n",
      "Wilsonia canadensis  -  Canada Warbler ( bCAWAx )\n",
      "Not listed\n",
      "------------\n",
      "Amphispiza belli nevadensis  -  Great Basin Sage Sparrow ( bSAGSn )\n",
      "Not listed\n",
      "------------\n",
      "Dipodomys panamintinus  -  Panamint Kangaroo Rat ( mPKRAx )\n",
      "Not listed\n",
      "------------\n",
      "Cyanocorax morio  -  Brown Jay ( bBRJAx )\n",
      "Not listed\n",
      "------------\n",
      "Tamias townsendii  -  Townsend's Chipmunk ( mTOCHx )\n",
      "Not listed\n",
      "------------\n",
      "Geomys personatus  -  Texas Pocket Gopher ( mTXGOx )\n",
      "Not listed\n",
      "------------\n",
      "Sorex ornatus willetti  -  Santa Catalina Shrew ( mORSHw )\n",
      "Date Cached:  2017-07-26T15:58:33.818695\n"
     ]
    },
    {
     "data": {
      "text/plain": [
       "[{'POP_ABBREV': 'Wherever found',\n",
       "  'POP_DESC': 'Wherever found',\n",
       "  'STATUS': 'Species of Concern'}]"
      ]
     },
     "metadata": {},
     "output_type": "display_data"
    },
    {
     "name": "stdout",
     "output_type": "stream",
     "text": [
      "------------\n",
      "Aimophila botterii  -  Botteri's Sparrow ( bBOSPx )\n",
      "Not listed\n",
      "------------\n",
      "Rallus longirostris  -  Clapper Rail ( bCLRAx )\n",
      "Date Cached:  2017-07-26T15:58:43.134690\n"
     ]
    },
    {
     "data": {
      "text/plain": [
       "[{'POP_ABBREV': 'Wherever found',\n",
       "  'POP_DESC': 'Wherever found',\n",
       "  'STATUS': 'Species of Concern'}]"
      ]
     },
     "metadata": {},
     "output_type": "display_data"
    },
    {
     "name": "stdout",
     "output_type": "stream",
     "text": [
      "------------\n",
      "Sorex ornatus sinuosus  -  Suisun Shrew ( mORSHi )\n",
      "Date Cached:  2017-07-26T15:58:50.635683\n"
     ]
    },
    {
     "data": {
      "text/plain": [
       "[{'POP_ABBREV': 'Wherever found',\n",
       "  'POP_DESC': 'Wherever found',\n",
       "  'STATUS': 'Species of Concern'}]"
      ]
     },
     "metadata": {},
     "output_type": "display_data"
    },
    {
     "name": "stdout",
     "output_type": "stream",
     "text": [
      "------------\n",
      "Condylura cristata  -  Star-nosed Mole ( mSNMOx )\n",
      "Not listed\n",
      "------------\n",
      "Trachemys scripta  -  Pond Slider ( rPOSLx )\n",
      "Not listed\n",
      "------------\n",
      "Heterodon simus  -  Southern Hog-nosed Snake ( rSHNSx )\n",
      "Date Cached:  2017-07-26T15:59:01.257269\n"
     ]
    },
    {
     "data": {
      "text/plain": [
       "[{'POP_ABBREV': 'Wherever found',\n",
       "  'POP_DESC': 'Wherever found',\n",
       "  'STATUS': 'Under Review in the Candidate or Petition Process'}]"
      ]
     },
     "metadata": {},
     "output_type": "display_data"
    },
    {
     "name": "stdout",
     "output_type": "stream",
     "text": [
      "------------\n",
      "Empidonax alnorum  -  Alder Flycatcher ( bALFLx )\n",
      "Not listed\n",
      "------------\n",
      "Phoenicopterus ruber  -  American Flamingo ( bAMFLx )\n",
      "Not listed\n",
      "------------\n",
      "Crotalus viridis  -  Prairie Rattlesnake ( rPRRAx )\n",
      "Not listed\n",
      "------------\n",
      "Pseudemys gorzugi  -  Rio Grande Cooter ( rRGCOx )\n",
      "Not listed\n",
      "------------\n",
      "Neotoma albigula  -  White-throated Woodrat ( mWTHWx )\n",
      "Not listed\n",
      "------------\n",
      "Virginia striatula  -  Rough Earthsnake ( rROEAx )\n",
      "Not listed\n",
      "------------\n",
      "Batrachoseps robustus  -  Kern Plateau Salamander ( aKPSAx )\n",
      "Date Cached:  2017-07-26T15:59:16.167582\n"
     ]
    },
    {
     "data": {
      "text/plain": [
       "[{'POP_ABBREV': 'Wherever found',\n",
       "  'POP_DESC': 'Wherever found',\n",
       "  'STATUS': 'Under Review in the Candidate or Petition Process'}]"
      ]
     },
     "metadata": {},
     "output_type": "display_data"
    },
    {
     "name": "stdout",
     "output_type": "stream",
     "text": [
      "------------\n",
      "Thomomys clusius  -  Wyoming Pocket Gopher ( mWYGOx )\n",
      "Date Cached:  2017-07-26T15:59:17.128908\n"
     ]
    },
    {
     "data": {
      "text/plain": [
       "[{'POP_ABBREV': 'Wherever found',\n",
       "  'POP_DESC': 'Wherever found',\n",
       "  'STATUS': 'Resolved Taxon'}]"
      ]
     },
     "metadata": {},
     "output_type": "display_data"
    },
    {
     "name": "stdout",
     "output_type": "stream",
     "text": [
      "------------\n",
      "Glyptemys insculpta  -  Wood Turtle ( rWOTUx )\n",
      "Date Cached:  2017-07-26T15:59:18.098688\n"
     ]
    },
    {
     "data": {
      "text/plain": [
       "[{'POP_ABBREV': 'Wherever found',\n",
       "  'POP_DESC': 'Wherever found',\n",
       "  'STATUS': 'Under Review in the Candidate or Petition Process'}]"
      ]
     },
     "metadata": {},
     "output_type": "display_data"
    },
    {
     "name": "stdout",
     "output_type": "stream",
     "text": [
      "------------\n",
      "Coleonyx brevis  -  Texas Banded Gecko ( rTXBGx )\n",
      "Not listed\n",
      "------------\n",
      "Neurotrichus gibbsii  -  Shrew-mole ( mSHMOx )\n",
      "Not listed\n",
      "------------\n",
      "Elgaria multicarinata  -  Southern Alligator Lizard ( rSOALx )\n",
      "Not listed\n",
      "------------\n",
      "Plestiodon skiltonianus  -  Western Skink ( rWESKx )\n",
      "Not listed\n",
      "------------\n",
      "Tamias umbrinus  -  Uinta Chipmunk ( mUICHx )\n",
      "Not listed\n",
      "------------\n",
      "Caretta caretta  -  Loggerhead Sea Turtle ( rLOGTx )\n",
      "Date Cached:  2017-07-26T15:59:40.742145\n"
     ]
    },
    {
     "data": {
      "text/plain": [
       "[{'LISTING_DATE': '1978-07-23',\n",
       "  'POP_ABBREV': 'Southeast Indo-Pacific Ocean DPS',\n",
       "  'POP_DESC': 'Loggerhead sea turtles originating from the Southeast Indian Ocean south of the equator, north of 60 degrees S. Lat., and east of 80 degrees E. Long., South Pacific Ocean south of the equator, north of 60degrees S. Lat., and west of 141 degrees E. Long',\n",
       "  'STATUS': 'Threatened'},\n",
       " {'LISTING_DATE': '1978-07-23',\n",
       "  'POP_ABBREV': 'Mediterranean Sea DPS',\n",
       "  'POP_DESC': 'Mediterranean Sea DPS - Loggerhead sea turtles originating from the Mediterranean Sea east of 5 degrees 36 minues W. Long.',\n",
       "  'STATUS': 'Endangered'},\n",
       " {'LISTING_DATE': '1978-07-23',\n",
       "  'POP_ABBREV': 'Northeast Atlantic Ocean DPS',\n",
       "  'POP_DESC': 'Northeast Atlantic Ocean DPS - Loggerhead sea turtles originating from the Northeast Atlantic Ocean north of the equator, south of 60 degrees N. Lat., and east of 40 degrees W. Long., except in the vicinity of the Strait of Gibraltar where the eastern boundary is 5 degrees 36 minutes W. Long',\n",
       "  'STATUS': 'Endangered'},\n",
       " {'LISTING_DATE': '1978-07-23',\n",
       "  'POP_ABBREV': 'North Pacific Ocean DPS',\n",
       "  'POP_DESC': 'North Pacific Ocean DPS - Loggerhead sea turtles originating from the North Pacific north of the equator and south of 60 degrees N. Lat',\n",
       "  'STATUS': 'Endangered'},\n",
       " {'LISTING_DATE': '1978-07-23',\n",
       "  'POP_ABBREV': 'Northwest Atlantic Ocean DPS',\n",
       "  'POP_DESC': 'Northwest Atlantic Ocean DPS - Loggerhead sea turtles originating from the Northwest Atlantic Ocean west of 40 degrees W. Long',\n",
       "  'STATUS': 'Threatened'},\n",
       " {'LISTING_DATE': '1978-07-23',\n",
       "  'POP_ABBREV': 'North Indian Ocean DPS',\n",
       "  'POP_DESC': 'North Indian Ocean DPS - Loggerhead sea turtles originating from the North Indian Ocean north of the equator and south of 30? N. Lat',\n",
       "  'STATUS': 'Endangered'},\n",
       " {'LISTING_DATE': '1978-07-23',\n",
       "  'POP_ABBREV': 'South Pacific Ocean DPS',\n",
       "  'POP_DESC': 'Loggerhead sea turtles originating from the South Pacific south of the equator, north of 60 degrees S. Lat., west of 67 degrees W. Long., and east of 141 degrees E. Long.',\n",
       "  'STATUS': 'Endangered'},\n",
       " {'LISTING_DATE': '1978-07-23',\n",
       "  'POP_ABBREV': 'Southwest Indian Ocean DPS',\n",
       "  'POP_DESC': 'Loggerhead sea turtles originating from the Southwest Indian Ocean north of the equator, south of 30 degrees N. Lat., east of 20 degrees E. Long., and west of 80 degrees E. Long.',\n",
       "  'STATUS': 'Threatened'},\n",
       " {'LISTING_DATE': '1978-07-23',\n",
       "  'POP_ABBREV': 'South Atlantic Ocean DPS',\n",
       "  'POP_DESC': 'Loggerhead sea turtles originating from the South Atlantic Ocean south of the equator, north of 60 degrees S. Lat., west of 20 degrees E. Long., and east of 67 degrees W. Long',\n",
       "  'STATUS': 'Threatened'}]"
      ]
     },
     "metadata": {},
     "output_type": "display_data"
    },
    {
     "name": "stdout",
     "output_type": "stream",
     "text": [
      "------------\n",
      "Kinosternon subrubrum  -  Eastern Mud Turtle ( rEMDTx )\n",
      "Not listed\n",
      "------------\n",
      "Hypsiglena jani  -  Chihuahuan Nightsnake ( rCHNIx )\n",
      "Not listed\n",
      "------------\n",
      "Puma concolor  -  Cougar ( mCOUGx )\n",
      "Not listed\n",
      "------------\n",
      "Coccyzus americanus  -  Yellow-billed Cuckoo ( bYBCUx )\n",
      "Date Cached:  2017-07-26T15:59:58.000805\n"
     ]
    },
    {
     "data": {
      "text/plain": [
       "[{'LISTING_DATE': '2014-11-03',\n",
       "  'POP_ABBREV': 'Western U.S. DPS',\n",
       "  'POP_DESC': 'Western DPS: U.S.A. (AZ, CA, CO (western), ID, MT (western), NM (western), NV, OR, TX (western), UT, WA, WY (western)), Canada (British Columbia (southwestern), Mexico (Baja California, Baja California Sur, Chihuahua, Durango (western), Sinaloa, Sonora)',\n",
       "  'STATUS': 'Threatened'}]"
      ]
     },
     "metadata": {},
     "output_type": "display_data"
    },
    {
     "name": "stdout",
     "output_type": "stream",
     "text": [
      "------------\n",
      "Sylvilagus audubonii  -  Desert Cottontail ( mDECOx )\n",
      "Not listed\n",
      "------------\n",
      "Aspidoscelis tesselata  -  Common Checkered Whiptail ( rCCWHx )\n",
      "Not listed\n",
      "------------\n",
      "Tantilla gracilis  -  Flat-headed Snake ( rFHSNx )\n",
      "Not listed\n",
      "------------\n",
      "Choeronycteris mexicana  -  Mexican Long-tongued Bat ( mMLTBx )\n",
      "Date Cached:  2017-07-26T16:11:44.986023\n"
     ]
    },
    {
     "data": {
      "text/plain": [
       "[{'POP_ABBREV': 'Wherever found',\n",
       "  'POP_DESC': 'Wherever found',\n",
       "  'STATUS': 'Species of Concern'}]"
      ]
     },
     "metadata": {},
     "output_type": "display_data"
    },
    {
     "name": "stdout",
     "output_type": "stream",
     "text": [
      "------------\n",
      "Spermophilus mohavensis  -  Mohave Ground Squirrel ( mMOSQx )\n",
      "Date Cached:  2017-07-26T16:11:46.648111\n"
     ]
    },
    {
     "data": {
      "text/plain": [
       "[{'POP_ABBREV': 'Wherever found',\n",
       "  'POP_DESC': 'Wherever found',\n",
       "  'STATUS': 'Resolved Taxon'}]"
      ]
     },
     "metadata": {},
     "output_type": "display_data"
    },
    {
     "name": "stdout",
     "output_type": "stream",
     "text": [
      "------------\n",
      "Crotophaga sulcirostris  -  Groove-billed Ani ( bGBANx )\n",
      "Not listed\n",
      "------------\n",
      "Mniotilta varia  -  Black-and-White Warbler ( bBAWWx )\n",
      "Not listed\n",
      "------------\n",
      "Poecile hudsonica  -  Boreal Chickadee ( bBOCHx )\n",
      "Not listed\n",
      "------------\n",
      "Sialia mexicana  -  Western Bluebird ( bWEBLx )\n",
      "Not listed\n",
      "------------\n",
      "Sterna forsteri  -  Forster's Tern ( bFOTEx )\n",
      "Not listed\n",
      "------------\n",
      "Gelochelidon nilotica  -  Gull-billed Tern ( bGBTEx )\n",
      "Date Cached:  2017-07-26T16:12:05.528826\n"
     ]
    },
    {
     "data": {
      "text/plain": [
       "[{'POP_ABBREV': 'Wherever found',\n",
       "  'POP_DESC': 'Wherever found',\n",
       "  'STATUS': 'Species of Concern'}]"
      ]
     },
     "metadata": {},
     "output_type": "display_data"
    },
    {
     "name": "stdout",
     "output_type": "stream",
     "text": [
      "------------\n",
      "Buteo platypterus  -  Broad-winged Hawk ( bBWHAx )\n",
      "Not listed\n",
      "------------\n",
      "Parascalops breweri  -  Hairy-tailed Mole ( mHTMOx )\n",
      "Not listed\n",
      "------------\n",
      "Piranga olivacea  -  Scarlet Tanager ( bSCTAx )\n",
      "Not listed\n",
      "------------\n",
      "Charadrius semipalmatus  -  Semipalmated Plover ( bSEPLx )\n",
      "Not listed\n",
      "------------\n",
      "Spizella atrogularis  -  Black-chinned Sparrow ( bBCSPx )\n",
      "Date Cached:  2017-07-26T16:12:12.443462\n"
     ]
    },
    {
     "data": {
      "text/plain": [
       "[{'POP_ABBREV': 'Wherever found',\n",
       "  'POP_DESC': 'Wherever found',\n",
       "  'STATUS': 'Species of Concern'}]"
      ]
     },
     "metadata": {},
     "output_type": "display_data"
    },
    {
     "name": "stdout",
     "output_type": "stream",
     "text": [
      "------------\n",
      "Dendroica caerulescens  -  Black-throated Blue Warbler ( bBTBWx )\n",
      "Not listed\n",
      "------------\n",
      "Molothrus bonariensis  -  Shiny Cowbird ( bSHCOx )\n",
      "Not listed\n",
      "------------\n",
      "Egretta thula  -  Snowy Egret ( bSNEGx )\n",
      "Not listed\n",
      "------------\n",
      "Bucephala albeola  -  Bufflehead ( bBUFFx )\n",
      "Not listed\n",
      "------------\n",
      "Aphriza virgata  -  Surfbird ( bSURFx )\n",
      "Not listed\n",
      "------------\n",
      "Pseudacris triseriata  -  Western Chorus Frog ( aWCFRx )\n",
      "Not listed\n",
      "------------\n",
      "Eremophila alpestris  -  Horned Lark ( bHOLAx )\n",
      "Not listed\n",
      "------------\n",
      "Toxostoma lecontei  -  Le Conte's Thrasher ( bLCTHx )\n",
      "Not listed\n",
      "------------\n",
      "Melanerpes lewis  -  Lewis's Woodpecker ( bLEWOx )\n",
      "Date Cached:  2017-07-26T16:00:14.118273\n"
     ]
    },
    {
     "data": {
      "text/plain": [
       "[{'POP_ABBREV': 'Wherever found',\n",
       "  'POP_DESC': 'Wherever found',\n",
       "  'STATUS': 'Species of Concern'}]"
      ]
     },
     "metadata": {},
     "output_type": "display_data"
    },
    {
     "name": "stdout",
     "output_type": "stream",
     "text": [
      "------------\n",
      "Lithobates sevosus  -  Dusky Gopher Frog ( aDGFRx )\n",
      "Not listed\n",
      "------------\n",
      "Aythya collaris  -  Ring-necked Duck ( bRNDUx )\n",
      "Not listed\n",
      "------------\n",
      "Plethodon richmondi  -  Southern Ravine Salamander ( aSRSAx )\n",
      "Not listed\n",
      "------------\n",
      "Graptemys ouachitensis  -  Ouachita Map Turtle ( rOMTUx )\n",
      "Not listed\n",
      "------------\n",
      "Centrocercus urophasianus  -  Greater Sage-grouse ( bGRSGx )\n",
      "Date Cached:  2017-07-26T16:00:23.633558\n"
     ]
    },
    {
     "data": {
      "text/plain": [
       "[{'POP_ABBREV': 'Bi-State',\n",
       "  'POP_DESC': 'Bi-State',\n",
       "  'STATUS': 'Resolved Taxon'},\n",
       " {'POP_ABBREV': 'Western subspecies',\n",
       "  'POP_DESC': 'Western subspecies',\n",
       "  'STATUS': 'Resolved Taxon'},\n",
       " {'POP_ABBREV': 'Columbia basin DPS',\n",
       "  'POP_DESC': 'Columbia basin DPS, WA',\n",
       "  'STATUS': 'Resolved Taxon'},\n",
       " {'POP_ABBREV': 'Wherever found',\n",
       "  'POP_DESC': 'Wherever found',\n",
       "  'STATUS': 'Resolved Taxon'}]"
      ]
     },
     "metadata": {},
     "output_type": "display_data"
    },
    {
     "name": "stdout",
     "output_type": "stream",
     "text": [
      "------------\n",
      "Graptemys pulchra  -  Alabama Map Turtle ( rALTUx )\n",
      "Date Cached:  2017-07-26T16:00:25.098929\n"
     ]
    },
    {
     "data": {
      "text/plain": [
       "[{'POP_ABBREV': 'Wherever found',\n",
       "  'POP_DESC': 'Wherever found',\n",
       "  'STATUS': 'Under Review in the Candidate or Petition Process'}]"
      ]
     },
     "metadata": {},
     "output_type": "display_data"
    },
    {
     "name": "stdout",
     "output_type": "stream",
     "text": [
      "------------\n",
      "Desmognathus fuscus  -  Northern Dusky Salamander ( aNDSAx )\n",
      "Not listed\n",
      "------------\n",
      "Eurycea tynerensis  -  Oklahoma Salamander ( aOKSAx )\n",
      "Date Cached:  2017-07-26T16:00:29.036604\n"
     ]
    },
    {
     "data": {
      "text/plain": [
       "[{'POP_ABBREV': 'Wherever found',\n",
       "  'POP_DESC': 'Wherever found',\n",
       "  'STATUS': 'Under Review in the Candidate or Petition Process'}]"
      ]
     },
     "metadata": {},
     "output_type": "display_data"
    },
    {
     "name": "stdout",
     "output_type": "stream",
     "text": [
      "------------\n",
      "Smilisca baudinii  -  Mexican Treefrog ( aMXTRx )\n",
      "Not listed\n",
      "------------\n",
      "Onychoprion anaethetus  -  Bridled Tern ( bBRTEx )\n",
      "Not listed\n",
      "------------\n",
      "Picoides nuttallii  -  Nuttall's Woodpecker ( bNUWOx )\n",
      "Date Cached:  2017-07-26T16:00:34.369284\n"
     ]
    },
    {
     "data": {
      "text/plain": [
       "[{'POP_ABBREV': 'Wherever found',\n",
       "  'POP_DESC': 'Wherever found',\n",
       "  'STATUS': 'Species of Concern'}]"
      ]
     },
     "metadata": {},
     "output_type": "display_data"
    },
    {
     "name": "stdout",
     "output_type": "stream",
     "text": [
      "------------\n",
      "Sciurus aberti  -  Kaibab Squirrel ( mABSQk )\n",
      "Not listed\n",
      "------------\n",
      "Circus cyaneus  -  Northern Harrier ( bNOHAx )\n",
      "Not listed\n",
      "------------\n",
      "Eurycea wilderae  -  Blue Ridge Two-lined Salamander ( aBRTSx )\n",
      "Not listed\n",
      "------------\n",
      "Falco peregrinus  -  Peregrine Falcon ( bPEFAx )\n",
      "Date Cached:  2017-07-26T16:00:41.473562\n"
     ]
    },
    {
     "data": {
      "text/plain": [
       "[{'POP_ABBREV': 'Wherever found',\n",
       "  'POP_DESC': 'Wherever found',\n",
       "  'STATUS': 'Species of Concern'}]"
      ]
     },
     "metadata": {},
     "output_type": "display_data"
    },
    {
     "name": "stdout",
     "output_type": "stream",
     "text": [
      "------------\n",
      "Contopus cooperi  -  Olive-sided Flycatcher ( bOSFLx )\n",
      "Date Cached:  2017-07-26T16:00:42.444438\n"
     ]
    },
    {
     "data": {
      "text/plain": [
       "[{'POP_ABBREV': 'Wherever found',\n",
       "  'POP_DESC': 'Wherever found',\n",
       "  'STATUS': 'Species of Concern'}]"
      ]
     },
     "metadata": {},
     "output_type": "display_data"
    },
    {
     "name": "stdout",
     "output_type": "stream",
     "text": [
      "------------\n",
      "Heterodon gloydi  -  Dusty Hog-nosed Snake ( rDHNSx )\n",
      "Not listed\n",
      "------------\n",
      "Sylvilagus aquaticus  -  Swamp Rabbit ( mSWRAx )\n",
      "Not listed\n",
      "------------\n",
      "Tympanuchus pallidicinctus  -  Lesser Prairie-chicken ( bLEPCx )\n",
      "Date Cached:  2017-07-26T16:00:50.156636\n"
     ]
    },
    {
     "data": {
      "text/plain": [
       "[{'LISTING_DATE': '2014-05-12',\n",
       "  'POP_ABBREV': 'Wherever found',\n",
       "  'POP_DESC': 'Wherever found',\n",
       "  'STATUS': 'Under Review in the Candidate or Petition Process'}]"
      ]
     },
     "metadata": {},
     "output_type": "display_data"
    },
    {
     "name": "stdout",
     "output_type": "stream",
     "text": [
      "------------\n",
      "Hydrocoloeus minutus  -  Little Gull ( bLIGUx )\n",
      "Not listed\n",
      "------------\n",
      "Lanius ludovicianus  -  Loggerhead Shrike ( bLOSHx )\n",
      "Date Cached:  2017-07-26T16:00:52.242822\n"
     ]
    },
    {
     "data": {
      "text/plain": [
       "[{'POP_ABBREV': 'Wherever found',\n",
       "  'POP_DESC': 'Wherever found',\n",
       "  'STATUS': 'Species of Concern'}]"
      ]
     },
     "metadata": {},
     "output_type": "display_data"
    },
    {
     "name": "stdout",
     "output_type": "stream",
     "text": [
      "------------\n",
      "Chen rossii  -  Ross's Goose ( bROGOx )\n",
      "Not listed\n",
      "------------\n",
      "Thomomys mazama  -  Western Pocket Gopher ( mWPGOx )\n",
      "Not listed\n",
      "------------\n",
      "Ammodramus leconteii  -  Le Conte's Sparrow ( bLCSPx )\n",
      "Not listed\n",
      "------------\n",
      "Coccyzus minor  -  Mangrove Cuckoo ( bMACUx )\n",
      "Not listed\n",
      "------------\n",
      "Gonatodes albogularis  -  Yellow-headed Gecko ( rYHGEx )\n",
      "Not listed\n",
      "------------\n",
      "Toxostoma redivivum  -  California Thrasher ( bCATHx )\n",
      "Not listed\n",
      "------------\n",
      "Leptonycteris nivalis  -  Mexican Long-nosed Bat ( mMLNBx )\n",
      "Date Cached:  2017-07-26T16:01:03.436075\n"
     ]
    },
    {
     "data": {
      "text/plain": [
       "[{'LISTING_DATE': '1988-09-30',\n",
       "  'POP_ABBREV': 'Wherever found',\n",
       "  'POP_DESC': 'Wherever found',\n",
       "  'STATUS': 'Endangered'}]"
      ]
     },
     "metadata": {},
     "output_type": "display_data"
    },
    {
     "name": "stdout",
     "output_type": "stream",
     "text": [
      "------------\n",
      "Pseudemys suwanniensis  -  Suwannee Cooter ( rSUCOx )\n",
      "Not listed\n",
      "------------\n",
      "Plethodon angusticlavius  -  Ozark Zigzag Salamander ( aOZSAx )\n",
      "Not listed\n",
      "------------\n",
      "Sorex neomexicanus  -  New Mexico Shrew ( mNMSHx )\n",
      "Not listed\n",
      "------------\n",
      "Desmognathus quadramaculatus  -  Black-bellied Salamander ( aBESAx )\n",
      "Not listed\n",
      "------------\n",
      "Baeolophus inornatus  -  Oak Titmouse ( bOATIx )\n",
      "Date Cached:  2017-07-26T16:01:17.978250\n"
     ]
    },
    {
     "data": {
      "text/plain": [
       "[{'POP_ABBREV': 'Wherever found',\n",
       "  'POP_DESC': 'Wherever found',\n",
       "  'STATUS': 'Species of Concern'}]"
      ]
     },
     "metadata": {},
     "output_type": "display_data"
    },
    {
     "name": "stdout",
     "output_type": "stream",
     "text": [
      "------------\n",
      "Cistothorus platensis  -  Sedge Wren ( bSEWRx )\n",
      "Not listed\n",
      "------------\n",
      "Pooecetes gramineus affinis  -  Oregon Vesper Sparrow ( bVESPa )\n",
      "Not listed\n",
      "------------\n",
      "Eudocimus albus  -  White Ibis ( bWHIBx )\n",
      "Not listed\n",
      "------------\n",
      "Desmognathus ochrophaeus  -  Allegheny Mountain Dusky Salamander ( aAMDSx )\n",
      "Not listed\n",
      "------------\n",
      "Cistothorus palustris  -  Marsh Wren ( bMAWRx )\n",
      "Not listed\n",
      "------------\n",
      "Oporornis philadelphia  -  Mourning Warbler ( bMOWAx )\n",
      "Not listed\n",
      "------------\n",
      "Lithobates septentrionalis  -  Mink Frog ( aMIFRx )\n",
      "Not listed\n",
      "------------\n",
      "Sturnella neglecta  -  Western Meadowlark ( bWEMEx )\n",
      "Not listed\n",
      "------------\n",
      "Sphyrapicus varius  -  Yellow-bellied Sapsucker ( bYBSAx )\n",
      "Not listed\n",
      "------------\n",
      "Pseudacris illinoensis  -  Illinois Chorus Frog ( aILGRx )\n",
      "Date Cached:  2017-07-26T16:01:43.185370\n"
     ]
    },
    {
     "data": {
      "text/plain": [
       "[{'POP_ABBREV': 'Wherever found',\n",
       "  'POP_DESC': 'Wherever found',\n",
       "  'STATUS': 'Under Review in the Candidate or Petition Process'}]"
      ]
     },
     "metadata": {},
     "output_type": "display_data"
    },
    {
     "name": "stdout",
     "output_type": "stream",
     "text": [
      "------------\n",
      "Myodes gapperi brevicaudus  -  Black Hills Red-backed Vole ( mSRBVb )\n",
      "Not listed\n",
      "------------\n",
      "Dendroica virens  -  Black-throated Green Warbler ( bBTNWx )\n",
      "Not listed\n",
      "------------\n",
      "Lepus alleni  -  Antelope Jackrabbit ( mANJAx )\n",
      "Not listed\n",
      "------------\n",
      "Pipilo chlorurus  -  Green-tailed Towhee ( bGTTOx )\n",
      "Date Cached:  2017-07-26T16:01:54.179343\n"
     ]
    },
    {
     "data": {
      "text/plain": [
       "[{'POP_ABBREV': 'Wherever found',\n",
       "  'POP_DESC': 'Wherever found',\n",
       "  'STATUS': 'Species of Concern'}]"
      ]
     },
     "metadata": {},
     "output_type": "display_data"
    },
    {
     "name": "stdout",
     "output_type": "stream",
     "text": [
      "------------\n",
      "Crotalus adamanteus  -  Eastern Diamond-backed Rattlesnake ( rEDBRx )\n",
      "Date Cached:  2017-07-26T16:01:56.159392\n"
     ]
    },
    {
     "data": {
      "text/plain": [
       "[{'POP_ABBREV': 'Wherever found',\n",
       "  'POP_DESC': 'Wherever found',\n",
       "  'STATUS': 'Under Review in the Candidate or Petition Process'}]"
      ]
     },
     "metadata": {},
     "output_type": "display_data"
    },
    {
     "name": "stdout",
     "output_type": "stream",
     "text": [
      "------------\n",
      "Chilomeniscus stramineus  -  Variable Sandsnake ( rVASAx )\n",
      "Not listed\n",
      "------------\n",
      "Phrynosoma platyrhinos  -  Desert Horned Lizard ( rDHLIx )\n",
      "Not listed\n",
      "------------\n",
      "Thamnophis atratus  -  Aquatic Gartersnake ( rAQGAx )\n",
      "Not listed\n",
      "------------\n",
      "Thamnophis brachystoma  -  Short-headed Gartersnake ( rSHGAx )\n",
      "Date Cached:  2017-07-26T16:02:03.126639\n"
     ]
    },
    {
     "data": {
      "text/plain": [
       "[{'POP_ABBREV': 'Wherever found',\n",
       "  'POP_DESC': 'Wherever found',\n",
       "  'STATUS': 'Species of Concern'}]"
      ]
     },
     "metadata": {},
     "output_type": "display_data"
    },
    {
     "name": "stdout",
     "output_type": "stream",
     "text": [
      "------------\n",
      "Desmognathus monticola  -  Seal Salamander ( aSEASx )\n",
      "Not listed\n",
      "------------\n",
      "Phyllorhynchus browni  -  Saddled Leaf-nosed Snake ( rSALSx )\n",
      "Not listed\n",
      "------------\n",
      "Nerodia clarkii  -  Saltmarsh Watersnake ( rSAWAx )\n",
      "Date Cached:  2017-07-26T16:02:11.157596\n"
     ]
    },
    {
     "data": {
      "text/plain": [
       "[{'POP_ABBREV': 'Wherever found',\n",
       "  'POP_DESC': 'Wherever found',\n",
       "  'STATUS': 'Species of Concern'}]"
      ]
     },
     "metadata": {},
     "output_type": "display_data"
    },
    {
     "name": "stdout",
     "output_type": "stream",
     "text": [
      "------------\n",
      "Calypte anna  -  Anna's Hummingbird ( bANHUx )\n",
      "Not listed\n",
      "------------\n",
      "Falco mexicanus  -  Prairie Falcon ( bPRFAx )\n",
      "Date Cached:  2017-07-26T16:02:30.573061\n"
     ]
    },
    {
     "data": {
      "text/plain": [
       "[{'POP_ABBREV': 'Wherever found',\n",
       "  'POP_DESC': 'Wherever found',\n",
       "  'STATUS': 'Species of Concern'}]"
      ]
     },
     "metadata": {},
     "output_type": "display_data"
    },
    {
     "name": "stdout",
     "output_type": "stream",
     "text": [
      "------------\n",
      "Carpodacus purpureus  -  Purple Finch ( bPUFIx )\n",
      "Not listed\n",
      "------------\n",
      "Thomomys umbrinus intermedius  -  Southern Pocket Gopher ( mSPGOe )\n",
      "Not listed\n",
      "------------\n",
      "Sylvilagus obscurus  -  Appalachian Cottontail ( mAPCOx )\n",
      "Date Cached:  2017-07-26T16:02:35.165541\n"
     ]
    },
    {
     "data": {
      "text/plain": [
       "[{'POP_ABBREV': 'Wherever found',\n",
       "  'POP_DESC': 'Wherever found',\n",
       "  'STATUS': 'Status Undefined'}]"
      ]
     },
     "metadata": {},
     "output_type": "display_data"
    },
    {
     "name": "stdout",
     "output_type": "stream",
     "text": [
      "------------\n",
      "Dendroica petechia  -  Yellow Warbler ( bYWARx )\n",
      "Not listed\n",
      "------------\n",
      "Cynomys parvidens  -  Utah Prairie Dog ( mUPDOx )\n",
      "Date Cached:  2017-07-26T16:02:38.430425\n"
     ]
    },
    {
     "data": {
      "text/plain": [
       "[{'LISTING_DATE': '1973-06-04',\n",
       "  'POP_ABBREV': 'Wherever found',\n",
       "  'POP_DESC': 'Wherever found',\n",
       "  'STATUS': 'Threatened'}]"
      ]
     },
     "metadata": {},
     "output_type": "display_data"
    },
    {
     "name": "stdout",
     "output_type": "stream",
     "text": [
      "------------\n",
      "Rhinocheilus lecontei  -  Long-nosed Snake ( rLNSNx )\n",
      "Not listed\n",
      "------------\n",
      "Ursus americanus luteolus  -  Louisiana Black Bear ( mABBEl )\n",
      "Date Cached:  2017-07-26T16:02:44.373756\n"
     ]
    },
    {
     "data": {
      "text/plain": [
       "[{'LISTING_DATE': '1992-01-07',\n",
       "  'POP_ABBREV': 'Wherever found',\n",
       "  'POP_DESC': 'Wherever found',\n",
       "  'STATUS': 'Recovery'}]"
      ]
     },
     "metadata": {},
     "output_type": "display_data"
    },
    {
     "name": "stdout",
     "output_type": "stream",
     "text": [
      "------------\n",
      "Urosaurus ornatus  -  Ornate Tree Lizard ( rOTLIx )\n",
      "Not listed\n",
      "------------\n",
      "Pitangus sulphuratus  -  Great Kiskadee ( bGKISx )\n",
      "Not listed\n",
      "------------\n",
      "Tyrannus forficatus  -  Scissor-tailed Flycatcher ( bSTFLx )\n",
      "Not listed\n",
      "------------\n",
      "Tympanuchus cupido pinnatus  -  Greater Prairie Chicken (pinnatus) ( bGRPCp )\n",
      "Not listed\n",
      "------------\n",
      "Pelecanus occidentalis californicus  -  California Brown Pelican ( bBRPEc )\n",
      "Date Cached:  2017-07-26T16:03:00.138815\n"
     ]
    },
    {
     "data": {
      "text/plain": [
       "[{'LISTING_DATE': '1970-06-02',\n",
       "  'POP_ABBREV': 'U.S. Atlantic coast, FL, AL',\n",
       "  'POP_DESC': 'U.S. Atlantic coast, FL, AL',\n",
       "  'STATUS': 'Recovery'},\n",
       " {'LISTING_DATE': '1970-06-02',\n",
       "  'POP_ABBREV': 'except U.S. Atlantic coast, FL, AL',\n",
       "  'POP_DESC': 'Wherever found, except U.S. Atlantic coast, FL, AL',\n",
       "  'STATUS': 'Recovery'}]"
      ]
     },
     "metadata": {},
     "output_type": "display_data"
    },
    {
     "name": "stdout",
     "output_type": "stream",
     "text": [
      "------------\n",
      "Anous stolidus  -  Brown Noddy ( bBRNOx )\n",
      "Not listed\n",
      "------------\n",
      "Plegadis chihi  -  White-faced Ibis ( bWFIBx )\n",
      "Date Cached:  2017-07-26T16:03:08.618637\n"
     ]
    },
    {
     "data": {
      "text/plain": [
       "[{'POP_ABBREV': 'Wherever found',\n",
       "  'POP_DESC': 'Wherever found',\n",
       "  'STATUS': 'Species of Concern'}]"
      ]
     },
     "metadata": {},
     "output_type": "display_data"
    },
    {
     "name": "stdout",
     "output_type": "stream",
     "text": [
      "------------\n",
      "Branta hutchinsii  -  Cackling Goose ( bCACGx )\n",
      "Not listed\n",
      "------------\n",
      "Polioptila californica  -  California Gnatcatcher ( bCAGNx )\n",
      "Not listed\n",
      "------------\n",
      "Arborimus longicaudus  -  Red Tree Vole ( mRTVOx )\n",
      "Date Cached:  2017-07-26T16:03:19.782058\n"
     ]
    },
    {
     "data": {
      "text/plain": [
       "[{'POP_ABBREV': 'North Oregon Coast DPS',\n",
       "  'POP_DESC': 'North Oregon Coast population',\n",
       "  'STATUS': 'Candidate'}]"
      ]
     },
     "metadata": {},
     "output_type": "display_data"
    },
    {
     "name": "stdout",
     "output_type": "stream",
     "text": [
      "------------\n",
      "Hylocichla mustelina  -  Wood Thrush ( bWOTHx )\n",
      "Not listed\n",
      "------------\n",
      "Sturnus vulgaris  -  European Starling ( bEUSTx )\n",
      "Not listed\n",
      "------------\n",
      "Microtus chrotorrhinus  -  Rock Vole ( mROVOx )\n",
      "Not listed\n",
      "------------\n",
      "Tamiasciurus hudsonicus  -  Red Squirrel ( mRESQx )\n",
      "Not listed\n",
      "------------\n",
      "Notophthalmus viridescens  -  Eastern Newt ( aEANEx )\n",
      "Not listed\n",
      "------------\n",
      "Sorex preblei  -  Preble's Shrew ( mPBSHx )\n",
      "Date Cached:  2017-07-26T16:03:45.301606\n"
     ]
    },
    {
     "data": {
      "text/plain": [
       "[{'POP_ABBREV': 'Wherever found',\n",
       "  'POP_DESC': 'Wherever found',\n",
       "  'STATUS': 'Species of Concern'}]"
      ]
     },
     "metadata": {},
     "output_type": "display_data"
    },
    {
     "name": "stdout",
     "output_type": "stream",
     "text": [
      "------------\n",
      "Lasiurus seminolus  -  Seminole Bat ( mSEBAx )\n",
      "Not listed\n",
      "------------\n",
      "Equus caballus  -  Horse ( mHORSx )\n",
      "Date Cached:  2017-07-26T16:03:49.916776\n"
     ]
    },
    {
     "data": {
      "text/plain": [
       "[{'POP_ABBREV': 'Wherever found',\n",
       "  'POP_DESC': 'Wherever found',\n",
       "  'STATUS': 'Resolved Taxon'}]"
      ]
     },
     "metadata": {},
     "output_type": "display_data"
    },
    {
     "name": "stdout",
     "output_type": "stream",
     "text": [
      "------------\n",
      "Marmota flaviventris notioros  -  Wet Mountains Marmot ( mYEMAn )\n",
      "Date Cached:  2017-07-26T16:03:52.707718\n"
     ]
    },
    {
     "data": {
      "text/plain": [
       "[{'POP_ABBREV': 'Wherever found',\n",
       "  'POP_DESC': 'Wherever found',\n",
       "  'STATUS': 'Resolved Taxon'}]"
      ]
     },
     "metadata": {},
     "output_type": "display_data"
    },
    {
     "name": "stdout",
     "output_type": "stream",
     "text": [
      "------------\n",
      "Ammodramus savannarum  -  Grasshopper Sparrow ( bGRSPx )\n",
      "Date Cached:  2017-07-26T16:04:01.452008\n"
     ]
    },
    {
     "data": {
      "text/plain": [
       "[{'POP_ABBREV': 'Wherever found',\n",
       "  'POP_DESC': 'Wherever found',\n",
       "  'STATUS': 'Species of Concern'}]"
      ]
     },
     "metadata": {},
     "output_type": "display_data"
    },
    {
     "name": "stdout",
     "output_type": "stream",
     "text": [
      "------------\n",
      "Dendroica graciae  -  Grace's Warbler ( bGRWAx )\n",
      "Not listed\n",
      "------------\n",
      "Phrynosoma cornutum  -  Texas Horned Lizard ( rTHLIx )\n",
      "Date Cached:  2017-07-26T16:04:11.128390\n"
     ]
    },
    {
     "data": {
      "text/plain": [
       "[{'POP_ABBREV': 'Wherever found',\n",
       "  'POP_DESC': 'Wherever found',\n",
       "  'STATUS': 'Species of Concern'}]"
      ]
     },
     "metadata": {},
     "output_type": "display_data"
    },
    {
     "name": "stdout",
     "output_type": "stream",
     "text": [
      "------------\n",
      "Plestiodon laticeps  -  Broad-headed Skink ( rBHSKx )\n",
      "Not listed\n",
      "------------\n",
      "Sternotherus carinatus  -  Razor-backed Musk Turtle ( rRBMTx )\n",
      "Not listed\n",
      "------------\n",
      "Crotalus oreganus  -  Western Rattlesnake ( rWERAx )\n",
      "Not listed\n",
      "------------\n",
      "Dendragapus fuliginosus  -  Sooty Grouse ( bSOGRx )\n",
      "Not listed\n",
      "------------\n",
      "Tringa incana  -  Wandering Tattler ( bWATAx )\n",
      "Not listed\n",
      "------------\n",
      "Zapus hudsonius  -  Meadow Jumping Mouse ( mMJMOx )\n",
      "Not listed\n",
      "------------\n",
      "Spizella passerina  -  Chipping Sparrow ( bCHSPx )\n",
      "Not listed\n",
      "------------\n",
      "Colaptes chrysoides  -  Gilded Flicker ( bGIFLx )\n",
      "Date Cached:  2017-07-26T16:04:32.624554\n"
     ]
    },
    {
     "data": {
      "text/plain": [
       "[{'POP_ABBREV': 'Wherever found',\n",
       "  'POP_DESC': 'Wherever found',\n",
       "  'STATUS': 'Species of Concern'}]"
      ]
     },
     "metadata": {},
     "output_type": "display_data"
    },
    {
     "name": "stdout",
     "output_type": "stream",
     "text": [
      "------------\n",
      "Urocyon littoralis  -  Island Fox ( mISFOx )\n",
      "Date Cached:  2017-07-26T16:04:33.603651\n"
     ]
    },
    {
     "data": {
      "text/plain": [
       "[{'POP_ABBREV': 'Wherever found',\n",
       "  'POP_DESC': 'Wherever found',\n",
       "  'STATUS': 'Status Undefined'}]"
      ]
     },
     "metadata": {},
     "output_type": "display_data"
    },
    {
     "name": "stdout",
     "output_type": "stream",
     "text": [
      "------------\n",
      "Microtus richardsoni  -  North American Water Vole ( mNAWVx )\n",
      "Not listed\n",
      "------------\n",
      "Passerina versicolor  -  Varied Bunting ( bVABUx )\n",
      "Not listed\n",
      "------------\n",
      "Auriparus flaviceps  -  Verdin ( bVERDx )\n",
      "Not listed\n",
      "------------\n",
      "Taricha sierrea  -  Sierra Newt ( aSENEx )\n",
      "Not listed\n",
      "------------\n",
      "Strix occidentalis occidentalis  -  California Spotted Owl ( bSPOWo )\n",
      "Date Cached:  2017-07-26T16:04:40.332526\n"
     ]
    },
    {
     "data": {
      "text/plain": [
       "[{'POP_ABBREV': 'Wherever found',\n",
       "  'POP_DESC': 'Wherever found',\n",
       "  'STATUS': 'Under Review in the Candidate or Petition Process'}]"
      ]
     },
     "metadata": {},
     "output_type": "display_data"
    },
    {
     "name": "stdout",
     "output_type": "stream",
     "text": [
      "------------\n",
      "Micrathene whitneyi  -  Elf Owl ( bELOWx )\n",
      "Date Cached:  2017-07-26T16:04:41.295212\n"
     ]
    },
    {
     "data": {
      "text/plain": [
       "[{'POP_ABBREV': 'Wherever found',\n",
       "  'POP_DESC': 'Wherever found',\n",
       "  'STATUS': 'Species of Concern'}]"
      ]
     },
     "metadata": {},
     "output_type": "display_data"
    },
    {
     "name": "stdout",
     "output_type": "stream",
     "text": [
      "------------\n",
      "Canis lupus rufus  -  Red Wolf ( mGRWOr )\n",
      "Not listed\n",
      "------------\n",
      "Eurycea robusta  -  Blanco Blind Salamander ( aBLSAx )\n",
      "Date Cached:  2017-07-26T16:04:44.022291\n"
     ]
    },
    {
     "data": {
      "text/plain": [
       "[{'POP_ABBREV': 'Wherever found',\n",
       "  'POP_DESC': 'Wherever found',\n",
       "  'STATUS': 'Under Review in the Candidate or Petition Process'}]"
      ]
     },
     "metadata": {},
     "output_type": "display_data"
    },
    {
     "name": "stdout",
     "output_type": "stream",
     "text": [
      "------------\n",
      "Sylvilagus robustus  -  Robust Cottontail ( mROCOx )\n",
      "Not listed\n",
      "------------\n",
      "Dipodomys nitratoides nitratoides  -  Tipton Kangaroo Rat ( mSJKRn )\n",
      "Date Cached:  2017-07-26T16:04:47.702968\n"
     ]
    },
    {
     "data": {
      "text/plain": [
       "[{'LISTING_DATE': '1988-07-08',\n",
       "  'POP_ABBREV': 'Wherever found',\n",
       "  'POP_DESC': 'Wherever found',\n",
       "  'STATUS': 'Endangered'}]"
      ]
     },
     "metadata": {},
     "output_type": "display_data"
    },
    {
     "name": "stdout",
     "output_type": "stream",
     "text": [
      "------------\n",
      "Pantherophis guttatus  -  Red Cornsnake ( rRECOx )\n",
      "Not listed\n",
      "------------\n",
      "Anolis carolinensis  -  Green Anole ( rGRANx )\n",
      "Not listed\n",
      "------------\n",
      "Uma scoparia  -  Mohave Fringe-toed Lizard ( rMFTLx )\n",
      "Date Cached:  2017-07-26T16:04:53.788119\n"
     ]
    },
    {
     "data": {
      "text/plain": [
       "[{'POP_ABBREV': 'Amargosa River population',\n",
       "  'POP_DESC': 'Amargosa River population',\n",
       "  'STATUS': 'Status Undefined'}]"
      ]
     },
     "metadata": {},
     "output_type": "display_data"
    },
    {
     "name": "stdout",
     "output_type": "stream",
     "text": [
      "------------\n",
      "Neotoma floridana smalli  -  Key Largo Woodrat ( mEAWOs )\n",
      "Date Cached:  2017-07-26T16:04:55.915747\n"
     ]
    },
    {
     "data": {
      "text/plain": [
       "[{'LISTING_DATE': '1983-09-21',\n",
       "  'POP_ABBREV': 'Wherever found',\n",
       "  'POP_DESC': 'Wherever found',\n",
       "  'STATUS': 'Endangered'}]"
      ]
     },
     "metadata": {},
     "output_type": "display_data"
    },
    {
     "name": "stdout",
     "output_type": "stream",
     "text": [
      "------------\n",
      "Aneides aeneus  -  Green Salamander ( aGRSAx )\n",
      "Date Cached:  2017-07-26T16:04:57.581679\n"
     ]
    },
    {
     "data": {
      "text/plain": [
       "[{'POP_ABBREV': 'Wherever found',\n",
       "  'POP_DESC': 'Wherever found',\n",
       "  'STATUS': 'Under Review in the Candidate or Petition Process'}]"
      ]
     },
     "metadata": {},
     "output_type": "display_data"
    },
    {
     "name": "stdout",
     "output_type": "stream",
     "text": [
      "------------\n",
      "Crotaphytus reticulatus  -  Reticulate Collared Lizard ( rRCLIx )\n",
      "Date Cached:  2017-07-26T16:04:59.656325\n"
     ]
    },
    {
     "data": {
      "text/plain": [
       "[{'POP_ABBREV': 'Wherever found',\n",
       "  'POP_DESC': 'Wherever found',\n",
       "  'STATUS': 'Resolved Taxon'}]"
      ]
     },
     "metadata": {},
     "output_type": "display_data"
    },
    {
     "name": "stdout",
     "output_type": "stream",
     "text": [
      "------------\n",
      "Podomys floridanus  -  Florida Deermouse ( mFLDEx )\n",
      "Not listed\n",
      "------------\n",
      "Myotis thysanodes  -  Fringed Myotis ( mFRMYx )\n",
      "Date Cached:  2017-07-26T16:05:03.734383\n"
     ]
    },
    {
     "data": {
      "text/plain": [
       "[{'POP_ABBREV': 'Wherever found',\n",
       "  'POP_DESC': 'Wherever found',\n",
       "  'STATUS': 'Species of Concern'}]"
      ]
     },
     "metadata": {},
     "output_type": "display_data"
    },
    {
     "name": "stdout",
     "output_type": "stream",
     "text": [
      "------------\n",
      "Myotis septentrionalis  -  Northern Myotis ( mNOMYx )\n",
      "Date Cached:  2017-07-26T16:05:05.589455\n"
     ]
    },
    {
     "data": {
      "text/plain": [
       "[{'LISTING_DATE': '2015-05-04',\n",
       "  'POP_ABBREV': 'Wherever found',\n",
       "  'POP_DESC': 'Wherever found',\n",
       "  'STATUS': 'Threatened'}]"
      ]
     },
     "metadata": {},
     "output_type": "display_data"
    },
    {
     "name": "stdout",
     "output_type": "stream",
     "text": [
      "------------\n",
      "Peromyscus polionotus trissyllepsis  -  Perdido Key Beach Deermouse ( mOLDEt )\n",
      "Date Cached:  2017-07-26T16:05:07.578507\n"
     ]
    },
    {
     "data": {
      "text/plain": [
       "[{'LISTING_DATE': '1985-06-06',\n",
       "  'POP_ABBREV': 'Wherever found',\n",
       "  'POP_DESC': 'Wherever found',\n",
       "  'STATUS': 'Endangered'}]"
      ]
     },
     "metadata": {},
     "output_type": "display_data"
    },
    {
     "name": "stdout",
     "output_type": "stream",
     "text": [
      "------------\n",
      "Brachylagus idahoensis  -  Pygmy Rabbit ( mPYRAx )\n",
      "Date Cached:  2017-07-26T16:05:10.017425\n"
     ]
    },
    {
     "data": {
      "text/plain": [
       "[{'LISTING_DATE': '2001-11-30',\n",
       "  'POP_ABBREV': 'Columbia Basin DPS',\n",
       "  'POP_DESC': 'U.S.A. (WA-Douglas, Grant, Lincoln, Adams, Benton Counties)',\n",
       "  'STATUS': 'Endangered'},\n",
       " {'POP_ABBREV': 'Wherever found',\n",
       "  'POP_DESC': 'Wherever found',\n",
       "  'STATUS': 'Resolved Taxon'}]"
      ]
     },
     "metadata": {},
     "output_type": "display_data"
    },
    {
     "name": "stdout",
     "output_type": "stream",
     "text": [
      "------------\n",
      "Corynorhinus rafinesquii  -  Rafinesque's Big-eared Bat ( mRBEBx )\n",
      "Not listed\n",
      "------------\n",
      "Bucephala islandica  -  Barrow's Goldeneye ( bBAGOx )\n",
      "Not listed\n",
      "------------\n",
      "Melanerpes uropygialis  -  Gila Woodpecker ( bGIWOx )\n",
      "Date Cached:  2017-07-26T16:05:15.903890\n"
     ]
    },
    {
     "data": {
      "text/plain": [
       "[{'POP_ABBREV': 'Wherever found',\n",
       "  'POP_DESC': 'Wherever found',\n",
       "  'STATUS': 'Species of Concern'}]"
      ]
     },
     "metadata": {},
     "output_type": "display_data"
    },
    {
     "name": "stdout",
     "output_type": "stream",
     "text": [
      "------------\n",
      "Uria aalge  -  Common Murre ( bCOMUx )\n",
      "Not listed\n",
      "------------\n",
      "Callorhinus ursinus  -  Northern Fur Seal ( mNFSEx )\n",
      "Not listed\n",
      "------------\n",
      "Sorex trowbridgii  -  Trowbridge's Shrew ( mTRSHx )\n",
      "Not listed\n",
      "------------\n",
      "Ambystoma tigrinum  -  Eastern Tiger Salamander ( aETSAx )\n",
      "Not listed\n",
      "------------\n",
      "Gallinula chloropus  -  Common Moorhen ( bCOMOx )\n",
      "Not listed\n",
      "------------\n",
      "Canis lupus baileyi  -  Mexican Wolf ( mGRWOb )\n",
      "Date Cached:  2017-07-26T16:05:30.897587\n"
     ]
    },
    {
     "data": {
      "text/plain": [
       "[{'LISTING_DATE': '1976-04-28',\n",
       "  'POP_ABBREV': 'Wherever found, except where listed as an experimental population',\n",
       "  'POP_DESC': 'Wherever found, except where included in an experimental population as set forth in 17.84(k)',\n",
       "  'STATUS': 'Endangered'},\n",
       " {'LISTING_DATE': '1998-01-24',\n",
       "  'POP_ABBREV': 'U.S.A. (portions of AZ and NM)see 17.84(k)',\n",
       "  'POP_DESC': 'U.S.A. (portions of AZ and NM)see 17.84(k)',\n",
       "  'STATUS': 'Experimental Population, Non-Essential'}]"
      ]
     },
     "metadata": {},
     "output_type": "display_data"
    },
    {
     "name": "stdout",
     "output_type": "stream",
     "text": [
      "------------\n",
      "Perognathus longimembris pacificus  -  Pacific Pocket Mouse ( mLPMOp )\n",
      "Date Cached:  2017-07-26T16:05:33.971007\n"
     ]
    },
    {
     "data": {
      "text/plain": [
       "[{'LISTING_DATE': '1994-02-03',\n",
       "  'POP_ABBREV': 'Wherever found',\n",
       "  'POP_DESC': 'Wherever found',\n",
       "  'STATUS': 'Endangered'}]"
      ]
     },
     "metadata": {},
     "output_type": "display_data"
    },
    {
     "name": "stdout",
     "output_type": "stream",
     "text": [
      "------------\n",
      "Neotoma cinerea  -  Bushy-tailed Woodrat ( mBTWOx )\n",
      "Not listed\n",
      "------------\n",
      "Plethodon caddoensis  -  Caddo Mountain Salamander ( aCMSAx )\n",
      "Date Cached:  2017-07-26T16:05:40.271426\n"
     ]
    },
    {
     "data": {
      "text/plain": [
       "[{'POP_ABBREV': 'Wherever found',\n",
       "  'POP_DESC': 'Wherever found',\n",
       "  'STATUS': 'Resolved Taxon'}]"
      ]
     },
     "metadata": {},
     "output_type": "display_data"
    },
    {
     "name": "stdout",
     "output_type": "stream",
     "text": [
      "------------\n",
      "Myotis evotis  -  Long-eared Myotis ( mLEMYx )\n",
      "Date Cached:  2017-07-26T16:05:41.811507\n"
     ]
    },
    {
     "data": {
      "text/plain": [
       "[{'POP_ABBREV': 'Wherever found',\n",
       "  'POP_DESC': 'Wherever found',\n",
       "  'STATUS': 'Species of Concern'}]"
      ]
     },
     "metadata": {},
     "output_type": "display_data"
    },
    {
     "name": "stdout",
     "output_type": "stream",
     "text": [
      "------------\n",
      "Sorex bendirii  -  Marsh Shrew ( mMRSHx )\n",
      "Not listed\n",
      "------------\n",
      "Rana sierrae  -  Sierra Nevada Yellow-legged Frog ( aSYLFx )\n",
      "Date Cached:  2017-07-26T16:05:45.736137\n"
     ]
    },
    {
     "data": {
      "text/plain": [
       "[{'LISTING_DATE': '2014-06-30',\n",
       "  'POP_ABBREV': 'Wherever found',\n",
       "  'POP_DESC': 'Wherever found',\n",
       "  'STATUS': 'Endangered'}]"
      ]
     },
     "metadata": {},
     "output_type": "display_data"
    },
    {
     "name": "stdout",
     "output_type": "stream",
     "text": [
      "------------\n",
      "Gyrinophilus palleucus  -  Tennessee Cave Salamander ( aTCSAx )\n",
      "Date Cached:  2017-07-26T16:05:47.122080\n"
     ]
    },
    {
     "data": {
      "text/plain": [
       "[{'POP_ABBREV': 'Wherever found',\n",
       "  'POP_DESC': 'Wherever found',\n",
       "  'STATUS': 'Under Review in the Candidate or Petition Process'}]"
      ]
     },
     "metadata": {},
     "output_type": "display_data"
    },
    {
     "name": "stdout",
     "output_type": "stream",
     "text": [
      "------------\n",
      "Ochrotomys nuttalli  -  Golden Mouse ( mGOMOx )\n",
      "Not listed\n",
      "------------\n",
      "Sciurus nayaritensis  -  Mexican Fox Squirrel ( mMFSQx )\n",
      "Not listed\n",
      "------------\n",
      "Ptychoramphus aleuticus  -  Cassin's Auklet ( bCAAUx )\n",
      "Date Cached:  2017-07-26T16:05:52.917539\n"
     ]
    },
    {
     "data": {
      "text/plain": [
       "[{'POP_ABBREV': 'Wherever found',\n",
       "  'POP_DESC': 'Wherever found',\n",
       "  'STATUS': 'Species of Concern'}]"
      ]
     },
     "metadata": {},
     "output_type": "display_data"
    },
    {
     "name": "stdout",
     "output_type": "stream",
     "text": [
      "------------\n",
      "Desmognathus imitator  -  Imitator Salamander ( aIMSAx )\n",
      "Not listed\n",
      "------------\n",
      "Pseudobranchus axanthus  -  Southern Dwarf Siren ( aSDSIx )\n",
      "Not listed\n",
      "------------\n",
      "Quiscalus major  -  Boat-tailed Grackle ( bBTGRx )\n",
      "Not listed\n",
      "------------\n",
      "Vireo atricapilla  -  Black-capped Vireo ( bBCVIx )\n",
      "Date Cached:  2017-07-26T16:06:00.390323\n"
     ]
    },
    {
     "data": {
      "text/plain": [
       "[{'LISTING_DATE': '1987-10-06',\n",
       "  'POP_ABBREV': 'Wherever found',\n",
       "  'POP_DESC': 'Wherever found',\n",
       "  'STATUS': 'Endangered'}]"
      ]
     },
     "metadata": {},
     "output_type": "display_data"
    },
    {
     "name": "stdout",
     "output_type": "stream",
     "text": [
      "------------\n",
      "Toxostoma bendirei  -  Bendire's Thrasher ( bBETHx )\n",
      "Date Cached:  2017-07-26T16:06:01.367365\n"
     ]
    },
    {
     "data": {
      "text/plain": [
       "[{'POP_ABBREV': 'Wherever found',\n",
       "  'POP_DESC': 'Wherever found',\n",
       "  'STATUS': 'Species of Concern'}]"
      ]
     },
     "metadata": {},
     "output_type": "display_data"
    },
    {
     "name": "stdout",
     "output_type": "stream",
     "text": [
      "------------\n",
      "Anhinga anhinga  -  Anhinga ( bANHIx )\n",
      "Not listed\n",
      "------------\n",
      "Pachyramphus aglaiae  -  Rose-throated Becard ( bRTBEx )\n",
      "Not listed\n",
      "------------\n",
      "Plethodon kentucki  -  Cumberland Plateau Salamander ( aCPSAx )\n",
      "Not listed\n",
      "------------\n",
      "Rana draytonii  -  California Red-legged Frog ( aCRLFx )\n",
      "Date Cached:  2017-07-26T16:06:05.500418\n"
     ]
    },
    {
     "data": {
      "text/plain": [
       "[{'LISTING_DATE': '1996-05-23',\n",
       "  'POP_ABBREV': 'Wherever found',\n",
       "  'POP_DESC': 'Wherever found',\n",
       "  'STATUS': 'Threatened'}]"
      ]
     },
     "metadata": {},
     "output_type": "display_data"
    },
    {
     "name": "stdout",
     "output_type": "stream",
     "text": [
      "------------\n",
      "Glaucomys volans  -  Southern Flying Squirrel ( mSFSQx )\n",
      "Not listed\n",
      "------------\n",
      "Colinus virginianus  -  Northern Bobwhite ( bNOBOx )\n",
      "Not listed\n",
      "------------\n",
      "Porphyrio martinica  -  Purple Gallinule ( bPUGAx )\n",
      "Not listed\n",
      "------------\n",
      "Scalopus aquaticus  -  Eastern Mole ( mEAMOx )\n",
      "Not listed\n",
      "------------\n",
      "Pipistrellus subflavus  -  Eastern Pipistrelle ( mEAPIx )\n",
      "Not listed\n",
      "------------\n",
      "Sorex nanus  -  Dwarf Shrew ( mDWSHx )\n",
      "Not listed\n",
      "------------\n",
      "Heloderma suspectum  -  Gila Monster ( rGIMOx )\n",
      "Date Cached:  2017-07-26T16:06:16.691943\n"
     ]
    },
    {
     "data": {
      "text/plain": [
       "[{'POP_ABBREV': 'Utah DPS',\n",
       "  'POP_DESC': 'Utah DPS',\n",
       "  'STATUS': 'Resolved Taxon'},\n",
       " {'POP_ABBREV': 'Wherever found',\n",
       "  'POP_DESC': 'Wherever found',\n",
       "  'STATUS': 'Resolved Taxon'}]"
      ]
     },
     "metadata": {},
     "output_type": "display_data"
    },
    {
     "name": "stdout",
     "output_type": "stream",
     "text": [
      "------------\n",
      "Ursus americanus  -  American Black Bear ( mABBEx )\n",
      "Date Cached:  2017-07-26T16:06:17.876141\n"
     ]
    },
    {
     "data": {
      "text/plain": [
       "[{'LISTING_DATE': '1992-01-07',\n",
       "  'POP_ABBREV': 'County range of LA b.bear',\n",
       "  'POP_DESC': 'U.S.A. (LA, all counties, MS, TX, only within the historic county range of the Louisiana black bear)',\n",
       "  'STATUS': 'Resolved Taxon'}]"
      ]
     },
     "metadata": {},
     "output_type": "display_data"
    },
    {
     "name": "stdout",
     "output_type": "stream",
     "text": [
      "------------\n",
      "Tamias striatus  -  Eastern Chipmunk ( mEACHx )\n",
      "Not listed\n",
      "------------\n",
      "Plestiodon multivirgatus  -  Many-lined Skink ( rMLSKx )\n",
      "Not listed\n",
      "------------\n",
      "Tamiasciurus douglasii  -  Douglas's Squirrel ( mDOSQx )\n",
      "Not listed\n",
      "------------\n",
      "Oporornis tolmiei  -  Macgillivray's Warbler ( bMGWAx )\n",
      "Not listed\n",
      "------------\n",
      "Ictinia mississippiensis  -  Mississippi Kite ( bMIKIx )\n",
      "Not listed\n",
      "------------\n",
      "Tachybaptus dominicus  -  Least Grebe ( bLEGRx )\n",
      "Not listed\n",
      "------------\n",
      "Seiurus motacilla  -  Louisiana Waterthrush ( bLOWAx )\n",
      "Not listed\n",
      "------------\n",
      "Sphyrapicus nuchalis  -  Red-naped Sapsucker ( bRNSAx )\n",
      "Not listed\n",
      "------------\n",
      "Charadrius montanus  -  Mountain Plover ( bMOPLx )\n",
      "Date Cached:  2017-07-26T16:06:39.523237\n"
     ]
    },
    {
     "data": {
      "text/plain": [
       "[{'POP_ABBREV': 'Wherever found',\n",
       "  'POP_DESC': 'Wherever found',\n",
       "  'STATUS': 'Resolved Taxon'}]"
      ]
     },
     "metadata": {},
     "output_type": "display_data"
    },
    {
     "name": "stdout",
     "output_type": "stream",
     "text": [
      "------------\n",
      "Perognathus amplus  -  Arizona Pocket Mouse ( mAPMOx )\n",
      "Not listed\n",
      "------------\n",
      "Carduelis psaltria  -  Lesser Goldfinch ( bLEGOx )\n",
      "Not listed\n",
      "------------\n",
      "Tachycineta thalassina  -  Violet-green Swallow ( bVGSWx )\n",
      "Not listed\n",
      "------------\n",
      "Strix occidentalis lucida  -  Mexican Spotted Owl ( bSPOWl )\n",
      "Date Cached:  2017-07-26T16:06:51.016354\n"
     ]
    },
    {
     "data": {
      "text/plain": [
       "[{'LISTING_DATE': '1993-03-16',\n",
       "  'POP_ABBREV': 'Wherever found',\n",
       "  'POP_DESC': 'Wherever found',\n",
       "  'STATUS': 'Threatened'}]"
      ]
     },
     "metadata": {},
     "output_type": "display_data"
    },
    {
     "name": "stdout",
     "output_type": "stream",
     "text": [
      "------------\n",
      "Craugastor augusti  -  Barking Frog ( aBAFRx )\n",
      "Not listed\n",
      "------------\n",
      "Anaxyrus microscaphus  -  Arizona Toad ( aAZTOx )\n",
      "Not listed\n",
      "------------\n",
      "Agelaius tricolor  -  Tricolored Blackbird ( bTRBLx )\n",
      "Date Cached:  2017-07-26T16:06:56.759430\n"
     ]
    },
    {
     "data": {
      "text/plain": [
       "[{'POP_ABBREV': 'Wherever found',\n",
       "  'POP_DESC': 'Wherever found',\n",
       "  'STATUS': 'Under Review in the Candidate or Petition Process'}]"
      ]
     },
     "metadata": {},
     "output_type": "display_data"
    },
    {
     "name": "stdout",
     "output_type": "stream",
     "text": [
      "------------\n",
      "Aneides ferreus  -  Clouded Salamander ( aCLSAx )\n",
      "Not listed\n",
      "------------\n",
      "Picoides albolarvatus  -  White-headed Woodpecker ( bWHWOx )\n",
      "Date Cached:  2017-07-26T16:07:02.109313\n"
     ]
    },
    {
     "data": {
      "text/plain": [
       "[{'POP_ABBREV': 'Wherever found',\n",
       "  'POP_DESC': 'Wherever found',\n",
       "  'STATUS': 'Species of Concern'}]"
      ]
     },
     "metadata": {},
     "output_type": "display_data"
    },
    {
     "name": "stdout",
     "output_type": "stream",
     "text": [
      "------------\n",
      "Calidris mauri  -  Western Sandpiper ( bWESAx )\n",
      "Not listed\n",
      "------------\n",
      "Pipilo maculatus  -  Spotted Towhee ( bSPTOx )\n",
      "Not listed\n",
      "------------\n",
      "Junco phaeonotus  -  Yellow-eyed Junco ( bYEJUx )\n",
      "Not listed\n",
      "------------\n",
      "Pelecanus erythrorhynchos  -  American White Pelican ( bAWPEx )\n",
      "Not listed\n",
      "------------\n",
      "Tympanuchus phasianellus campestris  -  Prarie Sharp-tailed Grouse ( bSTGRa )\n",
      "Not listed\n",
      "------------\n",
      "Pipilo fuscus  -  Canyon Towhee ( bCANTx )\n",
      "Not listed\n",
      "------------\n",
      "Chionactis palarostris  -  Sonoran Shovel-nosed Snake ( rSSNSx )\n",
      "Not listed\n",
      "------------\n",
      "Nerodia harteri  -  Brazos River Watersnake ( rBRVWx )\n",
      "Not listed\n",
      "------------\n",
      "Chrysemys picta  -  Painted Turtle ( rPATUx )\n",
      "Not listed\n",
      "------------\n",
      "Tantilla hobartsmithi  -  Smith's Black-headed Snake ( rSBHSx )\n",
      "Not listed\n",
      "------------\n",
      "Hydromantes platycephalus  -  Mount Lyell Salamander ( aMLYSx )\n",
      "Date Cached:  2017-07-26T16:07:20.292845\n"
     ]
    },
    {
     "data": {
      "text/plain": [
       "[{'POP_ABBREV': 'Wherever found',\n",
       "  'POP_DESC': 'Wherever found',\n",
       "  'STATUS': 'Species of Concern'}]"
      ]
     },
     "metadata": {},
     "output_type": "display_data"
    },
    {
     "name": "stdout",
     "output_type": "stream",
     "text": [
      "------------\n",
      "Somateria mollissima  -  Common Eider ( bCOEIx )\n",
      "Not listed\n",
      "------------\n",
      "Sceloporus undulatus  -  Eastern Fence Lizard ( rEFLIx )\n",
      "Not listed\n",
      "------------\n",
      "Salvadora grahamiae  -  Eastern Patch-nosed Snake ( rEPNSx )\n",
      "Not listed\n",
      "------------\n",
      "Sternotherus depressus  -  Flattened Musk Turtle ( rFLMTx )\n",
      "Date Cached:  2017-07-26T16:07:24.556594\n"
     ]
    },
    {
     "data": {
      "text/plain": [
       "[{'LISTING_DATE': '1987-06-11',\n",
       "  'POP_ABBREV': 'Black Warrior R. system upstream from Bankhead Dam',\n",
       "  'POP_DESC': 'Black Warrior R. system upstream from Bankhead Dam',\n",
       "  'STATUS': 'Threatened'}]"
      ]
     },
     "metadata": {},
     "output_type": "display_data"
    },
    {
     "name": "stdout",
     "output_type": "stream",
     "text": [
      "------------\n",
      "Plestiodon tetragrammus  -  Four-lined Skink ( rFLSKx )\n",
      "Not listed\n",
      "------------\n",
      "Uta stansburiana  -  Common Side-blotched Lizard ( rCSBLx )\n",
      "Not listed\n",
      "------------\n",
      "Gymnorhinus cyanocephalus  -  Pinyon Jay ( bPIJAx )\n",
      "Date Cached:  2017-07-26T16:07:28.661937\n"
     ]
    },
    {
     "data": {
      "text/plain": [
       "[{'POP_ABBREV': 'Wherever found',\n",
       "  'POP_DESC': 'Wherever found',\n",
       "  'STATUS': 'Species of Concern'}]"
      ]
     },
     "metadata": {},
     "output_type": "display_data"
    },
    {
     "name": "stdout",
     "output_type": "stream",
     "text": [
      "------------\n",
      "Reithrodontomys raviventris  -  Salt-marsh Harvest Mouse ( mSMHMx )\n",
      "Date Cached:  2017-07-26T16:07:29.751868\n"
     ]
    },
    {
     "data": {
      "text/plain": [
       "[{'LISTING_DATE': '1970-10-13',\n",
       "  'POP_ABBREV': 'wherever found',\n",
       "  'POP_DESC': 'wherever found',\n",
       "  'STATUS': 'Endangered'}]"
      ]
     },
     "metadata": {},
     "output_type": "display_data"
    },
    {
     "name": "stdout",
     "output_type": "stream",
     "text": [
      "------------\n",
      "Sceloporus orcutti  -  Granite Spiny Lizard ( rGNSLx )\n",
      "Not listed\n",
      "------------\n",
      "Myotis velifer  -  Cave Myotis ( mCVMYx )\n",
      "Date Cached:  2017-07-26T16:07:33.011544\n"
     ]
    },
    {
     "data": {
      "text/plain": [
       "[{'POP_ABBREV': 'Wherever found',\n",
       "  'POP_DESC': 'Wherever found',\n",
       "  'STATUS': 'Species of Concern'}]"
      ]
     },
     "metadata": {},
     "output_type": "display_data"
    },
    {
     "name": "stdout",
     "output_type": "stream",
     "text": [
      "------------\n",
      "Odocoileus virginianus  -  White-tailed Deer ( mWTDEx )\n",
      "Not listed\n",
      "------------\n",
      "Sceloporus tristichus  -  Plateau Fence Lizard ( rPFLIx )\n",
      "Not listed\n",
      "------------\n",
      "Neotoma fuscipes riparia  -  San Joaquin Valley Wood Rat ( mDFWOs )\n",
      "Date Cached:  2017-07-26T16:07:37.174579\n"
     ]
    },
    {
     "data": {
      "text/plain": [
       "[{'LISTING_DATE': '2000-02-23',\n",
       "  'POP_ABBREV': 'Wherever found',\n",
       "  'POP_DESC': 'Wherever found',\n",
       "  'STATUS': 'Endangered'}]"
      ]
     },
     "metadata": {},
     "output_type": "display_data"
    },
    {
     "name": "stdout",
     "output_type": "stream",
     "text": [
      "------------\n",
      "Cervus nippon  -  Sika ( mSIKAx )\n",
      "Not listed\n",
      "------------\n",
      "Aspidoscelis scalaris  -  Plateau Spotted Whiptail ( rPLWHx )\n",
      "Not listed\n",
      "------------\n",
      "Crotalus ruber  -  Red Diamond Rattlesnake ( rRDRAx )\n",
      "Not listed\n",
      "------------\n",
      "Crotalus willardi  -  Ridge-nosed Rattlesnake ( rRNRAx )\n",
      "Not listed\n",
      "------------\n",
      "Odocoileus virginianus nigribarbis  -  Blackbeard Island Deer ( mWTDEn )\n",
      "Date Cached:  2017-07-26T16:07:43.351968\n"
     ]
    },
    {
     "data": {
      "text/plain": [
       "[{'POP_ABBREV': 'Wherever found',\n",
       "  'POP_DESC': 'Wherever found',\n",
       "  'STATUS': 'Species of Concern'}]"
      ]
     },
     "metadata": {},
     "output_type": "display_data"
    },
    {
     "name": "stdout",
     "output_type": "stream",
     "text": [
      "------------\n",
      "Kinosternon baurii  -  Striped Mud Turtle ( rSTMTx )\n",
      "Not listed\n",
      "------------\n",
      "Senticolis triaspis  -  Green Ratsnake ( rGNRAx )\n",
      "Not listed\n",
      "------------\n",
      "Aechmophorus occidentalis  -  Western Grebe ( bWEGRx )\n",
      "Not listed\n",
      "------------\n",
      "Buteo swainsoni  -  Swainson's Hawk ( bSWHAx )\n",
      "Date Cached:  2017-07-26T16:07:48.750725\n"
     ]
    },
    {
     "data": {
      "text/plain": [
       "[{'POP_ABBREV': 'Wherever found',\n",
       "  'POP_DESC': 'Wherever found',\n",
       "  'STATUS': 'Resolved Taxon'}]"
      ]
     },
     "metadata": {},
     "output_type": "display_data"
    },
    {
     "name": "stdout",
     "output_type": "stream",
     "text": [
      "------------\n",
      "Amphispiza belli belli  -  Bell's Sage Sparrow ( bSAGSb )\n",
      "Date Cached:  2017-07-26T16:07:50.743266\n"
     ]
    },
    {
     "data": {
      "text/plain": [
       "[{'POP_ABBREV': 'Wherever found',\n",
       "  'POP_DESC': 'Wherever found',\n",
       "  'STATUS': 'Species of Concern'}]"
      ]
     },
     "metadata": {},
     "output_type": "display_data"
    },
    {
     "name": "stdout",
     "output_type": "stream",
     "text": [
      "------------\n",
      "Plethodon hoffmani  -  Valley And Ridge Salamander ( aVRSAx )\n",
      "Not listed\n",
      "------------\n",
      "Meleagris gallopavo  -  Wild Turkey ( bWITUx )\n",
      "Not listed\n",
      "------------\n",
      "Phalaropus tricolor  -  Wilson's Phalarope ( bWIPHx )\n",
      "Not listed\n",
      "------------\n",
      "Rana muscosa  -  Southern Mountain Yellow-legged Frog ( aSMFRx )\n",
      "Date Cached:  2017-07-26T16:07:55.060565\n"
     ]
    },
    {
     "data": {
      "text/plain": [
       "[{'LISTING_DATE': '2014-06-30',\n",
       "  'POP_ABBREV': 'Northern California DPS',\n",
       "  'POP_DESC': 'U.S.A., northern California',\n",
       "  'STATUS': 'Endangered'},\n",
       " {'LISTING_DATE': '2002-07-02',\n",
       "  'POP_ABBREV': 'Southern California DPS',\n",
       "  'POP_DESC': 'U.S.A., southern California',\n",
       "  'STATUS': 'Endangered'}]"
      ]
     },
     "metadata": {},
     "output_type": "display_data"
    },
    {
     "name": "stdout",
     "output_type": "stream",
     "text": [
      "------------\n",
      "Plethodon albagula  -  Western Slimy Salamander ( aWSSAx )\n",
      "Not listed\n",
      "------------\n",
      "Mustela nivalis  -  Least Weasel ( mLEWEx )\n",
      "Not listed\n",
      "------------\n",
      "Aplodontia rufa olympica  -  Mountain Beaver olympica ( mSEWEo )\n",
      "Not listed\n",
      "------------\n",
      "Corynorhinus townsendii townsendii  -  Townsend's Western Big-eared Bat ( mTBEBt )\n",
      "Not listed\n",
      "------------\n",
      "Aphelocoma ultramarina  -  Mexican Jay ( bMEJAx )\n",
      "Not listed\n",
      "------------\n",
      "Blarina hylophaga  -  Elliot's Short-tailed Shrew ( mESTSx )\n",
      "Not listed\n",
      "------------\n",
      "Puma yagouaroundi  -  Gulf Coast Jaguarundi ( mJAGDc )\n",
      "Not listed\n",
      "------------\n",
      "Oxyura jamaicensis  -  Ruddy Duck ( bRUDUx )\n",
      "Not listed\n",
      "------------\n",
      "Charadrius melodus  -  Piping Plover ( bPIPLx )\n",
      "Date Cached:  2017-07-26T16:08:05.934196\n"
     ]
    },
    {
     "data": {
      "text/plain": [
       "[{'LISTING_DATE': '1985-12-11',\n",
       "  'POP_ABBREV': 'except Great Lakes watershed',\n",
       "  'POP_DESC': 'Entire, except those areas where listed as endangered above',\n",
       "  'STATUS': 'Threatened'},\n",
       " {'LISTING_DATE': '1985-12-11',\n",
       "  'POP_ABBREV': 'Great Lakes, watershed in States of IL, IN, MI, MN, NY, OH, PA, and WI and Canada (Ont.)',\n",
       "  'POP_DESC': 'Great Lakes, watershed in States of IL, IN, MI, MN, NY, OH, PA, and WI and Canada (Ont.)',\n",
       "  'STATUS': 'Endangered'}]"
      ]
     },
     "metadata": {},
     "output_type": "display_data"
    },
    {
     "name": "stdout",
     "output_type": "stream",
     "text": [
      "------------\n",
      "Dryocopus pileatus  -  Pileated Woodpecker ( bPIWOx )\n",
      "Not listed\n",
      "------------\n",
      "Anas clypeata  -  Northern Shoveler ( bNSHOx )\n",
      "Not listed\n",
      "------------\n",
      "Cygnus olor  -  Mute Swan ( bMUSWx )\n",
      "Not listed\n",
      "------------\n",
      "Arremonops rufivirgatus  -  Olive Sparrow ( bOLSPx )\n",
      "Not listed\n",
      "------------\n",
      "Dendroica discolor  -  Prairie Warbler ( bPRAWx )\n",
      "Not listed\n",
      "------------\n",
      "Anaxyrus boreas  -  Western Toad ( aBOTOx )\n",
      "Not listed\n",
      "------------\n",
      "Rangifer tarandus caribou  -  Woodland Caribou ( mCARIc )\n",
      "Date Cached:  2017-07-26T16:08:16.739534\n"
     ]
    },
    {
     "data": {
      "text/plain": [
       "[{'LISTING_DATE': '1983-01-14',\n",
       "  'POP_ABBREV': 'Selkirk Mountain population',\n",
       "  'POP_DESC': 'U.S.A. (ID, WA), Canada (that part of S.E. British Columbia bounded by the U.S.-Can. border, Columbia R., Kootenay R., Kootenay L., and Kootenai R.)',\n",
       "  'STATUS': 'Endangered'}]"
      ]
     },
     "metadata": {},
     "output_type": "display_data"
    },
    {
     "name": "stdout",
     "output_type": "stream",
     "text": [
      "------------\n",
      "Dendrocygna bicolor  -  Fulvous Whistling-duck ( bFUWDx )\n",
      "Date Cached:  2017-07-26T16:08:18.746861\n"
     ]
    },
    {
     "data": {
      "text/plain": [
       "[{'POP_ABBREV': 'Wherever found',\n",
       "  'POP_DESC': 'Wherever found',\n",
       "  'STATUS': 'Species of Concern'}]"
      ]
     },
     "metadata": {},
     "output_type": "display_data"
    },
    {
     "name": "stdout",
     "output_type": "stream",
     "text": [
      "------------\n",
      "Spizella pallida  -  Clay-colored Sparrow ( bCCSPx )\n",
      "Not listed\n",
      "------------\n",
      "Coccyzus erythropthalmus  -  Black-billed Cuckoo ( bBBCUx )\n",
      "Date Cached:  2017-07-26T16:08:20.720141\n"
     ]
    },
    {
     "data": {
      "text/plain": [
       "[{'POP_ABBREV': 'Wherever found',\n",
       "  'POP_DESC': 'Wherever found',\n",
       "  'STATUS': 'Species of Concern'}]"
      ]
     },
     "metadata": {},
     "output_type": "display_data"
    },
    {
     "name": "stdout",
     "output_type": "stream",
     "text": [
      "------------\n",
      "Strix varia  -  Barred Owl ( bBADOx )\n",
      "Not listed\n",
      "------------\n",
      "Cypseloides niger  -  Black Swift ( bBLSWx )\n",
      "Date Cached:  2017-07-26T16:08:22.642825\n"
     ]
    },
    {
     "data": {
      "text/plain": [
       "[{'POP_ABBREV': 'Wherever found',\n",
       "  'POP_DESC': 'Wherever found',\n",
       "  'STATUS': 'Species of Concern'}]"
      ]
     },
     "metadata": {},
     "output_type": "display_data"
    },
    {
     "name": "stdout",
     "output_type": "stream",
     "text": [
      "------------\n",
      "Microdipodops pallidus  -  Pale Kangaroo Mouse ( mPKMOx )\n",
      "Not listed\n",
      "------------\n",
      "Strix nebulosa  -  Great Gray Owl ( bGGOWx )\n",
      "Not listed\n",
      "------------\n",
      "Sterna caspia  -  Caspian Tern ( bCATEx )\n",
      "Not listed\n",
      "------------\n",
      "Microtus ochrogaster  -  Prairie Vole ( mPRVOx )\n",
      "Not listed\n",
      "------------\n",
      "Dipodomys elator  -  Texas Kangaroo Rat ( mTKRAx )\n",
      "Date Cached:  2017-07-26T16:08:27.591665\n"
     ]
    },
    {
     "data": {
      "text/plain": [
       "[{'POP_ABBREV': 'Wherever found',\n",
       "  'POP_DESC': 'Wherever found',\n",
       "  'STATUS': 'Under Review in the Candidate or Petition Process'}]"
      ]
     },
     "metadata": {},
     "output_type": "display_data"
    },
    {
     "name": "stdout",
     "output_type": "stream",
     "text": [
      "------------\n",
      "Plegadis falcinellus  -  Glossy Ibis ( bGLIBx )\n",
      "Not listed\n",
      "------------\n",
      "Ensatina eschscholtzii  -  Ensatina ( aENSAx )\n",
      "Not listed\n",
      "------------\n",
      "Plethodon kisatchie  -  Louisiana Slimy Salamander ( aLASAx )\n",
      "Date Cached:  2017-07-26T16:08:33.587653\n"
     ]
    },
    {
     "data": {
      "text/plain": [
       "[{'POP_ABBREV': 'Wherever found',\n",
       "  'POP_DESC': 'Wherever found',\n",
       "  'STATUS': 'Species of Concern'}]"
      ]
     },
     "metadata": {},
     "output_type": "display_data"
    },
    {
     "name": "stdout",
     "output_type": "stream",
     "text": [
      "------------\n",
      "Piranga rubra  -  Summer Tanager ( bSUTAx )\n",
      "Not listed\n",
      "------------\n",
      "Melospiza georgiana  -  Swamp Sparrow ( bSWSPx )\n",
      "Not listed\n",
      "------------\n",
      "Desmognathus marmoratus  -  Shovel-nosed Salamander ( aSNSAx )\n",
      "Not listed\n",
      "------------\n",
      "Calidris alpina  -  Dunlin ( bDUNLx )\n",
      "Not listed\n",
      "------------\n",
      "Oceanodroma homochroa  -  Ashy Storm-petrel ( bASSPx )\n",
      "Date Cached:  2017-07-26T16:08:40.549265\n"
     ]
    },
    {
     "data": {
      "text/plain": [
       "[{'POP_ABBREV': 'Wherever found',\n",
       "  'POP_DESC': 'Wherever found',\n",
       "  'STATUS': 'Resolved Taxon'}]"
      ]
     },
     "metadata": {},
     "output_type": "display_data"
    },
    {
     "name": "stdout",
     "output_type": "stream",
     "text": [
      "------------\n",
      "Eurycea spelaea  -  Grotto Salamander ( aGSALx )\n",
      "Not listed\n",
      "------------\n",
      "Eurycea junaluska  -  Junaluska Salamander ( aJUSAx )\n",
      "Date Cached:  2017-07-26T16:08:43.630264\n"
     ]
    },
    {
     "data": {
      "text/plain": [
       "[{'POP_ABBREV': 'Wherever found',\n",
       "  'POP_DESC': 'Wherever found',\n",
       "  'STATUS': 'Resolved Taxon'}]"
      ]
     },
     "metadata": {},
     "output_type": "display_data"
    },
    {
     "name": "stdout",
     "output_type": "stream",
     "text": [
      "------------\n",
      "Myotis austroriparius  -  Southeastern Myotis ( mSEMYx )\n",
      "Date Cached:  2017-07-26T16:08:44.645763\n"
     ]
    },
    {
     "data": {
      "text/plain": [
       "[{'POP_ABBREV': 'Wherever found',\n",
       "  'POP_DESC': 'Wherever found',\n",
       "  'STATUS': 'Species of Concern'}]"
      ]
     },
     "metadata": {},
     "output_type": "display_data"
    },
    {
     "name": "stdout",
     "output_type": "stream",
     "text": [
      "------------\n",
      "Microtus montanus fucosus  -  Pahranagat Valley Vole ( mMOVOf )\n",
      "Date Cached:  2017-07-26T16:08:45.682965\n"
     ]
    },
    {
     "data": {
      "text/plain": [
       "[{'POP_ABBREV': 'Wherever found',\n",
       "  'POP_DESC': 'Wherever found',\n",
       "  'STATUS': 'Species of Concern'}]"
      ]
     },
     "metadata": {},
     "output_type": "display_data"
    },
    {
     "name": "stdout",
     "output_type": "stream",
     "text": [
      "------------\n",
      "Plethodon wehrlei  -  Wehrle's Salamander ( aWHSAx )\n",
      "Not listed\n",
      "------------\n",
      "Plethodon websteri  -  Webster's Salamander ( aWBSAx )\n",
      "Not listed\n",
      "------------\n",
      "Myotis lucifugus  -  Little Brown Myotis ( mLBMYx )\n",
      "Date Cached:  2017-07-26T16:08:49.350021\n"
     ]
    },
    {
     "data": {
      "text/plain": [
       "[{'POP_ABBREV': 'Wherever found',\n",
       "  'POP_DESC': 'Wherever found',\n",
       "  'STATUS': 'Species of Concern'}]"
      ]
     },
     "metadata": {},
     "output_type": "display_data"
    },
    {
     "name": "stdout",
     "output_type": "stream",
     "text": [
      "------------\n",
      "Oreamnos americanus  -  Mountain Goat ( mMOGOx )\n",
      "Not listed\n",
      "------------\n",
      "Calothorax lucifer  -  Lucifer Hummingbird ( bLUHUx )\n",
      "Not listed\n",
      "------------\n",
      "Sula dactylatra  -  Masked Booby ( bMABOx )\n",
      "Not listed\n",
      "------------\n",
      "Perognathus merriami  -  Merriam's Pocket Mouse ( mMPMOx )\n",
      "Not listed\n",
      "------------\n",
      "Neofiber alleni  -  Round-tailed Muskrat ( mRTMUx )\n",
      "Date Cached:  2017-07-26T16:08:55.182660\n"
     ]
    },
    {
     "data": {
      "text/plain": [
       "[{'POP_ABBREV': 'Wherever found',\n",
       "  'POP_DESC': 'Wherever found',\n",
       "  'STATUS': 'Species of Concern'}]"
      ]
     },
     "metadata": {},
     "output_type": "display_data"
    },
    {
     "name": "stdout",
     "output_type": "stream",
     "text": [
      "------------\n",
      "Carpodacus mexicanus  -  House Finch ( bHOFIx )\n",
      "Not listed\n",
      "------------\n",
      "Calcarius lapponicus  -  Lapland Longspur ( bLALOx )\n",
      "Not listed\n",
      "------------\n",
      "Nomonyx dominicus  -  Masked Duck ( bMADUx )\n",
      "Not listed\n",
      "------------\n",
      "Larus canus  -  Mew Gull ( bMEGUx )\n",
      "Not listed\n",
      "------------\n",
      "Lithobates capito  -  Gopher Frog ( aGOFRx )\n",
      "Date Cached:  2017-07-26T16:09:00.293697\n"
     ]
    },
    {
     "data": {
      "text/plain": [
       "[{'POP_ABBREV': 'Wherever found',\n",
       "  'POP_DESC': 'Wherever found',\n",
       "  'STATUS': 'Under Review in the Candidate or Petition Process'}]"
      ]
     },
     "metadata": {},
     "output_type": "display_data"
    },
    {
     "name": "stdout",
     "output_type": "stream",
     "text": [
      "------------\n",
      "Piranga flava  -  Hepatic Tanager ( bHETAx )\n",
      "Not listed\n",
      "------------\n",
      "Reithrodontomys fulvescens  -  Fulvous Harvest Mouse ( mFHMOx )\n",
      "Not listed\n",
      "------------\n",
      "Icterus pectoralis  -  Spot-breasted Oriole ( bSBORx )\n",
      "Not listed\n",
      "------------\n",
      "Callipepla squamata  -  Scaled Quail ( bSCQUx )\n",
      "Not listed\n",
      "------------\n",
      "Pipilo aberti  -  Abert's Towhee ( bABTOx )\n",
      "Not listed\n",
      "------------\n",
      "Corvus brachyrhynchos  -  American Crow ( bAMCRx )\n",
      "Not listed\n",
      "------------\n",
      "Gerrhonotus infernalis  -  Texas Alligator Lizard ( rTALIx )\n",
      "Not listed\n",
      "------------\n",
      "Anaxyrus debilis  -  Green Toad ( aGRTOx )\n",
      "Not listed\n",
      "------------\n",
      "Myiarchus tyrannulus  -  Brown-crested Flycatcher ( bBCFLx )\n",
      "Not listed\n",
      "------------\n",
      "Caprimulgus ridgwayi  -  Buff-collared Nightjar ( bBCNIx )\n",
      "Not listed\n",
      "------------\n",
      "Plethodon shermani  -  Red-legged Salamander ( aRLSAx )\n",
      "Not listed\n",
      "------------\n",
      "Plethodon metcalfi  -  Southern Gray-cheeked Salamander ( aSGCSx )\n",
      "Not listed\n",
      "------------\n",
      "Spea intermontana  -  Great Basin Spadefoot ( aGBSPx )\n",
      "Not listed\n",
      "------------\n",
      "Ollotis nebulifer  -  Gulf Coast Toad ( aGCTOx )\n",
      "Not listed\n",
      "------------\n",
      "Leucosticte australis  -  Brown-capped Rosy-finch ( bBCRFx )\n",
      "Not listed\n",
      "------------\n",
      "Carduelis tristis  -  American Goldfinch ( bAMGOx )\n",
      "Not listed\n",
      "------------\n",
      "Eleutherodactylus cystignathoides  -  Rio Grande Chirping Frog ( aRGCFx )\n",
      "Not listed\n",
      "------------\n",
      "Larus occidentalis  -  Western Gull ( bWEGUx )\n",
      "Not listed\n",
      "------------\n",
      "Falco femoralis  -  Aplomado Falcon ( bAPFAx )\n",
      "Not listed\n",
      "------------\n",
      "Pseudemys rubriventris  -  Northern Red-bellied Cooter ( rNRBCx )\n",
      "Date Cached:  2017-07-26T16:09:20.718414\n"
     ]
    },
    {
     "data": {
      "text/plain": [
       "[{'POP_ABBREV': 'Wherever found',\n",
       "  'POP_DESC': 'Wherever found',\n",
       "  'STATUS': 'Under Review in the Candidate or Petition Process'}]"
      ]
     },
     "metadata": {},
     "output_type": "display_data"
    },
    {
     "name": "stdout",
     "output_type": "stream",
     "text": [
      "------------\n",
      "Glaucomys sabrinus fuscus  -  Virginia Northern Flying Squirrel ( mNFSQf )\n",
      "Date Cached:  2017-07-26T16:09:21.786490\n"
     ]
    },
    {
     "data": {
      "text/plain": [
       "[{'LISTING_DATE': '1985-07-31',\n",
       "  'POP_ABBREV': 'Wherever found',\n",
       "  'POP_DESC': 'Wherever found',\n",
       "  'STATUS': 'Recovery'}]"
      ]
     },
     "metadata": {},
     "output_type": "display_data"
    },
    {
     "name": "stdout",
     "output_type": "stream",
     "text": [
      "------------\n",
      "Mustela frenata  -  Long-tailed Weasel ( mLTWEx )\n",
      "Not listed\n",
      "------------\n",
      "Pseudobranchus striatus  -  Northern Dwarf Siren ( aNDSIx )\n",
      "Not listed\n",
      "------------\n",
      "Eurycea bislineata  -  Northern Two-lined Salamander ( aNTLSx )\n",
      "Not listed\n",
      "------------\n",
      "Plethodon ventralis  -  Southern Zigzag Salamander ( aSZSAx )\n",
      "Not listed\n",
      "------------\n",
      "Leptotyphlops dissectus  -  New Mexico Threadsnake ( rNMTHx )\n",
      "Not listed\n",
      "------------\n",
      "Corvus ossifragus  -  Fish Crow ( bFICRx )\n",
      "Not listed\n",
      "------------\n",
      "Microtus longicaudus leucophaeus  -  White-bellied Vole ( mLTVOl )\n",
      "Date Cached:  2017-07-26T16:09:29.881517\n"
     ]
    },
    {
     "data": {
      "text/plain": [
       "[{'POP_ABBREV': 'Wherever found',\n",
       "  'POP_DESC': 'Wherever found',\n",
       "  'STATUS': 'Resolved Taxon'}]"
      ]
     },
     "metadata": {},
     "output_type": "display_data"
    },
    {
     "name": "stdout",
     "output_type": "stream",
     "text": [
      "------------\n",
      "Pelecanus occidentalis carolinensis  -  Eastern Brown Pelican ( bBRPEa )\n",
      "Date Cached:  2017-07-26T16:09:30.971357\n"
     ]
    },
    {
     "data": {
      "text/plain": [
       "[{'LISTING_DATE': '1970-06-02',\n",
       "  'POP_ABBREV': 'U.S. Atlantic coast, FL, AL',\n",
       "  'POP_DESC': 'U.S. Atlantic coast, FL, AL',\n",
       "  'STATUS': 'Recovery'},\n",
       " {'LISTING_DATE': '1970-06-02',\n",
       "  'POP_ABBREV': 'except U.S. Atlantic coast, FL, AL',\n",
       "  'POP_DESC': 'Wherever found, except U.S. Atlantic coast, FL, AL',\n",
       "  'STATUS': 'Recovery'}]"
      ]
     },
     "metadata": {},
     "output_type": "display_data"
    },
    {
     "name": "stdout",
     "output_type": "stream",
     "text": [
      "------------\n",
      "Phalaenoptilus nuttallii  -  Common Poorwill ( bCOPOx )\n",
      "Not listed\n",
      "------------\n",
      "Ambystoma mabeei  -  Mabee's Salamander ( aMBSAx )\n",
      "Not listed\n",
      "------------\n",
      "Nasua narica  -  South American Coati ( mSACOx )\n",
      "Not listed\n",
      "------------\n",
      "Zenaida asiatica  -  White-winged Dove ( bWWDOx )\n",
      "Not listed\n",
      "------------\n",
      "Pseudacris ornata  -  Ornate Chorus Frog ( aOCFRx )\n",
      "Not listed\n",
      "------------\n",
      "Tympanuchus phasianellus columbianus  -  Columbian Sharp-tailed Grouse ( bSTGRc )\n",
      "Date Cached:  2017-07-26T16:09:37.146249\n"
     ]
    },
    {
     "data": {
      "text/plain": [
       "[{'POP_ABBREV': 'Wherever found',\n",
       "  'POP_DESC': 'Wherever found',\n",
       "  'STATUS': 'Resolved Taxon'}]"
      ]
     },
     "metadata": {},
     "output_type": "display_data"
    },
    {
     "name": "stdout",
     "output_type": "stream",
     "text": [
      "------------\n",
      "Bartramia longicauda  -  Upland Sandpiper ( bUPSAx )\n",
      "Date Cached:  2017-07-26T16:09:38.150439\n"
     ]
    },
    {
     "data": {
      "text/plain": [
       "[{'POP_ABBREV': 'Wherever found',\n",
       "  'POP_DESC': 'Wherever found',\n",
       "  'STATUS': 'Species of Concern'}]"
      ]
     },
     "metadata": {},
     "output_type": "display_data"
    },
    {
     "name": "stdout",
     "output_type": "stream",
     "text": [
      "------------\n",
      "Grus canadensis  -  Sandhill Crane ( bSACRx )\n",
      "Not listed\n",
      "------------\n",
      "Onychoprion fuscatus  -  Sooty Tern ( bSOTEx )\n",
      "Not listed\n",
      "------------\n",
      "Chordeiles acutipennis  -  Lesser Nighthawk ( bLENIx )\n",
      "Not listed\n",
      "------------\n",
      "Fregata magnificens  -  Magnificent Frigatebird ( bMAFRx )\n",
      "Not listed\n",
      "------------\n",
      "Buteo albonotatus  -  Zone-tailed Hawk ( bZTHAx )\n",
      "Not listed\n",
      "------------\n",
      "Hyla avivoca  -  Bird-voiced Treefrog ( aBVTRx )\n",
      "Not listed\n",
      "------------\n",
      "Columbina inca  -  Inca Dove ( bINDOx )\n",
      "Not listed\n",
      "------------\n",
      "Empidonax minimus  -  Least Flycatcher ( bLEFLx )\n",
      "Not listed\n",
      "------------\n",
      "Dendroica magnolia  -  Magnolia Warbler ( bMAWAx )\n",
      "Not listed\n",
      "------------\n",
      "Anas fulvigula  -  Mottled Duck ( bMODUx )\n",
      "Not listed\n",
      "------------\n",
      "Pseudacris cadaverina  -  California Treefrog ( aCATRx )\n",
      "Not listed\n",
      "------------\n",
      "Anaxyrus americanus  -  American Toad ( aAMTOx )\n",
      "Not listed\n",
      "------------\n",
      "Tyrannus verticalis  -  Western Kingbird ( bWEKIx )\n",
      "Not listed\n",
      "------------\n",
      "Limosa fedoa  -  Marbled Godwit ( bMAGOx )\n",
      "Date Cached:  2017-07-26T16:09:54.886196\n"
     ]
    },
    {
     "data": {
      "text/plain": [
       "[{'POP_ABBREV': 'Wherever found',\n",
       "  'POP_DESC': 'Wherever found',\n",
       "  'STATUS': 'Species of Concern'}]"
      ]
     },
     "metadata": {},
     "output_type": "display_data"
    },
    {
     "name": "stdout",
     "output_type": "stream",
     "text": [
      "------------\n",
      "Glaucomys sabrinus coloratus  -  Carolina Northern Flying Squirrel ( mNFSQo )\n",
      "Date Cached:  2017-07-26T16:09:56.055822\n"
     ]
    },
    {
     "data": {
      "text/plain": [
       "[{'LISTING_DATE': '1985-07-01',\n",
       "  'POP_ABBREV': 'Wherever found',\n",
       "  'POP_DESC': 'Wherever found',\n",
       "  'STATUS': 'Endangered'}]"
      ]
     },
     "metadata": {},
     "output_type": "display_data"
    },
    {
     "name": "stdout",
     "output_type": "stream",
     "text": [
      "------------\n",
      "Tringa solitaria  -  Solitary Sandpiper ( bSOSAx )\n",
      "Not listed\n",
      "------------\n",
      "Tamias amoenus celeris  -  Yellow-pine Chipmunk ( mYPCHc )\n",
      "Not listed\n",
      "------------\n",
      "Aspidoscelis laredoensis  -  Laredo Striped Whiptail ( rLASWx )\n",
      "Not listed\n",
      "------------\n",
      "Anas crecca  -  Green-winged Teal ( bGWTEx )\n",
      "Not listed\n",
      "------------\n",
      "Sigmodon ochrognathus  -  Yellow-nosed Cotton Rat ( mYNCRx )\n",
      "Date Cached:  2017-07-26T16:10:01.015214\n"
     ]
    },
    {
     "data": {
      "text/plain": [
       "[{'POP_ABBREV': 'Wherever found',\n",
       "  'POP_DESC': 'Wherever found',\n",
       "  'STATUS': 'Species of Concern'}]"
      ]
     },
     "metadata": {},
     "output_type": "display_data"
    },
    {
     "name": "stdout",
     "output_type": "stream",
     "text": [
      "------------\n",
      "Thamnophis ordinoides  -  Northwestern Gartersnake ( rNWGAx )\n",
      "Not listed\n",
      "------------\n",
      "Leptotyphlops humilis  -  Western Threadsnake ( rWETHx )\n",
      "Not listed\n",
      "------------\n",
      "Batrachoseps campi  -  Inyo Mountains Salamander ( aINSAx )\n",
      "Date Cached:  2017-07-26T16:10:04.076179\n"
     ]
    },
    {
     "data": {
      "text/plain": [
       "[{'POP_ABBREV': 'Wherever found',\n",
       "  'POP_DESC': 'Wherever found',\n",
       "  'STATUS': 'Under Review in the Candidate or Petition Process'}]"
      ]
     },
     "metadata": {},
     "output_type": "display_data"
    },
    {
     "name": "stdout",
     "output_type": "stream",
     "text": [
      "------------\n",
      "Eleutherodactylus marnockii  -  Cliff Chirping Frog ( aCCFRx )\n",
      "Not listed\n",
      "------------\n",
      "Pseudemys peninsularis  -  Peninsula Cooter ( rPCOOx )\n",
      "Not listed\n",
      "------------\n",
      "Opheodrys vernalis  -  Smooth Greensnake ( rSMGRx )\n",
      "Not listed\n",
      "------------\n",
      "Vermivora chrysoptera  -  Golden-winged Warbler ( bGWWAx )\n",
      "Date Cached:  2017-07-26T16:10:10.485547\n"
     ]
    },
    {
     "data": {
      "text/plain": [
       "[{'POP_ABBREV': 'Wherever found',\n",
       "  'POP_DESC': 'Wherever found',\n",
       "  'STATUS': 'Under Review in the Candidate or Petition Process'}]"
      ]
     },
     "metadata": {},
     "output_type": "display_data"
    },
    {
     "name": "stdout",
     "output_type": "stream",
     "text": [
      "------------\n",
      "Amphiuma pholeter  -  One-toed Amphiuma ( aOTAMx )\n",
      "Date Cached:  2017-07-26T16:10:12.107103\n"
     ]
    },
    {
     "data": {
      "text/plain": [
       "[{'POP_ABBREV': 'Wherever found',\n",
       "  'POP_DESC': 'Wherever found',\n",
       "  'STATUS': 'Under Review in the Candidate or Petition Process'}]"
      ]
     },
     "metadata": {},
     "output_type": "display_data"
    },
    {
     "name": "stdout",
     "output_type": "stream",
     "text": [
      "------------\n",
      "Eurycea waterlooensis  -  Austin Blind Salamander ( aABSAx )\n",
      "Date Cached:  2017-07-26T16:10:13.448132\n"
     ]
    },
    {
     "data": {
      "text/plain": [
       "[{'LISTING_DATE': '2013-09-19',\n",
       "  'POP_ABBREV': 'Wherever found',\n",
       "  'POP_DESC': 'Wherever found',\n",
       "  'STATUS': 'Endangered'}]"
      ]
     },
     "metadata": {},
     "output_type": "display_data"
    },
    {
     "name": "stdout",
     "output_type": "stream",
     "text": [
      "------------\n",
      "Batrachoseps minor  -  Lesser Slender Salamander ( aLSSAx )\n",
      "Date Cached:  2017-07-26T16:10:15.081789\n"
     ]
    },
    {
     "data": {
      "text/plain": [
       "[{'POP_ABBREV': 'Wherever found',\n",
       "  'POP_DESC': 'Wherever found',\n",
       "  'STATUS': 'Under Review in the Candidate or Petition Process'}]"
      ]
     },
     "metadata": {},
     "output_type": "display_data"
    },
    {
     "name": "stdout",
     "output_type": "stream",
     "text": [
      "------------\n",
      "Picoides tridactylus  -  American Three-toed Woodpecker ( bATTWx )\n",
      "Not listed\n",
      "------------\n",
      "Nyctidromus albicollis  -  Common Pauraque ( bCOPAx )\n",
      "Not listed\n",
      "------------\n",
      "Spermophilus lateralis  -  Golden-mantled Ground Squirrel ( mGMGSx )\n",
      "Not listed\n",
      "------------\n",
      "Spermophilus mexicanus  -  Mexican Ground Squirrel ( mMESQx )\n",
      "Not listed\n",
      "------------\n",
      "Carduelis flammea  -  Common Redpoll ( bCOREx )\n",
      "Not listed\n",
      "------------\n",
      "Quiscalus mexicanus  -  Great-tailed Grackle ( bGTGRx )\n",
      "Not listed\n",
      "------------\n",
      "Pseudacris nigrita  -  Southern Chorus Frog ( aSOFRx )\n",
      "Not listed\n",
      "------------\n",
      "Ambystoma maculatum  -  Spotted Salamander ( aSPOSx )\n",
      "Not listed\n",
      "------------\n",
      "Neotoma mexicana  -  Mexican Woodrat ( mMEWOx )\n",
      "Not listed\n",
      "------------\n",
      "Lepus callotis  -  White-sided Jackrabbit ( mWSJAx )\n",
      "Date Cached:  2017-07-26T16:10:28.507180\n"
     ]
    },
    {
     "data": {
      "text/plain": [
       "[{'POP_ABBREV': 'Wherever found',\n",
       "  'POP_DESC': 'Wherever found',\n",
       "  'STATUS': 'Resolved Taxon'}]"
      ]
     },
     "metadata": {},
     "output_type": "display_data"
    },
    {
     "name": "stdout",
     "output_type": "stream",
     "text": [
      "------------\n",
      "Plethodon sequoyah  -  Sequoyah Slimy Salamander ( aSQSAx )\n",
      "Not listed\n",
      "------------\n",
      "Eurycea cirrigera  -  Southern Two-lined Salamander ( aSTLSx )\n",
      "Not listed\n",
      "------------\n",
      "Petrochelidon fulva  -  Cave Swallow ( bCASWx )\n",
      "Not listed\n",
      "------------\n",
      "Sorex cinereus  -  Cinereus (Masked) Shrew ( mCISHx )\n",
      "Not listed\n",
      "------------\n",
      "Larus glaucescens  -  Glaucous-winged Gull ( bGWGUx )\n",
      "Not listed\n",
      "------------\n",
      "Neotoma magister  -  Allegheny Woodrat ( mALWOx )\n",
      "Date Cached:  2017-07-26T16:10:37.038253\n"
     ]
    },
    {
     "data": {
      "text/plain": [
       "[{'POP_ABBREV': 'Wherever found',\n",
       "  'POP_DESC': 'Wherever found',\n",
       "  'STATUS': 'Resolved Taxon'}]"
      ]
     },
     "metadata": {},
     "output_type": "display_data"
    },
    {
     "name": "stdout",
     "output_type": "stream",
     "text": [
      "------------\n",
      "Spermophilus columbianus  -  Columbian Ground Squirrel ( mCOSQx )\n",
      "Not listed\n",
      "------------\n",
      "Microdipodops megacephalus  -  Dark Kangaroo Mouse ( mDKMOx )\n",
      "Not listed\n",
      "------------\n",
      "Geomys arenarius  -  Desert Pocket Gopher ( mDPGOx )\n",
      "Not listed\n",
      "------------\n",
      "Spermophilus washingtoni  -  Washington Ground Squirrel ( mWASQx )\n",
      "Not listed\n",
      "------------\n",
      "Hyla gratiosa  -  Barking Treefrog ( aBATRx )\n",
      "Not listed\n",
      "------------\n",
      "Ophisaurus attenuatus  -  Slender Glass Lizard ( rSGLIx )\n",
      "Not listed\n",
      "------------\n",
      "Ficimia streckeri  -  Tamaulipan Hook-nosed Snake ( rTHNSx )\n",
      "Not listed\n",
      "------------\n",
      "Scalopus aquaticus texanus  -  Presidio Mole ( mEAMOt )\n",
      "Date Cached:  2017-07-26T16:10:45.332465\n"
     ]
    },
    {
     "data": {
      "text/plain": [
       "[{'POP_ABBREV': 'Wherever found',\n",
       "  'POP_DESC': 'Wherever found',\n",
       "  'STATUS': 'Species of Concern'}]"
      ]
     },
     "metadata": {},
     "output_type": "display_data"
    },
    {
     "name": "stdout",
     "output_type": "stream",
     "text": [
      "------------\n",
      "Sciurus niger cinereus  -  Delmarva Fox Squirrel ( mEFSQc )\n",
      "Date Cached:  2017-07-26T16:10:46.276320\n"
     ]
    },
    {
     "data": {
      "text/plain": [
       "[{'LISTING_DATE': '1967-03-11',\n",
       "  'POP_ABBREV': 'Wherever found, except where listed as an experimental population',\n",
       "  'POP_DESC': 'Wherever found, except where listed as an experimental population',\n",
       "  'STATUS': 'Recovery'},\n",
       " {'LISTING_DATE': '1984-09-13',\n",
       "  'POP_ABBREV': 'U.S.A. (DE, Sussex Co.)',\n",
       "  'POP_DESC': 'U.S.A. (DE, Sussex Co.)',\n",
       "  'STATUS': 'Resolved Taxon'}]"
      ]
     },
     "metadata": {},
     "output_type": "display_data"
    },
    {
     "name": "stdout",
     "output_type": "stream",
     "text": [
      "------------\n",
      "Lampropeltis triangulum  -  Milksnake ( rMILKx )\n",
      "Not listed\n",
      "------------\n",
      "Lepidochelys olivacea  -  Olive Ridley Sea Turtle ( rORSTx )\n",
      "Date Cached:  2017-07-26T16:10:48.109678\n"
     ]
    },
    {
     "data": {
      "text/plain": [
       "[{'LISTING_DATE': '1978-07-28',\n",
       "  'POP_ABBREV': 'Breeding colony populations on Pacific coast of Mexico',\n",
       "  'POP_DESC': 'Breeding colony populations on Pacific coast of Mexico',\n",
       "  'STATUS': 'Endangered'},\n",
       " {'LISTING_DATE': '1978-07-28',\n",
       "  'POP_ABBREV': 'Wherever found, except when listed as endangered under 50 CFR 224.101',\n",
       "  'POP_DESC': 'Wherever found, except when listed as endangered under 50 CFR 224.101',\n",
       "  'STATUS': 'Threatened'}]"
      ]
     },
     "metadata": {},
     "output_type": "display_data"
    },
    {
     "name": "stdout",
     "output_type": "stream",
     "text": [
      "------------\n",
      "Neotoma fuscipes  -  Dusky-footed Woodrat ( mDFWOx )\n",
      "Not listed\n",
      "------------\n",
      "Holbrookia propinqua  -  Keeled Earless Lizard ( rKELIx )\n",
      "Not listed\n",
      "------------\n",
      "Sphaerodactylus notatus  -  Reef Gecko ( rREGEx )\n",
      "Not listed\n",
      "------------\n",
      "Aeronautes saxatalis  -  White-throated Swift ( bWTSWx )\n",
      "Not listed\n",
      "------------\n",
      "Aquila chrysaetos  -  Golden Eagle ( bGOEAx )\n",
      "Date Cached:  2017-07-26T16:10:53.554035\n"
     ]
    },
    {
     "data": {
      "text/plain": [
       "[{'POP_ABBREV': 'Wherever found',\n",
       "  'POP_DESC': 'Wherever found',\n",
       "  'STATUS': 'Species of Concern'}]"
      ]
     },
     "metadata": {},
     "output_type": "display_data"
    },
    {
     "name": "stdout",
     "output_type": "stream",
     "text": [
      "------------\n",
      "Tyrannus crassirostris  -  Thick-billed Kingbird ( bTBKIx )\n",
      "Not listed\n",
      "------------\n",
      "Myadestes townsendi  -  Townsend's Solitaire ( bTOSOx )\n",
      "Not listed\n",
      "------------\n",
      "Taricha torosa  -  California Newt ( aCFNEx )\n",
      "Not listed\n",
      "------------\n",
      "Leucosticte tephrocotis  -  Gray-crowned Rosy-Finch ( bGCRFx )\n",
      "Not listed\n",
      "------------\n",
      "Anas strepera  -  Gadwall ( bGADWx )\n",
      "Not listed\n",
      "------------\n",
      "Larus hyperboreus  -  Glaucous Gull ( bGLGUx )\n",
      "Not listed\n",
      "------------\n",
      "Peromyscus polionotus  -  Oldfield Deermouse ( mOLDEx )\n",
      "Not listed\n",
      "------------\n",
      "Peromyscus truei  -  Pinon Deermouse ( mPIDEx )\n",
      "Not listed\n",
      "------------\n",
      "Aphelocoma coerulescens  -  Florida Scrub-jay ( bFLSJx )\n",
      "Date Cached:  2017-07-26T16:11:03.006745\n"
     ]
    },
    {
     "data": {
      "text/plain": [
       "[{'LISTING_DATE': '1987-06-03',\n",
       "  'POP_ABBREV': 'Wherever found',\n",
       "  'POP_DESC': 'Wherever found',\n",
       "  'STATUS': 'Threatened'}]"
      ]
     },
     "metadata": {},
     "output_type": "display_data"
    },
    {
     "name": "stdout",
     "output_type": "stream",
     "text": [
      "------------\n",
      "Spizella arborea  -  American Tree Sparrow ( bATSPx )\n",
      "Not listed\n",
      "------------\n",
      "Geococcyx californianus  -  Greater Roadrunner ( bGRROx )\n",
      "Not listed\n",
      "------------\n",
      "Alces americanus  -  Moose ( mMOOSx )\n",
      "Not listed\n",
      "------------\n",
      "Procyon lotor  -  Raccoon ( mRACCx )\n",
      "Not listed\n",
      "------------\n",
      "Nyctanassa violacea  -  Yellow-crowned Night-heron ( bYCNHx )\n",
      "Not listed\n",
      "------------\n",
      "Mephitis mephitis  -  Striped Skunk ( mSTSKx )\n",
      "Not listed\n",
      "------------\n",
      "Vireo flavifrons  -  Yellow-throated Vireo ( bYTVIx )\n",
      "Not listed\n",
      "------------\n",
      "Apalone spinifera  -  Spiny Softshell ( rSPSOx )\n",
      "Not listed\n",
      "------------\n",
      "Tantilla planiceps  -  Western Black-headed Snake ( rWBHSx )\n",
      "Not listed\n",
      "------------\n",
      "Uma notata  -  Colorado Desert Fringe-toed Lizard ( rCDFLx )\n",
      "Date Cached:  2017-07-26T16:11:13.304557\n"
     ]
    },
    {
     "data": {
      "text/plain": [
       "[{'POP_ABBREV': 'Wherever found',\n",
       "  'POP_DESC': 'Wherever found',\n",
       "  'STATUS': 'Resolved Taxon'}]"
      ]
     },
     "metadata": {},
     "output_type": "display_data"
    },
    {
     "name": "stdout",
     "output_type": "stream",
     "text": [
      "------------\n",
      "Aspidoscelis exsanguis  -  Chihuahuan Spotted Whiptail ( rCWHIx )\n",
      "Not listed\n",
      "------------\n",
      "Macrochelys temminckii  -  Alligator Snapping Turtle ( rASTUx )\n",
      "Not listed\n",
      "------------\n",
      "Emydoidea blandingii  -  Blanding's Turtle ( rBTURx )\n",
      "Date Cached:  2017-07-26T16:11:16.493675\n"
     ]
    },
    {
     "data": {
      "text/plain": [
       "[{'POP_ABBREV': 'Wherever found',\n",
       "  'POP_DESC': 'Wherever found',\n",
       "  'STATUS': 'Under Review in the Candidate or Petition Process'}]"
      ]
     },
     "metadata": {},
     "output_type": "display_data"
    },
    {
     "name": "stdout",
     "output_type": "stream",
     "text": [
      "------------\n",
      "Dipsosaurus dorsalis  -  Desert Iguana ( rDEIGx )\n",
      "Not listed\n",
      "------------\n",
      "Pseudemys nelsoni  -  Florida Red-bellied Cooter ( rFRBCx )\n",
      "Date Cached:  2017-07-26T16:11:18.816979\n"
     ]
    },
    {
     "data": {
      "text/plain": [
       "[{'POP_ABBREV': 'Wherever found',\n",
       "  'POP_DESC': 'Wherever found',\n",
       "  'STATUS': 'Under Review in the Candidate or Petition Process'}]"
      ]
     },
     "metadata": {},
     "output_type": "display_data"
    },
    {
     "name": "stdout",
     "output_type": "stream",
     "text": [
      "------------\n",
      "Chelonia mydas  -  Green Sea Turtle ( rGSTUx )\n",
      "Date Cached:  2017-07-26T16:11:19.788181\n"
     ]
    },
    {
     "data": {
      "text/plain": [
       "[{'LISTING_DATE': '2016-05-06',\n",
       "  'POP_ABBREV': 'Mediterranean DPS',\n",
       "  'POP_DESC': 'Green sea turtles originating from the Mediterranean Sea, bounded by 5.5 degrees W. Long. in the west',\n",
       "  'STATUS': 'Endangered'},\n",
       " {'LISTING_DATE': '2016-05-06',\n",
       "  'POP_ABBREV': 'South Atlantic DPS',\n",
       "  'POP_DESC': 'Green sea turtles originating from the South Atlantic Ocean, bounded by the following lines and coordinates: along the northern and eastern coasts of South America (east of 7.5 degrees N., 77 degrees W.), 14 degrees N., 77 degrees W. to 14 degrees N., 65.1 degrees W. to 19 degrees N., 65.1 degrees W. in the north and west, 19 degrees N. Lat. in the northeast, 40 degrees S., 19 degrees E. in the southeast, and 40 degrees S. Lat. in the south',\n",
       "  'STATUS': 'Threatened'},\n",
       " {'LISTING_DATE': '2016-05-06',\n",
       "  'POP_ABBREV': 'Southwest Indian DPS',\n",
       "  'POP_DESC': 'Green sea turtles originating from the Southwest Indian Ocean, bounded by the following lines: the equator to the north, 84 degrees E. Long. to the east, 40 degrees S. Lat. to the south, and 19 degrees E. Long (and along the eastern coast of Africa) in the west',\n",
       "  'STATUS': 'Threatened'},\n",
       " {'LISTING_DATE': '2016-05-06',\n",
       "  'POP_ABBREV': 'Southwest Pacific DPS',\n",
       "  'POP_DESC': 'Green sea turtles originating from the Southwest Pacific Ocean, bounded by the following lines and coordinates: along the southern coast of the island of New Guinea and the Torres Strait (east of 142 degrees E Long.), 13 degrees S., 171 degrees E. in the northeast, 40 degrees S., 176 degrees E. in the southeast, and 40 degrees S., 142 degrees E. in the southwest',\n",
       "  'STATUS': 'Threatened'},\n",
       " {'LISTING_DATE': '2016-05-06',\n",
       "  'POP_ABBREV': 'Central South Pacific DPS',\n",
       "  'POP_DESC': 'Green sea turtles originating from the Central South Pacific Ocean, bounded by the following coordinates: 9 degrees N., 175 degrees W. in the northwest, 9 degrees N., 125 degrees W. in the northeast, 40 degrees S., 96 degrees W. in the southeast, 40 degrees S., 176 degrees E. in the southwest, and 13 degrees S., 171 degrees E. in the west',\n",
       "  'STATUS': 'Endangered'},\n",
       " {'LISTING_DATE': '2016-05-06',\n",
       "  'POP_ABBREV': 'Central West Pacific DPS',\n",
       "  'POP_DESC': 'Green sea turtles originating from the Central West Pacific Ocean, bounded by the following coordinates: 41 degrees N., 146 degrees E. in the northwest, 41 degrees N., 169 degrees E. in the northeast, 9 degrees N., 175 degrees W. in the east, 13 degrees S., 171 degrees E. in the southeast, along the northern coast of the island of New Guinea, and 4.5 degrees N., 129 degrees E. in the west',\n",
       "  'STATUS': 'Endangered'},\n",
       " {'LISTING_DATE': '2016-05-06',\n",
       "  'POP_ABBREV': 'North Atlantic DPS',\n",
       "  'POP_DESC': 'Green sea turtles originating from the North Atlantic Ocean, bounded by the following lines and coordinates: 48 degrees N. Lat. in the north, along the western coasts of Europe and Africa (west of 5.5 degrees W. Long.), north of 19 degrees N. Lat. in the east, bounded by 19 degrees N., 65.1 degrees W. to 14 degrees N., 65.1 degrees W. then 14 degrees N., 77 degrees W. in the south and west, and along the eastern coasts of the Americas (north of 7.5 degrees N., 77 degrees W.)',\n",
       "  'STATUS': 'Threatened'},\n",
       " {'LISTING_DATE': '2016-05-06',\n",
       "  'POP_ABBREV': 'Central North Pacific DPS',\n",
       "  'POP_DESC': 'Green sea turtles originating from the Central North Pacific Ocean, bounded by the following coordinates: 41 degrees N., 169 degrees E. in the northwest, 41 degrees N., 143 degrees W. in the northeast, 9 degrees N., 125 degrees W. in the southeast, and 9 degrees N., 175 degrees W. in the southwest Pacific coast of Mexico',\n",
       "  'STATUS': 'Threatened'},\n",
       " {'LISTING_DATE': '2016-05-06',\n",
       "  'POP_ABBREV': 'East Indian-West Pacific DPS',\n",
       "  'POP_DESC': 'Green sea turtles originating from the Eastern Indian and Western Pacific Oceans, bounded by the following lines and coordinates: 41 degrees N. Lat. in the north, 41 degrees N., 146 degrees E. in the northeast, 4.5 degrees N., 129 degrees E. in the southeast, along the southern coast of the island of New Guinea, along the western coast of Australia (west of 142 degrees E. Long.), 40 degrees S. Lat. in the south, and 84 degrees E. Long. in the east',\n",
       "  'STATUS': 'Threatened'},\n",
       " {'LISTING_DATE': '2016-05-06',\n",
       "  'POP_ABBREV': 'East Pacific DPS',\n",
       "  'POP_DESC': 'Green sea turtles originating from the East Pacific Ocean, bounded by the following lines and coordinates: 41 degrees N., 143 degrees W. in the northwest, 41 degrees N. Lat. in the north, along the western coasts of the Americas, 40 degrees S. Lat. in the south, and 40 degrees S., 96 degrees W. in the southwest',\n",
       "  'STATUS': 'Threatened'},\n",
       " {'LISTING_DATE': '2016-05-06',\n",
       "  'POP_ABBREV': 'North Indian DPS',\n",
       "  'POP_DESC': 'Green sea turtles originating from the North Indian Ocean, bounded by: Africa and Asia in the west and north, 84 degrees E. Long. in the east, and the equator in the south',\n",
       "  'STATUS': 'Threatened'}]"
      ]
     },
     "metadata": {},
     "output_type": "display_data"
    },
    {
     "name": "stdout",
     "output_type": "stream",
     "text": [
      "------------\n",
      "Scincella lateralis  -  Little Brown Skink ( rLBSKx )\n",
      "Not listed\n",
      "------------\n",
      "Sorex vagrans  -  Vagrant Shrew ( mVASHx )\n",
      "Not listed\n",
      "------------\n",
      "Arizona elegans  -  Glossy Snake ( rGLSNx )\n",
      "Not listed\n",
      "------------\n",
      "Myodes californicus  -  Western Red-backed Vole ( mWRBVx )\n",
      "Not listed\n",
      "------------\n",
      "Melanerpes erythrocephalus  -  Red-headed Woodpecker ( bRHWOx )\n",
      "Not listed\n",
      "------------\n",
      "Buteo lineatus  -  Red-shouldered Hawk ( bRSHAx )\n",
      "Not listed\n",
      "------------\n",
      "Anaxyrus hemiophrys  -  Canadian Toad ( aCATOx )\n",
      "Not listed\n",
      "------------\n",
      "Sus scrofa  -  Wild Boar ( mWIBOx )\n",
      "Not listed\n",
      "------------\n",
      "Trichechus manatus  -  West Indian Manatee ( mWIMAx )\n",
      "Date Cached:  2017-07-26T16:11:29.030708\n"
     ]
    },
    {
     "data": {
      "text/plain": [
       "[{'LISTING_DATE': '1967-03-11',\n",
       "  'POP_ABBREV': 'Wherever found',\n",
       "  'POP_DESC': 'Wherever found',\n",
       "  'STATUS': 'Threatened'}]"
      ]
     },
     "metadata": {},
     "output_type": "display_data"
    },
    {
     "name": "stdout",
     "output_type": "stream",
     "text": [
      "------------\n",
      "Anaxyrus woodhousii  -  Woodhouse's Toad ( aWOTOx )\n",
      "Not listed\n",
      "------------\n",
      "Histrionicus histrionicus  -  Harlequin Duck ( bHADUx )\n",
      "Date Cached:  2017-07-26T16:11:31.548885\n"
     ]
    },
    {
     "data": {
      "text/plain": [
       "[{'POP_ABBREV': 'Wherever found',\n",
       "  'POP_DESC': 'Wherever found',\n",
       "  'STATUS': 'Resolved Taxon'}]"
      ]
     },
     "metadata": {},
     "output_type": "display_data"
    },
    {
     "name": "stdout",
     "output_type": "stream",
     "text": [
      "------------\n",
      "Wilsonia citrina  -  Hooded Warbler ( bHOWAx )\n",
      "Not listed\n",
      "------------\n",
      "Gulo gulo  -  Wolverine ( mWOLVx )\n",
      "Not listed\n",
      "------------\n",
      "Rhyacotriton kezeri  -  Columbia Torrent Salamander ( aCTOSx )\n",
      "Date Cached:  2017-07-26T16:11:34.716458\n"
     ]
    },
    {
     "data": {
      "text/plain": [
       "[{'POP_ABBREV': 'Wherever found',\n",
       "  'POP_DESC': 'Wherever found',\n",
       "  'STATUS': 'Under Review in the Candidate or Petition Process'}]"
      ]
     },
     "metadata": {},
     "output_type": "display_data"
    },
    {
     "name": "stdout",
     "output_type": "stream",
     "text": [
      "------------\n",
      "Larus delawarensis  -  Ring-billed Gull ( bRBGUx )\n",
      "Not listed\n",
      "------------\n",
      "Sphyrapicus ruber  -  Red-breasted Sapsucker ( bRBSAx )\n",
      "Not listed\n",
      "------------\n",
      "Gyrinophilus gulolineatus  -  Berry Cave Salamander ( aBCSAx )\n",
      "Date Cached:  2017-07-26T16:11:39.531591\n"
     ]
    },
    {
     "data": {
      "text/plain": [
       "[{'POP_ABBREV': 'Wherever found',\n",
       "  'POP_DESC': 'Wherever found',\n",
       "  'STATUS': 'Candidate'}]"
      ]
     },
     "metadata": {},
     "output_type": "display_data"
    },
    {
     "name": "stdout",
     "output_type": "stream",
     "text": [
      "------------\n",
      "Dicamptodon ensatus  -  Calfifornia Giant Salamander ( aCASAx )\n",
      "Date Cached:  2017-07-26T16:12:17.696970\n"
     ]
    },
    {
     "data": {
      "text/plain": [
       "[{'POP_ABBREV': 'Wherever found',\n",
       "  'POP_DESC': 'Wherever found',\n",
       "  'STATUS': 'Resolved Taxon'}]"
      ]
     },
     "metadata": {},
     "output_type": "display_data"
    },
    {
     "name": "stdout",
     "output_type": "stream",
     "text": [
      "------------\n",
      "Lanius excubitor  -  Northern Shrike ( bNSHRx )\n",
      "Not listed\n",
      "------------\n",
      "Ammodramus nelsoni  -  Nelson's Sharp-tailed Sparrow ( bNSTSx )\n",
      "Not listed\n",
      "------------\n",
      "Pluvialis fulva  -  Pacific Golden-plover ( bPAGPx )\n",
      "Not listed\n",
      "------------\n",
      "Dendroica palmarum  -  Palm Warbler ( bPAWAx )\n",
      "Not listed\n",
      "------------\n",
      "Spermophilus armatus  -  Uinta Ground Squirrel ( mUGSQx )\n",
      "Not listed\n",
      "------------\n",
      "Spermophilus variegatus  -  Rock Squirrel ( mROSQx )\n",
      "Not listed\n",
      "------------\n",
      "Aplodontia rufa rufa  -  Mountain Beaver rufa ( mSEWEr )\n",
      "Not listed\n",
      "------------\n",
      "Cardinalis cardinalis  -  Northern Cardinal ( bNOCAx )\n",
      "Not listed\n",
      "------------\n",
      "Sylvilagus transitionalis  -  New England Cottontail ( mNGCOx )\n",
      "Date Cached:  2017-07-26T16:12:27.179477\n"
     ]
    },
    {
     "data": {
      "text/plain": [
       "[{'POP_ABBREV': 'Wherever found',\n",
       "  'POP_DESC': 'Wherever found',\n",
       "  'STATUS': 'Resolved Taxon'}]"
      ]
     },
     "metadata": {},
     "output_type": "display_data"
    },
    {
     "name": "stdout",
     "output_type": "stream",
     "text": [
      "------------\n",
      "Aplodontia rufa phaea  -  Point Reyes Mountain Beaver ( mSEWEp )\n",
      "Date Cached:  2017-07-26T16:12:28.133840\n"
     ]
    },
    {
     "data": {
      "text/plain": [
       "[{'POP_ABBREV': 'Wherever found',\n",
       "  'POP_DESC': 'Wherever found',\n",
       "  'STATUS': 'Species of Concern'}]"
      ]
     },
     "metadata": {},
     "output_type": "display_data"
    },
    {
     "name": "stdout",
     "output_type": "stream",
     "text": [
      "------------\n",
      "Rana cascadae  -  Cascades Frog ( aCSFRx )\n",
      "Date Cached:  2017-07-26T16:12:29.080474\n"
     ]
    },
    {
     "data": {
      "text/plain": [
       "[{'POP_ABBREV': 'Wherever found',\n",
       "  'POP_DESC': 'Wherever found',\n",
       "  'STATUS': 'Under Review in the Candidate or Petition Process'}]"
      ]
     },
     "metadata": {},
     "output_type": "display_data"
    },
    {
     "name": "stdout",
     "output_type": "stream",
     "text": [
      "------------\n",
      "Vulpes vulpes necator  -  Sierra Nevada Red Fox ( mREFOn )\n",
      "Date Cached:  2017-07-26T16:12:30.107798\n"
     ]
    },
    {
     "data": {
      "text/plain": [
       "[{'POP_ABBREV': None, 'POP_DESC': 'Sierra Nevada DPS', 'STATUS': 'Candidate'},\n",
       " {'POP_ABBREV': 'Wherever found',\n",
       "  'POP_DESC': 'Wherever found',\n",
       "  'STATUS': 'Resolved Taxon'}]"
      ]
     },
     "metadata": {},
     "output_type": "display_data"
    },
    {
     "name": "stdout",
     "output_type": "stream",
     "text": [
      "------------\n",
      "Microtus townsendii  -  Townsend's Vole ( mTOVOx )\n",
      "Not listed\n",
      "------------\n",
      "Hyla arenicolor  -  Canyon Treefrog ( aCYTRx )\n",
      "Not listed\n",
      "------------\n",
      "Leptotila verreauxi  -  White-tipped Dove ( bWTDOx )\n",
      "Not listed\n",
      "------------\n",
      "Sorex bairdi  -  Baird's Shrew ( mBDSHx )\n",
      "Not listed\n",
      "------------\n",
      "Corvus corax  -  Common Raven ( bCORAx )\n",
      "Not listed\n",
      "------------\n",
      "Microtus californicus  -  California Vole ( mCAVOx )\n",
      "Not listed\n",
      "------------\n",
      "Tamias minimus atristriatus  -  Penasco Chipmunk ( mLECHt )\n",
      "Date Cached:  2017-07-26T16:12:37.466737\n"
     ]
    },
    {
     "data": {
      "text/plain": [
       "[{'POP_ABBREV': 'Wherever found',\n",
       "  'POP_DESC': 'Wherever found',\n",
       "  'STATUS': 'Candidate'}]"
      ]
     },
     "metadata": {},
     "output_type": "display_data"
    },
    {
     "name": "stdout",
     "output_type": "stream",
     "text": [
      "------------\n",
      "Trogon elegans  -  Elegant Trogon ( bELTRx )\n",
      "Not listed\n",
      "------------\n",
      "Myotis volans  -  Long-legged Myotis ( mLLMYx )\n",
      "Date Cached:  2017-07-26T16:12:39.378918\n"
     ]
    },
    {
     "data": {
      "text/plain": [
       "[{'POP_ABBREV': 'Wherever found',\n",
       "  'POP_DESC': 'Wherever found',\n",
       "  'STATUS': 'Species of Concern'}]"
      ]
     },
     "metadata": {},
     "output_type": "display_data"
    },
    {
     "name": "stdout",
     "output_type": "stream",
     "text": [
      "------------\n",
      "Charadrius alexandrinus nivosus  -  Western Snowy Plover ( bSNPLn )\n",
      "Date Cached:  2017-07-26T16:12:40.534847\n"
     ]
    },
    {
     "data": {
      "text/plain": [
       "[{'LISTING_DATE': '1993-03-05',\n",
       "  'POP_ABBREV': 'Pacific Coast population DPS-U.S.A. (CA, OR, WA), Mexico (within 50 miles of Pacific coast)',\n",
       "  'POP_DESC': 'Pacific Coast population DPS-U.S.A. (CA, OR, WA), Mexico (within 50 miles of Pacific coast)',\n",
       "  'STATUS': 'Threatened'}]"
      ]
     },
     "metadata": {},
     "output_type": "display_data"
    },
    {
     "name": "stdout",
     "output_type": "stream",
     "text": [
      "------------\n",
      "Corvus imparatus  -  Tamaulipas Crow ( bTACRx )\n",
      "Not listed\n",
      "------------\n",
      "Nycticorax nycticorax  -  Black-crowned Night-heron ( bBCNHx )\n",
      "Date Cached:  2017-07-26T16:12:42.633124\n"
     ]
    },
    {
     "data": {
      "text/plain": [
       "[{'POP_ABBREV': 'Wherever found',\n",
       "  'POP_DESC': 'Wherever found',\n",
       "  'STATUS': 'Species of Concern'}]"
      ]
     },
     "metadata": {},
     "output_type": "display_data"
    },
    {
     "name": "stdout",
     "output_type": "stream",
     "text": [
      "------------\n",
      "Baeolophus atricristatus  -  Black-crested Titmouse ( bBCTIx )\n",
      "Not listed\n",
      "------------\n",
      "Botaurus lentiginosus  -  American Bittern ( bAMBIx )\n",
      "Date Cached:  2017-07-26T16:12:45.295704\n"
     ]
    },
    {
     "data": {
      "text/plain": [
       "[{'POP_ABBREV': 'Wherever found',\n",
       "  'POP_DESC': 'Wherever found',\n",
       "  'STATUS': 'Species of Concern'}]"
      ]
     },
     "metadata": {},
     "output_type": "display_data"
    },
    {
     "name": "stdout",
     "output_type": "stream",
     "text": [
      "------------\n",
      "Empidonax fulvifrons  -  Buff-breasted Flycatcher ( bBBFLx )\n",
      "Date Cached:  2017-07-26T16:12:46.387259\n"
     ]
    },
    {
     "data": {
      "text/plain": [
       "[{'POP_ABBREV': 'Wherever found',\n",
       "  'POP_DESC': 'Wherever found',\n",
       "  'STATUS': 'Species of Concern'}]"
      ]
     },
     "metadata": {},
     "output_type": "display_data"
    },
    {
     "name": "stdout",
     "output_type": "stream",
     "text": [
      "------------\n",
      "Hemidactylium scutatum  -  Four-toed Salamander ( aFTSAx )\n",
      "Not listed\n",
      "------------\n",
      "Eleutherodactylus planirostris  -  Greenhouse Frog ( aGHFRx )\n",
      "Not listed\n",
      "------------\n",
      "Columba fasciata  -  Band-tailed Pigeon ( bBTPIx )\n",
      "Not listed\n",
      "------------\n",
      "Icterus bullockii  -  Bullock's Oriole ( bBUORx )\n",
      "Not listed\n",
      "------------\n",
      "Anaxyrus cognatus  -  Great Plains Toad ( aGPTOx )\n",
      "Not listed\n",
      "------------\n",
      "Lithobates onca  -  Relict Leopard Frog ( aRLFRx )\n",
      "Date Cached:  2017-07-26T16:12:52.431348\n"
     ]
    },
    {
     "data": {
      "text/plain": [
       "[{'POP_ABBREV': 'Wherever found',\n",
       "  'POP_DESC': 'Wherever found',\n",
       "  'STATUS': 'Resolved Taxon'}]"
      ]
     },
     "metadata": {},
     "output_type": "display_data"
    },
    {
     "name": "stdout",
     "output_type": "stream",
     "text": [
      "------------\n",
      "Hydromantes shastae  -  Shasta Salamander ( aSHSAx )\n",
      "Date Cached:  2017-07-26T16:12:53.383280\n"
     ]
    },
    {
     "data": {
      "text/plain": [
       "[{'POP_ABBREV': 'Wherever found',\n",
       "  'POP_DESC': 'Wherever found',\n",
       "  'STATUS': 'Under Review in the Candidate or Petition Process'}]"
      ]
     },
     "metadata": {},
     "output_type": "display_data"
    },
    {
     "name": "stdout",
     "output_type": "stream",
     "text": [
      "------------\n",
      "Anaxyrus canorus  -  Yosemite Toad ( aYOTOx )\n",
      "Date Cached:  2017-07-26T16:12:54.400914\n"
     ]
    },
    {
     "data": {
      "text/plain": [
       "[{'LISTING_DATE': '2014-06-30',\n",
       "  'POP_ABBREV': 'Wherever found',\n",
       "  'POP_DESC': 'Wherever found',\n",
       "  'STATUS': 'Threatened'}]"
      ]
     },
     "metadata": {},
     "output_type": "display_data"
    },
    {
     "name": "stdout",
     "output_type": "stream",
     "text": [
      "------------\n",
      "Batrachoseps luciae  -  Santa Lucia Mountains Slender Salamander ( aSMSSx )\n",
      "Not listed\n",
      "------------\n",
      "Athene cunicularia hypugaea  -  Western Burrowing Owl ( bBUOWh )\n",
      "Date Cached:  2017-07-26T16:12:56.505949\n"
     ]
    },
    {
     "data": {
      "text/plain": [
       "[{'POP_ABBREV': 'Wherever found',\n",
       "  'POP_DESC': 'Wherever found',\n",
       "  'STATUS': 'Species of Concern'}]"
      ]
     },
     "metadata": {},
     "output_type": "display_data"
    },
    {
     "name": "stdout",
     "output_type": "stream",
     "text": [
      "------------\n",
      "Sylvilagus palustris  -  Marsh Rabbit ( mMARAx )\n",
      "Not listed\n",
      "------------\n",
      "Myotis ciliolabrum  -  Western Small-footed Myotis ( mWSFMx )\n",
      "Not listed\n",
      "------------\n",
      "Spermophilus spilosoma  -  Spotted Ground Squirrel ( mSGSQx )\n",
      "Not listed\n",
      "------------\n",
      "Protonotaria citrea  -  Prothonotary Warbler ( bPROWx )\n",
      "Not listed\n",
      "------------\n",
      "Onychomys torridus  -  Southern Grasshopper Mouse ( mSGMOx )\n",
      "Not listed\n",
      "------------\n",
      "Tamias dorsalis  -  Cliff Chipmunk ( mCLCHx )\n",
      "Not listed\n",
      "------------\n",
      "Leptonycteris curasoae  -  Curasoan Long-nosed Bat ( mCLOBx )\n",
      "Not listed\n",
      "------------\n",
      "Plethodon sherando  -  Big Levels Salamander ( aBGSAx )\n",
      "Not listed\n",
      "------------\n",
      "Eurycea chamberlaini  -  Chamberlain's Dwarf Salamander ( aCHDSx )\n",
      "Date Cached:  2017-07-26T16:13:05.469227\n"
     ]
    },
    {
     "data": {
      "text/plain": [
       "[{'POP_ABBREV': 'Wherever found',\n",
       "  'POP_DESC': 'Wherever found',\n",
       "  'STATUS': 'Under Review in the Candidate or Petition Process'}]"
      ]
     },
     "metadata": {},
     "output_type": "display_data"
    },
    {
     "name": "stdout",
     "output_type": "stream",
     "text": [
      "------------\n",
      "Aneides flavipunctatus  -  Black Salamander ( aBLASx )\n",
      "Not listed\n",
      "------------\n",
      "Notophthalmus meridionalis  -  Black-spotted Newt ( aBSNEx )\n",
      "Date Cached:  2017-07-26T16:13:07.962348\n"
     ]
    },
    {
     "data": {
      "text/plain": [
       "[{'POP_ABBREV': 'Wherever found',\n",
       "  'POP_DESC': 'Wherever found',\n",
       "  'STATUS': 'Under Review in the Candidate or Petition Process'}]"
      ]
     },
     "metadata": {},
     "output_type": "display_data"
    },
    {
     "name": "stdout",
     "output_type": "stream",
     "text": [
      "------------\n",
      "Branta canadensis  -  Canada Goose ( bCANGx )\n",
      "Not listed\n",
      "------------\n",
      "Buteo regalis  -  Ferruginous Hawk ( bFEHAx )\n",
      "Date Cached:  2017-07-26T16:13:09.996210\n"
     ]
    },
    {
     "data": {
      "text/plain": [
       "[{'POP_ABBREV': 'Wherever found',\n",
       "  'POP_DESC': 'Wherever found',\n",
       "  'STATUS': 'Resolved Taxon'}]"
      ]
     },
     "metadata": {},
     "output_type": "display_data"
    },
    {
     "name": "stdout",
     "output_type": "stream",
     "text": [
      "------------\n",
      "Microtus longicaudus  -  Long-Tailed Vole ( mLTVOx )\n",
      "Not listed\n",
      "------------\n",
      "Anas acuta  -  Northern Pintail ( bNOPIx )\n",
      "Not listed\n",
      "------------\n",
      "Callipepla californica  -  California Quail ( bCAQUx )\n",
      "Not listed\n",
      "------------\n",
      "Lithobates areolatus  -  Crawfish Frog ( aCWFRx )\n",
      "Not listed\n",
      "------------\n",
      "Peromyscus fraterculus  -  Northern Baja Deermouse ( mNBDEx )\n",
      "Not listed\n",
      "------------\n",
      "Sorex ornatus salarius  -  Monterey Ornate Shrew ( mORSHs )\n",
      "Date Cached:  2017-07-26T16:13:16.675472\n"
     ]
    },
    {
     "data": {
      "text/plain": [
       "[{'POP_ABBREV': 'Wherever found',\n",
       "  'POP_DESC': 'Wherever found',\n",
       "  'STATUS': 'Species of Concern'}]"
      ]
     },
     "metadata": {},
     "output_type": "display_data"
    },
    {
     "name": "stdout",
     "output_type": "stream",
     "text": [
      "------------\n",
      "Plethodon cinereus  -  Eastern Red-backed Salamander ( aERBSx )\n",
      "Not listed\n",
      "------------\n",
      "Peromyscus polionotus niveiventris  -  Southeast Beach Deermouse ( mOLDEn )\n",
      "Date Cached:  2017-07-26T16:13:18.642147\n"
     ]
    },
    {
     "data": {
      "text/plain": [
       "[{'LISTING_DATE': '1989-05-12',\n",
       "  'POP_ABBREV': 'wherever found',\n",
       "  'POP_DESC': 'wherever found',\n",
       "  'STATUS': 'Threatened'}]"
      ]
     },
     "metadata": {},
     "output_type": "display_data"
    },
    {
     "name": "stdout",
     "output_type": "stream",
     "text": [
      "------------\n",
      "Sorex sorex pacificus pacificus  -  Pacific Shrew pacificus ( mPASHp )\n",
      "Not listed\n",
      "------------\n",
      "Sorex pacificus  -  Pacific Shrew ( mPASHx )\n",
      "Not listed\n",
      "------------\n",
      "Mormoops megalophylla  -  Peters's Ghost-faced Bat ( mPGFBx )\n",
      "Not listed\n",
      "------------\n",
      "Corvus cryptoleucus  -  Chihuahuan Raven ( bCHRAx )\n",
      "Not listed\n",
      "------------\n",
      "Dendroica chrysoparia  -  Golden-cheeked Warbler ( bGCWAx )\n",
      "Date Cached:  2017-07-26T16:13:24.420566\n"
     ]
    },
    {
     "data": {
      "text/plain": [
       "[{'LISTING_DATE': '1990-05-04',\n",
       "  'POP_ABBREV': 'Wherever found',\n",
       "  'POP_DESC': 'Wherever found',\n",
       "  'STATUS': 'Endangered'}]"
      ]
     },
     "metadata": {},
     "output_type": "display_data"
    },
    {
     "name": "stdout",
     "output_type": "stream",
     "text": [
      "------------\n",
      "Geomys bursarius  -  Plains Pocket Gopher ( mPPGOx )\n",
      "Not listed\n",
      "------------\n",
      "Bassariscus astutus  -  Ringtail ( mRINGx )\n",
      "Not listed\n",
      "------------\n",
      "Accipiter cooperii  -  Cooper's Hawk ( bCOHAx )\n",
      "Date Cached:  2017-07-26T16:13:27.427074\n"
     ]
    },
    {
     "data": {
      "text/plain": [
       "[{'POP_ABBREV': 'Wherever found',\n",
       "  'POP_DESC': 'Wherever found',\n",
       "  'STATUS': 'Species of Concern'}]"
      ]
     },
     "metadata": {},
     "output_type": "display_data"
    },
    {
     "name": "stdout",
     "output_type": "stream",
     "text": [
      "------------\n",
      "Mergus merganser  -  Common Merganser ( bCOMEx )\n",
      "Not listed\n",
      "------------\n",
      "Tyrannus couchii  -  Couch's Kingbird ( bCOKIx )\n",
      "Not listed\n",
      "------------\n",
      "Branta bernicla  -  Brant ( bATBRx )\n",
      "Not listed\n",
      "------------\n",
      "Notophthalmus perstriatus  -  Striped Newt ( aSTNEx )\n",
      "Date Cached:  2017-07-26T16:13:32.036812\n"
     ]
    },
    {
     "data": {
      "text/plain": [
       "[{'POP_ABBREV': 'Wherever found',\n",
       "  'POP_DESC': 'Wherever found',\n",
       "  'STATUS': 'Candidate'}]"
      ]
     },
     "metadata": {},
     "output_type": "display_data"
    },
    {
     "name": "stdout",
     "output_type": "stream",
     "text": [
      "------------\n",
      "Lithobates catesbeianus  -  American Bullfrog ( aAMBUx )\n",
      "Not listed\n",
      "------------\n",
      "Callipepla gambelii  -  Gambel's Quail ( bGAQUx )\n",
      "Not listed\n",
      "------------\n",
      "Aratinga holochlora  -  Green Parakeet ( bGREPx )\n",
      "Not listed\n",
      "------------\n",
      "Regulus calendula  -  Ruby-crowned Kinglet ( bRCKIx )\n",
      "Not listed\n",
      "------------\n",
      "Phasianus colchicus  -  Ring-necked Pheasant ( bRNEPx )\n",
      "Not listed\n",
      "------------\n",
      "Calcarius ornatus  -  Chestnut-collared Longspur ( bCCLOx )\n",
      "Not listed\n",
      "------------\n",
      "Chaetodipus fallax  -  San Diego Pocket Mouse ( mSDPMx )\n",
      "Not listed\n",
      "------------\n",
      "Buteo jamaicensis  -  Red-tailed Hawk ( bRTHAx )\n",
      "Not listed\n",
      "------------\n",
      "Napaeozapus insignis  -  Woodland Jumping Mouse ( mWJMOx )\n",
      "Not listed\n",
      "------------\n",
      "Notiosorex crawfordi  -  Crawford's Gray Shrew ( mCRGSx )\n",
      "Not listed\n",
      "------------\n",
      "Geomys streckeri  -  Strecker's Pocket Gopher ( mSPOGx )\n",
      "Not listed\n",
      "------------\n",
      "Ophisaurus compressus  -  Island Glass Lizard ( rIGLIx )\n",
      "Date Cached:  2017-07-26T16:13:44.563262\n"
     ]
    },
    {
     "data": {
      "text/plain": [
       "[{'POP_ABBREV': 'Wherever found',\n",
       "  'POP_DESC': 'Wherever found',\n",
       "  'STATUS': 'Species of Concern'}]"
      ]
     },
     "metadata": {},
     "output_type": "display_data"
    },
    {
     "name": "stdout",
     "output_type": "stream",
     "text": [
      "------------\n",
      "Thomomys umbrinus  -  Southern Pocket Gopher ( mSPGOx )\n",
      "Not listed\n",
      "------------\n",
      "Chaetodipus spinatus  -  Spiny Pocket Mouse ( mSPMOx )\n",
      "Not listed\n",
      "------------\n",
      "Phrynosoma douglasii  -  Pygmy Short-horned Lizard ( rPSHLx )\n",
      "Not listed\n",
      "------------\n",
      "Aspidoscelis velox  -  Plateau Striped Whiptail ( rPLSWx )\n",
      "Not listed\n",
      "------------\n",
      "Kinosternon hirtipes  -  Rough-footed Mud Turtle ( rRFMTx )\n",
      "Not listed\n",
      "------------\n",
      "Phrynosoma solare  -  Regal Horned Lizard ( rRHLIx )\n",
      "Not listed\n",
      "------------\n",
      "Thamnophis couchii  -  Sierra Gartersnake ( rSIGAx )\n",
      "Not listed\n",
      "------------\n",
      "Micruroides euryxanthus  -  Sonoran Coralsnake ( rSOCOx )\n",
      "Not listed\n",
      "------------\n",
      "Cnemidophorus lemniscatus  -  Rainbow Whiptail ( rRAWHx )\n",
      "Not listed\n",
      "------------\n",
      "Farancia erytrogramma  -  Rainbow Snake ( rRASNx )\n",
      "Not listed\n",
      "------------\n",
      "Crotalus scutulatus  -  Mohave Rattlesnake ( rMORAx )\n",
      "Not listed\n",
      "------------\n",
      "Aspidoscelis xanthonota  -  Red-backed Whiptail ( rRBWHx )\n",
      "Not listed\n",
      "------------\n",
      "Lithobates blairi  -  Plains Leopard Frog ( aPLFRx )\n",
      "Not listed\n",
      "------------\n",
      "Desmognathus conanti  -  Spotted Dusky Salamander ( aSPDSx )\n",
      "Not listed\n",
      "------------\n",
      "Chordeiles minor  -  Common Nighthawk ( bCONIx )\n",
      "Not listed\n",
      "------------\n",
      "Geothlypis trichas  -  Common Yellowthroat ( bCOYEx )\n",
      "Not listed\n",
      "------------\n",
      "Ambystoma barbouri  -  Streamside Salamander ( aSTRSx )\n",
      "Date Cached:  2017-07-26T16:14:02.085819\n"
     ]
    },
    {
     "data": {
      "text/plain": [
       "[{'POP_ABBREV': 'Wherever found',\n",
       "  'POP_DESC': 'Wherever found',\n",
       "  'STATUS': 'Under Review in the Candidate or Petition Process'}]"
      ]
     },
     "metadata": {},
     "output_type": "display_data"
    },
    {
     "name": "stdout",
     "output_type": "stream",
     "text": [
      "------------\n",
      "Eurycea rathbuni  -  Texas Blind Salamander ( aTBSAx )\n",
      "Not listed\n",
      "------------\n",
      "Loxia leucoptera  -  White-winged Crossbill ( bWWCRx )\n",
      "Not listed\n",
      "------------\n",
      "Xantusia wigginsi  -  Wiggins' Night Lizard ( rWNLIx )\n",
      "Not listed\n",
      "------------\n",
      "Plethodon montanus  -  Northern Gray-cheeked Salamander ( aNGCSx )\n",
      "Not listed\n",
      "------------\n",
      "Rhyacotriton olympicus  -  Olympic Torrent Salamander ( aOTSAx )\n",
      "Date Cached:  2017-07-26T16:14:08.361786\n"
     ]
    },
    {
     "data": {
      "text/plain": [
       "[{'POP_ABBREV': 'Wherever found',\n",
       "  'POP_DESC': 'Wherever found',\n",
       "  'STATUS': 'Resolved Taxon'}]"
      ]
     },
     "metadata": {},
     "output_type": "display_data"
    },
    {
     "name": "stdout",
     "output_type": "stream",
     "text": [
      "------------\n",
      "Pseudacris feriarum  -  Upland Chorus Frog ( aUCFRx )\n",
      "Not listed\n",
      "------------\n",
      "Aythya marila  -  Greater Scaup ( bGRSCx )\n",
      "Not listed\n",
      "------------\n",
      "Anser albifrons  -  Greater White-fronted Goose ( bGWFGx )\n",
      "Not listed\n",
      "------------\n",
      "Toxostoma crissale  -  Crissal Thrasher ( bCRTHx )\n",
      "Not listed\n",
      "------------\n",
      "Pseudacris crucifer  -  Spring Peeper ( aSPPEx )\n",
      "Not listed\n",
      "------------\n",
      "Urocyon littoralis dickeyi  -  San Nicolas Island Fox ( mISFOd )\n",
      "Date Cached:  2017-07-26T15:36:06.606770\n"
     ]
    },
    {
     "data": {
      "text/plain": [
       "[{'POP_ABBREV': 'Wherever found',\n",
       "  'POP_DESC': 'Wherever found',\n",
       "  'STATUS': 'Species of Concern'}]"
      ]
     },
     "metadata": {},
     "output_type": "display_data"
    },
    {
     "name": "stdout",
     "output_type": "stream",
     "text": [
      "------------\n",
      "Baeolophus bicolor  -  Tufted Titmouse ( bTUTIx )\n",
      "Not listed\n",
      "------------\n",
      "Cepphus grylle  -  Black Guillemot ( bBLGUx )\n",
      "Not listed\n",
      "------------\n",
      "Helmitheros vermivorum  -  Worm-eating Warbler ( bWEWAx )\n",
      "Not listed\n",
      "------------\n",
      "Sitta carolinensis  -  White-breasted Nuthatch ( bWBNUx )\n",
      "Not listed\n",
      "------------\n",
      "Sorex lyelli  -  Mt. Lyell Shrew ( mMLSHx )\n",
      "Date Cached:  2017-07-26T15:36:14.852643\n"
     ]
    },
    {
     "data": {
      "text/plain": [
       "[{'POP_ABBREV': 'Wherever found',\n",
       "  'POP_DESC': 'Wherever found',\n",
       "  'STATUS': 'Resolved Taxon'}]"
      ]
     },
     "metadata": {},
     "output_type": "display_data"
    },
    {
     "name": "stdout",
     "output_type": "stream",
     "text": [
      "------------\n",
      "Aix sponsa  -  Wood Duck ( bWODUx )\n",
      "Not listed\n",
      "------------\n",
      "Peromyscus californicus  -  California Deermouse ( mCADEx )\n",
      "Not listed\n",
      "------------\n",
      "Piranga ludoviciana  -  Western Tanager ( bWETAx )\n",
      "Not listed\n",
      "------------\n",
      "Oryzomys palustris natator  -  Key Oryzomys ( mMAORn )\n",
      "Date Cached:  2017-07-26T15:36:18.930172\n"
     ]
    },
    {
     "data": {
      "text/plain": [
       "[{'LISTING_DATE': '1991-04-30',\n",
       "  'POP_ABBREV': 'lower FL Keys',\n",
       "  'POP_DESC': 'Lower FL Keys (west of Seven Mile Bridge)',\n",
       "  'STATUS': 'Endangered'}]"
      ]
     },
     "metadata": {},
     "output_type": "display_data"
    },
    {
     "name": "stdout",
     "output_type": "stream",
     "text": [
      "------------\n",
      "Myotis keenii  -  Keen's Myotis ( mKEMYx )\n",
      "Not listed\n",
      "------------\n",
      "Vulpes macrotis  -  Kit Fox ( mKIFOx )\n",
      "Not listed\n",
      "------------\n",
      "Rana boylii  -  Foothill Yellow-legged Frog ( aFYLFx )\n",
      "Date Cached:  2017-07-26T15:36:21.889657\n"
     ]
    },
    {
     "data": {
      "text/plain": [
       "[{'POP_ABBREV': 'Wherever found',\n",
       "  'POP_DESC': 'Wherever found',\n",
       "  'STATUS': 'Under Review in the Candidate or Petition Process'}]"
      ]
     },
     "metadata": {},
     "output_type": "display_data"
    },
    {
     "name": "stdout",
     "output_type": "stream",
     "text": [
      "------------\n",
      "Eurycea latitans  -  Cascade Caverns Salamander ( aCCSAx )\n",
      "Date Cached:  2017-07-26T15:36:22.875602\n"
     ]
    },
    {
     "data": {
      "text/plain": [
       "[{'POP_ABBREV': 'Wherever found',\n",
       "  'POP_DESC': 'Wherever found',\n",
       "  'STATUS': 'Under Review in the Candidate or Petition Process'}]"
      ]
     },
     "metadata": {},
     "output_type": "display_data"
    },
    {
     "name": "stdout",
     "output_type": "stream",
     "text": [
      "------------\n",
      "Cryptobranchus alleganiensis alleganiensis  -  Eastern Hellbender ( aHELLa )\n",
      "Date Cached:  2017-07-26T15:36:23.822515\n"
     ]
    },
    {
     "data": {
      "text/plain": [
       "[{'POP_ABBREV': 'Wherever found',\n",
       "  'POP_DESC': 'Wherever found',\n",
       "  'STATUS': 'Species of Concern'}]"
      ]
     },
     "metadata": {},
     "output_type": "display_data"
    },
    {
     "name": "stdout",
     "output_type": "stream",
     "text": [
      "------------\n",
      "Tamias minimus arizonensis  -  White Mountains Chipmunk ( mLECHa )\n",
      "Not listed\n",
      "------------\n",
      "Limnothlypis swainsonii  -  Swainson's Warbler ( bSWWAx )\n",
      "Not listed\n",
      "------------\n",
      "Cygnus buccinator  -  Trumpeter Swan ( bTRUSx )\n",
      "Date Cached:  2017-07-26T15:36:28.399045\n"
     ]
    },
    {
     "data": {
      "text/plain": [
       "[{'POP_ABBREV': 'Rocky Mountain',\n",
       "  'POP_DESC': 'Rocky Mountain Population',\n",
       "  'STATUS': 'Status Undefined'},\n",
       " {'POP_ABBREV': 'Greater Yellowstone (Tri-state)',\n",
       "  'POP_DESC': 'Greater Yellowstone (Tri-state) breeding pop (DPS)',\n",
       "  'STATUS': 'Resolved Taxon'},\n",
       " {'POP_ABBREV': 'Wherever found',\n",
       "  'POP_DESC': 'Wherever found',\n",
       "  'STATUS': 'Species of Concern'}]"
      ]
     },
     "metadata": {},
     "output_type": "display_data"
    },
    {
     "name": "stdout",
     "output_type": "stream",
     "text": [
      "------------\n",
      "Sayornis saya  -  Say's Phoebe ( bSAPHx )\n",
      "Not listed\n",
      "------------\n",
      "Passerculus sandwichensis  -  Savannah Sparrow ( bSAVSx )\n",
      "Not listed\n",
      "------------\n",
      "Troglodytes aedon  -  House Wren ( bHOWRx )\n",
      "Not listed\n",
      "------------\n",
      "Sorex arizonae  -  Arizona Shrew ( mARSHx )\n",
      "Date Cached:  2017-07-26T15:36:32.696041\n"
     ]
    },
    {
     "data": {
      "text/plain": [
       "[{'POP_ABBREV': 'Wherever found',\n",
       "  'POP_DESC': 'Wherever found',\n",
       "  'STATUS': 'Species of Concern'}]"
      ]
     },
     "metadata": {},
     "output_type": "display_data"
    },
    {
     "name": "stdout",
     "output_type": "stream",
     "text": [
      "------------\n",
      "Ambystoma talpoideum  -  Mole Salamander ( aMOSAx )\n",
      "Not listed\n",
      "------------\n",
      "Eleutherodactylus guttilatus  -  Spotted Chirping Frog ( aSPCFx )\n",
      "Not listed\n",
      "------------\n",
      "Bubo scandiacus  -  Snowy Owl ( bSNOWx )\n",
      "Not listed\n",
      "------------\n",
      "Strix occidentalis  -  Spotted Owl ( bSPOWx )\n",
      "Not listed\n",
      "------------\n",
      "Podiceps auritus  -  Horned Grebe ( bHOGRx )\n",
      "Not listed\n",
      "------------\n",
      "Lophodytes cucullatus  -  Hooded Merganser ( bHOMEx )\n",
      "Not listed\n",
      "------------\n",
      "Calidris ptilocnemis  -  Rock Sandpiper ( bROSAx )\n",
      "Not listed\n",
      "------------\n",
      "Pseudacris maculata  -  Boreal Chorus Frog ( aBOFRx )\n",
      "Not listed\n",
      "------------\n",
      "Plectrophenax nivalis  -  Snow Bunting ( bSNBUx )\n",
      "Not listed\n",
      "------------\n",
      "Plethodon cylindraceus  -  White-spotted Slimy Salamander ( aWSSSx )\n",
      "Not listed\n",
      "------------\n",
      "Anas rubripes  -  American Black Duck ( bABDUx )\n",
      "Not listed\n",
      "------------\n",
      "Polioptila caerulea  -  Blue-gray Gnatcatcher ( bBGGNx )\n",
      "Not listed\n",
      "------------\n",
      "Aimophila carpalis  -  Rufous-winged Sparrow ( bRWSPx )\n",
      "Not listed\n",
      "------------\n",
      "Pica hudsonia  -  Black-billed Magpie ( bBBMAx )\n",
      "Not listed\n",
      "------------\n",
      "Ollotis alvaria  -  Sonoran Desert Toad ( aSNTOx )\n",
      "Not listed\n",
      "------------\n",
      "Scolopax minor  -  American Woodcock ( bAMWOx )\n",
      "Not listed\n",
      "------------\n",
      "Anas americana  -  American Wigeon ( bAMWIx )\n",
      "Not listed\n",
      "------------\n",
      "Siren lacertina  -  Greater Siren ( aGRSIx )\n",
      "Not listed\n",
      "------------\n",
      "Scaphiopus hurterii  -  Hurter's Spadefoot ( aHUSPx )\n",
      "Not listed\n",
      "------------\n",
      "Taricha granulosa  -  Rough-skinned Newt ( aRSNEx )\n",
      "Not listed\n",
      "------------\n",
      "Eurycea chisholmensis  -  Salado Salamander ( aSASAx )\n",
      "Date Cached:  2017-07-26T15:37:00.808879\n"
     ]
    },
    {
     "data": {
      "text/plain": [
       "[{'LISTING_DATE': '2014-03-26',\n",
       "  'POP_ABBREV': 'Wherever found',\n",
       "  'POP_DESC': 'Wherever found',\n",
       "  'STATUS': 'Threatened'}]"
      ]
     },
     "metadata": {},
     "output_type": "display_data"
    },
    {
     "name": "stdout",
     "output_type": "stream",
     "text": [
      "------------\n",
      "Pseudotriton ruber  -  Red Salamander ( aRESAx )\n",
      "Not listed\n",
      "------------\n",
      "Myotis sodalis  -  Indiana Myotis ( mINMYx )\n",
      "Date Cached:  2017-07-26T15:37:02.724996\n"
     ]
    },
    {
     "data": {
      "text/plain": [
       "[{'LISTING_DATE': '1967-03-11',\n",
       "  'POP_ABBREV': 'Wherever found',\n",
       "  'POP_DESC': 'Wherever found',\n",
       "  'STATUS': 'Endangered'}]"
      ]
     },
     "metadata": {},
     "output_type": "display_data"
    },
    {
     "name": "stdout",
     "output_type": "stream",
     "text": [
      "------------\n",
      "Cynanthus latirostris  -  Broad-billed Hummingbird ( bBBIHx )\n",
      "Not listed\n",
      "------------\n",
      "Alligator mississippiensis  -  American Alligator ( rAMALx )\n",
      "Date Cached:  2017-07-26T15:37:04.734330\n"
     ]
    },
    {
     "data": {
      "text/plain": [
       "[{'LISTING_DATE': '1967-03-11',\n",
       "  'POP_ABBREV': 'Wherever found',\n",
       "  'POP_DESC': 'Wherever found',\n",
       "  'STATUS': 'Similarity of Appearance to a Threatened Taxon'}]"
      ]
     },
     "metadata": {},
     "output_type": "display_data"
    },
    {
     "name": "stdout",
     "output_type": "stream",
     "text": [
      "------------\n",
      "Urosaurus nigricaudus  -  Baja California Brush Lizard ( rBCBLx )\n",
      "Not listed\n",
      "------------\n",
      "Lampropeltis extenuata  -  Short-tailed Snake ( rSTSNx )\n",
      "Not listed\n",
      "------------\n",
      "Tamias amoenus  -  Yellow-pine Chipmunk ( mYPCHx )\n",
      "Not listed\n",
      "------------\n",
      "Tantilla nigriceps  -  Plains Black-headed Snake ( rPBHSx )\n",
      "Not listed\n",
      "------------\n",
      "Crotaphytus nebrius  -  Sonoran Collared Lizard ( rSCLIx )\n",
      "Not listed\n",
      "------------\n",
      "Thamnophis butleri  -  Butler's Gartersnake ( rBUGAx )\n",
      "Not listed\n",
      "------------\n",
      "Leptodeira septentrionalis  -  Cat-eyed Snake ( rCESNx )\n",
      "Not listed\n",
      "------------\n",
      "Sceloporus bimaculosus  -  Twin-spotted Spiny Lizard ( rTSSLx )\n",
      "Not listed\n",
      "------------\n",
      "Micrurus tener  -  Texas Coralsnake ( rTXCSx )\n",
      "Not listed\n",
      "------------\n",
      "Neotoma devia  -  Arizona Woodrat ( mAZWOx )\n",
      "Not listed\n",
      "------------\n",
      "Empidonax wrightii  -  Gray Flycatcher ( bGRFLx )\n",
      "Not listed\n",
      "------------\n",
      "Spermophilus elegans  -  Wyoming Ground Squirrel ( mWYSQx )\n",
      "Not listed\n",
      "------------\n",
      "Lampropeltis zonata  -  California Mountain Kingsnake ( rCMKIx )\n",
      "Not listed\n",
      "------------\n",
      "Uma rufopunctata  -  Yuman Fringe-toed Lizard ( rYFTLx )\n",
      "Date Cached:  2017-07-26T15:37:18.585330\n"
     ]
    },
    {
     "data": {
      "text/plain": [
       "[{'POP_ABBREV': 'Wherever found',\n",
       "  'POP_DESC': 'Wherever found',\n",
       "  'STATUS': 'Under Review in the Candidate or Petition Process'}]"
      ]
     },
     "metadata": {},
     "output_type": "display_data"
    },
    {
     "name": "stdout",
     "output_type": "stream",
     "text": [
      "------------\n",
      "Perognathus flavus  -  Silky Pocket Mouse ( mSLMOx )\n",
      "Not listed\n",
      "------------\n",
      "Sorex fumeus  -  Smoky Shrew ( mSMSHx )\n",
      "Not listed\n",
      "------------\n",
      "Melanitta fusca  -  White-winged Scoter ( bWWSCx )\n",
      "Not listed\n",
      "------------\n",
      "Ursus americanus floridanus  -  Florida Black Bear ( mABBEf )\n",
      "Date Cached:  2017-07-26T15:37:23.228206\n"
     ]
    },
    {
     "data": {
      "text/plain": [
       "[{'POP_ABBREV': 'Wherever found',\n",
       "  'POP_DESC': 'Wherever found',\n",
       "  'STATUS': 'Resolved Taxon'}]"
      ]
     },
     "metadata": {},
     "output_type": "display_data"
    },
    {
     "name": "stdout",
     "output_type": "stream",
     "text": [
      "------------\n",
      "Taxidea taxus  -  American Badger ( mAMBAx )\n",
      "Date Cached:  2017-07-26T15:37:24.178328\n"
     ]
    },
    {
     "data": {
      "text/plain": [
       "[{'POP_ABBREV': 'Wherever found',\n",
       "  'POP_DESC': 'Wherever found',\n",
       "  'STATUS': 'Species of Concern'}]"
      ]
     },
     "metadata": {},
     "output_type": "display_data"
    },
    {
     "name": "stdout",
     "output_type": "stream",
     "text": [
      "------------\n",
      "Castor canadensis  -  American Beaver ( mAMBEx )\n",
      "Not listed\n",
      "------------\n",
      "Crotaphytus bicinctores  -  Great Basin Collared Lizard ( rGBCLx )\n",
      "Not listed\n",
      "------------\n",
      "Regina rigida  -  Glossy Crayfish Snake ( rGCRSx )\n",
      "Not listed\n",
      "------------\n",
      "Carphophis amoenus  -  Eastern Wormsnake ( rEWSNx )\n",
      "Not listed\n",
      "------------\n",
      "Chaetodipus penicillatus  -  Desert Pocket Mouse ( mDPMOx )\n",
      "Not listed\n",
      "------------\n",
      "Cervus elaphus nannodes roosevelti  -  Roosevelt Elk ( mELK1r )\n",
      "Not listed\n",
      "------------\n",
      "Graptemys caglei  -  Cagle's Map Turtle ( rCMTUx )\n",
      "Date Cached:  2017-07-26T15:37:31.239578\n"
     ]
    },
    {
     "data": {
      "text/plain": [
       "[{'POP_ABBREV': 'Wherever found',\n",
       "  'POP_DESC': 'Wherever found',\n",
       "  'STATUS': 'Resolved Taxon'}]"
      ]
     },
     "metadata": {},
     "output_type": "display_data"
    },
    {
     "name": "stdout",
     "output_type": "stream",
     "text": [
      "------------\n",
      "Plestiodon anthracinus  -  Coal Skink ( rCOSKx )\n",
      "Not listed\n",
      "------------\n",
      "Spermophilus tereticaudus  -  Round-tailed Ground Squirrel ( mRTGSx )\n",
      "Not listed\n",
      "------------\n",
      "Regina grahamii  -  Graham's Crayfish Snake ( rGCSNx )\n",
      "Not listed\n",
      "------------\n",
      "Vireo griseus  -  White-eyed Vireo ( bWEVIx )\n",
      "Not listed\n",
      "------------\n",
      "Batrachoseps nigriventris  -  Black-bellied Slender Salamander ( aBBSSx )\n",
      "Not listed\n",
      "------------\n",
      "Vermivora virginiae  -  Virginia's Warbler ( bVIWAx )\n",
      "Date Cached:  2017-07-26T15:37:37.074370\n"
     ]
    },
    {
     "data": {
      "text/plain": [
       "[{'POP_ABBREV': 'Wherever found',\n",
       "  'POP_DESC': 'Wherever found',\n",
       "  'STATUS': 'Species of Concern'}]"
      ]
     },
     "metadata": {},
     "output_type": "display_data"
    },
    {
     "name": "stdout",
     "output_type": "stream",
     "text": [
      "------------\n",
      "Melospiza melodia  -  Song Sparrow ( bSOSPx )\n",
      "Not listed\n",
      "------------\n",
      "Myotis occultus  -  Arizona Myotis ( mARMYx )\n",
      "Not listed\n",
      "------------\n",
      "Myotis leibii  -  Eastern Small-footed Myotis ( mESFMx )\n",
      "Date Cached:  2017-07-26T15:37:42.408688\n"
     ]
    },
    {
     "data": {
      "text/plain": [
       "[{'POP_ABBREV': 'Wherever found',\n",
       "  'POP_DESC': 'Wherever found',\n",
       "  'STATUS': 'Species of Concern'},\n",
       " {'POP_ABBREV': 'Wherever found',\n",
       "  'POP_DESC': 'Wherever found',\n",
       "  'STATUS': 'Resolved Taxon'}]"
      ]
     },
     "metadata": {},
     "output_type": "display_data"
    },
    {
     "name": "stdout",
     "output_type": "stream",
     "text": [
      "------------\n",
      "Anas platyrhynchos  -  Mallard ( bMALLx )\n",
      "Not listed\n",
      "------------\n",
      "Calcarius mccownii  -  Mccown's Longspur ( bMCLOx )\n",
      "Date Cached:  2017-07-26T15:37:45.046763\n"
     ]
    },
    {
     "data": {
      "text/plain": [
       "[{'POP_ABBREV': 'Wherever found',\n",
       "  'POP_DESC': 'Wherever found',\n",
       "  'STATUS': 'Species of Concern'}]"
      ]
     },
     "metadata": {},
     "output_type": "display_data"
    },
    {
     "name": "stdout",
     "output_type": "stream",
     "text": [
      "------------\n",
      "Ambystoma mavortium  -  Barred Tiger Salamander ( aBTISx )\n",
      "Not listed\n",
      "------------\n",
      "Ambystoma laterale  -  Blue-spotted Salamander ( aBUPSx )\n",
      "Not listed\n",
      "------------\n",
      "Somateria spectabilis  -  King Eider ( bKIEIx )\n",
      "Not listed\n",
      "------------\n",
      "Ambystoma californiense  -  California Tiger Salamander ( aCTGSx )\n",
      "Date Cached:  2017-07-26T15:37:49.977881\n"
     ]
    },
    {
     "data": {
      "text/plain": [
       "[{'LISTING_DATE': '2004-08-04',\n",
       "  'POP_ABBREV': 'U.S.A. (Central CA DPS)',\n",
       "  'POP_DESC': 'U.S.A. (CA - Central California)',\n",
       "  'STATUS': 'Threatened'},\n",
       " {'LISTING_DATE': '2002-07-22',\n",
       "  'POP_ABBREV': 'U.S.A. (CA - Sonoma County)',\n",
       "  'POP_DESC': 'U.S.A. (CA - Sonoma County)',\n",
       "  'STATUS': 'Endangered'},\n",
       " {'LISTING_DATE': '2000-01-19',\n",
       "  'POP_ABBREV': 'U.S.A. (CA - Santa Barbara County)',\n",
       "  'POP_DESC': 'U.S.A. (CA - Santa Barbara County)',\n",
       "  'STATUS': 'Endangered'}]"
      ]
     },
     "metadata": {},
     "output_type": "display_data"
    },
    {
     "name": "stdout",
     "output_type": "stream",
     "text": [
      "------------\n",
      "Stereochilus marginatus  -  Many-lined Salamander ( aMLSAx )\n",
      "Not listed\n",
      "------------\n",
      "Tamias panamintinus  -  Panamint Chipmunk ( mPNCHx )\n",
      "Not listed\n",
      "------------\n",
      "Spermophilus tridecemlineatus  -  Thirteen-lined Ground Squirrel ( mTLGSx )\n",
      "Not listed\n",
      "------------\n",
      "Gastrophryne carolinensis  -  Eastern Narrow-mouthed Toad ( aENMTx )\n",
      "Not listed\n",
      "------------\n",
      "Sorex sonomae  -  Fog Shrew ( mFOSHx )\n",
      "Not listed\n",
      "------------\n",
      "Dolichonyx oryzivorus  -  Bobolink ( bBOBOx )\n",
      "Not listed\n",
      "------------\n",
      "Plethodon dunni  -  Dunn's Salamander ( aDUSAx )\n",
      "Not listed\n",
      "------------\n",
      "Aegolius funereus  -  Boreal Owl ( bBOOWx )\n",
      "Not listed\n",
      "------------\n",
      "Sciurus arizonensis  -  Arizona Gray Squirrel ( mAGSQx )\n",
      "Not listed\n",
      "------------\n",
      "Certhia americana  -  Brown Creeper ( bBRCRx )\n",
      "Not listed\n",
      "------------\n",
      "Rynchops niger  -  Black Skimmer ( bBLSKx )\n",
      "Date Cached:  2017-07-26T15:38:11.495650\n"
     ]
    },
    {
     "data": {
      "text/plain": [
       "[{'POP_ABBREV': 'Wherever found',\n",
       "  'POP_DESC': 'Wherever found',\n",
       "  'STATUS': 'Species of Concern'}]"
      ]
     },
     "metadata": {},
     "output_type": "display_data"
    },
    {
     "name": "stdout",
     "output_type": "stream",
     "text": [
      "------------\n",
      "Molossus molossus  -  Pallas's Mastiff Bat ( mPMBAx )\n",
      "Not listed\n",
      "------------\n",
      "Ochotona princeps  -  American Pika ( mPIKAx )\n",
      "Date Cached:  2017-07-26T15:38:13.375588\n"
     ]
    },
    {
     "data": {
      "text/plain": [
       "[{'POP_ABBREV': 'Wherever found',\n",
       "  'POP_DESC': 'Wherever found',\n",
       "  'STATUS': 'Resolved Taxon'}]"
      ]
     },
     "metadata": {},
     "output_type": "display_data"
    },
    {
     "name": "stdout",
     "output_type": "stream",
     "text": [
      "------------\n",
      "Gallinago delicata  -  Wilson's Snipe ( bWISNx )\n",
      "Not listed\n",
      "------------\n",
      "Peromyscus attwateri  -  Texas Deermouse ( mTXDEx )\n",
      "Not listed\n",
      "------------\n",
      "Peucedramus taeniatus  -  Olive Warbler ( bOLWAx )\n",
      "Not listed\n",
      "------------\n",
      "Tamias speciosus callipeplus  -  Mt. Pinos Lodgepole Chipmunk ( mLOCHc )\n",
      "Not listed\n",
      "------------\n",
      "Urocyon littoralis catalinae  -  Santa Catalina Island Fox ( mISFOc )\n",
      "Date Cached:  2017-07-26T15:38:18.717391\n"
     ]
    },
    {
     "data": {
      "text/plain": [
       "[{'LISTING_DATE': '2004-03-05',\n",
       "  'POP_ABBREV': 'Wherever found',\n",
       "  'POP_DESC': 'Wherever found',\n",
       "  'STATUS': 'Threatened'}]"
      ]
     },
     "metadata": {},
     "output_type": "display_data"
    },
    {
     "name": "stdout",
     "output_type": "stream",
     "text": [
      "------------\n",
      "Thalasseus elegans  -  Elegant Tern ( bELTEx )\n",
      "Date Cached:  2017-07-26T15:38:19.814963\n"
     ]
    },
    {
     "data": {
      "text/plain": [
       "[{'POP_ABBREV': 'Wherever found',\n",
       "  'POP_DESC': 'Wherever found',\n",
       "  'STATUS': 'Species of Concern'}]"
      ]
     },
     "metadata": {},
     "output_type": "display_data"
    },
    {
     "name": "stdout",
     "output_type": "stream",
     "text": [
      "------------\n",
      "Cyanocitta cristata  -  Blue Jay ( bBLJAx )\n",
      "Not listed\n",
      "------------\n",
      "Chamaea fasciata  -  Wrentit ( bWRENx )\n",
      "Not listed\n",
      "------------\n",
      "Caprimulgus vociferus  -  Whip-poor-will ( bWPWIx )\n",
      "Not listed\n",
      "------------\n",
      "Gymnogyps californianus  -  California Condor ( bCACOx )\n",
      "Date Cached:  2017-07-26T15:38:25.780785\n"
     ]
    },
    {
     "data": {
      "text/plain": [
       "[{'LISTING_DATE': '1967-03-11',\n",
       "  'POP_ABBREV': 'U.S.A. only, except where listed as an experimental population',\n",
       "  'POP_DESC': 'U.S.A. only, except where listed as an experimental population',\n",
       "  'STATUS': 'Endangered'},\n",
       " {'LISTING_DATE': '1996-10-16',\n",
       "  'POP_ABBREV': 'U.S.A. (specific portions of Arizona, Nevada, and Utah)',\n",
       "  'POP_DESC': 'U.S.A. (specific portions of Arizona, Nevada, and Utah)-see 17.84(j)',\n",
       "  'STATUS': 'Experimental Population, Non-Essential'}]"
      ]
     },
     "metadata": {},
     "output_type": "display_data"
    },
    {
     "name": "stdout",
     "output_type": "stream",
     "text": [
      "------------\n",
      "Tringa semipalmata  -  Willet ( bWILLx )\n",
      "Not listed\n",
      "------------\n",
      "Dicamptodon aterrimus  -  Idaho Giant Salamander ( aIGSAx )\n",
      "Not listed\n",
      "------------\n",
      "Peromyscus keeni  -  Northwestern Deermouse or Keen's Mouse ( mNODEx )\n",
      "Not listed\n",
      "------------\n",
      "Ambystoma bishopi  -  Reticulated Flatwoods Salamander ( aRFSAx )\n",
      "Date Cached:  2017-07-26T15:38:37.862813\n"
     ]
    },
    {
     "data": {
      "text/plain": [
       "[{'LISTING_DATE': '2009-02-10',\n",
       "  'POP_ABBREV': 'Wherever found',\n",
       "  'POP_DESC': 'Wherever found',\n",
       "  'STATUS': 'Endangered'}]"
      ]
     },
     "metadata": {},
     "output_type": "display_data"
    },
    {
     "name": "stdout",
     "output_type": "stream",
     "text": [
      "------------\n",
      "Aplodontia rufa nigra  -  Point Arena Mountain Beaver ( mSEWEn )\n",
      "Date Cached:  2017-07-26T15:38:39.738385\n"
     ]
    },
    {
     "data": {
      "text/plain": [
       "[{'LISTING_DATE': '1991-12-12',\n",
       "  'POP_ABBREV': 'Wherever found',\n",
       "  'POP_DESC': 'Wherever found',\n",
       "  'STATUS': 'Endangered'}]"
      ]
     },
     "metadata": {},
     "output_type": "display_data"
    },
    {
     "name": "stdout",
     "output_type": "stream",
     "text": [
      "------------\n",
      "Lasiurus ega  -  Southern Yellow Bat ( mSYBAx )\n",
      "Date Cached:  2017-07-26T15:38:41.058063\n"
     ]
    },
    {
     "data": {
      "text/plain": [
       "[{'POP_ABBREV': 'Wherever found',\n",
       "  'POP_DESC': 'Wherever found',\n",
       "  'STATUS': 'Species of Concern'}]"
      ]
     },
     "metadata": {},
     "output_type": "display_data"
    },
    {
     "name": "stdout",
     "output_type": "stream",
     "text": [
      "------------\n",
      "Plethodon chlorobryonis  -  Atlantic Coast Slimy Salamander ( aACSSx )\n",
      "Not listed\n",
      "------------\n",
      "Taricha rivularis  -  Red-bellied Newt ( aRBNEx )\n",
      "Not listed\n",
      "------------\n",
      "Cardellina rubrifrons  -  Red-faced Warbler ( bRFWAx )\n",
      "Not listed\n",
      "------------\n",
      "Rana sylvatica  -  Wood Frog ( aWOFRx )\n",
      "Not listed\n",
      "------------\n",
      "Amazona viridigenalis  -  Red-crowned Parrot ( bRCPAx )\n",
      "Date Cached:  2017-07-26T15:38:48.211050\n"
     ]
    },
    {
     "data": {
      "text/plain": [
       "[{'POP_ABBREV': 'Wherever found',\n",
       "  'POP_DESC': 'Wherever found',\n",
       "  'STATUS': 'Candidate'}]"
      ]
     },
     "metadata": {},
     "output_type": "display_data"
    },
    {
     "name": "stdout",
     "output_type": "stream",
     "text": [
      "------------\n",
      "Bonasa umbellus  -  Ruffed Grouse ( bRUGRx )\n",
      "Not listed\n",
      "------------\n",
      "Calidris canutus  -  Red Knot ( bREKNx )\n",
      "Not listed\n",
      "------------\n",
      "Rusa unicolor  -  Sambar ( mSAMBx )\n",
      "Not listed\n",
      "------------\n",
      "Molothrus ater  -  Brown-headed Cowbird ( bBHCOx )\n",
      "Not listed\n",
      "------------\n",
      "Scapanus latimanus  -  Broad-footed Mole ( mBFMOx )\n",
      "Not listed\n",
      "------------\n",
      "Chaetodipus baileyi  -  Bailey's Pocket Mouse ( mBPMOx )\n",
      "Not listed\n",
      "------------\n",
      "Anaxyrus terrestris  -  Southern Toad ( aSOTOx )\n",
      "Not listed\n",
      "------------\n",
      "Pipilo erythrophthalmus  -  Eastern Towhee ( bEATOx )\n",
      "Not listed\n",
      "------------\n",
      "Carpodacus cassinii  -  Cassin's Finch ( bCAFIx )\n",
      "Date Cached:  2017-07-26T15:39:04.924775\n"
     ]
    },
    {
     "data": {
      "text/plain": [
       "[{'POP_ABBREV': 'Wherever found',\n",
       "  'POP_DESC': 'Wherever found',\n",
       "  'STATUS': 'Species of Concern'}]"
      ]
     },
     "metadata": {},
     "output_type": "display_data"
    },
    {
     "name": "stdout",
     "output_type": "stream",
     "text": [
      "------------\n",
      "Plethodon neomexicanus  -  Jemez Mountains Salamander ( aJMSAx )\n",
      "Date Cached:  2017-07-26T15:39:06.056224\n"
     ]
    },
    {
     "data": {
      "text/plain": [
       "[{'LISTING_DATE': '2013-10-10',\n",
       "  'POP_ABBREV': 'Wherever found',\n",
       "  'POP_DESC': 'Wherever found',\n",
       "  'STATUS': 'Endangered'}]"
      ]
     },
     "metadata": {},
     "output_type": "display_data"
    },
    {
     "name": "stdout",
     "output_type": "stream",
     "text": [
      "------------\n",
      "Aspidoscelis sonorae  -  Sonoran Spotted Whiptail ( rSSWHx )\n",
      "Not listed\n",
      "------------\n",
      "Pseudemys texana  -  Texas Cooter ( rTXCOx )\n",
      "Not listed\n",
      "------------\n",
      "Rostrhamus sociabilis  -  Snail Kite ( bSNKIx )\n",
      "Not listed\n",
      "------------\n",
      "Dendrocygna autumnalis  -  Black-bellied Whistling-Duck ( bBBWDx )\n",
      "Not listed\n",
      "------------\n",
      "Ambystoma cingulatum  -  Frosted Flatwoods Salamander ( aFFSAx )\n",
      "Date Cached:  2017-07-26T15:39:16.217791\n"
     ]
    },
    {
     "data": {
      "text/plain": [
       "[{'LISTING_DATE': '1999-04-01',\n",
       "  'POP_ABBREV': 'Wherever found',\n",
       "  'POP_DESC': 'Wherever found',\n",
       "  'STATUS': 'Threatened'}]"
      ]
     },
     "metadata": {},
     "output_type": "display_data"
    },
    {
     "name": "stdout",
     "output_type": "stream",
     "text": [
      "------------\n",
      "Batrachoseps gavilanensis  -  Gabilan Mountains Slender Salamander ( aGMSSx )\n",
      "Not listed\n",
      "------------\n",
      "Ortalis vetula  -  Plain Chachalaca ( bPLCHx )\n",
      "Date Cached:  2017-07-26T15:39:19.215636\n"
     ]
    },
    {
     "data": {
      "text/plain": [
       "[{'POP_ABBREV': 'Wherever found',\n",
       "  'POP_DESC': 'Wherever found',\n",
       "  'STATUS': 'Resolved Taxon'}]"
      ]
     },
     "metadata": {},
     "output_type": "display_data"
    },
    {
     "name": "stdout",
     "output_type": "stream",
     "text": [
      "------------\n",
      "Pheucticus ludovicianus  -  Rose-breasted Grosbeak ( bRBGRx )\n",
      "Not listed\n",
      "------------\n",
      "Aimophila aestivalis  -  Bachman's Sparrow ( bBACSx )\n",
      "Date Cached:  2017-07-26T15:39:24.036139\n"
     ]
    },
    {
     "data": {
      "text/plain": [
       "[{'POP_ABBREV': 'Wherever found',\n",
       "  'POP_DESC': 'Wherever found',\n",
       "  'STATUS': 'Species of Concern'}]"
      ]
     },
     "metadata": {},
     "output_type": "display_data"
    },
    {
     "name": "stdout",
     "output_type": "stream",
     "text": [
      "------------\n",
      "Nycticeius humeralis  -  Evening Bat ( mEVBAx )\n",
      "Not listed\n",
      "------------\n",
      "Seiurus noveboracensis  -  Northern Waterthrush ( bNOWAx )\n",
      "Not listed\n",
      "------------\n",
      "Stelgidopteryx serripennis  -  Northern Rough-winged Swallow ( bNRWSx )\n",
      "Not listed\n",
      "------------\n",
      "Desmognathus carolinensis  -  Carolina Mountain Dusky Salamander ( aCMDSx )\n",
      "Not listed\n",
      "------------\n",
      "Stellula calliope  -  Calliope Hummingbird ( bCAHUx )\n",
      "Date Cached:  2017-07-26T15:39:31.381668\n"
     ]
    },
    {
     "data": {
      "text/plain": [
       "[{'POP_ABBREV': 'Wherever found',\n",
       "  'POP_DESC': 'Wherever found',\n",
       "  'STATUS': 'Species of Concern'}]"
      ]
     },
     "metadata": {},
     "output_type": "display_data"
    },
    {
     "name": "stdout",
     "output_type": "stream",
     "text": [
      "------------\n",
      "Canis lupus  -  Gray Wolf ( mGRWOx )\n",
      "Date Cached:  2017-07-26T15:39:32.662253\n"
     ]
    },
    {
     "data": {
      "text/plain": [
       "[{'LISTING_DATE': '1978-03-09',\n",
       "  'POP_ABBREV': 'Northern Rocky Mountain DPS',\n",
       "  'POP_DESC': 'Northern Rocky Mountain Distinct Population Segment: Montana, Idaho, Wyoming, eastern Washington, eastern Oregon, and north central Utah',\n",
       "  'STATUS': 'Recovery'},\n",
       " {'LISTING_DATE': '1978-03-09',\n",
       "  'POP_ABBREV': 'MN',\n",
       "  'POP_DESC': 'U.S.A. (MN)',\n",
       "  'STATUS': 'Threatened'},\n",
       " {'LISTING_DATE': '1978-03-09',\n",
       "  'POP_ABBREV': 'Western Great Lakes DPS',\n",
       "  'POP_DESC': 'Western Great Lakes Distinct Population Segment: Minnesota, Wisconsin, and Michigan, the eastern half of North Dakota and South Dakota, the northern half of Iowa, the northern portions of Illinois and Indiana, and the northwestern portion of Ohio.',\n",
       "  'STATUS': 'Resolved Taxon'},\n",
       " {'LISTING_DATE': '1978-03-09',\n",
       "  'POP_ABBREV': 'U.S.A.: All of AL, AR, CA, CO, CT, DE, FL, GA, IA, IN, IL, KS, KY, LA, MA, MD, ME, MI, MO, MS, NC, ND, NE, NH, NJ, NV, NY, OH, OK, PA, RI, SC, SD, TN, TX, VA, VT, WI, and WV, and portions of AZ, NM, OR, UT, and WA. Mexico.',\n",
       "  'POP_DESC': 'U.S.A.: All of AL, AR, CA, CO, CT, DE, FL, GA, IA, IN, IL, KS, KY, LA, MA, MD, ME, MI, MO, MS, NC, ND, NE, NH, NJ, NV, NY, OH, OK, PA, RI, SC, SD, TN, TX, VA, VT, WI, and WV, and portions of AZ, NM, OR, UT, and WA as follows: (1) Northern AZ (that portion north of the centerline of Interstate Highway 40), (2) Northern NM (that portion north of the centerline of Interstate Highway 40), (3) Western OR (that portion of OR west of the centerline of Highway 395 and Highway 78 north of Burns Junction and that portion of OR west of the centerline of Highway 95 south of Burns Junction), (4) Most of Utah (that portion of UT south and west of the centerline of Highway 84 and that portion of UT south of Highway 80 from Echo to the UT/WY Stateline), and (5) Western WA (that portion of WA west of the centerline of Highway 97 and Highway 17 north of Mesa and that portion of WA west of the centerline of Highway 395 south of Mesa). Mexico.',\n",
       "  'STATUS': 'Endangered'}]"
      ]
     },
     "metadata": {},
     "output_type": "display_data"
    },
    {
     "name": "stdout",
     "output_type": "stream",
     "text": [
      "------------\n",
      "Dipodomys heermanni morroensis  -  Morro Bay Kangaroo Rat ( mHKRAm )\n",
      "Date Cached:  2017-07-26T15:39:33.862569\n"
     ]
    },
    {
     "data": {
      "text/plain": [
       "[{'LISTING_DATE': '1970-10-13',\n",
       "  'POP_ABBREV': 'Wherever found',\n",
       "  'POP_DESC': 'Wherever found',\n",
       "  'STATUS': 'Endangered'}]"
      ]
     },
     "metadata": {},
     "output_type": "display_data"
    },
    {
     "name": "stdout",
     "output_type": "stream",
     "text": [
      "------------\n",
      "Myioborus pictus  -  Painted Redstart ( bPAREx )\n",
      "Not listed\n",
      "------------\n",
      "Mergus serrator  -  Red-breasted Merganser ( bRBMEx )\n",
      "Not listed\n",
      "------------\n",
      "Axis axis  -  Chital ( mCHITx )\n",
      "Not listed\n",
      "------------\n",
      "Petrochelidon pyrrhonota  -  Cliff Swallow ( bCLSWx )\n",
      "Not listed\n",
      "------------\n",
      "Quiscalus quiscula  -  Common Grackle ( bCOGRx )\n",
      "Not listed\n",
      "------------\n",
      "Selasphorus rufus  -  Rufous Hummingbird ( bRUHUx )\n",
      "Not listed\n",
      "------------\n",
      "Plethodon petraeus  -  Pigeon Mountain Salamander ( aPMSAx )\n",
      "Date Cached:  2017-07-26T15:39:42.806800\n"
     ]
    },
    {
     "data": {
      "text/plain": [
       "[{'POP_ABBREV': 'Wherever found',\n",
       "  'POP_DESC': 'Wherever found',\n",
       "  'STATUS': 'Resolved Taxon'}]"
      ]
     },
     "metadata": {},
     "output_type": "display_data"
    },
    {
     "name": "stdout",
     "output_type": "stream",
     "text": [
      "------------\n",
      "Ammodramus caudacutus  -  Saltmarsh Sharp-tailed Sparrow ( bSSTSx )\n",
      "Not listed\n",
      "------------\n",
      "Contopus pertinax  -  Greater Pewee ( bGRPEx )\n",
      "Not listed\n",
      "------------\n",
      "Anthus spragueii  -  Sprague's Pipit ( bSPPIx )\n",
      "Date Cached:  2017-07-26T15:39:47.772633\n"
     ]
    },
    {
     "data": {
      "text/plain": [
       "[{'POP_ABBREV': 'Wherever found',\n",
       "  'POP_DESC': 'Wherever found',\n",
       "  'STATUS': 'Resolved Taxon'}]"
      ]
     },
     "metadata": {},
     "output_type": "display_data"
    },
    {
     "name": "stdout",
     "output_type": "stream",
     "text": [
      "------------\n",
      "Buteo brachyurus  -  Short-tailed Hawk ( bSTHAx )\n",
      "Date Cached:  2017-07-26T15:39:49.342529\n"
     ]
    },
    {
     "data": {
      "text/plain": [
       "[{'POP_ABBREV': 'Florida population',\n",
       "  'POP_DESC': 'Florida population',\n",
       "  'STATUS': 'Status Undefined'},\n",
       " {'POP_ABBREV': 'Wherever found',\n",
       "  'POP_DESC': 'Wherever found',\n",
       "  'STATUS': 'Species of Concern'}]"
      ]
     },
     "metadata": {},
     "output_type": "display_data"
    },
    {
     "name": "stdout",
     "output_type": "stream",
     "text": [
      "------------\n",
      "Ardea alba  -  Great Egret ( bGREGx )\n",
      "Not listed\n",
      "------------\n",
      "Dendroica cerulea  -  Cerulean Warbler ( bCERWx )\n",
      "Date Cached:  2017-07-26T15:39:52.555258\n"
     ]
    },
    {
     "data": {
      "text/plain": [
       "[{'POP_ABBREV': 'Wherever found',\n",
       "  'POP_DESC': 'Wherever found',\n",
       "  'STATUS': 'Resolved Taxon'}]"
      ]
     },
     "metadata": {},
     "output_type": "display_data"
    },
    {
     "name": "stdout",
     "output_type": "stream",
     "text": [
      "------------\n",
      "Plethodon hubrichti  -  Peaks Of Otter Salamander ( aPOSAx )\n",
      "Date Cached:  2017-07-26T15:39:55.622356\n"
     ]
    },
    {
     "data": {
      "text/plain": [
       "[{'POP_ABBREV': 'Wherever found',\n",
       "  'POP_DESC': 'Wherever found',\n",
       "  'STATUS': 'Under Review in the Candidate or Petition Process'}]"
      ]
     },
     "metadata": {},
     "output_type": "display_data"
    },
    {
     "name": "stdout",
     "output_type": "stream",
     "text": [
      "------------\n",
      "Fratercula cirrhata  -  Tufted Puffin ( bTUPUx )\n",
      "Date Cached:  2017-07-26T15:40:04.538701\n"
     ]
    },
    {
     "data": {
      "text/plain": [
       "[{'POP_ABBREV': 'Wherever found',\n",
       "  'POP_DESC': 'Wherever found',\n",
       "  'STATUS': 'Under Review in the Candidate or Petition Process'}]"
      ]
     },
     "metadata": {},
     "output_type": "display_data"
    },
    {
     "name": "stdout",
     "output_type": "stream",
     "text": [
      "------------\n",
      "Martes pennanti  -  Fisher ( mFISHx )\n",
      "Date Cached:  2017-07-26T15:40:09.829583\n"
     ]
    },
    {
     "data": {
      "text/plain": [
       "[{'POP_ABBREV': 'Northern Rocky Mountains DPS',\n",
       "  'POP_DESC': 'Northern Rocky Mountains DPS',\n",
       "  'STATUS': 'Under Review in the Candidate or Petition Process'},\n",
       " {'POP_ABBREV': 'West coast DPS',\n",
       "  'POP_DESC': 'West coast DPS',\n",
       "  'STATUS': 'Resolved Taxon'}]"
      ]
     },
     "metadata": {},
     "output_type": "display_data"
    },
    {
     "name": "stdout",
     "output_type": "stream",
     "text": [
      "------------\n",
      "Regulus satrapa  -  Golden-crowned Kinglet ( bGCKIx )\n",
      "Not listed\n",
      "------------\n",
      "Uria lomvia  -  Thick-billed Murre ( bTBMUx )\n",
      "Not listed\n",
      "------------\n",
      "Synthliboramphus hypoleucus  -  Xantus's Murrelet ( bXAMUx )\n",
      "Date Cached:  2017-07-26T15:40:21.628674\n"
     ]
    },
    {
     "data": {
      "text/plain": [
       "[{'POP_ABBREV': 'Wherever found',\n",
       "  'POP_DESC': 'Wherever found',\n",
       "  'STATUS': 'Resolved Taxon'}]"
      ]
     },
     "metadata": {},
     "output_type": "display_data"
    },
    {
     "name": "stdout",
     "output_type": "stream",
     "text": [
      "------------\n",
      "Dendroica dominica  -  Yellow-throated Warbler ( bYTWAx )\n",
      "Not listed\n",
      "------------\n",
      "Lampropeltis pyromelana  -  Sonoran Mountain Kingsnake ( rSMKIx )\n",
      "Not listed\n",
      "------------\n",
      "Chrysemys dorsalis  -  Southern Painted Turtle ( rSOPTx )\n",
      "Not listed\n",
      "------------\n",
      "Chaetodipus californicus  -  California Pocket Mouse ( mCPMOx )\n",
      "Not listed\n",
      "------------\n",
      "Dipodomys nitratoides exilis  -  Fresno Kangaroo Rat ( mSJKRe )\n",
      "Date Cached:  2017-07-26T15:40:30.904216\n"
     ]
    },
    {
     "data": {
      "text/plain": [
       "[{'LISTING_DATE': '1985-01-30',\n",
       "  'POP_ABBREV': 'Wherever found',\n",
       "  'POP_DESC': 'Wherever found',\n",
       "  'STATUS': 'Endangered'}]"
      ]
     },
     "metadata": {},
     "output_type": "display_data"
    },
    {
     "name": "stdout",
     "output_type": "stream",
     "text": [
      "------------\n",
      "Perognathus inornatus  -  San Joaquin Pocket Mouse ( mSJPMx )\n",
      "Date Cached:  2017-07-26T15:40:31.973607\n"
     ]
    },
    {
     "data": {
      "text/plain": [
       "[{'POP_ABBREV': 'Wherever found',\n",
       "  'POP_DESC': 'Wherever found',\n",
       "  'STATUS': 'Species of Concern'}]"
      ]
     },
     "metadata": {},
     "output_type": "display_data"
    },
    {
     "name": "stdout",
     "output_type": "stream",
     "text": [
      "------------\n",
      "Cervus elaphus nannodes  -  Tule Elk ( mELK1t )\n",
      "Not listed\n",
      "------------\n",
      "Phrynosoma modestum  -  Round-tailed Horned Lizard ( rRTHLx )\n",
      "Not listed\n",
      "------------\n",
      "Regina alleni  -  Striped Crayfish Snake ( rSCSNx )\n",
      "Not listed\n",
      "------------\n",
      "Eumetopias jubatus  -  Steller Sea Lion ( mSSLIx )\n",
      "Date Cached:  2017-07-26T15:40:37.604395\n"
     ]
    },
    {
     "data": {
      "text/plain": [
       "[{'LISTING_DATE': '1990-04-05',\n",
       "  'POP_ABBREV': 'Eastern DPS',\n",
       "  'POP_DESC': 'Eastern DPS - Entire, except the population segment west of 1440 W. Long',\n",
       "  'STATUS': 'Recovery'},\n",
       " {'LISTING_DATE': '1990-04-10',\n",
       "  'POP_ABBREV': 'Western DPS',\n",
       "  'POP_DESC': 'Western DPS - See 50 CFR 224.101',\n",
       "  'STATUS': 'Endangered'}]"
      ]
     },
     "metadata": {},
     "output_type": "display_data"
    },
    {
     "name": "stdout",
     "output_type": "stream",
     "text": [
      "------------\n",
      "Pantherophis spiloides  -  Gray Ratsnake ( rGRRAx )\n",
      "Not listed\n",
      "------------\n",
      "Microdipodops megacephalus nasutus  -  Fletcher Kangaroo Mouse ( mDKMOn )\n",
      "Date Cached:  2017-07-26T15:40:39.671789\n"
     ]
    },
    {
     "data": {
      "text/plain": [
       "[{'POP_ABBREV': 'Wherever found',\n",
       "  'POP_DESC': 'Wherever found',\n",
       "  'STATUS': 'Species of Concern'}]"
      ]
     },
     "metadata": {},
     "output_type": "display_data"
    },
    {
     "name": "stdout",
     "output_type": "stream",
     "text": [
      "------------\n",
      "Plestiodon egregius  -  Mole Skink ( rMOSKx )\n",
      "Not listed\n",
      "------------\n",
      "Arborimus pomo  -  Sonoma Tree Vole ( mSTVOx )\n",
      "Date Cached:  2017-07-26T15:40:42.956186\n"
     ]
    },
    {
     "data": {
      "text/plain": [
       "[{'POP_ABBREV': 'Wherever found',\n",
       "  'POP_DESC': 'Wherever found',\n",
       "  'STATUS': 'Species of Concern'}]"
      ]
     },
     "metadata": {},
     "output_type": "display_data"
    },
    {
     "name": "stdout",
     "output_type": "stream",
     "text": [
      "------------\n",
      "Myotis yumanensis  -  Yuma Myotis ( mYUMYx )\n",
      "Date Cached:  2017-07-26T15:40:44.334104\n"
     ]
    },
    {
     "data": {
      "text/plain": [
       "[{'POP_ABBREV': 'Wherever found',\n",
       "  'POP_DESC': 'Wherever found',\n",
       "  'STATUS': 'Species of Concern'}]"
      ]
     },
     "metadata": {},
     "output_type": "display_data"
    },
    {
     "name": "stdout",
     "output_type": "stream",
     "text": [
      "------------\n",
      "Seminatrix pygaea  -  Black Swampsnake ( rBLSSx )\n",
      "Not listed\n",
      "------------\n",
      "Sceloporus clarkii  -  Clark's Spiny Lizard ( rCLSLx )\n",
      "Not listed\n",
      "------------\n",
      "Pantherophis bairdi  -  Baird's Ratsnake ( rBARAx )\n",
      "Not listed\n",
      "------------\n",
      "Crotaphytus vestigium  -  Baja California Collared Lizard ( rBCCLx )\n",
      "Not listed\n",
      "------------\n",
      "Aspidoscelis uniparens  -  Desert Grassland Whiptail ( rDGWHx )\n",
      "Not listed\n",
      "------------\n",
      "Xantusia henshawi  -  Granite Night Lizard ( rGNLIx )\n",
      "Date Cached:  2017-07-26T15:40:52.548445\n"
     ]
    },
    {
     "data": {
      "text/plain": [
       "[{'POP_ABBREV': 'Wherever found',\n",
       "  'POP_DESC': 'Wherever found',\n",
       "  'STATUS': 'Species of Concern'}]"
      ]
     },
     "metadata": {},
     "output_type": "display_data"
    },
    {
     "name": "stdout",
     "output_type": "stream",
     "text": [
      "------------\n",
      "Coluber fuliginosus  -  Baja California Coachwhip ( rBCCOx )\n",
      "Not listed\n",
      "------------\n",
      "Graptemys nigrinoda  -  Black-knobbed Map Turtle ( rBKMTx )\n",
      "Date Cached:  2017-07-26T15:40:56.620215\n"
     ]
    },
    {
     "data": {
      "text/plain": [
       "[{'POP_ABBREV': 'Wherever found',\n",
       "  'POP_DESC': 'Wherever found',\n",
       "  'STATUS': 'Under Review in the Candidate or Petition Process'}]"
      ]
     },
     "metadata": {},
     "output_type": "display_data"
    },
    {
     "name": "stdout",
     "output_type": "stream",
     "text": [
      "------------\n",
      "Hypsiglena ochrorhyncha  -  Coast Nightsnake ( rCNIGx )\n",
      "Not listed\n",
      "------------\n",
      "Agkistrodon piscivorus  -  Cottonmouth ( rCOTTx )\n",
      "Not listed\n",
      "------------\n",
      "Kinosternon flavescens  -  Yellow Mud Turtle ( rYMTUx )\n",
      "Not listed\n",
      "------------\n",
      "Crocodylus acutus  -  American Crocodile ( rCROCx )\n",
      "Date Cached:  2017-07-26T15:41:02.642119\n"
     ]
    },
    {
     "data": {
      "text/plain": [
       "[{'LISTING_DATE': '2007-03-20',\n",
       "  'POP_ABBREV': 'Wherever found, except in U.S.A. (FL)',\n",
       "  'POP_DESC': 'Wherever found, except in U.S.A. (FL)',\n",
       "  'STATUS': 'Endangered'},\n",
       " {'LISTING_DATE': '1975-10-28',\n",
       "  'POP_ABBREV': 'U.S.A. (FL)',\n",
       "  'POP_DESC': 'U.S.A. (FL)',\n",
       "  'STATUS': 'Threatened'}]"
      ]
     },
     "metadata": {},
     "output_type": "display_data"
    },
    {
     "name": "stdout",
     "output_type": "stream",
     "text": [
      "------------\n",
      "Cratogeomys castanops  -  Yellow-faced Pocket Gopher ( mYFPGx )\n",
      "Not listed\n",
      "------------\n",
      "Plethodon teyahalee  -  Southern Appalachian Salamander ( aSOASx )\n",
      "Not listed\n",
      "------------\n",
      "Nerodia sipedon  -  Northern Watersnake ( rNWATx )\n",
      "Date Cached:  2017-07-26T15:41:07.857891\n"
     ]
    },
    {
     "data": {
      "text/plain": [
       "[{'POP_ABBREV': 'Upper Tidal Potomac River',\n",
       "  'POP_DESC': 'Upper Tidal Potomac River population',\n",
       "  'STATUS': 'Resolved Taxon'}]"
      ]
     },
     "metadata": {},
     "output_type": "display_data"
    },
    {
     "name": "stdout",
     "output_type": "stream",
     "text": [
      "------------\n",
      "Trimorphodon biscutatus  -  Western Lyresnake ( rWELYx )\n",
      "Not listed\n",
      "------------\n",
      "Oryzomys palustris  -  Marsh Oryzomys ( mMAORx )\n",
      "Not listed\n",
      "------------\n",
      "Sylvilagus palustris heferni  -  Lower Keys Rabbit ( mMARAh )\n",
      "Not listed\n",
      "------------\n",
      "Sceloporus occidentalis  -  Western Fence Lizard ( rWFLIx )\n",
      "Not listed\n",
      "------------\n",
      "Salvadora hexalepis  -  Western Patch-nosed Snake ( rWPNSx )\n",
      "Not listed\n",
      "------------\n",
      "Hyla squirella  -  Squirrel Treefrog ( aSQTRx )\n",
      "Not listed\n",
      "------------\n",
      "Batrachoseps stebbinsi  -  Tehachapi Slender Salamander ( aTSSAx )\n",
      "Date Cached:  2017-07-26T15:41:23.385750\n"
     ]
    },
    {
     "data": {
      "text/plain": [
       "[{'POP_ABBREV': 'Wherever found',\n",
       "  'POP_DESC': 'Wherever found',\n",
       "  'STATUS': 'Resolved Taxon'}]"
      ]
     },
     "metadata": {},
     "output_type": "display_data"
    },
    {
     "name": "stdout",
     "output_type": "stream",
     "text": [
      "------------\n",
      "Ammospermophilus leucurus  -  White-tailed Antelope Squirrel ( mWTASx )\n",
      "Not listed\n",
      "------------\n",
      "Dipodomys nitratoides  -  San Joaquin Kangaroo Rat ( mSJKRx )\n",
      "Not listed\n",
      "------------\n",
      "Lepus americanus  -  Snowshoe Hare ( mSNHAx )\n",
      "Not listed\n",
      "------------\n",
      "Charina umbratica  -  Southern Rubber Boa ( rSRBOx )\n",
      "Not listed\n",
      "------------\n",
      "Thamnophis elegans  -  Terrestrial Gartersnake ( rTEGAx )\n",
      "Not listed\n",
      "------------\n",
      "Urosaurus graciosus  -  Long-tailed Brush Lizard ( rLTBLx )\n",
      "Not listed\n",
      "------------\n",
      "Ophisaurus mimicus  -  Mimic Glass Lizard ( rMGLIx )\n",
      "Date Cached:  2017-07-26T15:41:36.622310\n"
     ]
    },
    {
     "data": {
      "text/plain": [
       "[{'POP_ABBREV': 'Wherever found',\n",
       "  'POP_DESC': 'Wherever found',\n",
       "  'STATUS': 'Species of Concern'}]"
      ]
     },
     "metadata": {},
     "output_type": "display_data"
    },
    {
     "name": "stdout",
     "output_type": "stream",
     "text": [
      "------------\n",
      "Hyla wrightorum  -  Arizona Treefrog ( aAZTRx )\n",
      "Date Cached:  2017-07-26T15:41:38.160902\n"
     ]
    },
    {
     "data": {
      "text/plain": [
       "[{'POP_ABBREV': 'Huachuca/Canelo Population',\n",
       "  'POP_DESC': 'Huachuca/Canelo Population',\n",
       "  'STATUS': 'Resolved Taxon'}]"
      ]
     },
     "metadata": {},
     "output_type": "display_data"
    },
    {
     "name": "stdout",
     "output_type": "stream",
     "text": [
      "------------\n",
      "Clonophis kirtlandii  -  Kirtland's Snake ( rKISNx )\n",
      "Date Cached:  2017-07-26T15:41:42.373583\n"
     ]
    },
    {
     "data": {
      "text/plain": [
       "[{'POP_ABBREV': 'Wherever found',\n",
       "  'POP_DESC': 'Wherever found',\n",
       "  'STATUS': 'Under Review in the Candidate or Petition Process'}]"
      ]
     },
     "metadata": {},
     "output_type": "display_data"
    },
    {
     "name": "stdout",
     "output_type": "stream",
     "text": [
      "------------\n",
      "Pituophis ruthveni  -  Louisiana Pinesnake ( rLOPIx )\n",
      "Date Cached:  2017-07-26T15:41:43.545564\n"
     ]
    },
    {
     "data": {
      "text/plain": [
       "[{'POP_ABBREV': 'Wherever found',\n",
       "  'POP_DESC': 'Wherever found',\n",
       "  'STATUS': 'Proposed Threatened'}]"
      ]
     },
     "metadata": {},
     "output_type": "display_data"
    },
    {
     "name": "stdout",
     "output_type": "stream",
     "text": [
      "------------\n",
      "Crotalus lepidus  -  Rock Rattlesnake ( rRRATx )\n",
      "Not listed\n",
      "------------\n",
      "Cemophora coccinea  -  Scarletsnake ( rSCARx )\n",
      "Not listed\n",
      "------------\n",
      "Pipistrellus hesperus  -  Western Pipistrelle ( mWEPIx )\n",
      "Not listed\n",
      "------------\n",
      "Coleonyx reticulatus  -  Reticular Banded Gecko ( rRBGEx )\n",
      "Date Cached:  2017-07-26T15:41:48.811624\n"
     ]
    },
    {
     "data": {
      "text/plain": [
       "[{'POP_ABBREV': 'Wherever found',\n",
       "  'POP_DESC': 'Wherever found',\n",
       "  'STATUS': 'Resolved Taxon'}]"
      ]
     },
     "metadata": {},
     "output_type": "display_data"
    },
    {
     "name": "stdout",
     "output_type": "stream",
     "text": [
      "------------\n",
      "Sceloporus woodi  -  Florida Scrub Lizard ( rFSLIx )\n",
      "Date Cached:  2017-07-26T15:41:49.944536\n"
     ]
    },
    {
     "data": {
      "text/plain": [
       "[{'POP_ABBREV': 'Wherever found',\n",
       "  'POP_DESC': 'Wherever found',\n",
       "  'STATUS': 'Under Review in the Candidate or Petition Process'}]"
      ]
     },
     "metadata": {},
     "output_type": "display_data"
    },
    {
     "name": "stdout",
     "output_type": "stream",
     "text": [
      "------------\n",
      "Haliaeetus leucocephalus  -  Bald Eagle ( bBAEAx )\n",
      "Date Cached:  2017-07-26T15:41:50.874213\n"
     ]
    },
    {
     "data": {
      "text/plain": [
       "[{'LISTING_DATE': '2008-05-01',\n",
       "  'POP_ABBREV': 'Sonoran Desert DPS',\n",
       "  'POP_DESC': 'Sonoran Desert DPS: Arizona: (1) Yavapai, northern Mexico.  Gila, Graham, Pinal, and Maricopa, Counties, and (2) Southern Mohave County (that portion south and east of the center of Interstate Highway 40 and east of Arizona Highway 95), eastern LaPaz County (that portion east of the centerline of U.S. and Arizona Highways 95), and north of the centerline of Interstate Highway 8).',\n",
       "  'STATUS': 'Resolved Taxon'},\n",
       " {'POP_ABBREV': 'Southwest DPS',\n",
       "  'POP_DESC': 'Southwest Distinct Population Segment',\n",
       "  'STATUS': 'Resolved Taxon'},\n",
       " {'LISTING_DATE': '1967-03-11',\n",
       "  'POP_ABBREV': 'lower 48 States',\n",
       "  'POP_DESC': 'U.S.A., conterminous (lower 48) States.',\n",
       "  'STATUS': 'Recovery'}]"
      ]
     },
     "metadata": {},
     "output_type": "display_data"
    },
    {
     "name": "stdout",
     "output_type": "stream",
     "text": [
      "------------\n",
      "Riparia riparia  -  Bank Swallow ( bBANSx )\n",
      "Not listed\n",
      "------------\n",
      "Peromyscus polionotus allophrys  -  Choctawhatchee Beach Deermouse ( mOLDEa )\n",
      "Date Cached:  2017-07-26T15:41:52.933891\n"
     ]
    },
    {
     "data": {
      "text/plain": [
       "[{'LISTING_DATE': '1985-06-06',\n",
       "  'POP_ABBREV': 'Wherever found',\n",
       "  'POP_DESC': 'Wherever found',\n",
       "  'STATUS': 'Endangered'}]"
      ]
     },
     "metadata": {},
     "output_type": "display_data"
    },
    {
     "name": "stdout",
     "output_type": "stream",
     "text": [
      "------------\n",
      "Peromyscus polionotus phasma  -  Anastasia Beach Deermouse ( mOLDEh )\n",
      "Date Cached:  2017-07-26T15:41:53.898418\n"
     ]
    },
    {
     "data": {
      "text/plain": [
       "[{'LISTING_DATE': '1989-05-12',\n",
       "  'POP_ABBREV': 'Wherever found',\n",
       "  'POP_DESC': 'Wherever found',\n",
       "  'STATUS': 'Endangered'}]"
      ]
     },
     "metadata": {},
     "output_type": "display_data"
    },
    {
     "name": "stdout",
     "output_type": "stream",
     "text": [
      "------------\n",
      "Sterna dougallii  -  Roseate Tern ( bROSTx )\n",
      "Not listed\n",
      "------------\n",
      "Sorex tenellus  -  Inyo Shrew ( mINSHx )\n",
      "Not listed\n",
      "------------\n",
      "Microtus montanus  -  Montane Vole ( mMOVOx )\n",
      "Not listed\n",
      "------------\n",
      "Dipodomys venustus  -  Narrow-faced Kangaroo Rat ( mNFKRx )\n",
      "Not listed\n",
      "------------\n",
      "Sciurus griseus  -  Western Gray Squirrel ( mWGSQx )\n",
      "Date Cached:  2017-07-26T15:42:01.986136\n"
     ]
    },
    {
     "data": {
      "text/plain": [
       "[{'POP_ABBREV': 'Wherever found',\n",
       "  'POP_DESC': 'Wherever found',\n",
       "  'STATUS': 'Resolved Taxon'}]"
      ]
     },
     "metadata": {},
     "output_type": "display_data"
    },
    {
     "name": "stdout",
     "output_type": "stream",
     "text": [
      "------------\n",
      "Spea bombifrons  -  Plains Spadefoot ( aPLSPx )\n",
      "Not listed\n",
      "------------\n",
      "Lynx rufus  -  Bobcat ( mBOBCx )\n",
      "Date Cached:  2017-07-26T15:42:07.210537\n"
     ]
    },
    {
     "data": {
      "text/plain": [
       "[{'POP_ABBREV': 'Wherever found',\n",
       "  'POP_DESC': 'Wherever found',\n",
       "  'STATUS': 'Resolved Taxon'}]"
      ]
     },
     "metadata": {},
     "output_type": "display_data"
    },
    {
     "name": "stdout",
     "output_type": "stream",
     "text": [
      "------------\n",
      "Eurycea tonkawae  -  Jollyville Plateau Salamander ( aJPSAx )\n",
      "Date Cached:  2017-07-26T15:42:08.262056\n"
     ]
    },
    {
     "data": {
      "text/plain": [
       "[{'LISTING_DATE': '2013-09-19',\n",
       "  'POP_ABBREV': 'Wherever found',\n",
       "  'POP_DESC': 'Wherever found',\n",
       "  'STATUS': 'Threatened'}]"
      ]
     },
     "metadata": {},
     "output_type": "display_data"
    },
    {
     "name": "stdout",
     "output_type": "stream",
     "text": [
      "------------\n",
      "Sorex ornatus salicornicus  -  Salt Marsh Ornate Shrew ( mORSHa )\n",
      "Date Cached:  2017-07-26T15:42:09.657125\n"
     ]
    },
    {
     "data": {
      "text/plain": [
       "[{'POP_ABBREV': 'Wherever found',\n",
       "  'POP_DESC': 'Wherever found',\n",
       "  'STATUS': 'Species of Concern'}]"
      ]
     },
     "metadata": {},
     "output_type": "display_data"
    },
    {
     "name": "stdout",
     "output_type": "stream",
     "text": [
      "------------\n",
      "Aspidoscelis inornata  -  Little Striped Whiptail ( rLISWx )\n",
      "Not listed\n",
      "------------\n",
      "Necturus maculosus  -  Mudpuppy ( aMUDPx )\n",
      "Not listed\n",
      "------------\n",
      "Crotaphytus collaris  -  Eastern Collared Lizard ( rECLIx )\n",
      "Not listed\n",
      "------------\n",
      "Graptemys ernsti  -  Escambia Map Turtle ( rEMTUx )\n",
      "Date Cached:  2017-07-26T15:42:14.837488\n"
     ]
    },
    {
     "data": {
      "text/plain": [
       "[{'POP_ABBREV': 'Wherever found',\n",
       "  'POP_DESC': 'Wherever found',\n",
       "  'STATUS': 'Under Review in the Candidate or Petition Process'}]"
      ]
     },
     "metadata": {},
     "output_type": "display_data"
    },
    {
     "name": "stdout",
     "output_type": "stream",
     "text": [
      "------------\n",
      "Plestiodon gilberti  -  Gilbert's Skink ( rGISKx )\n",
      "Not listed\n",
      "------------\n",
      "Lepidochelys kempii  -  Kemp's Ridley Sea Turtle ( rKRSTx )\n",
      "Date Cached:  2017-07-26T15:42:18.028027\n"
     ]
    },
    {
     "data": {
      "text/plain": [
       "[{'LISTING_DATE': '1970-12-02',\n",
       "  'POP_ABBREV': 'Wherever found',\n",
       "  'POP_DESC': 'Wherever found',\n",
       "  'STATUS': 'Endangered'}]"
      ]
     },
     "metadata": {},
     "output_type": "display_data"
    },
    {
     "name": "stdout",
     "output_type": "stream",
     "text": [
      "------------\n",
      "Myocastor coypus  -  Coypu ( mCOYPx )\n",
      "Not listed\n",
      "------------\n",
      "Agkistrodon contortrix  -  Copperhead ( rCOPPx )\n",
      "Not listed\n",
      "------------\n",
      "Nerodia paucimaculata  -  Concho Watersnake ( rCOWAx )\n",
      "Date Cached:  2017-07-26T15:42:25.726788\n"
     ]
    },
    {
     "data": {
      "text/plain": [
       "[{'LISTING_DATE': '1986-09-03',\n",
       "  'POP_ABBREV': 'Wherever found',\n",
       "  'POP_DESC': 'Wherever found',\n",
       "  'STATUS': 'Recovery'}]"
      ]
     },
     "metadata": {},
     "output_type": "display_data"
    },
    {
     "name": "stdout",
     "output_type": "stream",
     "text": [
      "------------\n",
      "Lampropeltis getula  -  Common Kingsnake ( rCKINx )\n",
      "Not listed\n",
      "------------\n",
      "Thamnophis sirtalis  -  Common Gartersnake ( rCOGAx )\n",
      "Not listed\n",
      "------------\n",
      "Thamnophis sauritus  -  Eastern Ribbonsnake ( rEARIx )\n",
      "Date Cached:  2017-07-26T15:42:29.152972\n"
     ]
    },
    {
     "data": {
      "text/plain": [
       "[{'POP_ABBREV': 'Wherever found',\n",
       "  'POP_DESC': 'Wherever found',\n",
       "  'STATUS': 'Under Review in the Candidate or Petition Process'}]"
      ]
     },
     "metadata": {},
     "output_type": "display_data"
    },
    {
     "name": "stdout",
     "output_type": "stream",
     "text": [
      "------------\n",
      "Terrapene carolina  -  Eastern Box Turtle ( rEBTUx )\n",
      "Not listed\n",
      "------------\n",
      "Pantherophis alleghaniensis  -  Eastern Ratsnake ( rEARAx )\n",
      "Not listed\n",
      "------------\n",
      "Nerodia floridana  -  Florida Green Watersnake ( rFGWAx )\n",
      "Not listed\n",
      "------------\n",
      "Plethodon vehiculum  -  Western Red-backed Salamander ( aWRBSx )\n",
      "Not listed\n",
      "------------\n",
      "Falcipennis canadensis  -  Spruce Grouse ( bSPGRx )\n",
      "Not listed\n",
      "------------\n",
      "Microtus pinetorum  -  Woodland Vole ( mWOVOx )\n",
      "Date Cached:  2017-07-26T15:42:39.097252\n"
     ]
    },
    {
     "data": {
      "text/plain": [
       "[{'POP_ABBREV': 'Wherever found',\n",
       "  'POP_DESC': 'Wherever found',\n",
       "  'STATUS': 'Status Undefined'}]"
      ]
     },
     "metadata": {},
     "output_type": "display_data"
    },
    {
     "name": "stdout",
     "output_type": "stream",
     "text": [
      "------------\n",
      "Podiceps grisegena  -  Red-necked Grebe ( bRNGRx )\n",
      "Not listed\n",
      "------------\n",
      "Larus heermanni  -  Heermann's Gull ( bHEEGx )\n",
      "Not listed\n",
      "------------\n",
      "Passer domesticus  -  House Sparrow ( bHOSPx )\n",
      "Not listed\n",
      "------------\n",
      "Aythya affinis  -  Lesser Scaup ( bLESCx )\n",
      "Date Cached:  2017-07-26T15:42:43.520564\n"
     ]
    },
    {
     "data": {
      "text/plain": [
       "[{'POP_ABBREV': 'Wherever found',\n",
       "  'POP_DESC': 'Wherever found',\n",
       "  'STATUS': 'Species of Concern'}]"
      ]
     },
     "metadata": {},
     "output_type": "display_data"
    },
    {
     "name": "stdout",
     "output_type": "stream",
     "text": [
      "------------\n",
      "Vermivora luciae  -  Lucy's Warbler ( bLUWAx )\n",
      "Date Cached:  2017-07-26T15:42:44.680266\n"
     ]
    },
    {
     "data": {
      "text/plain": [
       "[{'POP_ABBREV': 'Wherever found',\n",
       "  'POP_DESC': 'Wherever found',\n",
       "  'STATUS': 'Status Undefined'}]"
      ]
     },
     "metadata": {},
     "output_type": "display_data"
    },
    {
     "name": "stdout",
     "output_type": "stream",
     "text": [
      "------------\n",
      "Oreortyx pictus  -  Mountain Quail ( bMOUQx )\n",
      "Date Cached:  2017-07-26T15:42:45.850012\n"
     ]
    },
    {
     "data": {
      "text/plain": [
       "[{'POP_ABBREV': 'Wherever found',\n",
       "  'POP_DESC': 'Wherever found',\n",
       "  'STATUS': 'Resolved Taxon'}]"
      ]
     },
     "metadata": {},
     "output_type": "display_data"
    },
    {
     "name": "stdout",
     "output_type": "stream",
     "text": [
      "------------\n",
      "Porzana carolina  -  Sora ( bSORAx )\n",
      "Not listed\n",
      "------------\n",
      "Passerina cyanea  -  Indigo Bunting ( bINBUx )\n",
      "Not listed\n",
      "------------\n",
      "Puffinus puffinus  -  Manx Shearwater ( bMASHx )\n",
      "Not listed\n",
      "------------\n",
      "Spea hammondii  -  Western Spadefoot ( aWESPx )\n",
      "Date Cached:  2017-07-26T15:42:50.962685\n"
     ]
    },
    {
     "data": {
      "text/plain": [
       "[{'POP_ABBREV': 'Wherever found',\n",
       "  'POP_DESC': 'Wherever found',\n",
       "  'STATUS': 'Under Review in the Candidate or Petition Process'}]"
      ]
     },
     "metadata": {},
     "output_type": "display_data"
    },
    {
     "name": "stdout",
     "output_type": "stream",
     "text": [
      "------------\n",
      "Sorex sorex pacificus cascadensis  -  Pacific Shrew cascadensis ( mPASHc )\n",
      "Not listed\n",
      "------------\n",
      "Larus californicus  -  California Gull ( bCAGUx )\n",
      "Not listed\n",
      "------------\n",
      "Cyanocorax yncas  -  Green Jay ( bGREJx )\n",
      "Not listed\n",
      "------------\n",
      "Bombycilla cedrorum  -  Cedar Waxwing ( bCEDWx )\n",
      "Not listed\n",
      "------------\n",
      "Columbina passerina  -  Common Ground-dove ( bCOGDx )\n",
      "Not listed\n",
      "------------\n",
      "Zonotrichia atricapilla  -  Golden-crowned Sparrow ( bGCSPx )\n",
      "Not listed\n",
      "------------\n",
      "Peromyscus polionotus ammobates  -  Alabama Beach Deermouse ( mOLDEm )\n",
      "Date Cached:  2017-07-26T15:43:10.296414\n"
     ]
    },
    {
     "data": {
      "text/plain": [
       "[{'LISTING_DATE': '1985-06-06',\n",
       "  'POP_ABBREV': 'Wherever found',\n",
       "  'POP_DESC': 'Wherever found',\n",
       "  'STATUS': 'Endangered'}]"
      ]
     },
     "metadata": {},
     "output_type": "display_data"
    },
    {
     "name": "stdout",
     "output_type": "stream",
     "text": [
      "------------\n",
      "Spermophilus saturatus  -  Cascade Golden-mantled Ground Squirrel ( mCGGSx )\n",
      "Not listed\n",
      "------------\n",
      "Tamias quadrimaculatus  -  Long-eared Chipmunk ( mLOECx )\n",
      "Not listed\n",
      "------------\n",
      "Tyrannus vociferans  -  Cassin's Kingbird ( bCAKIx )\n",
      "Not listed\n",
      "------------\n",
      "Aythya valisineria  -  Canvasback ( bCANVx )\n",
      "Not listed\n",
      "------------\n",
      "Pseudacris kalmi  -  New Jersey Chorus Frog ( aNJFRx )\n",
      "Not listed\n",
      "------------\n",
      "Rana aurora  -  Northern Red-legged Frog ( aNRLFx )\n",
      "Not listed\n",
      "------------\n",
      "Peromyscus merriami  -  Merriam's Deermouse ( mMEDEx )\n",
      "Not listed\n",
      "------------\n",
      "Spea multiplicata  -  Mexican Spadefoot ( aMXSPx )\n",
      "Not listed\n",
      "------------\n",
      "Microtus pennsylvanicus  -  Meadow Vole ( mMEVOx )\n",
      "Not listed\n",
      "------------\n",
      "Sorex dispar  -  Long-tailed Shrew ( mLTSHx )\n",
      "Date Cached:  2017-07-26T15:43:25.518969\n"
     ]
    },
    {
     "data": {
      "text/plain": [
       "[{'POP_ABBREV': 'Wherever found',\n",
       "  'POP_DESC': 'Wherever found',\n",
       "  'STATUS': 'Resolved Taxon'}]"
      ]
     },
     "metadata": {},
     "output_type": "display_data"
    },
    {
     "name": "stdout",
     "output_type": "stream",
     "text": [
      "------------\n",
      "Lithobates palustris  -  Pickerel Frog ( aPIFRx )\n",
      "Not listed\n",
      "------------\n",
      "Archilochus alexandri  -  Black-chinned Hummingbird ( bBCHUx )\n",
      "Not listed\n",
      "------------\n",
      "Pheucticus melanocephalus  -  Black-headed Grosbeak ( bBHGRx )\n",
      "Not listed\n",
      "------------\n",
      "Vireo solitarius  -  Blue-headed Vireo ( bBHVIx )\n",
      "Not listed\n",
      "------------\n",
      "Neotoma macrotis  -  Big-eared Woodrat ( mBEWOx )\n",
      "Not listed\n",
      "------------\n",
      "Aspidoscelis tigris  -  Tiger Whiptail ( rTIWHx )\n",
      "Not listed\n",
      "------------\n",
      "Necturus beyeri  -  Gulf Coast Waterdog ( aGUWAx )\n",
      "Not listed\n",
      "------------\n",
      "Tyrannus tyrannus  -  Eastern Kingbird ( bEAKIx )\n",
      "Not listed\n",
      "------------\n",
      "Fratercula arctica  -  Atlantic Puffin ( bATPUx )\n",
      "Date Cached:  2017-07-26T15:43:34.587217\n"
     ]
    },
    {
     "data": {
      "text/plain": [
       "[{'POP_ABBREV': 'Wherever found',\n",
       "  'POP_DESC': 'Wherever found',\n",
       "  'STATUS': 'Species of Concern'}]"
      ]
     },
     "metadata": {},
     "output_type": "display_data"
    },
    {
     "name": "stdout",
     "output_type": "stream",
     "text": [
      "------------\n",
      "Plethodon variolatus  -  South Carolina Slimy Salamander ( aSCSSx )\n",
      "Not listed\n",
      "------------\n",
      "Batrachoseps gabrieli  -  San Gabriel Mountains Slender Salamander ( aSGSSx )\n",
      "Not listed\n",
      "------------\n",
      "Alle alle  -  Dovekie ( bDOVEx )\n",
      "Date Cached:  2017-07-26T15:43:38.763839\n"
     ]
    },
    {
     "data": {
      "text/plain": [
       "[{'POP_ABBREV': 'Wherever found',\n",
       "  'POP_DESC': 'Wherever found',\n",
       "  'STATUS': 'Resolved Taxon'}]"
      ]
     },
     "metadata": {},
     "output_type": "display_data"
    },
    {
     "name": "stdout",
     "output_type": "stream",
     "text": [
      "------------\n",
      "Nyctinomops macrotis  -  Big Free-tailed Bat ( mBFTBx )\n",
      "Date Cached:  2017-07-26T15:43:39.693377\n"
     ]
    },
    {
     "data": {
      "text/plain": [
       "[{'POP_ABBREV': 'Wherever found',\n",
       "  'POP_DESC': 'Wherever found',\n",
       "  'STATUS': 'Species of Concern'}]"
      ]
     },
     "metadata": {},
     "output_type": "display_data"
    },
    {
     "name": "stdout",
     "output_type": "stream",
     "text": [
      "------------\n",
      "Ovis canadensis  -  Bighorn Sheep ( mBISHx )\n",
      "Date Cached:  2017-07-26T15:43:40.627662\n"
     ]
    },
    {
     "data": {
      "text/plain": [
       "[{'POP_ABBREV': 'Wherever found',\n",
       "  'POP_DESC': 'Wherever found',\n",
       "  'STATUS': 'Species of Concern'}]"
      ]
     },
     "metadata": {},
     "output_type": "display_data"
    },
    {
     "name": "stdout",
     "output_type": "stream",
     "text": [
      "------------\n",
      "Anaxyrus houstonensis  -  Houston Toad ( aHOTOx )\n",
      "Not listed\n",
      "------------\n",
      "Podiceps nigricollis  -  Eared Grebe ( bEAGRx )\n",
      "Not listed\n",
      "------------\n",
      "Oporornis agilis  -  Connecticut Warbler ( bCONWx )\n",
      "Not listed\n",
      "------------\n",
      "Eumops perotis  -  Greater Bonneted Bat ( mGBBAx )\n",
      "Not listed\n",
      "------------\n",
      "Passer montanus  -  Eurasian Tree Sparrow ( bETSPx )\n",
      "Not listed\n",
      "------------\n",
      "Haematopus bachmani  -  Black Oystercatcher ( bBLOYx )\n",
      "Date Cached:  2017-07-26T15:43:47.804748\n"
     ]
    },
    {
     "data": {
      "text/plain": [
       "[{'POP_ABBREV': 'Wherever found',\n",
       "  'POP_DESC': 'Wherever found',\n",
       "  'STATUS': 'Species of Concern'}]"
      ]
     },
     "metadata": {},
     "output_type": "display_data"
    },
    {
     "name": "stdout",
     "output_type": "stream",
     "text": [
      "------------\n",
      "Grus americana  -  Whooping Crane ( bWHCRx )\n",
      "Date Cached:  2017-07-26T15:43:48.784814\n"
     ]
    },
    {
     "data": {
      "text/plain": [
       "[{'LISTING_DATE': '1993-01-22',\n",
       "  'POP_ABBREV': 'U.S.A. (CO, ID, FL, NM, UT, and the western half of Wyoming)',\n",
       "  'POP_DESC': 'U.S.A. (CO, ID, FL, NM, UT, and the western  half of Wyoming)',\n",
       "  'STATUS': 'Experimental Population, Non-Essential'},\n",
       " {'LISTING_DATE': '2011-02-03',\n",
       "  'POP_ABBREV': 'U.S.A (Southwestern Louisiana)',\n",
       "  'POP_DESC': 'U.S.A (Southwestern Louisiana)',\n",
       "  'STATUS': 'Experimental Population, Non-Essential'},\n",
       " {'LISTING_DATE': '1967-03-11',\n",
       "  'POP_ABBREV': 'Wherever found, except where listed as an experimental population',\n",
       "  'POP_DESC': 'Wherever found, except where listed as an experimental population',\n",
       "  'STATUS': 'Endangered'},\n",
       " {'LISTING_DATE': '2001-06-26',\n",
       "  'POP_ABBREV': 'U.S.A. (AL, AR, CO, FL, GA, ID, IL, IN, IA, KY, LA, MI, MN, MS, MO, NC, NM, OH, SC, TN, UT, VA, WI, WV, western half of WY)',\n",
       "  'POP_DESC': 'U.S.A. (AL, AR, CO, FL, GA, ID, IL, IN, IA, KY, LA, MI, MN, MS, MO, NC, NM, OH, SC, TN, UT, VA, WI, WV, western half of WY)',\n",
       "  'STATUS': 'Experimental Population, Non-Essential'}]"
      ]
     },
     "metadata": {},
     "output_type": "display_data"
    },
    {
     "name": "stdout",
     "output_type": "stream",
     "text": [
      "------------\n",
      "Sorex haydeni  -  Prairie Shrew ( mPRSHx )\n",
      "Not listed\n",
      "------------\n",
      "Spermophilus richardsonii  -  Richardson's Ground Squirrel ( mRGSQx )\n",
      "Not listed\n",
      "------------\n",
      "Buteo albicaudatus  -  White-tailed Hawk ( bWTHAx )\n",
      "Not listed\n",
      "------------\n",
      "Eurycea tridentifera  -  Comal Blind Salamander ( aCBSAx )\n",
      "Date Cached:  2017-07-26T15:43:55.148127\n"
     ]
    },
    {
     "data": {
      "text/plain": [
       "[{'POP_ABBREV': 'Wherever found',\n",
       "  'POP_DESC': 'Wherever found',\n",
       "  'STATUS': 'Under Review in the Candidate or Petition Process'}]"
      ]
     },
     "metadata": {},
     "output_type": "display_data"
    },
    {
     "name": "stdout",
     "output_type": "stream",
     "text": [
      "------------\n",
      "Zapus trinotatus  -  Pacific Jumping Mouse ( mPJMOx )\n",
      "Not listed\n",
      "------------\n",
      "Larus marinus  -  Great Black-backed Gull ( bGBBGx )\n",
      "Not listed\n",
      "------------\n",
      "Caracara cheriway  -  Crested Caracara ( bCRCAx )\n",
      "Not listed\n",
      "------------\n",
      "Streptopelia decaocto  -  Eurasian Collared-dove ( bEUCDx )\n",
      "Not listed\n",
      "------------\n",
      "Caprimulgus carolinensis  -  Chuck-will's-widow ( bCWWIx )\n",
      "Not listed\n",
      "------------\n",
      "Tringa melanoleuca  -  Greater Yellowlegs ( bGRYEx )\n",
      "Not listed\n",
      "------------\n",
      "Anser albifrons elgasi  -  Tule White-fronted Goose ( bGWFGe )\n",
      "Date Cached:  2017-07-26T15:44:02.627105\n"
     ]
    },
    {
     "data": {
      "text/plain": [
       "[{'LISTING_DATE': '1967-03-11',\n",
       "  'POP_ABBREV': 'Wherever found',\n",
       "  'POP_DESC': 'Wherever found',\n",
       "  'STATUS': 'Resolved Taxon'}]"
      ]
     },
     "metadata": {},
     "output_type": "display_data"
    },
    {
     "name": "stdout",
     "output_type": "stream",
     "text": [
      "------------\n",
      "Sorex vagrans halicoetes  -  Saltmarsh Wandering Shrew ( mVASHh )\n",
      "Date Cached:  2017-07-26T15:44:04.644355\n"
     ]
    },
    {
     "data": {
      "text/plain": [
       "[{'POP_ABBREV': 'Wherever found',\n",
       "  'POP_DESC': 'Wherever found',\n",
       "  'STATUS': 'Species of Concern'}]"
      ]
     },
     "metadata": {},
     "output_type": "display_data"
    },
    {
     "name": "stdout",
     "output_type": "stream",
     "text": [
      "------------\n",
      "Glyptemys muhlenbergii  -  Bog Turtle ( rBOTUx )\n",
      "Not listed\n",
      "------------\n",
      "Desmognathus auriculatus  -  Southern Dusky Salamander ( aSODSx )\n",
      "Date Cached:  2017-07-26T15:44:06.532755\n"
     ]
    },
    {
     "data": {
      "text/plain": [
       "[{'POP_ABBREV': 'Wherever found',\n",
       "  'POP_DESC': 'Wherever found',\n",
       "  'STATUS': 'Resolved Taxon'}]"
      ]
     },
     "metadata": {},
     "output_type": "display_data"
    },
    {
     "name": "stdout",
     "output_type": "stream",
     "text": [
      "------------\n",
      "Tamias ochrogenys  -  Yellow-cheeked Chipmunk ( mYCCHx )\n",
      "Not listed\n",
      "------------\n",
      "Leptotyphlops dulcis  -  Texas Threadsnake ( rTXTHx )\n",
      "Not listed\n",
      "------------\n",
      "Eurycea neotenes  -  Texas Salamander ( aTXSAx )\n",
      "Date Cached:  2017-07-26T15:44:10.764001\n"
     ]
    },
    {
     "data": {
      "text/plain": [
       "[{'POP_ABBREV': 'Wherever found',\n",
       "  'POP_DESC': 'Wherever found',\n",
       "  'STATUS': 'Under Review in the Candidate or Petition Process'}]"
      ]
     },
     "metadata": {},
     "output_type": "display_data"
    },
    {
     "name": "stdout",
     "output_type": "stream",
     "text": [
      "------------\n",
      "Toxostoma rufum  -  Brown Thrasher ( bBRTHx )\n",
      "Not listed\n",
      "------------\n",
      "Corynorhinus townsendii ingens  -  Ozark Big-eared Bat ( mTBEBi )\n",
      "Not listed\n",
      "------------\n",
      "Urocitellus elegans elegans  -  Wyoming Ground Squirrel elegans ( mWYSQe )\n",
      "Not listed\n",
      "------------\n",
      "Neotoma stephensi  -  Stephen's Woodrat ( mSTWOx )\n",
      "Not listed\n",
      "------------\n",
      "Himantopus mexicanus  -  Black-necked Stilt ( bBNSTx )\n",
      "Not listed\n",
      "------------\n",
      "Ixoreus naevius  -  Varied Thrush ( bVATHx )\n",
      "Not listed\n",
      "------------\n",
      "Eurycea multiplicata  -  Many-ribbed Salamander ( aMRSAx )\n",
      "Not listed\n",
      "------------\n",
      "Aplodontia rufa  -  Sewellel ( mSEWEx )\n",
      "Not listed\n",
      "------------\n",
      "Mimus polyglottos  -  Northern Mockingbird ( bNOMOx )\n",
      "Not listed\n",
      "------------\n",
      "Cepphus columba  -  Pigeon Guillemot ( bPIGUx )\n",
      "Not listed\n",
      "------------\n",
      "Corynorhinus townsendii australis  -  Townsend's Big-eared Bat australis ( mTBEBa )\n",
      "Not listed\n",
      "------------\n",
      "Melanitta perspicillata  -  Surf Scoter ( bSUSCx )\n",
      "Not listed\n",
      "------------\n",
      "Dendroica townsendi  -  Townsend's Warbler ( bTOWAx )\n",
      "Not listed\n",
      "------------\n",
      "Passerina ciris  -  Painted Bunting ( bPABUx )\n",
      "Not listed\n",
      "------------\n",
      "Parula americana  -  Northern Parula ( bNOPAx )\n",
      "Not listed\n",
      "------------\n",
      "Cyanocitta stelleri  -  Steller's Jay ( bSTJAx )\n",
      "Not listed\n",
      "------------\n",
      "Anaxyrus exsul  -  Black Toad ( aBLTOx )\n",
      "Not listed\n",
      "------------\n",
      "Batrachoseps kawia  -  Sequoia Slender Salamander ( aSSLSx )\n",
      "Not listed\n",
      "------------\n",
      "Spilogale gracilis  -  Western Spotted Skunk ( mWSSKx )\n",
      "Not listed\n",
      "------------\n",
      "Myotis grisescens  -  Gray Myotis ( mGRMYx )\n",
      "Date Cached:  2017-07-26T15:44:32.794914\n"
     ]
    },
    {
     "data": {
      "text/plain": [
       "[{'LISTING_DATE': '1976-04-28',\n",
       "  'POP_ABBREV': 'Wherever found',\n",
       "  'POP_DESC': 'Wherever found',\n",
       "  'STATUS': 'Endangered'}]"
      ]
     },
     "metadata": {},
     "output_type": "display_data"
    },
    {
     "name": "stdout",
     "output_type": "stream",
     "text": [
      "------------\n",
      "Thryothorus ludovicianus  -  Carolina Wren ( bCARWx )\n",
      "Not listed\n",
      "------------\n",
      "Perognathus longimembris  -  Little Pocket Mouse ( mLPMOx )\n",
      "Not listed\n",
      "------------\n",
      "Chaetodipus formosus  -  Long-tailed Pocket Mouse ( mLTPMx )\n",
      "Not listed\n",
      "------------\n",
      "Phoca vitulina  -  Harbor Seal ( mHASEx )\n",
      "Not listed\n",
      "------------\n",
      "Dipodomys heermanni  -  Heermann's Kangaroo Rat ( mHKRAx )\n",
      "Not listed\n",
      "------------\n",
      "Ondatra zibethicus  -  Common Muskrat ( mCMMUx )\n",
      "Not listed\n",
      "------------\n",
      "Cynomys gunnisoni  -  Gunnison's Prairie Dog ( mGPDOx )\n",
      "Date Cached:  2017-07-26T15:44:40.061258\n"
     ]
    },
    {
     "data": {
      "text/plain": [
       "[{'POP_ABBREV': 'central and south-central Colorado, north-central New Mexico',\n",
       "  'POP_DESC': 'central and south-central Colorado, north-central New Mexico',\n",
       "  'STATUS': 'Resolved Taxon'}]"
      ]
     },
     "metadata": {},
     "output_type": "display_data"
    },
    {
     "name": "stdout",
     "output_type": "stream",
     "text": [
      "------------\n",
      "Batrachoseps major  -  Garden Slender Salamander ( aGSSAx )\n",
      "Not listed\n",
      "------------\n",
      "Picoides villosus  -  Hairy Woodpecker ( bHAWOx )\n",
      "Not listed\n",
      "------------\n",
      "Dipodomys californicus  -  California Kangaroo Rat ( mCKRAx )\n",
      "Not listed\n",
      "------------\n",
      "Eurycea troglodytes  -  Valdina Farms Salamander ( aVFSAx )\n",
      "Date Cached:  2017-07-26T15:44:43.864695\n"
     ]
    },
    {
     "data": {
      "text/plain": [
       "[{'POP_ABBREV': 'Wherever found',\n",
       "  'POP_DESC': 'Wherever found',\n",
       "  'STATUS': 'Resolved Taxon'}]"
      ]
     },
     "metadata": {},
     "output_type": "display_data"
    },
    {
     "name": "stdout",
     "output_type": "stream",
     "text": [
      "------------\n",
      "Plethodon meridianus  -  South Mountain Gray-cheeked Salamander ( aSMGSx )\n",
      "Date Cached:  2017-07-26T15:44:45.745471\n"
     ]
    },
    {
     "data": {
      "text/plain": [
       "[{'POP_ABBREV': 'Wherever found',\n",
       "  'POP_DESC': 'Wherever found',\n",
       "  'STATUS': 'Resolved Taxon'}]"
      ]
     },
     "metadata": {},
     "output_type": "display_data"
    },
    {
     "name": "stdout",
     "output_type": "stream",
     "text": [
      "------------\n",
      "Recurvirostra americana  -  American Avocet ( bAMAVx )\n",
      "Not listed\n",
      "------------\n",
      "Cryptobranchus alleganiensis bishopi  -  Ozark Hellbender ( aHELLb )\n",
      "Date Cached:  2017-07-26T15:44:47.820766\n"
     ]
    },
    {
     "data": {
      "text/plain": [
       "[{'LISTING_DATE': '2011-11-07',\n",
       "  'POP_ABBREV': 'Wherever found',\n",
       "  'POP_DESC': 'Wherever found',\n",
       "  'STATUS': 'Endangered'}]"
      ]
     },
     "metadata": {},
     "output_type": "display_data"
    },
    {
     "name": "stdout",
     "output_type": "stream",
     "text": [
      "------------\n",
      "Graptemys oculifera  -  Ringed Map Turtle ( rRMTUx )\n",
      "Date Cached:  2017-07-26T15:44:49.704839\n"
     ]
    },
    {
     "data": {
      "text/plain": [
       "[{'LISTING_DATE': '1986-12-23',\n",
       "  'POP_ABBREV': 'Wherever found',\n",
       "  'POP_DESC': 'Wherever found',\n",
       "  'STATUS': 'Threatened'}]"
      ]
     },
     "metadata": {},
     "output_type": "display_data"
    },
    {
     "name": "stdout",
     "output_type": "stream",
     "text": [
      "------------\n",
      "Plestiodon inexpectatus  -  Southeastern Five-lined Skink ( rSFLSx )\n",
      "Not listed\n",
      "------------\n",
      "Graptemys gibbonsi  -  Pascagoula Map Turtle ( rPMTUx )\n",
      "Date Cached:  2017-07-26T15:44:51.530902\n"
     ]
    },
    {
     "data": {
      "text/plain": [
       "[{'POP_ABBREV': 'Wherever found',\n",
       "  'POP_DESC': 'Wherever found',\n",
       "  'STATUS': 'Under Review in the Candidate or Petition Process'}]"
      ]
     },
     "metadata": {},
     "output_type": "display_data"
    },
    {
     "name": "stdout",
     "output_type": "stream",
     "text": [
      "------------\n",
      "Sistrurus miliarius  -  Pygmy Rattlesnake ( rPRATx )\n",
      "Not listed\n",
      "------------\n",
      "Fulica americana  -  American Coot ( bAMCOx )\n",
      "Not listed\n",
      "------------\n",
      "Pseudacris ocularis  -  Little Grass Frog ( aLGFRx )\n",
      "Not listed\n",
      "------------\n",
      "Sistrurus catenatus  -  Massasauga ( rMASSx )\n",
      "Date Cached:  2017-07-26T15:44:55.322285\n"
     ]
    },
    {
     "data": {
      "text/plain": [
       "[{'LISTING_DATE': '2016-09-30',\n",
       "  'POP_ABBREV': 'Wherever found',\n",
       "  'POP_DESC': 'Wherever found',\n",
       "  'STATUS': 'Threatened'}]"
      ]
     },
     "metadata": {},
     "output_type": "display_data"
    },
    {
     "name": "stdout",
     "output_type": "stream",
     "text": [
      "------------\n",
      "Terrapene ornata  -  Ornate Box Turtle ( rOBTUx )\n",
      "Not listed\n",
      "------------\n",
      "Tantilla coronata  -  Southeastern Crowned Snake ( rSESNx )\n",
      "Not listed\n",
      "------------\n",
      "Dermochelys coriacea  -  Leatherback Sea Turtle ( rLEATx )\n",
      "Date Cached:  2017-07-26T15:44:59.116076\n"
     ]
    },
    {
     "data": {
      "text/plain": [
       "[{'LISTING_DATE': '1970-06-02',\n",
       "  'POP_ABBREV': 'Wherever found',\n",
       "  'POP_DESC': 'Wherever found',\n",
       "  'STATUS': 'Endangered'}]"
      ]
     },
     "metadata": {},
     "output_type": "display_data"
    },
    {
     "name": "stdout",
     "output_type": "stream",
     "text": [
      "------------\n",
      "Campylorhynchus brunneicapillus  -  Cactus Wren ( bCACWx )\n",
      "Date Cached:  2017-07-26T15:45:00.517396\n"
     ]
    },
    {
     "data": {
      "text/plain": [
       "[{'POP_ABBREV': 'Wherever found',\n",
       "  'POP_DESC': 'Wherever found',\n",
       "  'STATUS': 'Species of Concern'}]"
      ]
     },
     "metadata": {},
     "output_type": "display_data"
    },
    {
     "name": "stdout",
     "output_type": "stream",
     "text": [
      "------------\n",
      "Aphelocoma californica  -  Western Scrub-jay ( bWESJx )\n",
      "Not listed\n",
      "------------\n",
      "Tamias cinereicollis  -  Gray-collared Chipmunk ( mGCCHx )\n",
      "Not listed\n",
      "------------\n",
      "Holbrookia maculata  -  Common Lesser Earless Lizard ( rCLELx )\n",
      "Not listed\n",
      "------------\n",
      "Siren intermedia  -  Lesser Siren ( aLESIx )\n",
      "Not listed\n",
      "------------\n",
      "Pica nuttalli  -  Yellow-billed Magpie ( bYBMAx )\n",
      "Date Cached:  2017-07-26T15:45:07.641429\n"
     ]
    },
    {
     "data": {
      "text/plain": [
       "[{'POP_ABBREV': 'Wherever found',\n",
       "  'POP_DESC': 'Wherever found',\n",
       "  'STATUS': 'Species of Concern'}]"
      ]
     },
     "metadata": {},
     "output_type": "display_data"
    },
    {
     "name": "stdout",
     "output_type": "stream",
     "text": [
      "------------\n",
      "Dipodomys agilis  -  Agile Kangaroo Rat ( mAKRAx )\n",
      "Not listed\n",
      "------------\n",
      "Apalone ferox  -  Florida Softshell ( rFLSOx )\n",
      "Not listed\n",
      "------------\n",
      "Pantherophis emoryi  -  Great Plains Ratsnake ( rGPRAx )\n",
      "Not listed\n",
      "------------\n",
      "Sonora semiannulata  -  Western Groundsnake ( rWGROx )\n",
      "Not listed\n",
      "------------\n",
      "Xantusia arizonae  -  Arizona Night Lizard ( rANLIx )\n",
      "Not listed\n",
      "------------\n",
      "Sauromalus ater  -  Common Chuckwalla ( rCCHUx )\n",
      "Date Cached:  2017-07-26T15:45:14.101514\n"
     ]
    },
    {
     "data": {
      "text/plain": [
       "[{'POP_ABBREV': 'Wherever found',\n",
       "  'POP_DESC': 'Wherever found',\n",
       "  'STATUS': 'Species of Concern'}]"
      ]
     },
     "metadata": {},
     "output_type": "display_data"
    },
    {
     "name": "stdout",
     "output_type": "stream",
     "text": [
      "------------\n",
      "Gyalopion canum  -  Chihuahuan Hook-nosed Snake ( rCHNSx )\n",
      "Not listed\n",
      "------------\n",
      "Sceloporus magister  -  Desert Spiny Lizard ( rDSLIx )\n",
      "Not listed\n",
      "------------\n",
      "Gambelia sila  -  Blunt-nosed Leopard Lizard ( rBNLLx )\n",
      "Not listed\n",
      "------------\n",
      "Heterodon platirhinos  -  Eastern Hog-nosed Snake ( rEHNSx )\n",
      "Not listed\n",
      "------------\n",
      "Tympanuchus phasianellus jamesi  -  Plains Sharp-tailed Grouse ( bSTGRj )\n",
      "Not listed\n",
      "------------\n",
      "Elanoides forficatus  -  Swallow-tailed Kite ( bSTKIx )\n",
      "Date Cached:  2017-07-26T15:45:20.810577\n"
     ]
    },
    {
     "data": {
      "text/plain": [
       "[{'POP_ABBREV': 'Wherever found',\n",
       "  'POP_DESC': 'Wherever found',\n",
       "  'STATUS': 'Species of Concern'}]"
      ]
     },
     "metadata": {},
     "output_type": "display_data"
    },
    {
     "name": "stdout",
     "output_type": "stream",
     "text": [
      "------------\n",
      "Vulpes macrotis mutica  -  Kit Fox - San Joaquin Valley Population ( mKIFOm )\n",
      "Date Cached:  2017-07-26T15:45:21.770275\n"
     ]
    },
    {
     "data": {
      "text/plain": [
       "[{'LISTING_DATE': '1967-03-11',\n",
       "  'POP_ABBREV': 'wherever found',\n",
       "  'POP_DESC': 'wherever found',\n",
       "  'STATUS': 'Endangered'}]"
      ]
     },
     "metadata": {},
     "output_type": "display_data"
    },
    {
     "name": "stdout",
     "output_type": "stream",
     "text": [
      "------------\n",
      "Microtus montanus arizonensis  -  Arizona Montane Vole ( mMOVOa )\n",
      "Date Cached:  2017-07-26T15:45:22.708798\n"
     ]
    },
    {
     "data": {
      "text/plain": [
       "[{'POP_ABBREV': 'Wherever found',\n",
       "  'POP_DESC': 'Wherever found',\n",
       "  'STATUS': 'Resolved Taxon'}]"
      ]
     },
     "metadata": {},
     "output_type": "display_data"
    },
    {
     "name": "stdout",
     "output_type": "stream",
     "text": [
      "------------\n",
      "Archilochus colubris  -  Ruby-throated Hummingbird ( bRTHUx )\n",
      "Not listed\n",
      "------------\n",
      "Accipiter striatus  -  Sharp-shinned Hawk ( bSSHAx )\n",
      "Date Cached:  2017-07-26T15:45:24.559445\n"
     ]
    },
    {
     "data": {
      "text/plain": [
       "[{'POP_ABBREV': 'Wherever found',\n",
       "  'POP_DESC': 'Wherever found',\n",
       "  'STATUS': 'Species of Concern'}]"
      ]
     },
     "metadata": {},
     "output_type": "display_data"
    },
    {
     "name": "stdout",
     "output_type": "stream",
     "text": [
      "------------\n",
      "Vermivora pinus  -  Blue-winged Warbler ( bBWWAx )\n",
      "Not listed\n",
      "------------\n",
      "Haideotriton wallacei  -  Georgia Blind Salamander ( aGBSAx )\n",
      "Date Cached:  2017-07-26T15:45:26.707039\n"
     ]
    },
    {
     "data": {
      "text/plain": [
       "[{'POP_ABBREV': 'Wherever found',\n",
       "  'POP_DESC': 'Wherever found',\n",
       "  'STATUS': 'Under Review in the Candidate or Petition Process'}]"
      ]
     },
     "metadata": {},
     "output_type": "display_data"
    },
    {
     "name": "stdout",
     "output_type": "stream",
     "text": [
      "------------\n",
      "Vireo bellii  -  Bell's Vireo ( bBEVIx )\n",
      "Date Cached:  2017-07-26T15:45:27.673593\n"
     ]
    },
    {
     "data": {
      "text/plain": [
       "[{'POP_ABBREV': 'Wherever found',\n",
       "  'POP_DESC': 'Wherever found',\n",
       "  'STATUS': 'Species of Concern'}]"
      ]
     },
     "metadata": {},
     "output_type": "display_data"
    },
    {
     "name": "stdout",
     "output_type": "stream",
     "text": [
      "------------\n",
      "Lampornis clemenciae  -  Blue-throated Hummingbird ( bBTHHx )\n",
      "Not listed\n",
      "------------\n",
      "Sialia sialis  -  Eastern Bluebird ( bEABLx )\n",
      "Not listed\n",
      "------------\n",
      "Catharus bicknelli  -  Bicknell's Thrush ( bBITHx )\n",
      "Date Cached:  2017-07-26T15:45:30.777662\n"
     ]
    },
    {
     "data": {
      "text/plain": [
       "[{'POP_ABBREV': 'Wherever found',\n",
       "  'POP_DESC': 'Wherever found',\n",
       "  'STATUS': 'Under Review in the Candidate or Petition Process'}]"
      ]
     },
     "metadata": {},
     "output_type": "display_data"
    },
    {
     "name": "stdout",
     "output_type": "stream",
     "text": [
      "------------\n",
      "Myiarchus tuberculifer  -  Dusky-capped Flycatcher ( bDCFLx )\n",
      "Not listed\n",
      "------------\n",
      "Mustela nigripes  -  Black-footed Ferret ( mBFFEx )\n",
      "Date Cached:  2017-07-26T15:45:33.649025\n"
     ]
    },
    {
     "data": {
      "text/plain": [
       "[{'LISTING_DATE': '1967-03-11',\n",
       "  'POP_ABBREV': 'Wherever found, except where listed as an experimental population',\n",
       "  'POP_DESC': 'Wherever found, except where listed as an experimental population',\n",
       "  'STATUS': 'Endangered'},\n",
       " {'LISTING_DATE': '1991-08-21',\n",
       "  'POP_ABBREV': 'U.S.A. (WY and specified portions of AZ, CO, MT, SD, and UT, see 17.84(g)(9))',\n",
       "  'POP_DESC': 'U.S.A. (WY and specified portions of AZ, CO, MT, SD, and UT, see 17.84(g)(9))',\n",
       "  'STATUS': 'Experimental Population, Non-Essential'}]"
      ]
     },
     "metadata": {},
     "output_type": "display_data"
    },
    {
     "name": "stdout",
     "output_type": "stream",
     "text": [
      "------------\n",
      "Panthera onca  -  Jaguar ( mJAGUx )\n",
      "Date Cached:  2017-07-26T15:45:34.577571\n"
     ]
    },
    {
     "data": {
      "text/plain": [
       "[{'LISTING_DATE': '1972-03-28',\n",
       "  'POP_ABBREV': 'Wherever found',\n",
       "  'POP_DESC': 'Wherever found',\n",
       "  'STATUS': 'Endangered'}]"
      ]
     },
     "metadata": {},
     "output_type": "display_data"
    },
    {
     "name": "stdout",
     "output_type": "stream",
     "text": [
      "------------\n",
      "Sterna hirundo  -  Common Tern ( bCOTEx )\n",
      "Date Cached:  2017-07-26T15:45:36.439024\n"
     ]
    },
    {
     "data": {
      "text/plain": [
       "[{'POP_ABBREV': 'Wherever found',\n",
       "  'POP_DESC': 'Wherever found',\n",
       "  'STATUS': 'Species of Concern'}]"
      ]
     },
     "metadata": {},
     "output_type": "display_data"
    },
    {
     "name": "stdout",
     "output_type": "stream",
     "text": [
      "------------\n",
      "Centrocercus minimus  -  Gunnison Sage-grouse ( bGUSGx )\n",
      "Date Cached:  2017-07-26T15:45:37.369642\n"
     ]
    },
    {
     "data": {
      "text/plain": [
       "[{'LISTING_DATE': '2014-12-22',\n",
       "  'POP_ABBREV': 'Wherever found',\n",
       "  'POP_DESC': 'Wherever found',\n",
       "  'STATUS': 'Threatened'}]"
      ]
     },
     "metadata": {},
     "output_type": "display_data"
    },
    {
     "name": "stdout",
     "output_type": "stream",
     "text": [
      "------------\n",
      "Sceloporus jarrovii  -  Yarrow's Spiny Lizard ( rYSLIx )\n",
      "Not listed\n",
      "------------\n",
      "Microtus mogollonensis  -  Mogollon Vole ( mMGVOx )\n",
      "Not listed\n",
      "------------\n",
      "Plethodon glutinosus  -  Northern Slimy Salamander ( aNSSAx )\n",
      "Not listed\n",
      "------------\n",
      "Plethodon savannah  -  Savannah Slimy Salamander ( aSSYSx )\n",
      "Not listed\n",
      "------------\n",
      "Eurycea guttolineata  -  Three-lined Salamander ( aTLSAx )\n",
      "Not listed\n",
      "------------\n",
      "Tropidoclonion lineatum  -  Lined Snake ( rLISNx )\n",
      "Not listed\n",
      "------------\n",
      "Cynomys leucurus  -  White-tailed Prairie Dog ( mWTPDx )\n",
      "Date Cached:  2017-07-26T15:45:44.611730\n"
     ]
    },
    {
     "data": {
      "text/plain": [
       "[{'POP_ABBREV': 'Wherever found',\n",
       "  'POP_DESC': 'Wherever found',\n",
       "  'STATUS': 'Resolved Taxon'}]"
      ]
     },
     "metadata": {},
     "output_type": "display_data"
    },
    {
     "name": "stdout",
     "output_type": "stream",
     "text": [
      "------------\n",
      "Holbrookia lacerata  -  Spot-tailed Earless Lizard ( rSTELx )\n",
      "Date Cached:  2017-07-26T15:45:45.923404\n"
     ]
    },
    {
     "data": {
      "text/plain": [
       "[{'POP_ABBREV': 'Wherever found',\n",
       "  'POP_DESC': 'Wherever found',\n",
       "  'STATUS': 'Under Review in the Candidate or Petition Process'}]"
      ]
     },
     "metadata": {},
     "output_type": "display_data"
    },
    {
     "name": "stdout",
     "output_type": "stream",
     "text": [
      "------------\n",
      "Coluber lateralis  -  Striped Racer ( rSTRAx )\n",
      "Not listed\n",
      "------------\n",
      "Tantilla yaquia  -  Yaqui Black-headed Snake ( rYBHSx )\n",
      "Not listed\n",
      "------------\n",
      "Crotalus mitchellii  -  Speckled Rattlesnake ( rSRATx )\n",
      "Date Cached:  2017-07-26T15:45:48.726125\n"
     ]
    },
    {
     "data": {
      "text/plain": [
       "[{'POP_ABBREV': 'Wherever found',\n",
       "  'POP_DESC': 'Wherever found',\n",
       "  'STATUS': 'Species of Concern'}]"
      ]
     },
     "metadata": {},
     "output_type": "display_data"
    },
    {
     "name": "stdout",
     "output_type": "stream",
     "text": [
      "------------\n",
      "Elgaria panamintina  -  Panamint Alligator Lizard ( rPALIx )\n",
      "Date Cached:  2017-07-26T15:45:49.692105\n"
     ]
    },
    {
     "data": {
      "text/plain": [
       "[{'POP_ABBREV': 'Wherever found',\n",
       "  'POP_DESC': 'Wherever found',\n",
       "  'STATUS': 'Under Review in the Candidate or Petition Process'}]"
      ]
     },
     "metadata": {},
     "output_type": "display_data"
    },
    {
     "name": "stdout",
     "output_type": "stream",
     "text": [
      "------------\n",
      "Baeolophus wollweberi  -  Bridled Titmouse ( bBRTIx )\n",
      "Not listed\n",
      "------------\n",
      "Phalacrocorax penicillatus  -  Brandt's Cormorant ( bBRACx )\n",
      "Not listed\n",
      "------------\n",
      "Butorides virescens  -  Green Heron ( bGRHEx )\n",
      "Not listed\n",
      "------------\n",
      "Chlidonias niger  -  Black Tern ( bBLTEx )\n",
      "Date Cached:  2017-07-26T15:45:54.509677\n"
     ]
    },
    {
     "data": {
      "text/plain": [
       "[{'POP_ABBREV': 'Wherever found',\n",
       "  'POP_DESC': 'Wherever found',\n",
       "  'STATUS': 'Species of Concern'}]"
      ]
     },
     "metadata": {},
     "output_type": "display_data"
    },
    {
     "name": "stdout",
     "output_type": "stream",
     "text": [
      "------------\n",
      "Coragyps atratus  -  Black Vulture ( bBLVUx )\n",
      "Not listed\n",
      "------------\n",
      "Molothrus aeneus  -  Bronzed Cowbird ( bBROCx )\n",
      "Not listed\n",
      "------------\n",
      "Spizella pusilla  -  Field Sparrow ( bFISPx )\n",
      "Not listed\n",
      "------------\n",
      "Melanerpes aurifrons  -  Golden-fronted Woodpecker ( bGFWOx )\n",
      "Not listed\n",
      "------------\n",
      "Thomomys monticola  -  Mountain Pocket Gopher ( mMPGOx )\n",
      "Not listed\n",
      "------------\n",
      "Bucephala clangula  -  Common Goldeneye ( bCOGOx )\n",
      "Not listed\n",
      "------------\n",
      "Microtus ochrogaster taylori  -  Prairie Vole ( mPRVOt )\n",
      "Not listed\n",
      "------------\n",
      "Scapanus townsendii  -  Townsend's Mole ( mTOMOx )\n",
      "Not listed\n",
      "------------\n",
      "Dipodomys ordii  -  Ord's Kangaroo Rat ( mOKRAx )\n",
      "Not listed\n",
      "------------\n",
      "Tamias palmeri  -  Palmer's Chipmunk ( mPACHx )\n",
      "Date Cached:  2017-07-26T15:46:08.566930\n"
     ]
    },
    {
     "data": {
      "text/plain": [
       "[{'POP_ABBREV': 'Wherever found',\n",
       "  'POP_DESC': 'Wherever found',\n",
       "  'STATUS': 'Species of Concern'}]"
      ]
     },
     "metadata": {},
     "output_type": "display_data"
    },
    {
     "name": "stdout",
     "output_type": "stream",
     "text": [
      "------------\n",
      "Chloroceryle americana  -  Green Kingfisher ( bGKINx )\n",
      "Not listed\n",
      "------------\n",
      "Bombycilla garrulus  -  Bohemian Waxwing ( bBOWAx )\n",
      "Not listed\n",
      "------------\n",
      "Clangula hyemalis  -  Long-tailed Duck ( bLTDUx )\n",
      "Date Cached:  2017-07-26T15:46:22.673842\n"
     ]
    },
    {
     "data": {
      "text/plain": [
       "[{'POP_ABBREV': 'Wherever found',\n",
       "  'POP_DESC': 'Wherever found',\n",
       "  'STATUS': 'Resolved Taxon'}]"
      ]
     },
     "metadata": {},
     "output_type": "display_data"
    },
    {
     "name": "stdout",
     "output_type": "stream",
     "text": [
      "------------\n",
      "Tyrannus melancholicus  -  Tropical Kingbird ( bTRKIx )\n",
      "Not listed\n",
      "------------\n",
      "Loxia curvirostra  -  Red Crossbill ( bRECRx )\n",
      "Date Cached:  2017-07-26T15:46:31.960236\n"
     ]
    },
    {
     "data": {
      "text/plain": [
       "[{'POP_ABBREV': 'Wherever found',\n",
       "  'POP_DESC': 'Wherever found',\n",
       "  'STATUS': 'Species of Concern'}]"
      ]
     },
     "metadata": {},
     "output_type": "display_data"
    },
    {
     "name": "stdout",
     "output_type": "stream",
     "text": [
      "------------\n",
      "Aythya americana  -  Redhead ( bREDHx )\n",
      "Not listed\n",
      "------------\n",
      "Scaphiopus holbrookii  -  Eastern Spadefoot ( aEASPx )\n",
      "Not listed\n",
      "------------\n",
      "Sorex ornatus relictus  -  Buena Vista Lake Shrew ( mORSHr )\n",
      "Date Cached:  2017-07-26T15:46:38.872353\n"
     ]
    },
    {
     "data": {
      "text/plain": [
       "[{'LISTING_DATE': '2002-03-06',\n",
       "  'POP_ABBREV': 'Wherever found',\n",
       "  'POP_DESC': 'Wherever found',\n",
       "  'STATUS': 'Endangered'}]"
      ]
     },
     "metadata": {},
     "output_type": "display_data"
    },
    {
     "name": "stdout",
     "output_type": "stream",
     "text": [
      "------------\n",
      "Falco rusticolus  -  Gyrfalcon ( bGYRFx )\n",
      "Not listed\n",
      "------------\n",
      "Carduelis hornemanni  -  Hoary Redpoll ( bHOREx )\n",
      "Not listed\n",
      "------------\n",
      "Chen caerulescens  -  Snow Goose ( bSNGOx )\n",
      "Not listed\n",
      "------------\n",
      "Plethodon elongatus  -  Del Norte Salamander ( aDNSAx )\n",
      "Date Cached:  2017-07-26T15:46:46.281532\n"
     ]
    },
    {
     "data": {
      "text/plain": [
       "[{'POP_ABBREV': 'Wherever found',\n",
       "  'POP_DESC': 'Wherever found',\n",
       "  'STATUS': 'Species of Concern'}]"
      ]
     },
     "metadata": {},
     "output_type": "display_data"
    },
    {
     "name": "stdout",
     "output_type": "stream",
     "text": [
      "------------\n",
      "Corynorhinus townsendii  -  Townsend's Big-eared Bat ( mTBEBx )\n",
      "Not listed\n",
      "------------\n",
      "Aphelocoma insularis  -  Island Scrub-jay ( bISSJx )\n",
      "Date Cached:  2017-07-26T15:46:48.540537\n"
     ]
    },
    {
     "data": {
      "text/plain": [
       "[{'POP_ABBREV': 'Wherever found',\n",
       "  'POP_DESC': 'Wherever found',\n",
       "  'STATUS': 'Species of Concern'}]"
      ]
     },
     "metadata": {},
     "output_type": "display_data"
    },
    {
     "name": "stdout",
     "output_type": "stream",
     "text": [
      "------------\n",
      "Sternula antillarum athalassos  -  Interior Least Tern ( bLETEa )\n",
      "Not listed\n",
      "------------\n",
      "Melanerpes carolinus  -  Red-bellied Woodpecker ( bRBWOx )\n",
      "Not listed\n",
      "------------\n",
      "Aimophila ruficeps  -  Rufous-crowned Sparrow ( bRCSPx )\n",
      "Date Cached:  2017-07-26T15:46:51.722745\n"
     ]
    },
    {
     "data": {
      "text/plain": [
       "[{'POP_ABBREV': 'Wherever found',\n",
       "  'POP_DESC': 'Wherever found',\n",
       "  'STATUS': 'Species of Concern'}]"
      ]
     },
     "metadata": {},
     "output_type": "display_data"
    },
    {
     "name": "stdout",
     "output_type": "stream",
     "text": [
      "------------\n",
      "Tamias obscurus  -  California Chipmunk ( mCFCHx )\n",
      "Not listed\n",
      "------------\n",
      "Camptostoma imberbe  -  Northern Beardless-tyrannulet ( bNOBTx )\n",
      "Not listed\n",
      "------------\n",
      "Empidonax difficilis  -  Pacific-slope Flycatcher ( bPSFLx )\n",
      "Not listed\n",
      "------------\n",
      "Sitta canadensis  -  Red-breasted Nuthatch ( bRBNUx )\n",
      "Not listed\n",
      "------------\n",
      "Ascaphus truei  -  Coastal Tailed Frog ( aCTFRx )\n",
      "Date Cached:  2017-07-26T15:46:57.581567\n"
     ]
    },
    {
     "data": {
      "text/plain": [
       "[{'POP_ABBREV': 'Wherever found',\n",
       "  'POP_DESC': 'Wherever found',\n",
       "  'STATUS': 'Species of Concern'}]"
      ]
     },
     "metadata": {},
     "output_type": "display_data"
    },
    {
     "name": "stdout",
     "output_type": "stream",
     "text": [
      "------------\n",
      "Glaucidium gnoma gnoma  -  Mexican Pygmy-owl ( bNOPOg )\n",
      "Not listed\n",
      "------------\n",
      "Amphispiza belli  -  Sage Sparrow ( bSAGSx )\n",
      "Date Cached:  2017-07-26T15:47:00.384492\n"
     ]
    },
    {
     "data": {
      "text/plain": [
       "[{'POP_ABBREV': 'Wherever found',\n",
       "  'POP_DESC': 'Wherever found',\n",
       "  'STATUS': 'Species of Concern'}]"
      ]
     },
     "metadata": {},
     "output_type": "display_data"
    },
    {
     "name": "stdout",
     "output_type": "stream",
     "text": [
      "------------\n",
      "Asio flammeus  -  Short-eared Owl ( bSEOWx )\n",
      "Date Cached:  2017-07-26T15:47:01.856297\n"
     ]
    },
    {
     "data": {
      "text/plain": [
       "[{'POP_ABBREV': 'Wherever found',\n",
       "  'POP_DESC': 'Wherever found',\n",
       "  'STATUS': 'Species of Concern'}]"
      ]
     },
     "metadata": {},
     "output_type": "display_data"
    },
    {
     "name": "stdout",
     "output_type": "stream",
     "text": [
      "------------\n",
      "Ammotragus lervia  -  Barbary Sheep ( mBASHx )\n",
      "Not listed\n",
      "------------\n",
      "Actinemys marmorata  -  Western Pond Turtle ( rWPTUx )\n",
      "Date Cached:  2017-07-26T15:47:03.904363\n"
     ]
    },
    {
     "data": {
      "text/plain": [
       "[{'POP_ABBREV': 'Wherever found',\n",
       "  'POP_DESC': 'Wherever found',\n",
       "  'STATUS': 'Under Review in the Candidate or Petition Process'}]"
      ]
     },
     "metadata": {},
     "output_type": "display_data"
    },
    {
     "name": "stdout",
     "output_type": "stream",
     "text": [
      "------------\n",
      "Urocitellus elegans nevadensis  -  Wyoming Ground Squirrel nevadensis ( mWYSQn )\n",
      "Not listed\n",
      "------------\n",
      "Thamnophis rufipunctatus  -  Narrow-headed Gartersnake ( rNHGAx )\n",
      "Date Cached:  2017-07-26T15:47:06.228369\n"
     ]
    },
    {
     "data": {
      "text/plain": [
       "[{'LISTING_DATE': '2014-07-08',\n",
       "  'POP_ABBREV': 'Wherever found',\n",
       "  'POP_DESC': 'Wherever found',\n",
       "  'STATUS': 'Threatened'}]"
      ]
     },
     "metadata": {},
     "output_type": "display_data"
    },
    {
     "name": "stdout",
     "output_type": "stream",
     "text": [
      "------------\n",
      "Graptemys geographica  -  Northern Map Turtle ( rNMTUx )\n",
      "Not listed\n",
      "------------\n",
      "Storeria occipitomaculata  -  Red-bellied Snake ( rRBSNx )\n",
      "Not listed\n",
      "------------\n",
      "Pseudemys concinna  -  River Cooter ( rRICOx )\n",
      "Date Cached:  2017-07-26T15:47:10.324028\n"
     ]
    },
    {
     "data": {
      "text/plain": [
       "[{'POP_ABBREV': 'Wherever found',\n",
       "  'POP_DESC': 'Wherever found',\n",
       "  'STATUS': 'Species of Concern'}]"
      ]
     },
     "metadata": {},
     "output_type": "display_data"
    },
    {
     "name": "stdout",
     "output_type": "stream",
     "text": [
      "------------\n",
      "Drymobius margaritiferus  -  Speckled Racer ( rSPRAx )\n",
      "Not listed\n",
      "------------\n",
      "Crotalus horridus  -  Timber Rattlesnake ( rTIRAx )\n",
      "Date Cached:  2017-07-26T15:47:13.252520\n"
     ]
    },
    {
     "data": {
      "text/plain": [
       "[{'POP_ABBREV': 'Wherever found',\n",
       "  'POP_DESC': 'Wherever found',\n",
       "  'STATUS': 'Resolved Taxon'}]"
      ]
     },
     "metadata": {},
     "output_type": "display_data"
    },
    {
     "name": "stdout",
     "output_type": "stream",
     "text": [
      "------------\n",
      "Heterodon nasicus  -  Plains Hog-nosed Snake ( rPHNSx )\n",
      "Not listed\n",
      "------------\n",
      "Crotalus atrox  -  Western Diamond-backed Rattlesnake ( rWDBRx )\n",
      "Not listed\n",
      "------------\n",
      "Sceloporus uniformis  -  Yellow-backed Spiny Lizard ( rYBSLx )\n",
      "Not listed\n",
      "------------\n",
      "Thamnophis proximus  -  Western Ribbonsnake ( rWERIx )\n",
      "Not listed\n",
      "------------\n",
      "Graptemys versa  -  Texas Map Turtle ( rTMTUx )\n",
      "Date Cached:  2017-07-26T15:47:21.281545\n"
     ]
    },
    {
     "data": {
      "text/plain": [
       "[{'POP_ABBREV': 'Wherever found',\n",
       "  'POP_DESC': 'Wherever found',\n",
       "  'STATUS': 'Resolved Taxon'}]"
      ]
     },
     "metadata": {},
     "output_type": "display_data"
    },
    {
     "name": "stdout",
     "output_type": "stream",
     "text": [
      "------------\n",
      "Lichanura trivirgata  -  Rosy Boa ( rROBOx )\n",
      "Not listed\n",
      "------------\n",
      "Liomys irroratus  -  Mexican Spiny Pocket Mouse ( mMSPMx )\n",
      "Not listed\n",
      "------------\n",
      "Lontra canadensis  -  North American River Otter ( mNAROx )\n",
      "Date Cached:  2017-07-26T15:47:28.024814\n"
     ]
    },
    {
     "data": {
      "text/plain": [
       "[{'POP_ABBREV': 'Wherever found',\n",
       "  'POP_DESC': 'Wherever found',\n",
       "  'STATUS': 'Resolved Taxon'}]"
      ]
     },
     "metadata": {},
     "output_type": "display_data"
    },
    {
     "name": "stdout",
     "output_type": "stream",
     "text": [
      "------------\n",
      "Thomomys bottae  -  Botta's Pocket Gopher ( mBOGOx )\n",
      "Not listed\n",
      "------------\n",
      "Thomomys idahoensis  -  Idaho Pocket Gopher ( mIPGOx )\n",
      "Not listed\n",
      "------------\n",
      "Peromyscus melanotis  -  Black-eared Deermouse ( mBEDEx )\n",
      "Not listed\n",
      "------------\n",
      "Bison bison  -  American Bison ( mBISOx )\n",
      "Not listed\n",
      "------------\n",
      "Icterus parisorum  -  Scott's Oriole ( bSCORx )\n",
      "Not listed\n",
      "------------\n",
      "Patagioenas leucocephala  -  White-crowned Pigeon ( bWCPIx )\n",
      "Date Cached:  2017-07-26T15:47:44.413051\n"
     ]
    },
    {
     "data": {
      "text/plain": [
       "[{'POP_ABBREV': 'Wherever found',\n",
       "  'POP_DESC': 'Wherever found',\n",
       "  'STATUS': 'Species of Concern'}]"
      ]
     },
     "metadata": {},
     "output_type": "display_data"
    },
    {
     "name": "stdout",
     "output_type": "stream",
     "text": [
      "------------\n",
      "Tamias merriami  -  Merriam's Chipmunk ( mMMCHx )\n",
      "Not listed\n",
      "------------\n",
      "Sylvilagus nuttallii  -  Mountain Cottontail ( mMOCOx )\n",
      "Not listed\n",
      "------------\n",
      "Picoides arizonae  -  Arizona Woodpecker ( bARWOx )\n",
      "Not listed\n",
      "------------\n",
      "Sitta pusilla  -  Brown-headed Nuthatch ( bBHNUx )\n",
      "Not listed\n",
      "------------\n",
      "Icterus galbula  -  Baltimore Oriole ( bBAORx )\n",
      "Not listed\n",
      "------------\n",
      "Myiodynastes luteiventris  -  Sulphur-bellied Flycatcher ( bSBFLx )\n",
      "Not listed\n",
      "------------\n",
      "Dasypus novemcinctus  -  Nine-banded Armadillo ( mNBARx )\n",
      "Not listed\n",
      "------------\n",
      "Microtus pennsylvanicus dukecampbelli  -  Duke's Marsh Vole ( mMEVOd )\n",
      "Date Cached:  2017-07-26T15:47:58.703498\n"
     ]
    },
    {
     "data": {
      "text/plain": [
       "[{'LISTING_DATE': '1991-01-14',\n",
       "  'POP_ABBREV': 'Wherever found',\n",
       "  'POP_DESC': 'Wherever found',\n",
       "  'STATUS': 'Endangered'}]"
      ]
     },
     "metadata": {},
     "output_type": "display_data"
    },
    {
     "name": "stdout",
     "output_type": "stream",
     "text": [
      "------------\n",
      "Acris crepitans  -  Northern Cricket Frog ( aNCFRx )\n",
      "Not listed\n",
      "------------\n",
      "Sigmodon hispidus  -  Hispid Cotton Rat ( mHCRAx )\n",
      "Not listed\n",
      "------------\n",
      "Desmognathus brimleyorum  -  Ouachita Dusky Salamander ( aODSAx )\n",
      "Date Cached:  2017-07-26T15:48:03.631027\n"
     ]
    },
    {
     "data": {
      "text/plain": [
       "[{'POP_ABBREV': 'Wherever found',\n",
       "  'POP_DESC': 'Wherever found',\n",
       "  'STATUS': 'Species of Concern'}]"
      ]
     },
     "metadata": {},
     "output_type": "display_data"
    },
    {
     "name": "stdout",
     "output_type": "stream",
     "text": [
      "------------\n",
      "Rhyacotriton variegatus  -  Southern Torrent Salamander ( aSTOSx )\n",
      "Date Cached:  2017-07-26T15:48:05.063071\n"
     ]
    },
    {
     "data": {
      "text/plain": [
       "[{'POP_ABBREV': 'Wherever found',\n",
       "  'POP_DESC': 'Wherever found',\n",
       "  'STATUS': 'Resolved Taxon'}]"
      ]
     },
     "metadata": {},
     "output_type": "display_data"
    },
    {
     "name": "stdout",
     "output_type": "stream",
     "text": [
      "------------\n",
      "Catherpes mexicanus  -  Canyon Wren ( bCANWx )\n",
      "Not listed\n",
      "------------\n",
      "Notiosorex cockrumi  -  Cockrum's Gray Shrew ( mCGSHx )\n",
      "Not listed\n",
      "------------\n",
      "Vireo vicinior  -  Gray Vireo ( bGRVIx )\n",
      "Date Cached:  2017-07-26T15:48:08.474800\n"
     ]
    },
    {
     "data": {
      "text/plain": [
       "[{'POP_ABBREV': 'Wherever found',\n",
       "  'POP_DESC': 'Wherever found',\n",
       "  'STATUS': 'Species of Concern'}]"
      ]
     },
     "metadata": {},
     "output_type": "display_data"
    },
    {
     "name": "stdout",
     "output_type": "stream",
     "text": [
      "------------\n",
      "Trachemys gaigeae  -  Mexican Plateau Slider ( rMPSLx )\n",
      "Not listed\n",
      "------------\n",
      "Plethodon vandykei  -  Van Dyke's Salamander ( aVDSAx )\n",
      "Not listed\n",
      "------------\n",
      "Tamias rufus  -  Hopi Chipmunk ( mHOCHx )\n",
      "Not listed\n",
      "------------\n",
      "Acridotheres tristis  -  Common Myna ( bCOMYx )\n",
      "Not listed\n",
      "------------\n",
      "Alca torda  -  Razorbill ( bRAZOx )\n",
      "Not listed\n",
      "------------\n",
      "Lasionycteris noctivagans  -  Silver-haired Bat ( mSHBAx )\n",
      "Not listed\n",
      "------------\n",
      "Stercorarius parasiticus  -  Parasitic Jaeger ( bPAJAx )\n",
      "Not listed\n",
      "------------\n",
      "Malaclemys terrapin  -  Diamond-backed Terrapin ( rDBTEx )\n",
      "Not listed\n",
      "------------\n",
      "Plethodon chattahoochee  -  Chattahoochee Slimy Salamander ( aCSMSx )\n",
      "Not listed\n",
      "------------\n",
      "Phrynosoma goodei  -  Goode's Horned Lizard ( rGHLIx )\n",
      "Not listed\n",
      "------------\n",
      "Thamnophis gigas  -  Giant Gartersnake ( rGIGAx )\n",
      "Date Cached:  2017-07-26T15:48:26.073022\n"
     ]
    },
    {
     "data": {
      "text/plain": [
       "[{'LISTING_DATE': '1993-10-20',\n",
       "  'POP_ABBREV': 'Wherever found',\n",
       "  'POP_DESC': 'Wherever found',\n",
       "  'STATUS': 'Threatened'}]"
      ]
     },
     "metadata": {},
     "output_type": "display_data"
    },
    {
     "name": "stdout",
     "output_type": "stream",
     "text": [
      "------------\n",
      "Gopherus agassizii  -  Desert Tortoise ( rDETOx )\n",
      "Date Cached:  2017-07-26T15:48:27.206536\n"
     ]
    },
    {
     "data": {
      "text/plain": [
       "[{'LISTING_DATE': '1990-04-02',\n",
       "  'POP_ABBREV': 'AZ south and east of Colorado R., and Mexico, when found outside of Mexico or said range in AZ',\n",
       "  'POP_DESC': 'AZ south and east of Colorado R., and Mexico, when found outside of Mexico or said range in AZ',\n",
       "  'STATUS': 'Similarity of Appearance to a Threatened Taxon'},\n",
       " {'LISTING_DATE': '1980-08-20',\n",
       "  'POP_ABBREV': 'Wherever found, except AZ south and east of Colorado R., and Mexico',\n",
       "  'POP_DESC': 'Wherever found, except AZ south and east of Colorado R., and Mexico',\n",
       "  'STATUS': 'Threatened'}]"
      ]
     },
     "metadata": {},
     "output_type": "display_data"
    },
    {
     "name": "stdout",
     "output_type": "stream",
     "text": [
      "------------\n",
      "Sceloporus arenicolus  -  Dunes Sagebrush Lizard ( rDSALx )\n",
      "Date Cached:  2017-07-26T15:48:28.349352\n"
     ]
    },
    {
     "data": {
      "text/plain": [
       "[{'POP_ABBREV': 'Wherever found',\n",
       "  'POP_DESC': 'Wherever found',\n",
       "  'STATUS': 'Resolved Taxon'}]"
      ]
     },
     "metadata": {},
     "output_type": "display_data"
    },
    {
     "name": "stdout",
     "output_type": "stream",
     "text": [
      "------------\n",
      "Bogertophis rosaliae  -  Baja California Ratsnake ( rBCRAx )\n",
      "Not listed\n",
      "------------\n",
      "Pantherophis gloydi  -  Eastern Foxsnake ( rEAFOx )\n",
      "Not listed\n",
      "------------\n",
      "Vermivora ruficapilla  -  Nashville Warbler ( bNAWAx )\n",
      "Not listed\n",
      "------------\n",
      "Plethodon idahoensis  -  Coeur D'alene Salamander ( aCOSAx )\n",
      "Date Cached:  2017-07-26T15:48:32.833605\n"
     ]
    },
    {
     "data": {
      "text/plain": [
       "[{'POP_ABBREV': 'Wherever found',\n",
       "  'POP_DESC': 'Wherever found',\n",
       "  'STATUS': 'Resolved Taxon'}]"
      ]
     },
     "metadata": {},
     "output_type": "display_data"
    },
    {
     "name": "stdout",
     "output_type": "stream",
     "text": [
      "------------\n",
      "Desmognathus folkertsi  -  Dwarf Black-bellied Salamander ( aDBBSx )\n",
      "Not listed\n",
      "------------\n",
      "Perognathus parvus  -  Great Basin Pocket Mouse ( mGBPMx )\n",
      "Not listed\n",
      "------------\n",
      "Bubulcus ibis  -  Cattle Egret ( bCAEGx )\n",
      "Not listed\n",
      "------------\n",
      "Tamias speciosus  -  Lodgepole Chipmunk ( mLOCHx )\n",
      "Not listed\n",
      "------------\n",
      "Empidonax oberholseri  -  Dusky Flycatcher ( bDUFLx )\n",
      "Not listed\n",
      "------------\n",
      "Elanus leucurus  -  White-tailed Kite ( bWTKIx )\n",
      "Date Cached:  2017-07-26T15:48:41.661458\n"
     ]
    },
    {
     "data": {
      "text/plain": [
       "[{'POP_ABBREV': 'Wherever found',\n",
       "  'POP_DESC': 'Wherever found',\n",
       "  'STATUS': 'Species of Concern'}]"
      ]
     },
     "metadata": {},
     "output_type": "display_data"
    },
    {
     "name": "stdout",
     "output_type": "stream",
     "text": [
      "------------\n",
      "Zonotrichia leucophrys  -  White-crowned Sparrow ( bEWCSx )\n",
      "Not listed\n",
      "------------\n",
      "Dendroica striata  -  Blackpoll Warbler ( bBLPWx )\n",
      "Not listed\n",
      "------------\n",
      "Ambystoma macrodactylum  -  Long-toed Salamander ( aLTOPx )\n",
      "Not listed\n",
      "------------\n",
      "Plethodon stormi  -  Siskiyou Mountains Salamander ( aSYSAx )\n",
      "Date Cached:  2017-07-26T15:48:49.247179\n"
     ]
    },
    {
     "data": {
      "text/plain": [
       "[{'POP_ABBREV': 'Wherever found',\n",
       "  'POP_DESC': 'Wherever found',\n",
       "  'STATUS': 'Resolved Taxon'}]"
      ]
     },
     "metadata": {},
     "output_type": "display_data"
    },
    {
     "name": "stdout",
     "output_type": "stream",
     "text": [
      "------------\n",
      "Lithobates berlandieri  -  Rio Grande Leopard Frog ( aRGLFx )\n",
      "Not listed\n",
      "------------\n",
      "Zapus princeps  -  Western Jumping Mouse ( mWEMOx )\n",
      "Not listed\n",
      "------------\n",
      "Sorex longirostris  -  Southeastern Shrew ( mSPSHx )\n",
      "Not listed\n",
      "------------\n",
      "Xantusia riversiana  -  Island Night Lizard ( rINLIx )\n",
      "Date Cached:  2017-07-26T15:48:53.574549\n"
     ]
    },
    {
     "data": {
      "text/plain": [
       "[{'LISTING_DATE': '1977-09-12',\n",
       "  'POP_ABBREV': 'Wherever found',\n",
       "  'POP_DESC': 'Wherever found',\n",
       "  'STATUS': 'Recovery'}]"
      ]
     },
     "metadata": {},
     "output_type": "display_data"
    },
    {
     "name": "stdout",
     "output_type": "stream",
     "text": [
      "------------\n",
      "Coturnicops noveboracensis  -  Yellow Rail ( bYERAx )\n",
      "Date Cached:  2017-07-26T15:48:54.759867\n"
     ]
    },
    {
     "data": {
      "text/plain": [
       "[{'POP_ABBREV': 'Wherever found',\n",
       "  'POP_DESC': 'Wherever found',\n",
       "  'STATUS': 'Species of Concern'}]"
      ]
     },
     "metadata": {},
     "output_type": "display_data"
    },
    {
     "name": "stdout",
     "output_type": "stream",
     "text": [
      "------------\n",
      "Sigmodon arizonae cienegae  -  Arizona Cotton Rat (S. a. cienegae) ( mACRAc )\n",
      "Not listed\n",
      "------------\n",
      "Aspidoscelis flagellicauda  -  Gila Spotted Whiptail ( rGLSWx )\n",
      "Not listed\n",
      "------------\n",
      "Phrynosoma hernandesi  -  Greater Short-horned Lizard ( rGSHLx )\n",
      "Not listed\n",
      "------------\n",
      "Scalopus aquaticus anastasae  -  Anastasia Island Mole ( mEAMOa )\n",
      "Date Cached:  2017-07-26T15:49:02.370953\n"
     ]
    },
    {
     "data": {
      "text/plain": [
       "[{'POP_ABBREV': 'Wherever found',\n",
       "  'POP_DESC': 'Wherever found',\n",
       "  'STATUS': 'Resolved Taxon'}]"
      ]
     },
     "metadata": {},
     "output_type": "display_data"
    },
    {
     "name": "stdout",
     "output_type": "stream",
     "text": [
      "------------\n",
      "Scapanus orarius  -  Coast Mole ( mCSMOx )\n",
      "Not listed\n",
      "------------\n",
      "Geomys texensis  -  Central Texas Pocket Gopher ( mCTPGx )\n",
      "Not listed\n",
      "------------\n",
      "Oryzomys couesi  -  Coues' Oryzomys ( mCOORx )\n",
      "Not listed\n",
      "------------\n",
      "Neotoma lepida  -  Desert Woodrat ( mDEWOx )\n",
      "Not listed\n",
      "------------\n",
      "Idionycteris phyllotis  -  Allen's Big-eared Bat ( mABEBx )\n",
      "Date Cached:  2017-07-26T15:49:10.190581\n"
     ]
    },
    {
     "data": {
      "text/plain": [
       "[{'POP_ABBREV': 'Wherever found',\n",
       "  'POP_DESC': 'Wherever found',\n",
       "  'STATUS': 'Species of Concern'}]"
      ]
     },
     "metadata": {},
     "output_type": "display_data"
    },
    {
     "name": "stdout",
     "output_type": "stream",
     "text": [
      "------------\n",
      "Plethodon welleri  -  Weller's Salamander ( aWLSAx )\n",
      "Date Cached:  2017-07-26T15:49:11.424691\n"
     ]
    },
    {
     "data": {
      "text/plain": [
       "[{'POP_ABBREV': 'Wherever found',\n",
       "  'POP_DESC': 'Wherever found',\n",
       "  'STATUS': 'Resolved Taxon'}]"
      ]
     },
     "metadata": {},
     "output_type": "display_data"
    },
    {
     "name": "stdout",
     "output_type": "stream",
     "text": [
      "------------\n",
      "Spermophilus franklinii  -  Franklin's Ground Squirrel ( mFGSQx )\n",
      "Not listed\n",
      "------------\n",
      "Agelaius phoeniceus  -  Red-winged Blackbird ( bRWBLx )\n",
      "Not listed\n",
      "------------\n",
      "Cerorhinca monocerata  -  Rhinoceros Auklet ( bRHAUx )\n",
      "Not listed\n",
      "------------\n",
      "Phalaropus fulicaria  -  Red Phalarope ( bREPHx )\n",
      "Not listed\n",
      "------------\n",
      "Buteo lagopus  -  Rough-legged Hawk ( bRLHAx )\n",
      "Not listed\n",
      "------------\n",
      "Catharus guttatus  -  Hermit Thrush ( bHETHx )\n",
      "Not listed\n",
      "------------\n",
      "Larus fuscus  -  Lesser Black-backed Gull ( bLBBGx )\n",
      "Not listed\n",
      "------------\n",
      "Terrapene carolina bauri  -  Florida Box Turtle ( rEBTUb )\n",
      "Not listed\n",
      "------------\n",
      "Enhydra lutris  -  Sea Otter ( mSEOTx )\n",
      "Not listed\n",
      "------------\n",
      "Gavia stellata  -  Red-throated Loon ( bRTLOx )\n",
      "Not listed\n",
      "------------\n",
      "Leopardus pardalis  -  Ocelot ( mOCELx )\n",
      "Not listed\n",
      "------------\n",
      "Poecile atricapilla  -  Black-capped Chickadee ( bBCCHx )\n",
      "Not listed\n",
      "------------\n",
      "Falco sparverius  -  American Kestrel ( bAMKEx )\n",
      "Not listed\n",
      "------------\n",
      "Batrachoseps regius  -  Kings River Slender Salamander ( aKRSSx )\n",
      "Date Cached:  2017-07-26T15:49:32.424810\n"
     ]
    },
    {
     "data": {
      "text/plain": [
       "[{'POP_ABBREV': 'Wherever found',\n",
       "  'POP_DESC': 'Wherever found',\n",
       "  'STATUS': 'Resolved Taxon'}]"
      ]
     },
     "metadata": {},
     "output_type": "display_data"
    },
    {
     "name": "stdout",
     "output_type": "stream",
     "text": [
      "------------\n",
      "Desmognathus santeetlah  -  Santeetlah Dusky Salamander ( aSADSx )\n",
      "Not listed\n",
      "------------\n",
      "Cinclus mexicanus  -  American Dipper ( bAMDIx )\n",
      "Not listed\n",
      "------------\n",
      "Apalone mutica  -  Smooth Softshell ( rSMSOx )\n",
      "Not listed\n",
      "------------\n",
      "Bogertophis subocularis  -  Trans-pecos Ratsnake ( rTPRAx )\n",
      "Not listed\n",
      "------------\n",
      "Tantilla oolitica  -  Rim Rock Crowned Snake ( rRRCSx )\n",
      "Date Cached:  2017-07-26T15:49:38.359787\n"
     ]
    },
    {
     "data": {
      "text/plain": [
       "[{'POP_ABBREV': 'Wherever found',\n",
       "  'POP_DESC': 'Wherever found',\n",
       "  'STATUS': 'Under Review in the Candidate or Petition Process'}]"
      ]
     },
     "metadata": {},
     "output_type": "display_data"
    },
    {
     "name": "stdout",
     "output_type": "stream",
     "text": [
      "------------\n",
      "Virginia valeriae  -  Smooth Earthsnake ( rSMEAx )\n",
      "Not listed\n",
      "------------\n",
      "Farancia abacura  -  Red-bellied Mudsnake ( rRBMUx )\n",
      "Not listed\n",
      "------------\n",
      "Plethodon jordani  -  Red-cheeked Salamander ( aRCSAx )\n",
      "Not listed\n",
      "------------\n",
      "Pituophis melanoleucus lodingi  -  Black Pinesnake ( rPINEl )\n",
      "Date Cached:  2017-07-26T15:49:44.159018\n"
     ]
    },
    {
     "data": {
      "text/plain": [
       "[{'LISTING_DATE': '2015-11-05',\n",
       "  'POP_ABBREV': 'Wherever found',\n",
       "  'POP_DESC': 'Wherever found',\n",
       "  'STATUS': 'Threatened'}]"
      ]
     },
     "metadata": {},
     "output_type": "display_data"
    },
    {
     "name": "stdout",
     "output_type": "stream",
     "text": [
      "------------\n",
      "Spiza americana  -  Dickcissel ( bDICKx )\n",
      "Not listed\n",
      "------------\n",
      "Buteogallus anthracinus  -  Common Black-hawk ( bCOBHx )\n",
      "Not listed\n",
      "------------\n",
      "Dumetella carolinensis  -  Gray Catbird ( bGRCAx )\n",
      "Not listed\n",
      "------------\n",
      "Arenaria melanocephala  -  Black Turnstone ( bBLTUx )\n",
      "Not listed\n",
      "------------\n",
      "Laterallus jamaicensis  -  Black Rail ( bBLRAx )\n",
      "Date Cached:  2017-07-26T15:49:49.685312\n"
     ]
    },
    {
     "data": {
      "text/plain": [
       "[{'POP_ABBREV': 'Wherever found',\n",
       "  'POP_DESC': 'Wherever found',\n",
       "  'STATUS': 'Under Review in the Candidate or Petition Process'}]"
      ]
     },
     "metadata": {},
     "output_type": "display_data"
    },
    {
     "name": "stdout",
     "output_type": "stream",
     "text": [
      "------------\n",
      "Myiarchus crinitus  -  Great Crested Flycatcher ( bGCFLx )\n",
      "Not listed\n",
      "------------\n",
      "Microtus townsendii pugeti  -  Shaw Island Vole ( mTOVOp )\n",
      "Date Cached:  2017-07-26T15:49:51.703923\n"
     ]
    },
    {
     "data": {
      "text/plain": [
       "[{'POP_ABBREV': 'Wherever found',\n",
       "  'POP_DESC': 'Wherever found',\n",
       "  'STATUS': 'Resolved Taxon'}]"
      ]
     },
     "metadata": {},
     "output_type": "display_data"
    },
    {
     "name": "stdout",
     "output_type": "stream",
     "text": [
      "------------\n",
      "Eumops underwoodi  -  Underwood's Mastiff Bat ( mUMBAx )\n",
      "Date Cached:  2017-07-26T15:49:52.740709\n"
     ]
    },
    {
     "data": {
      "text/plain": [
       "[{'POP_ABBREV': 'Wherever found',\n",
       "  'POP_DESC': 'Wherever found',\n",
       "  'STATUS': 'Species of Concern'}]"
      ]
     },
     "metadata": {},
     "output_type": "display_data"
    },
    {
     "name": "stdout",
     "output_type": "stream",
     "text": [
      "------------\n",
      "Marmota olympus  -  Olympic Marmot ( mOLMAx )\n",
      "Not listed\n",
      "------------\n",
      "Nyctinomops femorosaccus  -  Pocketed Free-tailed Bat ( mPFTBx )\n",
      "Not listed\n",
      "------------\n",
      "Vireo cassinii  -  Cassin's Vireo ( bCAVIx )\n",
      "Not listed\n",
      "------------\n",
      "Larus philadelphia  -  Bonaparte's Gull ( bBOGUx )\n",
      "Not listed\n",
      "------------\n",
      "Rhineura floridana  -  Florida Wormlizard ( rFLWOx )\n",
      "Not listed\n",
      "------------\n",
      "Chaetura pelagica  -  Chimney Swift ( bCHSWx )\n",
      "Not listed\n",
      "------------\n",
      "Onychomys leucogaster  -  Northern Grasshopper Mouse ( mNGMOx )\n",
      "Not listed\n",
      "------------\n",
      "Baiomys taylori  -  Northern Pygmy Mouse ( mNPYMx )\n",
      "Not listed\n",
      "------------\n",
      "Sciurus aureogaster  -  Red-bellied Squirrel ( mRBSQx )\n",
      "Not listed\n",
      "------------\n",
      "Cynomys ludovicianus  -  Black-tailed Prairie Dog ( mPTPDx )\n",
      "Date Cached:  2017-07-26T15:50:04.181627\n"
     ]
    },
    {
     "data": {
      "text/plain": [
       "[{'POP_ABBREV': 'Wherever found',\n",
       "  'POP_DESC': 'Wherever found',\n",
       "  'STATUS': 'Resolved Taxon'}]"
      ]
     },
     "metadata": {},
     "output_type": "display_data"
    },
    {
     "name": "stdout",
     "output_type": "stream",
     "text": [
      "------------\n",
      "Oreoscoptes montanus  -  Sage Thrasher ( bSATHx )\n",
      "Date Cached:  2017-07-26T15:50:05.187722\n"
     ]
    },
    {
     "data": {
      "text/plain": [
       "[{'POP_ABBREV': 'Wherever found',\n",
       "  'POP_DESC': 'Wherever found',\n",
       "  'STATUS': 'Species of Concern'}]"
      ]
     },
     "metadata": {},
     "output_type": "display_data"
    },
    {
     "name": "stdout",
     "output_type": "stream",
     "text": [
      "------------\n",
      "Eurycea pterophila  -  Fern Bank Salamander ( aFBSAx )\n",
      "Not listed\n",
      "------------\n",
      "Brachylagus idahoensis pop. 2  -  Pygmy Rabbit (Columbia Basin Population) ( mPYRAc )\n",
      "Not listed\n",
      "------------\n",
      "Limnodromus scolopaceus  -  Long-billed Dowitcher ( bLBDOx )\n",
      "Not listed\n",
      "------------\n",
      "Toxostoma longirostre  -  Long-billed Thrasher ( bLBTHx )\n",
      "Not listed\n",
      "------------\n",
      "Charadrius alexandrinus  -  Snowy Plover ( bSNPLx )\n",
      "Not listed\n",
      "------------\n",
      "Batrachoseps pacificus  -  Channel Islands Slender Salamander ( aCISSx )\n",
      "Not listed\n",
      "------------\n",
      "Lithobates chiricahuensis  -  Chiricahua Leopard Frog ( aCLFRx )\n",
      "Not listed\n",
      "------------\n",
      "Oceanodroma leucorhoa  -  Leach's Storm-petrel ( bLESPx )\n",
      "Not listed\n",
      "------------\n",
      "Sternula antillarum  -  Least Tern ( bLETEx )\n",
      "Not listed\n",
      "------------\n",
      "Pseudacris brimleyi  -  Brimley's Chorus Frog ( aBRFRx )\n",
      "Not listed\n",
      "------------\n",
      "Plethodon nettingi  -  Cheat Mountain Salamander ( aCMTSx )\n",
      "Date Cached:  2017-07-26T15:50:18.617399\n"
     ]
    },
    {
     "data": {
      "text/plain": [
       "[{'LISTING_DATE': '1989-08-18',\n",
       "  'POP_ABBREV': 'Wherever found',\n",
       "  'POP_DESC': 'Wherever found',\n",
       "  'STATUS': 'Threatened'}]"
      ]
     },
     "metadata": {},
     "output_type": "display_data"
    },
    {
     "name": "stdout",
     "output_type": "stream",
     "text": [
      "------------\n",
      "Aramus guarauna  -  Limpkin ( bLIMPx )\n",
      "Not listed\n",
      "------------\n",
      "Sorex hoyi  -  American Pygmy Shrew ( mAPSHx )\n",
      "Not listed\n",
      "------------\n",
      "Ixobrychus exilis  -  Least Bittern ( bLEBIx )\n",
      "Date Cached:  2017-07-26T15:50:21.918581\n"
     ]
    },
    {
     "data": {
      "text/plain": [
       "[{'POP_ABBREV': 'Wherever found',\n",
       "  'POP_DESC': 'Wherever found',\n",
       "  'STATUS': 'Species of Concern'}]"
      ]
     },
     "metadata": {},
     "output_type": "display_data"
    },
    {
     "name": "stdout",
     "output_type": "stream",
     "text": [
      "------------\n",
      "Egretta tricolor  -  Tricolored Heron ( bTRHEx )\n",
      "Not listed\n",
      "------------\n",
      "Scaphiopus couchii  -  Couch's Spadefoot ( aCOSPx )\n",
      "Not listed\n",
      "------------\n",
      "Lepus townsendii  -  White-tailed Jackrabbit ( mWTJAx )\n",
      "Not listed\n",
      "------------\n",
      "Hemitragus jemlahicus  -  Himalayan Tahr ( mHITAx )\n",
      "Not listed\n",
      "------------\n",
      "Rana pretiosa  -  Oregon Spotted Frog ( aORFRx )\n",
      "Date Cached:  2017-07-26T15:50:29.132160\n"
     ]
    },
    {
     "data": {
      "text/plain": [
       "[{'LISTING_DATE': '2014-09-29',\n",
       "  'POP_ABBREV': 'Wherever found',\n",
       "  'POP_DESC': 'Wherever found',\n",
       "  'STATUS': 'Threatened'}]"
      ]
     },
     "metadata": {},
     "output_type": "display_data"
    },
    {
     "name": "stdout",
     "output_type": "stream",
     "text": [
      "------------\n",
      "Pseudacris clarkii  -  Spotted Chorus Frog ( aSPFRx )\n",
      "Not listed\n",
      "------------\n",
      "Lampropeltis calligaster  -  Yellow-bellied Kingsnake ( rYBKIx )\n",
      "Not listed\n",
      "------------\n",
      "Aimophila cassinii  -  Cassin's Sparrow ( bCASPx )\n",
      "Date Cached:  2017-07-26T15:50:33.436314\n"
     ]
    },
    {
     "data": {
      "text/plain": [
       "[{'POP_ABBREV': 'Wherever found',\n",
       "  'POP_DESC': 'Wherever found',\n",
       "  'STATUS': 'Species of Concern'}]"
      ]
     },
     "metadata": {},
     "output_type": "display_data"
    },
    {
     "name": "stdout",
     "output_type": "stream",
     "text": [
      "------------\n",
      "Dendragapus obscurus  -  Dusky Grouse ( bDUGRx )\n",
      "Not listed\n",
      "------------\n",
      "Desmognathus wrighti  -  Pygmy Salamander ( aPYSAx )\n",
      "Date Cached:  2017-07-26T15:50:37.303423\n"
     ]
    },
    {
     "data": {
      "text/plain": [
       "[{'POP_ABBREV': 'Wherever found',\n",
       "  'POP_DESC': 'Wherever found',\n",
       "  'STATUS': 'Species of Concern'}]"
      ]
     },
     "metadata": {},
     "output_type": "display_data"
    },
    {
     "name": "stdout",
     "output_type": "stream",
     "text": [
      "------------\n",
      "Hyla chrysoscelis  -  Cope's Gray Treefrog ( aCGTRx )\n",
      "Not listed\n",
      "------------\n",
      "Myotis auriculus  -  Southwestern Myotis ( mSWMYx )\n",
      "Not listed\n",
      "------------\n",
      "Anaxyrus speciosus  -  Texas Toad ( aTETOx )\n",
      "Not listed\n",
      "------------\n",
      "Egretta caerulea  -  Little Blue Heron ( bLBHEx )\n",
      "Not listed\n",
      "------------\n",
      "Sternula antillarum browni  -  California Least Tern ( bLETEb )\n",
      "Not listed\n",
      "------------\n",
      "Ammodramus maritimus  -  Seaside Sparrow ( bSESPx )\n",
      "Not listed\n",
      "------------\n",
      "Vireo gilvus  -  Warbling Vireo ( bWAVIx )\n",
      "Not listed\n",
      "------------\n",
      "Cyrtonyx montezumae  -  Montezuma Quail ( bMONQx )\n",
      "Not listed\n",
      "------------\n",
      "Dendroica kirtlandii  -  Kirtland's Warbler ( bKIWAx )\n",
      "Not listed\n",
      "------------\n",
      "Charadrius vociferus  -  Killdeer ( bKILLx )\n",
      "Not listed\n",
      "------------\n",
      "Melospiza lincolnii  -  Lincoln's Sparrow ( bLISPx )\n",
      "Date Cached:  2017-07-26T15:51:03.050330\n"
     ]
    },
    {
     "data": {
      "text/plain": [
       "[{'POP_ABBREV': 'Wherever found',\n",
       "  'POP_DESC': 'Wherever found',\n",
       "  'STATUS': 'Species of Concern'}]"
      ]
     },
     "metadata": {},
     "output_type": "display_data"
    },
    {
     "name": "stdout",
     "output_type": "stream",
     "text": [
      "------------\n",
      "Vermivora celata  -  Orange-crowned Warbler ( bOCWAx )\n",
      "Not listed\n",
      "------------\n",
      "Chondrohierax uncinatus  -  Hook-billed Kite ( bHBKIx )\n",
      "Not listed\n",
      "------------\n",
      "Icterus cucullatus  -  Hooded Oriole ( bHOORx )\n",
      "Not listed\n",
      "------------\n",
      "Calidris alba  -  Sanderling ( bSANDx )\n",
      "Not listed\n",
      "------------\n",
      "Thalasseus sandvicensis  -  Sandwich Tern ( bSATEx )\n",
      "Not listed\n",
      "------------\n",
      "Chaetodipus rudinoris  -  Baja California Pocket Mouse ( mBCPMx )\n",
      "Not listed\n",
      "------------\n",
      "Numenius americanus  -  Long-billed Curlew ( bLBCUx )\n",
      "Date Cached:  2017-07-26T15:51:14.222024\n"
     ]
    },
    {
     "data": {
      "text/plain": [
       "[{'POP_ABBREV': 'Wherever found',\n",
       "  'POP_DESC': 'Wherever found',\n",
       "  'STATUS': 'Resolved Taxon'}]"
      ]
     },
     "metadata": {},
     "output_type": "display_data"
    },
    {
     "name": "stdout",
     "output_type": "stream",
     "text": [
      "------------\n",
      "Calcarius pictus  -  Smith's  Longspur ( bSMLOx )\n",
      "Not listed\n",
      "------------\n",
      "Strix occidentalis caurina  -  Northern Spotted Owl ( bSPOWc )\n",
      "Date Cached:  2017-07-26T15:51:16.167241\n"
     ]
    },
    {
     "data": {
      "text/plain": [
       "[{'LISTING_DATE': '1990-06-26',\n",
       "  'POP_ABBREV': 'Wherever found',\n",
       "  'POP_DESC': 'Wherever found',\n",
       "  'STATUS': 'Threatened'}]"
      ]
     },
     "metadata": {},
     "output_type": "display_data"
    },
    {
     "name": "stdout",
     "output_type": "stream",
     "text": [
      "------------\n",
      "Glaucomys sabrinus  -  Northern Flying Squirrel ( mNFSQx )\n",
      "Not listed\n",
      "------------\n",
      "Tachycineta bicolor  -  Tree Swallow ( bTRESx )\n",
      "Not listed\n",
      "------------\n",
      "Peromyscus boylii  -  Brush Deermouse ( mBRDEx )\n",
      "Not listed\n",
      "------------\n",
      "Anaxyrus fowleri  -  Fowler's Toad ( aFOTOx )\n",
      "Not listed\n",
      "------------\n",
      "Urocyon littoralis clementae  -  San Clemente Island Fox ( mISFOl )\n",
      "Date Cached:  2017-07-26T15:51:24.079310\n"
     ]
    },
    {
     "data": {
      "text/plain": [
       "[{'POP_ABBREV': 'Wherever found',\n",
       "  'POP_DESC': 'Wherever found',\n",
       "  'STATUS': 'Species of Concern'}]"
      ]
     },
     "metadata": {},
     "output_type": "display_data"
    },
    {
     "name": "stdout",
     "output_type": "stream",
     "text": [
      "------------\n",
      "Meleagris gallopavo mexicana  -  Mexican Turkey ( bWITUi )\n",
      "Not listed\n",
      "------------\n",
      "Synaptomys borealis  -  Northern Bog Lemming ( mNBLEx )\n",
      "Not listed\n",
      "------------\n",
      "Mycteria americana  -  Wood Stork ( bWOSTx )\n",
      "Date Cached:  2017-07-26T15:51:29.400889\n"
     ]
    },
    {
     "data": {
      "text/plain": [
       "[{'LISTING_DATE': '1984-02-28',\n",
       "  'POP_ABBREV': 'AL, FL, GA, MS, NC, SC',\n",
       "  'POP_DESC': 'U.S.A. (AL, FL, GA, MS, NC, SC)',\n",
       "  'STATUS': 'Threatened'}]"
      ]
     },
     "metadata": {},
     "output_type": "display_data"
    },
    {
     "name": "stdout",
     "output_type": "stream",
     "text": [
      "------------\n",
      "Lepus californicus  -  Black-tailed Jackrabbit ( mBTJAx )\n",
      "Not listed\n",
      "------------\n",
      "Plethodon fourchensis  -  Fourch Mountain Salamander ( aFMSAx )\n",
      "Date Cached:  2017-07-26T15:51:32.149783\n"
     ]
    },
    {
     "data": {
      "text/plain": [
       "[{'POP_ABBREV': 'Wherever found',\n",
       "  'POP_DESC': 'Wherever found',\n",
       "  'STATUS': 'Resolved Taxon'}]"
      ]
     },
     "metadata": {},
     "output_type": "display_data"
    },
    {
     "name": "stdout",
     "output_type": "stream",
     "text": [
      "------------\n",
      "Anas discors  -  Blue-winged Teal ( bBWTEx )\n",
      "Not listed\n",
      "------------\n",
      "Euderma maculatum  -  Spotted Bat ( mSPBAx )\n",
      "Date Cached:  2017-07-26T15:51:35.047530\n"
     ]
    },
    {
     "data": {
      "text/plain": [
       "[{'POP_ABBREV': 'Wherever found',\n",
       "  'POP_DESC': 'Wherever found',\n",
       "  'STATUS': 'Species of Concern'}]"
      ]
     },
     "metadata": {},
     "output_type": "display_data"
    },
    {
     "name": "stdout",
     "output_type": "stream",
     "text": [
      "------------\n",
      "Glaucidium brasilianum cactorum  -  Cactus Ferruginous Pygmy-owl ( bFEPOc )\n",
      "Date Cached:  2017-07-26T15:51:36.313447\n"
     ]
    },
    {
     "data": {
      "text/plain": [
       "[{'LISTING_DATE': '1997-03-10',\n",
       "  'POP_ABBREV': 'AZ pop.',\n",
       "  'POP_DESC': 'U.S.A. (AZ)',\n",
       "  'STATUS': 'Original Data in Error - Erroneous Data'}]"
      ]
     },
     "metadata": {},
     "output_type": "display_data"
    },
    {
     "name": "stdout",
     "output_type": "stream",
     "text": [
      "------------\n",
      "Glaucidium brasilianum  -  Ferruginous Pygmy-owl ( bFEPOx )\n",
      "Not listed\n",
      "------------\n",
      "Anaxyrus baxteri  -  Wyoming Toad ( aWYTOx )\n",
      "Not listed\n",
      "------------\n",
      "Empidonax hammondii  -  Hammond's Flycatcher ( bHAFLx )\n",
      "Not listed\n",
      "------------\n",
      "Aplodontia rufa humboldtiana  -  Mountain Beaver humboldtiana ( mSEWEh )\n",
      "Not listed\n",
      "------------\n",
      "Eumops glaucinus  -  Wagner's Bonneted Bat ( mWBBAx )\n",
      "Not listed\n",
      "------------\n",
      "Micrurus fulvius  -  Harlequin Coralsnake ( rHACOx )\n",
      "Not listed\n",
      "------------\n",
      "Spermophilus lateralis bernardinus  -  San Bernardino Golden-mantled Ground Squirrel ( mGMGSb )\n",
      "Not listed\n",
      "------------\n",
      "Vermivora peregrina  -  Tennessee Warbler ( bTEWAx )\n",
      "Not listed\n",
      "------------\n",
      "Spermophilus beldingi  -  Belding's Ground Squirrel ( mBGSQx )\n",
      "Not listed\n",
      "------------\n",
      "Athene cunicularia  -  Burrowing Owl ( bBUOWx )\n",
      "Date Cached:  2017-07-26T15:51:54.862796\n"
     ]
    },
    {
     "data": {
      "text/plain": [
       "[{'POP_ABBREV': 'Wherever found',\n",
       "  'POP_DESC': 'Wherever found',\n",
       "  'STATUS': 'Species of Concern'}]"
      ]
     },
     "metadata": {},
     "output_type": "display_data"
    },
    {
     "name": "stdout",
     "output_type": "stream",
     "text": [
      "------------\n",
      "Amazilia yucatanensis  -  Buff-bellied Hummingbird ( bBBEHx )\n",
      "Not listed\n",
      "------------\n",
      "Pluvialis squatarola  -  Black-bellied Plover ( bBBPLx )\n",
      "Not listed\n",
      "------------\n",
      "Contopus virens  -  Eastern Wood-pewee ( bEAWPx )\n",
      "Not listed\n",
      "------------\n",
      "Ceryle alcyon  -  Belted Kingfisher ( bBEKIx )\n",
      "Not listed\n",
      "------------\n",
      "Picoides pubescens  -  Downy Woodpecker ( bDOWOx )\n",
      "Not listed\n",
      "------------\n",
      "Plethodon asupak  -  Scott Bar Salamander ( aSCSAx )\n",
      "Date Cached:  2017-07-26T15:52:05.459060\n"
     ]
    },
    {
     "data": {
      "text/plain": [
       "[{'POP_ABBREV': 'Wherever found',\n",
       "  'POP_DESC': 'Wherever found',\n",
       "  'STATUS': 'Resolved Taxon'}]"
      ]
     },
     "metadata": {},
     "output_type": "display_data"
    },
    {
     "name": "stdout",
     "output_type": "stream",
     "text": [
      "------------\n",
      "Desmognathus aeneus  -  Seepage Salamander ( aSEESx )\n",
      "Date Cached:  2017-07-26T15:52:06.444001\n"
     ]
    },
    {
     "data": {
      "text/plain": [
       "[{'POP_ABBREV': 'Wherever found',\n",
       "  'POP_DESC': 'Wherever found',\n",
       "  'STATUS': 'Under Review in the Candidate or Petition Process'}]"
      ]
     },
     "metadata": {},
     "output_type": "display_data"
    },
    {
     "name": "stdout",
     "output_type": "stream",
     "text": [
      "------------\n",
      "Pseudacris sierra  -  Sierran Treefrog ( aSITRx )\n",
      "Not listed\n",
      "------------\n",
      "Plethodon yonahlossee  -  Yonahlossee Salamander ( aYOSAx )\n",
      "Not listed\n",
      "------------\n",
      "Sturnella magna  -  Eastern Meadowlark ( bEAMEx )\n",
      "Not listed\n",
      "------------\n",
      "Hypopachus variolosus  -  Sheep Frog ( aSHFRx )\n",
      "Not listed\n",
      "------------\n",
      "Dipodomys microps  -  Chisel-toothed Kangaroo Rat ( mCTKRx )\n",
      "Not listed\n",
      "------------\n",
      "Lampropeltis alterna  -  Gray-banded Kingsnake ( rGBKIx )\n",
      "Not listed\n",
      "------------\n",
      "Gambelia wislizenii  -  Long-nosed Leopard Lizard ( rLNLLx )\n",
      "Not listed\n",
      "------------\n",
      "Conepatus leuconotus  -  American Hog-nosed Skunk ( mAHNSx )\n",
      "Not listed\n",
      "------------\n",
      "Uma inornata  -  Coachella Fringe-toed Lizard ( rCFTLx )\n",
      "Date Cached:  2017-07-26T15:52:21.120731\n"
     ]
    },
    {
     "data": {
      "text/plain": [
       "[{'LISTING_DATE': '1980-09-25',\n",
       "  'POP_ABBREV': 'Wherever found',\n",
       "  'POP_DESC': 'Wherever found',\n",
       "  'STATUS': 'Threatened'}]"
      ]
     },
     "metadata": {},
     "output_type": "display_data"
    },
    {
     "name": "stdout",
     "output_type": "stream",
     "text": [
      "------------\n",
      "Hypsiglena chlorophaea  -  Desert Nightsnake ( rDENIx )\n",
      "Not listed\n",
      "------------\n",
      "Ophisaurus ventralis  -  Eastern Glass Lizard ( rEGLIx )\n",
      "Not listed\n",
      "------------\n",
      "Thamnophis cyrtopsis  -  Black-necked Gartersnake ( rBNGAx )\n",
      "Not listed\n",
      "------------\n",
      "Sceloporus graciosus  -  Common Sagebrush Lizard ( rCOSLx )\n",
      "Not listed\n",
      "------------\n",
      "Sorex arcticus  -  Arctic Shrew ( mACSHx )\n",
      "Not listed\n",
      "------------\n",
      "Antilocapra americana sonoriensis  -  Sonoran Pronghorn ( mPRONs )\n",
      "Date Cached:  2017-07-26T15:52:31.819778\n"
     ]
    },
    {
     "data": {
      "text/plain": [
       "[{'LISTING_DATE': '2011-05-05',\n",
       "  'POP_ABBREV': 'U.S.A. (AZ), Mexico',\n",
       "  'POP_DESC': 'In Arizona, an area north of Interstate 8 and south of Interstate 10, bounded by the Colorado River on the west and Interstate 10 on the east, and an area south of Interstate 8, bounded by Highway 85 on the west, Interstates 10 and 19 on the east, and the U.S.-Mexico border on the south',\n",
       "  'STATUS': 'Experimental Population, Non-Essential'},\n",
       " {'LISTING_DATE': '1967-03-11',\n",
       "  'POP_ABBREV': 'Wherever found, except where listed as an experimental population',\n",
       "  'POP_DESC': 'Wherever found, except where listed as an experimental population',\n",
       "  'STATUS': 'Endangered'}]"
      ]
     },
     "metadata": {},
     "output_type": "display_data"
    },
    {
     "name": "stdout",
     "output_type": "stream",
     "text": [
      "------------\n",
      "Melanitta nigra  -  Black Scoter ( bBLSCx )\n",
      "Not listed\n",
      "------------\n",
      "Leucosticte atrata  -  Black Rosy-finch ( bBLRFx )\n",
      "Date Cached:  2017-07-26T15:52:34.415387\n"
     ]
    },
    {
     "data": {
      "text/plain": [
       "[{'POP_ABBREV': 'Wherever found',\n",
       "  'POP_DESC': 'Wherever found',\n",
       "  'STATUS': 'Species of Concern'}]"
      ]
     },
     "metadata": {},
     "output_type": "display_data"
    },
    {
     "name": "stdout",
     "output_type": "stream",
     "text": [
      "------------\n",
      "Lynx canadensis  -  Canadian Lynx ( mCALYx )\n",
      "Date Cached:  2017-07-26T15:52:35.565223\n"
     ]
    },
    {
     "data": {
      "text/plain": [
       "[{'LISTING_DATE': '2000-03-24',\n",
       "  'POP_ABBREV': 'Contiguous U.S. DPS',\n",
       "  'POP_DESC': 'Wherever Found in Contiguous U.S.',\n",
       "  'STATUS': 'Threatened'}]"
      ]
     },
     "metadata": {},
     "output_type": "display_data"
    },
    {
     "name": "stdout",
     "output_type": "stream",
     "text": [
      "------------\n",
      "Troglodytes troglodytes  -  Winter Wren ( bWIWRx )\n",
      "Not listed\n",
      "------------\n",
      "Microtus californicus scirpensis  -  Amargosa Vole ( mCAVOc )\n",
      "Date Cached:  2017-07-26T15:52:37.922127\n"
     ]
    },
    {
     "data": {
      "text/plain": [
       "[{'LISTING_DATE': '1984-11-15',\n",
       "  'POP_ABBREV': 'Wherever found',\n",
       "  'POP_DESC': 'Wherever found',\n",
       "  'STATUS': 'Endangered'}]"
      ]
     },
     "metadata": {},
     "output_type": "display_data"
    },
    {
     "name": "stdout",
     "output_type": "stream",
     "text": [
      "------------\n",
      "Tamias minimus chuskaensis  -  Chuska Mountain Chipmunk ( mLECHc )\n",
      "Not listed\n",
      "------------\n",
      "Perdix perdix  -  Gray Partridge ( bGRAPx )\n",
      "Not listed\n",
      "------------\n",
      "Dendroica occidentalis  -  Hermit Warbler ( bHEWAx )\n",
      "Not listed\n",
      "------------\n",
      "Pseudacris brachyphona  -  Mountain Chorus Frog ( aMCFRx )\n",
      "Not listed\n",
      "------------\n",
      "Otus flammeolus  -  Flammulated Owl ( bFLOWx )\n",
      "Date Cached:  2017-07-26T15:52:44.250844\n"
     ]
    },
    {
     "data": {
      "text/plain": [
       "[{'POP_ABBREV': 'Wherever found',\n",
       "  'POP_DESC': 'Wherever found',\n",
       "  'STATUS': 'Status Undefined'}]"
      ]
     },
     "metadata": {},
     "output_type": "display_data"
    },
    {
     "name": "stdout",
     "output_type": "stream",
     "text": [
      "------------\n",
      "Sciurus aberti  -  Abert's Squirrel ( mABSQx )\n",
      "Not listed\n",
      "------------\n",
      "Numenius phaeopus  -  Whimbrel ( bWHIMx )\n",
      "Date Cached:  2017-07-26T15:52:46.280214\n"
     ]
    },
    {
     "data": {
      "text/plain": [
       "[{'POP_ABBREV': 'Wherever found',\n",
       "  'POP_DESC': 'Wherever found',\n",
       "  'STATUS': 'Species of Concern'}]"
      ]
     },
     "metadata": {},
     "output_type": "display_data"
    },
    {
     "name": "stdout",
     "output_type": "stream",
     "text": [
      "------------\n",
      "Neotoma micropus  -  Southern Plains Woodrat ( mSPWOx )\n",
      "Not listed\n",
      "------------\n",
      "Aspidoscelis gypsi  -  Little White Whiptail ( rLWWHx )\n",
      "Not listed\n",
      "------------\n",
      "Chaetodipus intermedius  -  Rock Pocket Mouse ( mRPMOx )\n",
      "Not listed\n",
      "------------\n",
      "Tamias ruficaudus  -  Red-tailed Chipmunk ( mRTCHx )\n",
      "Not listed\n",
      "------------\n",
      "Ambystoma jeffersonianum  -  Jefferson Salamander ( aJESAx )\n",
      "Not listed\n",
      "------------\n",
      "Plethodon ouachitae  -  Rich Mountain Salamander ( aRMSAx )\n",
      "Date Cached:  2017-07-26T15:52:52.558955\n"
     ]
    },
    {
     "data": {
      "text/plain": [
       "[{'POP_ABBREV': 'Wherever found',\n",
       "  'POP_DESC': 'Wherever found',\n",
       "  'STATUS': 'Resolved Taxon'}]"
      ]
     },
     "metadata": {},
     "output_type": "display_data"
    },
    {
     "name": "stdout",
     "output_type": "stream",
     "text": [
      "------------\n",
      "Nerodia erythrogaster  -  Plain-bellied Watersnake ( rPBWAx )\n",
      "Not listed\n",
      "------------\n",
      "Pituophis melanoleucus mugitus  -  Florida Pinesnake ( rPINEu )\n",
      "Date Cached:  2017-07-26T15:52:54.734068\n"
     ]
    },
    {
     "data": {
      "text/plain": [
       "[{'POP_ABBREV': 'Wherever found',\n",
       "  'POP_DESC': 'Wherever found',\n",
       "  'STATUS': 'Under Review in the Candidate or Petition Process'}]"
      ]
     },
     "metadata": {},
     "output_type": "display_data"
    },
    {
     "name": "stdout",
     "output_type": "stream",
     "text": [
      "------------\n",
      "Plestiodon septentrionalis  -  Prairie Skink ( rPRSKx )\n",
      "Not listed\n",
      "------------\n",
      "Opheodrys aestivus  -  Rough Greensnake ( rROGRx )\n",
      "Not listed\n",
      "------------\n",
      "Pituophis melanoleucus  -  Pinesnake ( rPINEx )\n",
      "Not listed\n",
      "------------\n",
      "Phyllodactylus nocticolus  -  Peninsular Leaf-toed Gecko ( rPLTGx )\n",
      "Not listed\n",
      "------------\n",
      "Gopherus berlandieri  -  Texas Tortoise ( rTXTOx )\n",
      "Not listed\n",
      "------------\n",
      "Aspidoscelis pai  -  Pai Striped Whiptail ( rPASWx )\n",
      "Not listed\n",
      "------------\n",
      "Sceloporus virgatus  -  Striped Plateau Lizard ( rSPLIx )\n",
      "Not listed\n",
      "------------\n",
      "Tantilla cucullata  -  Trans-pecos Black-Headed Snake ( rTBHSx )\n",
      "Not listed\n",
      "------------\n",
      "Lasiurus xanthinus  -  Western Yellow Bat ( mWYBAx )\n",
      "Not listed\n",
      "------------\n",
      "Aspidoscelis sexlineata  -  Six-lined Racerunner ( rSLRAx )\n",
      "Not listed\n",
      "------------\n",
      "Pseudemys alabamensis  -  Alabama Red-bellied Cooter ( rARBCx )\n",
      "Date Cached:  2017-07-26T15:53:10.170345\n"
     ]
    },
    {
     "data": {
      "text/plain": [
       "[{'LISTING_DATE': '1987-06-16',\n",
       "  'POP_ABBREV': 'Wherever found',\n",
       "  'POP_DESC': 'Wherever found',\n",
       "  'STATUS': 'Endangered'}]"
      ]
     },
     "metadata": {},
     "output_type": "display_data"
    },
    {
     "name": "stdout",
     "output_type": "stream",
     "text": [
      "------------\n",
      "Aspidoscelis arizonae  -  Arizona Striped Whiptail ( rASWHx )\n",
      "Not listed\n",
      "------------\n",
      "Ambystoma gracile  -  Northwestern Salamander ( aNOSAx )\n",
      "Not listed\n",
      "------------\n",
      "Calypte costae  -  Costa's Hummingbird ( bCOHUx )\n",
      "Date Cached:  2017-07-26T15:53:14.202290\n"
     ]
    },
    {
     "data": {
      "text/plain": [
       "[{'POP_ABBREV': 'Wherever found',\n",
       "  'POP_DESC': 'Wherever found',\n",
       "  'STATUS': 'Species of Concern'}]"
      ]
     },
     "metadata": {},
     "output_type": "display_data"
    },
    {
     "name": "stdout",
     "output_type": "stream",
     "text": [
      "------------\n",
      "Elgaria kingii  -  Madrean Alligator Lizard ( rMALIx )\n",
      "Not listed\n",
      "------------\n",
      "Neotoma leucodon  -  White-toothed Woodrat ( mWTWOx )\n",
      "Not listed\n",
      "------------\n",
      "Callisaurus draconoides  -  Zebra-tailed Lizard ( rZTLIx )\n",
      "Not listed\n",
      "------------\n",
      "Eurycea aquatica  -  Dark-sided Salamander ( aDASAx )\n",
      "Date Cached:  2017-07-26T15:53:19.128564\n"
     ]
    },
    {
     "data": {
      "text/plain": [
       "[{'POP_ABBREV': 'Wherever found',\n",
       "  'POP_DESC': 'Wherever found',\n",
       "  'STATUS': 'Species of Concern'}]"
      ]
     },
     "metadata": {},
     "output_type": "display_data"
    },
    {
     "name": "stdout",
     "output_type": "stream",
     "text": [
      "------------\n",
      "Gavia immer  -  Common Loon ( bCOLOx )\n",
      "Not listed\n",
      "------------\n",
      "Amphispiza belli canescens  -  Sage Sparrow canescens ( bSAGSa )\n",
      "Not listed\n",
      "------------\n",
      "Aspidoscelis dixoni  -  Gray Checkered Whiptail ( rGCWHx )\n",
      "Not listed\n",
      "------------\n",
      "Xantusia vigilis  -  Desert Night Lizard ( rDNLIx )\n",
      "Not listed\n",
      "------------\n",
      "Microtus canicaudus  -  Gray-tailed Vole ( mGTVOx )\n",
      "Not listed\n",
      "------------\n",
      "Batrachoseps diabolicus  -  Hell Hollow Slender Salamander ( aHHSSx )\n",
      "Not listed\n",
      "------------\n",
      "Dipodomys stephensi  -  Stephen's Kangaroo Rat ( mSKRAx )\n",
      "Not listed\n",
      "------------\n",
      "Thamnophis hammondii  -  Two-striped Gartersnake ( rTSGAx )\n",
      "Date Cached:  2017-07-26T15:53:30.031455\n"
     ]
    },
    {
     "data": {
      "text/plain": [
       "[{'POP_ABBREV': 'Wherever found',\n",
       "  'POP_DESC': 'Wherever found',\n",
       "  'STATUS': 'Species of Concern'}]"
      ]
     },
     "metadata": {},
     "output_type": "display_data"
    },
    {
     "name": "stdout",
     "output_type": "stream",
     "text": [
      "------------\n",
      "Laterallus jamaicensis coturniculus  -  California Black Rail ( bBLRAc )\n",
      "Date Cached:  2017-07-26T15:53:38.476706\n"
     ]
    },
    {
     "data": {
      "text/plain": [
       "[{'POP_ABBREV': 'Wherever found',\n",
       "  'POP_DESC': 'Wherever found',\n",
       "  'STATUS': 'Under Review in the Candidate or Petition Process'}]"
      ]
     },
     "metadata": {},
     "output_type": "display_data"
    },
    {
     "name": "stdout",
     "output_type": "stream",
     "text": [
      "------------\n",
      "Amphiuma means  -  Two-toed Amphiuma ( aTWAMx )\n",
      "Not listed\n",
      "------------\n",
      "Aspidoscelis burti  -  Canyon Spotted Whiptail ( rCSWHx )\n",
      "Not listed\n",
      "------------\n",
      "Phrynosoma mcallii  -  Flat-tailed Horned Lizard ( rFTHLx )\n",
      "Date Cached:  2017-07-26T15:53:46.367763\n"
     ]
    },
    {
     "data": {
      "text/plain": [
       "[{'POP_ABBREV': 'Wherever found',\n",
       "  'POP_DESC': 'Wherever found',\n",
       "  'STATUS': 'Resolved Taxon'}]"
      ]
     },
     "metadata": {},
     "output_type": "display_data"
    },
    {
     "name": "stdout",
     "output_type": "stream",
     "text": [
      "------------\n",
      "Plethodon amplus  -  Blue Ridge Gray-cheeked Salamander ( aBGCSx )\n",
      "Date Cached:  2017-07-26T15:53:49.404748\n"
     ]
    },
    {
     "data": {
      "text/plain": [
       "[{'POP_ABBREV': 'Wherever found',\n",
       "  'POP_DESC': 'Wherever found',\n",
       "  'STATUS': 'Resolved Taxon'}]"
      ]
     },
     "metadata": {},
     "output_type": "display_data"
    },
    {
     "name": "stdout",
     "output_type": "stream",
     "text": [
      "------------\n",
      "Icterus graduacauda  -  Audubon's Oriole ( bAUORx )\n",
      "Not listed\n",
      "------------\n",
      "Tamias siskiyou  -  Siskiyou Chipmunk ( mSICHx )\n",
      "Not listed\n",
      "------------\n",
      "Dicamptodon tenebrosus  -  Coastal Giant Salamander ( aCOGSx )\n",
      "Not listed\n",
      "------------\n",
      "Aneides hardii  -  Sacramento Mountains Salamander ( aSMTSx )\n",
      "Date Cached:  2017-07-26T15:53:53.593612\n"
     ]
    },
    {
     "data": {
      "text/plain": [
       "[{'POP_ABBREV': 'Wherever found',\n",
       "  'POP_DESC': 'Wherever found',\n",
       "  'STATUS': 'Species of Concern'}]"
      ]
     },
     "metadata": {},
     "output_type": "display_data"
    },
    {
     "name": "stdout",
     "output_type": "stream",
     "text": [
      "------------\n",
      "Nerodia cyclopion  -  Mississippi Green Watersnake ( rMSWAx )\n",
      "Not listed\n",
      "------------\n",
      "Odocoileus virginianus clavium  -  Key Deer ( mWTDEc )\n",
      "Date Cached:  2017-07-26T15:53:56.922087\n"
     ]
    },
    {
     "data": {
      "text/plain": [
       "[{'LISTING_DATE': '1967-03-11',\n",
       "  'POP_ABBREV': 'Wherever found',\n",
       "  'POP_DESC': 'Wherever found',\n",
       "  'STATUS': 'Endangered'}]"
      ]
     },
     "metadata": {},
     "output_type": "display_data"
    },
    {
     "name": "stdout",
     "output_type": "stream",
     "text": [
      "------------\n",
      "Icteria virens  -  Yellow-breasted Chat ( bYBCHx )\n",
      "Not listed\n",
      "------------\n",
      "Regina septemvittata  -  Queensnake ( rQUEEx )\n",
      "Date Cached:  2017-07-26T15:53:58.905589\n"
     ]
    },
    {
     "data": {
      "text/plain": [
       "[{'POP_ABBREV': 'Wherever found',\n",
       "  'POP_DESC': 'Wherever found',\n",
       "  'STATUS': 'Species of Concern'}]"
      ]
     },
     "metadata": {},
     "output_type": "display_data"
    },
    {
     "name": "stdout",
     "output_type": "stream",
     "text": [
      "------------\n",
      "Plethodon aureolus  -  Tellico Salamander ( aTESAx )\n",
      "Not listed\n",
      "------------\n",
      "Actitis macularius  -  Spotted Sandpiper ( bSPSAx )\n",
      "Not listed\n",
      "------------\n",
      "Pseudacris streckeri  -  Strecker's Chorus Frog ( aSTFRx )\n",
      "Not listed\n",
      "------------\n",
      "Hirundo rustica  -  Barn Swallow ( bBARSx )\n",
      "Not listed\n",
      "------------\n",
      "Drymarchon couperi  -  Eastern Indigo Snake ( rEISNx )\n",
      "Not listed\n",
      "------------\n",
      "Blarina brevicauda  -  Northern Short-tailed Shrew ( mNOSSx )\n",
      "Not listed\n",
      "------------\n",
      "Storeria dekayi  -  Dekay's Brownsnake ( rDEBRx )\n",
      "Not listed\n",
      "------------\n",
      "Desmognathus welteri  -  Black Mountain Salamander ( aBMSAx )\n",
      "Not listed\n",
      "------------\n",
      "Reithrodontomys megalotis  -  Western Harvest Mouse ( mWHMOx )\n",
      "Not listed\n",
      "------------\n",
      "Arctocephalus townsendi  -  Guadalupe Fur Seal ( mGFSEx )\n",
      "Date Cached:  2017-07-26T15:54:19.819007\n"
     ]
    },
    {
     "data": {
      "text/plain": [
       "[{'LISTING_DATE': '1967-03-11',\n",
       "  'POP_ABBREV': 'Wherever found',\n",
       "  'POP_DESC': 'Wherever found',\n",
       "  'STATUS': 'Threatened'}]"
      ]
     },
     "metadata": {},
     "output_type": "display_data"
    },
    {
     "name": "stdout",
     "output_type": "stream",
     "text": [
      "------------\n",
      "Lithobates heckscheri  -  River Frog ( aRIFRx )\n",
      "Not listed\n",
      "------------\n",
      "Peromyscus polionotus leucocephalus  -  Santa Rosa Beach Deermouse ( mOLDEl )\n",
      "Date Cached:  2017-07-26T15:54:27.117673\n"
     ]
    },
    {
     "data": {
      "text/plain": [
       "[{'POP_ABBREV': 'Wherever found',\n",
       "  'POP_DESC': 'Wherever found',\n",
       "  'STATUS': 'Species of Concern'}]"
      ]
     },
     "metadata": {},
     "output_type": "display_data"
    },
    {
     "name": "stdout",
     "output_type": "stream",
     "text": [
      "------------\n"
     ]
    }
   ],
   "source": [
    "r_gapSpeciesTESS = requests.get(gc2.sqlAPI(\"DataDistillery\",\"BCB\")+\"&q=SELECT registration,tess FROM tir.tir WHERE registration->>'source' = 'GAP Species'\").json()\n",
    "\n",
    "for feature in r_gapSpeciesTESS[\"features\"]:\n",
    "    _registration = json.loads(feature[\"properties\"][\"registration\"])\n",
    "    _tess = json.loads(feature[\"properties\"][\"tess\"])\n",
    "    _gapSpeciesCode = _registration[\"identifiers\"][next(index for (index, d) in enumerate(_registration[\"identifiers\"]) if d[\"type\"] == \"GAP_SpeciesCode\")][\"key\"]\n",
    "    print (_registration[\"scientificname\"], \" - \", _registration[\"commonname\"], \"(\", _gapSpeciesCode, \")\")\n",
    "    if _tess[\"result\"]:\n",
    "        print (\"Date Cached: \",_tess[\"dateCached\"])\n",
    "        display (_tess[\"listingStatus\"])\n",
    "    else:\n",
    "        print (\"Not listed\")\n",
    "    print (\"------------\")  \n"
   ]
  },
  {
   "cell_type": "code",
   "execution_count": null,
   "metadata": {
    "collapsed": true
   },
   "outputs": [],
   "source": []
  }
 ],
 "metadata": {
  "kernelspec": {
   "display_name": "Python 3",
   "language": "python",
   "name": "python3"
  },
  "language_info": {
   "codemirror_mode": {
    "name": "ipython",
    "version": 3
   },
   "file_extension": ".py",
   "mimetype": "text/x-python",
   "name": "python",
   "nbconvert_exporter": "python",
   "pygments_lexer": "ipython3",
   "version": "3.5.3"
  }
 },
 "nbformat": 4,
 "nbformat_minor": 0
}
