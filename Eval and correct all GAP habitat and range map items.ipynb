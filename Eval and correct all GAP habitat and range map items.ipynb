{
 "cells": [
  {
   "cell_type": "markdown",
   "metadata": {},
   "source": [
    "This notebook runs through GAP species habitat and range items to fix a number of issues and add new information on the items based on information already in the items."
   ]
  },
  {
   "cell_type": "code",
   "execution_count": 1,
   "metadata": {
    "collapsed": true,
    "deletable": true,
    "editable": true
   },
   "outputs": [],
   "source": [
    "import pysb\n",
    "import time\n",
    "from IPython.display import display"
   ]
  },
  {
   "cell_type": "code",
   "execution_count": 2,
   "metadata": {
    "collapsed": true,
    "deletable": true,
    "editable": true
   },
   "outputs": [],
   "source": [
    "_habitatMapRoot = \"527d0a83e4b0850ea0518326\"\n",
    "_rangeMapRoot = \"5951527de4b062508e3b1e79\""
   ]
  },
  {
   "cell_type": "code",
   "execution_count": 3,
   "metadata": {
    "collapsed": false,
    "deletable": true,
    "editable": true
   },
   "outputs": [
    {
     "name": "stdout",
     "output_type": "stream",
     "text": [
      "Username: sbristol@usgs.gov\n",
      "········\n"
     ]
    },
    {
     "data": {
      "text/plain": [
       "<pysb.SbSession.SbSession at 0x107c1edd8>"
      ]
     },
     "execution_count": 3,
     "metadata": {},
     "output_type": "execute_result"
    }
   ],
   "source": [
    "sb = pysb.SbSession()\n",
    "username = input(\"Username: \")\n",
    "sb.loginc(str(username))"
   ]
  },
  {
   "cell_type": "markdown",
   "metadata": {},
   "source": [
    "This block builds data structures into memory for use in this code by looping over search results from ScienceBase. This is much more efficient than working through item by item with individual ScienceBase requests."
   ]
  },
  {
   "cell_type": "code",
   "execution_count": 11,
   "metadata": {
    "collapsed": false,
    "deletable": true,
    "editable": true
   },
   "outputs": [],
   "source": [
    "rangeMaps = []\n",
    "rangeMapsDone = []\n",
    "rangeMapGapToID = {}\n",
    "rangeMapSearchResults = sb.find_items(\"parentId=\"+_rangeMapRoot+\"&fields=title,identifiers,webLinks&max=100\")\n",
    "while rangeMapSearchResults is not None:\n",
    "    for rangeItem in rangeMapSearchResults[\"items\"]:\n",
    "        rangeItem.pop(\"link\",None)\n",
    "        rangeItem.pop(\"relatedItems\",None)\n",
    "        rangeMaps.append(rangeItem)\n",
    "        rangeMapGapToID[rangeItem[\"identifiers\"][[i for i,_ in enumerate(rangeItem[\"identifiers\"]) if _[\"type\"] == \"GAP_SpeciesCode\"][0]][\"key\"]] = {\"id\":rangeItem[\"id\"],\"title\":rangeItem[\"title\"]}\n",
    "    rangeMapSearchResults = sb.next(rangeMapSearchResults)\n",
    "\n",
    "habitatMaps = []\n",
    "habitatMapsDone = []\n",
    "habitatMapGapToID = {}\n",
    "habitatMapSearchResults = sb.find_items(\"parentId=\"+_habitatMapRoot+\"&fields=title,identifiers,webLinks,dates&max=100\")\n",
    "while habitatMapSearchResults is not None:\n",
    "    for habitatItem in habitatMapSearchResults[\"items\"]:\n",
    "        habitatItem.pop(\"link\",None)\n",
    "        habitatItem.pop(\"relatedItems\",None)\n",
    "        habitatMaps.append(habitatItem)\n",
    "        habitatMapGapToID[habitatItem[\"identifiers\"][[i for i,_ in enumerate(habitatItem[\"identifiers\"]) if _[\"type\"] == \"GAP_SpeciesCode\"][0]][\"key\"]] = {\"id\":habitatItem[\"id\"],\"title\":habitatItem[\"title\"],\"dates\":habitatItem[\"dates\"]}\n",
    "    habitatMapSearchResults = sb.next(habitatMapSearchResults)\n"
   ]
  },
  {
   "cell_type": "markdown",
   "metadata": {},
   "source": [
    "This code block makes changes to habitat map items, including the following:\n",
    "* Updates the citation string to use the proper DOI link\n",
    "* Adds a web link to the associated range map"
   ]
  },
  {
   "cell_type": "code",
   "execution_count": null,
   "metadata": {
    "collapsed": false,
    "deletable": true,
    "editable": true,
    "scrolled": true
   },
   "outputs": [],
   "source": [
    "count = len(habitatMapsDone)\n",
    "for habitatMap in habitatMaps:\n",
    "    if habitatMap[\"id\"] not in habitatMapsDone:\n",
    "        _thisDOI = habitatMap[\"identifiers\"][[i for i,_ in enumerate(habitatMap[\"identifiers\"]) if _[\"type\"] == \"doi\"][0]][\"key\"].split(\":\")[1]\n",
    "        _thisGapCode = habitatMap[\"identifiers\"][[i for i,_ in enumerate(habitatMap[\"identifiers\"]) if _[\"type\"] == \"GAP_SpeciesCode\"][0]][\"key\"]\n",
    "\n",
    "        updateItem = {}\n",
    "        updateItem[\"id\"] = habitatMap[\"id\"]\n",
    "        updateItem[\"citation\"] = \"U.S. Geological Survey - Gap Analysis Project, 2017, \"+habitatMap[\"title\"]+\", https://doi.org/\"+_thisDOI+\".\"\n",
    "\n",
    "        linkToRangeMap = {}\n",
    "        linkToRangeMap[\"type\"] = \"webLink\"\n",
    "        linkToRangeMap[\"typeLabel\"] = \"Web Link\"\n",
    "        linkToRangeMap[\"title\"] = rangeMapGapToID[_thisGapCode][\"title\"]\n",
    "        linkToRangeMap[\"uri\"] = \"https://www.sciencebase.gov/catalog/item/\"+rangeMapGapToID[_thisGapCode][\"id\"]\n",
    "        updateItem[\"webLinks\"] = []\n",
    "        updateItem[\"webLinks\"].append(linkToRangeMap)\n",
    "\n",
    "        sb.update_item(updateItem)\n",
    "        habitatMapsDone.append(habitatMap[\"id\"])\n",
    "        count = count + 1\n",
    "        print (updateItem[\"id\"], count)\n",
    "        time.sleep(0.15)\n"
   ]
  },
  {
   "cell_type": "markdown",
   "metadata": {},
   "source": [
    "This code block makes changes to range map items, including the following:\n",
    "* Fixes the title to match the conveition used for the habitat maps (common name with scientific name in parentheses)\n",
    "* Adds a citation string with the proper DOI link\n",
    "* Adds a web link to the associated habitat map, keeping the link to the DOI for the HUC data"
   ]
  },
  {
   "cell_type": "code",
   "execution_count": null,
   "metadata": {
    "collapsed": false,
    "scrolled": true
   },
   "outputs": [],
   "source": [
    "count = len(rangeMapsDone)\n",
    "for rangeMap in rangeMaps:\n",
    "    if rangeMap[\"id\"] not in rangeMapsDone:\n",
    "        try:\n",
    "            _thisScientificName = rangeMap[\"identifiers\"][[i for i,_ in enumerate(rangeMap[\"identifiers\"]) if _[\"type\"] == \"ScientificName\"][0]][\"key\"]\n",
    "            _thisCommonName = rangeMap[\"identifiers\"][[i for i,_ in enumerate(rangeMap[\"identifiers\"]) if _[\"type\"] == \"CommonName\"][0]][\"key\"]\n",
    "            _thisDOI = rangeMap[\"identifiers\"][[i for i,_ in enumerate(rangeMap[\"identifiers\"]) if _[\"type\"] == \"doi\"][0]][\"key\"].split(\":\")[1]\n",
    "            _thisGapCode = rangeMap[\"identifiers\"][[i for i,_ in enumerate(rangeMap[\"identifiers\"]) if _[\"type\"] == \"GAP_SpeciesCode\"][0]][\"key\"]\n",
    "\n",
    "            updateItem = {}\n",
    "            updateItem[\"id\"] = rangeMap[\"id\"]\n",
    "            updateItem[\"title\"] = _thisCommonName+\" (\"+_thisScientificName+\") Range Map\"\n",
    "            updateItem[\"citation\"] = \"U.S. Geological Survey - Gap Analysis Project, 2017, \"+rangeMap[\"title\"]+\", https://doi.org/\"+_thisDOI+\".\"\n",
    "\n",
    "            linkToHabitatMap = {}\n",
    "            linkToHabitatMap[\"type\"] = \"webLink\"\n",
    "            linkToHabitatMap[\"typeLabel\"] = \"Web Link\"\n",
    "            linkToHabitatMap[\"title\"] = habitatMapGapToID[_thisGapCode][\"title\"]\n",
    "            linkToHabitatMap[\"uri\"] = \"https://www.sciencebase.gov/catalog/item/\"+habitatMapGapToID[_thisGapCode][\"id\"]\n",
    "            updateItem[\"webLinks\"] = []\n",
    "            updateItem[\"webLinks\"].append(linkToHabitatMap)\n",
    "\n",
    "            hucDataLink = {\"type\": \"webLink\",\"typeLabel\": \"Web Link\",\"uri\": \"https://doi.org/10.5066/F7DZ0754\",\"title\": \"Source data for strHUC12RNG in species range\"}\n",
    "            updateItem[\"webLinks\"].append(hucDataLink)\n",
    "\n",
    "            sb.update_item(updateItem)\n",
    "            rangeMapsDone.append(rangeMap[\"id\"])\n",
    "            count = count + 1\n",
    "            print (updateItem[\"id\"], count)\n",
    "            time.sleep(0.15)\n",
    "        except Exception as e:\n",
    "            print (rangeMap[\"id\"], e)\n"
   ]
  },
  {
   "cell_type": "code",
   "execution_count": null,
   "metadata": {
    "collapsed": true
   },
   "outputs": [],
   "source": []
  }
 ],
 "metadata": {
  "kernelspec": {
   "display_name": "Python 3",
   "language": "python",
   "name": "python3"
  },
  "language_info": {
   "codemirror_mode": {
    "name": "ipython",
    "version": 3
   },
   "file_extension": ".py",
   "mimetype": "text/x-python",
   "name": "python",
   "nbconvert_exporter": "python",
   "pygments_lexer": "ipython3",
   "version": "3.5.3"
  }
 },
 "nbformat": 4,
 "nbformat_minor": 0
}
