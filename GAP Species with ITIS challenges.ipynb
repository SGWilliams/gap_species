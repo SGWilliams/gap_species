{
 "cells": [
  {
   "cell_type": "code",
   "execution_count": 1,
   "metadata": {
    "collapsed": true
   },
   "outputs": [],
   "source": [
    "import requests,configparser\n",
    "from IPython.display import display"
   ]
  },
  {
   "cell_type": "code",
   "execution_count": 2,
   "metadata": {
    "collapsed": true
   },
   "outputs": [],
   "source": [
    "# Get API keys and any other config details from a file that is external to the code.\n",
    "config = configparser.RawConfigParser()\n",
    "config.read_file(open(r'../config/stuff.py'))"
   ]
  },
  {
   "cell_type": "code",
   "execution_count": 3,
   "metadata": {
    "collapsed": true
   },
   "outputs": [],
   "source": [
    "# Build base URL with API key using input from the external config.\n",
    "def getBaseURL():\n",
    "    gc2APIKey = config.get('apiKeys','apiKey_GC2_BCB').replace('\"','')\n",
    "    apiBaseURL = \"https://gc2.mapcentia.com/api/v1/sql/bcb?key=\"+gc2APIKey\n",
    "    return apiBaseURL"
   ]
  },
  {
   "cell_type": "code",
   "execution_count": 12,
   "metadata": {
    "collapsed": false
   },
   "outputs": [
    {
     "name": "stdout",
     "output_type": "stream",
     "text": [
      "Heterodon kennerlyi https://www.sciencebase.gov/catalog/item/58fe1bb9e4b0f87f0854ad97\n",
      "Name: Heterodon kennerlyi\n",
      "Usage: invalid\n",
      "TSN: 209165 http://services.itis.gov/?q=tsn:209165\n",
      "Accepted TSN: 209164 http://services.itis.gov/?q=tsn:209164\n",
      "----\n",
      "Sceloporus uniformis https://www.sciencebase.gov/catalog/item/58fe2fb3e4b0f87f0854aff9\n"
     ]
    },
    {
     "data": {
      "text/plain": [
       "{'response': {'docs': [], 'numFound': 0, 'start': 0},\n",
       " 'responseHeader': {'QTime': 0,\n",
       "  'params': {'q': 'nameWOInd:Sceloporus\\\\ uniformis', 'wt': 'json'},\n",
       "  'status': 0}}"
      ]
     },
     "metadata": {},
     "output_type": "display_data"
    },
    {
     "name": "stdout",
     "output_type": "stream",
     "text": [
      "Amphispiza belli canescens https://www.sciencebase.gov/catalog/item/58fa5658e4b0b7ea545253b6\n",
      "Name: Amphispiza belli canescens\n",
      "Usage: invalid\n",
      "TSN: 179404 http://services.itis.gov/?q=tsn:179404\n",
      "Accepted TSN: 998051 http://services.itis.gov/?q=tsn:998051\n",
      "----\n",
      "Aspidoscelis dixoni https://www.sciencebase.gov/catalog/item/58fe16eee4b0f87f0854aceb\n",
      "Name: Aspidoscelis dixoni\n",
      "Usage: invalid\n",
      "TSN: 914098 http://services.itis.gov/?q=tsn:914098\n",
      "Accepted TSN: 174016 http://services.itis.gov/?q=tsn:174016\n",
      "----\n",
      "Amphispiza belli nevadensis https://www.sciencebase.gov/catalog/item/58fa5685e4b0b7ea545253c5\n",
      "Name: Amphispiza belli nevadensis\n",
      "Usage: invalid\n",
      "TSN: 179403 http://services.itis.gov/?q=tsn:179403\n",
      "Accepted TSN: 997723 http://services.itis.gov/?q=tsn:997723\n",
      "----\n",
      "Oryzomys palustris natator https://www.sciencebase.gov/catalog/item/58fa6de0e4b0b7ea54525962\n",
      "Name: Oryzomys palustris natator\n",
      "Usage: invalid\n",
      "TSN: 202379 http://services.itis.gov/?q=tsn:202379\n",
      "Accepted TSN: 180336 http://services.itis.gov/?q=tsn:180336\n",
      "----\n",
      "Heterodon gloydi https://www.sciencebase.gov/catalog/item/58fe1149e4b0074928294676\n"
     ]
    },
    {
     "data": {
      "text/plain": [
       "{'response': {'docs': [], 'numFound': 0, 'start': 0},\n",
       " 'responseHeader': {'QTime': 0,\n",
       "  'params': {'q': 'nameWOInd:Heterodon\\\\ gloydi', 'wt': 'json'},\n",
       "  'status': 0}}"
      ]
     },
     "metadata": {},
     "output_type": "display_data"
    },
    {
     "name": "stdout",
     "output_type": "stream",
     "text": [
      "Taricha sierrea https://www.sciencebase.gov/catalog/item/58fa4290e4b0b7ea54524b1d\n"
     ]
    },
    {
     "data": {
      "text/plain": [
       "{'response': {'docs': [], 'numFound': 0, 'start': 0},\n",
       " 'responseHeader': {'QTime': 0,\n",
       "  'params': {'q': 'nameWOInd:Taricha\\\\ sierrea', 'wt': 'json'},\n",
       "  'status': 0}}"
      ]
     },
     "metadata": {},
     "output_type": "display_data"
    },
    {
     "name": "stdout",
     "output_type": "stream",
     "text": [
      "Aplodontia rufa olympica https://www.sciencebase.gov/catalog/item/58fa78cfe4b0b7ea54525b09\n"
     ]
    },
    {
     "data": {
      "text/plain": [
       "{'response': {'docs': [], 'numFound': 0, 'start': 0},\n",
       " 'responseHeader': {'QTime': 0,\n",
       "  'params': {'q': 'nameWOInd:Aplodontia\\\\ rufa\\\\ olympica', 'wt': 'json'},\n",
       "  'status': 0}}"
      ]
     },
     "metadata": {},
     "output_type": "display_data"
    },
    {
     "name": "stdout",
     "output_type": "stream",
     "text": [
      "Cervus elaphus nannodes roosevelti https://www.sciencebase.gov/catalog/item/58fa6773e4b0b7ea54525858\n"
     ]
    },
    {
     "data": {
      "text/plain": [
       "{'response': {'docs': [], 'numFound': 0, 'start': 0},\n",
       " 'responseHeader': {'QTime': 0,\n",
       "  'params': {'q': 'nameWOInd:Cervus\\\\ elaphus\\\\ nannodes\\\\ roosevelti',\n",
       "   'wt': 'json'},\n",
       "  'status': 0}}"
      ]
     },
     "metadata": {},
     "output_type": "display_data"
    },
    {
     "name": "stdout",
     "output_type": "stream",
     "text": [
      "Sylvilagus palustris heferni https://www.sciencebase.gov/catalog/item/58fa6e06e4b0b7ea54525968\n"
     ]
    },
    {
     "data": {
      "text/plain": [
       "{'response': {'docs': [], 'numFound': 0, 'start': 0},\n",
       " 'responseHeader': {'QTime': 0,\n",
       "  'params': {'q': 'nameWOInd:Sylvilagus\\\\ palustris\\\\ heferni', 'wt': 'json'},\n",
       "  'status': 0}}"
      ]
     },
     "metadata": {},
     "output_type": "display_data"
    }
   ],
   "source": [
    "r =  requests.get(getBaseURL()+\"&q=SELECT gid,registration->'ScienceBaseItemID' AS sbid,registration->'GAP_ScientificName' AS name FROM tir.tir2 WHERE itis->'itisMatchMethod' LIKE 'NotMatched:%' AND registration->'DOI' LIKE 'doi%'\").json()\n",
    "\n",
    "for feature in r[\"features\"]:\n",
    "    print (feature[\"properties\"][\"name\"], \"https://www.sciencebase.gov/catalog/item/\"+feature[\"properties\"][\"sbid\"])\n",
    "    checkITIS = requests.get(\"http://services.itis.gov/?wt=json&q=nameWOInd:\"+feature[\"properties\"][\"name\"].replace(\" \",\"\\%20\")).json()\n",
    "    if len(checkITIS[\"response\"][\"docs\"]) == 0:\n",
    "        display (checkITIS)\n",
    "    else:\n",
    "        for doc in checkITIS[\"response\"][\"docs\"]:\n",
    "            print (\"Name: \"+doc[\"nameWInd\"])\n",
    "            print (\"Usage: \"+str(doc[\"usage\"]))\n",
    "            print (\"TSN: \"+str(doc[\"tsn\"]), \"http://services.itis.gov/?q=tsn:\"+str(doc[\"tsn\"]))\n",
    "            try:\n",
    "                print (\"Accepted TSN: \"+str(doc[\"acceptedTSN\"][0]), \"http://services.itis.gov/?q=tsn:\"+str(doc[\"acceptedTSN\"][0]))\n",
    "            except:\n",
    "                pass\n",
    "            print (\"----\")\n"
   ]
  },
  {
   "cell_type": "code",
   "execution_count": null,
   "metadata": {
    "collapsed": true
   },
   "outputs": [],
   "source": []
  }
 ],
 "metadata": {
  "kernelspec": {
   "display_name": "Python 3",
   "language": "python",
   "name": "python3"
  },
  "language_info": {
   "codemirror_mode": {
    "name": "ipython",
    "version": 3
   },
   "file_extension": ".py",
   "mimetype": "text/x-python",
   "name": "python",
   "nbconvert_exporter": "python",
   "pygments_lexer": "ipython3",
   "version": "3.5.3"
  }
 },
 "nbformat": 4,
 "nbformat_minor": 0
}
