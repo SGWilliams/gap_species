{
 "cells": [
  {
   "cell_type": "markdown",
   "metadata": {},
   "source": [
    "The GAP Species range data originates from a back-end database maintained by staff at the Coop Unit at North Carolina State University, where they have been used in the production of the GAP Species Habitat Distribution Models/Maps and for other purposes. The ranges are based on a derivation of the 12 digit hydrologic unit codes and watershed boundaries documented in [this item](https://www.sciencebase.gov/catalog/item/56d496eee4b015c306f17a42). The data from that backend database were exported to text files and make their full online \"debut\" under [this ScienceBase item](https://www.sciencebase.gov/catalog/item/5951527de4b062508e3b1e79) (item may still be private when you read this).\n",
    "\n",
    "In order to get the data online for reference behind the habitat distribution models and for broader use in analyses, we loaded them up to the GC2 infrastructure we are using as part of the Biogeographic Information System work. Because the files are large enough, we opted for a bulk upload method that used a behind the scenes user interface to get the data into the PostgreSQL system of GC2 as opposed to iterating over each record in code via the API. That breaks the provenance chain a little bit and resulted in some post-upload cleanup. This notebook takes care of the cleanup and runs some tests to verify that all of the data are online and functioning the way they should be."
   ]
  },
  {
   "cell_type": "code",
   "execution_count": 8,
   "metadata": {
    "collapsed": true
   },
   "outputs": [],
   "source": [
    "import requests\n",
    "from bis2 import gc2\n",
    "import pysb\n",
    "from IPython.display import display\n",
    "\n",
    "_baseURL = gc2.sqlAPI(\"DataDistillery\",\"BCB\")"
   ]
  },
  {
   "cell_type": "code",
   "execution_count": 3,
   "metadata": {
    "collapsed": false
   },
   "outputs": [
    {
     "name": "stdout",
     "output_type": "stream",
     "text": [
      "Username: sbristol@usgs.gov\n",
      "········\n"
     ]
    },
    {
     "data": {
      "text/plain": [
       "<pysb.SbSession.SbSession at 0x10f3bc1d0>"
      ]
     },
     "execution_count": 3,
     "metadata": {},
     "output_type": "execute_result"
    }
   ],
   "source": [
    "sb = pysb.SbSession()\n",
    "username = input(\"Username: \")\n",
    "sb.loginc(str(username))"
   ]
  },
  {
   "cell_type": "markdown",
   "metadata": {},
   "source": [
    "### Download range data tables for checks\n",
    "\n",
    "This block gets the range data item from ScienceBase and downloads the files for local processing, supporting the next section where we check the total number of records in each range data file. I did this initially using pysb because the item was restricted to authorized users. Once the item is public, this check could be replaced with code that simply reads the four individual files into memory for a quick check of the total records."
   ]
  },
  {
   "cell_type": "code",
   "execution_count": 6,
   "metadata": {
    "collapsed": false
   },
   "outputs": [
    {
     "data": {
      "text/plain": [
       "{'body': 'GAP species range data are coarse representations of the total areal extent a species occupies, in other words the geographic limits within which a species can be found (Morrison and Hall 2002). These data provide the geographic extent within which the National Gap Analysis Program delineates areas of suitable habitat for terrestrial vertebrate species in their species habitat maps. The range maps are created by attributing a vector file derived from the 12-digit Hydrologic Unit Dataset (USDA NRCS 2009). Modifications to that dataset are described here (Provide link to the metadata record for the HUC dataset). Attribution of the season range for each species was based on the literature and online sources (See Table 1). Attribution for each hydrologic unit within the range included values for origin (native, introduced, reintroduced, vagrant), occurrence (extant, possibly present, potentially present, extirpated), reproductive use (breeding, non-breeding, both) and season (year-round, summer, winter, migratory, vagrant). GAP used the best information available to create these species ranges; however GAP seeks to improve and update these data as new information becomes available. These species range data provide the biological context within which to build our species distribution models.',\n",
       " 'browseTypes': ['Citation',\n",
       "  'Map Service',\n",
       "  'OGC WMS Service',\n",
       "  'OGC WFS Layer',\n",
       "  'OGC WMS Layer'],\n",
       " 'citation': 'U.S. Geological Survey - Gap Analysis Program, 2017, U.S.Geological Survey Gap Analysis Program Species Ranges: U.S. Geological Survey, https://doi.org/10.5066/F7Q81B3R.',\n",
       " 'contacts': [{'contactType': 'person',\n",
       "   'email': 'amckerrow@usgs.gov',\n",
       "   'name': 'Dr. Alexa McKerrow',\n",
       "   'organization': {'displayText': 'U.S. Geological Survey/Core Science Analytics, Synthesis, and Libraries'},\n",
       "   'primaryLocation': {'mailAddress': {'city': 'Raleigh',\n",
       "     'country': 'United States',\n",
       "     'line1': 'North Carolina State University, Campus Box 7617',\n",
       "     'state': 'NC',\n",
       "     'zip': '27695-7617'},\n",
       "    'officePhone': '571-218-5474',\n",
       "    'streetAddress': {}},\n",
       "   'type': 'Point of Contact'},\n",
       "  {'name': 'U.S. Geological Survey - Gap Analysis Program',\n",
       "   'organization': {},\n",
       "   'primaryLocation': {'mailAddress': {}, 'streetAddress': {}},\n",
       "   'type': 'Originator'},\n",
       "  {'contactType': 'person',\n",
       "   'email': 'jpmagee@usgs.gov',\n",
       "   'jobTitle': 'Technical Information Specialist',\n",
       "   'name': 'Julie Prior-Magee',\n",
       "   'organization': {'displayText': 'U.S. Geological Survey - Core Science Analytics, Synthesis, and Libraries'},\n",
       "   'primaryLocation': {'mailAddress': {'city': 'Lakewood',\n",
       "     'country': 'United States',\n",
       "     'line1': 'Denver Federal Center, West 6th Avenue & Kipling, Bldg. 810, MS 302',\n",
       "     'state': 'CO',\n",
       "     'zip': '80225'},\n",
       "    'officePhone': '575-557-1566',\n",
       "    'streetAddress': {}},\n",
       "   'type': 'Metadata Contact'},\n",
       "  {'name': 'U.S. Geological Survey',\n",
       "   'organization': {},\n",
       "   'primaryLocation': {'mailAddress': {}, 'streetAddress': {}},\n",
       "   'type': 'Publisher'},\n",
       "  {'contactType': 'person',\n",
       "   'email': 'sciencebase@usgs.gov',\n",
       "   'name': 'ScienceBase Data Release Team',\n",
       "   'organization': {'displayText': 'U.S. Geological Survey - ScienceBase'},\n",
       "   'primaryLocation': {'mailAddress': {'city': 'Denver',\n",
       "     'country': 'United States',\n",
       "     'line1': 'Denver Federal Center, Building 810, Mail Stop 302',\n",
       "     'state': 'CO',\n",
       "     'zip': '80225'},\n",
       "    'officePhone': '888-275-8747',\n",
       "    'streetAddress': {}},\n",
       "   'type': 'Distributor'}],\n",
       " 'dates': [{'dateString': '2017',\n",
       "   'label': 'Publication Date',\n",
       "   'type': 'Publication'},\n",
       "  {'dateString': '2001', 'label': '', 'type': 'Start'},\n",
       "  {'dateString': '2016', 'label': '', 'type': 'End'}],\n",
       " 'distributionLinks': [{'files': '',\n",
       "   'name': '',\n",
       "   'rel': 'alternate',\n",
       "   'title': 'KML Service',\n",
       "   'type': 'kml',\n",
       "   'typeLabel': 'KML Download',\n",
       "   'uri': 'https://www.sciencebase.gov/catalogMaps/mapping/ows/5951527de4b062508e3b1e79?mode=download&request=kml&service=wms&layers=footprint,children'},\n",
       "  {'files': '',\n",
       "   'name': '',\n",
       "   'rel': 'alternate',\n",
       "   'title': 'ScienceBase WMS Service',\n",
       "   'type': 'serviceCapabilitiesUrl',\n",
       "   'typeLabel': 'OGC Service Capabilities URL',\n",
       "   'uri': 'https://www.sciencebase.gov/catalogMaps/mapping/ows/5951527de4b062508e3b1e79?service=wms&request=getcapabilities&version=1.3.0'},\n",
       "  {'files': '',\n",
       "   'name': '',\n",
       "   'rel': 'alternate',\n",
       "   'title': 'ScienceBase Collection JSON',\n",
       "   'type': 'repo',\n",
       "   'typeLabel': 'ScienceBase Repository',\n",
       "   'uri': 'https://www.sciencebase.gov/catalog/items?parentId=5951527de4b062508e3b1e79&format=json'},\n",
       "  {'files': '',\n",
       "   'name': '',\n",
       "   'rel': 'alternate',\n",
       "   'title': 'ScienceBase Collection ATOM',\n",
       "   'type': 'repo',\n",
       "   'typeLabel': 'ScienceBase Repository',\n",
       "   'uri': 'https://www.sciencebase.gov/catalog/items?parentId=5951527de4b062508e3b1e79&format=atom'},\n",
       "  {'files': '',\n",
       "   'name': '',\n",
       "   'rel': 'alternate',\n",
       "   'title': 'ScienceBase Collection CSV',\n",
       "   'type': 'repo',\n",
       "   'typeLabel': 'ScienceBase Repository',\n",
       "   'uri': 'https://www.sciencebase.gov/catalog/items?parentId=5951527de4b062508e3b1e79&format=csv'},\n",
       "  {'files': '',\n",
       "   'name': '',\n",
       "   'rel': 'alternate',\n",
       "   'title': 'ScienceBase OAI PMH Service',\n",
       "   'type': 'oai-pmh',\n",
       "   'typeLabel': 'OAI-PMH',\n",
       "   'uri': 'https://www.sciencebase.gov/catalog/oai-pmh?verb=ListRecords&metadataPrefix=fgdc-orig&set=5951527de4b062508e3b1e79'},\n",
       "  {'files': '',\n",
       "   'name': '',\n",
       "   'rel': 'alternate',\n",
       "   'title': 'ScienceBase CSW Service',\n",
       "   'type': 'csw',\n",
       "   'typeLabel': '',\n",
       "   'uri': 'https://www.sciencebase.gov/catalog/item/5951527de4b062508e3b1e79/csw?service=CSW&version=2.0.2&request=GetRecords'},\n",
       "  {'files': [{'contentType': 'application/fgdc+xml',\n",
       "     'name': 'U_S_Geological_Survey_Gap_Analysis_Program_Species_Ranges5July2017.xml',\n",
       "     'title': 'GAP Species Ranges Metadata'},\n",
       "    {'contentType': 'application/zip',\n",
       "     'name': 'HawaiiGAP.zip',\n",
       "     'title': 'Hawaii Gap Report'},\n",
       "    {'contentType': 'text/plain',\n",
       "     'name': 'National_GAP_Amphibians_Range_Table.txt',\n",
       "     'title': 'Range data for amphibians'},\n",
       "    {'contentType': 'text/plain',\n",
       "     'name': 'National_GAP_Reptiles_Range_Table.txt',\n",
       "     'title': 'Range data for reptiles'},\n",
       "    {'contentType': 'text/plain',\n",
       "     'name': 'National_GAP_Mammals_Range_Table.txt',\n",
       "     'title': 'Range data for mammals'},\n",
       "    {'contentType': 'text/plain',\n",
       "     'name': 'National_GAP_Birds_Range_Table.txt',\n",
       "     'title': 'Range data for birds'}],\n",
       "   'name': 'U_S_GeologicalS.zip',\n",
       "   'rel': 'alternate',\n",
       "   'title': 'Download Attached Files',\n",
       "   'type': 'downloadLink',\n",
       "   'typeLabel': 'Download Link',\n",
       "   'uri': 'https://www.sciencebase.gov/catalog/file/get/5951527de4b062508e3b1e79'}],\n",
       " 'extents': [2002412],\n",
       " 'files': [{'checksum': {'type': 'MD5',\n",
       "    'value': '974a75b0655bff6aa9e39e4f28389f25'},\n",
       "   'contentEncoding': None,\n",
       "   'contentType': 'application/fgdc+xml',\n",
       "   'dateUploaded': '2017-07-07T19:05:37Z',\n",
       "   'imageHeight': None,\n",
       "   'imageWidth': None,\n",
       "   'name': 'U_S_Geological_Survey_Gap_Analysis_Program_Species_Ranges5July2017.xml',\n",
       "   'originalMetadata': True,\n",
       "   'pathOnDisk': '__disk__ca/b2/f5/cab2f5b6701d5e57483c991e5a920aa3e6a10d9a',\n",
       "   'processToken': None,\n",
       "   'processed': False,\n",
       "   's3Object': None,\n",
       "   'size': 34307,\n",
       "   'title': 'GAP Species Ranges Metadata',\n",
       "   'uploadedBy': 'amckerrow@usgs.gov',\n",
       "   'url': 'https://www.sciencebase.gov/catalog/file/get/5951527de4b062508e3b1e79?f=__disk__ca%2Fb2%2Ff5%2Fcab2f5b6701d5e57483c991e5a920aa3e6a10d9a',\n",
       "   'useForPreview': False},\n",
       "  {'checksum': {'type': 'MD5', 'value': 'bed3bb4010551e5ee9c783d23c4be08b'},\n",
       "   'contentEncoding': None,\n",
       "   'contentType': 'application/zip',\n",
       "   'dateUploaded': '2017-08-01T15:24:58Z',\n",
       "   'imageHeight': None,\n",
       "   'imageWidth': None,\n",
       "   'name': 'HawaiiGAP.zip',\n",
       "   'originalMetadata': False,\n",
       "   'pathOnDisk': '__disk__17/ef/ae/17efaeebae98d415b0bed5ca295e25890905d078',\n",
       "   'processToken': None,\n",
       "   'processed': False,\n",
       "   's3Object': None,\n",
       "   'size': 53457659,\n",
       "   'title': 'Hawaii Gap Report',\n",
       "   'uploadedBy': 'amckerrow@usgs.gov',\n",
       "   'url': 'https://www.sciencebase.gov/catalog/file/get/5951527de4b062508e3b1e79?f=__disk__17%2Fef%2Fae%2F17efaeebae98d415b0bed5ca295e25890905d078',\n",
       "   'useForPreview': False},\n",
       "  {'checksum': {'type': 'MD5', 'value': '41509f451da073d45c7b79e3f413d97f'},\n",
       "   'contentEncoding': None,\n",
       "   'contentType': 'text/plain',\n",
       "   'dateUploaded': '2017-08-16T10:46:24Z',\n",
       "   'imageHeight': None,\n",
       "   'imageWidth': None,\n",
       "   'name': 'National_GAP_Amphibians_Range_Table.txt',\n",
       "   'originalMetadata': False,\n",
       "   'pathOnDisk': '__disk__7a/88/ec/7a88ecfaf8653c03b97084c897eac7f665d83f9e',\n",
       "   'processToken': None,\n",
       "   'processed': False,\n",
       "   's3Object': None,\n",
       "   'size': 42842790,\n",
       "   'title': 'Range data for amphibians',\n",
       "   'uploadedBy': 'sbristol@usgs.gov',\n",
       "   'url': 'https://www.sciencebase.gov/catalog/file/get/5951527de4b062508e3b1e79?f=__disk__7a%2F88%2Fec%2F7a88ecfaf8653c03b97084c897eac7f665d83f9e',\n",
       "   'useForPreview': False},\n",
       "  {'checksum': {'type': 'MD5', 'value': 'e0eef6149bd121abb5d118d965f91c0c'},\n",
       "   'contentEncoding': None,\n",
       "   'contentType': 'text/plain',\n",
       "   'dateUploaded': '2017-08-16T10:54:56Z',\n",
       "   'imageHeight': None,\n",
       "   'imageWidth': None,\n",
       "   'name': 'National_GAP_Reptiles_Range_Table.txt',\n",
       "   'originalMetadata': False,\n",
       "   'pathOnDisk': '__disk__79/59/bf/7959bf07fb7aac0af8007682ebee624ec67ff8fb',\n",
       "   'processToken': None,\n",
       "   'processed': False,\n",
       "   's3Object': None,\n",
       "   'size': 74984361,\n",
       "   'title': 'Range data for reptiles',\n",
       "   'uploadedBy': 'sbristol@usgs.gov',\n",
       "   'url': 'https://www.sciencebase.gov/catalog/file/get/5951527de4b062508e3b1e79?f=__disk__79%2F59%2Fbf%2F7959bf07fb7aac0af8007682ebee624ec67ff8fb',\n",
       "   'useForPreview': False},\n",
       "  {'checksum': {'type': 'MD5', 'value': 'd517dc0bb22f0867756249e66b580cb1'},\n",
       "   'contentEncoding': None,\n",
       "   'contentType': 'text/plain',\n",
       "   'dateUploaded': '2017-08-16T11:12:19Z',\n",
       "   'imageHeight': None,\n",
       "   'imageWidth': None,\n",
       "   'name': 'National_GAP_Mammals_Range_Table.txt',\n",
       "   'originalMetadata': False,\n",
       "   'pathOnDisk': '__disk__29/a5/ab/29a5ab9af22fded74fa3973199b1f44cf729bf92',\n",
       "   'processToken': None,\n",
       "   'processed': False,\n",
       "   's3Object': None,\n",
       "   'size': 161129772,\n",
       "   'title': 'Range data for mammals',\n",
       "   'uploadedBy': 'sbristol@usgs.gov',\n",
       "   'url': 'https://www.sciencebase.gov/catalog/file/get/5951527de4b062508e3b1e79?f=__disk__29%2Fa5%2Fab%2F29a5ab9af22fded74fa3973199b1f44cf729bf92',\n",
       "   'useForPreview': False},\n",
       "  {'checksum': {'type': 'MD5', 'value': '07df70abec9d95e1196770b9bc5730eb'},\n",
       "   'contentEncoding': None,\n",
       "   'contentType': 'text/plain',\n",
       "   'dateUploaded': '2017-08-16T12:35:54Z',\n",
       "   'imageHeight': None,\n",
       "   'imageWidth': None,\n",
       "   'name': 'National_GAP_Birds_Range_Table.txt',\n",
       "   'originalMetadata': False,\n",
       "   'pathOnDisk': '__disk__38/38/df/3838df4834d4cfb30bb63fef905a4a5aa678934d',\n",
       "   'processToken': None,\n",
       "   'processed': False,\n",
       "   's3Object': None,\n",
       "   'size': 612019794,\n",
       "   'title': 'Range data for birds',\n",
       "   'uploadedBy': 'sbristol@usgs.gov',\n",
       "   'url': 'https://www.sciencebase.gov/catalog/file/get/5951527de4b062508e3b1e79?f=__disk__38%2F38%2Fdf%2F3838df4834d4cfb30bb63fef905a4a5aa678934d',\n",
       "   'useForPreview': False}],\n",
       " 'hasChildren': True,\n",
       " 'id': '5951527de4b062508e3b1e79',\n",
       " 'identifiers': [{'key': 'IP-082267',\n",
       "   'scheme': 'https://www.sciencebase.gov/vocab/category/item/identifier',\n",
       "   'type': 'IPDS'}],\n",
       " 'link': {'rel': 'self',\n",
       "  'url': 'https://www.sciencebase.gov/catalog/item/5951527de4b062508e3b1e79'},\n",
       " 'locked': False,\n",
       " 'maintenanceUpdateFrequency': 'As needed',\n",
       " 'parentId': '5644f3c1e4b0aafbcd0188f1',\n",
       " 'permissions': {'read': {'acl': ['USER:amckerrow@usgs.gov',\n",
       "    'USER:cbelyea@ncsu.edu',\n",
       "    'USER:dwieferich@usgs.gov',\n",
       "    'USER:jpmagee@usgs.gov',\n",
       "    'USER:lschueck@usgs.gov',\n",
       "    'USER:nmtarr@ncsu.edu',\n",
       "    'USER:saulenbach@usgs.gov',\n",
       "    'USER:sgwilliams@usgs.gov'],\n",
       "   'inherited': False},\n",
       "  'write': {'acl': ['USER:amckerrow@usgs.gov',\n",
       "    'USER:cbelyea@ncsu.edu',\n",
       "    'USER:dwieferich@usgs.gov',\n",
       "    'USER:jpmagee@usgs.gov',\n",
       "    'USER:lschueck@usgs.gov',\n",
       "    'USER:nmtarr@ncsu.edu',\n",
       "    'USER:saulenbach@usgs.gov',\n",
       "    'USER:sgwilliams@usgs.gov'],\n",
       "   'inherited': False}},\n",
       " 'previewImage': {'from': 'mapPreview',\n",
       "  'original': {'height': 240,\n",
       "   'size': 145931,\n",
       "   'uri': 'https://www.sciencebase.gov/catalog/file/get/5951527de4b062508e3b1e79?f=__disk__3b%2Fc1%2F65%2F3bc1653455e35ffeea73c767cda22433e3009cb9',\n",
       "   'viewUri': 'https://www.sciencebase.gov/catalog/file/get/5951527de4b062508e3b1e79?f=__disk__3b%2Fc1%2F65%2F3bc1653455e35ffeea73c767cda22433e3009cb9&width=360&height=240',\n",
       "   'viewUrl': 'https://www.sciencebase.gov/catalog/file/get/5951527de4b062508e3b1e79?f=__disk__3b%2Fc1%2F65%2F3bc1653455e35ffeea73c767cda22433e3009cb9&width=360&height=240',\n",
       "   'width': 360},\n",
       "  'thumbnail': {'height': 100,\n",
       "   'uri': 'https://www.sciencebase.gov/catalog/file/get/5951527de4b062508e3b1e79?f=__disk__3b%2Fc1%2F65%2F3bc1653455e35ffeea73c767cda22433e3009cb9&width=150&height=100',\n",
       "   'width': 150}},\n",
       " 'provenance': {'annotation': 'Created from Item #527d0a24e4b0850ea051831b',\n",
       "  'createdBy': 'jpmagee@usgs.gov',\n",
       "  'dateCreated': '2017-06-26T18:29:17Z',\n",
       "  'lastUpdated': '2017-08-16T13:00:34Z',\n",
       "  'lastUpdatedBy': 'sbristol@usgs.gov'},\n",
       " 'purpose': 'The mission of the U.S. Geological Survey Gap Analysis Program (GAP) is to provide state, regional and national biodiversity assessments of the conservation status of native vertebrate species and natural land cover types and to facilitate the application of this information to land management activities. Species distribution models are used to conduct a biodiversity assessment for species across the U.S. The goal of GAP is to keep common species common by identifying species and plant communities not adequately represented in existing conservation lands. Common species are those not currently threatened with extinction. By providing these data, land managers and policy makers can make better-informed decisions when identifying priority areas for conservation.',\n",
       " 'relatedItems': {'link': {'rel': 'related',\n",
       "   'url': 'https://www.sciencebase.gov/catalog/itemLinks?itemId=5951527de4b062508e3b1e79'}},\n",
       " 'spatial': {'boundingBox': {'maxX': 175.0,\n",
       "   'maxY': 72.0,\n",
       "   'minX': -64.0,\n",
       "   'minY': 16.0},\n",
       "  'representationalPoint': [0.7796936034190054, 45.1384592050498],\n",
       "  'representationalPointIsDerived': True},\n",
       " 'summary': 'GAP species range data are coarse representations of the total areal extent a species occupies, in other words the geographic limits within which a species can be found (Morrison and Hall 2002). These data provide the geographic extent within which the National Gap Analysis Program delineates areas of suitable habitat for terrestrial vertebrate species in their species habitat maps. The range maps are created by attributing a vector file derived from the 12-digit Hydrologic Unit Dataset (USDA NRCS 2009). Modifications to that dataset are described here (Provide link to the metadata record for the HUC dataset). Attribution of the season range for each species was based on the literature and online sources (See Table 1). Attribution [...]',\n",
       " 'systemTypes': ['Folder'],\n",
       " 'tags': [{'name': 'species distribution',\n",
       "   'scheme': 'USGS Thesaurus',\n",
       "   'type': 'Theme'},\n",
       "  {'name': 'biodiversity', 'scheme': 'USGS Thesaurus', 'type': 'Theme'},\n",
       "  {'name': 'wildlife biology', 'scheme': 'USGS Thesaurus', 'type': 'Theme'},\n",
       "  {'name': 'conservation',\n",
       "   'scheme': 'USGS Biocomplexity Thesaurus',\n",
       "   'type': 'Theme'},\n",
       "  {'name': 'gap analysis',\n",
       "   'scheme': 'USGS Biocomplexity Thesaurus',\n",
       "   'type': 'Theme'},\n",
       "  {'name': 'biota', 'scheme': 'ISO 19115 Topic Categories', 'type': 'Theme'},\n",
       "  {'name': 'NDGA', 'scheme': 'NDGA Portfolio Themes', 'type': 'Theme'},\n",
       "  {'name': 'National Geospatial Data Asset',\n",
       "   'scheme': 'NDGA Portfolio Themes',\n",
       "   'type': 'Theme'},\n",
       "  {'name': 'Biodiversity and Ecosystems Theme',\n",
       "   'scheme': 'NDGA Portfolio Themes',\n",
       "   'type': 'Theme'},\n",
       "  {'name': 'United States',\n",
       "   'scheme': 'Geographic Names Information System (GNIS)',\n",
       "   'type': 'Place'}],\n",
       " 'title': 'U.S.Geological Survey Gap Analysis Program Species Ranges (In Review)',\n",
       " 'webLinks': [{'hidden': False,\n",
       "   'rel': 'related',\n",
       "   'type': 'Online Link',\n",
       "   'uri': 'https://doi.org/10.5066/F7Q81B3R'},\n",
       "  {'hidden': False,\n",
       "   'rel': 'related',\n",
       "   'type': 'Online Link',\n",
       "   'uri': 'https://gapanalysis.usgs.gov/species/data/download/'},\n",
       "  {'hidden': False,\n",
       "   'rel': 'related',\n",
       "   'title': 'Sciencebase catalog parent item',\n",
       "   'type': 'Online Link',\n",
       "   'uri': 'https://www.sciencebase.gov/catalog/item/5951527de4b062508e3b1e79'},\n",
       "  {'hidden': False,\n",
       "   'rel': 'related',\n",
       "   'title': 'ZIP',\n",
       "   'type': 'webLink',\n",
       "   'uri': 'http://gapanalysis.usgs.gov/species/data/download'}]}"
      ]
     },
     "metadata": {},
     "output_type": "display_data"
    },
    {
     "name": "stdout",
     "output_type": "stream",
     "text": [
      "downloading https://www.sciencebase.gov/catalog/file/get/5951527de4b062508e3b1e79?f=__disk__ca%2Fb2%2Ff5%2Fcab2f5b6701d5e57483c991e5a920aa3e6a10d9a to ./U_S_Geological_Survey_Gap_Analysis_Program_Species_Ranges5July2017.xml\n",
      "downloading https://www.sciencebase.gov/catalog/file/get/5951527de4b062508e3b1e79?f=__disk__17%2Fef%2Fae%2F17efaeebae98d415b0bed5ca295e25890905d078 to ./HawaiiGAP.zip\n",
      "downloading https://www.sciencebase.gov/catalog/file/get/5951527de4b062508e3b1e79?f=__disk__7a%2F88%2Fec%2F7a88ecfaf8653c03b97084c897eac7f665d83f9e to ./National_GAP_Amphibians_Range_Table.txt\n",
      "downloading https://www.sciencebase.gov/catalog/file/get/5951527de4b062508e3b1e79?f=__disk__79%2F59%2Fbf%2F7959bf07fb7aac0af8007682ebee624ec67ff8fb to ./National_GAP_Reptiles_Range_Table.txt\n",
      "downloading https://www.sciencebase.gov/catalog/file/get/5951527de4b062508e3b1e79?f=__disk__29%2Fa5%2Fab%2F29a5ab9af22fded74fa3973199b1f44cf729bf92 to ./National_GAP_Mammals_Range_Table.txt\n",
      "downloading https://www.sciencebase.gov/catalog/file/get/5951527de4b062508e3b1e79?f=__disk__38%2F38%2Fdf%2F3838df4834d4cfb30bb63fef905a4a5aa678934d to ./National_GAP_Birds_Range_Table.txt\n"
     ]
    },
    {
     "data": {
      "text/plain": [
       "{'name': 'National_GAP_Birds_Range_Table.txt',\n",
       " 'size': 612019794,\n",
       " 'url': 'https://www.sciencebase.gov/catalog/file/get/5951527de4b062508e3b1e79?f=__disk__38%2F38%2Fdf%2F3838df4834d4cfb30bb63fef905a4a5aa678934d'}"
      ]
     },
     "execution_count": 6,
     "metadata": {},
     "output_type": "execute_result"
    }
   ],
   "source": [
    "_sbRangeItemID = \"5951527de4b062508e3b1e79\"\n",
    "_sbRangeItem = sb.get_item(_sbRangeItemID)\n",
    "display (_sbRangeItem)\n",
    "sb.get_item_files(_sbRangeItem)"
   ]
  },
  {
   "cell_type": "markdown",
   "metadata": {},
   "source": [
    "### Check total records\n",
    "\n",
    "This code checks the previously downloaded files against the resulting database tables to make sure that we got all the rows."
   ]
  },
  {
   "cell_type": "code",
   "execution_count": 12,
   "metadata": {
    "collapsed": false
   },
   "outputs": [
    {
     "name": "stdout",
     "output_type": "stream",
     "text": [
      "National_GAP_Birds_Range_Table In file: 18546052 In database: 18546052\n",
      "National_GAP_Mammals_Range_Table In file: 4882718 In database: 4882718\n",
      "National_GAP_Amphibians_Range_Table In file: 1298264 In database: 1298264\n",
      "National_GAP_Reptiles_Range_Table In file: 2272251 In database: 2272251\n"
     ]
    }
   ],
   "source": [
    "_tableNames = []\n",
    "_tableNames.append(\"National_GAP_Birds_Range_Table\")\n",
    "_tableNames.append(\"National_GAP_Mammals_Range_Table\")\n",
    "_tableNames.append(\"National_GAP_Amphibians_Range_Table\")\n",
    "_tableNames.append(\"National_GAP_Reptiles_Range_Table\")\n",
    "\n",
    "for table in _tableNames:\n",
    "    dbCheck = requests.get(_baseURL+\"&q=SELECT count(*) AS num FROM gap.\"+table.lower()).json()\n",
    "    dbCount = int(dbCheck[\"features\"][0][\"properties\"][\"num\"])\n",
    "    fileCount = sum(1 for line in open(table+\".txt\"))-1\n",
    "    print (table, \"In file:\", fileCount, \"In database:\", dbCount)"
   ]
  },
  {
   "cell_type": "markdown",
   "metadata": {},
   "source": [
    "### Merge original tables\n",
    "\n",
    "This code merges the four original tables uploaded from text files into a single table for all range data.\n",
    "\n",
    "Note: When I first ran this I attempted to simply pull all of the data from the four tables directly into a new table with a CREATE TABLE AS statement. However, that caused an out of memory problem in the GC2 infrastructure, and I had to break things up. I think we resolved the infrastructure problem and might be able to run that query now to make this a little simpler, but the following two code blocks create the table and then iterate over the original source tables to insert all their records."
   ]
  },
  {
   "cell_type": "code",
   "execution_count": 21,
   "metadata": {
    "collapsed": false
   },
   "outputs": [
    {
     "name": "stdout",
     "output_type": "stream",
     "text": [
      "{'_execution_time': 0.027, 'affected_rows': 0, 'success': True}\n"
     ]
    }
   ],
   "source": [
    "_qCreateTable = \"CREATE TABLE IF NOT EXISTS gap.gapspeciesrange ( \\\n",
    "    sourcetable VARCHAR, \\\n",
    "    struc CHAR(6), \\\n",
    "    strhuc12rng CHAR(12), \\\n",
    "    intgaporigin INT, \\\n",
    "    intgappres INT, \\\n",
    "    intgaprepro INT, \\\n",
    "    intgapseas INT)\"\n",
    "print (requests.get(_baseURL+\"&q=\"+_qCreateTable).json())\n"
   ]
  },
  {
   "cell_type": "code",
   "execution_count": 22,
   "metadata": {
    "collapsed": false
   },
   "outputs": [
    {
     "name": "stdout",
     "output_type": "stream",
     "text": [
      "{'_execution_time': 95.024, 'affected_rows': 18546052, 'success': True, 'auth_check': {'auth_level': None, 'success': True, 'session': None}}\n",
      "{'_execution_time': 33.612, 'affected_rows': 4882718, 'success': True, 'auth_check': {'auth_level': None, 'success': True, 'session': None}}\n",
      "{'_execution_time': 2.767, 'affected_rows': 1298264, 'success': True, 'auth_check': {'auth_level': None, 'success': True, 'session': None}}\n",
      "{'_execution_time': 7.648, 'affected_rows': 2272251, 'success': True, 'auth_check': {'auth_level': None, 'success': True, 'session': None}}\n"
     ]
    }
   ],
   "source": [
    "for table in _tableNames:\n",
    "    qInsert = \"INSERT INTO gap.gapspeciesrange (SELECT '\"+table+\"' AS sourcetable, struc, strhuc12rng::text, intgaporigin, intgappres, intgaprepro, intgapseas FROM gap.\"+table.lower()+\")\"\n",
    "    print (requests.get(_baseURL+\"&q=\"+qInsert).json())"
   ]
  },
  {
   "cell_type": "markdown",
   "metadata": {},
   "source": [
    "### Fix HUC code problem\n",
    "\n",
    "The simple upload process we used on the text files decided to put the 12 digit codes (originally HUC codes) in as numeric values instead of strings. We corrected for that when we cast those integers to text and inserted them into the new merged table as strings. However, we need to fix a problem with leading 0s getting lopped off."
   ]
  },
  {
   "cell_type": "code",
   "execution_count": 37,
   "metadata": {
    "collapsed": false
   },
   "outputs": [
    {
     "name": "stdout",
     "output_type": "stream",
     "text": [
      "{'_execution_time': 169.255, 'affected_rows': 10715392, 'success': True, 'auth_check': {'auth_level': 'Write', 'success': True, 'session': None, 'checked_relations': ['gap.gapspeciesrange']}}\n"
     ]
    }
   ],
   "source": [
    "_qCheckCodes = \"UPDATE gap.gapspeciesrange SET strhuc12rng = '0' || strhuc12rng WHERE length(strhuc12rng) < 12\"\n",
    "print (requests.get(_baseURL+\"&q=\"+_qCheckCodes).json())"
   ]
  },
  {
   "cell_type": "code",
   "execution_count": 38,
   "metadata": {
    "collapsed": false
   },
   "outputs": [
    {
     "name": "stdout",
     "output_type": "stream",
     "text": [
      "{'features': [{'type': 'Feature', 'properties': {'num': 0}}], '_execution_time': 46.487, 'success': True, 'forStore': [{'name': 'num', 'type': 'bigint'}], 'type': 'FeatureCollection', 'auth_check': {'auth_level': 'Write', 'success': True, 'session': None, 'checked_relations': ['gap.gapspeciesrange']}, 'forGrid': [{'dataIndex': 'num', 'type': 'bigint', 'typeObj': None, 'header': 'num'}]}\n"
     ]
    }
   ],
   "source": [
    "# This last query just checks to make sure there aren't any other unexpected strange values in the data. All huc codes should be 12 characters long.\n",
    "print (requests.get(_baseURL+\"&q=SELECT count(*) AS num FROM gap.gapspeciesrange WHERE length(strhuc12rng) <> 12\").json())"
   ]
  },
  {
   "cell_type": "code",
   "execution_count": null,
   "metadata": {
    "collapsed": true
   },
   "outputs": [],
   "source": []
  }
 ],
 "metadata": {
  "kernelspec": {
   "display_name": "Python 3",
   "language": "python",
   "name": "python3"
  },
  "language_info": {
   "codemirror_mode": {
    "name": "ipython",
    "version": 3
   },
   "file_extension": ".py",
   "mimetype": "text/x-python",
   "name": "python",
   "nbconvert_exporter": "python",
   "pygments_lexer": "ipython3",
   "version": "3.5.3"
  }
 },
 "nbformat": 4,
 "nbformat_minor": 0
}
