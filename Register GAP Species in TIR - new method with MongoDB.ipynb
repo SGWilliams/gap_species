{
 "cells": [
  {
   "cell_type": "markdown",
   "metadata": {},
   "source": [
    "This notebook exercises some new thinking in how to register GAP species for processing in the Taxa Information Registry. It works toward the notion of putting messages on a message queue, something we're working on but not quite ready with yet. This process examines GAP species records and sets up one or more API end point records in the TIR caches for processing. Those end points are then processed through a separate notebook."
   ]
  },
  {
   "cell_type": "code",
   "execution_count": 1,
   "metadata": {
    "collapsed": true
   },
   "outputs": [],
   "source": [
    "from IPython.display import display\n",
    "from bis2 import mlab\n",
    "from bis import itis\n",
    "from bis import worms\n",
    "from bis import tess\n",
    "from bis import natureserve"
   ]
  },
  {
   "cell_type": "markdown",
   "metadata": {},
   "source": [
    "Here we set up a connection to the MLab instance of a MongoDB database we are experimenting with as our sandbox. We will eventually move this to a production instance. The data for the TIR is arranged into different collections of documents in the \"bis\" database."
   ]
  },
  {
   "cell_type": "code",
   "execution_count": 2,
   "metadata": {
    "collapsed": true
   },
   "outputs": [],
   "source": [
    "bisDB = mlab.getDB(\"bis\")\n",
    "gapspecies = bisDB[\"gapspecies\"]\n",
    "itiscache = bisDB[\"itiscache\"]\n",
    "wormscache = bisDB[\"wormscache\"]\n",
    "tesscache = bisDB[\"tesscache\"]\n",
    "natureservecache = bisDB[\"natureservecache\"]"
   ]
  },
  {
   "cell_type": "markdown",
   "metadata": {},
   "source": [
    "Here we loop through the GAP species documents that do not currently have a tessCacheID (identifier pointing to a document in the tesscache collection where FWS listing information is cached). This basically sets up the process that will go out and retrieve any available FWS listing information associated with a GAP species and cache it for our use. It calls a function in the bis.tess module that sets up the appropriate query URL for later processing."
   ]
  },
  {
   "cell_type": "code",
   "execution_count": 3,
   "metadata": {
    "collapsed": true
   },
   "outputs": [],
   "source": [
    "for gapDoc in gapspecies.find({\"tessCacheID\":{\"$exists\":False}}):\n",
    "    tessDoc = {}\n",
    "    tessDoc[\"originCollection\"] = \"gapspecies\"\n",
    "    tessDoc[\"originID\"] = doc[\"_id\"]\n",
    "    if \"ITIS_TSN\" in gapDoc:\n",
    "        tessDoc[\"searchURL\"] = tess.getTESSSearchURL(\"TSN\",gapDoc[\"ITIS_TSN\"])\n",
    "    else:\n",
    "        tessDoc[\"searchURL\"] = tess.getTESSSearchURL(\"SCINAME\",gapDoc[\"scientificname\"])\n",
    "    display (tessDoc)\n",
    "    print (gapspecies.update_one({\"_id\":gapDoc[\"_id\"]},{\"$set\":{\"tessCacheID\":tesscache.insert_one(tessDoc).inserted_id}},upsert=False))\n",
    "    "
   ]
  },
  {
   "cell_type": "markdown",
   "metadata": {},
   "source": [
    "Note: This is kind of a rough process at this point that will need some more work. I already ran a similar process at different times to create the start to processors for ITIS, WoRMS, and NatureServe (our three other current TIR caches). I'm working toward a solution for this that will run periodically over time to refresh itself, but I haven't yet designed exactly how that will work."
   ]
  },
  {
   "cell_type": "code",
   "execution_count": null,
   "metadata": {
    "collapsed": true
   },
   "outputs": [],
   "source": []
  }
 ],
 "metadata": {
  "kernelspec": {
   "display_name": "Python 3",
   "language": "python",
   "name": "python3"
  },
  "language_info": {
   "codemirror_mode": {
    "name": "ipython",
    "version": 3
   },
   "file_extension": ".py",
   "mimetype": "text/x-python",
   "name": "python",
   "nbconvert_exporter": "python",
   "pygments_lexer": "ipython3",
   "version": "3.5.3"
  }
 },
 "nbformat": 4,
 "nbformat_minor": 0
}
