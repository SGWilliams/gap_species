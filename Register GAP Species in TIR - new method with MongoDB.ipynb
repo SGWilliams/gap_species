{
 "cells": [
  {
   "cell_type": "markdown",
   "metadata": {
    "deletable": true,
    "editable": true
   },
   "source": [
    "This notebook exercises some new thinking in how to register GAP species for processing in the Taxa Information Registry. It works toward the notion of putting messages on a message queue, something we're working on but not quite ready with yet. This process examines GAP species records and sets up one or more API end point records in the TIR caches for processing. Those end points are then processed through a separate notebook."
   ]
  },
  {
   "cell_type": "code",
   "execution_count": 1,
   "metadata": {
    "collapsed": true,
    "deletable": true,
    "editable": true
   },
   "outputs": [],
   "source": [
    "from IPython.display import display\n",
    "from bis2 import mlab\n",
    "from bis import itis\n",
    "from bis import worms\n",
    "from bis import tess\n",
    "from bis import natureserve\n",
    "from bis import bison"
   ]
  },
  {
   "cell_type": "markdown",
   "metadata": {
    "deletable": true,
    "editable": true
   },
   "source": [
    "Here we set up a connection to the MLab instance of a MongoDB database we are experimenting with as our sandbox. We will eventually move this to a production instance. The data for the TIR is arranged into different collections of documents in the \"bis\" database."
   ]
  },
  {
   "cell_type": "code",
   "execution_count": 2,
   "metadata": {
    "collapsed": true,
    "deletable": true,
    "editable": true
   },
   "outputs": [],
   "source": [
    "bisDB = mlab.getDB(\"bis\")\n",
    "gapspecies = bisDB[\"gapspecies\"]\n",
    "itiscache = bisDB[\"itiscache\"]\n",
    "wormscache = bisDB[\"wormscache\"]\n",
    "tesscache = bisDB[\"tesscache\"]\n",
    "natureservecache = bisDB[\"natureservecache\"]\n",
    "bisoncache = bisDB[\"bisoncache\"]"
   ]
  },
  {
   "cell_type": "markdown",
   "metadata": {
    "deletable": true,
    "editable": true
   },
   "source": [
    "Here we loop through the GAP species documents that do not currently have a tessCacheID (identifier pointing to a document in the tesscache collection where FWS listing information is cached). This basically sets up the process that will go out and retrieve any available FWS listing information associated with a GAP species and cache it for our use. It calls a function in the bis.tess module that sets up the appropriate query URL for later processing."
   ]
  },
  {
   "cell_type": "code",
   "execution_count": 3,
   "metadata": {
    "collapsed": true,
    "deletable": true,
    "editable": true
   },
   "outputs": [],
   "source": [
    "for gapDoc in gapspecies.find({\"tessCacheID\":{\"$exists\":False}}):\n",
    "    tessDoc = {}\n",
    "    tessDoc[\"originCollection\"] = \"gapspecies\"\n",
    "    tessDoc[\"originID\"] = doc[\"_id\"]\n",
    "    if \"ITIS_TSN\" in gapDoc:\n",
    "        tessDoc[\"searchURL\"] = tess.getTESSSearchURL(\"TSN\",gapDoc[\"ITIS_TSN\"])\n",
    "    else:\n",
    "        tessDoc[\"searchURL\"] = tess.getTESSSearchURL(\"SCINAME\",gapDoc[\"scientificname\"])\n",
    "    display (tessDoc)\n",
    "    print (gapspecies.update_one({\"_id\":gapDoc[\"_id\"]},{\"$set\":{\"tessCacheID\":tesscache.insert_one(tessDoc).inserted_id}},upsert=False))\n",
    "    "
   ]
  },
  {
   "cell_type": "markdown",
   "metadata": {
    "deletable": true,
    "editable": true
   },
   "source": [
    "Note: This is kind of a rough process at this point that will need some more work. I already ran a similar process at different times to create the start to processors for ITIS, WoRMS, and NatureServe (our three other current TIR caches). I'm working toward a solution for this that will run periodically over time to refresh itself, but I haven't yet designed exactly how that will work."
   ]
  },
  {
   "cell_type": "code",
   "execution_count": 5,
   "metadata": {
    "collapsed": false,
    "deletable": true,
    "editable": true
   },
   "outputs": [
    {
     "data": {
      "text/plain": [
       "{'originCollection': 'gapspecies',\n",
       " 'originID': ObjectId('59b841760601bad0b9df0b99'),\n",
       " 'searchURL': 'https://bison.usgs.gov/api/search.json?count=1&tsn=180278'}"
      ]
     },
     "metadata": {},
     "output_type": "display_data"
    },
    {
     "name": "stdout",
     "output_type": "stream",
     "text": [
      "<pymongo.results.UpdateResult object at 0x1027a37c8>\n"
     ]
    },
    {
     "data": {
      "text/plain": [
       "{'originCollection': 'gapspecies',\n",
       " 'originID': ObjectId('59b841760601bad0b9df0b9a'),\n",
       " 'searchURL': 'https://bison.usgs.gov/api/search.json?count=1&tsn=179932'}"
      ]
     },
     "metadata": {},
     "output_type": "display_data"
    },
    {
     "name": "stdout",
     "output_type": "stream",
     "text": [
      "<pymongo.results.UpdateResult object at 0x10279b748>\n"
     ]
    },
    {
     "data": {
      "text/plain": [
       "{'originCollection': 'gapspecies',\n",
       " 'originID': ObjectId('59b841760601bad0b9df0b9b'),\n",
       " 'searchURL': 'https://bison.usgs.gov/api/search.json?count=1&tsn=683028'}"
      ]
     },
     "metadata": {},
     "output_type": "display_data"
    },
    {
     "name": "stdout",
     "output_type": "stream",
     "text": [
      "<pymongo.results.UpdateResult object at 0x10278f188>\n"
     ]
    },
    {
     "data": {
      "text/plain": [
       "{'originCollection': 'gapspecies',\n",
       " 'originID': ObjectId('59b841760601bad0b9df0b9c'),\n",
       " 'searchURL': 'https://bison.usgs.gov/api/search.json?count=1&tsn=174144'}"
      ]
     },
     "metadata": {},
     "output_type": "display_data"
    },
    {
     "name": "stdout",
     "output_type": "stream",
     "text": [
      "<pymongo.results.UpdateResult object at 0x102786f48>\n"
     ]
    },
    {
     "data": {
      "text/plain": [
       "{'originCollection': 'gapspecies',\n",
       " 'originID': ObjectId('59b841760601bad0b9df0b9d'),\n",
       " 'searchURL': 'https://bison.usgs.gov/api/search.json?count=1&tsn=179921'}"
      ]
     },
     "metadata": {},
     "output_type": "display_data"
    },
    {
     "name": "stdout",
     "output_type": "stream",
     "text": [
      "<pymongo.results.UpdateResult object at 0x1026d2188>\n"
     ]
    },
    {
     "data": {
      "text/plain": [
       "{'originCollection': 'gapspecies',\n",
       " 'originID': ObjectId('59b841760601bad0b9df0b9e'),\n",
       " 'searchURL': 'https://bison.usgs.gov/api/search.json?count=1&tsn=180543'}"
      ]
     },
     "metadata": {},
     "output_type": "display_data"
    },
    {
     "name": "stdout",
     "output_type": "stream",
     "text": [
      "<pymongo.results.UpdateResult object at 0x102798788>\n"
     ]
    },
    {
     "data": {
      "text/plain": [
       "{'originCollection': 'gapspecies',\n",
       " 'originID': ObjectId('59b841770601bad0b9df0b9f'),\n",
       " 'searchURL': 'https://bison.usgs.gov/api/search.json?count=1&tsn=173910'}"
      ]
     },
     "metadata": {},
     "output_type": "display_data"
    },
    {
     "name": "stdout",
     "output_type": "stream",
     "text": [
      "<pymongo.results.UpdateResult object at 0x10222fb08>\n"
     ]
    },
    {
     "data": {
      "text/plain": [
       "{'originCollection': 'gapspecies',\n",
       " 'originID': ObjectId('59b841770601bad0b9df0ba0'),\n",
       " 'searchURL': 'https://bison.usgs.gov/api/search.json?count=1&tsn=209400'}"
      ]
     },
     "metadata": {},
     "output_type": "display_data"
    },
    {
     "name": "stdout",
     "output_type": "stream",
     "text": [
      "<pymongo.results.UpdateResult object at 0x1027b6e88>\n"
     ]
    },
    {
     "data": {
      "text/plain": [
       "{'originCollection': 'gapspecies',\n",
       " 'originID': ObjectId('59b841770601bad0b9df0ba1'),\n",
       " 'searchURL': 'https://bison.usgs.gov/api/search.json?count=1&tsn=173786'}"
      ]
     },
     "metadata": {},
     "output_type": "display_data"
    },
    {
     "name": "stdout",
     "output_type": "stream",
     "text": [
      "<pymongo.results.UpdateResult object at 0x1027bd2c8>\n"
     ]
    },
    {
     "data": {
      "text/plain": [
       "{'originCollection': 'gapspecies',\n",
       " 'originID': ObjectId('59b841770601bad0b9df0ba2'),\n",
       " 'searchURL': 'https://bison.usgs.gov/api/search.json?count=1&tsn=209320'}"
      ]
     },
     "metadata": {},
     "output_type": "display_data"
    },
    {
     "name": "stdout",
     "output_type": "stream",
     "text": [
      "<pymongo.results.UpdateResult object at 0x1027be0c8>\n"
     ]
    },
    {
     "data": {
      "text/plain": [
       "{'originCollection': 'gapspecies',\n",
       " 'originID': ObjectId('59b841770601bad0b9df0ba3'),\n",
       " 'searchURL': 'https://bison.usgs.gov/api/search.json?count=1&tsn=173936'}"
      ]
     },
     "metadata": {},
     "output_type": "display_data"
    },
    {
     "name": "stdout",
     "output_type": "stream",
     "text": [
      "<pymongo.results.UpdateResult object at 0x1027c4688>\n"
     ]
    },
    {
     "data": {
      "text/plain": [
       "{'originCollection': 'gapspecies',\n",
       " 'originID': ObjectId('59b841770601bad0b9df0ba4'),\n",
       " 'searchURL': 'https://bison.usgs.gov/api/search.json?count=1&tsn=174258'}"
      ]
     },
     "metadata": {},
     "output_type": "display_data"
    },
    {
     "name": "stdout",
     "output_type": "stream",
     "text": [
      "<pymongo.results.UpdateResult object at 0x1022dfe88>\n"
     ]
    },
    {
     "data": {
      "text/plain": [
       "{'originCollection': 'gapspecies',\n",
       " 'originID': ObjectId('59b841770601bad0b9df0ba5'),\n",
       " 'searchURL': 'https://bison.usgs.gov/api/search.json?count=1&tsn=173800'}"
      ]
     },
     "metadata": {},
     "output_type": "display_data"
    },
    {
     "name": "stdout",
     "output_type": "stream",
     "text": [
      "<pymongo.results.UpdateResult object at 0x102c1c288>\n"
     ]
    },
    {
     "data": {
      "text/plain": [
       "{'originCollection': 'gapspecies',\n",
       " 'originID': ObjectId('59b841780601bad0b9df0ba6'),\n",
       " 'searchURL': 'https://bison.usgs.gov/api/search.json?count=1&tsn=668672'}"
      ]
     },
     "metadata": {},
     "output_type": "display_data"
    },
    {
     "name": "stdout",
     "output_type": "stream",
     "text": [
      "<pymongo.results.UpdateResult object at 0x102c210c8>\n"
     ]
    },
    {
     "data": {
      "text/plain": [
       "{'originCollection': 'gapspecies',\n",
       " 'originID': ObjectId('59b841780601bad0b9df0ba7'),\n",
       " 'searchURL': 'https://bison.usgs.gov/api/search.json?count=1&tsn=173874'}"
      ]
     },
     "metadata": {},
     "output_type": "display_data"
    },
    {
     "name": "stdout",
     "output_type": "stream",
     "text": [
      "<pymongo.results.UpdateResult object at 0x102c27488>\n"
     ]
    },
    {
     "data": {
      "text/plain": [
       "{'originCollection': 'gapspecies',\n",
       " 'originID': ObjectId('59b841780601bad0b9df0ba8'),\n",
       " 'searchURL': 'https://bison.usgs.gov/api/search.json?count=1&tsn=180123'}"
      ]
     },
     "metadata": {},
     "output_type": "display_data"
    },
    {
     "name": "stdout",
     "output_type": "stream",
     "text": [
      "<pymongo.results.UpdateResult object at 0x102c2f0c8>\n"
     ]
    },
    {
     "data": {
      "text/plain": [
       "{'originCollection': 'gapspecies',\n",
       " 'originID': ObjectId('59b841780601bad0b9df0ba9'),\n",
       " 'searchURL': 'https://bison.usgs.gov/api/search.json?count=1&tsn=550546'}"
      ]
     },
     "metadata": {},
     "output_type": "display_data"
    },
    {
     "name": "stdout",
     "output_type": "stream",
     "text": [
      "<pymongo.results.UpdateResult object at 0x102c35848>\n"
     ]
    },
    {
     "data": {
      "text/plain": [
       "{'originCollection': 'gapspecies',\n",
       " 'originID': ObjectId('59b841780601bad0b9df0baa'),\n",
       " 'searchURL': 'https://bison.usgs.gov/api/search.json?count=1&tsn=180240'}"
      ]
     },
     "metadata": {},
     "output_type": "display_data"
    },
    {
     "name": "stdout",
     "output_type": "stream",
     "text": [
      "<pymongo.results.UpdateResult object at 0x102c376c8>\n"
     ]
    },
    {
     "data": {
      "text/plain": [
       "{'originCollection': 'gapspecies',\n",
       " 'originID': ObjectId('59b841780601bad0b9df0bab'),\n",
       " 'searchURL': 'https://bison.usgs.gov/api/search.json?count=1&tsn=180179'}"
      ]
     },
     "metadata": {},
     "output_type": "display_data"
    },
    {
     "name": "stdout",
     "output_type": "stream",
     "text": [
      "<pymongo.results.UpdateResult object at 0x102c43948>\n"
     ]
    },
    {
     "data": {
      "text/plain": [
       "{'originCollection': 'gapspecies',\n",
       " 'originID': ObjectId('59b841790601bad0b9df0bac'),\n",
       " 'searchURL': 'https://bison.usgs.gov/api/search.json?count=1&tsn=202307'}"
      ]
     },
     "metadata": {},
     "output_type": "display_data"
    },
    {
     "name": "stdout",
     "output_type": "stream",
     "text": [
      "<pymongo.results.UpdateResult object at 0x102c49048>\n"
     ]
    },
    {
     "data": {
      "text/plain": [
       "{'originCollection': 'gapspecies',\n",
       " 'originID': ObjectId('59b841790601bad0b9df0bad'),\n",
       " 'searchURL': 'https://bison.usgs.gov/api/search.json?count=1&tsn=180284'}"
      ]
     },
     "metadata": {},
     "output_type": "display_data"
    },
    {
     "name": "stdout",
     "output_type": "stream",
     "text": [
      "<pymongo.results.UpdateResult object at 0x102c4d3c8>\n"
     ]
    },
    {
     "data": {
      "text/plain": [
       "{'originCollection': 'gapspecies',\n",
       " 'originID': ObjectId('59b841790601bad0b9df0bae'),\n",
       " 'searchURL': 'https://bison.usgs.gov/api/search.json?count=1&tsn=173653'}"
      ]
     },
     "metadata": {},
     "output_type": "display_data"
    },
    {
     "name": "stdout",
     "output_type": "stream",
     "text": [
      "<pymongo.results.UpdateResult object at 0x102f4b0c8>\n"
     ]
    },
    {
     "data": {
      "text/plain": [
       "{'originCollection': 'gapspecies',\n",
       " 'originID': ObjectId('59b841790601bad0b9df0baf'),\n",
       " 'searchURL': 'https://bison.usgs.gov/api/search.json?count=1&tsn=208285'}"
      ]
     },
     "metadata": {},
     "output_type": "display_data"
    },
    {
     "name": "stdout",
     "output_type": "stream",
     "text": [
      "<pymongo.results.UpdateResult object at 0x102f500c8>\n"
     ]
    },
    {
     "data": {
      "text/plain": [
       "{'originCollection': 'gapspecies',\n",
       " 'originID': ObjectId('59b841790601bad0b9df0bb0'),\n",
       " 'searchURL': 'https://bison.usgs.gov/api/search.json?count=1&tsn=180230'}"
      ]
     },
     "metadata": {},
     "output_type": "display_data"
    },
    {
     "name": "stdout",
     "output_type": "stream",
     "text": [
      "<pymongo.results.UpdateResult object at 0x102f58688>\n"
     ]
    },
    {
     "data": {
      "text/plain": [
       "{'originCollection': 'gapspecies',\n",
       " 'originID': ObjectId('59b8417a0601bad0b9df0bb1'),\n",
       " 'searchURL': 'https://bison.usgs.gov/api/search.json?count=1&tsn=180191'}"
      ]
     },
     "metadata": {},
     "output_type": "display_data"
    },
    {
     "name": "stdout",
     "output_type": "stream",
     "text": [
      "<pymongo.results.UpdateResult object at 0x102f5f0c8>\n"
     ]
    },
    {
     "data": {
      "text/plain": [
       "{'originCollection': 'gapspecies',\n",
       " 'originID': ObjectId('59b8417a0601bad0b9df0bb2'),\n",
       " 'searchURL': 'https://bison.usgs.gov/api/search.json?count=1&tsn=180699'}"
      ]
     },
     "metadata": {},
     "output_type": "display_data"
    },
    {
     "name": "stdout",
     "output_type": "stream",
     "text": [
      "<pymongo.results.UpdateResult object at 0x102f65688>\n"
     ]
    },
    {
     "data": {
      "text/plain": [
       "{'originCollection': 'gapspecies',\n",
       " 'originID': ObjectId('59b8417a0601bad0b9df0bb3'),\n",
       " 'searchURL': 'https://bison.usgs.gov/api/search.json?count=1&tsn=180205'}"
      ]
     },
     "metadata": {},
     "output_type": "display_data"
    },
    {
     "name": "stdout",
     "output_type": "stream",
     "text": [
      "<pymongo.results.UpdateResult object at 0x102f6c048>\n"
     ]
    },
    {
     "data": {
      "text/plain": [
       "{'originCollection': 'gapspecies',\n",
       " 'originID': ObjectId('59b8417a0601bad0b9df0bb4'),\n",
       " 'searchURL': 'https://bison.usgs.gov/api/search.json?count=1&tsn=174715'}"
      ]
     },
     "metadata": {},
     "output_type": "display_data"
    },
    {
     "name": "stdout",
     "output_type": "stream",
     "text": [
      "<pymongo.results.UpdateResult object at 0x102f70408>\n"
     ]
    },
    {
     "data": {
      "text/plain": [
       "{'originCollection': 'gapspecies',\n",
       " 'originID': ObjectId('59b8417b0601bad0b9df0bb5'),\n",
       " 'searchURL': 'https://bison.usgs.gov/api/search.json?count=1&tsn=173605'}"
      ]
     },
     "metadata": {},
     "output_type": "display_data"
    },
    {
     "name": "stdout",
     "output_type": "stream",
     "text": [
      "<pymongo.results.UpdateResult object at 0x102f760c8>\n"
     ]
    },
    {
     "data": {
      "text/plain": [
       "{'originCollection': 'gapspecies',\n",
       " 'originID': ObjectId('59b8417b0601bad0b9df0bb6'),\n",
       " 'searchURL': 'https://bison.usgs.gov/api/search.json?count=1&tsn=686658'}"
      ]
     },
     "metadata": {},
     "output_type": "display_data"
    },
    {
     "name": "stdout",
     "output_type": "stream",
     "text": [
      "<pymongo.results.UpdateResult object at 0x102f7c088>\n"
     ]
    },
    {
     "data": {
      "text/plain": [
       "{'originCollection': 'gapspecies',\n",
       " 'originID': ObjectId('59b8417b0601bad0b9df0bb7'),\n",
       " 'searchURL': 'https://bison.usgs.gov/api/search.json?count=1&tsn=178869'}"
      ]
     },
     "metadata": {},
     "output_type": "display_data"
    },
    {
     "name": "stdout",
     "output_type": "stream",
     "text": [
      "<pymongo.results.UpdateResult object at 0x102f7ce88>\n"
     ]
    },
    {
     "data": {
      "text/plain": [
       "{'originCollection': 'gapspecies',\n",
       " 'originID': ObjectId('59b8417b0601bad0b9df0bb8'),\n",
       " 'searchURL': 'https://bison.usgs.gov/api/search.json?count=1&tsn=176221'}"
      ]
     },
     "metadata": {},
     "output_type": "display_data"
    },
    {
     "name": "stdout",
     "output_type": "stream",
     "text": [
      "<pymongo.results.UpdateResult object at 0x102f839c8>\n"
     ]
    },
    {
     "data": {
      "text/plain": [
       "{'originCollection': 'gapspecies',\n",
       " 'originID': ObjectId('59b8417c0601bad0b9df0bb9'),\n",
       " 'searchURL': 'https://bison.usgs.gov/api/search.json?count=1&tsn=180150'}"
      ]
     },
     "metadata": {},
     "output_type": "display_data"
    },
    {
     "name": "stdout",
     "output_type": "stream",
     "text": [
      "<pymongo.results.UpdateResult object at 0x102ab7048>\n"
     ]
    },
    {
     "data": {
      "text/plain": [
       "{'originCollection': 'gapspecies',\n",
       " 'originID': ObjectId('59b8417c0601bad0b9df0bba'),\n",
       " 'searchURL': 'https://bison.usgs.gov/api/search.json?count=1&tsn=176922'}"
      ]
     },
     "metadata": {},
     "output_type": "display_data"
    },
    {
     "name": "stdout",
     "output_type": "stream",
     "text": [
      "<pymongo.results.UpdateResult object at 0x102abc188>\n"
     ]
    },
    {
     "data": {
      "text/plain": [
       "{'originCollection': 'gapspecies',\n",
       " 'originID': ObjectId('59b8417d0601bad0b9df0bbb'),\n",
       " 'searchURL': 'https://bison.usgs.gov/api/search.json?count=1&tsn=180363'}"
      ]
     },
     "metadata": {},
     "output_type": "display_data"
    },
    {
     "name": "stdout",
     "output_type": "stream",
     "text": [
      "<pymongo.results.UpdateResult object at 0x102abf0c8>\n"
     ]
    },
    {
     "data": {
      "text/plain": [
       "{'originCollection': 'gapspecies',\n",
       " 'originID': ObjectId('59b8417d0601bad0b9df0bbc'),\n",
       " 'searchURL': 'https://bison.usgs.gov/api/search.json?count=1&tsn=726907'}"
      ]
     },
     "metadata": {},
     "output_type": "display_data"
    },
    {
     "name": "stdout",
     "output_type": "stream",
     "text": [
      "<pymongo.results.UpdateResult object at 0x102ac8108>\n"
     ]
    },
    {
     "data": {
      "text/plain": [
       "{'originCollection': 'gapspecies',\n",
       " 'originID': ObjectId('59b8417d0601bad0b9df0bbd'),\n",
       " 'searchURL': 'https://bison.usgs.gov/api/search.json?count=1&tsn=180563'}"
      ]
     },
     "metadata": {},
     "output_type": "display_data"
    },
    {
     "name": "stdout",
     "output_type": "stream",
     "text": [
      "<pymongo.results.UpdateResult object at 0x102acd788>\n"
     ]
    },
    {
     "data": {
      "text/plain": [
       "{'originCollection': 'gapspecies',\n",
       " 'originID': ObjectId('59b8417e0601bad0b9df0bbe'),\n",
       " 'searchURL': 'https://bison.usgs.gov/api/search.json?count=1&tsn=552483'}"
      ]
     },
     "metadata": {},
     "output_type": "display_data"
    },
    {
     "name": "stdout",
     "output_type": "stream",
     "text": [
      "<pymongo.results.UpdateResult object at 0x102ad41c8>\n"
     ]
    },
    {
     "data": {
      "text/plain": [
       "{'originCollection': 'gapspecies',\n",
       " 'originID': ObjectId('59b8417e0601bad0b9df0bbf'),\n",
       " 'searchURL': 'https://bison.usgs.gov/api/search.json?count=1&tsn=179016'}"
      ]
     },
     "metadata": {},
     "output_type": "display_data"
    },
    {
     "name": "stdout",
     "output_type": "stream",
     "text": [
      "<pymongo.results.UpdateResult object at 0x102ad9308>\n"
     ]
    },
    {
     "data": {
      "text/plain": [
       "{'originCollection': 'gapspecies',\n",
       " 'originID': ObjectId('59b8417e0601bad0b9df0bc0'),\n",
       " 'searchURL': 'https://bison.usgs.gov/api/search.json?count=1&tsn=180139'}"
      ]
     },
     "metadata": {},
     "output_type": "display_data"
    },
    {
     "name": "stdout",
     "output_type": "stream",
     "text": [
      "<pymongo.results.UpdateResult object at 0x102adf408>\n"
     ]
    },
    {
     "data": {
      "text/plain": [
       "{'originCollection': 'gapspecies',\n",
       " 'originID': ObjectId('59b8417e0601bad0b9df0bc1'),\n",
       " 'searchURL': 'https://bison.usgs.gov/api/search.json?count=1&tsn=726908'}"
      ]
     },
     "metadata": {},
     "output_type": "display_data"
    },
    {
     "name": "stdout",
     "output_type": "stream",
     "text": [
      "<pymongo.results.UpdateResult object at 0x102ae7048>\n"
     ]
    },
    {
     "data": {
      "text/plain": [
       "{'originCollection': 'gapspecies',\n",
       " 'originID': ObjectId('59b8417f0601bad0b9df0bc2'),\n",
       " 'searchURL': 'https://bison.usgs.gov/api/search.json?count=1&tsn=726257'}"
      ]
     },
     "metadata": {},
     "output_type": "display_data"
    },
    {
     "name": "stdout",
     "output_type": "stream",
     "text": [
      "<pymongo.results.UpdateResult object at 0x102aed448>\n"
     ]
    },
    {
     "data": {
      "text/plain": [
       "{'originCollection': 'gapspecies',\n",
       " 'originID': ObjectId('59b8417f0601bad0b9df0bc3'),\n",
       " 'searchURL': 'https://bison.usgs.gov/api/search.json?count=1&tsn=178562'}"
      ]
     },
     "metadata": {},
     "output_type": "display_data"
    },
    {
     "name": "stdout",
     "output_type": "stream",
     "text": [
      "<pymongo.results.UpdateResult object at 0x102880188>\n"
     ]
    },
    {
     "data": {
      "text/plain": [
       "{'originCollection': 'gapspecies',\n",
       " 'originID': ObjectId('59b8417f0601bad0b9df0bc4'),\n",
       " 'searchURL': 'https://bison.usgs.gov/api/search.json?count=1&tsn=178891'}"
      ]
     },
     "metadata": {},
     "output_type": "display_data"
    },
    {
     "name": "stdout",
     "output_type": "stream",
     "text": [
      "<pymongo.results.UpdateResult object at 0x1028861c8>\n"
     ]
    },
    {
     "data": {
      "text/plain": [
       "{'originCollection': 'gapspecies',\n",
       " 'originID': ObjectId('59b841800601bad0b9df0bc5'),\n",
       " 'searchURL': 'https://bison.usgs.gov/api/search.json?count=1&tsn=180347'}"
      ]
     },
     "metadata": {},
     "output_type": "display_data"
    },
    {
     "name": "stdout",
     "output_type": "stream",
     "text": [
      "<pymongo.results.UpdateResult object at 0x10288a908>\n"
     ]
    },
    {
     "data": {
      "text/plain": [
       "{'originCollection': 'gapspecies',\n",
       " 'originID': ObjectId('59b841800601bad0b9df0bc6'),\n",
       " 'searchURL': 'https://bison.usgs.gov/api/search.json?count=1&tsn=173871'}"
      ]
     },
     "metadata": {},
     "output_type": "display_data"
    },
    {
     "name": "stdout",
     "output_type": "stream",
     "text": [
      "<pymongo.results.UpdateResult object at 0x1028910c8>\n"
     ]
    },
    {
     "data": {
      "text/plain": [
       "{'originCollection': 'gapspecies',\n",
       " 'originID': ObjectId('59b841800601bad0b9df0bc7'),\n",
       " 'searchURL': 'https://bison.usgs.gov/api/search.json?count=1&tsn=173761'}"
      ]
     },
     "metadata": {},
     "output_type": "display_data"
    },
    {
     "name": "stdout",
     "output_type": "stream",
     "text": [
      "<pymongo.results.UpdateResult object at 0x102897148>\n"
     ]
    },
    {
     "data": {
      "text/plain": [
       "{'originCollection': 'gapspecies',\n",
       " 'originID': ObjectId('59b841810601bad0b9df0bc8'),\n",
       " 'searchURL': 'https://bison.usgs.gov/api/search.json?count=1&tsn=552492'}"
      ]
     },
     "metadata": {},
     "output_type": "display_data"
    },
    {
     "name": "stdout",
     "output_type": "stream",
     "text": [
      "<pymongo.results.UpdateResult object at 0x10289c648>\n"
     ]
    },
    {
     "data": {
      "text/plain": [
       "{'originCollection': 'gapspecies',\n",
       " 'originID': ObjectId('59b841810601bad0b9df0bc9'),\n",
       " 'searchURL': 'https://bison.usgs.gov/api/search.json?count=1&tsn=180362'}"
      ]
     },
     "metadata": {},
     "output_type": "display_data"
    },
    {
     "name": "stdout",
     "output_type": "stream",
     "text": [
      "<pymongo.results.UpdateResult object at 0x10289f348>\n"
     ]
    },
    {
     "data": {
      "text/plain": [
       "{'originCollection': 'gapspecies',\n",
       " 'originID': ObjectId('59b841810601bad0b9df0bca'),\n",
       " 'searchURL': 'https://bison.usgs.gov/api/search.json?count=1&tsn=174158'}"
      ]
     },
     "metadata": {},
     "output_type": "display_data"
    },
    {
     "name": "stdout",
     "output_type": "stream",
     "text": [
      "<pymongo.results.UpdateResult object at 0x1028a8688>\n"
     ]
    },
    {
     "data": {
      "text/plain": [
       "{'originCollection': 'gapspecies',\n",
       " 'originID': ObjectId('59b841810601bad0b9df0bcb'),\n",
       " 'searchURL': 'https://bison.usgs.gov/api/search.json?count=1&tsn=174040'}"
      ]
     },
     "metadata": {},
     "output_type": "display_data"
    },
    {
     "name": "stdout",
     "output_type": "stream",
     "text": [
      "<pymongo.results.UpdateResult object at 0x1028aa308>\n"
     ]
    },
    {
     "data": {
      "text/plain": [
       "{'originCollection': 'gapspecies',\n",
       " 'originID': ObjectId('59b841820601bad0b9df0bcc'),\n",
       " 'searchURL': 'https://bison.usgs.gov/api/search.json?count=1&tsn=180294'}"
      ]
     },
     "metadata": {},
     "output_type": "display_data"
    },
    {
     "name": "stdout",
     "output_type": "stream",
     "text": [
      "<pymongo.results.UpdateResult object at 0x1028b4048>\n"
     ]
    },
    {
     "data": {
      "text/plain": [
       "{'originCollection': 'gapspecies',\n",
       " 'originID': ObjectId('59b841820601bad0b9df0bcd'),\n",
       " 'searchURL': 'https://bison.usgs.gov/api/search.json?count=1&type=scientific_name&species=Heterodon kennerlyi'}"
      ]
     },
     "metadata": {},
     "output_type": "display_data"
    },
    {
     "name": "stdout",
     "output_type": "stream",
     "text": [
      "<pymongo.results.UpdateResult object at 0x1028b90c8>\n"
     ]
    },
    {
     "data": {
      "text/plain": [
       "{'originCollection': 'gapspecies',\n",
       " 'originID': ObjectId('59b841820601bad0b9df0bce'),\n",
       " 'searchURL': 'https://bison.usgs.gov/api/search.json?count=1&tsn=683035'}"
      ]
     },
     "metadata": {},
     "output_type": "display_data"
    },
    {
     "name": "stdout",
     "output_type": "stream",
     "text": [
      "<pymongo.results.UpdateResult object at 0x1028bb148>\n"
     ]
    },
    {
     "data": {
      "text/plain": [
       "{'originCollection': 'gapspecies',\n",
       " 'originID': ObjectId('59b841820601bad0b9df0bcf'),\n",
       " 'searchURL': 'https://bison.usgs.gov/api/search.json?count=1&tsn=208992'}"
      ]
     },
     "metadata": {},
     "output_type": "display_data"
    },
    {
     "name": "stdout",
     "output_type": "stream",
     "text": [
      "<pymongo.results.UpdateResult object at 0x102a3d808>\n"
     ]
    },
    {
     "data": {
      "text/plain": [
       "{'originCollection': 'gapspecies',\n",
       " 'originID': ObjectId('59b841830601bad0b9df0bd0'),\n",
       " 'searchURL': 'https://bison.usgs.gov/api/search.json?count=1&tsn=179950'}"
      ]
     },
     "metadata": {},
     "output_type": "display_data"
    },
    {
     "name": "stdout",
     "output_type": "stream",
     "text": [
      "<pymongo.results.UpdateResult object at 0x102a40548>\n"
     ]
    },
    {
     "data": {
      "text/plain": [
       "{'originCollection': 'gapspecies',\n",
       " 'originID': ObjectId('59b841830601bad0b9df0bd1'),\n",
       " 'searchURL': 'https://bison.usgs.gov/api/search.json?count=1&tsn=174218'}"
      ]
     },
     "metadata": {},
     "output_type": "display_data"
    },
    {
     "name": "stdout",
     "output_type": "stream",
     "text": [
      "<pymongo.results.UpdateResult object at 0x102a49588>\n"
     ]
    },
    {
     "data": {
      "text/plain": [
       "{'originCollection': 'gapspecies',\n",
       " 'originID': ObjectId('59b841830601bad0b9df0bd2'),\n",
       " 'searchURL': 'https://bison.usgs.gov/api/search.json?count=1&tsn=173858'}"
      ]
     },
     "metadata": {},
     "output_type": "display_data"
    },
    {
     "name": "stdout",
     "output_type": "stream",
     "text": [
      "<pymongo.results.UpdateResult object at 0x102a50188>\n"
     ]
    },
    {
     "data": {
      "text/plain": [
       "{'originCollection': 'gapspecies',\n",
       " 'originID': ObjectId('59b841840601bad0b9df0bd3'),\n",
       " 'searchURL': 'https://bison.usgs.gov/api/search.json?count=1&tsn=775125'}"
      ]
     },
     "metadata": {},
     "output_type": "display_data"
    },
    {
     "name": "stdout",
     "output_type": "stream",
     "text": [
      "<pymongo.results.UpdateResult object at 0x102a560c8>\n"
     ]
    },
    {
     "data": {
      "text/plain": [
       "{'originCollection': 'gapspecies',\n",
       " 'originID': ObjectId('59b841840601bad0b9df0bd4'),\n",
       " 'searchURL': 'https://bison.usgs.gov/api/search.json?count=1&tsn=173687'}"
      ]
     },
     "metadata": {},
     "output_type": "display_data"
    },
    {
     "name": "stdout",
     "output_type": "stream",
     "text": [
      "<pymongo.results.UpdateResult object at 0x102a5a388>\n"
     ]
    },
    {
     "data": {
      "text/plain": [
       "{'originCollection': 'gapspecies',\n",
       " 'originID': ObjectId('59b841840601bad0b9df0bd5'),\n",
       " 'searchURL': 'https://bison.usgs.gov/api/search.json?count=1&tsn=209451'}"
      ]
     },
     "metadata": {},
     "output_type": "display_data"
    },
    {
     "name": "stdout",
     "output_type": "stream",
     "text": [
      "<pymongo.results.UpdateResult object at 0x102a61288>\n"
     ]
    },
    {
     "data": {
      "text/plain": [
       "{'originCollection': 'gapspecies',\n",
       " 'originID': ObjectId('59b841840601bad0b9df0bd6'),\n",
       " 'searchURL': 'https://bison.usgs.gov/api/search.json?count=1&tsn=174041'}"
      ]
     },
     "metadata": {},
     "output_type": "display_data"
    },
    {
     "name": "stdout",
     "output_type": "stream",
     "text": [
      "<pymongo.results.UpdateResult object at 0x102a66108>\n"
     ]
    },
    {
     "data": {
      "text/plain": [
       "{'originCollection': 'gapspecies',\n",
       " 'originID': ObjectId('59b841850601bad0b9df0bd7'),\n",
       " 'searchURL': 'https://bison.usgs.gov/api/search.json?count=1&tsn=173693'}"
      ]
     },
     "metadata": {},
     "output_type": "display_data"
    },
    {
     "name": "stdout",
     "output_type": "stream",
     "text": [
      "<pymongo.results.UpdateResult object at 0x102a6d0c8>\n"
     ]
    },
    {
     "data": {
      "text/plain": [
       "{'originCollection': 'gapspecies',\n",
       " 'originID': ObjectId('59b841850601bad0b9df0bd8'),\n",
       " 'searchURL': 'https://bison.usgs.gov/api/search.json?count=1&tsn=176472'}"
      ]
     },
     "metadata": {},
     "output_type": "display_data"
    },
    {
     "name": "stdout",
     "output_type": "stream",
     "text": [
      "<pymongo.results.UpdateResult object at 0x102a72048>\n"
     ]
    },
    {
     "data": {
      "text/plain": [
       "{'originCollection': 'gapspecies',\n",
       " 'originID': ObjectId('59b841850601bad0b9df0bd9'),\n",
       " 'searchURL': 'https://bison.usgs.gov/api/search.json?count=1&tsn=173594'}"
      ]
     },
     "metadata": {},
     "output_type": "display_data"
    },
    {
     "name": "stdout",
     "output_type": "stream",
     "text": [
      "<pymongo.results.UpdateResult object at 0x102b28708>\n"
     ]
    },
    {
     "data": {
      "text/plain": [
       "{'originCollection': 'gapspecies',\n",
       " 'originID': ObjectId('59b841850601bad0b9df0bda'),\n",
       " 'searchURL': 'https://bison.usgs.gov/api/search.json?count=1&tsn=173669'}"
      ]
     },
     "metadata": {},
     "output_type": "display_data"
    },
    {
     "name": "stdout",
     "output_type": "stream",
     "text": [
      "<pymongo.results.UpdateResult object at 0x102b2e048>\n"
     ]
    },
    {
     "data": {
      "text/plain": [
       "{'originCollection': 'gapspecies',\n",
       " 'originID': ObjectId('59b841860601bad0b9df0bdb'),\n",
       " 'searchURL': 'https://bison.usgs.gov/api/search.json?count=1&tsn=174240'}"
      ]
     },
     "metadata": {},
     "output_type": "display_data"
    },
    {
     "name": "stdout",
     "output_type": "stream",
     "text": [
      "<pymongo.results.UpdateResult object at 0x102b36088>\n"
     ]
    },
    {
     "data": {
      "text/plain": [
       "{'originCollection': 'gapspecies',\n",
       " 'originID': ObjectId('59b841860601bad0b9df0bdc'),\n",
       " 'searchURL': 'https://bison.usgs.gov/api/search.json?count=1&tsn=174315'}"
      ]
     },
     "metadata": {},
     "output_type": "display_data"
    },
    {
     "name": "stdout",
     "output_type": "stream",
     "text": [
      "<pymongo.results.UpdateResult object at 0x102b3b348>\n"
     ]
    },
    {
     "data": {
      "text/plain": [
       "{'originCollection': 'gapspecies',\n",
       " 'originID': ObjectId('59b841860601bad0b9df0bdd'),\n",
       " 'searchURL': 'https://bison.usgs.gov/api/search.json?count=1&tsn=173505'}"
      ]
     },
     "metadata": {},
     "output_type": "display_data"
    },
    {
     "name": "stdout",
     "output_type": "stream",
     "text": [
      "<pymongo.results.UpdateResult object at 0x102b3e608>\n"
     ]
    },
    {
     "data": {
      "text/plain": [
       "{'originCollection': 'gapspecies',\n",
       " 'originID': ObjectId('59b841870601bad0b9df0bde'),\n",
       " 'searchURL': 'https://bison.usgs.gov/api/search.json?count=1&tsn=173503'}"
      ]
     },
     "metadata": {},
     "output_type": "display_data"
    },
    {
     "name": "stdout",
     "output_type": "stream",
     "text": [
      "<pymongo.results.UpdateResult object at 0x102b40388>\n"
     ]
    },
    {
     "data": {
      "text/plain": [
       "{'originCollection': 'gapspecies',\n",
       " 'originID': ObjectId('59b841870601bad0b9df0bdf'),\n",
       " 'searchURL': 'https://bison.usgs.gov/api/search.json?count=1&tsn=668325'}"
      ]
     },
     "metadata": {},
     "output_type": "display_data"
    },
    {
     "name": "stdout",
     "output_type": "stream",
     "text": [
      "<pymongo.results.UpdateResult object at 0x101852308>\n"
     ]
    },
    {
     "data": {
      "text/plain": [
       "{'originCollection': 'gapspecies',\n",
       " 'originID': ObjectId('59b841870601bad0b9df0be0'),\n",
       " 'searchURL': 'https://bison.usgs.gov/api/search.json?count=1&tsn=173752'}"
      ]
     },
     "metadata": {},
     "output_type": "display_data"
    },
    {
     "name": "stdout",
     "output_type": "stream",
     "text": [
      "<pymongo.results.UpdateResult object at 0x101ccb508>\n"
     ]
    },
    {
     "data": {
      "text/plain": [
       "{'originCollection': 'gapspecies',\n",
       " 'originID': ObjectId('59b841870601bad0b9df0be1'),\n",
       " 'searchURL': 'https://bison.usgs.gov/api/search.json?count=1&tsn=173725'}"
      ]
     },
     "metadata": {},
     "output_type": "display_data"
    },
    {
     "name": "stdout",
     "output_type": "stream",
     "text": [
      "<pymongo.results.UpdateResult object at 0x101ccf048>\n"
     ]
    },
    {
     "data": {
      "text/plain": [
       "{'originCollection': 'gapspecies',\n",
       " 'originID': ObjectId('59b841870601bad0b9df0be2'),\n",
       " 'searchURL': 'https://bison.usgs.gov/api/search.json?count=1&tsn=178154'}"
      ]
     },
     "metadata": {},
     "output_type": "display_data"
    },
    {
     "name": "stdout",
     "output_type": "stream",
     "text": [
      "<pymongo.results.UpdateResult object at 0x102b4f248>\n"
     ]
    },
    {
     "data": {
      "text/plain": [
       "{'originCollection': 'gapspecies',\n",
       " 'originID': ObjectId('59b841870601bad0b9df0be3'),\n",
       " 'searchURL': 'https://bison.usgs.gov/api/search.json?count=1&tsn=180133'}"
      ]
     },
     "metadata": {},
     "output_type": "display_data"
    },
    {
     "name": "stdout",
     "output_type": "stream",
     "text": [
      "<pymongo.results.UpdateResult object at 0x102b581c8>\n"
     ]
    },
    {
     "data": {
      "text/plain": [
       "{'originCollection': 'gapspecies',\n",
       " 'originID': ObjectId('59b841870601bad0b9df0be4'),\n",
       " 'searchURL': 'https://bison.usgs.gov/api/search.json?count=1&tsn=179132'}"
      ]
     },
     "metadata": {},
     "output_type": "display_data"
    },
    {
     "name": "stdout",
     "output_type": "stream",
     "text": [
      "<pymongo.results.UpdateResult object at 0x102b5d248>\n"
     ]
    },
    {
     "data": {
      "text/plain": [
       "{'originCollection': 'gapspecies',\n",
       " 'originID': ObjectId('59b841880601bad0b9df0be5'),\n",
       " 'searchURL': 'https://bison.usgs.gov/api/search.json?count=1&tsn=180381'}"
      ]
     },
     "metadata": {},
     "output_type": "display_data"
    },
    {
     "name": "stdout",
     "output_type": "stream",
     "text": [
      "<pymongo.results.UpdateResult object at 0x102b64188>\n"
     ]
    },
    {
     "data": {
      "text/plain": [
       "{'originCollection': 'gapspecies',\n",
       " 'originID': ObjectId('59b841880601bad0b9df0be6'),\n",
       " 'searchURL': 'https://bison.usgs.gov/api/search.json?count=1&tsn=174725'}"
      ]
     },
     "metadata": {},
     "output_type": "display_data"
    },
    {
     "name": "stdout",
     "output_type": "stream",
     "text": [
      "<pymongo.results.UpdateResult object at 0x102bd1208>\n"
     ]
    },
    {
     "data": {
      "text/plain": [
       "{'originCollection': 'gapspecies',\n",
       " 'originID': ObjectId('59b841880601bad0b9df0be7'),\n",
       " 'searchURL': 'https://bison.usgs.gov/api/search.json?count=1&tsn=179022'}"
      ]
     },
     "metadata": {},
     "output_type": "display_data"
    },
    {
     "name": "stdout",
     "output_type": "stream",
     "text": [
      "<pymongo.results.UpdateResult object at 0x102bd3088>\n"
     ]
    },
    {
     "data": {
      "text/plain": [
       "{'originCollection': 'gapspecies',\n",
       " 'originID': ObjectId('59b841880601bad0b9df0be8'),\n",
       " 'searchURL': 'https://bison.usgs.gov/api/search.json?count=1&tsn=179205'}"
      ]
     },
     "metadata": {},
     "output_type": "display_data"
    },
    {
     "name": "stdout",
     "output_type": "stream",
     "text": [
      "<pymongo.results.UpdateResult object at 0x102bde088>\n"
     ]
    },
    {
     "data": {
      "text/plain": [
       "{'originCollection': 'gapspecies',\n",
       " 'originID': ObjectId('59b841880601bad0b9df0be9'),\n",
       " 'searchURL': 'https://bison.usgs.gov/api/search.json?count=1&tsn=179233'}"
      ]
     },
     "metadata": {},
     "output_type": "display_data"
    },
    {
     "name": "stdout",
     "output_type": "stream",
     "text": [
      "<pymongo.results.UpdateResult object at 0x102be3508>\n"
     ]
    },
    {
     "data": {
      "text/plain": [
       "{'originCollection': 'gapspecies',\n",
       " 'originID': ObjectId('59b841880601bad0b9df0bea'),\n",
       " 'searchURL': 'https://bison.usgs.gov/api/search.json?count=1&tsn=550250'}"
      ]
     },
     "metadata": {},
     "output_type": "display_data"
    },
    {
     "name": "stdout",
     "output_type": "stream",
     "text": [
      "<pymongo.results.UpdateResult object at 0x102bea048>\n"
     ]
    },
    {
     "data": {
      "text/plain": [
       "{'originCollection': 'gapspecies',\n",
       " 'originID': ObjectId('59b841880601bad0b9df0beb'),\n",
       " 'searchURL': 'https://bison.usgs.gov/api/search.json?count=1&tsn=180203'}"
      ]
     },
     "metadata": {},
     "output_type": "display_data"
    },
    {
     "name": "stdout",
     "output_type": "stream",
     "text": [
      "<pymongo.results.UpdateResult object at 0x102bef0c8>\n"
     ]
    },
    {
     "data": {
      "text/plain": [
       "{'originCollection': 'gapspecies',\n",
       " 'originID': ObjectId('59b841890601bad0b9df0bec'),\n",
       " 'searchURL': 'https://bison.usgs.gov/api/search.json?count=1&tsn=668244'}"
      ]
     },
     "metadata": {},
     "output_type": "display_data"
    },
    {
     "name": "stdout",
     "output_type": "stream",
     "text": [
      "<pymongo.results.UpdateResult object at 0x102bf3408>\n"
     ]
    },
    {
     "data": {
      "text/plain": [
       "{'originCollection': 'gapspecies',\n",
       " 'originID': ObjectId('59b841890601bad0b9df0bed'),\n",
       " 'searchURL': 'https://bison.usgs.gov/api/search.json?count=1&tsn=173612'}"
      ]
     },
     "metadata": {},
     "output_type": "display_data"
    },
    {
     "name": "stdout",
     "output_type": "stream",
     "text": [
      "<pymongo.results.UpdateResult object at 0x102bfa848>\n"
     ]
    },
    {
     "data": {
      "text/plain": [
       "{'originCollection': 'gapspecies',\n",
       " 'originID': ObjectId('59b841890601bad0b9df0bee'),\n",
       " 'searchURL': 'https://bison.usgs.gov/api/search.json?count=1&tsn=174279'}"
      ]
     },
     "metadata": {},
     "output_type": "display_data"
    },
    {
     "name": "stdout",
     "output_type": "stream",
     "text": [
      "<pymongo.results.UpdateResult object at 0x102c010c8>\n"
     ]
    },
    {
     "data": {
      "text/plain": [
       "{'originCollection': 'gapspecies',\n",
       " 'originID': ObjectId('59b841890601bad0b9df0bef'),\n",
       " 'searchURL': 'https://bison.usgs.gov/api/search.json?count=1&type=scientific_name&species=Urocitellus elegans aureus'}"
      ]
     },
     "metadata": {},
     "output_type": "display_data"
    },
    {
     "name": "stdout",
     "output_type": "stream",
     "text": [
      "<pymongo.results.UpdateResult object at 0x102c06388>\n"
     ]
    },
    {
     "data": {
      "text/plain": [
       "{'originCollection': 'gapspecies',\n",
       " 'originID': ObjectId('59b8418a0601bad0b9df0bf0'),\n",
       " 'searchURL': 'https://bison.usgs.gov/api/search.json?count=1&tsn=174024'}"
      ]
     },
     "metadata": {},
     "output_type": "display_data"
    },
    {
     "name": "stdout",
     "output_type": "stream",
     "text": [
      "<pymongo.results.UpdateResult object at 0x102c0b8c8>\n"
     ]
    },
    {
     "data": {
      "text/plain": [
       "{'originCollection': 'gapspecies',\n",
       " 'originID': ObjectId('59b8418a0601bad0b9df0bf1'),\n",
       " 'searchURL': 'https://bison.usgs.gov/api/search.json?count=1&tsn=174212'}"
      ]
     },
     "metadata": {},
     "output_type": "display_data"
    },
    {
     "name": "stdout",
     "output_type": "stream",
     "text": [
      "<pymongo.results.UpdateResult object at 0x102ee4048>\n"
     ]
    },
    {
     "data": {
      "text/plain": [
       "{'originCollection': 'gapspecies',\n",
       " 'originID': ObjectId('59b8418b0601bad0b9df0bf2'),\n",
       " 'searchURL': 'https://bison.usgs.gov/api/search.json?count=1&tsn=174311'}"
      ]
     },
     "metadata": {},
     "output_type": "display_data"
    },
    {
     "name": "stdout",
     "output_type": "stream",
     "text": [
      "<pymongo.results.UpdateResult object at 0x102eea0c8>\n"
     ]
    },
    {
     "data": {
      "text/plain": [
       "{'originCollection': 'gapspecies',\n",
       " 'originID': ObjectId('59b8418b0601bad0b9df0bf3'),\n",
       " 'searchURL': 'https://bison.usgs.gov/api/search.json?count=1&tsn=208677'}"
      ]
     },
     "metadata": {},
     "output_type": "display_data"
    },
    {
     "name": "stdout",
     "output_type": "stream",
     "text": [
      "<pymongo.results.UpdateResult object at 0x102ef0348>\n"
     ]
    },
    {
     "data": {
      "text/plain": [
       "{'originCollection': 'gapspecies',\n",
       " 'originID': ObjectId('59b8418c0601bad0b9df0bf4'),\n",
       " 'searchURL': 'https://bison.usgs.gov/api/search.json?count=1&tsn=174318'}"
      ]
     },
     "metadata": {},
     "output_type": "display_data"
    },
    {
     "name": "stdout",
     "output_type": "stream",
     "text": [
      "<pymongo.results.UpdateResult object at 0x102ef0d08>\n"
     ]
    },
    {
     "data": {
      "text/plain": [
       "{'originCollection': 'gapspecies',\n",
       " 'originID': ObjectId('59b8418c0601bad0b9df0bf5'),\n",
       " 'searchURL': 'https://bison.usgs.gov/api/search.json?count=1&tsn=176880'}"
      ]
     },
     "metadata": {},
     "output_type": "display_data"
    },
    {
     "name": "stdout",
     "output_type": "stream",
     "text": [
      "<pymongo.results.UpdateResult object at 0x102efb148>\n"
     ]
    },
    {
     "data": {
      "text/plain": [
       "{'originCollection': 'gapspecies',\n",
       " 'originID': ObjectId('59b8418c0601bad0b9df0bf6'),\n",
       " 'searchURL': 'https://bison.usgs.gov/api/search.json?count=1&tsn=178911'}"
      ]
     },
     "metadata": {},
     "output_type": "display_data"
    },
    {
     "name": "stdout",
     "output_type": "stream",
     "text": [
      "<pymongo.results.UpdateResult object at 0x102f00148>\n"
     ]
    },
    {
     "data": {
      "text/plain": [
       "{'originCollection': 'gapspecies',\n",
       " 'originID': ObjectId('59b8418d0601bad0b9df0bf7'),\n",
       " 'searchURL': 'https://bison.usgs.gov/api/search.json?count=1&tsn=173768'}"
      ]
     },
     "metadata": {},
     "output_type": "display_data"
    },
    {
     "name": "stdout",
     "output_type": "stream",
     "text": [
      "<pymongo.results.UpdateResult object at 0x102f05808>\n"
     ]
    },
    {
     "data": {
      "text/plain": [
       "{'originCollection': 'gapspecies',\n",
       " 'originID': ObjectId('59b8418d0601bad0b9df0bf8'),\n",
       " 'searchURL': 'https://bison.usgs.gov/api/search.json?count=1&tsn=174248'}"
      ]
     },
     "metadata": {},
     "output_type": "display_data"
    },
    {
     "name": "stdout",
     "output_type": "stream",
     "text": [
      "<pymongo.results.UpdateResult object at 0x102f0c1c8>\n"
     ]
    },
    {
     "data": {
      "text/plain": [
       "{'originCollection': 'gapspecies',\n",
       " 'originID': ObjectId('59b8418d0601bad0b9df0bf9'),\n",
       " 'searchURL': 'https://bison.usgs.gov/api/search.json?count=1&tsn=174058'}"
      ]
     },
     "metadata": {},
     "output_type": "display_data"
    },
    {
     "name": "stdout",
     "output_type": "stream",
     "text": [
      "<pymongo.results.UpdateResult object at 0x102f130c8>\n"
     ]
    },
    {
     "data": {
      "text/plain": [
       "{'originCollection': 'gapspecies',\n",
       " 'originID': ObjectId('59b8418e0601bad0b9df0bfa'),\n",
       " 'searchURL': 'https://bison.usgs.gov/api/search.json?count=1&tsn=180182'}"
      ]
     },
     "metadata": {},
     "output_type": "display_data"
    },
    {
     "name": "stdout",
     "output_type": "stream",
     "text": [
      "<pymongo.results.UpdateResult object at 0x102f18248>\n"
     ]
    },
    {
     "data": {
      "text/plain": [
       "{'originCollection': 'gapspecies',\n",
       " 'originID': ObjectId('59b8418e0601bad0b9df0bfb'),\n",
       " 'searchURL': 'https://bison.usgs.gov/api/search.json?count=1&tsn=175834'}"
      ]
     },
     "metadata": {},
     "output_type": "display_data"
    },
    {
     "name": "stdout",
     "output_type": "stream",
     "text": [
      "<pymongo.results.UpdateResult object at 0x102f20048>\n"
     ]
    },
    {
     "data": {
      "text/plain": [
       "{'originCollection': 'gapspecies',\n",
       " 'originID': ObjectId('59b8418e0601bad0b9df0bfc'),\n",
       " 'searchURL': 'https://bison.usgs.gov/api/search.json?count=1&tsn=552518'}"
      ]
     },
     "metadata": {},
     "output_type": "display_data"
    },
    {
     "name": "stdout",
     "output_type": "stream",
     "text": [
      "<pymongo.results.UpdateResult object at 0x103299188>\n"
     ]
    },
    {
     "data": {
      "text/plain": [
       "{'originCollection': 'gapspecies',\n",
       " 'originID': ObjectId('59b8418e0601bad0b9df0bfd'),\n",
       " 'searchURL': 'https://bison.usgs.gov/api/search.json?count=1&tsn=180310'}"
      ]
     },
     "metadata": {},
     "output_type": "display_data"
    },
    {
     "name": "stdout",
     "output_type": "stream",
     "text": [
      "<pymongo.results.UpdateResult object at 0x10329d8c8>\n"
     ]
    },
    {
     "data": {
      "text/plain": [
       "{'originCollection': 'gapspecies',\n",
       " 'originID': ObjectId('59b8418e0601bad0b9df0bfe'),\n",
       " 'searchURL': 'https://bison.usgs.gov/api/search.json?count=1&tsn=180276'}"
      ]
     },
     "metadata": {},
     "output_type": "display_data"
    },
    {
     "name": "stdout",
     "output_type": "stream",
     "text": [
      "<pymongo.results.UpdateResult object at 0x1022f7488>\n"
     ]
    },
    {
     "data": {
      "text/plain": [
       "{'originCollection': 'gapspecies',\n",
       " 'originID': ObjectId('59b8418f0601bad0b9df0bff'),\n",
       " 'searchURL': 'https://bison.usgs.gov/api/search.json?count=1&tsn=179971'}"
      ]
     },
     "metadata": {},
     "output_type": "display_data"
    },
    {
     "name": "stdout",
     "output_type": "stream",
     "text": [
      "<pymongo.results.UpdateResult object at 0x103299a08>\n"
     ]
    },
    {
     "data": {
      "text/plain": [
       "{'originCollection': 'gapspecies',\n",
       " 'originID': ObjectId('59b8418f0601bad0b9df0c00'),\n",
       " 'searchURL': 'https://bison.usgs.gov/api/search.json?count=1&type=scientific_name&species=Aplodontia rufa pacifica'}"
      ]
     },
     "metadata": {},
     "output_type": "display_data"
    },
    {
     "name": "stdout",
     "output_type": "stream",
     "text": [
      "<pymongo.results.UpdateResult object at 0x102f13788>\n"
     ]
    },
    {
     "data": {
      "text/plain": [
       "{'originCollection': 'gapspecies',\n",
       " 'originID': ObjectId('59b8418f0601bad0b9df0c01'),\n",
       " 'searchURL': 'https://bison.usgs.gov/api/search.json?count=1&tsn=552512'}"
      ]
     },
     "metadata": {},
     "output_type": "display_data"
    },
    {
     "name": "stdout",
     "output_type": "stream",
     "text": [
      "<pymongo.results.UpdateResult object at 0x102efb1c8>\n"
     ]
    },
    {
     "data": {
      "text/plain": [
       "{'originCollection': 'gapspecies',\n",
       " 'originID': ObjectId('59b841900601bad0b9df0c02'),\n",
       " 'searchURL': 'https://bison.usgs.gov/api/search.json?count=1&tsn=173625'}"
      ]
     },
     "metadata": {},
     "output_type": "display_data"
    },
    {
     "name": "stdout",
     "output_type": "stream",
     "text": [
      "<pymongo.results.UpdateResult object at 0x102c06e48>\n"
     ]
    },
    {
     "data": {
      "text/plain": [
       "{'originCollection': 'gapspecies',\n",
       " 'originID': ObjectId('59b841900601bad0b9df0c03'),\n",
       " 'searchURL': 'https://bison.usgs.gov/api/search.json?count=1&tsn=180324'}"
      ]
     },
     "metadata": {},
     "output_type": "display_data"
    },
    {
     "name": "stdout",
     "output_type": "stream",
     "text": [
      "<pymongo.results.UpdateResult object at 0x102bd31c8>\n"
     ]
    },
    {
     "data": {
      "text/plain": [
       "{'originCollection': 'gapspecies',\n",
       " 'originID': ObjectId('59b841900601bad0b9df0c04'),\n",
       " 'searchURL': 'https://bison.usgs.gov/api/search.json?count=1&tsn=174625'}"
      ]
     },
     "metadata": {},
     "output_type": "display_data"
    },
    {
     "name": "stdout",
     "output_type": "stream",
     "text": [
      "<pymongo.results.UpdateResult object at 0x100c51348>\n"
     ]
    },
    {
     "data": {
      "text/plain": [
       "{'originCollection': 'gapspecies',\n",
       " 'originID': ObjectId('59b841900601bad0b9df0c05'),\n",
       " 'searchURL': 'https://bison.usgs.gov/api/search.json?count=1&tsn=175089'}"
      ]
     },
     "metadata": {},
     "output_type": "display_data"
    },
    {
     "name": "stdout",
     "output_type": "stream",
     "text": [
      "<pymongo.results.UpdateResult object at 0x100c15e88>\n"
     ]
    },
    {
     "data": {
      "text/plain": [
       "{'originCollection': 'gapspecies',\n",
       " 'originID': ObjectId('59b841910601bad0b9df0c06'),\n",
       " 'searchURL': 'https://bison.usgs.gov/api/search.json?count=1&tsn=178280'}"
      ]
     },
     "metadata": {},
     "output_type": "display_data"
    },
    {
     "name": "stdout",
     "output_type": "stream",
     "text": [
      "<pymongo.results.UpdateResult object at 0x1028aa388>\n"
     ]
    },
    {
     "data": {
      "text/plain": [
       "{'originCollection': 'gapspecies',\n",
       " 'originID': ObjectId('59b841910601bad0b9df0c07'),\n",
       " 'searchURL': 'https://bison.usgs.gov/api/search.json?count=1&tsn=179952'}"
      ]
     },
     "metadata": {},
     "output_type": "display_data"
    },
    {
     "name": "stdout",
     "output_type": "stream",
     "text": [
      "<pymongo.results.UpdateResult object at 0x1026763c8>\n"
     ]
    },
    {
     "data": {
      "text/plain": [
       "{'originCollection': 'gapspecies',\n",
       " 'originID': ObjectId('59b841910601bad0b9df0c08'),\n",
       " 'searchURL': 'https://bison.usgs.gov/api/search.json?count=1&tsn=180393'}"
      ]
     },
     "metadata": {},
     "output_type": "display_data"
    },
    {
     "name": "stdout",
     "output_type": "stream",
     "text": [
      "<pymongo.results.UpdateResult object at 0x102c37648>\n"
     ]
    },
    {
     "data": {
      "text/plain": [
       "{'originCollection': 'gapspecies',\n",
       " 'originID': ObjectId('59b841910601bad0b9df0c09'),\n",
       " 'searchURL': 'https://bison.usgs.gov/api/search.json?count=1&tsn=180604'}"
      ]
     },
     "metadata": {},
     "output_type": "display_data"
    },
    {
     "name": "stdout",
     "output_type": "stream",
     "text": [
      "<pymongo.results.UpdateResult object at 0x1026b8d88>\n"
     ]
    },
    {
     "data": {
      "text/plain": [
       "{'originCollection': 'gapspecies',\n",
       " 'originID': ObjectId('59b841920601bad0b9df0c0a'),\n",
       " 'searchURL': 'https://bison.usgs.gov/api/search.json?count=1&tsn=774546'}"
      ]
     },
     "metadata": {},
     "output_type": "display_data"
    },
    {
     "name": "stdout",
     "output_type": "stream",
     "text": [
      "<pymongo.results.UpdateResult object at 0x102c17f48>\n"
     ]
    },
    {
     "data": {
      "text/plain": [
       "{'originCollection': 'gapspecies',\n",
       " 'originID': ObjectId('59b841920601bad0b9df0c0b'),\n",
       " 'searchURL': 'https://bison.usgs.gov/api/search.json?count=1&tsn=180286'}"
      ]
     },
     "metadata": {},
     "output_type": "display_data"
    },
    {
     "name": "stdout",
     "output_type": "stream",
     "text": [
      "<pymongo.results.UpdateResult object at 0x1022f91c8>\n"
     ]
    },
    {
     "data": {
      "text/plain": [
       "{'originCollection': 'gapspecies',\n",
       " 'originID': ObjectId('59b841930601bad0b9df0c0c'),\n",
       " 'searchURL': 'https://bison.usgs.gov/api/search.json?count=1&tsn=180599'}"
      ]
     },
     "metadata": {},
     "output_type": "display_data"
    },
    {
     "name": "stdout",
     "output_type": "stream",
     "text": [
      "<pymongo.results.UpdateResult object at 0x10276e848>\n"
     ]
    },
    {
     "data": {
      "text/plain": [
       "{'originCollection': 'gapspecies',\n",
       " 'originID': ObjectId('59b841930601bad0b9df0c0d'),\n",
       " 'searchURL': 'https://bison.usgs.gov/api/search.json?count=1&tsn=176517'}"
      ]
     },
     "metadata": {},
     "output_type": "display_data"
    },
    {
     "name": "stdout",
     "output_type": "stream",
     "text": [
      "<pymongo.results.UpdateResult object at 0x1022d9608>\n"
     ]
    },
    {
     "data": {
      "text/plain": [
       "{'originCollection': 'gapspecies',\n",
       " 'originID': ObjectId('59b841940601bad0b9df0c0e'),\n",
       " 'searchURL': 'https://bison.usgs.gov/api/search.json?count=1&tsn=179857'}"
      ]
     },
     "metadata": {},
     "output_type": "display_data"
    },
    {
     "name": "stdout",
     "output_type": "stream",
     "text": [
      "<pymongo.results.UpdateResult object at 0x102796448>\n"
     ]
    },
    {
     "data": {
      "text/plain": [
       "{'originCollection': 'gapspecies',\n",
       " 'originID': ObjectId('59b841940601bad0b9df0c0f'),\n",
       " 'searchURL': 'https://bison.usgs.gov/api/search.json?count=1&tsn=180701'}"
      ]
     },
     "metadata": {},
     "output_type": "display_data"
    },
    {
     "name": "stdout",
     "output_type": "stream",
     "text": [
      "<pymongo.results.UpdateResult object at 0x1027ae688>\n"
     ]
    },
    {
     "data": {
      "text/plain": [
       "{'originCollection': 'gapspecies',\n",
       " 'originID': ObjectId('59b841940601bad0b9df0c10'),\n",
       " 'searchURL': 'https://bison.usgs.gov/api/search.json?count=1&tsn=180621'}"
      ]
     },
     "metadata": {},
     "output_type": "display_data"
    },
    {
     "name": "stdout",
     "output_type": "stream",
     "text": [
      "<pymongo.results.UpdateResult object at 0x1026d2b88>\n"
     ]
    },
    {
     "data": {
      "text/plain": [
       "{'originCollection': 'gapspecies',\n",
       " 'originID': ObjectId('59b841950601bad0b9df0c11'),\n",
       " 'searchURL': 'https://bison.usgs.gov/api/search.json?count=1&tsn=178973'}"
      ]
     },
     "metadata": {},
     "output_type": "display_data"
    },
    {
     "name": "stdout",
     "output_type": "stream",
     "text": [
      "<pymongo.results.UpdateResult object at 0x10278bf88>\n"
     ]
    },
    {
     "data": {
      "text/plain": [
       "{'originCollection': 'gapspecies',\n",
       " 'originID': ObjectId('59b841950601bad0b9df0c12'),\n",
       " 'searchURL': 'https://bison.usgs.gov/api/search.json?count=1&tsn=775123'}"
      ]
     },
     "metadata": {},
     "output_type": "display_data"
    },
    {
     "name": "stdout",
     "output_type": "stream",
     "text": [
      "<pymongo.results.UpdateResult object at 0x10278f048>\n"
     ]
    },
    {
     "data": {
      "text/plain": [
       "{'originCollection': 'gapspecies',\n",
       " 'originID': ObjectId('59b841960601bad0b9df0c13'),\n",
       " 'searchURL': 'https://bison.usgs.gov/api/search.json?count=1&tsn=176837'}"
      ]
     },
     "metadata": {},
     "output_type": "display_data"
    },
    {
     "name": "stdout",
     "output_type": "stream",
     "text": [
      "<pymongo.results.UpdateResult object at 0x10279b888>\n"
     ]
    },
    {
     "data": {
      "text/plain": [
       "{'originCollection': 'gapspecies',\n",
       " 'originID': ObjectId('59b841960601bad0b9df0c14'),\n",
       " 'searchURL': 'https://bison.usgs.gov/api/search.json?count=1&tsn=179312'}"
      ]
     },
     "metadata": {},
     "output_type": "display_data"
    },
    {
     "name": "stdout",
     "output_type": "stream",
     "text": [
      "<pymongo.results.UpdateResult object at 0x1027a5548>\n"
     ]
    },
    {
     "data": {
      "text/plain": [
       "{'originCollection': 'gapspecies',\n",
       " 'originID': ObjectId('59b841970601bad0b9df0c15'),\n",
       " 'searchURL': 'https://bison.usgs.gov/api/search.json?count=1&tsn=650445'}"
      ]
     },
     "metadata": {},
     "output_type": "display_data"
    },
    {
     "name": "stdout",
     "output_type": "stream",
     "text": [
      "<pymongo.results.UpdateResult object at 0x102f0e4c8>\n"
     ]
    },
    {
     "data": {
      "text/plain": [
       "{'originCollection': 'gapspecies',\n",
       " 'originID': ObjectId('59b841980601bad0b9df0c16'),\n",
       " 'searchURL': 'https://bison.usgs.gov/api/search.json?count=1&tsn=178937'}"
      ]
     },
     "metadata": {},
     "output_type": "display_data"
    },
    {
     "name": "stdout",
     "output_type": "stream",
     "text": [
      "<pymongo.results.UpdateResult object at 0x102efa0c8>\n"
     ]
    },
    {
     "data": {
      "text/plain": [
       "{'originCollection': 'gapspecies',\n",
       " 'originID': ObjectId('59b841990601bad0b9df0c17'),\n",
       " 'searchURL': 'https://bison.usgs.gov/api/search.json?count=1&tsn=179811'}"
      ]
     },
     "metadata": {},
     "output_type": "display_data"
    },
    {
     "name": "stdout",
     "output_type": "stream",
     "text": [
      "<pymongo.results.UpdateResult object at 0x102ef8388>\n"
     ]
    },
    {
     "data": {
      "text/plain": [
       "{'originCollection': 'gapspecies',\n",
       " 'originID': ObjectId('59b841990601bad0b9df0c18'),\n",
       " 'searchURL': 'https://bison.usgs.gov/api/search.json?count=1&tsn=177723'}"
      ]
     },
     "metadata": {},
     "output_type": "display_data"
    },
    {
     "name": "stdout",
     "output_type": "stream",
     "text": [
      "<pymongo.results.UpdateResult object at 0x102ef78c8>\n"
     ]
    },
    {
     "data": {
      "text/plain": [
       "{'originCollection': 'gapspecies',\n",
       " 'originID': ObjectId('59b8419a0601bad0b9df0c19'),\n",
       " 'searchURL': 'https://bison.usgs.gov/api/search.json?count=1&tsn=174824'}"
      ]
     },
     "metadata": {},
     "output_type": "display_data"
    },
    {
     "name": "stdout",
     "output_type": "stream",
     "text": [
      "<pymongo.results.UpdateResult object at 0x102eec088>\n"
     ]
    },
    {
     "data": {
      "text/plain": [
       "{'originCollection': 'gapspecies',\n",
       " 'originID': ObjectId('59b8419a0601bad0b9df0c1a'),\n",
       " 'searchURL': 'https://bison.usgs.gov/api/search.json?count=1&tsn=174941'}"
      ]
     },
     "metadata": {},
     "output_type": "display_data"
    },
    {
     "name": "stdout",
     "output_type": "stream",
     "text": [
      "<pymongo.results.UpdateResult object at 0x102eece88>\n"
     ]
    },
    {
     "data": {
      "text/plain": [
       "{'originCollection': 'gapspecies',\n",
       " 'originID': ObjectId('59b8419a0601bad0b9df0c1b'),\n",
       " 'searchURL': 'https://bison.usgs.gov/api/search.json?count=1&tsn=179371'}"
      ]
     },
     "metadata": {},
     "output_type": "display_data"
    },
    {
     "name": "stdout",
     "output_type": "stream",
     "text": [
      "<pymongo.results.UpdateResult object at 0x1032a4688>\n"
     ]
    },
    {
     "data": {
      "text/plain": [
       "{'originCollection': 'gapspecies',\n",
       " 'originID': ObjectId('59b8419b0601bad0b9df0c1c'),\n",
       " 'searchURL': 'https://bison.usgs.gov/api/search.json?count=1&tsn=177932'}"
      ]
     },
     "metadata": {},
     "output_type": "display_data"
    },
    {
     "name": "stdout",
     "output_type": "stream",
     "text": [
      "<pymongo.results.UpdateResult object at 0x1032a4048>\n"
     ]
    },
    {
     "data": {
      "text/plain": [
       "{'originCollection': 'gapspecies',\n",
       " 'originID': ObjectId('59b8419b0601bad0b9df0c1d'),\n",
       " 'searchURL': 'https://bison.usgs.gov/api/search.json?count=1&tsn=179340'}"
      ]
     },
     "metadata": {},
     "output_type": "display_data"
    },
    {
     "name": "stdout",
     "output_type": "stream",
     "text": [
      "<pymongo.results.UpdateResult object at 0x1032b1a08>\n"
     ]
    },
    {
     "data": {
      "text/plain": [
       "{'originCollection': 'gapspecies',\n",
       " 'originID': ObjectId('59b8419c0601bad0b9df0c1e'),\n",
       " 'searchURL': 'https://bison.usgs.gov/api/search.json?count=1&tsn=176811'}"
      ]
     },
     "metadata": {},
     "output_type": "display_data"
    },
    {
     "name": "stdout",
     "output_type": "stream",
     "text": [
      "<pymongo.results.UpdateResult object at 0x1032ba588>\n"
     ]
    },
    {
     "data": {
      "text/plain": [
       "{'originCollection': 'gapspecies',\n",
       " 'originID': ObjectId('59b8419c0601bad0b9df0c1f'),\n",
       " 'searchURL': 'https://bison.usgs.gov/api/search.json?count=1&tsn=178257'}"
      ]
     },
     "metadata": {},
     "output_type": "display_data"
    },
    {
     "name": "stdout",
     "output_type": "stream",
     "text": [
      "<pymongo.results.UpdateResult object at 0x1026db808>\n"
     ]
    },
    {
     "data": {
      "text/plain": [
       "{'originCollection': 'gapspecies',\n",
       " 'originID': ObjectId('59b8419c0601bad0b9df0c20'),\n",
       " 'searchURL': 'https://bison.usgs.gov/api/search.json?count=1&tsn=177686'}"
      ]
     },
     "metadata": {},
     "output_type": "display_data"
    },
    {
     "name": "stdout",
     "output_type": "stream",
     "text": [
      "<pymongo.results.UpdateResult object at 0x1032c7148>\n"
     ]
    },
    {
     "data": {
      "text/plain": [
       "{'originCollection': 'gapspecies',\n",
       " 'originID': ObjectId('59b8419d0601bad0b9df0c21'),\n",
       " 'searchURL': 'https://bison.usgs.gov/api/search.json?count=1&tsn=179232'}"
      ]
     },
     "metadata": {},
     "output_type": "display_data"
    },
    {
     "name": "stdout",
     "output_type": "stream",
     "text": [
      "<pymongo.results.UpdateResult object at 0x1032cb8c8>\n"
     ]
    },
    {
     "data": {
      "text/plain": [
       "{'originCollection': 'gapspecies',\n",
       " 'originID': ObjectId('59b8419d0601bad0b9df0c22'),\n",
       " 'searchURL': 'https://bison.usgs.gov/api/search.json?count=1&tsn=173628'}"
      ]
     },
     "metadata": {},
     "output_type": "display_data"
    },
    {
     "name": "stdout",
     "output_type": "stream",
     "text": [
      "<pymongo.results.UpdateResult object at 0x1032cd648>\n"
     ]
    },
    {
     "data": {
      "text/plain": [
       "{'originCollection': 'gapspecies',\n",
       " 'originID': ObjectId('59b8419e0601bad0b9df0c23'),\n",
       " 'searchURL': 'https://bison.usgs.gov/api/search.json?count=1&tsn=173666'}"
      ]
     },
     "metadata": {},
     "output_type": "display_data"
    },
    {
     "name": "stdout",
     "output_type": "stream",
     "text": [
      "<pymongo.results.UpdateResult object at 0x102c24648>\n"
     ]
    },
    {
     "data": {
      "text/plain": [
       "{'originCollection': 'gapspecies',\n",
       " 'originID': ObjectId('59b8419f0601bad0b9df0c24'),\n",
       " 'searchURL': 'https://bison.usgs.gov/api/search.json?count=1&tsn=554145'}"
      ]
     },
     "metadata": {},
     "output_type": "display_data"
    },
    {
     "name": "stdout",
     "output_type": "stream",
     "text": [
      "<pymongo.results.UpdateResult object at 0x102c4dcc8>\n"
     ]
    },
    {
     "data": {
      "text/plain": [
       "{'originCollection': 'gapspecies',\n",
       " 'originID': ObjectId('59b8419f0601bad0b9df0c25'),\n",
       " 'searchURL': 'https://bison.usgs.gov/api/search.json?count=1&tsn=176828'}"
      ]
     },
     "metadata": {},
     "output_type": "display_data"
    },
    {
     "name": "stdout",
     "output_type": "stream",
     "text": [
      "<pymongo.results.UpdateResult object at 0x102c410c8>\n"
     ]
    },
    {
     "data": {
      "text/plain": [
       "{'originCollection': 'gapspecies',\n",
       " 'originID': ObjectId('59b841a00601bad0b9df0c26'),\n",
       " 'searchURL': 'https://bison.usgs.gov/api/search.json?count=1&tsn=552472'}"
      ]
     },
     "metadata": {},
     "output_type": "display_data"
    },
    {
     "name": "stdout",
     "output_type": "stream",
     "text": [
      "<pymongo.results.UpdateResult object at 0x102c4f608>\n"
     ]
    },
    {
     "data": {
      "text/plain": [
       "{'originCollection': 'gapspecies',\n",
       " 'originID': ObjectId('59b841a10601bad0b9df0c27'),\n",
       " 'searchURL': 'https://bison.usgs.gov/api/search.json?count=1&tsn=179402'}"
      ]
     },
     "metadata": {},
     "output_type": "display_data"
    },
    {
     "name": "stdout",
     "output_type": "stream",
     "text": [
      "<pymongo.results.UpdateResult object at 0x102c46108>\n"
     ]
    },
    {
     "data": {
      "text/plain": [
       "{'originCollection': 'gapspecies',\n",
       " 'originID': ObjectId('59b841a10601bad0b9df0c28'),\n",
       " 'searchURL': 'https://bison.usgs.gov/api/search.json?count=1&tsn=177942'}"
      ]
     },
     "metadata": {},
     "output_type": "display_data"
    },
    {
     "name": "stdout",
     "output_type": "stream",
     "text": [
      "<pymongo.results.UpdateResult object at 0x102c3f648>\n"
     ]
    },
    {
     "data": {
      "text/plain": [
       "{'originCollection': 'gapspecies',\n",
       " 'originID': ObjectId('59b841a20601bad0b9df0c29'),\n",
       " 'searchURL': 'https://bison.usgs.gov/api/search.json?count=1&tsn=175590'}"
      ]
     },
     "metadata": {},
     "output_type": "display_data"
    },
    {
     "name": "stdout",
     "output_type": "stream",
     "text": [
      "<pymongo.results.UpdateResult object at 0x102c34088>\n"
     ]
    },
    {
     "data": {
      "text/plain": [
       "{'originCollection': 'gapspecies',\n",
       " 'originID': ObjectId('59b841a20601bad0b9df0c2a'),\n",
       " 'searchURL': 'https://bison.usgs.gov/api/search.json?count=1&tsn=726205'}"
      ]
     },
     "metadata": {},
     "output_type": "display_data"
    },
    {
     "name": "stdout",
     "output_type": "stream",
     "text": [
      "<pymongo.results.UpdateResult object at 0x102c25488>\n"
     ]
    },
    {
     "data": {
      "text/plain": [
       "{'originCollection': 'gapspecies',\n",
       " 'originID': ObjectId('59b841a30601bad0b9df0c2b'),\n",
       " 'searchURL': 'https://bison.usgs.gov/api/search.json?count=1&tsn=174475'}"
      ]
     },
     "metadata": {},
     "output_type": "display_data"
    },
    {
     "name": "stdout",
     "output_type": "stream",
     "text": [
      "<pymongo.results.UpdateResult object at 0x102c15048>\n"
     ]
    },
    {
     "data": {
      "text/plain": [
       "{'originCollection': 'gapspecies',\n",
       " 'originID': ObjectId('59b841a30601bad0b9df0c2c'),\n",
       " 'searchURL': 'https://bison.usgs.gov/api/search.json?count=1&tsn=773514'}"
      ]
     },
     "metadata": {},
     "output_type": "display_data"
    },
    {
     "name": "stdout",
     "output_type": "stream",
     "text": [
      "<pymongo.results.UpdateResult object at 0x102c0ba48>\n"
     ]
    },
    {
     "data": {
      "text/plain": [
       "{'originCollection': 'gapspecies',\n",
       " 'originID': ObjectId('59b841a30601bad0b9df0c2d'),\n",
       " 'searchURL': 'https://bison.usgs.gov/api/search.json?count=1&tsn=550245'}"
      ]
     },
     "metadata": {},
     "output_type": "display_data"
    },
    {
     "name": "stdout",
     "output_type": "stream",
     "text": [
      "<pymongo.results.UpdateResult object at 0x102beb748>\n"
     ]
    },
    {
     "data": {
      "text/plain": [
       "{'originCollection': 'gapspecies',\n",
       " 'originID': ObjectId('59b841a40601bad0b9df0c2e'),\n",
       " 'searchURL': 'https://bison.usgs.gov/api/search.json?count=1&tsn=177902'}"
      ]
     },
     "metadata": {},
     "output_type": "display_data"
    },
    {
     "name": "stdout",
     "output_type": "stream",
     "text": [
      "<pymongo.results.UpdateResult object at 0x102c0e148>\n"
     ]
    },
    {
     "data": {
      "text/plain": [
       "{'originCollection': 'gapspecies',\n",
       " 'originID': ObjectId('59b841a40601bad0b9df0c2f'),\n",
       " 'searchURL': 'https://bison.usgs.gov/api/search.json?count=1&tsn=174505'}"
      ]
     },
     "metadata": {},
     "output_type": "display_data"
    },
    {
     "name": "stdout",
     "output_type": "stream",
     "text": [
      "<pymongo.results.UpdateResult object at 0x102c0a348>\n"
     ]
    },
    {
     "data": {
      "text/plain": [
       "{'originCollection': 'gapspecies',\n",
       " 'originID': ObjectId('59b841a50601bad0b9df0c30'),\n",
       " 'searchURL': 'https://bison.usgs.gov/api/search.json?count=1&tsn=773526'}"
      ]
     },
     "metadata": {},
     "output_type": "display_data"
    },
    {
     "name": "stdout",
     "output_type": "stream",
     "text": [
      "<pymongo.results.UpdateResult object at 0x102c05048>\n"
     ]
    },
    {
     "data": {
      "text/plain": [
       "{'originCollection': 'gapspecies',\n",
       " 'originID': ObjectId('59b841a60601bad0b9df0c31'),\n",
       " 'searchURL': 'https://bison.usgs.gov/api/search.json?count=1&tsn=179949'}"
      ]
     },
     "metadata": {},
     "output_type": "display_data"
    },
    {
     "name": "stdout",
     "output_type": "stream",
     "text": [
      "<pymongo.results.UpdateResult object at 0x102bfe048>\n"
     ]
    },
    {
     "data": {
      "text/plain": [
       "{'originCollection': 'gapspecies',\n",
       " 'originID': ObjectId('59b841a60601bad0b9df0c32'),\n",
       " 'searchURL': 'https://bison.usgs.gov/api/search.json?count=1&tsn=180088'}"
      ]
     },
     "metadata": {},
     "output_type": "display_data"
    },
    {
     "name": "stdout",
     "output_type": "stream",
     "text": [
      "<pymongo.results.UpdateResult object at 0x102bf6308>\n"
     ]
    },
    {
     "data": {
      "text/plain": [
       "{'originCollection': 'gapspecies',\n",
       " 'originID': ObjectId('59b841a70601bad0b9df0c33'),\n",
       " 'searchURL': 'https://bison.usgs.gov/api/search.json?count=1&tsn=180555'}"
      ]
     },
     "metadata": {},
     "output_type": "display_data"
    },
    {
     "name": "stdout",
     "output_type": "stream",
     "text": [
      "<pymongo.results.UpdateResult object at 0x102bed308>\n"
     ]
    },
    {
     "data": {
      "text/plain": [
       "{'originCollection': 'gapspecies',\n",
       " 'originID': ObjectId('59b841a70601bad0b9df0c34'),\n",
       " 'searchURL': 'https://bison.usgs.gov/api/search.json?count=1&tsn=178977'}"
      ]
     },
     "metadata": {},
     "output_type": "display_data"
    },
    {
     "name": "stdout",
     "output_type": "stream",
     "text": [
      "<pymongo.results.UpdateResult object at 0x102bdd408>\n"
     ]
    },
    {
     "data": {
      "text/plain": [
       "{'originCollection': 'gapspecies',\n",
       " 'originID': ObjectId('59b841a80601bad0b9df0c35'),\n",
       " 'searchURL': 'https://bison.usgs.gov/api/search.json?count=1&tsn=180071'}"
      ]
     },
     "metadata": {},
     "output_type": "display_data"
    },
    {
     "name": "stdout",
     "output_type": "stream",
     "text": [
      "<pymongo.results.UpdateResult object at 0x102bdcd88>\n"
     ]
    },
    {
     "data": {
      "text/plain": [
       "{'originCollection': 'gapspecies',\n",
       " 'originID': ObjectId('59b841a90601bad0b9df0c36'),\n",
       " 'searchURL': 'https://bison.usgs.gov/api/search.json?count=1&type=scientific_name&species=Amphispiza belli nevadensis'}"
      ]
     },
     "metadata": {},
     "output_type": "display_data"
    },
    {
     "name": "stdout",
     "output_type": "stream",
     "text": [
      "<pymongo.results.UpdateResult object at 0x1028a52c8>\n"
     ]
    },
    {
     "data": {
      "text/plain": [
       "{'originCollection': 'gapspecies',\n",
       " 'originID': ObjectId('59b841aa0601bad0b9df0c37'),\n",
       " 'searchURL': 'https://bison.usgs.gov/api/search.json?count=1&tsn=180344'}"
      ]
     },
     "metadata": {},
     "output_type": "display_data"
    },
    {
     "name": "stdout",
     "output_type": "stream",
     "text": [
      "<pymongo.results.UpdateResult object at 0x10288b188>\n"
     ]
    },
    {
     "data": {
      "text/plain": [
       "{'originCollection': 'gapspecies',\n",
       " 'originID': ObjectId('59b841ab0601bad0b9df0c38'),\n",
       " 'searchURL': 'https://bison.usgs.gov/api/search.json?count=1&tsn=180245'}"
      ]
     },
     "metadata": {},
     "output_type": "display_data"
    },
    {
     "name": "stdout",
     "output_type": "stream",
     "text": [
      "<pymongo.results.UpdateResult object at 0x1028bc1c8>\n"
     ]
    },
    {
     "data": {
      "text/plain": [
       "{'originCollection': 'gapspecies',\n",
       " 'originID': ObjectId('59b841ac0601bad0b9df0c39'),\n",
       " 'searchURL': 'https://bison.usgs.gov/api/search.json?count=1&tsn=179715'}"
      ]
     },
     "metadata": {},
     "output_type": "display_data"
    },
    {
     "name": "stdout",
     "output_type": "stream",
     "text": [
      "<pymongo.results.UpdateResult object at 0x1028ba448>\n"
     ]
    },
    {
     "data": {
      "text/plain": [
       "{'originCollection': 'gapspecies',\n",
       " 'originID': ObjectId('59b841ac0601bad0b9df0c3a'),\n",
       " 'searchURL': 'https://bison.usgs.gov/api/search.json?count=1&tsn=180228'}"
      ]
     },
     "metadata": {},
     "output_type": "display_data"
    },
    {
     "name": "stdout",
     "output_type": "stream",
     "text": [
      "<pymongo.results.UpdateResult object at 0x1028b7848>\n"
     ]
    },
    {
     "data": {
      "text/plain": [
       "{'originCollection': 'gapspecies',\n",
       " 'originID': ObjectId('59b841ad0601bad0b9df0c3b'),\n",
       " 'searchURL': 'https://bison.usgs.gov/api/search.json?count=1&tsn=180208'}"
      ]
     },
     "metadata": {},
     "output_type": "display_data"
    },
    {
     "name": "stdout",
     "output_type": "stream",
     "text": [
      "<pymongo.results.UpdateResult object at 0x1028a4048>\n"
     ]
    },
    {
     "data": {
      "text/plain": [
       "{'originCollection': 'gapspecies',\n",
       " 'originID': ObjectId('59b841ae0601bad0b9df0c3c'),\n",
       " 'searchURL': 'https://bison.usgs.gov/api/search.json?count=1&tsn=180217'}"
      ]
     },
     "metadata": {},
     "output_type": "display_data"
    },
    {
     "name": "stdout",
     "output_type": "stream",
     "text": [
      "<pymongo.results.UpdateResult object at 0x1028a16c8>\n"
     ]
    },
    {
     "data": {
      "text/plain": [
       "{'originCollection': 'gapspecies',\n",
       " 'originID': ObjectId('59b841ae0601bad0b9df0c3d'),\n",
       " 'searchURL': 'https://bison.usgs.gov/api/search.json?count=1&tsn=554387'}"
      ]
     },
     "metadata": {},
     "output_type": "display_data"
    },
    {
     "name": "stdout",
     "output_type": "stream",
     "text": [
      "<pymongo.results.UpdateResult object at 0x102893088>\n"
     ]
    },
    {
     "data": {
      "text/plain": [
       "{'originCollection': 'gapspecies',\n",
       " 'originID': ObjectId('59b841af0601bad0b9df0c3e'),\n",
       " 'searchURL': 'https://bison.usgs.gov/api/search.json?count=1&tsn=177851'}"
      ]
     },
     "metadata": {},
     "output_type": "display_data"
    },
    {
     "name": "stdout",
     "output_type": "stream",
     "text": [
      "<pymongo.results.UpdateResult object at 0x10287e448>\n"
     ]
    },
    {
     "data": {
      "text/plain": [
       "{'originCollection': 'gapspecies',\n",
       " 'originID': ObjectId('59b841af0601bad0b9df0c3f'),\n",
       " 'searchURL': 'https://bison.usgs.gov/api/search.json?count=1&tsn=710076'}"
      ]
     },
     "metadata": {},
     "output_type": "display_data"
    },
    {
     "name": "stdout",
     "output_type": "stream",
     "text": [
      "<pymongo.results.UpdateResult object at 0x10287d108>\n"
     ]
    },
    {
     "data": {
      "text/plain": [
       "{'originCollection': 'gapspecies',\n",
       " 'originID': ObjectId('59b841b00601bad0b9df0c40'),\n",
       " 'searchURL': 'https://bison.usgs.gov/api/search.json?count=1&tsn=180006'}"
      ]
     },
     "metadata": {},
     "output_type": "display_data"
    },
    {
     "name": "stdout",
     "output_type": "stream",
     "text": [
      "<pymongo.results.UpdateResult object at 0x102aedb88>\n"
     ]
    },
    {
     "data": {
      "text/plain": [
       "{'originCollection': 'gapspecies',\n",
       " 'originID': ObjectId('59b841b10601bad0b9df0c41'),\n",
       " 'searchURL': 'https://bison.usgs.gov/api/search.json?count=1&tsn=179390'}"
      ]
     },
     "metadata": {},
     "output_type": "display_data"
    },
    {
     "name": "stdout",
     "output_type": "stream",
     "text": [
      "<pymongo.results.UpdateResult object at 0x102ae93c8>\n"
     ]
    },
    {
     "data": {
      "text/plain": [
       "{'originCollection': 'gapspecies',\n",
       " 'originID': ObjectId('59b841b10601bad0b9df0c42'),\n",
       " 'searchURL': 'https://bison.usgs.gov/api/search.json?count=1&tsn=176209'}"
      ]
     },
     "metadata": {},
     "output_type": "display_data"
    },
    {
     "name": "stdout",
     "output_type": "stream",
     "text": [
      "<pymongo.results.UpdateResult object at 0x102acc248>\n"
     ]
    },
    {
     "data": {
      "text/plain": [
       "{'originCollection': 'gapspecies',\n",
       " 'originID': ObjectId('59b841b20601bad0b9df0c43'),\n",
       " 'searchURL': 'https://bison.usgs.gov/api/search.json?count=1&tsn=180261'}"
      ]
     },
     "metadata": {},
     "output_type": "display_data"
    },
    {
     "name": "stdout",
     "output_type": "stream",
     "text": [
      "<pymongo.results.UpdateResult object at 0x102aeb148>\n"
     ]
    },
    {
     "data": {
      "text/plain": [
       "{'originCollection': 'gapspecies',\n",
       " 'originID': ObjectId('59b841b30601bad0b9df0c44'),\n",
       " 'searchURL': 'https://bison.usgs.gov/api/search.json?count=1&tsn=710075'}"
      ]
     },
     "metadata": {},
     "output_type": "display_data"
    },
    {
     "name": "stdout",
     "output_type": "stream",
     "text": [
      "<pymongo.results.UpdateResult object at 0x102ae8308>\n"
     ]
    },
    {
     "data": {
      "text/plain": [
       "{'originCollection': 'gapspecies',\n",
       " 'originID': ObjectId('59b841b30601bad0b9df0c45'),\n",
       " 'searchURL': 'https://bison.usgs.gov/api/search.json?count=1&tsn=180570'}"
      ]
     },
     "metadata": {},
     "output_type": "display_data"
    },
    {
     "name": "stdout",
     "output_type": "stream",
     "text": [
      "<pymongo.results.UpdateResult object at 0x102ae4408>\n"
     ]
    },
    {
     "data": {
      "text/plain": [
       "{'originCollection': 'gapspecies',\n",
       " 'originID': ObjectId('59b841b40601bad0b9df0c46'),\n",
       " 'searchURL': 'https://bison.usgs.gov/api/search.json?count=1&tsn=179964'}"
      ]
     },
     "metadata": {},
     "output_type": "display_data"
    },
    {
     "name": "stdout",
     "output_type": "stream",
     "text": [
      "<pymongo.results.UpdateResult object at 0x102ae6c88>\n"
     ]
    },
    {
     "data": {
      "text/plain": [
       "{'originCollection': 'gapspecies',\n",
       " 'originID': ObjectId('59b841b40601bad0b9df0c47'),\n",
       " 'searchURL': 'https://bison.usgs.gov/api/search.json?count=1&tsn=174147'}"
      ]
     },
     "metadata": {},
     "output_type": "display_data"
    },
    {
     "name": "stdout",
     "output_type": "stream",
     "text": [
      "<pymongo.results.UpdateResult object at 0x102ab7148>\n"
     ]
    },
    {
     "data": {
      "text/plain": [
       "{'originCollection': 'gapspecies',\n",
       " 'originID': ObjectId('59b841b50601bad0b9df0c48'),\n",
       " 'searchURL': 'https://bison.usgs.gov/api/search.json?count=1&tsn=173819'}"
      ]
     },
     "metadata": {},
     "output_type": "display_data"
    },
    {
     "name": "stdout",
     "output_type": "stream",
     "text": [
      "<pymongo.results.UpdateResult object at 0x102ad0448>\n"
     ]
    },
    {
     "data": {
      "text/plain": [
       "{'originCollection': 'gapspecies',\n",
       " 'originID': ObjectId('59b841b60601bad0b9df0c49'),\n",
       " 'searchURL': 'https://bison.usgs.gov/api/search.json?count=1&tsn=174156'}"
      ]
     },
     "metadata": {},
     "output_type": "display_data"
    },
    {
     "name": "stdout",
     "output_type": "stream",
     "text": [
      "<pymongo.results.UpdateResult object at 0x102aca308>\n"
     ]
    },
    {
     "data": {
      "text/plain": [
       "{'originCollection': 'gapspecies',\n",
       " 'originID': ObjectId('59b841b70601bad0b9df0c4a'),\n",
       " 'searchURL': 'https://bison.usgs.gov/api/search.json?count=1&tsn=563909'}"
      ]
     },
     "metadata": {},
     "output_type": "display_data"
    },
    {
     "name": "stdout",
     "output_type": "stream",
     "text": [
      "<pymongo.results.UpdateResult object at 0x102ab6048>\n"
     ]
    },
    {
     "data": {
      "text/plain": [
       "{'originCollection': 'gapspecies',\n",
       " 'originID': ObjectId('59b841b80601bad0b9df0c4b'),\n",
       " 'searchURL': 'https://bison.usgs.gov/api/search.json?count=1&tsn=180672'}"
      ]
     },
     "metadata": {},
     "output_type": "display_data"
    },
    {
     "name": "stdout",
     "output_type": "stream",
     "text": [
      "<pymongo.results.UpdateResult object at 0x102b29048>\n"
     ]
    },
    {
     "data": {
      "text/plain": [
       "{'originCollection': 'gapspecies',\n",
       " 'originID': ObjectId('59b841b90601bad0b9df0c4c'),\n",
       " 'searchURL': 'https://bison.usgs.gov/api/search.json?count=1&tsn=178340'}"
      ]
     },
     "metadata": {},
     "output_type": "display_data"
    },
    {
     "name": "stdout",
     "output_type": "stream",
     "text": [
      "<pymongo.results.UpdateResult object at 0x102b4b3c8>\n"
     ]
    },
    {
     "data": {
      "text/plain": [
       "{'originCollection': 'gapspecies',\n",
       " 'originID': ObjectId('59b841ba0601bad0b9df0c4d'),\n",
       " 'searchURL': 'https://bison.usgs.gov/api/search.json?count=1&tsn=174976'}"
      ]
     },
     "metadata": {},
     "output_type": "display_data"
    },
    {
     "name": "stdout",
     "output_type": "stream",
     "text": [
      "<pymongo.results.UpdateResult object at 0x102b584c8>\n"
     ]
    },
    {
     "data": {
      "text/plain": [
       "{'originCollection': 'gapspecies',\n",
       " 'originID': ObjectId('59b841bb0601bad0b9df0c4e'),\n",
       " 'searchURL': 'https://bison.usgs.gov/api/search.json?count=1&tsn=179076'}"
      ]
     },
     "metadata": {},
     "output_type": "display_data"
    },
    {
     "name": "stdout",
     "output_type": "stream",
     "text": [
      "<pymongo.results.UpdateResult object at 0x102b49ec8>\n"
     ]
    },
    {
     "data": {
      "text/plain": [
       "{'originCollection': 'gapspecies',\n",
       " 'originID': ObjectId('59b841bc0601bad0b9df0c4f'),\n",
       " 'searchURL': 'https://bison.usgs.gov/api/search.json?count=1&tsn=174319'}"
      ]
     },
     "metadata": {},
     "output_type": "display_data"
    },
    {
     "name": "stdout",
     "output_type": "stream",
     "text": [
      "<pymongo.results.UpdateResult object at 0x102b60288>\n"
     ]
    },
    {
     "data": {
      "text/plain": [
       "{'originCollection': 'gapspecies',\n",
       " 'originID': ObjectId('59b841bd0601bad0b9df0c50'),\n",
       " 'searchURL': 'https://bison.usgs.gov/api/search.json?count=1&tsn=551766'}"
      ]
     },
     "metadata": {},
     "output_type": "display_data"
    },
    {
     "name": "stdout",
     "output_type": "stream",
     "text": [
      "<pymongo.results.UpdateResult object at 0x102b5a108>\n"
     ]
    },
    {
     "data": {
      "text/plain": [
       "{'originCollection': 'gapspecies',\n",
       " 'originID': ObjectId('59b841bd0601bad0b9df0c51'),\n",
       " 'searchURL': 'https://bison.usgs.gov/api/search.json?count=1&tsn=180370'}"
      ]
     },
     "metadata": {},
     "output_type": "display_data"
    },
    {
     "name": "stdout",
     "output_type": "stream",
     "text": [
      "<pymongo.results.UpdateResult object at 0x102b4e2c8>\n"
     ]
    },
    {
     "data": {
      "text/plain": [
       "{'originCollection': 'gapspecies',\n",
       " 'originID': ObjectId('59b841be0601bad0b9df0c52'),\n",
       " 'searchURL': 'https://bison.usgs.gov/api/search.json?count=1&tsn=174150'}"
      ]
     },
     "metadata": {},
     "output_type": "display_data"
    },
    {
     "name": "stdout",
     "output_type": "stream",
     "text": [
      "<pymongo.results.UpdateResult object at 0x102b4c108>\n"
     ]
    },
    {
     "data": {
      "text/plain": [
       "{'originCollection': 'gapspecies',\n",
       " 'originID': ObjectId('59b841bf0601bad0b9df0c53'),\n",
       " 'searchURL': 'https://bison.usgs.gov/api/search.json?count=1&tsn=178041'}"
      ]
     },
     "metadata": {},
     "output_type": "display_data"
    },
    {
     "name": "stdout",
     "output_type": "stream",
     "text": [
      "<pymongo.results.UpdateResult object at 0x102b47088>\n"
     ]
    },
    {
     "data": {
      "text/plain": [
       "{'originCollection': 'gapspecies',\n",
       " 'originID': ObjectId('59b841c00601bad0b9df0c54'),\n",
       " 'searchURL': 'https://bison.usgs.gov/api/search.json?count=1&tsn=208350'}"
      ]
     },
     "metadata": {},
     "output_type": "display_data"
    },
    {
     "name": "stdout",
     "output_type": "stream",
     "text": [
      "<pymongo.results.UpdateResult object at 0x102b3d088>\n"
     ]
    },
    {
     "data": {
      "text/plain": [
       "{'originCollection': 'gapspecies',\n",
       " 'originID': ObjectId('59b841c00601bad0b9df0c55'),\n",
       " 'searchURL': 'https://bison.usgs.gov/api/search.json?count=1&tsn=668247'}"
      ]
     },
     "metadata": {},
     "output_type": "display_data"
    },
    {
     "name": "stdout",
     "output_type": "stream",
     "text": [
      "<pymongo.results.UpdateResult object at 0x102b2d648>\n"
     ]
    },
    {
     "data": {
      "text/plain": [
       "{'originCollection': 'gapspecies',\n",
       " 'originID': ObjectId('59b841c10601bad0b9df0c56'),\n",
       " 'searchURL': 'https://bison.usgs.gov/api/search.json?count=1&tsn=180224'}"
      ]
     },
     "metadata": {},
     "output_type": "display_data"
    },
    {
     "name": "stdout",
     "output_type": "stream",
     "text": [
      "<pymongo.results.UpdateResult object at 0x102a6a1c8>\n"
     ]
    },
    {
     "data": {
      "text/plain": [
       "{'originCollection': 'gapspecies',\n",
       " 'originID': ObjectId('59b841c20601bad0b9df0c57'),\n",
       " 'searchURL': 'https://bison.usgs.gov/api/search.json?count=1&tsn=668669'}"
      ]
     },
     "metadata": {},
     "output_type": "display_data"
    },
    {
     "name": "stdout",
     "output_type": "stream",
     "text": [
      "<pymongo.results.UpdateResult object at 0x102a6c288>\n"
     ]
    },
    {
     "data": {
      "text/plain": [
       "{'originCollection': 'gapspecies',\n",
       " 'originID': ObjectId('59b841c20601bad0b9df0c58'),\n",
       " 'searchURL': 'https://bison.usgs.gov/api/search.json?count=1&tsn=174038'}"
      ]
     },
     "metadata": {},
     "output_type": "display_data"
    },
    {
     "name": "stdout",
     "output_type": "stream",
     "text": [
      "<pymongo.results.UpdateResult object at 0x102a480c8>\n"
     ]
    },
    {
     "data": {
      "text/plain": [
       "{'originCollection': 'gapspecies',\n",
       " 'originID': ObjectId('59b841c30601bad0b9df0c59'),\n",
       " 'searchURL': 'https://bison.usgs.gov/api/search.json?count=1&tsn=179975'}"
      ]
     },
     "metadata": {},
     "output_type": "display_data"
    },
    {
     "name": "stdout",
     "output_type": "stream",
     "text": [
      "<pymongo.results.UpdateResult object at 0x102a741c8>\n"
     ]
    },
    {
     "data": {
      "text/plain": [
       "{'originCollection': 'gapspecies',\n",
       " 'originID': ObjectId('59b841c40601bad0b9df0c5a'),\n",
       " 'searchURL': 'https://bison.usgs.gov/api/search.json?count=1&tsn=209020'}"
      ]
     },
     "metadata": {},
     "output_type": "display_data"
    },
    {
     "name": "stdout",
     "output_type": "stream",
     "text": [
      "<pymongo.results.UpdateResult object at 0x102a6f288>\n"
     ]
    },
    {
     "data": {
      "text/plain": [
       "{'originCollection': 'gapspecies',\n",
       " 'originID': ObjectId('59b841c40601bad0b9df0c5b'),\n",
       " 'searchURL': 'https://bison.usgs.gov/api/search.json?count=1&tsn=173876'}"
      ]
     },
     "metadata": {},
     "output_type": "display_data"
    },
    {
     "name": "stdout",
     "output_type": "stream",
     "text": [
      "<pymongo.results.UpdateResult object at 0x102a656c8>\n"
     ]
    },
    {
     "data": {
      "text/plain": [
       "{'originCollection': 'gapspecies',\n",
       " 'originID': ObjectId('59b841c50601bad0b9df0c5c'),\n",
       " 'searchURL': 'https://bison.usgs.gov/api/search.json?count=1&tsn=550243'}"
      ]
     },
     "metadata": {},
     "output_type": "display_data"
    },
    {
     "name": "stdout",
     "output_type": "stream",
     "text": [
      "<pymongo.results.UpdateResult object at 0x102a641c8>\n"
     ]
    },
    {
     "data": {
      "text/plain": [
       "{'originCollection': 'gapspecies',\n",
       " 'originID': ObjectId('59b841c60601bad0b9df0c5d'),\n",
       " 'searchURL': 'https://bison.usgs.gov/api/search.json?count=1&tsn=174314'}"
      ]
     },
     "metadata": {},
     "output_type": "display_data"
    },
    {
     "name": "stdout",
     "output_type": "stream",
     "text": [
      "<pymongo.results.UpdateResult object at 0x102a3c108>\n"
     ]
    },
    {
     "data": {
      "text/plain": [
       "{'originCollection': 'gapspecies',\n",
       " 'originID': ObjectId('59b841c70601bad0b9df0c5e'),\n",
       " 'searchURL': 'https://bison.usgs.gov/api/search.json?count=1&tsn=173970'}"
      ]
     },
     "metadata": {},
     "output_type": "display_data"
    },
    {
     "name": "stdout",
     "output_type": "stream",
     "text": [
      "<pymongo.results.UpdateResult object at 0x102a52fc8>\n"
     ]
    },
    {
     "data": {
      "text/plain": [
       "{'originCollection': 'gapspecies',\n",
       " 'originID': ObjectId('59b841c80601bad0b9df0c5f'),\n",
       " 'searchURL': 'https://bison.usgs.gov/api/search.json?count=1&tsn=563908'}"
      ]
     },
     "metadata": {},
     "output_type": "display_data"
    },
    {
     "name": "stdout",
     "output_type": "stream",
     "text": [
      "<pymongo.results.UpdateResult object at 0x102a43608>\n"
     ]
    },
    {
     "data": {
      "text/plain": [
       "{'originCollection': 'gapspecies',\n",
       " 'originID': ObjectId('59b841c90601bad0b9df0c60'),\n",
       " 'searchURL': 'https://bison.usgs.gov/api/search.json?count=1&tsn=180209'}"
      ]
     },
     "metadata": {},
     "output_type": "display_data"
    },
    {
     "name": "stdout",
     "output_type": "stream",
     "text": [
      "<pymongo.results.UpdateResult object at 0x102a46388>\n"
     ]
    },
    {
     "data": {
      "text/plain": [
       "{'originCollection': 'gapspecies',\n",
       " 'originID': ObjectId('59b841ca0601bad0b9df0c61'),\n",
       " 'searchURL': 'https://bison.usgs.gov/api/search.json?count=1&tsn=173793'}"
      ]
     },
     "metadata": {},
     "output_type": "display_data"
    },
    {
     "name": "stdout",
     "output_type": "stream",
     "text": [
      "<pymongo.results.UpdateResult object at 0x1027c5308>\n"
     ]
    },
    {
     "data": {
      "text/plain": [
       "{'originCollection': 'gapspecies',\n",
       " 'originID': ObjectId('59b841ca0601bad0b9df0c62'),\n",
       " 'searchURL': 'https://bison.usgs.gov/api/search.json?count=1&tsn=209338'}"
      ]
     },
     "metadata": {},
     "output_type": "display_data"
    },
    {
     "name": "stdout",
     "output_type": "stream",
     "text": [
      "<pymongo.results.UpdateResult object at 0x1027ca5c8>\n"
     ]
    },
    {
     "data": {
      "text/plain": [
       "{'originCollection': 'gapspecies',\n",
       " 'originID': ObjectId('59b841cb0601bad0b9df0c63'),\n",
       " 'searchURL': 'https://bison.usgs.gov/api/search.json?count=1&tsn=173830'}"
      ]
     },
     "metadata": {},
     "output_type": "display_data"
    },
    {
     "name": "stdout",
     "output_type": "stream",
     "text": [
      "<pymongo.results.UpdateResult object at 0x1027cf108>\n"
     ]
    },
    {
     "data": {
      "text/plain": [
       "{'originCollection': 'gapspecies',\n",
       " 'originID': ObjectId('59b841cc0601bad0b9df0c64'),\n",
       " 'searchURL': 'https://bison.usgs.gov/api/search.json?count=1&tsn=179759'}"
      ]
     },
     "metadata": {},
     "output_type": "display_data"
    },
    {
     "name": "stdout",
     "output_type": "stream",
     "text": [
      "<pymongo.results.UpdateResult object at 0x1027d4708>\n"
     ]
    },
    {
     "data": {
      "text/plain": [
       "{'originCollection': 'gapspecies',\n",
       " 'originID': ObjectId('59b841cd0601bad0b9df0c65'),\n",
       " 'searchURL': 'https://bison.usgs.gov/api/search.json?count=1&tsn=180236'}"
      ]
     },
     "metadata": {},
     "output_type": "display_data"
    },
    {
     "name": "stdout",
     "output_type": "stream",
     "text": [
      "<pymongo.results.UpdateResult object at 0x1027db188>\n"
     ]
    },
    {
     "data": {
      "text/plain": [
       "{'originCollection': 'gapspecies',\n",
       " 'originID': ObjectId('59b841cd0601bad0b9df0c66'),\n",
       " 'searchURL': 'https://bison.usgs.gov/api/search.json?count=1&tsn=180175'}"
      ]
     },
     "metadata": {},
     "output_type": "display_data"
    },
    {
     "name": "stdout",
     "output_type": "stream",
     "text": [
      "<pymongo.results.UpdateResult object at 0x1027df0c8>\n"
     ]
    },
    {
     "data": {
      "text/plain": [
       "{'originCollection': 'gapspecies',\n",
       " 'originID': ObjectId('59b841ce0601bad0b9df0c67'),\n",
       " 'searchURL': 'https://bison.usgs.gov/api/search.json?count=1&tsn=173878'}"
      ]
     },
     "metadata": {},
     "output_type": "display_data"
    },
    {
     "name": "stdout",
     "output_type": "stream",
     "text": [
      "<pymongo.results.UpdateResult object at 0x1027e73c8>\n"
     ]
    },
    {
     "data": {
      "text/plain": [
       "{'originCollection': 'gapspecies',\n",
       " 'originID': ObjectId('59b841cf0601bad0b9df0c68'),\n",
       " 'searchURL': 'https://bison.usgs.gov/api/search.json?count=1&tsn=173763'}"
      ]
     },
     "metadata": {},
     "output_type": "display_data"
    },
    {
     "name": "stdout",
     "output_type": "stream",
     "text": [
      "<pymongo.results.UpdateResult object at 0x1027e7cc8>\n"
     ]
    },
    {
     "data": {
      "text/plain": [
       "{'originCollection': 'gapspecies',\n",
       " 'originID': ObjectId('59b841d00601bad0b9df0c69'),\n",
       " 'searchURL': 'https://bison.usgs.gov/api/search.json?count=1&tsn=173959'}"
      ]
     },
     "metadata": {},
     "output_type": "display_data"
    },
    {
     "name": "stdout",
     "output_type": "stream",
     "text": [
      "<pymongo.results.UpdateResult object at 0x1027f4088>\n"
     ]
    },
    {
     "data": {
      "text/plain": [
       "{'originCollection': 'gapspecies',\n",
       " 'originID': ObjectId('59b841d00601bad0b9df0c6a'),\n",
       " 'searchURL': 'https://bison.usgs.gov/api/search.json?count=1&tsn=174232'}"
      ]
     },
     "metadata": {},
     "output_type": "display_data"
    },
    {
     "name": "stdout",
     "output_type": "stream",
     "text": [
      "<pymongo.results.UpdateResult object at 0x1027f81c8>\n"
     ]
    },
    {
     "data": {
      "text/plain": [
       "{'originCollection': 'gapspecies',\n",
       " 'originID': ObjectId('59b841d10601bad0b9df0c6b'),\n",
       " 'searchURL': 'https://bison.usgs.gov/api/search.json?count=1&tsn=552479'}"
      ]
     },
     "metadata": {},
     "output_type": "display_data"
    },
    {
     "name": "stdout",
     "output_type": "stream",
     "text": [
      "<pymongo.results.UpdateResult object at 0x1027fc5c8>\n"
     ]
    },
    {
     "data": {
      "text/plain": [
       "{'originCollection': 'gapspecies',\n",
       " 'originID': ObjectId('59b841d20601bad0b9df0c6c'),\n",
       " 'searchURL': 'https://bison.usgs.gov/api/search.json?count=1&tsn=552479'}"
      ]
     },
     "metadata": {},
     "output_type": "display_data"
    },
    {
     "name": "stdout",
     "output_type": "stream",
     "text": [
      "<pymongo.results.UpdateResult object at 0x102803048>\n"
     ]
    },
    {
     "data": {
      "text/plain": [
       "{'originCollection': 'gapspecies',\n",
       " 'originID': ObjectId('59b841d30601bad0b9df0c6d'),\n",
       " 'searchURL': 'https://bison.usgs.gov/api/search.json?count=1&tsn=177831'}"
      ]
     },
     "metadata": {},
     "output_type": "display_data"
    },
    {
     "name": "stdout",
     "output_type": "stream",
     "text": [
      "<pymongo.results.UpdateResult object at 0x10149d708>\n"
     ]
    },
    {
     "data": {
      "text/plain": [
       "{'originCollection': 'gapspecies',\n",
       " 'originID': ObjectId('59b841d40601bad0b9df0c6e'),\n",
       " 'searchURL': 'https://bison.usgs.gov/api/search.json?count=1&tsn=180122'}"
      ]
     },
     "metadata": {},
     "output_type": "display_data"
    },
    {
     "name": "stdout",
     "output_type": "stream",
     "text": [
      "<pymongo.results.UpdateResult object at 0x1014a0648>\n"
     ]
    },
    {
     "data": {
      "text/plain": [
       "{'originCollection': 'gapspecies',\n",
       " 'originID': ObjectId('59b841d40601bad0b9df0c6f'),\n",
       " 'searchURL': 'https://bison.usgs.gov/api/search.json?count=1&tsn=174026'}"
      ]
     },
     "metadata": {},
     "output_type": "display_data"
    },
    {
     "name": "stdout",
     "output_type": "stream",
     "text": [
      "<pymongo.results.UpdateResult object at 0x1014ab808>\n"
     ]
    },
    {
     "data": {
      "text/plain": [
       "{'originCollection': 'gapspecies',\n",
       " 'originID': ObjectId('59b841d50601bad0b9df0c70'),\n",
       " 'searchURL': 'https://bison.usgs.gov/api/search.json?count=1&tsn=174281'}"
      ]
     },
     "metadata": {},
     "output_type": "display_data"
    },
    {
     "name": "stdout",
     "output_type": "stream",
     "text": [
      "<pymongo.results.UpdateResult object at 0x1014b2048>\n"
     ]
    },
    {
     "data": {
      "text/plain": [
       "{'originCollection': 'gapspecies',\n",
       " 'originID': ObjectId('59b841d60601bad0b9df0c71'),\n",
       " 'searchURL': 'https://bison.usgs.gov/api/search.json?count=1&tsn=180347'}"
      ]
     },
     "metadata": {},
     "output_type": "display_data"
    },
    {
     "name": "stdout",
     "output_type": "stream",
     "text": [
      "<pymongo.results.UpdateResult object at 0x1014b9088>\n"
     ]
    },
    {
     "data": {
      "text/plain": [
       "{'originCollection': 'gapspecies',\n",
       " 'originID': ObjectId('59b841d60601bad0b9df0c72'),\n",
       " 'searchURL': 'https://bison.usgs.gov/api/search.json?count=1&tsn=175092'}"
      ]
     },
     "metadata": {},
     "output_type": "display_data"
    },
    {
     "name": "stdout",
     "output_type": "stream",
     "text": [
      "<pymongo.results.UpdateResult object at 0x1014be508>\n"
     ]
    },
    {
     "data": {
      "text/plain": [
       "{'originCollection': 'gapspecies',\n",
       " 'originID': ObjectId('59b841d70601bad0b9df0c73'),\n",
       " 'searchURL': 'https://bison.usgs.gov/api/search.json?count=1&tsn=180062'}"
      ]
     },
     "metadata": {},
     "output_type": "display_data"
    },
    {
     "name": "stdout",
     "output_type": "stream",
     "text": [
      "<pymongo.results.UpdateResult object at 0x1014c4048>\n"
     ]
    },
    {
     "data": {
      "text/plain": [
       "{'originCollection': 'gapspecies',\n",
       " 'originID': ObjectId('59b841d70601bad0b9df0c74'),\n",
       " 'searchURL': 'https://bison.usgs.gov/api/search.json?count=1&tsn=180156'}"
      ]
     },
     "metadata": {},
     "output_type": "display_data"
    },
    {
     "name": "stdout",
     "output_type": "stream",
     "text": [
      "<pymongo.results.UpdateResult object at 0x1014ca448>\n"
     ]
    },
    {
     "data": {
      "text/plain": [
       "{'originCollection': 'gapspecies',\n",
       " 'originID': ObjectId('59b841d80601bad0b9df0c75'),\n",
       " 'searchURL': 'https://bison.usgs.gov/api/search.json?count=1&tsn=554255'}"
      ]
     },
     "metadata": {},
     "output_type": "display_data"
    },
    {
     "name": "stdout",
     "output_type": "stream",
     "text": [
      "<pymongo.results.UpdateResult object at 0x1014d2188>\n"
     ]
    },
    {
     "data": {
      "text/plain": [
       "{'originCollection': 'gapspecies',\n",
       " 'originID': ObjectId('59b841d80601bad0b9df0c76'),\n",
       " 'searchURL': 'https://bison.usgs.gov/api/search.json?count=1&tsn=177839'}"
      ]
     },
     "metadata": {},
     "output_type": "display_data"
    },
    {
     "name": "stdout",
     "output_type": "stream",
     "text": [
      "<pymongo.results.UpdateResult object at 0x1014d8588>\n"
     ]
    },
    {
     "data": {
      "text/plain": [
       "{'originCollection': 'gapspecies',\n",
       " 'originID': ObjectId('59b841d90601bad0b9df0c77'),\n",
       " 'searchURL': 'https://bison.usgs.gov/api/search.json?count=1&tsn=178844'}"
      ]
     },
     "metadata": {},
     "output_type": "display_data"
    },
    {
     "name": "stdout",
     "output_type": "stream",
     "text": [
      "<pymongo.results.UpdateResult object at 0x1014dd708>\n"
     ]
    },
    {
     "data": {
      "text/plain": [
       "{'originCollection': 'gapspecies',\n",
       " 'originID': ObjectId('59b841d90601bad0b9df0c78'),\n",
       " 'searchURL': 'https://bison.usgs.gov/api/search.json?count=1&tsn=174773'}"
      ]
     },
     "metadata": {},
     "output_type": "display_data"
    },
    {
     "name": "stdout",
     "output_type": "stream",
     "text": [
      "<pymongo.results.UpdateResult object at 0x1014e3088>\n"
     ]
    },
    {
     "data": {
      "text/plain": [
       "{'originCollection': 'gapspecies',\n",
       " 'originID': ObjectId('59b841da0601bad0b9df0c79'),\n",
       " 'searchURL': 'https://bison.usgs.gov/api/search.json?count=1&tsn=178637'}"
      ]
     },
     "metadata": {},
     "output_type": "display_data"
    },
    {
     "name": "stdout",
     "output_type": "stream",
     "text": [
      "<pymongo.results.UpdateResult object at 0x1014e3dc8>\n"
     ]
    },
    {
     "data": {
      "text/plain": [
       "{'originCollection': 'gapspecies',\n",
       " 'originID': ObjectId('59b841da0601bad0b9df0c7a'),\n",
       " 'searchURL': 'https://bison.usgs.gov/api/search.json?count=1&tsn=726112'}"
      ]
     },
     "metadata": {},
     "output_type": "display_data"
    },
    {
     "name": "stdout",
     "output_type": "stream",
     "text": [
      "<pymongo.results.UpdateResult object at 0x1014e9948>\n"
     ]
    },
    {
     "data": {
      "text/plain": [
       "{'originCollection': 'gapspecies',\n",
       " 'originID': ObjectId('59b841da0601bad0b9df0c7b'),\n",
       " 'searchURL': 'https://bison.usgs.gov/api/search.json?count=1&tsn=179366'}"
      ]
     },
     "metadata": {},
     "output_type": "display_data"
    },
    {
     "name": "stdout",
     "output_type": "stream",
     "text": [
      "<pymongo.results.UpdateResult object at 0x1014f2848>\n"
     ]
    },
    {
     "data": {
      "text/plain": [
       "{'originCollection': 'gapspecies',\n",
       " 'originID': ObjectId('59b841db0601bad0b9df0c7c'),\n",
       " 'searchURL': 'https://bison.usgs.gov/api/search.json?count=1&tsn=179806'}"
      ]
     },
     "metadata": {},
     "output_type": "display_data"
    },
    {
     "name": "stdout",
     "output_type": "stream",
     "text": [
      "<pymongo.results.UpdateResult object at 0x1014fa0c8>\n"
     ]
    },
    {
     "data": {
      "text/plain": [
       "{'originCollection': 'gapspecies',\n",
       " 'originID': ObjectId('59b841db0601bad0b9df0c7d'),\n",
       " 'searchURL': 'https://bison.usgs.gov/api/search.json?count=1&tsn=178887'}"
      ]
     },
     "metadata": {},
     "output_type": "display_data"
    },
    {
     "name": "stdout",
     "output_type": "stream",
     "text": [
      "<pymongo.results.UpdateResult object at 0x1014ff348>\n"
     ]
    },
    {
     "data": {
      "text/plain": [
       "{'originCollection': 'gapspecies',\n",
       " 'originID': ObjectId('59b841db0601bad0b9df0c7e'),\n",
       " 'searchURL': 'https://bison.usgs.gov/api/search.json?count=1&tsn=176887'}"
      ]
     },
     "metadata": {},
     "output_type": "display_data"
    },
    {
     "name": "stdout",
     "output_type": "stream",
     "text": [
      "<pymongo.results.UpdateResult object at 0x101505588>\n"
     ]
    },
    {
     "data": {
      "text/plain": [
       "{'originCollection': 'gapspecies',\n",
       " 'originID': ObjectId('59b841dc0601bad0b9df0c7f'),\n",
       " 'searchURL': 'https://bison.usgs.gov/api/search.json?count=1&tsn=176882'}"
      ]
     },
     "metadata": {},
     "output_type": "display_data"
    },
    {
     "name": "stdout",
     "output_type": "stream",
     "text": [
      "<pymongo.results.UpdateResult object at 0x10150c088>\n"
     ]
    },
    {
     "data": {
      "text/plain": [
       "{'originCollection': 'gapspecies',\n",
       " 'originID': ObjectId('59b841dc0601bad0b9df0c80'),\n",
       " 'searchURL': 'https://bison.usgs.gov/api/search.json?count=1&tsn=180698'}"
      ]
     },
     "metadata": {},
     "output_type": "display_data"
    },
    {
     "name": "stdout",
     "output_type": "stream",
     "text": [
      "<pymongo.results.UpdateResult object at 0x101513808>\n"
     ]
    },
    {
     "data": {
      "text/plain": [
       "{'originCollection': 'gapspecies',\n",
       " 'originID': ObjectId('59b841dd0601bad0b9df0c81'),\n",
       " 'searchURL': 'https://bison.usgs.gov/api/search.json?count=1&tsn=179667'}"
      ]
     },
     "metadata": {},
     "output_type": "display_data"
    },
    {
     "name": "stdout",
     "output_type": "stream",
     "text": [
      "<pymongo.results.UpdateResult object at 0x10151a108>\n"
     ]
    },
    {
     "data": {
      "text/plain": [
       "{'originCollection': 'gapspecies',\n",
       " 'originID': ObjectId('59b841de0601bad0b9df0c82'),\n",
       " 'searchURL': 'https://bison.usgs.gov/api/search.json?count=1&tsn=175365'}"
      ]
     },
     "metadata": {},
     "output_type": "display_data"
    },
    {
     "name": "stdout",
     "output_type": "stream",
     "text": [
      "<pymongo.results.UpdateResult object at 0x1028244c8>\n"
     ]
    },
    {
     "data": {
      "text/plain": [
       "{'originCollection': 'gapspecies',\n",
       " 'originID': ObjectId('59b841de0601bad0b9df0c83'),\n",
       " 'searchURL': 'https://bison.usgs.gov/api/search.json?count=1&tsn=179977'}"
      ]
     },
     "metadata": {},
     "output_type": "display_data"
    },
    {
     "name": "stdout",
     "output_type": "stream",
     "text": [
      "<pymongo.results.UpdateResult object at 0x10282b108>\n"
     ]
    },
    {
     "data": {
      "text/plain": [
       "{'originCollection': 'gapspecies',\n",
       " 'originID': ObjectId('59b841de0601bad0b9df0c84'),\n",
       " 'searchURL': 'https://bison.usgs.gov/api/search.json?count=1&tsn=179883'}"
      ]
     },
     "metadata": {},
     "output_type": "display_data"
    },
    {
     "name": "stdout",
     "output_type": "stream",
     "text": [
      "<pymongo.results.UpdateResult object at 0x102831548>\n"
     ]
    },
    {
     "data": {
      "text/plain": [
       "{'originCollection': 'gapspecies',\n",
       " 'originID': ObjectId('59b841df0601bad0b9df0c85'),\n",
       " 'searchURL': 'https://bison.usgs.gov/api/search.json?count=1&tsn=176506'}"
      ]
     },
     "metadata": {},
     "output_type": "display_data"
    },
    {
     "name": "stdout",
     "output_type": "stream",
     "text": [
      "<pymongo.results.UpdateResult object at 0x102833188>\n"
     ]
    },
    {
     "data": {
      "text/plain": [
       "{'originCollection': 'gapspecies',\n",
       " 'originID': ObjectId('59b841df0601bad0b9df0c86'),\n",
       " 'searchURL': 'https://bison.usgs.gov/api/search.json?count=1&tsn=179448'}"
      ]
     },
     "metadata": {},
     "output_type": "display_data"
    },
    {
     "name": "stdout",
     "output_type": "stream",
     "text": [
      "<pymongo.results.UpdateResult object at 0x10283d448>\n"
     ]
    },
    {
     "data": {
      "text/plain": [
       "{'originCollection': 'gapspecies',\n",
       " 'originID': ObjectId('59b841e00601bad0b9df0c87'),\n",
       " 'searchURL': 'https://bison.usgs.gov/api/search.json?count=1&tsn=179395'}"
      ]
     },
     "metadata": {},
     "output_type": "display_data"
    },
    {
     "name": "stdout",
     "output_type": "stream",
     "text": [
      "<pymongo.results.UpdateResult object at 0x1028430c8>\n"
     ]
    },
    {
     "data": {
      "text/plain": [
       "{'originCollection': 'gapspecies',\n",
       " 'originID': ObjectId('59b841e00601bad0b9df0c88'),\n",
       " 'searchURL': 'https://bison.usgs.gov/api/search.json?count=1&tsn=178888'}"
      ]
     },
     "metadata": {},
     "output_type": "display_data"
    },
    {
     "name": "stdout",
     "output_type": "stream",
     "text": [
      "<pymongo.results.UpdateResult object at 0x1028471c8>\n"
     ]
    },
    {
     "data": {
      "text/plain": [
       "{'originCollection': 'gapspecies',\n",
       " 'originID': ObjectId('59b841e10601bad0b9df0c89'),\n",
       " 'searchURL': 'https://bison.usgs.gov/api/search.json?count=1&tsn=554375'}"
      ]
     },
     "metadata": {},
     "output_type": "display_data"
    },
    {
     "name": "stdout",
     "output_type": "stream",
     "text": [
      "<pymongo.results.UpdateResult object at 0x10284d588>\n"
     ]
    },
    {
     "data": {
      "text/plain": [
       "{'originCollection': 'gapspecies',\n",
       " 'originID': ObjectId('59b841e10601bad0b9df0c8a'),\n",
       " 'searchURL': 'https://bison.usgs.gov/api/search.json?count=1&tsn=179117'}"
      ]
     },
     "metadata": {},
     "output_type": "display_data"
    },
    {
     "name": "stdout",
     "output_type": "stream",
     "text": [
      "<pymongo.results.UpdateResult object at 0x1028551c8>\n"
     ]
    },
    {
     "data": {
      "text/plain": [
       "{'originCollection': 'gapspecies',\n",
       " 'originID': ObjectId('59b841e20601bad0b9df0c8b'),\n",
       " 'searchURL': 'https://bison.usgs.gov/api/search.json?count=1&tsn=174813'}"
      ]
     },
     "metadata": {},
     "output_type": "display_data"
    },
    {
     "name": "stdout",
     "output_type": "stream",
     "text": [
      "<pymongo.results.UpdateResult object at 0x10285a048>\n"
     ]
    },
    {
     "data": {
      "text/plain": [
       "{'originCollection': 'gapspecies',\n",
       " 'originID': ObjectId('59b841e20601bad0b9df0c8c'),\n",
       " 'searchURL': 'https://bison.usgs.gov/api/search.json?count=1&tsn=180150'}"
      ]
     },
     "metadata": {},
     "output_type": "display_data"
    },
    {
     "name": "stdout",
     "output_type": "stream",
     "text": [
      "<pymongo.results.UpdateResult object at 0x102860648>\n"
     ]
    },
    {
     "data": {
      "text/plain": [
       "{'originCollection': 'gapspecies',\n",
       " 'originID': ObjectId('59b841e30601bad0b9df0c8d'),\n",
       " 'searchURL': 'https://bison.usgs.gov/api/search.json?count=1&tsn=178979'}"
      ]
     },
     "metadata": {},
     "output_type": "display_data"
    },
    {
     "name": "stdout",
     "output_type": "stream",
     "text": [
      "<pymongo.results.UpdateResult object at 0x1028f9108>\n"
     ]
    },
    {
     "data": {
      "text/plain": [
       "{'originCollection': 'gapspecies',\n",
       " 'originID': ObjectId('59b841e30601bad0b9df0c8e'),\n",
       " 'searchURL': 'https://bison.usgs.gov/api/search.json?count=1&tsn=175145'}"
      ]
     },
     "metadata": {},
     "output_type": "display_data"
    },
    {
     "name": "stdout",
     "output_type": "stream",
     "text": [
      "<pymongo.results.UpdateResult object at 0x1028fe848>\n"
     ]
    },
    {
     "data": {
      "text/plain": [
       "{'originCollection': 'gapspecies',\n",
       " 'originID': ObjectId('59b841e30601bad0b9df0c8f'),\n",
       " 'searchURL': 'https://bison.usgs.gov/api/search.json?count=1&tsn=176673'}"
      ]
     },
     "metadata": {},
     "output_type": "display_data"
    },
    {
     "name": "stdout",
     "output_type": "stream",
     "text": [
      "<pymongo.results.UpdateResult object at 0x102908048>\n"
     ]
    },
    {
     "data": {
      "text/plain": [
       "{'originCollection': 'gapspecies',\n",
       " 'originID': ObjectId('59b841e40601bad0b9df0c90'),\n",
       " 'searchURL': 'https://bison.usgs.gov/api/search.json?count=1&tsn=180348'}"
      ]
     },
     "metadata": {},
     "output_type": "display_data"
    },
    {
     "name": "stdout",
     "output_type": "stream",
     "text": [
      "<pymongo.results.UpdateResult object at 0x10290d3c8>\n"
     ]
    },
    {
     "data": {
      "text/plain": [
       "{'originCollection': 'gapspecies',\n",
       " 'originID': ObjectId('59b841e40601bad0b9df0c91'),\n",
       " 'searchURL': 'https://bison.usgs.gov/api/search.json?count=1&tsn=180180'}"
      ]
     },
     "metadata": {},
     "output_type": "display_data"
    },
    {
     "name": "stdout",
     "output_type": "stream",
     "text": [
      "<pymongo.results.UpdateResult object at 0x102912688>\n"
     ]
    },
    {
     "data": {
      "text/plain": [
       "{'originCollection': 'gapspecies',\n",
       " 'originID': ObjectId('59b841e50601bad0b9df0c92'),\n",
       " 'searchURL': 'https://bison.usgs.gov/api/search.json?count=1&tsn=176996'}"
      ]
     },
     "metadata": {},
     "output_type": "display_data"
    },
    {
     "name": "stdout",
     "output_type": "stream",
     "text": [
      "<pymongo.results.UpdateResult object at 0x1029190c8>\n"
     ]
    },
    {
     "data": {
      "text/plain": [
       "{'originCollection': 'gapspecies',\n",
       " 'originID': ObjectId('59b841e50601bad0b9df0c93'),\n",
       " 'searchURL': 'https://bison.usgs.gov/api/search.json?count=1&tsn=177125'}"
      ]
     },
     "metadata": {},
     "output_type": "display_data"
    },
    {
     "name": "stdout",
     "output_type": "stream",
     "text": [
      "<pymongo.results.UpdateResult object at 0x10291e7c8>\n"
     ]
    },
    {
     "data": {
      "text/plain": [
       "{'originCollection': 'gapspecies',\n",
       " 'originID': ObjectId('59b841e60601bad0b9df0c94'),\n",
       " 'searchURL': 'https://bison.usgs.gov/api/search.json?count=1&tsn=173525'}"
      ]
     },
     "metadata": {},
     "output_type": "display_data"
    },
    {
     "name": "stdout",
     "output_type": "stream",
     "text": [
      "<pymongo.results.UpdateResult object at 0x1029250c8>\n"
     ]
    },
    {
     "data": {
      "text/plain": [
       "{'originCollection': 'gapspecies',\n",
       " 'originID': ObjectId('59b841e60601bad0b9df0c95'),\n",
       " 'searchURL': 'https://bison.usgs.gov/api/search.json?count=1&tsn=176824'}"
      ]
     },
     "metadata": {},
     "output_type": "display_data"
    },
    {
     "name": "stdout",
     "output_type": "stream",
     "text": [
      "<pymongo.results.UpdateResult object at 0x10292a408>\n"
     ]
    },
    {
     "data": {
      "text/plain": [
       "{'originCollection': 'gapspecies',\n",
       " 'originID': ObjectId('59b841e70601bad0b9df0c96'),\n",
       " 'searchURL': 'https://bison.usgs.gov/api/search.json?count=1&tsn=554256'}"
      ]
     },
     "metadata": {},
     "output_type": "display_data"
    },
    {
     "name": "stdout",
     "output_type": "stream",
     "text": [
      "<pymongo.results.UpdateResult object at 0x1029320c8>\n"
     ]
    },
    {
     "data": {
      "text/plain": [
       "{'originCollection': 'gapspecies',\n",
       " 'originID': ObjectId('59b841e70601bad0b9df0c97'),\n",
       " 'searchURL': 'https://bison.usgs.gov/api/search.json?count=1&tsn=178997'}"
      ]
     },
     "metadata": {},
     "output_type": "display_data"
    },
    {
     "name": "stdout",
     "output_type": "stream",
     "text": [
      "<pymongo.results.UpdateResult object at 0x102938708>\n"
     ]
    },
    {
     "data": {
      "text/plain": [
       "{'originCollection': 'gapspecies',\n",
       " 'originID': ObjectId('59b841e80601bad0b9df0c98'),\n",
       " 'searchURL': 'https://bison.usgs.gov/api/search.json?count=1&tsn=178645'}"
      ]
     },
     "metadata": {},
     "output_type": "display_data"
    },
    {
     "name": "stdout",
     "output_type": "stream",
     "text": [
      "<pymongo.results.UpdateResult object at 0x102940088>\n"
     ]
    },
    {
     "data": {
      "text/plain": [
       "{'originCollection': 'gapspecies',\n",
       " 'originID': ObjectId('59b841e80601bad0b9df0c99'),\n",
       " 'searchURL': 'https://bison.usgs.gov/api/search.json?count=1&tsn=178196'}"
      ]
     },
     "metadata": {},
     "output_type": "display_data"
    },
    {
     "name": "stdout",
     "output_type": "stream",
     "text": [
      "<pymongo.results.UpdateResult object at 0x1029461c8>\n"
     ]
    },
    {
     "data": {
      "text/plain": [
       "{'originCollection': 'gapspecies',\n",
       " 'originID': ObjectId('59b841e90601bad0b9df0c9a'),\n",
       " 'searchURL': 'https://bison.usgs.gov/api/search.json?count=1&tsn=775113'}"
      ]
     },
     "metadata": {},
     "output_type": "display_data"
    },
    {
     "name": "stdout",
     "output_type": "stream",
     "text": [
      "<pymongo.results.UpdateResult object at 0x102949088>\n"
     ]
    },
    {
     "data": {
      "text/plain": [
       "{'originCollection': 'gapspecies',\n",
       " 'originID': ObjectId('59b841e90601bad0b9df0c9b'),\n",
       " 'searchURL': 'https://bison.usgs.gov/api/search.json?count=1&tsn=173578'}"
      ]
     },
     "metadata": {},
     "output_type": "display_data"
    },
    {
     "name": "stdout",
     "output_type": "stream",
     "text": [
      "<pymongo.results.UpdateResult object at 0x102950088>\n"
     ]
    },
    {
     "data": {
      "text/plain": [
       "{'originCollection': 'gapspecies',\n",
       " 'originID': ObjectId('59b841ea0601bad0b9df0c9c'),\n",
       " 'searchURL': 'https://bison.usgs.gov/api/search.json?count=1&tsn=175128'}"
      ]
     },
     "metadata": {},
     "output_type": "display_data"
    },
    {
     "name": "stdout",
     "output_type": "stream",
     "text": [
      "<pymongo.results.UpdateResult object at 0x102956108>\n"
     ]
    },
    {
     "data": {
      "text/plain": [
       "{'originCollection': 'gapspecies',\n",
       " 'originID': ObjectId('59b841ea0601bad0b9df0c9d'),\n",
       " 'searchURL': 'https://bison.usgs.gov/api/search.json?count=1&tsn=176207'}"
      ]
     },
     "metadata": {},
     "output_type": "display_data"
    },
    {
     "name": "stdout",
     "output_type": "stream",
     "text": [
      "<pymongo.results.UpdateResult object at 0x10295a648>\n"
     ]
    },
    {
     "data": {
      "text/plain": [
       "{'originCollection': 'gapspecies',\n",
       " 'originID': ObjectId('59b841eb0601bad0b9df0c9e'),\n",
       " 'searchURL': 'https://bison.usgs.gov/api/search.json?count=1&tsn=178050'}"
      ]
     },
     "metadata": {},
     "output_type": "display_data"
    },
    {
     "name": "stdout",
     "output_type": "stream",
     "text": [
      "<pymongo.results.UpdateResult object at 0x102962088>\n"
     ]
    },
    {
     "data": {
      "text/plain": [
       "{'originCollection': 'gapspecies',\n",
       " 'originID': ObjectId('59b841ec0601bad0b9df0c9f'),\n",
       " 'searchURL': 'https://bison.usgs.gov/api/search.json?count=1&tsn=173715'}"
      ]
     },
     "metadata": {},
     "output_type": "display_data"
    },
    {
     "name": "stdout",
     "output_type": "stream",
     "text": [
      "<pymongo.results.UpdateResult object at 0x102967208>\n"
     ]
    },
    {
     "data": {
      "text/plain": [
       "{'originCollection': 'gapspecies',\n",
       " 'originID': ObjectId('59b841ec0601bad0b9df0ca0'),\n",
       " 'searchURL': 'https://bison.usgs.gov/api/search.json?count=1&tsn=173667'}"
      ]
     },
     "metadata": {},
     "output_type": "display_data"
    },
    {
     "name": "stdout",
     "output_type": "stream",
     "text": [
      "<pymongo.results.UpdateResult object at 0x10296a308>\n"
     ]
    },
    {
     "data": {
      "text/plain": [
       "{'originCollection': 'gapspecies',\n",
       " 'originID': ObjectId('59b841ed0601bad0b9df0ca1'),\n",
       " 'searchURL': 'https://bison.usgs.gov/api/search.json?count=1&tsn=173799'}"
      ]
     },
     "metadata": {},
     "output_type": "display_data"
    },
    {
     "name": "stdout",
     "output_type": "stream",
     "text": [
      "<pymongo.results.UpdateResult object at 0x102973088>\n"
     ]
    },
    {
     "data": {
      "text/plain": [
       "{'originCollection': 'gapspecies',\n",
       " 'originID': ObjectId('59b841ed0601bad0b9df0ca2'),\n",
       " 'searchURL': 'https://bison.usgs.gov/api/search.json?count=1&tsn=174143'}"
      ]
     },
     "metadata": {},
     "output_type": "display_data"
    },
    {
     "name": "stdout",
     "output_type": "stream",
     "text": [
      "<pymongo.results.UpdateResult object at 0x102979588>\n"
     ]
    },
    {
     "data": {
      "text/plain": [
       "{'originCollection': 'gapspecies',\n",
       " 'originID': ObjectId('59b841ee0601bad0b9df0ca3'),\n",
       " 'searchURL': 'https://bison.usgs.gov/api/search.json?count=1&tsn=175855'}"
      ]
     },
     "metadata": {},
     "output_type": "display_data"
    },
    {
     "name": "stdout",
     "output_type": "stream",
     "text": [
      "<pymongo.results.UpdateResult object at 0x102981288>\n"
     ]
    },
    {
     "data": {
      "text/plain": [
       "{'originCollection': 'gapspecies',\n",
       " 'originID': ObjectId('59b841ef0601bad0b9df0ca4'),\n",
       " 'searchURL': 'https://bison.usgs.gov/api/search.json?count=1&tsn=173801'}"
      ]
     },
     "metadata": {},
     "output_type": "display_data"
    },
    {
     "name": "stdout",
     "output_type": "stream",
     "text": [
      "<pymongo.results.UpdateResult object at 0x1029850c8>\n"
     ]
    },
    {
     "data": {
      "text/plain": [
       "{'originCollection': 'gapspecies',\n",
       " 'originID': ObjectId('59b841ef0601bad0b9df0ca5'),\n",
       " 'searchURL': 'https://bison.usgs.gov/api/search.json?count=1&tsn=174169'}"
      ]
     },
     "metadata": {},
     "output_type": "display_data"
    },
    {
     "name": "stdout",
     "output_type": "stream",
     "text": [
      "<pymongo.results.UpdateResult object at 0x10298a0c8>\n"
     ]
    },
    {
     "data": {
      "text/plain": [
       "{'originCollection': 'gapspecies',\n",
       " 'originID': ObjectId('59b841f00601bad0b9df0ca6'),\n",
       " 'searchURL': 'https://bison.usgs.gov/api/search.json?count=1&tsn=173703'}"
      ]
     },
     "metadata": {},
     "output_type": "display_data"
    },
    {
     "name": "stdout",
     "output_type": "stream",
     "text": [
      "<pymongo.results.UpdateResult object at 0x10298f608>\n"
     ]
    },
    {
     "data": {
      "text/plain": [
       "{'originCollection': 'gapspecies',\n",
       " 'originID': ObjectId('59b841f00601bad0b9df0ca7'),\n",
       " 'searchURL': 'https://bison.usgs.gov/api/search.json?count=1&tsn=173633'}"
      ]
     },
     "metadata": {},
     "output_type": "display_data"
    },
    {
     "name": "stdout",
     "output_type": "stream",
     "text": [
      "<pymongo.results.UpdateResult object at 0x102996188>\n"
     ]
    },
    {
     "data": {
      "text/plain": [
       "{'originCollection': 'gapspecies',\n",
       " 'originID': ObjectId('59b841f10601bad0b9df0ca8'),\n",
       " 'searchURL': 'https://bison.usgs.gov/api/search.json?count=1&tsn=173697'}"
      ]
     },
     "metadata": {},
     "output_type": "display_data"
    },
    {
     "name": "stdout",
     "output_type": "stream",
     "text": [
      "<pymongo.results.UpdateResult object at 0x10299c108>\n"
     ]
    },
    {
     "data": {
      "text/plain": [
       "{'originCollection': 'gapspecies',\n",
       " 'originID': ObjectId('59b841f20601bad0b9df0ca9'),\n",
       " 'searchURL': 'https://bison.usgs.gov/api/search.json?count=1&tsn=173536'}"
      ]
     },
     "metadata": {},
     "output_type": "display_data"
    },
    {
     "name": "stdout",
     "output_type": "stream",
     "text": [
      "<pymongo.results.UpdateResult object at 0x1029a0848>\n"
     ]
    },
    {
     "data": {
      "text/plain": [
       "{'originCollection': 'gapspecies',\n",
       " 'originID': ObjectId('59b841f20601bad0b9df0caa'),\n",
       " 'searchURL': 'https://bison.usgs.gov/api/search.json?count=1&tsn=174005'}"
      ]
     },
     "metadata": {},
     "output_type": "display_data"
    },
    {
     "name": "stdout",
     "output_type": "stream",
     "text": [
      "<pymongo.results.UpdateResult object at 0x1029a6048>\n"
     ]
    },
    {
     "data": {
      "text/plain": [
       "{'originCollection': 'gapspecies',\n",
       " 'originID': ObjectId('59b841f30601bad0b9df0cab'),\n",
       " 'searchURL': 'https://bison.usgs.gov/api/search.json?count=1&tsn=176897'}"
      ]
     },
     "metadata": {},
     "output_type": "display_data"
    },
    {
     "name": "stdout",
     "output_type": "stream",
     "text": [
      "<pymongo.results.UpdateResult object at 0x1029ac088>\n"
     ]
    },
    {
     "data": {
      "text/plain": [
       "{'originCollection': 'gapspecies',\n",
       " 'originID': ObjectId('59b841f30601bad0b9df0cac'),\n",
       " 'searchURL': 'https://bison.usgs.gov/api/search.json?count=1&tsn=668239'}"
      ]
     },
     "metadata": {},
     "output_type": "display_data"
    },
    {
     "name": "stdout",
     "output_type": "stream",
     "text": [
      "<pymongo.results.UpdateResult object at 0x1029b2148>\n"
     ]
    },
    {
     "data": {
      "text/plain": [
       "{'originCollection': 'gapspecies',\n",
       " 'originID': ObjectId('59b841f40601bad0b9df0cad'),\n",
       " 'searchURL': 'https://bison.usgs.gov/api/search.json?count=1&tsn=178258'}"
      ]
     },
     "metadata": {},
     "output_type": "display_data"
    },
    {
     "name": "stdout",
     "output_type": "stream",
     "text": [
      "<pymongo.results.UpdateResult object at 0x1029b9548>\n"
     ]
    },
    {
     "data": {
      "text/plain": [
       "{'originCollection': 'gapspecies',\n",
       " 'originID': ObjectId('59b841f40601bad0b9df0cae'),\n",
       " 'searchURL': 'https://bison.usgs.gov/api/search.json?count=1&tsn=174987'}"
      ]
     },
     "metadata": {},
     "output_type": "display_data"
    },
    {
     "name": "stdout",
     "output_type": "stream",
     "text": [
      "<pymongo.results.UpdateResult object at 0x1029bf0c8>\n"
     ]
    },
    {
     "data": {
      "text/plain": [
       "{'originCollection': 'gapspecies',\n",
       " 'originID': ObjectId('59b841f50601bad0b9df0caf'),\n",
       " 'searchURL': 'https://bison.usgs.gov/api/search.json?count=1&tsn=180173'}"
      ]
     },
     "metadata": {},
     "output_type": "display_data"
    },
    {
     "name": "stdout",
     "output_type": "stream",
     "text": [
      "<pymongo.results.UpdateResult object at 0x1029c4608>\n"
     ]
    },
    {
     "data": {
      "text/plain": [
       "{'originCollection': 'gapspecies',\n",
       " 'originID': ObjectId('59b841f60601bad0b9df0cb0'),\n",
       " 'searchURL': 'https://bison.usgs.gov/api/search.json?count=1&tsn=176890'}"
      ]
     },
     "metadata": {},
     "output_type": "display_data"
    },
    {
     "name": "stdout",
     "output_type": "stream",
     "text": [
      "<pymongo.results.UpdateResult object at 0x1029c5388>\n"
     ]
    },
    {
     "data": {
      "text/plain": [
       "{'originCollection': 'gapspecies',\n",
       " 'originID': ObjectId('59b841f70601bad0b9df0cb1'),\n",
       " 'searchURL': 'https://bison.usgs.gov/api/search.json?count=1&tsn=686662'}"
      ]
     },
     "metadata": {},
     "output_type": "display_data"
    },
    {
     "name": "stdout",
     "output_type": "stream",
     "text": [
      "<pymongo.results.UpdateResult object at 0x1029cf808>\n"
     ]
    },
    {
     "data": {
      "text/plain": [
       "{'originCollection': 'gapspecies',\n",
       " 'originID': ObjectId('59b841f70601bad0b9df0cb2'),\n",
       " 'searchURL': 'https://bison.usgs.gov/api/search.json?count=1&tsn=554477'}"
      ]
     },
     "metadata": {},
     "output_type": "display_data"
    },
    {
     "name": "stdout",
     "output_type": "stream",
     "text": [
      "<pymongo.results.UpdateResult object at 0x1029d25c8>\n"
     ]
    },
    {
     "data": {
      "text/plain": [
       "{'originCollection': 'gapspecies',\n",
       " 'originID': ObjectId('59b841f80601bad0b9df0cb3'),\n",
       " 'searchURL': 'https://bison.usgs.gov/api/search.json?count=1&tsn=175430'}"
      ]
     },
     "metadata": {},
     "output_type": "display_data"
    },
    {
     "name": "stdout",
     "output_type": "stream",
     "text": [
      "<pymongo.results.UpdateResult object at 0x1029db2c8>\n"
     ]
    },
    {
     "data": {
      "text/plain": [
       "{'originCollection': 'gapspecies',\n",
       " 'originID': ObjectId('59b841f90601bad0b9df0cb4'),\n",
       " 'searchURL': 'https://bison.usgs.gov/api/search.json?count=1&tsn=550248'}"
      ]
     },
     "metadata": {},
     "output_type": "display_data"
    },
    {
     "name": "stdout",
     "output_type": "stream",
     "text": [
      "<pymongo.results.UpdateResult object at 0x1029e3288>\n"
     ]
    },
    {
     "data": {
      "text/plain": [
       "{'originCollection': 'gapspecies',\n",
       " 'originID': ObjectId('59b841f90601bad0b9df0cb5'),\n",
       " 'searchURL': 'https://bison.usgs.gov/api/search.json?count=1&tsn=668318'}"
      ]
     },
     "metadata": {},
     "output_type": "display_data"
    },
    {
     "name": "stdout",
     "output_type": "stream",
     "text": [
      "<pymongo.results.UpdateResult object at 0x1029e70c8>\n"
     ]
    },
    {
     "data": {
      "text/plain": [
       "{'originCollection': 'gapspecies',\n",
       " 'originID': ObjectId('59b841fa0601bad0b9df0cb6'),\n",
       " 'searchURL': 'https://bison.usgs.gov/api/search.json?count=1&tsn=175604'}"
      ]
     },
     "metadata": {},
     "output_type": "display_data"
    },
    {
     "name": "stdout",
     "output_type": "stream",
     "text": [
      "<pymongo.results.UpdateResult object at 0x1029ec248>\n"
     ]
    },
    {
     "data": {
      "text/plain": [
       "{'originCollection': 'gapspecies',\n",
       " 'originID': ObjectId('59b841fb0601bad0b9df0cb7'),\n",
       " 'searchURL': 'https://bison.usgs.gov/api/search.json?count=1&tsn=554221'}"
      ]
     },
     "metadata": {},
     "output_type": "display_data"
    },
    {
     "name": "stdout",
     "output_type": "stream",
     "text": [
      "<pymongo.results.UpdateResult object at 0x1029f41c8>\n"
     ]
    },
    {
     "data": {
      "text/plain": [
       "{'originCollection': 'gapspecies',\n",
       " 'originID': ObjectId('59b841fb0601bad0b9df0cb8'),\n",
       " 'searchURL': 'https://bison.usgs.gov/api/search.json?count=1&tsn=180695'}"
      ]
     },
     "metadata": {},
     "output_type": "display_data"
    },
    {
     "name": "stdout",
     "output_type": "stream",
     "text": [
      "<pymongo.results.UpdateResult object at 0x1029f8108>\n"
     ]
    },
    {
     "data": {
      "text/plain": [
       "{'originCollection': 'gapspecies',\n",
       " 'originID': ObjectId('59b841fc0601bad0b9df0cb9'),\n",
       " 'searchURL': 'https://bison.usgs.gov/api/search.json?count=1&type=scientific_name&species=Heterodon gloydi'}"
      ]
     },
     "metadata": {},
     "output_type": "display_data"
    },
    {
     "name": "stdout",
     "output_type": "stream",
     "text": [
      "<pymongo.results.UpdateResult object at 0x1029ff888>\n"
     ]
    },
    {
     "data": {
      "text/plain": [
       "{'originCollection': 'gapspecies',\n",
       " 'originID': ObjectId('59b841fc0601bad0b9df0cba'),\n",
       " 'searchURL': 'https://bison.usgs.gov/api/search.json?count=1&tsn=179064'}"
      ]
     },
     "metadata": {},
     "output_type": "display_data"
    },
    {
     "name": "stdout",
     "output_type": "stream",
     "text": [
      "<pymongo.results.UpdateResult object at 0x102a06688>\n"
     ]
    },
    {
     "data": {
      "text/plain": [
       "{'originCollection': 'gapspecies',\n",
       " 'originID': ObjectId('59b841fd0601bad0b9df0cbb'),\n",
       " 'searchURL': 'https://bison.usgs.gov/api/search.json?count=1&tsn=178914'}"
      ]
     },
     "metadata": {},
     "output_type": "display_data"
    },
    {
     "name": "stdout",
     "output_type": "stream",
     "text": [
      "<pymongo.results.UpdateResult object at 0x102a0b048>\n"
     ]
    },
    {
     "data": {
      "text/plain": [
       "{'originCollection': 'gapspecies',\n",
       " 'originID': ObjectId('59b841fd0601bad0b9df0cbc'),\n",
       " 'searchURL': 'https://bison.usgs.gov/api/search.json?count=1&tsn=175603'}"
      ]
     },
     "metadata": {},
     "output_type": "display_data"
    },
    {
     "name": "stdout",
     "output_type": "stream",
     "text": [
      "<pymongo.results.UpdateResult object at 0x102a10648>\n"
     ]
    },
    {
     "data": {
      "text/plain": [
       "{'originCollection': 'gapspecies',\n",
       " 'originID': ObjectId('59b841fe0601bad0b9df0cbd'),\n",
       " 'searchURL': 'https://bison.usgs.gov/api/search.json?count=1&tsn=179186'}"
      ]
     },
     "metadata": {},
     "output_type": "display_data"
    },
    {
     "name": "stdout",
     "output_type": "stream",
     "text": [
      "<pymongo.results.UpdateResult object at 0x102a13388>\n"
     ]
    },
    {
     "data": {
      "text/plain": [
       "{'originCollection': 'gapspecies',\n",
       " 'originID': ObjectId('59b841fe0601bad0b9df0cbe'),\n",
       " 'searchURL': 'https://bison.usgs.gov/api/search.json?count=1&tsn=179736'}"
      ]
     },
     "metadata": {},
     "output_type": "display_data"
    },
    {
     "name": "stdout",
     "output_type": "stream",
     "text": [
      "<pymongo.results.UpdateResult object at 0x102a13808>\n"
     ]
    },
    {
     "data": {
      "text/plain": [
       "{'originCollection': 'gapspecies',\n",
       " 'originID': ObjectId('59b841fe0601bad0b9df0cbf'),\n",
       " 'searchURL': 'https://bison.usgs.gov/api/search.json?count=1&tsn=178464'}"
      ]
     },
     "metadata": {},
     "output_type": "display_data"
    },
    {
     "name": "stdout",
     "output_type": "stream",
     "text": [
      "<pymongo.results.UpdateResult object at 0x102a1ca48>\n"
     ]
    },
    {
     "data": {
      "text/plain": [
       "{'originCollection': 'gapspecies',\n",
       " 'originID': ObjectId('59b841ff0601bad0b9df0cc0'),\n",
       " 'searchURL': 'https://bison.usgs.gov/api/search.json?count=1&tsn=178912'}"
      ]
     },
     "metadata": {},
     "output_type": "display_data"
    },
    {
     "name": "stdout",
     "output_type": "stream",
     "text": [
      "<pymongo.results.UpdateResult object at 0x102a245c8>\n"
     ]
    },
    {
     "data": {
      "text/plain": [
       "{'originCollection': 'gapspecies',\n",
       " 'originID': ObjectId('59b841ff0601bad0b9df0cc1'),\n",
       " 'searchURL': 'https://bison.usgs.gov/api/search.json?count=1&tsn=208287'}"
      ]
     },
     "metadata": {},
     "output_type": "display_data"
    },
    {
     "name": "stdout",
     "output_type": "stream",
     "text": [
      "<pymongo.results.UpdateResult object at 0x102a2d088>\n"
     ]
    },
    {
     "data": {
      "text/plain": [
       "{'originCollection': 'gapspecies',\n",
       " 'originID': ObjectId('59b842000601bad0b9df0cc2'),\n",
       " 'searchURL': 'https://bison.usgs.gov/api/search.json?count=1&tsn=178189'}"
      ]
     },
     "metadata": {},
     "output_type": "display_data"
    },
    {
     "name": "stdout",
     "output_type": "stream",
     "text": [
      "<pymongo.results.UpdateResult object at 0x102a34108>\n"
     ]
    },
    {
     "data": {
      "text/plain": [
       "{'originCollection': 'gapspecies',\n",
       " 'originID': ObjectId('59b842000601bad0b9df0cc3'),\n",
       " 'searchURL': 'https://bison.usgs.gov/api/search.json?count=1&tsn=178036'}"
      ]
     },
     "metadata": {},
     "output_type": "display_data"
    },
    {
     "name": "stdout",
     "output_type": "stream",
     "text": [
      "<pymongo.results.UpdateResult object at 0x102b6a808>\n"
     ]
    },
    {
     "data": {
      "text/plain": [
       "{'originCollection': 'gapspecies',\n",
       " 'originID': ObjectId('59b842000601bad0b9df0cc4'),\n",
       " 'searchURL': 'https://bison.usgs.gov/api/search.json?count=1&tsn=208677'}"
      ]
     },
     "metadata": {},
     "output_type": "display_data"
    },
    {
     "name": "stdout",
     "output_type": "stream",
     "text": [
      "<pymongo.results.UpdateResult object at 0x102b71188>\n"
     ]
    },
    {
     "data": {
      "text/plain": [
       "{'originCollection': 'gapspecies',\n",
       " 'originID': ObjectId('59b842010601bad0b9df0cc5'),\n",
       " 'searchURL': 'https://bison.usgs.gov/api/search.json?count=1&tsn=174237'}"
      ]
     },
     "metadata": {},
     "output_type": "display_data"
    },
    {
     "name": "stdout",
     "output_type": "stream",
     "text": [
      "<pymongo.results.UpdateResult object at 0x102b76108>\n"
     ]
    },
    {
     "data": {
      "text/plain": [
       "{'originCollection': 'gapspecies',\n",
       " 'originID': ObjectId('59b842020601bad0b9df0cc6'),\n",
       " 'searchURL': 'https://bison.usgs.gov/api/search.json?count=1&tsn=209370'}"
      ]
     },
     "metadata": {},
     "output_type": "display_data"
    },
    {
     "name": "stdout",
     "output_type": "stream",
     "text": [
      "<pymongo.results.UpdateResult object at 0x1026eedc8>\n"
     ]
    },
    {
     "data": {
      "text/plain": [
       "{'originCollection': 'gapspecies',\n",
       " 'originID': ObjectId('59b842020601bad0b9df0cc7'),\n",
       " 'searchURL': 'https://bison.usgs.gov/api/search.json?count=1&tsn=174138'}"
      ]
     },
     "metadata": {},
     "output_type": "display_data"
    },
    {
     "name": "stdout",
     "output_type": "stream",
     "text": [
      "<pymongo.results.UpdateResult object at 0x102b820c8>\n"
     ]
    },
    {
     "data": {
      "text/plain": [
       "{'originCollection': 'gapspecies',\n",
       " 'originID': ObjectId('59b842030601bad0b9df0cc8'),\n",
       " 'searchURL': 'https://bison.usgs.gov/api/search.json?count=1&tsn=208344'}"
      ]
     },
     "metadata": {},
     "output_type": "display_data"
    },
    {
     "name": "stdout",
     "output_type": "stream",
     "text": [
      "<pymongo.results.UpdateResult object at 0x102b88048>\n"
     ]
    },
    {
     "data": {
      "text/plain": [
       "{'originCollection': 'gapspecies',\n",
       " 'originID': ObjectId('59b842030601bad0b9df0cc9'),\n",
       " 'searchURL': 'https://bison.usgs.gov/api/search.json?count=1&tsn=173518'}"
      ]
     },
     "metadata": {},
     "output_type": "display_data"
    },
    {
     "name": "stdout",
     "output_type": "stream",
     "text": [
      "<pymongo.results.UpdateResult object at 0x102b8d248>\n"
     ]
    },
    {
     "data": {
      "text/plain": [
       "{'originCollection': 'gapspecies',\n",
       " 'originID': ObjectId('59b842040601bad0b9df0cca'),\n",
       " 'searchURL': 'https://bison.usgs.gov/api/search.json?count=1&tsn=775087'}"
      ]
     },
     "metadata": {},
     "output_type": "display_data"
    },
    {
     "name": "stdout",
     "output_type": "stream",
     "text": [
      "<pymongo.results.UpdateResult object at 0x102b92688>\n"
     ]
    },
    {
     "data": {
      "text/plain": [
       "{'originCollection': 'gapspecies',\n",
       " 'originID': ObjectId('59b842040601bad0b9df0ccb'),\n",
       " 'searchURL': 'https://bison.usgs.gov/api/search.json?count=1&tsn=773527'}"
      ]
     },
     "metadata": {},
     "output_type": "display_data"
    },
    {
     "name": "stdout",
     "output_type": "stream",
     "text": [
      "<pymongo.results.UpdateResult object at 0x102b9b288>\n"
     ]
    },
    {
     "data": {
      "text/plain": [
       "{'originCollection': 'gapspecies',\n",
       " 'originID': ObjectId('59b842050601bad0b9df0ccc'),\n",
       " 'searchURL': 'https://bison.usgs.gov/api/search.json?count=1&tsn=173640'}"
      ]
     },
     "metadata": {},
     "output_type": "display_data"
    },
    {
     "name": "stdout",
     "output_type": "stream",
     "text": [
      "<pymongo.results.UpdateResult object at 0x102b9e088>\n"
     ]
    },
    {
     "data": {
      "text/plain": [
       "{'originCollection': 'gapspecies',\n",
       " 'originID': ObjectId('59b842060601bad0b9df0ccd'),\n",
       " 'searchURL': 'https://bison.usgs.gov/api/search.json?count=1&tsn=174261'}"
      ]
     },
     "metadata": {},
     "output_type": "display_data"
    },
    {
     "name": "stdout",
     "output_type": "stream",
     "text": [
      "<pymongo.results.UpdateResult object at 0x102ba3708>\n"
     ]
    },
    {
     "data": {
      "text/plain": [
       "{'originCollection': 'gapspecies',\n",
       " 'originID': ObjectId('59b842070601bad0b9df0cce'),\n",
       " 'searchURL': 'https://bison.usgs.gov/api/search.json?count=1&tsn=174260'}"
      ]
     },
     "metadata": {},
     "output_type": "display_data"
    },
    {
     "name": "stdout",
     "output_type": "stream",
     "text": [
      "<pymongo.results.UpdateResult object at 0x102c89188>\n"
     ]
    },
    {
     "data": {
      "text/plain": [
       "{'originCollection': 'gapspecies',\n",
       " 'originID': ObjectId('59b842080601bad0b9df0ccf'),\n",
       " 'searchURL': 'https://bison.usgs.gov/api/search.json?count=1&tsn=180255'}"
      ]
     },
     "metadata": {},
     "output_type": "display_data"
    },
    {
     "name": "stdout",
     "output_type": "stream",
     "text": [
      "<pymongo.results.UpdateResult object at 0x102c8f108>\n"
     ]
    },
    {
     "data": {
      "text/plain": [
       "{'originCollection': 'gapspecies',\n",
       " 'originID': ObjectId('59b842080601bad0b9df0cd0'),\n",
       " 'searchURL': 'https://bison.usgs.gov/api/search.json?count=1&tsn=180307'}"
      ]
     },
     "metadata": {},
     "output_type": "display_data"
    },
    {
     "name": "stdout",
     "output_type": "stream",
     "text": [
      "<pymongo.results.UpdateResult object at 0x102c96588>\n"
     ]
    },
    {
     "data": {
      "text/plain": [
       "{'originCollection': 'gapspecies',\n",
       " 'originID': ObjectId('59b842090601bad0b9df0cd1'),\n",
       " 'searchURL': 'https://bison.usgs.gov/api/search.json?count=1&tsn=178338'}"
      ]
     },
     "metadata": {},
     "output_type": "display_data"
    },
    {
     "name": "stdout",
     "output_type": "stream",
     "text": [
      "<pymongo.results.UpdateResult object at 0x102c9e288>\n"
     ]
    },
    {
     "data": {
      "text/plain": [
       "{'originCollection': 'gapspecies',\n",
       " 'originID': ObjectId('59b842090601bad0b9df0cd2'),\n",
       " 'searchURL': 'https://bison.usgs.gov/api/search.json?count=1&tsn=179043'}"
      ]
     },
     "metadata": {},
     "output_type": "display_data"
    },
    {
     "name": "stdout",
     "output_type": "stream",
     "text": [
      "<pymongo.results.UpdateResult object at 0x102ca2388>\n"
     ]
    },
    {
     "data": {
      "text/plain": [
       "{'originCollection': 'gapspecies',\n",
       " 'originID': ObjectId('59b8420a0601bad0b9df0cd3'),\n",
       " 'searchURL': 'https://bison.usgs.gov/api/search.json?count=1&tsn=180230'}"
      ]
     },
     "metadata": {},
     "output_type": "display_data"
    },
    {
     "name": "stdout",
     "output_type": "stream",
     "text": [
      "<pymongo.results.UpdateResult object at 0x102ca5108>\n"
     ]
    },
    {
     "data": {
      "text/plain": [
       "{'originCollection': 'gapspecies',\n",
       " 'originID': ObjectId('59b8420a0601bad0b9df0cd4'),\n",
       " 'searchURL': 'https://bison.usgs.gov/api/search.json?count=1&tsn=180187'}"
      ]
     },
     "metadata": {},
     "output_type": "display_data"
    },
    {
     "name": "stdout",
     "output_type": "stream",
     "text": [
      "<pymongo.results.UpdateResult object at 0x102ca9488>\n"
     ]
    },
    {
     "data": {
      "text/plain": [
       "{'originCollection': 'gapspecies',\n",
       " 'originID': ObjectId('59b8420b0601bad0b9df0cd5'),\n",
       " 'searchURL': 'https://bison.usgs.gov/api/search.json?count=1&tsn=178878'}"
      ]
     },
     "metadata": {},
     "output_type": "display_data"
    },
    {
     "name": "stdout",
     "output_type": "stream",
     "text": [
      "<pymongo.results.UpdateResult object at 0x102cb3248>\n"
     ]
    },
    {
     "data": {
      "text/plain": [
       "{'originCollection': 'gapspecies',\n",
       " 'originID': ObjectId('59b8420c0601bad0b9df0cd6'),\n",
       " 'searchURL': 'https://bison.usgs.gov/api/search.json?count=1&tsn=180544'}"
      ]
     },
     "metadata": {},
     "output_type": "display_data"
    },
    {
     "name": "stdout",
     "output_type": "stream",
     "text": [
      "<pymongo.results.UpdateResult object at 0x102cb3e08>\n"
     ]
    },
    {
     "data": {
      "text/plain": [
       "{'originCollection': 'gapspecies',\n",
       " 'originID': ObjectId('59b8420c0601bad0b9df0cd7'),\n",
       " 'searchURL': 'https://bison.usgs.gov/api/search.json?count=1&tsn=180559'}"
      ]
     },
     "metadata": {},
     "output_type": "display_data"
    },
    {
     "name": "stdout",
     "output_type": "stream",
     "text": [
      "<pymongo.results.UpdateResult object at 0x102cba888>\n"
     ]
    },
    {
     "data": {
      "text/plain": [
       "{'originCollection': 'gapspecies',\n",
       " 'originID': ObjectId('59b8420d0601bad0b9df0cd8'),\n",
       " 'searchURL': 'https://bison.usgs.gov/api/search.json?count=1&tsn=552514'}"
      ]
     },
     "metadata": {},
     "output_type": "display_data"
    },
    {
     "name": "stdout",
     "output_type": "stream",
     "text": [
      "<pymongo.results.UpdateResult object at 0x102cc34c8>\n"
     ]
    },
    {
     "data": {
      "text/plain": [
       "{'originCollection': 'gapspecies',\n",
       " 'originID': ObjectId('59b8420d0601bad0b9df0cd9'),\n",
       " 'searchURL': 'https://bison.usgs.gov/api/search.json?count=1&tsn=173943'}"
      ]
     },
     "metadata": {},
     "output_type": "display_data"
    },
    {
     "name": "stdout",
     "output_type": "stream",
     "text": [
      "<pymongo.results.UpdateResult object at 0x102cca0c8>\n"
     ]
    },
    {
     "data": {
      "text/plain": [
       "{'originCollection': 'gapspecies',\n",
       " 'originID': ObjectId('59b8420e0601bad0b9df0cda'),\n",
       " 'searchURL': 'https://bison.usgs.gov/api/search.json?count=1&tsn=174309'}"
      ]
     },
     "metadata": {},
     "output_type": "display_data"
    },
    {
     "name": "stdout",
     "output_type": "stream",
     "text": [
      "<pymongo.results.UpdateResult object at 0x102cd0108>\n"
     ]
    },
    {
     "data": {
      "text/plain": [
       "{'originCollection': 'gapspecies',\n",
       " 'originID': ObjectId('59b8420f0601bad0b9df0cdb'),\n",
       " 'searchURL': 'https://bison.usgs.gov/api/search.json?count=1&tsn=174267'}"
      ]
     },
     "metadata": {},
     "output_type": "display_data"
    },
    {
     "name": "stdout",
     "output_type": "stream",
     "text": [
      "<pymongo.results.UpdateResult object at 0x102cd6648>\n"
     ]
    },
    {
     "data": {
      "text/plain": [
       "{'originCollection': 'gapspecies',\n",
       " 'originID': ObjectId('59b8420f0601bad0b9df0cdc'),\n",
       " 'searchURL': 'https://bison.usgs.gov/api/search.json?count=1&tsn=173954'}"
      ]
     },
     "metadata": {},
     "output_type": "display_data"
    },
    {
     "name": "stdout",
     "output_type": "stream",
     "text": [
      "<pymongo.results.UpdateResult object at 0x102cd6f08>\n"
     ]
    },
    {
     "data": {
      "text/plain": [
       "{'originCollection': 'gapspecies',\n",
       " 'originID': ObjectId('59b842100601bad0b9df0cdd'),\n",
       " 'searchURL': 'https://bison.usgs.gov/api/search.json?count=1&tsn=180172'}"
      ]
     },
     "metadata": {},
     "output_type": "display_data"
    },
    {
     "name": "stdout",
     "output_type": "stream",
     "text": [
      "<pymongo.results.UpdateResult object at 0x102cdd988>\n"
     ]
    },
    {
     "data": {
      "text/plain": [
       "{'originCollection': 'gapspecies',\n",
       " 'originID': ObjectId('59b842110601bad0b9df0cde'),\n",
       " 'searchURL': 'https://bison.usgs.gov/api/search.json?count=1&tsn=180189'}"
      ]
     },
     "metadata": {},
     "output_type": "display_data"
    },
    {
     "name": "stdout",
     "output_type": "stream",
     "text": [
      "<pymongo.results.UpdateResult object at 0x102ce55c8>\n"
     ]
    },
    {
     "data": {
      "text/plain": [
       "{'originCollection': 'gapspecies',\n",
       " 'originID': ObjectId('59b842110601bad0b9df0cdf'),\n",
       " 'searchURL': 'https://bison.usgs.gov/api/search.json?count=1&tsn=180020'}"
      ]
     },
     "metadata": {},
     "output_type": "display_data"
    },
    {
     "name": "stdout",
     "output_type": "stream",
     "text": [
      "<pymongo.results.UpdateResult object at 0x102cec048>\n"
     ]
    },
    {
     "data": {
      "text/plain": [
       "{'originCollection': 'gapspecies',\n",
       " 'originID': ObjectId('59b842120601bad0b9df0ce0'),\n",
       " 'searchURL': 'https://bison.usgs.gov/api/search.json?count=1&tsn=668317'}"
      ]
     },
     "metadata": {},
     "output_type": "display_data"
    },
    {
     "name": "stdout",
     "output_type": "stream",
     "text": [
      "<pymongo.results.UpdateResult object at 0x102cf1448>\n"
     ]
    },
    {
     "data": {
      "text/plain": [
       "{'originCollection': 'gapspecies',\n",
       " 'originID': ObjectId('59b842130601bad0b9df0ce1'),\n",
       " 'searchURL': 'https://bison.usgs.gov/api/search.json?count=1&tsn=173509'}"
      ]
     },
     "metadata": {},
     "output_type": "display_data"
    },
    {
     "name": "stdout",
     "output_type": "stream",
     "text": [
      "<pymongo.results.UpdateResult object at 0x102cf8188>\n"
     ]
    },
    {
     "data": {
      "text/plain": [
       "{'originCollection': 'gapspecies',\n",
       " 'originID': ObjectId('59b842130601bad0b9df0ce2'),\n",
       " 'searchURL': 'https://bison.usgs.gov/api/search.json?count=1&tsn=555657'}"
      ]
     },
     "metadata": {},
     "output_type": "display_data"
    },
    {
     "name": "stdout",
     "output_type": "stream",
     "text": [
      "<pymongo.results.UpdateResult object at 0x102cfc048>\n"
     ]
    },
    {
     "data": {
      "text/plain": [
       "{'originCollection': 'gapspecies',\n",
       " 'originID': ObjectId('59b842140601bad0b9df0ce3'),\n",
       " 'searchURL': 'https://bison.usgs.gov/api/search.json?count=1&tsn=775103'}"
      ]
     },
     "metadata": {},
     "output_type": "display_data"
    },
    {
     "name": "stdout",
     "output_type": "stream",
     "text": [
      "<pymongo.results.UpdateResult object at 0x102d03748>\n"
     ]
    },
    {
     "data": {
      "text/plain": [
       "{'originCollection': 'gapspecies',\n",
       " 'originID': ObjectId('59b842140601bad0b9df0ce4'),\n",
       " 'searchURL': 'https://bison.usgs.gov/api/search.json?count=1&tsn=180691'}"
      ]
     },
     "metadata": {},
     "output_type": "display_data"
    },
    {
     "name": "stdout",
     "output_type": "stream",
     "text": [
      "<pymongo.results.UpdateResult object at 0x102d0a0c8>\n"
     ]
    },
    {
     "data": {
      "text/plain": [
       "{'originCollection': 'gapspecies',\n",
       " 'originID': ObjectId('59b842150601bad0b9df0ce5'),\n",
       " 'searchURL': 'https://bison.usgs.gov/api/search.json?count=1&tsn=180195'}"
      ]
     },
     "metadata": {},
     "output_type": "display_data"
    },
    {
     "name": "stdout",
     "output_type": "stream",
     "text": [
      "<pymongo.results.UpdateResult object at 0x102d100c8>\n"
     ]
    },
    {
     "data": {
      "text/plain": [
       "{'originCollection': 'gapspecies',\n",
       " 'originID': ObjectId('59b842150601bad0b9df0ce6'),\n",
       " 'searchURL': 'https://bison.usgs.gov/api/search.json?count=1&tsn=775091'}"
      ]
     },
     "metadata": {},
     "output_type": "display_data"
    },
    {
     "name": "stdout",
     "output_type": "stream",
     "text": [
      "<pymongo.results.UpdateResult object at 0x102d190c8>\n"
     ]
    },
    {
     "data": {
      "text/plain": [
       "{'originCollection': 'gapspecies',\n",
       " 'originID': ObjectId('59b842160601bad0b9df0ce7'),\n",
       " 'searchURL': 'https://bison.usgs.gov/api/search.json?count=1&tsn=179335'}"
      ]
     },
     "metadata": {},
     "output_type": "display_data"
    },
    {
     "name": "stdout",
     "output_type": "stream",
     "text": [
      "<pymongo.results.UpdateResult object at 0x102d1d108>\n"
     ]
    },
    {
     "data": {
      "text/plain": [
       "{'originCollection': 'gapspecies',\n",
       " 'originID': ObjectId('59b842160601bad0b9df0ce8'),\n",
       " 'searchURL': 'https://bison.usgs.gov/api/search.json?count=1&tsn=775108'}"
      ]
     },
     "metadata": {},
     "output_type": "display_data"
    },
    {
     "name": "stdout",
     "output_type": "stream",
     "text": [
      "<pymongo.results.UpdateResult object at 0x102d220c8>\n"
     ]
    },
    {
     "data": {
      "text/plain": [
       "{'originCollection': 'gapspecies',\n",
       " 'originID': ObjectId('59b842170601bad0b9df0ce9'),\n",
       " 'searchURL': 'https://bison.usgs.gov/api/search.json?count=1&tsn=178642'}"
      ]
     },
     "metadata": {},
     "output_type": "display_data"
    },
    {
     "name": "stdout",
     "output_type": "stream",
     "text": [
      "<pymongo.results.UpdateResult object at 0x102d22e48>\n"
     ]
    },
    {
     "data": {
      "text/plain": [
       "{'originCollection': 'gapspecies',\n",
       " 'originID': ObjectId('59b842170601bad0b9df0cea'),\n",
       " 'searchURL': 'https://bison.usgs.gov/api/search.json?count=1&tsn=180068'}"
      ]
     },
     "metadata": {},
     "output_type": "display_data"
    },
    {
     "name": "stdout",
     "output_type": "stream",
     "text": [
      "<pymongo.results.UpdateResult object at 0x102d2aa88>\n"
     ]
    },
    {
     "data": {
      "text/plain": [
       "{'originCollection': 'gapspecies',\n",
       " 'originID': ObjectId('59b842180601bad0b9df0ceb'),\n",
       " 'searchURL': 'https://bison.usgs.gov/api/search.json?count=1&tsn=174053'}"
      ]
     },
     "metadata": {},
     "output_type": "display_data"
    },
    {
     "name": "stdout",
     "output_type": "stream",
     "text": [
      "<pymongo.results.UpdateResult object at 0x102d34148>\n"
     ]
    },
    {
     "data": {
      "text/plain": [
       "{'originCollection': 'gapspecies',\n",
       " 'originID': ObjectId('59b842180601bad0b9df0cec'),\n",
       " 'searchURL': 'https://bison.usgs.gov/api/search.json?count=1&tsn=208290'}"
      ]
     },
     "metadata": {},
     "output_type": "display_data"
    },
    {
     "name": "stdout",
     "output_type": "stream",
     "text": [
      "<pymongo.results.UpdateResult object at 0x102d39448>\n"
     ]
    },
    {
     "data": {
      "text/plain": [
       "{'originCollection': 'gapspecies',\n",
       " 'originID': ObjectId('59b842190601bad0b9df0ced'),\n",
       " 'searchURL': 'https://bison.usgs.gov/api/search.json?count=1&tsn=178316'}"
      ]
     },
     "metadata": {},
     "output_type": "display_data"
    },
    {
     "name": "stdout",
     "output_type": "stream",
     "text": [
      "<pymongo.results.UpdateResult object at 0x102d3c608>\n"
     ]
    },
    {
     "data": {
      "text/plain": [
       "{'originCollection': 'gapspecies',\n",
       " 'originID': ObjectId('59b842190601bad0b9df0cee'),\n",
       " 'searchURL': 'https://bison.usgs.gov/api/search.json?count=1&tsn=174685'}"
      ]
     },
     "metadata": {},
     "output_type": "display_data"
    },
    {
     "name": "stdout",
     "output_type": "stream",
     "text": [
      "<pymongo.results.UpdateResult object at 0x101ccadc8>\n"
     ]
    },
    {
     "data": {
      "text/plain": [
       "{'originCollection': 'gapspecies',\n",
       " 'originID': ObjectId('59b842190601bad0b9df0cef'),\n",
       " 'searchURL': 'https://bison.usgs.gov/api/search.json?count=1&tsn=175834'}"
      ]
     },
     "metadata": {},
     "output_type": "display_data"
    },
    {
     "name": "stdout",
     "output_type": "stream",
     "text": [
      "<pymongo.results.UpdateResult object at 0x102d48088>\n"
     ]
    },
    {
     "data": {
      "text/plain": [
       "{'originCollection': 'gapspecies',\n",
       " 'originID': ObjectId('59b8421a0601bad0b9df0cf0'),\n",
       " 'searchURL': 'https://bison.usgs.gov/api/search.json?count=1&tsn=178865'}"
      ]
     },
     "metadata": {},
     "output_type": "display_data"
    },
    {
     "name": "stdout",
     "output_type": "stream",
     "text": [
      "<pymongo.results.UpdateResult object at 0x102d4e4c8>\n"
     ]
    },
    {
     "data": {
      "text/plain": [
       "{'originCollection': 'gapspecies',\n",
       " 'originID': ObjectId('59b8421a0601bad0b9df0cf1'),\n",
       " 'searchURL': 'https://bison.usgs.gov/api/search.json?count=1&tsn=176941'}"
      ]
     },
     "metadata": {},
     "output_type": "display_data"
    },
    {
     "name": "stdout",
     "output_type": "stream",
     "text": [
      "<pymongo.results.UpdateResult object at 0x102d56048>\n"
     ]
    },
    {
     "data": {
      "text/plain": [
       "{'originCollection': 'gapspecies',\n",
       " 'originID': ObjectId('59b8421b0601bad0b9df0cf2'),\n",
       " 'searchURL': 'https://bison.usgs.gov/api/search.json?count=1&tsn=180290'}"
      ]
     },
     "metadata": {},
     "output_type": "display_data"
    },
    {
     "name": "stdout",
     "output_type": "stream",
     "text": [
      "<pymongo.results.UpdateResult object at 0x102d5c048>\n"
     ]
    },
    {
     "data": {
      "text/plain": [
       "{'originCollection': 'gapspecies',\n",
       " 'originID': ObjectId('59b8421b0601bad0b9df0cf3'),\n",
       " 'searchURL': 'https://bison.usgs.gov/api/search.json?count=1&tsn=178293'}"
      ]
     },
     "metadata": {},
     "output_type": "display_data"
    },
    {
     "name": "stdout",
     "output_type": "stream",
     "text": [
      "<pymongo.results.UpdateResult object at 0x102d606c8>\n"
     ]
    },
    {
     "data": {
      "text/plain": [
       "{'originCollection': 'gapspecies',\n",
       " 'originID': ObjectId('59b8421b0601bad0b9df0cf4'),\n",
       " 'searchURL': 'https://bison.usgs.gov/api/search.json?count=1&tsn=178002'}"
      ]
     },
     "metadata": {},
     "output_type": "display_data"
    },
    {
     "name": "stdout",
     "output_type": "stream",
     "text": [
      "<pymongo.results.UpdateResult object at 0x102d69148>\n"
     ]
    },
    {
     "data": {
      "text/plain": [
       "{'originCollection': 'gapspecies',\n",
       " 'originID': ObjectId('59b8421b0601bad0b9df0cf5'),\n",
       " 'searchURL': 'https://bison.usgs.gov/api/search.json?count=1&tsn=180366'}"
      ]
     },
     "metadata": {},
     "output_type": "display_data"
    },
    {
     "name": "stdout",
     "output_type": "stream",
     "text": [
      "<pymongo.results.UpdateResult object at 0x102d6d0c8>\n"
     ]
    },
    {
     "data": {
      "text/plain": [
       "{'originCollection': 'gapspecies',\n",
       " 'originID': ObjectId('59b8421c0601bad0b9df0cf6'),\n",
       " 'searchURL': 'https://bison.usgs.gov/api/search.json?count=1&tsn=668291'}"
      ]
     },
     "metadata": {},
     "output_type": "display_data"
    },
    {
     "name": "stdout",
     "output_type": "stream",
     "text": [
      "<pymongo.results.UpdateResult object at 0x102d6f3c8>\n"
     ]
    },
    {
     "data": {
      "text/plain": [
       "{'originCollection': 'gapspecies',\n",
       " 'originID': ObjectId('59b8421c0601bad0b9df0cf7'),\n",
       " 'searchURL': 'https://bison.usgs.gov/api/search.json?count=1&tsn=178301'}"
      ]
     },
     "metadata": {},
     "output_type": "display_data"
    },
    {
     "name": "stdout",
     "output_type": "stream",
     "text": [
      "<pymongo.results.UpdateResult object at 0x102d77048>\n"
     ]
    },
    {
     "data": {
      "text/plain": [
       "{'originCollection': 'gapspecies',\n",
       " 'originID': ObjectId('59b8421c0601bad0b9df0cf8'),\n",
       " 'searchURL': 'https://bison.usgs.gov/api/search.json?count=1&tsn=179464'}"
      ]
     },
     "metadata": {},
     "output_type": "display_data"
    },
    {
     "name": "stdout",
     "output_type": "stream",
     "text": [
      "<pymongo.results.UpdateResult object at 0x102d7d408>\n"
     ]
    },
    {
     "data": {
      "text/plain": [
       "{'originCollection': 'gapspecies',\n",
       " 'originID': ObjectId('59b8421d0601bad0b9df0cf9'),\n",
       " 'searchURL': 'https://bison.usgs.gov/api/search.json?count=1&tsn=179462'}"
      ]
     },
     "metadata": {},
     "output_type": "display_data"
    },
    {
     "name": "stdout",
     "output_type": "stream",
     "text": [
      "<pymongo.results.UpdateResult object at 0x102d84088>\n"
     ]
    },
    {
     "data": {
      "text/plain": [
       "{'originCollection': 'gapspecies',\n",
       " 'originID': ObjectId('59b8421d0601bad0b9df0cfa'),\n",
       " 'searchURL': 'https://bison.usgs.gov/api/search.json?count=1&tsn=179796'}"
      ]
     },
     "metadata": {},
     "output_type": "display_data"
    },
    {
     "name": "stdout",
     "output_type": "stream",
     "text": [
      "<pymongo.results.UpdateResult object at 0x102d89308>\n"
     ]
    },
    {
     "data": {
      "text/plain": [
       "{'originCollection': 'gapspecies',\n",
       " 'originID': ObjectId('59b8421d0601bad0b9df0cfb'),\n",
       " 'searchURL': 'https://bison.usgs.gov/api/search.json?count=1&tsn=178329'}"
      ]
     },
     "metadata": {},
     "output_type": "display_data"
    },
    {
     "name": "stdout",
     "output_type": "stream",
     "text": [
      "<pymongo.results.UpdateResult object at 0x102d90048>\n"
     ]
    },
    {
     "data": {
      "text/plain": [
       "{'originCollection': 'gapspecies',\n",
       " 'originID': ObjectId('59b8421e0601bad0b9df0cfc'),\n",
       " 'searchURL': 'https://bison.usgs.gov/api/search.json?count=1&tsn=203452'}"
      ]
     },
     "metadata": {},
     "output_type": "display_data"
    },
    {
     "name": "stdout",
     "output_type": "stream",
     "text": [
      "<pymongo.results.UpdateResult object at 0x102d970c8>\n"
     ]
    },
    {
     "data": {
      "text/plain": [
       "{'originCollection': 'gapspecies',\n",
       " 'originID': ObjectId('59b8421e0601bad0b9df0cfd'),\n",
       " 'searchURL': 'https://bison.usgs.gov/api/search.json?count=1&tsn=203452'}"
      ]
     },
     "metadata": {},
     "output_type": "display_data"
    },
    {
     "name": "stdout",
     "output_type": "stream",
     "text": [
      "<pymongo.results.UpdateResult object at 0x102d990c8>\n"
     ]
    },
    {
     "data": {
      "text/plain": [
       "{'originCollection': 'gapspecies',\n",
       " 'originID': ObjectId('59b8421f0601bad0b9df0cfe'),\n",
       " 'searchURL': 'https://bison.usgs.gov/api/search.json?count=1&tsn=176656'}"
      ]
     },
     "metadata": {},
     "output_type": "display_data"
    },
    {
     "name": "stdout",
     "output_type": "stream",
     "text": [
      "<pymongo.results.UpdateResult object at 0x102da4488>\n"
     ]
    },
    {
     "data": {
      "text/plain": [
       "{'originCollection': 'gapspecies',\n",
       " 'originID': ObjectId('59b8421f0601bad0b9df0cff'),\n",
       " 'searchURL': 'https://bison.usgs.gov/api/search.json?count=1&tsn=176840'}"
      ]
     },
     "metadata": {},
     "output_type": "display_data"
    },
    {
     "name": "stdout",
     "output_type": "stream",
     "text": [
      "<pymongo.results.UpdateResult object at 0x102da6208>\n"
     ]
    },
    {
     "data": {
      "text/plain": [
       "{'originCollection': 'gapspecies',\n",
       " 'originID': ObjectId('59b842200601bad0b9df0d00'),\n",
       " 'searchURL': 'https://bison.usgs.gov/api/search.json?count=1&tsn=180226'}"
      ]
     },
     "metadata": {},
     "output_type": "display_data"
    },
    {
     "name": "stdout",
     "output_type": "stream",
     "text": [
      "<pymongo.results.UpdateResult object at 0x102daf548>\n"
     ]
    },
    {
     "data": {
      "text/plain": [
       "{'originCollection': 'gapspecies',\n",
       " 'originID': ObjectId('59b842200601bad0b9df0d01'),\n",
       " 'searchURL': 'https://bison.usgs.gov/api/search.json?count=1&tsn=179021'}"
      ]
     },
     "metadata": {},
     "output_type": "display_data"
    },
    {
     "name": "stdout",
     "output_type": "stream",
     "text": [
      "<pymongo.results.UpdateResult object at 0x102db1208>\n"
     ]
    },
    {
     "data": {
      "text/plain": [
       "{'originCollection': 'gapspecies',\n",
       " 'originID': ObjectId('59b842210601bad0b9df0d02'),\n",
       " 'searchURL': 'https://bison.usgs.gov/api/search.json?count=1&tsn=179345'}"
      ]
     },
     "metadata": {},
     "output_type": "display_data"
    },
    {
     "name": "stdout",
     "output_type": "stream",
     "text": [
      "<pymongo.results.UpdateResult object at 0x102dbb5c8>\n"
     ]
    },
    {
     "data": {
      "text/plain": [
       "{'originCollection': 'gapspecies',\n",
       " 'originID': ObjectId('59b842210601bad0b9df0d03'),\n",
       " 'searchURL': 'https://bison.usgs.gov/api/search.json?count=1&tsn=175838'}"
      ]
     },
     "metadata": {},
     "output_type": "display_data"
    },
    {
     "name": "stdout",
     "output_type": "stream",
     "text": [
      "<pymongo.results.UpdateResult object at 0x102dc4088>\n"
     ]
    },
    {
     "data": {
      "text/plain": [
       "{'originCollection': 'gapspecies',\n",
       " 'originID': ObjectId('59b842210601bad0b9df0d04'),\n",
       " 'searchURL': 'https://bison.usgs.gov/api/search.json?count=1&tsn=178515'}"
      ]
     },
     "metadata": {},
     "output_type": "display_data"
    },
    {
     "name": "stdout",
     "output_type": "stream",
     "text": [
      "<pymongo.results.UpdateResult object at 0x102dc8108>\n"
     ]
    },
    {
     "data": {
      "text/plain": [
       "{'originCollection': 'gapspecies',\n",
       " 'originID': ObjectId('59b842220601bad0b9df0d05'),\n",
       " 'searchURL': 'https://bison.usgs.gov/api/search.json?count=1&tsn=180352'}"
      ]
     },
     "metadata": {},
     "output_type": "display_data"
    },
    {
     "name": "stdout",
     "output_type": "stream",
     "text": [
      "<pymongo.results.UpdateResult object at 0x102dcf788>\n"
     ]
    },
    {
     "data": {
      "text/plain": [
       "{'originCollection': 'gapspecies',\n",
       " 'originID': ObjectId('59b842220601bad0b9df0d06'),\n",
       " 'searchURL': 'https://bison.usgs.gov/api/search.json?count=1&tsn=180121'}"
      ]
     },
     "metadata": {},
     "output_type": "display_data"
    },
    {
     "name": "stdout",
     "output_type": "stream",
     "text": [
      "<pymongo.results.UpdateResult object at 0x102dd50c8>\n"
     ]
    },
    {
     "data": {
      "text/plain": [
       "{'originCollection': 'gapspecies',\n",
       " 'originID': ObjectId('59b842230601bad0b9df0d07'),\n",
       " 'searchURL': 'https://bison.usgs.gov/api/search.json?count=1&tsn=175041'}"
      ]
     },
     "metadata": {},
     "output_type": "display_data"
    },
    {
     "name": "stdout",
     "output_type": "stream",
     "text": [
      "<pymongo.results.UpdateResult object at 0x102dde588>\n"
     ]
    },
    {
     "data": {
      "text/plain": [
       "{'originCollection': 'gapspecies',\n",
       " 'originID': ObjectId('59b842230601bad0b9df0d08'),\n",
       " 'searchURL': 'https://bison.usgs.gov/api/search.json?count=1&tsn=180607'}"
      ]
     },
     "metadata": {},
     "output_type": "display_data"
    },
    {
     "name": "stdout",
     "output_type": "stream",
     "text": [
      "<pymongo.results.UpdateResult object at 0x102de3088>\n"
     ]
    },
    {
     "data": {
      "text/plain": [
       "{'originCollection': 'gapspecies',\n",
       " 'originID': ObjectId('59b842230601bad0b9df0d09'),\n",
       " 'searchURL': 'https://bison.usgs.gov/api/search.json?count=1&tsn=180294'}"
      ]
     },
     "metadata": {},
     "output_type": "display_data"
    },
    {
     "name": "stdout",
     "output_type": "stream",
     "text": [
      "<pymongo.results.UpdateResult object at 0x102de7388>\n"
     ]
    },
    {
     "data": {
      "text/plain": [
       "{'originCollection': 'gapspecies',\n",
       " 'originID': ObjectId('59b842230601bad0b9df0d0a'),\n",
       " 'searchURL': 'https://bison.usgs.gov/api/search.json?count=1&tsn=209141'}"
      ]
     },
     "metadata": {},
     "output_type": "display_data"
    },
    {
     "name": "stdout",
     "output_type": "stream",
     "text": [
      "<pymongo.results.UpdateResult object at 0x102def1c8>\n"
     ]
    },
    {
     "data": {
      "text/plain": [
       "{'originCollection': 'gapspecies',\n",
       " 'originID': ObjectId('59b842240601bad0b9df0d0b'),\n",
       " 'searchURL': 'https://bison.usgs.gov/api/search.json?count=1&tsn=585779'}"
      ]
     },
     "metadata": {},
     "output_type": "display_data"
    },
    {
     "name": "stdout",
     "output_type": "stream",
     "text": [
      "<pymongo.results.UpdateResult object at 0x102df2048>\n"
     ]
    },
    {
     "data": {
      "text/plain": [
       "{'originCollection': 'gapspecies',\n",
       " 'originID': ObjectId('59b842240601bad0b9df0d0c'),\n",
       " 'searchURL': 'https://bison.usgs.gov/api/search.json?count=1&tsn=177946'}"
      ]
     },
     "metadata": {},
     "output_type": "display_data"
    },
    {
     "name": "stdout",
     "output_type": "stream",
     "text": [
      "<pymongo.results.UpdateResult object at 0x102df7388>\n"
     ]
    },
    {
     "data": {
      "text/plain": [
       "{'originCollection': 'gapspecies',\n",
       " 'originID': ObjectId('59b842250601bad0b9df0d0d'),\n",
       " 'searchURL': 'https://bison.usgs.gov/api/search.json?count=1&tsn=552504'}"
      ]
     },
     "metadata": {},
     "output_type": "display_data"
    },
    {
     "name": "stdout",
     "output_type": "stream",
     "text": [
      "<pymongo.results.UpdateResult object at 0x102dfe808>\n"
     ]
    },
    {
     "data": {
      "text/plain": [
       "{'originCollection': 'gapspecies',\n",
       " 'originID': ObjectId('59b842250601bad0b9df0d0e'),\n",
       " 'searchURL': 'https://bison.usgs.gov/api/search.json?count=1&tsn=174265'}"
      ]
     },
     "metadata": {},
     "output_type": "display_data"
    },
    {
     "name": "stdout",
     "output_type": "stream",
     "text": [
      "<pymongo.results.UpdateResult object at 0x102e041c8>\n"
     ]
    },
    {
     "data": {
      "text/plain": [
       "{'originCollection': 'gapspecies',\n",
       " 'originID': ObjectId('59b842250601bad0b9df0d0f'),\n",
       " 'searchURL': 'https://bison.usgs.gov/api/search.json?count=1&tsn=179310'}"
      ]
     },
     "metadata": {},
     "output_type": "display_data"
    },
    {
     "name": "stdout",
     "output_type": "stream",
     "text": [
      "<pymongo.results.UpdateResult object at 0x102e09088>\n"
     ]
    },
    {
     "data": {
      "text/plain": [
       "{'originCollection': 'gapspecies',\n",
       " 'originID': ObjectId('59b842260601bad0b9df0d10'),\n",
       " 'searchURL': 'https://bison.usgs.gov/api/search.json?count=1&tsn=173742'}"
      ]
     },
     "metadata": {},
     "output_type": "display_data"
    },
    {
     "name": "stdout",
     "output_type": "stream",
     "text": [
      "<pymongo.results.UpdateResult object at 0x102e0e188>\n"
     ]
    },
    {
     "data": {
      "text/plain": [
       "{'originCollection': 'gapspecies',\n",
       " 'originID': ObjectId('59b842260601bad0b9df0d11'),\n",
       " 'searchURL': 'https://bison.usgs.gov/api/search.json?count=1&tsn=661593'}"
      ]
     },
     "metadata": {},
     "output_type": "display_data"
    },
    {
     "name": "stdout",
     "output_type": "stream",
     "text": [
      "<pymongo.results.UpdateResult object at 0x102e134c8>\n"
     ]
    },
    {
     "data": {
      "text/plain": [
       "{'originCollection': 'gapspecies',\n",
       " 'originID': ObjectId('59b842260601bad0b9df0d12'),\n",
       " 'searchURL': 'https://bison.usgs.gov/api/search.json?count=1&tsn=662726'}"
      ]
     },
     "metadata": {},
     "output_type": "display_data"
    },
    {
     "name": "stdout",
     "output_type": "stream",
     "text": [
      "<pymongo.results.UpdateResult object at 0x102e13e48>\n"
     ]
    },
    {
     "data": {
      "text/plain": [
       "{'originCollection': 'gapspecies',\n",
       " 'originID': ObjectId('59b842270601bad0b9df0d13'),\n",
       " 'searchURL': 'https://bison.usgs.gov/api/search.json?count=1&tsn=178898'}"
      ]
     },
     "metadata": {},
     "output_type": "display_data"
    },
    {
     "name": "stdout",
     "output_type": "stream",
     "text": [
      "<pymongo.results.UpdateResult object at 0x102e1b588>\n"
     ]
    },
    {
     "data": {
      "text/plain": [
       "{'originCollection': 'gapspecies',\n",
       " 'originID': ObjectId('59b842270601bad0b9df0d14'),\n",
       " 'searchURL': 'https://bison.usgs.gov/api/search.json?count=1&tsn=683048'}"
      ]
     },
     "metadata": {},
     "output_type": "display_data"
    },
    {
     "name": "stdout",
     "output_type": "stream",
     "text": [
      "<pymongo.results.UpdateResult object at 0x102e25188>\n"
     ]
    },
    {
     "data": {
      "text/plain": [
       "{'originCollection': 'gapspecies',\n",
       " 'originID': ObjectId('59b842270601bad0b9df0d15'),\n",
       " 'searchURL': 'https://bison.usgs.gov/api/search.json?count=1&tsn=180114'}"
      ]
     },
     "metadata": {},
     "output_type": "display_data"
    },
    {
     "name": "stdout",
     "output_type": "stream",
     "text": [
      "<pymongo.results.UpdateResult object at 0x102e295c8>\n"
     ]
    },
    {
     "data": {
      "text/plain": [
       "{'originCollection': 'gapspecies',\n",
       " 'originID': ObjectId('59b842280601bad0b9df0d16'),\n",
       " 'searchURL': 'https://bison.usgs.gov/api/search.json?count=1&tsn=668673'}"
      ]
     },
     "metadata": {},
     "output_type": "display_data"
    },
    {
     "name": "stdout",
     "output_type": "stream",
     "text": [
      "<pymongo.results.UpdateResult object at 0x102e320c8>\n"
     ]
    },
    {
     "data": {
      "text/plain": [
       "{'originCollection': 'gapspecies',\n",
       " 'originID': ObjectId('59b842280601bad0b9df0d17'),\n",
       " 'searchURL': 'https://bison.usgs.gov/api/search.json?count=1&tsn=554389'}"
      ]
     },
     "metadata": {},
     "output_type": "display_data"
    },
    {
     "name": "stdout",
     "output_type": "stream",
     "text": [
      "<pymongo.results.UpdateResult object at 0x102e350c8>\n"
     ]
    },
    {
     "data": {
      "text/plain": [
       "{'originCollection': 'gapspecies',\n",
       " 'originID': ObjectId('59b842280601bad0b9df0d18'),\n",
       " 'searchURL': 'https://bison.usgs.gov/api/search.json?count=1&tsn=178904'}"
      ]
     },
     "metadata": {},
     "output_type": "display_data"
    },
    {
     "name": "stdout",
     "output_type": "stream",
     "text": [
      "<pymongo.results.UpdateResult object at 0x102e3a388>\n"
     ]
    },
    {
     "data": {
      "text/plain": [
       "{'originCollection': 'gapspecies',\n",
       " 'originID': ObjectId('59b842290601bad0b9df0d19'),\n",
       " 'searchURL': 'https://bison.usgs.gov/api/search.json?count=1&tsn=180166'}"
      ]
     },
     "metadata": {},
     "output_type": "display_data"
    },
    {
     "name": "stdout",
     "output_type": "stream",
     "text": [
      "<pymongo.results.UpdateResult object at 0x102e3d0c8>\n"
     ]
    },
    {
     "data": {
      "text/plain": [
       "{'originCollection': 'gapspecies',\n",
       " 'originID': ObjectId('59b842290601bad0b9df0d1a'),\n",
       " 'searchURL': 'https://bison.usgs.gov/api/search.json?count=1&tsn=173615'}"
      ]
     },
     "metadata": {},
     "output_type": "display_data"
    },
    {
     "name": "stdout",
     "output_type": "stream",
     "text": [
      "<pymongo.results.UpdateResult object at 0x102e452c8>\n"
     ]
    },
    {
     "data": {
      "text/plain": [
       "{'originCollection': 'gapspecies',\n",
       " 'originID': ObjectId('59b842290601bad0b9df0d1b'),\n",
       " 'searchURL': 'https://bison.usgs.gov/api/search.json?count=1&tsn=202353'}"
      ]
     },
     "metadata": {},
     "output_type": "display_data"
    },
    {
     "name": "stdout",
     "output_type": "stream",
     "text": [
      "<pymongo.results.UpdateResult object at 0x102e490c8>\n"
     ]
    },
    {
     "data": {
      "text/plain": [
       "{'originCollection': 'gapspecies',\n",
       " 'originID': ObjectId('59b842290601bad0b9df0d1c'),\n",
       " 'searchURL': 'https://bison.usgs.gov/api/search.json?count=1&tsn=180307'}"
      ]
     },
     "metadata": {},
     "output_type": "display_data"
    },
    {
     "name": "stdout",
     "output_type": "stream",
     "text": [
      "<pymongo.results.UpdateResult object at 0x102e53208>\n"
     ]
    },
    {
     "data": {
      "text/plain": [
       "{'originCollection': 'gapspecies',\n",
       " 'originID': ObjectId('59b8422a0601bad0b9df0d1d'),\n",
       " 'searchURL': 'https://bison.usgs.gov/api/search.json?count=1&tsn=180372'}"
      ]
     },
     "metadata": {},
     "output_type": "display_data"
    },
    {
     "name": "stdout",
     "output_type": "stream",
     "text": [
      "<pymongo.results.UpdateResult object at 0x102e5a3c8>\n"
     ]
    },
    {
     "data": {
      "text/plain": [
       "{'originCollection': 'gapspecies',\n",
       " 'originID': ObjectId('59b8422a0601bad0b9df0d1e'),\n",
       " 'searchURL': 'https://bison.usgs.gov/api/search.json?count=1&tsn=180353'}"
      ]
     },
     "metadata": {},
     "output_type": "display_data"
    },
    {
     "name": "stdout",
     "output_type": "stream",
     "text": [
      "<pymongo.results.UpdateResult object at 0x102e62088>\n"
     ]
    },
    {
     "data": {
      "text/plain": [
       "{'originCollection': 'gapspecies',\n",
       " 'originID': ObjectId('59b8422b0601bad0b9df0d1f'),\n",
       " 'searchURL': 'https://bison.usgs.gov/api/search.json?count=1&tsn=179637'}"
      ]
     },
     "metadata": {},
     "output_type": "display_data"
    },
    {
     "name": "stdout",
     "output_type": "stream",
     "text": [
      "<pymongo.results.UpdateResult object at 0x102e65308>\n"
     ]
    },
    {
     "data": {
      "text/plain": [
       "{'originCollection': 'gapspecies',\n",
       " 'originID': ObjectId('59b8422b0601bad0b9df0d20'),\n",
       " 'searchURL': 'https://bison.usgs.gov/api/search.json?count=1&tsn=714068'}"
      ]
     },
     "metadata": {},
     "output_type": "display_data"
    },
    {
     "name": "stdout",
     "output_type": "stream",
     "text": [
      "<pymongo.results.UpdateResult object at 0x102e6c788>\n"
     ]
    },
    {
     "data": {
      "text/plain": [
       "{'originCollection': 'gapspecies',\n",
       " 'originID': ObjectId('59b8422b0601bad0b9df0d21'),\n",
       " 'searchURL': 'https://bison.usgs.gov/api/search.json?count=1&tsn=174926'}"
      ]
     },
     "metadata": {},
     "output_type": "display_data"
    },
    {
     "name": "stdout",
     "output_type": "stream",
     "text": [
      "<pymongo.results.UpdateResult object at 0x102e72108>\n"
     ]
    },
    {
     "data": {
      "text/plain": [
       "{'originCollection': 'gapspecies',\n",
       " 'originID': ObjectId('59b8422c0601bad0b9df0d22'),\n",
       " 'searchURL': 'https://bison.usgs.gov/api/search.json?count=1&tsn=180218'}"
      ]
     },
     "metadata": {},
     "output_type": "display_data"
    },
    {
     "name": "stdout",
     "output_type": "stream",
     "text": [
      "<pymongo.results.UpdateResult object at 0x102e770c8>\n"
     ]
    },
    {
     "data": {
      "text/plain": [
       "{'originCollection': 'gapspecies',\n",
       " 'originID': ObjectId('59b8422c0601bad0b9df0d23'),\n",
       " 'searchURL': 'https://bison.usgs.gov/api/search.json?count=1&tsn=179777'}"
      ]
     },
     "metadata": {},
     "output_type": "display_data"
    },
    {
     "name": "stdout",
     "output_type": "stream",
     "text": [
      "<pymongo.results.UpdateResult object at 0x102e7d108>\n"
     ]
    },
    {
     "data": {
      "text/plain": [
       "{'originCollection': 'gapspecies',\n",
       " 'originID': ObjectId('59b8422c0601bad0b9df0d24'),\n",
       " 'searchURL': 'https://bison.usgs.gov/api/search.json?count=1&tsn=179954'}"
      ]
     },
     "metadata": {},
     "output_type": "display_data"
    },
    {
     "name": "stdout",
     "output_type": "stream",
     "text": [
      "<pymongo.results.UpdateResult object at 0x102e800c8>\n"
     ]
    },
    {
     "data": {
      "text/plain": [
       "{'originCollection': 'gapspecies',\n",
       " 'originID': ObjectId('59b8422c0601bad0b9df0d25'),\n",
       " 'searchURL': 'https://bison.usgs.gov/api/search.json?count=1&tsn=179039'}"
      ]
     },
     "metadata": {},
     "output_type": "display_data"
    },
    {
     "name": "stdout",
     "output_type": "stream",
     "text": [
      "<pymongo.results.UpdateResult object at 0x102e89088>\n"
     ]
    },
    {
     "data": {
      "text/plain": [
       "{'originCollection': 'gapspecies',\n",
       " 'originID': ObjectId('59b8422d0601bad0b9df0d26'),\n",
       " 'searchURL': 'https://bison.usgs.gov/api/search.json?count=1&tsn=686659'}"
      ]
     },
     "metadata": {},
     "output_type": "display_data"
    },
    {
     "name": "stdout",
     "output_type": "stream",
     "text": [
      "<pymongo.results.UpdateResult object at 0x102e904c8>\n"
     ]
    },
    {
     "data": {
      "text/plain": [
       "{'originCollection': 'gapspecies',\n",
       " 'originID': ObjectId('59b8422d0601bad0b9df0d27'),\n",
       " 'searchURL': 'https://bison.usgs.gov/api/search.json?count=1&tsn=173641'}"
      ]
     },
     "metadata": {},
     "output_type": "display_data"
    },
    {
     "name": "stdout",
     "output_type": "stream",
     "text": [
      "<pymongo.results.UpdateResult object at 0x102e97088>\n"
     ]
    },
    {
     "data": {
      "text/plain": [
       "{'originCollection': 'gapspecies',\n",
       " 'originID': ObjectId('59b8422d0601bad0b9df0d28'),\n",
       " 'searchURL': 'https://bison.usgs.gov/api/search.json?count=1&tsn=173642'}"
      ]
     },
     "metadata": {},
     "output_type": "display_data"
    },
    {
     "name": "stdout",
     "output_type": "stream",
     "text": [
      "<pymongo.results.UpdateResult object at 0x102e9d108>\n"
     ]
    },
    {
     "data": {
      "text/plain": [
       "{'originCollection': 'gapspecies',\n",
       " 'originID': ObjectId('59b8422e0601bad0b9df0d29'),\n",
       " 'searchURL': 'https://bison.usgs.gov/api/search.json?count=1&tsn=179201'}"
      ]
     },
     "metadata": {},
     "output_type": "display_data"
    },
    {
     "name": "stdout",
     "output_type": "stream",
     "text": [
      "<pymongo.results.UpdateResult object at 0x102ea1808>\n"
     ]
    },
    {
     "data": {
      "text/plain": [
       "{'originCollection': 'gapspecies',\n",
       " 'originID': ObjectId('59b8422e0601bad0b9df0d2a'),\n",
       " 'searchURL': 'https://bison.usgs.gov/api/search.json?count=1&tsn=775112'}"
      ]
     },
     "metadata": {},
     "output_type": "display_data"
    },
    {
     "name": "stdout",
     "output_type": "stream",
     "text": [
      "<pymongo.results.UpdateResult object at 0x102ea70c8>\n"
     ]
    },
    {
     "data": {
      "text/plain": [
       "{'originCollection': 'gapspecies',\n",
       " 'originID': ObjectId('59b8422f0601bad0b9df0d2b'),\n",
       " 'searchURL': 'https://bison.usgs.gov/api/search.json?count=1&tsn=178202'}"
      ]
     },
     "metadata": {},
     "output_type": "display_data"
    },
    {
     "name": "stdout",
     "output_type": "stream",
     "text": [
      "<pymongo.results.UpdateResult object at 0x102eaf388>\n"
     ]
    },
    {
     "data": {
      "text/plain": [
       "{'originCollection': 'gapspecies',\n",
       " 'originID': ObjectId('59b8422f0601bad0b9df0d2c'),\n",
       " 'searchURL': 'https://bison.usgs.gov/api/search.json?count=1&tsn=776032'}"
      ]
     },
     "metadata": {},
     "output_type": "display_data"
    },
    {
     "name": "stdout",
     "output_type": "stream",
     "text": [
      "<pymongo.results.UpdateResult object at 0x102eb2208>\n"
     ]
    },
    {
     "data": {
      "text/plain": [
       "{'originCollection': 'gapspecies',\n",
       " 'originID': ObjectId('59b8422f0601bad0b9df0d2d'),\n",
       " 'searchURL': 'https://bison.usgs.gov/api/search.json?count=1&tsn=178939'}"
      ]
     },
     "metadata": {},
     "output_type": "display_data"
    },
    {
     "name": "stdout",
     "output_type": "stream",
     "text": [
      "<pymongo.results.UpdateResult object at 0x102eb9048>\n"
     ]
    },
    {
     "data": {
      "text/plain": [
       "{'originCollection': 'gapspecies',\n",
       " 'originID': ObjectId('59b842300601bad0b9df0d2e'),\n",
       " 'searchURL': 'https://bison.usgs.gov/api/search.json?count=1&tsn=178605'}"
      ]
     },
     "metadata": {},
     "output_type": "display_data"
    },
    {
     "name": "stdout",
     "output_type": "stream",
     "text": [
      "<pymongo.results.UpdateResult object at 0x102ebe7c8>\n"
     ]
    },
    {
     "data": {
      "text/plain": [
       "{'originCollection': 'gapspecies',\n",
       " 'originID': ObjectId('59b842300601bad0b9df0d2f'),\n",
       " 'searchURL': 'https://bison.usgs.gov/api/search.json?count=1&tsn=177828'}"
      ]
     },
     "metadata": {},
     "output_type": "display_data"
    },
    {
     "name": "stdout",
     "output_type": "stream",
     "text": [
      "<pymongo.results.UpdateResult object at 0x102f23088>\n"
     ]
    },
    {
     "data": {
      "text/plain": [
       "{'originCollection': 'gapspecies',\n",
       " 'originID': ObjectId('59b842310601bad0b9df0d30'),\n",
       " 'searchURL': 'https://bison.usgs.gov/api/search.json?count=1&tsn=178608'}"
      ]
     },
     "metadata": {},
     "output_type": "display_data"
    },
    {
     "name": "stdout",
     "output_type": "stream",
     "text": [
      "<pymongo.results.UpdateResult object at 0x102f271c8>\n"
     ]
    },
    {
     "data": {
      "text/plain": [
       "{'originCollection': 'gapspecies',\n",
       " 'originID': ObjectId('59b842310601bad0b9df0d31'),\n",
       " 'searchURL': 'https://bison.usgs.gov/api/search.json?count=1&tsn=179366'}"
      ]
     },
     "metadata": {},
     "output_type": "display_data"
    },
    {
     "name": "stdout",
     "output_type": "stream",
     "text": [
      "<pymongo.results.UpdateResult object at 0x102f2c688>\n"
     ]
    },
    {
     "data": {
      "text/plain": [
       "{'originCollection': 'gapspecies',\n",
       " 'originID': ObjectId('59b842320601bad0b9df0d32'),\n",
       " 'searchURL': 'https://bison.usgs.gov/api/search.json?count=1&tsn=554140'}"
      ]
     },
     "metadata": {},
     "output_type": "display_data"
    },
    {
     "name": "stdout",
     "output_type": "stream",
     "text": [
      "<pymongo.results.UpdateResult object at 0x102f35148>\n"
     ]
    },
    {
     "data": {
      "text/plain": [
       "{'originCollection': 'gapspecies',\n",
       " 'originID': ObjectId('59b842320601bad0b9df0d33'),\n",
       " 'searchURL': 'https://bison.usgs.gov/api/search.json?count=1&tsn=174930'}"
      ]
     },
     "metadata": {},
     "output_type": "display_data"
    },
    {
     "name": "stdout",
     "output_type": "stream",
     "text": [
      "<pymongo.results.UpdateResult object at 0x102f3a748>\n"
     ]
    },
    {
     "data": {
      "text/plain": [
       "{'originCollection': 'gapspecies',\n",
       " 'originID': ObjectId('59b842320601bad0b9df0d34'),\n",
       " 'searchURL': 'https://bison.usgs.gov/api/search.json?count=1&tsn=178427'}"
      ]
     },
     "metadata": {},
     "output_type": "display_data"
    },
    {
     "name": "stdout",
     "output_type": "stream",
     "text": [
      "<pymongo.results.UpdateResult object at 0x102f440c8>\n"
     ]
    },
    {
     "data": {
      "text/plain": [
       "{'originCollection': 'gapspecies',\n",
       " 'originID': ObjectId('59b842330601bad0b9df0d35'),\n",
       " 'searchURL': 'https://bison.usgs.gov/api/search.json?count=1&tsn=176668'}"
      ]
     },
     "metadata": {},
     "output_type": "display_data"
    },
    {
     "name": "stdout",
     "output_type": "stream",
     "text": [
      "<pymongo.results.UpdateResult object at 0x102f44e88>\n"
     ]
    },
    {
     "data": {
      "text/plain": [
       "{'originCollection': 'gapspecies',\n",
       " 'originID': ObjectId('59b842330601bad0b9df0d36'),\n",
       " 'searchURL': 'https://bison.usgs.gov/api/search.json?count=1&tsn=177925'}"
      ]
     },
     "metadata": {},
     "output_type": "display_data"
    },
    {
     "name": "stdout",
     "output_type": "stream",
     "text": [
      "<pymongo.results.UpdateResult object at 0x102f4e148>\n"
     ]
    },
    {
     "data": {
      "text/plain": [
       "{'originCollection': 'gapspecies',\n",
       " 'originID': ObjectId('59b842330601bad0b9df0d37'),\n",
       " 'searchURL': 'https://bison.usgs.gov/api/search.json?count=1&tsn=554380'}"
      ]
     },
     "metadata": {},
     "output_type": "display_data"
    },
    {
     "name": "stdout",
     "output_type": "stream",
     "text": [
      "<pymongo.results.UpdateResult object at 0x102f540c8>\n"
     ]
    },
    {
     "data": {
      "text/plain": [
       "{'originCollection': 'gapspecies',\n",
       " 'originID': ObjectId('59b842340601bad0b9df0d38'),\n",
       " 'searchURL': 'https://bison.usgs.gov/api/search.json?count=1&tsn=178256'}"
      ]
     },
     "metadata": {},
     "output_type": "display_data"
    },
    {
     "name": "stdout",
     "output_type": "stream",
     "text": [
      "<pymongo.results.UpdateResult object at 0x102f58308>\n"
     ]
    },
    {
     "data": {
      "text/plain": [
       "{'originCollection': 'gapspecies',\n",
       " 'originID': ObjectId('59b842340601bad0b9df0d39'),\n",
       " 'searchURL': 'https://bison.usgs.gov/api/search.json?count=1&tsn=179427'}"
      ]
     },
     "metadata": {},
     "output_type": "display_data"
    },
    {
     "name": "stdout",
     "output_type": "stream",
     "text": [
      "<pymongo.results.UpdateResult object at 0x102f5f5c8>\n"
     ]
    },
    {
     "data": {
      "text/plain": [
       "{'originCollection': 'gapspecies',\n",
       " 'originID': ObjectId('59b842340601bad0b9df0d3a'),\n",
       " 'searchURL': 'https://bison.usgs.gov/api/search.json?count=1&tsn=180016'}"
      ]
     },
     "metadata": {},
     "output_type": "display_data"
    },
    {
     "name": "stdout",
     "output_type": "stream",
     "text": [
      "<pymongo.results.UpdateResult object at 0x102f67048>\n"
     ]
    },
    {
     "data": {
      "text/plain": [
       "{'originCollection': 'gapspecies',\n",
       " 'originID': ObjectId('59b842350601bad0b9df0d3b'),\n",
       " 'searchURL': 'https://bison.usgs.gov/api/search.json?count=1&tsn=946276'}"
      ]
     },
     "metadata": {},
     "output_type": "display_data"
    },
    {
     "name": "stdout",
     "output_type": "stream",
     "text": [
      "<pymongo.results.UpdateResult object at 0x102f6c7c8>\n"
     ]
    },
    {
     "data": {
      "text/plain": [
       "{'originCollection': 'gapspecies',\n",
       " 'originID': ObjectId('59b842350601bad0b9df0d3c'),\n",
       " 'searchURL': 'https://bison.usgs.gov/api/search.json?count=1&tsn=175265'}"
      ]
     },
     "metadata": {},
     "output_type": "display_data"
    },
    {
     "name": "stdout",
     "output_type": "stream",
     "text": [
      "<pymongo.results.UpdateResult object at 0x102f72108>\n"
     ]
    },
    {
     "data": {
      "text/plain": [
       "{'originCollection': 'gapspecies',\n",
       " 'originID': ObjectId('59b842360601bad0b9df0d3d'),\n",
       " 'searchURL': 'https://bison.usgs.gov/api/search.json?count=1&tsn=178066'}"
      ]
     },
     "metadata": {},
     "output_type": "display_data"
    },
    {
     "name": "stdout",
     "output_type": "stream",
     "text": [
      "<pymongo.results.UpdateResult object at 0x102f786c8>\n"
     ]
    },
    {
     "data": {
      "text/plain": [
       "{'originCollection': 'gapspecies',\n",
       " 'originID': ObjectId('59b842360601bad0b9df0d3e'),\n",
       " 'searchURL': 'https://bison.usgs.gov/api/search.json?count=1&tsn=179060'}"
      ]
     },
     "metadata": {},
     "output_type": "display_data"
    },
    {
     "name": "stdout",
     "output_type": "stream",
     "text": [
      "<pymongo.results.UpdateResult object at 0x102f7f0c8>\n"
     ]
    },
    {
     "data": {
      "text/plain": [
       "{'originCollection': 'gapspecies',\n",
       " 'originID': ObjectId('59b842360601bad0b9df0d3f'),\n",
       " 'searchURL': 'https://bison.usgs.gov/api/search.json?count=1&tsn=178360'}"
      ]
     },
     "metadata": {},
     "output_type": "display_data"
    },
    {
     "name": "stdout",
     "output_type": "stream",
     "text": [
      "<pymongo.results.UpdateResult object at 0x102f85248>\n"
     ]
    },
    {
     "data": {
      "text/plain": [
       "{'originCollection': 'gapspecies',\n",
       " 'originID': ObjectId('59b842360601bad0b9df0d40'),\n",
       " 'searchURL': 'https://bison.usgs.gov/api/search.json?count=1&tsn=180256'}"
      ]
     },
     "metadata": {},
     "output_type": "display_data"
    },
    {
     "name": "stdout",
     "output_type": "stream",
     "text": [
      "<pymongo.results.UpdateResult object at 0x102f8b708>\n"
     ]
    },
    {
     "data": {
      "text/plain": [
       "{'originCollection': 'gapspecies',\n",
       " 'originID': ObjectId('59b842370601bad0b9df0d41'),\n",
       " 'searchURL': 'https://bison.usgs.gov/api/search.json?count=1&tsn=773869'}"
      ]
     },
     "metadata": {},
     "output_type": "display_data"
    },
    {
     "name": "stdout",
     "output_type": "stream",
     "text": [
      "<pymongo.results.UpdateResult object at 0x102f8bec8>\n"
     ]
    },
    {
     "data": {
      "text/plain": [
       "{'originCollection': 'gapspecies',\n",
       " 'originID': ObjectId('59b842370601bad0b9df0d42'),\n",
       " 'searchURL': 'https://bison.usgs.gov/api/search.json?count=1&tsn=180290'}"
      ]
     },
     "metadata": {},
     "output_type": "display_data"
    },
    {
     "name": "stdout",
     "output_type": "stream",
     "text": [
      "<pymongo.results.UpdateResult object at 0x102f91588>\n"
     ]
    },
    {
     "data": {
      "text/plain": [
       "{'originCollection': 'gapspecies',\n",
       " 'originID': ObjectId('59b842380601bad0b9df0d43'),\n",
       " 'searchURL': 'https://bison.usgs.gov/api/search.json?count=1&tsn=552521'}"
      ]
     },
     "metadata": {},
     "output_type": "display_data"
    },
    {
     "name": "stdout",
     "output_type": "stream",
     "text": [
      "<pymongo.results.UpdateResult object at 0x102f9c508>\n"
     ]
    },
    {
     "data": {
      "text/plain": [
       "{'originCollection': 'gapspecies',\n",
       " 'originID': ObjectId('59b842380601bad0b9df0d44'),\n",
       " 'searchURL': 'https://bison.usgs.gov/api/search.json?count=1&tsn=554081'}"
      ]
     },
     "metadata": {},
     "output_type": "display_data"
    },
    {
     "name": "stdout",
     "output_type": "stream",
     "text": [
      "<pymongo.results.UpdateResult object at 0x102fa20c8>\n"
     ]
    },
    {
     "data": {
      "text/plain": [
       "{'originCollection': 'gapspecies',\n",
       " 'originID': ObjectId('59b842380601bad0b9df0d45'),\n",
       " 'searchURL': 'https://bison.usgs.gov/api/search.json?count=1&tsn=176263'}"
      ]
     },
     "metadata": {},
     "output_type": "display_data"
    },
    {
     "name": "stdout",
     "output_type": "stream",
     "text": [
      "<pymongo.results.UpdateResult object at 0x102fa6048>\n"
     ]
    },
    {
     "data": {
      "text/plain": [
       "{'originCollection': 'gapspecies',\n",
       " 'originID': ObjectId('59b842390601bad0b9df0d46'),\n",
       " 'searchURL': 'https://bison.usgs.gov/api/search.json?count=1&tsn=554030'}"
      ]
     },
     "metadata": {},
     "output_type": "display_data"
    },
    {
     "name": "stdout",
     "output_type": "stream",
     "text": [
      "<pymongo.results.UpdateResult object at 0x102fac588>\n"
     ]
    },
    {
     "data": {
      "text/plain": [
       "{'originCollection': 'gapspecies',\n",
       " 'originID': ObjectId('59b842390601bad0b9df0d47'),\n",
       " 'searchURL': 'https://bison.usgs.gov/api/search.json?count=1&tsn=179435'}"
      ]
     },
     "metadata": {},
     "output_type": "display_data"
    },
    {
     "name": "stdout",
     "output_type": "stream",
     "text": [
      "<pymongo.results.UpdateResult object at 0x102fb2188>\n"
     ]
    },
    {
     "data": {
      "text/plain": [
       "{'originCollection': 'gapspecies',\n",
       " 'originID': ObjectId('59b842390601bad0b9df0d48'),\n",
       " 'searchURL': 'https://bison.usgs.gov/api/search.json?count=1&tsn=180229'}"
      ]
     },
     "metadata": {},
     "output_type": "display_data"
    },
    {
     "name": "stdout",
     "output_type": "stream",
     "text": [
      "<pymongo.results.UpdateResult object at 0x102fb9508>\n"
     ]
    },
    {
     "data": {
      "text/plain": [
       "{'originCollection': 'gapspecies',\n",
       " 'originID': ObjectId('59b8423a0601bad0b9df0d49'),\n",
       " 'searchURL': 'https://bison.usgs.gov/api/search.json?count=1&tsn=178198'}"
      ]
     },
     "metadata": {},
     "output_type": "display_data"
    },
    {
     "name": "stdout",
     "output_type": "stream",
     "text": [
      "<pymongo.results.UpdateResult object at 0x102fc0288>\n"
     ]
    },
    {
     "data": {
      "text/plain": [
       "{'originCollection': 'gapspecies',\n",
       " 'originID': ObjectId('59b8423a0601bad0b9df0d4a'),\n",
       " 'searchURL': 'https://bison.usgs.gov/api/search.json?count=1&tsn=175144'}"
      ]
     },
     "metadata": {},
     "output_type": "display_data"
    },
    {
     "name": "stdout",
     "output_type": "stream",
     "text": [
      "<pymongo.results.UpdateResult object at 0x102fc4088>\n"
     ]
    },
    {
     "data": {
      "text/plain": [
       "{'originCollection': 'gapspecies',\n",
       " 'originID': ObjectId('59b8423b0601bad0b9df0d4b'),\n",
       " 'searchURL': 'https://bison.usgs.gov/api/search.json?count=1&tsn=173592'}"
      ]
     },
     "metadata": {},
     "output_type": "display_data"
    },
    {
     "name": "stdout",
     "output_type": "stream",
     "text": [
      "<pymongo.results.UpdateResult object at 0x102fca548>\n"
     ]
    },
    {
     "data": {
      "text/plain": [
       "{'originCollection': 'gapspecies',\n",
       " 'originID': ObjectId('59b8423b0601bad0b9df0d4c'),\n",
       " 'searchURL': 'https://bison.usgs.gov/api/search.json?count=1&tsn=176284'}"
      ]
     },
     "metadata": {},
     "output_type": "display_data"
    },
    {
     "name": "stdout",
     "output_type": "stream",
     "text": [
      "<pymongo.results.UpdateResult object at 0x102fd1288>\n"
     ]
    },
    {
     "data": {
      "text/plain": [
       "{'originCollection': 'gapspecies',\n",
       " 'originID': ObjectId('59b8423b0601bad0b9df0d4d'),\n",
       " 'searchURL': 'https://bison.usgs.gov/api/search.json?count=1&tsn=554027'}"
      ]
     },
     "metadata": {},
     "output_type": "display_data"
    },
    {
     "name": "stdout",
     "output_type": "stream",
     "text": [
      "<pymongo.results.UpdateResult object at 0x102fd6188>\n"
     ]
    },
    {
     "data": {
      "text/plain": [
       "{'originCollection': 'gapspecies',\n",
       " 'originID': ObjectId('59b8423c0601bad0b9df0d4e'),\n",
       " 'searchURL': 'https://bison.usgs.gov/api/search.json?count=1&tsn=555664'}"
      ]
     },
     "metadata": {},
     "output_type": "display_data"
    },
    {
     "name": "stdout",
     "output_type": "stream",
     "text": [
      "<pymongo.results.UpdateResult object at 0x102fde088>\n"
     ]
    },
    {
     "data": {
      "text/plain": [
       "{'originCollection': 'gapspecies',\n",
       " 'originID': ObjectId('59b8423c0601bad0b9df0d4f'),\n",
       " 'searchURL': 'https://bison.usgs.gov/api/search.json?count=1&tsn=180000'}"
      ]
     },
     "metadata": {},
     "output_type": "display_data"
    },
    {
     "name": "stdout",
     "output_type": "stream",
     "text": [
      "<pymongo.results.UpdateResult object at 0x102fe1208>\n"
     ]
    },
    {
     "data": {
      "text/plain": [
       "{'originCollection': 'gapspecies',\n",
       " 'originID': ObjectId('59b8423c0601bad0b9df0d50'),\n",
       " 'searchURL': 'https://bison.usgs.gov/api/search.json?count=1&tsn=176974'}"
      ]
     },
     "metadata": {},
     "output_type": "display_data"
    },
    {
     "name": "stdout",
     "output_type": "stream",
     "text": [
      "<pymongo.results.UpdateResult object at 0x102fe5308>\n"
     ]
    },
    {
     "data": {
      "text/plain": [
       "{'originCollection': 'gapspecies',\n",
       " 'originID': ObjectId('59b8423d0601bad0b9df0d51'),\n",
       " 'searchURL': 'https://bison.usgs.gov/api/search.json?count=1&tsn=176571'}"
      ]
     },
     "metadata": {},
     "output_type": "display_data"
    },
    {
     "name": "stdout",
     "output_type": "stream",
     "text": [
      "<pymongo.results.UpdateResult object at 0x102fed248>\n"
     ]
    },
    {
     "data": {
      "text/plain": [
       "{'originCollection': 'gapspecies',\n",
       " 'originID': ObjectId('59b8423d0601bad0b9df0d52'),\n",
       " 'searchURL': 'https://bison.usgs.gov/api/search.json?count=1&tsn=177925'}"
      ]
     },
     "metadata": {},
     "output_type": "display_data"
    },
    {
     "name": "stdout",
     "output_type": "stream",
     "text": [
      "<pymongo.results.UpdateResult object at 0x102ff71c8>\n"
     ]
    },
    {
     "data": {
      "text/plain": [
       "{'originCollection': 'gapspecies',\n",
       " 'originID': ObjectId('59b8423d0601bad0b9df0d53'),\n",
       " 'searchURL': 'https://bison.usgs.gov/api/search.json?count=1&tsn=180315'}"
      ]
     },
     "metadata": {},
     "output_type": "display_data"
    },
    {
     "name": "stdout",
     "output_type": "stream",
     "text": [
      "<pymongo.results.UpdateResult object at 0x102ffd448>\n"
     ]
    },
    {
     "data": {
      "text/plain": [
       "{'originCollection': 'gapspecies',\n",
       " 'originID': ObjectId('59b8423e0601bad0b9df0d54'),\n",
       " 'searchURL': 'https://bison.usgs.gov/api/search.json?count=1&tsn=179339'}"
      ]
     },
     "metadata": {},
     "output_type": "display_data"
    },
    {
     "name": "stdout",
     "output_type": "stream",
     "text": [
      "<pymongo.results.UpdateResult object at 0x1030041c8>\n"
     ]
    },
    {
     "data": {
      "text/plain": [
       "{'originCollection': 'gapspecies',\n",
       " 'originID': ObjectId('59b8423e0601bad0b9df0d55'),\n",
       " 'searchURL': 'https://bison.usgs.gov/api/search.json?count=1&tsn=177912'}"
      ]
     },
     "metadata": {},
     "output_type": "display_data"
    },
    {
     "name": "stdout",
     "output_type": "stream",
     "text": [
      "<pymongo.results.UpdateResult object at 0x103009288>\n"
     ]
    },
    {
     "data": {
      "text/plain": [
       "{'originCollection': 'gapspecies',\n",
       " 'originID': ObjectId('59b8423e0601bad0b9df0d56'),\n",
       " 'searchURL': 'https://bison.usgs.gov/api/search.json?count=1&type=scientific_name&species=Taricha sierrea'}"
      ]
     },
     "metadata": {},
     "output_type": "display_data"
    },
    {
     "name": "stdout",
     "output_type": "stream",
     "text": [
      "<pymongo.results.UpdateResult object at 0x10300c0c8>\n"
     ]
    },
    {
     "data": {
      "text/plain": [
       "{'originCollection': 'gapspecies',\n",
       " 'originID': ObjectId('59b8423f0601bad0b9df0d57'),\n",
       " 'searchURL': 'https://bison.usgs.gov/api/search.json?count=1&tsn=180596'}"
      ]
     },
     "metadata": {},
     "output_type": "display_data"
    },
    {
     "name": "stdout",
     "output_type": "stream",
     "text": [
      "<pymongo.results.UpdateResult object at 0x103013788>\n"
     ]
    },
    {
     "data": {
      "text/plain": [
       "{'originCollection': 'gapspecies',\n",
       " 'originID': ObjectId('59b8423f0601bad0b9df0d58'),\n",
       " 'searchURL': 'https://bison.usgs.gov/api/search.json?count=1&tsn=180610'}"
      ]
     },
     "metadata": {},
     "output_type": "display_data"
    },
    {
     "name": "stdout",
     "output_type": "stream",
     "text": [
      "<pymongo.results.UpdateResult object at 0x103013788>\n"
     ]
    },
    {
     "data": {
      "text/plain": [
       "{'originCollection': 'gapspecies',\n",
       " 'originID': ObjectId('59b8423f0601bad0b9df0d59'),\n",
       " 'searchURL': 'https://bison.usgs.gov/api/search.json?count=1&tsn=180246'}"
      ]
     },
     "metadata": {},
     "output_type": "display_data"
    },
    {
     "name": "stdout",
     "output_type": "stream",
     "text": [
      "<pymongo.results.UpdateResult object at 0x10301b888>\n"
     ]
    },
    {
     "data": {
      "text/plain": [
       "{'originCollection': 'gapspecies',\n",
       " 'originID': ObjectId('59b842400601bad0b9df0d5a'),\n",
       " 'searchURL': 'https://bison.usgs.gov/api/search.json?count=1&tsn=180386'}"
      ]
     },
     "metadata": {},
     "output_type": "display_data"
    },
    {
     "name": "stdout",
     "output_type": "stream",
     "text": [
      "<pymongo.results.UpdateResult object at 0x1030253c8>\n"
     ]
    },
    {
     "data": {
      "text/plain": [
       "{'originCollection': 'gapspecies',\n",
       " 'originID': ObjectId('59b842400601bad0b9df0d5b'),\n",
       " 'searchURL': 'https://bison.usgs.gov/api/search.json?count=1&tsn=178759'}"
      ]
     },
     "metadata": {},
     "output_type": "display_data"
    },
    {
     "name": "stdout",
     "output_type": "stream",
     "text": [
      "<pymongo.results.UpdateResult object at 0x10302c088>\n"
     ]
    },
    {
     "data": {
      "text/plain": [
       "{'originCollection': 'gapspecies',\n",
       " 'originID': ObjectId('59b842410601bad0b9df0d5c'),\n",
       " 'searchURL': 'https://bison.usgs.gov/api/search.json?count=1&tsn=176630'}"
      ]
     },
     "metadata": {},
     "output_type": "display_data"
    },
    {
     "name": "stdout",
     "output_type": "stream",
     "text": [
      "<pymongo.results.UpdateResult object at 0x103031488>\n"
     ]
    },
    {
     "data": {
      "text/plain": [
       "{'originCollection': 'gapspecies',\n",
       " 'originID': ObjectId('59b842410601bad0b9df0d5d'),\n",
       " 'searchURL': 'https://bison.usgs.gov/api/search.json?count=1&tsn=179152'}"
      ]
     },
     "metadata": {},
     "output_type": "display_data"
    },
    {
     "name": "stdout",
     "output_type": "stream",
     "text": [
      "<pymongo.results.UpdateResult object at 0x103031c48>\n"
     ]
    },
    {
     "data": {
      "text/plain": [
       "{'originCollection': 'gapspecies',\n",
       " 'originID': ObjectId('59b842410601bad0b9df0d5e'),\n",
       " 'searchURL': 'https://bison.usgs.gov/api/search.json?count=1&tsn=773529'}"
      ]
     },
     "metadata": {},
     "output_type": "display_data"
    },
    {
     "name": "stdout",
     "output_type": "stream",
     "text": [
      "<pymongo.results.UpdateResult object at 0x1030389c8>\n"
     ]
    },
    {
     "data": {
      "text/plain": [
       "{'originCollection': 'gapspecies',\n",
       " 'originID': ObjectId('59b842420601bad0b9df0d5f'),\n",
       " 'searchURL': 'https://bison.usgs.gov/api/search.json?count=1&tsn=178339'}"
      ]
     },
     "metadata": {},
     "output_type": "display_data"
    },
    {
     "name": "stdout",
     "output_type": "stream",
     "text": [
      "<pymongo.results.UpdateResult object at 0x103040148>\n"
     ]
    },
    {
     "data": {
      "text/plain": [
       "{'originCollection': 'gapspecies',\n",
       " 'originID': ObjectId('59b842420601bad0b9df0d60'),\n",
       " 'searchURL': 'https://bison.usgs.gov/api/search.json?count=1&tsn=178384'}"
      ]
     },
     "metadata": {},
     "output_type": "display_data"
    },
    {
     "name": "stdout",
     "output_type": "stream",
     "text": [
      "<pymongo.results.UpdateResult object at 0x1030481c8>\n"
     ]
    },
    {
     "data": {
      "text/plain": [
       "{'originCollection': 'gapspecies',\n",
       " 'originID': ObjectId('59b842420601bad0b9df0d61'),\n",
       " 'searchURL': 'https://bison.usgs.gov/api/search.json?count=1&tsn=179091'}"
      ]
     },
     "metadata": {},
     "output_type": "display_data"
    },
    {
     "name": "stdout",
     "output_type": "stream",
     "text": [
      "<pymongo.results.UpdateResult object at 0x10304e348>\n"
     ]
    },
    {
     "data": {
      "text/plain": [
       "{'originCollection': 'gapspecies',\n",
       " 'originID': ObjectId('59b842430601bad0b9df0d62'),\n",
       " 'searchURL': 'https://bison.usgs.gov/api/search.json?count=1&tsn=573575'}"
      ]
     },
     "metadata": {},
     "output_type": "display_data"
    },
    {
     "name": "stdout",
     "output_type": "stream",
     "text": [
      "<pymongo.results.UpdateResult object at 0x103056208>\n"
     ]
    },
    {
     "data": {
      "text/plain": [
       "{'originCollection': 'gapspecies',\n",
       " 'originID': ObjectId('59b842430601bad0b9df0d63'),\n",
       " 'searchURL': 'https://bison.usgs.gov/api/search.json?count=1&tsn=173639'}"
      ]
     },
     "metadata": {},
     "output_type": "display_data"
    },
    {
     "name": "stdout",
     "output_type": "stream",
     "text": [
      "<pymongo.results.UpdateResult object at 0x10305c048>\n"
     ]
    },
    {
     "data": {
      "text/plain": [
       "{'originCollection': 'gapspecies',\n",
       " 'originID': ObjectId('59b842430601bad0b9df0d64'),\n",
       " 'searchURL': 'https://bison.usgs.gov/api/search.json?count=1&tsn=178896'}"
      ]
     },
     "metadata": {},
     "output_type": "display_data"
    },
    {
     "name": "stdout",
     "output_type": "stream",
     "text": [
      "<pymongo.results.UpdateResult object at 0x10305e088>\n"
     ]
    },
    {
     "data": {
      "text/plain": [
       "{'originCollection': 'gapspecies',\n",
       " 'originID': ObjectId('59b842440601bad0b9df0d65'),\n",
       " 'searchURL': 'https://bison.usgs.gov/api/search.json?count=1&tsn=177013'}"
      ]
     },
     "metadata": {},
     "output_type": "display_data"
    },
    {
     "name": "stdout",
     "output_type": "stream",
     "text": [
      "<pymongo.results.UpdateResult object at 0x103064888>\n"
     ]
    },
    {
     "data": {
      "text/plain": [
       "{'originCollection': 'gapspecies',\n",
       " 'originID': ObjectId('59b842440601bad0b9df0d66'),\n",
       " 'searchURL': 'https://bison.usgs.gov/api/search.json?count=1&tsn=174755'}"
      ]
     },
     "metadata": {},
     "output_type": "display_data"
    },
    {
     "name": "stdout",
     "output_type": "stream",
     "text": [
      "<pymongo.results.UpdateResult object at 0x10306a048>\n"
     ]
    },
    {
     "data": {
      "text/plain": [
       "{'originCollection': 'gapspecies',\n",
       " 'originID': ObjectId('59b842440601bad0b9df0d67'),\n",
       " 'searchURL': 'https://bison.usgs.gov/api/search.json?count=1&tsn=177992'}"
      ]
     },
     "metadata": {},
     "output_type": "display_data"
    },
    {
     "name": "stdout",
     "output_type": "stream",
     "text": [
      "<pymongo.results.UpdateResult object at 0x103070348>\n"
     ]
    },
    {
     "data": {
      "text/plain": [
       "{'originCollection': 'gapspecies',\n",
       " 'originID': ObjectId('59b842440601bad0b9df0d68'),\n",
       " 'searchURL': 'https://bison.usgs.gov/api/search.json?count=1&tsn=178636'}"
      ]
     },
     "metadata": {},
     "output_type": "display_data"
    },
    {
     "name": "stdout",
     "output_type": "stream",
     "text": [
      "<pymongo.results.UpdateResult object at 0x103075588>\n"
     ]
    },
    {
     "data": {
      "text/plain": [
       "{'originCollection': 'gapspecies',\n",
       " 'originID': ObjectId('59b842450601bad0b9df0d69'),\n",
       " 'searchURL': 'https://bison.usgs.gov/api/search.json?count=1&tsn=179108'}"
      ]
     },
     "metadata": {},
     "output_type": "display_data"
    },
    {
     "name": "stdout",
     "output_type": "stream",
     "text": [
      "<pymongo.results.UpdateResult object at 0x103077308>\n"
     ]
    },
    {
     "data": {
      "text/plain": [
       "{'originCollection': 'gapspecies',\n",
       " 'originID': ObjectId('59b842450601bad0b9df0d6a'),\n",
       " 'searchURL': 'https://bison.usgs.gov/api/search.json?count=1&tsn=180150'}"
      ]
     },
     "metadata": {},
     "output_type": "display_data"
    },
    {
     "name": "stdout",
     "output_type": "stream",
     "text": [
      "<pymongo.results.UpdateResult object at 0x103084088>\n"
     ]
    },
    {
     "data": {
      "text/plain": [
       "{'originCollection': 'gapspecies',\n",
       " 'originID': ObjectId('59b842450601bad0b9df0d6b'),\n",
       " 'searchURL': 'https://bison.usgs.gov/api/search.json?count=1&tsn=550244'}"
      ]
     },
     "metadata": {},
     "output_type": "display_data"
    },
    {
     "name": "stdout",
     "output_type": "stream",
     "text": [
      "<pymongo.results.UpdateResult object at 0x10308a548>\n"
     ]
    },
    {
     "data": {
      "text/plain": [
       "{'originCollection': 'gapspecies',\n",
       " 'originID': ObjectId('59b842460601bad0b9df0d6c'),\n",
       " 'searchURL': 'https://bison.usgs.gov/api/search.json?count=1&tsn=178990'}"
      ]
     },
     "metadata": {},
     "output_type": "display_data"
    },
    {
     "name": "stdout",
     "output_type": "stream",
     "text": [
      "<pymongo.results.UpdateResult object at 0x103090288>\n"
     ]
    },
    {
     "data": {
      "text/plain": [
       "{'originCollection': 'gapspecies',\n",
       " 'originID': ObjectId('59b842460601bad0b9df0d6d'),\n",
       " 'searchURL': 'https://bison.usgs.gov/api/search.json?count=1&tsn=179173'}"
      ]
     },
     "metadata": {},
     "output_type": "display_data"
    },
    {
     "name": "stdout",
     "output_type": "stream",
     "text": [
      "<pymongo.results.UpdateResult object at 0x103095348>\n"
     ]
    },
    {
     "data": {
      "text/plain": [
       "{'originCollection': 'gapspecies',\n",
       " 'originID': ObjectId('59b842470601bad0b9df0d6e'),\n",
       " 'searchURL': 'https://bison.usgs.gov/api/search.json?count=1&tsn=554383'}"
      ]
     },
     "metadata": {},
     "output_type": "display_data"
    },
    {
     "name": "stdout",
     "output_type": "stream",
     "text": [
      "<pymongo.results.UpdateResult object at 0x103098088>\n"
     ]
    },
    {
     "data": {
      "text/plain": [
       "{'originCollection': 'gapspecies',\n",
       " 'originID': ObjectId('59b842470601bad0b9df0d6f'),\n",
       " 'searchURL': 'https://bison.usgs.gov/api/search.json?count=1&tsn=180339'}"
      ]
     },
     "metadata": {},
     "output_type": "display_data"
    },
    {
     "name": "stdout",
     "output_type": "stream",
     "text": [
      "<pymongo.results.UpdateResult object at 0x10309f0c8>\n"
     ]
    },
    {
     "data": {
      "text/plain": [
       "{'originCollection': 'gapspecies',\n",
       " 'originID': ObjectId('59b842470601bad0b9df0d70'),\n",
       " 'searchURL': 'https://bison.usgs.gov/api/search.json?count=1&tsn=178208'}"
      ]
     },
     "metadata": {},
     "output_type": "display_data"
    },
    {
     "name": "stdout",
     "output_type": "stream",
     "text": [
      "<pymongo.results.UpdateResult object at 0x1030a4608>\n"
     ]
    },
    {
     "data": {
      "text/plain": [
       "{'originCollection': 'gapspecies',\n",
       " 'originID': ObjectId('59b842480601bad0b9df0d71'),\n",
       " 'searchURL': 'https://bison.usgs.gov/api/search.json?count=1&tsn=180002'}"
      ]
     },
     "metadata": {},
     "output_type": "display_data"
    },
    {
     "name": "stdout",
     "output_type": "stream",
     "text": [
      "<pymongo.results.UpdateResult object at 0x1030ab888>\n"
     ]
    },
    {
     "data": {
      "text/plain": [
       "{'originCollection': 'gapspecies',\n",
       " 'originID': ObjectId('59b842480601bad0b9df0d72'),\n",
       " 'searchURL': 'https://bison.usgs.gov/api/search.json?count=1&tsn=180267'}"
      ]
     },
     "metadata": {},
     "output_type": "display_data"
    },
    {
     "name": "stdout",
     "output_type": "stream",
     "text": [
      "<pymongo.results.UpdateResult object at 0x1030b2148>\n"
     ]
    },
    {
     "data": {
      "text/plain": [
       "{'originCollection': 'gapspecies',\n",
       " 'originID': ObjectId('59b842480601bad0b9df0d73'),\n",
       " 'searchURL': 'https://bison.usgs.gov/api/search.json?count=1&tsn=180177'}"
      ]
     },
     "metadata": {},
     "output_type": "display_data"
    },
    {
     "name": "stdout",
     "output_type": "stream",
     "text": [
      "<pymongo.results.UpdateResult object at 0x1030b7548>\n"
     ]
    },
    {
     "data": {
      "text/plain": [
       "{'originCollection': 'gapspecies',\n",
       " 'originID': ObjectId('59b842490601bad0b9df0d74'),\n",
       " 'searchURL': 'https://bison.usgs.gov/api/search.json?count=1&tsn=179940'}"
      ]
     },
     "metadata": {},
     "output_type": "display_data"
    },
    {
     "name": "stdout",
     "output_type": "stream",
     "text": [
      "<pymongo.results.UpdateResult object at 0x1030bb848>\n"
     ]
    },
    {
     "data": {
      "text/plain": [
       "{'originCollection': 'gapspecies',\n",
       " 'originID': ObjectId('59b842490601bad0b9df0d75'),\n",
       " 'searchURL': 'https://bison.usgs.gov/api/search.json?count=1&tsn=180371'}"
      ]
     },
     "metadata": {},
     "output_type": "display_data"
    },
    {
     "name": "stdout",
     "output_type": "stream",
     "text": [
      "<pymongo.results.UpdateResult object at 0x1030c20c8>\n"
     ]
    },
    {
     "data": {
      "text/plain": [
       "{'originCollection': 'gapspecies',\n",
       " 'originID': ObjectId('59b842490601bad0b9df0d76'),\n",
       " 'searchURL': 'https://bison.usgs.gov/api/search.json?count=1&tsn=773528'}"
      ]
     },
     "metadata": {},
     "output_type": "display_data"
    },
    {
     "name": "stdout",
     "output_type": "stream",
     "text": [
      "<pymongo.results.UpdateResult object at 0x1030c7848>\n"
     ]
    },
    {
     "data": {
      "text/plain": [
       "{'originCollection': 'gapspecies',\n",
       " 'originID': ObjectId('59b8424a0601bad0b9df0d77'),\n",
       " 'searchURL': 'https://bison.usgs.gov/api/search.json?count=1&tsn=775211'}"
      ]
     },
     "metadata": {},
     "output_type": "display_data"
    },
    {
     "name": "stdout",
     "output_type": "stream",
     "text": [
      "<pymongo.results.UpdateResult object at 0x1030cf0c8>\n"
     ]
    },
    {
     "data": {
      "text/plain": [
       "{'originCollection': 'gapspecies',\n",
       " 'originID': ObjectId('59b8424a0601bad0b9df0d78'),\n",
       " 'searchURL': 'https://bison.usgs.gov/api/search.json?count=1&tsn=173714'}"
      ]
     },
     "metadata": {},
     "output_type": "display_data"
    },
    {
     "name": "stdout",
     "output_type": "stream",
     "text": [
      "<pymongo.results.UpdateResult object at 0x1030d6508>\n"
     ]
    },
    {
     "data": {
      "text/plain": [
       "{'originCollection': 'gapspecies',\n",
       " 'originID': ObjectId('59b8424b0601bad0b9df0d79'),\n",
       " 'searchURL': 'https://bison.usgs.gov/api/search.json?count=1&tsn=173609'}"
      ]
     },
     "metadata": {},
     "output_type": "display_data"
    },
    {
     "name": "stdout",
     "output_type": "stream",
     "text": [
      "<pymongo.results.UpdateResult object at 0x1030db748>\n"
     ]
    },
    {
     "data": {
      "text/plain": [
       "{'originCollection': 'gapspecies',\n",
       " 'originID': ObjectId('59b8424b0601bad0b9df0d7a'),\n",
       " 'searchURL': 'https://bison.usgs.gov/api/search.json?count=1&tsn=180379'}"
      ]
     },
     "metadata": {},
     "output_type": "display_data"
    },
    {
     "name": "stdout",
     "output_type": "stream",
     "text": [
      "<pymongo.results.UpdateResult object at 0x1030e4048>\n"
     ]
    },
    {
     "data": {
      "text/plain": [
       "{'originCollection': 'gapspecies',\n",
       " 'originID': ObjectId('59b8424c0601bad0b9df0d7b'),\n",
       " 'searchURL': 'https://bison.usgs.gov/api/search.json?count=1&tsn=180596'}"
      ]
     },
     "metadata": {},
     "output_type": "display_data"
    },
    {
     "name": "stdout",
     "output_type": "stream",
     "text": [
      "<pymongo.results.UpdateResult object at 0x1030e96c8>\n"
     ]
    },
    {
     "data": {
      "text/plain": [
       "{'originCollection': 'gapspecies',\n",
       " 'originID': ObjectId('59b8424c0601bad0b9df0d7c'),\n",
       " 'searchURL': 'https://bison.usgs.gov/api/search.json?count=1&tsn=174255'}"
      ]
     },
     "metadata": {},
     "output_type": "display_data"
    },
    {
     "name": "stdout",
     "output_type": "stream",
     "text": [
      "<pymongo.results.UpdateResult object at 0x1030eb388>\n"
     ]
    },
    {
     "data": {
      "text/plain": [
       "{'originCollection': 'gapspecies',\n",
       " 'originID': ObjectId('59b8424d0601bad0b9df0d7d'),\n",
       " 'searchURL': 'https://bison.usgs.gov/api/search.json?count=1&tsn=179995'}"
      ]
     },
     "metadata": {},
     "output_type": "display_data"
    },
    {
     "name": "stdout",
     "output_type": "stream",
     "text": [
      "<pymongo.results.UpdateResult object at 0x1030f4088>\n"
     ]
    },
    {
     "data": {
      "text/plain": [
       "{'originCollection': 'gapspecies',\n",
       " 'originID': ObjectId('59b8424d0601bad0b9df0d7e'),\n",
       " 'searchURL': 'https://bison.usgs.gov/api/search.json?count=1&tsn=173652'}"
      ]
     },
     "metadata": {},
     "output_type": "display_data"
    },
    {
     "name": "stdout",
     "output_type": "stream",
     "text": [
      "<pymongo.results.UpdateResult object at 0x1030f86c8>\n"
     ]
    },
    {
     "data": {
      "text/plain": [
       "{'originCollection': 'gapspecies',\n",
       " 'originID': ObjectId('59b8424e0601bad0b9df0d7f'),\n",
       " 'searchURL': 'https://bison.usgs.gov/api/search.json?count=1&tsn=179333'}"
      ]
     },
     "metadata": {},
     "output_type": "display_data"
    },
    {
     "name": "stdout",
     "output_type": "stream",
     "text": [
      "<pymongo.results.UpdateResult object at 0x1030ff108>\n"
     ]
    },
    {
     "data": {
      "text/plain": [
       "{'originCollection': 'gapspecies',\n",
       " 'originID': ObjectId('59b8424e0601bad0b9df0d80'),\n",
       " 'searchURL': 'https://bison.usgs.gov/api/search.json?count=1&tsn=173627'}"
      ]
     },
     "metadata": {},
     "output_type": "display_data"
    },
    {
     "name": "stdout",
     "output_type": "stream",
     "text": [
      "<pymongo.results.UpdateResult object at 0x103105488>\n"
     ]
    },
    {
     "data": {
      "text/plain": [
       "{'originCollection': 'gapspecies',\n",
       " 'originID': ObjectId('59b8424f0601bad0b9df0d81'),\n",
       " 'searchURL': 'https://bison.usgs.gov/api/search.json?count=1&tsn=173967'}"
      ]
     },
     "metadata": {},
     "output_type": "display_data"
    },
    {
     "name": "stdout",
     "output_type": "stream",
     "text": [
      "<pymongo.results.UpdateResult object at 0x10310a688>\n"
     ]
    },
    {
     "data": {
      "text/plain": [
       "{'originCollection': 'gapspecies',\n",
       " 'originID': ObjectId('59b8424f0601bad0b9df0d82'),\n",
       " 'searchURL': 'https://bison.usgs.gov/api/search.json?count=1&tsn=180544'}"
      ]
     },
     "metadata": {},
     "output_type": "display_data"
    },
    {
     "name": "stdout",
     "output_type": "stream",
     "text": [
      "<pymongo.results.UpdateResult object at 0x103110088>\n"
     ]
    },
    {
     "data": {
      "text/plain": [
       "{'originCollection': 'gapspecies',\n",
       " 'originID': ObjectId('59b8424f0601bad0b9df0d83'),\n",
       " 'searchURL': 'https://bison.usgs.gov/api/search.json?count=1&tsn=555660'}"
      ]
     },
     "metadata": {},
     "output_type": "display_data"
    },
    {
     "name": "stdout",
     "output_type": "stream",
     "text": [
      "<pymongo.results.UpdateResult object at 0x1031172c8>\n"
     ]
    },
    {
     "data": {
      "text/plain": [
       "{'originCollection': 'gapspecies',\n",
       " 'originID': ObjectId('59b842500601bad0b9df0d84'),\n",
       " 'searchURL': 'https://bison.usgs.gov/api/search.json?count=1&tsn=179979'}"
      ]
     },
     "metadata": {},
     "output_type": "display_data"
    },
    {
     "name": "stdout",
     "output_type": "stream",
     "text": [
      "<pymongo.results.UpdateResult object at 0x103117f08>\n"
     ]
    },
    {
     "data": {
      "text/plain": [
       "{'originCollection': 'gapspecies',\n",
       " 'originID': ObjectId('59b842500601bad0b9df0d85'),\n",
       " 'searchURL': 'https://bison.usgs.gov/api/search.json?count=1&tsn=180201'}"
      ]
     },
     "metadata": {},
     "output_type": "display_data"
    },
    {
     "name": "stdout",
     "output_type": "stream",
     "text": [
      "<pymongo.results.UpdateResult object at 0x10311d588>\n"
     ]
    },
    {
     "data": {
      "text/plain": [
       "{'originCollection': 'gapspecies',\n",
       " 'originID': ObjectId('59b842510601bad0b9df0d86'),\n",
       " 'searchURL': 'https://bison.usgs.gov/api/search.json?count=1&tsn=552761'}"
      ]
     },
     "metadata": {},
     "output_type": "display_data"
    },
    {
     "name": "stdout",
     "output_type": "stream",
     "text": [
      "<pymongo.results.UpdateResult object at 0x1031267c8>\n"
     ]
    },
    {
     "data": {
      "text/plain": [
       "{'originCollection': 'gapspecies',\n",
       " 'originID': ObjectId('59b842510601bad0b9df0d87'),\n",
       " 'searchURL': 'https://bison.usgs.gov/api/search.json?count=1&tsn=173941'}"
      ]
     },
     "metadata": {},
     "output_type": "display_data"
    },
    {
     "name": "stdout",
     "output_type": "stream",
     "text": [
      "<pymongo.results.UpdateResult object at 0x10312e048>\n"
     ]
    },
    {
     "data": {
      "text/plain": [
       "{'originCollection': 'gapspecies',\n",
       " 'originID': ObjectId('59b842520601bad0b9df0d88'),\n",
       " 'searchURL': 'https://bison.usgs.gov/api/search.json?count=1&tsn=173968'}"
      ]
     },
     "metadata": {},
     "output_type": "display_data"
    },
    {
     "name": "stdout",
     "output_type": "stream",
     "text": [
      "<pymongo.results.UpdateResult object at 0x103134148>\n"
     ]
    },
    {
     "data": {
      "text/plain": [
       "{'originCollection': 'gapspecies',\n",
       " 'originID': ObjectId('59b842520601bad0b9df0d89'),\n",
       " 'searchURL': 'https://bison.usgs.gov/api/search.json?count=1&tsn=180167'}"
      ]
     },
     "metadata": {},
     "output_type": "display_data"
    },
    {
     "name": "stdout",
     "output_type": "stream",
     "text": [
      "<pymongo.results.UpdateResult object at 0x103137648>\n"
     ]
    },
    {
     "data": {
      "text/plain": [
       "{'originCollection': 'gapspecies',\n",
       " 'originID': ObjectId('59b842530601bad0b9df0d8a'),\n",
       " 'searchURL': 'https://bison.usgs.gov/api/search.json?count=1&tsn=179951'}"
      ]
     },
     "metadata": {},
     "output_type": "display_data"
    },
    {
     "name": "stdout",
     "output_type": "stream",
     "text": [
      "<pymongo.results.UpdateResult object at 0x103137fc8>\n"
     ]
    },
    {
     "data": {
      "text/plain": [
       "{'originCollection': 'gapspecies',\n",
       " 'originID': ObjectId('59b842530601bad0b9df0d8b'),\n",
       " 'searchURL': 'https://bison.usgs.gov/api/search.json?count=1&tsn=180025'}"
      ]
     },
     "metadata": {},
     "output_type": "display_data"
    },
    {
     "name": "stdout",
     "output_type": "stream",
     "text": [
      "<pymongo.results.UpdateResult object at 0x103140788>\n"
     ]
    },
    {
     "data": {
      "text/plain": [
       "{'originCollection': 'gapspecies',\n",
       " 'originID': ObjectId('59b842540601bad0b9df0d8c'),\n",
       " 'searchURL': 'https://bison.usgs.gov/api/search.json?count=1&tsn=174113'}"
      ]
     },
     "metadata": {},
     "output_type": "display_data"
    },
    {
     "name": "stdout",
     "output_type": "stream",
     "text": [
      "<pymongo.results.UpdateResult object at 0x103140048>\n"
     ]
    },
    {
     "data": {
      "text/plain": [
       "{'originCollection': 'gapspecies',\n",
       " 'originID': ObjectId('59b842540601bad0b9df0d8d'),\n",
       " 'searchURL': 'https://bison.usgs.gov/api/search.json?count=1&tsn=173758'}"
      ]
     },
     "metadata": {},
     "output_type": "display_data"
    },
    {
     "name": "stdout",
     "output_type": "stream",
     "text": [
      "<pymongo.results.UpdateResult object at 0x10314d988>\n"
     ]
    },
    {
     "data": {
      "text/plain": [
       "{'originCollection': 'gapspecies',\n",
       " 'originID': ObjectId('59b842550601bad0b9df0d8e'),\n",
       " 'searchURL': 'https://bison.usgs.gov/api/search.json?count=1&tsn=180207'}"
      ]
     },
     "metadata": {},
     "output_type": "display_data"
    },
    {
     "name": "stdout",
     "output_type": "stream",
     "text": [
      "<pymongo.results.UpdateResult object at 0x103158708>\n"
     ]
    },
    {
     "data": {
      "text/plain": [
       "{'originCollection': 'gapspecies',\n",
       " 'originID': ObjectId('59b842550601bad0b9df0d8f'),\n",
       " 'searchURL': 'https://bison.usgs.gov/api/search.json?count=1&tsn=178935'}"
      ]
     },
     "metadata": {},
     "output_type": "display_data"
    },
    {
     "name": "stdout",
     "output_type": "stream",
     "text": [
      "<pymongo.results.UpdateResult object at 0x103158fc8>\n"
     ]
    },
    {
     "data": {
      "text/plain": [
       "{'originCollection': 'gapspecies',\n",
       " 'originID': ObjectId('59b842560601bad0b9df0d90'),\n",
       " 'searchURL': 'https://bison.usgs.gov/api/search.json?count=1&tsn=178940'}"
      ]
     },
     "metadata": {},
     "output_type": "display_data"
    },
    {
     "name": "stdout",
     "output_type": "stream",
     "text": [
      "<pymongo.results.UpdateResult object at 0x10315fa88>\n"
     ]
    },
    {
     "data": {
      "text/plain": [
       "{'originCollection': 'gapspecies',\n",
       " 'originID': ObjectId('59b842560601bad0b9df0d91'),\n",
       " 'searchURL': 'https://bison.usgs.gov/api/search.json?count=1&tsn=178260'}"
      ]
     },
     "metadata": {},
     "output_type": "display_data"
    },
    {
     "name": "stdout",
     "output_type": "stream",
     "text": [
      "<pymongo.results.UpdateResult object at 0x103168088>\n"
     ]
    },
    {
     "data": {
      "text/plain": [
       "{'originCollection': 'gapspecies',\n",
       " 'originID': ObjectId('59b842570601bad0b9df0d92'),\n",
       " 'searchURL': 'https://bison.usgs.gov/api/search.json?count=1&tsn=179234'}"
      ]
     },
     "metadata": {},
     "output_type": "display_data"
    },
    {
     "name": "stdout",
     "output_type": "stream",
     "text": [
      "<pymongo.results.UpdateResult object at 0x10316d288>\n"
     ]
    },
    {
     "data": {
      "text/plain": [
       "{'originCollection': 'gapspecies',\n",
       " 'originID': ObjectId('59b842570601bad0b9df0d93'),\n",
       " 'searchURL': 'https://bison.usgs.gov/api/search.json?count=1&tsn=173468'}"
      ]
     },
     "metadata": {},
     "output_type": "display_data"
    },
    {
     "name": "stdout",
     "output_type": "stream",
     "text": [
      "<pymongo.results.UpdateResult object at 0x10316dec8>\n"
     ]
    },
    {
     "data": {
      "text/plain": [
       "{'originCollection': 'gapspecies',\n",
       " 'originID': ObjectId('59b842580601bad0b9df0d94'),\n",
       " 'searchURL': 'https://bison.usgs.gov/api/search.json?count=1&tsn=175378'}"
      ]
     },
     "metadata": {},
     "output_type": "display_data"
    },
    {
     "name": "stdout",
     "output_type": "stream",
     "text": [
      "<pymongo.results.UpdateResult object at 0x1031791c8>\n"
     ]
    },
    {
     "data": {
      "text/plain": [
       "{'originCollection': 'gapspecies',\n",
       " 'originID': ObjectId('59b842580601bad0b9df0d95'),\n",
       " 'searchURL': 'https://bison.usgs.gov/api/search.json?count=1&tsn=554268'}"
      ]
     },
     "metadata": {},
     "output_type": "display_data"
    },
    {
     "name": "stdout",
     "output_type": "stream",
     "text": [
      "<pymongo.results.UpdateResult object at 0x103180308>\n"
     ]
    },
    {
     "data": {
      "text/plain": [
       "{'originCollection': 'gapspecies',\n",
       " 'originID': ObjectId('59b842590601bad0b9df0d96'),\n",
       " 'searchURL': 'https://bison.usgs.gov/api/search.json?count=1&tsn=176522'}"
      ]
     },
     "metadata": {},
     "output_type": "display_data"
    },
    {
     "name": "stdout",
     "output_type": "stream",
     "text": [
      "<pymongo.results.UpdateResult object at 0x103188188>\n"
     ]
    },
    {
     "data": {
      "text/plain": [
       "{'originCollection': 'gapspecies',\n",
       " 'originID': ObjectId('59b8425a0601bad0b9df0d97'),\n",
       " 'searchURL': 'https://bison.usgs.gov/api/search.json?count=1&tsn=179956'}"
      ]
     },
     "metadata": {},
     "output_type": "display_data"
    },
    {
     "name": "stdout",
     "output_type": "stream",
     "text": [
      "<pymongo.results.UpdateResult object at 0x10318d088>\n"
     ]
    },
    {
     "data": {
      "text/plain": [
       "{'originCollection': 'gapspecies',\n",
       " 'originID': ObjectId('59b8425a0601bad0b9df0d98'),\n",
       " 'searchURL': 'https://bison.usgs.gov/api/search.json?count=1&tsn=552495'}"
      ]
     },
     "metadata": {},
     "output_type": "display_data"
    },
    {
     "name": "stdout",
     "output_type": "stream",
     "text": [
      "<pymongo.results.UpdateResult object at 0x1031922c8>\n"
     ]
    },
    {
     "data": {
      "text/plain": [
       "{'originCollection': 'gapspecies',\n",
       " 'originID': ObjectId('59b8425b0601bad0b9df0d99'),\n",
       " 'searchURL': 'https://bison.usgs.gov/api/search.json?count=1&tsn=552490'}"
      ]
     },
     "metadata": {},
     "output_type": "display_data"
    },
    {
     "name": "stdout",
     "output_type": "stream",
     "text": [
      "<pymongo.results.UpdateResult object at 0x1031950c8>\n"
     ]
    },
    {
     "data": {
      "text/plain": [
       "{'originCollection': 'gapspecies',\n",
       " 'originID': ObjectId('59b8425b0601bad0b9df0d9a'),\n",
       " 'searchURL': 'https://bison.usgs.gov/api/search.json?count=1&tsn=180137'}"
      ]
     },
     "metadata": {},
     "output_type": "display_data"
    },
    {
     "name": "stdout",
     "output_type": "stream",
     "text": [
      "<pymongo.results.UpdateResult object at 0x10319d148>\n"
     ]
    },
    {
     "data": {
      "text/plain": [
       "{'originCollection': 'gapspecies',\n",
       " 'originID': ObjectId('59b8425c0601bad0b9df0d9b'),\n",
       " 'searchURL': 'https://bison.usgs.gov/api/search.json?count=1&tsn=174508'}"
      ]
     },
     "metadata": {},
     "output_type": "display_data"
    },
    {
     "name": "stdout",
     "output_type": "stream",
     "text": [
      "<pymongo.results.UpdateResult object at 0x10319dd48>\n"
     ]
    },
    {
     "data": {
      "text/plain": [
       "{'originCollection': 'gapspecies',\n",
       " 'originID': ObjectId('59b8425c0601bad0b9df0d9c'),\n",
       " 'searchURL': 'https://bison.usgs.gov/api/search.json?count=1&tsn=178211'}"
      ]
     },
     "metadata": {},
     "output_type": "display_data"
    },
    {
     "name": "stdout",
     "output_type": "stream",
     "text": [
      "<pymongo.results.UpdateResult object at 0x1031a4bc8>\n"
     ]
    },
    {
     "data": {
      "text/plain": [
       "{'originCollection': 'gapspecies',\n",
       " 'originID': ObjectId('59b8425c0601bad0b9df0d9d'),\n",
       " 'searchURL': 'https://bison.usgs.gov/api/search.json?count=1&tsn=180627'}"
      ]
     },
     "metadata": {},
     "output_type": "display_data"
    },
    {
     "name": "stdout",
     "output_type": "stream",
     "text": [
      "<pymongo.results.UpdateResult object at 0x1031af5c8>\n"
     ]
    },
    {
     "data": {
      "text/plain": [
       "{'originCollection': 'gapspecies',\n",
       " 'originID': ObjectId('59b8425d0601bad0b9df0d9e'),\n",
       " 'searchURL': 'https://bison.usgs.gov/api/search.json?count=1&tsn=173759'}"
      ]
     },
     "metadata": {},
     "output_type": "display_data"
    },
    {
     "name": "stdout",
     "output_type": "stream",
     "text": [
      "<pymongo.results.UpdateResult object at 0x1031afdc8>\n"
     ]
    },
    {
     "data": {
      "text/plain": [
       "{'originCollection': 'gapspecies',\n",
       " 'originID': ObjectId('59b8425d0601bad0b9df0d9f'),\n",
       " 'searchURL': 'https://bison.usgs.gov/api/search.json?count=1&tsn=180140'}"
      ]
     },
     "metadata": {},
     "output_type": "display_data"
    },
    {
     "name": "stdout",
     "output_type": "stream",
     "text": [
      "<pymongo.results.UpdateResult object at 0x1031b9948>\n"
     ]
    },
    {
     "data": {
      "text/plain": [
       "{'originCollection': 'gapspecies',\n",
       " 'originID': ObjectId('59b8425e0601bad0b9df0da0'),\n",
       " 'searchURL': 'https://bison.usgs.gov/api/search.json?count=1&tsn=180289'}"
      ]
     },
     "metadata": {},
     "output_type": "display_data"
    },
    {
     "name": "stdout",
     "output_type": "stream",
     "text": [
      "<pymongo.results.UpdateResult object at 0x1031c1708>\n"
     ]
    },
    {
     "data": {
      "text/plain": [
       "{'originCollection': 'gapspecies',\n",
       " 'originID': ObjectId('59b8425f0601bad0b9df0da1'),\n",
       " 'searchURL': 'https://bison.usgs.gov/api/search.json?count=1&tsn=209548'}"
      ]
     },
     "metadata": {},
     "output_type": "display_data"
    },
    {
     "name": "stdout",
     "output_type": "stream",
     "text": [
      "<pymongo.results.UpdateResult object at 0x1031c70c8>\n"
     ]
    },
    {
     "data": {
      "text/plain": [
       "{'originCollection': 'gapspecies',\n",
       " 'originID': ObjectId('59b8425f0601bad0b9df0da2'),\n",
       " 'searchURL': 'https://bison.usgs.gov/api/search.json?count=1&tsn=175776'}"
      ]
     },
     "metadata": {},
     "output_type": "display_data"
    },
    {
     "name": "stdout",
     "output_type": "stream",
     "text": [
      "<pymongo.results.UpdateResult object at 0x1031ce2c8>\n"
     ]
    },
    {
     "data": {
      "text/plain": [
       "{'originCollection': 'gapspecies',\n",
       " 'originID': ObjectId('59b842600601bad0b9df0da3'),\n",
       " 'searchURL': 'https://bison.usgs.gov/api/search.json?count=1&tsn=774570'}"
      ]
     },
     "metadata": {},
     "output_type": "display_data"
    },
    {
     "name": "stdout",
     "output_type": "stream",
     "text": [
      "<pymongo.results.UpdateResult object at 0x1031d4648>\n"
     ]
    },
    {
     "data": {
      "text/plain": [
       "{'originCollection': 'gapspecies',\n",
       " 'originID': ObjectId('59b842610601bad0b9df0da4'),\n",
       " 'searchURL': 'https://bison.usgs.gov/api/search.json?count=1&tsn=174288'}"
      ]
     },
     "metadata": {},
     "output_type": "display_data"
    },
    {
     "name": "stdout",
     "output_type": "stream",
     "text": [
      "<pymongo.results.UpdateResult object at 0x1031dc088>\n"
     ]
    },
    {
     "data": {
      "text/plain": [
       "{'originCollection': 'gapspecies',\n",
       " 'originID': ObjectId('59b842610601bad0b9df0da5'),\n",
       " 'searchURL': 'https://bison.usgs.gov/api/search.json?count=1&tsn=174015'}"
      ]
     },
     "metadata": {},
     "output_type": "display_data"
    },
    {
     "name": "stdout",
     "output_type": "stream",
     "text": [
      "<pymongo.results.UpdateResult object at 0x1031e1088>\n"
     ]
    },
    {
     "data": {
      "text/plain": [
       "{'originCollection': 'gapspecies',\n",
       " 'originID': ObjectId('59b842620601bad0b9df0da6'),\n",
       " 'searchURL': 'https://bison.usgs.gov/api/search.json?count=1&tsn=550247'}"
      ]
     },
     "metadata": {},
     "output_type": "display_data"
    },
    {
     "name": "stdout",
     "output_type": "stream",
     "text": [
      "<pymongo.results.UpdateResult object at 0x1031e50c8>\n"
     ]
    },
    {
     "data": {
      "text/plain": [
       "{'originCollection': 'gapspecies',\n",
       " 'originID': ObjectId('59b842630601bad0b9df0da7'),\n",
       " 'searchURL': 'https://bison.usgs.gov/api/search.json?count=1&tsn=573579'}"
      ]
     },
     "metadata": {},
     "output_type": "display_data"
    },
    {
     "name": "stdout",
     "output_type": "stream",
     "text": [
      "<pymongo.results.UpdateResult object at 0x1031eb388>\n"
     ]
    },
    {
     "data": {
      "text/plain": [
       "{'originCollection': 'gapspecies',\n",
       " 'originID': ObjectId('59b842630601bad0b9df0da8'),\n",
       " 'searchURL': 'https://bison.usgs.gov/api/search.json?count=1&tsn=178909'}"
      ]
     },
     "metadata": {},
     "output_type": "display_data"
    },
    {
     "name": "stdout",
     "output_type": "stream",
     "text": [
      "<pymongo.results.UpdateResult object at 0x1031f0808>\n"
     ]
    },
    {
     "data": {
      "text/plain": [
       "{'originCollection': 'gapspecies',\n",
       " 'originID': ObjectId('59b842640601bad0b9df0da9'),\n",
       " 'searchURL': 'https://bison.usgs.gov/api/search.json?count=1&tsn=554388'}"
      ]
     },
     "metadata": {},
     "output_type": "display_data"
    },
    {
     "name": "stdout",
     "output_type": "stream",
     "text": [
      "<pymongo.results.UpdateResult object at 0x1031f50c8>\n"
     ]
    },
    {
     "data": {
      "text/plain": [
       "{'originCollection': 'gapspecies',\n",
       " 'originID': ObjectId('59b842650601bad0b9df0daa'),\n",
       " 'searchURL': 'https://bison.usgs.gov/api/search.json?count=1&tsn=180169'}"
      ]
     },
     "metadata": {},
     "output_type": "display_data"
    },
    {
     "name": "stdout",
     "output_type": "stream",
     "text": [
      "<pymongo.results.UpdateResult object at 0x1031fa0c8>\n"
     ]
    },
    {
     "data": {
      "text/plain": [
       "{'originCollection': 'gapspecies',\n",
       " 'originID': ObjectId('59b842650601bad0b9df0dab'),\n",
       " 'searchURL': 'https://bison.usgs.gov/api/search.json?count=1&tsn=173961'}"
      ]
     },
     "metadata": {},
     "output_type": "display_data"
    },
    {
     "name": "stdout",
     "output_type": "stream",
     "text": [
      "<pymongo.results.UpdateResult object at 0x1031ff748>\n"
     ]
    },
    {
     "data": {
      "text/plain": [
       "{'originCollection': 'gapspecies',\n",
       " 'originID': ObjectId('59b842660601bad0b9df0dac'),\n",
       " 'searchURL': 'https://bison.usgs.gov/api/search.json?count=1&tsn=173938'}"
      ]
     },
     "metadata": {},
     "output_type": "display_data"
    },
    {
     "name": "stdout",
     "output_type": "stream",
     "text": [
      "<pymongo.results.UpdateResult object at 0x103206208>\n"
     ]
    },
    {
     "data": {
      "text/plain": [
       "{'originCollection': 'gapspecies',\n",
       " 'originID': ObjectId('59b842670601bad0b9df0dad'),\n",
       " 'searchURL': 'https://bison.usgs.gov/api/search.json?count=1&tsn=773525'}"
      ]
     },
     "metadata": {},
     "output_type": "display_data"
    },
    {
     "name": "stdout",
     "output_type": "stream",
     "text": [
      "<pymongo.results.UpdateResult object at 0x10320c148>\n"
     ]
    },
    {
     "data": {
      "text/plain": [
       "{'originCollection': 'gapspecies',\n",
       " 'originID': ObjectId('59b842680601bad0b9df0dae'),\n",
       " 'searchURL': 'https://bison.usgs.gov/api/search.json?count=1&tsn=668316'}"
      ]
     },
     "metadata": {},
     "output_type": "display_data"
    },
    {
     "name": "stdout",
     "output_type": "stream",
     "text": [
      "<pymongo.results.UpdateResult object at 0x103212588>\n"
     ]
    },
    {
     "data": {
      "text/plain": [
       "{'originCollection': 'gapspecies',\n",
       " 'originID': ObjectId('59b842680601bad0b9df0daf'),\n",
       " 'searchURL': 'https://bison.usgs.gov/api/search.json?count=1&tsn=173700'}"
      ]
     },
     "metadata": {},
     "output_type": "display_data"
    },
    {
     "name": "stdout",
     "output_type": "stream",
     "text": [
      "<pymongo.results.UpdateResult object at 0x1032143c8>\n"
     ]
    },
    {
     "data": {
      "text/plain": [
       "{'originCollection': 'gapspecies',\n",
       " 'originID': ObjectId('59b842690601bad0b9df0db0'),\n",
       " 'searchURL': 'https://bison.usgs.gov/api/search.json?count=1&tsn=173661'}"
      ]
     },
     "metadata": {},
     "output_type": "display_data"
    },
    {
     "name": "stdout",
     "output_type": "stream",
     "text": [
      "<pymongo.results.UpdateResult object at 0x10321d088>\n"
     ]
    },
    {
     "data": {
      "text/plain": [
       "{'originCollection': 'gapspecies',\n",
       " 'originID': ObjectId('59b8426a0601bad0b9df0db1'),\n",
       " 'searchURL': 'https://bison.usgs.gov/api/search.json?count=1&tsn=207009'}"
      ]
     },
     "metadata": {},
     "output_type": "display_data"
    },
    {
     "name": "stdout",
     "output_type": "stream",
     "text": [
      "<pymongo.results.UpdateResult object at 0x103223748>\n"
     ]
    },
    {
     "data": {
      "text/plain": [
       "{'originCollection': 'gapspecies',\n",
       " 'originID': ObjectId('59b8426b0601bad0b9df0db2'),\n",
       " 'searchURL': 'https://bison.usgs.gov/api/search.json?count=1&tsn=707815'}"
      ]
     },
     "metadata": {},
     "output_type": "display_data"
    },
    {
     "name": "stdout",
     "output_type": "stream",
     "text": [
      "<pymongo.results.UpdateResult object at 0x1032290c8>\n"
     ]
    },
    {
     "data": {
      "text/plain": [
       "{'originCollection': 'gapspecies',\n",
       " 'originID': ObjectId('59b8426b0601bad0b9df0db3'),\n",
       " 'searchURL': 'https://bison.usgs.gov/api/search.json?count=1&tsn=175863'}"
      ]
     },
     "metadata": {},
     "output_type": "display_data"
    },
    {
     "name": "stdout",
     "output_type": "stream",
     "text": [
      "<pymongo.results.UpdateResult object at 0x10322f388>\n"
     ]
    },
    {
     "data": {
      "text/plain": [
       "{'originCollection': 'gapspecies',\n",
       " 'originID': ObjectId('59b8426c0601bad0b9df0db4'),\n",
       " 'searchURL': 'https://bison.usgs.gov/api/search.json?count=1&tsn=180170'}"
      ]
     },
     "metadata": {},
     "output_type": "display_data"
    },
    {
     "name": "stdout",
     "output_type": "stream",
     "text": [
      "<pymongo.results.UpdateResult object at 0x103235288>\n"
     ]
    },
    {
     "data": {
      "text/plain": [
       "{'originCollection': 'gapspecies',\n",
       " 'originID': ObjectId('59b8426d0601bad0b9df0db5'),\n",
       " 'searchURL': 'https://bison.usgs.gov/api/search.json?count=1&tsn=173699'}"
      ]
     },
     "metadata": {},
     "output_type": "display_data"
    },
    {
     "name": "stdout",
     "output_type": "stream",
     "text": [
      "<pymongo.results.UpdateResult object at 0x10323b3c8>\n"
     ]
    },
    {
     "data": {
      "text/plain": [
       "{'originCollection': 'gapspecies',\n",
       " 'originID': ObjectId('59b8426e0601bad0b9df0db6'),\n",
       " 'searchURL': 'https://bison.usgs.gov/api/search.json?count=1&tsn=173587'}"
      ]
     },
     "metadata": {},
     "output_type": "display_data"
    },
    {
     "name": "stdout",
     "output_type": "stream",
     "text": [
      "<pymongo.results.UpdateResult object at 0x103244148>\n"
     ]
    },
    {
     "data": {
      "text/plain": [
       "{'originCollection': 'gapspecies',\n",
       " 'originID': ObjectId('59b8426f0601bad0b9df0db7'),\n",
       " 'searchURL': 'https://bison.usgs.gov/api/search.json?count=1&tsn=180372'}"
      ]
     },
     "metadata": {},
     "output_type": "display_data"
    },
    {
     "name": "stdout",
     "output_type": "stream",
     "text": [
      "<pymongo.results.UpdateResult object at 0x103248248>\n"
     ]
    },
    {
     "data": {
      "text/plain": [
       "{'originCollection': 'gapspecies',\n",
       " 'originID': ObjectId('59b842700601bad0b9df0db8'),\n",
       " 'searchURL': 'https://bison.usgs.gov/api/search.json?count=1&tsn=555658'}"
      ]
     },
     "metadata": {},
     "output_type": "display_data"
    },
    {
     "name": "stdout",
     "output_type": "stream",
     "text": [
      "<pymongo.results.UpdateResult object at 0x1032510c8>\n"
     ]
    },
    {
     "data": {
      "text/plain": [
       "{'originCollection': 'gapspecies',\n",
       " 'originID': ObjectId('59b842710601bad0b9df0db9'),\n",
       " 'searchURL': 'https://bison.usgs.gov/api/search.json?count=1&tsn=683049'}"
      ]
     },
     "metadata": {},
     "output_type": "display_data"
    },
    {
     "name": "stdout",
     "output_type": "stream",
     "text": [
      "<pymongo.results.UpdateResult object at 0x103256108>\n"
     ]
    },
    {
     "data": {
      "text/plain": [
       "{'originCollection': 'gapspecies',\n",
       " 'originID': ObjectId('59b842720601bad0b9df0dba'),\n",
       " 'searchURL': 'https://bison.usgs.gov/api/search.json?count=1&tsn=173771'}"
      ]
     },
     "metadata": {},
     "output_type": "display_data"
    },
    {
     "name": "stdout",
     "output_type": "stream",
     "text": [
      "<pymongo.results.UpdateResult object at 0x103259548>\n"
     ]
    },
    {
     "data": {
      "text/plain": [
       "{'originCollection': 'gapspecies',\n",
       " 'originID': ObjectId('59b842730601bad0b9df0dbb'),\n",
       " 'searchURL': 'https://bison.usgs.gov/api/search.json?count=1&tsn=173914'}"
      ]
     },
     "metadata": {},
     "output_type": "display_data"
    },
    {
     "name": "stdout",
     "output_type": "stream",
     "text": [
      "<pymongo.results.UpdateResult object at 0x103262248>\n"
     ]
    },
    {
     "data": {
      "text/plain": [
       "{'originCollection': 'gapspecies',\n",
       " 'originID': ObjectId('59b842740601bad0b9df0dbc'),\n",
       " 'searchURL': 'https://bison.usgs.gov/api/search.json?count=1&tsn=174176'}"
      ]
     },
     "metadata": {},
     "output_type": "display_data"
    },
    {
     "name": "stdout",
     "output_type": "stream",
     "text": [
      "<pymongo.results.UpdateResult object at 0x1032d90c8>\n"
     ]
    },
    {
     "data": {
      "text/plain": [
       "{'originCollection': 'gapspecies',\n",
       " 'originID': ObjectId('59b842750601bad0b9df0dbd'),\n",
       " 'searchURL': 'https://bison.usgs.gov/api/search.json?count=1&tsn=586344'}"
      ]
     },
     "metadata": {},
     "output_type": "display_data"
    },
    {
     "name": "stdout",
     "output_type": "stream",
     "text": [
      "<pymongo.results.UpdateResult object at 0x1032dc3c8>\n"
     ]
    },
    {
     "data": {
      "text/plain": [
       "{'originCollection': 'gapspecies',\n",
       " 'originID': ObjectId('59b842750601bad0b9df0dbe'),\n",
       " 'searchURL': 'https://bison.usgs.gov/api/search.json?count=1&tsn=173885'}"
      ]
     },
     "metadata": {},
     "output_type": "display_data"
    },
    {
     "name": "stdout",
     "output_type": "stream",
     "text": [
      "<pymongo.results.UpdateResult object at 0x1032dcd48>\n"
     ]
    },
    {
     "data": {
      "text/plain": [
       "{'originCollection': 'gapspecies',\n",
       " 'originID': ObjectId('59b842760601bad0b9df0dbf'),\n",
       " 'searchURL': 'https://bison.usgs.gov/api/search.json?count=1&tsn=180243'}"
      ]
     },
     "metadata": {},
     "output_type": "display_data"
    },
    {
     "name": "stdout",
     "output_type": "stream",
     "text": [
      "<pymongo.results.UpdateResult object at 0x1032e9188>\n"
     ]
    },
    {
     "data": {
      "text/plain": [
       "{'originCollection': 'gapspecies',\n",
       " 'originID': ObjectId('59b842770601bad0b9df0dc0'),\n",
       " 'searchURL': 'https://bison.usgs.gov/api/search.json?count=1&tsn=180247'}"
      ]
     },
     "metadata": {},
     "output_type": "display_data"
    },
    {
     "name": "stdout",
     "output_type": "stream",
     "text": [
      "<pymongo.results.UpdateResult object at 0x1032ed288>\n"
     ]
    },
    {
     "data": {
      "text/plain": [
       "{'originCollection': 'gapspecies',\n",
       " 'originID': ObjectId('59b842780601bad0b9df0dc1'),\n",
       " 'searchURL': 'https://bison.usgs.gov/api/search.json?count=1&tsn=209149'}"
      ]
     },
     "metadata": {},
     "output_type": "display_data"
    },
    {
     "name": "stdout",
     "output_type": "stream",
     "text": [
      "<pymongo.results.UpdateResult object at 0x1032edec8>\n"
     ]
    },
    {
     "data": {
      "text/plain": [
       "{'originCollection': 'gapspecies',\n",
       " 'originID': ObjectId('59b842790601bad0b9df0dc2'),\n",
       " 'searchURL': 'https://bison.usgs.gov/api/search.json?count=1&tsn=173950'}"
      ]
     },
     "metadata": {},
     "output_type": "display_data"
    },
    {
     "name": "stdout",
     "output_type": "stream",
     "text": [
      "<pymongo.results.UpdateResult object at 0x1032f90c8>\n"
     ]
    },
    {
     "data": {
      "text/plain": [
       "{'originCollection': 'gapspecies',\n",
       " 'originID': ObjectId('59b842790601bad0b9df0dc3'),\n",
       " 'searchURL': 'https://bison.usgs.gov/api/search.json?count=1&tsn=179065'}"
      ]
     },
     "metadata": {},
     "output_type": "display_data"
    },
    {
     "name": "stdout",
     "output_type": "stream",
     "text": [
      "<pymongo.results.UpdateResult object at 0x1032fd188>\n"
     ]
    },
    {
     "data": {
      "text/plain": [
       "{'originCollection': 'gapspecies',\n",
       " 'originID': ObjectId('59b8427a0601bad0b9df0dc4'),\n",
       " 'searchURL': 'https://bison.usgs.gov/api/search.json?count=1&tsn=174684'}"
      ]
     },
     "metadata": {},
     "output_type": "display_data"
    },
    {
     "name": "stdout",
     "output_type": "stream",
     "text": [
      "<pymongo.results.UpdateResult object at 0x103307088>\n"
     ]
    },
    {
     "data": {
      "text/plain": [
       "{'originCollection': 'gapspecies',\n",
       " 'originID': ObjectId('59b8427b0601bad0b9df0dc5'),\n",
       " 'searchURL': 'https://bison.usgs.gov/api/search.json?count=1&type=scientific_name&species=Tympanuchus phasianellus campestris'}"
      ]
     },
     "metadata": {},
     "output_type": "display_data"
    },
    {
     "name": "stdout",
     "output_type": "stream",
     "text": [
      "<pymongo.results.UpdateResult object at 0x10330c1c8>\n"
     ]
    },
    {
     "data": {
      "text/plain": [
       "{'originCollection': 'gapspecies',\n",
       " 'originID': ObjectId('59b8427b0601bad0b9df0dc6'),\n",
       " 'searchURL': 'https://bison.usgs.gov/api/search.json?count=1&tsn=180204'}"
      ]
     },
     "metadata": {},
     "output_type": "display_data"
    },
    {
     "name": "stdout",
     "output_type": "stream",
     "text": [
      "<pymongo.results.UpdateResult object at 0x103311108>\n"
     ]
    },
    {
     "data": {
      "text/plain": [
       "{'originCollection': 'gapspecies',\n",
       " 'originID': ObjectId('59b8427c0601bad0b9df0dc7'),\n",
       " 'searchURL': 'https://bison.usgs.gov/api/search.json?count=1&tsn=179293'}"
      ]
     },
     "metadata": {},
     "output_type": "display_data"
    },
    {
     "name": "stdout",
     "output_type": "stream",
     "text": [
      "<pymongo.results.UpdateResult object at 0x1033167c8>\n"
     ]
    },
    {
     "data": {
      "text/plain": [
       "{'originCollection': 'gapspecies',\n",
       " 'originID': ObjectId('59b8427c0601bad0b9df0dc8'),\n",
       " 'searchURL': 'https://bison.usgs.gov/api/search.json?count=1&tsn=174213'}"
      ]
     },
     "metadata": {},
     "output_type": "display_data"
    },
    {
     "name": "stdout",
     "output_type": "stream",
     "text": [
      "<pymongo.results.UpdateResult object at 0x10331b088>\n"
     ]
    },
    {
     "data": {
      "text/plain": [
       "{'originCollection': 'gapspecies',\n",
       " 'originID': ObjectId('59b8427d0601bad0b9df0dc9'),\n",
       " 'searchURL': 'https://bison.usgs.gov/api/search.json?count=1&tsn=174249'}"
      ]
     },
     "metadata": {},
     "output_type": "display_data"
    },
    {
     "name": "stdout",
     "output_type": "stream",
     "text": [
      "<pymongo.results.UpdateResult object at 0x103320348>\n"
     ]
    },
    {
     "data": {
      "text/plain": [
       "{'originCollection': 'gapspecies',\n",
       " 'originID': ObjectId('59b8427d0601bad0b9df0dca'),\n",
       " 'searchURL': 'https://bison.usgs.gov/api/search.json?count=1&tsn=173783'}"
      ]
     },
     "metadata": {},
     "output_type": "display_data"
    },
    {
     "name": "stdout",
     "output_type": "stream",
     "text": [
      "<pymongo.results.UpdateResult object at 0x103320c48>\n"
     ]
    },
    {
     "data": {
      "text/plain": [
       "{'originCollection': 'gapspecies',\n",
       " 'originID': ObjectId('59b8427e0601bad0b9df0dcb'),\n",
       " 'searchURL': 'https://bison.usgs.gov/api/search.json?count=1&tsn=174282'}"
      ]
     },
     "metadata": {},
     "output_type": "display_data"
    },
    {
     "name": "stdout",
     "output_type": "stream",
     "text": [
      "<pymongo.results.UpdateResult object at 0x103327c08>\n"
     ]
    },
    {
     "data": {
      "text/plain": [
       "{'originCollection': 'gapspecies',\n",
       " 'originID': ObjectId('59b8427e0601bad0b9df0dcc'),\n",
       " 'searchURL': 'https://bison.usgs.gov/api/search.json?count=1&tsn=173720'}"
      ]
     },
     "metadata": {},
     "output_type": "display_data"
    },
    {
     "name": "stdout",
     "output_type": "stream",
     "text": [
      "<pymongo.results.UpdateResult object at 0x103331548>\n"
     ]
    },
    {
     "data": {
      "text/plain": [
       "{'originCollection': 'gapspecies',\n",
       " 'originID': ObjectId('59b8427e0601bad0b9df0dcd'),\n",
       " 'searchURL': 'https://bison.usgs.gov/api/search.json?count=1&tsn=175155'}"
      ]
     },
     "metadata": {},
     "output_type": "display_data"
    },
    {
     "name": "stdout",
     "output_type": "stream",
     "text": [
      "<pymongo.results.UpdateResult object at 0x1033380c8>\n"
     ]
    },
    {
     "data": {
      "text/plain": [
       "{'originCollection': 'gapspecies',\n",
       " 'originID': ObjectId('59b8427f0601bad0b9df0dce'),\n",
       " 'searchURL': 'https://bison.usgs.gov/api/search.json?count=1&tsn=173865'}"
      ]
     },
     "metadata": {},
     "output_type": "display_data"
    },
    {
     "name": "stdout",
     "output_type": "stream",
     "text": [
      "<pymongo.results.UpdateResult object at 0x10333f0c8>\n"
     ]
    },
    {
     "data": {
      "text/plain": [
       "{'originCollection': 'gapspecies',\n",
       " 'originID': ObjectId('59b8427f0601bad0b9df0dcf'),\n",
       " 'searchURL': 'https://bison.usgs.gov/api/search.json?count=1&tsn=174270'}"
      ]
     },
     "metadata": {},
     "output_type": "display_data"
    },
    {
     "name": "stdout",
     "output_type": "stream",
     "text": [
      "<pymongo.results.UpdateResult object at 0x103347088>\n"
     ]
    },
    {
     "data": {
      "text/plain": [
       "{'originCollection': 'gapspecies',\n",
       " 'originID': ObjectId('59b842800601bad0b9df0dd0'),\n",
       " 'searchURL': 'https://bison.usgs.gov/api/search.json?count=1&tsn=173760'}"
      ]
     },
     "metadata": {},
     "output_type": "display_data"
    },
    {
     "name": "stdout",
     "output_type": "stream",
     "text": [
      "<pymongo.results.UpdateResult object at 0x10334e548>\n"
     ]
    },
    {
     "data": {
      "text/plain": [
       "{'originCollection': 'gapspecies',\n",
       " 'originID': ObjectId('59b842800601bad0b9df0dd1'),\n",
       " 'searchURL': 'https://bison.usgs.gov/api/search.json?count=1&tsn=208908'}"
      ]
     },
     "metadata": {},
     "output_type": "display_data"
    },
    {
     "name": "stdout",
     "output_type": "stream",
     "text": [
      "<pymongo.results.UpdateResult object at 0x103353808>\n"
     ]
    },
    {
     "data": {
      "text/plain": [
       "{'originCollection': 'gapspecies',\n",
       " 'originID': ObjectId('59b842810601bad0b9df0dd2'),\n",
       " 'searchURL': 'https://bison.usgs.gov/api/search.json?count=1&tsn=173956'}"
      ]
     },
     "metadata": {},
     "output_type": "display_data"
    },
    {
     "name": "stdout",
     "output_type": "stream",
     "text": [
      "<pymongo.results.UpdateResult object at 0x103359208>\n"
     ]
    },
    {
     "data": {
      "text/plain": [
       "{'originCollection': 'gapspecies',\n",
       " 'originID': ObjectId('59b842820601bad0b9df0dd3'),\n",
       " 'searchURL': 'https://bison.usgs.gov/api/search.json?count=1&tsn=550242'}"
      ]
     },
     "metadata": {},
     "output_type": "display_data"
    },
    {
     "name": "stdout",
     "output_type": "stream",
     "text": [
      "<pymongo.results.UpdateResult object at 0x10335f0c8>\n"
     ]
    },
    {
     "data": {
      "text/plain": [
       "{'originCollection': 'gapspecies',\n",
       " 'originID': ObjectId('59b842820601bad0b9df0dd4'),\n",
       " 'searchURL': 'https://bison.usgs.gov/api/search.json?count=1&tsn=207313'}"
      ]
     },
     "metadata": {},
     "output_type": "display_data"
    },
    {
     "name": "stdout",
     "output_type": "stream",
     "text": [
      "<pymongo.results.UpdateResult object at 0x103365448>\n"
     ]
    },
    {
     "data": {
      "text/plain": [
       "{'originCollection': 'gapspecies',\n",
       " 'originID': ObjectId('59b842830601bad0b9df0dd5'),\n",
       " 'searchURL': 'https://bison.usgs.gov/api/search.json?count=1&tsn=179748'}"
      ]
     },
     "metadata": {},
     "output_type": "display_data"
    },
    {
     "name": "stdout",
     "output_type": "stream",
     "text": [
      "<pymongo.results.UpdateResult object at 0x103369808>\n"
     ]
    },
    {
     "data": {
      "text/plain": [
       "{'originCollection': 'gapspecies',\n",
       " 'originID': ObjectId('59b842840601bad0b9df0dd6'),\n",
       " 'searchURL': 'https://bison.usgs.gov/api/search.json?count=1&tsn=180345'}"
      ]
     },
     "metadata": {},
     "output_type": "display_data"
    },
    {
     "name": "stdout",
     "output_type": "stream",
     "text": [
      "<pymongo.results.UpdateResult object at 0x10336f048>\n"
     ]
    },
    {
     "data": {
      "text/plain": [
       "{'originCollection': 'gapspecies',\n",
       " 'originID': ObjectId('59b842840601bad0b9df0dd7'),\n",
       " 'searchURL': 'https://bison.usgs.gov/api/search.json?count=1&tsn=179968'}"
      ]
     },
     "metadata": {},
     "output_type": "display_data"
    },
    {
     "name": "stdout",
     "output_type": "stream",
     "text": [
      "<pymongo.results.UpdateResult object at 0x103374308>\n"
     ]
    },
    {
     "data": {
      "text/plain": [
       "{'originCollection': 'gapspecies',\n",
       " 'originID': ObjectId('59b842840601bad0b9df0dd8'),\n",
       " 'searchURL': 'https://bison.usgs.gov/api/search.json?count=1&tsn=173877'}"
      ]
     },
     "metadata": {},
     "output_type": "display_data"
    },
    {
     "name": "stdout",
     "output_type": "stream",
     "text": [
      "<pymongo.results.UpdateResult object at 0x10337a0c8>\n"
     ]
    },
    {
     "data": {
      "text/plain": [
       "{'originCollection': 'gapspecies',\n",
       " 'originID': ObjectId('59b842850601bad0b9df0dd9'),\n",
       " 'searchURL': 'https://bison.usgs.gov/api/search.json?count=1&tsn=180003'}"
      ]
     },
     "metadata": {},
     "output_type": "display_data"
    },
    {
     "name": "stdout",
     "output_type": "stream",
     "text": [
      "<pymongo.results.UpdateResult object at 0x10337f0c8>\n"
     ]
    },
    {
     "data": {
      "text/plain": [
       "{'originCollection': 'gapspecies',\n",
       " 'originID': ObjectId('59b842850601bad0b9df0dda'),\n",
       " 'searchURL': 'https://bison.usgs.gov/api/search.json?count=1&tsn=180699'}"
      ]
     },
     "metadata": {},
     "output_type": "display_data"
    },
    {
     "name": "stdout",
     "output_type": "stream",
     "text": [
      "<pymongo.results.UpdateResult object at 0x103382308>\n"
     ]
    },
    {
     "data": {
      "text/plain": [
       "{'originCollection': 'gapspecies',\n",
       " 'originID': ObjectId('59b842860601bad0b9df0ddb'),\n",
       " 'searchURL': 'https://bison.usgs.gov/api/search.json?count=1&tsn=208738'}"
      ]
     },
     "metadata": {},
     "output_type": "display_data"
    },
    {
     "name": "stdout",
     "output_type": "stream",
     "text": [
      "<pymongo.results.UpdateResult object at 0x10338d0c8>\n"
     ]
    },
    {
     "data": {
      "text/plain": [
       "{'originCollection': 'gapspecies',\n",
       " 'originID': ObjectId('59b842860601bad0b9df0ddc'),\n",
       " 'searchURL': 'https://bison.usgs.gov/api/search.json?count=1&tsn=633407'}"
      ]
     },
     "metadata": {},
     "output_type": "display_data"
    },
    {
     "name": "stdout",
     "output_type": "stream",
     "text": [
      "<pymongo.results.UpdateResult object at 0x103391408>\n"
     ]
    },
    {
     "data": {
      "text/plain": [
       "{'originCollection': 'gapspecies',\n",
       " 'originID': ObjectId('59b842870601bad0b9df0ddd'),\n",
       " 'searchURL': 'https://bison.usgs.gov/api/search.json?count=1&tsn=180696'}"
      ]
     },
     "metadata": {},
     "output_type": "display_data"
    },
    {
     "name": "stdout",
     "output_type": "stream",
     "text": [
      "<pymongo.results.UpdateResult object at 0x103396648>\n"
     ]
    },
    {
     "data": {
      "text/plain": [
       "{'originCollection': 'gapspecies',\n",
       " 'originID': ObjectId('59b842870601bad0b9df0dde'),\n",
       " 'searchURL': 'https://bison.usgs.gov/api/search.json?count=1&tsn=208925'}"
      ]
     },
     "metadata": {},
     "output_type": "display_data"
    },
    {
     "name": "stdout",
     "output_type": "stream",
     "text": [
      "<pymongo.results.UpdateResult object at 0x10339c048>\n"
     ]
    },
    {
     "data": {
      "text/plain": [
       "{'originCollection': 'gapspecies',\n",
       " 'originID': ObjectId('59b842870601bad0b9df0ddf'),\n",
       " 'searchURL': 'https://bison.usgs.gov/api/search.json?count=1&tsn=174316'}"
      ]
     },
     "metadata": {},
     "output_type": "display_data"
    },
    {
     "name": "stdout",
     "output_type": "stream",
     "text": [
      "<pymongo.results.UpdateResult object at 0x1033a1108>\n"
     ]
    },
    {
     "data": {
      "text/plain": [
       "{'originCollection': 'gapspecies',\n",
       " 'originID': ObjectId('59b842880601bad0b9df0de0'),\n",
       " 'searchURL': 'https://bison.usgs.gov/api/search.json?count=1&tsn=174320'}"
      ]
     },
     "metadata": {},
     "output_type": "display_data"
    },
    {
     "name": "stdout",
     "output_type": "stream",
     "text": [
      "<pymongo.results.UpdateResult object at 0x1033a5608>\n"
     ]
    },
    {
     "data": {
      "text/plain": [
       "{'originCollection': 'gapspecies',\n",
       " 'originID': ObjectId('59b842880601bad0b9df0de1'),\n",
       " 'searchURL': 'https://bison.usgs.gov/api/search.json?count=1&tsn=174220'}"
      ]
     },
     "metadata": {},
     "output_type": "display_data"
    },
    {
     "name": "stdout",
     "output_type": "stream",
     "text": [
      "<pymongo.results.UpdateResult object at 0x1033a74c8>\n"
     ]
    },
    {
     "data": {
      "text/plain": [
       "{'originCollection': 'gapspecies',\n",
       " 'originID': ObjectId('59b842880601bad0b9df0de2'),\n",
       " 'searchURL': 'https://bison.usgs.gov/api/search.json?count=1&tsn=180699'}"
      ]
     },
     "metadata": {},
     "output_type": "display_data"
    },
    {
     "name": "stdout",
     "output_type": "stream",
     "text": [
      "<pymongo.results.UpdateResult object at 0x1033b2048>\n"
     ]
    },
    {
     "data": {
      "text/plain": [
       "{'originCollection': 'gapspecies',\n",
       " 'originID': ObjectId('59b842890601bad0b9df0de3'),\n",
       " 'searchURL': 'https://bison.usgs.gov/api/search.json?count=1&tsn=173765'}"
      ]
     },
     "metadata": {},
     "output_type": "display_data"
    },
    {
     "name": "stdout",
     "output_type": "stream",
     "text": [
      "<pymongo.results.UpdateResult object at 0x1033b72c8>\n"
     ]
    },
    {
     "data": {
      "text/plain": [
       "{'originCollection': 'gapspecies',\n",
       " 'originID': ObjectId('59b842890601bad0b9df0de4'),\n",
       " 'searchURL': 'https://bison.usgs.gov/api/search.json?count=1&tsn=209458'}"
      ]
     },
     "metadata": {},
     "output_type": "display_data"
    },
    {
     "name": "stdout",
     "output_type": "stream",
     "text": [
      "<pymongo.results.UpdateResult object at 0x1033bd688>\n"
     ]
    },
    {
     "data": {
      "text/plain": [
       "{'originCollection': 'gapspecies',\n",
       " 'originID': ObjectId('59b842890601bad0b9df0de5'),\n",
       " 'searchURL': 'https://bison.usgs.gov/api/search.json?count=1&tsn=174503'}"
      ]
     },
     "metadata": {},
     "output_type": "display_data"
    },
    {
     "name": "stdout",
     "output_type": "stream",
     "text": [
      "<pymongo.results.UpdateResult object at 0x1033c5088>\n"
     ]
    },
    {
     "data": {
      "text/plain": [
       "{'originCollection': 'gapspecies',\n",
       " 'originID': ObjectId('59b8428a0601bad0b9df0de6'),\n",
       " 'searchURL': 'https://bison.usgs.gov/api/search.json?count=1&tsn=208289'}"
      ]
     },
     "metadata": {},
     "output_type": "display_data"
    },
    {
     "name": "stdout",
     "output_type": "stream",
     "text": [
      "<pymongo.results.UpdateResult object at 0x1033c9348>\n"
     ]
    },
    {
     "data": {
      "text/plain": [
       "{'originCollection': 'gapspecies',\n",
       " 'originID': ObjectId('59b8428a0601bad0b9df0de7'),\n",
       " 'searchURL': 'https://bison.usgs.gov/api/search.json?count=1&tsn=175367'}"
      ]
     },
     "metadata": {},
     "output_type": "display_data"
    },
    {
     "name": "stdout",
     "output_type": "stream",
     "text": [
      "<pymongo.results.UpdateResult object at 0x1033d0088>\n"
     ]
    },
    {
     "data": {
      "text/plain": [
       "{'originCollection': 'gapspecies',\n",
       " 'originID': ObjectId('59b8428a0601bad0b9df0de8'),\n",
       " 'searchURL': 'https://bison.usgs.gov/api/search.json?count=1&tsn=178371'}"
      ]
     },
     "metadata": {},
     "output_type": "display_data"
    },
    {
     "name": "stdout",
     "output_type": "stream",
     "text": [
      "<pymongo.results.UpdateResult object at 0x1033d82c8>\n"
     ]
    },
    {
     "data": {
      "text/plain": [
       "{'originCollection': 'gapspecies',\n",
       " 'originID': ObjectId('59b8428b0601bad0b9df0de9'),\n",
       " 'searchURL': 'https://bison.usgs.gov/api/search.json?count=1&tsn=179402'}"
      ]
     },
     "metadata": {},
     "output_type": "display_data"
    },
    {
     "name": "stdout",
     "output_type": "stream",
     "text": [
      "<pymongo.results.UpdateResult object at 0x1033de148>\n"
     ]
    },
    {
     "data": {
      "text/plain": [
       "{'originCollection': 'gapspecies',\n",
       " 'originID': ObjectId('59b8428b0601bad0b9df0dea'),\n",
       " 'searchURL': 'https://bison.usgs.gov/api/search.json?count=1&tsn=173657'}"
      ]
     },
     "metadata": {},
     "output_type": "display_data"
    },
    {
     "name": "stdout",
     "output_type": "stream",
     "text": [
      "<pymongo.results.UpdateResult object at 0x1033e34c8>\n"
     ]
    },
    {
     "data": {
      "text/plain": [
       "{'originCollection': 'gapspecies',\n",
       " 'originID': ObjectId('59b8428b0601bad0b9df0deb'),\n",
       " 'searchURL': 'https://bison.usgs.gov/api/search.json?count=1&tsn=176136'}"
      ]
     },
     "metadata": {},
     "output_type": "display_data"
    },
    {
     "name": "stdout",
     "output_type": "stream",
     "text": [
      "<pymongo.results.UpdateResult object at 0x1033e91c8>\n"
     ]
    },
    {
     "data": {
      "text/plain": [
       "{'originCollection': 'gapspecies',\n",
       " 'originID': ObjectId('59b8428c0601bad0b9df0dec'),\n",
       " 'searchURL': 'https://bison.usgs.gov/api/search.json?count=1&tsn=176736'}"
      ]
     },
     "metadata": {},
     "output_type": "display_data"
    },
    {
     "name": "stdout",
     "output_type": "stream",
     "text": [
      "<pymongo.results.UpdateResult object at 0x1033ee408>\n"
     ]
    },
    {
     "data": {
      "text/plain": [
       "{'originCollection': 'gapspecies',\n",
       " 'originID': ObjectId('59b8428c0601bad0b9df0ded'),\n",
       " 'searchURL': 'https://bison.usgs.gov/api/search.json?count=1&tsn=173454'}"
      ]
     },
     "metadata": {},
     "output_type": "display_data"
    },
    {
     "name": "stdout",
     "output_type": "stream",
     "text": [
      "<pymongo.results.UpdateResult object at 0x1033f70c8>\n"
     ]
    },
    {
     "data": {
      "text/plain": [
       "{'originCollection': 'gapspecies',\n",
       " 'originID': ObjectId('59b8428c0601bad0b9df0dee'),\n",
       " 'searchURL': 'https://bison.usgs.gov/api/search.json?count=1&tsn=208278'}"
      ]
     },
     "metadata": {},
     "output_type": "display_data"
    },
    {
     "name": "stdout",
     "output_type": "stream",
     "text": [
      "<pymongo.results.UpdateResult object at 0x1033fa048>\n"
     ]
    },
    {
     "data": {
      "text/plain": [
       "{'originCollection': 'gapspecies',\n",
       " 'originID': ObjectId('59b8428d0601bad0b9df0def'),\n",
       " 'searchURL': 'https://bison.usgs.gov/api/search.json?count=1&tsn=180554'}"
      ]
     },
     "metadata": {},
     "output_type": "display_data"
    },
    {
     "name": "stdout",
     "output_type": "stream",
     "text": [
      "<pymongo.results.UpdateResult object at 0x1033ff7c8>\n"
     ]
    },
    {
     "data": {
      "text/plain": [
       "{'originCollection': 'gapspecies',\n",
       " 'originID': ObjectId('59b8428d0601bad0b9df0df0'),\n",
       " 'searchURL': 'https://bison.usgs.gov/api/search.json?count=1&type=scientific_name&species=Aplodontia rufa olympica'}"
      ]
     },
     "metadata": {},
     "output_type": "display_data"
    },
    {
     "name": "stdout",
     "output_type": "stream",
     "text": [
      "<pymongo.results.UpdateResult object at 0x1034080c8>\n"
     ]
    },
    {
     "data": {
      "text/plain": [
       "{'originCollection': 'gapspecies',\n",
       " 'originID': ObjectId('59b8428d0601bad0b9df0df1'),\n",
       " 'searchURL': 'https://bison.usgs.gov/api/search.json?count=1&tsn=203452'}"
      ]
     },
     "metadata": {},
     "output_type": "display_data"
    },
    {
     "name": "stdout",
     "output_type": "stream",
     "text": [
      "<pymongo.results.UpdateResult object at 0x10340e508>\n"
     ]
    },
    {
     "data": {
      "text/plain": [
       "{'originCollection': 'gapspecies',\n",
       " 'originID': ObjectId('59b8428e0601bad0b9df0df2'),\n",
       " 'searchURL': 'https://bison.usgs.gov/api/search.json?count=1&tsn=179707'}"
      ]
     },
     "metadata": {},
     "output_type": "display_data"
    },
    {
     "name": "stdout",
     "output_type": "stream",
     "text": [
      "<pymongo.results.UpdateResult object at 0x103416088>\n"
     ]
    },
    {
     "data": {
      "text/plain": [
       "{'originCollection': 'gapspecies',\n",
       " 'originID': ObjectId('59b8428e0601bad0b9df0df3'),\n",
       " 'searchURL': 'https://bison.usgs.gov/api/search.json?count=1&tsn=179969'}"
      ]
     },
     "metadata": {},
     "output_type": "display_data"
    },
    {
     "name": "stdout",
     "output_type": "stream",
     "text": [
      "<pymongo.results.UpdateResult object at 0x10341a648>\n"
     ]
    },
    {
     "data": {
      "text/plain": [
       "{'originCollection': 'gapspecies',\n",
       " 'originID': ObjectId('59b8428e0601bad0b9df0df4'),\n",
       " 'searchURL': 'https://bison.usgs.gov/api/search.json?count=1&tsn=180241'}"
      ]
     },
     "metadata": {},
     "output_type": "display_data"
    },
    {
     "name": "stdout",
     "output_type": "stream",
     "text": [
      "<pymongo.results.UpdateResult object at 0x10341f908>\n"
     ]
    },
    {
     "data": {
      "text/plain": [
       "{'originCollection': 'gapspecies',\n",
       " 'originID': ObjectId('59b8428f0601bad0b9df0df5'),\n",
       " 'searchURL': 'https://bison.usgs.gov/api/search.json?count=1&tsn=726257'}"
      ]
     },
     "metadata": {},
     "output_type": "display_data"
    },
    {
     "name": "stdout",
     "output_type": "stream",
     "text": [
      "<pymongo.results.UpdateResult object at 0x103424108>\n"
     ]
    },
    {
     "data": {
      "text/plain": [
       "{'originCollection': 'gapspecies',\n",
       " 'originID': ObjectId('59b8428f0601bad0b9df0df6'),\n",
       " 'searchURL': 'https://bison.usgs.gov/api/search.json?count=1&tsn=180161'}"
      ]
     },
     "metadata": {},
     "output_type": "display_data"
    },
    {
     "name": "stdout",
     "output_type": "stream",
     "text": [
      "<pymongo.results.UpdateResult object at 0x10342b7c8>\n"
     ]
    },
    {
     "data": {
      "text/plain": [
       "{'originCollection': 'gapspecies',\n",
       " 'originID': ObjectId('59b842900601bad0b9df0df7'),\n",
       " 'searchURL': 'https://bison.usgs.gov/api/search.json?count=1&tsn=175175'}"
      ]
     },
     "metadata": {},
     "output_type": "display_data"
    },
    {
     "name": "stdout",
     "output_type": "stream",
     "text": [
      "<pymongo.results.UpdateResult object at 0x103432048>\n"
     ]
    },
    {
     "data": {
      "text/plain": [
       "{'originCollection': 'gapspecies',\n",
       " 'originID': ObjectId('59b842900601bad0b9df0df8'),\n",
       " 'searchURL': 'https://bison.usgs.gov/api/search.json?count=1&tsn=176507'}"
      ]
     },
     "metadata": {},
     "output_type": "display_data"
    },
    {
     "name": "stdout",
     "output_type": "stream",
     "text": [
      "<pymongo.results.UpdateResult object at 0x103436348>\n"
     ]
    },
    {
     "data": {
      "text/plain": [
       "{'originCollection': 'gapspecies',\n",
       " 'originID': ObjectId('59b842900601bad0b9df0df9'),\n",
       " 'searchURL': 'https://bison.usgs.gov/api/search.json?count=1&tsn=178166'}"
      ]
     },
     "metadata": {},
     "output_type": "display_data"
    },
    {
     "name": "stdout",
     "output_type": "stream",
     "text": [
      "<pymongo.results.UpdateResult object at 0x10343e0c8>\n"
     ]
    },
    {
     "data": {
      "text/plain": [
       "{'originCollection': 'gapspecies',\n",
       " 'originID': ObjectId('59b842910601bad0b9df0dfa'),\n",
       " 'searchURL': 'https://bison.usgs.gov/api/search.json?count=1&tsn=173691'}"
      ]
     },
     "metadata": {},
     "output_type": "display_data"
    },
    {
     "name": "stdout",
     "output_type": "stream",
     "text": [
      "<pymongo.results.UpdateResult object at 0x103442188>\n"
     ]
    },
    {
     "data": {
      "text/plain": [
       "{'originCollection': 'gapspecies',\n",
       " 'originID': ObjectId('59b842910601bad0b9df0dfb'),\n",
       " 'searchURL': 'https://bison.usgs.gov/api/search.json?count=1&tsn=175096'}"
      ]
     },
     "metadata": {},
     "output_type": "display_data"
    },
    {
     "name": "stdout",
     "output_type": "stream",
     "text": [
      "<pymongo.results.UpdateResult object at 0x103446808>\n"
     ]
    },
    {
     "data": {
      "text/plain": [
       "{'originCollection': 'gapspecies',\n",
       " 'originID': ObjectId('59b842920601bad0b9df0dfc'),\n",
       " 'searchURL': 'https://bison.usgs.gov/api/search.json?count=1&tsn=676900'}"
      ]
     },
     "metadata": {},
     "output_type": "display_data"
    },
    {
     "name": "stdout",
     "output_type": "stream",
     "text": [
      "<pymongo.results.UpdateResult object at 0x1034511c8>\n"
     ]
    },
    {
     "data": {
      "text/plain": [
       "{'originCollection': 'gapspecies',\n",
       " 'originID': ObjectId('59b842920601bad0b9df0dfd'),\n",
       " 'searchURL': 'https://bison.usgs.gov/api/search.json?count=1&tsn=174985'}"
      ]
     },
     "metadata": {},
     "output_type": "display_data"
    },
    {
     "name": "stdout",
     "output_type": "stream",
     "text": [
      "<pymongo.results.UpdateResult object at 0x103451ec8>\n"
     ]
    },
    {
     "data": {
      "text/plain": [
       "{'originCollection': 'gapspecies',\n",
       " 'originID': ObjectId('59b842930601bad0b9df0dfe'),\n",
       " 'searchURL': 'https://bison.usgs.gov/api/search.json?count=1&tsn=179271'}"
      ]
     },
     "metadata": {},
     "output_type": "display_data"
    },
    {
     "name": "stdout",
     "output_type": "stream",
     "text": [
      "<pymongo.results.UpdateResult object at 0x10345d148>\n"
     ]
    },
    {
     "data": {
      "text/plain": [
       "{'originCollection': 'gapspecies',\n",
       " 'originID': ObjectId('59b842930601bad0b9df0dff'),\n",
       " 'searchURL': 'https://bison.usgs.gov/api/search.json?count=1&tsn=179877'}"
      ]
     },
     "metadata": {},
     "output_type": "display_data"
    },
    {
     "name": "stdout",
     "output_type": "stream",
     "text": [
      "<pymongo.results.UpdateResult object at 0x10345de88>\n"
     ]
    },
    {
     "data": {
      "text/plain": [
       "{'originCollection': 'gapspecies',\n",
       " 'originID': ObjectId('59b842940601bad0b9df0e00'),\n",
       " 'searchURL': 'https://bison.usgs.gov/api/search.json?count=1&tsn=178918'}"
      ]
     },
     "metadata": {},
     "output_type": "display_data"
    },
    {
     "name": "stdout",
     "output_type": "stream",
     "text": [
      "<pymongo.results.UpdateResult object at 0x103463588>\n"
     ]
    },
    {
     "data": {
      "text/plain": [
       "{'originCollection': 'gapspecies',\n",
       " 'originID': ObjectId('59b842940601bad0b9df0e01'),\n",
       " 'searchURL': 'https://bison.usgs.gov/api/search.json?count=1&tsn=773513'}"
      ]
     },
     "metadata": {},
     "output_type": "display_data"
    },
    {
     "name": "stdout",
     "output_type": "stream",
     "text": [
      "<pymongo.results.UpdateResult object at 0x103463648>\n"
     ]
    },
    {
     "data": {
      "text/plain": [
       "{'originCollection': 'gapspecies',\n",
       " 'originID': ObjectId('59b842940601bad0b9df0e02'),\n",
       " 'searchURL': 'https://bison.usgs.gov/api/search.json?count=1&tsn=180701'}"
      ]
     },
     "metadata": {},
     "output_type": "display_data"
    },
    {
     "name": "stdout",
     "output_type": "stream",
     "text": [
      "<pymongo.results.UpdateResult object at 0x103470748>\n"
     ]
    },
    {
     "data": {
      "text/plain": [
       "{'originCollection': 'gapspecies',\n",
       " 'originID': ObjectId('59b842950601bad0b9df0e03'),\n",
       " 'searchURL': 'https://bison.usgs.gov/api/search.json?count=1&tsn=180148'}"
      ]
     },
     "metadata": {},
     "output_type": "display_data"
    },
    {
     "name": "stdout",
     "output_type": "stream",
     "text": [
      "<pymongo.results.UpdateResult object at 0x103478848>\n"
     ]
    },
    {
     "data": {
      "text/plain": [
       "{'originCollection': 'gapspecies',\n",
       " 'originID': ObjectId('59b842950601bad0b9df0e04'),\n",
       " 'searchURL': 'https://bison.usgs.gov/api/search.json?count=1&tsn=175046'}"
      ]
     },
     "metadata": {},
     "output_type": "display_data"
    },
    {
     "name": "stdout",
     "output_type": "stream",
     "text": [
      "<pymongo.results.UpdateResult object at 0x10347b588>\n"
     ]
    },
    {
     "data": {
      "text/plain": [
       "{'originCollection': 'gapspecies',\n",
       " 'originID': ObjectId('59b842960601bad0b9df0e05'),\n",
       " 'searchURL': 'https://bison.usgs.gov/api/search.json?count=1&tsn=179439'}"
      ]
     },
     "metadata": {},
     "output_type": "display_data"
    },
    {
     "name": "stdout",
     "output_type": "stream",
     "text": [
      "<pymongo.results.UpdateResult object at 0x1034852c8>\n"
     ]
    },
    {
     "data": {
      "text/plain": [
       "{'originCollection': 'gapspecies',\n",
       " 'originID': ObjectId('59b842960601bad0b9df0e06'),\n",
       " 'searchURL': 'https://bison.usgs.gov/api/search.json?count=1&tsn=177834'}"
      ]
     },
     "metadata": {},
     "output_type": "display_data"
    },
    {
     "name": "stdout",
     "output_type": "stream",
     "text": [
      "<pymongo.results.UpdateResult object at 0x1034870c8>\n"
     ]
    },
    {
     "data": {
      "text/plain": [
       "{'originCollection': 'gapspecies',\n",
       " 'originID': ObjectId('59b842970601bad0b9df0e07'),\n",
       " 'searchURL': 'https://bison.usgs.gov/api/search.json?count=1&tsn=177921'}"
      ]
     },
     "metadata": {},
     "output_type": "display_data"
    },
    {
     "name": "stdout",
     "output_type": "stream",
     "text": [
      "<pymongo.results.UpdateResult object at 0x1034921c8>\n"
     ]
    },
    {
     "data": {
      "text/plain": [
       "{'originCollection': 'gapspecies',\n",
       " 'originID': ObjectId('59b842970601bad0b9df0e08'),\n",
       " 'searchURL': 'https://bison.usgs.gov/api/search.json?count=1&tsn=177997'}"
      ]
     },
     "metadata": {},
     "output_type": "display_data"
    },
    {
     "name": "stdout",
     "output_type": "stream",
     "text": [
      "<pymongo.results.UpdateResult object at 0x103497348>\n"
     ]
    },
    {
     "data": {
      "text/plain": [
       "{'originCollection': 'gapspecies',\n",
       " 'originID': ObjectId('59b842970601bad0b9df0e09'),\n",
       " 'searchURL': 'https://bison.usgs.gov/api/search.json?count=1&tsn=180253'}"
      ]
     },
     "metadata": {},
     "output_type": "display_data"
    },
    {
     "name": "stdout",
     "output_type": "stream",
     "text": [
      "<pymongo.results.UpdateResult object at 0x10349f0c8>\n"
     ]
    },
    {
     "data": {
      "text/plain": [
       "{'originCollection': 'gapspecies',\n",
       " 'originID': ObjectId('59b842980601bad0b9df0e0a'),\n",
       " 'searchURL': 'https://bison.usgs.gov/api/search.json?count=1&tsn=177929'}"
      ]
     },
     "metadata": {},
     "output_type": "display_data"
    },
    {
     "name": "stdout",
     "output_type": "stream",
     "text": [
      "<pymongo.results.UpdateResult object at 0x1034a6108>\n"
     ]
    },
    {
     "data": {
      "text/plain": [
       "{'originCollection': 'gapspecies',\n",
       " 'originID': ObjectId('59b842980601bad0b9df0e0b'),\n",
       " 'searchURL': 'https://bison.usgs.gov/api/search.json?count=1&tsn=176935'}"
      ]
     },
     "metadata": {},
     "output_type": "display_data"
    },
    {
     "name": "stdout",
     "output_type": "stream",
     "text": [
      "<pymongo.results.UpdateResult object at 0x1034a6d48>\n"
     ]
    },
    {
     "data": {
      "text/plain": [
       "{'originCollection': 'gapspecies',\n",
       " 'originID': ObjectId('59b842990601bad0b9df0e0c'),\n",
       " 'searchURL': 'https://bison.usgs.gov/api/search.json?count=1&tsn=180312'}"
      ]
     },
     "metadata": {},
     "output_type": "display_data"
    },
    {
     "name": "stdout",
     "output_type": "stream",
     "text": [
      "<pymongo.results.UpdateResult object at 0x1034b11c8>\n"
     ]
    },
    {
     "data": {
      "text/plain": [
       "{'originCollection': 'gapspecies',\n",
       " 'originID': ObjectId('59b842990601bad0b9df0e0d'),\n",
       " 'searchURL': 'https://bison.usgs.gov/api/search.json?count=1&tsn=180237'}"
      ]
     },
     "metadata": {},
     "output_type": "display_data"
    },
    {
     "name": "stdout",
     "output_type": "stream",
     "text": [
      "<pymongo.results.UpdateResult object at 0x1034b6408>\n"
     ]
    },
    {
     "data": {
      "text/plain": [
       "{'originCollection': 'gapspecies',\n",
       " 'originID': ObjectId('59b842990601bad0b9df0e0e'),\n",
       " 'searchURL': 'https://bison.usgs.gov/api/search.json?count=1&tsn=179750'}"
      ]
     },
     "metadata": {},
     "output_type": "display_data"
    },
    {
     "name": "stdout",
     "output_type": "stream",
     "text": [
      "<pymongo.results.UpdateResult object at 0x1034b90c8>\n"
     ]
    },
    {
     "data": {
      "text/plain": [
       "{'originCollection': 'gapspecies',\n",
       " 'originID': ObjectId('59b8429a0601bad0b9df0e0f'),\n",
       " 'searchURL': 'https://bison.usgs.gov/api/search.json?count=1&tsn=174924'}"
      ]
     },
     "metadata": {},
     "output_type": "display_data"
    },
    {
     "name": "stdout",
     "output_type": "stream",
     "text": [
      "<pymongo.results.UpdateResult object at 0x1034c1148>\n"
     ]
    },
    {
     "data": {
      "text/plain": [
       "{'originCollection': 'gapspecies',\n",
       " 'originID': ObjectId('59b8429a0601bad0b9df0e10'),\n",
       " 'searchURL': 'https://bison.usgs.gov/api/search.json?count=1&tsn=175834'}"
      ]
     },
     "metadata": {},
     "output_type": "display_data"
    },
    {
     "name": "stdout",
     "output_type": "stream",
     "text": [
      "<pymongo.results.UpdateResult object at 0x1034c62c8>\n"
     ]
    },
    {
     "data": {
      "text/plain": [
       "{'originCollection': 'gapspecies',\n",
       " 'originID': ObjectId('59b8429a0601bad0b9df0e11'),\n",
       " 'searchURL': 'https://bison.usgs.gov/api/search.json?count=1&tsn=180717'}"
      ]
     },
     "metadata": {},
     "output_type": "display_data"
    },
    {
     "name": "stdout",
     "output_type": "stream",
     "text": [
      "<pymongo.results.UpdateResult object at 0x1034c6ec8>\n"
     ]
    },
    {
     "data": {
      "text/plain": [
       "{'originCollection': 'gapspecies',\n",
       " 'originID': ObjectId('59b8429b0601bad0b9df0e12'),\n",
       " 'searchURL': 'https://bison.usgs.gov/api/search.json?count=1&tsn=173732'}"
      ]
     },
     "metadata": {},
     "output_type": "display_data"
    },
    {
     "name": "stdout",
     "output_type": "stream",
     "text": [
      "<pymongo.results.UpdateResult object at 0x1034d2b48>\n"
     ]
    },
    {
     "data": {
      "text/plain": [
       "{'originCollection': 'gapspecies',\n",
       " 'originID': ObjectId('59b8429b0601bad0b9df0e13'),\n",
       " 'searchURL': 'https://bison.usgs.gov/api/search.json?count=1&tsn=208288'}"
      ]
     },
     "metadata": {},
     "output_type": "display_data"
    },
    {
     "name": "stdout",
     "output_type": "stream",
     "text": [
      "<pymongo.results.UpdateResult object at 0x1034da2c8>\n"
     ]
    },
    {
     "data": {
      "text/plain": [
       "{'originCollection': 'gapspecies',\n",
       " 'originID': ObjectId('59b8429b0601bad0b9df0e14'),\n",
       " 'searchURL': 'https://bison.usgs.gov/api/search.json?count=1&tsn=173702'}"
      ]
     },
     "metadata": {},
     "output_type": "display_data"
    },
    {
     "name": "stdout",
     "output_type": "stream",
     "text": [
      "<pymongo.results.UpdateResult object at 0x1034e0188>\n"
     ]
    },
    {
     "data": {
      "text/plain": [
       "{'originCollection': 'gapspecies',\n",
       " 'originID': ObjectId('59b8429b0601bad0b9df0e15'),\n",
       " 'searchURL': 'https://bison.usgs.gov/api/search.json?count=1&tsn=179888'}"
      ]
     },
     "metadata": {},
     "output_type": "display_data"
    },
    {
     "name": "stdout",
     "output_type": "stream",
     "text": [
      "<pymongo.results.UpdateResult object at 0x1034e5488>\n"
     ]
    },
    {
     "data": {
      "text/plain": [
       "{'originCollection': 'gapspecies',\n",
       " 'originID': ObjectId('59b8429b0601bad0b9df0e16'),\n",
       " 'searchURL': 'https://bison.usgs.gov/api/search.json?count=1&tsn=179488'}"
      ]
     },
     "metadata": {},
     "output_type": "display_data"
    },
    {
     "name": "stdout",
     "output_type": "stream",
     "text": [
      "<pymongo.results.UpdateResult object at 0x1034ea688>\n"
     ]
    },
    {
     "data": {
      "text/plain": [
       "{'originCollection': 'gapspecies',\n",
       " 'originID': ObjectId('59b8429c0601bad0b9df0e17'),\n",
       " 'searchURL': 'https://bison.usgs.gov/api/search.json?count=1&tsn=550398'}"
      ]
     },
     "metadata": {},
     "output_type": "display_data"
    },
    {
     "name": "stdout",
     "output_type": "stream",
     "text": [
      "<pymongo.results.UpdateResult object at 0x1034f0048>\n"
     ]
    },
    {
     "data": {
      "text/plain": [
       "{'originCollection': 'gapspecies',\n",
       " 'originID': ObjectId('59b8429c0601bad0b9df0e18'),\n",
       " 'searchURL': 'https://bison.usgs.gov/api/search.json?count=1&tsn=176661'}"
      ]
     },
     "metadata": {},
     "output_type": "display_data"
    },
    {
     "name": "stdout",
     "output_type": "stream",
     "text": [
      "<pymongo.results.UpdateResult object at 0x1034f42c8>\n"
     ]
    },
    {
     "data": {
      "text/plain": [
       "{'originCollection': 'gapspecies',\n",
       " 'originID': ObjectId('59b8429c0601bad0b9df0e19'),\n",
       " 'searchURL': 'https://bison.usgs.gov/api/search.json?count=1&tsn=177071'}"
      ]
     },
     "metadata": {},
     "output_type": "display_data"
    },
    {
     "name": "stdout",
     "output_type": "stream",
     "text": [
      "<pymongo.results.UpdateResult object at 0x1034fd288>\n"
     ]
    },
    {
     "data": {
      "text/plain": [
       "{'originCollection': 'gapspecies',\n",
       " 'originID': ObjectId('59b8429c0601bad0b9df0e1a'),\n",
       " 'searchURL': 'https://bison.usgs.gov/api/search.json?count=1&tsn=177134'}"
      ]
     },
     "metadata": {},
     "output_type": "display_data"
    },
    {
     "name": "stdout",
     "output_type": "stream",
     "text": [
      "<pymongo.results.UpdateResult object at 0x1035025c8>\n"
     ]
    },
    {
     "data": {
      "text/plain": [
       "{'originCollection': 'gapspecies',\n",
       " 'originID': ObjectId('59b8429d0601bad0b9df0e1b'),\n",
       " 'searchURL': 'https://bison.usgs.gov/api/search.json?count=1&tsn=174634'}"
      ]
     },
     "metadata": {},
     "output_type": "display_data"
    },
    {
     "name": "stdout",
     "output_type": "stream",
     "text": [
      "<pymongo.results.UpdateResult object at 0x103509048>\n"
     ]
    },
    {
     "data": {
      "text/plain": [
       "{'originCollection': 'gapspecies',\n",
       " 'originID': ObjectId('59b8429d0601bad0b9df0e1c'),\n",
       " 'searchURL': 'https://bison.usgs.gov/api/search.json?count=1&tsn=175246'}"
      ]
     },
     "metadata": {},
     "output_type": "display_data"
    },
    {
     "name": "stdout",
     "output_type": "stream",
     "text": [
      "<pymongo.results.UpdateResult object at 0x10350f0c8>\n"
     ]
    },
    {
     "data": {
      "text/plain": [
       "{'originCollection': 'gapspecies',\n",
       " 'originID': ObjectId('59b8429d0601bad0b9df0e1d'),\n",
       " 'searchURL': 'https://bison.usgs.gov/api/search.json?count=1&tsn=668292'}"
      ]
     },
     "metadata": {},
     "output_type": "display_data"
    },
    {
     "name": "stdout",
     "output_type": "stream",
     "text": [
      "<pymongo.results.UpdateResult object at 0x103512688>\n"
     ]
    },
    {
     "data": {
      "text/plain": [
       "{'originCollection': 'gapspecies',\n",
       " 'originID': ObjectId('59b8429d0601bad0b9df0e1e'),\n",
       " 'searchURL': 'https://bison.usgs.gov/api/search.json?count=1&tsn=173690'}"
      ]
     },
     "metadata": {},
     "output_type": "display_data"
    },
    {
     "name": "stdout",
     "output_type": "stream",
     "text": [
      "<pymongo.results.UpdateResult object at 0x103518408>\n"
     ]
    },
    {
     "data": {
      "text/plain": [
       "{'originCollection': 'gapspecies',\n",
       " 'originID': ObjectId('59b8429e0601bad0b9df0e1f'),\n",
       " 'searchURL': 'https://bison.usgs.gov/api/search.json?count=1&tsn=179993'}"
      ]
     },
     "metadata": {},
     "output_type": "display_data"
    },
    {
     "name": "stdout",
     "output_type": "stream",
     "text": [
      "<pymongo.results.UpdateResult object at 0x103520208>\n"
     ]
    },
    {
     "data": {
      "text/plain": [
       "{'originCollection': 'gapspecies',\n",
       " 'originID': ObjectId('59b8429e0601bad0b9df0e20'),\n",
       " 'searchURL': 'https://bison.usgs.gov/api/search.json?count=1&tsn=180310'}"
      ]
     },
     "metadata": {},
     "output_type": "display_data"
    },
    {
     "name": "stdout",
     "output_type": "stream",
     "text": [
      "<pymongo.results.UpdateResult object at 0x1035271c8>\n"
     ]
    },
    {
     "data": {
      "text/plain": [
       "{'originCollection': 'gapspecies',\n",
       " 'originID': ObjectId('59b8429f0601bad0b9df0e21'),\n",
       " 'searchURL': 'https://bison.usgs.gov/api/search.json?count=1&tsn=173674'}"
      ]
     },
     "metadata": {},
     "output_type": "display_data"
    },
    {
     "name": "stdout",
     "output_type": "stream",
     "text": [
      "<pymongo.results.UpdateResult object at 0x10352c208>\n"
     ]
    },
    {
     "data": {
      "text/plain": [
       "{'originCollection': 'gapspecies',\n",
       " 'originID': ObjectId('59b8429f0601bad0b9df0e22'),\n",
       " 'searchURL': 'https://bison.usgs.gov/api/search.json?count=1&tsn=173673'}"
      ]
     },
     "metadata": {},
     "output_type": "display_data"
    },
    {
     "name": "stdout",
     "output_type": "stream",
     "text": [
      "<pymongo.results.UpdateResult object at 0x1035300c8>\n"
     ]
    },
    {
     "data": {
      "text/plain": [
       "{'originCollection': 'gapspecies',\n",
       " 'originID': ObjectId('59b8429f0601bad0b9df0e23'),\n",
       " 'searchURL': 'https://bison.usgs.gov/api/search.json?count=1&tsn=179988'}"
      ]
     },
     "metadata": {},
     "output_type": "display_data"
    },
    {
     "name": "stdout",
     "output_type": "stream",
     "text": [
      "<pymongo.results.UpdateResult object at 0x103537108>\n"
     ]
    },
    {
     "data": {
      "text/plain": [
       "{'originCollection': 'gapspecies',\n",
       " 'originID': ObjectId('59b842a00601bad0b9df0e24'),\n",
       " 'searchURL': 'https://bison.usgs.gov/api/search.json?count=1&tsn=180713'}"
      ]
     },
     "metadata": {},
     "output_type": "display_data"
    },
    {
     "name": "stdout",
     "output_type": "stream",
     "text": [
      "<pymongo.results.UpdateResult object at 0x10353d788>\n"
     ]
    },
    {
     "data": {
      "text/plain": [
       "{'originCollection': 'gapspecies',\n",
       " 'originID': ObjectId('59b842a00601bad0b9df0e25'),\n",
       " 'searchURL': 'https://bison.usgs.gov/api/search.json?count=1&tsn=178030'}"
      ]
     },
     "metadata": {},
     "output_type": "display_data"
    },
    {
     "name": "stdout",
     "output_type": "stream",
     "text": [
      "<pymongo.results.UpdateResult object at 0x10353f408>\n"
     ]
    },
    {
     "data": {
      "text/plain": [
       "{'originCollection': 'gapspecies',\n",
       " 'originID': ObjectId('59b842a10601bad0b9df0e26'),\n",
       " 'searchURL': 'https://bison.usgs.gov/api/search.json?count=1&tsn=174699'}"
      ]
     },
     "metadata": {},
     "output_type": "display_data"
    },
    {
     "name": "stdout",
     "output_type": "stream",
     "text": [
      "<pymongo.results.UpdateResult object at 0x1035475c8>\n"
     ]
    },
    {
     "data": {
      "text/plain": [
       "{'originCollection': 'gapspecies',\n",
       " 'originID': ObjectId('59b842a10601bad0b9df0e27'),\n",
       " 'searchURL': 'https://bison.usgs.gov/api/search.json?count=1&tsn=552488'}"
      ]
     },
     "metadata": {},
     "output_type": "display_data"
    },
    {
     "name": "stdout",
     "output_type": "stream",
     "text": [
      "<pymongo.results.UpdateResult object at 0x10354b2c8>\n"
     ]
    },
    {
     "data": {
      "text/plain": [
       "{'originCollection': 'gapspecies',\n",
       " 'originID': ObjectId('59b842a20601bad0b9df0e28'),\n",
       " 'searchURL': 'https://bison.usgs.gov/api/search.json?count=1&tsn=180357'}"
      ]
     },
     "metadata": {},
     "output_type": "display_data"
    },
    {
     "name": "stdout",
     "output_type": "stream",
     "text": [
      "<pymongo.results.UpdateResult object at 0x1035555c8>\n"
     ]
    },
    {
     "data": {
      "text/plain": [
       "{'originCollection': 'gapspecies',\n",
       " 'originID': ObjectId('59b842a20601bad0b9df0e29'),\n",
       " 'searchURL': 'https://bison.usgs.gov/api/search.json?count=1&tsn=179191'}"
      ]
     },
     "metadata": {},
     "output_type": "display_data"
    },
    {
     "name": "stdout",
     "output_type": "stream",
     "text": [
      "<pymongo.results.UpdateResult object at 0x10355c808>\n"
     ]
    },
    {
     "data": {
      "text/plain": [
       "{'originCollection': 'gapspecies',\n",
       " 'originID': ObjectId('59b842a30601bad0b9df0e2a'),\n",
       " 'searchURL': 'https://bison.usgs.gov/api/search.json?count=1&tsn=179526'}"
      ]
     },
     "metadata": {},
     "output_type": "display_data"
    },
    {
     "name": "stdout",
     "output_type": "stream",
     "text": [
      "<pymongo.results.UpdateResult object at 0x10355f408>\n"
     ]
    },
    {
     "data": {
      "text/plain": [
       "{'originCollection': 'gapspecies',\n",
       " 'originID': ObjectId('59b842a30601bad0b9df0e2b'),\n",
       " 'searchURL': 'https://bison.usgs.gov/api/search.json?count=1&tsn=554350'}"
      ]
     },
     "metadata": {},
     "output_type": "display_data"
    },
    {
     "name": "stdout",
     "output_type": "stream",
     "text": [
      "<pymongo.results.UpdateResult object at 0x1035686c8>\n"
     ]
    },
    {
     "data": {
      "text/plain": [
       "{'originCollection': 'gapspecies',\n",
       " 'originID': ObjectId('59b842a30601bad0b9df0e2c'),\n",
       " 'searchURL': 'https://bison.usgs.gov/api/search.json?count=1&tsn=176832'}"
      ]
     },
     "metadata": {},
     "output_type": "display_data"
    },
    {
     "name": "stdout",
     "output_type": "stream",
     "text": [
      "<pymongo.results.UpdateResult object at 0x1035700c8>\n"
     ]
    },
    {
     "data": {
      "text/plain": [
       "{'originCollection': 'gapspecies',\n",
       " 'originID': ObjectId('59b842a40601bad0b9df0e2d'),\n",
       " 'searchURL': 'https://bison.usgs.gov/api/search.json?count=1&tsn=775083'}"
      ]
     },
     "metadata": {},
     "output_type": "display_data"
    },
    {
     "name": "stdout",
     "output_type": "stream",
     "text": [
      "<pymongo.results.UpdateResult object at 0x103574508>\n"
     ]
    },
    {
     "data": {
      "text/plain": [
       "{'originCollection': 'gapspecies',\n",
       " 'originID': ObjectId('59b842a40601bad0b9df0e2e'),\n",
       " 'searchURL': 'https://bison.usgs.gov/api/search.json?count=1&tsn=179884'}"
      ]
     },
     "metadata": {},
     "output_type": "display_data"
    },
    {
     "name": "stdout",
     "output_type": "stream",
     "text": [
      "<pymongo.results.UpdateResult object at 0x103574ec8>\n"
     ]
    },
    {
     "data": {
      "text/plain": [
       "{'originCollection': 'gapspecies',\n",
       " 'originID': ObjectId('59b842a40601bad0b9df0e2f'),\n",
       " 'searchURL': 'https://bison.usgs.gov/api/search.json?count=1&tsn=180341'}"
      ]
     },
     "metadata": {},
     "output_type": "display_data"
    },
    {
     "name": "stdout",
     "output_type": "stream",
     "text": [
      "<pymongo.results.UpdateResult object at 0x103580048>\n"
     ]
    },
    {
     "data": {
      "text/plain": [
       "{'originCollection': 'gapspecies',\n",
       " 'originID': ObjectId('59b842a50601bad0b9df0e30'),\n",
       " 'searchURL': 'https://bison.usgs.gov/api/search.json?count=1&tsn=179068'}"
      ]
     },
     "metadata": {},
     "output_type": "display_data"
    },
    {
     "name": "stdout",
     "output_type": "stream",
     "text": [
      "<pymongo.results.UpdateResult object at 0x103585588>\n"
     ]
    },
    {
     "data": {
      "text/plain": [
       "{'originCollection': 'gapspecies',\n",
       " 'originID': ObjectId('59b842a50601bad0b9df0e31'),\n",
       " 'searchURL': 'https://bison.usgs.gov/api/search.json?count=1&tsn=176620'}"
      ]
     },
     "metadata": {},
     "output_type": "display_data"
    },
    {
     "name": "stdout",
     "output_type": "stream",
     "text": [
      "<pymongo.results.UpdateResult object at 0x10358b088>\n"
     ]
    },
    {
     "data": {
      "text/plain": [
       "{'originCollection': 'gapspecies',\n",
       " 'originID': ObjectId('59b842a50601bad0b9df0e32'),\n",
       " 'searchURL': 'https://bison.usgs.gov/api/search.json?count=1&tsn=175872'}"
      ]
     },
     "metadata": {},
     "output_type": "display_data"
    },
    {
     "name": "stdout",
     "output_type": "stream",
     "text": [
      "<pymongo.results.UpdateResult object at 0x103590088>\n"
     ]
    },
    {
     "data": {
      "text/plain": [
       "{'originCollection': 'gapspecies',\n",
       " 'originID': ObjectId('59b842a60601bad0b9df0e33'),\n",
       " 'searchURL': 'https://bison.usgs.gov/api/search.json?count=1&tsn=179307'}"
      ]
     },
     "metadata": {},
     "output_type": "display_data"
    },
    {
     "name": "stdout",
     "output_type": "stream",
     "text": [
      "<pymongo.results.UpdateResult object at 0x103596188>\n"
     ]
    },
    {
     "data": {
      "text/plain": [
       "{'originCollection': 'gapspecies',\n",
       " 'originID': ObjectId('59b842a60601bad0b9df0e34'),\n",
       " 'searchURL': 'https://bison.usgs.gov/api/search.json?count=1&tsn=179731'}"
      ]
     },
     "metadata": {},
     "output_type": "display_data"
    },
    {
     "name": "stdout",
     "output_type": "stream",
     "text": [
      "<pymongo.results.UpdateResult object at 0x10359a088>\n"
     ]
    },
    {
     "data": {
      "text/plain": [
       "{'originCollection': 'gapspecies',\n",
       " 'originID': ObjectId('59b842a60601bad0b9df0e35'),\n",
       " 'searchURL': 'https://bison.usgs.gov/api/search.json?count=1&tsn=564557'}"
      ]
     },
     "metadata": {},
     "output_type": "display_data"
    },
    {
     "name": "stdout",
     "output_type": "stream",
     "text": [
      "<pymongo.results.UpdateResult object at 0x1035a3048>\n"
     ]
    },
    {
     "data": {
      "text/plain": [
       "{'originCollection': 'gapspecies',\n",
       " 'originID': ObjectId('59b842a70601bad0b9df0e36'),\n",
       " 'searchURL': 'https://bison.usgs.gov/api/search.json?count=1&tsn=773518'}"
      ]
     },
     "metadata": {},
     "output_type": "display_data"
    },
    {
     "name": "stdout",
     "output_type": "stream",
     "text": [
      "<pymongo.results.UpdateResult object at 0x1035a91c8>\n"
     ]
    },
    {
     "data": {
      "text/plain": [
       "{'originCollection': 'gapspecies',\n",
       " 'originID': ObjectId('59b842a70601bad0b9df0e37'),\n",
       " 'searchURL': 'https://bison.usgs.gov/api/search.json?count=1&tsn=178312'}"
      ]
     },
     "metadata": {},
     "output_type": "display_data"
    },
    {
     "name": "stdout",
     "output_type": "stream",
     "text": [
      "<pymongo.results.UpdateResult object at 0x1035ad608>\n"
     ]
    },
    {
     "data": {
      "text/plain": [
       "{'originCollection': 'gapspecies',\n",
       " 'originID': ObjectId('59b842a80601bad0b9df0e38'),\n",
       " 'searchURL': 'https://bison.usgs.gov/api/search.json?count=1&tsn=177966'}"
      ]
     },
     "metadata": {},
     "output_type": "display_data"
    },
    {
     "name": "stdout",
     "output_type": "stream",
     "text": [
      "<pymongo.results.UpdateResult object at 0x1035adfc8>\n"
     ]
    },
    {
     "data": {
      "text/plain": [
       "{'originCollection': 'gapspecies',\n",
       " 'originID': ObjectId('59b842a80601bad0b9df0e39'),\n",
       " 'searchURL': 'https://bison.usgs.gov/api/search.json?count=1&tsn=668323'}"
      ]
     },
     "metadata": {},
     "output_type": "display_data"
    },
    {
     "name": "stdout",
     "output_type": "stream",
     "text": [
      "<pymongo.results.UpdateResult object at 0x1035b6948>\n"
     ]
    },
    {
     "data": {
      "text/plain": [
       "{'originCollection': 'gapspecies',\n",
       " 'originID': ObjectId('59b842a90601bad0b9df0e3a'),\n",
       " 'searchURL': 'https://bison.usgs.gov/api/search.json?count=1&tsn=668321'}"
      ]
     },
     "metadata": {},
     "output_type": "display_data"
    },
    {
     "name": "stdout",
     "output_type": "stream",
     "text": [
      "<pymongo.results.UpdateResult object at 0x1035bf088>\n"
     ]
    },
    {
     "data": {
      "text/plain": [
       "{'originCollection': 'gapspecies',\n",
       " 'originID': ObjectId('59b842a90601bad0b9df0e3b'),\n",
       " 'searchURL': 'https://bison.usgs.gov/api/search.json?count=1&tsn=206991'}"
      ]
     },
     "metadata": {},
     "output_type": "display_data"
    },
    {
     "name": "stdout",
     "output_type": "stream",
     "text": [
      "<pymongo.results.UpdateResult object at 0x1035c3108>\n"
     ]
    },
    {
     "data": {
      "text/plain": [
       "{'originCollection': 'gapspecies',\n",
       " 'originID': ObjectId('59b842aa0601bad0b9df0e3c'),\n",
       " 'searchURL': 'https://bison.usgs.gov/api/search.json?count=1&tsn=775988'}"
      ]
     },
     "metadata": {},
     "output_type": "display_data"
    },
    {
     "name": "stdout",
     "output_type": "stream",
     "text": [
      "<pymongo.results.UpdateResult object at 0x1035c9508>\n"
     ]
    },
    {
     "data": {
      "text/plain": [
       "{'originCollection': 'gapspecies',\n",
       " 'originID': ObjectId('59b842ab0601bad0b9df0e3d'),\n",
       " 'searchURL': 'https://bison.usgs.gov/api/search.json?count=1&tsn=179223'}"
      ]
     },
     "metadata": {},
     "output_type": "display_data"
    },
    {
     "name": "stdout",
     "output_type": "stream",
     "text": [
      "<pymongo.results.UpdateResult object at 0x1035cc248>\n"
     ]
    },
    {
     "data": {
      "text/plain": [
       "{'originCollection': 'gapspecies',\n",
       " 'originID': ObjectId('59b842ab0601bad0b9df0e3e'),\n",
       " 'searchURL': 'https://bison.usgs.gov/api/search.json?count=1&tsn=179236'}"
      ]
     },
     "metadata": {},
     "output_type": "display_data"
    },
    {
     "name": "stdout",
     "output_type": "stream",
     "text": [
      "<pymongo.results.UpdateResult object at 0x1035d5248>\n"
     ]
    },
    {
     "data": {
      "text/plain": [
       "{'originCollection': 'gapspecies',\n",
       " 'originID': ObjectId('59b842ac0601bad0b9df0e3f'),\n",
       " 'searchURL': 'https://bison.usgs.gov/api/search.json?count=1&tsn=550238'}"
      ]
     },
     "metadata": {},
     "output_type": "display_data"
    },
    {
     "name": "stdout",
     "output_type": "stream",
     "text": [
      "<pymongo.results.UpdateResult object at 0x1035d5e48>\n"
     ]
    },
    {
     "data": {
      "text/plain": [
       "{'originCollection': 'gapspecies',\n",
       " 'originID': ObjectId('59b842ac0601bad0b9df0e40'),\n",
       " 'searchURL': 'https://bison.usgs.gov/api/search.json?count=1&tsn=176817'}"
      ]
     },
     "metadata": {},
     "output_type": "display_data"
    },
    {
     "name": "stdout",
     "output_type": "stream",
     "text": [
      "<pymongo.results.UpdateResult object at 0x1035de848>\n"
     ]
    },
    {
     "data": {
      "text/plain": [
       "{'originCollection': 'gapspecies',\n",
       " 'originID': ObjectId('59b842ad0601bad0b9df0e41'),\n",
       " 'searchURL': 'https://bison.usgs.gov/api/search.json?count=1&tsn=175610'}"
      ]
     },
     "metadata": {},
     "output_type": "display_data"
    },
    {
     "name": "stdout",
     "output_type": "stream",
     "text": [
      "<pymongo.results.UpdateResult object at 0x1035e7248>\n"
     ]
    },
    {
     "data": {
      "text/plain": [
       "{'originCollection': 'gapspecies',\n",
       " 'originID': ObjectId('59b842ae0601bad0b9df0e42'),\n",
       " 'searchURL': 'https://bison.usgs.gov/api/search.json?count=1&tsn=173814'}"
      ]
     },
     "metadata": {},
     "output_type": "display_data"
    },
    {
     "name": "stdout",
     "output_type": "stream",
     "text": [
      "<pymongo.results.UpdateResult object at 0x1035ec6c8>\n"
     ]
    },
    {
     "data": {
      "text/plain": [
       "{'originCollection': 'gapspecies',\n",
       " 'originID': ObjectId('59b842ae0601bad0b9df0e43'),\n",
       " 'searchURL': 'https://bison.usgs.gov/api/search.json?count=1&tsn=180169'}"
      ]
     },
     "metadata": {},
     "output_type": "display_data"
    },
    {
     "name": "stdout",
     "output_type": "stream",
     "text": [
      "<pymongo.results.UpdateResult object at 0x1035f4088>\n"
     ]
    },
    {
     "data": {
      "text/plain": [
       "{'originCollection': 'gapspecies',\n",
       " 'originID': ObjectId('59b842af0601bad0b9df0e44'),\n",
       " 'searchURL': 'https://bison.usgs.gov/api/search.json?count=1&tsn=180556'}"
      ]
     },
     "metadata": {},
     "output_type": "display_data"
    },
    {
     "name": "stdout",
     "output_type": "stream",
     "text": [
      "<pymongo.results.UpdateResult object at 0x1035fb448>\n"
     ]
    },
    {
     "data": {
      "text/plain": [
       "{'originCollection': 'gapspecies',\n",
       " 'originID': ObjectId('59b842af0601bad0b9df0e45'),\n",
       " 'searchURL': 'https://bison.usgs.gov/api/search.json?count=1&tsn=173738'}"
      ]
     },
     "metadata": {},
     "output_type": "display_data"
    },
    {
     "name": "stdout",
     "output_type": "stream",
     "text": [
      "<pymongo.results.UpdateResult object at 0x1035fe388>\n"
     ]
    },
    {
     "data": {
      "text/plain": [
       "{'originCollection': 'gapspecies',\n",
       " 'originID': ObjectId('59b842b00601bad0b9df0e46'),\n",
       " 'searchURL': 'https://bison.usgs.gov/api/search.json?count=1&tsn=173685'}"
      ]
     },
     "metadata": {},
     "output_type": "display_data"
    },
    {
     "name": "stdout",
     "output_type": "stream",
     "text": [
      "<pymongo.results.UpdateResult object at 0x103606148>\n"
     ]
    },
    {
     "data": {
      "text/plain": [
       "{'originCollection': 'gapspecies',\n",
       " 'originID': ObjectId('59b842b00601bad0b9df0e47'),\n",
       " 'searchURL': 'https://bison.usgs.gov/api/search.json?count=1&tsn=668324'}"
      ]
     },
     "metadata": {},
     "output_type": "display_data"
    },
    {
     "name": "stdout",
     "output_type": "stream",
     "text": [
      "<pymongo.results.UpdateResult object at 0x10360b808>\n"
     ]
    },
    {
     "data": {
      "text/plain": [
       "{'originCollection': 'gapspecies',\n",
       " 'originID': ObjectId('59b842b10601bad0b9df0e48'),\n",
       " 'searchURL': 'https://bison.usgs.gov/api/search.json?count=1&tsn=174243'}"
      ]
     },
     "metadata": {},
     "output_type": "display_data"
    },
    {
     "name": "stdout",
     "output_type": "stream",
     "text": [
      "<pymongo.results.UpdateResult object at 0x103614188>\n"
     ]
    },
    {
     "data": {
      "text/plain": [
       "{'originCollection': 'gapspecies',\n",
       " 'originID': ObjectId('59b842b10601bad0b9df0e49'),\n",
       " 'searchURL': 'https://bison.usgs.gov/api/search.json?count=1&tsn=914108'}"
      ]
     },
     "metadata": {},
     "output_type": "display_data"
    },
    {
     "name": "stdout",
     "output_type": "stream",
     "text": [
      "<pymongo.results.UpdateResult object at 0x103619048>\n"
     ]
    },
    {
     "data": {
      "text/plain": [
       "{'originCollection': 'gapspecies',\n",
       " 'originID': ObjectId('59b842b20601bad0b9df0e4a'),\n",
       " 'searchURL': 'https://bison.usgs.gov/api/search.json?count=1&tsn=179737'}"
      ]
     },
     "metadata": {},
     "output_type": "display_data"
    },
    {
     "name": "stdout",
     "output_type": "stream",
     "text": [
      "<pymongo.results.UpdateResult object at 0x10361f448>\n"
     ]
    },
    {
     "data": {
      "text/plain": [
       "{'originCollection': 'gapspecies',\n",
       " 'originID': ObjectId('59b842b20601bad0b9df0e4b'),\n",
       " 'searchURL': 'https://bison.usgs.gov/api/search.json?count=1&tsn=180299'}"
      ]
     },
     "metadata": {},
     "output_type": "display_data"
    },
    {
     "name": "stdout",
     "output_type": "stream",
     "text": [
      "<pymongo.results.UpdateResult object at 0x1036246c8>\n"
     ]
    },
    {
     "data": {
      "text/plain": [
       "{'originCollection': 'gapspecies',\n",
       " 'originID': ObjectId('59b842b30601bad0b9df0e4c'),\n",
       " 'searchURL': 'https://bison.usgs.gov/api/search.json?count=1&tsn=174685'}"
      ]
     },
     "metadata": {},
     "output_type": "display_data"
    },
    {
     "name": "stdout",
     "output_type": "stream",
     "text": [
      "<pymongo.results.UpdateResult object at 0x10362b0c8>\n"
     ]
    },
    {
     "data": {
      "text/plain": [
       "{'originCollection': 'gapspecies',\n",
       " 'originID': ObjectId('59b842b30601bad0b9df0e4d'),\n",
       " 'searchURL': 'https://bison.usgs.gov/api/search.json?count=1&tsn=555544'}"
      ]
     },
     "metadata": {},
     "output_type": "display_data"
    },
    {
     "name": "stdout",
     "output_type": "stream",
     "text": [
      "<pymongo.results.UpdateResult object at 0x1036301c8>\n"
     ]
    },
    {
     "data": {
      "text/plain": [
       "{'originCollection': 'gapspecies',\n",
       " 'originID': ObjectId('59b842b40601bad0b9df0e4e'),\n",
       " 'searchURL': 'https://bison.usgs.gov/api/search.json?count=1&tsn=173600'}"
      ]
     },
     "metadata": {},
     "output_type": "display_data"
    },
    {
     "name": "stdout",
     "output_type": "stream",
     "text": [
      "<pymongo.results.UpdateResult object at 0x103636488>\n"
     ]
    },
    {
     "data": {
      "text/plain": [
       "{'originCollection': 'gapspecies',\n",
       " 'originID': ObjectId('59b842b40601bad0b9df0e4f'),\n",
       " 'searchURL': 'https://bison.usgs.gov/api/search.json?count=1&tsn=552462'}"
      ]
     },
     "metadata": {},
     "output_type": "display_data"
    },
    {
     "name": "stdout",
     "output_type": "stream",
     "text": [
      "<pymongo.results.UpdateResult object at 0x103638248>\n"
     ]
    },
    {
     "data": {
      "text/plain": [
       "{'originCollection': 'gapspecies',\n",
       " 'originID': ObjectId('59b842b50601bad0b9df0e50'),\n",
       " 'searchURL': 'https://bison.usgs.gov/api/search.json?count=1&tsn=177121'}"
      ]
     },
     "metadata": {},
     "output_type": "display_data"
    },
    {
     "name": "stdout",
     "output_type": "stream",
     "text": [
      "<pymongo.results.UpdateResult object at 0x103640088>\n"
     ]
    },
    {
     "data": {
      "text/plain": [
       "{'originCollection': 'gapspecies',\n",
       " 'originID': ObjectId('59b842b60601bad0b9df0e51'),\n",
       " 'searchURL': 'https://bison.usgs.gov/api/search.json?count=1&tsn=173531'}"
      ]
     },
     "metadata": {},
     "output_type": "display_data"
    },
    {
     "name": "stdout",
     "output_type": "stream",
     "text": [
      "<pymongo.results.UpdateResult object at 0x103647148>\n"
     ]
    },
    {
     "data": {
      "text/plain": [
       "{'originCollection': 'gapspecies',\n",
       " 'originID': ObjectId('59b842b70601bad0b9df0e52'),\n",
       " 'searchURL': 'https://bison.usgs.gov/api/search.json?count=1&tsn=554031'}"
      ]
     },
     "metadata": {},
     "output_type": "display_data"
    },
    {
     "name": "stdout",
     "output_type": "stream",
     "text": [
      "<pymongo.results.UpdateResult object at 0x10364b508>\n"
     ]
    },
    {
     "data": {
      "text/plain": [
       "{'originCollection': 'gapspecies',\n",
       " 'originID': ObjectId('59b842b70601bad0b9df0e53'),\n",
       " 'searchURL': 'https://bison.usgs.gov/api/search.json?count=1&tsn=554381'}"
      ]
     },
     "metadata": {},
     "output_type": "display_data"
    },
    {
     "name": "stdout",
     "output_type": "stream",
     "text": [
      "<pymongo.results.UpdateResult object at 0x10364d348>\n"
     ]
    },
    {
     "data": {
      "text/plain": [
       "{'originCollection': 'gapspecies',\n",
       " 'originID': ObjectId('59b842b70601bad0b9df0e54'),\n",
       " 'searchURL': 'https://bison.usgs.gov/api/search.json?count=1&tsn=178287'}"
      ]
     },
     "metadata": {},
     "output_type": "display_data"
    },
    {
     "name": "stdout",
     "output_type": "stream",
     "text": [
      "<pymongo.results.UpdateResult object at 0x103657248>\n"
     ]
    },
    {
     "data": {
      "text/plain": [
       "{'originCollection': 'gapspecies',\n",
       " 'originID': ObjectId('59b842b80601bad0b9df0e55'),\n",
       " 'searchURL': 'https://bison.usgs.gov/api/search.json?count=1&tsn=175368'}"
      ]
     },
     "metadata": {},
     "output_type": "display_data"
    },
    {
     "name": "stdout",
     "output_type": "stream",
     "text": [
      "<pymongo.results.UpdateResult object at 0x10365d188>\n"
     ]
    },
    {
     "data": {
      "text/plain": [
       "{'originCollection': 'gapspecies',\n",
       " 'originID': ObjectId('59b842b80601bad0b9df0e56'),\n",
       " 'searchURL': 'https://bison.usgs.gov/api/search.json?count=1&tsn=178921'}"
      ]
     },
     "metadata": {},
     "output_type": "display_data"
    },
    {
     "name": "stdout",
     "output_type": "stream",
     "text": [
      "<pymongo.results.UpdateResult object at 0x103663288>\n"
     ]
    },
    {
     "data": {
      "text/plain": [
       "{'originCollection': 'gapspecies',\n",
       " 'originID': ObjectId('59b842b90601bad0b9df0e57'),\n",
       " 'searchURL': 'https://bison.usgs.gov/api/search.json?count=1&tsn=176830'}"
      ]
     },
     "metadata": {},
     "output_type": "display_data"
    },
    {
     "name": "stdout",
     "output_type": "stream",
     "text": [
      "<pymongo.results.UpdateResult object at 0x103669188>\n"
     ]
    },
    {
     "data": {
      "text/plain": [
       "{'originCollection': 'gapspecies',\n",
       " 'originID': ObjectId('59b842b90601bad0b9df0e58'),\n",
       " 'searchURL': 'https://bison.usgs.gov/api/search.json?count=1&tsn=773511'}"
      ]
     },
     "metadata": {},
     "output_type": "display_data"
    },
    {
     "name": "stdout",
     "output_type": "stream",
     "text": [
      "<pymongo.results.UpdateResult object at 0x103670308>\n"
     ]
    },
    {
     "data": {
      "text/plain": [
       "{'originCollection': 'gapspecies',\n",
       " 'originID': ObjectId('59b842ba0601bad0b9df0e59'),\n",
       " 'searchURL': 'https://bison.usgs.gov/api/search.json?count=1&tsn=550249'}"
      ]
     },
     "metadata": {},
     "output_type": "display_data"
    },
    {
     "name": "stdout",
     "output_type": "stream",
     "text": [
      "<pymongo.results.UpdateResult object at 0x1036746c8>\n"
     ]
    },
    {
     "data": {
      "text/plain": [
       "{'originCollection': 'gapspecies',\n",
       " 'originID': ObjectId('59b842ba0601bad0b9df0e5a'),\n",
       " 'searchURL': 'https://bison.usgs.gov/api/search.json?count=1&tsn=173450'}"
      ]
     },
     "metadata": {},
     "output_type": "display_data"
    },
    {
     "name": "stdout",
     "output_type": "stream",
     "text": [
      "<pymongo.results.UpdateResult object at 0x103676448>\n"
     ]
    },
    {
     "data": {
      "text/plain": [
       "{'originCollection': 'gapspecies',\n",
       " 'originID': ObjectId('59b842ba0601bad0b9df0e5b'),\n",
       " 'searchURL': 'https://bison.usgs.gov/api/search.json?count=1&tsn=178511'}"
      ]
     },
     "metadata": {},
     "output_type": "display_data"
    },
    {
     "name": "stdout",
     "output_type": "stream",
     "text": [
      "<pymongo.results.UpdateResult object at 0x1036802c8>\n"
     ]
    },
    {
     "data": {
      "text/plain": [
       "{'originCollection': 'gapspecies',\n",
       " 'originID': ObjectId('59b842ba0601bad0b9df0e5c'),\n",
       " 'searchURL': 'https://bison.usgs.gov/api/search.json?count=1&tsn=173511'}"
      ]
     },
     "metadata": {},
     "output_type": "display_data"
    },
    {
     "name": "stdout",
     "output_type": "stream",
     "text": [
      "<pymongo.results.UpdateResult object at 0x1036820c8>\n"
     ]
    },
    {
     "data": {
      "text/plain": [
       "{'originCollection': 'gapspecies',\n",
       " 'originID': ObjectId('59b842bb0601bad0b9df0e5d'),\n",
       " 'searchURL': 'https://bison.usgs.gov/api/search.json?count=1&tsn=550237'}"
      ]
     },
     "metadata": {},
     "output_type": "display_data"
    },
    {
     "name": "stdout",
     "output_type": "stream",
     "text": [
      "<pymongo.results.UpdateResult object at 0x10368e088>\n"
     ]
    },
    {
     "data": {
      "text/plain": [
       "{'originCollection': 'gapspecies',\n",
       " 'originID': ObjectId('59b842bb0601bad0b9df0e5e'),\n",
       " 'searchURL': 'https://bison.usgs.gov/api/search.json?count=1&tsn=180133'}"
      ]
     },
     "metadata": {},
     "output_type": "display_data"
    },
    {
     "name": "stdout",
     "output_type": "stream",
     "text": [
      "<pymongo.results.UpdateResult object at 0x103692388>\n"
     ]
    },
    {
     "data": {
      "text/plain": [
       "{'originCollection': 'gapspecies',\n",
       " 'originID': ObjectId('59b842bb0601bad0b9df0e5f'),\n",
       " 'searchURL': 'https://bison.usgs.gov/api/search.json?count=1&type=scientific_name&species=Aplodontia rufa rufa'}"
      ]
     },
     "metadata": {},
     "output_type": "display_data"
    },
    {
     "name": "stdout",
     "output_type": "stream",
     "text": [
      "<pymongo.results.UpdateResult object at 0x103699208>\n"
     ]
    },
    {
     "data": {
      "text/plain": [
       "{'originCollection': 'gapspecies',\n",
       " 'originID': ObjectId('59b842bb0601bad0b9df0e60'),\n",
       " 'searchURL': 'https://bison.usgs.gov/api/search.json?count=1&tsn=178212'}"
      ]
     },
     "metadata": {},
     "output_type": "display_data"
    },
    {
     "name": "stdout",
     "output_type": "stream",
     "text": [
      "<pymongo.results.UpdateResult object at 0x10369f048>\n"
     ]
    },
    {
     "data": {
      "text/plain": [
       "{'originCollection': 'gapspecies',\n",
       " 'originID': ObjectId('59b842bb0601bad0b9df0e61'),\n",
       " 'searchURL': 'https://bison.usgs.gov/api/search.json?count=1&tsn=173743'}"
      ]
     },
     "metadata": {},
     "output_type": "display_data"
    },
    {
     "name": "stdout",
     "output_type": "stream",
     "text": [
      "<pymongo.results.UpdateResult object at 0x1036a4748>\n"
     ]
    },
    {
     "data": {
      "text/plain": [
       "{'originCollection': 'gapspecies',\n",
       " 'originID': ObjectId('59b842bc0601bad0b9df0e62'),\n",
       " 'searchURL': 'https://bison.usgs.gov/api/search.json?count=1&tsn=176894'}"
      ]
     },
     "metadata": {},
     "output_type": "display_data"
    },
    {
     "name": "stdout",
     "output_type": "stream",
     "text": [
      "<pymongo.results.UpdateResult object at 0x1036ab1c8>\n"
     ]
    },
    {
     "data": {
      "text/plain": [
       "{'originCollection': 'gapspecies',\n",
       " 'originID': ObjectId('59b842bc0601bad0b9df0e63'),\n",
       " 'searchURL': 'https://bison.usgs.gov/api/search.json?count=1&tsn=175841'}"
      ]
     },
     "metadata": {},
     "output_type": "display_data"
    },
    {
     "name": "stdout",
     "output_type": "stream",
     "text": [
      "<pymongo.results.UpdateResult object at 0x1036b0188>\n"
     ]
    },
    {
     "data": {
      "text/plain": [
       "{'originCollection': 'gapspecies',\n",
       " 'originID': ObjectId('59b842bc0601bad0b9df0e64'),\n",
       " 'searchURL': 'https://bison.usgs.gov/api/search.json?count=1&tsn=175070'}"
      ]
     },
     "metadata": {},
     "output_type": "display_data"
    },
    {
     "name": "stdout",
     "output_type": "stream",
     "text": [
      "<pymongo.results.UpdateResult object at 0x1036b70c8>\n"
     ]
    },
    {
     "data": {
      "text/plain": [
       "{'originCollection': 'gapspecies',\n",
       " 'originID': ObjectId('59b842bc0601bad0b9df0e65'),\n",
       " 'searchURL': 'https://bison.usgs.gov/api/search.json?count=1&tsn=176177'}"
      ]
     },
     "metadata": {},
     "output_type": "display_data"
    },
    {
     "name": "stdout",
     "output_type": "stream",
     "text": [
      "<pymongo.results.UpdateResult object at 0x1036bb208>\n"
     ]
    },
    {
     "data": {
      "text/plain": [
       "{'originCollection': 'gapspecies',\n",
       " 'originID': ObjectId('59b842bc0601bad0b9df0e66'),\n",
       " 'searchURL': 'https://bison.usgs.gov/api/search.json?count=1&tsn=178344'}"
      ]
     },
     "metadata": {},
     "output_type": "display_data"
    },
    {
     "name": "stdout",
     "output_type": "stream",
     "text": [
      "<pymongo.results.UpdateResult object at 0x1036c4088>\n"
     ]
    },
    {
     "data": {
      "text/plain": [
       "{'originCollection': 'gapspecies',\n",
       " 'originID': ObjectId('59b842bd0601bad0b9df0e67'),\n",
       " 'searchURL': 'https://bison.usgs.gov/api/search.json?count=1&tsn=177988'}"
      ]
     },
     "metadata": {},
     "output_type": "display_data"
    },
    {
     "name": "stdout",
     "output_type": "stream",
     "text": [
      "<pymongo.results.UpdateResult object at 0x1036c9548>\n"
     ]
    },
    {
     "data": {
      "text/plain": [
       "{'originCollection': 'gapspecies',\n",
       " 'originID': ObjectId('59b842bd0601bad0b9df0e68'),\n",
       " 'searchURL': 'https://bison.usgs.gov/api/search.json?count=1&tsn=174763'}"
      ]
     },
     "metadata": {},
     "output_type": "display_data"
    },
    {
     "name": "stdout",
     "output_type": "stream",
     "text": [
      "<pymongo.results.UpdateResult object at 0x1036ca1c8>\n"
     ]
    },
    {
     "data": {
      "text/plain": [
       "{'originCollection': 'gapspecies',\n",
       " 'originID': ObjectId('59b842bd0601bad0b9df0e69'),\n",
       " 'searchURL': 'https://bison.usgs.gov/api/search.json?count=1&tsn=176686'}"
      ]
     },
     "metadata": {},
     "output_type": "display_data"
    },
    {
     "name": "stdout",
     "output_type": "stream",
     "text": [
      "<pymongo.results.UpdateResult object at 0x1036d3408>\n"
     ]
    },
    {
     "data": {
      "text/plain": [
       "{'originCollection': 'gapspecies',\n",
       " 'originID': ObjectId('59b842bd0601bad0b9df0e6a'),\n",
       " 'searchURL': 'https://bison.usgs.gov/api/search.json?count=1&tsn=178972'}"
      ]
     },
     "metadata": {},
     "output_type": "display_data"
    },
    {
     "name": "stdout",
     "output_type": "stream",
     "text": [
      "<pymongo.results.UpdateResult object at 0x1036db1c8>\n"
     ]
    },
    {
     "data": {
      "text/plain": [
       "{'originCollection': 'gapspecies',\n",
       " 'originID': ObjectId('59b842bd0601bad0b9df0e6b'),\n",
       " 'searchURL': 'https://bison.usgs.gov/api/search.json?count=1&tsn=177162'}"
      ]
     },
     "metadata": {},
     "output_type": "display_data"
    },
    {
     "name": "stdout",
     "output_type": "stream",
     "text": [
      "<pymongo.results.UpdateResult object at 0x1036e0548>\n"
     ]
    },
    {
     "data": {
      "text/plain": [
       "{'originCollection': 'gapspecies',\n",
       " 'originID': ObjectId('59b842be0601bad0b9df0e6c'),\n",
       " 'searchURL': 'https://bison.usgs.gov/api/search.json?count=1&tsn=773521'}"
      ]
     },
     "metadata": {},
     "output_type": "display_data"
    },
    {
     "name": "stdout",
     "output_type": "stream",
     "text": [
      "<pymongo.results.UpdateResult object at 0x1036e61c8>\n"
     ]
    },
    {
     "data": {
      "text/plain": [
       "{'originCollection': 'gapspecies',\n",
       " 'originID': ObjectId('59b842be0601bad0b9df0e6d'),\n",
       " 'searchURL': 'https://bison.usgs.gov/api/search.json?count=1&tsn=773532'}"
      ]
     },
     "metadata": {},
     "output_type": "display_data"
    },
    {
     "name": "stdout",
     "output_type": "stream",
     "text": [
      "<pymongo.results.UpdateResult object at 0x1036eb048>\n"
     ]
    },
    {
     "data": {
      "text/plain": [
       "{'originCollection': 'gapspecies',\n",
       " 'originID': ObjectId('59b842be0601bad0b9df0e6e'),\n",
       " 'searchURL': 'https://bison.usgs.gov/api/search.json?count=1&tsn=178886'}"
      ]
     },
     "metadata": {},
     "output_type": "display_data"
    },
    {
     "name": "stdout",
     "output_type": "stream",
     "text": [
      "<pymongo.results.UpdateResult object at 0x1036f1308>\n"
     ]
    },
    {
     "data": {
      "text/plain": [
       "{'originCollection': 'gapspecies',\n",
       " 'originID': ObjectId('59b842be0601bad0b9df0e6f'),\n",
       " 'searchURL': 'https://bison.usgs.gov/api/search.json?count=1&tsn=176610'}"
      ]
     },
     "metadata": {},
     "output_type": "display_data"
    },
    {
     "name": "stdout",
     "output_type": "stream",
     "text": [
      "<pymongo.results.UpdateResult object at 0x1036f9188>\n"
     ]
    },
    {
     "data": {
      "text/plain": [
       "{'originCollection': 'gapspecies',\n",
       " 'originID': ObjectId('59b842be0601bad0b9df0e70'),\n",
       " 'searchURL': 'https://bison.usgs.gov/api/search.json?count=1&tsn=175149'}"
      ]
     },
     "metadata": {},
     "output_type": "display_data"
    },
    {
     "name": "stdout",
     "output_type": "stream",
     "text": [
      "<pymongo.results.UpdateResult object at 0x1036fd0c8>\n"
     ]
    },
    {
     "data": {
      "text/plain": [
       "{'originCollection': 'gapspecies',\n",
       " 'originID': ObjectId('59b842bf0601bad0b9df0e71'),\n",
       " 'searchURL': 'https://bison.usgs.gov/api/search.json?count=1&tsn=173568'}"
      ]
     },
     "metadata": {},
     "output_type": "display_data"
    },
    {
     "name": "stdout",
     "output_type": "stream",
     "text": [
      "<pymongo.results.UpdateResult object at 0x1037025c8>\n"
     ]
    },
    {
     "data": {
      "text/plain": [
       "{'originCollection': 'gapspecies',\n",
       " 'originID': ObjectId('59b842bf0601bad0b9df0e72'),\n",
       " 'searchURL': 'https://bison.usgs.gov/api/search.json?count=1&tsn=176510'}"
      ]
     },
     "metadata": {},
     "output_type": "display_data"
    },
    {
     "name": "stdout",
     "output_type": "stream",
     "text": [
      "<pymongo.results.UpdateResult object at 0x103706748>\n"
     ]
    },
    {
     "data": {
      "text/plain": [
       "{'originCollection': 'gapspecies',\n",
       " 'originID': ObjectId('59b842bf0601bad0b9df0e73'),\n",
       " 'searchURL': 'https://bison.usgs.gov/api/search.json?count=1&tsn=177946'}"
      ]
     },
     "metadata": {},
     "output_type": "display_data"
    },
    {
     "name": "stdout",
     "output_type": "stream",
     "text": [
      "<pymongo.results.UpdateResult object at 0x10370d1c8>\n"
     ]
    },
    {
     "data": {
      "text/plain": [
       "{'originCollection': 'gapspecies',\n",
       " 'originID': ObjectId('59b842bf0601bad0b9df0e74'),\n",
       " 'searchURL': 'https://bison.usgs.gov/api/search.json?count=1&tsn=173678'}"
      ]
     },
     "metadata": {},
     "output_type": "display_data"
    },
    {
     "name": "stdout",
     "output_type": "stream",
     "text": [
      "<pymongo.results.UpdateResult object at 0x1037100c8>\n"
     ]
    },
    {
     "data": {
      "text/plain": [
       "{'originCollection': 'gapspecies',\n",
       " 'originID': ObjectId('59b842c00601bad0b9df0e75'),\n",
       " 'searchURL': 'https://bison.usgs.gov/api/search.json?count=1&tsn=179215'}"
      ]
     },
     "metadata": {},
     "output_type": "display_data"
    },
    {
     "name": "stdout",
     "output_type": "stream",
     "text": [
      "<pymongo.results.UpdateResult object at 0x10371b048>\n"
     ]
    },
    {
     "data": {
      "text/plain": [
       "{'originCollection': 'gapspecies',\n",
       " 'originID': ObjectId('59b842c00601bad0b9df0e76'),\n",
       " 'searchURL': 'https://bison.usgs.gov/api/search.json?count=1&tsn=178014'}"
      ]
     },
     "metadata": {},
     "output_type": "display_data"
    },
    {
     "name": "stdout",
     "output_type": "stream",
     "text": [
      "<pymongo.results.UpdateResult object at 0x103722588>\n"
     ]
    },
    {
     "data": {
      "text/plain": [
       "{'originCollection': 'gapspecies',\n",
       " 'originID': ObjectId('59b842c00601bad0b9df0e77'),\n",
       " 'searchURL': 'https://bison.usgs.gov/api/search.json?count=1&tsn=177836'}"
      ]
     },
     "metadata": {},
     "output_type": "display_data"
    },
    {
     "name": "stdout",
     "output_type": "stream",
     "text": [
      "<pymongo.results.UpdateResult object at 0x103729108>\n"
     ]
    },
    {
     "data": {
      "text/plain": [
       "{'originCollection': 'gapspecies',\n",
       " 'originID': ObjectId('59b842c00601bad0b9df0e78'),\n",
       " 'searchURL': 'https://bison.usgs.gov/api/search.json?count=1&tsn=179693'}"
      ]
     },
     "metadata": {},
     "output_type": "display_data"
    },
    {
     "name": "stdout",
     "output_type": "stream",
     "text": [
      "<pymongo.results.UpdateResult object at 0x10372c608>\n"
     ]
    },
    {
     "data": {
      "text/plain": [
       "{'originCollection': 'gapspecies',\n",
       " 'originID': ObjectId('59b842c10601bad0b9df0e79'),\n",
       " 'searchURL': 'https://bison.usgs.gov/api/search.json?count=1&tsn=179743'}"
      ]
     },
     "metadata": {},
     "output_type": "display_data"
    },
    {
     "name": "stdout",
     "output_type": "stream",
     "text": [
      "<pymongo.results.UpdateResult object at 0x10372e2c8>\n"
     ]
    },
    {
     "data": {
      "text/plain": [
       "{'originCollection': 'gapspecies',\n",
       " 'originID': ObjectId('59b842c10601bad0b9df0e7a'),\n",
       " 'searchURL': 'https://bison.usgs.gov/api/search.json?count=1&tsn=178292'}"
      ]
     },
     "metadata": {},
     "output_type": "display_data"
    },
    {
     "name": "stdout",
     "output_type": "stream",
     "text": [
      "<pymongo.results.UpdateResult object at 0x1037390c8>\n"
     ]
    },
    {
     "data": {
      "text/plain": [
       "{'originCollection': 'gapspecies',\n",
       " 'originID': ObjectId('59b842c10601bad0b9df0e7b'),\n",
       " 'searchURL': 'https://bison.usgs.gov/api/search.json?count=1&tsn=175407'}"
      ]
     },
     "metadata": {},
     "output_type": "display_data"
    },
    {
     "name": "stdout",
     "output_type": "stream",
     "text": [
      "<pymongo.results.UpdateResult object at 0x10373c348>\n"
     ]
    },
    {
     "data": {
      "text/plain": [
       "{'originCollection': 'gapspecies',\n",
       " 'originID': ObjectId('59b842c20601bad0b9df0e7c'),\n",
       " 'searchURL': 'https://bison.usgs.gov/api/search.json?count=1&tsn=175073'}"
      ]
     },
     "metadata": {},
     "output_type": "display_data"
    },
    {
     "name": "stdout",
     "output_type": "stream",
     "text": [
      "<pymongo.results.UpdateResult object at 0x1037471c8>\n"
     ]
    },
    {
     "data": {
      "text/plain": [
       "{'originCollection': 'gapspecies',\n",
       " 'originID': ObjectId('59b842c20601bad0b9df0e7d'),\n",
       " 'searchURL': 'https://bison.usgs.gov/api/search.json?count=1&tsn=180703'}"
      ]
     },
     "metadata": {},
     "output_type": "display_data"
    },
    {
     "name": "stdout",
     "output_type": "stream",
     "text": [
      "<pymongo.results.UpdateResult object at 0x10374b3c8>\n"
     ]
    },
    {
     "data": {
      "text/plain": [
       "{'originCollection': 'gapspecies',\n",
       " 'originID': ObjectId('59b842c20601bad0b9df0e7e'),\n",
       " 'searchURL': 'https://bison.usgs.gov/api/search.json?count=1&tsn=173622'}"
      ]
     },
     "metadata": {},
     "output_type": "display_data"
    },
    {
     "name": "stdout",
     "output_type": "stream",
     "text": [
      "<pymongo.results.UpdateResult object at 0x1037541c8>\n"
     ]
    },
    {
     "data": {
      "text/plain": [
       "{'originCollection': 'gapspecies',\n",
       " 'originID': ObjectId('59b842c30601bad0b9df0e7f'),\n",
       " 'searchURL': 'https://bison.usgs.gov/api/search.json?count=1&tsn=179824'}"
      ]
     },
     "metadata": {},
     "output_type": "display_data"
    },
    {
     "name": "stdout",
     "output_type": "stream",
     "text": [
      "<pymongo.results.UpdateResult object at 0x103759088>\n"
     ]
    },
    {
     "data": {
      "text/plain": [
       "{'originCollection': 'gapspecies',\n",
       " 'originID': ObjectId('59b842c30601bad0b9df0e80'),\n",
       " 'searchURL': 'https://bison.usgs.gov/api/search.json?count=1&tsn=176808'}"
      ]
     },
     "metadata": {},
     "output_type": "display_data"
    },
    {
     "name": "stdout",
     "output_type": "stream",
     "text": [
      "<pymongo.results.UpdateResult object at 0x10375d848>\n"
     ]
    },
    {
     "data": {
      "text/plain": [
       "{'originCollection': 'gapspecies',\n",
       " 'originID': ObjectId('59b842c40601bad0b9df0e81'),\n",
       " 'searchURL': 'https://bison.usgs.gov/api/search.json?count=1&tsn=174285'}"
      ]
     },
     "metadata": {},
     "output_type": "display_data"
    },
    {
     "name": "stdout",
     "output_type": "stream",
     "text": [
      "<pymongo.results.UpdateResult object at 0x1037642c8>\n"
     ]
    },
    {
     "data": {
      "text/plain": [
       "{'originCollection': 'gapspecies',\n",
       " 'originID': ObjectId('59b842c40601bad0b9df0e82'),\n",
       " 'searchURL': 'https://bison.usgs.gov/api/search.json?count=1&tsn=174842'}"
      ]
     },
     "metadata": {},
     "output_type": "display_data"
    },
    {
     "name": "stdout",
     "output_type": "stream",
     "text": [
      "<pymongo.results.UpdateResult object at 0x103768088>\n"
     ]
    },
    {
     "data": {
      "text/plain": [
       "{'originCollection': 'gapspecies',\n",
       " 'originID': ObjectId('59b842c40601bad0b9df0e83'),\n",
       " 'searchURL': 'https://bison.usgs.gov/api/search.json?count=1&tsn=179932'}"
      ]
     },
     "metadata": {},
     "output_type": "display_data"
    },
    {
     "name": "stdout",
     "output_type": "stream",
     "text": [
      "<pymongo.results.UpdateResult object at 0x10376e808>\n"
     ]
    },
    {
     "data": {
      "text/plain": [
       "{'originCollection': 'gapspecies',\n",
       " 'originID': ObjectId('59b842c50601bad0b9df0e84'),\n",
       " 'searchURL': 'https://bison.usgs.gov/api/search.json?count=1&tsn=668671'}"
      ]
     },
     "metadata": {},
     "output_type": "display_data"
    },
    {
     "name": "stdout",
     "output_type": "stream",
     "text": [
      "<pymongo.results.UpdateResult object at 0x103776108>\n"
     ]
    },
    {
     "data": {
      "text/plain": [
       "{'originCollection': 'gapspecies',\n",
       " 'originID': ObjectId('59b842c50601bad0b9df0e85'),\n",
       " 'searchURL': 'https://bison.usgs.gov/api/search.json?count=1&tsn=173789'}"
      ]
     },
     "metadata": {},
     "output_type": "display_data"
    },
    {
     "name": "stdout",
     "output_type": "stream",
     "text": [
      "<pymongo.results.UpdateResult object at 0x10377a648>\n"
     ]
    },
    {
     "data": {
      "text/plain": [
       "{'originCollection': 'gapspecies',\n",
       " 'originID': ObjectId('59b842c60601bad0b9df0e86'),\n",
       " 'searchURL': 'https://bison.usgs.gov/api/search.json?count=1&tsn=173949'}"
      ]
     },
     "metadata": {},
     "output_type": "display_data"
    },
    {
     "name": "stdout",
     "output_type": "stream",
     "text": [
      "<pymongo.results.UpdateResult object at 0x103780248>\n"
     ]
    },
    {
     "data": {
      "text/plain": [
       "{'originCollection': 'gapspecies',\n",
       " 'originID': ObjectId('59b842c60601bad0b9df0e87'),\n",
       " 'searchURL': 'https://bison.usgs.gov/api/search.json?count=1&tsn=174022'}"
      ]
     },
     "metadata": {},
     "output_type": "display_data"
    },
    {
     "name": "stdout",
     "output_type": "stream",
     "text": [
      "<pymongo.results.UpdateResult object at 0x103786088>\n"
     ]
    },
    {
     "data": {
      "text/plain": [
       "{'originCollection': 'gapspecies',\n",
       " 'originID': ObjectId('59b842c70601bad0b9df0e88'),\n",
       " 'searchURL': 'https://bison.usgs.gov/api/search.json?count=1&tsn=551765'}"
      ]
     },
     "metadata": {},
     "output_type": "display_data"
    },
    {
     "name": "stdout",
     "output_type": "stream",
     "text": [
      "<pymongo.results.UpdateResult object at 0x10378b288>\n"
     ]
    },
    {
     "data": {
      "text/plain": [
       "{'originCollection': 'gapspecies',\n",
       " 'originID': ObjectId('59b842c70601bad0b9df0e89'),\n",
       " 'searchURL': 'https://bison.usgs.gov/api/search.json?count=1&tsn=174173'}"
      ]
     },
     "metadata": {},
     "output_type": "display_data"
    },
    {
     "name": "stdout",
     "output_type": "stream",
     "text": [
      "<pymongo.results.UpdateResult object at 0x10378f7c8>\n"
     ]
    },
    {
     "data": {
      "text/plain": [
       "{'originCollection': 'gapspecies',\n",
       " 'originID': ObjectId('59b842c80601bad0b9df0e8a'),\n",
       " 'searchURL': 'https://bison.usgs.gov/api/search.json?count=1&tsn=208680'}"
      ]
     },
     "metadata": {},
     "output_type": "display_data"
    },
    {
     "name": "stdout",
     "output_type": "stream",
     "text": [
      "<pymongo.results.UpdateResult object at 0x103791708>\n"
     ]
    },
    {
     "data": {
      "text/plain": [
       "{'originCollection': 'gapspecies',\n",
       " 'originID': ObjectId('59b842c80601bad0b9df0e8b'),\n",
       " 'searchURL': 'https://bison.usgs.gov/api/search.json?count=1&tsn=174017'}"
      ]
     },
     "metadata": {},
     "output_type": "display_data"
    },
    {
     "name": "stdout",
     "output_type": "stream",
     "text": [
      "<pymongo.results.UpdateResult object at 0x10379b448>\n"
     ]
    },
    {
     "data": {
      "text/plain": [
       "{'originCollection': 'gapspecies',\n",
       " 'originID': ObjectId('59b842c90601bad0b9df0e8c'),\n",
       " 'searchURL': 'https://bison.usgs.gov/api/search.json?count=1&tsn=173921'}"
      ]
     },
     "metadata": {},
     "output_type": "display_data"
    },
    {
     "name": "stdout",
     "output_type": "stream",
     "text": [
      "<pymongo.results.UpdateResult object at 0x1037a3748>\n"
     ]
    },
    {
     "data": {
      "text/plain": [
       "{'originCollection': 'gapspecies',\n",
       " 'originID': ObjectId('59b842c90601bad0b9df0e8d'),\n",
       " 'searchURL': 'https://bison.usgs.gov/api/search.json?count=1&tsn=180190'}"
      ]
     },
     "metadata": {},
     "output_type": "display_data"
    },
    {
     "name": "stdout",
     "output_type": "stream",
     "text": [
      "<pymongo.results.UpdateResult object at 0x1037a91c8>\n"
     ]
    },
    {
     "data": {
      "text/plain": [
       "{'originCollection': 'gapspecies',\n",
       " 'originID': ObjectId('59b842c90601bad0b9df0e8e'),\n",
       " 'searchURL': 'https://bison.usgs.gov/api/search.json?count=1&tsn=180562'}"
      ]
     },
     "metadata": {},
     "output_type": "display_data"
    },
    {
     "name": "stdout",
     "output_type": "stream",
     "text": [
      "<pymongo.results.UpdateResult object at 0x1037ad1c8>\n"
     ]
    },
    {
     "data": {
      "text/plain": [
       "{'originCollection': 'gapspecies',\n",
       " 'originID': ObjectId('59b842ca0601bad0b9df0e8f'),\n",
       " 'searchURL': 'https://bison.usgs.gov/api/search.json?count=1&tsn=173813'}"
      ]
     },
     "metadata": {},
     "output_type": "display_data"
    },
    {
     "name": "stdout",
     "output_type": "stream",
     "text": [
      "<pymongo.results.UpdateResult object at 0x1037b40c8>\n"
     ]
    },
    {
     "data": {
      "text/plain": [
       "{'originCollection': 'gapspecies',\n",
       " 'originID': ObjectId('59b842ca0601bad0b9df0e90'),\n",
       " 'searchURL': 'https://bison.usgs.gov/api/search.json?count=1&tsn=178186'}"
      ]
     },
     "metadata": {},
     "output_type": "display_data"
    },
    {
     "name": "stdout",
     "output_type": "stream",
     "text": [
      "<pymongo.results.UpdateResult object at 0x1037b9088>\n"
     ]
    },
    {
     "data": {
      "text/plain": [
       "{'originCollection': 'gapspecies',\n",
       " 'originID': ObjectId('59b842cb0601bad0b9df0e91'),\n",
       " 'searchURL': 'https://bison.usgs.gov/api/search.json?count=1&tsn=175359'}"
      ]
     },
     "metadata": {},
     "output_type": "display_data"
    },
    {
     "name": "stdout",
     "output_type": "stream",
     "text": [
      "<pymongo.results.UpdateResult object at 0x1037c14c8>\n"
     ]
    },
    {
     "data": {
      "text/plain": [
       "{'originCollection': 'gapspecies',\n",
       " 'originID': ObjectId('59b842cb0601bad0b9df0e92'),\n",
       " 'searchURL': 'https://bison.usgs.gov/api/search.json?count=1&tsn=180551'}"
      ]
     },
     "metadata": {},
     "output_type": "display_data"
    },
    {
     "name": "stdout",
     "output_type": "stream",
     "text": [
      "<pymongo.results.UpdateResult object at 0x1037c7088>\n"
     ]
    },
    {
     "data": {
      "text/plain": [
       "{'originCollection': 'gapspecies',\n",
       " 'originID': ObjectId('59b842cc0601bad0b9df0e93'),\n",
       " 'searchURL': 'https://bison.usgs.gov/api/search.json?count=1&tsn=180295'}"
      ]
     },
     "metadata": {},
     "output_type": "display_data"
    },
    {
     "name": "stdout",
     "output_type": "stream",
     "text": [
      "<pymongo.results.UpdateResult object at 0x1037cd588>\n"
     ]
    },
    {
     "data": {
      "text/plain": [
       "{'originCollection': 'gapspecies',\n",
       " 'originID': ObjectId('59b842cc0601bad0b9df0e94'),\n",
       " 'searchURL': 'https://bison.usgs.gov/api/search.json?count=1&tsn=550251'}"
      ]
     },
     "metadata": {},
     "output_type": "display_data"
    },
    {
     "name": "stdout",
     "output_type": "stream",
     "text": [
      "<pymongo.results.UpdateResult object at 0x1037d30c8>\n"
     ]
    },
    {
     "data": {
      "text/plain": [
       "{'originCollection': 'gapspecies',\n",
       " 'originID': ObjectId('59b842cd0601bad0b9df0e95'),\n",
       " 'searchURL': 'https://bison.usgs.gov/api/search.json?count=1&tsn=180722'}"
      ]
     },
     "metadata": {},
     "output_type": "display_data"
    },
    {
     "name": "stdout",
     "output_type": "stream",
     "text": [
      "<pymongo.results.UpdateResult object at 0x1037d70c8>\n"
     ]
    },
    {
     "data": {
      "text/plain": [
       "{'originCollection': 'gapspecies',\n",
       " 'originID': ObjectId('59b842cd0601bad0b9df0e96'),\n",
       " 'searchURL': 'https://bison.usgs.gov/api/search.json?count=1&tsn=180684'}"
      ]
     },
     "metadata": {},
     "output_type": "display_data"
    },
    {
     "name": "stdout",
     "output_type": "stream",
     "text": [
      "<pymongo.results.UpdateResult object at 0x1037d7e08>\n"
     ]
    },
    {
     "data": {
      "text/plain": [
       "{'originCollection': 'gapspecies',\n",
       " 'originID': ObjectId('59b842ce0601bad0b9df0e97'),\n",
       " 'searchURL': 'https://bison.usgs.gov/api/search.json?count=1&tsn=668245'}"
      ]
     },
     "metadata": {},
     "output_type": "display_data"
    },
    {
     "name": "stdout",
     "output_type": "stream",
     "text": [
      "<pymongo.results.UpdateResult object at 0x1037e41c8>\n"
     ]
    },
    {
     "data": {
      "text/plain": [
       "{'originCollection': 'gapspecies',\n",
       " 'originID': ObjectId('59b842ce0601bad0b9df0e98'),\n",
       " 'searchURL': 'https://bison.usgs.gov/api/search.json?count=1&tsn=174832'}"
      ]
     },
     "metadata": {},
     "output_type": "display_data"
    },
    {
     "name": "stdout",
     "output_type": "stream",
     "text": [
      "<pymongo.results.UpdateResult object at 0x1037e8288>\n"
     ]
    },
    {
     "data": {
      "text/plain": [
       "{'originCollection': 'gapspecies',\n",
       " 'originID': ObjectId('59b842ce0601bad0b9df0e99'),\n",
       " 'searchURL': 'https://bison.usgs.gov/api/search.json?count=1&tsn=174856'}"
      ]
     },
     "metadata": {},
     "output_type": "display_data"
    },
    {
     "name": "stdout",
     "output_type": "stream",
     "text": [
      "<pymongo.results.UpdateResult object at 0x1037f10c8>\n"
     ]
    },
    {
     "data": {
      "text/plain": [
       "{'originCollection': 'gapspecies',\n",
       " 'originID': ObjectId('59b842cf0601bad0b9df0e9a'),\n",
       " 'searchURL': 'https://bison.usgs.gov/api/search.json?count=1&tsn=178352'}"
      ]
     },
     "metadata": {},
     "output_type": "display_data"
    },
    {
     "name": "stdout",
     "output_type": "stream",
     "text": [
      "<pymongo.results.UpdateResult object at 0x1037f66c8>\n"
     ]
    },
    {
     "data": {
      "text/plain": [
       "{'originCollection': 'gapspecies',\n",
       " 'originID': ObjectId('59b842cf0601bad0b9df0e9b'),\n",
       " 'searchURL': 'https://bison.usgs.gov/api/search.json?count=1&tsn=558842'}"
      ]
     },
     "metadata": {},
     "output_type": "display_data"
    },
    {
     "name": "stdout",
     "output_type": "stream",
     "text": [
      "<pymongo.results.UpdateResult object at 0x1037f6f88>\n"
     ]
    },
    {
     "data": {
      "text/plain": [
       "{'originCollection': 'gapspecies',\n",
       " 'originID': ObjectId('59b842d00601bad0b9df0e9c'),\n",
       " 'searchURL': 'https://bison.usgs.gov/api/search.json?count=1&tsn=676899'}"
      ]
     },
     "metadata": {},
     "output_type": "display_data"
    },
    {
     "name": "stdout",
     "output_type": "stream",
     "text": [
      "<pymongo.results.UpdateResult object at 0x103803148>\n"
     ]
    },
    {
     "data": {
      "text/plain": [
       "{'originCollection': 'gapspecies',\n",
       " 'originID': ObjectId('59b842d00601bad0b9df0e9d'),\n",
       " 'searchURL': 'https://bison.usgs.gov/api/search.json?count=1&tsn=174228'}"
      ]
     },
     "metadata": {},
     "output_type": "display_data"
    },
    {
     "name": "stdout",
     "output_type": "stream",
     "text": [
      "<pymongo.results.UpdateResult object at 0x103809688>\n"
     ]
    },
    {
     "data": {
      "text/plain": [
       "{'originCollection': 'gapspecies',\n",
       " 'originID': ObjectId('59b842d10601bad0b9df0e9e'),\n",
       " 'searchURL': 'https://bison.usgs.gov/api/search.json?count=1&tsn=773516'}"
      ]
     },
     "metadata": {},
     "output_type": "display_data"
    },
    {
     "name": "stdout",
     "output_type": "stream",
     "text": [
      "<pymongo.results.UpdateResult object at 0x10380f148>\n"
     ]
    },
    {
     "data": {
      "text/plain": [
       "{'originCollection': 'gapspecies',\n",
       " 'originID': ObjectId('59b842d10601bad0b9df0e9f'),\n",
       " 'searchURL': 'https://bison.usgs.gov/api/search.json?count=1&tsn=174083'}"
      ]
     },
     "metadata": {},
     "output_type": "display_data"
    },
    {
     "name": "stdout",
     "output_type": "stream",
     "text": [
      "<pymongo.results.UpdateResult object at 0x103814048>\n"
     ]
    },
    {
     "data": {
      "text/plain": [
       "{'originCollection': 'gapspecies',\n",
       " 'originID': ObjectId('59b842d20601bad0b9df0ea0'),\n",
       " 'searchURL': 'https://bison.usgs.gov/api/search.json?count=1&tsn=174106'}"
      ]
     },
     "metadata": {},
     "output_type": "display_data"
    },
    {
     "name": "stdout",
     "output_type": "stream",
     "text": [
      "<pymongo.results.UpdateResult object at 0x10381a208>\n"
     ]
    },
    {
     "data": {
      "text/plain": [
       "{'originCollection': 'gapspecies',\n",
       " 'originID': ObjectId('59b842d30601bad0b9df0ea1'),\n",
       " 'searchURL': 'https://bison.usgs.gov/api/search.json?count=1&tsn=775105'}"
      ]
     },
     "metadata": {},
     "output_type": "display_data"
    },
    {
     "name": "stdout",
     "output_type": "stream",
     "text": [
      "<pymongo.results.UpdateResult object at 0x10381d608>\n"
     ]
    },
    {
     "data": {
      "text/plain": [
       "{'originCollection': 'gapspecies',\n",
       " 'originID': ObjectId('59b842d40601bad0b9df0ea2'),\n",
       " 'searchURL': 'https://bison.usgs.gov/api/search.json?count=1&tsn=173721'}"
      ]
     },
     "metadata": {},
     "output_type": "display_data"
    },
    {
     "name": "stdout",
     "output_type": "stream",
     "text": [
      "<pymongo.results.UpdateResult object at 0x103827188>\n"
     ]
    },
    {
     "data": {
      "text/plain": [
       "{'originCollection': 'gapspecies',\n",
       " 'originID': ObjectId('59b842d40601bad0b9df0ea3'),\n",
       " 'searchURL': 'https://bison.usgs.gov/api/search.json?count=1&tsn=554267'}"
      ]
     },
     "metadata": {},
     "output_type": "display_data"
    },
    {
     "name": "stdout",
     "output_type": "stream",
     "text": [
      "<pymongo.results.UpdateResult object at 0x10382b088>\n"
     ]
    },
    {
     "data": {
      "text/plain": [
       "{'originCollection': 'gapspecies',\n",
       " 'originID': ObjectId('59b842d50601bad0b9df0ea4'),\n",
       " 'searchURL': 'https://bison.usgs.gov/api/search.json?count=1&tsn=173840'}"
      ]
     },
     "metadata": {},
     "output_type": "display_data"
    },
    {
     "name": "stdout",
     "output_type": "stream",
     "text": [
      "<pymongo.results.UpdateResult object at 0x103831788>\n"
     ]
    },
    {
     "data": {
      "text/plain": [
       "{'originCollection': 'gapspecies',\n",
       " 'originID': ObjectId('59b842d60601bad0b9df0ea5'),\n",
       " 'searchURL': 'https://bison.usgs.gov/api/search.json?count=1&tsn=773515'}"
      ]
     },
     "metadata": {},
     "output_type": "display_data"
    },
    {
     "name": "stdout",
     "output_type": "stream",
     "text": [
      "<pymongo.results.UpdateResult object at 0x103835508>\n"
     ]
    },
    {
     "data": {
      "text/plain": [
       "{'originCollection': 'gapspecies',\n",
       " 'originID': ObjectId('59b842d60601bad0b9df0ea6'),\n",
       " 'searchURL': 'https://bison.usgs.gov/api/search.json?count=1&tsn=180575'}"
      ]
     },
     "metadata": {},
     "output_type": "display_data"
    },
    {
     "name": "stdout",
     "output_type": "stream",
     "text": [
      "<pymongo.results.UpdateResult object at 0x10383e0c8>\n"
     ]
    },
    {
     "data": {
      "text/plain": [
       "{'originCollection': 'gapspecies',\n",
       " 'originID': ObjectId('59b842d70601bad0b9df0ea7'),\n",
       " 'searchURL': 'https://bison.usgs.gov/api/search.json?count=1&tsn=180604'}"
      ]
     },
     "metadata": {},
     "output_type": "display_data"
    },
    {
     "name": "stdout",
     "output_type": "stream",
     "text": [
      "<pymongo.results.UpdateResult object at 0x103842848>\n"
     ]
    },
    {
     "data": {
      "text/plain": [
       "{'originCollection': 'gapspecies',\n",
       " 'originID': ObjectId('59b842d80601bad0b9df0ea8'),\n",
       " 'searchURL': 'https://bison.usgs.gov/api/search.json?count=1&tsn=178096'}"
      ]
     },
     "metadata": {},
     "output_type": "display_data"
    },
    {
     "name": "stdout",
     "output_type": "stream",
     "text": [
      "<pymongo.results.UpdateResult object at 0x10384a208>\n"
     ]
    },
    {
     "data": {
      "text/plain": [
       "{'originCollection': 'gapspecies',\n",
       " 'originID': ObjectId('59b842d90601bad0b9df0ea9'),\n",
       " 'searchURL': 'https://bison.usgs.gov/api/search.json?count=1&tsn=180305'}"
      ]
     },
     "metadata": {},
     "output_type": "display_data"
    },
    {
     "name": "stdout",
     "output_type": "stream",
     "text": [
      "<pymongo.results.UpdateResult object at 0x1038501c8>\n"
     ]
    },
    {
     "data": {
      "text/plain": [
       "{'originCollection': 'gapspecies',\n",
       " 'originID': ObjectId('59b842da0601bad0b9df0eaa'),\n",
       " 'searchURL': 'https://bison.usgs.gov/api/search.json?count=1&tsn=179725'}"
      ]
     },
     "metadata": {},
     "output_type": "display_data"
    },
    {
     "name": "stdout",
     "output_type": "stream",
     "text": [
      "<pymongo.results.UpdateResult object at 0x103857148>\n"
     ]
    },
    {
     "data": {
      "text/plain": [
       "{'originCollection': 'gapspecies',\n",
       " 'originID': ObjectId('59b842da0601bad0b9df0eab'),\n",
       " 'searchURL': 'https://bison.usgs.gov/api/search.json?count=1&tsn=173510'}"
      ]
     },
     "metadata": {},
     "output_type": "display_data"
    },
    {
     "name": "stdout",
     "output_type": "stream",
     "text": [
      "<pymongo.results.UpdateResult object at 0x10385c188>\n"
     ]
    },
    {
     "data": {
      "text/plain": [
       "{'originCollection': 'gapspecies',\n",
       " 'originID': ObjectId('59b842db0601bad0b9df0eac'),\n",
       " 'searchURL': 'https://bison.usgs.gov/api/search.json?count=1&tsn=180316'}"
      ]
     },
     "metadata": {},
     "output_type": "display_data"
    },
    {
     "name": "stdout",
     "output_type": "stream",
     "text": [
      "<pymongo.results.UpdateResult object at 0x103861048>\n"
     ]
    },
    {
     "data": {
      "text/plain": [
       "{'originCollection': 'gapspecies',\n",
       " 'originID': ObjectId('59b842dc0601bad0b9df0ead'),\n",
       " 'searchURL': 'https://bison.usgs.gov/api/search.json?count=1&tsn=709810'}"
      ]
     },
     "metadata": {},
     "output_type": "display_data"
    },
    {
     "name": "stdout",
     "output_type": "stream",
     "text": [
      "<pymongo.results.UpdateResult object at 0x103866708>\n"
     ]
    },
    {
     "data": {
      "text/plain": [
       "{'originCollection': 'gapspecies',\n",
       " 'originID': ObjectId('59b842dd0601bad0b9df0eae'),\n",
       " 'searchURL': 'https://bison.usgs.gov/api/search.json?count=1&type=scientific_name&species=Tamias minimus atristriatus'}"
      ]
     },
     "metadata": {},
     "output_type": "display_data"
    },
    {
     "name": "stdout",
     "output_type": "stream",
     "text": [
      "<pymongo.results.UpdateResult object at 0x10386a388>\n"
     ]
    },
    {
     "data": {
      "text/plain": [
       "{'originCollection': 'gapspecies',\n",
       " 'originID': ObjectId('59b842dd0601bad0b9df0eaf'),\n",
       " 'searchURL': 'https://bison.usgs.gov/api/search.json?count=1&tsn=179990'}"
      ]
     },
     "metadata": {},
     "output_type": "display_data"
    },
    {
     "name": "stdout",
     "output_type": "stream",
     "text": [
      "<pymongo.results.UpdateResult object at 0x103872288>\n"
     ]
    },
    {
     "data": {
      "text/plain": [
       "{'originCollection': 'gapspecies',\n",
       " 'originID': ObjectId('59b842de0601bad0b9df0eb0'),\n",
       " 'searchURL': 'https://bison.usgs.gov/api/search.json?count=1&tsn=179432'}"
      ]
     },
     "metadata": {},
     "output_type": "display_data"
    },
    {
     "name": "stdout",
     "output_type": "stream",
     "text": [
      "<pymongo.results.UpdateResult object at 0x103877748>\n"
     ]
    },
    {
     "data": {
      "text/plain": [
       "{'originCollection': 'gapspecies',\n",
       " 'originID': ObjectId('59b842df0601bad0b9df0eb1'),\n",
       " 'searchURL': 'https://bison.usgs.gov/api/search.json?count=1&tsn=180290'}"
      ]
     },
     "metadata": {},
     "output_type": "display_data"
    },
    {
     "name": "stdout",
     "output_type": "stream",
     "text": [
      "<pymongo.results.UpdateResult object at 0x10387d1c8>\n"
     ]
    },
    {
     "data": {
      "text/plain": [
       "{'originCollection': 'gapspecies',\n",
       " 'originID': ObjectId('59b842e00601bad0b9df0eb2'),\n",
       " 'searchURL': 'https://bison.usgs.gov/api/search.json?count=1&tsn=177166'}"
      ]
     },
     "metadata": {},
     "output_type": "display_data"
    },
    {
     "name": "stdout",
     "output_type": "stream",
     "text": [
      "<pymongo.results.UpdateResult object at 0x103882108>\n"
     ]
    },
    {
     "data": {
      "text/plain": [
       "{'originCollection': 'gapspecies',\n",
       " 'originID': ObjectId('59b842e10601bad0b9df0eb3'),\n",
       " 'searchURL': 'https://bison.usgs.gov/api/search.json?count=1&tsn=180291'}"
      ]
     },
     "metadata": {},
     "output_type": "display_data"
    },
    {
     "name": "stdout",
     "output_type": "stream",
     "text": [
      "<pymongo.results.UpdateResult object at 0x103888488>\n"
     ]
    },
    {
     "data": {
      "text/plain": [
       "{'originCollection': 'gapspecies',\n",
       " 'originID': ObjectId('59b842e10601bad0b9df0eb4'),\n",
       " 'searchURL': 'https://bison.usgs.gov/api/search.json?count=1&tsn=550246'}"
      ]
     },
     "metadata": {},
     "output_type": "display_data"
    },
    {
     "name": "stdout",
     "output_type": "stream",
     "text": [
      "<pymongo.results.UpdateResult object at 0x103889108>\n"
     ]
    },
    {
     "data": {
      "text/plain": [
       "{'originCollection': 'gapspecies',\n",
       " 'originID': ObjectId('59b842e20601bad0b9df0eb5'),\n",
       " 'searchURL': 'https://bison.usgs.gov/api/search.json?count=1&tsn=685725'}"
      ]
     },
     "metadata": {},
     "output_type": "display_data"
    },
    {
     "name": "stdout",
     "output_type": "stream",
     "text": [
      "<pymongo.results.UpdateResult object at 0x1038932c8>\n"
     ]
    },
    {
     "data": {
      "text/plain": [
       "{'originCollection': 'gapspecies',\n",
       " 'originID': ObjectId('59b842e30601bad0b9df0eb6'),\n",
       " 'searchURL': 'https://bison.usgs.gov/api/search.json?count=1&tsn=179124'}"
      ]
     },
     "metadata": {},
     "output_type": "display_data"
    },
    {
     "name": "stdout",
     "output_type": "stream",
     "text": [
      "<pymongo.results.UpdateResult object at 0x10389b1c8>\n"
     ]
    },
    {
     "data": {
      "text/plain": [
       "{'originCollection': 'gapspecies',\n",
       " 'originID': ObjectId('59b842e40601bad0b9df0eb7'),\n",
       " 'searchURL': 'https://bison.usgs.gov/api/search.json?count=1&tsn=180147'}"
      ]
     },
     "metadata": {},
     "output_type": "display_data"
    },
    {
     "name": "stdout",
     "output_type": "stream",
     "text": [
      "<pymongo.results.UpdateResult object at 0x10389f2c8>\n"
     ]
    },
    {
     "data": {
      "text/plain": [
       "{'originCollection': 'gapspecies',\n",
       " 'originID': ObjectId('59b842e40601bad0b9df0eb8'),\n",
       " 'searchURL': 'https://bison.usgs.gov/api/search.json?count=1&tsn=179929'}"
      ]
     },
     "metadata": {},
     "output_type": "display_data"
    },
    {
     "name": "stdout",
     "output_type": "stream",
     "text": [
      "<pymongo.results.UpdateResult object at 0x1038a1108>\n"
     ]
    },
    {
     "data": {
      "text/plain": [
       "{'originCollection': 'gapspecies',\n",
       " 'originID': ObjectId('59b842e50601bad0b9df0eb9'),\n",
       " 'searchURL': 'https://bison.usgs.gov/api/search.json?count=1&tsn=180154'}"
      ]
     },
     "metadata": {},
     "output_type": "display_data"
    },
    {
     "name": "stdout",
     "output_type": "stream",
     "text": [
      "<pymongo.results.UpdateResult object at 0x1038ad0c8>\n"
     ]
    },
    {
     "data": {
      "text/plain": [
       "{'originCollection': 'gapspecies',\n",
       " 'originID': ObjectId('59b842e60601bad0b9df0eba'),\n",
       " 'searchURL': 'https://bison.usgs.gov/api/search.json?count=1&tsn=180127'}"
      ]
     },
     "metadata": {},
     "output_type": "display_data"
    },
    {
     "name": "stdout",
     "output_type": "stream",
     "text": [
      "<pymongo.results.UpdateResult object at 0x1038b3848>\n"
     ]
    },
    {
     "data": {
      "text/plain": [
       "{'originCollection': 'gapspecies',\n",
       " 'originID': ObjectId('59b842e60601bad0b9df0ebb'),\n",
       " 'searchURL': 'https://bison.usgs.gov/api/search.json?count=1&tsn=178460'}"
      ]
     },
     "metadata": {},
     "output_type": "display_data"
    },
    {
     "name": "stdout",
     "output_type": "stream",
     "text": [
      "<pymongo.results.UpdateResult object at 0x1038bb088>\n"
     ]
    },
    {
     "data": {
      "text/plain": [
       "{'originCollection': 'gapspecies',\n",
       " 'originID': ObjectId('59b842e60601bad0b9df0ebc'),\n",
       " 'searchURL': 'https://bison.usgs.gov/api/search.json?count=1&tsn=180155'}"
      ]
     },
     "metadata": {},
     "output_type": "display_data"
    },
    {
     "name": "stdout",
     "output_type": "stream",
     "text": [
      "<pymongo.results.UpdateResult object at 0x1038c14c8>\n"
     ]
    },
    {
     "data": {
      "text/plain": [
       "{'originCollection': 'gapspecies',\n",
       " 'originID': ObjectId('59b842e70601bad0b9df0ebd'),\n",
       " 'searchURL': 'https://bison.usgs.gov/api/search.json?count=1&tsn=180375'}"
      ]
     },
     "metadata": {},
     "output_type": "display_data"
    },
    {
     "name": "stdout",
     "output_type": "stream",
     "text": [
      "<pymongo.results.UpdateResult object at 0x1038c80c8>\n"
     ]
    },
    {
     "data": {
      "text/plain": [
       "{'originCollection': 'gapspecies',\n",
       " 'originID': ObjectId('59b842e70601bad0b9df0ebe'),\n",
       " 'searchURL': 'https://bison.usgs.gov/api/search.json?count=1&tsn=180699'}"
      ]
     },
     "metadata": {},
     "output_type": "display_data"
    },
    {
     "name": "stdout",
     "output_type": "stream",
     "text": [
      "<pymongo.results.UpdateResult object at 0x1038cd588>\n"
     ]
    },
    {
     "data": {
      "text/plain": [
       "{'originCollection': 'gapspecies',\n",
       " 'originID': ObjectId('59b842e80601bad0b9df0ebf'),\n",
       " 'searchURL': 'https://bison.usgs.gov/api/search.json?count=1&tsn=173530'}"
      ]
     },
     "metadata": {},
     "output_type": "display_data"
    },
    {
     "name": "stdout",
     "output_type": "stream",
     "text": [
      "<pymongo.results.UpdateResult object at 0x1038d41c8>\n"
     ]
    },
    {
     "data": {
      "text/plain": [
       "{'originCollection': 'gapspecies',\n",
       " 'originID': ObjectId('59b842e80601bad0b9df0ec0'),\n",
       " 'searchURL': 'https://bison.usgs.gov/api/search.json?count=1&tsn=173590'}"
      ]
     },
     "metadata": {},
     "output_type": "display_data"
    },
    {
     "name": "stdout",
     "output_type": "stream",
     "text": [
      "<pymongo.results.UpdateResult object at 0x1038d9048>\n"
     ]
    },
    {
     "data": {
      "text/plain": [
       "{'originCollection': 'gapspecies',\n",
       " 'originID': ObjectId('59b842e90601bad0b9df0ec1'),\n",
       " 'searchURL': 'https://bison.usgs.gov/api/search.json?count=1&tsn=208293'}"
      ]
     },
     "metadata": {},
     "output_type": "display_data"
    },
    {
     "name": "stdout",
     "output_type": "stream",
     "text": [
      "<pymongo.results.UpdateResult object at 0x1038de408>\n"
     ]
    },
    {
     "data": {
      "text/plain": [
       "{'originCollection': 'gapspecies',\n",
       " 'originID': ObjectId('59b842e90601bad0b9df0ec2'),\n",
       " 'searchURL': 'https://bison.usgs.gov/api/search.json?count=1&tsn=180163'}"
      ]
     },
     "metadata": {},
     "output_type": "display_data"
    },
    {
     "name": "stdout",
     "output_type": "stream",
     "text": [
      "<pymongo.results.UpdateResult object at 0x1038e4248>\n"
     ]
    },
    {
     "data": {
      "text/plain": [
       "{'originCollection': 'gapspecies',\n",
       " 'originID': ObjectId('59b842e90601bad0b9df0ec3'),\n",
       " 'searchURL': 'https://bison.usgs.gov/api/search.json?count=1&tsn=180116'}"
      ]
     },
     "metadata": {},
     "output_type": "display_data"
    },
    {
     "name": "stdout",
     "output_type": "stream",
     "text": [
      "<pymongo.results.UpdateResult object at 0x1038eb448>\n"
     ]
    },
    {
     "data": {
      "text/plain": [
       "{'originCollection': 'gapspecies',\n",
       " 'originID': ObjectId('59b842ea0601bad0b9df0ec4'),\n",
       " 'searchURL': 'https://bison.usgs.gov/api/search.json?count=1&tsn=174337'}"
      ]
     },
     "metadata": {},
     "output_type": "display_data"
    },
    {
     "name": "stdout",
     "output_type": "stream",
     "text": [
      "<pymongo.results.UpdateResult object at 0x1038f0748>\n"
     ]
    },
    {
     "data": {
      "text/plain": [
       "{'originCollection': 'gapspecies',\n",
       " 'originID': ObjectId('59b842ea0601bad0b9df0ec5'),\n",
       " 'searchURL': 'https://bison.usgs.gov/api/search.json?count=1&tsn=180169'}"
      ]
     },
     "metadata": {},
     "output_type": "display_data"
    },
    {
     "name": "stdout",
     "output_type": "stream",
     "text": [
      "<pymongo.results.UpdateResult object at 0x1038f1548>\n"
     ]
    },
    {
     "data": {
      "text/plain": [
       "{'originCollection': 'gapspecies',\n",
       " 'originID': ObjectId('59b842eb0601bad0b9df0ec6'),\n",
       " 'searchURL': 'https://bison.usgs.gov/api/search.json?count=1&tsn=176814'}"
      ]
     },
     "metadata": {},
     "output_type": "display_data"
    },
    {
     "name": "stdout",
     "output_type": "stream",
     "text": [
      "<pymongo.results.UpdateResult object at 0x1038fb488>\n"
     ]
    },
    {
     "data": {
      "text/plain": [
       "{'originCollection': 'gapspecies',\n",
       " 'originID': ObjectId('59b842eb0601bad0b9df0ec7'),\n",
       " 'searchURL': 'https://bison.usgs.gov/api/search.json?count=1&tsn=175081'}"
      ]
     },
     "metadata": {},
     "output_type": "display_data"
    },
    {
     "name": "stdout",
     "output_type": "stream",
     "text": [
      "<pymongo.results.UpdateResult object at 0x1039000c8>\n"
     ]
    },
    {
     "data": {
      "text/plain": [
       "{'originCollection': 'gapspecies',\n",
       " 'originID': ObjectId('59b842ec0601bad0b9df0ec8'),\n",
       " 'searchURL': 'https://bison.usgs.gov/api/search.json?count=1&tsn=180350'}"
      ]
     },
     "metadata": {},
     "output_type": "display_data"
    },
    {
     "name": "stdout",
     "output_type": "stream",
     "text": [
      "<pymongo.results.UpdateResult object at 0x103906208>\n"
     ]
    },
    {
     "data": {
      "text/plain": [
       "{'originCollection': 'gapspecies',\n",
       " 'originID': ObjectId('59b842ec0601bad0b9df0ec9'),\n",
       " 'searchURL': 'https://bison.usgs.gov/api/search.json?count=1&tsn=174145'}"
      ]
     },
     "metadata": {},
     "output_type": "display_data"
    },
    {
     "name": "stdout",
     "output_type": "stream",
     "text": [
      "<pymongo.results.UpdateResult object at 0x10390c548>\n"
     ]
    },
    {
     "data": {
      "text/plain": [
       "{'originCollection': 'gapspecies',\n",
       " 'originID': ObjectId('59b842ec0601bad0b9df0eca'),\n",
       " 'searchURL': 'https://bison.usgs.gov/api/search.json?count=1&tsn=177975'}"
      ]
     },
     "metadata": {},
     "output_type": "display_data"
    },
    {
     "name": "stdout",
     "output_type": "stream",
     "text": [
      "<pymongo.results.UpdateResult object at 0x103910388>\n"
     ]
    },
    {
     "data": {
      "text/plain": [
       "{'originCollection': 'gapspecies',\n",
       " 'originID': ObjectId('59b842ed0601bad0b9df0ecb'),\n",
       " 'searchURL': 'https://bison.usgs.gov/api/search.json?count=1&tsn=179230'}"
      ]
     },
     "metadata": {},
     "output_type": "display_data"
    },
    {
     "name": "stdout",
     "output_type": "stream",
     "text": [
      "<pymongo.results.UpdateResult object at 0x103918108>\n"
     ]
    },
    {
     "data": {
      "text/plain": [
       "{'originCollection': 'gapspecies',\n",
       " 'originID': ObjectId('59b842ed0601bad0b9df0ecc'),\n",
       " 'searchURL': 'https://bison.usgs.gov/api/search.json?count=1&tsn=550240'}"
      ]
     },
     "metadata": {},
     "output_type": "display_data"
    },
    {
     "name": "stdout",
     "output_type": "stream",
     "text": [
      "<pymongo.results.UpdateResult object at 0x10391d6c8>\n"
     ]
    },
    {
     "data": {
      "text/plain": [
       "{'originCollection': 'gapspecies',\n",
       " 'originID': ObjectId('59b842ee0601bad0b9df0ecd'),\n",
       " 'searchURL': 'https://bison.usgs.gov/api/search.json?count=1&tsn=178852'}"
      ]
     },
     "metadata": {},
     "output_type": "display_data"
    },
    {
     "name": "stdout",
     "output_type": "stream",
     "text": [
      "<pymongo.results.UpdateResult object at 0x103923188>\n"
     ]
    },
    {
     "data": {
      "text/plain": [
       "{'originCollection': 'gapspecies',\n",
       " 'originID': ObjectId('59b842ee0601bad0b9df0ece'),\n",
       " 'searchURL': 'https://bison.usgs.gov/api/search.json?count=1&tsn=173611'}"
      ]
     },
     "metadata": {},
     "output_type": "display_data"
    },
    {
     "name": "stdout",
     "output_type": "stream",
     "text": [
      "<pymongo.results.UpdateResult object at 0x1039280c8>\n"
     ]
    },
    {
     "data": {
      "text/plain": [
       "{'originCollection': 'gapspecies',\n",
       " 'originID': ObjectId('59b842ef0601bad0b9df0ecf'),\n",
       " 'searchURL': 'https://bison.usgs.gov/api/search.json?count=1&tsn=668294'}"
      ]
     },
     "metadata": {},
     "output_type": "display_data"
    },
    {
     "name": "stdout",
     "output_type": "stream",
     "text": [
      "<pymongo.results.UpdateResult object at 0x10392e108>\n"
     ]
    },
    {
     "data": {
      "text/plain": [
       "{'originCollection': 'gapspecies',\n",
       " 'originID': ObjectId('59b842ef0601bad0b9df0ed0'),\n",
       " 'searchURL': 'https://bison.usgs.gov/api/search.json?count=1&tsn=668246'}"
      ]
     },
     "metadata": {},
     "output_type": "display_data"
    },
    {
     "name": "stdout",
     "output_type": "stream",
     "text": [
      "<pymongo.results.UpdateResult object at 0x1039312c8>\n"
     ]
    },
    {
     "data": {
      "text/plain": [
       "{'originCollection': 'gapspecies',\n",
       " 'originID': ObjectId('59b842f00601bad0b9df0ed1'),\n",
       " 'searchURL': 'https://bison.usgs.gov/api/search.json?count=1&tsn=173707'}"
      ]
     },
     "metadata": {},
     "output_type": "display_data"
    },
    {
     "name": "stdout",
     "output_type": "stream",
     "text": [
      "<pymongo.results.UpdateResult object at 0x103931348>\n"
     ]
    },
    {
     "data": {
      "text/plain": [
       "{'originCollection': 'gapspecies',\n",
       " 'originID': ObjectId('59b842f00601bad0b9df0ed2'),\n",
       " 'searchURL': 'https://bison.usgs.gov/api/search.json?count=1&tsn=179109'}"
      ]
     },
     "metadata": {},
     "output_type": "display_data"
    },
    {
     "name": "stdout",
     "output_type": "stream",
     "text": [
      "<pymongo.results.UpdateResult object at 0x10393c888>\n"
     ]
    },
    {
     "data": {
      "text/plain": [
       "{'originCollection': 'gapspecies',\n",
       " 'originID': ObjectId('59b842f10601bad0b9df0ed3'),\n",
       " 'searchURL': 'https://bison.usgs.gov/api/search.json?count=1&tsn=176615'}"
      ]
     },
     "metadata": {},
     "output_type": "display_data"
    },
    {
     "name": "stdout",
     "output_type": "stream",
     "text": [
      "<pymongo.results.UpdateResult object at 0x1039475c8>\n"
     ]
    },
    {
     "data": {
      "text/plain": [
       "{'originCollection': 'gapspecies',\n",
       " 'originID': ObjectId('59b842f10601bad0b9df0ed4'),\n",
       " 'searchURL': 'https://bison.usgs.gov/api/search.json?count=1&tsn=180172'}"
      ]
     },
     "metadata": {},
     "output_type": "display_data"
    },
    {
     "name": "stdout",
     "output_type": "stream",
     "text": [
      "<pymongo.results.UpdateResult object at 0x10394c848>\n"
     ]
    },
    {
     "data": {
      "text/plain": [
       "{'originCollection': 'gapspecies',\n",
       " 'originID': ObjectId('59b842f20601bad0b9df0ed5'),\n",
       " 'searchURL': 'https://bison.usgs.gov/api/search.json?count=1&tsn=180164'}"
      ]
     },
     "metadata": {},
     "output_type": "display_data"
    },
    {
     "name": "stdout",
     "output_type": "stream",
     "text": [
      "<pymongo.results.UpdateResult object at 0x1039530c8>\n"
     ]
    },
    {
     "data": {
      "text/plain": [
       "{'originCollection': 'gapspecies',\n",
       " 'originID': ObjectId('59b842f20601bad0b9df0ed6'),\n",
       " 'searchURL': 'https://bison.usgs.gov/api/search.json?count=1&tsn=180373'}"
      ]
     },
     "metadata": {},
     "output_type": "display_data"
    },
    {
     "name": "stdout",
     "output_type": "stream",
     "text": [
      "<pymongo.results.UpdateResult object at 0x10395a708>\n"
     ]
    },
    {
     "data": {
      "text/plain": [
       "{'originCollection': 'gapspecies',\n",
       " 'originID': ObjectId('59b842f30601bad0b9df0ed7'),\n",
       " 'searchURL': 'https://bison.usgs.gov/api/search.json?count=1&tsn=180252'}"
      ]
     },
     "metadata": {},
     "output_type": "display_data"
    },
    {
     "name": "stdout",
     "output_type": "stream",
     "text": [
      "<pymongo.results.UpdateResult object at 0x10395f048>\n"
     ]
    },
    {
     "data": {
      "text/plain": [
       "{'originCollection': 'gapspecies',\n",
       " 'originID': ObjectId('59b842f40601bad0b9df0ed8'),\n",
       " 'searchURL': 'https://bison.usgs.gov/api/search.json?count=1&tsn=179009'}"
      ]
     },
     "metadata": {},
     "output_type": "display_data"
    },
    {
     "name": "stdout",
     "output_type": "stream",
     "text": [
      "<pymongo.results.UpdateResult object at 0x1039656c8>\n"
     ]
    },
    {
     "data": {
      "text/plain": [
       "{'originCollection': 'gapspecies',\n",
       " 'originID': ObjectId('59b842f40601bad0b9df0ed9'),\n",
       " 'searchURL': 'https://bison.usgs.gov/api/search.json?count=1&tsn=555661'}"
      ]
     },
     "metadata": {},
     "output_type": "display_data"
    },
    {
     "name": "stdout",
     "output_type": "stream",
     "text": [
      "<pymongo.results.UpdateResult object at 0x10396b0c8>\n"
     ]
    },
    {
     "data": {
      "text/plain": [
       "{'originCollection': 'gapspecies',\n",
       " 'originID': ObjectId('59b842f50601bad0b9df0eda'),\n",
       " 'searchURL': 'https://bison.usgs.gov/api/search.json?count=1&tsn=174008'}"
      ]
     },
     "metadata": {},
     "output_type": "display_data"
    },
    {
     "name": "stdout",
     "output_type": "stream",
     "text": [
      "<pymongo.results.UpdateResult object at 0x10396f788>\n"
     ]
    },
    {
     "data": {
      "text/plain": [
       "{'originCollection': 'gapspecies',\n",
       " 'originID': ObjectId('59b842f50601bad0b9df0edb'),\n",
       " 'searchURL': 'https://bison.usgs.gov/api/search.json?count=1&tsn=178964'}"
      ]
     },
     "metadata": {},
     "output_type": "display_data"
    },
    {
     "name": "stdout",
     "output_type": "stream",
     "text": [
      "<pymongo.results.UpdateResult object at 0x10397a148>\n"
     ]
    },
    {
     "data": {
      "text/plain": [
       "{'originCollection': 'gapspecies',\n",
       " 'originID': ObjectId('59b842f50601bad0b9df0edc'),\n",
       " 'searchURL': 'https://bison.usgs.gov/api/search.json?count=1&tsn=173928'}"
      ]
     },
     "metadata": {},
     "output_type": "display_data"
    },
    {
     "name": "stdout",
     "output_type": "stream",
     "text": [
      "<pymongo.results.UpdateResult object at 0x10397d248>\n"
     ]
    },
    {
     "data": {
      "text/plain": [
       "{'originCollection': 'gapspecies',\n",
       " 'originID': ObjectId('59b842f60601bad0b9df0edd'),\n",
       " 'searchURL': 'https://bison.usgs.gov/api/search.json?count=1&tsn=174187'}"
      ]
     },
     "metadata": {},
     "output_type": "display_data"
    },
    {
     "name": "stdout",
     "output_type": "stream",
     "text": [
      "<pymongo.results.UpdateResult object at 0x103982648>\n"
     ]
    },
    {
     "data": {
      "text/plain": [
       "{'originCollection': 'gapspecies',\n",
       " 'originID': ObjectId('59b842f60601bad0b9df0ede'),\n",
       " 'searchURL': 'https://bison.usgs.gov/api/search.json?count=1&tsn=174202'}"
      ]
     },
     "metadata": {},
     "output_type": "display_data"
    },
    {
     "name": "stdout",
     "output_type": "stream",
     "text": [
      "<pymongo.results.UpdateResult object at 0x1039890c8>\n"
     ]
    },
    {
     "data": {
      "text/plain": [
       "{'originCollection': 'gapspecies',\n",
       " 'originID': ObjectId('59b842f70601bad0b9df0edf'),\n",
       " 'searchURL': 'https://bison.usgs.gov/api/search.json?count=1&tsn=173833'}"
      ]
     },
     "metadata": {},
     "output_type": "display_data"
    },
    {
     "name": "stdout",
     "output_type": "stream",
     "text": [
      "<pymongo.results.UpdateResult object at 0x10398e348>\n"
     ]
    },
    {
     "data": {
      "text/plain": [
       "{'originCollection': 'gapspecies',\n",
       " 'originID': ObjectId('59b842f70601bad0b9df0ee0'),\n",
       " 'searchURL': 'https://bison.usgs.gov/api/search.json?count=1&tsn=180215'}"
      ]
     },
     "metadata": {},
     "output_type": "display_data"
    },
    {
     "name": "stdout",
     "output_type": "stream",
     "text": [
      "<pymongo.results.UpdateResult object at 0x103993288>\n"
     ]
    },
    {
     "data": {
      "text/plain": [
       "{'originCollection': 'gapspecies',\n",
       " 'originID': ObjectId('59b842f80601bad0b9df0ee1'),\n",
       " 'searchURL': 'https://bison.usgs.gov/api/search.json?count=1&tsn=179979'}"
      ]
     },
     "metadata": {},
     "output_type": "display_data"
    },
    {
     "name": "stdout",
     "output_type": "stream",
     "text": [
      "<pymongo.results.UpdateResult object at 0x1039985c8>\n"
     ]
    },
    {
     "data": {
      "text/plain": [
       "{'originCollection': 'gapspecies',\n",
       " 'originID': ObjectId('59b842f80601bad0b9df0ee2'),\n",
       " 'searchURL': 'https://bison.usgs.gov/api/search.json?count=1&tsn=180151'}"
      ]
     },
     "metadata": {},
     "output_type": "display_data"
    },
    {
     "name": "stdout",
     "output_type": "stream",
     "text": [
      "<pymongo.results.UpdateResult object at 0x10399d788>\n"
     ]
    },
    {
     "data": {
      "text/plain": [
       "{'originCollection': 'gapspecies',\n",
       " 'originID': ObjectId('59b842f80601bad0b9df0ee3'),\n",
       " 'searchURL': 'https://bison.usgs.gov/api/search.json?count=1&tsn=173508'}"
      ]
     },
     "metadata": {},
     "output_type": "display_data"
    },
    {
     "name": "stdout",
     "output_type": "stream",
     "text": [
      "<pymongo.results.UpdateResult object at 0x1039a30c8>\n"
     ]
    },
    {
     "data": {
      "text/plain": [
       "{'originCollection': 'gapspecies',\n",
       " 'originID': ObjectId('59b842f90601bad0b9df0ee4'),\n",
       " 'searchURL': 'https://bison.usgs.gov/api/search.json?count=1&tsn=175020'}"
      ]
     },
     "metadata": {},
     "output_type": "display_data"
    },
    {
     "name": "stdout",
     "output_type": "stream",
     "text": [
      "<pymongo.results.UpdateResult object at 0x1039aa308>\n"
     ]
    },
    {
     "data": {
      "text/plain": [
       "{'originCollection': 'gapspecies',\n",
       " 'originID': ObjectId('59b842f90601bad0b9df0ee5'),\n",
       " 'searchURL': 'https://bison.usgs.gov/api/search.json?count=1&tsn=179268'}"
      ]
     },
     "metadata": {},
     "output_type": "display_data"
    },
    {
     "name": "stdout",
     "output_type": "stream",
     "text": [
      "<pymongo.results.UpdateResult object at 0x1039aac48>\n"
     ]
    },
    {
     "data": {
      "text/plain": [
       "{'originCollection': 'gapspecies',\n",
       " 'originID': ObjectId('59b842fa0601bad0b9df0ee6'),\n",
       " 'searchURL': 'https://bison.usgs.gov/api/search.json?count=1&tsn=775080'}"
      ]
     },
     "metadata": {},
     "output_type": "display_data"
    },
    {
     "name": "stdout",
     "output_type": "stream",
     "text": [
      "<pymongo.results.UpdateResult object at 0x1039b0848>\n"
     ]
    },
    {
     "data": {
      "text/plain": [
       "{'originCollection': 'gapspecies',\n",
       " 'originID': ObjectId('59b842fa0601bad0b9df0ee7'),\n",
       " 'searchURL': 'https://bison.usgs.gov/api/search.json?count=1&tsn=668240'}"
      ]
     },
     "metadata": {},
     "output_type": "display_data"
    },
    {
     "name": "stdout",
     "output_type": "stream",
     "text": [
      "<pymongo.results.UpdateResult object at 0x1039bc408>\n"
     ]
    },
    {
     "data": {
      "text/plain": [
       "{'originCollection': 'gapspecies',\n",
       " 'originID': ObjectId('59b842fb0601bad0b9df0ee8'),\n",
       " 'searchURL': 'https://bison.usgs.gov/api/search.json?count=1&tsn=207307'}"
      ]
     },
     "metadata": {},
     "output_type": "display_data"
    },
    {
     "name": "stdout",
     "output_type": "stream",
     "text": [
      "<pymongo.results.UpdateResult object at 0x1039c31c8>\n"
     ]
    },
    {
     "data": {
      "text/plain": [
       "{'originCollection': 'gapspecies',\n",
       " 'originID': ObjectId('59b842fb0601bad0b9df0ee9'),\n",
       " 'searchURL': 'https://bison.usgs.gov/api/search.json?count=1&tsn=177979'}"
      ]
     },
     "metadata": {},
     "output_type": "display_data"
    },
    {
     "name": "stdout",
     "output_type": "stream",
     "text": [
      "<pymongo.results.UpdateResult object at 0x1039c8048>\n"
     ]
    },
    {
     "data": {
      "text/plain": [
       "{'originCollection': 'gapspecies',\n",
       " 'originID': ObjectId('59b842fc0601bad0b9df0eea'),\n",
       " 'searchURL': 'https://bison.usgs.gov/api/search.json?count=1&tsn=179994'}"
      ]
     },
     "metadata": {},
     "output_type": "display_data"
    },
    {
     "name": "stdout",
     "output_type": "stream",
     "text": [
      "<pymongo.results.UpdateResult object at 0x1039ce848>\n"
     ]
    },
    {
     "data": {
      "text/plain": [
       "{'originCollection': 'gapspecies',\n",
       " 'originID': ObjectId('59b842fc0601bad0b9df0eeb'),\n",
       " 'searchURL': 'https://bison.usgs.gov/api/search.json?count=1&tsn=668322'}"
      ]
     },
     "metadata": {},
     "output_type": "display_data"
    },
    {
     "name": "stdout",
     "output_type": "stream",
     "text": [
      "<pymongo.results.UpdateResult object at 0x1039d4048>\n"
     ]
    },
    {
     "data": {
      "text/plain": [
       "{'originCollection': 'gapspecies',\n",
       " 'originID': ObjectId('59b842fd0601bad0b9df0eec'),\n",
       " 'searchURL': 'https://bison.usgs.gov/api/search.json?count=1&tsn=207303'}"
      ]
     },
     "metadata": {},
     "output_type": "display_data"
    },
    {
     "name": "stdout",
     "output_type": "stream",
     "text": [
      "<pymongo.results.UpdateResult object at 0x1039da0c8>\n"
     ]
    },
    {
     "data": {
      "text/plain": [
       "{'originCollection': 'gapspecies',\n",
       " 'originID': ObjectId('59b842fe0601bad0b9df0eed'),\n",
       " 'searchURL': 'https://bison.usgs.gov/api/search.json?count=1&tsn=208204'}"
      ]
     },
     "metadata": {},
     "output_type": "display_data"
    },
    {
     "name": "stdout",
     "output_type": "stream",
     "text": [
      "<pymongo.results.UpdateResult object at 0x1039df488>\n"
     ]
    },
    {
     "data": {
      "text/plain": [
       "{'originCollection': 'gapspecies',\n",
       " 'originID': ObjectId('59b842fe0601bad0b9df0eee'),\n",
       " 'searchURL': 'https://bison.usgs.gov/api/search.json?count=1&tsn=178652'}"
      ]
     },
     "metadata": {},
     "output_type": "display_data"
    },
    {
     "name": "stdout",
     "output_type": "stream",
     "text": [
      "<pymongo.results.UpdateResult object at 0x1039e4148>\n"
     ]
    },
    {
     "data": {
      "text/plain": [
       "{'originCollection': 'gapspecies',\n",
       " 'originID': ObjectId('59b842ff0601bad0b9df0eef'),\n",
       " 'searchURL': 'https://bison.usgs.gov/api/search.json?count=1&tsn=175130'}"
      ]
     },
     "metadata": {},
     "output_type": "display_data"
    },
    {
     "name": "stdout",
     "output_type": "stream",
     "text": [
      "<pymongo.results.UpdateResult object at 0x1039ea488>\n"
     ]
    },
    {
     "data": {
      "text/plain": [
       "{'originCollection': 'gapspecies',\n",
       " 'originID': ObjectId('59b842ff0601bad0b9df0ef0'),\n",
       " 'searchURL': 'https://bison.usgs.gov/api/search.json?count=1&tsn=586343'}"
      ]
     },
     "metadata": {},
     "output_type": "display_data"
    },
    {
     "name": "stdout",
     "output_type": "stream",
     "text": [
      "<pymongo.results.UpdateResult object at 0x1039ef0c8>\n"
     ]
    },
    {
     "data": {
      "text/plain": [
       "{'originCollection': 'gapspecies',\n",
       " 'originID': ObjectId('59b843000601bad0b9df0ef1'),\n",
       " 'searchURL': 'https://bison.usgs.gov/api/search.json?count=1&tsn=208280'}"
      ]
     },
     "metadata": {},
     "output_type": "display_data"
    },
    {
     "name": "stdout",
     "output_type": "stream",
     "text": [
      "<pymongo.results.UpdateResult object at 0x1039f4088>\n"
     ]
    },
    {
     "data": {
      "text/plain": [
       "{'originCollection': 'gapspecies',\n",
       " 'originID': ObjectId('59b843010601bad0b9df0ef2'),\n",
       " 'searchURL': 'https://bison.usgs.gov/api/search.json?count=1&tsn=173745'}"
      ]
     },
     "metadata": {},
     "output_type": "display_data"
    },
    {
     "name": "stdout",
     "output_type": "stream",
     "text": [
      "<pymongo.results.UpdateResult object at 0x1039fb0c8>\n"
     ]
    },
    {
     "data": {
      "text/plain": [
       "{'originCollection': 'gapspecies',\n",
       " 'originID': ObjectId('59b843010601bad0b9df0ef3'),\n",
       " 'searchURL': 'https://bison.usgs.gov/api/search.json?count=1&tsn=178944'}"
      ]
     },
     "metadata": {},
     "output_type": "display_data"
    },
    {
     "name": "stdout",
     "output_type": "stream",
     "text": [
      "<pymongo.results.UpdateResult object at 0x103a00388>\n"
     ]
    },
    {
     "data": {
      "text/plain": [
       "{'originCollection': 'gapspecies',\n",
       " 'originID': ObjectId('59b843020601bad0b9df0ef4'),\n",
       " 'searchURL': 'https://bison.usgs.gov/api/search.json?count=1&tsn=180193'}"
      ]
     },
     "metadata": {},
     "output_type": "display_data"
    },
    {
     "name": "stdout",
     "output_type": "stream",
     "text": [
      "<pymongo.results.UpdateResult object at 0x103a08808>\n"
     ]
    },
    {
     "data": {
      "text/plain": [
       "{'originCollection': 'gapspecies',\n",
       " 'originID': ObjectId('59b843030601bad0b9df0ef5'),\n",
       " 'searchURL': 'https://bison.usgs.gov/api/search.json?count=1&tsn=552464'}"
      ]
     },
     "metadata": {},
     "output_type": "display_data"
    },
    {
     "name": "stdout",
     "output_type": "stream",
     "text": [
      "<pymongo.results.UpdateResult object at 0x103a0f048>\n"
     ]
    },
    {
     "data": {
      "text/plain": [
       "{'originCollection': 'gapspecies',\n",
       " 'originID': ObjectId('59b843040601bad0b9df0ef6'),\n",
       " 'searchURL': 'https://bison.usgs.gov/api/search.json?count=1&tsn=175074'}"
      ]
     },
     "metadata": {},
     "output_type": "display_data"
    },
    {
     "name": "stdout",
     "output_type": "stream",
     "text": [
      "<pymongo.results.UpdateResult object at 0x103a13688>\n"
     ]
    },
    {
     "data": {
      "text/plain": [
       "{'originCollection': 'gapspecies',\n",
       " 'originID': ObjectId('59b843040601bad0b9df0ef7'),\n",
       " 'searchURL': 'https://bison.usgs.gov/api/search.json?count=1&tsn=178846'}"
      ]
     },
     "metadata": {},
     "output_type": "display_data"
    },
    {
     "name": "stdout",
     "output_type": "stream",
     "text": [
      "<pymongo.results.UpdateResult object at 0x103a1a088>\n"
     ]
    },
    {
     "data": {
      "text/plain": [
       "{'originCollection': 'gapspecies',\n",
       " 'originID': ObjectId('59b843050601bad0b9df0ef8'),\n",
       " 'searchURL': 'https://bison.usgs.gov/api/search.json?count=1&tsn=180609'}"
      ]
     },
     "metadata": {},
     "output_type": "display_data"
    },
    {
     "name": "stdout",
     "output_type": "stream",
     "text": [
      "<pymongo.results.UpdateResult object at 0x103a1e588>\n"
     ]
    },
    {
     "data": {
      "text/plain": [
       "{'originCollection': 'gapspecies',\n",
       " 'originID': ObjectId('59b843060601bad0b9df0ef9'),\n",
       " 'searchURL': 'https://bison.usgs.gov/api/search.json?count=1&tsn=174999'}"
      ]
     },
     "metadata": {},
     "output_type": "display_data"
    },
    {
     "name": "stdout",
     "output_type": "stream",
     "text": [
      "<pymongo.results.UpdateResult object at 0x103a202c8>\n"
     ]
    },
    {
     "data": {
      "text/plain": [
       "{'originCollection': 'gapspecies',\n",
       " 'originID': ObjectId('59b843060601bad0b9df0efa'),\n",
       " 'searchURL': 'https://bison.usgs.gov/api/search.json?count=1&tsn=173617'}"
      ]
     },
     "metadata": {},
     "output_type": "display_data"
    },
    {
     "name": "stdout",
     "output_type": "stream",
     "text": [
      "<pymongo.results.UpdateResult object at 0x103a2b308>\n"
     ]
    },
    {
     "data": {
      "text/plain": [
       "{'originCollection': 'gapspecies',\n",
       " 'originID': ObjectId('59b843070601bad0b9df0efb'),\n",
       " 'searchURL': 'https://bison.usgs.gov/api/search.json?count=1&tsn=775911'}"
      ]
     },
     "metadata": {},
     "output_type": "display_data"
    },
    {
     "name": "stdout",
     "output_type": "stream",
     "text": [
      "<pymongo.results.UpdateResult object at 0x103a300c8>\n"
     ]
    },
    {
     "data": {
      "text/plain": [
       "{'originCollection': 'gapspecies',\n",
       " 'originID': ObjectId('59b843080601bad0b9df0efc'),\n",
       " 'searchURL': 'https://bison.usgs.gov/api/search.json?count=1&tsn=180299'}"
      ]
     },
     "metadata": {},
     "output_type": "display_data"
    },
    {
     "name": "stdout",
     "output_type": "stream",
     "text": [
      "<pymongo.results.UpdateResult object at 0x103a370c8>\n"
     ]
    },
    {
     "data": {
      "text/plain": [
       "{'originCollection': 'gapspecies',\n",
       " 'originID': ObjectId('59b843080601bad0b9df0efd'),\n",
       " 'searchURL': 'https://bison.usgs.gov/api/search.json?count=1&tsn=180120'}"
      ]
     },
     "metadata": {},
     "output_type": "display_data"
    },
    {
     "name": "stdout",
     "output_type": "stream",
     "text": [
      "<pymongo.results.UpdateResult object at 0x103a37f08>\n"
     ]
    },
    {
     "data": {
      "text/plain": [
       "{'originCollection': 'gapspecies',\n",
       " 'originID': ObjectId('59b843080601bad0b9df0efe'),\n",
       " 'searchURL': 'https://bison.usgs.gov/api/search.json?count=1&tsn=180383'}"
      ]
     },
     "metadata": {},
     "output_type": "display_data"
    },
    {
     "name": "stdout",
     "output_type": "stream",
     "text": [
      "<pymongo.results.UpdateResult object at 0x103a450c8>\n"
     ]
    },
    {
     "data": {
      "text/plain": [
       "{'originCollection': 'gapspecies',\n",
       " 'originID': ObjectId('59b843090601bad0b9df0eff'),\n",
       " 'searchURL': 'https://bison.usgs.gov/api/search.json?count=1&tsn=180159'}"
      ]
     },
     "metadata": {},
     "output_type": "display_data"
    },
    {
     "name": "stdout",
     "output_type": "stream",
     "text": [
      "<pymongo.results.UpdateResult object at 0x103a49588>\n"
     ]
    },
    {
     "data": {
      "text/plain": [
       "{'originCollection': 'gapspecies',\n",
       " 'originID': ObjectId('59b843090601bad0b9df0f00'),\n",
       " 'searchURL': 'https://bison.usgs.gov/api/search.json?count=1&type=scientific_name&species=Eleutherodactylus guttilatus'}"
      ]
     },
     "metadata": {},
     "output_type": "display_data"
    },
    {
     "name": "stdout",
     "output_type": "stream",
     "text": [
      "<pymongo.results.UpdateResult object at 0x103a51108>\n"
     ]
    },
    {
     "data": {
      "text/plain": [
       "{'originCollection': 'gapspecies',\n",
       " 'originID': ObjectId('59b8430a0601bad0b9df0f01'),\n",
       " 'searchURL': 'https://bison.usgs.gov/api/search.json?count=1&tsn=173701'}"
      ]
     },
     "metadata": {},
     "output_type": "display_data"
    },
    {
     "name": "stdout",
     "output_type": "stream",
     "text": [
      "<pymongo.results.UpdateResult object at 0x103a56188>\n"
     ]
    },
    {
     "data": {
      "text/plain": [
       "{'originCollection': 'gapspecies',\n",
       " 'originID': ObjectId('59b8430a0601bad0b9df0f02'),\n",
       " 'searchURL': 'https://bison.usgs.gov/api/search.json?count=1&tsn=668289'}"
      ]
     },
     "metadata": {},
     "output_type": "display_data"
    },
    {
     "name": "stdout",
     "output_type": "stream",
     "text": [
      "<pymongo.results.UpdateResult object at 0x103a5a088>\n"
     ]
    },
    {
     "data": {
      "text/plain": [
       "{'originCollection': 'gapspecies',\n",
       " 'originID': ObjectId('59b8430a0601bad0b9df0f03'),\n",
       " 'searchURL': 'https://bison.usgs.gov/api/search.json?count=1&tsn=175377'}"
      ]
     },
     "metadata": {},
     "output_type": "display_data"
    },
    {
     "name": "stdout",
     "output_type": "stream",
     "text": [
      "<pymongo.results.UpdateResult object at 0x103a60108>\n"
     ]
    },
    {
     "data": {
      "text/plain": [
       "{'originCollection': 'gapspecies',\n",
       " 'originID': ObjectId('59b8430b0601bad0b9df0f04'),\n",
       " 'searchURL': 'https://bison.usgs.gov/api/search.json?count=1&tsn=552487'}"
      ]
     },
     "metadata": {},
     "output_type": "display_data"
    },
    {
     "name": "stdout",
     "output_type": "stream",
     "text": [
      "<pymongo.results.UpdateResult object at 0x103a66748>\n"
     ]
    },
    {
     "data": {
      "text/plain": [
       "{'originCollection': 'gapspecies',\n",
       " 'originID': ObjectId('59b8430b0601bad0b9df0f05'),\n",
       " 'searchURL': 'https://bison.usgs.gov/api/search.json?count=1&tsn=900166'}"
      ]
     },
     "metadata": {},
     "output_type": "display_data"
    },
    {
     "name": "stdout",
     "output_type": "stream",
     "text": [
      "<pymongo.results.UpdateResult object at 0x103a6d0c8>\n"
     ]
    },
    {
     "data": {
      "text/plain": [
       "{'originCollection': 'gapspecies',\n",
       " 'originID': ObjectId('59b8430c0601bad0b9df0f06'),\n",
       " 'searchURL': 'https://bison.usgs.gov/api/search.json?count=1&tsn=179943'}"
      ]
     },
     "metadata": {},
     "output_type": "display_data"
    },
    {
     "name": "stdout",
     "output_type": "stream",
     "text": [
      "<pymongo.results.UpdateResult object at 0x103a716c8>\n"
     ]
    },
    {
     "data": {
      "text/plain": [
       "{'originCollection': 'gapspecies',\n",
       " 'originID': ObjectId('59b8430c0601bad0b9df0f07'),\n",
       " 'searchURL': 'https://bison.usgs.gov/api/search.json?count=1&tsn=180230'}"
      ]
     },
     "metadata": {},
     "output_type": "display_data"
    },
    {
     "name": "stdout",
     "output_type": "stream",
     "text": [
      "<pymongo.results.UpdateResult object at 0x103a78048>\n"
     ]
    },
    {
     "data": {
      "text/plain": [
       "{'originCollection': 'gapspecies',\n",
       " 'originID': ObjectId('59b8430c0601bad0b9df0f08'),\n",
       " 'searchURL': 'https://bison.usgs.gov/api/search.json?count=1&tsn=564567'}"
      ]
     },
     "metadata": {},
     "output_type": "display_data"
    },
    {
     "name": "stdout",
     "output_type": "stream",
     "text": [
      "<pymongo.results.UpdateResult object at 0x103a7c888>\n"
     ]
    },
    {
     "data": {
      "text/plain": [
       "{'originCollection': 'gapspecies',\n",
       " 'originID': ObjectId('59b8430d0601bad0b9df0f09'),\n",
       " 'searchURL': 'https://bison.usgs.gov/api/search.json?count=1&tsn=174023'}"
      ]
     },
     "metadata": {},
     "output_type": "display_data"
    },
    {
     "name": "stdout",
     "output_type": "stream",
     "text": [
      "<pymongo.results.UpdateResult object at 0x103a85108>\n"
     ]
    },
    {
     "data": {
      "text/plain": [
       "{'originCollection': 'gapspecies',\n",
       " 'originID': ObjectId('59b8430d0601bad0b9df0f0a'),\n",
       " 'searchURL': 'https://bison.usgs.gov/api/search.json?count=1&tsn=174317'}"
      ]
     },
     "metadata": {},
     "output_type": "display_data"
    },
    {
     "name": "stdout",
     "output_type": "stream",
     "text": [
      "<pymongo.results.UpdateResult object at 0x103a89108>\n"
     ]
    },
    {
     "data": {
      "text/plain": [
       "{'originCollection': 'gapspecies',\n",
       " 'originID': ObjectId('59b8430d0601bad0b9df0f0b'),\n",
       " 'searchURL': 'https://bison.usgs.gov/api/search.json?count=1&tsn=174020'}"
      ]
     },
     "metadata": {},
     "output_type": "display_data"
    },
    {
     "name": "stdout",
     "output_type": "stream",
     "text": [
      "<pymongo.results.UpdateResult object at 0x103a8d3c8>\n"
     ]
    },
    {
     "data": {
      "text/plain": [
       "{'originCollection': 'gapspecies',\n",
       " 'originID': ObjectId('59b8430e0601bad0b9df0f0c'),\n",
       " 'searchURL': 'https://bison.usgs.gov/api/search.json?count=1&tsn=208948'}"
      ]
     },
     "metadata": {},
     "output_type": "display_data"
    },
    {
     "name": "stdout",
     "output_type": "stream",
     "text": [
      "<pymongo.results.UpdateResult object at 0x103a8dd48>\n"
     ]
    },
    {
     "data": {
      "text/plain": [
       "{'originCollection': 'gapspecies',\n",
       " 'originID': ObjectId('59b8430e0601bad0b9df0f0d'),\n",
       " 'searchURL': 'https://bison.usgs.gov/api/search.json?count=1&tsn=174125'}"
      ]
     },
     "metadata": {},
     "output_type": "display_data"
    },
    {
     "name": "stdout",
     "output_type": "stream",
     "text": [
      "<pymongo.results.UpdateResult object at 0x103a95688>\n"
     ]
    },
    {
     "data": {
      "text/plain": [
       "{'originCollection': 'gapspecies',\n",
       " 'originID': ObjectId('59b8430f0601bad0b9df0f0e'),\n",
       " 'searchURL': 'https://bison.usgs.gov/api/search.json?count=1&tsn=564600'}"
      ]
     },
     "metadata": {},
     "output_type": "display_data"
    },
    {
     "name": "stdout",
     "output_type": "stream",
     "text": [
      "<pymongo.results.UpdateResult object at 0x103a9f248>\n"
     ]
    },
    {
     "data": {
      "text/plain": [
       "{'originCollection': 'gapspecies',\n",
       " 'originID': ObjectId('59b8430f0601bad0b9df0f0f'),\n",
       " 'searchURL': 'https://bison.usgs.gov/api/search.json?count=1&tsn=173767'}"
      ]
     },
     "metadata": {},
     "output_type": "display_data"
    },
    {
     "name": "stdout",
     "output_type": "stream",
     "text": [
      "<pymongo.results.UpdateResult object at 0x103aa3648>\n"
     ]
    },
    {
     "data": {
      "text/plain": [
       "{'originCollection': 'gapspecies',\n",
       " 'originID': ObjectId('59b8430f0601bad0b9df0f10'),\n",
       " 'searchURL': 'https://bison.usgs.gov/api/search.json?count=1&tsn=173944'}"
      ]
     },
     "metadata": {},
     "output_type": "display_data"
    },
    {
     "name": "stdout",
     "output_type": "stream",
     "text": [
      "<pymongo.results.UpdateResult object at 0x103aa91c8>\n"
     ]
    },
    {
     "data": {
      "text/plain": [
       "{'originCollection': 'gapspecies',\n",
       " 'originID': ObjectId('59b843100601bad0b9df0f11'),\n",
       " 'searchURL': 'https://bison.usgs.gov/api/search.json?count=1&tsn=174140'}"
      ]
     },
     "metadata": {},
     "output_type": "display_data"
    },
    {
     "name": "stdout",
     "output_type": "stream",
     "text": [
      "<pymongo.results.UpdateResult object at 0x103aaf048>\n"
     ]
    },
    {
     "data": {
      "text/plain": [
       "{'originCollection': 'gapspecies',\n",
       " 'originID': ObjectId('59b843100601bad0b9df0f12'),\n",
       " 'searchURL': 'https://bison.usgs.gov/api/search.json?count=1&tsn=174166'}"
      ]
     },
     "metadata": {},
     "output_type": "display_data"
    },
    {
     "name": "stdout",
     "output_type": "stream",
     "text": [
      "<pymongo.results.UpdateResult object at 0x103ab4148>\n"
     ]
    },
    {
     "data": {
      "text/plain": [
       "{'originCollection': 'gapspecies',\n",
       " 'originID': ObjectId('59b843100601bad0b9df0f13'),\n",
       " 'searchURL': 'https://bison.usgs.gov/api/search.json?count=1&tsn=174109'}"
      ]
     },
     "metadata": {},
     "output_type": "display_data"
    },
    {
     "name": "stdout",
     "output_type": "stream",
     "text": [
      "<pymongo.results.UpdateResult object at 0x103ab9688>\n"
     ]
    },
    {
     "data": {
      "text/plain": [
       "{'originCollection': 'gapspecies',\n",
       " 'originID': ObjectId('59b843100601bad0b9df0f14'),\n",
       " 'searchURL': 'https://bison.usgs.gov/api/search.json?count=1&tsn=175011'}"
      ]
     },
     "metadata": {},
     "output_type": "display_data"
    },
    {
     "name": "stdout",
     "output_type": "stream",
     "text": [
      "<pymongo.results.UpdateResult object at 0x103ab9fc8>\n"
     ]
    },
    {
     "data": {
      "text/plain": [
       "{'originCollection': 'gapspecies',\n",
       " 'originID': ObjectId('59b843110601bad0b9df0f15'),\n",
       " 'searchURL': 'https://bison.usgs.gov/api/search.json?count=1&tsn=180290'}"
      ]
     },
     "metadata": {},
     "output_type": "display_data"
    },
    {
     "name": "stdout",
     "output_type": "stream",
     "text": [
      "<pymongo.results.UpdateResult object at 0x103ac5048>\n"
     ]
    },
    {
     "data": {
      "text/plain": [
       "{'originCollection': 'gapspecies',\n",
       " 'originID': ObjectId('59b843110601bad0b9df0f16'),\n",
       " 'searchURL': 'https://bison.usgs.gov/api/search.json?count=1&tsn=180051'}"
      ]
     },
     "metadata": {},
     "output_type": "display_data"
    },
    {
     "name": "stdout",
     "output_type": "stream",
     "text": [
      "<pymongo.results.UpdateResult object at 0x103acc688>\n"
     ]
    },
    {
     "data": {
      "text/plain": [
       "{'originCollection': 'gapspecies',\n",
       " 'originID': ObjectId('59b843110601bad0b9df0f17'),\n",
       " 'searchURL': 'https://bison.usgs.gov/api/search.json?count=1&tsn=180216'}"
      ]
     },
     "metadata": {},
     "output_type": "display_data"
    },
    {
     "name": "stdout",
     "output_type": "stream",
     "text": [
      "<pymongo.results.UpdateResult object at 0x103ad70c8>\n"
     ]
    },
    {
     "data": {
      "text/plain": [
       "{'originCollection': 'gapspecies',\n",
       " 'originID': ObjectId('59b843120601bad0b9df0f18'),\n",
       " 'searchURL': 'https://bison.usgs.gov/api/search.json?count=1&tsn=175877'}"
      ]
     },
     "metadata": {},
     "output_type": "display_data"
    },
    {
     "name": "stdout",
     "output_type": "stream",
     "text": [
      "<pymongo.results.UpdateResult object at 0x103adb748>\n"
     ]
    },
    {
     "data": {
      "text/plain": [
       "{'originCollection': 'gapspecies',\n",
       " 'originID': ObjectId('59b843120601bad0b9df0f19'),\n",
       " 'searchURL': 'https://bison.usgs.gov/api/search.json?count=1&tsn=175309'}"
      ]
     },
     "metadata": {},
     "output_type": "display_data"
    },
    {
     "name": "stdout",
     "output_type": "stream",
     "text": [
      "<pymongo.results.UpdateResult object at 0x103ae2048>\n"
     ]
    },
    {
     "data": {
      "text/plain": [
       "{'originCollection': 'gapspecies',\n",
       " 'originID': ObjectId('59b843130601bad0b9df0f1a'),\n",
       " 'searchURL': 'https://bison.usgs.gov/api/search.json?count=1&tsn=177683'}"
      ]
     },
     "metadata": {},
     "output_type": "display_data"
    },
    {
     "name": "stdout",
     "output_type": "stream",
     "text": [
      "<pymongo.results.UpdateResult object at 0x103ae7888>\n"
     ]
    },
    {
     "data": {
      "text/plain": [
       "{'originCollection': 'gapspecies',\n",
       " 'originID': ObjectId('59b843130601bad0b9df0f1b'),\n",
       " 'searchURL': 'https://bison.usgs.gov/api/search.json?count=1&tsn=178291'}"
      ]
     },
     "metadata": {},
     "output_type": "display_data"
    },
    {
     "name": "stdout",
     "output_type": "stream",
     "text": [
      "<pymongo.results.UpdateResult object at 0x103aed088>\n"
     ]
    },
    {
     "data": {
      "text/plain": [
       "{'originCollection': 'gapspecies',\n",
       " 'originID': ObjectId('59b843130601bad0b9df0f1c'),\n",
       " 'searchURL': 'https://bison.usgs.gov/api/search.json?count=1&tsn=208320'}"
      ]
     },
     "metadata": {},
     "output_type": "display_data"
    },
    {
     "name": "stdout",
     "output_type": "stream",
     "text": [
      "<pymongo.results.UpdateResult object at 0x103af4748>\n"
     ]
    },
    {
     "data": {
      "text/plain": [
       "{'originCollection': 'gapspecies',\n",
       " 'originID': ObjectId('59b843140601bad0b9df0f1d'),\n",
       " 'searchURL': 'https://bison.usgs.gov/api/search.json?count=1&tsn=173618'}"
      ]
     },
     "metadata": {},
     "output_type": "display_data"
    },
    {
     "name": "stdout",
     "output_type": "stream",
     "text": [
      "<pymongo.results.UpdateResult object at 0x103afa1c8>\n"
     ]
    },
    {
     "data": {
      "text/plain": [
       "{'originCollection': 'gapspecies',\n",
       " 'originID': ObjectId('59b843140601bad0b9df0f1e'),\n",
       " 'searchURL': 'https://bison.usgs.gov/api/search.json?count=1&tsn=775084'}"
      ]
     },
     "metadata": {},
     "output_type": "display_data"
    },
    {
     "name": "stdout",
     "output_type": "stream",
     "text": [
      "<pymongo.results.UpdateResult object at 0x103b00088>\n"
     ]
    },
    {
     "data": {
      "text/plain": [
       "{'originCollection': 'gapspecies',\n",
       " 'originID': ObjectId('59b843150601bad0b9df0f1f'),\n",
       " 'searchURL': 'https://bison.usgs.gov/api/search.json?count=1&tsn=179730'}"
      ]
     },
     "metadata": {},
     "output_type": "display_data"
    },
    {
     "name": "stdout",
     "output_type": "stream",
     "text": [
      "<pymongo.results.UpdateResult object at 0x103b05208>\n"
     ]
    },
    {
     "data": {
      "text/plain": [
       "{'originCollection': 'gapspecies',\n",
       " 'originID': ObjectId('59b843150601bad0b9df0f20'),\n",
       " 'searchURL': 'https://bison.usgs.gov/api/search.json?count=1&tsn=179953'}"
      ]
     },
     "metadata": {},
     "output_type": "display_data"
    },
    {
     "name": "stdout",
     "output_type": "stream",
     "text": [
      "<pymongo.results.UpdateResult object at 0x103b0a688>\n"
     ]
    },
    {
     "data": {
      "text/plain": [
       "{'originCollection': 'gapspecies',\n",
       " 'originID': ObjectId('59b843150601bad0b9df0f21'),\n",
       " 'searchURL': 'https://bison.usgs.gov/api/search.json?count=1&tsn=179953'}"
      ]
     },
     "metadata": {},
     "output_type": "display_data"
    },
    {
     "name": "stdout",
     "output_type": "stream",
     "text": [
      "<pymongo.results.UpdateResult object at 0x103b100c8>\n"
     ]
    },
    {
     "data": {
      "text/plain": [
       "{'originCollection': 'gapspecies',\n",
       " 'originID': ObjectId('59b843160601bad0b9df0f22'),\n",
       " 'searchURL': 'https://bison.usgs.gov/api/search.json?count=1&tsn=178901'}"
      ]
     },
     "metadata": {},
     "output_type": "display_data"
    },
    {
     "name": "stdout",
     "output_type": "stream",
     "text": [
      "<pymongo.results.UpdateResult object at 0x103b16548>\n"
     ]
    },
    {
     "data": {
      "text/plain": [
       "{'originCollection': 'gapspecies',\n",
       " 'originID': ObjectId('59b843160601bad0b9df0f23'),\n",
       " 'searchURL': 'https://bison.usgs.gov/api/search.json?count=1&tsn=180577'}"
      ]
     },
     "metadata": {},
     "output_type": "display_data"
    },
    {
     "name": "stdout",
     "output_type": "stream",
     "text": [
      "<pymongo.results.UpdateResult object at 0x103b1c048>\n"
     ]
    },
    {
     "data": {
      "text/plain": [
       "{'originCollection': 'gapspecies',\n",
       " 'originID': ObjectId('59b843170601bad0b9df0f24'),\n",
       " 'searchURL': 'https://bison.usgs.gov/api/search.json?count=1&tsn=775976'}"
      ]
     },
     "metadata": {},
     "output_type": "display_data"
    },
    {
     "name": "stdout",
     "output_type": "stream",
     "text": [
      "<pymongo.results.UpdateResult object at 0x103b226c8>\n"
     ]
    },
    {
     "data": {
      "text/plain": [
       "{'originCollection': 'gapspecies',\n",
       " 'originID': ObjectId('59b843170601bad0b9df0f25'),\n",
       " 'searchURL': 'https://bison.usgs.gov/api/search.json?count=1&tsn=179853'}"
      ]
     },
     "metadata": {},
     "output_type": "display_data"
    },
    {
     "name": "stdout",
     "output_type": "stream",
     "text": [
      "<pymongo.results.UpdateResult object at 0x103b2b108>\n"
     ]
    },
    {
     "data": {
      "text/plain": [
       "{'originCollection': 'gapspecies',\n",
       " 'originID': ObjectId('59b843170601bad0b9df0f26'),\n",
       " 'searchURL': 'https://bison.usgs.gov/api/search.json?count=1&tsn=668290'}"
      ]
     },
     "metadata": {},
     "output_type": "display_data"
    },
    {
     "name": "stdout",
     "output_type": "stream",
     "text": [
      "<pymongo.results.UpdateResult object at 0x103b2f588>\n"
     ]
    },
    {
     "data": {
      "text/plain": [
       "{'originCollection': 'gapspecies',\n",
       " 'originID': ObjectId('59b843180601bad0b9df0f27'),\n",
       " 'searchURL': 'https://bison.usgs.gov/api/search.json?count=1&tsn=208283'}"
      ]
     },
     "metadata": {},
     "output_type": "display_data"
    },
    {
     "name": "stdout",
     "output_type": "stream",
     "text": [
      "<pymongo.results.UpdateResult object at 0x103b37048>\n"
     ]
    },
    {
     "data": {
      "text/plain": [
       "{'originCollection': 'gapspecies',\n",
       " 'originID': ObjectId('59b843180601bad0b9df0f28'),\n",
       " 'searchURL': 'https://bison.usgs.gov/api/search.json?count=1&tsn=178073'}"
      ]
     },
     "metadata": {},
     "output_type": "display_data"
    },
    {
     "name": "stdout",
     "output_type": "stream",
     "text": [
      "<pymongo.results.UpdateResult object at 0x103b3b188>\n"
     ]
    },
    {
     "data": {
      "text/plain": [
       "{'originCollection': 'gapspecies',\n",
       " 'originID': ObjectId('59b843180601bad0b9df0f29'),\n",
       " 'searchURL': 'https://bison.usgs.gov/api/search.json?count=1&tsn=726117'}"
      ]
     },
     "metadata": {},
     "output_type": "display_data"
    },
    {
     "name": "stdout",
     "output_type": "stream",
     "text": [
      "<pymongo.results.UpdateResult object at 0x103b3e4c8>\n"
     ]
    },
    {
     "data": {
      "text/plain": [
       "{'originCollection': 'gapspecies',\n",
       " 'originID': ObjectId('59b843190601bad0b9df0f2a'),\n",
       " 'searchURL': 'https://bison.usgs.gov/api/search.json?count=1&tsn=174352'}"
      ]
     },
     "metadata": {},
     "output_type": "display_data"
    },
    {
     "name": "stdout",
     "output_type": "stream",
     "text": [
      "<pymongo.results.UpdateResult object at 0x103b46048>\n"
     ]
    },
    {
     "data": {
      "text/plain": [
       "{'originCollection': 'gapspecies',\n",
       " 'originID': ObjectId('59b843190601bad0b9df0f2b'),\n",
       " 'searchURL': 'https://bison.usgs.gov/api/search.json?count=1&tsn=775942'}"
      ]
     },
     "metadata": {},
     "output_type": "display_data"
    },
    {
     "name": "stdout",
     "output_type": "stream",
     "text": [
      "<pymongo.results.UpdateResult object at 0x103b4b048>\n"
     ]
    },
    {
     "data": {
      "text/plain": [
       "{'originCollection': 'gapspecies',\n",
       " 'originID': ObjectId('59b843190601bad0b9df0f2c'),\n",
       " 'searchURL': 'https://bison.usgs.gov/api/search.json?count=1&tsn=175068'}"
      ]
     },
     "metadata": {},
     "output_type": "display_data"
    },
    {
     "name": "stdout",
     "output_type": "stream",
     "text": [
      "<pymongo.results.UpdateResult object at 0x103b51688>\n"
     ]
    },
    {
     "data": {
      "text/plain": [
       "{'originCollection': 'gapspecies',\n",
       " 'originID': ObjectId('59b843190601bad0b9df0f2d'),\n",
       " 'searchURL': 'https://bison.usgs.gov/api/search.json?count=1&tsn=176580'}"
      ]
     },
     "metadata": {},
     "output_type": "display_data"
    },
    {
     "name": "stdout",
     "output_type": "stream",
     "text": [
      "<pymongo.results.UpdateResult object at 0x103b54588>\n"
     ]
    },
    {
     "data": {
      "text/plain": [
       "{'originCollection': 'gapspecies',\n",
       " 'originID': ObjectId('59b8431a0601bad0b9df0f2e'),\n",
       " 'searchURL': 'https://bison.usgs.gov/api/search.json?count=1&tsn=179375'}"
      ]
     },
     "metadata": {},
     "output_type": "display_data"
    },
    {
     "name": "stdout",
     "output_type": "stream",
     "text": [
      "<pymongo.results.UpdateResult object at 0x103b61408>\n"
     ]
    },
    {
     "data": {
      "text/plain": [
       "{'originCollection': 'gapspecies',\n",
       " 'originID': ObjectId('59b8431a0601bad0b9df0f2f'),\n",
       " 'searchURL': 'https://bison.usgs.gov/api/search.json?count=1&tsn=180001'}"
      ]
     },
     "metadata": {},
     "output_type": "display_data"
    },
    {
     "name": "stdout",
     "output_type": "stream",
     "text": [
      "<pymongo.results.UpdateResult object at 0x103b65748>\n"
     ]
    },
    {
     "data": {
      "text/plain": [
       "{'originCollection': 'gapspecies',\n",
       " 'originID': ObjectId('59b8431a0601bad0b9df0f30'),\n",
       " 'searchURL': 'https://bison.usgs.gov/api/search.json?count=1&tsn=173680'}"
      ]
     },
     "metadata": {},
     "output_type": "display_data"
    },
    {
     "name": "stdout",
     "output_type": "stream",
     "text": [
      "<pymongo.results.UpdateResult object at 0x103b683c8>\n"
     ]
    },
    {
     "data": {
      "text/plain": [
       "{'originCollection': 'gapspecies',\n",
       " 'originID': ObjectId('59b8431b0601bad0b9df0f31'),\n",
       " 'searchURL': 'https://bison.usgs.gov/api/search.json?count=1&tsn=173620'}"
      ]
     },
     "metadata": {},
     "output_type": "display_data"
    },
    {
     "name": "stdout",
     "output_type": "stream",
     "text": [
      "<pymongo.results.UpdateResult object at 0x103b72648>\n"
     ]
    },
    {
     "data": {
      "text/plain": [
       "{'originCollection': 'gapspecies',\n",
       " 'originID': ObjectId('59b8431b0601bad0b9df0f32'),\n",
       " 'searchURL': 'https://bison.usgs.gov/api/search.json?count=1&tsn=175094'}"
      ]
     },
     "metadata": {},
     "output_type": "display_data"
    },
    {
     "name": "stdout",
     "output_type": "stream",
     "text": [
      "<pymongo.results.UpdateResult object at 0x103b73388>\n"
     ]
    },
    {
     "data": {
      "text/plain": [
       "{'originCollection': 'gapspecies',\n",
       " 'originID': ObjectId('59b8431b0601bad0b9df0f33'),\n",
       " 'searchURL': 'https://bison.usgs.gov/api/search.json?count=1&tsn=206987'}"
      ]
     },
     "metadata": {},
     "output_type": "display_data"
    },
    {
     "name": "stdout",
     "output_type": "stream",
     "text": [
      "<pymongo.results.UpdateResult object at 0x103b7a288>\n"
     ]
    },
    {
     "data": {
      "text/plain": [
       "{'originCollection': 'gapspecies',\n",
       " 'originID': ObjectId('59b8431b0601bad0b9df0f34'),\n",
       " 'searchURL': 'https://bison.usgs.gov/api/search.json?count=1&tsn=180152'}"
      ]
     },
     "metadata": {},
     "output_type": "display_data"
    },
    {
     "name": "stdout",
     "output_type": "stream",
     "text": [
      "<pymongo.results.UpdateResult object at 0x103b7f0c8>\n"
     ]
    },
    {
     "data": {
      "text/plain": [
       "{'originCollection': 'gapspecies',\n",
       " 'originID': ObjectId('59b8431b0601bad0b9df0f35'),\n",
       " 'searchURL': 'https://bison.usgs.gov/api/search.json?count=1&tsn=208748'}"
      ]
     },
     "metadata": {},
     "output_type": "display_data"
    },
    {
     "name": "stdout",
     "output_type": "stream",
     "text": [
      "<pymongo.results.UpdateResult object at 0x103b8a088>\n"
     ]
    },
    {
     "data": {
      "text/plain": [
       "{'originCollection': 'gapspecies',\n",
       " 'originID': ObjectId('59b8431c0601bad0b9df0f36'),\n",
       " 'searchURL': 'https://bison.usgs.gov/api/search.json?count=1&tsn=180190'}"
      ]
     },
     "metadata": {},
     "output_type": "display_data"
    },
    {
     "name": "stdout",
     "output_type": "stream",
     "text": [
      "<pymongo.results.UpdateResult object at 0x103b8f408>\n"
     ]
    },
    {
     "data": {
      "text/plain": [
       "{'originCollection': 'gapspecies',\n",
       " 'originID': ObjectId('59b8431c0601bad0b9df0f37'),\n",
       " 'searchURL': 'https://bison.usgs.gov/api/search.json?count=1&tsn=174283'}"
      ]
     },
     "metadata": {},
     "output_type": "display_data"
    },
    {
     "name": "stdout",
     "output_type": "stream",
     "text": [
      "<pymongo.results.UpdateResult object at 0x103b94048>\n"
     ]
    },
    {
     "data": {
      "text/plain": [
       "{'originCollection': 'gapspecies',\n",
       " 'originID': ObjectId('59b8431c0601bad0b9df0f38'),\n",
       " 'searchURL': 'https://bison.usgs.gov/api/search.json?count=1&tsn=586156'}"
      ]
     },
     "metadata": {},
     "output_type": "display_data"
    },
    {
     "name": "stdout",
     "output_type": "stream",
     "text": [
      "<pymongo.results.UpdateResult object at 0x103b9a188>\n"
     ]
    },
    {
     "data": {
      "text/plain": [
       "{'originCollection': 'gapspecies',\n",
       " 'originID': ObjectId('59b8431c0601bad0b9df0f39'),\n",
       " 'searchURL': 'https://bison.usgs.gov/api/search.json?count=1&tsn=174139'}"
      ]
     },
     "metadata": {},
     "output_type": "display_data"
    },
    {
     "name": "stdout",
     "output_type": "stream",
     "text": [
      "<pymongo.results.UpdateResult object at 0x103b9f688>\n"
     ]
    },
    {
     "data": {
      "text/plain": [
       "{'originCollection': 'gapspecies',\n",
       " 'originID': ObjectId('59b8431d0601bad0b9df0f3a'),\n",
       " 'searchURL': 'https://bison.usgs.gov/api/search.json?count=1&tsn=683040'}"
      ]
     },
     "metadata": {},
     "output_type": "display_data"
    },
    {
     "name": "stdout",
     "output_type": "stream",
     "text": [
      "<pymongo.results.UpdateResult object at 0x103ba6288>\n"
     ]
    },
    {
     "data": {
      "text/plain": [
       "{'originCollection': 'gapspecies',\n",
       " 'originID': ObjectId('59b8431d0601bad0b9df0f3b'),\n",
       " 'searchURL': 'https://bison.usgs.gov/api/search.json?count=1&tsn=551771'}"
      ]
     },
     "metadata": {},
     "output_type": "display_data"
    },
    {
     "name": "stdout",
     "output_type": "stream",
     "text": [
      "<pymongo.results.UpdateResult object at 0x103bab0c8>\n"
     ]
    },
    {
     "data": {
      "text/plain": [
       "{'originCollection': 'gapspecies',\n",
       " 'originID': ObjectId('59b8431d0601bad0b9df0f3c'),\n",
       " 'searchURL': 'https://bison.usgs.gov/api/search.json?count=1&tsn=178347'}"
      ]
     },
     "metadata": {},
     "output_type": "display_data"
    },
    {
     "name": "stdout",
     "output_type": "stream",
     "text": [
      "<pymongo.results.UpdateResult object at 0x103bae748>\n"
     ]
    },
    {
     "data": {
      "text/plain": [
       "{'originCollection': 'gapspecies',\n",
       " 'originID': ObjectId('59b8431d0601bad0b9df0f3d'),\n",
       " 'searchURL': 'https://bison.usgs.gov/api/search.json?count=1&tsn=174277'}"
      ]
     },
     "metadata": {},
     "output_type": "display_data"
    },
    {
     "name": "stdout",
     "output_type": "stream",
     "text": [
      "<pymongo.results.UpdateResult object at 0x103bb5188>\n"
     ]
    },
    {
     "data": {
      "text/plain": [
       "{'originCollection': 'gapspecies',\n",
       " 'originID': ObjectId('59b8431e0601bad0b9df0f3e'),\n",
       " 'searchURL': 'https://bison.usgs.gov/api/search.json?count=1&tsn=683046'}"
      ]
     },
     "metadata": {},
     "output_type": "display_data"
    },
    {
     "name": "stdout",
     "output_type": "stream",
     "text": [
      "<pymongo.results.UpdateResult object at 0x103bba1c8>\n"
     ]
    },
    {
     "data": {
      "text/plain": [
       "{'originCollection': 'gapspecies',\n",
       " 'originID': ObjectId('59b8431e0601bad0b9df0f3f'),\n",
       " 'searchURL': 'https://bison.usgs.gov/api/search.json?count=1&tsn=552494'}"
      ]
     },
     "metadata": {},
     "output_type": "display_data"
    },
    {
     "name": "stdout",
     "output_type": "stream",
     "text": [
      "<pymongo.results.UpdateResult object at 0x103bbf048>\n"
     ]
    },
    {
     "data": {
      "text/plain": [
       "{'originCollection': 'gapspecies',\n",
       " 'originID': ObjectId('59b8431e0601bad0b9df0f40'),\n",
       " 'searchURL': 'https://bison.usgs.gov/api/search.json?count=1&tsn=174235'}"
      ]
     },
     "metadata": {},
     "output_type": "display_data"
    },
    {
     "name": "stdout",
     "output_type": "stream",
     "text": [
      "<pymongo.results.UpdateResult object at 0x103bc3148>\n"
     ]
    },
    {
     "data": {
      "text/plain": [
       "{'originCollection': 'gapspecies',\n",
       " 'originID': ObjectId('59b8431e0601bad0b9df0f41'),\n",
       " 'searchURL': 'https://bison.usgs.gov/api/search.json?count=1&tsn=564568'}"
      ]
     },
     "metadata": {},
     "output_type": "display_data"
    },
    {
     "name": "stdout",
     "output_type": "stream",
     "text": [
      "<pymongo.results.UpdateResult object at 0x103bca7c8>\n"
     ]
    },
    {
     "data": {
      "text/plain": [
       "{'originCollection': 'gapspecies',\n",
       " 'originID': ObjectId('59b8431f0601bad0b9df0f42'),\n",
       " 'searchURL': 'https://bison.usgs.gov/api/search.json?count=1&tsn=174089'}"
      ]
     },
     "metadata": {},
     "output_type": "display_data"
    },
    {
     "name": "stdout",
     "output_type": "stream",
     "text": [
      "<pymongo.results.UpdateResult object at 0x103bd0088>\n"
     ]
    },
    {
     "data": {
      "text/plain": [
       "{'originCollection': 'gapspecies',\n",
       " 'originID': ObjectId('59b8431f0601bad0b9df0f43'),\n",
       " 'searchURL': 'https://bison.usgs.gov/api/search.json?count=1&tsn=180390'}"
      ]
     },
     "metadata": {},
     "output_type": "display_data"
    },
    {
     "name": "stdout",
     "output_type": "stream",
     "text": [
      "<pymongo.results.UpdateResult object at 0x103bd6048>\n"
     ]
    },
    {
     "data": {
      "text/plain": [
       "{'originCollection': 'gapspecies',\n",
       " 'originID': ObjectId('59b8431f0601bad0b9df0f44'),\n",
       " 'searchURL': 'https://bison.usgs.gov/api/search.json?count=1&tsn=179870'}"
      ]
     },
     "metadata": {},
     "output_type": "display_data"
    },
    {
     "name": "stdout",
     "output_type": "stream",
     "text": [
      "<pymongo.results.UpdateResult object at 0x103bdd6c8>\n"
     ]
    },
    {
     "data": {
      "text/plain": [
       "{'originCollection': 'gapspecies',\n",
       " 'originID': ObjectId('59b8431f0601bad0b9df0f45'),\n",
       " 'searchURL': 'https://bison.usgs.gov/api/search.json?count=1&tsn=552510'}"
      ]
     },
     "metadata": {},
     "output_type": "display_data"
    },
    {
     "name": "stdout",
     "output_type": "stream",
     "text": [
      "<pymongo.results.UpdateResult object at 0x103be30c8>\n"
     ]
    },
    {
     "data": {
      "text/plain": [
       "{'originCollection': 'gapspecies',\n",
       " 'originID': ObjectId('59b843200601bad0b9df0f46'),\n",
       " 'searchURL': 'https://bison.usgs.gov/api/search.json?count=1&tsn=175350'}"
      ]
     },
     "metadata": {},
     "output_type": "display_data"
    },
    {
     "name": "stdout",
     "output_type": "stream",
     "text": [
      "<pymongo.results.UpdateResult object at 0x103be84c8>\n"
     ]
    },
    {
     "data": {
      "text/plain": [
       "{'originCollection': 'gapspecies',\n",
       " 'originID': ObjectId('59b843200601bad0b9df0f47'),\n",
       " 'searchURL': 'https://bison.usgs.gov/api/search.json?count=1&tsn=179973'}"
      ]
     },
     "metadata": {},
     "output_type": "display_data"
    },
    {
     "name": "stdout",
     "output_type": "stream",
     "text": [
      "<pymongo.results.UpdateResult object at 0x103bf02c8>\n"
     ]
    },
    {
     "data": {
      "text/plain": [
       "{'originCollection': 'gapspecies',\n",
       " 'originID': ObjectId('59b843200601bad0b9df0f48'),\n",
       " 'searchURL': 'https://bison.usgs.gov/api/search.json?count=1&tsn=179530'}"
      ]
     },
     "metadata": {},
     "output_type": "display_data"
    },
    {
     "name": "stdout",
     "output_type": "stream",
     "text": [
      "<pymongo.results.UpdateResult object at 0x103bf5508>\n"
     ]
    },
    {
     "data": {
      "text/plain": [
       "{'originCollection': 'gapspecies',\n",
       " 'originID': ObjectId('59b843210601bad0b9df0f49'),\n",
       " 'searchURL': 'https://bison.usgs.gov/api/search.json?count=1&tsn=173587'}"
      ]
     },
     "metadata": {},
     "output_type": "display_data"
    },
    {
     "name": "stdout",
     "output_type": "stream",
     "text": [
      "<pymongo.results.UpdateResult object at 0x103bfb8c8>\n"
     ]
    },
    {
     "data": {
      "text/plain": [
       "{'originCollection': 'gapspecies',\n",
       " 'originID': ObjectId('59b843210601bad0b9df0f4a'),\n",
       " 'searchURL': 'https://bison.usgs.gov/api/search.json?count=1&tsn=173449'}"
      ]
     },
     "metadata": {},
     "output_type": "display_data"
    },
    {
     "name": "stdout",
     "output_type": "stream",
     "text": [
      "<pymongo.results.UpdateResult object at 0x103c010c8>\n"
     ]
    },
    {
     "data": {
      "text/plain": [
       "{'originCollection': 'gapspecies',\n",
       " 'originID': ObjectId('59b843220601bad0b9df0f4b'),\n",
       " 'searchURL': 'https://bison.usgs.gov/api/search.json?count=1&tsn=726195'}"
      ]
     },
     "metadata": {},
     "output_type": "display_data"
    },
    {
     "name": "stdout",
     "output_type": "stream",
     "text": [
      "<pymongo.results.UpdateResult object at 0x103c06388>\n"
     ]
    },
    {
     "data": {
      "text/plain": [
       "{'originCollection': 'gapspecies',\n",
       " 'originID': ObjectId('59b843220601bad0b9df0f4c'),\n",
       " 'searchURL': 'https://bison.usgs.gov/api/search.json?count=1&tsn=179882'}"
      ]
     },
     "metadata": {},
     "output_type": "display_data"
    },
    {
     "name": "stdout",
     "output_type": "stream",
     "text": [
      "<pymongo.results.UpdateResult object at 0x103c0c1c8>\n"
     ]
    },
    {
     "data": {
      "text/plain": [
       "{'originCollection': 'gapspecies',\n",
       " 'originID': ObjectId('59b843220601bad0b9df0f4d'),\n",
       " 'searchURL': 'https://bison.usgs.gov/api/search.json?count=1&tsn=554138'}"
      ]
     },
     "metadata": {},
     "output_type": "display_data"
    },
    {
     "name": "stdout",
     "output_type": "stream",
     "text": [
      "<pymongo.results.UpdateResult object at 0x103c10108>\n"
     ]
    },
    {
     "data": {
      "text/plain": [
       "{'originCollection': 'gapspecies',\n",
       " 'originID': ObjectId('59b843230601bad0b9df0f4e'),\n",
       " 'searchURL': 'https://bison.usgs.gov/api/search.json?count=1&tsn=178775'}"
      ]
     },
     "metadata": {},
     "output_type": "display_data"
    },
    {
     "name": "stdout",
     "output_type": "stream",
     "text": [
      "<pymongo.results.UpdateResult object at 0x103c1a0c8>\n"
     ]
    },
    {
     "data": {
      "text/plain": [
       "{'originCollection': 'gapspecies',\n",
       " 'originID': ObjectId('59b843230601bad0b9df0f4f'),\n",
       " 'searchURL': 'https://bison.usgs.gov/api/search.json?count=1&tsn=179948'}"
      ]
     },
     "metadata": {},
     "output_type": "display_data"
    },
    {
     "name": "stdout",
     "output_type": "stream",
     "text": [
      "<pymongo.results.UpdateResult object at 0x103c1f0c8>\n"
     ]
    },
    {
     "data": {
      "text/plain": [
       "{'originCollection': 'gapspecies',\n",
       " 'originID': ObjectId('59b843230601bad0b9df0f50'),\n",
       " 'searchURL': 'https://bison.usgs.gov/api/search.json?count=1&tsn=179989'}"
      ]
     },
     "metadata": {},
     "output_type": "display_data"
    },
    {
     "name": "stdout",
     "output_type": "stream",
     "text": [
      "<pymongo.results.UpdateResult object at 0x103c1fd08>\n"
     ]
    },
    {
     "data": {
      "text/plain": [
       "{'originCollection': 'gapspecies',\n",
       " 'originID': ObjectId('59b843240601bad0b9df0f51'),\n",
       " 'searchURL': 'https://bison.usgs.gov/api/search.json?count=1&tsn=180283'}"
      ]
     },
     "metadata": {},
     "output_type": "display_data"
    },
    {
     "name": "stdout",
     "output_type": "stream",
     "text": [
      "<pymongo.results.UpdateResult object at 0x103c2c088>\n"
     ]
    },
    {
     "data": {
      "text/plain": [
       "{'originCollection': 'gapspecies',\n",
       " 'originID': ObjectId('59b843240601bad0b9df0f52'),\n",
       " 'searchURL': 'https://bison.usgs.gov/api/search.json?count=1&tsn=176985'}"
      ]
     },
     "metadata": {},
     "output_type": "display_data"
    },
    {
     "name": "stdout",
     "output_type": "stream",
     "text": [
      "<pymongo.results.UpdateResult object at 0x103c308c8>\n"
     ]
    },
    {
     "data": {
      "text/plain": [
       "{'originCollection': 'gapspecies',\n",
       " 'originID': ObjectId('59b843240601bad0b9df0f53'),\n",
       " 'searchURL': 'https://bison.usgs.gov/api/search.json?count=1&tsn=180606'}"
      ]
     },
     "metadata": {},
     "output_type": "display_data"
    },
    {
     "name": "stdout",
     "output_type": "stream",
     "text": [
      "<pymongo.results.UpdateResult object at 0x103c31608>\n"
     ]
    },
    {
     "data": {
      "text/plain": [
       "{'originCollection': 'gapspecies',\n",
       " 'originID': ObjectId('59b843250601bad0b9df0f54'),\n",
       " 'searchURL': 'https://bison.usgs.gov/api/search.json?count=1&type=scientific_name&species=Tamias minimus arizonensis'}"
      ]
     },
     "metadata": {},
     "output_type": "display_data"
    },
    {
     "name": "stdout",
     "output_type": "stream",
     "text": [
      "<pymongo.results.UpdateResult object at 0x103c3d508>\n"
     ]
    },
    {
     "data": {
      "text/plain": [
       "{'originCollection': 'gapspecies',\n",
       " 'originID': ObjectId('59b843250601bad0b9df0f55'),\n",
       " 'searchURL': 'https://bison.usgs.gov/api/search.json?count=1&tsn=726906'}"
      ]
     },
     "metadata": {},
     "output_type": "display_data"
    },
    {
     "name": "stdout",
     "output_type": "stream",
     "text": [
      "<pymongo.results.UpdateResult object at 0x103c3dfc8>\n"
     ]
    },
    {
     "data": {
      "text/plain": [
       "{'originCollection': 'gapspecies',\n",
       " 'originID': ObjectId('59b843260601bad0b9df0f56'),\n",
       " 'searchURL': 'https://bison.usgs.gov/api/search.json?count=1&tsn=175122'}"
      ]
     },
     "metadata": {},
     "output_type": "display_data"
    },
    {
     "name": "stdout",
     "output_type": "stream",
     "text": [
      "<pymongo.results.UpdateResult object at 0x103c44848>\n"
     ]
    },
    {
     "data": {
      "text/plain": [
       "{'originCollection': 'gapspecies',\n",
       " 'originID': ObjectId('59b843260601bad0b9df0f57'),\n",
       " 'searchURL': 'https://bison.usgs.gov/api/search.json?count=1&type=scientific_name&species=Oryzomys palustris natator'}"
      ]
     },
     "metadata": {},
     "output_type": "display_data"
    },
    {
     "name": "stdout",
     "output_type": "stream",
     "text": [
      "<pymongo.results.UpdateResult object at 0x103c50108>\n"
     ]
    },
    {
     "data": {
      "text/plain": [
       "{'originCollection': 'gapspecies',\n",
       " 'originID': ObjectId('59b843270601bad0b9df0f58'),\n",
       " 'searchURL': 'https://bison.usgs.gov/api/search.json?count=1&tsn=177925'}"
      ]
     },
     "metadata": {},
     "output_type": "display_data"
    },
    {
     "name": "stdout",
     "output_type": "stream",
     "text": [
      "<pymongo.results.UpdateResult object at 0x103c55048>\n"
     ]
    },
    {
     "data": {
      "text/plain": [
       "{'originCollection': 'gapspecies',\n",
       " 'originID': ObjectId('59b843270601bad0b9df0f59'),\n",
       " 'searchURL': 'https://bison.usgs.gov/api/search.json?count=1&tsn=178848'}"
      ]
     },
     "metadata": {},
     "output_type": "display_data"
    },
    {
     "name": "stdout",
     "output_type": "stream",
     "text": [
      "<pymongo.results.UpdateResult object at 0x103c5a4c8>\n"
     ]
    },
    {
     "data": {
      "text/plain": [
       "{'originCollection': 'gapspecies',\n",
       " 'originID': ObjectId('59b843280601bad0b9df0f5a'),\n",
       " 'searchURL': 'https://bison.usgs.gov/api/search.json?count=1&tsn=174992'}"
      ]
     },
     "metadata": {},
     "output_type": "display_data"
    },
    {
     "name": "stdout",
     "output_type": "stream",
     "text": [
      "<pymongo.results.UpdateResult object at 0x103c61048>\n"
     ]
    },
    {
     "data": {
      "text/plain": [
       "{'originCollection': 'gapspecies',\n",
       " 'originID': ObjectId('59b843280601bad0b9df0f5b'),\n",
       " 'searchURL': 'https://bison.usgs.gov/api/search.json?count=1&tsn=207312'}"
      ]
     },
     "metadata": {},
     "output_type": "display_data"
    },
    {
     "name": "stdout",
     "output_type": "stream",
     "text": [
      "<pymongo.results.UpdateResult object at 0x103c66848>\n"
     ]
    },
    {
     "data": {
      "text/plain": [
       "{'originCollection': 'gapspecies',\n",
       " 'originID': ObjectId('59b843290601bad0b9df0f5c'),\n",
       " 'searchURL': 'https://bison.usgs.gov/api/search.json?count=1&tsn=175183'}"
      ]
     },
     "metadata": {},
     "output_type": "display_data"
    },
    {
     "name": "stdout",
     "output_type": "stream",
     "text": [
      "<pymongo.results.UpdateResult object at 0x103c6e148>\n"
     ]
    },
    {
     "data": {
      "text/plain": [
       "{'originCollection': 'gapspecies',\n",
       " 'originID': ObjectId('59b843290601bad0b9df0f5d'),\n",
       " 'searchURL': 'https://bison.usgs.gov/api/search.json?count=1&tsn=178541'}"
      ]
     },
     "metadata": {},
     "output_type": "display_data"
    },
    {
     "name": "stdout",
     "output_type": "stream",
     "text": [
      "<pymongo.results.UpdateResult object at 0x103c74288>\n"
     ]
    },
    {
     "data": {
      "text/plain": [
       "{'originCollection': 'gapspecies',\n",
       " 'originID': ObjectId('59b8432a0601bad0b9df0f5e'),\n",
       " 'searchURL': 'https://bison.usgs.gov/api/search.json?count=1&tsn=179939'}"
      ]
     },
     "metadata": {},
     "output_type": "display_data"
    },
    {
     "name": "stdout",
     "output_type": "stream",
     "text": [
      "<pymongo.results.UpdateResult object at 0x103c7b1c8>\n"
     ]
    },
    {
     "data": {
      "text/plain": [
       "{'originCollection': 'gapspecies',\n",
       " 'originID': ObjectId('59b8432a0601bad0b9df0f5f'),\n",
       " 'searchURL': 'https://bison.usgs.gov/api/search.json?count=1&tsn=178333'}"
      ]
     },
     "metadata": {},
     "output_type": "display_data"
    },
    {
     "name": "stdout",
     "output_type": "stream",
     "text": [
      "<pymongo.results.UpdateResult object at 0x103c800c8>\n"
     ]
    },
    {
     "data": {
      "text/plain": [
       "{'originCollection': 'gapspecies',\n",
       " 'originID': ObjectId('59b8432b0601bad0b9df0f60'),\n",
       " 'searchURL': 'https://bison.usgs.gov/api/search.json?count=1&tsn=179532'}"
      ]
     },
     "metadata": {},
     "output_type": "display_data"
    },
    {
     "name": "stdout",
     "output_type": "stream",
     "text": [
      "<pymongo.results.UpdateResult object at 0x103c82388>\n"
     ]
    },
    {
     "data": {
      "text/plain": [
       "{'originCollection': 'gapspecies',\n",
       " 'originID': ObjectId('59b8432b0601bad0b9df0f61'),\n",
       " 'searchURL': 'https://bison.usgs.gov/api/search.json?count=1&tsn=686683'}"
      ]
     },
     "metadata": {},
     "output_type": "display_data"
    },
    {
     "name": "stdout",
     "output_type": "stream",
     "text": [
      "<pymongo.results.UpdateResult object at 0x103c8b1c8>\n"
     ]
    },
    {
     "data": {
      "text/plain": [
       "{'originCollection': 'gapspecies',\n",
       " 'originID': ObjectId('59b8432b0601bad0b9df0f62'),\n",
       " 'searchURL': 'https://bison.usgs.gov/api/search.json?count=1&tsn=176647'}"
      ]
     },
     "metadata": {},
     "output_type": "display_data"
    },
    {
     "name": "stdout",
     "output_type": "stream",
     "text": [
      "<pymongo.results.UpdateResult object at 0x103c90288>\n"
     ]
    },
    {
     "data": {
      "text/plain": [
       "{'originCollection': 'gapspecies',\n",
       " 'originID': ObjectId('59b8432c0601bad0b9df0f63'),\n",
       " 'searchURL': 'https://bison.usgs.gov/api/search.json?count=1&tsn=174482'}"
      ]
     },
     "metadata": {},
     "output_type": "display_data"
    },
    {
     "name": "stdout",
     "output_type": "stream",
     "text": [
      "<pymongo.results.UpdateResult object at 0x1050d7888>\n"
     ]
    },
    {
     "data": {
      "text/plain": [
       "{'originCollection': 'gapspecies',\n",
       " 'originID': ObjectId('59b8432c0601bad0b9df0f64'),\n",
       " 'searchURL': 'https://bison.usgs.gov/api/search.json?count=1&tsn=175905'}"
      ]
     },
     "metadata": {},
     "output_type": "display_data"
    },
    {
     "name": "stdout",
     "output_type": "stream",
     "text": [
      "<pymongo.results.UpdateResult object at 0x1050df1c8>\n"
     ]
    },
    {
     "data": {
      "text/plain": [
       "{'originCollection': 'gapspecies',\n",
       " 'originID': ObjectId('59b8432d0601bad0b9df0f65'),\n",
       " 'searchURL': 'https://bison.usgs.gov/api/search.json?count=1&tsn=173604'}"
      ]
     },
     "metadata": {},
     "output_type": "display_data"
    },
    {
     "name": "stdout",
     "output_type": "stream",
     "text": [
      "<pymongo.results.UpdateResult object at 0x1050e3508>\n"
     ]
    },
    {
     "data": {
      "text/plain": [
       "{'originCollection': 'gapspecies',\n",
       " 'originID': ObjectId('59b8432d0601bad0b9df0f66'),\n",
       " 'searchURL': 'https://bison.usgs.gov/api/search.json?count=1&tsn=179314'}"
      ]
     },
     "metadata": {},
     "output_type": "display_data"
    },
    {
     "name": "stdout",
     "output_type": "stream",
     "text": [
      "<pymongo.results.UpdateResult object at 0x1050ec088>\n"
     ]
    },
    {
     "data": {
      "text/plain": [
       "{'originCollection': 'gapspecies',\n",
       " 'originID': ObjectId('59b8432d0601bad0b9df0f67'),\n",
       " 'searchURL': 'https://bison.usgs.gov/api/search.json?count=1&tsn=173649'}"
      ]
     },
     "metadata": {},
     "output_type": "display_data"
    },
    {
     "name": "stdout",
     "output_type": "stream",
     "text": [
      "<pymongo.results.UpdateResult object at 0x1050f0588>\n"
     ]
    },
    {
     "data": {
      "text/plain": [
       "{'originCollection': 'gapspecies',\n",
       " 'originID': ObjectId('59b8432e0601bad0b9df0f68'),\n",
       " 'searchURL': 'https://bison.usgs.gov/api/search.json?count=1&tsn=970631'}"
      ]
     },
     "metadata": {},
     "output_type": "display_data"
    },
    {
     "name": "stdout",
     "output_type": "stream",
     "text": [
      "<pymongo.results.UpdateResult object at 0x1050f7148>\n"
     ]
    },
    {
     "data": {
      "text/plain": [
       "{'originCollection': 'gapspecies',\n",
       " 'originID': ObjectId('59b8432e0601bad0b9df0f69'),\n",
       " 'searchURL': 'https://bison.usgs.gov/api/search.json?count=1&tsn=175185'}"
      ]
     },
     "metadata": {},
     "output_type": "display_data"
    },
    {
     "name": "stdout",
     "output_type": "stream",
     "text": [
      "<pymongo.results.UpdateResult object at 0x1050fb408>\n"
     ]
    },
    {
     "data": {
      "text/plain": [
       "{'originCollection': 'gapspecies',\n",
       " 'originID': ObjectId('59b8432e0601bad0b9df0f6a'),\n",
       " 'searchURL': 'https://bison.usgs.gov/api/search.json?count=1&tsn=175876'}"
      ]
     },
     "metadata": {},
     "output_type": "display_data"
    },
    {
     "name": "stdout",
     "output_type": "stream",
     "text": [
      "<pymongo.results.UpdateResult object at 0x1050fbf08>\n"
     ]
    },
    {
     "data": {
      "text/plain": [
       "{'originCollection': 'gapspecies',\n",
       " 'originID': ObjectId('59b8432f0601bad0b9df0f6b'),\n",
       " 'searchURL': 'https://bison.usgs.gov/api/search.json?count=1&tsn=775078'}"
      ]
     },
     "metadata": {},
     "output_type": "display_data"
    },
    {
     "name": "stdout",
     "output_type": "stream",
     "text": [
      "<pymongo.results.UpdateResult object at 0x105103c88>\n"
     ]
    },
    {
     "data": {
      "text/plain": [
       "{'originCollection': 'gapspecies',\n",
       " 'originID': ObjectId('59b8432f0601bad0b9df0f6c'),\n",
       " 'searchURL': 'https://bison.usgs.gov/api/search.json?count=1&tsn=710073'}"
      ]
     },
     "metadata": {},
     "output_type": "display_data"
    },
    {
     "name": "stdout",
     "output_type": "stream",
     "text": [
      "<pymongo.results.UpdateResult object at 0x10510c408>\n"
     ]
    },
    {
     "data": {
      "text/plain": [
       "{'originCollection': 'gapspecies',\n",
       " 'originID': ObjectId('59b843300601bad0b9df0f6d'),\n",
       " 'searchURL': 'https://bison.usgs.gov/api/search.json?count=1&tsn=180212'}"
      ]
     },
     "metadata": {},
     "output_type": "display_data"
    },
    {
     "name": "stdout",
     "output_type": "stream",
     "text": [
      "<pymongo.results.UpdateResult object at 0x105112508>\n"
     ]
    },
    {
     "data": {
      "text/plain": [
       "{'originCollection': 'gapspecies',\n",
       " 'originID': ObjectId('59b843300601bad0b9df0f6e'),\n",
       " 'searchURL': 'https://bison.usgs.gov/api/search.json?count=1&tsn=552486'}"
      ]
     },
     "metadata": {},
     "output_type": "display_data"
    },
    {
     "name": "stdout",
     "output_type": "stream",
     "text": [
      "<pymongo.results.UpdateResult object at 0x105114348>\n"
     ]
    },
    {
     "data": {
      "text/plain": [
       "{'originCollection': 'gapspecies',\n",
       " 'originID': ObjectId('59b843300601bad0b9df0f6f'),\n",
       " 'searchURL': 'https://bison.usgs.gov/api/search.json?count=1&tsn=174127'}"
      ]
     },
     "metadata": {},
     "output_type": "display_data"
    },
    {
     "name": "stdout",
     "output_type": "stream",
     "text": [
      "<pymongo.results.UpdateResult object at 0x10511f548>\n"
     ]
    },
    {
     "data": {
      "text/plain": [
       "{'originCollection': 'gapspecies',\n",
       " 'originID': ObjectId('59b843300601bad0b9df0f70'),\n",
       " 'searchURL': 'https://bison.usgs.gov/api/search.json?count=1&tsn=175163'}"
      ]
     },
     "metadata": {},
     "output_type": "display_data"
    },
    {
     "name": "stdout",
     "output_type": "stream",
     "text": [
      "<pymongo.results.UpdateResult object at 0x105122d88>\n"
     ]
    },
    {
     "data": {
      "text/plain": [
       "{'originCollection': 'gapspecies',\n",
       " 'originID': ObjectId('59b843310601bad0b9df0f71'),\n",
       " 'searchURL': 'https://bison.usgs.gov/api/search.json?count=1&type=scientific_name&species=Cervus elaphus nannodes roosevelti'}"
      ]
     },
     "metadata": {},
     "output_type": "display_data"
    },
    {
     "name": "stdout",
     "output_type": "stream",
     "text": [
      "<pymongo.results.UpdateResult object at 0x1051290c8>\n"
     ]
    },
    {
     "data": {
      "text/plain": [
       "{'originCollection': 'gapspecies',\n",
       " 'originID': ObjectId('59b843310601bad0b9df0f72'),\n",
       " 'searchURL': 'https://bison.usgs.gov/api/search.json?count=1&tsn=180160'}"
      ]
     },
     "metadata": {},
     "output_type": "display_data"
    },
    {
     "name": "stdout",
     "output_type": "stream",
     "text": [
      "<pymongo.results.UpdateResult object at 0x105131448>\n"
     ]
    },
    {
     "data": {
      "text/plain": [
       "{'originCollection': 'gapspecies',\n",
       " 'originID': ObjectId('59b843320601bad0b9df0f73'),\n",
       " 'searchURL': 'https://bison.usgs.gov/api/search.json?count=1&tsn=180544'}"
      ]
     },
     "metadata": {},
     "output_type": "display_data"
    },
    {
     "name": "stdout",
     "output_type": "stream",
     "text": [
      "<pymongo.results.UpdateResult object at 0x1051356c8>\n"
     ]
    },
    {
     "data": {
      "text/plain": [
       "{'originCollection': 'gapspecies',\n",
       " 'originID': ObjectId('59b843320601bad0b9df0f74'),\n",
       " 'searchURL': 'https://bison.usgs.gov/api/search.json?count=1&tsn=180565'}"
      ]
     },
     "metadata": {},
     "output_type": "display_data"
    },
    {
     "name": "stdout",
     "output_type": "stream",
     "text": [
      "<pymongo.results.UpdateResult object at 0x10513d048>\n"
     ]
    },
    {
     "data": {
      "text/plain": [
       "{'originCollection': 'gapspecies',\n",
       " 'originID': ObjectId('59b843320601bad0b9df0f75'),\n",
       " 'searchURL': 'https://bison.usgs.gov/api/search.json?count=1&tsn=174193'}"
      ]
     },
     "metadata": {},
     "output_type": "display_data"
    },
    {
     "name": "stdout",
     "output_type": "stream",
     "text": [
      "<pymongo.results.UpdateResult object at 0x105143208>\n"
     ]
    },
    {
     "data": {
      "text/plain": [
       "{'originCollection': 'gapspecies',\n",
       " 'originID': ObjectId('59b843330601bad0b9df0f76'),\n",
       " 'searchURL': 'https://bison.usgs.gov/api/search.json?count=1&tsn=173792'}"
      ]
     },
     "metadata": {},
     "output_type": "display_data"
    },
    {
     "name": "stdout",
     "output_type": "stream",
     "text": [
      "<pymongo.results.UpdateResult object at 0x105147748>\n"
     ]
    },
    {
     "data": {
      "text/plain": [
       "{'originCollection': 'gapspecies',\n",
       " 'originID': ObjectId('59b843330601bad0b9df0f77'),\n",
       " 'searchURL': 'https://bison.usgs.gov/api/search.json?count=1&tsn=174161'}"
      ]
     },
     "metadata": {},
     "output_type": "display_data"
    },
    {
     "name": "stdout",
     "output_type": "stream",
     "text": [
      "<pymongo.results.UpdateResult object at 0x10514e048>\n"
     ]
    },
    {
     "data": {
      "text/plain": [
       "{'originCollection': 'gapspecies',\n",
       " 'originID': ObjectId('59b843330601bad0b9df0f78'),\n",
       " 'searchURL': 'https://bison.usgs.gov/api/search.json?count=1&tsn=208791'}"
      ]
     },
     "metadata": {},
     "output_type": "display_data"
    },
    {
     "name": "stdout",
     "output_type": "stream",
     "text": [
      "<pymongo.results.UpdateResult object at 0x105152188>\n"
     ]
    },
    {
     "data": {
      "text/plain": [
       "{'originCollection': 'gapspecies',\n",
       " 'originID': ObjectId('59b843340601bad0b9df0f79'),\n",
       " 'searchURL': 'https://bison.usgs.gov/api/search.json?count=1&tsn=208882'}"
      ]
     },
     "metadata": {},
     "output_type": "display_data"
    },
    {
     "name": "stdout",
     "output_type": "stream",
     "text": [
      "<pymongo.results.UpdateResult object at 0x105157688>\n"
     ]
    },
    {
     "data": {
      "text/plain": [
       "{'originCollection': 'gapspecies',\n",
       " 'originID': ObjectId('59b843340601bad0b9df0f7a'),\n",
       " 'searchURL': 'https://bison.usgs.gov/api/search.json?count=1&tsn=683056'}"
      ]
     },
     "metadata": {},
     "output_type": "display_data"
    },
    {
     "name": "stdout",
     "output_type": "stream",
     "text": [
      "<pymongo.results.UpdateResult object at 0x10515c188>\n"
     ]
    },
    {
     "data": {
      "text/plain": [
       "{'originCollection': 'gapspecies',\n",
       " 'originID': ObjectId('59b843340601bad0b9df0f7b'),\n",
       " 'searchURL': 'https://bison.usgs.gov/api/search.json?count=1&tsn=180262'}"
      ]
     },
     "metadata": {},
     "output_type": "display_data"
    },
    {
     "name": "stdout",
     "output_type": "stream",
     "text": [
      "<pymongo.results.UpdateResult object at 0x105163248>\n"
     ]
    },
    {
     "data": {
      "text/plain": [
       "{'originCollection': 'gapspecies',\n",
       " 'originID': ObjectId('59b843350601bad0b9df0f7c'),\n",
       " 'searchURL': 'https://bison.usgs.gov/api/search.json?count=1&tsn=174123'}"
      ]
     },
     "metadata": {},
     "output_type": "display_data"
    },
    {
     "name": "stdout",
     "output_type": "stream",
     "text": [
      "<pymongo.results.UpdateResult object at 0x105163f08>\n"
     ]
    },
    {
     "data": {
      "text/plain": [
       "{'originCollection': 'gapspecies',\n",
       " 'originID': ObjectId('59b843350601bad0b9df0f7d'),\n",
       " 'searchURL': 'https://bison.usgs.gov/api/search.json?count=1&tsn=180133'}"
      ]
     },
     "metadata": {},
     "output_type": "display_data"
    },
    {
     "name": "stdout",
     "output_type": "stream",
     "text": [
      "<pymongo.results.UpdateResult object at 0x10516c988>\n"
     ]
    },
    {
     "data": {
      "text/plain": [
       "{'originCollection': 'gapspecies',\n",
       " 'originID': ObjectId('59b843350601bad0b9df0f7e'),\n",
       " 'searchURL': 'https://bison.usgs.gov/api/search.json?count=1&tsn=180018'}"
      ]
     },
     "metadata": {},
     "output_type": "display_data"
    },
    {
     "name": "stdout",
     "output_type": "stream",
     "text": [
      "<pymongo.results.UpdateResult object at 0x1051746c8>\n"
     ]
    },
    {
     "data": {
      "text/plain": [
       "{'originCollection': 'gapspecies',\n",
       " 'originID': ObjectId('59b843360601bad0b9df0f7f'),\n",
       " 'searchURL': 'https://bison.usgs.gov/api/search.json?count=1&tsn=177806'}"
      ]
     },
     "metadata": {},
     "output_type": "display_data"
    },
    {
     "name": "stdout",
     "output_type": "stream",
     "text": [
      "<pymongo.results.UpdateResult object at 0x10517b088>\n"
     ]
    },
    {
     "data": {
      "text/plain": [
       "{'originCollection': 'gapspecies',\n",
       " 'originID': ObjectId('59b843360601bad0b9df0f80'),\n",
       " 'searchURL': 'https://bison.usgs.gov/api/search.json?count=1&tsn=176642'}"
      ]
     },
     "metadata": {},
     "output_type": "display_data"
    },
    {
     "name": "stdout",
     "output_type": "stream",
     "text": [
      "<pymongo.results.UpdateResult object at 0x105181688>\n"
     ]
    },
    {
     "data": {
      "text/plain": [
       "{'originCollection': 'gapspecies',\n",
       " 'originID': ObjectId('59b843370601bad0b9df0f81'),\n",
       " 'searchURL': 'https://bison.usgs.gov/api/search.json?count=1&tsn=208282'}"
      ]
     },
     "metadata": {},
     "output_type": "display_data"
    },
    {
     "name": "stdout",
     "output_type": "stream",
     "text": [
      "<pymongo.results.UpdateResult object at 0x105183408>\n"
     ]
    },
    {
     "data": {
      "text/plain": [
       "{'originCollection': 'gapspecies',\n",
       " 'originID': ObjectId('59b843370601bad0b9df0f82'),\n",
       " 'searchURL': 'https://bison.usgs.gov/api/search.json?count=1&tsn=173621'}"
      ]
     },
     "metadata": {},
     "output_type": "display_data"
    },
    {
     "name": "stdout",
     "output_type": "stream",
     "text": [
      "<pymongo.results.UpdateResult object at 0x10518d108>\n"
     ]
    },
    {
     "data": {
      "text/plain": [
       "{'originCollection': 'gapspecies',\n",
       " 'originID': ObjectId('59b843380601bad0b9df0f83'),\n",
       " 'searchURL': 'https://bison.usgs.gov/api/search.json?count=1&tsn=178970'}"
      ]
     },
     "metadata": {},
     "output_type": "display_data"
    },
    {
     "name": "stdout",
     "output_type": "stream",
     "text": [
      "<pymongo.results.UpdateResult object at 0x1051924c8>\n"
     ]
    },
    {
     "data": {
      "text/plain": [
       "{'originCollection': 'gapspecies',\n",
       " 'originID': ObjectId('59b843380601bad0b9df0f84'),\n",
       " 'searchURL': 'https://bison.usgs.gov/api/search.json?count=1&tsn=775117'}"
      ]
     },
     "metadata": {},
     "output_type": "display_data"
    },
    {
     "name": "stdout",
     "output_type": "stream",
     "text": [
      "<pymongo.results.UpdateResult object at 0x105196848>\n"
     ]
    },
    {
     "data": {
      "text/plain": [
       "{'originCollection': 'gapspecies',\n",
       " 'originID': ObjectId('59b843380601bad0b9df0f85'),\n",
       " 'searchURL': 'https://bison.usgs.gov/api/search.json?count=1&tsn=175160'}"
      ]
     },
     "metadata": {},
     "output_type": "display_data"
    },
    {
     "name": "stdout",
     "output_type": "stream",
     "text": [
      "<pymongo.results.UpdateResult object at 0x10519e048>\n"
     ]
    },
    {
     "data": {
      "text/plain": [
       "{'originCollection': 'gapspecies',\n",
       " 'originID': ObjectId('59b843390601bad0b9df0f86'),\n",
       " 'searchURL': 'https://bison.usgs.gov/api/search.json?count=1&tsn=175790'}"
      ]
     },
     "metadata": {},
     "output_type": "display_data"
    },
    {
     "name": "stdout",
     "output_type": "stream",
     "text": [
      "<pymongo.results.UpdateResult object at 0x1051a47c8>\n"
     ]
    },
    {
     "data": {
      "text/plain": [
       "{'originCollection': 'gapspecies',\n",
       " 'originID': ObjectId('59b843390601bad0b9df0f87'),\n",
       " 'searchURL': 'https://bison.usgs.gov/api/search.json?count=1&tsn=625051'}"
      ]
     },
     "metadata": {},
     "output_type": "display_data"
    },
    {
     "name": "stdout",
     "output_type": "stream",
     "text": [
      "<pymongo.results.UpdateResult object at 0x1051aa088>\n"
     ]
    },
    {
     "data": {
      "text/plain": [
       "{'originCollection': 'gapspecies',\n",
       " 'originID': ObjectId('59b8433a0601bad0b9df0f88'),\n",
       " 'searchURL': 'https://bison.usgs.gov/api/search.json?count=1&tsn=174192'}"
      ]
     },
     "metadata": {},
     "output_type": "display_data"
    },
    {
     "name": "stdout",
     "output_type": "stream",
     "text": [
      "<pymongo.results.UpdateResult object at 0x1051aadc8>\n"
     ]
    },
    {
     "data": {
      "text/plain": [
       "{'originCollection': 'gapspecies',\n",
       " 'originID': ObjectId('59b8433a0601bad0b9df0f89'),\n",
       " 'searchURL': 'https://bison.usgs.gov/api/search.json?count=1&tsn=208623'}"
      ]
     },
     "metadata": {},
     "output_type": "display_data"
    },
    {
     "name": "stdout",
     "output_type": "stream",
     "text": [
      "<pymongo.results.UpdateResult object at 0x1051b60c8>\n"
     ]
    },
    {
     "data": {
      "text/plain": [
       "{'originCollection': 'gapspecies',\n",
       " 'originID': ObjectId('59b8433a0601bad0b9df0f8a'),\n",
       " 'searchURL': 'https://bison.usgs.gov/api/search.json?count=1&tsn=180223'}"
      ]
     },
     "metadata": {},
     "output_type": "display_data"
    },
    {
     "name": "stdout",
     "output_type": "stream",
     "text": [
      "<pymongo.results.UpdateResult object at 0x1051ba848>\n"
     ]
    },
    {
     "data": {
      "text/plain": [
       "{'originCollection': 'gapspecies',\n",
       " 'originID': ObjectId('59b8433b0601bad0b9df0f8b'),\n",
       " 'searchURL': 'https://bison.usgs.gov/api/search.json?count=1&tsn=552491'}"
      ]
     },
     "metadata": {},
     "output_type": "display_data"
    },
    {
     "name": "stdout",
     "output_type": "stream",
     "text": [
      "<pymongo.results.UpdateResult object at 0x1051c30c8>\n"
     ]
    },
    {
     "data": {
      "text/plain": [
       "{'originCollection': 'gapspecies',\n",
       " 'originID': ObjectId('59b8433b0601bad0b9df0f8c'),\n",
       " 'searchURL': 'https://bison.usgs.gov/api/search.json?count=1&tsn=180243'}"
      ]
     },
     "metadata": {},
     "output_type": "display_data"
    },
    {
     "name": "stdout",
     "output_type": "stream",
     "text": [
      "<pymongo.results.UpdateResult object at 0x1051c8848>\n"
     ]
    },
    {
     "data": {
      "text/plain": [
       "{'originCollection': 'gapspecies',\n",
       " 'originID': ObjectId('59b8433b0601bad0b9df0f8d'),\n",
       " 'searchURL': 'https://bison.usgs.gov/api/search.json?count=1&tsn=180265'}"
      ]
     },
     "metadata": {},
     "output_type": "display_data"
    },
    {
     "name": "stdout",
     "output_type": "stream",
     "text": [
      "<pymongo.results.UpdateResult object at 0x1051d1088>\n"
     ]
    },
    {
     "data": {
      "text/plain": [
       "{'originCollection': 'gapspecies',\n",
       " 'originID': ObjectId('59b8433c0601bad0b9df0f8e'),\n",
       " 'searchURL': 'https://bison.usgs.gov/api/search.json?count=1&tsn=180342'}"
      ]
     },
     "metadata": {},
     "output_type": "display_data"
    },
    {
     "name": "stdout",
     "output_type": "stream",
     "text": [
      "<pymongo.results.UpdateResult object at 0x1051d5608>\n"
     ]
    },
    {
     "data": {
      "text/plain": [
       "{'originCollection': 'gapspecies',\n",
       " 'originID': ObjectId('59b8433c0601bad0b9df0f8f'),\n",
       " 'searchURL': 'https://bison.usgs.gov/api/search.json?count=1&tsn=898525'}"
      ]
     },
     "metadata": {},
     "output_type": "display_data"
    },
    {
     "name": "stdout",
     "output_type": "stream",
     "text": [
      "<pymongo.results.UpdateResult object at 0x1051db048>\n"
     ]
    },
    {
     "data": {
      "text/plain": [
       "{'originCollection': 'gapspecies',\n",
       " 'originID': ObjectId('59b8433c0601bad0b9df0f90'),\n",
       " 'searchURL': 'https://bison.usgs.gov/api/search.json?count=1&tsn=173942'}"
      ]
     },
     "metadata": {},
     "output_type": "display_data"
    },
    {
     "name": "stdout",
     "output_type": "stream",
     "text": [
      "<pymongo.results.UpdateResult object at 0x1051e0388>\n"
     ]
    },
    {
     "data": {
      "text/plain": [
       "{'originCollection': 'gapspecies',\n",
       " 'originID': ObjectId('59b8433c0601bad0b9df0f91'),\n",
       " 'searchURL': 'https://bison.usgs.gov/api/search.json?count=1&tsn=174126'}"
      ]
     },
     "metadata": {},
     "output_type": "display_data"
    },
    {
     "name": "stdout",
     "output_type": "stream",
     "text": [
      "<pymongo.results.UpdateResult object at 0x1051e0cc8>\n"
     ]
    },
    {
     "data": {
      "text/plain": [
       "{'originCollection': 'gapspecies',\n",
       " 'originID': ObjectId('59b8433d0601bad0b9df0f92'),\n",
       " 'searchURL': 'https://bison.usgs.gov/api/search.json?count=1&tsn=180625'}"
      ]
     },
     "metadata": {},
     "output_type": "display_data"
    },
    {
     "name": "stdout",
     "output_type": "stream",
     "text": [
      "<pymongo.results.UpdateResult object at 0x1051ec148>\n"
     ]
    },
    {
     "data": {
      "text/plain": [
       "{'originCollection': 'gapspecies',\n",
       " 'originID': ObjectId('59b8433d0601bad0b9df0f93'),\n",
       " 'searchURL': 'https://bison.usgs.gov/api/search.json?count=1&tsn=209215'}"
      ]
     },
     "metadata": {},
     "output_type": "display_data"
    },
    {
     "name": "stdout",
     "output_type": "stream",
     "text": [
      "<pymongo.results.UpdateResult object at 0x1051f0108>\n"
     ]
    },
    {
     "data": {
      "text/plain": [
       "{'originCollection': 'gapspecies',\n",
       " 'originID': ObjectId('59b8433d0601bad0b9df0f94'),\n",
       " 'searchURL': 'https://bison.usgs.gov/api/search.json?count=1&tsn=174025'}"
      ]
     },
     "metadata": {},
     "output_type": "display_data"
    },
    {
     "name": "stdout",
     "output_type": "stream",
     "text": [
      "<pymongo.results.UpdateResult object at 0x1051f7508>\n"
     ]
    },
    {
     "data": {
      "text/plain": [
       "{'originCollection': 'gapspecies',\n",
       " 'originID': ObjectId('59b8433e0601bad0b9df0f95'),\n",
       " 'searchURL': 'https://bison.usgs.gov/api/search.json?count=1&tsn=208649'}"
      ]
     },
     "metadata": {},
     "output_type": "display_data"
    },
    {
     "name": "stdout",
     "output_type": "stream",
     "text": [
      "<pymongo.results.UpdateResult object at 0x1051fd808>\n"
     ]
    },
    {
     "data": {
      "text/plain": [
       "{'originCollection': 'gapspecies',\n",
       " 'originID': ObjectId('59b8433e0601bad0b9df0f96'),\n",
       " 'searchURL': 'https://bison.usgs.gov/api/search.json?count=1&tsn=180252'}"
      ]
     },
     "metadata": {},
     "output_type": "display_data"
    },
    {
     "name": "stdout",
     "output_type": "stream",
     "text": [
      "<pymongo.results.UpdateResult object at 0x105204048>\n"
     ]
    },
    {
     "data": {
      "text/plain": [
       "{'originCollection': 'gapspecies',\n",
       " 'originID': ObjectId('59b8433e0601bad0b9df0f97'),\n",
       " 'searchURL': 'https://bison.usgs.gov/api/search.json?count=1&tsn=208885'}"
      ]
     },
     "metadata": {},
     "output_type": "display_data"
    },
    {
     "name": "stdout",
     "output_type": "stream",
     "text": [
      "<pymongo.results.UpdateResult object at 0x105209648>\n"
     ]
    },
    {
     "data": {
      "text/plain": [
       "{'originCollection': 'gapspecies',\n",
       " 'originID': ObjectId('59b8433f0601bad0b9df0f98'),\n",
       " 'searchURL': 'https://bison.usgs.gov/api/search.json?count=1&tsn=178991'}"
      ]
     },
     "metadata": {},
     "output_type": "display_data"
    },
    {
     "name": "stdout",
     "output_type": "stream",
     "text": [
      "<pymongo.results.UpdateResult object at 0x10520b308>\n"
     ]
    },
    {
     "data": {
      "text/plain": [
       "{'originCollection': 'gapspecies',\n",
       " 'originID': ObjectId('59b8433f0601bad0b9df0f99'),\n",
       " 'searchURL': 'https://bison.usgs.gov/api/search.json?count=1&tsn=173708'}"
      ]
     },
     "metadata": {},
     "output_type": "display_data"
    },
    {
     "name": "stdout",
     "output_type": "stream",
     "text": [
      "<pymongo.results.UpdateResult object at 0x105213288>\n"
     ]
    },
    {
     "data": {
      "text/plain": [
       "{'originCollection': 'gapspecies',\n",
       " 'originID': ObjectId('59b8433f0601bad0b9df0f9a'),\n",
       " 'searchURL': 'https://bison.usgs.gov/api/search.json?count=1&tsn=208266'}"
      ]
     },
     "metadata": {},
     "output_type": "display_data"
    },
    {
     "name": "stdout",
     "output_type": "stream",
     "text": [
      "<pymongo.results.UpdateResult object at 0x1052186c8>\n"
     ]
    },
    {
     "data": {
      "text/plain": [
       "{'originCollection': 'gapspecies',\n",
       " 'originID': ObjectId('59b8433f0601bad0b9df0f9b'),\n",
       " 'searchURL': 'https://bison.usgs.gov/api/search.json?count=1&tsn=179492'}"
      ]
     },
     "metadata": {},
     "output_type": "display_data"
    },
    {
     "name": "stdout",
     "output_type": "stream",
     "text": [
      "<pymongo.results.UpdateResult object at 0x1052230c8>\n"
     ]
    },
    {
     "data": {
      "text/plain": [
       "{'originCollection': 'gapspecies',\n",
       " 'originID': ObjectId('59b843400601bad0b9df0f9c'),\n",
       " 'searchURL': 'https://bison.usgs.gov/api/search.json?count=1&tsn=946254'}"
      ]
     },
     "metadata": {},
     "output_type": "display_data"
    },
    {
     "name": "stdout",
     "output_type": "stream",
     "text": [
      "<pymongo.results.UpdateResult object at 0x1052271c8>\n"
     ]
    },
    {
     "data": {
      "text/plain": [
       "{'originCollection': 'gapspecies',\n",
       " 'originID': ObjectId('59b843400601bad0b9df0f9d'),\n",
       " 'searchURL': 'https://bison.usgs.gov/api/search.json?count=1&tsn=179999'}"
      ]
     },
     "metadata": {},
     "output_type": "display_data"
    },
    {
     "name": "stdout",
     "output_type": "stream",
     "text": [
      "<pymongo.results.UpdateResult object at 0x10522c7c8>\n"
     ]
    },
    {
     "data": {
      "text/plain": [
       "{'originCollection': 'gapspecies',\n",
       " 'originID': ObjectId('59b843400601bad0b9df0f9e'),\n",
       " 'searchURL': 'https://bison.usgs.gov/api/search.json?count=1&tsn=175063'}"
      ]
     },
     "metadata": {},
     "output_type": "display_data"
    },
    {
     "name": "stdout",
     "output_type": "stream",
     "text": [
      "<pymongo.results.UpdateResult object at 0x105231208>\n"
     ]
    },
    {
     "data": {
      "text/plain": [
       "{'originCollection': 'gapspecies',\n",
       " 'originID': ObjectId('59b843410601bad0b9df0f9f'),\n",
       " 'searchURL': 'https://bison.usgs.gov/api/search.json?count=1&tsn=179525'}"
      ]
     },
     "metadata": {},
     "output_type": "display_data"
    },
    {
     "name": "stdout",
     "output_type": "stream",
     "text": [
      "<pymongo.results.UpdateResult object at 0x10523a088>\n"
     ]
    },
    {
     "data": {
      "text/plain": [
       "{'originCollection': 'gapspecies',\n",
       " 'originID': ObjectId('59b843410601bad0b9df0fa0'),\n",
       " 'searchURL': 'https://bison.usgs.gov/api/search.json?count=1&tsn=178931'}"
      ]
     },
     "metadata": {},
     "output_type": "display_data"
    },
    {
     "name": "stdout",
     "output_type": "stream",
     "text": [
      "<pymongo.results.UpdateResult object at 0x10523f288>\n"
     ]
    },
    {
     "data": {
      "text/plain": [
       "{'originCollection': 'gapspecies',\n",
       " 'originID': ObjectId('59b843410601bad0b9df0fa1'),\n",
       " 'searchURL': 'https://bison.usgs.gov/api/search.json?count=1&tsn=178443'}"
      ]
     },
     "metadata": {},
     "output_type": "display_data"
    },
    {
     "name": "stdout",
     "output_type": "stream",
     "text": [
      "<pymongo.results.UpdateResult object at 0x105241108>\n"
     ]
    },
    {
     "data": {
      "text/plain": [
       "{'originCollection': 'gapspecies',\n",
       " 'originID': ObjectId('59b843420601bad0b9df0fa2'),\n",
       " 'searchURL': 'https://bison.usgs.gov/api/search.json?count=1&tsn=668193'}"
      ]
     },
     "metadata": {},
     "output_type": "display_data"
    },
    {
     "name": "stdout",
     "output_type": "stream",
     "text": [
      "<pymongo.results.UpdateResult object at 0x105241188>\n"
     ]
    },
    {
     "data": {
      "text/plain": [
       "{'originCollection': 'gapspecies',\n",
       " 'originID': ObjectId('59b843420601bad0b9df0fa3'),\n",
       " 'searchURL': 'https://bison.usgs.gov/api/search.json?count=1&tsn=173599'}"
      ]
     },
     "metadata": {},
     "output_type": "display_data"
    },
    {
     "name": "stdout",
     "output_type": "stream",
     "text": [
      "<pymongo.results.UpdateResult object at 0x10524b848>\n"
     ]
    },
    {
     "data": {
      "text/plain": [
       "{'originCollection': 'gapspecies',\n",
       " 'originID': ObjectId('59b843420601bad0b9df0fa4'),\n",
       " 'searchURL': 'https://bison.usgs.gov/api/search.json?count=1&tsn=178864'}"
      ]
     },
     "metadata": {},
     "output_type": "display_data"
    },
    {
     "name": "stdout",
     "output_type": "stream",
     "text": [
      "<pymongo.results.UpdateResult object at 0x105257708>\n"
     ]
    },
    {
     "data": {
      "text/plain": [
       "{'originCollection': 'gapspecies',\n",
       " 'originID': ObjectId('59b843430601bad0b9df0fa5'),\n",
       " 'searchURL': 'https://bison.usgs.gov/api/search.json?count=1&tsn=173647'}"
      ]
     },
     "metadata": {},
     "output_type": "display_data"
    },
    {
     "name": "stdout",
     "output_type": "stream",
     "text": [
      "<pymongo.results.UpdateResult object at 0x10525e0c8>\n"
     ]
    },
    {
     "data": {
      "text/plain": [
       "{'originCollection': 'gapspecies',\n",
       " 'originID': ObjectId('59b843430601bad0b9df0fa6'),\n",
       " 'searchURL': 'https://bison.usgs.gov/api/search.json?count=1&tsn=726049'}"
      ]
     },
     "metadata": {},
     "output_type": "display_data"
    },
    {
     "name": "stdout",
     "output_type": "stream",
     "text": [
      "<pymongo.results.UpdateResult object at 0x105263048>\n"
     ]
    },
    {
     "data": {
      "text/plain": [
       "{'originCollection': 'gapspecies',\n",
       " 'originID': ObjectId('59b843430601bad0b9df0fa7'),\n",
       " 'searchURL': 'https://bison.usgs.gov/api/search.json?count=1&tsn=173595'}"
      ]
     },
     "metadata": {},
     "output_type": "display_data"
    },
    {
     "name": "stdout",
     "output_type": "stream",
     "text": [
      "<pymongo.results.UpdateResult object at 0x105268688>\n"
     ]
    },
    {
     "data": {
      "text/plain": [
       "{'originCollection': 'gapspecies',\n",
       " 'originID': ObjectId('59b843440601bad0b9df0fa8'),\n",
       " 'searchURL': 'https://bison.usgs.gov/api/search.json?count=1&tsn=179865'}"
      ]
     },
     "metadata": {},
     "output_type": "display_data"
    },
    {
     "name": "stdout",
     "output_type": "stream",
     "text": [
      "<pymongo.results.UpdateResult object at 0x10526e088>\n"
     ]
    },
    {
     "data": {
      "text/plain": [
       "{'originCollection': 'gapspecies',\n",
       " 'originID': ObjectId('59b843440601bad0b9df0fa9'),\n",
       " 'searchURL': 'https://bison.usgs.gov/api/search.json?count=1&tsn=178455'}"
      ]
     },
     "metadata": {},
     "output_type": "display_data"
    },
    {
     "name": "stdout",
     "output_type": "stream",
     "text": [
      "<pymongo.results.UpdateResult object at 0x1052742c8>\n"
     ]
    },
    {
     "data": {
      "text/plain": [
       "{'originCollection': 'gapspecies',\n",
       " 'originID': ObjectId('59b843440601bad0b9df0faa'),\n",
       " 'searchURL': 'https://bison.usgs.gov/api/search.json?count=1&tsn=179344'}"
      ]
     },
     "metadata": {},
     "output_type": "display_data"
    },
    {
     "name": "stdout",
     "output_type": "stream",
     "text": [
      "<pymongo.results.UpdateResult object at 0x10527a048>\n"
     ]
    },
    {
     "data": {
      "text/plain": [
       "{'originCollection': 'gapspecies',\n",
       " 'originID': ObjectId('59b843450601bad0b9df0fab'),\n",
       " 'searchURL': 'https://bison.usgs.gov/api/search.json?count=1&tsn=178356'}"
      ]
     },
     "metadata": {},
     "output_type": "display_data"
    },
    {
     "name": "stdout",
     "output_type": "stream",
     "text": [
      "<pymongo.results.UpdateResult object at 0x10527f0c8>\n"
     ]
    },
    {
     "data": {
      "text/plain": [
       "{'originCollection': 'gapspecies',\n",
       " 'originID': ObjectId('59b843450601bad0b9df0fac'),\n",
       " 'searchURL': 'https://bison.usgs.gov/api/search.json?count=1&tsn=178499'}"
      ]
     },
     "metadata": {},
     "output_type": "display_data"
    },
    {
     "name": "stdout",
     "output_type": "stream",
     "text": [
      "<pymongo.results.UpdateResult object at 0x105285648>\n"
     ]
    },
    {
     "data": {
      "text/plain": [
       "{'originCollection': 'gapspecies',\n",
       " 'originID': ObjectId('59b843460601bad0b9df0fad'),\n",
       " 'searchURL': 'https://bison.usgs.gov/api/search.json?count=1&tsn=175372'}"
      ]
     },
     "metadata": {},
     "output_type": "display_data"
    },
    {
     "name": "stdout",
     "output_type": "stream",
     "text": [
      "<pymongo.results.UpdateResult object at 0x10528b0c8>\n"
     ]
    },
    {
     "data": {
      "text/plain": [
       "{'originCollection': 'gapspecies',\n",
       " 'originID': ObjectId('59b843460601bad0b9df0fae'),\n",
       " 'searchURL': 'https://bison.usgs.gov/api/search.json?count=1&tsn=176978'}"
      ]
     },
     "metadata": {},
     "output_type": "display_data"
    },
    {
     "name": "stdout",
     "output_type": "stream",
     "text": [
      "<pymongo.results.UpdateResult object at 0x105290188>\n"
     ]
    },
    {
     "data": {
      "text/plain": [
       "{'originCollection': 'gapspecies',\n",
       " 'originID': ObjectId('59b843470601bad0b9df0faf'),\n",
       " 'searchURL': 'https://bison.usgs.gov/api/search.json?count=1&tsn=177032'}"
      ]
     },
     "metadata": {},
     "output_type": "display_data"
    },
    {
     "name": "stdout",
     "output_type": "stream",
     "text": [
      "<pymongo.results.UpdateResult object at 0x1052990c8>\n"
     ]
    },
    {
     "data": {
      "text/plain": [
       "{'originCollection': 'gapspecies',\n",
       " 'originID': ObjectId('59b843470601bad0b9df0fb0'),\n",
       " 'searchURL': 'https://bison.usgs.gov/api/search.json?count=1&tsn=554135'}"
      ]
     },
     "metadata": {},
     "output_type": "display_data"
    },
    {
     "name": "stdout",
     "output_type": "stream",
     "text": [
      "<pymongo.results.UpdateResult object at 0x10529d088>\n"
     ]
    },
    {
     "data": {
      "text/plain": [
       "{'originCollection': 'gapspecies',\n",
       " 'originID': ObjectId('59b843480601bad0b9df0fb1'),\n",
       " 'searchURL': 'https://bison.usgs.gov/api/search.json?count=1&tsn=178903'}"
      ]
     },
     "metadata": {},
     "output_type": "display_data"
    },
    {
     "name": "stdout",
     "output_type": "stream",
     "text": [
      "<pymongo.results.UpdateResult object at 0x1052a30c8>\n"
     ]
    },
    {
     "data": {
      "text/plain": [
       "{'originCollection': 'gapspecies',\n",
       " 'originID': ObjectId('59b843480601bad0b9df0fb2'),\n",
       " 'searchURL': 'https://bison.usgs.gov/api/search.json?count=1&tsn=178803'}"
      ]
     },
     "metadata": {},
     "output_type": "display_data"
    },
    {
     "name": "stdout",
     "output_type": "stream",
     "text": [
      "<pymongo.results.UpdateResult object at 0x1052a80c8>\n"
     ]
    },
    {
     "data": {
      "text/plain": [
       "{'originCollection': 'gapspecies',\n",
       " 'originID': ObjectId('59b843480601bad0b9df0fb3'),\n",
       " 'searchURL': 'https://bison.usgs.gov/api/search.json?count=1&tsn=554447'}"
      ]
     },
     "metadata": {},
     "output_type": "display_data"
    },
    {
     "name": "stdout",
     "output_type": "stream",
     "text": [
      "<pymongo.results.UpdateResult object at 0x1052ad488>\n"
     ]
    },
    {
     "data": {
      "text/plain": [
       "{'originCollection': 'gapspecies',\n",
       " 'originID': ObjectId('59b843480601bad0b9df0fb4'),\n",
       " 'searchURL': 'https://bison.usgs.gov/api/search.json?count=1&tsn=179104'}"
      ]
     },
     "metadata": {},
     "output_type": "display_data"
    },
    {
     "name": "stdout",
     "output_type": "stream",
     "text": [
      "<pymongo.results.UpdateResult object at 0x1052b5088>\n"
     ]
    },
    {
     "data": {
      "text/plain": [
       "{'originCollection': 'gapspecies',\n",
       " 'originID': ObjectId('59b843490601bad0b9df0fb5'),\n",
       " 'searchURL': 'https://bison.usgs.gov/api/search.json?count=1&tsn=179079'}"
      ]
     },
     "metadata": {},
     "output_type": "display_data"
    },
    {
     "name": "stdout",
     "output_type": "stream",
     "text": [
      "<pymongo.results.UpdateResult object at 0x1052ba3c8>\n"
     ]
    },
    {
     "data": {
      "text/plain": [
       "{'originCollection': 'gapspecies',\n",
       " 'originID': ObjectId('59b843490601bad0b9df0fb6'),\n",
       " 'searchURL': 'https://bison.usgs.gov/api/search.json?count=1&tsn=180560'}"
      ]
     },
     "metadata": {},
     "output_type": "display_data"
    },
    {
     "name": "stdout",
     "output_type": "stream",
     "text": [
      "<pymongo.results.UpdateResult object at 0x1052be588>\n"
     ]
    },
    {
     "data": {
      "text/plain": [
       "{'originCollection': 'gapspecies',\n",
       " 'originID': ObjectId('59b843490601bad0b9df0fb7'),\n",
       " 'searchURL': 'https://bison.usgs.gov/api/search.json?count=1&tsn=177011'}"
      ]
     },
     "metadata": {},
     "output_type": "display_data"
    },
    {
     "name": "stdout",
     "output_type": "stream",
     "text": [
      "<pymongo.results.UpdateResult object at 0x1052c6188>\n"
     ]
    },
    {
     "data": {
      "text/plain": [
       "{'originCollection': 'gapspecies',\n",
       " 'originID': ObjectId('59b8434a0601bad0b9df0fb8'),\n",
       " 'searchURL': 'https://bison.usgs.gov/api/search.json?count=1&tsn=178905'}"
      ]
     },
     "metadata": {},
     "output_type": "display_data"
    },
    {
     "name": "stdout",
     "output_type": "stream",
     "text": [
      "<pymongo.results.UpdateResult object at 0x1052cc348>\n"
     ]
    },
    {
     "data": {
      "text/plain": [
       "{'originCollection': 'gapspecies',\n",
       " 'originID': ObjectId('59b8434a0601bad0b9df0fb9'),\n",
       " 'searchURL': 'https://bison.usgs.gov/api/search.json?count=1&tsn=683063'}"
      ]
     },
     "metadata": {},
     "output_type": "display_data"
    },
    {
     "name": "stdout",
     "output_type": "stream",
     "text": [
      "<pymongo.results.UpdateResult object at 0x1052d2148>\n"
     ]
    },
    {
     "data": {
      "text/plain": [
       "{'originCollection': 'gapspecies',\n",
       " 'originID': ObjectId('59b8434a0601bad0b9df0fba'),\n",
       " 'searchURL': 'https://bison.usgs.gov/api/search.json?count=1&tsn=552505'}"
      ]
     },
     "metadata": {},
     "output_type": "display_data"
    },
    {
     "name": "stdout",
     "output_type": "stream",
     "text": [
      "<pymongo.results.UpdateResult object at 0x1052d8088>\n"
     ]
    },
    {
     "data": {
      "text/plain": [
       "{'originCollection': 'gapspecies',\n",
       " 'originID': ObjectId('59b8434b0601bad0b9df0fbb'),\n",
       " 'searchURL': 'https://bison.usgs.gov/api/search.json?count=1&tsn=174273'}"
      ]
     },
     "metadata": {},
     "output_type": "display_data"
    },
    {
     "name": "stdout",
     "output_type": "stream",
     "text": [
      "<pymongo.results.UpdateResult object at 0x1052de708>\n"
     ]
    },
    {
     "data": {
      "text/plain": [
       "{'originCollection': 'gapspecies',\n",
       " 'originID': ObjectId('59b8434b0601bad0b9df0fbc'),\n",
       " 'searchURL': 'https://bison.usgs.gov/api/search.json?count=1&tsn=173868'}"
      ]
     },
     "metadata": {},
     "output_type": "display_data"
    },
    {
     "name": "stdout",
     "output_type": "stream",
     "text": [
      "<pymongo.results.UpdateResult object at 0x1052e5148>\n"
     ]
    },
    {
     "data": {
      "text/plain": [
       "{'originCollection': 'gapspecies',\n",
       " 'originID': ObjectId('59b8434c0601bad0b9df0fbd'),\n",
       " 'searchURL': 'https://bison.usgs.gov/api/search.json?count=1&tsn=173766'}"
      ]
     },
     "metadata": {},
     "output_type": "display_data"
    },
    {
     "name": "stdout",
     "output_type": "stream",
     "text": [
      "<pymongo.results.UpdateResult object at 0x1052ea148>\n"
     ]
    },
    {
     "data": {
      "text/plain": [
       "{'originCollection': 'gapspecies',\n",
       " 'originID': ObjectId('59b8434c0601bad0b9df0fbe'),\n",
       " 'searchURL': 'https://bison.usgs.gov/api/search.json?count=1&tsn=174179'}"
      ]
     },
     "metadata": {},
     "output_type": "display_data"
    },
    {
     "name": "stdout",
     "output_type": "stream",
     "text": [
      "<pymongo.results.UpdateResult object at 0x1052f0748>\n"
     ]
    },
    {
     "data": {
      "text/plain": [
       "{'originCollection': 'gapspecies',\n",
       " 'originID': ObjectId('59b8434c0601bad0b9df0fbf'),\n",
       " 'searchURL': 'https://bison.usgs.gov/api/search.json?count=1&tsn=208947'}"
      ]
     },
     "metadata": {},
     "output_type": "display_data"
    },
    {
     "name": "stdout",
     "output_type": "stream",
     "text": [
      "<pymongo.results.UpdateResult object at 0x1052f7048>\n"
     ]
    },
    {
     "data": {
      "text/plain": [
       "{'originCollection': 'gapspecies',\n",
       " 'originID': ObjectId('59b8434d0601bad0b9df0fc0'),\n",
       " 'searchURL': 'https://bison.usgs.gov/api/search.json?count=1&tsn=174090'}"
      ]
     },
     "metadata": {},
     "output_type": "display_data"
    },
    {
     "name": "stdout",
     "output_type": "stream",
     "text": [
      "<pymongo.results.UpdateResult object at 0x1052fb088>\n"
     ]
    },
    {
     "data": {
      "text/plain": [
       "{'originCollection': 'gapspecies',\n",
       " 'originID': ObjectId('59b8434d0601bad0b9df0fc1'),\n",
       " 'searchURL': 'https://bison.usgs.gov/api/search.json?count=1&tsn=683039'}"
      ]
     },
     "metadata": {},
     "output_type": "display_data"
    },
    {
     "name": "stdout",
     "output_type": "stream",
     "text": [
      "<pymongo.results.UpdateResult object at 0x105300408>\n"
     ]
    },
    {
     "data": {
      "text/plain": [
       "{'originCollection': 'gapspecies',\n",
       " 'originID': ObjectId('59b8434d0601bad0b9df0fc2'),\n",
       " 'searchURL': 'https://bison.usgs.gov/api/search.json?count=1&tsn=173797'}"
      ]
     },
     "metadata": {},
     "output_type": "display_data"
    },
    {
     "name": "stdout",
     "output_type": "stream",
     "text": [
      "<pymongo.results.UpdateResult object at 0x105306748>\n"
     ]
    },
    {
     "data": {
      "text/plain": [
       "{'originCollection': 'gapspecies',\n",
       " 'originID': ObjectId('59b8434e0601bad0b9df0fc3'),\n",
       " 'searchURL': 'https://bison.usgs.gov/api/search.json?count=1&tsn=209311'}"
      ]
     },
     "metadata": {},
     "output_type": "display_data"
    },
    {
     "name": "stdout",
     "output_type": "stream",
     "text": [
      "<pymongo.results.UpdateResult object at 0x10530e188>\n"
     ]
    },
    {
     "data": {
      "text/plain": [
       "{'originCollection': 'gapspecies',\n",
       " 'originID': ObjectId('59b8434e0601bad0b9df0fc4'),\n",
       " 'searchURL': 'https://bison.usgs.gov/api/search.json?count=1&tsn=174299'}"
      ]
     },
     "metadata": {},
     "output_type": "display_data"
    },
    {
     "name": "stdout",
     "output_type": "stream",
     "text": [
      "<pymongo.results.UpdateResult object at 0x105312088>\n"
     ]
    },
    {
     "data": {
      "text/plain": [
       "{'originCollection': 'gapspecies',\n",
       " 'originID': ObjectId('59b8434e0601bad0b9df0fc5'),\n",
       " 'searchURL': 'https://bison.usgs.gov/api/search.json?count=1&tsn=564569'}"
      ]
     },
     "metadata": {},
     "output_type": "display_data"
    },
    {
     "name": "stdout",
     "output_type": "stream",
     "text": [
      "<pymongo.results.UpdateResult object at 0x105317388>\n"
     ]
    },
    {
     "data": {
      "text/plain": [
       "{'originCollection': 'gapspecies',\n",
       " 'originID': ObjectId('59b8434f0601bad0b9df0fc6'),\n",
       " 'searchURL': 'https://bison.usgs.gov/api/search.json?count=1&tsn=174361'}"
      ]
     },
     "metadata": {},
     "output_type": "display_data"
    },
    {
     "name": "stdout",
     "output_type": "stream",
     "text": [
      "<pymongo.results.UpdateResult object at 0x105317c88>\n"
     ]
    },
    {
     "data": {
      "text/plain": [
       "{'originCollection': 'gapspecies',\n",
       " 'originID': ObjectId('59b8434f0601bad0b9df0fc7'),\n",
       " 'searchURL': 'https://bison.usgs.gov/api/search.json?count=1&tsn=180220'}"
      ]
     },
     "metadata": {},
     "output_type": "display_data"
    },
    {
     "name": "stdout",
     "output_type": "stream",
     "text": [
      "<pymongo.results.UpdateResult object at 0x10531e688>\n"
     ]
    },
    {
     "data": {
      "text/plain": [
       "{'originCollection': 'gapspecies',\n",
       " 'originID': ObjectId('59b8434f0601bad0b9df0fc8'),\n",
       " 'searchURL': 'https://bison.usgs.gov/api/search.json?count=1&tsn=209008'}"
      ]
     },
     "metadata": {},
     "output_type": "display_data"
    },
    {
     "name": "stdout",
     "output_type": "stream",
     "text": [
      "<pymongo.results.UpdateResult object at 0x105327348>\n"
     ]
    },
    {
     "data": {
      "text/plain": [
       "{'originCollection': 'gapspecies',\n",
       " 'originID': ObjectId('59b843500601bad0b9df0fc9'),\n",
       " 'searchURL': 'https://bison.usgs.gov/api/search.json?count=1&tsn=668319'}"
      ]
     },
     "metadata": {},
     "output_type": "display_data"
    },
    {
     "name": "stdout",
     "output_type": "stream",
     "text": [
      "<pymongo.results.UpdateResult object at 0x10532d7c8>\n"
     ]
    },
    {
     "data": {
      "text/plain": [
       "{'originCollection': 'gapspecies',\n",
       " 'originID': ObjectId('59b843500601bad0b9df0fca'),\n",
       " 'searchURL': 'https://bison.usgs.gov/api/search.json?count=1&tsn=208294'}"
      ]
     },
     "metadata": {},
     "output_type": "display_data"
    },
    {
     "name": "stdout",
     "output_type": "stream",
     "text": [
      "<pymongo.results.UpdateResult object at 0x105335048>\n"
     ]
    },
    {
     "data": {
      "text/plain": [
       "{'originCollection': 'gapspecies',\n",
       " 'originID': ObjectId('59b843500601bad0b9df0fcb'),\n",
       " 'searchURL': 'https://bison.usgs.gov/api/search.json?count=1&tsn=683031'}"
      ]
     },
     "metadata": {},
     "output_type": "display_data"
    },
    {
     "name": "stdout",
     "output_type": "stream",
     "text": [
      "<pymongo.results.UpdateResult object at 0x105339208>\n"
     ]
    },
    {
     "data": {
      "text/plain": [
       "{'originCollection': 'gapspecies',\n",
       " 'originID': ObjectId('59b843510601bad0b9df0fcc'),\n",
       " 'searchURL': 'https://bison.usgs.gov/api/search.json?count=1&tsn=180004'}"
      ]
     },
     "metadata": {},
     "output_type": "display_data"
    },
    {
     "name": "stdout",
     "output_type": "stream",
     "text": [
      "<pymongo.results.UpdateResult object at 0x10533f3c8>\n"
     ]
    },
    {
     "data": {
      "text/plain": [
       "{'originCollection': 'gapspecies',\n",
       " 'originID': ObjectId('59b843510601bad0b9df0fcd'),\n",
       " 'searchURL': 'https://bison.usgs.gov/api/search.json?count=1&tsn=174251'}"
      ]
     },
     "metadata": {},
     "output_type": "display_data"
    },
    {
     "name": "stdout",
     "output_type": "stream",
     "text": [
      "<pymongo.results.UpdateResult object at 0x1053422c8>\n"
     ]
    },
    {
     "data": {
      "text/plain": [
       "{'originCollection': 'gapspecies',\n",
       " 'originID': ObjectId('59b843520601bad0b9df0fce'),\n",
       " 'searchURL': 'https://bison.usgs.gov/api/search.json?count=1&tsn=174291'}"
      ]
     },
     "metadata": {},
     "output_type": "display_data"
    },
    {
     "name": "stdout",
     "output_type": "stream",
     "text": [
      "<pymongo.results.UpdateResult object at 0x10534ca08>\n"
     ]
    },
    {
     "data": {
      "text/plain": [
       "{'originCollection': 'gapspecies',\n",
       " 'originID': ObjectId('59b843520601bad0b9df0fcf'),\n",
       " 'searchURL': 'https://bison.usgs.gov/api/search.json?count=1&tsn=173875'}"
      ]
     },
     "metadata": {},
     "output_type": "display_data"
    },
    {
     "name": "stdout",
     "output_type": "stream",
     "text": [
      "<pymongo.results.UpdateResult object at 0x1053516c8>\n"
     ]
    },
    {
     "data": {
      "text/plain": [
       "{'originCollection': 'gapspecies',\n",
       " 'originID': ObjectId('59b843520601bad0b9df0fd0'),\n",
       " 'searchURL': 'https://bison.usgs.gov/api/search.json?count=1&tsn=174271'}"
      ]
     },
     "metadata": {},
     "output_type": "display_data"
    },
    {
     "name": "stdout",
     "output_type": "stream",
     "text": [
      "<pymongo.results.UpdateResult object at 0x10535b088>\n"
     ]
    },
    {
     "data": {
      "text/plain": [
       "{'originCollection': 'gapspecies',\n",
       " 'originID': ObjectId('59b843530601bad0b9df0fd1'),\n",
       " 'searchURL': 'https://bison.usgs.gov/api/search.json?count=1&tsn=173504'}"
      ]
     },
     "metadata": {},
     "output_type": "display_data"
    },
    {
     "name": "stdout",
     "output_type": "stream",
     "text": [
      "<pymongo.results.UpdateResult object at 0x10535f148>\n"
     ]
    },
    {
     "data": {
      "text/plain": [
       "{'originCollection': 'gapspecies',\n",
       " 'originID': ObjectId('59b843530601bad0b9df0fd2'),\n",
       " 'searchURL': 'https://bison.usgs.gov/api/search.json?count=1&tsn=173711'}"
      ]
     },
     "metadata": {},
     "output_type": "display_data"
    },
    {
     "name": "stdout",
     "output_type": "stream",
     "text": [
      "<pymongo.results.UpdateResult object at 0x105363548>\n"
     ]
    },
    {
     "data": {
      "text/plain": [
       "{'originCollection': 'gapspecies',\n",
       " 'originID': ObjectId('59b843540601bad0b9df0fd3'),\n",
       " 'searchURL': 'https://bison.usgs.gov/api/search.json?count=1&tsn=180019'}"
      ]
     },
     "metadata": {},
     "output_type": "display_data"
    },
    {
     "name": "stdout",
     "output_type": "stream",
     "text": [
      "<pymongo.results.UpdateResult object at 0x10536a088>\n"
     ]
    },
    {
     "data": {
      "text/plain": [
       "{'originCollection': 'gapspecies',\n",
       " 'originID': ObjectId('59b843540601bad0b9df0fd4'),\n",
       " 'searchURL': 'https://bison.usgs.gov/api/search.json?count=1&tsn=179440'}"
      ]
     },
     "metadata": {},
     "output_type": "display_data"
    },
    {
     "name": "stdout",
     "output_type": "stream",
     "text": [
      "<pymongo.results.UpdateResult object at 0x10536e308>\n"
     ]
    },
    {
     "data": {
      "text/plain": [
       "{'originCollection': 'gapspecies',\n",
       " 'originID': ObjectId('59b843540601bad0b9df0fd5'),\n",
       " 'searchURL': 'https://bison.usgs.gov/api/search.json?count=1&tsn=180181'}"
      ]
     },
     "metadata": {},
     "output_type": "display_data"
    },
    {
     "name": "stdout",
     "output_type": "stream",
     "text": [
      "<pymongo.results.UpdateResult object at 0x1053761c8>\n"
     ]
    },
    {
     "data": {
      "text/plain": [
       "{'originCollection': 'gapspecies',\n",
       " 'originID': ObjectId('59b843550601bad0b9df0fd6'),\n",
       " 'searchURL': 'https://bison.usgs.gov/api/search.json?count=1&tsn=175044'}"
      ]
     },
     "metadata": {},
     "output_type": "display_data"
    },
    {
     "name": "stdout",
     "output_type": "stream",
     "text": [
      "<pymongo.results.UpdateResult object at 0x10537a148>\n"
     ]
    },
    {
     "data": {
      "text/plain": [
       "{'originCollection': 'gapspecies',\n",
       " 'originID': ObjectId('59b843550601bad0b9df0fd7'),\n",
       " 'searchURL': 'https://bison.usgs.gov/api/search.json?count=1&tsn=773531'}"
      ]
     },
     "metadata": {},
     "output_type": "display_data"
    },
    {
     "name": "stdout",
     "output_type": "stream",
     "text": [
      "<pymongo.results.UpdateResult object at 0x105380608>\n"
     ]
    },
    {
     "data": {
      "text/plain": [
       "{'originCollection': 'gapspecies',\n",
       " 'originID': ObjectId('59b843550601bad0b9df0fd8'),\n",
       " 'searchURL': 'https://bison.usgs.gov/api/search.json?count=1&tsn=179112'}"
      ]
     },
     "metadata": {},
     "output_type": "display_data"
    },
    {
     "name": "stdout",
     "output_type": "stream",
     "text": [
      "<pymongo.results.UpdateResult object at 0x105388088>\n"
     ]
    },
    {
     "data": {
      "text/plain": [
       "{'originCollection': 'gapspecies',\n",
       " 'originID': ObjectId('59b843560601bad0b9df0fd9'),\n",
       " 'searchURL': 'https://bison.usgs.gov/api/search.json?count=1&tsn=179981'}"
      ]
     },
     "metadata": {},
     "output_type": "display_data"
    },
    {
     "name": "stdout",
     "output_type": "stream",
     "text": [
      "<pymongo.results.UpdateResult object at 0x10538b308>\n"
     ]
    },
    {
     "data": {
      "text/plain": [
       "{'originCollection': 'gapspecies',\n",
       " 'originID': ObjectId('59b843560601bad0b9df0fda'),\n",
       " 'searchURL': 'https://bison.usgs.gov/api/search.json?count=1&tsn=178764'}"
      ]
     },
     "metadata": {},
     "output_type": "display_data"
    },
    {
     "name": "stdout",
     "output_type": "stream",
     "text": [
      "<pymongo.results.UpdateResult object at 0x1053941c8>\n"
     ]
    },
    {
     "data": {
      "text/plain": [
       "{'originCollection': 'gapspecies',\n",
       " 'originID': ObjectId('59b843560601bad0b9df0fdb'),\n",
       " 'searchURL': 'https://bison.usgs.gov/api/search.json?count=1&tsn=552520'}"
      ]
     },
     "metadata": {},
     "output_type": "display_data"
    },
    {
     "name": "stdout",
     "output_type": "stream",
     "text": [
      "<pymongo.results.UpdateResult object at 0x105399448>\n"
     ]
    },
    {
     "data": {
      "text/plain": [
       "{'originCollection': 'gapspecies',\n",
       " 'originID': ObjectId('59b843560601bad0b9df0fdc'),\n",
       " 'searchURL': 'https://bison.usgs.gov/api/search.json?count=1&tsn=173596'}"
      ]
     },
     "metadata": {},
     "output_type": "display_data"
    },
    {
     "name": "stdout",
     "output_type": "stream",
     "text": [
      "<pymongo.results.UpdateResult object at 0x1053a0048>\n"
     ]
    },
    {
     "data": {
      "text/plain": [
       "{'originCollection': 'gapspecies',\n",
       " 'originID': ObjectId('59b843570601bad0b9df0fdd'),\n",
       " 'searchURL': 'https://bison.usgs.gov/api/search.json?count=1&tsn=178040'}"
      ]
     },
     "metadata": {},
     "output_type": "display_data"
    },
    {
     "name": "stdout",
     "output_type": "stream",
     "text": [
      "<pymongo.results.UpdateResult object at 0x1053a6208>\n"
     ]
    },
    {
     "data": {
      "text/plain": [
       "{'originCollection': 'gapspecies',\n",
       " 'originID': ObjectId('59b843570601bad0b9df0fde'),\n",
       " 'searchURL': 'https://bison.usgs.gov/api/search.json?count=1&tsn=668243'}"
      ]
     },
     "metadata": {},
     "output_type": "display_data"
    },
    {
     "name": "stdout",
     "output_type": "stream",
     "text": [
      "<pymongo.results.UpdateResult object at 0x1053a6f08>\n"
     ]
    },
    {
     "data": {
      "text/plain": [
       "{'originCollection': 'gapspecies',\n",
       " 'originID': ObjectId('59b843580601bad0b9df0fdf'),\n",
       " 'searchURL': 'https://bison.usgs.gov/api/search.json?count=1&tsn=179190'}"
      ]
     },
     "metadata": {},
     "output_type": "display_data"
    },
    {
     "name": "stdout",
     "output_type": "stream",
     "text": [
      "<pymongo.results.UpdateResult object at 0x1053ac848>\n"
     ]
    },
    {
     "data": {
      "text/plain": [
       "{'originCollection': 'gapspecies',\n",
       " 'originID': ObjectId('59b843580601bad0b9df0fe0'),\n",
       " 'searchURL': 'https://bison.usgs.gov/api/search.json?count=1&tsn=175295'}"
      ]
     },
     "metadata": {},
     "output_type": "display_data"
    },
    {
     "name": "stdout",
     "output_type": "stream",
     "text": [
      "<pymongo.results.UpdateResult object at 0x1053b90c8>\n"
     ]
    },
    {
     "data": {
      "text/plain": [
       "{'originCollection': 'gapspecies',\n",
       " 'originID': ObjectId('59b843590601bad0b9df0fe1'),\n",
       " 'searchURL': 'https://bison.usgs.gov/api/search.json?count=1&tsn=173719'}"
      ]
     },
     "metadata": {},
     "output_type": "display_data"
    },
    {
     "name": "stdout",
     "output_type": "stream",
     "text": [
      "<pymongo.results.UpdateResult object at 0x1053bd388>\n"
     ]
    },
    {
     "data": {
      "text/plain": [
       "{'originCollection': 'gapspecies',\n",
       " 'originID': ObjectId('59b843590601bad0b9df0fe2'),\n",
       " 'searchURL': 'https://bison.usgs.gov/api/search.json?count=1&tsn=208291'}"
      ]
     },
     "metadata": {},
     "output_type": "display_data"
    },
    {
     "name": "stdout",
     "output_type": "stream",
     "text": [
      "<pymongo.results.UpdateResult object at 0x1053c2708>\n"
     ]
    },
    {
     "data": {
      "text/plain": [
       "{'originCollection': 'gapspecies',\n",
       " 'originID': ObjectId('59b843590601bad0b9df0fe3'),\n",
       " 'searchURL': 'https://bison.usgs.gov/api/search.json?count=1&tsn=173658'}"
      ]
     },
     "metadata": {},
     "output_type": "display_data"
    },
    {
     "name": "stdout",
     "output_type": "stream",
     "text": [
      "<pymongo.results.UpdateResult object at 0x1053ca088>\n"
     ]
    },
    {
     "data": {
      "text/plain": [
       "{'originCollection': 'gapspecies',\n",
       " 'originID': ObjectId('59b8435a0601bad0b9df0fe4'),\n",
       " 'searchURL': 'https://bison.usgs.gov/api/search.json?count=1&tsn=179276'}"
      ]
     },
     "metadata": {},
     "output_type": "display_data"
    },
    {
     "name": "stdout",
     "output_type": "stream",
     "text": [
      "<pymongo.results.UpdateResult object at 0x1053ce088>\n"
     ]
    },
    {
     "data": {
      "text/plain": [
       "{'originCollection': 'gapspecies',\n",
       " 'originID': ObjectId('59b8435a0601bad0b9df0fe5'),\n",
       " 'searchURL': 'https://bison.usgs.gov/api/search.json?count=1&tsn=173663'}"
      ]
     },
     "metadata": {},
     "output_type": "display_data"
    },
    {
     "name": "stdout",
     "output_type": "stream",
     "text": [
      "<pymongo.results.UpdateResult object at 0x1053d54c8>\n"
     ]
    },
    {
     "data": {
      "text/plain": [
       "{'originCollection': 'gapspecies',\n",
       " 'originID': ObjectId('59b8435b0601bad0b9df0fe6'),\n",
       " 'searchURL': 'https://bison.usgs.gov/api/search.json?count=1&tsn=180206'}"
      ]
     },
     "metadata": {},
     "output_type": "display_data"
    },
    {
     "name": "stdout",
     "output_type": "stream",
     "text": [
      "<pymongo.results.UpdateResult object at 0x1053d9848>\n"
     ]
    },
    {
     "data": {
      "text/plain": [
       "{'originCollection': 'gapspecies',\n",
       " 'originID': ObjectId('59b8435b0601bad0b9df0fe7'),\n",
       " 'searchURL': 'https://bison.usgs.gov/api/search.json?count=1&tsn=726904'}"
      ]
     },
     "metadata": {},
     "output_type": "display_data"
    },
    {
     "name": "stdout",
     "output_type": "stream",
     "text": [
      "<pymongo.results.UpdateResult object at 0x1053e0108>\n"
     ]
    },
    {
     "data": {
      "text/plain": [
       "{'originCollection': 'gapspecies',\n",
       " 'originID': ObjectId('59b8435b0601bad0b9df0fe8'),\n",
       " 'searchURL': 'https://bison.usgs.gov/api/search.json?count=1&tsn=775866'}"
      ]
     },
     "metadata": {},
     "output_type": "display_data"
    },
    {
     "name": "stdout",
     "output_type": "stream",
     "text": [
      "<pymongo.results.UpdateResult object at 0x1053e77c8>\n"
     ]
    },
    {
     "data": {
      "text/plain": [
       "{'originCollection': 'gapspecies',\n",
       " 'originID': ObjectId('59b8435c0601bad0b9df0fe9'),\n",
       " 'searchURL': 'https://bison.usgs.gov/api/search.json?count=1&tsn=173741'}"
      ]
     },
     "metadata": {},
     "output_type": "display_data"
    },
    {
     "name": "stdout",
     "output_type": "stream",
     "text": [
      "<pymongo.results.UpdateResult object at 0x1053e9448>\n"
     ]
    },
    {
     "data": {
      "text/plain": [
       "{'originCollection': 'gapspecies',\n",
       " 'originID': ObjectId('59b8435c0601bad0b9df0fea'),\n",
       " 'searchURL': 'https://bison.usgs.gov/api/search.json?count=1&tsn=176638'}"
      ]
     },
     "metadata": {},
     "output_type": "display_data"
    },
    {
     "name": "stdout",
     "output_type": "stream",
     "text": [
      "<pymongo.results.UpdateResult object at 0x1053f2248>\n"
     ]
    },
    {
     "data": {
      "text/plain": [
       "{'originCollection': 'gapspecies',\n",
       " 'originID': ObjectId('59b8435c0601bad0b9df0feb'),\n",
       " 'searchURL': 'https://bison.usgs.gov/api/search.json?count=1&tsn=176931'}"
      ]
     },
     "metadata": {},
     "output_type": "display_data"
    },
    {
     "name": "stdout",
     "output_type": "stream",
     "text": [
      "<pymongo.results.UpdateResult object at 0x1053f2e88>\n"
     ]
    },
    {
     "data": {
      "text/plain": [
       "{'originCollection': 'gapspecies',\n",
       " 'originID': ObjectId('59b8435d0601bad0b9df0fec'),\n",
       " 'searchURL': 'https://bison.usgs.gov/api/search.json?count=1&tsn=552497'}"
      ]
     },
     "metadata": {},
     "output_type": "display_data"
    },
    {
     "name": "stdout",
     "output_type": "stream",
     "text": [
      "<pymongo.results.UpdateResult object at 0x105400108>\n"
     ]
    },
    {
     "data": {
      "text/plain": [
       "{'originCollection': 'gapspecies',\n",
       " 'originID': ObjectId('59b8435d0601bad0b9df0fed'),\n",
       " 'searchURL': 'https://bison.usgs.gov/api/search.json?count=1&tsn=179680'}"
      ]
     },
     "metadata": {},
     "output_type": "display_data"
    },
    {
     "name": "stdout",
     "output_type": "stream",
     "text": [
      "<pymongo.results.UpdateResult object at 0x105405708>\n"
     ]
    },
    {
     "data": {
      "text/plain": [
       "{'originCollection': 'gapspecies',\n",
       " 'originID': ObjectId('59b8435e0601bad0b9df0fee'),\n",
       " 'searchURL': 'https://bison.usgs.gov/api/search.json?count=1&tsn=173532'}"
      ]
     },
     "metadata": {},
     "output_type": "display_data"
    },
    {
     "name": "stdout",
     "output_type": "stream",
     "text": [
      "<pymongo.results.UpdateResult object at 0x10540b0c8>\n"
     ]
    },
    {
     "data": {
      "text/plain": [
       "{'originCollection': 'gapspecies',\n",
       " 'originID': ObjectId('59b8435e0601bad0b9df0fef'),\n",
       " 'searchURL': 'https://bison.usgs.gov/api/search.json?count=1&tsn=180199'}"
      ]
     },
     "metadata": {},
     "output_type": "display_data"
    },
    {
     "name": "stdout",
     "output_type": "stream",
     "text": [
      "<pymongo.results.UpdateResult object at 0x105411308>\n"
     ]
    },
    {
     "data": {
      "text/plain": [
       "{'originCollection': 'gapspecies',\n",
       " 'originID': ObjectId('59b8435e0601bad0b9df0ff0'),\n",
       " 'searchURL': 'https://bison.usgs.gov/api/search.json?count=1&tsn=180162'}"
      ]
     },
     "metadata": {},
     "output_type": "display_data"
    },
    {
     "name": "stdout",
     "output_type": "stream",
     "text": [
      "<pymongo.results.UpdateResult object at 0x10541b208>\n"
     ]
    },
    {
     "data": {
      "text/plain": [
       "{'originCollection': 'gapspecies',\n",
       " 'originID': ObjectId('59b8435f0601bad0b9df0ff1'),\n",
       " 'searchURL': 'https://bison.usgs.gov/api/search.json?count=1&tsn=180281'}"
      ]
     },
     "metadata": {},
     "output_type": "display_data"
    },
    {
     "name": "stdout",
     "output_type": "stream",
     "text": [
      "<pymongo.results.UpdateResult object at 0x10541e0c8>\n"
     ]
    },
    {
     "data": {
      "text/plain": [
       "{'originCollection': 'gapspecies',\n",
       " 'originID': ObjectId('59b8435f0601bad0b9df0ff2'),\n",
       " 'searchURL': 'https://bison.usgs.gov/api/search.json?count=1&tsn=177938'}"
      ]
     },
     "metadata": {},
     "output_type": "display_data"
    },
    {
     "name": "stdout",
     "output_type": "stream",
     "text": [
      "<pymongo.results.UpdateResult object at 0x105422608>\n"
     ]
    },
    {
     "data": {
      "text/plain": [
       "{'originCollection': 'gapspecies',\n",
       " 'originID': ObjectId('59b8435f0601bad0b9df0ff3'),\n",
       " 'searchURL': 'https://bison.usgs.gov/api/search.json?count=1&tsn=726048'}"
      ]
     },
     "metadata": {},
     "output_type": "display_data"
    },
    {
     "name": "stdout",
     "output_type": "stream",
     "text": [
      "<pymongo.results.UpdateResult object at 0x105424388>\n"
     ]
    },
    {
     "data": {
      "text/plain": [
       "{'originCollection': 'gapspecies',\n",
       " 'originID': ObjectId('59b843600601bad0b9df0ff4'),\n",
       " 'searchURL': 'https://bison.usgs.gov/api/search.json?count=1&tsn=178826'}"
      ]
     },
     "metadata": {},
     "output_type": "display_data"
    },
    {
     "name": "stdout",
     "output_type": "stream",
     "text": [
      "<pymongo.results.UpdateResult object at 0x10542e6c8>\n"
     ]
    },
    {
     "data": {
      "text/plain": [
       "{'originCollection': 'gapspecies',\n",
       " 'originID': ObjectId('59b843600601bad0b9df0ff5'),\n",
       " 'searchURL': 'https://bison.usgs.gov/api/search.json?count=1&tsn=173467'}"
      ]
     },
     "metadata": {},
     "output_type": "display_data"
    },
    {
     "name": "stdout",
     "output_type": "stream",
     "text": [
      "<pymongo.results.UpdateResult object at 0x105434088>\n"
     ]
    },
    {
     "data": {
      "text/plain": [
       "{'originCollection': 'gapspecies',\n",
       " 'originID': ObjectId('59b843600601bad0b9df0ff6'),\n",
       " 'searchURL': 'https://bison.usgs.gov/api/search.json?count=1&tsn=552508'}"
      ]
     },
     "metadata": {},
     "output_type": "display_data"
    },
    {
     "name": "stdout",
     "output_type": "stream",
     "text": [
      "<pymongo.results.UpdateResult object at 0x10543a2c8>\n"
     ]
    },
    {
     "data": {
      "text/plain": [
       "{'originCollection': 'gapspecies',\n",
       " 'originID': ObjectId('59b843610601bad0b9df0ff7'),\n",
       " 'searchURL': 'https://bison.usgs.gov/api/search.json?count=1&tsn=177961'}"
      ]
     },
     "metadata": {},
     "output_type": "display_data"
    },
    {
     "name": "stdout",
     "output_type": "stream",
     "text": [
      "<pymongo.results.UpdateResult object at 0x10543f1c8>\n"
     ]
    },
    {
     "data": {
      "text/plain": [
       "{'originCollection': 'gapspecies',\n",
       " 'originID': ObjectId('59b843610601bad0b9df0ff8'),\n",
       " 'searchURL': 'https://bison.usgs.gov/api/search.json?count=1&tsn=175274'}"
      ]
     },
     "metadata": {},
     "output_type": "display_data"
    },
    {
     "name": "stdout",
     "output_type": "stream",
     "text": [
      "<pymongo.results.UpdateResult object at 0x105445308>\n"
     ]
    },
    {
     "data": {
      "text/plain": [
       "{'originCollection': 'gapspecies',\n",
       " 'originID': ObjectId('59b843610601bad0b9df0ff9'),\n",
       " 'searchURL': 'https://bison.usgs.gov/api/search.json?count=1&tsn=180174'}"
      ]
     },
     "metadata": {},
     "output_type": "display_data"
    },
    {
     "name": "stdout",
     "output_type": "stream",
     "text": [
      "<pymongo.results.UpdateResult object at 0x10544c808>\n"
     ]
    },
    {
     "data": {
      "text/plain": [
       "{'originCollection': 'gapspecies',\n",
       " 'originID': ObjectId('59b843620601bad0b9df0ffa'),\n",
       " 'searchURL': 'https://bison.usgs.gov/api/search.json?count=1&tsn=179032'}"
      ]
     },
     "metadata": {},
     "output_type": "display_data"
    },
    {
     "name": "stdout",
     "output_type": "stream",
     "text": [
      "<pymongo.results.UpdateResult object at 0x105453088>\n"
     ]
    },
    {
     "data": {
      "text/plain": [
       "{'originCollection': 'gapspecies',\n",
       " 'originID': ObjectId('59b843620601bad0b9df0ffb'),\n",
       " 'searchURL': 'https://bison.usgs.gov/api/search.json?count=1&tsn=178874'}"
      ]
     },
     "metadata": {},
     "output_type": "display_data"
    },
    {
     "name": "stdout",
     "output_type": "stream",
     "text": [
      "<pymongo.results.UpdateResult object at 0x105458348>\n"
     ]
    },
    {
     "data": {
      "text/plain": [
       "{'originCollection': 'gapspecies',\n",
       " 'originID': ObjectId('59b843620601bad0b9df0ffc'),\n",
       " 'searchURL': 'https://bison.usgs.gov/api/search.json?count=1&tsn=180083'}"
      ]
     },
     "metadata": {},
     "output_type": "display_data"
    },
    {
     "name": "stdout",
     "output_type": "stream",
     "text": [
      "<pymongo.results.UpdateResult object at 0x105460648>\n"
     ]
    },
    {
     "data": {
      "text/plain": [
       "{'originCollection': 'gapspecies',\n",
       " 'originID': ObjectId('59b843630601bad0b9df0ffd'),\n",
       " 'searchURL': 'https://bison.usgs.gov/api/search.json?count=1&tsn=180109'}"
      ]
     },
     "metadata": {},
     "output_type": "display_data"
    },
    {
     "name": "stdout",
     "output_type": "stream",
     "text": [
      "<pymongo.results.UpdateResult object at 0x105463808>\n"
     ]
    },
    {
     "data": {
      "text/plain": [
       "{'originCollection': 'gapspecies',\n",
       " 'originID': ObjectId('59b843630601bad0b9df0ffe'),\n",
       " 'searchURL': 'https://bison.usgs.gov/api/search.json?count=1&tsn=173654'}"
      ]
     },
     "metadata": {},
     "output_type": "display_data"
    },
    {
     "name": "stdout",
     "output_type": "stream",
     "text": [
      "<pymongo.results.UpdateResult object at 0x10546b048>\n"
     ]
    },
    {
     "data": {
      "text/plain": [
       "{'originCollection': 'gapspecies',\n",
       " 'originID': ObjectId('59b843630601bad0b9df0fff'),\n",
       " 'searchURL': 'https://bison.usgs.gov/api/search.json?count=1&tsn=175716'}"
      ]
     },
     "metadata": {},
     "output_type": "display_data"
    },
    {
     "name": "stdout",
     "output_type": "stream",
     "text": [
      "<pymongo.results.UpdateResult object at 0x10546f0c8>\n"
     ]
    },
    {
     "data": {
      "text/plain": [
       "{'originCollection': 'gapspecies',\n",
       " 'originID': ObjectId('59b843640601bad0b9df1000'),\n",
       " 'searchURL': 'https://bison.usgs.gov/api/search.json?count=1&tsn=179139'}"
      ]
     },
     "metadata": {},
     "output_type": "display_data"
    },
    {
     "name": "stdout",
     "output_type": "stream",
     "text": [
      "<pymongo.results.UpdateResult object at 0x105474088>\n"
     ]
    },
    {
     "data": {
      "text/plain": [
       "{'originCollection': 'gapspecies',\n",
       " 'originID': ObjectId('59b843640601bad0b9df1001'),\n",
       " 'searchURL': 'https://bison.usgs.gov/api/search.json?count=1&tsn=552496'}"
      ]
     },
     "metadata": {},
     "output_type": "display_data"
    },
    {
     "name": "stdout",
     "output_type": "stream",
     "text": [
      "<pymongo.results.UpdateResult object at 0x10547c308>\n"
     ]
    },
    {
     "data": {
      "text/plain": [
       "{'originCollection': 'gapspecies',\n",
       " 'originID': ObjectId('59b843650601bad0b9df1002'),\n",
       " 'searchURL': 'https://bison.usgs.gov/api/search.json?count=1&tsn=179386'}"
      ]
     },
     "metadata": {},
     "output_type": "display_data"
    },
    {
     "name": "stdout",
     "output_type": "stream",
     "text": [
      "<pymongo.results.UpdateResult object at 0x1054820c8>\n"
     ]
    },
    {
     "data": {
      "text/plain": [
       "{'originCollection': 'gapspecies',\n",
       " 'originID': ObjectId('59b843650601bad0b9df1003'),\n",
       " 'searchURL': 'https://bison.usgs.gov/api/search.json?count=1&tsn=178448'}"
      ]
     },
     "metadata": {},
     "output_type": "display_data"
    },
    {
     "name": "stdout",
     "output_type": "stream",
     "text": [
      "<pymongo.results.UpdateResult object at 0x105488188>\n"
     ]
    },
    {
     "data": {
      "text/plain": [
       "{'originCollection': 'gapspecies',\n",
       " 'originID': ObjectId('59b843650601bad0b9df1004'),\n",
       " 'searchURL': 'https://bison.usgs.gov/api/search.json?count=1&tsn=180022'}"
      ]
     },
     "metadata": {},
     "output_type": "display_data"
    },
    {
     "name": "stdout",
     "output_type": "stream",
     "text": [
      "<pymongo.results.UpdateResult object at 0x10548e1c8>\n"
     ]
    },
    {
     "data": {
      "text/plain": [
       "{'originCollection': 'gapspecies',\n",
       " 'originID': ObjectId('59b843660601bad0b9df1005'),\n",
       " 'searchURL': 'https://bison.usgs.gov/api/search.json?count=1&tsn=550253'}"
      ]
     },
     "metadata": {},
     "output_type": "display_data"
    },
    {
     "name": "stdout",
     "output_type": "stream",
     "text": [
      "<pymongo.results.UpdateResult object at 0x105492408>\n"
     ]
    },
    {
     "data": {
      "text/plain": [
       "{'originCollection': 'gapspecies',\n",
       " 'originID': ObjectId('59b843660601bad0b9df1006'),\n",
       " 'searchURL': 'https://bison.usgs.gov/api/search.json?count=1&tsn=178048'}"
      ]
     },
     "metadata": {},
     "output_type": "display_data"
    },
    {
     "name": "stdout",
     "output_type": "stream",
     "text": [
      "<pymongo.results.UpdateResult object at 0x105497748>\n"
     ]
    },
    {
     "data": {
      "text/plain": [
       "{'originCollection': 'gapspecies',\n",
       " 'originID': ObjectId('59b843660601bad0b9df1007'),\n",
       " 'searchURL': 'https://bison.usgs.gov/api/search.json?count=1&tsn=180336'}"
      ]
     },
     "metadata": {},
     "output_type": "display_data"
    },
    {
     "name": "stdout",
     "output_type": "stream",
     "text": [
      "<pymongo.results.UpdateResult object at 0x10549f088>\n"
     ]
    },
    {
     "data": {
      "text/plain": [
       "{'originCollection': 'gapspecies',\n",
       " 'originID': ObjectId('59b843670601bad0b9df1008'),\n",
       " 'searchURL': 'https://bison.usgs.gov/api/search.json?count=1&type=scientific_name&species=Sylvilagus palustris heferni'}"
      ]
     },
     "metadata": {},
     "output_type": "display_data"
    },
    {
     "name": "stdout",
     "output_type": "stream",
     "text": [
      "<pymongo.results.UpdateResult object at 0x1054a3388>\n"
     ]
    },
    {
     "data": {
      "text/plain": [
       "{'originCollection': 'gapspecies',\n",
       " 'originID': ObjectId('59b843670601bad0b9df1009'),\n",
       " 'searchURL': 'https://bison.usgs.gov/api/search.json?count=1&tsn=180596'}"
      ]
     },
     "metadata": {},
     "output_type": "display_data"
    },
    {
     "name": "stdout",
     "output_type": "stream",
     "text": [
      "<pymongo.results.UpdateResult object at 0x1054a9888>\n"
     ]
    },
    {
     "data": {
      "text/plain": [
       "{'originCollection': 'gapspecies',\n",
       " 'originID': ObjectId('59b843680601bad0b9df100a'),\n",
       " 'searchURL': 'https://bison.usgs.gov/api/search.json?count=1&tsn=202360'}"
      ]
     },
     "metadata": {},
     "output_type": "display_data"
    },
    {
     "name": "stdout",
     "output_type": "stream",
     "text": [
      "<pymongo.results.UpdateResult object at 0x1054b0088>\n"
     ]
    },
    {
     "data": {
      "text/plain": [
       "{'originCollection': 'gapspecies',\n",
       " 'originID': ObjectId('59b843680601bad0b9df100b'),\n",
       " 'searchURL': 'https://bison.usgs.gov/api/search.json?count=1&tsn=178986'}"
      ]
     },
     "metadata": {},
     "output_type": "display_data"
    },
    {
     "name": "stdout",
     "output_type": "stream",
     "text": [
      "<pymongo.results.UpdateResult object at 0x1054b7088>\n"
     ]
    },
    {
     "data": {
      "text/plain": [
       "{'originCollection': 'gapspecies',\n",
       " 'originID': ObjectId('59b843690601bad0b9df100c'),\n",
       " 'searchURL': 'https://bison.usgs.gov/api/search.json?count=1&tsn=175187'}"
      ]
     },
     "metadata": {},
     "output_type": "display_data"
    },
    {
     "name": "stdout",
     "output_type": "stream",
     "text": [
      "<pymongo.results.UpdateResult object at 0x1054b7e88>\n"
     ]
    },
    {
     "data": {
      "text/plain": [
       "{'originCollection': 'gapspecies',\n",
       " 'originID': ObjectId('59b843690601bad0b9df100d'),\n",
       " 'searchURL': 'https://bison.usgs.gov/api/search.json?count=1&tsn=552474'}"
      ]
     },
     "metadata": {},
     "output_type": "display_data"
    },
    {
     "name": "stdout",
     "output_type": "stream",
     "text": [
      "<pymongo.results.UpdateResult object at 0x1054beac8>\n"
     ]
    },
    {
     "data": {
      "text/plain": [
       "{'originCollection': 'gapspecies',\n",
       " 'originID': ObjectId('59b8436a0601bad0b9df100e'),\n",
       " 'searchURL': 'https://bison.usgs.gov/api/search.json?count=1&tsn=180243'}"
      ]
     },
     "metadata": {},
     "output_type": "display_data"
    },
    {
     "name": "stdout",
     "output_type": "stream",
     "text": [
      "<pymongo.results.UpdateResult object at 0x1054be6c8>\n"
     ]
    },
    {
     "data": {
      "text/plain": [
       "{'originCollection': 'gapspecies',\n",
       " 'originID': ObjectId('59b8436a0601bad0b9df100f'),\n",
       " 'searchURL': 'https://bison.usgs.gov/api/search.json?count=1&tsn=180112'}"
      ]
     },
     "metadata": {},
     "output_type": "display_data"
    },
    {
     "name": "stdout",
     "output_type": "stream",
     "text": [
      "<pymongo.results.UpdateResult object at 0x1054c9848>\n"
     ]
    },
    {
     "data": {
      "text/plain": [
       "{'originCollection': 'gapspecies',\n",
       " 'originID': ObjectId('59b8436b0601bad0b9df1010'),\n",
       " 'searchURL': 'https://bison.usgs.gov/api/search.json?count=1&tsn=683027'}"
      ]
     },
     "metadata": {},
     "output_type": "display_data"
    },
    {
     "name": "stdout",
     "output_type": "stream",
     "text": [
      "<pymongo.results.UpdateResult object at 0x1054d2808>\n"
     ]
    },
    {
     "data": {
      "text/plain": [
       "{'originCollection': 'gapspecies',\n",
       " 'originID': ObjectId('59b8436b0601bad0b9df1011'),\n",
       " 'searchURL': 'https://bison.usgs.gov/api/search.json?count=1&tsn=174142'}"
      ]
     },
     "metadata": {},
     "output_type": "display_data"
    },
    {
     "name": "stdout",
     "output_type": "stream",
     "text": [
      "<pymongo.results.UpdateResult object at 0x1054d8088>\n"
     ]
    },
    {
     "data": {
      "text/plain": [
       "{'originCollection': 'gapspecies',\n",
       " 'originID': ObjectId('59b8436c0601bad0b9df1012'),\n",
       " 'searchURL': 'https://bison.usgs.gov/api/search.json?count=1&tsn=173952'}"
      ]
     },
     "metadata": {},
     "output_type": "display_data"
    },
    {
     "name": "stdout",
     "output_type": "stream",
     "text": [
      "<pymongo.results.UpdateResult object at 0x1054e2288>\n"
     ]
    },
    {
     "data": {
      "text/plain": [
       "{'originCollection': 'gapspecies',\n",
       " 'originID': ObjectId('59b8436c0601bad0b9df1013'),\n",
       " 'searchURL': 'https://bison.usgs.gov/api/search.json?count=1&tsn=209006'}"
      ]
     },
     "metadata": {},
     "output_type": "display_data"
    },
    {
     "name": "stdout",
     "output_type": "stream",
     "text": [
      "<pymongo.results.UpdateResult object at 0x1054e5588>\n"
     ]
    },
    {
     "data": {
      "text/plain": [
       "{'originCollection': 'gapspecies',\n",
       " 'originID': ObjectId('59b8436d0601bad0b9df1014'),\n",
       " 'searchURL': 'https://bison.usgs.gov/api/search.json?count=1&tsn=207283'}"
      ]
     },
     "metadata": {},
     "output_type": "display_data"
    },
    {
     "name": "stdout",
     "output_type": "stream",
     "text": [
      "<pymongo.results.UpdateResult object at 0x1054ea748>\n"
     ]
    },
    {
     "data": {
      "text/plain": [
       "{'originCollection': 'gapspecies',\n",
       " 'originID': ObjectId('59b8436d0601bad0b9df1015'),\n",
       " 'searchURL': 'https://bison.usgs.gov/api/search.json?count=1&tsn=173552'}"
      ]
     },
     "metadata": {},
     "output_type": "display_data"
    },
    {
     "name": "stdout",
     "output_type": "stream",
     "text": [
      "<pymongo.results.UpdateResult object at 0x1054f1148>\n"
     ]
    },
    {
     "data": {
      "text/plain": [
       "{'originCollection': 'gapspecies',\n",
       " 'originID': ObjectId('59b8436e0601bad0b9df1016'),\n",
       " 'searchURL': 'https://bison.usgs.gov/api/search.json?count=1&tsn=174216'}"
      ]
     },
     "metadata": {},
     "output_type": "display_data"
    },
    {
     "name": "stdout",
     "output_type": "stream",
     "text": [
      "<pymongo.results.UpdateResult object at 0x1054f40c8>\n"
     ]
    },
    {
     "data": {
      "text/plain": [
       "{'originCollection': 'gapspecies',\n",
       " 'originID': ObjectId('59b8436e0601bad0b9df1017'),\n",
       " 'searchURL': 'https://bison.usgs.gov/api/search.json?count=1&tsn=563905'}"
      ]
     },
     "metadata": {},
     "output_type": "display_data"
    },
    {
     "name": "stdout",
     "output_type": "stream",
     "text": [
      "<pymongo.results.UpdateResult object at 0x1054fb388>\n"
     ]
    },
    {
     "data": {
      "text/plain": [
       "{'originCollection': 'gapspecies',\n",
       " 'originID': ObjectId('59b8436e0601bad0b9df1018'),\n",
       " 'searchURL': 'https://bison.usgs.gov/api/search.json?count=1&tsn=174312'}"
      ]
     },
     "metadata": {},
     "output_type": "display_data"
    },
    {
     "name": "stdout",
     "output_type": "stream",
     "text": [
      "<pymongo.results.UpdateResult object at 0x1054ff788>\n"
     ]
    },
    {
     "data": {
      "text/plain": [
       "{'originCollection': 'gapspecies',\n",
       " 'originID': ObjectId('59b8436f0601bad0b9df1019'),\n",
       " 'searchURL': 'https://bison.usgs.gov/api/search.json?count=1&tsn=174195'}"
      ]
     },
     "metadata": {},
     "output_type": "display_data"
    },
    {
     "name": "stdout",
     "output_type": "stream",
     "text": [
      "<pymongo.results.UpdateResult object at 0x1055060c8>\n"
     ]
    },
    {
     "data": {
      "text/plain": [
       "{'originCollection': 'gapspecies',\n",
       " 'originID': ObjectId('59b8436f0601bad0b9df101a'),\n",
       " 'searchURL': 'https://bison.usgs.gov/api/search.json?count=1&tsn=180024'}"
      ]
     },
     "metadata": {},
     "output_type": "display_data"
    },
    {
     "name": "stdout",
     "output_type": "stream",
     "text": [
      "<pymongo.results.UpdateResult object at 0x10550e088>\n"
     ]
    },
    {
     "data": {
      "text/plain": [
       "{'originCollection': 'gapspecies',\n",
       " 'originID': ObjectId('59b843700601bad0b9df101b'),\n",
       " 'searchURL': 'https://bison.usgs.gov/api/search.json?count=1&tsn=174039'}"
      ]
     },
     "metadata": {},
     "output_type": "display_data"
    },
    {
     "name": "stdout",
     "output_type": "stream",
     "text": [
      "<pymongo.results.UpdateResult object at 0x105512808>\n"
     ]
    },
    {
     "data": {
      "text/plain": [
       "{'originCollection': 'gapspecies',\n",
       " 'originID': ObjectId('59b843700601bad0b9df101c'),\n",
       " 'searchURL': 'https://bison.usgs.gov/api/search.json?count=1&tsn=173882'}"
      ]
     },
     "metadata": {},
     "output_type": "display_data"
    },
    {
     "name": "stdout",
     "output_type": "stream",
     "text": [
      "<pymongo.results.UpdateResult object at 0x10551b248>\n"
     ]
    },
    {
     "data": {
      "text/plain": [
       "{'originCollection': 'gapspecies',\n",
       " 'originID': ObjectId('59b843700601bad0b9df101d'),\n",
       " 'searchURL': 'https://bison.usgs.gov/api/search.json?count=1&tsn=175420'}"
      ]
     },
     "metadata": {},
     "output_type": "display_data"
    },
    {
     "name": "stdout",
     "output_type": "stream",
     "text": [
      "<pymongo.results.UpdateResult object at 0x105520088>\n"
     ]
    },
    {
     "data": {
      "text/plain": [
       "{'originCollection': 'gapspecies',\n",
       " 'originID': ObjectId('59b843710601bad0b9df101e'),\n",
       " 'searchURL': 'https://bison.usgs.gov/api/search.json?count=1&tsn=178436'}"
      ]
     },
     "metadata": {},
     "output_type": "display_data"
    },
    {
     "name": "stdout",
     "output_type": "stream",
     "text": [
      "<pymongo.results.UpdateResult object at 0x105524408>\n"
     ]
    },
    {
     "data": {
      "text/plain": [
       "{'originCollection': 'gapspecies',\n",
       " 'originID': ObjectId('59b843710601bad0b9df101f'),\n",
       " 'searchURL': 'https://bison.usgs.gov/api/search.json?count=1&tsn=180290'}"
      ]
     },
     "metadata": {},
     "output_type": "display_data"
    },
    {
     "name": "stdout",
     "output_type": "stream",
     "text": [
      "<pymongo.results.UpdateResult object at 0x105525288>\n"
     ]
    },
    {
     "data": {
      "text/plain": [
       "{'originCollection': 'gapspecies',\n",
       " 'originID': ObjectId('59b843720601bad0b9df1020'),\n",
       " 'searchURL': 'https://bison.usgs.gov/api/search.json?count=1&tsn=180290'}"
      ]
     },
     "metadata": {},
     "output_type": "display_data"
    },
    {
     "name": "stdout",
     "output_type": "stream",
     "text": [
      "<pymongo.results.UpdateResult object at 0x105530648>\n"
     ]
    },
    {
     "data": {
      "text/plain": [
       "{'originCollection': 'gapspecies',\n",
       " 'originID': ObjectId('59b843720601bad0b9df1021'),\n",
       " 'searchURL': 'https://bison.usgs.gov/api/search.json?count=1&tsn=176891'}"
      ]
     },
     "metadata": {},
     "output_type": "display_data"
    },
    {
     "name": "stdout",
     "output_type": "stream",
     "text": [
      "<pymongo.results.UpdateResult object at 0x105537088>\n"
     ]
    },
    {
     "data": {
      "text/plain": [
       "{'originCollection': 'gapspecies',\n",
       " 'originID': ObjectId('59b843730601bad0b9df1022'),\n",
       " 'searchURL': 'https://bison.usgs.gov/api/search.json?count=1&tsn=179955'}"
      ]
     },
     "metadata": {},
     "output_type": "display_data"
    },
    {
     "name": "stdout",
     "output_type": "stream",
     "text": [
      "<pymongo.results.UpdateResult object at 0x10553d5c8>\n"
     ]
    },
    {
     "data": {
      "text/plain": [
       "{'originCollection': 'gapspecies',\n",
       " 'originID': ObjectId('59b843730601bad0b9df1023'),\n",
       " 'searchURL': 'https://bison.usgs.gov/api/search.json?count=1&tsn=180310'}"
      ]
     },
     "metadata": {},
     "output_type": "display_data"
    },
    {
     "name": "stdout",
     "output_type": "stream",
     "text": [
      "<pymongo.results.UpdateResult object at 0x1055404c8>\n"
     ]
    },
    {
     "data": {
      "text/plain": [
       "{'originCollection': 'gapspecies',\n",
       " 'originID': ObjectId('59b843730601bad0b9df1024'),\n",
       " 'searchURL': 'https://bison.usgs.gov/api/search.json?count=1&tsn=180248'}"
      ]
     },
     "metadata": {},
     "output_type": "display_data"
    },
    {
     "name": "stdout",
     "output_type": "stream",
     "text": [
      "<pymongo.results.UpdateResult object at 0x105548248>\n"
     ]
    },
    {
     "data": {
      "text/plain": [
       "{'originCollection': 'gapspecies',\n",
       " 'originID': ObjectId('59b843740601bad0b9df1025'),\n",
       " 'searchURL': 'https://bison.usgs.gov/api/search.json?count=1&tsn=552499'}"
      ]
     },
     "metadata": {},
     "output_type": "display_data"
    },
    {
     "name": "stdout",
     "output_type": "stream",
     "text": [
      "<pymongo.results.UpdateResult object at 0x10554a608>\n"
     ]
    },
    {
     "data": {
      "text/plain": [
       "{'originCollection': 'gapspecies',\n",
       " 'originID': ObjectId('59b843740601bad0b9df1026'),\n",
       " 'searchURL': 'https://bison.usgs.gov/api/search.json?count=1&tsn=180176'}"
      ]
     },
     "metadata": {},
     "output_type": "display_data"
    },
    {
     "name": "stdout",
     "output_type": "stream",
     "text": [
      "<pymongo.results.UpdateResult object at 0x10554f808>\n"
     ]
    },
    {
     "data": {
      "text/plain": [
       "{'originCollection': 'gapspecies',\n",
       " 'originID': ObjectId('59b843750601bad0b9df1027'),\n",
       " 'searchURL': 'https://bison.usgs.gov/api/search.json?count=1&tsn=206989'}"
      ]
     },
     "metadata": {},
     "output_type": "display_data"
    },
    {
     "name": "stdout",
     "output_type": "stream",
     "text": [
      "<pymongo.results.UpdateResult object at 0x105558048>\n"
     ]
    },
    {
     "data": {
      "text/plain": [
       "{'originCollection': 'gapspecies',\n",
       " 'originID': ObjectId('59b843750601bad0b9df1028'),\n",
       " 'searchURL': 'https://bison.usgs.gov/api/search.json?count=1&tsn=173499'}"
      ]
     },
     "metadata": {},
     "output_type": "display_data"
    },
    {
     "name": "stdout",
     "output_type": "stream",
     "text": [
      "<pymongo.results.UpdateResult object at 0x10555e288>\n"
     ]
    },
    {
     "data": {
      "text/plain": [
       "{'originCollection': 'gapspecies',\n",
       " 'originID': ObjectId('59b843760601bad0b9df1029'),\n",
       " 'searchURL': 'https://bison.usgs.gov/api/search.json?count=1&tsn=180582'}"
      ]
     },
     "metadata": {},
     "output_type": "display_data"
    },
    {
     "name": "stdout",
     "output_type": "stream",
     "text": [
      "<pymongo.results.UpdateResult object at 0x1055600c8>\n"
     ]
    },
    {
     "data": {
      "text/plain": [
       "{'originCollection': 'gapspecies',\n",
       " 'originID': ObjectId('59b843760601bad0b9df102a'),\n",
       " 'searchURL': 'https://bison.usgs.gov/api/search.json?count=1&tsn=668293'}"
      ]
     },
     "metadata": {},
     "output_type": "display_data"
    },
    {
     "name": "stdout",
     "output_type": "stream",
     "text": [
      "<pymongo.results.UpdateResult object at 0x105569108>\n"
     ]
    },
    {
     "data": {
      "text/plain": [
       "{'originCollection': 'gapspecies',\n",
       " 'originID': ObjectId('59b843760601bad0b9df102b'),\n",
       " 'searchURL': 'https://bison.usgs.gov/api/search.json?count=1&tsn=710074'}"
      ]
     },
     "metadata": {},
     "output_type": "display_data"
    },
    {
     "name": "stdout",
     "output_type": "stream",
     "text": [
      "<pymongo.results.UpdateResult object at 0x105572508>\n"
     ]
    },
    {
     "data": {
      "text/plain": [
       "{'originCollection': 'gapspecies',\n",
       " 'originID': ObjectId('59b843770601bad0b9df102c'),\n",
       " 'searchURL': 'https://bison.usgs.gov/api/search.json?count=1&tsn=174021'}"
      ]
     },
     "metadata": {},
     "output_type": "display_data"
    },
    {
     "name": "stdout",
     "output_type": "stream",
     "text": [
      "<pymongo.results.UpdateResult object at 0x105575188>\n"
     ]
    },
    {
     "data": {
      "text/plain": [
       "{'originCollection': 'gapspecies',\n",
       " 'originID': ObjectId('59b843770601bad0b9df102d'),\n",
       " 'searchURL': 'https://bison.usgs.gov/api/search.json?count=1&tsn=173630'}"
      ]
     },
     "metadata": {},
     "output_type": "display_data"
    },
    {
     "name": "stdout",
     "output_type": "stream",
     "text": [
      "<pymongo.results.UpdateResult object at 0x10557e1c8>\n"
     ]
    },
    {
     "data": {
      "text/plain": [
       "{'originCollection': 'gapspecies',\n",
       " 'originID': ObjectId('59b843780601bad0b9df102e'),\n",
       " 'searchURL': 'https://bison.usgs.gov/api/search.json?count=1&tsn=173912'}"
      ]
     },
     "metadata": {},
     "output_type": "display_data"
    },
    {
     "name": "stdout",
     "output_type": "stream",
     "text": [
      "<pymongo.results.UpdateResult object at 0x105582308>\n"
     ]
    },
    {
     "data": {
      "text/plain": [
       "{'originCollection': 'gapspecies',\n",
       " 'originID': ObjectId('59b843780601bad0b9df102f'),\n",
       " 'searchURL': 'https://bison.usgs.gov/api/search.json?count=1&tsn=551768'}"
      ]
     },
     "metadata": {},
     "output_type": "display_data"
    },
    {
     "name": "stdout",
     "output_type": "stream",
     "text": [
      "<pymongo.results.UpdateResult object at 0x105587848>\n"
     ]
    },
    {
     "data": {
      "text/plain": [
       "{'originCollection': 'gapspecies',\n",
       " 'originID': ObjectId('59b843780601bad0b9df1030'),\n",
       " 'searchURL': 'https://bison.usgs.gov/api/search.json?count=1&tsn=173966'}"
      ]
     },
     "metadata": {},
     "output_type": "display_data"
    },
    {
     "name": "stdout",
     "output_type": "stream",
     "text": [
      "<pymongo.results.UpdateResult object at 0x105588608>\n"
     ]
    },
    {
     "data": {
      "text/plain": [
       "{'originCollection': 'gapspecies',\n",
       " 'originID': ObjectId('59b843790601bad0b9df1031'),\n",
       " 'searchURL': 'https://bison.usgs.gov/api/search.json?count=1&tsn=551770'}"
      ]
     },
     "metadata": {},
     "output_type": "display_data"
    },
    {
     "name": "stdout",
     "output_type": "stream",
     "text": [
      "<pymongo.results.UpdateResult object at 0x105593048>\n"
     ]
    },
    {
     "data": {
      "text/plain": [
       "{'originCollection': 'gapspecies',\n",
       " 'originID': ObjectId('59b843790601bad0b9df1032'),\n",
       " 'searchURL': 'https://bison.usgs.gov/api/search.json?count=1&tsn=726284'}"
      ]
     },
     "metadata": {},
     "output_type": "display_data"
    },
    {
     "name": "stdout",
     "output_type": "stream",
     "text": [
      "<pymongo.results.UpdateResult object at 0x105599308>\n"
     ]
    },
    {
     "data": {
      "text/plain": [
       "{'originCollection': 'gapspecies',\n",
       " 'originID': ObjectId('59b843790601bad0b9df1033'),\n",
       " 'searchURL': 'https://bison.usgs.gov/api/search.json?count=1&tsn=180402'}"
      ]
     },
     "metadata": {},
     "output_type": "display_data"
    },
    {
     "name": "stdout",
     "output_type": "stream",
     "text": [
      "<pymongo.results.UpdateResult object at 0x10559f1c8>\n"
     ]
    },
    {
     "data": {
      "text/plain": [
       "{'originCollection': 'gapspecies',\n",
       " 'originID': ObjectId('59b8437a0601bad0b9df1034'),\n",
       " 'searchURL': 'https://bison.usgs.gov/api/search.json?count=1&tsn=174296'}"
      ]
     },
     "metadata": {},
     "output_type": "display_data"
    },
    {
     "name": "stdout",
     "output_type": "stream",
     "text": [
      "<pymongo.results.UpdateResult object at 0x1055a53c8>\n"
     ]
    },
    {
     "data": {
      "text/plain": [
       "{'originCollection': 'gapspecies',\n",
       " 'originID': ObjectId('59b8437a0601bad0b9df1035'),\n",
       " 'searchURL': 'https://bison.usgs.gov/api/search.json?count=1&tsn=209384'}"
      ]
     },
     "metadata": {},
     "output_type": "display_data"
    },
    {
     "name": "stdout",
     "output_type": "stream",
     "text": [
      "<pymongo.results.UpdateResult object at 0x1055ac0c8>\n"
     ]
    },
    {
     "data": {
      "text/plain": [
       "{'originCollection': 'gapspecies',\n",
       " 'originID': ObjectId('59b8437b0601bad0b9df1036'),\n",
       " 'searchURL': 'https://bison.usgs.gov/api/search.json?count=1&tsn=209247'}"
      ]
     },
     "metadata": {},
     "output_type": "display_data"
    },
    {
     "name": "stdout",
     "output_type": "stream",
     "text": [
      "<pymongo.results.UpdateResult object at 0x1055b00c8>\n"
     ]
    },
    {
     "data": {
      "text/plain": [
       "{'originCollection': 'gapspecies',\n",
       " 'originID': ObjectId('59b8437b0601bad0b9df1037'),\n",
       " 'searchURL': 'https://bison.usgs.gov/api/search.json?count=1&tsn=174136'}"
      ]
     },
     "metadata": {},
     "output_type": "display_data"
    },
    {
     "name": "stdout",
     "output_type": "stream",
     "text": [
      "<pymongo.results.UpdateResult object at 0x1055b5188>\n"
     ]
    },
    {
     "data": {
      "text/plain": [
       "{'originCollection': 'gapspecies',\n",
       " 'originID': ObjectId('59b8437c0601bad0b9df1038'),\n",
       " 'searchURL': 'https://bison.usgs.gov/api/search.json?count=1&tsn=174134'}"
      ]
     },
     "metadata": {},
     "output_type": "display_data"
    },
    {
     "name": "stdout",
     "output_type": "stream",
     "text": [
      "<pymongo.results.UpdateResult object at 0x1055bc788>\n"
     ]
    },
    {
     "data": {
      "text/plain": [
       "{'originCollection': 'gapspecies',\n",
       " 'originID': ObjectId('59b8437c0601bad0b9df1039'),\n",
       " 'searchURL': 'https://bison.usgs.gov/api/search.json?count=1&tsn=173776'}"
      ]
     },
     "metadata": {},
     "output_type": "display_data"
    },
    {
     "name": "stdout",
     "output_type": "stream",
     "text": [
      "<pymongo.results.UpdateResult object at 0x1055c6088>\n"
     ]
    },
    {
     "data": {
      "text/plain": [
       "{'originCollection': 'gapspecies',\n",
       " 'originID': ObjectId('59b848bb3339a2d2a5efaefd'),\n",
       " 'searchURL': 'https://bison.usgs.gov/api/search.json?count=1&tsn=683033'}"
      ]
     },
     "metadata": {},
     "output_type": "display_data"
    },
    {
     "name": "stdout",
     "output_type": "stream",
     "text": [
      "<pymongo.results.UpdateResult object at 0x1055cb1c8>\n"
     ]
    },
    {
     "data": {
      "text/plain": [
       "{'originCollection': 'gapspecies',\n",
       " 'originID': ObjectId('59b848bc3339a2d2a5efaefe'),\n",
       " 'searchURL': 'https://bison.usgs.gov/api/search.json?count=1&tsn=209382'}"
      ]
     },
     "metadata": {},
     "output_type": "display_data"
    },
    {
     "name": "stdout",
     "output_type": "stream",
     "text": [
      "<pymongo.results.UpdateResult object at 0x1055ce208>\n"
     ]
    },
    {
     "data": {
      "text/plain": [
       "{'originCollection': 'gapspecies',\n",
       " 'originID': ObjectId('59b848bc3339a2d2a5efaeff'),\n",
       " 'searchURL': 'https://bison.usgs.gov/api/search.json?count=1&tsn=173672'}"
      ]
     },
     "metadata": {},
     "output_type": "display_data"
    },
    {
     "name": "stdout",
     "output_type": "stream",
     "text": [
      "<pymongo.results.UpdateResult object at 0x1055d61c8>\n"
     ]
    },
    {
     "data": {
      "text/plain": [
       "{'originCollection': 'gapspecies',\n",
       " 'originID': ObjectId('59b848bc3339a2d2a5efaf00'),\n",
       " 'searchURL': 'https://bison.usgs.gov/api/search.json?count=1&tsn=175397'}"
      ]
     },
     "metadata": {},
     "output_type": "display_data"
    },
    {
     "name": "stdout",
     "output_type": "stream",
     "text": [
      "<pymongo.results.UpdateResult object at 0x1055da088>\n"
     ]
    },
    {
     "data": {
      "text/plain": [
       "{'originCollection': 'gapspecies',\n",
       " 'originID': ObjectId('59b848bc3339a2d2a5efaf01'),\n",
       " 'searchURL': 'https://bison.usgs.gov/api/search.json?count=1&tsn=553896'}"
      ]
     },
     "metadata": {},
     "output_type": "display_data"
    },
    {
     "name": "stdout",
     "output_type": "stream",
     "text": [
      "<pymongo.results.UpdateResult object at 0x1055de408>\n"
     ]
    },
    {
     "data": {
      "text/plain": [
       "{'originCollection': 'gapspecies',\n",
       " 'originID': ObjectId('59b848bd3339a2d2a5efaf02'),\n",
       " 'searchURL': 'https://bison.usgs.gov/api/search.json?count=1&tsn=175841'}"
      ]
     },
     "metadata": {},
     "output_type": "display_data"
    },
    {
     "name": "stdout",
     "output_type": "stream",
     "text": [
      "<pymongo.results.UpdateResult object at 0x1055e7088>\n"
     ]
    },
    {
     "data": {
      "text/plain": [
       "{'originCollection': 'gapspecies',\n",
       " 'originID': ObjectId('59b848bd3339a2d2a5efaf03'),\n",
       " 'searchURL': 'https://bison.usgs.gov/api/search.json?count=1&tsn=180314'}"
      ]
     },
     "metadata": {},
     "output_type": "display_data"
    },
    {
     "name": "stdout",
     "output_type": "stream",
     "text": [
      "<pymongo.results.UpdateResult object at 0x1055eb308>\n"
     ]
    },
    {
     "data": {
      "text/plain": [
       "{'originCollection': 'gapspecies',\n",
       " 'originID': ObjectId('59b848bd3339a2d2a5efaf04'),\n",
       " 'searchURL': 'https://bison.usgs.gov/api/search.json?count=1&tsn=174479'}"
      ]
     },
     "metadata": {},
     "output_type": "display_data"
    },
    {
     "name": "stdout",
     "output_type": "stream",
     "text": [
      "<pymongo.results.UpdateResult object at 0x1055f2088>\n"
     ]
    },
    {
     "data": {
      "text/plain": [
       "{'originCollection': 'gapspecies',\n",
       " 'originID': ObjectId('59b848bd3339a2d2a5efaf05'),\n",
       " 'searchURL': 'https://bison.usgs.gov/api/search.json?count=1&tsn=176841'}"
      ]
     },
     "metadata": {},
     "output_type": "display_data"
    },
    {
     "name": "stdout",
     "output_type": "stream",
     "text": [
      "<pymongo.results.UpdateResult object at 0x1055f6048>\n"
     ]
    },
    {
     "data": {
      "text/plain": [
       "{'originCollection': 'gapspecies',\n",
       " 'originID': ObjectId('59b848bd3339a2d2a5efaf06'),\n",
       " 'searchURL': 'https://bison.usgs.gov/api/search.json?count=1&tsn=179628'}"
      ]
     },
     "metadata": {},
     "output_type": "display_data"
    },
    {
     "name": "stdout",
     "output_type": "stream",
     "text": [
      "<pymongo.results.UpdateResult object at 0x1055f8e48>\n"
     ]
    },
    {
     "data": {
      "text/plain": [
       "{'originCollection': 'gapspecies',\n",
       " 'originID': ObjectId('59b848be3339a2d2a5efaf07'),\n",
       " 'searchURL': 'https://bison.usgs.gov/api/search.json?count=1&tsn=175134'}"
      ]
     },
     "metadata": {},
     "output_type": "display_data"
    },
    {
     "name": "stdout",
     "output_type": "stream",
     "text": [
      "<pymongo.results.UpdateResult object at 0x105605088>\n"
     ]
    },
    {
     "data": {
      "text/plain": [
       "{'originCollection': 'gapspecies',\n",
       " 'originID': ObjectId('59b848be3339a2d2a5efaf08'),\n",
       " 'searchURL': 'https://bison.usgs.gov/api/search.json?count=1&tsn=178866'}"
      ]
     },
     "metadata": {},
     "output_type": "display_data"
    },
    {
     "name": "stdout",
     "output_type": "stream",
     "text": [
      "<pymongo.results.UpdateResult object at 0x105609288>\n"
     ]
    },
    {
     "data": {
      "text/plain": [
       "{'originCollection': 'gapspecies',\n",
       " 'originID': ObjectId('59b848be3339a2d2a5efaf09'),\n",
       " 'searchURL': 'https://bison.usgs.gov/api/search.json?count=1&tsn=175893'}"
      ]
     },
     "metadata": {},
     "output_type": "display_data"
    },
    {
     "name": "stdout",
     "output_type": "stream",
     "text": [
      "<pymongo.results.UpdateResult object at 0x105611088>\n"
     ]
    },
    {
     "data": {
      "text/plain": [
       "{'originCollection': 'gapspecies',\n",
       " 'originID': ObjectId('59b848bf3339a2d2a5efaf0a'),\n",
       " 'searchURL': 'https://bison.usgs.gov/api/search.json?count=1&tsn=176242'}"
      ]
     },
     "metadata": {},
     "output_type": "display_data"
    },
    {
     "name": "stdout",
     "output_type": "stream",
     "text": [
      "<pymongo.results.UpdateResult object at 0x105614108>\n"
     ]
    },
    {
     "data": {
      "text/plain": [
       "{'originCollection': 'gapspecies',\n",
       " 'originID': ObjectId('59b848bf3339a2d2a5efaf0b'),\n",
       " 'searchURL': 'https://bison.usgs.gov/api/search.json?count=1&tsn=179150'}"
      ]
     },
     "metadata": {},
     "output_type": "display_data"
    },
    {
     "name": "stdout",
     "output_type": "stream",
     "text": [
      "<pymongo.results.UpdateResult object at 0x10561b048>\n"
     ]
    },
    {
     "data": {
      "text/plain": [
       "{'originCollection': 'gapspecies',\n",
       " 'originID': ObjectId('59b848c03339a2d2a5efaf0c'),\n",
       " 'searchURL': 'https://bison.usgs.gov/api/search.json?count=1&tsn=179151'}"
      ]
     },
     "metadata": {},
     "output_type": "display_data"
    },
    {
     "name": "stdout",
     "output_type": "stream",
     "text": [
      "<pymongo.results.UpdateResult object at 0x10561ff48>\n"
     ]
    },
    {
     "data": {
      "text/plain": [
       "{'originCollection': 'gapspecies',\n",
       " 'originID': ObjectId('59b848c13339a2d2a5efaf0d'),\n",
       " 'searchURL': 'https://bison.usgs.gov/api/search.json?count=1&tsn=174555'}"
      ]
     },
     "metadata": {},
     "output_type": "display_data"
    },
    {
     "name": "stdout",
     "output_type": "stream",
     "text": [
      "<pymongo.results.UpdateResult object at 0x1056290c8>\n"
     ]
    },
    {
     "data": {
      "text/plain": [
       "{'originCollection': 'gapspecies',\n",
       " 'originID': ObjectId('59b848c13339a2d2a5efaf0e'),\n",
       " 'searchURL': 'https://bison.usgs.gov/api/search.json?count=1&tsn=206990'}"
      ]
     },
     "metadata": {},
     "output_type": "display_data"
    },
    {
     "name": "stdout",
     "output_type": "stream",
     "text": [
      "<pymongo.results.UpdateResult object at 0x10562d548>\n"
     ]
    },
    {
     "data": {
      "text/plain": [
       "{'originCollection': 'gapspecies',\n",
       " 'originID': ObjectId('59b848c13339a2d2a5efaf0f'),\n",
       " 'searchURL': 'https://bison.usgs.gov/api/search.json?count=1&tsn=179953'}"
      ]
     },
     "metadata": {},
     "output_type": "display_data"
    },
    {
     "name": "stdout",
     "output_type": "stream",
     "text": [
      "<pymongo.results.UpdateResult object at 0x1056311c8>\n"
     ]
    },
    {
     "data": {
      "text/plain": [
       "{'originCollection': 'gapspecies',\n",
       " 'originID': ObjectId('59b848c23339a2d2a5efaf10'),\n",
       " 'searchURL': 'https://bison.usgs.gov/api/search.json?count=1&tsn=175908'}"
      ]
     },
     "metadata": {},
     "output_type": "display_data"
    },
    {
     "name": "stdout",
     "output_type": "stream",
     "text": [
      "<pymongo.results.UpdateResult object at 0x105637a88>\n"
     ]
    },
    {
     "data": {
      "text/plain": [
       "{'originCollection': 'gapspecies',\n",
       " 'originID': ObjectId('59b848c23339a2d2a5efaf11'),\n",
       " 'searchURL': 'https://bison.usgs.gov/api/search.json?count=1&tsn=726198'}"
      ]
     },
     "metadata": {},
     "output_type": "display_data"
    },
    {
     "name": "stdout",
     "output_type": "stream",
     "text": [
      "<pymongo.results.UpdateResult object at 0x10563f108>\n"
     ]
    },
    {
     "data": {
      "text/plain": [
       "{'originCollection': 'gapspecies',\n",
       " 'originID': ObjectId('59b848c33339a2d2a5efaf12'),\n",
       " 'searchURL': 'https://bison.usgs.gov/api/search.json?count=1&tsn=176829'}"
      ]
     },
     "metadata": {},
     "output_type": "display_data"
    },
    {
     "name": "stdout",
     "output_type": "stream",
     "text": [
      "<pymongo.results.UpdateResult object at 0x1056461c8>\n"
     ]
    },
    {
     "data": {
      "text/plain": [
       "{'originCollection': 'gapspecies',\n",
       " 'originID': ObjectId('59b848c33339a2d2a5efaf13'),\n",
       " 'searchURL': 'https://bison.usgs.gov/api/search.json?count=1&tsn=179712'}"
      ]
     },
     "metadata": {},
     "output_type": "display_data"
    },
    {
     "name": "stdout",
     "output_type": "stream",
     "text": [
      "<pymongo.results.UpdateResult object at 0x10564a548>\n"
     ]
    },
    {
     "data": {
      "text/plain": [
       "{'originCollection': 'gapspecies',\n",
       " 'originID': ObjectId('59b848c33339a2d2a5efaf14'),\n",
       " 'searchURL': 'https://bison.usgs.gov/api/search.json?count=1&tsn=178532'}"
      ]
     },
     "metadata": {},
     "output_type": "display_data"
    },
    {
     "name": "stdout",
     "output_type": "stream",
     "text": [
      "<pymongo.results.UpdateResult object at 0x10564d588>\n"
     ]
    },
    {
     "data": {
      "text/plain": [
       "{'originCollection': 'gapspecies',\n",
       " 'originID': ObjectId('59b848c43339a2d2a5efaf15'),\n",
       " 'searchURL': 'https://bison.usgs.gov/api/search.json?count=1&tsn=177152'}"
      ]
     },
     "metadata": {},
     "output_type": "display_data"
    },
    {
     "name": "stdout",
     "output_type": "stream",
     "text": [
      "<pymongo.results.UpdateResult object at 0x105655608>\n"
     ]
    },
    {
     "data": {
      "text/plain": [
       "{'originCollection': 'gapspecies',\n",
       " 'originID': ObjectId('59b848c53339a2d2a5efaf16'),\n",
       " 'searchURL': 'https://bison.usgs.gov/api/search.json?count=1&tsn=179461'}"
      ]
     },
     "metadata": {},
     "output_type": "display_data"
    },
    {
     "name": "stdout",
     "output_type": "stream",
     "text": [
      "<pymongo.results.UpdateResult object at 0x10565a188>\n"
     ]
    },
    {
     "data": {
      "text/plain": [
       "{'originCollection': 'gapspecies',\n",
       " 'originID': ObjectId('59b848c53339a2d2a5efaf17'),\n",
       " 'searchURL': 'https://bison.usgs.gov/api/search.json?count=1&tsn=180290'}"
      ]
     },
     "metadata": {},
     "output_type": "display_data"
    },
    {
     "name": "stdout",
     "output_type": "stream",
     "text": [
      "<pymongo.results.UpdateResult object at 0x10565ac48>\n"
     ]
    },
    {
     "data": {
      "text/plain": [
       "{'originCollection': 'gapspecies',\n",
       " 'originID': ObjectId('59b848c53339a2d2a5efaf18'),\n",
       " 'searchURL': 'https://bison.usgs.gov/api/search.json?count=1&tsn=180158'}"
      ]
     },
     "metadata": {},
     "output_type": "display_data"
    },
    {
     "name": "stdout",
     "output_type": "stream",
     "text": [
      "<pymongo.results.UpdateResult object at 0x105663348>\n"
     ]
    },
    {
     "data": {
      "text/plain": [
       "{'originCollection': 'gapspecies',\n",
       " 'originID': ObjectId('59b848c63339a2d2a5efaf19'),\n",
       " 'searchURL': 'https://bison.usgs.gov/api/search.json?count=1&tsn=180200'}"
      ]
     },
     "metadata": {},
     "output_type": "display_data"
    },
    {
     "name": "stdout",
     "output_type": "stream",
     "text": [
      "<pymongo.results.UpdateResult object at 0x10566c508>\n"
     ]
    },
    {
     "data": {
      "text/plain": [
       "{'originCollection': 'gapspecies',\n",
       " 'originID': ObjectId('59b848c63339a2d2a5efaf1a'),\n",
       " 'searchURL': 'https://bison.usgs.gov/api/search.json?count=1&tsn=178288'}"
      ]
     },
     "metadata": {},
     "output_type": "display_data"
    },
    {
     "name": "stdout",
     "output_type": "stream",
     "text": [
      "<pymongo.results.UpdateResult object at 0x1056750c8>\n"
     ]
    },
    {
     "data": {
      "text/plain": [
       "{'originCollection': 'gapspecies',\n",
       " 'originID': ObjectId('59b848c63339a2d2a5efaf1b'),\n",
       " 'searchURL': 'https://bison.usgs.gov/api/search.json?count=1&tsn=175129'}"
      ]
     },
     "metadata": {},
     "output_type": "display_data"
    },
    {
     "name": "stdout",
     "output_type": "stream",
     "text": [
      "<pymongo.results.UpdateResult object at 0x105676e88>\n"
     ]
    },
    {
     "data": {
      "text/plain": [
       "{'originCollection': 'gapspecies',\n",
       " 'originID': ObjectId('59b848c63339a2d2a5efaf1c'),\n",
       " 'searchURL': 'https://bison.usgs.gov/api/search.json?count=1&tsn=774547'}"
      ]
     },
     "metadata": {},
     "output_type": "display_data"
    },
    {
     "name": "stdout",
     "output_type": "stream",
     "text": [
      "<pymongo.results.UpdateResult object at 0x105682048>\n"
     ]
    },
    {
     "data": {
      "text/plain": [
       "{'originCollection': 'gapspecies',\n",
       " 'originID': ObjectId('59b848c73339a2d2a5efaf1d'),\n",
       " 'searchURL': 'https://bison.usgs.gov/api/search.json?count=1&tsn=173446'}"
      ]
     },
     "metadata": {},
     "output_type": "display_data"
    },
    {
     "name": "stdout",
     "output_type": "stream",
     "text": [
      "<pymongo.results.UpdateResult object at 0x105689608>\n"
     ]
    },
    {
     "data": {
      "text/plain": [
       "{'originCollection': 'gapspecies',\n",
       " 'originID': ObjectId('59b848c73339a2d2a5efaf1e'),\n",
       " 'searchURL': 'https://bison.usgs.gov/api/search.json?count=1&tsn=180288'}"
      ]
     },
     "metadata": {},
     "output_type": "display_data"
    },
    {
     "name": "stdout",
     "output_type": "stream",
     "text": [
      "<pymongo.results.UpdateResult object at 0x10568d208>\n"
     ]
    },
    {
     "data": {
      "text/plain": [
       "{'originCollection': 'gapspecies',\n",
       " 'originID': ObjectId('59b848c73339a2d2a5efaf1f'),\n",
       " 'searchURL': 'https://bison.usgs.gov/api/search.json?count=1&tsn=206993'}"
      ]
     },
     "metadata": {},
     "output_type": "display_data"
    },
    {
     "name": "stdout",
     "output_type": "stream",
     "text": [
      "<pymongo.results.UpdateResult object at 0x1056940c8>\n"
     ]
    },
    {
     "data": {
      "text/plain": [
       "{'originCollection': 'gapspecies',\n",
       " 'originID': ObjectId('59b848c83339a2d2a5efaf20'),\n",
       " 'searchURL': 'https://bison.usgs.gov/api/search.json?count=1&tsn=180297'}"
      ]
     },
     "metadata": {},
     "output_type": "display_data"
    },
    {
     "name": "stdout",
     "output_type": "stream",
     "text": [
      "<pymongo.results.UpdateResult object at 0x105699088>\n"
     ]
    },
    {
     "data": {
      "text/plain": [
       "{'originCollection': 'gapspecies',\n",
       " 'originID': ObjectId('59b848c83339a2d2a5efaf21'),\n",
       " 'searchURL': 'https://bison.usgs.gov/api/search.json?count=1&tsn=179941'}"
      ]
     },
     "metadata": {},
     "output_type": "display_data"
    },
    {
     "name": "stdout",
     "output_type": "stream",
     "text": [
      "<pymongo.results.UpdateResult object at 0x10569d2c8>\n"
     ]
    },
    {
     "data": {
      "text/plain": [
       "{'originCollection': 'gapspecies',\n",
       " 'originID': ObjectId('59b848c83339a2d2a5efaf22'),\n",
       " 'searchURL': 'https://bison.usgs.gov/api/search.json?count=1&tsn=775107'}"
      ]
     },
     "metadata": {},
     "output_type": "display_data"
    },
    {
     "name": "stdout",
     "output_type": "stream",
     "text": [
      "<pymongo.results.UpdateResult object at 0x1056a3b88>\n"
     ]
    },
    {
     "data": {
      "text/plain": [
       "{'originCollection': 'gapspecies',\n",
       " 'originID': ObjectId('59b848c93339a2d2a5efaf23'),\n",
       " 'searchURL': 'https://bison.usgs.gov/api/search.json?count=1&tsn=178033'}"
      ]
     },
     "metadata": {},
     "output_type": "display_data"
    },
    {
     "name": "stdout",
     "output_type": "stream",
     "text": [
      "<pymongo.results.UpdateResult object at 0x1056a8148>\n"
     ]
    },
    {
     "data": {
      "text/plain": [
       "{'originCollection': 'gapspecies',\n",
       " 'originID': ObjectId('59b848c93339a2d2a5efaf24'),\n",
       " 'searchURL': 'https://bison.usgs.gov/api/search.json?count=1&tsn=179140'}"
      ]
     },
     "metadata": {},
     "output_type": "display_data"
    },
    {
     "name": "stdout",
     "output_type": "stream",
     "text": [
      "<pymongo.results.UpdateResult object at 0x1056b1148>\n"
     ]
    },
    {
     "data": {
      "text/plain": [
       "{'originCollection': 'gapspecies',\n",
       " 'originID': ObjectId('59b848c93339a2d2a5efaf25'),\n",
       " 'searchURL': 'https://bison.usgs.gov/api/search.json?count=1&tsn=179010'}"
      ]
     },
     "metadata": {},
     "output_type": "display_data"
    },
    {
     "name": "stdout",
     "output_type": "stream",
     "text": [
      "<pymongo.results.UpdateResult object at 0x1056b3cc8>\n"
     ]
    },
    {
     "data": {
      "text/plain": [
       "{'originCollection': 'gapspecies',\n",
       " 'originID': ObjectId('59b848ca3339a2d2a5efaf26'),\n",
       " 'searchURL': 'https://bison.usgs.gov/api/search.json?count=1&tsn=970629'}"
      ]
     },
     "metadata": {},
     "output_type": "display_data"
    },
    {
     "name": "stdout",
     "output_type": "stream",
     "text": [
      "<pymongo.results.UpdateResult object at 0x1056bc1c8>\n"
     ]
    },
    {
     "data": {
      "text/plain": [
       "{'originCollection': 'gapspecies',\n",
       " 'originID': ObjectId('59b848ca3339a2d2a5efaf27'),\n",
       " 'searchURL': 'https://bison.usgs.gov/api/search.json?count=1&tsn=208940'}"
      ]
     },
     "metadata": {},
     "output_type": "display_data"
    },
    {
     "name": "stdout",
     "output_type": "stream",
     "text": [
      "<pymongo.results.UpdateResult object at 0x1056c1108>\n"
     ]
    },
    {
     "data": {
      "text/plain": [
       "{'originCollection': 'gapspecies',\n",
       " 'originID': ObjectId('59b848ca3339a2d2a5efaf28'),\n",
       " 'searchURL': 'https://bison.usgs.gov/api/search.json?count=1&tsn=173629'}"
      ]
     },
     "metadata": {},
     "output_type": "display_data"
    },
    {
     "name": "stdout",
     "output_type": "stream",
     "text": [
      "<pymongo.results.UpdateResult object at 0x1056c5508>\n"
     ]
    },
    {
     "data": {
      "text/plain": [
       "{'originCollection': 'gapspecies',\n",
       " 'originID': ObjectId('59b848cb3339a2d2a5efaf29'),\n",
       " 'searchURL': 'https://bison.usgs.gov/api/search.json?count=1&tsn=178279'}"
      ]
     },
     "metadata": {},
     "output_type": "display_data"
    },
    {
     "name": "stdout",
     "output_type": "stream",
     "text": [
      "<pymongo.results.UpdateResult object at 0x1056cd048>\n"
     ]
    },
    {
     "data": {
      "text/plain": [
       "{'originCollection': 'gapspecies',\n",
       " 'originID': ObjectId('59b848cb3339a2d2a5efaf2a'),\n",
       " 'searchURL': 'https://bison.usgs.gov/api/search.json?count=1&tsn=177025'}"
      ]
     },
     "metadata": {},
     "output_type": "display_data"
    },
    {
     "name": "stdout",
     "output_type": "stream",
     "text": [
      "<pymongo.results.UpdateResult object at 0x1056d13c8>\n"
     ]
    },
    {
     "data": {
      "text/plain": [
       "{'originCollection': 'gapspecies',\n",
       " 'originID': ObjectId('59b848cb3339a2d2a5efaf2b'),\n",
       " 'searchURL': 'https://bison.usgs.gov/api/search.json?count=1&tsn=208295'}"
      ]
     },
     "metadata": {},
     "output_type": "display_data"
    },
    {
     "name": "stdout",
     "output_type": "stream",
     "text": [
      "<pymongo.results.UpdateResult object at 0x1056da048>\n"
     ]
    },
    {
     "data": {
      "text/plain": [
       "{'originCollection': 'gapspecies',\n",
       " 'originID': ObjectId('59b848cb3339a2d2a5efaf2c'),\n",
       " 'searchURL': 'https://bison.usgs.gov/api/search.json?count=1&tsn=550545'}"
      ]
     },
     "metadata": {},
     "output_type": "display_data"
    },
    {
     "name": "stdout",
     "output_type": "stream",
     "text": [
      "<pymongo.results.UpdateResult object at 0x1056dccc8>\n"
     ]
    },
    {
     "data": {
      "text/plain": [
       "{'originCollection': 'gapspecies',\n",
       " 'originID': ObjectId('59b848cc3339a2d2a5efaf2d'),\n",
       " 'searchURL': 'https://bison.usgs.gov/api/search.json?count=1&tsn=554127'}"
      ]
     },
     "metadata": {},
     "output_type": "display_data"
    },
    {
     "name": "stdout",
     "output_type": "stream",
     "text": [
      "<pymongo.results.UpdateResult object at 0x1056e3148>\n"
     ]
    },
    {
     "data": {
      "text/plain": [
       "{'originCollection': 'gapspecies',\n",
       " 'originID': ObjectId('59b848cc3339a2d2a5efaf2e'),\n",
       " 'searchURL': 'https://bison.usgs.gov/api/search.json?count=1&tsn=176982'}"
      ]
     },
     "metadata": {},
     "output_type": "display_data"
    },
    {
     "name": "stdout",
     "output_type": "stream",
     "text": [
      "<pymongo.results.UpdateResult object at 0x1056ea188>\n"
     ]
    },
    {
     "data": {
      "text/plain": [
       "{'originCollection': 'gapspecies',\n",
       " 'originID': ObjectId('59b848cd3339a2d2a5efaf2f'),\n",
       " 'searchURL': 'https://bison.usgs.gov/api/search.json?count=1&tsn=180086'}"
      ]
     },
     "metadata": {},
     "output_type": "display_data"
    },
    {
     "name": "stdout",
     "output_type": "stream",
     "text": [
      "<pymongo.results.UpdateResult object at 0x1056ef5c8>\n"
     ]
    },
    {
     "data": {
      "text/plain": [
       "{'originCollection': 'gapspecies',\n",
       " 'originID': ObjectId('59b848cd3339a2d2a5efaf30'),\n",
       " 'searchURL': 'https://bison.usgs.gov/api/search.json?count=1&tsn=180711'}"
      ]
     },
     "metadata": {},
     "output_type": "display_data"
    },
    {
     "name": "stdout",
     "output_type": "stream",
     "text": [
      "<pymongo.results.UpdateResult object at 0x1056f4208>\n"
     ]
    },
    {
     "data": {
      "text/plain": [
       "{'originCollection': 'gapspecies',\n",
       " 'originID': ObjectId('59b848cd3339a2d2a5efaf31'),\n",
       " 'searchURL': 'https://bison.usgs.gov/api/search.json?count=1&tsn=773522'}"
      ]
     },
     "metadata": {},
     "output_type": "display_data"
    },
    {
     "name": "stdout",
     "output_type": "stream",
     "text": [
      "<pymongo.results.UpdateResult object at 0x1056f4ec8>\n"
     ]
    },
    {
     "data": {
      "text/plain": [
       "{'originCollection': 'gapspecies',\n",
       " 'originID': ObjectId('59b848ce3339a2d2a5efaf32'),\n",
       " 'searchURL': 'https://bison.usgs.gov/api/search.json?count=1&tsn=174485'}"
      ]
     },
     "metadata": {},
     "output_type": "display_data"
    },
    {
     "name": "stdout",
     "output_type": "stream",
     "text": [
      "<pymongo.results.UpdateResult object at 0x1056fa348>\n"
     ]
    },
    {
     "data": {
      "text/plain": [
       "{'originCollection': 'gapspecies',\n",
       " 'originID': ObjectId('59b848ce3339a2d2a5efaf33'),\n",
       " 'searchURL': 'https://bison.usgs.gov/api/search.json?count=1&tsn=178938'}"
      ]
     },
     "metadata": {},
     "output_type": "display_data"
    },
    {
     "name": "stdout",
     "output_type": "stream",
     "text": [
      "<pymongo.results.UpdateResult object at 0x105703308>\n"
     ]
    },
    {
     "data": {
      "text/plain": [
       "{'originCollection': 'gapspecies',\n",
       " 'originID': ObjectId('59b848cf3339a2d2a5efaf34'),\n",
       " 'searchURL': 'https://bison.usgs.gov/api/search.json?count=1&tsn=180080'}"
      ]
     },
     "metadata": {},
     "output_type": "display_data"
    },
    {
     "name": "stdout",
     "output_type": "stream",
     "text": [
      "<pymongo.results.UpdateResult object at 0x105708bc8>\n"
     ]
    },
    {
     "data": {
      "text/plain": [
       "{'originCollection': 'gapspecies',\n",
       " 'originID': ObjectId('59b848cf3339a2d2a5efaf35'),\n",
       " 'searchURL': 'https://bison.usgs.gov/api/search.json?count=1&tsn=178341'}"
      ]
     },
     "metadata": {},
     "output_type": "display_data"
    },
    {
     "name": "stdout",
     "output_type": "stream",
     "text": [
      "<pymongo.results.UpdateResult object at 0x105713248>\n"
     ]
    },
    {
     "data": {
      "text/plain": [
       "{'originCollection': 'gapspecies',\n",
       " 'originID': ObjectId('59b848cf3339a2d2a5efaf36'),\n",
       " 'searchURL': 'https://bison.usgs.gov/api/search.json?count=1&tsn=179630'}"
      ]
     },
     "metadata": {},
     "output_type": "display_data"
    },
    {
     "name": "stdout",
     "output_type": "stream",
     "text": [
      "<pymongo.results.UpdateResult object at 0x105718608>\n"
     ]
    },
    {
     "data": {
      "text/plain": [
       "{'originCollection': 'gapspecies',\n",
       " 'originID': ObjectId('59b848cf3339a2d2a5efaf37'),\n",
       " 'searchURL': 'https://bison.usgs.gov/api/search.json?count=1&tsn=176475'}"
      ]
     },
     "metadata": {},
     "output_type": "display_data"
    },
    {
     "name": "stdout",
     "output_type": "stream",
     "text": [
      "<pymongo.results.UpdateResult object at 0x10571e208>\n"
     ]
    },
    {
     "data": {
      "text/plain": [
       "{'originCollection': 'gapspecies',\n",
       " 'originID': ObjectId('59b848d03339a2d2a5efaf38'),\n",
       " 'searchURL': 'https://bison.usgs.gov/api/search.json?count=1&tsn=176176'}"
      ]
     },
     "metadata": {},
     "output_type": "display_data"
    },
    {
     "name": "stdout",
     "output_type": "stream",
     "text": [
      "<pymongo.results.UpdateResult object at 0x105726088>\n"
     ]
    },
    {
     "data": {
      "text/plain": [
       "{'originCollection': 'gapspecies',\n",
       " 'originID': ObjectId('59b848d03339a2d2a5efaf39'),\n",
       " 'searchURL': 'https://bison.usgs.gov/api/search.json?count=1&tsn=179945'}"
      ]
     },
     "metadata": {},
     "output_type": "display_data"
    },
    {
     "name": "stdout",
     "output_type": "stream",
     "text": [
      "<pymongo.results.UpdateResult object at 0x10572b248>\n"
     ]
    },
    {
     "data": {
      "text/plain": [
       "{'originCollection': 'gapspecies',\n",
       " 'originID': ObjectId('59b848d03339a2d2a5efaf3a'),\n",
       " 'searchURL': 'https://bison.usgs.gov/api/search.json?count=1&tsn=180157'}"
      ]
     },
     "metadata": {},
     "output_type": "display_data"
    },
    {
     "name": "stdout",
     "output_type": "stream",
     "text": [
      "<pymongo.results.UpdateResult object at 0x105732c08>\n"
     ]
    },
    {
     "data": {
      "text/plain": [
       "{'originCollection': 'gapspecies',\n",
       " 'originID': ObjectId('59b848d03339a2d2a5efaf3b'),\n",
       " 'searchURL': 'https://bison.usgs.gov/api/search.json?count=1&tsn=175369'}"
      ]
     },
     "metadata": {},
     "output_type": "display_data"
    },
    {
     "name": "stdout",
     "output_type": "stream",
     "text": [
      "<pymongo.results.UpdateResult object at 0x105737188>\n"
     ]
    },
    {
     "data": {
      "text/plain": [
       "{'originCollection': 'gapspecies',\n",
       " 'originID': ObjectId('59b848d13339a2d2a5efaf3c'),\n",
       " 'searchURL': 'https://bison.usgs.gov/api/search.json?count=1&tsn=625180'}"
      ]
     },
     "metadata": {},
     "output_type": "display_data"
    },
    {
     "name": "stdout",
     "output_type": "stream",
     "text": [
      "<pymongo.results.UpdateResult object at 0x10573e088>\n"
     ]
    },
    {
     "data": {
      "text/plain": [
       "{'originCollection': 'gapspecies',\n",
       " 'originID': ObjectId('59b848d13339a2d2a5efaf3d'),\n",
       " 'searchURL': 'https://bison.usgs.gov/api/search.json?count=1&tsn=173696'}"
      ]
     },
     "metadata": {},
     "output_type": "display_data"
    },
    {
     "name": "stdout",
     "output_type": "stream",
     "text": [
      "<pymongo.results.UpdateResult object at 0x105743288>\n"
     ]
    },
    {
     "data": {
      "text/plain": [
       "{'originCollection': 'gapspecies',\n",
       " 'originID': ObjectId('59b848d13339a2d2a5efaf3e'),\n",
       " 'searchURL': 'https://bison.usgs.gov/api/search.json?count=1&tsn=180388'}"
      ]
     },
     "metadata": {},
     "output_type": "display_data"
    },
    {
     "name": "stdout",
     "output_type": "stream",
     "text": [
      "<pymongo.results.UpdateResult object at 0x1057490c8>\n"
     ]
    },
    {
     "data": {
      "text/plain": [
       "{'originCollection': 'gapspecies',\n",
       " 'originID': ObjectId('59b848d13339a2d2a5efaf3f'),\n",
       " 'searchURL': 'https://bison.usgs.gov/api/search.json?count=1&tsn=176815'}"
      ]
     },
     "metadata": {},
     "output_type": "display_data"
    },
    {
     "name": "stdout",
     "output_type": "stream",
     "text": [
      "<pymongo.results.UpdateResult object at 0x10574f548>\n"
     ]
    },
    {
     "data": {
      "text/plain": [
       "{'originCollection': 'gapspecies',\n",
       " 'originID': ObjectId('59b848d23339a2d2a5efaf40'),\n",
       " 'searchURL': 'https://bison.usgs.gov/api/search.json?count=1&tsn=175595'}"
      ]
     },
     "metadata": {},
     "output_type": "display_data"
    },
    {
     "name": "stdout",
     "output_type": "stream",
     "text": [
      "<pymongo.results.UpdateResult object at 0x105754188>\n"
     ]
    },
    {
     "data": {
      "text/plain": [
       "{'originCollection': 'gapspecies',\n",
       " 'originID': ObjectId('59b848d23339a2d2a5efaf41'),\n",
       " 'searchURL': 'https://bison.usgs.gov/api/search.json?count=1&tsn=177139'}"
      ]
     },
     "metadata": {},
     "output_type": "display_data"
    },
    {
     "name": "stdout",
     "output_type": "stream",
     "text": [
      "<pymongo.results.UpdateResult object at 0x10575a1c8>\n"
     ]
    },
    {
     "data": {
      "text/plain": [
       "{'originCollection': 'gapspecies',\n",
       " 'originID': ObjectId('59b848d23339a2d2a5efaf42'),\n",
       " 'searchURL': 'https://bison.usgs.gov/api/search.json?count=1&tsn=173695'}"
      ]
     },
     "metadata": {},
     "output_type": "display_data"
    },
    {
     "name": "stdout",
     "output_type": "stream",
     "text": [
      "<pymongo.results.UpdateResult object at 0x10575dfc8>\n"
     ]
    },
    {
     "data": {
      "text/plain": [
       "{'originCollection': 'gapspecies',\n",
       " 'originID': ObjectId('59b848d33339a2d2a5efaf43'),\n",
       " 'searchURL': 'https://bison.usgs.gov/api/search.json?count=1&tsn=177960'}"
      ]
     },
     "metadata": {},
     "output_type": "display_data"
    },
    {
     "name": "stdout",
     "output_type": "stream",
     "text": [
      "<pymongo.results.UpdateResult object at 0x105768048>\n"
     ]
    },
    {
     "data": {
      "text/plain": [
       "{'originCollection': 'gapspecies',\n",
       " 'originID': ObjectId('59b848d33339a2d2a5efaf44'),\n",
       " 'searchURL': 'https://bison.usgs.gov/api/search.json?count=1&tsn=176619'}"
      ]
     },
     "metadata": {},
     "output_type": "display_data"
    },
    {
     "name": "stdout",
     "output_type": "stream",
     "text": [
      "<pymongo.results.UpdateResult object at 0x10576d088>\n"
     ]
    },
    {
     "data": {
      "text/plain": [
       "{'originCollection': 'gapspecies',\n",
       " 'originID': ObjectId('59b848d33339a2d2a5efaf45'),\n",
       " 'searchURL': 'https://bison.usgs.gov/api/search.json?count=1&tsn=175020'}"
      ]
     },
     "metadata": {},
     "output_type": "display_data"
    },
    {
     "name": "stdout",
     "output_type": "stream",
     "text": [
      "<pymongo.results.UpdateResult object at 0x105770408>\n"
     ]
    },
    {
     "data": {
      "text/plain": [
       "{'originCollection': 'gapspecies',\n",
       " 'originID': ObjectId('59b848d43339a2d2a5efaf46'),\n",
       " 'searchURL': 'https://bison.usgs.gov/api/search.json?count=1&tsn=180140'}"
      ]
     },
     "metadata": {},
     "output_type": "display_data"
    },
    {
     "name": "stdout",
     "output_type": "stream",
     "text": [
      "<pymongo.results.UpdateResult object at 0x105776d88>\n"
     ]
    },
    {
     "data": {
      "text/plain": [
       "{'originCollection': 'gapspecies',\n",
       " 'originID': ObjectId('59b848d43339a2d2a5efaf47'),\n",
       " 'searchURL': 'https://bison.usgs.gov/api/search.json?count=1&tsn=179932'}"
      ]
     },
     "metadata": {},
     "output_type": "display_data"
    },
    {
     "name": "stdout",
     "output_type": "stream",
     "text": [
      "<pymongo.results.UpdateResult object at 0x10577e548>\n"
     ]
    },
    {
     "data": {
      "text/plain": [
       "{'originCollection': 'gapspecies',\n",
       " 'originID': ObjectId('59b848d43339a2d2a5efaf48'),\n",
       " 'searchURL': 'https://bison.usgs.gov/api/search.json?count=1&tsn=668670'}"
      ]
     },
     "metadata": {},
     "output_type": "display_data"
    },
    {
     "name": "stdout",
     "output_type": "stream",
     "text": [
      "<pymongo.results.UpdateResult object at 0x1057870c8>\n"
     ]
    },
    {
     "data": {
      "text/plain": [
       "{'originCollection': 'gapspecies',\n",
       " 'originID': ObjectId('59b848d43339a2d2a5efaf49'),\n",
       " 'searchURL': 'https://bison.usgs.gov/api/search.json?count=1&tsn=173637'}"
      ]
     },
     "metadata": {},
     "output_type": "display_data"
    },
    {
     "name": "stdout",
     "output_type": "stream",
     "text": [
      "<pymongo.results.UpdateResult object at 0x10578b108>\n"
     ]
    },
    {
     "data": {
      "text/plain": [
       "{'originCollection': 'gapspecies',\n",
       " 'originID': ObjectId('59b848d53339a2d2a5efaf4a'),\n",
       " 'searchURL': 'https://bison.usgs.gov/api/search.json?count=1&tsn=173668'}"
      ]
     },
     "metadata": {},
     "output_type": "display_data"
    },
    {
     "name": "stdout",
     "output_type": "stream",
     "text": [
      "<pymongo.results.UpdateResult object at 0x1057930c8>\n"
     ]
    },
    {
     "data": {
      "text/plain": [
       "{'originCollection': 'gapspecies',\n",
       " 'originID': ObjectId('59b848d53339a2d2a5efaf4b'),\n",
       " 'searchURL': 'https://bison.usgs.gov/api/search.json?count=1&tsn=180197'}"
      ]
     },
     "metadata": {},
     "output_type": "display_data"
    },
    {
     "name": "stdout",
     "output_type": "stream",
     "text": [
      "<pymongo.results.UpdateResult object at 0x10579a188>\n"
     ]
    },
    {
     "data": {
      "text/plain": [
       "{'originCollection': 'gapspecies',\n",
       " 'originID': ObjectId('59b848d53339a2d2a5efaf4c'),\n",
       " 'searchURL': 'https://bison.usgs.gov/api/search.json?count=1&tsn=174336'}"
      ]
     },
     "metadata": {},
     "output_type": "display_data"
    },
    {
     "name": "stdout",
     "output_type": "stream",
     "text": [
      "<pymongo.results.UpdateResult object at 0x10579d7c8>\n"
     ]
    },
    {
     "data": {
      "text/plain": [
       "{'originCollection': 'gapspecies',\n",
       " 'originID': ObjectId('59b848d63339a2d2a5efaf4d'),\n",
       " 'searchURL': 'https://bison.usgs.gov/api/search.json?count=1&tsn=173694'}"
      ]
     },
     "metadata": {},
     "output_type": "display_data"
    },
    {
     "name": "stdout",
     "output_type": "stream",
     "text": [
      "<pymongo.results.UpdateResult object at 0x1057a5088>\n"
     ]
    },
    {
     "data": {
      "text/plain": [
       "{'originCollection': 'gapspecies',\n",
       " 'originID': ObjectId('59b848d63339a2d2a5efaf4e'),\n",
       " 'searchURL': 'https://bison.usgs.gov/api/search.json?count=1&tsn=178627'}"
      ]
     },
     "metadata": {},
     "output_type": "display_data"
    },
    {
     "name": "stdout",
     "output_type": "stream",
     "text": [
      "<pymongo.results.UpdateResult object at 0x1057aa1c8>\n"
     ]
    },
    {
     "data": {
      "text/plain": [
       "{'originCollection': 'gapspecies',\n",
       " 'originID': ObjectId('59b848d63339a2d2a5efaf4f'),\n",
       " 'searchURL': 'https://bison.usgs.gov/api/search.json?count=1&type=scientific_name&species=Corynorhinus townsendii ingens'}"
      ]
     },
     "metadata": {},
     "output_type": "display_data"
    },
    {
     "name": "stdout",
     "output_type": "stream",
     "text": [
      "<pymongo.results.UpdateResult object at 0x1057b2088>\n"
     ]
    },
    {
     "data": {
      "text/plain": [
       "{'originCollection': 'gapspecies',\n",
       " 'originID': ObjectId('59b848d73339a2d2a5efaf50'),\n",
       " 'searchURL': 'https://bison.usgs.gov/api/search.json?count=1&type=scientific_name&species=Urocitellus elegans elegans'}"
      ]
     },
     "metadata": {},
     "output_type": "display_data"
    },
    {
     "name": "stdout",
     "output_type": "stream",
     "text": [
      "<pymongo.results.UpdateResult object at 0x1057b4c48>\n"
     ]
    },
    {
     "data": {
      "text/plain": [
       "{'originCollection': 'gapspecies',\n",
       " 'originID': ObjectId('59b848d73339a2d2a5efaf51'),\n",
       " 'searchURL': 'https://bison.usgs.gov/api/search.json?count=1&tsn=173964'}"
      ]
     },
     "metadata": {},
     "output_type": "display_data"
    },
    {
     "name": "stdout",
     "output_type": "stream",
     "text": [
      "<pymongo.results.UpdateResult object at 0x1057b9188>\n"
     ]
    },
    {
     "data": {
      "text/plain": [
       "{'originCollection': 'gapspecies',\n",
       " 'originID': ObjectId('59b848d73339a2d2a5efaf52'),\n",
       " 'searchURL': 'https://bison.usgs.gov/api/search.json?count=1&tsn=180377'}"
      ]
     },
     "metadata": {},
     "output_type": "display_data"
    },
    {
     "name": "stdout",
     "output_type": "stream",
     "text": [
      "<pymongo.results.UpdateResult object at 0x1057bd448>\n"
     ]
    },
    {
     "data": {
      "text/plain": [
       "{'originCollection': 'gapspecies',\n",
       " 'originID': ObjectId('59b848d83339a2d2a5efaf53'),\n",
       " 'searchURL': 'https://bison.usgs.gov/api/search.json?count=1&tsn=176726'}"
      ]
     },
     "metadata": {},
     "output_type": "display_data"
    },
    {
     "name": "stdout",
     "output_type": "stream",
     "text": [
      "<pymongo.results.UpdateResult object at 0x1057c36c8>\n"
     ]
    },
    {
     "data": {
      "text/plain": [
       "{'originCollection': 'gapspecies',\n",
       " 'originID': ObjectId('59b848d83339a2d2a5efaf54'),\n",
       " 'searchURL': 'https://bison.usgs.gov/api/search.json?count=1&tsn=179967'}"
      ]
     },
     "metadata": {},
     "output_type": "display_data"
    },
    {
     "name": "stdout",
     "output_type": "stream",
     "text": [
      "<pymongo.results.UpdateResult object at 0x1057cb188>\n"
     ]
    },
    {
     "data": {
      "text/plain": [
       "{'originCollection': 'gapspecies',\n",
       " 'originID': ObjectId('59b848d93339a2d2a5efaf55'),\n",
       " 'searchURL': 'https://bison.usgs.gov/api/search.json?count=1&tsn=179773'}"
      ]
     },
     "metadata": {},
     "output_type": "display_data"
    },
    {
     "name": "stdout",
     "output_type": "stream",
     "text": [
      "<pymongo.results.UpdateResult object at 0x1057d50c8>\n"
     ]
    },
    {
     "data": {
      "text/plain": [
       "{'originCollection': 'gapspecies',\n",
       " 'originID': ObjectId('59b848d93339a2d2a5efaf56'),\n",
       " 'searchURL': 'https://bison.usgs.gov/api/search.json?count=1&tsn=173692'}"
      ]
     },
     "metadata": {},
     "output_type": "display_data"
    },
    {
     "name": "stdout",
     "output_type": "stream",
     "text": [
      "<pymongo.results.UpdateResult object at 0x1057d80c8>\n"
     ]
    },
    {
     "data": {
      "text/plain": [
       "{'originCollection': 'gapspecies',\n",
       " 'originID': ObjectId('59b848d93339a2d2a5efaf57'),\n",
       " 'searchURL': 'https://bison.usgs.gov/api/search.json?count=1&tsn=180133'}"
      ]
     },
     "metadata": {},
     "output_type": "display_data"
    },
    {
     "name": "stdout",
     "output_type": "stream",
     "text": [
      "<pymongo.results.UpdateResult object at 0x1057d8a88>\n"
     ]
    },
    {
     "data": {
      "text/plain": [
       "{'originCollection': 'gapspecies',\n",
       " 'originID': ObjectId('59b848d93339a2d2a5efaf58'),\n",
       " 'searchURL': 'https://bison.usgs.gov/api/search.json?count=1&tsn=178620'}"
      ]
     },
     "metadata": {},
     "output_type": "display_data"
    },
    {
     "name": "stdout",
     "output_type": "stream",
     "text": [
      "<pymongo.results.UpdateResult object at 0x1057e0308>\n"
     ]
    },
    {
     "data": {
      "text/plain": [
       "{'originCollection': 'gapspecies',\n",
       " 'originID': ObjectId('59b848da3339a2d2a5efaf59'),\n",
       " 'searchURL': 'https://bison.usgs.gov/api/search.json?count=1&tsn=176991'}"
      ]
     },
     "metadata": {},
     "output_type": "display_data"
    },
    {
     "name": "stdout",
     "output_type": "stream",
     "text": [
      "<pymongo.results.UpdateResult object at 0x1057ec1c8>\n"
     ]
    },
    {
     "data": {
      "text/plain": [
       "{'originCollection': 'gapspecies',\n",
       " 'originID': ObjectId('59b848da3339a2d2a5efaf5a'),\n",
       " 'searchURL': 'https://bison.usgs.gov/api/search.json?count=1&type=scientific_name&species=Corynorhinus townsendii australis'}"
      ]
     },
     "metadata": {},
     "output_type": "display_data"
    },
    {
     "name": "stdout",
     "output_type": "stream",
     "text": [
      "<pymongo.results.UpdateResult object at 0x1057eee48>\n"
     ]
    },
    {
     "data": {
      "text/plain": [
       "{'originCollection': 'gapspecies',\n",
       " 'originID': ObjectId('59b848da3339a2d2a5efaf5b'),\n",
       " 'searchURL': 'https://bison.usgs.gov/api/search.json?count=1&tsn=175170'}"
      ]
     },
     "metadata": {},
     "output_type": "display_data"
    },
    {
     "name": "stdout",
     "output_type": "stream",
     "text": [
      "<pymongo.results.UpdateResult object at 0x1057f6148>\n"
     ]
    },
    {
     "data": {
      "text/plain": [
       "{'originCollection': 'gapspecies',\n",
       " 'originID': ObjectId('59b848da3339a2d2a5efaf5c'),\n",
       " 'searchURL': 'https://bison.usgs.gov/api/search.json?count=1&tsn=178897'}"
      ]
     },
     "metadata": {},
     "output_type": "display_data"
    },
    {
     "name": "stdout",
     "output_type": "stream",
     "text": [
      "<pymongo.results.UpdateResult object at 0x1057fe1c8>\n"
     ]
    },
    {
     "data": {
      "text/plain": [
       "{'originCollection': 'gapspecies',\n",
       " 'originID': ObjectId('59b848db3339a2d2a5efaf5d'),\n",
       " 'searchURL': 'https://bison.usgs.gov/api/search.json?count=1&tsn=173538'}"
      ]
     },
     "metadata": {},
     "output_type": "display_data"
    },
    {
     "name": "stdout",
     "output_type": "stream",
     "text": [
      "<pymongo.results.UpdateResult object at 0x105803148>\n"
     ]
    },
    {
     "data": {
      "text/plain": [
       "{'originCollection': 'gapspecies',\n",
       " 'originID': ObjectId('59b848db3339a2d2a5efaf5e'),\n",
       " 'searchURL': 'https://bison.usgs.gov/api/search.json?count=1&tsn=179156'}"
      ]
     },
     "metadata": {},
     "output_type": "display_data"
    },
    {
     "name": "stdout",
     "output_type": "stream",
     "text": [
      "<pymongo.results.UpdateResult object at 0x1058081c8>\n"
     ]
    },
    {
     "data": {
      "text/plain": [
       "{'originCollection': 'gapspecies',\n",
       " 'originID': ObjectId('59b848db3339a2d2a5efaf5f'),\n",
       " 'searchURL': 'https://bison.usgs.gov/api/search.json?count=1&tsn=178868'}"
      ]
     },
     "metadata": {},
     "output_type": "display_data"
    },
    {
     "name": "stdout",
     "output_type": "stream",
     "text": [
      "<pymongo.results.UpdateResult object at 0x10580e0c8>\n"
     ]
    },
    {
     "data": {
      "text/plain": [
       "{'originCollection': 'gapspecies',\n",
       " 'originID': ObjectId('59b848db3339a2d2a5efaf60'),\n",
       " 'searchURL': 'https://bison.usgs.gov/api/search.json?count=1&tsn=179685'}"
      ]
     },
     "metadata": {},
     "output_type": "display_data"
    },
    {
     "name": "stdout",
     "output_type": "stream",
     "text": [
      "<pymongo.results.UpdateResult object at 0x105812188>\n"
     ]
    },
    {
     "data": {
      "text/plain": [
       "{'originCollection': 'gapspecies',\n",
       " 'originID': ObjectId('59b848db3339a2d2a5efaf61'),\n",
       " 'searchURL': 'https://bison.usgs.gov/api/search.json?count=1&tsn=773519'}"
      ]
     },
     "metadata": {},
     "output_type": "display_data"
    },
    {
     "name": "stdout",
     "output_type": "stream",
     "text": [
      "<pymongo.results.UpdateResult object at 0x10581a0c8>\n"
     ]
    },
    {
     "data": {
      "text/plain": [
       "{'originCollection': 'gapspecies',\n",
       " 'originID': ObjectId('59b848db3339a2d2a5efaf62'),\n",
       " 'searchURL': 'https://bison.usgs.gov/api/search.json?count=1&tsn=174230'}"
      ]
     },
     "metadata": {},
     "output_type": "display_data"
    },
    {
     "name": "stdout",
     "output_type": "stream",
     "text": [
      "<pymongo.results.UpdateResult object at 0x10581e388>\n"
     ]
    },
    {
     "data": {
      "text/plain": [
       "{'originCollection': 'gapspecies',\n",
       " 'originID': ObjectId('59b848dc3339a2d2a5efaf63'),\n",
       " 'searchURL': 'https://bison.usgs.gov/api/search.json?count=1&tsn=173927'}"
      ]
     },
     "metadata": {},
     "output_type": "display_data"
    },
    {
     "name": "stdout",
     "output_type": "stream",
     "text": [
      "<pymongo.results.UpdateResult object at 0x1058240c8>\n"
     ]
    },
    {
     "data": {
      "text/plain": [
       "{'originCollection': 'gapspecies',\n",
       " 'originID': ObjectId('59b848dc3339a2d2a5efaf64'),\n",
       " 'searchURL': 'https://bison.usgs.gov/api/search.json?count=1&tsn=176888'}"
      ]
     },
     "metadata": {},
     "output_type": "display_data"
    },
    {
     "name": "stdout",
     "output_type": "stream",
     "text": [
      "<pymongo.results.UpdateResult object at 0x10582e048>\n"
     ]
    },
    {
     "data": {
      "text/plain": [
       "{'originCollection': 'gapspecies',\n",
       " 'originID': ObjectId('59b848dc3339a2d2a5efaf65'),\n",
       " 'searchURL': 'https://bison.usgs.gov/api/search.json?count=1&tsn=677540'}"
      ]
     },
     "metadata": {},
     "output_type": "display_data"
    },
    {
     "name": "stdout",
     "output_type": "stream",
     "text": [
      "<pymongo.results.UpdateResult object at 0x105832108>\n"
     ]
    },
    {
     "data": {
      "text/plain": [
       "{'originCollection': 'gapspecies',\n",
       " 'originID': ObjectId('59b848dc3339a2d2a5efaf66'),\n",
       " 'searchURL': 'https://bison.usgs.gov/api/search.json?count=1&tsn=173872'}"
      ]
     },
     "metadata": {},
     "output_type": "display_data"
    },
    {
     "name": "stdout",
     "output_type": "stream",
     "text": [
      "<pymongo.results.UpdateResult object at 0x1058391c8>\n"
     ]
    },
    {
     "data": {
      "text/plain": [
       "{'originCollection': 'gapspecies',\n",
       " 'originID': ObjectId('59b848dc3339a2d2a5efaf67'),\n",
       " 'searchURL': 'https://bison.usgs.gov/api/search.json?count=1&tsn=209029'}"
      ]
     },
     "metadata": {},
     "output_type": "display_data"
    },
    {
     "name": "stdout",
     "output_type": "stream",
     "text": [
      "<pymongo.results.UpdateResult object at 0x10583e088>\n"
     ]
    },
    {
     "data": {
      "text/plain": [
       "{'originCollection': 'gapspecies',\n",
       " 'originID': ObjectId('59b848dd3339a2d2a5efaf68'),\n",
       " 'searchURL': 'https://bison.usgs.gov/api/search.json?count=1&tsn=174313'}"
      ]
     },
     "metadata": {},
     "output_type": "display_data"
    },
    {
     "name": "stdout",
     "output_type": "stream",
     "text": [
      "<pymongo.results.UpdateResult object at 0x105843148>\n"
     ]
    },
    {
     "data": {
      "text/plain": [
       "{'originCollection': 'gapspecies',\n",
       " 'originID': ObjectId('59b848dd3339a2d2a5efaf69'),\n",
       " 'searchURL': 'https://bison.usgs.gov/api/search.json?count=1&tsn=173926'}"
      ]
     },
     "metadata": {},
     "output_type": "display_data"
    },
    {
     "name": "stdout",
     "output_type": "stream",
     "text": [
      "<pymongo.results.UpdateResult object at 0x105847308>\n"
     ]
    },
    {
     "data": {
      "text/plain": [
       "{'originCollection': 'gapspecies',\n",
       " 'originID': ObjectId('59b848dd3339a2d2a5efaf6a'),\n",
       " 'searchURL': 'https://bison.usgs.gov/api/search.json?count=1&tsn=180185'}"
      ]
     },
     "metadata": {},
     "output_type": "display_data"
    },
    {
     "name": "stdout",
     "output_type": "stream",
     "text": [
      "<pymongo.results.UpdateResult object at 0x10584e1c8>\n"
     ]
    },
    {
     "data": {
      "text/plain": [
       "{'originCollection': 'gapspecies',\n",
       " 'originID': ObjectId('59b848dd3339a2d2a5efaf6b'),\n",
       " 'searchURL': 'https://bison.usgs.gov/api/search.json?count=1&tsn=174289'}"
      ]
     },
     "metadata": {},
     "output_type": "display_data"
    },
    {
     "name": "stdout",
     "output_type": "stream",
     "text": [
      "<pymongo.results.UpdateResult object at 0x105852048>\n"
     ]
    },
    {
     "data": {
      "text/plain": [
       "{'originCollection': 'gapspecies',\n",
       " 'originID': ObjectId('59b848dd3339a2d2a5efaf6c'),\n",
       " 'searchURL': 'https://bison.usgs.gov/api/search.json?count=1&tsn=914104'}"
      ]
     },
     "metadata": {},
     "output_type": "display_data"
    },
    {
     "name": "stdout",
     "output_type": "stream",
     "text": [
      "<pymongo.results.UpdateResult object at 0x105859108>\n"
     ]
    },
    {
     "data": {
      "text/plain": [
       "{'originCollection': 'gapspecies',\n",
       " 'originID': ObjectId('59b848dd3339a2d2a5efaf6d'),\n",
       " 'searchURL': 'https://bison.usgs.gov/api/search.json?count=1&tsn=564570'}"
      ]
     },
     "metadata": {},
     "output_type": "display_data"
    },
    {
     "name": "stdout",
     "output_type": "stream",
     "text": [
      "<pymongo.results.UpdateResult object at 0x10585e448>\n"
     ]
    },
    {
     "data": {
      "text/plain": [
       "{'originCollection': 'gapspecies',\n",
       " 'originID': ObjectId('59b848de3339a2d2a5efaf6e'),\n",
       " 'searchURL': 'https://bison.usgs.gov/api/search.json?count=1&tsn=174239'}"
      ]
     },
     "metadata": {},
     "output_type": "display_data"
    },
    {
     "name": "stdout",
     "output_type": "stream",
     "text": [
      "<pymongo.results.UpdateResult object at 0x105866048>\n"
     ]
    },
    {
     "data": {
      "text/plain": [
       "{'originCollection': 'gapspecies',\n",
       " 'originID': ObjectId('59b848de3339a2d2a5efaf6f'),\n",
       " 'searchURL': 'https://bison.usgs.gov/api/search.json?count=1&tsn=174275'}"
      ]
     },
     "metadata": {},
     "output_type": "display_data"
    },
    {
     "name": "stdout",
     "output_type": "stream",
     "text": [
      "<pymongo.results.UpdateResult object at 0x10586a108>\n"
     ]
    },
    {
     "data": {
      "text/plain": [
       "{'originCollection': 'gapspecies',\n",
       " 'originID': ObjectId('59b848de3339a2d2a5efaf70'),\n",
       " 'searchURL': 'https://bison.usgs.gov/api/search.json?count=1&tsn=174293'}"
      ]
     },
     "metadata": {},
     "output_type": "display_data"
    },
    {
     "name": "stdout",
     "output_type": "stream",
     "text": [
      "<pymongo.results.UpdateResult object at 0x10586c1c8>\n"
     ]
    },
    {
     "data": {
      "text/plain": [
       "{'originCollection': 'gapspecies',\n",
       " 'originID': ObjectId('59b848de3339a2d2a5efaf71'),\n",
       " 'searchURL': 'https://bison.usgs.gov/api/search.json?count=1&tsn=564596'}"
      ]
     },
     "metadata": {},
     "output_type": "display_data"
    },
    {
     "name": "stdout",
     "output_type": "stream",
     "text": [
      "<pymongo.results.UpdateResult object at 0x105877088>\n"
     ]
    },
    {
     "data": {
      "text/plain": [
       "{'originCollection': 'gapspecies',\n",
       " 'originID': ObjectId('59b848df3339a2d2a5efaf72'),\n",
       " 'searchURL': 'https://bison.usgs.gov/api/search.json?count=1&tsn=586362'}"
      ]
     },
     "metadata": {},
     "output_type": "display_data"
    },
    {
     "name": "stdout",
     "output_type": "stream",
     "text": [
      "<pymongo.results.UpdateResult object at 0x10587c108>\n"
     ]
    },
    {
     "data": {
      "text/plain": [
       "{'originCollection': 'gapspecies',\n",
       " 'originID': ObjectId('59b848df3339a2d2a5efaf73'),\n",
       " 'searchURL': 'https://bison.usgs.gov/api/search.json?count=1&tsn=554141'}"
      ]
     },
     "metadata": {},
     "output_type": "display_data"
    },
    {
     "name": "stdout",
     "output_type": "stream",
     "text": [
      "<pymongo.results.UpdateResult object at 0x105882148>\n"
     ]
    },
    {
     "data": {
      "text/plain": [
       "{'originCollection': 'gapspecies',\n",
       " 'originID': ObjectId('59b848e03339a2d2a5efaf74'),\n",
       " 'searchURL': 'https://bison.usgs.gov/api/search.json?count=1&tsn=178581'}"
      ]
     },
     "metadata": {},
     "output_type": "display_data"
    },
    {
     "name": "stdout",
     "output_type": "stream",
     "text": [
      "<pymongo.results.UpdateResult object at 0x105884b48>\n"
     ]
    },
    {
     "data": {
      "text/plain": [
       "{'originCollection': 'gapspecies',\n",
       " 'originID': ObjectId('59b848e03339a2d2a5efaf75'),\n",
       " 'searchURL': 'https://bison.usgs.gov/api/search.json?count=1&tsn=180234'}"
      ]
     },
     "metadata": {},
     "output_type": "display_data"
    },
    {
     "name": "stdout",
     "output_type": "stream",
     "text": [
      "<pymongo.results.UpdateResult object at 0x10588c208>\n"
     ]
    },
    {
     "data": {
      "text/plain": [
       "{'originCollection': 'gapspecies',\n",
       " 'originID': ObjectId('59b848e03339a2d2a5efaf76'),\n",
       " 'searchURL': 'https://bison.usgs.gov/api/search.json?count=1&tsn=180239'}"
      ]
     },
     "metadata": {},
     "output_type": "display_data"
    },
    {
     "name": "stdout",
     "output_type": "stream",
     "text": [
      "<pymongo.results.UpdateResult object at 0x105896088>\n"
     ]
    },
    {
     "data": {
      "text/plain": [
       "{'originCollection': 'gapspecies',\n",
       " 'originID': ObjectId('59b848e13339a2d2a5efaf77'),\n",
       " 'searchURL': 'https://bison.usgs.gov/api/search.json?count=1&tsn=180017'}"
      ]
     },
     "metadata": {},
     "output_type": "display_data"
    },
    {
     "name": "stdout",
     "output_type": "stream",
     "text": [
      "<pymongo.results.UpdateResult object at 0x10589d1c8>\n"
     ]
    },
    {
     "data": {
      "text/plain": [
       "{'originCollection': 'gapspecies',\n",
       " 'originID': ObjectId('59b848e13339a2d2a5efaf78'),\n",
       " 'searchURL': 'https://bison.usgs.gov/api/search.json?count=1&tsn=552482'}"
      ]
     },
     "metadata": {},
     "output_type": "display_data"
    },
    {
     "name": "stdout",
     "output_type": "stream",
     "text": [
      "<pymongo.results.UpdateResult object at 0x1058a3048>\n"
     ]
    },
    {
     "data": {
      "text/plain": [
       "{'originCollection': 'gapspecies',\n",
       " 'originID': ObjectId('59b848e13339a2d2a5efaf79'),\n",
       " 'searchURL': 'https://bison.usgs.gov/api/search.json?count=1&tsn=552480'}"
      ]
     },
     "metadata": {},
     "output_type": "display_data"
    },
    {
     "name": "stdout",
     "output_type": "stream",
     "text": [
      "<pymongo.results.UpdateResult object at 0x1058a8148>\n"
     ]
    },
    {
     "data": {
      "text/plain": [
       "{'originCollection': 'gapspecies',\n",
       " 'originID': ObjectId('59b848e23339a2d2a5efaf7a'),\n",
       " 'searchURL': 'https://bison.usgs.gov/api/search.json?count=1&tsn=173650'}"
      ]
     },
     "metadata": {},
     "output_type": "display_data"
    },
    {
     "name": "stdout",
     "output_type": "stream",
     "text": [
      "<pymongo.results.UpdateResult object at 0x1058af1c8>\n"
     ]
    },
    {
     "data": {
      "text/plain": [
       "{'originCollection': 'gapspecies',\n",
       " 'originID': ObjectId('59b848e23339a2d2a5efaf7b'),\n",
       " 'searchURL': 'https://bison.usgs.gov/api/search.json?count=1&tsn=208292'}"
      ]
     },
     "metadata": {},
     "output_type": "display_data"
    },
    {
     "name": "stdout",
     "output_type": "stream",
     "text": [
      "<pymongo.results.UpdateResult object at 0x1058b3108>\n"
     ]
    },
    {
     "data": {
      "text/plain": [
       "{'originCollection': 'gapspecies',\n",
       " 'originID': ObjectId('59b848e23339a2d2a5efaf7c'),\n",
       " 'searchURL': 'https://bison.usgs.gov/api/search.json?count=1&tsn=180184'}"
      ]
     },
     "metadata": {},
     "output_type": "display_data"
    },
    {
     "name": "stdout",
     "output_type": "stream",
     "text": [
      "<pymongo.results.UpdateResult object at 0x1058bb1c8>\n"
     ]
    },
    {
     "data": {
      "text/plain": [
       "{'originCollection': 'gapspecies',\n",
       " 'originID': ObjectId('59b848e33339a2d2a5efaf7d'),\n",
       " 'searchURL': 'https://bison.usgs.gov/api/search.json?count=1&tsn=180649'}"
      ]
     },
     "metadata": {},
     "output_type": "display_data"
    },
    {
     "name": "stdout",
     "output_type": "stream",
     "text": [
      "<pymongo.results.UpdateResult object at 0x1058bf308>\n"
     ]
    },
    {
     "data": {
      "text/plain": [
       "{'originCollection': 'gapspecies',\n",
       " 'originID': ObjectId('59b848e33339a2d2a5efaf7e'),\n",
       " 'searchURL': 'https://bison.usgs.gov/api/search.json?count=1&tsn=178038'}"
      ]
     },
     "metadata": {},
     "output_type": "display_data"
    },
    {
     "name": "stdout",
     "output_type": "stream",
     "text": [
      "<pymongo.results.UpdateResult object at 0x1058c48c8>\n"
     ]
    },
    {
     "data": {
      "text/plain": [
       "{'originCollection': 'gapspecies',\n",
       " 'originID': ObjectId('59b848e33339a2d2a5efaf7f'),\n",
       " 'searchURL': 'https://bison.usgs.gov/api/search.json?count=1&tsn=180267'}"
      ]
     },
     "metadata": {},
     "output_type": "display_data"
    },
    {
     "name": "stdout",
     "output_type": "stream",
     "text": [
      "<pymongo.results.UpdateResult object at 0x1058cb188>\n"
     ]
    },
    {
     "data": {
      "text/plain": [
       "{'originCollection': 'gapspecies',\n",
       " 'originID': ObjectId('59b848e33339a2d2a5efaf80'),\n",
       " 'searchURL': 'https://bison.usgs.gov/api/search.json?count=1&tsn=180318'}"
      ]
     },
     "metadata": {},
     "output_type": "display_data"
    },
    {
     "name": "stdout",
     "output_type": "stream",
     "text": [
      "<pymongo.results.UpdateResult object at 0x1058d10c8>\n"
     ]
    },
    {
     "data": {
      "text/plain": [
       "{'originCollection': 'gapspecies',\n",
       " 'originID': ObjectId('59b848e33339a2d2a5efaf81'),\n",
       " 'searchURL': 'https://bison.usgs.gov/api/search.json?count=1&tsn=209205'}"
      ]
     },
     "metadata": {},
     "output_type": "display_data"
    },
    {
     "name": "stdout",
     "output_type": "stream",
     "text": [
      "<pymongo.results.UpdateResult object at 0x1058d6188>\n"
     ]
    },
    {
     "data": {
      "text/plain": [
       "{'originCollection': 'gapspecies',\n",
       " 'originID': ObjectId('59b848e43339a2d2a5efaf82'),\n",
       " 'searchURL': 'https://bison.usgs.gov/api/search.json?count=1&tsn=173836'}"
      ]
     },
     "metadata": {},
     "output_type": "display_data"
    },
    {
     "name": "stdout",
     "output_type": "stream",
     "text": [
      "<pymongo.results.UpdateResult object at 0x1058d9408>\n"
     ]
    },
    {
     "data": {
      "text/plain": [
       "{'originCollection': 'gapspecies',\n",
       " 'originID': ObjectId('59b848e43339a2d2a5efaf83'),\n",
       " 'searchURL': 'https://bison.usgs.gov/api/search.json?count=1&tsn=173736'}"
      ]
     },
     "metadata": {},
     "output_type": "display_data"
    },
    {
     "name": "stdout",
     "output_type": "stream",
     "text": [
      "<pymongo.results.UpdateResult object at 0x1058df088>\n"
     ]
    },
    {
     "data": {
      "text/plain": [
       "{'originCollection': 'gapspecies',\n",
       " 'originID': ObjectId('59b848e43339a2d2a5efaf84'),\n",
       " 'searchURL': 'https://bison.usgs.gov/api/search.json?count=1&tsn=179723'}"
      ]
     },
     "metadata": {},
     "output_type": "display_data"
    },
    {
     "name": "stdout",
     "output_type": "stream",
     "text": [
      "<pymongo.results.UpdateResult object at 0x1058e62c8>\n"
     ]
    },
    {
     "data": {
      "text/plain": [
       "{'originCollection': 'gapspecies',\n",
       " 'originID': ObjectId('59b848e43339a2d2a5efaf85'),\n",
       " 'searchURL': 'https://bison.usgs.gov/api/search.json?count=1&tsn=173873'}"
      ]
     },
     "metadata": {},
     "output_type": "display_data"
    },
    {
     "name": "stdout",
     "output_type": "stream",
     "text": [
      "<pymongo.results.UpdateResult object at 0x1058f0048>\n"
     ]
    },
    {
     "data": {
      "text/plain": [
       "{'originCollection': 'gapspecies',\n",
       " 'originID': ObjectId('59b848e53339a2d2a5efaf86'),\n",
       " 'searchURL': 'https://bison.usgs.gov/api/search.json?count=1&tsn=563935'}"
      ]
     },
     "metadata": {},
     "output_type": "display_data"
    },
    {
     "name": "stdout",
     "output_type": "stream",
     "text": [
      "<pymongo.results.UpdateResult object at 0x1058f4148>\n"
     ]
    },
    {
     "data": {
      "text/plain": [
       "{'originCollection': 'gapspecies',\n",
       " 'originID': ObjectId('59b848e53339a2d2a5efaf87'),\n",
       " 'searchURL': 'https://bison.usgs.gov/api/search.json?count=1&tsn=180233'}"
      ]
     },
     "metadata": {},
     "output_type": "display_data"
    },
    {
     "name": "stdout",
     "output_type": "stream",
     "text": [
      "<pymongo.results.UpdateResult object at 0x1058f7648>\n"
     ]
    },
    {
     "data": {
      "text/plain": [
       "{'originCollection': 'gapspecies',\n",
       " 'originID': ObjectId('59b848e53339a2d2a5efaf88'),\n",
       " 'searchURL': 'https://bison.usgs.gov/api/search.json?count=1&tsn=173843'}"
      ]
     },
     "metadata": {},
     "output_type": "display_data"
    },
    {
     "name": "stdout",
     "output_type": "stream",
     "text": [
      "<pymongo.results.UpdateResult object at 0x105900148>\n"
     ]
    },
    {
     "data": {
      "text/plain": [
       "{'originCollection': 'gapspecies',\n",
       " 'originID': ObjectId('59b848e63339a2d2a5efaf89'),\n",
       " 'searchURL': 'https://bison.usgs.gov/api/search.json?count=1&tsn=173778'}"
      ]
     },
     "metadata": {},
     "output_type": "display_data"
    },
    {
     "name": "stdout",
     "output_type": "stream",
     "text": [
      "<pymongo.results.UpdateResult object at 0x105901d48>\n"
     ]
    },
    {
     "data": {
      "text/plain": [
       "{'originCollection': 'gapspecies',\n",
       " 'originID': ObjectId('59b848e63339a2d2a5efaf8a'),\n",
       " 'searchURL': 'https://bison.usgs.gov/api/search.json?count=1&tsn=551767'}"
      ]
     },
     "metadata": {},
     "output_type": "display_data"
    },
    {
     "name": "stdout",
     "output_type": "stream",
     "text": [
      "<pymongo.results.UpdateResult object at 0x10590b0c8>\n"
     ]
    },
    {
     "data": {
      "text/plain": [
       "{'originCollection': 'gapspecies',\n",
       " 'originID': ObjectId('59b848e63339a2d2a5efaf8b'),\n",
       " 'searchURL': 'https://bison.usgs.gov/api/search.json?count=1&tsn=174302'}"
      ]
     },
     "metadata": {},
     "output_type": "display_data"
    },
    {
     "name": "stdout",
     "output_type": "stream",
     "text": [
      "<pymongo.results.UpdateResult object at 0x10590bd08>\n"
     ]
    },
    {
     "data": {
      "text/plain": [
       "{'originCollection': 'gapspecies',\n",
       " 'originID': ObjectId('59b848e73339a2d2a5efaf8c'),\n",
       " 'searchURL': 'https://bison.usgs.gov/api/search.json?count=1&tsn=173798'}"
      ]
     },
     "metadata": {},
     "output_type": "display_data"
    },
    {
     "name": "stdout",
     "output_type": "stream",
     "text": [
      "<pymongo.results.UpdateResult object at 0x105916048>\n"
     ]
    },
    {
     "data": {
      "text/plain": [
       "{'originCollection': 'gapspecies',\n",
       " 'originID': ObjectId('59b848e73339a2d2a5efaf8d'),\n",
       " 'searchURL': 'https://bison.usgs.gov/api/search.json?count=1&tsn=564591'}"
      ]
     },
     "metadata": {},
     "output_type": "display_data"
    },
    {
     "name": "stdout",
     "output_type": "stream",
     "text": [
      "<pymongo.results.UpdateResult object at 0x10591b148>\n"
     ]
    },
    {
     "data": {
      "text/plain": [
       "{'originCollection': 'gapspecies',\n",
       " 'originID': ObjectId('59b848e73339a2d2a5efaf8e'),\n",
       " 'searchURL': 'https://bison.usgs.gov/api/search.json?count=1&tsn=174129'}"
      ]
     },
     "metadata": {},
     "output_type": "display_data"
    },
    {
     "name": "stdout",
     "output_type": "stream",
     "text": [
      "<pymongo.results.UpdateResult object at 0x105920488>\n"
     ]
    },
    {
     "data": {
      "text/plain": [
       "{'originCollection': 'gapspecies',\n",
       " 'originID': ObjectId('59b848e83339a2d2a5efaf8f'),\n",
       " 'searchURL': 'https://bison.usgs.gov/api/search.json?count=1&tsn=208675'}"
      ]
     },
     "metadata": {},
     "output_type": "display_data"
    },
    {
     "name": "stdout",
     "output_type": "stream",
     "text": [
      "<pymongo.results.UpdateResult object at 0x105928088>\n"
     ]
    },
    {
     "data": {
      "text/plain": [
       "{'originCollection': 'gapspecies',\n",
       " 'originID': ObjectId('59b848e83339a2d2a5efaf90'),\n",
       " 'searchURL': 'https://bison.usgs.gov/api/search.json?count=1&tsn=174304'}"
      ]
     },
     "metadata": {},
     "output_type": "display_data"
    },
    {
     "name": "stdout",
     "output_type": "stream",
     "text": [
      "<pymongo.results.UpdateResult object at 0x10592d508>\n"
     ]
    },
    {
     "data": {
      "text/plain": [
       "{'originCollection': 'gapspecies',\n",
       " 'originID': ObjectId('59b848e93339a2d2a5efaf91'),\n",
       " 'searchURL': 'https://bison.usgs.gov/api/search.json?count=1&tsn=177902'}"
      ]
     },
     "metadata": {},
     "output_type": "display_data"
    },
    {
     "name": "stdout",
     "output_type": "stream",
     "text": [
      "<pymongo.results.UpdateResult object at 0x105931148>\n"
     ]
    },
    {
     "data": {
      "text/plain": [
       "{'originCollection': 'gapspecies',\n",
       " 'originID': ObjectId('59b848ea3339a2d2a5efaf92'),\n",
       " 'searchURL': 'https://bison.usgs.gov/api/search.json?count=1&tsn=178348'}"
      ]
     },
     "metadata": {},
     "output_type": "display_data"
    },
    {
     "name": "stdout",
     "output_type": "stream",
     "text": [
      "<pymongo.results.UpdateResult object at 0x105936948>\n"
     ]
    },
    {
     "data": {
      "text/plain": [
       "{'originCollection': 'gapspecies',\n",
       " 'originID': ObjectId('59b848ea3339a2d2a5efaf93'),\n",
       " 'searchURL': 'https://bison.usgs.gov/api/search.json?count=1&tsn=178376'}"
      ]
     },
     "metadata": {},
     "output_type": "display_data"
    },
    {
     "name": "stdout",
     "output_type": "stream",
     "text": [
      "<pymongo.results.UpdateResult object at 0x10593d108>\n"
     ]
    },
    {
     "data": {
      "text/plain": [
       "{'originCollection': 'gapspecies',\n",
       " 'originID': ObjectId('59b848ea3339a2d2a5efaf94'),\n",
       " 'searchURL': 'https://bison.usgs.gov/api/search.json?count=1&tsn=175300'}"
      ]
     },
     "metadata": {},
     "output_type": "display_data"
    },
    {
     "name": "stdout",
     "output_type": "stream",
     "text": [
      "<pymongo.results.UpdateResult object at 0x105945048>\n"
     ]
    },
    {
     "data": {
      "text/plain": [
       "{'originCollection': 'gapspecies',\n",
       " 'originID': ObjectId('59b848eb3339a2d2a5efaf95'),\n",
       " 'searchURL': 'https://bison.usgs.gov/api/search.json?count=1&tsn=178784'}"
      ]
     },
     "metadata": {},
     "output_type": "display_data"
    },
    {
     "name": "stdout",
     "output_type": "stream",
     "text": [
      "<pymongo.results.UpdateResult object at 0x10594b608>\n"
     ]
    },
    {
     "data": {
      "text/plain": [
       "{'originCollection': 'gapspecies',\n",
       " 'originID': ObjectId('59b848eb3339a2d2a5efaf96'),\n",
       " 'searchURL': 'https://bison.usgs.gov/api/search.json?count=1&tsn=180196'}"
      ]
     },
     "metadata": {},
     "output_type": "display_data"
    },
    {
     "name": "stdout",
     "output_type": "stream",
     "text": [
      "<pymongo.results.UpdateResult object at 0x105951508>\n"
     ]
    },
    {
     "data": {
      "text/plain": [
       "{'originCollection': 'gapspecies',\n",
       " 'originID': ObjectId('59b848eb3339a2d2a5efaf97'),\n",
       " 'searchURL': 'https://bison.usgs.gov/api/search.json?count=1&tsn=175038'}"
      ]
     },
     "metadata": {},
     "output_type": "display_data"
    },
    {
     "name": "stdout",
     "output_type": "stream",
     "text": [
      "<pymongo.results.UpdateResult object at 0x1059585c8>\n"
     ]
    },
    {
     "data": {
      "text/plain": [
       "{'originCollection': 'gapspecies',\n",
       " 'originID': ObjectId('59b848ec3339a2d2a5efaf98'),\n",
       " 'searchURL': 'https://bison.usgs.gov/api/search.json?count=1&tsn=178282'}"
      ]
     },
     "metadata": {},
     "output_type": "display_data"
    },
    {
     "name": "stdout",
     "output_type": "stream",
     "text": [
      "<pymongo.results.UpdateResult object at 0x105958b08>\n"
     ]
    },
    {
     "data": {
      "text/plain": [
       "{'originCollection': 'gapspecies',\n",
       " 'originID': ObjectId('59b848ec3339a2d2a5efaf99'),\n",
       " 'searchURL': 'https://bison.usgs.gov/api/search.json?count=1&tsn=173644'}"
      ]
     },
     "metadata": {},
     "output_type": "display_data"
    },
    {
     "name": "stdout",
     "output_type": "stream",
     "text": [
      "<pymongo.results.UpdateResult object at 0x105965188>\n"
     ]
    },
    {
     "data": {
      "text/plain": [
       "{'originCollection': 'gapspecies',\n",
       " 'originID': ObjectId('59b848ec3339a2d2a5efaf9a'),\n",
       " 'searchURL': 'https://bison.usgs.gov/api/search.json?count=1&tsn=173546'}"
      ]
     },
     "metadata": {},
     "output_type": "display_data"
    },
    {
     "name": "stdout",
     "output_type": "stream",
     "text": [
      "<pymongo.results.UpdateResult object at 0x10596a088>\n"
     ]
    },
    {
     "data": {
      "text/plain": [
       "{'originCollection': 'gapspecies',\n",
       " 'originID': ObjectId('59b848ed3339a2d2a5efaf9b'),\n",
       " 'searchURL': 'https://bison.usgs.gov/api/search.json?count=1&tsn=177902'}"
      ]
     },
     "metadata": {},
     "output_type": "display_data"
    },
    {
     "name": "stdout",
     "output_type": "stream",
     "text": [
      "<pymongo.results.UpdateResult object at 0x10596d108>\n"
     ]
    },
    {
     "data": {
      "text/plain": [
       "{'originCollection': 'gapspecies',\n",
       " 'originID': ObjectId('59b848ed3339a2d2a5efaf9c'),\n",
       " 'searchURL': 'https://bison.usgs.gov/api/search.json?count=1&tsn=180606'}"
      ]
     },
     "metadata": {},
     "output_type": "display_data"
    },
    {
     "name": "stdout",
     "output_type": "stream",
     "text": [
      "<pymongo.results.UpdateResult object at 0x1059758c8>\n"
     ]
    },
    {
     "data": {
      "text/plain": [
       "{'originCollection': 'gapspecies',\n",
       " 'originID': ObjectId('59b848ed3339a2d2a5efaf9d'),\n",
       " 'searchURL': 'https://bison.usgs.gov/api/search.json?count=1&tsn=180310'}"
      ]
     },
     "metadata": {},
     "output_type": "display_data"
    },
    {
     "name": "stdout",
     "output_type": "stream",
     "text": [
      "<pymongo.results.UpdateResult object at 0x10597b188>\n"
     ]
    },
    {
     "data": {
      "text/plain": [
       "{'originCollection': 'gapspecies',\n",
       " 'originID': ObjectId('59b848ee3339a2d2a5efaf9e'),\n",
       " 'searchURL': 'https://bison.usgs.gov/api/search.json?count=1&tsn=175304'}"
      ]
     },
     "metadata": {},
     "output_type": "display_data"
    },
    {
     "name": "stdout",
     "output_type": "stream",
     "text": [
      "<pymongo.results.UpdateResult object at 0x10597ba48>\n"
     ]
    },
    {
     "data": {
      "text/plain": [
       "{'originCollection': 'gapspecies',\n",
       " 'originID': ObjectId('59b848ee3339a2d2a5efaf9f'),\n",
       " 'searchURL': 'https://bison.usgs.gov/api/search.json?count=1&tsn=175841'}"
      ]
     },
     "metadata": {},
     "output_type": "display_data"
    },
    {
     "name": "stdout",
     "output_type": "stream",
     "text": [
      "<pymongo.results.UpdateResult object at 0x1059852c8>\n"
     ]
    },
    {
     "data": {
      "text/plain": [
       "{'originCollection': 'gapspecies',\n",
       " 'originID': ObjectId('59b848ee3339a2d2a5efafa0'),\n",
       " 'searchURL': 'https://bison.usgs.gov/api/search.json?count=1&tsn=175141'}"
      ]
     },
     "metadata": {},
     "output_type": "display_data"
    },
    {
     "name": "stdout",
     "output_type": "stream",
     "text": [
      "<pymongo.results.UpdateResult object at 0x10598e0c8>\n"
     ]
    },
    {
     "data": {
      "text/plain": [
       "{'originCollection': 'gapspecies',\n",
       " 'originID': ObjectId('59b848ef3339a2d2a5efafa1'),\n",
       " 'searchURL': 'https://bison.usgs.gov/api/search.json?count=1&tsn=179443'}"
      ]
     },
     "metadata": {},
     "output_type": "display_data"
    },
    {
     "name": "stdout",
     "output_type": "stream",
     "text": [
      "<pymongo.results.UpdateResult object at 0x105994088>\n"
     ]
    },
    {
     "data": {
      "text/plain": [
       "{'originCollection': 'gapspecies',\n",
       " 'originID': ObjectId('59b848ef3339a2d2a5efafa2'),\n",
       " 'searchURL': 'https://bison.usgs.gov/api/search.json?count=1&tsn=173717'}"
      ]
     },
     "metadata": {},
     "output_type": "display_data"
    },
    {
     "name": "stdout",
     "output_type": "stream",
     "text": [
      "<pymongo.results.UpdateResult object at 0x105998508>\n"
     ]
    },
    {
     "data": {
      "text/plain": [
       "{'originCollection': 'gapspecies',\n",
       " 'originID': ObjectId('59b848ef3339a2d2a5efafa3'),\n",
       " 'searchURL': 'https://bison.usgs.gov/api/search.json?count=1&tsn=178032'}"
      ]
     },
     "metadata": {},
     "output_type": "display_data"
    },
    {
     "name": "stdout",
     "output_type": "stream",
     "text": [
      "<pymongo.results.UpdateResult object at 0x10599c888>\n"
     ]
    },
    {
     "data": {
      "text/plain": [
       "{'originCollection': 'gapspecies',\n",
       " 'originID': ObjectId('59b848f03339a2d2a5efafa4'),\n",
       " 'searchURL': 'https://bison.usgs.gov/api/search.json?count=1&tsn=175289'}"
      ]
     },
     "metadata": {},
     "output_type": "display_data"
    },
    {
     "name": "stdout",
     "output_type": "stream",
     "text": [
      "<pymongo.results.UpdateResult object at 0x1059a3ec8>\n"
     ]
    },
    {
     "data": {
      "text/plain": [
       "{'originCollection': 'gapspecies',\n",
       " 'originID': ObjectId('59b848f03339a2d2a5efafa5'),\n",
       " 'searchURL': 'https://bison.usgs.gov/api/search.json?count=1&tsn=180593'}"
      ]
     },
     "metadata": {},
     "output_type": "display_data"
    },
    {
     "name": "stdout",
     "output_type": "stream",
     "text": [
      "<pymongo.results.UpdateResult object at 0x1059a3dc8>\n"
     ]
    },
    {
     "data": {
      "text/plain": [
       "{'originCollection': 'gapspecies',\n",
       " 'originID': ObjectId('59b848f13339a2d2a5efafa6'),\n",
       " 'searchURL': 'https://bison.usgs.gov/api/search.json?count=1&tsn=178194'}"
      ]
     },
     "metadata": {},
     "output_type": "display_data"
    },
    {
     "name": "stdout",
     "output_type": "stream",
     "text": [
      "<pymongo.results.UpdateResult object at 0x1059ae908>\n"
     ]
    },
    {
     "data": {
      "text/plain": [
       "{'originCollection': 'gapspecies',\n",
       " 'originID': ObjectId('59b848f13339a2d2a5efafa7'),\n",
       " 'searchURL': 'https://bison.usgs.gov/api/search.json?count=1&tsn=178112'}"
      ]
     },
     "metadata": {},
     "output_type": "display_data"
    },
    {
     "name": "stdout",
     "output_type": "stream",
     "text": [
      "<pymongo.results.UpdateResult object at 0x1059b8088>\n"
     ]
    },
    {
     "data": {
      "text/plain": [
       "{'originCollection': 'gapspecies',\n",
       " 'originID': ObjectId('59b848f23339a2d2a5efafa8'),\n",
       " 'searchURL': 'https://bison.usgs.gov/api/search.json?count=1&tsn=178853'}"
      ]
     },
     "metadata": {},
     "output_type": "display_data"
    },
    {
     "name": "stdout",
     "output_type": "stream",
     "text": [
      "<pymongo.results.UpdateResult object at 0x1059be188>\n"
     ]
    },
    {
     "data": {
      "text/plain": [
       "{'originCollection': 'gapspecies',\n",
       " 'originID': ObjectId('59b848f23339a2d2a5efafa9'),\n",
       " 'searchURL': 'https://bison.usgs.gov/api/search.json?count=1&tsn=174793'}"
      ]
     },
     "metadata": {},
     "output_type": "display_data"
    },
    {
     "name": "stdout",
     "output_type": "stream",
     "text": [
      "<pymongo.results.UpdateResult object at 0x1059c41c8>\n"
     ]
    },
    {
     "data": {
      "text/plain": [
       "{'originCollection': 'gapspecies',\n",
       " 'originID': ObjectId('59b848f33339a2d2a5efafaa'),\n",
       " 'searchURL': 'https://bison.usgs.gov/api/search.json?count=1&tsn=180227'}"
      ]
     },
     "metadata": {},
     "output_type": "display_data"
    },
    {
     "name": "stdout",
     "output_type": "stream",
     "text": [
      "<pymongo.results.UpdateResult object at 0x1059c6c88>\n"
     ]
    },
    {
     "data": {
      "text/plain": [
       "{'originCollection': 'gapspecies',\n",
       " 'originID': ObjectId('59b848f43339a2d2a5efafab'),\n",
       " 'searchURL': 'https://bison.usgs.gov/api/search.json?count=1&tsn=178054'}"
      ]
     },
     "metadata": {},
     "output_type": "display_data"
    },
    {
     "name": "stdout",
     "output_type": "stream",
     "text": [
      "<pymongo.results.UpdateResult object at 0x1059ce408>\n"
     ]
    },
    {
     "data": {
      "text/plain": [
       "{'originCollection': 'gapspecies',\n",
       " 'originID': ObjectId('59b848f43339a2d2a5efafac'),\n",
       " 'searchURL': 'https://bison.usgs.gov/api/search.json?count=1&tsn=180557'}"
      ]
     },
     "metadata": {},
     "output_type": "display_data"
    },
    {
     "name": "stdout",
     "output_type": "stream",
     "text": [
      "<pymongo.results.UpdateResult object at 0x1059d40c8>\n"
     ]
    },
    {
     "data": {
      "text/plain": [
       "{'originCollection': 'gapspecies',\n",
       " 'originID': ObjectId('59b848f53339a2d2a5efafad'),\n",
       " 'searchURL': 'https://bison.usgs.gov/api/search.json?count=1&tsn=554148'}"
      ]
     },
     "metadata": {},
     "output_type": "display_data"
    },
    {
     "name": "stdout",
     "output_type": "stream",
     "text": [
      "<pymongo.results.UpdateResult object at 0x10aa52448>\n"
     ]
    },
    {
     "data": {
      "text/plain": [
       "{'originCollection': 'gapspecies',\n",
       " 'originID': ObjectId('59b848f63339a2d2a5efafae'),\n",
       " 'searchURL': 'https://bison.usgs.gov/api/search.json?count=1&tsn=179003'}"
      ]
     },
     "metadata": {},
     "output_type": "display_data"
    },
    {
     "name": "stdout",
     "output_type": "stream",
     "text": [
      "<pymongo.results.UpdateResult object at 0x10aa57948>\n"
     ]
    },
    {
     "data": {
      "text/plain": [
       "{'originCollection': 'gapspecies',\n",
       " 'originID': ObjectId('59b848f63339a2d2a5efafaf'),\n",
       " 'searchURL': 'https://bison.usgs.gov/api/search.json?count=1&tsn=207286'}"
      ]
     },
     "metadata": {},
     "output_type": "display_data"
    },
    {
     "name": "stdout",
     "output_type": "stream",
     "text": [
      "<pymongo.results.UpdateResult object at 0x10aa60108>\n"
     ]
    },
    {
     "data": {
      "text/plain": [
       "{'originCollection': 'gapspecies',\n",
       " 'originID': ObjectId('59b848f73339a2d2a5efafb0'),\n",
       " 'searchURL': 'https://bison.usgs.gov/api/search.json?count=1&tsn=173591'}"
      ]
     },
     "metadata": {},
     "output_type": "display_data"
    },
    {
     "name": "stdout",
     "output_type": "stream",
     "text": [
      "<pymongo.results.UpdateResult object at 0x10aa660c8>\n"
     ]
    },
    {
     "data": {
      "text/plain": [
       "{'originCollection': 'gapspecies',\n",
       " 'originID': ObjectId('59b848f83339a2d2a5efafb1'),\n",
       " 'searchURL': 'https://bison.usgs.gov/api/search.json?count=1&tsn=178319'}"
      ]
     },
     "metadata": {},
     "output_type": "display_data"
    },
    {
     "name": "stdout",
     "output_type": "stream",
     "text": [
      "<pymongo.results.UpdateResult object at 0x10aa6c5c8>\n"
     ]
    },
    {
     "data": {
      "text/plain": [
       "{'originCollection': 'gapspecies',\n",
       " 'originID': ObjectId('59b848f93339a2d2a5efafb2'),\n",
       " 'searchURL': 'https://bison.usgs.gov/api/search.json?count=1&tsn=179801'}"
      ]
     },
     "metadata": {},
     "output_type": "display_data"
    },
    {
     "name": "stdout",
     "output_type": "stream",
     "text": [
      "<pymongo.results.UpdateResult object at 0x10aa71188>\n"
     ]
    },
    {
     "data": {
      "text/plain": [
       "{'originCollection': 'gapspecies',\n",
       " 'originID': ObjectId('59b848fa3339a2d2a5efafb3'),\n",
       " 'searchURL': 'https://bison.usgs.gov/api/search.json?count=1&tsn=173710'}"
      ]
     },
     "metadata": {},
     "output_type": "display_data"
    },
    {
     "name": "stdout",
     "output_type": "stream",
     "text": [
      "<pymongo.results.UpdateResult object at 0x10aa78088>\n"
     ]
    },
    {
     "data": {
      "text/plain": [
       "{'originCollection': 'gapspecies',\n",
       " 'originID': ObjectId('59b848fb3339a2d2a5efafb4'),\n",
       " 'searchURL': 'https://bison.usgs.gov/api/search.json?count=1&tsn=668320'}"
      ]
     },
     "metadata": {},
     "output_type": "display_data"
    },
    {
     "name": "stdout",
     "output_type": "stream",
     "text": [
      "<pymongo.results.UpdateResult object at 0x10aa7f088>\n"
     ]
    },
    {
     "data": {
      "text/plain": [
       "{'originCollection': 'gapspecies',\n",
       " 'originID': ObjectId('59b848fb3339a2d2a5efafb5'),\n",
       " 'searchURL': 'https://bison.usgs.gov/api/search.json?count=1&tsn=176721'}"
      ]
     },
     "metadata": {},
     "output_type": "display_data"
    },
    {
     "name": "stdout",
     "output_type": "stream",
     "text": [
      "<pymongo.results.UpdateResult object at 0x10aa84108>\n"
     ]
    },
    {
     "data": {
      "text/plain": [
       "{'originCollection': 'gapspecies',\n",
       " 'originID': ObjectId('59b848fc3339a2d2a5efafb6'),\n",
       " 'searchURL': 'https://bison.usgs.gov/api/search.json?count=1&tsn=176292'}"
      ]
     },
     "metadata": {},
     "output_type": "display_data"
    },
    {
     "name": "stdout",
     "output_type": "stream",
     "text": [
      "<pymongo.results.UpdateResult object at 0x10aa8a088>\n"
     ]
    },
    {
     "data": {
      "text/plain": [
       "{'originCollection': 'gapspecies',\n",
       " 'originID': ObjectId('59b848fd3339a2d2a5efafb7'),\n",
       " 'searchURL': 'https://bison.usgs.gov/api/search.json?count=1&tsn=173960'}"
      ]
     },
     "metadata": {},
     "output_type": "display_data"
    },
    {
     "name": "stdout",
     "output_type": "stream",
     "text": [
      "<pymongo.results.UpdateResult object at 0x10aa915c8>\n"
     ]
    },
    {
     "data": {
      "text/plain": [
       "{'originCollection': 'gapspecies',\n",
       " 'originID': ObjectId('59b848fe3339a2d2a5efafb8'),\n",
       " 'searchURL': 'https://bison.usgs.gov/api/search.json?count=1&tsn=174280'}"
      ]
     },
     "metadata": {},
     "output_type": "display_data"
    },
    {
     "name": "stdout",
     "output_type": "stream",
     "text": [
      "<pymongo.results.UpdateResult object at 0x10aa95248>\n"
     ]
    },
    {
     "data": {
      "text/plain": [
       "{'originCollection': 'gapspecies',\n",
       " 'originID': ObjectId('59b848ff3339a2d2a5efafb9'),\n",
       " 'searchURL': 'https://bison.usgs.gov/api/search.json?count=1&tsn=173587'}"
      ]
     },
     "metadata": {},
     "output_type": "display_data"
    },
    {
     "name": "stdout",
     "output_type": "stream",
     "text": [
      "<pymongo.results.UpdateResult object at 0x10aa99648>\n"
     ]
    },
    {
     "data": {
      "text/plain": [
       "{'originCollection': 'gapspecies',\n",
       " 'originID': ObjectId('59b849003339a2d2a5efafba'),\n",
       " 'searchURL': 'https://bison.usgs.gov/api/search.json?count=1&tsn=178250'}"
      ]
     },
     "metadata": {},
     "output_type": "display_data"
    },
    {
     "name": "stdout",
     "output_type": "stream",
     "text": [
      "<pymongo.results.UpdateResult object at 0x10aaa0088>\n"
     ]
    },
    {
     "data": {
      "text/plain": [
       "{'originCollection': 'gapspecies',\n",
       " 'originID': ObjectId('59b849013339a2d2a5efafbb'),\n",
       " 'searchURL': 'https://bison.usgs.gov/api/search.json?count=1&tsn=180192'}"
      ]
     },
     "metadata": {},
     "output_type": "display_data"
    },
    {
     "name": "stdout",
     "output_type": "stream",
     "text": [
      "<pymongo.results.UpdateResult object at 0x10aaa3608>\n"
     ]
    },
    {
     "data": {
      "text/plain": [
       "{'originCollection': 'gapspecies',\n",
       " 'originID': ObjectId('59b849023339a2d2a5efafbc'),\n",
       " 'searchURL': 'https://bison.usgs.gov/api/search.json?count=1&tsn=178587'}"
      ]
     },
     "metadata": {},
     "output_type": "display_data"
    },
    {
     "name": "stdout",
     "output_type": "stream",
     "text": [
      "<pymongo.results.UpdateResult object at 0x10aaa6e48>\n"
     ]
    },
    {
     "data": {
      "text/plain": [
       "{'originCollection': 'gapspecies',\n",
       " 'originID': ObjectId('59b849033339a2d2a5efafbd'),\n",
       " 'searchURL': 'https://bison.usgs.gov/api/search.json?count=1&tsn=552466'}"
      ]
     },
     "metadata": {},
     "output_type": "display_data"
    },
    {
     "name": "stdout",
     "output_type": "stream",
     "text": [
      "<pymongo.results.UpdateResult object at 0x10aab0848>\n"
     ]
    },
    {
     "data": {
      "text/plain": [
       "{'originCollection': 'gapspecies',\n",
       " 'originID': ObjectId('59b849043339a2d2a5efafbe'),\n",
       " 'searchURL': 'https://bison.usgs.gov/api/search.json?count=1&tsn=179997'}"
      ]
     },
     "metadata": {},
     "output_type": "display_data"
    },
    {
     "name": "stdout",
     "output_type": "stream",
     "text": [
      "<pymongo.results.UpdateResult object at 0x10aab7c88>\n"
     ]
    },
    {
     "data": {
      "text/plain": [
       "{'originCollection': 'gapspecies',\n",
       " 'originID': ObjectId('59b849053339a2d2a5efafbf'),\n",
       " 'searchURL': 'https://bison.usgs.gov/api/search.json?count=1&tsn=178262'}"
      ]
     },
     "metadata": {},
     "output_type": "display_data"
    },
    {
     "name": "stdout",
     "output_type": "stream",
     "text": [
      "<pymongo.results.UpdateResult object at 0x10aabf048>\n"
     ]
    },
    {
     "data": {
      "text/plain": [
       "{'originCollection': 'gapspecies',\n",
       " 'originID': ObjectId('59b849063339a2d2a5efafc0'),\n",
       " 'searchURL': 'https://bison.usgs.gov/api/search.json?count=1&tsn=573577'}"
      ]
     },
     "metadata": {},
     "output_type": "display_data"
    },
    {
     "name": "stdout",
     "output_type": "stream",
     "text": [
      "<pymongo.results.UpdateResult object at 0x10aac4048>\n"
     ]
    },
    {
     "data": {
      "text/plain": [
       "{'originCollection': 'gapspecies',\n",
       " 'originID': ObjectId('59b849073339a2d2a5efafc1'),\n",
       " 'searchURL': 'https://bison.usgs.gov/api/search.json?count=1&tsn=208323'}"
      ]
     },
     "metadata": {},
     "output_type": "display_data"
    },
    {
     "name": "stdout",
     "output_type": "stream",
     "text": [
      "<pymongo.results.UpdateResult object at 0x10aac8148>\n"
     ]
    },
    {
     "data": {
      "text/plain": [
       "{'originCollection': 'gapspecies',\n",
       " 'originID': ObjectId('59b849073339a2d2a5efafc2'),\n",
       " 'searchURL': 'https://bison.usgs.gov/api/search.json?count=1&tsn=208343'}"
      ]
     },
     "metadata": {},
     "output_type": "display_data"
    },
    {
     "name": "stdout",
     "output_type": "stream",
     "text": [
      "<pymongo.results.UpdateResult object at 0x10aacf508>\n"
     ]
    },
    {
     "data": {
      "text/plain": [
       "{'originCollection': 'gapspecies',\n",
       " 'originID': ObjectId('59b849083339a2d2a5efafc3'),\n",
       " 'searchURL': 'https://bison.usgs.gov/api/search.json?count=1&tsn=178330'}"
      ]
     },
     "metadata": {},
     "output_type": "display_data"
    },
    {
     "name": "stdout",
     "output_type": "stream",
     "text": [
      "<pymongo.results.UpdateResult object at 0x10aad6048>\n"
     ]
    },
    {
     "data": {
      "text/plain": [
       "{'originCollection': 'gapspecies',\n",
       " 'originID': ObjectId('59b849083339a2d2a5efafc4'),\n",
       " 'searchURL': 'https://bison.usgs.gov/api/search.json?count=1&tsn=554128'}"
      ]
     },
     "metadata": {},
     "output_type": "display_data"
    },
    {
     "name": "stdout",
     "output_type": "stream",
     "text": [
      "<pymongo.results.UpdateResult object at 0x10aad9148>\n"
     ]
    },
    {
     "data": {
      "text/plain": [
       "{'originCollection': 'gapspecies',\n",
       " 'originID': ObjectId('59b849093339a2d2a5efafc5'),\n",
       " 'searchURL': 'https://bison.usgs.gov/api/search.json?count=1&tsn=180343'}"
      ]
     },
     "metadata": {},
     "output_type": "display_data"
    },
    {
     "name": "stdout",
     "output_type": "stream",
     "text": [
      "<pymongo.results.UpdateResult object at 0x10aadd088>\n"
     ]
    },
    {
     "data": {
      "text/plain": [
       "{'originCollection': 'gapspecies',\n",
       " 'originID': ObjectId('59b849093339a2d2a5efafc6'),\n",
       " 'searchURL': 'https://bison.usgs.gov/api/search.json?count=1&tsn=178195'}"
      ]
     },
     "metadata": {},
     "output_type": "display_data"
    },
    {
     "name": "stdout",
     "output_type": "stream",
     "text": [
      "<pymongo.results.UpdateResult object at 0x10aae4a48>\n"
     ]
    },
    {
     "data": {
      "text/plain": [
       "{'originCollection': 'gapspecies',\n",
       " 'originID': ObjectId('59b8490a3339a2d2a5efafc7'),\n",
       " 'searchURL': 'https://bison.usgs.gov/api/search.json?count=1&tsn=179983'}"
      ]
     },
     "metadata": {},
     "output_type": "display_data"
    },
    {
     "name": "stdout",
     "output_type": "stream",
     "text": [
      "<pymongo.results.UpdateResult object at 0x10aaec148>\n"
     ]
    },
    {
     "data": {
      "text/plain": [
       "{'originCollection': 'gapspecies',\n",
       " 'originID': ObjectId('59b8490a3339a2d2a5efafc8'),\n",
       " 'searchURL': 'https://bison.usgs.gov/api/search.json?count=1&tsn=174724'}"
      ]
     },
     "metadata": {},
     "output_type": "display_data"
    },
    {
     "name": "stdout",
     "output_type": "stream",
     "text": [
      "<pymongo.results.UpdateResult object at 0x10aaf4148>\n"
     ]
    },
    {
     "data": {
      "text/plain": [
       "{'originCollection': 'gapspecies',\n",
       " 'originID': ObjectId('59b8490b3339a2d2a5efafc9'),\n",
       " 'searchURL': 'https://bison.usgs.gov/api/search.json?count=1&tsn=180008'}"
      ]
     },
     "metadata": {},
     "output_type": "display_data"
    },
    {
     "name": "stdout",
     "output_type": "stream",
     "text": [
      "<pymongo.results.UpdateResult object at 0x10aafa548>\n"
     ]
    },
    {
     "data": {
      "text/plain": [
       "{'originCollection': 'gapspecies',\n",
       " 'originID': ObjectId('59b8490b3339a2d2a5efafca'),\n",
       " 'searchURL': 'https://bison.usgs.gov/api/search.json?count=1&tsn=173655'}"
      ]
     },
     "metadata": {},
     "output_type": "display_data"
    },
    {
     "name": "stdout",
     "output_type": "stream",
     "text": [
      "<pymongo.results.UpdateResult object at 0x10aafa9c8>\n"
     ]
    },
    {
     "data": {
      "text/plain": [
       "{'originCollection': 'gapspecies',\n",
       " 'originID': ObjectId('59b8490b3339a2d2a5efafcb'),\n",
       " 'searchURL': 'https://bison.usgs.gov/api/search.json?count=1&tsn=176959'}"
      ]
     },
     "metadata": {},
     "output_type": "display_data"
    },
    {
     "name": "stdout",
     "output_type": "stream",
     "text": [
      "<pymongo.results.UpdateResult object at 0x10ab03b88>\n"
     ]
    },
    {
     "data": {
      "text/plain": [
       "{'originCollection': 'gapspecies',\n",
       " 'originID': ObjectId('59b8490c3339a2d2a5efafcc'),\n",
       " 'searchURL': 'https://bison.usgs.gov/api/search.json?count=1&tsn=178529'}"
      ]
     },
     "metadata": {},
     "output_type": "display_data"
    },
    {
     "name": "stdout",
     "output_type": "stream",
     "text": [
      "<pymongo.results.UpdateResult object at 0x10ab0a288>\n"
     ]
    },
    {
     "data": {
      "text/plain": [
       "{'originCollection': 'gapspecies',\n",
       " 'originID': ObjectId('59b8490c3339a2d2a5efafcd'),\n",
       " 'searchURL': 'https://bison.usgs.gov/api/search.json?count=1&tsn=175272'}"
      ]
     },
     "metadata": {},
     "output_type": "display_data"
    },
    {
     "name": "stdout",
     "output_type": "stream",
     "text": [
      "<pymongo.results.UpdateResult object at 0x10ab111c8>\n"
     ]
    },
    {
     "data": {
      "text/plain": [
       "{'originCollection': 'gapspecies',\n",
       " 'originID': ObjectId('59b8490c3339a2d2a5efafce'),\n",
       " 'searchURL': 'https://bison.usgs.gov/api/search.json?count=1&tsn=179116'}"
      ]
     },
     "metadata": {},
     "output_type": "display_data"
    },
    {
     "name": "stdout",
     "output_type": "stream",
     "text": [
      "<pymongo.results.UpdateResult object at 0x10ab15148>\n"
     ]
    },
    {
     "data": {
      "text/plain": [
       "{'originCollection': 'gapspecies',\n",
       " 'originID': ObjectId('59b8490d3339a2d2a5efafcf'),\n",
       " 'searchURL': 'https://bison.usgs.gov/api/search.json?count=1&tsn=633864'}"
      ]
     },
     "metadata": {},
     "output_type": "display_data"
    },
    {
     "name": "stdout",
     "output_type": "stream",
     "text": [
      "<pymongo.results.UpdateResult object at 0x10ab15e08>\n"
     ]
    },
    {
     "data": {
      "text/plain": [
       "{'originCollection': 'gapspecies',\n",
       " 'originID': ObjectId('59b8490d3339a2d2a5efafd0'),\n",
       " 'searchURL': 'https://bison.usgs.gov/api/search.json?count=1&tsn=203452'}"
      ]
     },
     "metadata": {},
     "output_type": "display_data"
    },
    {
     "name": "stdout",
     "output_type": "stream",
     "text": [
      "<pymongo.results.UpdateResult object at 0x10ab1d748>\n"
     ]
    },
    {
     "data": {
      "text/plain": [
       "{'originCollection': 'gapspecies',\n",
       " 'originID': ObjectId('59b8490e3339a2d2a5efafd1'),\n",
       " 'searchURL': 'https://bison.usgs.gov/api/search.json?count=1&tsn=180198'}"
      ]
     },
     "metadata": {},
     "output_type": "display_data"
    },
    {
     "name": "stdout",
     "output_type": "stream",
     "text": [
      "<pymongo.results.UpdateResult object at 0x10ab25088>\n"
     ]
    },
    {
     "data": {
      "text/plain": [
       "{'originCollection': 'gapspecies',\n",
       " 'originID': ObjectId('59b8490e3339a2d2a5efafd2'),\n",
       " 'searchURL': 'https://bison.usgs.gov/api/search.json?count=1&tsn=180312'}"
      ]
     },
     "metadata": {},
     "output_type": "display_data"
    },
    {
     "name": "stdout",
     "output_type": "stream",
     "text": [
      "<pymongo.results.UpdateResult object at 0x10ab2b048>\n"
     ]
    },
    {
     "data": {
      "text/plain": [
       "{'originCollection': 'gapspecies',\n",
       " 'originID': ObjectId('59b8490e3339a2d2a5efafd3'),\n",
       " 'searchURL': 'https://bison.usgs.gov/api/search.json?count=1&tsn=180244'}"
      ]
     },
     "metadata": {},
     "output_type": "display_data"
    },
    {
     "name": "stdout",
     "output_type": "stream",
     "text": [
      "<pymongo.results.UpdateResult object at 0x10ab304c8>\n"
     ]
    },
    {
     "data": {
      "text/plain": [
       "{'originCollection': 'gapspecies',\n",
       " 'originID': ObjectId('59b8490f3339a2d2a5efafd4'),\n",
       " 'searchURL': 'https://bison.usgs.gov/api/search.json?count=1&tsn=173426'}"
      ]
     },
     "metadata": {},
     "output_type": "display_data"
    },
    {
     "name": "stdout",
     "output_type": "stream",
     "text": [
      "<pymongo.results.UpdateResult object at 0x10ab38048>\n"
     ]
    },
    {
     "data": {
      "text/plain": [
       "{'originCollection': 'gapspecies',\n",
       " 'originID': ObjectId('59b849103339a2d2a5efafd5'),\n",
       " 'searchURL': 'https://bison.usgs.gov/api/search.json?count=1&tsn=176923'}"
      ]
     },
     "metadata": {},
     "output_type": "display_data"
    },
    {
     "name": "stdout",
     "output_type": "stream",
     "text": [
      "<pymongo.results.UpdateResult object at 0x10ab3f608>\n"
     ]
    },
    {
     "data": {
      "text/plain": [
       "{'originCollection': 'gapspecies',\n",
       " 'originID': ObjectId('59b849103339a2d2a5efafd6'),\n",
       " 'searchURL': 'https://bison.usgs.gov/api/search.json?count=1&tsn=175147'}"
      ]
     },
     "metadata": {},
     "output_type": "display_data"
    },
    {
     "name": "stdout",
     "output_type": "stream",
     "text": [
      "<pymongo.results.UpdateResult object at 0x10ab3f9c8>\n"
     ]
    },
    {
     "data": {
      "text/plain": [
       "{'originCollection': 'gapspecies',\n",
       " 'originID': ObjectId('59b849103339a2d2a5efafd7'),\n",
       " 'searchURL': 'https://bison.usgs.gov/api/search.json?count=1&tsn=180719'}"
      ]
     },
     "metadata": {},
     "output_type": "display_data"
    },
    {
     "name": "stdout",
     "output_type": "stream",
     "text": [
      "<pymongo.results.UpdateResult object at 0x10ab47dc8>\n"
     ]
    },
    {
     "data": {
      "text/plain": [
       "{'originCollection': 'gapspecies',\n",
       " 'originID': ObjectId('59b849113339a2d2a5efafd8'),\n",
       " 'searchURL': 'https://bison.usgs.gov/api/search.json?count=1&tsn=179402'}"
      ]
     },
     "metadata": {},
     "output_type": "display_data"
    },
    {
     "name": "stdout",
     "output_type": "stream",
     "text": [
      "<pymongo.results.UpdateResult object at 0x10ab4d448>\n"
     ]
    },
    {
     "data": {
      "text/plain": [
       "{'originCollection': 'gapspecies',\n",
       " 'originID': ObjectId('59b849113339a2d2a5efafd9'),\n",
       " 'searchURL': 'https://bison.usgs.gov/api/search.json?count=1&tsn=179377'}"
      ]
     },
     "metadata": {},
     "output_type": "display_data"
    },
    {
     "name": "stdout",
     "output_type": "stream",
     "text": [
      "<pymongo.results.UpdateResult object at 0x10ab55048>\n"
     ]
    },
    {
     "data": {
      "text/plain": [
       "{'originCollection': 'gapspecies',\n",
       " 'originID': ObjectId('59b849113339a2d2a5efafda'),\n",
       " 'searchURL': 'https://bison.usgs.gov/api/search.json?count=1&tsn=179259'}"
      ]
     },
     "metadata": {},
     "output_type": "display_data"
    },
    {
     "name": "stdout",
     "output_type": "stream",
     "text": [
      "<pymongo.results.UpdateResult object at 0x10ab5d148>\n"
     ]
    },
    {
     "data": {
      "text/plain": [
       "{'originCollection': 'gapspecies',\n",
       " 'originID': ObjectId('59b849123339a2d2a5efafdb'),\n",
       " 'searchURL': 'https://bison.usgs.gov/api/search.json?count=1&tsn=668242'}"
      ]
     },
     "metadata": {},
     "output_type": "display_data"
    },
    {
     "name": "stdout",
     "output_type": "stream",
     "text": [
      "<pymongo.results.UpdateResult object at 0x10ab631c8>\n"
     ]
    },
    {
     "data": {
      "text/plain": [
       "{'originCollection': 'gapspecies',\n",
       " 'originID': ObjectId('59b849123339a2d2a5efafdc'),\n",
       " 'searchURL': 'https://bison.usgs.gov/api/search.json?count=1&tsn=175599'}"
      ]
     },
     "metadata": {},
     "output_type": "display_data"
    },
    {
     "name": "stdout",
     "output_type": "stream",
     "text": [
      "<pymongo.results.UpdateResult object at 0x10ab67148>\n"
     ]
    },
    {
     "data": {
      "text/plain": [
       "{'originCollection': 'gapspecies',\n",
       " 'originID': ObjectId('59b849123339a2d2a5efafdd'),\n",
       " 'searchURL': 'https://bison.usgs.gov/api/search.json?count=1&tsn=179231'}"
      ]
     },
     "metadata": {},
     "output_type": "display_data"
    },
    {
     "name": "stdout",
     "output_type": "stream",
     "text": [
      "<pymongo.results.UpdateResult object at 0x10ab6b448>\n"
     ]
    },
    {
     "data": {
      "text/plain": [
       "{'originCollection': 'gapspecies',\n",
       " 'originID': ObjectId('59b849123339a2d2a5efafde'),\n",
       " 'searchURL': 'https://bison.usgs.gov/api/search.json?count=1&tsn=554129'}"
      ]
     },
     "metadata": {},
     "output_type": "display_data"
    },
    {
     "name": "stdout",
     "output_type": "stream",
     "text": [
      "<pymongo.results.UpdateResult object at 0x10ab720c8>\n"
     ]
    },
    {
     "data": {
      "text/plain": [
       "{'originCollection': 'gapspecies',\n",
       " 'originID': ObjectId('59b849123339a2d2a5efafdf'),\n",
       " 'searchURL': 'https://bison.usgs.gov/api/search.json?count=1&tsn=554385'}"
      ]
     },
     "metadata": {},
     "output_type": "display_data"
    },
    {
     "name": "stdout",
     "output_type": "stream",
     "text": [
      "<pymongo.results.UpdateResult object at 0x10ab79088>\n"
     ]
    },
    {
     "data": {
      "text/plain": [
       "{'originCollection': 'gapspecies',\n",
       " 'originID': ObjectId('59b849123339a2d2a5efafe0'),\n",
       " 'searchURL': 'https://bison.usgs.gov/api/search.json?count=1&tsn=177935'}"
      ]
     },
     "metadata": {},
     "output_type": "display_data"
    },
    {
     "name": "stdout",
     "output_type": "stream",
     "text": [
      "<pymongo.results.UpdateResult object at 0x10ab7c388>\n"
     ]
    },
    {
     "data": {
      "text/plain": [
       "{'originCollection': 'gapspecies',\n",
       " 'originID': ObjectId('59b849133339a2d2a5efafe1'),\n",
       " 'searchURL': 'https://bison.usgs.gov/api/search.json?count=1&tsn=175613'}"
      ]
     },
     "metadata": {},
     "output_type": "display_data"
    },
    {
     "name": "stdout",
     "output_type": "stream",
     "text": [
      "<pymongo.results.UpdateResult object at 0x10ab84148>\n"
     ]
    },
    {
     "data": {
      "text/plain": [
       "{'originCollection': 'gapspecies',\n",
       " 'originID': ObjectId('59b849133339a2d2a5efafe2'),\n",
       " 'searchURL': 'https://bison.usgs.gov/api/search.json?count=1&tsn=175125'}"
      ]
     },
     "metadata": {},
     "output_type": "display_data"
    },
    {
     "name": "stdout",
     "output_type": "stream",
     "text": [
      "<pymongo.results.UpdateResult object at 0x10ab8a608>\n"
     ]
    },
    {
     "data": {
      "text/plain": [
       "{'originCollection': 'gapspecies',\n",
       " 'originID': ObjectId('59b849133339a2d2a5efafe3'),\n",
       " 'searchURL': 'https://bison.usgs.gov/api/search.json?count=1&tsn=668668'}"
      ]
     },
     "metadata": {},
     "output_type": "display_data"
    },
    {
     "name": "stdout",
     "output_type": "stream",
     "text": [
      "<pymongo.results.UpdateResult object at 0x10ab90a88>\n"
     ]
    },
    {
     "data": {
      "text/plain": [
       "{'originCollection': 'gapspecies',\n",
       " 'originID': ObjectId('59b849133339a2d2a5efafe4'),\n",
       " 'searchURL': 'https://bison.usgs.gov/api/search.json?count=1&tsn=180152'}"
      ]
     },
     "metadata": {},
     "output_type": "display_data"
    },
    {
     "name": "stdout",
     "output_type": "stream",
     "text": [
      "<pymongo.results.UpdateResult object at 0x10ab96248>\n"
     ]
    },
    {
     "data": {
      "text/plain": [
       "{'originCollection': 'gapspecies',\n",
       " 'originID': ObjectId('59b849133339a2d2a5efafe5'),\n",
       " 'searchURL': 'https://bison.usgs.gov/api/search.json?count=1&tsn=174148'}"
      ]
     },
     "metadata": {},
     "output_type": "display_data"
    },
    {
     "name": "stdout",
     "output_type": "stream",
     "text": [
      "<pymongo.results.UpdateResult object at 0x10ab9dc48>\n"
     ]
    },
    {
     "data": {
      "text/plain": [
       "{'originCollection': 'gapspecies',\n",
       " 'originID': ObjectId('59b849143339a2d2a5efafe6'),\n",
       " 'searchURL': 'https://bison.usgs.gov/api/search.json?count=1&tsn=173794'}"
      ]
     },
     "metadata": {},
     "output_type": "display_data"
    },
    {
     "name": "stdout",
     "output_type": "stream",
     "text": [
      "<pymongo.results.UpdateResult object at 0x10aba2188>\n"
     ]
    },
    {
     "data": {
      "text/plain": [
       "{'originCollection': 'gapspecies',\n",
       " 'originID': ObjectId('59b849143339a2d2a5efafe7'),\n",
       " 'searchURL': 'https://bison.usgs.gov/api/search.json?count=1&tsn=174131'}"
      ]
     },
     "metadata": {},
     "output_type": "display_data"
    },
    {
     "name": "stdout",
     "output_type": "stream",
     "text": [
      "<pymongo.results.UpdateResult object at 0x10abaa188>\n"
     ]
    },
    {
     "data": {
      "text/plain": [
       "{'originCollection': 'gapspecies',\n",
       " 'originID': ObjectId('59b849143339a2d2a5efafe8'),\n",
       " 'searchURL': 'https://bison.usgs.gov/api/search.json?count=1&tsn=173805'}"
      ]
     },
     "metadata": {},
     "output_type": "display_data"
    },
    {
     "name": "stdout",
     "output_type": "stream",
     "text": [
      "<pymongo.results.UpdateResult object at 0x10abb0088>\n"
     ]
    },
    {
     "data": {
      "text/plain": [
       "{'originCollection': 'gapspecies',\n",
       " 'originID': ObjectId('59b849153339a2d2a5efafe9'),\n",
       " 'searchURL': 'https://bison.usgs.gov/api/search.json?count=1&tsn=174226'}"
      ]
     },
     "metadata": {},
     "output_type": "display_data"
    },
    {
     "name": "stdout",
     "output_type": "stream",
     "text": [
      "<pymongo.results.UpdateResult object at 0x10abb4148>\n"
     ]
    },
    {
     "data": {
      "text/plain": [
       "{'originCollection': 'gapspecies',\n",
       " 'originID': ObjectId('59b849153339a2d2a5efafea'),\n",
       " 'searchURL': 'https://bison.usgs.gov/api/search.json?count=1&tsn=174306'}"
      ]
     },
     "metadata": {},
     "output_type": "display_data"
    },
    {
     "name": "stdout",
     "output_type": "stream",
     "text": [
      "<pymongo.results.UpdateResult object at 0x10abb4bc8>\n"
     ]
    },
    {
     "data": {
      "text/plain": [
       "{'originCollection': 'gapspecies',\n",
       " 'originID': ObjectId('59b849153339a2d2a5efafeb'),\n",
       " 'searchURL': 'https://bison.usgs.gov/api/search.json?count=1&tsn=209080'}"
      ]
     },
     "metadata": {},
     "output_type": "display_data"
    },
    {
     "name": "stdout",
     "output_type": "stream",
     "text": [
      "<pymongo.results.UpdateResult object at 0x10abbd2c8>\n"
     ]
    },
    {
     "data": {
      "text/plain": [
       "{'originCollection': 'gapspecies',\n",
       " 'originID': ObjectId('59b849153339a2d2a5efafec'),\n",
       " 'searchURL': 'https://bison.usgs.gov/api/search.json?count=1&tsn=174155'}"
      ]
     },
     "metadata": {},
     "output_type": "display_data"
    },
    {
     "name": "stdout",
     "output_type": "stream",
     "text": [
      "<pymongo.results.UpdateResult object at 0x10abc5088>\n"
     ]
    },
    {
     "data": {
      "text/plain": [
       "{'originCollection': 'gapspecies',\n",
       " 'originID': ObjectId('59b849153339a2d2a5efafed'),\n",
       " 'searchURL': 'https://bison.usgs.gov/api/search.json?count=1&tsn=174310'}"
      ]
     },
     "metadata": {},
     "output_type": "display_data"
    },
    {
     "name": "stdout",
     "output_type": "stream",
     "text": [
      "<pymongo.results.UpdateResult object at 0x10abc9188>\n"
     ]
    },
    {
     "data": {
      "text/plain": [
       "{'originCollection': 'gapspecies',\n",
       " 'originID': ObjectId('59b849153339a2d2a5efafee'),\n",
       " 'searchURL': 'https://bison.usgs.gov/api/search.json?count=1&type=scientific_name&species=Sceloporus uniformis'}"
      ]
     },
     "metadata": {},
     "output_type": "display_data"
    },
    {
     "name": "stdout",
     "output_type": "stream",
     "text": [
      "<pymongo.results.UpdateResult object at 0x10abd21c8>\n"
     ]
    },
    {
     "data": {
      "text/plain": [
       "{'originCollection': 'gapspecies',\n",
       " 'originID': ObjectId('59b849153339a2d2a5efafef'),\n",
       " 'searchURL': 'https://bison.usgs.gov/api/search.json?count=1&tsn=174146'}"
      ]
     },
     "metadata": {},
     "output_type": "display_data"
    },
    {
     "name": "stdout",
     "output_type": "stream",
     "text": [
      "<pymongo.results.UpdateResult object at 0x10abd71c8>\n"
     ]
    },
    {
     "data": {
      "text/plain": [
       "{'originCollection': 'gapspecies',\n",
       " 'originID': ObjectId('59b849163339a2d2a5efaff0'),\n",
       " 'searchURL': 'https://bison.usgs.gov/api/search.json?count=1&tsn=173802'}"
      ]
     },
     "metadata": {},
     "output_type": "display_data"
    },
    {
     "name": "stdout",
     "output_type": "stream",
     "text": [
      "<pymongo.results.UpdateResult object at 0x10abd9d08>\n"
     ]
    },
    {
     "data": {
      "text/plain": [
       "{'originCollection': 'gapspecies',\n",
       " 'originID': ObjectId('59b849163339a2d2a5efaff1'),\n",
       " 'searchURL': 'https://bison.usgs.gov/api/search.json?count=1&tsn=174331'}"
      ]
     },
     "metadata": {},
     "output_type": "display_data"
    },
    {
     "name": "stdout",
     "output_type": "stream",
     "text": [
      "<pymongo.results.UpdateResult object at 0x10abde148>\n"
     ]
    },
    {
     "data": {
      "text/plain": [
       "{'originCollection': 'gapspecies',\n",
       " 'originID': ObjectId('59b849163339a2d2a5efaff2'),\n",
       " 'searchURL': 'https://bison.usgs.gov/api/search.json?count=1&tsn=180250'}"
      ]
     },
     "metadata": {},
     "output_type": "display_data"
    },
    {
     "name": "stdout",
     "output_type": "stream",
     "text": [
      "<pymongo.results.UpdateResult object at 0x10abe80c8>\n"
     ]
    },
    {
     "data": {
      "text/plain": [
       "{'originCollection': 'gapspecies',\n",
       " 'originID': ObjectId('59b849163339a2d2a5efaff3'),\n",
       " 'searchURL': 'https://bison.usgs.gov/api/search.json?count=1&tsn=180549'}"
      ]
     },
     "metadata": {},
     "output_type": "display_data"
    },
    {
     "name": "stdout",
     "output_type": "stream",
     "text": [
      "<pymongo.results.UpdateResult object at 0x10abed608>\n"
     ]
    },
    {
     "data": {
      "text/plain": [
       "{'originCollection': 'gapspecies',\n",
       " 'originID': ObjectId('59b849163339a2d2a5efaff4'),\n",
       " 'searchURL': 'https://bison.usgs.gov/api/search.json?count=1&tsn=180222'}"
      ]
     },
     "metadata": {},
     "output_type": "display_data"
    },
    {
     "name": "stdout",
     "output_type": "stream",
     "text": [
      "<pymongo.results.UpdateResult object at 0x10abf2248>\n"
     ]
    },
    {
     "data": {
      "text/plain": [
       "{'originCollection': 'gapspecies',\n",
       " 'originID': ObjectId('59b849163339a2d2a5efaff5'),\n",
       " 'searchURL': 'https://bison.usgs.gov/api/search.json?count=1&tsn=180225'}"
      ]
     },
     "metadata": {},
     "output_type": "display_data"
    },
    {
     "name": "stdout",
     "output_type": "stream",
     "text": [
      "<pymongo.results.UpdateResult object at 0x10abfa048>\n"
     ]
    },
    {
     "data": {
      "text/plain": [
       "{'originCollection': 'gapspecies',\n",
       " 'originID': ObjectId('59b849173339a2d2a5efaff6'),\n",
       " 'searchURL': 'https://bison.usgs.gov/api/search.json?count=1&tsn=180287'}"
      ]
     },
     "metadata": {},
     "output_type": "display_data"
    },
    {
     "name": "stdout",
     "output_type": "stream",
     "text": [
      "<pymongo.results.UpdateResult object at 0x10ac001c8>\n"
     ]
    },
    {
     "data": {
      "text/plain": [
       "{'originCollection': 'gapspecies',\n",
       " 'originID': ObjectId('59b849173339a2d2a5efaff7'),\n",
       " 'searchURL': 'https://bison.usgs.gov/api/search.json?count=1&tsn=180706'}"
      ]
     },
     "metadata": {},
     "output_type": "display_data"
    },
    {
     "name": "stdout",
     "output_type": "stream",
     "text": [
      "<pymongo.results.UpdateResult object at 0x10ac05ac8>\n"
     ]
    },
    {
     "data": {
      "text/plain": [
       "{'originCollection': 'gapspecies',\n",
       " 'originID': ObjectId('59b849173339a2d2a5efaff8'),\n",
       " 'searchURL': 'https://bison.usgs.gov/api/search.json?count=1&tsn=179082'}"
      ]
     },
     "metadata": {},
     "output_type": "display_data"
    },
    {
     "name": "stdout",
     "output_type": "stream",
     "text": [
      "<pymongo.results.UpdateResult object at 0x10ac0c148>\n"
     ]
    },
    {
     "data": {
      "text/plain": [
       "{'originCollection': 'gapspecies',\n",
       " 'originID': ObjectId('59b849173339a2d2a5efaff9'),\n",
       " 'searchURL': 'https://bison.usgs.gov/api/search.json?count=1&tsn=676903'}"
      ]
     },
     "metadata": {},
     "output_type": "display_data"
    },
    {
     "name": "stdout",
     "output_type": "stream",
     "text": [
      "<pymongo.results.UpdateResult object at 0x10ac12088>\n"
     ]
    },
    {
     "data": {
      "text/plain": [
       "{'originCollection': 'gapspecies',\n",
       " 'originID': ObjectId('59b849173339a2d2a5efaffa'),\n",
       " 'searchURL': 'https://bison.usgs.gov/api/search.json?count=1&tsn=180194'}"
      ]
     },
     "metadata": {},
     "output_type": "display_data"
    },
    {
     "name": "stdout",
     "output_type": "stream",
     "text": [
      "<pymongo.results.UpdateResult object at 0x10ac14d88>\n"
     ]
    },
    {
     "data": {
      "text/plain": [
       "{'originCollection': 'gapspecies',\n",
       " 'originID': ObjectId('59b849183339a2d2a5efaffb'),\n",
       " 'searchURL': 'https://bison.usgs.gov/api/search.json?count=1&tsn=180126'}"
      ]
     },
     "metadata": {},
     "output_type": "display_data"
    },
    {
     "name": "stdout",
     "output_type": "stream",
     "text": [
      "<pymongo.results.UpdateResult object at 0x10ac19288>\n"
     ]
    },
    {
     "data": {
      "text/plain": [
       "{'originCollection': 'gapspecies',\n",
       " 'originID': ObjectId('59b849183339a2d2a5efaffc'),\n",
       " 'searchURL': 'https://bison.usgs.gov/api/search.json?count=1&tsn=685724'}"
      ]
     },
     "metadata": {},
     "output_type": "display_data"
    },
    {
     "name": "stdout",
     "output_type": "stream",
     "text": [
      "<pymongo.results.UpdateResult object at 0x10ac21088>\n"
     ]
    },
    {
     "data": {
      "text/plain": [
       "{'originCollection': 'gapspecies',\n",
       " 'originID': ObjectId('59b849183339a2d2a5efaffd'),\n",
       " 'searchURL': 'https://bison.usgs.gov/api/search.json?count=1&tsn=178785'}"
      ]
     },
     "metadata": {},
     "output_type": "display_data"
    },
    {
     "name": "stdout",
     "output_type": "stream",
     "text": [
      "<pymongo.results.UpdateResult object at 0x10ac26308>\n"
     ]
    },
    {
     "data": {
      "text/plain": [
       "{'originCollection': 'gapspecies',\n",
       " 'originID': ObjectId('59b849193339a2d2a5efaffe'),\n",
       " 'searchURL': 'https://bison.usgs.gov/api/search.json?count=1&tsn=179083'}"
      ]
     },
     "metadata": {},
     "output_type": "display_data"
    },
    {
     "name": "stdout",
     "output_type": "stream",
     "text": [
      "<pymongo.results.UpdateResult object at 0x10ac2bbc8>\n"
     ]
    },
    {
     "data": {
      "text/plain": [
       "{'originCollection': 'gapspecies',\n",
       " 'originID': ObjectId('59b849193339a2d2a5efafff'),\n",
       " 'searchURL': 'https://bison.usgs.gov/api/search.json?count=1&tsn=179454'}"
      ]
     },
     "metadata": {},
     "output_type": "display_data"
    },
    {
     "name": "stdout",
     "output_type": "stream",
     "text": [
      "<pymongo.results.UpdateResult object at 0x10ac330c8>\n"
     ]
    },
    {
     "data": {
      "text/plain": [
       "{'originCollection': 'gapspecies',\n",
       " 'originID': ObjectId('59b849193339a2d2a5efb000'),\n",
       " 'searchURL': 'https://bison.usgs.gov/api/search.json?count=1&tsn=178305'}"
      ]
     },
     "metadata": {},
     "output_type": "display_data"
    },
    {
     "name": "stdout",
     "output_type": "stream",
     "text": [
      "<pymongo.results.UpdateResult object at 0x10ac38508>\n"
     ]
    },
    {
     "data": {
      "text/plain": [
       "{'originCollection': 'gapspecies',\n",
       " 'originID': ObjectId('59b8491a3339a2d2a5efb001'),\n",
       " 'searchURL': 'https://bison.usgs.gov/api/search.json?count=1&tsn=180103'}"
      ]
     },
     "metadata": {},
     "output_type": "display_data"
    },
    {
     "name": "stdout",
     "output_type": "stream",
     "text": [
      "<pymongo.results.UpdateResult object at 0x10ac41088>\n"
     ]
    },
    {
     "data": {
      "text/plain": [
       "{'originCollection': 'gapspecies',\n",
       " 'originID': ObjectId('59b8491a3339a2d2a5efb002'),\n",
       " 'searchURL': 'https://bison.usgs.gov/api/search.json?count=1&tsn=180297'}"
      ]
     },
     "metadata": {},
     "output_type": "display_data"
    },
    {
     "name": "stdout",
     "output_type": "stream",
     "text": [
      "<pymongo.results.UpdateResult object at 0x10ac45488>\n"
     ]
    },
    {
     "data": {
      "text/plain": [
       "{'originCollection': 'gapspecies',\n",
       " 'originID': ObjectId('59b8491a3339a2d2a5efb003'),\n",
       " 'searchURL': 'https://bison.usgs.gov/api/search.json?count=1&tsn=173520'}"
      ]
     },
     "metadata": {},
     "output_type": "display_data"
    },
    {
     "name": "stdout",
     "output_type": "stream",
     "text": [
      "<pymongo.results.UpdateResult object at 0x10ac4fbc8>\n"
     ]
    },
    {
     "data": {
      "text/plain": [
       "{'originCollection': 'gapspecies',\n",
       " 'originID': ObjectId('59b8491b3339a2d2a5efb004'),\n",
       " 'searchURL': 'https://bison.usgs.gov/api/search.json?count=1&tsn=180636'}"
      ]
     },
     "metadata": {},
     "output_type": "display_data"
    },
    {
     "name": "stdout",
     "output_type": "stream",
     "text": [
      "<pymongo.results.UpdateResult object at 0x10ac550c8>\n"
     ]
    },
    {
     "data": {
      "text/plain": [
       "{'originCollection': 'gapspecies',\n",
       " 'originID': ObjectId('59b8491b3339a2d2a5efb005'),\n",
       " 'searchURL': 'https://bison.usgs.gov/api/search.json?count=1&tsn=180349'}"
      ]
     },
     "metadata": {},
     "output_type": "display_data"
    },
    {
     "name": "stdout",
     "output_type": "stream",
     "text": [
      "<pymongo.results.UpdateResult object at 0x10ac5b0c8>\n"
     ]
    },
    {
     "data": {
      "text/plain": [
       "{'originCollection': 'gapspecies',\n",
       " 'originID': ObjectId('59b8491b3339a2d2a5efb006'),\n",
       " 'searchURL': 'https://bison.usgs.gov/api/search.json?count=1&tsn=173638'}"
      ]
     },
     "metadata": {},
     "output_type": "display_data"
    },
    {
     "name": "stdout",
     "output_type": "stream",
     "text": [
      "<pymongo.results.UpdateResult object at 0x10ac60108>\n"
     ]
    },
    {
     "data": {
      "text/plain": [
       "{'originCollection': 'gapspecies',\n",
       " 'originID': ObjectId('59b8491b3339a2d2a5efb007'),\n",
       " 'searchURL': 'https://bison.usgs.gov/api/search.json?count=1&tsn=550252'}"
      ]
     },
     "metadata": {},
     "output_type": "display_data"
    },
    {
     "name": "stdout",
     "output_type": "stream",
     "text": [
      "<pymongo.results.UpdateResult object at 0x10ac60b48>\n"
     ]
    },
    {
     "data": {
      "text/plain": [
       "{'originCollection': 'gapspecies',\n",
       " 'originID': ObjectId('59b8491b3339a2d2a5efb008'),\n",
       " 'searchURL': 'https://bison.usgs.gov/api/search.json?count=1&tsn=178610'}"
      ]
     },
     "metadata": {},
     "output_type": "display_data"
    },
    {
     "name": "stdout",
     "output_type": "stream",
     "text": [
      "<pymongo.results.UpdateResult object at 0x10ac6b048>\n"
     ]
    },
    {
     "data": {
      "text/plain": [
       "{'originCollection': 'gapspecies',\n",
       " 'originID': ObjectId('59b8491c3339a2d2a5efb009'),\n",
       " 'searchURL': 'https://bison.usgs.gov/api/search.json?count=1&tsn=709803'}"
      ]
     },
     "metadata": {},
     "output_type": "display_data"
    },
    {
     "name": "stdout",
     "output_type": "stream",
     "text": [
      "<pymongo.results.UpdateResult object at 0x10ac6f248>\n"
     ]
    },
    {
     "data": {
      "text/plain": [
       "{'originCollection': 'gapspecies',\n",
       " 'originID': ObjectId('59b8491c3339a2d2a5efb00a'),\n",
       " 'searchURL': 'https://bison.usgs.gov/api/search.json?count=1&tsn=179008'}"
      ]
     },
     "metadata": {},
     "output_type": "display_data"
    },
    {
     "name": "stdout",
     "output_type": "stream",
     "text": [
      "<pymongo.results.UpdateResult object at 0x10ac76048>\n"
     ]
    },
    {
     "data": {
      "text/plain": [
       "{'originCollection': 'gapspecies',\n",
       " 'originID': ObjectId('59b8491c3339a2d2a5efb00b'),\n",
       " 'searchURL': 'https://bison.usgs.gov/api/search.json?count=1&tsn=208657'}"
      ]
     },
     "metadata": {},
     "output_type": "display_data"
    },
    {
     "name": "stdout",
     "output_type": "stream",
     "text": [
      "<pymongo.results.UpdateResult object at 0x10ac7c448>\n"
     ]
    },
    {
     "data": {
      "text/plain": [
       "{'originCollection': 'gapspecies',\n",
       " 'originID': ObjectId('59b8491c3339a2d2a5efb00c'),\n",
       " 'searchURL': 'https://bison.usgs.gov/api/search.json?count=1&tsn=173671'}"
      ]
     },
     "metadata": {},
     "output_type": "display_data"
    },
    {
     "name": "stdout",
     "output_type": "stream",
     "text": [
      "<pymongo.results.UpdateResult object at 0x10ac83148>\n"
     ]
    },
    {
     "data": {
      "text/plain": [
       "{'originCollection': 'gapspecies',\n",
       " 'originID': ObjectId('59b8491d3339a2d2a5efb00d'),\n",
       " 'searchURL': 'https://bison.usgs.gov/api/search.json?count=1&tsn=174685'}"
      ]
     },
     "metadata": {},
     "output_type": "display_data"
    },
    {
     "name": "stdout",
     "output_type": "stream",
     "text": [
      "<pymongo.results.UpdateResult object at 0x10ac83e48>\n"
     ]
    },
    {
     "data": {
      "text/plain": [
       "{'originCollection': 'gapspecies',\n",
       " 'originID': ObjectId('59b8491d3339a2d2a5efb00e'),\n",
       " 'searchURL': 'https://bison.usgs.gov/api/search.json?count=1&tsn=552503'}"
      ]
     },
     "metadata": {},
     "output_type": "display_data"
    },
    {
     "name": "stdout",
     "output_type": "stream",
     "text": [
      "<pymongo.results.UpdateResult object at 0x10ac8f1c8>\n"
     ]
    },
    {
     "data": {
      "text/plain": [
       "{'originCollection': 'gapspecies',\n",
       " 'originID': ObjectId('59b8491d3339a2d2a5efb00f'),\n",
       " 'searchURL': 'https://bison.usgs.gov/api/search.json?count=1&tsn=554025'}"
      ]
     },
     "metadata": {},
     "output_type": "display_data"
    },
    {
     "name": "stdout",
     "output_type": "stream",
     "text": [
      "<pymongo.results.UpdateResult object at 0x10ac95108>\n"
     ]
    },
    {
     "data": {
      "text/plain": [
       "{'originCollection': 'gapspecies',\n",
       " 'originID': ObjectId('59b8491d3339a2d2a5efb010'),\n",
       " 'searchURL': 'https://bison.usgs.gov/api/search.json?count=1&tsn=176971'}"
      ]
     },
     "metadata": {},
     "output_type": "display_data"
    },
    {
     "name": "stdout",
     "output_type": "stream",
     "text": [
      "<pymongo.results.UpdateResult object at 0x10ac98508>\n"
     ]
    },
    {
     "data": {
      "text/plain": [
       "{'originCollection': 'gapspecies',\n",
       " 'originID': ObjectId('59b8491e3339a2d2a5efb011'),\n",
       " 'searchURL': 'https://bison.usgs.gov/api/search.json?count=1&tsn=180014'}"
      ]
     },
     "metadata": {},
     "output_type": "display_data"
    },
    {
     "name": "stdout",
     "output_type": "stream",
     "text": [
      "<pymongo.results.UpdateResult object at 0x10ac9f088>\n"
     ]
    },
    {
     "data": {
      "text/plain": [
       "{'originCollection': 'gapspecies',\n",
       " 'originID': ObjectId('59b8491e3339a2d2a5efb012'),\n",
       " 'searchURL': 'https://bison.usgs.gov/api/search.json?count=1&tsn=176793'}"
      ]
     },
     "metadata": {},
     "output_type": "display_data"
    },
    {
     "name": "stdout",
     "output_type": "stream",
     "text": [
      "<pymongo.results.UpdateResult object at 0x10aca4248>\n"
     ]
    },
    {
     "data": {
      "text/plain": [
       "{'originCollection': 'gapspecies',\n",
       " 'originID': ObjectId('59b8491e3339a2d2a5efb013'),\n",
       " 'searchURL': 'https://bison.usgs.gov/api/search.json?count=1&tsn=178788'}"
      ]
     },
     "metadata": {},
     "output_type": "display_data"
    },
    {
     "name": "stdout",
     "output_type": "stream",
     "text": [
      "<pymongo.results.UpdateResult object at 0x10aca4fc8>\n"
     ]
    },
    {
     "data": {
      "text/plain": [
       "{'originCollection': 'gapspecies',\n",
       " 'originID': ObjectId('59b8491e3339a2d2a5efb014'),\n",
       " 'searchURL': 'https://bison.usgs.gov/api/search.json?count=1&tsn=174095'}"
      ]
     },
     "metadata": {},
     "output_type": "display_data"
    },
    {
     "name": "stdout",
     "output_type": "stream",
     "text": [
      "<pymongo.results.UpdateResult object at 0x10acac388>\n"
     ]
    },
    {
     "data": {
      "text/plain": [
       "{'originCollection': 'gapspecies',\n",
       " 'originID': ObjectId('59b8491e3339a2d2a5efb015'),\n",
       " 'searchURL': 'https://bison.usgs.gov/api/search.json?count=1&tsn=173780'}"
      ]
     },
     "metadata": {},
     "output_type": "display_data"
    },
    {
     "name": "stdout",
     "output_type": "stream",
     "text": [
      "<pymongo.results.UpdateResult object at 0x10acb6188>\n"
     ]
    },
    {
     "data": {
      "text/plain": [
       "{'originCollection': 'gapspecies',\n",
       " 'originID': ObjectId('59b8491f3339a2d2a5efb016'),\n",
       " 'searchURL': 'https://bison.usgs.gov/api/search.json?count=1&tsn=173706'}"
      ]
     },
     "metadata": {},
     "output_type": "display_data"
    },
    {
     "name": "stdout",
     "output_type": "stream",
     "text": [
      "<pymongo.results.UpdateResult object at 0x10acbd148>\n"
     ]
    },
    {
     "data": {
      "text/plain": [
       "{'originCollection': 'gapspecies',\n",
       " 'originID': ObjectId('59b8491f3339a2d2a5efb017'),\n",
       " 'searchURL': 'https://bison.usgs.gov/api/search.json?count=1&tsn=208281'}"
      ]
     },
     "metadata": {},
     "output_type": "display_data"
    },
    {
     "name": "stdout",
     "output_type": "stream",
     "text": [
      "<pymongo.results.UpdateResult object at 0x10acc4088>\n"
     ]
    },
    {
     "data": {
      "text/plain": [
       "{'originCollection': 'gapspecies',\n",
       " 'originID': ObjectId('59b8491f3339a2d2a5efb018'),\n",
       " 'searchURL': 'https://bison.usgs.gov/api/search.json?count=1&tsn=173937'}"
      ]
     },
     "metadata": {},
     "output_type": "display_data"
    },
    {
     "name": "stdout",
     "output_type": "stream",
     "text": [
      "<pymongo.results.UpdateResult object at 0x10acc9148>\n"
     ]
    },
    {
     "data": {
      "text/plain": [
       "{'originCollection': 'gapspecies',\n",
       " 'originID': ObjectId('59b849203339a2d2a5efb019'),\n",
       " 'searchURL': 'https://bison.usgs.gov/api/search.json?count=1&tsn=209147'}"
      ]
     },
     "metadata": {},
     "output_type": "display_data"
    },
    {
     "name": "stdout",
     "output_type": "stream",
     "text": [
      "<pymongo.results.UpdateResult object at 0x10acca0c8>\n"
     ]
    },
    {
     "data": {
      "text/plain": [
       "{'originCollection': 'gapspecies',\n",
       " 'originID': ObjectId('59b849203339a2d2a5efb01a'),\n",
       " 'searchURL': 'https://bison.usgs.gov/api/search.json?count=1&tsn=173856'}"
      ]
     },
     "metadata": {},
     "output_type": "display_data"
    },
    {
     "name": "stdout",
     "output_type": "stream",
     "text": [
      "<pymongo.results.UpdateResult object at 0x10acd40c8>\n"
     ]
    },
    {
     "data": {
      "text/plain": [
       "{'originCollection': 'gapspecies',\n",
       " 'originID': ObjectId('59b849203339a2d2a5efb01b'),\n",
       " 'searchURL': 'https://bison.usgs.gov/api/search.json?count=1&tsn=564574'}"
      ]
     },
     "metadata": {},
     "output_type": "display_data"
    },
    {
     "name": "stdout",
     "output_type": "stream",
     "text": [
      "<pymongo.results.UpdateResult object at 0x10acd8088>\n"
     ]
    },
    {
     "data": {
      "text/plain": [
       "{'originCollection': 'gapspecies',\n",
       " 'originID': ObjectId('59b849213339a2d2a5efb01c'),\n",
       " 'searchURL': 'https://bison.usgs.gov/api/search.json?count=1&tsn=209454'}"
      ]
     },
     "metadata": {},
     "output_type": "display_data"
    },
    {
     "name": "stdout",
     "output_type": "stream",
     "text": [
      "<pymongo.results.UpdateResult object at 0x10acdd148>\n"
     ]
    },
    {
     "data": {
      "text/plain": [
       "{'originCollection': 'gapspecies',\n",
       " 'originID': ObjectId('59b849213339a2d2a5efb01d'),\n",
       " 'searchURL': 'https://bison.usgs.gov/api/search.json?count=1&tsn=208819'}"
      ]
     },
     "metadata": {},
     "output_type": "display_data"
    },
    {
     "name": "stdout",
     "output_type": "stream",
     "text": [
      "<pymongo.results.UpdateResult object at 0x10ace2608>\n"
     ]
    },
    {
     "data": {
      "text/plain": [
       "{'originCollection': 'gapspecies',\n",
       " 'originID': ObjectId('59b849213339a2d2a5efb01e'),\n",
       " 'searchURL': 'https://bison.usgs.gov/api/search.json?count=1&tsn=683034'}"
      ]
     },
     "metadata": {},
     "output_type": "display_data"
    },
    {
     "name": "stdout",
     "output_type": "stream",
     "text": [
      "<pymongo.results.UpdateResult object at 0x10ace80c8>\n"
     ]
    },
    {
     "data": {
      "text/plain": [
       "{'originCollection': 'gapspecies',\n",
       " 'originID': ObjectId('59b849223339a2d2a5efb01f'),\n",
       " 'searchURL': 'https://bison.usgs.gov/api/search.json?count=1&tsn=178861'}"
      ]
     },
     "metadata": {},
     "output_type": "display_data"
    },
    {
     "name": "stdout",
     "output_type": "stream",
     "text": [
      "<pymongo.results.UpdateResult object at 0x10acede48>\n"
     ]
    },
    {
     "data": {
      "text/plain": [
       "{'originCollection': 'gapspecies',\n",
       " 'originID': ObjectId('59b849223339a2d2a5efb020'),\n",
       " 'searchURL': 'https://bison.usgs.gov/api/search.json?count=1&tsn=173659'}"
      ]
     },
     "metadata": {},
     "output_type": "display_data"
    },
    {
     "name": "stdout",
     "output_type": "stream",
     "text": [
      "<pymongo.results.UpdateResult object at 0x10acf5188>\n"
     ]
    },
    {
     "data": {
      "text/plain": [
       "{'originCollection': 'gapspecies',\n",
       " 'originID': ObjectId('59b849233339a2d2a5efb021'),\n",
       " 'searchURL': 'https://bison.usgs.gov/api/search.json?count=1&tsn=668241'}"
      ]
     },
     "metadata": {},
     "output_type": "display_data"
    },
    {
     "name": "stdout",
     "output_type": "stream",
     "text": [
      "<pymongo.results.UpdateResult object at 0x10acf8608>\n"
     ]
    },
    {
     "data": {
      "text/plain": [
       "{'originCollection': 'gapspecies',\n",
       " 'originID': ObjectId('59b849233339a2d2a5efb022'),\n",
       " 'searchURL': 'https://bison.usgs.gov/api/search.json?count=1&tsn=180269'}"
      ]
     },
     "metadata": {},
     "output_type": "display_data"
    },
    {
     "name": "stdout",
     "output_type": "stream",
     "text": [
      "<pymongo.results.UpdateResult object at 0x10ad01048>\n"
     ]
    },
    {
     "data": {
      "text/plain": [
       "{'originCollection': 'gapspecies',\n",
       " 'originID': ObjectId('59b849243339a2d2a5efb023'),\n",
       " 'searchURL': 'https://bison.usgs.gov/api/search.json?count=1&tsn=174803'}"
      ]
     },
     "metadata": {},
     "output_type": "display_data"
    },
    {
     "name": "stdout",
     "output_type": "stream",
     "text": [
      "<pymongo.results.UpdateResult object at 0x10ad05188>\n"
     ]
    },
    {
     "data": {
      "text/plain": [
       "{'originCollection': 'gapspecies',\n",
       " 'originID': ObjectId('59b849253339a2d2a5efb024'),\n",
       " 'searchURL': 'https://bison.usgs.gov/api/search.json?count=1&tsn=180206'}"
      ]
     },
     "metadata": {},
     "output_type": "display_data"
    },
    {
     "name": "stdout",
     "output_type": "stream",
     "text": [
      "<pymongo.results.UpdateResult object at 0x10ad0d048>\n"
     ]
    },
    {
     "data": {
      "text/plain": [
       "{'originCollection': 'gapspecies',\n",
       " 'originID': ObjectId('59b849253339a2d2a5efb025'),\n",
       " 'searchURL': 'https://bison.usgs.gov/api/search.json?count=1&tsn=178346'}"
      ]
     },
     "metadata": {},
     "output_type": "display_data"
    },
    {
     "name": "stdout",
     "output_type": "stream",
     "text": [
      "<pymongo.results.UpdateResult object at 0x10ad13308>\n"
     ]
    },
    {
     "data": {
      "text/plain": [
       "{'originCollection': 'gapspecies',\n",
       " 'originID': ObjectId('59b849263339a2d2a5efb026'),\n",
       " 'searchURL': 'https://bison.usgs.gov/api/search.json?count=1&tsn=175282'}"
      ]
     },
     "metadata": {},
     "output_type": "display_data"
    },
    {
     "name": "stdout",
     "output_type": "stream",
     "text": [
      "<pymongo.results.UpdateResult object at 0x10ad1a588>\n"
     ]
    },
    {
     "data": {
      "text/plain": [
       "{'originCollection': 'gapspecies',\n",
       " 'originID': ObjectId('59b849263339a2d2a5efb027'),\n",
       " 'searchURL': 'https://bison.usgs.gov/api/search.json?count=1&tsn=179455'}"
      ]
     },
     "metadata": {},
     "output_type": "display_data"
    },
    {
     "name": "stdout",
     "output_type": "stream",
     "text": [
      "<pymongo.results.UpdateResult object at 0x10ad20108>\n"
     ]
    },
    {
     "data": {
      "text/plain": [
       "{'originCollection': 'gapspecies',\n",
       " 'originID': ObjectId('59b849263339a2d2a5efb028'),\n",
       " 'searchURL': 'https://bison.usgs.gov/api/search.json?count=1&tsn=677541'}"
      ]
     },
     "metadata": {},
     "output_type": "display_data"
    },
    {
     "name": "stdout",
     "output_type": "stream",
     "text": [
      "<pymongo.results.UpdateResult object at 0x10ad24148>\n"
     ]
    },
    {
     "data": {
      "text/plain": [
       "{'originCollection': 'gapspecies',\n",
       " 'originID': ObjectId('59b849273339a2d2a5efb029'),\n",
       " 'searchURL': 'https://bison.usgs.gov/api/search.json?count=1&tsn=178913'}"
      ]
     },
     "metadata": {},
     "output_type": "display_data"
    },
    {
     "name": "stdout",
     "output_type": "stream",
     "text": [
      "<pymongo.results.UpdateResult object at 0x10ad284c8>\n"
     ]
    },
    {
     "data": {
      "text/plain": [
       "{'originCollection': 'gapspecies',\n",
       " 'originID': ObjectId('59b849273339a2d2a5efb02a'),\n",
       " 'searchURL': 'https://bison.usgs.gov/api/search.json?count=1&tsn=775116'}"
      ]
     },
     "metadata": {},
     "output_type": "display_data"
    },
    {
     "name": "stdout",
     "output_type": "stream",
     "text": [
      "<pymongo.results.UpdateResult object at 0x10ad300c8>\n"
     ]
    },
    {
     "data": {
      "text/plain": [
       "{'originCollection': 'gapspecies',\n",
       " 'originID': ObjectId('59b849283339a2d2a5efb02b'),\n",
       " 'searchURL': 'https://bison.usgs.gov/api/search.json?count=1&tsn=775092'}"
      ]
     },
     "metadata": {},
     "output_type": "display_data"
    },
    {
     "name": "stdout",
     "output_type": "stream",
     "text": [
      "<pymongo.results.UpdateResult object at 0x10ad34088>\n"
     ]
    },
    {
     "data": {
      "text/plain": [
       "{'originCollection': 'gapspecies',\n",
       " 'originID': ObjectId('59b849283339a2d2a5efb02c'),\n",
       " 'searchURL': 'https://bison.usgs.gov/api/search.json?count=1&tsn=173601'}"
      ]
     },
     "metadata": {},
     "output_type": "display_data"
    },
    {
     "name": "stdout",
     "output_type": "stream",
     "text": [
      "<pymongo.results.UpdateResult object at 0x10ad38148>\n"
     ]
    },
    {
     "data": {
      "text/plain": [
       "{'originCollection': 'gapspecies',\n",
       " 'originID': ObjectId('59b849283339a2d2a5efb02d'),\n",
       " 'searchURL': 'https://bison.usgs.gov/api/search.json?count=1&tsn=173670'}"
      ]
     },
     "metadata": {},
     "output_type": "display_data"
    },
    {
     "name": "stdout",
     "output_type": "stream",
     "text": [
      "<pymongo.results.UpdateResult object at 0x10ad3e508>\n"
     ]
    },
    {
     "data": {
      "text/plain": [
       "{'originCollection': 'gapspecies',\n",
       " 'originID': ObjectId('59b849283339a2d2a5efb02e'),\n",
       " 'searchURL': 'https://bison.usgs.gov/api/search.json?count=1&tsn=180235'}"
      ]
     },
     "metadata": {},
     "output_type": "display_data"
    },
    {
     "name": "stdout",
     "output_type": "stream",
     "text": [
      "<pymongo.results.UpdateResult object at 0x10ad48148>\n"
     ]
    },
    {
     "data": {
      "text/plain": [
       "{'originCollection': 'gapspecies',\n",
       " 'originID': ObjectId('59b849293339a2d2a5efb02f'),\n",
       " 'searchURL': 'https://bison.usgs.gov/api/search.json?count=1&tsn=775079'}"
      ]
     },
     "metadata": {},
     "output_type": "display_data"
    },
    {
     "name": "stdout",
     "output_type": "stream",
     "text": [
      "<pymongo.results.UpdateResult object at 0x10ad4f188>\n"
     ]
    },
    {
     "data": {
      "text/plain": [
       "{'originCollection': 'gapspecies',\n",
       " 'originID': ObjectId('59b849293339a2d2a5efb030'),\n",
       " 'searchURL': 'https://bison.usgs.gov/api/search.json?count=1&tsn=180387'}"
      ]
     },
     "metadata": {},
     "output_type": "display_data"
    },
    {
     "name": "stdout",
     "output_type": "stream",
     "text": [
      "<pymongo.results.UpdateResult object at 0x10ad52408>\n"
     ]
    },
    {
     "data": {
      "text/plain": [
       "{'originCollection': 'gapspecies',\n",
       " 'originID': ObjectId('59b849293339a2d2a5efb031'),\n",
       " 'searchURL': 'https://bison.usgs.gov/api/search.json?count=1&tsn=179936'}"
      ]
     },
     "metadata": {},
     "output_type": "display_data"
    },
    {
     "name": "stdout",
     "output_type": "stream",
     "text": [
      "<pymongo.results.UpdateResult object at 0x10ad58048>\n"
     ]
    },
    {
     "data": {
      "text/plain": [
       "{'originCollection': 'gapspecies',\n",
       " 'originID': ObjectId('59b849293339a2d2a5efb032'),\n",
       " 'searchURL': 'https://bison.usgs.gov/api/search.json?count=1&tsn=174091'}"
      ]
     },
     "metadata": {},
     "output_type": "display_data"
    },
    {
     "name": "stdout",
     "output_type": "stream",
     "text": [
      "<pymongo.results.UpdateResult object at 0x10ad5d2c8>\n"
     ]
    },
    {
     "data": {
      "text/plain": [
       "{'originCollection': 'gapspecies',\n",
       " 'originID': ObjectId('59b8492a3339a2d2a5efb033'),\n",
       " 'searchURL': 'https://bison.usgs.gov/api/search.json?count=1&tsn=176259'}"
      ]
     },
     "metadata": {},
     "output_type": "display_data"
    },
    {
     "name": "stdout",
     "output_type": "stream",
     "text": [
      "<pymongo.results.UpdateResult object at 0x10ad64088>\n"
     ]
    },
    {
     "data": {
      "text/plain": [
       "{'originCollection': 'gapspecies',\n",
       " 'originID': ObjectId('59b8492a3339a2d2a5efb034'),\n",
       " 'searchURL': 'https://bison.usgs.gov/api/search.json?count=1&tsn=180347'}"
      ]
     },
     "metadata": {},
     "output_type": "display_data"
    },
    {
     "name": "stdout",
     "output_type": "stream",
     "text": [
      "<pymongo.results.UpdateResult object at 0x10ad6a148>\n"
     ]
    },
    {
     "data": {
      "text/plain": [
       "{'originCollection': 'gapspecies',\n",
       " 'originID': ObjectId('59b8492b3339a2d2a5efb035'),\n",
       " 'searchURL': 'https://bison.usgs.gov/api/search.json?count=1&tsn=552516'}"
      ]
     },
     "metadata": {},
     "output_type": "display_data"
    },
    {
     "name": "stdout",
     "output_type": "stream",
     "text": [
      "<pymongo.results.UpdateResult object at 0x10ad6f508>\n"
     ]
    },
    {
     "data": {
      "text/plain": [
       "{'originCollection': 'gapspecies',\n",
       " 'originID': ObjectId('59b8492b3339a2d2a5efb036'),\n",
       " 'searchURL': 'https://bison.usgs.gov/api/search.json?count=1&tsn=174018'}"
      ]
     },
     "metadata": {},
     "output_type": "display_data"
    },
    {
     "name": "stdout",
     "output_type": "stream",
     "text": [
      "<pymongo.results.UpdateResult object at 0x10ad77088>\n"
     ]
    },
    {
     "data": {
      "text/plain": [
       "{'originCollection': 'gapspecies',\n",
       " 'originID': ObjectId('59b8492b3339a2d2a5efb037'),\n",
       " 'searchURL': 'https://bison.usgs.gov/api/search.json?count=1&tsn=564594'}"
      ]
     },
     "metadata": {},
     "output_type": "display_data"
    },
    {
     "name": "stdout",
     "output_type": "stream",
     "text": [
      "<pymongo.results.UpdateResult object at 0x10ad7c108>\n"
     ]
    },
    {
     "data": {
      "text/plain": [
       "{'originCollection': 'gapspecies',\n",
       " 'originID': ObjectId('59b8492c3339a2d2a5efb038'),\n",
       " 'searchURL': 'https://bison.usgs.gov/api/search.json?count=1&tsn=179979'}"
      ]
     },
     "metadata": {},
     "output_type": "display_data"
    },
    {
     "name": "stdout",
     "output_type": "stream",
     "text": [
      "<pymongo.results.UpdateResult object at 0x10ad802c8>\n"
     ]
    },
    {
     "data": {
      "text/plain": [
       "{'originCollection': 'gapspecies',\n",
       " 'originID': ObjectId('59b8492d3339a2d2a5efb039'),\n",
       " 'searchURL': 'https://bison.usgs.gov/api/search.json?count=1&tsn=180172'}"
      ]
     },
     "metadata": {},
     "output_type": "display_data"
    },
    {
     "name": "stdout",
     "output_type": "stream",
     "text": [
      "<pymongo.results.UpdateResult object at 0x10ad89088>\n"
     ]
    },
    {
     "data": {
      "text/plain": [
       "{'originCollection': 'gapspecies',\n",
       " 'originID': ObjectId('59b8492d3339a2d2a5efb03a'),\n",
       " 'searchURL': 'https://bison.usgs.gov/api/search.json?count=1&tsn=179982'}"
      ]
     },
     "metadata": {},
     "output_type": "display_data"
    },
    {
     "name": "stdout",
     "output_type": "stream",
     "text": [
      "<pymongo.results.UpdateResult object at 0x10ad8d248>\n"
     ]
    },
    {
     "data": {
      "text/plain": [
       "{'originCollection': 'gapspecies',\n",
       " 'originID': ObjectId('59b8492d3339a2d2a5efb03b'),\n",
       " 'searchURL': 'https://bison.usgs.gov/api/search.json?count=1&tsn=552519'}"
      ]
     },
     "metadata": {},
     "output_type": "display_data"
    },
    {
     "name": "stdout",
     "output_type": "stream",
     "text": [
      "<pymongo.results.UpdateResult object at 0x10ad95048>\n"
     ]
    },
    {
     "data": {
      "text/plain": [
       "{'originCollection': 'gapspecies',\n",
       " 'originID': ObjectId('59b8492e3339a2d2a5efb03c'),\n",
       " 'searchURL': 'https://bison.usgs.gov/api/search.json?count=1&tsn=180279'}"
      ]
     },
     "metadata": {},
     "output_type": "display_data"
    },
    {
     "name": "stdout",
     "output_type": "stream",
     "text": [
      "<pymongo.results.UpdateResult object at 0x10ad98108>\n"
     ]
    },
    {
     "data": {
      "text/plain": [
       "{'originCollection': 'gapspecies',\n",
       " 'originID': ObjectId('59b8492e3339a2d2a5efb03d'),\n",
       " 'searchURL': 'https://bison.usgs.gov/api/search.json?count=1&tsn=180337'}"
      ]
     },
     "metadata": {},
     "output_type": "display_data"
    },
    {
     "name": "stdout",
     "output_type": "stream",
     "text": [
      "<pymongo.results.UpdateResult object at 0x10ada10c8>\n"
     ]
    },
    {
     "data": {
      "text/plain": [
       "{'originCollection': 'gapspecies',\n",
       " 'originID': ObjectId('59b8492e3339a2d2a5efb03e'),\n",
       " 'searchURL': 'https://bison.usgs.gov/api/search.json?count=1&tsn=180374'}"
      ]
     },
     "metadata": {},
     "output_type": "display_data"
    },
    {
     "name": "stdout",
     "output_type": "stream",
     "text": [
      "<pymongo.results.UpdateResult object at 0x10ada8108>\n"
     ]
    },
    {
     "data": {
      "text/plain": [
       "{'originCollection': 'gapspecies',\n",
       " 'originID': ObjectId('59b8492f3339a2d2a5efb03f'),\n",
       " 'searchURL': 'https://bison.usgs.gov/api/search.json?count=1&tsn=180012'}"
      ]
     },
     "metadata": {},
     "output_type": "display_data"
    },
    {
     "name": "stdout",
     "output_type": "stream",
     "text": [
      "<pymongo.results.UpdateResult object at 0x10adad108>\n"
     ]
    },
    {
     "data": {
      "text/plain": [
       "{'originCollection': 'gapspecies',\n",
       " 'originID': ObjectId('59b8492f3339a2d2a5efb040'),\n",
       " 'searchURL': 'https://bison.usgs.gov/api/search.json?count=1&tsn=173675'}"
      ]
     },
     "metadata": {},
     "output_type": "display_data"
    },
    {
     "name": "stdout",
     "output_type": "stream",
     "text": [
      "<pymongo.results.UpdateResult object at 0x10adb3088>\n"
     ]
    },
    {
     "data": {
      "text/plain": [
       "{'originCollection': 'gapspecies',\n",
       " 'originID': ObjectId('59b8492f3339a2d2a5efb041'),\n",
       " 'searchURL': 'https://bison.usgs.gov/api/search.json?count=1&tsn=180153'}"
      ]
     },
     "metadata": {},
     "output_type": "display_data"
    },
    {
     "name": "stdout",
     "output_type": "stream",
     "text": [
      "<pymongo.results.UpdateResult object at 0x10adb7608>\n"
     ]
    },
    {
     "data": {
      "text/plain": [
       "{'originCollection': 'gapspecies',\n",
       " 'originID': ObjectId('59b8492f3339a2d2a5efb042'),\n",
       " 'searchURL': 'https://bison.usgs.gov/api/search.json?count=1&tsn=179045'}"
      ]
     },
     "metadata": {},
     "output_type": "display_data"
    },
    {
     "name": "stdout",
     "output_type": "stream",
     "text": [
      "<pymongo.results.UpdateResult object at 0x10adbb548>\n"
     ]
    },
    {
     "data": {
      "text/plain": [
       "{'originCollection': 'gapspecies',\n",
       " 'originID': ObjectId('59b849303339a2d2a5efb043'),\n",
       " 'searchURL': 'https://bison.usgs.gov/api/search.json?count=1&tsn=177023'}"
      ]
     },
     "metadata": {},
     "output_type": "display_data"
    },
    {
     "name": "stdout",
     "output_type": "stream",
     "text": [
      "<pymongo.results.UpdateResult object at 0x10adc3088>\n"
     ]
    },
    {
     "data": {
      "text/plain": [
       "{'originCollection': 'gapspecies',\n",
       " 'originID': ObjectId('59b849303339a2d2a5efb044'),\n",
       " 'searchURL': 'https://bison.usgs.gov/api/search.json?count=1&tsn=176734'}"
      ]
     },
     "metadata": {},
     "output_type": "display_data"
    },
    {
     "name": "stdout",
     "output_type": "stream",
     "text": [
      "<pymongo.results.UpdateResult object at 0x10adc8188>\n"
     ]
    },
    {
     "data": {
      "text/plain": [
       "{'originCollection': 'gapspecies',\n",
       " 'originID': ObjectId('59b849303339a2d2a5efb045'),\n",
       " 'searchURL': 'https://bison.usgs.gov/api/search.json?count=1&tsn=175373'}"
      ]
     },
     "metadata": {},
     "output_type": "display_data"
    },
    {
     "name": "stdout",
     "output_type": "stream",
     "text": [
      "<pymongo.results.UpdateResult object at 0x10add0088>\n"
     ]
    },
    {
     "data": {
      "text/plain": [
       "{'originCollection': 'gapspecies',\n",
       " 'originID': ObjectId('59b849313339a2d2a5efb046'),\n",
       " 'searchURL': 'https://bison.usgs.gov/api/search.json?count=1&tsn=179779'}"
      ]
     },
     "metadata": {},
     "output_type": "display_data"
    },
    {
     "name": "stdout",
     "output_type": "stream",
     "text": [
      "<pymongo.results.UpdateResult object at 0x10add51c8>\n"
     ]
    },
    {
     "data": {
      "text/plain": [
       "{'originCollection': 'gapspecies',\n",
       " 'originID': ObjectId('59b849313339a2d2a5efb047'),\n",
       " 'searchURL': 'https://bison.usgs.gov/api/search.json?count=1&tsn=176821'}"
      ]
     },
     "metadata": {},
     "output_type": "display_data"
    },
    {
     "name": "stdout",
     "output_type": "stream",
     "text": [
      "<pymongo.results.UpdateResult object at 0x10adde088>\n"
     ]
    },
    {
     "data": {
      "text/plain": [
       "{'originCollection': 'gapspecies',\n",
       " 'originID': ObjectId('59b849313339a2d2a5efb048'),\n",
       " 'searchURL': 'https://bison.usgs.gov/api/search.json?count=1&tsn=173776'}"
      ]
     },
     "metadata": {},
     "output_type": "display_data"
    },
    {
     "name": "stdout",
     "output_type": "stream",
     "text": [
      "<pymongo.results.UpdateResult object at 0x10addfec8>\n"
     ]
    },
    {
     "data": {
      "text/plain": [
       "{'originCollection': 'gapspecies',\n",
       " 'originID': ObjectId('59b849313339a2d2a5efb049'),\n",
       " 'searchURL': 'https://bison.usgs.gov/api/search.json?count=1&tsn=179019'}"
      ]
     },
     "metadata": {},
     "output_type": "display_data"
    },
    {
     "name": "stdout",
     "output_type": "stream",
     "text": [
      "<pymongo.results.UpdateResult object at 0x10ade6488>\n"
     ]
    },
    {
     "data": {
      "text/plain": [
       "{'originCollection': 'gapspecies',\n",
       " 'originID': ObjectId('59b849313339a2d2a5efb04a'),\n",
       " 'searchURL': 'https://bison.usgs.gov/api/search.json?count=1&tsn=180547'}"
      ]
     },
     "metadata": {},
     "output_type": "display_data"
    },
    {
     "name": "stdout",
     "output_type": "stream",
     "text": [
      "<pymongo.results.UpdateResult object at 0x10adee088>\n"
     ]
    },
    {
     "data": {
      "text/plain": [
       "{'originCollection': 'gapspecies',\n",
       " 'originID': ObjectId('59b849323339a2d2a5efb04b'),\n",
       " 'searchURL': 'https://bison.usgs.gov/api/search.json?count=1&tsn=174474'}"
      ]
     },
     "metadata": {},
     "output_type": "display_data"
    },
    {
     "name": "stdout",
     "output_type": "stream",
     "text": [
      "<pymongo.results.UpdateResult object at 0x10adf1108>\n"
     ]
    },
    {
     "data": {
      "text/plain": [
       "{'originCollection': 'gapspecies',\n",
       " 'originID': ObjectId('59b849323339a2d2a5efb04c'),\n",
       " 'searchURL': 'https://bison.usgs.gov/api/search.json?count=1&tsn=552485'}"
      ]
     },
     "metadata": {},
     "output_type": "display_data"
    },
    {
     "name": "stdout",
     "output_type": "stream",
     "text": [
      "<pymongo.results.UpdateResult object at 0x10adf8188>\n"
     ]
    },
    {
     "data": {
      "text/plain": [
       "{'originCollection': 'gapspecies',\n",
       " 'originID': ObjectId('59b849323339a2d2a5efb04d'),\n",
       " 'searchURL': 'https://bison.usgs.gov/api/search.json?count=1&tsn=552470'}"
      ]
     },
     "metadata": {},
     "output_type": "display_data"
    },
    {
     "name": "stdout",
     "output_type": "stream",
     "text": [
      "<pymongo.results.UpdateResult object at 0x10adfe048>\n"
     ]
    },
    {
     "data": {
      "text/plain": [
       "{'originCollection': 'gapspecies',\n",
       " 'originID': ObjectId('59b849323339a2d2a5efb04e'),\n",
       " 'searchURL': 'https://bison.usgs.gov/api/search.json?count=1&tsn=180290'}"
      ]
     },
     "metadata": {},
     "output_type": "display_data"
    },
    {
     "name": "stdout",
     "output_type": "stream",
     "text": [
      "<pymongo.results.UpdateResult object at 0x10ae02188>\n"
     ]
    },
    {
     "data": {
      "text/plain": [
       "{'originCollection': 'gapspecies',\n",
       " 'originID': ObjectId('59b849333339a2d2a5efb04f'),\n",
       " 'searchURL': 'https://bison.usgs.gov/api/search.json?count=1&tsn=178614'}"
      ]
     },
     "metadata": {},
     "output_type": "display_data"
    },
    {
     "name": "stdout",
     "output_type": "stream",
     "text": [
      "<pymongo.results.UpdateResult object at 0x10ae0c148>\n"
     ]
    },
    {
     "data": {
      "text/plain": [
       "{'originCollection': 'gapspecies',\n",
       " 'originID': ObjectId('59b849333339a2d2a5efb050'),\n",
       " 'searchURL': 'https://bison.usgs.gov/api/search.json?count=1&tsn=554382'}"
      ]
     },
     "metadata": {},
     "output_type": "display_data"
    },
    {
     "name": "stdout",
     "output_type": "stream",
     "text": [
      "<pymongo.results.UpdateResult object at 0x10ae10108>\n"
     ]
    },
    {
     "data": {
      "text/plain": [
       "{'originCollection': 'gapspecies',\n",
       " 'originID': ObjectId('59b849343339a2d2a5efb051'),\n",
       " 'searchURL': 'https://bison.usgs.gov/api/search.json?count=1&tsn=174717'}"
      ]
     },
     "metadata": {},
     "output_type": "display_data"
    },
    {
     "name": "stdout",
     "output_type": "stream",
     "text": [
      "<pymongo.results.UpdateResult object at 0x10ae170c8>\n"
     ]
    },
    {
     "data": {
      "text/plain": [
       "{'originCollection': 'gapspecies',\n",
       " 'originID': ObjectId('59b849343339a2d2a5efb052'),\n",
       " 'searchURL': 'https://bison.usgs.gov/api/search.json?count=1&tsn=175622'}"
      ]
     },
     "metadata": {},
     "output_type": "display_data"
    },
    {
     "name": "stdout",
     "output_type": "stream",
     "text": [
      "<pymongo.results.UpdateResult object at 0x10ae1d108>\n"
     ]
    },
    {
     "data": {
      "text/plain": [
       "{'originCollection': 'gapspecies',\n",
       " 'originID': ObjectId('59b849353339a2d2a5efb053'),\n",
       " 'searchURL': 'https://bison.usgs.gov/api/search.json?count=1&tsn=573578'}"
      ]
     },
     "metadata": {},
     "output_type": "display_data"
    },
    {
     "name": "stdout",
     "output_type": "stream",
     "text": [
      "<pymongo.results.UpdateResult object at 0x10ae241c8>\n"
     ]
    },
    {
     "data": {
      "text/plain": [
       "{'originCollection': 'gapspecies',\n",
       " 'originID': ObjectId('59b849353339a2d2a5efb054'),\n",
       " 'searchURL': 'https://bison.usgs.gov/api/search.json?count=1&tsn=173643'}"
      ]
     },
     "metadata": {},
     "output_type": "display_data"
    },
    {
     "name": "stdout",
     "output_type": "stream",
     "text": [
      "<pymongo.results.UpdateResult object at 0x10ae28088>\n"
     ]
    },
    {
     "data": {
      "text/plain": [
       "{'originCollection': 'gapspecies',\n",
       " 'originID': ObjectId('59b849353339a2d2a5efb055'),\n",
       " 'searchURL': 'https://bison.usgs.gov/api/search.json?count=1&tsn=178536'}"
      ]
     },
     "metadata": {},
     "output_type": "display_data"
    },
    {
     "name": "stdout",
     "output_type": "stream",
     "text": [
      "<pymongo.results.UpdateResult object at 0x10ae2d108>\n"
     ]
    },
    {
     "data": {
      "text/plain": [
       "{'originCollection': 'gapspecies',\n",
       " 'originID': ObjectId('59b849363339a2d2a5efb056'),\n",
       " 'searchURL': 'https://bison.usgs.gov/api/search.json?count=1&tsn=208677'}"
      ]
     },
     "metadata": {},
     "output_type": "display_data"
    },
    {
     "name": "stdout",
     "output_type": "stream",
     "text": [
      "<pymongo.results.UpdateResult object at 0x10ae31908>\n"
     ]
    },
    {
     "data": {
      "text/plain": [
       "{'originCollection': 'gapspecies',\n",
       " 'originID': ObjectId('59b849363339a2d2a5efb057'),\n",
       " 'searchURL': 'https://bison.usgs.gov/api/search.json?count=1&tsn=209455'}"
      ]
     },
     "metadata": {},
     "output_type": "display_data"
    },
    {
     "name": "stdout",
     "output_type": "stream",
     "text": [
      "<pymongo.results.UpdateResult object at 0x10ae3b108>\n"
     ]
    },
    {
     "data": {
      "text/plain": [
       "{'originCollection': 'gapspecies',\n",
       " 'originID': ObjectId('59b849363339a2d2a5efb058'),\n",
       " 'searchURL': 'https://bison.usgs.gov/api/search.json?count=1&tsn=174284'}"
      ]
     },
     "metadata": {},
     "output_type": "display_data"
    },
    {
     "name": "stdout",
     "output_type": "stream",
     "text": [
      "<pymongo.results.UpdateResult object at 0x10ae3d1c8>\n"
     ]
    },
    {
     "data": {
      "text/plain": [
       "{'originCollection': 'gapspecies',\n",
       " 'originID': ObjectId('59b849373339a2d2a5efb059'),\n",
       " 'searchURL': 'https://bison.usgs.gov/api/search.json?count=1&tsn=174151'}"
      ]
     },
     "metadata": {},
     "output_type": "display_data"
    },
    {
     "name": "stdout",
     "output_type": "stream",
     "text": [
      "<pymongo.results.UpdateResult object at 0x10ae46188>\n"
     ]
    },
    {
     "data": {
      "text/plain": [
       "{'originCollection': 'gapspecies',\n",
       " 'originID': ObjectId('59b849373339a2d2a5efb05a'),\n",
       " 'searchURL': 'https://bison.usgs.gov/api/search.json?count=1&tsn=173880'}"
      ]
     },
     "metadata": {},
     "output_type": "display_data"
    },
    {
     "name": "stdout",
     "output_type": "stream",
     "text": [
      "<pymongo.results.UpdateResult object at 0x10ae4a548>\n"
     ]
    },
    {
     "data": {
      "text/plain": [
       "{'originCollection': 'gapspecies',\n",
       " 'originID': ObjectId('59b849373339a2d2a5efb05b'),\n",
       " 'searchURL': 'https://bison.usgs.gov/api/search.json?count=1&tsn=174164'}"
      ]
     },
     "metadata": {},
     "output_type": "display_data"
    },
    {
     "name": "stdout",
     "output_type": "stream",
     "text": [
      "<pymongo.results.UpdateResult object at 0x10ae51208>\n"
     ]
    },
    {
     "data": {
      "text/plain": [
       "{'originCollection': 'gapspecies',\n",
       " 'originID': ObjectId('59b849373339a2d2a5efb05c'),\n",
       " 'searchURL': 'https://bison.usgs.gov/api/search.json?count=1&tsn=173660'}"
      ]
     },
     "metadata": {},
     "output_type": "display_data"
    },
    {
     "name": "stdout",
     "output_type": "stream",
     "text": [
      "<pymongo.results.UpdateResult object at 0x10ae580c8>\n"
     ]
    },
    {
     "data": {
      "text/plain": [
       "{'originCollection': 'gapspecies',\n",
       " 'originID': ObjectId('59b849383339a2d2a5efb05d'),\n",
       " 'searchURL': 'https://bison.usgs.gov/api/search.json?count=1&tsn=174263'}"
      ]
     },
     "metadata": {},
     "output_type": "display_data"
    },
    {
     "name": "stdout",
     "output_type": "stream",
     "text": [
      "<pymongo.results.UpdateResult object at 0x10ae5d088>\n"
     ]
    },
    {
     "data": {
      "text/plain": [
       "{'originCollection': 'gapspecies',\n",
       " 'originID': ObjectId('59b849383339a2d2a5efb05e'),\n",
       " 'searchURL': 'https://bison.usgs.gov/api/search.json?count=1&tsn=179165'}"
      ]
     },
     "metadata": {},
     "output_type": "display_data"
    },
    {
     "name": "stdout",
     "output_type": "stream",
     "text": [
      "<pymongo.results.UpdateResult object at 0x10ae63088>\n"
     ]
    },
    {
     "data": {
      "text/plain": [
       "{'originCollection': 'gapspecies',\n",
       " 'originID': ObjectId('59b849383339a2d2a5efb05f'),\n",
       " 'searchURL': 'https://bison.usgs.gov/api/search.json?count=1&tsn=175402'}"
      ]
     },
     "metadata": {},
     "output_type": "display_data"
    },
    {
     "name": "stdout",
     "output_type": "stream",
     "text": [
      "<pymongo.results.UpdateResult object at 0x10ae66108>\n"
     ]
    },
    {
     "data": {
      "text/plain": [
       "{'originCollection': 'gapspecies',\n",
       " 'originID': ObjectId('59b849393339a2d2a5efb060'),\n",
       " 'searchURL': 'https://bison.usgs.gov/api/search.json?count=1&tsn=178625'}"
      ]
     },
     "metadata": {},
     "output_type": "display_data"
    },
    {
     "name": "stdout",
     "output_type": "stream",
     "text": [
      "<pymongo.results.UpdateResult object at 0x10ae6c888>\n"
     ]
    },
    {
     "data": {
      "text/plain": [
       "{'originCollection': 'gapspecies',\n",
       " 'originID': ObjectId('59b849393339a2d2a5efb061'),\n",
       " 'searchURL': 'https://bison.usgs.gov/api/search.json?count=1&tsn=176574'}"
      ]
     },
     "metadata": {},
     "output_type": "display_data"
    },
    {
     "name": "stdout",
     "output_type": "stream",
     "text": [
      "<pymongo.results.UpdateResult object at 0x10ae731c8>\n"
     ]
    },
    {
     "data": {
      "text/plain": [
       "{'originCollection': 'gapspecies',\n",
       " 'originID': ObjectId('59b849393339a2d2a5efb062'),\n",
       " 'searchURL': 'https://bison.usgs.gov/api/search.json?count=1&tsn=176263'}"
      ]
     },
     "metadata": {},
     "output_type": "display_data"
    },
    {
     "name": "stdout",
     "output_type": "stream",
     "text": [
      "<pymongo.results.UpdateResult object at 0x10ae777c8>\n"
     ]
    },
    {
     "data": {
      "text/plain": [
       "{'originCollection': 'gapspecies',\n",
       " 'originID': ObjectId('59b849393339a2d2a5efb063'),\n",
       " 'searchURL': 'https://bison.usgs.gov/api/search.json?count=1&tsn=179094'}"
      ]
     },
     "metadata": {},
     "output_type": "display_data"
    },
    {
     "name": "stdout",
     "output_type": "stream",
     "text": [
      "<pymongo.results.UpdateResult object at 0x10ae7f188>\n"
     ]
    },
    {
     "data": {
      "text/plain": [
       "{'originCollection': 'gapspecies',\n",
       " 'originID': ObjectId('59b8493a3339a2d2a5efb064'),\n",
       " 'searchURL': 'https://bison.usgs.gov/api/search.json?count=1&tsn=178309'}"
      ]
     },
     "metadata": {},
     "output_type": "display_data"
    },
    {
     "name": "stdout",
     "output_type": "stream",
     "text": [
      "<pymongo.results.UpdateResult object at 0x10ae86188>\n"
     ]
    },
    {
     "data": {
      "text/plain": [
       "{'originCollection': 'gapspecies',\n",
       " 'originID': ObjectId('59b8493a3339a2d2a5efb065'),\n",
       " 'searchURL': 'https://bison.usgs.gov/api/search.json?count=1&tsn=972933'}"
      ]
     },
     "metadata": {},
     "output_type": "display_data"
    },
    {
     "name": "stdout",
     "output_type": "stream",
     "text": [
      "<pymongo.results.UpdateResult object at 0x10ae8b088>\n"
     ]
    },
    {
     "data": {
      "text/plain": [
       "{'originCollection': 'gapspecies',\n",
       " 'originID': ObjectId('59b8493a3339a2d2a5efb066'),\n",
       " 'searchURL': 'https://bison.usgs.gov/api/search.json?count=1&tsn=180081'}"
      ]
     },
     "metadata": {},
     "output_type": "display_data"
    },
    {
     "name": "stdout",
     "output_type": "stream",
     "text": [
      "<pymongo.results.UpdateResult object at 0x10ae93248>\n"
     ]
    },
    {
     "data": {
      "text/plain": [
       "{'originCollection': 'gapspecies',\n",
       " 'originID': ObjectId('59b8493a3339a2d2a5efb067'),\n",
       " 'searchURL': 'https://bison.usgs.gov/api/search.json?count=1&tsn=180141'}"
      ]
     },
     "metadata": {},
     "output_type": "display_data"
    },
    {
     "name": "stdout",
     "output_type": "stream",
     "text": [
      "<pymongo.results.UpdateResult object at 0x10ae973c8>\n"
     ]
    },
    {
     "data": {
      "text/plain": [
       "{'originCollection': 'gapspecies',\n",
       " 'originID': ObjectId('59b8493b3339a2d2a5efb068'),\n",
       " 'searchURL': 'https://bison.usgs.gov/api/search.json?count=1&tsn=180085'}"
      ]
     },
     "metadata": {},
     "output_type": "display_data"
    },
    {
     "name": "stdout",
     "output_type": "stream",
     "text": [
      "<pymongo.results.UpdateResult object at 0x10ae9f5c8>\n"
     ]
    },
    {
     "data": {
      "text/plain": [
       "{'originCollection': 'gapspecies',\n",
       " 'originID': ObjectId('59b8493b3339a2d2a5efb069'),\n",
       " 'searchURL': 'https://bison.usgs.gov/api/search.json?count=1&tsn=554456'}"
      ]
     },
     "metadata": {},
     "output_type": "display_data"
    },
    {
     "name": "stdout",
     "output_type": "stream",
     "text": [
      "<pymongo.results.UpdateResult object at 0x10aea4188>\n"
     ]
    },
    {
     "data": {
      "text/plain": [
       "{'originCollection': 'gapspecies',\n",
       " 'originID': ObjectId('59b8493b3339a2d2a5efb06a'),\n",
       " 'searchURL': 'https://bison.usgs.gov/api/search.json?count=1&tsn=176839'}"
      ]
     },
     "metadata": {},
     "output_type": "display_data"
    },
    {
     "name": "stdout",
     "output_type": "stream",
     "text": [
      "<pymongo.results.UpdateResult object at 0x10aea8908>\n"
     ]
    },
    {
     "data": {
      "text/plain": [
       "{'originCollection': 'gapspecies',\n",
       " 'originID': ObjectId('59b8493c3339a2d2a5efb06b'),\n",
       " 'searchURL': 'https://bison.usgs.gov/api/search.json?count=1&tsn=209635'}"
      ]
     },
     "metadata": {},
     "output_type": "display_data"
    },
    {
     "name": "stdout",
     "output_type": "stream",
     "text": [
      "<pymongo.results.UpdateResult object at 0x10aeb2088>\n"
     ]
    },
    {
     "data": {
      "text/plain": [
       "{'originCollection': 'gapspecies',\n",
       " 'originID': ObjectId('59b8493c3339a2d2a5efb06c'),\n",
       " 'searchURL': 'https://bison.usgs.gov/api/search.json?count=1&tsn=178001'}"
      ]
     },
     "metadata": {},
     "output_type": "display_data"
    },
    {
     "name": "stdout",
     "output_type": "stream",
     "text": [
      "<pymongo.results.UpdateResult object at 0x10aeb7548>\n"
     ]
    },
    {
     "data": {
      "text/plain": [
       "{'originCollection': 'gapspecies',\n",
       " 'originID': ObjectId('59b8493d3339a2d2a5efb06d'),\n",
       " 'searchURL': 'https://bison.usgs.gov/api/search.json?count=1&tsn=180382'}"
      ]
     },
     "metadata": {},
     "output_type": "display_data"
    },
    {
     "name": "stdout",
     "output_type": "stream",
     "text": [
      "<pymongo.results.UpdateResult object at 0x10aeb7888>\n"
     ]
    },
    {
     "data": {
      "text/plain": [
       "{'originCollection': 'gapspecies',\n",
       " 'originID': ObjectId('59b8493d3339a2d2a5efb06e'),\n",
       " 'searchURL': 'https://bison.usgs.gov/api/search.json?count=1&tsn=180368'}"
      ]
     },
     "metadata": {},
     "output_type": "display_data"
    },
    {
     "name": "stdout",
     "output_type": "stream",
     "text": [
      "<pymongo.results.UpdateResult object at 0x10aebe2c8>\n"
     ]
    },
    {
     "data": {
      "text/plain": [
       "{'originCollection': 'gapspecies',\n",
       " 'originID': ObjectId('59b8493e3339a2d2a5efb06f'),\n",
       " 'searchURL': 'https://bison.usgs.gov/api/search.json?count=1&tsn=552498'}"
      ]
     },
     "metadata": {},
     "output_type": "display_data"
    },
    {
     "name": "stdout",
     "output_type": "stream",
     "text": [
      "<pymongo.results.UpdateResult object at 0x10aec60c8>\n"
     ]
    },
    {
     "data": {
      "text/plain": [
       "{'originCollection': 'gapspecies',\n",
       " 'originID': ObjectId('59b8493e3339a2d2a5efb070'),\n",
       " 'searchURL': 'https://bison.usgs.gov/api/search.json?count=1&tsn=180186'}"
      ]
     },
     "metadata": {},
     "output_type": "display_data"
    },
    {
     "name": "stdout",
     "output_type": "stream",
     "text": [
      "<pymongo.results.UpdateResult object at 0x10aecb148>\n"
     ]
    },
    {
     "data": {
      "text/plain": [
       "{'originCollection': 'gapspecies',\n",
       " 'originID': ObjectId('59b8493e3339a2d2a5efb071'),\n",
       " 'searchURL': 'https://bison.usgs.gov/api/search.json?count=1&tsn=178654'}"
      ]
     },
     "metadata": {},
     "output_type": "display_data"
    },
    {
     "name": "stdout",
     "output_type": "stream",
     "text": [
      "<pymongo.results.UpdateResult object at 0x10aed1508>\n"
     ]
    },
    {
     "data": {
      "text/plain": [
       "{'originCollection': 'gapspecies',\n",
       " 'originID': ObjectId('59b8493e3339a2d2a5efb072'),\n",
       " 'searchURL': 'https://bison.usgs.gov/api/search.json?count=1&tsn=208322'}"
      ]
     },
     "metadata": {},
     "output_type": "display_data"
    },
    {
     "name": "stdout",
     "output_type": "stream",
     "text": [
      "<pymongo.results.UpdateResult object at 0x10aed9148>\n"
     ]
    },
    {
     "data": {
      "text/plain": [
       "{'originCollection': 'gapspecies',\n",
       " 'originID': ObjectId('59b8493f3339a2d2a5efb073'),\n",
       " 'searchURL': 'https://bison.usgs.gov/api/search.json?count=1&tsn=552521'}"
      ]
     },
     "metadata": {},
     "output_type": "display_data"
    },
    {
     "name": "stdout",
     "output_type": "stream",
     "text": [
      "<pymongo.results.UpdateResult object at 0x10aedf0c8>\n"
     ]
    },
    {
     "data": {
      "text/plain": [
       "{'originCollection': 'gapspecies',\n",
       " 'originID': ObjectId('59b8493f3339a2d2a5efb074'),\n",
       " 'searchURL': 'https://bison.usgs.gov/api/search.json?count=1&tsn=179991'}"
      ]
     },
     "metadata": {},
     "output_type": "display_data"
    },
    {
     "name": "stdout",
     "output_type": "stream",
     "text": [
      "<pymongo.results.UpdateResult object at 0x10aee4108>\n"
     ]
    },
    {
     "data": {
      "text/plain": [
       "{'originCollection': 'gapspecies',\n",
       " 'originID': ObjectId('59b849403339a2d2a5efb075'),\n",
       " 'searchURL': 'https://bison.usgs.gov/api/search.json?count=1&tsn=176679'}"
      ]
     },
     "metadata": {},
     "output_type": "display_data"
    },
    {
     "name": "stdout",
     "output_type": "stream",
     "text": [
      "<pymongo.results.UpdateResult object at 0x10aee4d88>\n"
     ]
    },
    {
     "data": {
      "text/plain": [
       "{'originCollection': 'gapspecies',\n",
       " 'originID': ObjectId('59b849403339a2d2a5efb076'),\n",
       " 'searchURL': 'https://bison.usgs.gov/api/search.json?count=1&tsn=178630'}"
      ]
     },
     "metadata": {},
     "output_type": "display_data"
    },
    {
     "name": "stdout",
     "output_type": "stream",
     "text": [
      "<pymongo.results.UpdateResult object at 0x10aeeb348>\n"
     ]
    },
    {
     "data": {
      "text/plain": [
       "{'originCollection': 'gapspecies',\n",
       " 'originID': ObjectId('59b849413339a2d2a5efb077'),\n",
       " 'searchURL': 'https://bison.usgs.gov/api/search.json?count=1&tsn=176675'}"
      ]
     },
     "metadata": {},
     "output_type": "display_data"
    },
    {
     "name": "stdout",
     "output_type": "stream",
     "text": [
      "<pymongo.results.UpdateResult object at 0x10aef45c8>\n"
     ]
    },
    {
     "data": {
      "text/plain": [
       "{'originCollection': 'gapspecies',\n",
       " 'originID': ObjectId('59b849413339a2d2a5efb078'),\n",
       " 'searchURL': 'https://bison.usgs.gov/api/search.json?count=1&tsn=176510'}"
      ]
     },
     "metadata": {},
     "output_type": "display_data"
    },
    {
     "name": "stdout",
     "output_type": "stream",
     "text": [
      "<pymongo.results.UpdateResult object at 0x10aefa088>\n"
     ]
    },
    {
     "data": {
      "text/plain": [
       "{'originCollection': 'gapspecies',\n",
       " 'originID': ObjectId('59b849413339a2d2a5efb079'),\n",
       " 'searchURL': 'https://bison.usgs.gov/api/search.json?count=1&tsn=173709'}"
      ]
     },
     "metadata": {},
     "output_type": "display_data"
    },
    {
     "name": "stdout",
     "output_type": "stream",
     "text": [
      "<pymongo.results.UpdateResult object at 0x10af01148>\n"
     ]
    },
    {
     "data": {
      "text/plain": [
       "{'originCollection': 'gapspecies',\n",
       " 'originID': ObjectId('59b849423339a2d2a5efb07a'),\n",
       " 'searchURL': 'https://bison.usgs.gov/api/search.json?count=1&tsn=775086'}"
      ]
     },
     "metadata": {},
     "output_type": "display_data"
    },
    {
     "name": "stdout",
     "output_type": "stream",
     "text": [
      "<pymongo.results.UpdateResult object at 0x10af090c8>\n"
     ]
    },
    {
     "data": {
      "text/plain": [
       "{'originCollection': 'gapspecies',\n",
       " 'originID': ObjectId('59b849423339a2d2a5efb07b'),\n",
       " 'searchURL': 'https://bison.usgs.gov/api/search.json?count=1&tsn=174628'}"
      ]
     },
     "metadata": {},
     "output_type": "display_data"
    },
    {
     "name": "stdout",
     "output_type": "stream",
     "text": [
      "<pymongo.results.UpdateResult object at 0x10af0d0c8>\n"
     ]
    },
    {
     "data": {
      "text/plain": [
       "{'originCollection': 'gapspecies',\n",
       " 'originID': ObjectId('59b849423339a2d2a5efb07c'),\n",
       " 'searchURL': 'https://bison.usgs.gov/api/search.json?count=1&tsn=176923'}"
      ]
     },
     "metadata": {},
     "output_type": "display_data"
    },
    {
     "name": "stdout",
     "output_type": "stream",
     "text": [
      "<pymongo.results.UpdateResult object at 0x10af12408>\n"
     ]
    },
    {
     "data": {
      "text/plain": [
       "{'originCollection': 'gapspecies',\n",
       " 'originID': ObjectId('59b849433339a2d2a5efb07d'),\n",
       " 'searchURL': 'https://bison.usgs.gov/api/search.json?count=1&tsn=173524'}"
      ]
     },
     "metadata": {},
     "output_type": "display_data"
    },
    {
     "name": "stdout",
     "output_type": "stream",
     "text": [
      "<pymongo.results.UpdateResult object at 0x10af18088>\n"
     ]
    },
    {
     "data": {
      "text/plain": [
       "{'originCollection': 'gapspecies',\n",
       " 'originID': ObjectId('59b849433339a2d2a5efb07e'),\n",
       " 'searchURL': 'https://bison.usgs.gov/api/search.json?count=1&tsn=173664'}"
      ]
     },
     "metadata": {},
     "output_type": "display_data"
    },
    {
     "name": "stdout",
     "output_type": "stream",
     "text": [
      "<pymongo.results.UpdateResult object at 0x10af1f108>\n"
     ]
    },
    {
     "data": {
      "text/plain": [
       "{'originCollection': 'gapspecies',\n",
       " 'originID': ObjectId('59b849433339a2d2a5efb07f'),\n",
       " 'searchURL': 'https://bison.usgs.gov/api/search.json?count=1&tsn=176197'}"
      ]
     },
     "metadata": {},
     "output_type": "display_data"
    },
    {
     "name": "stdout",
     "output_type": "stream",
     "text": [
      "<pymongo.results.UpdateResult object at 0x10af24248>\n"
     ]
    },
    {
     "data": {
      "text/plain": [
       "{'originCollection': 'gapspecies',\n",
       " 'originID': ObjectId('59b849433339a2d2a5efb080'),\n",
       " 'searchURL': 'https://bison.usgs.gov/api/search.json?count=1&tsn=179946'}"
      ]
     },
     "metadata": {},
     "output_type": "display_data"
    },
    {
     "name": "stdout",
     "output_type": "stream",
     "text": [
      "<pymongo.results.UpdateResult object at 0x10af26208>\n"
     ]
    },
    {
     "data": {
      "text/plain": [
       "{'originCollection': 'gapspecies',\n",
       " 'originID': ObjectId('59b849443339a2d2a5efb081'),\n",
       " 'searchURL': 'https://bison.usgs.gov/api/search.json?count=1&tsn=174846'}"
      ]
     },
     "metadata": {},
     "output_type": "display_data"
    },
    {
     "name": "stdout",
     "output_type": "stream",
     "text": [
      "<pymongo.results.UpdateResult object at 0x10af311c8>\n"
     ]
    },
    {
     "data": {
      "text/plain": [
       "{'originCollection': 'gapspecies',\n",
       " 'originID': ObjectId('59b849443339a2d2a5efb082'),\n",
       " 'searchURL': 'https://bison.usgs.gov/api/search.json?count=1&tsn=174826'}"
      ]
     },
     "metadata": {},
     "output_type": "display_data"
    },
    {
     "name": "stdout",
     "output_type": "stream",
     "text": [
      "<pymongo.results.UpdateResult object at 0x10af33ec8>\n"
     ]
    },
    {
     "data": {
      "text/plain": [
       "{'originCollection': 'gapspecies',\n",
       " 'originID': ObjectId('59b849453339a2d2a5efb083'),\n",
       " 'searchURL': 'https://bison.usgs.gov/api/search.json?count=1&tsn=173429'}"
      ]
     },
     "metadata": {},
     "output_type": "display_data"
    },
    {
     "name": "stdout",
     "output_type": "stream",
     "text": [
      "<pymongo.results.UpdateResult object at 0x10af3e048>\n"
     ]
    },
    {
     "data": {
      "text/plain": [
       "{'originCollection': 'gapspecies',\n",
       " 'originID': ObjectId('59b849453339a2d2a5efb084'),\n",
       " 'searchURL': 'https://bison.usgs.gov/api/search.json?count=1&tsn=209017'}"
      ]
     },
     "metadata": {},
     "output_type": "display_data"
    },
    {
     "name": "stdout",
     "output_type": "stream",
     "text": [
      "<pymongo.results.UpdateResult object at 0x10af42608>\n"
     ]
    },
    {
     "data": {
      "text/plain": [
       "{'originCollection': 'gapspecies',\n",
       " 'originID': ObjectId('59b849453339a2d2a5efb085'),\n",
       " 'searchURL': 'https://bison.usgs.gov/api/search.json?count=1&tsn=970628'}"
      ]
     },
     "metadata": {},
     "output_type": "display_data"
    },
    {
     "name": "stdout",
     "output_type": "stream",
     "text": [
      "<pymongo.results.UpdateResult object at 0x10af46148>\n"
     ]
    },
    {
     "data": {
      "text/plain": [
       "{'originCollection': 'gapspecies',\n",
       " 'originID': ObjectId('59b849463339a2d2a5efb086'),\n",
       " 'searchURL': 'https://bison.usgs.gov/api/search.json?count=1&tsn=174141'}"
      ]
     },
     "metadata": {},
     "output_type": "display_data"
    },
    {
     "name": "stdout",
     "output_type": "stream",
     "text": [
      "<pymongo.results.UpdateResult object at 0x10af4e1c8>\n"
     ]
    },
    {
     "data": {
      "text/plain": [
       "{'originCollection': 'gapspecies',\n",
       " 'originID': ObjectId('59b849463339a2d2a5efb087'),\n",
       " 'searchURL': 'https://bison.usgs.gov/api/search.json?count=1&tsn=683032'}"
      ]
     },
     "metadata": {},
     "output_type": "display_data"
    },
    {
     "name": "stdout",
     "output_type": "stream",
     "text": [
      "<pymongo.results.UpdateResult object at 0x10af4fd48>\n"
     ]
    },
    {
     "data": {
      "text/plain": [
       "{'originCollection': 'gapspecies',\n",
       " 'originID': ObjectId('59b849463339a2d2a5efb088'),\n",
       " 'searchURL': 'https://bison.usgs.gov/api/search.json?count=1&tsn=563934'}"
      ]
     },
     "metadata": {},
     "output_type": "display_data"
    },
    {
     "name": "stdout",
     "output_type": "stream",
     "text": [
      "<pymongo.results.UpdateResult object at 0x10af55e48>\n"
     ]
    },
    {
     "data": {
      "text/plain": [
       "{'originCollection': 'gapspecies',\n",
       " 'originID': ObjectId('59b849473339a2d2a5efb089'),\n",
       " 'searchURL': 'https://bison.usgs.gov/api/search.json?count=1&tsn=174177'}"
      ]
     },
     "metadata": {},
     "output_type": "display_data"
    },
    {
     "name": "stdout",
     "output_type": "stream",
     "text": [
      "<pymongo.results.UpdateResult object at 0x10af60188>\n"
     ]
    },
    {
     "data": {
      "text/plain": [
       "{'originCollection': 'gapspecies',\n",
       " 'originID': ObjectId('59b849473339a2d2a5efb08a'),\n",
       " 'searchURL': 'https://bison.usgs.gov/api/search.json?count=1&tsn=552502'}"
      ]
     },
     "metadata": {},
     "output_type": "display_data"
    },
    {
     "name": "stdout",
     "output_type": "stream",
     "text": [
      "<pymongo.results.UpdateResult object at 0x10af65088>\n"
     ]
    },
    {
     "data": {
      "text/plain": [
       "{'originCollection': 'gapspecies',\n",
       " 'originID': ObjectId('59b849473339a2d2a5efb08b'),\n",
       " 'searchURL': 'https://bison.usgs.gov/api/search.json?count=1&tsn=174014'}"
      ]
     },
     "metadata": {},
     "output_type": "display_data"
    },
    {
     "name": "stdout",
     "output_type": "stream",
     "text": [
      "<pymongo.results.UpdateResult object at 0x10af67e48>\n"
     ]
    },
    {
     "data": {
      "text/plain": [
       "{'originCollection': 'gapspecies',\n",
       " 'originID': ObjectId('59b849483339a2d2a5efb08c'),\n",
       " 'searchURL': 'https://bison.usgs.gov/api/search.json?count=1&tsn=173948'}"
      ]
     },
     "metadata": {},
     "output_type": "display_data"
    },
    {
     "name": "stdout",
     "output_type": "stream",
     "text": [
      "<pymongo.results.UpdateResult object at 0x10af700c8>\n"
     ]
    },
    {
     "data": {
      "text/plain": [
       "{'originCollection': 'gapspecies',\n",
       " 'originID': ObjectId('59b849483339a2d2a5efb08d'),\n",
       " 'searchURL': 'https://bison.usgs.gov/api/search.json?count=1&tsn=173870'}"
      ]
     },
     "metadata": {},
     "output_type": "display_data"
    },
    {
     "name": "stdout",
     "output_type": "stream",
     "text": [
      "<pymongo.results.UpdateResult object at 0x10af71c48>\n"
     ]
    },
    {
     "data": {
      "text/plain": [
       "{'originCollection': 'gapspecies',\n",
       " 'originID': ObjectId('59b849493339a2d2a5efb08e'),\n",
       " 'searchURL': 'https://bison.usgs.gov/api/search.json?count=1&tsn=174183'}"
      ]
     },
     "metadata": {},
     "output_type": "display_data"
    },
    {
     "name": "stdout",
     "output_type": "stream",
     "text": [
      "<pymongo.results.UpdateResult object at 0x10af79148>\n"
     ]
    },
    {
     "data": {
      "text/plain": [
       "{'originCollection': 'gapspecies',\n",
       " 'originID': ObjectId('59b849493339a2d2a5efb08f'),\n",
       " 'searchURL': 'https://bison.usgs.gov/api/search.json?count=1&tsn=173906'}"
      ]
     },
     "metadata": {},
     "output_type": "display_data"
    },
    {
     "name": "stdout",
     "output_type": "stream",
     "text": [
      "<pymongo.results.UpdateResult object at 0x10af7f608>\n"
     ]
    },
    {
     "data": {
      "text/plain": [
       "{'originCollection': 'gapspecies',\n",
       " 'originID': ObjectId('59b8494a3339a2d2a5efb090'),\n",
       " 'searchURL': 'https://bison.usgs.gov/api/search.json?count=1&tsn=173804'}"
      ]
     },
     "metadata": {},
     "output_type": "display_data"
    },
    {
     "name": "stdout",
     "output_type": "stream",
     "text": [
      "<pymongo.results.UpdateResult object at 0x10af86188>\n"
     ]
    },
    {
     "data": {
      "text/plain": [
       "{'originCollection': 'gapspecies',\n",
       " 'originID': ObjectId('59b8494a3339a2d2a5efb091'),\n",
       " 'searchURL': 'https://bison.usgs.gov/api/search.json?count=1&tsn=208930'}"
      ]
     },
     "metadata": {},
     "output_type": "display_data"
    },
    {
     "name": "stdout",
     "output_type": "stream",
     "text": [
      "<pymongo.results.UpdateResult object at 0x10af8b088>\n"
     ]
    },
    {
     "data": {
      "text/plain": [
       "{'originCollection': 'gapspecies',\n",
       " 'originID': ObjectId('59b8494a3339a2d2a5efb092'),\n",
       " 'searchURL': 'https://bison.usgs.gov/api/search.json?count=1&tsn=173881'}"
      ]
     },
     "metadata": {},
     "output_type": "display_data"
    },
    {
     "name": "stdout",
     "output_type": "stream",
     "text": [
      "<pymongo.results.UpdateResult object at 0x10af8ee08>\n"
     ]
    },
    {
     "data": {
      "text/plain": [
       "{'originCollection': 'gapspecies',\n",
       " 'originID': ObjectId('59b8494b3339a2d2a5efb093'),\n",
       " 'searchURL': 'https://bison.usgs.gov/api/search.json?count=1&tsn=173791'}"
      ]
     },
     "metadata": {},
     "output_type": "display_data"
    },
    {
     "name": "stdout",
     "output_type": "stream",
     "text": [
      "<pymongo.results.UpdateResult object at 0x10af96188>\n"
     ]
    },
    {
     "data": {
      "text/plain": [
       "{'originCollection': 'gapspecies',\n",
       " 'originID': ObjectId('59b8494b3339a2d2a5efb094'),\n",
       " 'searchURL': 'https://bison.usgs.gov/api/search.json?count=1&tsn=173528'}"
      ]
     },
     "metadata": {},
     "output_type": "display_data"
    },
    {
     "name": "stdout",
     "output_type": "stream",
     "text": [
      "<pymongo.results.UpdateResult object at 0x10af9c448>\n"
     ]
    },
    {
     "data": {
      "text/plain": [
       "{'originCollection': 'gapspecies',\n",
       " 'originID': ObjectId('59b8494c3339a2d2a5efb095'),\n",
       " 'searchURL': 'https://bison.usgs.gov/api/search.json?count=1&tsn=177884'}"
      ]
     },
     "metadata": {},
     "output_type": "display_data"
    },
    {
     "name": "stdout",
     "output_type": "stream",
     "text": [
      "<pymongo.results.UpdateResult object at 0x10afa1988>\n"
     ]
    },
    {
     "data": {
      "text/plain": [
       "{'originCollection': 'gapspecies',\n",
       " 'originID': ObjectId('59b8494c3339a2d2a5efb096'),\n",
       " 'searchURL': 'https://bison.usgs.gov/api/search.json?count=1&tsn=177878'}"
      ]
     },
     "metadata": {},
     "output_type": "display_data"
    },
    {
     "name": "stdout",
     "output_type": "stream",
     "text": [
      "<pymongo.results.UpdateResult object at 0x10afa8188>\n"
     ]
    },
    {
     "data": {
      "text/plain": [
       "{'originCollection': 'gapspecies',\n",
       " 'originID': ObjectId('59b8494c3339a2d2a5efb097'),\n",
       " 'searchURL': 'https://bison.usgs.gov/api/search.json?count=1&tsn=175171'}"
      ]
     },
     "metadata": {},
     "output_type": "display_data"
    },
    {
     "name": "stdout",
     "output_type": "stream",
     "text": [
      "<pymongo.results.UpdateResult object at 0x10afb2048>\n"
     ]
    },
    {
     "data": {
      "text/plain": [
       "{'originCollection': 'gapspecies',\n",
       " 'originID': ObjectId('59b8494c3339a2d2a5efb098'),\n",
       " 'searchURL': 'https://bison.usgs.gov/api/search.json?count=1&tsn=180717'}"
      ]
     },
     "metadata": {},
     "output_type": "display_data"
    },
    {
     "name": "stdout",
     "output_type": "stream",
     "text": [
      "<pymongo.results.UpdateResult object at 0x10afb4fc8>\n"
     ]
    },
    {
     "data": {
      "text/plain": [
       "{'originCollection': 'gapspecies',\n",
       " 'originID': ObjectId('59b8494d3339a2d2a5efb099'),\n",
       " 'searchURL': 'https://bison.usgs.gov/api/search.json?count=1&tsn=180173'}"
      ]
     },
     "metadata": {},
     "output_type": "display_data"
    },
    {
     "name": "stdout",
     "output_type": "stream",
     "text": [
      "<pymongo.results.UpdateResult object at 0x10afbd1c8>\n"
     ]
    },
    {
     "data": {
      "text/plain": [
       "{'originCollection': 'gapspecies',\n",
       " 'originID': ObjectId('59b8494d3339a2d2a5efb09a'),\n",
       " 'searchURL': 'https://bison.usgs.gov/api/search.json?count=1&tsn=174469'}"
      ]
     },
     "metadata": {},
     "output_type": "display_data"
    },
    {
     "name": "stdout",
     "output_type": "stream",
     "text": [
      "<pymongo.results.UpdateResult object at 0x10afc30c8>\n"
     ]
    },
    {
     "data": {
      "text/plain": [
       "{'originCollection': 'gapspecies',\n",
       " 'originID': ObjectId('59b8494d3339a2d2a5efb09b'),\n",
       " 'searchURL': 'https://bison.usgs.gov/api/search.json?count=1&tsn=173689'}"
      ]
     },
     "metadata": {},
     "output_type": "display_data"
    },
    {
     "name": "stdout",
     "output_type": "stream",
     "text": [
      "<pymongo.results.UpdateResult object at 0x10afca088>\n"
     ]
    },
    {
     "data": {
      "text/plain": [
       "{'originCollection': 'gapspecies',\n",
       " 'originID': ObjectId('59b8494d3339a2d2a5efb09c'),\n",
       " 'searchURL': 'https://bison.usgs.gov/api/search.json?count=1&tsn=179222'}"
      ]
     },
     "metadata": {},
     "output_type": "display_data"
    },
    {
     "name": "stdout",
     "output_type": "stream",
     "text": [
      "<pymongo.results.UpdateResult object at 0x10afccf08>\n"
     ]
    },
    {
     "data": {
      "text/plain": [
       "{'originCollection': 'gapspecies',\n",
       " 'originID': ObjectId('59b8494e3339a2d2a5efb09d'),\n",
       " 'searchURL': 'https://bison.usgs.gov/api/search.json?count=1&tsn=180291'}"
      ]
     },
     "metadata": {},
     "output_type": "display_data"
    },
    {
     "name": "stdout",
     "output_type": "stream",
     "text": [
      "<pymongo.results.UpdateResult object at 0x10afd6088>\n"
     ]
    },
    {
     "data": {
      "text/plain": [
       "{'originCollection': 'gapspecies',\n",
       " 'originID': ObjectId('59b8494e3339a2d2a5efb09e'),\n",
       " 'searchURL': 'https://bison.usgs.gov/api/search.json?count=1&tsn=180260'}"
      ]
     },
     "metadata": {},
     "output_type": "display_data"
    },
    {
     "name": "stdout",
     "output_type": "stream",
     "text": [
      "<pymongo.results.UpdateResult object at 0x10afda188>\n"
     ]
    },
    {
     "data": {
      "text/plain": [
       "{'originCollection': 'gapspecies',\n",
       " 'originID': ObjectId('59b8494e3339a2d2a5efb09f'),\n",
       " 'searchURL': 'https://bison.usgs.gov/api/search.json?count=1&type=scientific_name&species=Amphispiza belli canescens'}"
      ]
     },
     "metadata": {},
     "output_type": "display_data"
    },
    {
     "name": "stdout",
     "output_type": "stream",
     "text": [
      "<pymongo.results.UpdateResult object at 0x10afe1908>\n"
     ]
    },
    {
     "data": {
      "text/plain": [
       "{'originCollection': 'gapspecies',\n",
       " 'originID': ObjectId('59b8494f3339a2d2a5efb0a0'),\n",
       " 'searchURL': 'https://bison.usgs.gov/api/search.json?count=1&tsn=176838'}"
      ]
     },
     "metadata": {},
     "output_type": "display_data"
    },
    {
     "name": "stdout",
     "output_type": "stream",
     "text": [
      "<pymongo.results.UpdateResult object at 0x10afe6848>\n"
     ]
    },
    {
     "data": {
      "text/plain": [
       "{'originCollection': 'gapspecies',\n",
       " 'originID': ObjectId('59b8494f3339a2d2a5efb0a1'),\n",
       " 'searchURL': 'https://bison.usgs.gov/api/search.json?count=1&tsn=175915'}"
      ]
     },
     "metadata": {},
     "output_type": "display_data"
    },
    {
     "name": "stdout",
     "output_type": "stream",
     "text": [
      "<pymongo.results.UpdateResult object at 0x10afec088>\n"
     ]
    },
    {
     "data": {
      "text/plain": [
       "{'originCollection': 'gapspecies',\n",
       " 'originID': ObjectId('59b8494f3339a2d2a5efb0a2'),\n",
       " 'searchURL': 'https://bison.usgs.gov/api/search.json?count=1&tsn=176923'}"
      ]
     },
     "metadata": {},
     "output_type": "display_data"
    },
    {
     "name": "stdout",
     "output_type": "stream",
     "text": [
      "<pymongo.results.UpdateResult object at 0x10aff11c8>\n"
     ]
    },
    {
     "data": {
      "text/plain": [
       "{'originCollection': 'gapspecies',\n",
       " 'originID': ObjectId('59b8494f3339a2d2a5efb0a3'),\n",
       " 'searchURL': 'https://bison.usgs.gov/api/search.json?count=1&tsn=179484'}"
      ]
     },
     "metadata": {},
     "output_type": "display_data"
    },
    {
     "name": "stdout",
     "output_type": "stream",
     "text": [
      "<pymongo.results.UpdateResult object at 0x10aff9088>\n"
     ]
    },
    {
     "data": {
      "text/plain": [
       "{'originCollection': 'gapspecies',\n",
       " 'originID': ObjectId('59b8494f3339a2d2a5efb0a4'),\n",
       " 'searchURL': 'https://bison.usgs.gov/api/search.json?count=1&tsn=176593'}"
      ]
     },
     "metadata": {},
     "output_type": "display_data"
    },
    {
     "name": "stdout",
     "output_type": "stream",
     "text": [
      "<pymongo.results.UpdateResult object at 0x10affd2c8>\n"
     ]
    },
    {
     "data": {
      "text/plain": [
       "{'originCollection': 'gapspecies',\n",
       " 'originID': ObjectId('59b849503339a2d2a5efb0a5'),\n",
       " 'searchURL': 'https://bison.usgs.gov/api/search.json?count=1&tsn=174827'}"
      ]
     },
     "metadata": {},
     "output_type": "display_data"
    },
    {
     "name": "stdout",
     "output_type": "stream",
     "text": [
      "<pymongo.results.UpdateResult object at 0x10b0050c8>\n"
     ]
    },
    {
     "data": {
      "text/plain": [
       "{'originCollection': 'gapspecies',\n",
       " 'originID': ObjectId('59b849503339a2d2a5efb0a6'),\n",
       " 'searchURL': 'https://bison.usgs.gov/api/search.json?count=1&tsn=176932'}"
      ]
     },
     "metadata": {},
     "output_type": "display_data"
    },
    {
     "name": "stdout",
     "output_type": "stream",
     "text": [
      "<pymongo.results.UpdateResult object at 0x10b006d48>\n"
     ]
    },
    {
     "data": {
      "text/plain": [
       "{'originCollection': 'gapspecies',\n",
       " 'originID': ObjectId('59b849513339a2d2a5efb0a7'),\n",
       " 'searchURL': 'https://bison.usgs.gov/api/search.json?count=1&tsn=179346'}"
      ]
     },
     "metadata": {},
     "output_type": "display_data"
    },
    {
     "name": "stdout",
     "output_type": "stream",
     "text": [
      "<pymongo.results.UpdateResult object at 0x10b011088>\n"
     ]
    },
    {
     "data": {
      "text/plain": [
       "{'originCollection': 'gapspecies',\n",
       " 'originID': ObjectId('59b849513339a2d2a5efb0a8'),\n",
       " 'searchURL': 'https://bison.usgs.gov/api/search.json?count=1&tsn=179023'}"
      ]
     },
     "metadata": {},
     "output_type": "display_data"
    },
    {
     "name": "stdout",
     "output_type": "stream",
     "text": [
      "<pymongo.results.UpdateResult object at 0x10b015148>\n"
     ]
    },
    {
     "data": {
      "text/plain": [
       "{'originCollection': 'gapspecies',\n",
       " 'originID': ObjectId('59b849513339a2d2a5efb0a9'),\n",
       " 'searchURL': 'https://bison.usgs.gov/api/search.json?count=1&tsn=173502'}"
      ]
     },
     "metadata": {},
     "output_type": "display_data"
    },
    {
     "name": "stdout",
     "output_type": "stream",
     "text": [
      "<pymongo.results.UpdateResult object at 0x10b01d048>\n"
     ]
    },
    {
     "data": {
      "text/plain": [
       "{'originCollection': 'gapspecies',\n",
       " 'originID': ObjectId('59b849523339a2d2a5efb0aa'),\n",
       " 'searchURL': 'https://bison.usgs.gov/api/search.json?count=1&tsn=900643'}"
      ]
     },
     "metadata": {},
     "output_type": "display_data"
    },
    {
     "name": "stdout",
     "output_type": "stream",
     "text": [
      "<pymongo.results.UpdateResult object at 0x10b021c08>\n"
     ]
    },
    {
     "data": {
      "text/plain": [
       "{'originCollection': 'gapspecies',\n",
       " 'originID': ObjectId('59b849523339a2d2a5efb0ab'),\n",
       " 'searchURL': 'https://bison.usgs.gov/api/search.json?count=1&tsn=176669'}"
      ]
     },
     "metadata": {},
     "output_type": "display_data"
    },
    {
     "name": "stdout",
     "output_type": "stream",
     "text": [
      "<pymongo.results.UpdateResult object at 0x10b02b0c8>\n"
     ]
    },
    {
     "data": {
      "text/plain": [
       "{'originCollection': 'gapspecies',\n",
       " 'originID': ObjectId('59b849523339a2d2a5efb0ac'),\n",
       " 'searchURL': 'https://bison.usgs.gov/api/search.json?count=1&tsn=178856'}"
      ]
     },
     "metadata": {},
     "output_type": "display_data"
    },
    {
     "name": "stdout",
     "output_type": "stream",
     "text": [
      "<pymongo.results.UpdateResult object at 0x10b030148>\n"
     ]
    },
    {
     "data": {
      "text/plain": [
       "{'originCollection': 'gapspecies',\n",
       " 'originID': ObjectId('59b849533339a2d2a5efb0ad'),\n",
       " 'searchURL': 'https://bison.usgs.gov/api/search.json?count=1&tsn=175900'}"
      ]
     },
     "metadata": {},
     "output_type": "display_data"
    },
    {
     "name": "stdout",
     "output_type": "stream",
     "text": [
      "<pymongo.results.UpdateResult object at 0x10b035188>\n"
     ]
    },
    {
     "data": {
      "text/plain": [
       "{'originCollection': 'gapspecies',\n",
       " 'originID': ObjectId('59b849533339a2d2a5efb0ae'),\n",
       " 'searchURL': 'https://bison.usgs.gov/api/search.json?count=1&tsn=176646'}"
      ]
     },
     "metadata": {},
     "output_type": "display_data"
    },
    {
     "name": "stdout",
     "output_type": "stream",
     "text": [
      "<pymongo.results.UpdateResult object at 0x10b03c048>\n"
     ]
    },
    {
     "data": {
      "text/plain": [
       "{'originCollection': 'gapspecies',\n",
       " 'originID': ObjectId('59b849533339a2d2a5efb0af'),\n",
       " 'searchURL': 'https://bison.usgs.gov/api/search.json?count=1&tsn=625146'}"
      ]
     },
     "metadata": {},
     "output_type": "display_data"
    },
    {
     "name": "stdout",
     "output_type": "stream",
     "text": [
      "<pymongo.results.UpdateResult object at 0x10b041188>\n"
     ]
    },
    {
     "data": {
      "text/plain": [
       "{'originCollection': 'gapspecies',\n",
       " 'originID': ObjectId('59b849543339a2d2a5efb0b0'),\n",
       " 'searchURL': 'https://bison.usgs.gov/api/search.json?count=1&tsn=179933'}"
      ]
     },
     "metadata": {},
     "output_type": "display_data"
    },
    {
     "name": "stdout",
     "output_type": "stream",
     "text": [
      "<pymongo.results.UpdateResult object at 0x10b049148>\n"
     ]
    },
    {
     "data": {
      "text/plain": [
       "{'originCollection': 'gapspecies',\n",
       " 'originID': ObjectId('59b849543339a2d2a5efb0b1'),\n",
       " 'searchURL': 'https://bison.usgs.gov/api/search.json?count=1&tsn=173682'}"
      ]
     },
     "metadata": {},
     "output_type": "display_data"
    },
    {
     "name": "stdout",
     "output_type": "stream",
     "text": [
      "<pymongo.results.UpdateResult object at 0x10b04d108>\n"
     ]
    },
    {
     "data": {
      "text/plain": [
       "{'originCollection': 'gapspecies',\n",
       " 'originID': ObjectId('59b849543339a2d2a5efb0b2'),\n",
       " 'searchURL': 'https://bison.usgs.gov/api/search.json?count=1&tsn=173458'}"
      ]
     },
     "metadata": {},
     "output_type": "display_data"
    },
    {
     "name": "stdout",
     "output_type": "stream",
     "text": [
      "<pymongo.results.UpdateResult object at 0x10b052708>\n"
     ]
    },
    {
     "data": {
      "text/plain": [
       "{'originCollection': 'gapspecies',\n",
       " 'originID': ObjectId('59b849543339a2d2a5efb0b3'),\n",
       " 'searchURL': 'https://bison.usgs.gov/api/search.json?count=1&tsn=174185'}"
      ]
     },
     "metadata": {},
     "output_type": "display_data"
    },
    {
     "name": "stdout",
     "output_type": "stream",
     "text": [
      "<pymongo.results.UpdateResult object at 0x10b05a148>\n"
     ]
    },
    {
     "data": {
      "text/plain": [
       "{'originCollection': 'gapspecies',\n",
       " 'originID': ObjectId('59b849553339a2d2a5efb0b4'),\n",
       " 'searchURL': 'https://bison.usgs.gov/api/search.json?count=1&tsn=179992'}"
      ]
     },
     "metadata": {},
     "output_type": "display_data"
    },
    {
     "name": "stdout",
     "output_type": "stream",
     "text": [
      "<pymongo.results.UpdateResult object at 0x10b05d188>\n"
     ]
    },
    {
     "data": {
      "text/plain": [
       "{'originCollection': 'gapspecies',\n",
       " 'originID': ObjectId('59b849553339a2d2a5efb0b5'),\n",
       " 'searchURL': 'https://bison.usgs.gov/api/search.json?count=1&tsn=173597'}"
      ]
     },
     "metadata": {},
     "output_type": "display_data"
    },
    {
     "name": "stdout",
     "output_type": "stream",
     "text": [
      "<pymongo.results.UpdateResult object at 0x10b064488>\n"
     ]
    },
    {
     "data": {
      "text/plain": [
       "{'originCollection': 'gapspecies',\n",
       " 'originID': ObjectId('59b849553339a2d2a5efb0b6'),\n",
       " 'searchURL': 'https://bison.usgs.gov/api/search.json?count=1&tsn=178035'}"
      ]
     },
     "metadata": {},
     "output_type": "display_data"
    },
    {
     "name": "stdout",
     "output_type": "stream",
     "text": [
      "<pymongo.results.UpdateResult object at 0x10b069a48>\n"
     ]
    },
    {
     "data": {
      "text/plain": [
       "{'originCollection': 'gapspecies',\n",
       " 'originID': ObjectId('59b849553339a2d2a5efb0b7'),\n",
       " 'searchURL': 'https://bison.usgs.gov/api/search.json?count=1&tsn=173645'}"
      ]
     },
     "metadata": {},
     "output_type": "display_data"
    },
    {
     "name": "stdout",
     "output_type": "stream",
     "text": [
      "<pymongo.results.UpdateResult object at 0x10b070048>\n"
     ]
    },
    {
     "data": {
      "text/plain": [
       "{'originCollection': 'gapspecies',\n",
       " 'originID': ObjectId('59b849553339a2d2a5efb0b8'),\n",
       " 'searchURL': 'https://bison.usgs.gov/api/search.json?count=1&tsn=173662'}"
      ]
     },
     "metadata": {},
     "output_type": "display_data"
    },
    {
     "name": "stdout",
     "output_type": "stream",
     "text": [
      "<pymongo.results.UpdateResult object at 0x10b076148>\n"
     ]
    },
    {
     "data": {
      "text/plain": [
       "{'originCollection': 'gapspecies',\n",
       " 'originID': ObjectId('59b849563339a2d2a5efb0b9'),\n",
       " 'searchURL': 'https://bison.usgs.gov/api/search.json?count=1&tsn=179788'}"
      ]
     },
     "metadata": {},
     "output_type": "display_data"
    },
    {
     "name": "stdout",
     "output_type": "stream",
     "text": [
      "<pymongo.results.UpdateResult object at 0x10b07b388>\n"
     ]
    },
    {
     "data": {
      "text/plain": [
       "{'originCollection': 'gapspecies',\n",
       " 'originID': ObjectId('59b849563339a2d2a5efb0ba'),\n",
       " 'searchURL': 'https://bison.usgs.gov/api/search.json?count=1&tsn=175860'}"
      ]
     },
     "metadata": {},
     "output_type": "display_data"
    },
    {
     "name": "stdout",
     "output_type": "stream",
     "text": [
      "<pymongo.results.UpdateResult object at 0x10b07e508>\n"
     ]
    },
    {
     "data": {
      "text/plain": [
       "{'originCollection': 'gapspecies',\n",
       " 'originID': ObjectId('59b849563339a2d2a5efb0bb'),\n",
       " 'searchURL': 'https://bison.usgs.gov/api/search.json?count=1&tsn=173529'}"
      ]
     },
     "metadata": {},
     "output_type": "display_data"
    },
    {
     "name": "stdout",
     "output_type": "stream",
     "text": [
      "<pymongo.results.UpdateResult object at 0x10b087148>\n"
     ]
    },
    {
     "data": {
      "text/plain": [
       "{'originCollection': 'gapspecies',\n",
       " 'originID': ObjectId('59b849563339a2d2a5efb0bc'),\n",
       " 'searchURL': 'https://bison.usgs.gov/api/search.json?count=1&tsn=773530'}"
      ]
     },
     "metadata": {},
     "output_type": "display_data"
    },
    {
     "name": "stdout",
     "output_type": "stream",
     "text": [
      "<pymongo.results.UpdateResult object at 0x10b08c0c8>\n"
     ]
    },
    {
     "data": {
      "text/plain": [
       "{'originCollection': 'gapspecies',\n",
       " 'originID': ObjectId('59b849573339a2d2a5efb0bd'),\n",
       " 'searchURL': 'https://bison.usgs.gov/api/search.json?count=1&tsn=174326'}"
      ]
     },
     "metadata": {},
     "output_type": "display_data"
    },
    {
     "name": "stdout",
     "output_type": "stream",
     "text": [
      "<pymongo.results.UpdateResult object at 0x10b0901c8>\n"
     ]
    },
    {
     "data": {
      "text/plain": [
       "{'originCollection': 'gapspecies',\n",
       " 'originID': ObjectId('59b849573339a2d2a5efb0be'),\n",
       " 'searchURL': 'https://bison.usgs.gov/api/search.json?count=1&tsn=573576'}"
      ]
     },
     "metadata": {},
     "output_type": "display_data"
    },
    {
     "name": "stdout",
     "output_type": "stream",
     "text": [
      "<pymongo.results.UpdateResult object at 0x10b0970c8>\n"
     ]
    },
    {
     "data": {
      "text/plain": [
       "{'originCollection': 'gapspecies',\n",
       " 'originID': ObjectId('59b849573339a2d2a5efb0bf'),\n",
       " 'searchURL': 'https://bison.usgs.gov/api/search.json?count=1&tsn=179393'}"
      ]
     },
     "metadata": {},
     "output_type": "display_data"
    },
    {
     "name": "stdout",
     "output_type": "stream",
     "text": [
      "<pymongo.results.UpdateResult object at 0x10b09d088>\n"
     ]
    },
    {
     "data": {
      "text/plain": [
       "{'originCollection': 'gapspecies',\n",
       " 'originID': ObjectId('59b849573339a2d2a5efb0c0'),\n",
       " 'searchURL': 'https://bison.usgs.gov/api/search.json?count=1&tsn=552489'}"
      ]
     },
     "metadata": {},
     "output_type": "display_data"
    },
    {
     "name": "stdout",
     "output_type": "stream",
     "text": [
      "<pymongo.results.UpdateResult object at 0x10b0a3548>\n"
     ]
    },
    {
     "data": {
      "text/plain": [
       "{'originCollection': 'gapspecies',\n",
       " 'originID': ObjectId('59b849583339a2d2a5efb0c1'),\n",
       " 'searchURL': 'https://bison.usgs.gov/api/search.json?count=1&tsn=180154'}"
      ]
     },
     "metadata": {},
     "output_type": "display_data"
    },
    {
     "name": "stdout",
     "output_type": "stream",
     "text": [
      "<pymongo.results.UpdateResult object at 0x10b0a74c8>\n"
     ]
    },
    {
     "data": {
      "text/plain": [
       "{'originCollection': 'gapspecies',\n",
       " 'originID': ObjectId('59b849583339a2d2a5efb0c2'),\n",
       " 'searchURL': 'https://bison.usgs.gov/api/search.json?count=1&tsn=554254'}"
      ]
     },
     "metadata": {},
     "output_type": "display_data"
    },
    {
     "name": "stdout",
     "output_type": "stream",
     "text": [
      "<pymongo.results.UpdateResult object at 0x10b0ae048>\n"
     ]
    },
    {
     "data": {
      "text/plain": [
       "{'originCollection': 'gapspecies',\n",
       " 'originID': ObjectId('59b849583339a2d2a5efb0c3'),\n",
       " 'searchURL': 'https://bison.usgs.gov/api/search.json?count=1&tsn=175449'}"
      ]
     },
     "metadata": {},
     "output_type": "display_data"
    },
    {
     "name": "stdout",
     "output_type": "stream",
     "text": [
      "<pymongo.results.UpdateResult object at 0x10b0b2388>\n"
     ]
    },
    {
     "data": {
      "text/plain": [
       "{'originCollection': 'gapspecies',\n",
       " 'originID': ObjectId('59b849583339a2d2a5efb0c4'),\n",
       " 'searchURL': 'https://bison.usgs.gov/api/search.json?count=1&type=scientific_name&species=Aplodontia rufa humboldtiana'}"
      ]
     },
     "metadata": {},
     "output_type": "display_data"
    },
    {
     "name": "stdout",
     "output_type": "stream",
     "text": [
      "<pymongo.results.UpdateResult object at 0x10b0b6c48>\n"
     ]
    },
    {
     "data": {
      "text/plain": [
       "{'originCollection': 'gapspecies',\n",
       " 'originID': ObjectId('59b849593339a2d2a5efb0c5'),\n",
       " 'searchURL': 'https://bison.usgs.gov/api/search.json?count=1&tsn=180359'}"
      ]
     },
     "metadata": {},
     "output_type": "display_data"
    },
    {
     "name": "stdout",
     "output_type": "stream",
     "text": [
      "<pymongo.results.UpdateResult object at 0x10b0bf188>\n"
     ]
    },
    {
     "data": {
      "text/plain": [
       "{'originCollection': 'gapspecies',\n",
       " 'originID': ObjectId('59b849593339a2d2a5efb0c6'),\n",
       " 'searchURL': 'https://bison.usgs.gov/api/search.json?count=1&tsn=179070'}"
      ]
     },
     "metadata": {},
     "output_type": "display_data"
    },
    {
     "name": "stdout",
     "output_type": "stream",
     "text": [
      "<pymongo.results.UpdateResult object at 0x10b0c2588>\n"
     ]
    },
    {
     "data": {
      "text/plain": [
       "{'originCollection': 'gapspecies',\n",
       " 'originID': ObjectId('59b849593339a2d2a5efb0c7'),\n",
       " 'searchURL': 'https://bison.usgs.gov/api/search.json?count=1&tsn=178917'}"
      ]
     },
     "metadata": {},
     "output_type": "display_data"
    },
    {
     "name": "stdout",
     "output_type": "stream",
     "text": [
      "<pymongo.results.UpdateResult object at 0x10b0c90c8>\n"
     ]
    },
    {
     "data": {
      "text/plain": [
       "{'originCollection': 'gapspecies',\n",
       " 'originID': ObjectId('59b8495a3339a2d2a5efb0c8'),\n",
       " 'searchURL': 'https://bison.usgs.gov/api/search.json?count=1&tsn=174354'}"
      ]
     },
     "metadata": {},
     "output_type": "display_data"
    },
    {
     "name": "stdout",
     "output_type": "stream",
     "text": [
      "<pymongo.results.UpdateResult object at 0x10b0cdf08>\n"
     ]
    },
    {
     "data": {
      "text/plain": [
       "{'originCollection': 'gapspecies',\n",
       " 'originID': ObjectId('59b8495a3339a2d2a5efb0c9'),\n",
       " 'searchURL': 'https://bison.usgs.gov/api/search.json?count=1&tsn=773512'}"
      ]
     },
     "metadata": {},
     "output_type": "display_data"
    },
    {
     "name": "stdout",
     "output_type": "stream",
     "text": [
      "<pymongo.results.UpdateResult object at 0x10b0d6208>\n"
     ]
    },
    {
     "data": {
      "text/plain": [
       "{'originCollection': 'gapspecies',\n",
       " 'originID': ObjectId('59b8495b3339a2d2a5efb0ca'),\n",
       " 'searchURL': 'https://bison.usgs.gov/api/search.json?count=1&tsn=177908'}"
      ]
     },
     "metadata": {},
     "output_type": "display_data"
    },
    {
     "name": "stdout",
     "output_type": "stream",
     "text": [
      "<pymongo.results.UpdateResult object at 0x10b0de0c8>\n"
     ]
    },
    {
     "data": {
      "text/plain": [
       "{'originCollection': 'gapspecies',\n",
       " 'originID': ObjectId('59b8495b3339a2d2a5efb0cb'),\n",
       " 'searchURL': 'https://bison.usgs.gov/api/search.json?count=1&tsn=176520'}"
      ]
     },
     "metadata": {},
     "output_type": "display_data"
    },
    {
     "name": "stdout",
     "output_type": "stream",
     "text": [
      "<pymongo.results.UpdateResult object at 0x10b0e20c8>\n"
     ]
    },
    {
     "data": {
      "text/plain": [
       "{'originCollection': 'gapspecies',\n",
       " 'originID': ObjectId('59b8495b3339a2d2a5efb0cc'),\n",
       " 'searchURL': 'https://bison.usgs.gov/api/search.json?count=1&tsn=178855'}"
      ]
     },
     "metadata": {},
     "output_type": "display_data"
    },
    {
     "name": "stdout",
     "output_type": "stream",
     "text": [
      "<pymongo.results.UpdateResult object at 0x10b0e91c8>\n"
     ]
    },
    {
     "data": {
      "text/plain": [
       "{'originCollection': 'gapspecies',\n",
       " 'originID': ObjectId('59b8495c3339a2d2a5efb0cd'),\n",
       " 'searchURL': 'https://bison.usgs.gov/api/search.json?count=1&tsn=180079'}"
      ]
     },
     "metadata": {},
     "output_type": "display_data"
    },
    {
     "name": "stdout",
     "output_type": "stream",
     "text": [
      "<pymongo.results.UpdateResult object at 0x10b0eda08>\n"
     ]
    },
    {
     "data": {
      "text/plain": [
       "{'originCollection': 'gapspecies',\n",
       " 'originID': ObjectId('59b8495c3339a2d2a5efb0ce'),\n",
       " 'searchURL': 'https://bison.usgs.gov/api/search.json?count=1&tsn=174286'}"
      ]
     },
     "metadata": {},
     "output_type": "display_data"
    },
    {
     "name": "stdout",
     "output_type": "stream",
     "text": [
      "<pymongo.results.UpdateResult object at 0x10b0f50c8>\n"
     ]
    },
    {
     "data": {
      "text/plain": [
       "{'originCollection': 'gapspecies',\n",
       " 'originID': ObjectId('59b8495d3339a2d2a5efb0cf'),\n",
       " 'searchURL': 'https://bison.usgs.gov/api/search.json?count=1&tsn=173598'}"
      ]
     },
     "metadata": {},
     "output_type": "display_data"
    },
    {
     "name": "stdout",
     "output_type": "stream",
     "text": [
      "<pymongo.results.UpdateResult object at 0x10b0f5748>\n"
     ]
    },
    {
     "data": {
      "text/plain": [
       "{'originCollection': 'gapspecies',\n",
       " 'originID': ObjectId('59b8495d3339a2d2a5efb0d0'),\n",
       " 'searchURL': 'https://bison.usgs.gov/api/search.json?count=1&tsn=173665'}"
      ]
     },
     "metadata": {},
     "output_type": "display_data"
    },
    {
     "name": "stdout",
     "output_type": "stream",
     "text": [
      "<pymongo.results.UpdateResult object at 0x10b0fe0c8>\n"
     ]
    },
    {
     "data": {
      "text/plain": [
       "{'originCollection': 'gapspecies',\n",
       " 'originID': ObjectId('59b8495d3339a2d2a5efb0d1'),\n",
       " 'searchURL': 'https://bison.usgs.gov/api/search.json?count=1&tsn=685566'}"
      ]
     },
     "metadata": {},
     "output_type": "display_data"
    },
    {
     "name": "stdout",
     "output_type": "stream",
     "text": [
      "<pymongo.results.UpdateResult object at 0x10b1025c8>\n"
     ]
    },
    {
     "data": {
      "text/plain": [
       "{'originCollection': 'gapspecies',\n",
       " 'originID': ObjectId('59b8495d3339a2d2a5efb0d2'),\n",
       " 'searchURL': 'https://bison.usgs.gov/api/search.json?count=1&tsn=174172'}"
      ]
     },
     "metadata": {},
     "output_type": "display_data"
    },
    {
     "name": "stdout",
     "output_type": "stream",
     "text": [
      "<pymongo.results.UpdateResult object at 0x10b1061c8>\n"
     ]
    },
    {
     "data": {
      "text/plain": [
       "{'originCollection': 'gapspecies',\n",
       " 'originID': ObjectId('59b8495e3339a2d2a5efb0d3'),\n",
       " 'searchURL': 'https://bison.usgs.gov/api/search.json?count=1&tsn=564597'}"
      ]
     },
     "metadata": {},
     "output_type": "display_data"
    },
    {
     "name": "stdout",
     "output_type": "stream",
     "text": [
      "<pymongo.results.UpdateResult object at 0x10b10d0c8>\n"
     ]
    },
    {
     "data": {
      "text/plain": [
       "{'originCollection': 'gapspecies',\n",
       " 'originID': ObjectId('59b8495e3339a2d2a5efb0d4'),\n",
       " 'searchURL': 'https://bison.usgs.gov/api/search.json?count=1&tsn=585976'}"
      ]
     },
     "metadata": {},
     "output_type": "display_data"
    },
    {
     "name": "stdout",
     "output_type": "stream",
     "text": [
      "<pymongo.results.UpdateResult object at 0x10b112048>\n"
     ]
    },
    {
     "data": {
      "text/plain": [
       "{'originCollection': 'gapspecies',\n",
       " 'originID': ObjectId('59b8495e3339a2d2a5efb0d5'),\n",
       " 'searchURL': 'https://bison.usgs.gov/api/search.json?count=1&tsn=208900'}"
      ]
     },
     "metadata": {},
     "output_type": "display_data"
    },
    {
     "name": "stdout",
     "output_type": "stream",
     "text": [
      "<pymongo.results.UpdateResult object at 0x10b118188>\n"
     ]
    },
    {
     "data": {
      "text/plain": [
       "{'originCollection': 'gapspecies',\n",
       " 'originID': ObjectId('59b8495e3339a2d2a5efb0d6'),\n",
       " 'searchURL': 'https://bison.usgs.gov/api/search.json?count=1&tsn=173636'}"
      ]
     },
     "metadata": {},
     "output_type": "display_data"
    },
    {
     "name": "stdout",
     "output_type": "stream",
     "text": [
      "<pymongo.results.UpdateResult object at 0x10b11d508>\n"
     ]
    },
    {
     "data": {
      "text/plain": [
       "{'originCollection': 'gapspecies',\n",
       " 'originID': ObjectId('59b8495e3339a2d2a5efb0d7'),\n",
       " 'searchURL': 'https://bison.usgs.gov/api/search.json?count=1&tsn=173470'}"
      ]
     },
     "metadata": {},
     "output_type": "display_data"
    },
    {
     "name": "stdout",
     "output_type": "stream",
     "text": [
      "<pymongo.results.UpdateResult object at 0x10b123088>\n"
     ]
    },
    {
     "data": {
      "text/plain": [
       "{'originCollection': 'gapspecies',\n",
       " 'originID': ObjectId('59b8495f3339a2d2a5efb0d8'),\n",
       " 'searchURL': 'https://bison.usgs.gov/api/search.json?count=1&tsn=774548'}"
      ]
     },
     "metadata": {},
     "output_type": "display_data"
    },
    {
     "name": "stdout",
     "output_type": "stream",
     "text": [
      "<pymongo.results.UpdateResult object at 0x10b127f08>\n"
     ]
    },
    {
     "data": {
      "text/plain": [
       "{'originCollection': 'gapspecies',\n",
       " 'originID': ObjectId('59b8495f3339a2d2a5efb0d9'),\n",
       " 'searchURL': 'https://bison.usgs.gov/api/search.json?count=1&tsn=173676'}"
      ]
     },
     "metadata": {},
     "output_type": "display_data"
    },
    {
     "name": "stdout",
     "output_type": "stream",
     "text": [
      "<pymongo.results.UpdateResult object at 0x10b1302c8>\n"
     ]
    },
    {
     "data": {
      "text/plain": [
       "{'originCollection': 'gapspecies',\n",
       " 'originID': ObjectId('59b8495f3339a2d2a5efb0da'),\n",
       " 'searchURL': 'https://bison.usgs.gov/api/search.json?count=1&tsn=174263'}"
      ]
     },
     "metadata": {},
     "output_type": "display_data"
    },
    {
     "name": "stdout",
     "output_type": "stream",
     "text": [
      "<pymongo.results.UpdateResult object at 0x10b134348>\n"
     ]
    },
    {
     "data": {
      "text/plain": [
       "{'originCollection': 'gapspecies',\n",
       " 'originID': ObjectId('59b849603339a2d2a5efb0db'),\n",
       " 'searchURL': 'https://bison.usgs.gov/api/search.json?count=1&tsn=174263'}"
      ]
     },
     "metadata": {},
     "output_type": "display_data"
    },
    {
     "name": "stdout",
     "output_type": "stream",
     "text": [
      "<pymongo.results.UpdateResult object at 0x10b138608>\n"
     ]
    },
    {
     "data": {
      "text/plain": [
       "{'originCollection': 'gapspecies',\n",
       " 'originID': ObjectId('59b849603339a2d2a5efb0dc'),\n",
       " 'searchURL': 'https://bison.usgs.gov/api/search.json?count=1&tsn=174244'}"
      ]
     },
     "metadata": {},
     "output_type": "display_data"
    },
    {
     "name": "stdout",
     "output_type": "stream",
     "text": [
      "<pymongo.results.UpdateResult object at 0x10b13f0c8>\n"
     ]
    },
    {
     "data": {
      "text/plain": [
       "{'originCollection': 'gapspecies',\n",
       " 'originID': ObjectId('59b849603339a2d2a5efb0dd'),\n",
       " 'searchURL': 'https://bison.usgs.gov/api/search.json?count=1&tsn=173857'}"
      ]
     },
     "metadata": {},
     "output_type": "display_data"
    },
    {
     "name": "stdout",
     "output_type": "stream",
     "text": [
      "<pymongo.results.UpdateResult object at 0x10b144608>\n"
     ]
    },
    {
     "data": {
      "text/plain": [
       "{'originCollection': 'gapspecies',\n",
       " 'originID': ObjectId('59b849603339a2d2a5efb0de'),\n",
       " 'searchURL': 'https://bison.usgs.gov/api/search.json?count=1&tsn=180010'}"
      ]
     },
     "metadata": {},
     "output_type": "display_data"
    },
    {
     "name": "stdout",
     "output_type": "stream",
     "text": [
      "<pymongo.results.UpdateResult object at 0x10b14b308>\n"
     ]
    },
    {
     "data": {
      "text/plain": [
       "{'originCollection': 'gapspecies',\n",
       " 'originID': ObjectId('59b849613339a2d2a5efb0df'),\n",
       " 'searchURL': 'https://bison.usgs.gov/api/search.json?count=1&tsn=177908'}"
      ]
     },
     "metadata": {},
     "output_type": "display_data"
    },
    {
     "name": "stdout",
     "output_type": "stream",
     "text": [
      "<pymongo.results.UpdateResult object at 0x10b151088>\n"
     ]
    },
    {
     "data": {
      "text/plain": [
       "{'originCollection': 'gapspecies',\n",
       " 'originID': ObjectId('59b849613339a2d2a5efb0e0'),\n",
       " 'searchURL': 'https://bison.usgs.gov/api/search.json?count=1&tsn=180124'}"
      ]
     },
     "metadata": {},
     "output_type": "display_data"
    },
    {
     "name": "stdout",
     "output_type": "stream",
     "text": [
      "<pymongo.results.UpdateResult object at 0x10b155408>\n"
     ]
    },
    {
     "data": {
      "text/plain": [
       "{'originCollection': 'gapspecies',\n",
       " 'originID': ObjectId('59b849613339a2d2a5efb0e1'),\n",
       " 'searchURL': 'https://bison.usgs.gov/api/search.json?count=1&tsn=552484'}"
      ]
     },
     "metadata": {},
     "output_type": "display_data"
    },
    {
     "name": "stdout",
     "output_type": "stream",
     "text": [
      "<pymongo.results.UpdateResult object at 0x10b15e548>\n"
     ]
    },
    {
     "data": {
      "text/plain": [
       "{'originCollection': 'gapspecies',\n",
       " 'originID': ObjectId('59b849623339a2d2a5efb0e2'),\n",
       " 'searchURL': 'https://bison.usgs.gov/api/search.json?count=1&tsn=173924'}"
      ]
     },
     "metadata": {},
     "output_type": "display_data"
    },
    {
     "name": "stdout",
     "output_type": "stream",
     "text": [
      "<pymongo.results.UpdateResult object at 0x10b161108>\n"
     ]
    },
    {
     "data": {
      "text/plain": [
       "{'originCollection': 'gapspecies',\n",
       " 'originID': ObjectId('59b849623339a2d2a5efb0e3'),\n",
       " 'searchURL': 'https://bison.usgs.gov/api/search.json?count=1&tsn=179935'}"
      ]
     },
     "metadata": {},
     "output_type": "display_data"
    },
    {
     "name": "stdout",
     "output_type": "stream",
     "text": [
      "<pymongo.results.UpdateResult object at 0x10b167888>\n"
     ]
    },
    {
     "data": {
      "text/plain": [
       "{'originCollection': 'gapspecies',\n",
       " 'originID': ObjectId('59b849623339a2d2a5efb0e4'),\n",
       " 'searchURL': 'https://bison.usgs.gov/api/search.json?count=1&tsn=180202'}"
      ]
     },
     "metadata": {},
     "output_type": "display_data"
    },
    {
     "name": "stdout",
     "output_type": "stream",
     "text": [
      "<pymongo.results.UpdateResult object at 0x10b170048>\n"
     ]
    },
    {
     "data": {
      "text/plain": [
       "{'originCollection': 'gapspecies',\n",
       " 'originID': ObjectId('59b849633339a2d2a5efb0e5'),\n",
       " 'searchURL': 'https://bison.usgs.gov/api/search.json?count=1&tsn=180376'}"
      ]
     },
     "metadata": {},
     "output_type": "display_data"
    },
    {
     "name": "stdout",
     "output_type": "stream",
     "text": [
      "<pymongo.results.UpdateResult object at 0x10b173488>\n"
     ]
    },
    {
     "data": {
      "text/plain": [
       "{'originCollection': 'gapspecies',\n",
       " 'originID': ObjectId('59b849633339a2d2a5efb0e6'),\n",
       " 'searchURL': 'https://bison.usgs.gov/api/search.json?count=1&tsn=180313'}"
      ]
     },
     "metadata": {},
     "output_type": "display_data"
    },
    {
     "name": "stdout",
     "output_type": "stream",
     "text": [
      "<pymongo.results.UpdateResult object at 0x10b17c088>\n"
     ]
    },
    {
     "data": {
      "text/plain": [
       "{'originCollection': 'gapspecies',\n",
       " 'originID': ObjectId('59b849643339a2d2a5efb0e7'),\n",
       " 'searchURL': 'https://bison.usgs.gov/api/search.json?count=1&tsn=180242'}"
      ]
     },
     "metadata": {},
     "output_type": "display_data"
    },
    {
     "name": "stdout",
     "output_type": "stream",
     "text": [
      "<pymongo.results.UpdateResult object at 0x10b1803c8>\n"
     ]
    },
    {
     "data": {
      "text/plain": [
       "{'originCollection': 'gapspecies',\n",
       " 'originID': ObjectId('59b849643339a2d2a5efb0e8'),\n",
       " 'searchURL': 'https://bison.usgs.gov/api/search.json?count=1&tsn=174019'}"
      ]
     },
     "metadata": {},
     "output_type": "display_data"
    },
    {
     "name": "stdout",
     "output_type": "stream",
     "text": [
      "<pymongo.results.UpdateResult object at 0x10b184b48>\n"
     ]
    },
    {
     "data": {
      "text/plain": [
       "{'originCollection': 'gapspecies',\n",
       " 'originID': ObjectId('59b849653339a2d2a5efb0e9'),\n",
       " 'searchURL': 'https://bison.usgs.gov/api/search.json?count=1&tsn=563904'}"
      ]
     },
     "metadata": {},
     "output_type": "display_data"
    },
    {
     "name": "stdout",
     "output_type": "stream",
     "text": [
      "<pymongo.results.UpdateResult object at 0x10b18f188>\n"
     ]
    },
    {
     "data": {
      "text/plain": [
       "{'originCollection': 'gapspecies',\n",
       " 'originID': ObjectId('59b849653339a2d2a5efb0ea'),\n",
       " 'searchURL': 'https://bison.usgs.gov/api/search.json?count=1&tsn=174110'}"
      ]
     },
     "metadata": {},
     "output_type": "display_data"
    },
    {
     "name": "stdout",
     "output_type": "stream",
     "text": [
      "<pymongo.results.UpdateResult object at 0x10da004c8>\n"
     ]
    },
    {
     "data": {
      "text/plain": [
       "{'originCollection': 'gapspecies',\n",
       " 'originID': ObjectId('59b849663339a2d2a5efb0eb'),\n",
       " 'searchURL': 'https://bison.usgs.gov/api/search.json?count=1&tsn=209266'}"
      ]
     },
     "metadata": {},
     "output_type": "display_data"
    },
    {
     "name": "stdout",
     "output_type": "stream",
     "text": [
      "<pymongo.results.UpdateResult object at 0x10da0a048>\n"
     ]
    },
    {
     "data": {
      "text/plain": [
       "{'originCollection': 'gapspecies',\n",
       " 'originID': ObjectId('59b849663339a2d2a5efb0ec'),\n",
       " 'searchURL': 'https://bison.usgs.gov/api/search.json?count=1&tsn=174021'}"
      ]
     },
     "metadata": {},
     "output_type": "display_data"
    },
    {
     "name": "stdout",
     "output_type": "stream",
     "text": [
      "<pymongo.results.UpdateResult object at 0x10da0e108>\n"
     ]
    },
    {
     "data": {
      "text/plain": [
       "{'originCollection': 'gapspecies',\n",
       " 'originID': ObjectId('59b849673339a2d2a5efb0ed'),\n",
       " 'searchURL': 'https://bison.usgs.gov/api/search.json?count=1&tsn=914099'}"
      ]
     },
     "metadata": {},
     "output_type": "display_data"
    },
    {
     "name": "stdout",
     "output_type": "stream",
     "text": [
      "<pymongo.results.UpdateResult object at 0x10da12e48>\n"
     ]
    },
    {
     "data": {
      "text/plain": [
       "{'originCollection': 'gapspecies',\n",
       " 'originID': ObjectId('59b849673339a2d2a5efb0ee'),\n",
       " 'searchURL': 'https://bison.usgs.gov/api/search.json?count=1&tsn=180567'}"
      ]
     },
     "metadata": {},
     "output_type": "display_data"
    },
    {
     "name": "stdout",
     "output_type": "stream",
     "text": [
      "<pymongo.results.UpdateResult object at 0x10da18488>\n"
     ]
    },
    {
     "data": {
      "text/plain": [
       "{'originCollection': 'gapspecies',\n",
       " 'originID': ObjectId('59b849673339a2d2a5efb0ef'),\n",
       " 'searchURL': 'https://bison.usgs.gov/api/search.json?count=1&tsn=174232'}"
      ]
     },
     "metadata": {},
     "output_type": "display_data"
    },
    {
     "name": "stdout",
     "output_type": "stream",
     "text": [
      "<pymongo.results.UpdateResult object at 0x10da20088>\n"
     ]
    },
    {
     "data": {
      "text/plain": [
       "{'originCollection': 'gapspecies',\n",
       " 'originID': ObjectId('59b849683339a2d2a5efb0f0'),\n",
       " 'searchURL': 'https://bison.usgs.gov/api/search.json?count=1&tsn=177925'}"
      ]
     },
     "metadata": {},
     "output_type": "display_data"
    },
    {
     "name": "stdout",
     "output_type": "stream",
     "text": [
      "<pymongo.results.UpdateResult object at 0x10da24608>\n"
     ]
    },
    {
     "data": {
      "text/plain": [
       "{'originCollection': 'gapspecies',\n",
       " 'originID': ObjectId('59b849683339a2d2a5efb0f1'),\n",
       " 'searchURL': 'https://bison.usgs.gov/api/search.json?count=1&tsn=178431'}"
      ]
     },
     "metadata": {},
     "output_type": "display_data"
    },
    {
     "name": "stdout",
     "output_type": "stream",
     "text": [
      "<pymongo.results.UpdateResult object at 0x10da24a08>\n"
     ]
    },
    {
     "data": {
      "text/plain": [
       "{'originCollection': 'gapspecies',\n",
       " 'originID': ObjectId('59b849683339a2d2a5efb0f2'),\n",
       " 'searchURL': 'https://bison.usgs.gov/api/search.json?count=1&tsn=176599'}"
      ]
     },
     "metadata": {},
     "output_type": "display_data"
    },
    {
     "name": "stdout",
     "output_type": "stream",
     "text": [
      "<pymongo.results.UpdateResult object at 0x10da2d388>\n"
     ]
    },
    {
     "data": {
      "text/plain": [
       "{'originCollection': 'gapspecies',\n",
       " 'originID': ObjectId('59b849693339a2d2a5efb0f3'),\n",
       " 'searchURL': 'https://bison.usgs.gov/api/search.json?count=1&tsn=180305'}"
      ]
     },
     "metadata": {},
     "output_type": "display_data"
    },
    {
     "name": "stdout",
     "output_type": "stream",
     "text": [
      "<pymongo.results.UpdateResult object at 0x10da371c8>\n"
     ]
    },
    {
     "data": {
      "text/plain": [
       "{'originCollection': 'gapspecies',\n",
       " 'originID': ObjectId('59b849693339a2d2a5efb0f4'),\n",
       " 'searchURL': 'https://bison.usgs.gov/api/search.json?count=1&tsn=174897'}"
      ]
     },
     "metadata": {},
     "output_type": "display_data"
    },
    {
     "name": "stdout",
     "output_type": "stream",
     "text": [
      "<pymongo.results.UpdateResult object at 0x10da3b148>\n"
     ]
    },
    {
     "data": {
      "text/plain": [
       "{'originCollection': 'gapspecies',\n",
       " 'originID': ObjectId('59b849693339a2d2a5efb0f5'),\n",
       " 'searchURL': 'https://bison.usgs.gov/api/search.json?count=1&tsn=176136'}"
      ]
     },
     "metadata": {},
     "output_type": "display_data"
    },
    {
     "name": "stdout",
     "output_type": "stream",
     "text": [
      "<pymongo.results.UpdateResult object at 0x10da3bd88>\n"
     ]
    },
    {
     "data": {
      "text/plain": [
       "{'originCollection': 'gapspecies',\n",
       " 'originID': ObjectId('59b8496a3339a2d2a5efb0f6'),\n",
       " 'searchURL': 'https://bison.usgs.gov/api/search.json?count=1&tsn=180282'}"
      ]
     },
     "metadata": {},
     "output_type": "display_data"
    },
    {
     "name": "stdout",
     "output_type": "stream",
     "text": [
      "<pymongo.results.UpdateResult object at 0x10da49108>\n"
     ]
    },
    {
     "data": {
      "text/plain": [
       "{'originCollection': 'gapspecies',\n",
       " 'originID': ObjectId('59b8496a3339a2d2a5efb0f7'),\n",
       " 'searchURL': 'https://bison.usgs.gov/api/search.json?count=1&tsn=180115'}"
      ]
     },
     "metadata": {},
     "output_type": "display_data"
    },
    {
     "name": "stdout",
     "output_type": "stream",
     "text": [
      "<pymongo.results.UpdateResult object at 0x10da520c8>\n"
     ]
    },
    {
     "data": {
      "text/plain": [
       "{'originCollection': 'gapspecies',\n",
       " 'originID': ObjectId('59b8496a3339a2d2a5efb0f8'),\n",
       " 'searchURL': 'https://bison.usgs.gov/api/search.json?count=1&tsn=176136'}"
      ]
     },
     "metadata": {},
     "output_type": "display_data"
    },
    {
     "name": "stdout",
     "output_type": "stream",
     "text": [
      "<pymongo.results.UpdateResult object at 0x10da54e08>\n"
     ]
    },
    {
     "data": {
      "text/plain": [
       "{'originCollection': 'gapspecies',\n",
       " 'originID': ObjectId('59b8496a3339a2d2a5efb0f9'),\n",
       " 'searchURL': 'https://bison.usgs.gov/api/search.json?count=1&tsn=180585'}"
      ]
     },
     "metadata": {},
     "output_type": "display_data"
    },
    {
     "name": "stdout",
     "output_type": "stream",
     "text": [
      "<pymongo.results.UpdateResult object at 0x10da5b648>\n"
     ]
    },
    {
     "data": {
      "text/plain": [
       "{'originCollection': 'gapspecies',\n",
       " 'originID': ObjectId('59b8496a3339a2d2a5efb0fa'),\n",
       " 'searchURL': 'https://bison.usgs.gov/api/search.json?count=1&type=scientific_name&species=Tamias minimus chuskaensis'}"
      ]
     },
     "metadata": {},
     "output_type": "display_data"
    },
    {
     "name": "stdout",
     "output_type": "stream",
     "text": [
      "<pymongo.results.UpdateResult object at 0x10da63088>\n"
     ]
    },
    {
     "data": {
      "text/plain": [
       "{'originCollection': 'gapspecies',\n",
       " 'originID': ObjectId('59b8496a3339a2d2a5efb0fb'),\n",
       " 'searchURL': 'https://bison.usgs.gov/api/search.json?count=1&tsn=178902'}"
      ]
     },
     "metadata": {},
     "output_type": "display_data"
    },
    {
     "name": "stdout",
     "output_type": "stream",
     "text": [
      "<pymongo.results.UpdateResult object at 0x10da65288>\n"
     ]
    },
    {
     "data": {
      "text/plain": [
       "{'originCollection': 'gapspecies',\n",
       " 'originID': ObjectId('59b8496b3339a2d2a5efb0fc'),\n",
       " 'searchURL': 'https://bison.usgs.gov/api/search.json?count=1&tsn=180058'}"
      ]
     },
     "metadata": {},
     "output_type": "display_data"
    },
    {
     "name": "stdout",
     "output_type": "stream",
     "text": [
      "<pymongo.results.UpdateResult object at 0x10da6ae88>\n"
     ]
    },
    {
     "data": {
      "text/plain": [
       "{'originCollection': 'gapspecies',\n",
       " 'originID': ObjectId('59b8496b3339a2d2a5efb0fd'),\n",
       " 'searchURL': 'https://bison.usgs.gov/api/search.json?count=1&tsn=180323'}"
      ]
     },
     "metadata": {},
     "output_type": "display_data"
    },
    {
     "name": "stdout",
     "output_type": "stream",
     "text": [
      "<pymongo.results.UpdateResult object at 0x10da70588>\n"
     ]
    },
    {
     "data": {
      "text/plain": [
       "{'originCollection': 'gapspecies',\n",
       " 'originID': ObjectId('59b8496b3339a2d2a5efb0fe'),\n",
       " 'searchURL': 'https://bison.usgs.gov/api/search.json?count=1&tsn=178547'}"
      ]
     },
     "metadata": {},
     "output_type": "display_data"
    },
    {
     "name": "stdout",
     "output_type": "stream",
     "text": [
      "<pymongo.results.UpdateResult object at 0x10da790c8>\n"
     ]
    },
    {
     "data": {
      "text/plain": [
       "{'originCollection': 'gapspecies',\n",
       " 'originID': ObjectId('59b8496b3339a2d2a5efb0ff'),\n",
       " 'searchURL': 'https://bison.usgs.gov/api/search.json?count=1&tsn=180169'}"
      ]
     },
     "metadata": {},
     "output_type": "display_data"
    },
    {
     "name": "stdout",
     "output_type": "stream",
     "text": [
      "<pymongo.results.UpdateResult object at 0x10da7d148>\n"
     ]
    },
    {
     "data": {
      "text/plain": [
       "{'originCollection': 'gapspecies',\n",
       " 'originID': ObjectId('59b8496b3339a2d2a5efb100'),\n",
       " 'searchURL': 'https://bison.usgs.gov/api/search.json?count=1&tsn=726905'}"
      ]
     },
     "metadata": {},
     "output_type": "display_data"
    },
    {
     "name": "stdout",
     "output_type": "stream",
     "text": [
      "<pymongo.results.UpdateResult object at 0x10da850c8>\n"
     ]
    },
    {
     "data": {
      "text/plain": [
       "{'originCollection': 'gapspecies',\n",
       " 'originID': ObjectId('59b8496c3339a2d2a5efb101'),\n",
       " 'searchURL': 'https://bison.usgs.gov/api/search.json?count=1&tsn=179529'}"
      ]
     },
     "metadata": {},
     "output_type": "display_data"
    },
    {
     "name": "stdout",
     "output_type": "stream",
     "text": [
      "<pymongo.results.UpdateResult object at 0x10da86e48>\n"
     ]
    },
    {
     "data": {
      "text/plain": [
       "{'originCollection': 'gapspecies',\n",
       " 'originID': ObjectId('59b8496c3339a2d2a5efb102'),\n",
       " 'searchURL': 'https://bison.usgs.gov/api/search.json?count=1&tsn=178106'}"
      ]
     },
     "metadata": {},
     "output_type": "display_data"
    },
    {
     "name": "stdout",
     "output_type": "stream",
     "text": [
      "<pymongo.results.UpdateResult object at 0x10da8f548>\n"
     ]
    },
    {
     "data": {
      "text/plain": [
       "{'originCollection': 'gapspecies',\n",
       " 'originID': ObjectId('59b8496c3339a2d2a5efb103'),\n",
       " 'searchURL': 'https://bison.usgs.gov/api/search.json?count=1&tsn=180149'}"
      ]
     },
     "metadata": {},
     "output_type": "display_data"
    },
    {
     "name": "stdout",
     "output_type": "stream",
     "text": [
      "<pymongo.results.UpdateResult object at 0x10da95108>\n"
     ]
    },
    {
     "data": {
      "text/plain": [
       "{'originCollection': 'gapspecies',\n",
       " 'originID': ObjectId('59b8496d3339a2d2a5efb104'),\n",
       " 'searchURL': 'https://bison.usgs.gov/api/search.json?count=1&tsn=178259'}"
      ]
     },
     "metadata": {},
     "output_type": "display_data"
    },
    {
     "name": "stdout",
     "output_type": "stream",
     "text": [
      "<pymongo.results.UpdateResult object at 0x10da9c1c8>\n"
     ]
    },
    {
     "data": {
      "text/plain": [
       "{'originCollection': 'gapspecies',\n",
       " 'originID': ObjectId('59b8496d3339a2d2a5efb105'),\n",
       " 'searchURL': 'https://bison.usgs.gov/api/search.json?count=1&tsn=179034'}"
      ]
     },
     "metadata": {},
     "output_type": "display_data"
    },
    {
     "name": "stdout",
     "output_type": "stream",
     "text": [
      "<pymongo.results.UpdateResult object at 0x10daa2148>\n"
     ]
    },
    {
     "data": {
      "text/plain": [
       "{'originCollection': 'gapspecies',\n",
       " 'originID': ObjectId('59b8496d3339a2d2a5efb106'),\n",
       " 'searchURL': 'https://bison.usgs.gov/api/search.json?count=1&tsn=175086'}"
      ]
     },
     "metadata": {},
     "output_type": "display_data"
    },
    {
     "name": "stdout",
     "output_type": "stream",
     "text": [
      "<pymongo.results.UpdateResult object at 0x10daa7888>\n"
     ]
    },
    {
     "data": {
      "text/plain": [
       "{'originCollection': 'gapspecies',\n",
       " 'originID': ObjectId('59b8496d3339a2d2a5efb107'),\n",
       " 'searchURL': 'https://bison.usgs.gov/api/search.json?count=1&tsn=173656'}"
      ]
     },
     "metadata": {},
     "output_type": "display_data"
    },
    {
     "name": "stdout",
     "output_type": "stream",
     "text": [
      "<pymongo.results.UpdateResult object at 0x10daae508>\n"
     ]
    },
    {
     "data": {
      "text/plain": [
       "{'originCollection': 'gapspecies',\n",
       " 'originID': ObjectId('59b8496e3339a2d2a5efb108'),\n",
       " 'searchURL': 'https://bison.usgs.gov/api/search.json?count=1&tsn=177946'}"
      ]
     },
     "metadata": {},
     "output_type": "display_data"
    },
    {
     "name": "stdout",
     "output_type": "stream",
     "text": [
      "<pymongo.results.UpdateResult object at 0x10dab3508>\n"
     ]
    },
    {
     "data": {
      "text/plain": [
       "{'originCollection': 'gapspecies',\n",
       " 'originID': ObjectId('59b8496e3339a2d2a5efb109'),\n",
       " 'searchURL': 'https://bison.usgs.gov/api/search.json?count=1&tsn=552517'}"
      ]
     },
     "metadata": {},
     "output_type": "display_data"
    },
    {
     "name": "stdout",
     "output_type": "stream",
     "text": [
      "<pymongo.results.UpdateResult object at 0x10dabb048>\n"
     ]
    },
    {
     "data": {
      "text/plain": [
       "{'originCollection': 'gapspecies',\n",
       " 'originID': ObjectId('59b8496e3339a2d2a5efb10a'),\n",
       " 'searchURL': 'https://bison.usgs.gov/api/search.json?count=1&tsn=176567'}"
      ]
     },
     "metadata": {},
     "output_type": "display_data"
    },
    {
     "name": "stdout",
     "output_type": "stream",
     "text": [
      "<pymongo.results.UpdateResult object at 0x10dac0148>\n"
     ]
    },
    {
     "data": {
      "text/plain": [
       "{'originCollection': 'gapspecies',\n",
       " 'originID': ObjectId('59b8496f3339a2d2a5efb10b'),\n",
       " 'searchURL': 'https://bison.usgs.gov/api/search.json?count=1&tsn=179410'}"
      ]
     },
     "metadata": {},
     "output_type": "display_data"
    },
    {
     "name": "stdout",
     "output_type": "stream",
     "text": [
      "<pymongo.results.UpdateResult object at 0x10dac20c8>\n"
     ]
    },
    {
     "data": {
      "text/plain": [
       "{'originCollection': 'gapspecies',\n",
       " 'originID': ObjectId('59b8496f3339a2d2a5efb10c'),\n",
       " 'searchURL': 'https://bison.usgs.gov/api/search.json?count=1&tsn=178060'}"
      ]
     },
     "metadata": {},
     "output_type": "display_data"
    },
    {
     "name": "stdout",
     "output_type": "stream",
     "text": [
      "<pymongo.results.UpdateResult object at 0x10dac8c08>\n"
     ]
    },
    {
     "data": {
      "text/plain": [
       "{'originCollection': 'gapspecies',\n",
       " 'originID': ObjectId('59b8496f3339a2d2a5efb10d'),\n",
       " 'searchURL': 'https://bison.usgs.gov/api/search.json?count=1&tsn=178359'}"
      ]
     },
     "metadata": {},
     "output_type": "display_data"
    },
    {
     "name": "stdout",
     "output_type": "stream",
     "text": [
      "<pymongo.results.UpdateResult object at 0x10dad0248>\n"
     ]
    },
    {
     "data": {
      "text/plain": [
       "{'originCollection': 'gapspecies',\n",
       " 'originID': ObjectId('59b849703339a2d2a5efb10e'),\n",
       " 'searchURL': 'https://bison.usgs.gov/api/search.json?count=1&tsn=773520'}"
      ]
     },
     "metadata": {},
     "output_type": "display_data"
    },
    {
     "name": "stdout",
     "output_type": "stream",
     "text": [
      "<pymongo.results.UpdateResult object at 0x10dad90c8>\n"
     ]
    },
    {
     "data": {
      "text/plain": [
       "{'originCollection': 'gapspecies',\n",
       " 'originID': ObjectId('59b849703339a2d2a5efb10f'),\n",
       " 'searchURL': 'https://bison.usgs.gov/api/search.json?count=1&type=scientific_name&species=Lepus townsendii'}"
      ]
     },
     "metadata": {},
     "output_type": "display_data"
    },
    {
     "name": "stdout",
     "output_type": "stream",
     "text": [
      "<pymongo.results.UpdateResult object at 0x10dadbcc8>\n"
     ]
    },
    {
     "data": {
      "text/plain": [
       "{'originCollection': 'gapspecies',\n",
       " 'originID': ObjectId('59b849703339a2d2a5efb110'),\n",
       " 'searchURL': 'https://bison.usgs.gov/api/search.json?count=1&type=scientific_name&species=Aspidoscelis dixoni'}"
      ]
     },
     "metadata": {},
     "output_type": "display_data"
    },
    {
     "name": "stdout",
     "output_type": "stream",
     "text": [
      "<pymongo.results.UpdateResult object at 0x10dae42c8>\n"
     ]
    },
    {
     "data": {
      "text/plain": [
       "{'originCollection': 'gapspecies',\n",
       " 'originID': ObjectId('59b849703339a2d2a5efb111'),\n",
       " 'searchURL': 'https://bison.usgs.gov/api/search.json?count=1&type=scientific_name&species=Xantusia vigilis'}"
      ]
     },
     "metadata": {},
     "output_type": "display_data"
    },
    {
     "name": "stdout",
     "output_type": "stream",
     "text": [
      "<pymongo.results.UpdateResult object at 0x10dae4ec8>\n"
     ]
    },
    {
     "data": {
      "text/plain": [
       "{'originCollection': 'gapspecies',\n",
       " 'originID': ObjectId('59b849703339a2d2a5efb112'),\n",
       " 'searchURL': 'https://bison.usgs.gov/api/search.json?count=1&tsn=180306'}"
      ]
     },
     "metadata": {},
     "output_type": "display_data"
    },
    {
     "name": "stdout",
     "output_type": "stream",
     "text": [
      "<pymongo.results.UpdateResult object at 0x10dae9348>\n"
     ]
    }
   ],
   "source": [
    "for gapDoc in gapspecies.find({\"bisonCacheID\":{\"$exists\":False}}):\n",
    "    bisonDoc = {}\n",
    "    bisonDoc[\"originCollection\"] = \"gapspecies\"\n",
    "    bisonDoc[\"originID\"] = gapDoc[\"_id\"]\n",
    "    if \"ITIS_TSN\" in gapDoc:\n",
    "        bisonDoc[\"searchURL\"] = bison.getBISONSearchURL(\"TSN\",gapDoc[\"ITIS_TSN\"])\n",
    "    else:\n",
    "        bisonDoc[\"searchURL\"] = bison.getBISONSearchURL(\"scientific_name\",gapDoc[\"scientificname\"])\n",
    "    display (bisonDoc)\n",
    "    print (gapspecies.update_one({\"_id\":gapDoc[\"_id\"]},{\"$set\":{\"bisonCacheID\":bisoncache.insert_one(bisonDoc).inserted_id}},upsert=False))"
   ]
  },
  {
   "cell_type": "code",
   "execution_count": null,
   "metadata": {
    "collapsed": true
   },
   "outputs": [],
   "source": []
  }
 ],
 "metadata": {
  "kernelspec": {
   "display_name": "Python 3",
   "language": "python",
   "name": "python3"
  },
  "language_info": {
   "codemirror_mode": {
    "name": "ipython",
    "version": 3
   },
   "file_extension": ".py",
   "mimetype": "text/x-python",
   "name": "python",
   "nbconvert_exporter": "python",
   "pygments_lexer": "ipython3",
   "version": "3.5.3"
  }
 },
 "nbformat": 4,
 "nbformat_minor": 0
}
