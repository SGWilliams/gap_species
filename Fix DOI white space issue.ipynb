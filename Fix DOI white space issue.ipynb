{
 "cells": [
  {
   "cell_type": "markdown",
   "metadata": {
    "deletable": true,
    "editable": true
   },
   "source": [
    "This is one-time code that fixes an issue in the DOIs that were minted and recorded in the GAP species model items in ScienceBase. These are the foundational metadata containers that provide information about the GAP models and their access points. The original script that generated the items from a spreadsheet inventory used a method that posted the information to a web app to mint the DOI. That app returned some whitespace characters trailing the DOI that got inserted into ScienceBase. This code strips the newline and whitespace to clean up the string and puts the identifiers list back to the ScienceBase items.\n",
    "\n",
    "This is sloppy code, but it wasn't worth cleaning up too much. The ScienceBase process failed part way through iterating on all items in the collection, so I changed the code to call up a search result for all older items with a search on date range and just updated those. There is a cleaner way to do this by paginating search results, but I didn't take the time to figure that out. This eventually got the search done."
   ]
  },
  {
   "cell_type": "code",
   "execution_count": 1,
   "metadata": {
    "collapsed": true,
    "deletable": true,
    "editable": true
   },
   "outputs": [],
   "source": [
    "import pysb,time\n",
    "from IPython.display import display"
   ]
  },
  {
   "cell_type": "code",
   "execution_count": 2,
   "metadata": {
    "collapsed": false,
    "deletable": true,
    "editable": true
   },
   "outputs": [
    {
     "name": "stdout",
     "output_type": "stream",
     "text": [
      "Username: sbristol@usgs.gov\n",
      "········\n"
     ]
    },
    {
     "data": {
      "text/plain": [
       "<pysb.SbSession.SbSession at 0x112298a58>"
      ]
     },
     "execution_count": 2,
     "metadata": {},
     "output_type": "execute_result"
    }
   ],
   "source": [
    "sb = pysb.SbSession()\n",
    "username = input(\"Username: \")\n",
    "sb.loginc(str(username))"
   ]
  },
  {
   "cell_type": "code",
   "execution_count": 30,
   "metadata": {
    "collapsed": false,
    "deletable": true,
    "editable": true
   },
   "outputs": [
    {
     "data": {
      "text/plain": [
       "{'id': '58fa43b3e4b0b7ea54524bd8',\n",
       " 'identifiers': [{'key': 'aVDSAx',\n",
       "   'scheme': 'https://www.sciencebase.gov/vocab/category/item/identifier',\n",
       "   'type': 'GAP_SpeciesCode'},\n",
       "  {'key': 'doi:10.5066/F7B27SK6',\n",
       "   'scheme': 'https://www.sciencebase.gov/vocab/category/item/identifier',\n",
       "   'type': 'DOI'},\n",
       "  {'key': 'IP-082267',\n",
       "   'scheme': 'https://www.sciencebase.gov/vocab/category/item/identifier',\n",
       "   'type': 'IPDS'},\n",
       "  {'key': '173671',\n",
       "   'scheme': 'https://www.sciencebase.gov/vocab/category/item/identifier',\n",
       "   'type': 'ITIS_TSN'},\n",
       "  {'key': '100173',\n",
       "   'scheme': 'https://www.sciencebase.gov/vocab/category/item/identifier',\n",
       "   'type': 'EGTID'},\n",
       "  {'key': 'AAAAD12190',\n",
       "   'scheme': 'https://www.sciencebase.gov/vocab/category/item/identifier',\n",
       "   'type': 'NatureServeElementCode'}]}"
      ]
     },
     "metadata": {},
     "output_type": "display_data"
    },
    {
     "data": {
      "text/plain": [
       "{'id': '58fa46cfe4b0b7ea54524da9',\n",
       " 'identifiers': [{'key': 'bBRPEx',\n",
       "   'scheme': 'https://www.sciencebase.gov/vocab/category/item/identifier',\n",
       "   'type': 'GAP_SpeciesCode'},\n",
       "  {'key': 'doi:10.5066/F75Q4TD7',\n",
       "   'scheme': 'https://www.sciencebase.gov/vocab/category/item/identifier',\n",
       "   'type': 'DOI'},\n",
       "  {'key': 'IP-082267',\n",
       "   'scheme': 'https://www.sciencebase.gov/vocab/category/item/identifier',\n",
       "   'type': 'IPDS'},\n",
       "  {'key': '174685',\n",
       "   'scheme': 'https://www.sciencebase.gov/vocab/category/item/identifier',\n",
       "   'type': 'ITIS_TSN'},\n",
       "  {'key': '817986',\n",
       "   'scheme': 'https://www.sciencebase.gov/vocab/category/item/identifier',\n",
       "   'type': 'EGTID'},\n",
       "  {'key': 'ABNFC01020',\n",
       "   'scheme': 'https://www.sciencebase.gov/vocab/category/item/identifier',\n",
       "   'type': 'NatureServeElementCode'}]}"
      ]
     },
     "metadata": {},
     "output_type": "display_data"
    },
    {
     "data": {
      "text/plain": [
       "{'id': '58fa4952e4b0b7ea54524edd',\n",
       " 'identifiers': [{'key': 'bCOMYx',\n",
       "   'scheme': 'https://www.sciencebase.gov/vocab/category/item/identifier',\n",
       "   'type': 'GAP_SpeciesCode'},\n",
       "  {'key': 'doi:10.5066/F73J3B9C',\n",
       "   'scheme': 'https://www.sciencebase.gov/vocab/category/item/identifier',\n",
       "   'type': 'DOI'},\n",
       "  {'key': 'IP-082267',\n",
       "   'scheme': 'https://www.sciencebase.gov/vocab/category/item/identifier',\n",
       "   'type': 'IPDS'},\n",
       "  {'key': '554025',\n",
       "   'scheme': 'https://www.sciencebase.gov/vocab/category/item/identifier',\n",
       "   'type': 'ITIS_TSN'},\n",
       "  {'key': '105264',\n",
       "   'scheme': 'https://www.sciencebase.gov/vocab/category/item/identifier',\n",
       "   'type': 'EGTID'},\n",
       "  {'key': 'ABPBT02010',\n",
       "   'scheme': 'https://www.sciencebase.gov/vocab/category/item/identifier',\n",
       "   'type': 'NatureServeElementCode'}]}"
      ]
     },
     "metadata": {},
     "output_type": "display_data"
    },
    {
     "data": {
      "text/plain": [
       "{'id': '58fa4c94e4b0b7ea54525053',\n",
       " 'identifiers': [{'key': 'bGRVIx',\n",
       "   'scheme': 'https://www.sciencebase.gov/vocab/category/item/identifier',\n",
       "   'type': 'GAP_SpeciesCode'},\n",
       "  {'key': 'doi:10.5066/F7319T6X',\n",
       "   'scheme': 'https://www.sciencebase.gov/vocab/category/item/identifier',\n",
       "   'type': 'DOI'},\n",
       "  {'key': 'IP-082267',\n",
       "   'scheme': 'https://www.sciencebase.gov/vocab/category/item/identifier',\n",
       "   'type': 'IPDS'},\n",
       "  {'key': '179008',\n",
       "   'scheme': 'https://www.sciencebase.gov/vocab/category/item/identifier',\n",
       "   'type': 'ITIS_TSN'},\n",
       "  {'key': '101771',\n",
       "   'scheme': 'https://www.sciencebase.gov/vocab/category/item/identifier',\n",
       "   'type': 'EGTID'},\n",
       "  {'key': 'ABPBW01140',\n",
       "   'scheme': 'https://www.sciencebase.gov/vocab/category/item/identifier',\n",
       "   'type': 'NatureServeElementCode'}]}"
      ]
     },
     "metadata": {},
     "output_type": "display_data"
    },
    {
     "data": {
      "text/plain": [
       "{'id': '58fe1c3be4b0f87f0854ada6',\n",
       " 'identifiers': [{'key': 'rMPSLx',\n",
       "   'scheme': 'https://www.sciencebase.gov/vocab/category/item/identifier',\n",
       "   'type': 'GAP_SpeciesCode'},\n",
       "  {'key': 'doi:10.5066/F7NS0SBF',\n",
       "   'scheme': 'https://www.sciencebase.gov/vocab/category/item/identifier',\n",
       "   'type': 'DOI'},\n",
       "  {'key': 'IP-082267',\n",
       "   'scheme': 'https://www.sciencebase.gov/vocab/category/item/identifier',\n",
       "   'type': 'IPDS'},\n",
       "  {'key': '208657',\n",
       "   'scheme': 'https://www.sciencebase.gov/vocab/category/item/identifier',\n",
       "   'type': 'ITIS_TSN'},\n",
       "  {'key': '103880',\n",
       "   'scheme': 'https://www.sciencebase.gov/vocab/category/item/identifier',\n",
       "   'type': 'EGTID'},\n",
       "  {'key': 'ARAAD09020',\n",
       "   'scheme': 'https://www.sciencebase.gov/vocab/category/item/identifier',\n",
       "   'type': 'NatureServeElementCode'}]}"
      ]
     },
     "metadata": {},
     "output_type": "display_data"
    },
    {
     "data": {
      "text/plain": [
       "{'id': '58fe1ccee4b0f87f0854adb5',\n",
       " 'identifiers': [{'key': 'rNHGAx',\n",
       "   'scheme': 'https://www.sciencebase.gov/vocab/category/item/identifier',\n",
       "   'type': 'GAP_SpeciesCode'},\n",
       "  {'key': 'doi:10.5066/F7125R3Z',\n",
       "   'scheme': 'https://www.sciencebase.gov/vocab/category/item/identifier',\n",
       "   'type': 'DOI'},\n",
       "  {'key': 'IP-082267',\n",
       "   'scheme': 'https://www.sciencebase.gov/vocab/category/item/identifier',\n",
       "   'type': 'IPDS'},\n",
       "  {'key': '174148',\n",
       "   'scheme': 'https://www.sciencebase.gov/vocab/category/item/identifier',\n",
       "   'type': 'ITIS_TSN'},\n",
       "  {'key': '103150',\n",
       "   'scheme': 'https://www.sciencebase.gov/vocab/category/item/identifier',\n",
       "   'type': 'EGTID'},\n",
       "  {'key': 'ARADB36110',\n",
       "   'scheme': 'https://www.sciencebase.gov/vocab/category/item/identifier',\n",
       "   'type': 'NatureServeElementCode'}]}"
      ]
     },
     "metadata": {},
     "output_type": "display_data"
    },
    {
     "data": {
      "text/plain": [
       "{'id': '58fe1d05e4b0f87f0854adbb',\n",
       " 'identifiers': [{'key': 'rNMTUx',\n",
       "   'scheme': 'https://www.sciencebase.gov/vocab/category/item/identifier',\n",
       "   'type': 'GAP_SpeciesCode'},\n",
       "  {'key': 'doi:10.5066/F7RJ4GXC',\n",
       "   'scheme': 'https://www.sciencebase.gov/vocab/category/item/identifier',\n",
       "   'type': 'DOI'},\n",
       "  {'key': 'IP-082267',\n",
       "   'scheme': 'https://www.sciencebase.gov/vocab/category/item/identifier',\n",
       "   'type': 'IPDS'},\n",
       "  {'key': '173794',\n",
       "   'scheme': 'https://www.sciencebase.gov/vocab/category/item/identifier',\n",
       "   'type': 'ITIS_TSN'},\n",
       "  {'key': '101200',\n",
       "   'scheme': 'https://www.sciencebase.gov/vocab/category/item/identifier',\n",
       "   'type': 'EGTID'},\n",
       "  {'key': 'ARAAD05040',\n",
       "   'scheme': 'https://www.sciencebase.gov/vocab/category/item/identifier',\n",
       "   'type': 'NatureServeElementCode'}]}"
      ]
     },
     "metadata": {},
     "output_type": "display_data"
    },
    {
     "data": {
      "text/plain": [
       "{'id': '58fe2d9fe4b0f87f0854afc4',\n",
       " 'identifiers': [{'key': 'rWERIx',\n",
       "   'scheme': 'https://www.sciencebase.gov/vocab/category/item/identifier',\n",
       "   'type': 'GAP_SpeciesCode'},\n",
       "  {'key': 'doi:10.5066/F7ST7N9K',\n",
       "   'scheme': 'https://www.sciencebase.gov/vocab/category/item/identifier',\n",
       "   'type': 'DOI'},\n",
       "  {'key': 'IP-082267',\n",
       "   'scheme': 'https://www.sciencebase.gov/vocab/category/item/identifier',\n",
       "   'type': 'IPDS'},\n",
       "  {'key': '174146',\n",
       "   'scheme': 'https://www.sciencebase.gov/vocab/category/item/identifier',\n",
       "   'type': 'ITIS_TSN'},\n",
       "  {'key': '104971',\n",
       "   'scheme': 'https://www.sciencebase.gov/vocab/category/item/identifier',\n",
       "   'type': 'EGTID'},\n",
       "  {'key': 'ARADB36090',\n",
       "   'scheme': 'https://www.sciencebase.gov/vocab/category/item/identifier',\n",
       "   'type': 'NatureServeElementCode'}]}"
      ]
     },
     "metadata": {},
     "output_type": "display_data"
    },
    {
     "data": {
      "text/plain": [
       "{'id': '58fe2d22e4b0f87f0854afb3',\n",
       " 'identifiers': [{'key': 'rWDBRx',\n",
       "   'scheme': 'https://www.sciencebase.gov/vocab/category/item/identifier',\n",
       "   'type': 'GAP_SpeciesCode'},\n",
       "  {'key': 'doi:10.5066/F79S1PHQ',\n",
       "   'scheme': 'https://www.sciencebase.gov/vocab/category/item/identifier',\n",
       "   'type': 'DOI'},\n",
       "  {'key': 'IP-082267',\n",
       "   'scheme': 'https://www.sciencebase.gov/vocab/category/item/identifier',\n",
       "   'type': 'IPDS'},\n",
       "  {'key': '174310',\n",
       "   'scheme': 'https://www.sciencebase.gov/vocab/category/item/identifier',\n",
       "   'type': 'ITIS_TSN'},\n",
       "  {'key': '101695',\n",
       "   'scheme': 'https://www.sciencebase.gov/vocab/category/item/identifier',\n",
       "   'type': 'EGTID'},\n",
       "  {'key': 'ARADE02020',\n",
       "   'scheme': 'https://www.sciencebase.gov/vocab/category/item/identifier',\n",
       "   'type': 'NatureServeElementCode'}]}"
      ]
     },
     "metadata": {},
     "output_type": "display_data"
    },
    {
     "data": {
      "text/plain": [
       "{'id': '58fe2fb3e4b0f87f0854aff9',\n",
       " 'identifiers': [{'key': 'rYBSLx',\n",
       "   'scheme': 'https://www.sciencebase.gov/vocab/category/item/identifier',\n",
       "   'type': 'GAP_SpeciesCode'},\n",
       "  {'key': 'doi:10.5066/F7VM49RP',\n",
       "   'scheme': 'https://www.sciencebase.gov/vocab/category/item/identifier',\n",
       "   'type': 'DOI'},\n",
       "  {'key': 'IP-082267',\n",
       "   'scheme': 'https://www.sciencebase.gov/vocab/category/item/identifier',\n",
       "   'type': 'IPDS'},\n",
       "  {'key': 'ARACF14064',\n",
       "   'scheme': 'https://www.sciencebase.gov/vocab/category/item/identifier',\n",
       "   'type': 'NatureServeElementCode'}]}"
      ]
     },
     "metadata": {},
     "output_type": "display_data"
    },
    {
     "data": {
      "text/plain": [
       "{'id': '58fe1589e4b0f87f0854acba',\n",
       " 'identifiers': [{'key': 'rFLBRx',\n",
       "   'scheme': 'https://www.sciencebase.gov/vocab/category/item/identifier',\n",
       "   'type': 'GAP_SpeciesCode'},\n",
       "  {'key': 'doi:10.5066/F7XK8D0V',\n",
       "   'scheme': 'https://www.sciencebase.gov/vocab/category/item/identifier',\n",
       "   'type': 'DOI'},\n",
       "  {'key': 'IP-082267',\n",
       "   'scheme': 'https://www.sciencebase.gov/vocab/category/item/identifier',\n",
       "   'type': 'IPDS'},\n",
       "  {'key': '209080',\n",
       "   'scheme': 'https://www.sciencebase.gov/vocab/category/item/identifier',\n",
       "   'type': 'ITIS_TSN'},\n",
       "  {'key': 'ARADB340G1',\n",
       "   'scheme': 'https://www.sciencebase.gov/vocab/category/item/identifier',\n",
       "   'type': 'NatureServeElementCode'}]}"
      ]
     },
     "metadata": {},
     "output_type": "display_data"
    },
    {
     "data": {
      "text/plain": [
       "{'id': '58fe1f02e4b0f87f0854ae01',\n",
       " 'identifiers': [{'key': 'rPHNSx',\n",
       "   'scheme': 'https://www.sciencebase.gov/vocab/category/item/identifier',\n",
       "   'type': 'GAP_SpeciesCode'},\n",
       "  {'key': 'doi:10.5066/F7F47MKR',\n",
       "   'scheme': 'https://www.sciencebase.gov/vocab/category/item/identifier',\n",
       "   'type': 'DOI'},\n",
       "  {'key': 'IP-082267',\n",
       "   'scheme': 'https://www.sciencebase.gov/vocab/category/item/identifier',\n",
       "   'type': 'IPDS'},\n",
       "  {'key': '174155',\n",
       "   'scheme': 'https://www.sciencebase.gov/vocab/category/item/identifier',\n",
       "   'type': 'ITIS_TSN'},\n",
       "  {'key': '102597',\n",
       "   'scheme': 'https://www.sciencebase.gov/vocab/category/item/identifier',\n",
       "   'type': 'EGTID'},\n",
       "  {'key': 'ARADB17010',\n",
       "   'scheme': 'https://www.sciencebase.gov/vocab/category/item/identifier',\n",
       "   'type': 'NatureServeElementCode'}]}"
      ]
     },
     "metadata": {},
     "output_type": "display_data"
    },
    {
     "data": {
      "text/plain": [
       "{'id': '58fe2208e4b0f87f0854ae53',\n",
       " 'identifiers': [{'key': 'rRBSNx',\n",
       "   'scheme': 'https://www.sciencebase.gov/vocab/category/item/identifier',\n",
       "   'type': 'GAP_SpeciesCode'},\n",
       "  {'key': 'doi:10.5066/F7KP80KF',\n",
       "   'scheme': 'https://www.sciencebase.gov/vocab/category/item/identifier',\n",
       "   'type': 'DOI'},\n",
       "  {'key': 'IP-082267',\n",
       "   'scheme': 'https://www.sciencebase.gov/vocab/category/item/identifier',\n",
       "   'type': 'IPDS'},\n",
       "  {'key': '174131',\n",
       "   'scheme': 'https://www.sciencebase.gov/vocab/category/item/identifier',\n",
       "   'type': 'ITIS_TSN'},\n",
       "  {'key': '102128',\n",
       "   'scheme': 'https://www.sciencebase.gov/vocab/category/item/identifier',\n",
       "   'type': 'EGTID'},\n",
       "  {'key': 'ARADB34030',\n",
       "   'scheme': 'https://www.sciencebase.gov/vocab/category/item/identifier',\n",
       "   'type': 'NatureServeElementCode'}]}"
      ]
     },
     "metadata": {},
     "output_type": "display_data"
    },
    {
     "data": {
      "text/plain": [
       "{'id': '58fe2319e4b0f87f0854ae80',\n",
       " 'identifiers': [{'key': 'rRICOx',\n",
       "   'scheme': 'https://www.sciencebase.gov/vocab/category/item/identifier',\n",
       "   'type': 'GAP_SpeciesCode'},\n",
       "  {'key': 'doi:10.5066/F79885GJ',\n",
       "   'scheme': 'https://www.sciencebase.gov/vocab/category/item/identifier',\n",
       "   'type': 'DOI'},\n",
       "  {'key': 'IP-082267',\n",
       "   'scheme': 'https://www.sciencebase.gov/vocab/category/item/identifier',\n",
       "   'type': 'IPDS'},\n",
       "  {'key': '173805',\n",
       "   'scheme': 'https://www.sciencebase.gov/vocab/category/item/identifier',\n",
       "   'type': 'ITIS_TSN'},\n",
       "  {'key': '802963',\n",
       "   'scheme': 'https://www.sciencebase.gov/vocab/category/item/identifier',\n",
       "   'type': 'EGTID'},\n",
       "  {'key': 'ARAAD07020',\n",
       "   'scheme': 'https://www.sciencebase.gov/vocab/category/item/identifier',\n",
       "   'type': 'NatureServeElementCode'}]}"
      ]
     },
     "metadata": {},
     "output_type": "display_data"
    },
    {
     "data": {
      "text/plain": [
       "{'id': '58fe2383e4b0f87f0854ae8d',\n",
       " 'identifiers': [{'key': 'rROBOx',\n",
       "   'scheme': 'https://www.sciencebase.gov/vocab/category/item/identifier',\n",
       "   'type': 'GAP_SpeciesCode'},\n",
       "  {'key': 'doi:10.5066/F7S75DSB',\n",
       "   'scheme': 'https://www.sciencebase.gov/vocab/category/item/identifier',\n",
       "   'type': 'DOI'},\n",
       "  {'key': 'IP-082267',\n",
       "   'scheme': 'https://www.sciencebase.gov/vocab/category/item/identifier',\n",
       "   'type': 'IPDS'},\n",
       "  {'key': '174331',\n",
       "   'scheme': 'https://www.sciencebase.gov/vocab/category/item/identifier',\n",
       "   'type': 'ITIS_TSN'},\n",
       "  {'key': '103953',\n",
       "   'scheme': 'https://www.sciencebase.gov/vocab/category/item/identifier',\n",
       "   'type': 'EGTID'},\n",
       "  {'key': 'ARADA01020',\n",
       "   'scheme': 'https://www.sciencebase.gov/vocab/category/item/identifier',\n",
       "   'type': 'NatureServeElementCode'}]}"
      ]
     },
     "metadata": {},
     "output_type": "display_data"
    },
    {
     "data": {
      "text/plain": [
       "{'id': '58fe2ed6e4b0f87f0854afe7',\n",
       " 'identifiers': [{'key': 'rWPTUx',\n",
       "   'scheme': 'https://www.sciencebase.gov/vocab/category/item/identifier',\n",
       "   'type': 'GAP_SpeciesCode'},\n",
       "  {'key': 'doi:10.5066/F7H993NJ',\n",
       "   'scheme': 'https://www.sciencebase.gov/vocab/category/item/identifier',\n",
       "   'type': 'DOI'},\n",
       "  {'key': 'IP-082267',\n",
       "   'scheme': 'https://www.sciencebase.gov/vocab/category/item/identifier',\n",
       "   'type': 'IPDS'},\n",
       "  {'key': '668668',\n",
       "   'scheme': 'https://www.sciencebase.gov/vocab/category/item/identifier',\n",
       "   'type': 'ITIS_TSN'},\n",
       "  {'key': '102191',\n",
       "   'scheme': 'https://www.sciencebase.gov/vocab/category/item/identifier',\n",
       "   'type': 'EGTID'},\n",
       "  {'key': 'ARAAD02030',\n",
       "   'scheme': 'https://www.sciencebase.gov/vocab/category/item/identifier',\n",
       "   'type': 'NatureServeElementCode'}]}"
      ]
     },
     "metadata": {},
     "output_type": "display_data"
    },
    {
     "data": {
      "text/plain": [
       "{'id': '58fe0968e4b007492829451a',\n",
       " 'identifiers': [{'key': 'mWYSQn',\n",
       "   'scheme': 'https://www.sciencebase.gov/vocab/category/item/identifier',\n",
       "   'type': 'GAP_SpeciesCode'},\n",
       "  {'key': 'doi:10.5066/F7MS3R62',\n",
       "   'scheme': 'https://www.sciencebase.gov/vocab/category/item/identifier',\n",
       "   'type': 'DOI'},\n",
       "  {'key': 'IP-082267',\n",
       "   'scheme': 'https://www.sciencebase.gov/vocab/category/item/identifier',\n",
       "   'type': 'IPDS'},\n",
       "  {'key': '180152',\n",
       "   'scheme': 'https://www.sciencebase.gov/vocab/category/item/identifier',\n",
       "   'type': 'ITIS_TSN'},\n",
       "  {'key': '106011',\n",
       "   'scheme': 'https://www.sciencebase.gov/vocab/category/item/identifier',\n",
       "   'type': 'EGTID'},\n",
       "  {'key': 'AMAFB05191',\n",
       "   'scheme': 'https://www.sciencebase.gov/vocab/category/item/identifier',\n",
       "   'type': 'NatureServeElementCode'}]}"
      ]
     },
     "metadata": {},
     "output_type": "display_data"
    },
    {
     "data": {
      "text/plain": [
       "{'id': '58fe288fe4b0f87f0854af23',\n",
       " 'identifiers': [{'key': 'rSPRAx',\n",
       "   'scheme': 'https://www.sciencebase.gov/vocab/category/item/identifier',\n",
       "   'type': 'GAP_SpeciesCode'},\n",
       "  {'key': 'doi:10.5066/F7BV7F28',\n",
       "   'scheme': 'https://www.sciencebase.gov/vocab/category/item/identifier',\n",
       "   'type': 'DOI'},\n",
       "  {'key': 'IP-082267',\n",
       "   'scheme': 'https://www.sciencebase.gov/vocab/category/item/identifier',\n",
       "   'type': 'IPDS'},\n",
       "  {'key': '174226',\n",
       "   'scheme': 'https://www.sciencebase.gov/vocab/category/item/identifier',\n",
       "   'type': 'ITIS_TSN'},\n",
       "  {'key': '103142',\n",
       "   'scheme': 'https://www.sciencebase.gov/vocab/category/item/identifier',\n",
       "   'type': 'EGTID'},\n",
       "  {'key': 'ARADB12010',\n",
       "   'scheme': 'https://www.sciencebase.gov/vocab/category/item/identifier',\n",
       "   'type': 'NatureServeElementCode'}]}"
      ]
     },
     "metadata": {},
     "output_type": "display_data"
    },
    {
     "data": {
      "text/plain": [
       "{'id': '58fe2ad3e4b0f87f0854af70',\n",
       " 'identifiers': [{'key': 'rTIRAx',\n",
       "   'scheme': 'https://www.sciencebase.gov/vocab/category/item/identifier',\n",
       "   'type': 'GAP_SpeciesCode'},\n",
       "  {'key': 'doi:10.5066/F7RX99J2',\n",
       "   'scheme': 'https://www.sciencebase.gov/vocab/category/item/identifier',\n",
       "   'type': 'DOI'},\n",
       "  {'key': 'IP-082267',\n",
       "   'scheme': 'https://www.sciencebase.gov/vocab/category/item/identifier',\n",
       "   'type': 'IPDS'},\n",
       "  {'key': '174306',\n",
       "   'scheme': 'https://www.sciencebase.gov/vocab/category/item/identifier',\n",
       "   'type': 'ITIS_TSN'},\n",
       "  {'key': '100455',\n",
       "   'scheme': 'https://www.sciencebase.gov/vocab/category/item/identifier',\n",
       "   'type': 'EGTID'},\n",
       "  {'key': 'ARADE02040',\n",
       "   'scheme': 'https://www.sciencebase.gov/vocab/category/item/identifier',\n",
       "   'type': 'NatureServeElementCode'}]}"
      ]
     },
     "metadata": {},
     "output_type": "display_data"
    },
    {
     "data": {
      "text/plain": [
       "{'id': '58fe2b13e4b0f87f0854af77',\n",
       " 'identifiers': [{'key': 'rTMTUx',\n",
       "   'scheme': 'https://www.sciencebase.gov/vocab/category/item/identifier',\n",
       "   'type': 'GAP_SpeciesCode'},\n",
       "  {'key': 'doi:10.5066/F7HH6HHN',\n",
       "   'scheme': 'https://www.sciencebase.gov/vocab/category/item/identifier',\n",
       "   'type': 'DOI'},\n",
       "  {'key': 'IP-082267',\n",
       "   'scheme': 'https://www.sciencebase.gov/vocab/category/item/identifier',\n",
       "   'type': 'IPDS'},\n",
       "  {'key': '173802',\n",
       "   'scheme': 'https://www.sciencebase.gov/vocab/category/item/identifier',\n",
       "   'type': 'ITIS_TSN'},\n",
       "  {'key': '103965',\n",
       "   'scheme': 'https://www.sciencebase.gov/vocab/category/item/identifier',\n",
       "   'type': 'EGTID'},\n",
       "  {'key': 'ARAAD05100',\n",
       "   'scheme': 'https://www.sciencebase.gov/vocab/category/item/identifier',\n",
       "   'type': 'NatureServeElementCode'}]}"
      ]
     },
     "metadata": {},
     "output_type": "display_data"
    }
   ],
   "source": [
    "#habitatMapCollectionID = \"527d0a83e4b0850ea0518326\"\n",
    "#collectionIDs = sb.get_child_ids(habitatMapCollectionID)\n",
    "\n",
    "items = sb.find_items('filter=dateRange!%3D%7B\"choice\"%3A\"day\"%7D&parentId=527d0a83e4b0850ea0518326&max=100')\n",
    "\n",
    "#for item in collectionIDs:\n",
    "for item in items[\"items\"]:\n",
    "    item = item[\"id\"]\n",
    "\n",
    "    thisItem = sb.get_item(item)\n",
    "    thisItemUpdate = {}\n",
    "    thisItemUpdate[\"id\"] = item\n",
    "\n",
    "    thisItemNewIdentifiers = []\n",
    "    for identifier in thisItem[\"identifiers\"]:\n",
    "        if identifier[\"type\"] == \"DOI\":\n",
    "            thisID = {}\n",
    "            thisID[\"type\"] = identifier[\"type\"]\n",
    "            thisID[\"scheme\"] = identifier[\"scheme\"]\n",
    "            thisID[\"key\"] = identifier[\"key\"].strip()\n",
    "        else:\n",
    "            thisID = identifier\n",
    "        thisItemNewIdentifiers.append(thisID.copy())\n",
    "        thisItemUpdate[\"identifiers\"] = thisItemNewIdentifiers\n",
    "\n",
    "    sb.update_item(thisItemUpdate)\n",
    "    display (thisItemUpdate)\n",
    "    time.sleep(0.5)"
   ]
  },
  {
   "cell_type": "code",
   "execution_count": null,
   "metadata": {
    "collapsed": true
   },
   "outputs": [],
   "source": []
  }
 ],
 "metadata": {
  "kernelspec": {
   "display_name": "Python 3",
   "language": "python",
   "name": "python3"
  },
  "language_info": {
   "codemirror_mode": {
    "name": "ipython",
    "version": 3
   },
   "file_extension": ".py",
   "mimetype": "text/x-python",
   "name": "python",
   "nbconvert_exporter": "python",
   "pygments_lexer": "ipython3",
   "version": "3.5.3"
  }
 },
 "nbformat": 4,
 "nbformat_minor": 0
}
