{
 "cells": [
  {
   "cell_type": "markdown",
   "metadata": {
    "deletable": true,
    "editable": true
   },
   "source": [
    "This notebook queries the Taxonomic Information Registry for information retrieved from NatureServe \"Species Explorer\" on GAP species via the \"EGTID\" values in the GAP registry info. We may want to feed some aspects of this information back into the GAP species items in ScienceBase in order to set up faceted searching in that catalog and for other analytical purposes."
   ]
  },
  {
   "cell_type": "code",
   "execution_count": 8,
   "metadata": {
    "collapsed": true,
    "deletable": true,
    "editable": true
   },
   "outputs": [],
   "source": [
    "import requests,configparser,datetime\n",
    "from IPython.display import display"
   ]
  },
  {
   "cell_type": "code",
   "execution_count": 9,
   "metadata": {
    "collapsed": true,
    "deletable": true,
    "editable": true
   },
   "outputs": [],
   "source": [
    "# Get API keys and any other config details from a file that is external to the code.\n",
    "config = configparser.RawConfigParser()\n",
    "config.read_file(open(r'../config/stuff.py'))"
   ]
  },
  {
   "cell_type": "code",
   "execution_count": 10,
   "metadata": {
    "collapsed": true,
    "deletable": true,
    "editable": true
   },
   "outputs": [],
   "source": [
    "# Build base URL with API key using input from the external config.\n",
    "def getBaseURL():\n",
    "    gc2APIKey = config.get('apiKeys','apiKey_GC2_BCB').replace('\"','')\n",
    "    apiBaseURL = \"https://gc2.mapcentia.com/api/v1/sql/bcb?key=\"+gc2APIKey\n",
    "    return apiBaseURL"
   ]
  },
  {
   "cell_type": "code",
   "execution_count": 15,
   "metadata": {
    "collapsed": false,
    "deletable": true,
    "editable": true
   },
   "outputs": [
    {
     "name": "stdout",
     "output_type": "stream",
     "text": [
      "rSTWHx  --  Striped Whipsnake  --  Secure\n",
      "bSWTHx  --  Swainson's Thrush  --  Secure\n",
      "bYBMAx  --  Yellow-billed Magpie  --  Vulnerable\n",
      "mWIMAx  --  West Indian Manatee  --  Imperiled\n",
      "bNSWOx  --  Northern Saw-whet Owl  --  Secure\n",
      "bOSPRx  --  Osprey  --  Secure\n",
      "bINBUx  --  Indigo Bunting  --  Secure\n",
      "bBHCOx  --  Brown-headed Cowbird  --  Secure\n",
      "bWEWAx  --  Worm-eating Warbler  --  Secure\n",
      "bEATOx  --  Eastern Towhee  --  Secure\n",
      "aSPRSx  --  Spring Salamander  --  Secure\n",
      "bSORAx  --  Sora  --  Secure\n",
      "bNOMOx  --  Northern Mockingbird  --  Secure\n",
      "bCEDWx  --  Cedar Waxwing  --  Secure\n",
      "mMUDEx  --  Mule Deer  --  Secure\n",
      "mWOLVx  --  Wolverine  --  Apparently Secure\n",
      "mNOSSx  --  Northern Short-tailed Shrew  --  Secure\n",
      "bCAWAx  --  Canada Warbler  --  Secure\n",
      "bRNGRx  --  Red-necked Grebe  --  Secure\n",
      "mPRONx  --  Pronghorn  --  Secure\n",
      "rEBTUx  --  Eastern Box Turtle  --  Secure\n",
      "bOVENx  --  Ovenbird  --  Secure\n",
      "bTBMUx  --  Thick-billed Murre  --  Secure\n",
      "bRUHUx  --  Rufous Hummingbird  --  Secure\n",
      "bPHAIx  --  Phainopepla  --  Secure\n",
      "mYEMAn  --  Wet Mountains Marmot  --  Imperiled\n",
      "aADSAx  --  Apalachicola Dusky Salamander  --  Apparently Secure\n",
      "mCHITx  --  Chital  --  Apparently Secure\n",
      "bBUSHx  --  Bushtit  --  Secure\n",
      "bRSHAx  --  Red-shouldered Hawk  --  Secure\n",
      "mABSQx  --  Abert's Squirrel  --  Secure\n",
      "aFOTOx  --  Fowler's Toad  --  Secure\n",
      "bPIJAx  --  Pinyon Jay  --  Secure\n",
      "bPIGUx  --  Pigeon Guillemot  --  Secure\n",
      "bBNSTx  --  Black-necked Stilt  --  Secure\n",
      "bSPGRx  --  Spruce Grouse  --  Secure\n",
      "mSEWEx  --  Sewellel  --  Secure\n",
      "aCUTRx  --  Cuban Treefrog  --  Secure\n",
      "aBLTOx  --  Black Toad  --  Critically Imperiled\n",
      "rSBLIx  --  Slevin's Bunchgrass Lizard  --  Apparently Secure\n",
      "aSQTRx  --  Squirrel Treefrog  --  Secure\n",
      "bSMLOx  --  Smith's  Longspur  --  Apparently Secure\n",
      "bRBPIx  --  Red-billed Pigeon  --  Secure\n",
      "bVATHx  --  Varied Thrush  --  Secure\n",
      "aCVSAx  --  Cave Salamander  --  Secure\n",
      "bMUSWx  --  Mute Swan  --  Secure\n",
      "mPASHc  --  Pacific Shrew cascadensis  --  Vulnerable\n",
      "aBOTOx  --  Western Toad  --  Apparently Secure\n",
      "mPJMOx  --  Pacific Jumping Mouse  --  Secure\n",
      "bGCSPx  --  Golden-crowned Sparrow  --  Secure\n",
      "bGREJx  --  Green Jay  --  Secure\n",
      "mBPGOx  --  Baird's Pocket Gopher  --  Secure\n",
      "mCADEx  --  California Deermouse  --  Secure\n",
      "bCOGDx  --  Common Ground-dove  --  Secure\n",
      "mOLDEa  --  Choctawhatchee Beach Deermouse  --  Critically Imperiled\n",
      "rSCSNx  --  Striped Crayfish Snake  --  Secure\n",
      "mOLDEm  --  Alabama Beach Deermouse  --  Critically Imperiled\n",
      "bRBWOx  --  Red-bellied Woodpecker  --  Secure\n",
      "mBGSQx  --  Belding's Ground Squirrel  --  Secure\n",
      "bCRCAx  --  Crested Caracara  --  Secure\n",
      "aWESPx  --  Western Spadefoot  --  Vulnerable\n",
      "bWITUm  --  Merriam's Turkey  --  Secure\n",
      "bLESCx  --  Lesser Scaup  --  Secure\n",
      "mWOVOx  --  Woodland Vole  --  Secure\n",
      "bBBMAx  --  Black-billed Magpie  --  Secure\n",
      "aSNTOx  --  Sonoran Desert Toad  --  Secure\n",
      "aGBSPx  --  Great Basin Spadefoot  --  Secure\n",
      "aMWLFx  --  Mexican White-lipped Frog  --  Secure\n",
      "aGRSIx  --  Greater Siren  --  Secure\n",
      "mWGSQx  --  Western Gray Squirrel  --  Secure\n",
      "bCASPx  --  Cassin's Sparrow  --  Secure\n",
      "aSOTOx  --  Southern Toad  --  Secure\n",
      "rTEGAx  --  Terrestrial Gartersnake  --  Secure\n",
      "mMLTBx  --  Mexican Long-tongued Bat  --  Vulnerable\n",
      "bNOPOc  --  Northern Pygmy-owl californicum  --  Apparently Secure\n",
      "bMOUQx  --  Mountain Quail  --  Secure\n",
      "bMASHx  --  Manx Shearwater  --  Secure\n",
      "rSCARx  --  Scarletsnake  --  Secure\n",
      "rRRATx  --  Rock Rattlesnake  --  Secure\n",
      "mYCCHx  --  Yellow-cheeked Chipmunk  --  Apparently Secure\n",
      "rEARAx  --  Eastern Ratsnake  --  Apparently Secure\n",
      "aMXTRx  --  Mexican Treefrog  --  Secure\n",
      "aCASAx  --  Calfifornia Giant Salamander  --  Vulnerable\n",
      "rCOGAx  --  Common Gartersnake  --  Secure\n",
      "bGBTEx  --  Gull-billed Tern  --  Secure\n",
      "rECLIx  --  Eastern Collared Lizard  --  Secure\n",
      "bPAGPx  --  Pacific Golden-plover  --  Secure\n",
      "rCOWAx  --  Concho Watersnake  --  Imperiled\n",
      "rFSLIx  --  Florida Scrub Lizard  --  Imperiled\n",
      "aBVTRx  --  Bird-voiced Treefrog  --  Secure\n",
      "rSPRAx  --  Speckled Racer  --  Secure\n",
      "rEMTUx  --  Escambia Map Turtle  --  Imperiled\n",
      "bAMDIx  --  American Dipper  --  Secure\n",
      "rMGLIx  --  Mimic Glass Lizard  --  Vulnerable\n",
      "bWIFLx  --  Willow Flycatcher  --  Secure\n"
     ]
    }
   ],
   "source": [
    "q_gapSppWithFedStatus = \"SELECT registration->'GAP_SpeciesCode' AS gap_speciescode, \\\n",
    "    registration->'GAP_ScientificName' AS gap_scientificname, \\\n",
    "    registration->'GAP_CommonName' AS gap_commonname, \\\n",
    "    registration->'ScienceBaseItemID' AS sciencebaseitemid, \\\n",
    "    natureserve->'roundedGlobalStatusRankDescription' AS statustext, \\\n",
    "    natureserve \\\n",
    "    FROM tir.tir2 \\\n",
    "    WHERE registration->'GAP_SpeciesCode' IS NOT NULL AND exist(natureserve, 'roundedGlobalStatusRankDescription')\"\n",
    "r_gapSppWithFedStatus = requests.get(getBaseURL()+\"&q=\"+q_gapSppWithFedStatus).json()\n",
    "\n",
    "uniqueStatus = []\n",
    "maxLenNatureServe = 0\n",
    "longestNatureServeProp = \"\"\n",
    "\n",
    "for feature in r_gapSppWithFedStatus[\"features\"]:\n",
    "    print (feature[\"properties\"][\"gap_speciescode\"], \" -- \", feature[\"properties\"][\"gap_commonname\"], \" -- \", feature[\"properties\"][\"statustext\"])\n",
    "    \n",
    "    if len(feature[\"properties\"][\"natureserve\"]) > maxLenNatureServe:\n",
    "        longestNatureServeProp = feature[\"properties\"][\"natureserve\"]\n",
    "    \n",
    "    if feature[\"properties\"][\"statustext\"] not in uniqueStatus:\n",
    "        uniqueStatus.append(feature[\"properties\"][\"statustext\"])"
   ]
  },
  {
   "cell_type": "code",
   "execution_count": 16,
   "metadata": {
    "collapsed": false,
    "deletable": true,
    "editable": true
   },
   "outputs": [
    {
     "data": {
      "text/plain": [
       "['Secure',\n",
       " 'Vulnerable',\n",
       " 'Imperiled',\n",
       " 'Apparently Secure',\n",
       " 'Critically Imperiled']"
      ]
     },
     "metadata": {},
     "output_type": "display_data"
    }
   ],
   "source": [
    "# List of the unique \"rounded global status rank description\" values for GAP species\n",
    "\n",
    "display (uniqueStatus)"
   ]
  },
  {
   "cell_type": "code",
   "execution_count": 17,
   "metadata": {
    "collapsed": false,
    "deletable": true,
    "editable": true
   },
   "outputs": [
    {
     "name": "stdout",
     "output_type": "stream",
     "text": [
      "\"cacheDate\"=>\"2017-05-22T20:11:29.623217\", \"StateCode:Iowa\"=>\"S4B,S4N\", \"StateCode:Ohio\"=>\"S5\", \"StateCode:Utah\"=>\"S4B\", \"StateCode:Idaho\"=>\"S5B\", \"StateCode:Maine\"=>\"S3?B\", \"StateCode:Texas\"=>\"S1B\", \"elementGlobalID\"=>\"ELEMENT_GLOBAL.2.103270\", \"GlobalStatusRank\"=>\"G5\", \"StateCode:Kansas\"=>\"S2?B\", \"StateCode:Nevada\"=>\"S3B\", \"StateCode:Oregon\"=>\"S3S4B\", \"StateCode:Alabama\"=>\"S1B\", \"StateCode:Arizona\"=>\"S1\", \"StateCode:Florida\"=>\"SNA\", \"StateCode:Georgia\"=>\"S3\", \"StateCode:Indiana\"=>\"S4B\", \"StateCode:Montana\"=>\"S4B\", \"StateCode:Vermont\"=>\"S4B\", \"StateCode:Wyoming\"=>\"S4B\", \"StateCode:Arkansas\"=>\"S1B,S3N\", \"StateCode:Colorado\"=>\"S4\", \"StateCode:Delaware\"=>\"S3B\", \"StateCode:Illinois\"=>\"S5\", \"StateCode:Kentucky\"=>\"S3S4B\", \"StateCode:Maryland\"=>\"S4B\", \"StateCode:Michigan\"=>\"S5\", \"StateCode:Missouri\"=>\"S3?\", \"StateCode:Nebraska\"=>\"S4\", \"StateCode:New York\"=>\"S5B\", \"StateCode:Oklahoma\"=>\"S4N\", \"StateCode:Virginia\"=>\"S4B\", \"StateCode:Louisiana\"=>\"SNA\", \"StateCode:Minnesota\"=>\"SNRB\", \"StateCode:Tennessee\"=>\"S2S3\", \"StateCode:Wisconsin\"=>\"S4B\", \"StateCode:California\"=>\"S1S2\", \"StateCode:New Jersey\"=>\"S4B\", \"StateCode:New Mexico\"=>\"S4N\", \"StateCode:Washington\"=>\"S4B\", \"StateCode:Connecticut\"=>\"S5B\", \"StateCode:Mississippi\"=>\"SNA\", \"StateCode:North Dakota\"=>\"SNRB\", \"StateCode:Pennsylvania\"=>\"S5B\", \"StateCode:Rhode Island\"=>\"S3B,S3N\", \"StateCode:South Dakota\"=>\"S5B\", \"StateCode:Massachusetts\"=>\"S4B\", \"StateCode:Navajo Nation\"=>\"S1B\", \"StateCode:New Hampshire\"=>\"S5B\", \"StateCode:West Virginia\"=>\"S4B\", \"StateCode:North Carolina\"=>\"S3B\", \"StateCode:South Carolina\"=>\"S4\", \"globalStatusLastReviewed\"=>\"2016-04-07\", \"usNationalStatusRankCode\"=>\"N5B\", \"usNationalStatusLastReviewed\"=>\"1997-03-19\", \"roundedGlobalStatusRankDescription\"=>\"Secure\"\n"
     ]
    }
   ],
   "source": [
    "# Example of what the full set of NatureServe properties (key/value pairs) looks like\n",
    "\n",
    "print (longestNatureServeProp)"
   ]
  },
  {
   "cell_type": "code",
   "execution_count": null,
   "metadata": {
    "collapsed": true
   },
   "outputs": [],
   "source": []
  }
 ],
 "metadata": {
  "kernelspec": {
   "display_name": "Python 3",
   "language": "python",
   "name": "python3"
  },
  "language_info": {
   "codemirror_mode": {
    "name": "ipython",
    "version": 3
   },
   "file_extension": ".py",
   "mimetype": "text/x-python",
   "name": "python",
   "nbconvert_exporter": "python",
   "pygments_lexer": "ipython3",
   "version": "3.5.3"
  }
 },
 "nbformat": 4,
 "nbformat_minor": 0
}
