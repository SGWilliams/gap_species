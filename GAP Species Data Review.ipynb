{
 "cells": [
  {
   "cell_type": "markdown",
   "metadata": {},
   "source": [
    "The Gap Analysis Project in the USGS Core Science Systems, Core Science Analytics, Synthesis and Library Program conducts species habitat distribution modeling for terrestrial vertebrates in the Continental US using a deductive modeling approach based on habitat requirements and the GAP Land Cover product.\n",
    "\n",
    "This notebook provides an overall table of contents for the full data release package that includes the following:\n",
    "* Individual species habitat distribution maps, modeling parameters, citations, and other documentation (results of the modeling process)\n",
    "* Individual species ranges\n",
    "* Spatial datasets prepared for and used in the modeling process\n",
    "\n",
    "The notebook serves as a directory for use in review of the overall dataset under USGS Fundamental Science Practices and as a live check of our data management process for the product."
   ]
  },
  {
   "cell_type": "code",
   "execution_count": 12,
   "metadata": {
    "collapsed": true
   },
   "outputs": [],
   "source": [
    "# Dependencies and setup\n",
    "import requests\n",
    "import pysb\n",
    "from IPython.display import display\n",
    "from IPython.core.display import HTML\n",
    "\n",
    "_habitatMapRoot = \"527d0a83e4b0850ea0518326\""
   ]
  },
  {
   "cell_type": "markdown",
   "metadata": {},
   "source": [
    "### Secure connection to ScienceBase\n",
    "\n",
    "Because some of the contents of this overall data package are still pre-release, we need to set up a secure connection to ScienceBase in order to run this code live. The output from the last live run of this notebook will be visible in GitHub and can mostly be used from that point without needing to rerun the code."
   ]
  },
  {
   "cell_type": "code",
   "execution_count": 4,
   "metadata": {
    "collapsed": false
   },
   "outputs": [
    {
     "name": "stdout",
     "output_type": "stream",
     "text": [
      "Username: sbristol@usgs.gov\n",
      "········\n"
     ]
    },
    {
     "data": {
      "text/plain": [
       "<pysb.SbSession.SbSession at 0x10ddca128>"
      ]
     },
     "execution_count": 4,
     "metadata": {},
     "output_type": "execute_result"
    }
   ],
   "source": [
    "sb = pysb.SbSession()\n",
    "username = input(\"Username: \")\n",
    "sb.loginc(str(username))"
   ]
  },
  {
   "cell_type": "markdown",
   "metadata": {},
   "source": [
    "# Species Habitat Distribution Maps\n",
    "\n",
    "The core product in this package is the set of 1,719 habitat maps for vertebrate species found in the Continental US. This part of the data consists of a formal metadata record that provides documentation for the modeling process and resulting habitat maps. This record forms the basis for a collection item in ScienceBase, which serves as the persistent identifier for the collection, the point of citing the entire collection, and the repository for the habitat maps themselves.\n",
    "\n",
    "The following code blocks provide links and a summary of the information about the collection and the individual maps."
   ]
  },
  {
   "cell_type": "code",
   "execution_count": 28,
   "metadata": {
    "collapsed": false
   },
   "outputs": [
    {
     "data": {
      "text/html": [
       "<h3>U.S. Geological Survey - Gap Analysis Program Species Habitat Distribution Maps (In Review)</h3><h4>Abstract</h4><p>Gap Analysis Program (GAP) habitat maps are predictions of the spatial distribution of suitable environmental and land cover conditions within the United States for individual species. Mapped areas represent places where the environment is suitable for the species to occur (i.e. suitable to support one or more life history requirements for breeding, resting, or foraging), while areas not included in the map are those predicted to be unsuitable for the species. While the actual distributions of many species are likely to be habitat limited, suitable habitat will not always be occupied because of population dynamics and species interactions. Furthermore, these maps correspond to midscale characterizations of landscapes, but individual animals may deem areas to be unsuitable because of presence or absence of fine-scale features and characteristics that are not represented in our models (e.g. snags, vernal pools, shrubby undergrowth). These maps are intended to be used at a 1:100,000 or smaller map scale. These habitat maps are created by applying a deductive habitat model to remotely-sensed data layers within a species’ range. The deductive habitat models are built by compiling information on species’ habitat associations and entering it into a relational database). Information is compiled from the best available characterizations of species’ habitat, which included species accounts in books and databases, primary peer-reviewed literature. For all species, the compiled habitat information is used by a biologist to determine which of the ecological systems and land use classes represented in the National Gap Analysis Program’s Land Cover Map Ver. 1.0 that the species is associated with. For many species, information on other mapped factors that define the environment that is suitable is also entered into the database. These factors included elevation (i.e. minimum, maximum, proximity to water features, proximity to wetlands, level of human development, forest ecotone width, and forest edge; and each of these factors corresponded to a data layer that is available during the map production (hereafter, “ancillary data layers” see descriptions and links below). The maps are generated using a python script that queries the model parameters in the database; reclassifies the GAP Land Cover Ver 1.0 and ancillary data layers within the species’ range; and combines the reclassified layers to produce the final 30m resolution habitat map. Map output is, therefore, not only a reflection of the ecological systems that are selected in the habitat model, but also any other constraints in the model that are represented by the ancillary data layers. Modeling regions were used to stratify the conterminous U.S. into six regions (Northwest, Southwest, Great Plains, Upper Midwest, Southeast, and Northeast). These regions allowed for efficient processing of the species distribution models on smaller, ecologically homogenous extents. The 2008 start date for the models represents the shift in focus from state and regional project efforts to a national one. At that point all of the datasets needed to be standardized across the national extent and the species list derived based on the current understanding of the taxonomy. The end for the individual models represents when the species model was considered complete, and therefore reflects the current knowledge related to that species concept and the habitat requirements for the species. GAP uses the best information available to create these species habitat distribution maps; however GAP seeks to improve and update these data as new information becomes available. Versioning, Naming Conventions and Codes: This collection represents the first complete compilation of terrestrial vertebrate species models for the conterminous U.S. based on 2001 ground conditions. We plan to begin creating a new collection with 2011 land cover in 2017. Files for download follow a naming convention that will allow the user to track the date of the ground conditions and the version of the model. For example for the Cooper’s Hawk model the current model output is named bCOHAx_CONUS_2001v1_HabMap. That name provides the Gap species code for the model, the spatial extent, the ground condition year, and the model version. For each species, the species code represents a unique code for the species/subspecies being modeled. The taxonomic concept for the species model being presented is identified through the Integrated Taxonomic Information System – Taxonomic Serial Number. To provide a link to the NatureServe species information the NatureServe Element Code is provided for each species. Source Datasets Uses in Species Habitat Modeling: Hydrologic Units - Species ranges were used as model delimiters in predicted distribution models. Modeling regions - Used to stratify the conterminous U.S. into six ecologically homogeneous regions to facilitate efficient processing. Land Cover - Species were linked to individual map units to document habitat affinity in two ways. Primary map units are those land cover types critical for nesting, rearing young, and/or optimal foraging. Secondary or auxiliary map units are those land cover types generally not critical for breeding, but are typically used in conjunction with primary map units for foraging, roosting, and/or sub-optimal nesting locations. These map units are selected only when located within a specified distance from primary map units. Human Impact Avoidance - Buffers around urban areas and roads were used to identify areas that would be suitable for urban exploitative species and unsuitable for urban avoiding species. Forest &amp; Edge Habitats - The land cover map was used to derive datasets of forest interior and ecotones between forest and open habitats. Forest edge Forest/Open Woodland/Shrubland Elevation Derivatives - Slope and aspect were used to constrain some of the southwestern models where those variables are good indicators of microclimates (moist north facing slopes) and local topography (cliffs, flats). For species with a documented relationship to altitude the elevation data was used to constrain the mapped distribution. Aspect Slope Elevation Hydrology - : A number of water related data layers were used to refine the species distribution including: water type (i.e. flowing, open/standing), distance to and from water, and stream flow and underlying gradient. The source for this data was the USGS National Hydrography Dataset (NHD)(USGS 2007). Hydrographic features were divided into three types: flowing water, open/standing water, and wet vegetation. Canopy Cover - Some species are limited to open woodlands or dense forest, the National Land Cover’s Canopy Cover dataset was used to constrain the species models based on canopy density.</p><h4>Purpose</h4><p>The mission of the U.S. Geological Survey Gap Analysis Program (GAP) is to provide state, regional, and national biodiversity assessments of the conservation status of native vertebrate species and natural land cover types and to facilitate the application of this information to land management activities. Species distribution models are used to conduct a biodiversity assessment for species across the U.S. The goal of GAP is to keep common species common by identifying species and plant communities not adequately represented in existing conservation lands. Common species are those not currently threatened with extinction. By providing these data, land managers and policy makers can make better-informed decisions when identifying priority areas for conservation.</p><h4>Contacts</h4><div>Dr. Alexa McKerrow (Point of Contact)</div><div>U.S. Geological Survey - Gap Analysis Program (Originator)</div><div>Julie Prior-Magee (Metadata Contact)</div><div>U.S. Geological Survey (Publisher)</div><div>ScienceBase Data Release Team (Distributor)</div>"
      ],
      "text/plain": [
       "<IPython.core.display.HTML object>"
      ]
     },
     "execution_count": 28,
     "metadata": {},
     "output_type": "execute_result"
    }
   ],
   "source": [
    "# Retrieve the habitat map root item from ScienceBase\n",
    "habitatMapRootItem = sb.get_item(_habitatMapRoot,{'fields':'title,body,purpose,contacts'})\n",
    "_shortReport = \"<h3>\"+habitatMapRootItem[\"title\"]+\"</h3>\"\n",
    "_shortReport = _shortReport+\"<h4>Abstract</h4><p>\"+habitatMapRootItem[\"body\"]+\"</p>\"\n",
    "_shortReport = _shortReport+\"<h4>Purpose</h4><p>\"+habitatMapRootItem[\"purpose\"]+\"</p>\"\n",
    "_shortReport = _shortReport+\"<h4>Contacts</h4>\"\n",
    "for contact in habitatMapRootItem[\"contacts\"]:\n",
    "    _shortReport = _shortReport+\"<div>\"\n",
    "    _shortReport = _shortReport+contact[\"name\"]+\" (\"+contact[\"type\"]+\")\"\n",
    "    _shortReport = _shortReport+\"</div>\"\n",
    "    \n",
    "\n",
    "HTML(_shortReport)"
   ]
  },
  {
   "cell_type": "code",
   "execution_count": null,
   "metadata": {
    "collapsed": true
   },
   "outputs": [],
   "source": []
  }
 ],
 "metadata": {
  "kernelspec": {
   "display_name": "Python 3",
   "language": "python",
   "name": "python3"
  },
  "language_info": {
   "codemirror_mode": {
    "name": "ipython",
    "version": 3
   },
   "file_extension": ".py",
   "mimetype": "text/x-python",
   "name": "python",
   "nbconvert_exporter": "python",
   "pygments_lexer": "ipython3",
   "version": "3.5.3"
  }
 },
 "nbformat": 4,
 "nbformat_minor": 0
}
